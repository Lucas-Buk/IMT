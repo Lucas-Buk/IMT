{
  "nbformat": 4,
  "nbformat_minor": 0,
  "metadata": {
    "colab": {
      "name": "SIRDataDriven.ipynb",
      "provenance": [],
      "collapsed_sections": [
        "hZfMC9v7v3CL",
        "zN2shiWmv8jj",
        "BpRnVfs4_U2a",
        "ON2BwqItAetm",
        "5AHqu7a-9bix",
        "rzh7QSy19IOS",
        "Oj1DhfE2nIKd"
      ],
      "mount_file_id": "1y_pdN_8jVpwhSEqX6s5-ome4HnouTA2j",
      "authorship_tag": "ABX9TyOhq5ugMmI6YXomMALDO3hT",
      "include_colab_link": true
    },
    "kernelspec": {
      "name": "python3",
      "display_name": "Python 3"
    }
  },
  "cells": [
    {
      "cell_type": "markdown",
      "metadata": {
        "id": "view-in-github",
        "colab_type": "text"
      },
      "source": [
        "<a href=\"https://colab.research.google.com/github/Lucas-Buk/IMT/blob/main/SIRDataDriven.ipynb\" target=\"_parent\"><img src=\"https://colab.research.google.com/assets/colab-badge.svg\" alt=\"Open In Colab\"/></a>"
      ]
    },
    {
      "cell_type": "markdown",
      "metadata": {
        "id": "hZfMC9v7v3CL"
      },
      "source": [
        "# **Configurações básicas**"
      ]
    },
    {
      "cell_type": "code",
      "metadata": {
        "id": "IWpqpeVhv1rb"
      },
      "source": [
        "import numpy as np\n",
        "import pandas as pd \n",
        "import matplotlib.pyplot as plt\n",
        "from scipy import optimize\n",
        "from scipy.integrate import odeint\n",
        "import plotly.graph_objects as go"
      ],
      "execution_count": 343,
      "outputs": []
    },
    {
      "cell_type": "markdown",
      "metadata": {
        "id": "zN2shiWmv8jj"
      },
      "source": [
        "# **Referências**"
      ]
    },
    {
      "cell_type": "markdown",
      "metadata": {
        "id": "LUwtbwGqtttJ"
      },
      "source": [
        "https://cmdlinetips.com/2018/02/how-to-subset-pandas-dataframe-based-on-values-of-a-column/"
      ]
    },
    {
      "cell_type": "markdown",
      "metadata": {
        "id": "J3ZIvFVAtxqF"
      },
      "source": [
        "https://cmdlinetips.com/2018/04/how-to-concatenate-arrays-in-numpy/"
      ]
    },
    {
      "cell_type": "markdown",
      "metadata": {
        "id": "9dc_x8SGwCxF"
      },
      "source": [
        "https://stackoverflow.com/questions/11278836/fitting-data-to-system-of-odes-using-python-via-scipy-numpy"
      ]
    },
    {
      "cell_type": "markdown",
      "metadata": {
        "id": "BpRnVfs4_U2a"
      },
      "source": [
        "# **O problema**\n",
        "\n",
        "\n",
        "\n",
        "\n",
        "\n",
        "\n",
        "\n"
      ]
    },
    {
      "cell_type": "markdown",
      "metadata": {
        "id": "LnAUup87_mlI"
      },
      "source": [
        "O conjunto de equações diferenciais que caracteriza o modelo é descrito abaixo. No modelo $\\beta - \\text{representa a taxa de transmissão ou taxa efetiva de contato} $  e $r - \\text{a taxa de remoção ou recuperação.}$ \n",
        "\n",
        "\n",
        "$$ \\begin{split}\n",
        "   \\frac{dS(t)}{dt} & = -\\beta S(t) I(t) \\\\\n",
        "   \\frac{dI(t)}{dt} & = \\beta S(t) I(t) - rI(t)  \\\\\n",
        "   \\frac{dR(t)}{dt} & = r I(t)\n",
        "   \\end{split}$$\n",
        "\n",
        "   Gostaríamos de identificar quais parâmetros $\\beta$ e $r$ resultam num melhor ajuste do modelo para os dados de **S**, **I** e **R**"
      ]
    },
    {
      "cell_type": "code",
      "metadata": {
        "id": "4kZX_8Az_PXa"
      },
      "source": [
        "def SIRmodel(y, t, Beta, r):\n",
        "    S, I, R = y\n",
        "    Sdot = -(Beta * S * I)\n",
        "    Idot = (Beta * S * I)  - r * I\n",
        "    Rdot = r * I\n",
        "    return Sdot, Idot, Rdot   \n",
        "\n",
        "# Resolução da simulação - Escala temporal (dias)"
      ],
      "execution_count": 344,
      "outputs": []
    },
    {
      "cell_type": "markdown",
      "metadata": {
        "id": "ON2BwqItAetm"
      },
      "source": [
        "# **Obtendo** $y_s(\\theta,k) = [S \\; I \\: R]$"
      ]
    },
    {
      "cell_type": "markdown",
      "metadata": {
        "id": "byDz2Ffj_xX9"
      },
      "source": [
        "\n",
        "\n",
        "O trecho a seguir retorna os valores sintetizados $y_s(\\theta,k) = [S \\; I \\: R]$ representa o dado sintetizado a partir de um modelo sintetizado para uma determinada amostra $k$ e $\\theta$ representa o vetor de parâmetros $\\theta = [ \\beta \\; \\; r]^T$. A partir de uma condição inicial $y_0$.\n",
        "\n"
      ]
    },
    {
      "cell_type": "code",
      "metadata": {
        "id": "4UA5CINl_1rl"
      },
      "source": [
        "def SIRsim(y0, t, theta):\n",
        "    Beta = theta[0]\n",
        "    r = theta[1]\n",
        "    ret = odeint(SIRmodel,y0,t,args=(Beta,r))\n",
        "    S, I, R = ret.T\n",
        "    return S, I, R"
      ],
      "execution_count": 345,
      "outputs": []
    },
    {
      "cell_type": "markdown",
      "metadata": {
        "id": "5AHqu7a-9bix"
      },
      "source": [
        "# **Estimativa de parâmetros**"
      ]
    },
    {
      "cell_type": "markdown",
      "metadata": {
        "id": "s6Jp01u09bAU"
      },
      "source": [
        "Para estimarmos os parâmetros do modelo $\\mathbf{\\beta}$ e $\\mathbf{r}$, vamos utilizar  inicialmente o método de mínimos quadrados. Podemos então formular o problema a partir da Equação abaixo. Na Equação $y_m(k)$ representa o dado real em cada amostra $k$; $y_s(\\theta,k)$ representa o **valor estimado** a partir da simulação do modelo para uma determinada amostra $k$ e $\\theta$ representa o vetor ed parâmetros $\\theta = [ \\beta \\; \\; r]^T$. \n",
        "\n",
        "$$ min_{\\theta}= \\sum_{k=1}^{K}(y_m(k) - y_s(\\theta,k))^2 $$\n",
        "\n",
        "A equação formula a pergunta: quais os valores de $\\mathbf{\\beta}$ e $r$ que minizam o erro quadrático quando comparados com os dados reais."
      ]
    },
    {
      "cell_type": "code",
      "metadata": {
        "id": "YDqhZPP4KfR_"
      },
      "source": [
        "def ErroQuadratico(Sd, Id, Rd, y0, t, theta0):\n",
        "    \"\"\" function to pass to optimize.leastsq\n",
        "        The routine will square and sum the values returned by \n",
        "        this function\"\"\" \n",
        "    [S,I,R] = SIRsim(y0,t,theta0)\n",
        "    erroS = S - Sd\n",
        "    erroI = I - Id\n",
        "    erroR = R - Rd\n",
        "    EQ = np.concatenate([erroI,erroR])\n",
        "    return EQ\n",
        "\n",
        "def objetivo(p):\n",
        "    return ErroQuadratico(Sd,Id,Rd,y0,t,p)"
      ],
      "execution_count": 346,
      "outputs": []
    },
    {
      "cell_type": "markdown",
      "metadata": {
        "id": "rzh7QSy19IOS"
      },
      "source": [
        "# **Dados artificiais**"
      ]
    },
    {
      "cell_type": "markdown",
      "metadata": {
        "id": "sXqTFbp69Q_k"
      },
      "source": [
        "Uma prática interessante na análise de dados é testarmos se o algoritmo proposto e principalmente sua estrutura está consistente. Podemos então utilizar dados artificiais para avaliar se o processo de ajuste está estruturado corretamente."
      ]
    },
    {
      "cell_type": "code",
      "metadata": {
        "id": "3dx_IElpPbOM",
        "colab": {
          "base_uri": "https://localhost:8080/",
          "height": 0
        },
        "outputId": "dd96ac20-41f8-4832-e3aa-a7967e7801b8"
      },
      "source": [
        "# Lendo o arquivo de dados no formato 'filename.csv'  \n",
        "data = pd.read_csv(\"/content/drive/MyDrive/Trabalho/Covid/Datasets/SIRpd\") \n",
        "# Preview das cinco primeiras linhas\n",
        "data.head()"
      ],
      "execution_count": 347,
      "outputs": [
        {
          "output_type": "execute_result",
          "data": {
            "text/html": [
              "<div>\n",
              "<style scoped>\n",
              "    .dataframe tbody tr th:only-of-type {\n",
              "        vertical-align: middle;\n",
              "    }\n",
              "\n",
              "    .dataframe tbody tr th {\n",
              "        vertical-align: top;\n",
              "    }\n",
              "\n",
              "    .dataframe thead th {\n",
              "        text-align: right;\n",
              "    }\n",
              "</style>\n",
              "<table border=\"1\" class=\"dataframe\">\n",
              "  <thead>\n",
              "    <tr style=\"text-align: right;\">\n",
              "      <th></th>\n",
              "      <th>S</th>\n",
              "      <th>I</th>\n",
              "      <th>R</th>\n",
              "    </tr>\n",
              "  </thead>\n",
              "  <tbody>\n",
              "    <tr>\n",
              "      <th>0</th>\n",
              "      <td>499.000000</td>\n",
              "      <td>1.000000</td>\n",
              "      <td>0.000000</td>\n",
              "    </tr>\n",
              "    <tr>\n",
              "      <th>1</th>\n",
              "      <td>498.949042</td>\n",
              "      <td>1.040746</td>\n",
              "      <td>0.010213</td>\n",
              "    </tr>\n",
              "    <tr>\n",
              "      <th>2</th>\n",
              "      <td>498.896013</td>\n",
              "      <td>1.083146</td>\n",
              "      <td>0.020841</td>\n",
              "    </tr>\n",
              "    <tr>\n",
              "      <th>3</th>\n",
              "      <td>498.840830</td>\n",
              "      <td>1.127267</td>\n",
              "      <td>0.031903</td>\n",
              "    </tr>\n",
              "    <tr>\n",
              "      <th>4</th>\n",
              "      <td>498.783405</td>\n",
              "      <td>1.173179</td>\n",
              "      <td>0.043415</td>\n",
              "    </tr>\n",
              "  </tbody>\n",
              "</table>\n",
              "</div>"
            ],
            "text/plain": [
              "            S         I         R\n",
              "0  499.000000  1.000000  0.000000\n",
              "1  498.949042  1.040746  0.010213\n",
              "2  498.896013  1.083146  0.020841\n",
              "3  498.840830  1.127267  0.031903\n",
              "4  498.783405  1.173179  0.043415"
            ]
          },
          "metadata": {
            "tags": []
          },
          "execution_count": 347
        }
      ]
    },
    {
      "cell_type": "code",
      "metadata": {
        "id": "4h2Jrl9TcPMO",
        "colab": {
          "base_uri": "https://localhost:8080/"
        },
        "outputId": "effc8f5c-0cd4-4329-f06d-460d63886447"
      },
      "source": [
        "data.shape"
      ],
      "execution_count": 348,
      "outputs": [
        {
          "output_type": "execute_result",
          "data": {
            "text/plain": [
              "(1000, 3)"
            ]
          },
          "metadata": {
            "tags": []
          },
          "execution_count": 348
        }
      ]
    },
    {
      "cell_type": "code",
      "metadata": {
        "id": "nb8EBFeSDn6L"
      },
      "source": [
        "s_array = data[[\"S\", \"I\", \"R\"]].to_numpy()\n",
        "s_array[:,0:]\n",
        "Sd = s_array[:,0]\n",
        "Id = s_array[:,1]\n",
        "Rd = s_array[:,2]"
      ],
      "execution_count": 349,
      "outputs": []
    },
    {
      "cell_type": "markdown",
      "metadata": {
        "id": "8pVQEE9mMYEY"
      },
      "source": [
        "**Gerando ruído gaussiano**"
      ]
    },
    {
      "cell_type": "code",
      "metadata": {
        "id": "Wr1Pt_JXEHEZ"
      },
      "source": [
        "Sdn = np.random.normal(0, np.mean(Sd)/10, len(Sd)) \n",
        "Idn = np.random.normal(0, np.mean(Id)/5, len(Sd)) \n",
        "Rdn = np.random.normal(0, np.mean(Rd)/10, len(Sd)) "
      ],
      "execution_count": 350,
      "outputs": []
    },
    {
      "cell_type": "markdown",
      "metadata": {
        "id": "I_s0BrcwMdRU"
      },
      "source": [
        "**Adicionando aos dados**"
      ]
    },
    {
      "cell_type": "code",
      "metadata": {
        "id": "vlboEDJfFEQj"
      },
      "source": [
        "Sd = Sd + Sdn\n",
        "Id = Id + Idn\n",
        "Rd = Rd + Rdn"
      ],
      "execution_count": 351,
      "outputs": []
    },
    {
      "cell_type": "markdown",
      "metadata": {
        "id": "KbXJZ3_BMgak"
      },
      "source": [
        "**Visualizando os dados**"
      ]
    },
    {
      "cell_type": "code",
      "metadata": {
        "id": "T36rmwWbFVHA",
        "colab": {
          "base_uri": "https://localhost:8080/",
          "height": 0
        },
        "outputId": "ce74665e-6a8b-41d9-8b73-898e9ccd3ba0"
      },
      "source": [
        "# Visualizando a evolução da Epidemia - S(t), I(t) e R(t)\n",
        "t = np.linspace(0,len(Sd),len(Sd))\n",
        "fig = plt.figure(facecolor='w',figsize=(20,10))\n",
        "ax = fig.add_subplot(111, axisbelow=True)\n",
        "plt.scatter(t, Sd, marker='o', color='b', label='Suscetíveis - dados', s=15)\n",
        "plt.scatter(t, Id, marker='*', color='k', label='Infectados - dados', s=15)\n",
        "plt.scatter(t, Rd, marker='+', color='c', label='Removidos - dados', s=15)\n",
        "ax.set_xlabel('Dias')\n",
        "ax.set_ylabel('Indivíduos')\n",
        "ax.set_ylim(0,600)\n",
        "ax.yaxis.set_tick_params(length=0)\n",
        "ax.xaxis.set_tick_params(length=0)\n",
        "ax.grid(b=True, which='major', c='w', lw=2, ls='-')\n",
        "legend = ax.legend()\n",
        "legend.get_frame().set_alpha(0.5)\n",
        "for spine in ('top', 'right', 'bottom', 'left'):\n",
        "    ax.spines[spine].set_visible(False)\n",
        "plt.show()"
      ],
      "execution_count": 352,
      "outputs": [
        {
          "output_type": "display_data",
          "data": {
            "image/png": "[encoded data removed]",
            "text/plain": [
              "<Figure size 1440x720 with 1 Axes>"
            ]
          },
          "metadata": {
            "tags": []
          }
        }
      ]
    },
    {
      "cell_type": "markdown",
      "metadata": {
        "id": "nkzB5p58BUl8"
      },
      "source": [
        "## **Condições inicias** - $y_0$ e $\\theta_0$"
      ]
    },
    {
      "cell_type": "code",
      "metadata": {
        "id": "-qbcJlrf0y3g"
      },
      "source": [
        "# Tamanho da população - N\n",
        "N = 500\n",
        "\n",
        "# Valores iniciais \n",
        "I0 = 1 \n",
        "R0 = 0\n",
        "S0 = N - I0\n",
        "\n",
        "# Vetor de condições iniciais\n",
        "y0 = S0, I0, R0\n",
        "\n",
        "# Beta -  taxa de contato,\n",
        "# r - taxa média de recuperação (in 1/dia).\n",
        "\n",
        "theta0 = [1e-4, 1e-2] # valores iniciais\n",
        "\n",
        "# Definição do conjunto de equações diferencias não lineares que formam o modelo.\n",
        "\n",
        "t = np.linspace(0, 1000, 1000)"
      ],
      "execution_count": 353,
      "outputs": []
    },
    {
      "cell_type": "markdown",
      "metadata": {
        "id": "rwaQq87_CTj0"
      },
      "source": [
        "## **Minimização da função custo**"
      ]
    },
    {
      "cell_type": "code",
      "metadata": {
        "id": "2CeHzC5HFEe4",
        "colab": {
          "base_uri": "https://localhost:8080/"
        },
        "outputId": "66c2531b-e39d-4a9e-8c3a-682dffac34bc"
      },
      "source": [
        "(c, kvg) = optimize.leastsq(objetivo,theta0) \n",
        "print(c)"
      ],
      "execution_count": 354,
      "outputs": [
        {
          "output_type": "stream",
          "text": [
            "[9.99036486e-05 9.94939759e-03]\n"
          ],
          "name": "stdout"
        }
      ]
    },
    {
      "cell_type": "markdown",
      "metadata": {
        "id": "_qDSfUAsCcgC"
      },
      "source": [
        "## **Visualização**"
      ]
    },
    {
      "cell_type": "code",
      "metadata": {
        "id": "YYv9P7LMSW2B",
        "colab": {
          "base_uri": "https://localhost:8080/",
          "height": 0
        },
        "outputId": "6558cea8-83b2-4d62-bc93-374d4d3d605b"
      },
      "source": [
        "[Sa,Ia,Ra] = SIRsim(y0,t,c)\n",
        "\n",
        "# Visualizando a evolução da Epidemia - S(t), I(t) e R(t)\n",
        "fig = plt.figure(facecolor='w',figsize=(20,10))\n",
        "ax = fig.add_subplot(111, axisbelow=True)\n",
        "ax.plot(t, Sa, 'b', alpha=0.5, lw=4, label='Suscetíveis')\n",
        "ax.plot(t, Ia, 'k', alpha=0.5, lw=4, label='Infectados')\n",
        "ax.plot(t, Ra, 'g', alpha=0.5, lw=4, label='Removidos')\n",
        "plt.scatter(t, Sd, marker='o', color='y', label='Suscetíveis - dados', s=15)\n",
        "plt.scatter(t, Id, marker='*', color='c', label='Infectados - dados', s=15)\n",
        "plt.scatter(t, Rd, marker='+', color='gray', label='Removidos - dados', s=15)\n",
        "ax.set_xlabel('Dias')\n",
        "ax.set_ylabel('Indivíduos')\n",
        "ax.set_ylim(0, 550)\n",
        "ax.yaxis.set_tick_params(length=0)\n",
        "ax.xaxis.set_tick_params(length=0)\n",
        "ax.grid(b=True, which='major', c='w', lw=2, ls='-')\n",
        "legend = ax.legend()\n",
        "legend.get_frame().set_alpha(0.5)\n",
        "for spine in ('top', 'right', 'bottom', 'left'):\n",
        "    ax.spines[spine].set_visible(False)\n",
        "plt.show()"
      ],
      "execution_count": 355,
      "outputs": [
        {
          "output_type": "display_data",
          "data": {
            "image/png": "[encoded data removed]",
            "text/plain": [
              "<Figure size 1440x720 with 1 Axes>"
            ]
          },
          "metadata": {
            "tags": []
          }
        }
      ]
    },
    {
      "cell_type": "markdown",
      "metadata": {
        "id": "Oj1DhfE2nIKd"
      },
      "source": [
        "# **Dados Reais**\r\n",
        "\r\n",
        "Dados da COVID-19 no Brasil fornecidos por\r\n",
        "\r\n",
        "- [Wesley Cota](https://github.com/wcota/covid19br)"
      ]
    },
    {
      "cell_type": "code",
      "metadata": {
        "id": "r3L0Q3rzgm9m",
        "colab": {
          "base_uri": "https://localhost:8080/",
          "height": 0
        },
        "outputId": "4b430d43-7c72-4115-df76-e669f7ccb040"
      },
      "source": [
        "# Lendo os dados online - wcota\n",
        "data_path = 'https://raw.githubusercontent.com/wcota/covid19br/master/cases-brazil-states.csv'\n",
        "\n",
        "df = pd.read_csv(data_path, delimiter=\",\") \n",
        "df.head()"
      ],
      "execution_count": 356,
      "outputs": [
        {
          "output_type": "execute_result",
          "data": {
            "text/html": [
              "<div>\n",
              "<style scoped>\n",
              "    .dataframe tbody tr th:only-of-type {\n",
              "        vertical-align: middle;\n",
              "    }\n",
              "\n",
              "    .dataframe tbody tr th {\n",
              "        vertical-align: top;\n",
              "    }\n",
              "\n",
              "    .dataframe thead th {\n",
              "        text-align: right;\n",
              "    }\n",
              "</style>\n",
              "<table border=\"1\" class=\"dataframe\">\n",
              "  <thead>\n",
              "    <tr style=\"text-align: right;\">\n",
              "      <th></th>\n",
              "      <th>epi_week</th>\n",
              "      <th>date</th>\n",
              "      <th>country</th>\n",
              "      <th>state</th>\n",
              "      <th>city</th>\n",
              "      <th>newDeaths</th>\n",
              "      <th>deaths</th>\n",
              "      <th>newCases</th>\n",
              "      <th>totalCases</th>\n",
              "      <th>deathsMS</th>\n",
              "      <th>totalCasesMS</th>\n",
              "      <th>deaths_per_100k_inhabitants</th>\n",
              "      <th>totalCases_per_100k_inhabitants</th>\n",
              "      <th>deaths_by_totalCases</th>\n",
              "      <th>recovered</th>\n",
              "      <th>suspects</th>\n",
              "      <th>tests</th>\n",
              "      <th>tests_per_100k_inhabitants</th>\n",
              "      <th>vaccinated</th>\n",
              "      <th>vaccinated_per_100k_inhabitants</th>\n",
              "      <th>vaccinated_second</th>\n",
              "      <th>vaccinated_second_per_100k_inhabitants</th>\n",
              "    </tr>\n",
              "  </thead>\n",
              "  <tbody>\n",
              "    <tr>\n",
              "      <th>0</th>\n",
              "      <td>9</td>\n",
              "      <td>2020-02-25</td>\n",
              "      <td>Brazil</td>\n",
              "      <td>SP</td>\n",
              "      <td>TOTAL</td>\n",
              "      <td>0</td>\n",
              "      <td>0</td>\n",
              "      <td>1</td>\n",
              "      <td>1</td>\n",
              "      <td>0</td>\n",
              "      <td>0</td>\n",
              "      <td>0.0</td>\n",
              "      <td>0.00218</td>\n",
              "      <td>0.0</td>\n",
              "      <td>NaN</td>\n",
              "      <td>NaN</td>\n",
              "      <td>NaN</td>\n",
              "      <td>NaN</td>\n",
              "      <td>NaN</td>\n",
              "      <td>NaN</td>\n",
              "      <td>NaN</td>\n",
              "      <td>NaN</td>\n",
              "    </tr>\n",
              "    <tr>\n",
              "      <th>1</th>\n",
              "      <td>9</td>\n",
              "      <td>2020-02-25</td>\n",
              "      <td>Brazil</td>\n",
              "      <td>TOTAL</td>\n",
              "      <td>TOTAL</td>\n",
              "      <td>0</td>\n",
              "      <td>0</td>\n",
              "      <td>1</td>\n",
              "      <td>1</td>\n",
              "      <td>0</td>\n",
              "      <td>0</td>\n",
              "      <td>0.0</td>\n",
              "      <td>0.00047</td>\n",
              "      <td>0.0</td>\n",
              "      <td>NaN</td>\n",
              "      <td>NaN</td>\n",
              "      <td>NaN</td>\n",
              "      <td>NaN</td>\n",
              "      <td>NaN</td>\n",
              "      <td>NaN</td>\n",
              "      <td>NaN</td>\n",
              "      <td>NaN</td>\n",
              "    </tr>\n",
              "    <tr>\n",
              "      <th>2</th>\n",
              "      <td>9</td>\n",
              "      <td>2020-02-26</td>\n",
              "      <td>Brazil</td>\n",
              "      <td>SP</td>\n",
              "      <td>TOTAL</td>\n",
              "      <td>0</td>\n",
              "      <td>0</td>\n",
              "      <td>0</td>\n",
              "      <td>1</td>\n",
              "      <td>0</td>\n",
              "      <td>1</td>\n",
              "      <td>0.0</td>\n",
              "      <td>0.00218</td>\n",
              "      <td>0.0</td>\n",
              "      <td>NaN</td>\n",
              "      <td>NaN</td>\n",
              "      <td>NaN</td>\n",
              "      <td>NaN</td>\n",
              "      <td>NaN</td>\n",
              "      <td>NaN</td>\n",
              "      <td>NaN</td>\n",
              "      <td>NaN</td>\n",
              "    </tr>\n",
              "    <tr>\n",
              "      <th>3</th>\n",
              "      <td>9</td>\n",
              "      <td>2020-02-26</td>\n",
              "      <td>Brazil</td>\n",
              "      <td>TOTAL</td>\n",
              "      <td>TOTAL</td>\n",
              "      <td>0</td>\n",
              "      <td>0</td>\n",
              "      <td>0</td>\n",
              "      <td>1</td>\n",
              "      <td>0</td>\n",
              "      <td>1</td>\n",
              "      <td>0.0</td>\n",
              "      <td>0.00047</td>\n",
              "      <td>0.0</td>\n",
              "      <td>NaN</td>\n",
              "      <td>NaN</td>\n",
              "      <td>NaN</td>\n",
              "      <td>NaN</td>\n",
              "      <td>NaN</td>\n",
              "      <td>NaN</td>\n",
              "      <td>NaN</td>\n",
              "      <td>NaN</td>\n",
              "    </tr>\n",
              "    <tr>\n",
              "      <th>4</th>\n",
              "      <td>9</td>\n",
              "      <td>2020-02-27</td>\n",
              "      <td>Brazil</td>\n",
              "      <td>SP</td>\n",
              "      <td>TOTAL</td>\n",
              "      <td>0</td>\n",
              "      <td>0</td>\n",
              "      <td>0</td>\n",
              "      <td>1</td>\n",
              "      <td>0</td>\n",
              "      <td>1</td>\n",
              "      <td>0.0</td>\n",
              "      <td>0.00218</td>\n",
              "      <td>0.0</td>\n",
              "      <td>NaN</td>\n",
              "      <td>NaN</td>\n",
              "      <td>NaN</td>\n",
              "      <td>NaN</td>\n",
              "      <td>NaN</td>\n",
              "      <td>NaN</td>\n",
              "      <td>NaN</td>\n",
              "      <td>NaN</td>\n",
              "    </tr>\n",
              "  </tbody>\n",
              "</table>\n",
              "</div>"
            ],
            "text/plain": [
              "   epi_week  ... vaccinated_second_per_100k_inhabitants\n",
              "0         9  ...                                    NaN\n",
              "1         9  ...                                    NaN\n",
              "2         9  ...                                    NaN\n",
              "3         9  ...                                    NaN\n",
              "4         9  ...                                    NaN\n",
              "\n",
              "[5 rows x 22 columns]"
            ]
          },
          "metadata": {
            "tags": []
          },
          "execution_count": 356
        }
      ]
    },
    {
      "cell_type": "code",
      "metadata": {
        "colab": {
          "base_uri": "https://localhost:8080/"
        },
        "id": "gTg-oKksHz4l",
        "outputId": "240873fb-3912-4c56-87c5-bd33392c6050"
      },
      "source": [
        "df.shape"
      ],
      "execution_count": 357,
      "outputs": [
        {
          "output_type": "execute_result",
          "data": {
            "text/plain": [
              "(10178, 22)"
            ]
          },
          "metadata": {
            "tags": []
          },
          "execution_count": 357
        }
      ]
    },
    {
      "cell_type": "code",
      "metadata": {
        "colab": {
          "base_uri": "https://localhost:8080/"
        },
        "id": "56Gh2BmZn24t",
        "outputId": "949cc2dd-5fa5-4066-da30-4ad01d014754"
      },
      "source": [
        "df.isnull().sum()"
      ],
      "execution_count": 358,
      "outputs": [
        {
          "output_type": "execute_result",
          "data": {
            "text/plain": [
              "epi_week                                     0\n",
              "date                                         0\n",
              "country                                      0\n",
              "state                                        0\n",
              "city                                         0\n",
              "newDeaths                                    0\n",
              "deaths                                       0\n",
              "newCases                                     0\n",
              "totalCases                                   0\n",
              "deathsMS                                     0\n",
              "totalCasesMS                                 0\n",
              "deaths_per_100k_inhabitants                  0\n",
              "totalCases_per_100k_inhabitants              0\n",
              "deaths_by_totalCases                         0\n",
              "recovered                                  643\n",
              "suspects                                  2544\n",
              "tests                                     1344\n",
              "tests_per_100k_inhabitants                1344\n",
              "vaccinated                                8731\n",
              "vaccinated_per_100k_inhabitants           8731\n",
              "vaccinated_second                         9411\n",
              "vaccinated_second_per_100k_inhabitants    9411\n",
              "dtype: int64"
            ]
          },
          "metadata": {
            "tags": []
          },
          "execution_count": 358
        }
      ]
    },
    {
      "cell_type": "markdown",
      "metadata": {
        "id": "OMo8RJN9VSDE"
      },
      "source": [
        "## Brasil"
      ]
    },
    {
      "cell_type": "code",
      "metadata": {
        "colab": {
          "base_uri": "https://localhost:8080/",
          "height": 0
        },
        "id": "g9UN7Gvyn5wD",
        "outputId": "5c7f4da8-b91b-44fc-f587-1817a886949c"
      },
      "source": [
        "state = 'TOTAL'\r\n",
        "df_BR = df[df.state == state].reset_index()\r\n",
        "df_BR.head()"
      ],
      "execution_count": 359,
      "outputs": [
        {
          "output_type": "execute_result",
          "data": {
            "text/html": [
              "<div>\n",
              "<style scoped>\n",
              "    .dataframe tbody tr th:only-of-type {\n",
              "        vertical-align: middle;\n",
              "    }\n",
              "\n",
              "    .dataframe tbody tr th {\n",
              "        vertical-align: top;\n",
              "    }\n",
              "\n",
              "    .dataframe thead th {\n",
              "        text-align: right;\n",
              "    }\n",
              "</style>\n",
              "<table border=\"1\" class=\"dataframe\">\n",
              "  <thead>\n",
              "    <tr style=\"text-align: right;\">\n",
              "      <th></th>\n",
              "      <th>index</th>\n",
              "      <th>epi_week</th>\n",
              "      <th>date</th>\n",
              "      <th>country</th>\n",
              "      <th>state</th>\n",
              "      <th>city</th>\n",
              "      <th>newDeaths</th>\n",
              "      <th>deaths</th>\n",
              "      <th>newCases</th>\n",
              "      <th>totalCases</th>\n",
              "      <th>deathsMS</th>\n",
              "      <th>totalCasesMS</th>\n",
              "      <th>deaths_per_100k_inhabitants</th>\n",
              "      <th>totalCases_per_100k_inhabitants</th>\n",
              "      <th>deaths_by_totalCases</th>\n",
              "      <th>recovered</th>\n",
              "      <th>suspects</th>\n",
              "      <th>tests</th>\n",
              "      <th>tests_per_100k_inhabitants</th>\n",
              "      <th>vaccinated</th>\n",
              "      <th>vaccinated_per_100k_inhabitants</th>\n",
              "      <th>vaccinated_second</th>\n",
              "      <th>vaccinated_second_per_100k_inhabitants</th>\n",
              "    </tr>\n",
              "  </thead>\n",
              "  <tbody>\n",
              "    <tr>\n",
              "      <th>0</th>\n",
              "      <td>1</td>\n",
              "      <td>9</td>\n",
              "      <td>2020-02-25</td>\n",
              "      <td>Brazil</td>\n",
              "      <td>TOTAL</td>\n",
              "      <td>TOTAL</td>\n",
              "      <td>0</td>\n",
              "      <td>0</td>\n",
              "      <td>1</td>\n",
              "      <td>1</td>\n",
              "      <td>0</td>\n",
              "      <td>0</td>\n",
              "      <td>0.0</td>\n",
              "      <td>0.00047</td>\n",
              "      <td>0.0</td>\n",
              "      <td>NaN</td>\n",
              "      <td>NaN</td>\n",
              "      <td>NaN</td>\n",
              "      <td>NaN</td>\n",
              "      <td>NaN</td>\n",
              "      <td>NaN</td>\n",
              "      <td>NaN</td>\n",
              "      <td>NaN</td>\n",
              "    </tr>\n",
              "    <tr>\n",
              "      <th>1</th>\n",
              "      <td>3</td>\n",
              "      <td>9</td>\n",
              "      <td>2020-02-26</td>\n",
              "      <td>Brazil</td>\n",
              "      <td>TOTAL</td>\n",
              "      <td>TOTAL</td>\n",
              "      <td>0</td>\n",
              "      <td>0</td>\n",
              "      <td>0</td>\n",
              "      <td>1</td>\n",
              "      <td>0</td>\n",
              "      <td>1</td>\n",
              "      <td>0.0</td>\n",
              "      <td>0.00047</td>\n",
              "      <td>0.0</td>\n",
              "      <td>NaN</td>\n",
              "      <td>NaN</td>\n",
              "      <td>NaN</td>\n",
              "      <td>NaN</td>\n",
              "      <td>NaN</td>\n",
              "      <td>NaN</td>\n",
              "      <td>NaN</td>\n",
              "      <td>NaN</td>\n",
              "    </tr>\n",
              "    <tr>\n",
              "      <th>2</th>\n",
              "      <td>5</td>\n",
              "      <td>9</td>\n",
              "      <td>2020-02-27</td>\n",
              "      <td>Brazil</td>\n",
              "      <td>TOTAL</td>\n",
              "      <td>TOTAL</td>\n",
              "      <td>0</td>\n",
              "      <td>0</td>\n",
              "      <td>0</td>\n",
              "      <td>1</td>\n",
              "      <td>0</td>\n",
              "      <td>1</td>\n",
              "      <td>0.0</td>\n",
              "      <td>0.00047</td>\n",
              "      <td>0.0</td>\n",
              "      <td>NaN</td>\n",
              "      <td>NaN</td>\n",
              "      <td>NaN</td>\n",
              "      <td>NaN</td>\n",
              "      <td>NaN</td>\n",
              "      <td>NaN</td>\n",
              "      <td>NaN</td>\n",
              "      <td>NaN</td>\n",
              "    </tr>\n",
              "    <tr>\n",
              "      <th>3</th>\n",
              "      <td>7</td>\n",
              "      <td>9</td>\n",
              "      <td>2020-02-28</td>\n",
              "      <td>Brazil</td>\n",
              "      <td>TOTAL</td>\n",
              "      <td>TOTAL</td>\n",
              "      <td>0</td>\n",
              "      <td>0</td>\n",
              "      <td>1</td>\n",
              "      <td>2</td>\n",
              "      <td>0</td>\n",
              "      <td>1</td>\n",
              "      <td>0.0</td>\n",
              "      <td>0.00094</td>\n",
              "      <td>0.0</td>\n",
              "      <td>NaN</td>\n",
              "      <td>NaN</td>\n",
              "      <td>NaN</td>\n",
              "      <td>NaN</td>\n",
              "      <td>NaN</td>\n",
              "      <td>NaN</td>\n",
              "      <td>NaN</td>\n",
              "      <td>NaN</td>\n",
              "    </tr>\n",
              "    <tr>\n",
              "      <th>4</th>\n",
              "      <td>9</td>\n",
              "      <td>9</td>\n",
              "      <td>2020-02-29</td>\n",
              "      <td>Brazil</td>\n",
              "      <td>TOTAL</td>\n",
              "      <td>TOTAL</td>\n",
              "      <td>0</td>\n",
              "      <td>0</td>\n",
              "      <td>0</td>\n",
              "      <td>2</td>\n",
              "      <td>0</td>\n",
              "      <td>2</td>\n",
              "      <td>0.0</td>\n",
              "      <td>0.00094</td>\n",
              "      <td>0.0</td>\n",
              "      <td>NaN</td>\n",
              "      <td>NaN</td>\n",
              "      <td>NaN</td>\n",
              "      <td>NaN</td>\n",
              "      <td>NaN</td>\n",
              "      <td>NaN</td>\n",
              "      <td>NaN</td>\n",
              "      <td>NaN</td>\n",
              "    </tr>\n",
              "  </tbody>\n",
              "</table>\n",
              "</div>"
            ],
            "text/plain": [
              "   index  epi_week  ... vaccinated_second vaccinated_second_per_100k_inhabitants\n",
              "0      1         9  ...               NaN                                    NaN\n",
              "1      3         9  ...               NaN                                    NaN\n",
              "2      5         9  ...               NaN                                    NaN\n",
              "3      7         9  ...               NaN                                    NaN\n",
              "4      9         9  ...               NaN                                    NaN\n",
              "\n",
              "[5 rows x 23 columns]"
            ]
          },
          "metadata": {
            "tags": []
          },
          "execution_count": 359
        }
      ]
    },
    {
      "cell_type": "markdown",
      "metadata": {
        "id": "2-UjOFOUq2iB"
      },
      "source": [
        "**Infectados**"
      ]
    },
    {
      "cell_type": "code",
      "metadata": {
        "id": "_XWAvVaH7tvK"
      },
      "source": [
        "df_BR[\"newRecovered\"] = df_BR[\"recovered\"].diff()\r\n",
        "df_BR.newRecovered.fillna(0, inplace=True)\r\n",
        "df_BR.recovered.fillna(0, inplace=True)"
      ],
      "execution_count": 360,
      "outputs": []
    },
    {
      "cell_type": "code",
      "metadata": {
        "id": "P7edO6tV645F"
      },
      "source": [
        "active_infected = [df_BR[\"totalCases\"].iloc[0]]\r\n",
        "for nc, nr in zip(df_BR[\"newCases\"].iloc[1:], \r\n",
        "                  df_BR[\"newRecovered\"].iloc[1:]):\r\n",
        "    active_infected.append(active_infected[-1] + nc - nr)\r\n",
        "df_BR[\"activeCases\"] = active_infected"
      ],
      "execution_count": 361,
      "outputs": []
    },
    {
      "cell_type": "code",
      "metadata": {
        "id": "UEGeACoOsbZD"
      },
      "source": [
        "#df_BR = df_BR.iloc[:200] #200 primeiros dias\r\n",
        "t = np.linspace(0, len(df_BR.index.values), len(df_BR.index.values))\r\n",
        "\r\n",
        "# Tamanho da população - N\r\n",
        "N = 220e6\r\n",
        "\r\n",
        "# Dados Reais\r\n",
        "Id = df_BR[\"activeCases\"]\r\n",
        "Rd = df_BR[\"recovered\"]\r\n",
        "Sd = N - Rd - Id"
      ],
      "execution_count": 362,
      "outputs": []
    },
    {
      "cell_type": "code",
      "metadata": {
        "id": "BKfuHY0Npthz"
      },
      "source": [
        "# Valores iniciais \r\n",
        "I0 = 1 \r\n",
        "R0 = 0\r\n",
        "S0 = N - I0\r\n",
        "\r\n",
        "# Vetor de condições iniciais\r\n",
        "y0 = S0, I0, R0\r\n",
        "\r\n",
        "# Beta -  taxa de contato,\r\n",
        "# r - taxa média de recuperação (in 1/dia).\r\n",
        "\r\n",
        "theta0 = [1e-4, 1e-2] # valores iniciais [Beta, r]"
      ],
      "execution_count": 363,
      "outputs": []
    },
    {
      "cell_type": "code",
      "metadata": {
        "colab": {
          "base_uri": "https://localhost:8080/"
        },
        "id": "KKzHa5N9OfUO",
        "outputId": "b7a4f370-c4cb-454f-eb6b-ae7ab8bf2d3d"
      },
      "source": [
        "(c, kvg) = optimize.leastsq(objetivo,theta0) \r\n",
        "print(c)"
      ],
      "execution_count": 364,
      "outputs": [
        {
          "output_type": "stream",
          "text": [
            "[-6.33313737e+00  3.47442341e-03]\n"
          ],
          "name": "stdout"
        }
      ]
    },
    {
      "cell_type": "code",
      "metadata": {
        "id": "yq2MJzE_GJfv"
      },
      "source": [
        "[Ss,Is,Rs] = SIRsim(y0,t,c)"
      ],
      "execution_count": 365,
      "outputs": []
    },
    {
      "cell_type": "code",
      "metadata": {
        "colab": {
          "base_uri": "https://localhost:8080/",
          "height": 0
        },
        "id": "C7azmGntOj_W",
        "outputId": "413a4f2f-23dc-4612-dcd5-b38df6b9e4c7"
      },
      "source": [
        "# Plotting the correct results components\r\n",
        "fig = go.Figure()\r\n",
        "\r\n",
        "fig.add_trace(go.Scatter(\r\n",
        "    name=\"Active Cases - Model\",\r\n",
        "    x=df_BR.date,\r\n",
        "    y=Is,\r\n",
        "    mode='lines',\r\n",
        "    line=dict(width=3, dash=\"dash\", color=\"#6a1b9a\")\r\n",
        "    ))\r\n",
        "\r\n",
        "fig.add_trace(go.Scatter(\r\n",
        "    name=\"Recovered - Model\",\r\n",
        "    x=df_BR.date,\r\n",
        "    y=Rs,\r\n",
        "    mode='lines',\r\n",
        "    line=dict(width=3, dash=\"dash\", color=\"#2e7d32\")\r\n",
        "    ))\r\n",
        "\r\n",
        "fig.add_trace(go.Scatter(\r\n",
        "    name=\"Active Cases - Data\",\r\n",
        "    x=df_BR.date,\r\n",
        "    y=Id,\r\n",
        "    mode='markers',\r\n",
        "    marker=dict(size=6, color=\"#38006b\")\r\n",
        "    ))\r\n",
        "\r\n",
        "fig.add_trace(go.Scatter(\r\n",
        "    name=\"Recovered - Data\",\r\n",
        "    x=df_BR.date,\r\n",
        "    y=Rd,\r\n",
        "    mode='markers',\r\n",
        "    marker=dict(size=6, color=\"#005005\")\r\n",
        "    ))\r\n",
        "\r\n",
        "fig.update_layout(\r\n",
        "    template='xgridoff',\r\n",
        "    xaxis=dict(showgrid=False),\r\n",
        "    xaxis_title='Days',\r\n",
        "    legend=dict(\r\n",
        "      orientation='h',\r\n",
        "      yanchor='bottom',\r\n",
        "      y=1.01,\r\n",
        "      xanchor='right',\r\n",
        "      x=0.95\r\n",
        "      ),\r\n",
        "    title_text=\"SIR Model\")\r\n",
        "\r\n",
        "fig.show()"
      ],
      "execution_count": 366,
      "outputs": [
        {
          "output_type": "display_data",
          "data": {
            "text/html": [
              "<html>\n",
              "<head><meta charset=\"utf-8\" /></head>\n",
              "<body>\n",
              "    <div>\n",
              "            <script src=\"https://cdnjs.cloudflare.com/ajax/libs/mathjax/2.7.5/MathJax.js?config=TeX-AMS-MML_SVG\"></script><script type=\"text/javascript\">if (window.MathJax) {MathJax.Hub.Config({SVG: {font: \"STIX-Web\"}});}</script>\n",
              "                <script type=\"text/javascript\">window.PlotlyConfig = {MathJaxConfig: 'local'};</script>\n",
              "        <script src=\"https://cdn.plot.ly/plotly-latest.min.js\"></script>    \n",
              "            <div id=\"2d9f9ab4-d4d7-4a5e-96cf-17c69d6335d4\" class=\"plotly-graph-div\" style=\"height:525px; width:100%;\"></div>\n",
              "            <script type=\"text/javascript\">\n",
              "                \n",
              "                    window.PLOTLYENV=window.PLOTLYENV || {};\n",
              "                    \n",
              "                if (document.getElementById(\"2d9f9ab4-d4d7-4a5e-96cf-17c69d6335d4\")) {\n",
              "                    Plotly.newPlot(\n",
              "                        '2d9f9ab4-d4d7-4a5e-96cf-17c69d6335d4',\n",
              "                        [{\"line\": {\"color\": \"#6a1b9a\", \"dash\": \"dash\", \"width\": 3}, \"mode\": \"lines\", \"name\": \"Active Cases - Model\", \"type\": \"scatter\", \"x\": [\"2020-02-25\", \"2020-02-26\", \"2020-02-27\", \"2020-02-28\", \"2020-02-29\", \"2020-03-01\", \"2020-03-02\", \"2020-03-03\", \"2020-03-04\", \"2020-03-05\", \"2020-03-06\", \"2020-03-07\", \"2020-03-08\", \"2020-03-09\", \"2020-03-10\", \"2020-03-11\", \"2020-03-12\", \"2020-03-13\", \"2020-03-14\", \"2020-03-15\", \"2020-03-16\", \"2020-03-17\", \"2020-03-18\", \"2020-03-19\", \"2020-03-20\", \"2020-03-21\", \"2020-03-22\", \"2020-03-23\", \"2020-03-24\", \"2020-03-25\", \"2020-03-26\", \"2020-03-27\", \"2020-03-28\", \"2020-03-29\", \"2020-03-30\", \"2020-03-31\", \"2020-04-01\", \"2020-04-02\", \"2020-04-03\", \"2020-04-04\", \"2020-04-05\", \"2020-04-06\", \"2020-04-07\", \"2020-04-08\", \"2020-04-09\", \"2020-04-10\", \"2020-04-11\", \"2020-04-12\", \"2020-04-13\", \"2020-04-14\", \"2020-04-15\", \"2020-04-16\", \"2020-04-17\", \"2020-04-18\", \"2020-04-19\", \"2020-04-20\", \"2020-04-21\", \"2020-04-22\", \"2020-04-23\", \"2020-04-24\", \"2020-04-25\", \"2020-04-26\", \"2020-04-27\", \"2020-04-28\", \"2020-04-29\", \"2020-04-30\", \"2020-05-01\", \"2020-05-02\", \"2020-05-03\", \"2020-05-04\", \"2020-05-05\", \"2020-05-06\", \"2020-05-07\", \"2020-05-08\", \"2020-05-09\", \"2020-05-10\", \"2020-05-11\", \"2020-05-12\", \"2020-05-13\", \"2020-05-14\", \"2020-05-15\", \"2020-05-16\", \"2020-05-17\", \"2020-05-18\", \"2020-05-19\", \"2020-05-20\", \"2020-05-21\", \"2020-05-22\", \"2020-05-23\", \"2020-05-24\", \"2020-05-25\", \"2020-05-26\", \"2020-05-27\", \"2020-05-28\", \"2020-05-29\", \"2020-05-30\", \"2020-05-31\", \"2020-06-01\", \"2020-06-02\", \"2020-06-03\", \"2020-06-04\", \"2020-06-05\", \"2020-06-06\", \"2020-06-07\", \"2020-06-08\", \"2020-06-09\", \"2020-06-10\", \"2020-06-11\", \"2020-06-12\", \"2020-06-13\", \"2020-06-14\", \"2020-06-15\", \"2020-06-16\", \"2020-06-17\", \"2020-06-18\", \"2020-06-19\", \"2020-06-20\", \"2020-06-21\", \"2020-06-22\", \"2020-06-23\", \"2020-06-24\", \"2020-06-25\", \"2020-06-26\", \"2020-06-27\", \"2020-06-28\", \"2020-06-29\", \"2020-06-30\", \"2020-07-01\", \"2020-07-02\", \"2020-07-03\", \"2020-07-04\", \"2020-07-05\", \"2020-07-06\", \"2020-07-07\", \"2020-07-08\", \"2020-07-09\", \"2020-07-10\", \"2020-07-11\", \"2020-07-12\", \"2020-07-13\", \"2020-07-14\", \"2020-07-15\", \"2020-07-16\", \"2020-07-17\", \"2020-07-18\", \"2020-07-19\", \"2020-07-20\", \"2020-07-21\", \"2020-07-22\", \"2020-07-23\", \"2020-07-24\", \"2020-07-25\", \"2020-07-26\", \"2020-07-27\", \"2020-07-28\", \"2020-07-29\", \"2020-07-30\", \"2020-07-31\", \"2020-08-01\", \"2020-08-02\", \"2020-08-03\", \"2020-08-04\", \"2020-08-05\", \"2020-08-06\", \"2020-08-07\", \"2020-08-08\", \"2020-08-09\", \"2020-08-10\", \"2020-08-11\", \"2020-08-12\", \"2020-08-13\", \"2020-08-14\", \"2020-08-15\", \"2020-08-16\", \"2020-08-17\", \"2020-08-18\", \"2020-08-19\", \"2020-08-20\", \"2020-08-21\", \"2020-08-22\", \"2020-08-23\", \"2020-08-24\", \"2020-08-25\", \"2020-08-26\", \"2020-08-27\", \"2020-08-28\", \"2020-08-29\", \"2020-08-30\", \"2020-08-31\", \"2020-09-01\", \"2020-09-02\", \"2020-09-03\", \"2020-09-04\", \"2020-09-05\", \"2020-09-06\", \"2020-09-07\", \"2020-09-08\", \"2020-09-09\", \"2020-09-10\", \"2020-09-11\", \"2020-09-12\", \"2020-09-13\", \"2020-09-14\", \"2020-09-15\", \"2020-09-16\", \"2020-09-17\", \"2020-09-18\", \"2020-09-19\", \"2020-09-20\", \"2020-09-21\", \"2020-09-22\", \"2020-09-23\", \"2020-09-24\", \"2020-09-25\", \"2020-09-26\", \"2020-09-27\", \"2020-09-28\", \"2020-09-29\", \"2020-09-30\", \"2020-10-01\", \"2020-10-02\", \"2020-10-03\", \"2020-10-04\", \"2020-10-05\", \"2020-10-06\", \"2020-10-07\", \"2020-10-08\", \"2020-10-09\", \"2020-10-10\", \"2020-10-11\", \"2020-10-12\", \"2020-10-13\", \"2020-10-14\", \"2020-10-15\", \"2020-10-16\", \"2020-10-17\", \"2020-10-18\", \"2020-10-19\", \"2020-10-20\", \"2020-10-21\", \"2020-10-22\", \"2020-10-23\", \"2020-10-24\", \"2020-10-25\", \"2020-10-26\", \"2020-10-27\", \"2020-10-28\", \"2020-10-29\", \"2020-10-30\", \"2020-10-31\", \"2020-11-01\", \"2020-11-02\", \"2020-11-03\", \"2020-11-04\", \"2020-11-05\", \"2020-11-06\", \"2020-11-07\", \"2020-11-08\", \"2020-11-09\", \"2020-11-10\", \"2020-11-11\", \"2020-11-12\", \"2020-11-13\", \"2020-11-14\", \"2020-11-15\", \"2020-11-16\", \"2020-11-17\", \"2020-11-18\", \"2020-11-19\", \"2020-11-20\", \"2020-11-21\", \"2020-11-22\", \"2020-11-23\", \"2020-11-24\", \"2020-11-25\", \"2020-11-26\", \"2020-11-27\", \"2020-11-28\", \"2020-11-29\", \"2020-11-30\", \"2020-12-01\", \"2020-12-02\", \"2020-12-03\", \"2020-12-04\", \"2020-12-05\", \"2020-12-06\", \"2020-12-07\", \"2020-12-08\", \"2020-12-09\", \"2020-12-10\", \"2020-12-11\", \"2020-12-12\", \"2020-12-13\", \"2020-12-14\", \"2020-12-15\", \"2020-12-16\", \"2020-12-17\", \"2020-12-18\", \"2020-12-19\", \"2020-12-20\", \"2020-12-21\", \"2020-12-22\", \"2020-12-23\", \"2020-12-24\", \"2020-12-25\", \"2020-12-26\", \"2020-12-27\", \"2020-12-28\", \"2020-12-29\", \"2020-12-30\", \"2020-12-31\", \"2021-01-01\", \"2021-01-02\", \"2021-01-03\", \"2021-01-04\", \"2021-01-05\", \"2021-01-06\", \"2021-01-07\", \"2021-01-08\", \"2021-01-09\", \"2021-01-10\", \"2021-01-11\", \"2021-01-12\", \"2021-01-13\", \"2021-01-14\", \"2021-01-15\", \"2021-01-16\", \"2021-01-17\", \"2021-01-18\", \"2021-01-19\", \"2021-01-20\", \"2021-01-21\", \"2021-01-22\", \"2021-01-23\", \"2021-01-24\", \"2021-01-25\", \"2021-01-26\", \"2021-01-27\", \"2021-01-28\", \"2021-01-29\", \"2021-01-30\", \"2021-01-31\", \"2021-02-01\", \"2021-02-02\", \"2021-02-03\", \"2021-02-04\", \"2021-02-05\", \"2021-02-06\", \"2021-02-07\", \"2021-02-08\", \"2021-02-09\", \"2021-02-10\", \"2021-02-11\", \"2021-02-12\", \"2021-02-13\", \"2021-02-14\", \"2021-02-15\", \"2021-02-16\", \"2021-02-17\", \"2021-02-18\", \"2021-02-19\", \"2021-02-20\", \"2021-02-21\", \"2021-02-22\", \"2021-02-23\", \"2021-02-24\", \"2021-02-25\", \"2021-02-26\", \"2021-02-27\", \"2021-02-28\", \"2021-03-01\", \"2021-03-02\", \"2021-03-03\", \"2021-03-04\", \"2021-03-05\", \"2021-03-06\", \"2021-03-07\", \"2021-03-08\", \"2021-03-09\", \"2021-03-10\"], \"y\": [1.0, -3.388740719204253e-78, -1.4972559290222632e-78, -4.116438150569515e-83, -2.1331392456877682e-83, -1.49840340806021e-84, -8.279981584308533e-92, -7.902151877233548e-92, -7.524322170158561e-92, -7.146492463083575e-92, -6.76866275600859e-92, -6.390833048933605e-92, -6.013003341858619e-92, -5.635173634783634e-92, -5.257343927708648e-92, -4.879514220633663e-92, -4.501684513558677e-92, -4.123854806483692e-92, -3.746025099408706e-92, -3.368195392333721e-92, -2.9903656852587345e-92, -2.6125359781837494e-92, -2.2347062711087643e-92, -1.856876564033778e-92, -1.479046856958793e-92, -1.101217149883808e-92, -7.233874428088218e-93, -3.4555773573383676e-93, 3.556576085095705e-96, 3.4002809277192683e-96, 3.2439857703428315e-96, 3.087690612966395e-96, 2.931395455589959e-96, 2.7751002982135222e-96, 2.6188051408370863e-96, 2.4625099834606492e-96, 2.3062148260842125e-96, 2.1499196687077766e-96, 1.9936245113313403e-96, 1.8373293539549038e-96, 1.6810341965784667e-96, 1.5247390392020304e-96, 1.368443881825594e-96, 1.212148724449158e-96, 1.0558535670727217e-96, 8.995584096962855e-97, 7.432632523198482e-97, 5.86968094943412e-97, 4.3067293756697567e-97, 2.743777801905395e-97, 1.1808262281410323e-97, 7.758205183254056e-106, 7.724201421762422e-106, 7.69019766027079e-106, 7.656193898779158e-106, 7.622190137287526e-106, 7.588186375795894e-106, 7.554182614304261e-106, 7.520178852812628e-106, 7.486175091320996e-106, 7.452171329829363e-106, 7.418167568337731e-106, 7.384163806846098e-106, 7.350160045354465e-106, 7.316156283862834e-106, 7.282152522371201e-106, 7.248148760879569e-106, 7.214144999387936e-106, 7.180141237896304e-106, 7.146137476404671e-106, 7.112133714913038e-106, 7.078129953421406e-106, 7.044126191929774e-106, 7.010122430438142e-106, 6.976118668946508e-106, 6.942114907454876e-106, 6.9081111459632445e-106, 6.874107384471612e-106, 6.84010362297998e-106, 6.806099861488346e-106, 6.772096099996713e-106, 6.738092338505081e-106, 6.704088577013449e-106, 6.670084815521817e-106, 6.636081054030184e-106, 6.602077292538553e-106, 6.56807353104692e-106, 6.534069769555287e-106, 6.500066008063655e-106, 6.466062246572023e-106, 6.43205848508039e-106, 6.398054723588756e-106, 6.364050962097124e-106, 6.3300472006054925e-106, 6.29604343911386e-106, 6.262039677622228e-106, 6.228035916130595e-106, 6.194032154638962e-106, 6.16002839314733e-106, 6.126024631655698e-106, 6.092020870164065e-106, 6.058017108672432e-106, 6.0240133471808e-106, 5.990009585689168e-106, 5.956005824197535e-106, 5.922002062705904e-106, 5.8879983012142715e-106, 5.853994539722638e-106, 5.819990778231005e-106, 5.785987016739373e-106, 5.7519832552477405e-106, 5.717979493756108e-106, 5.683975732264476e-106, 5.649971970772843e-106, 5.61596820928121e-106, 5.581964447789579e-106, 5.547960686297947e-106, 5.513956924806314e-106, 5.479953163314681e-106, 5.445949401823049e-106, 5.411945640331416e-106, 5.377941878839783e-106, 5.343938117348151e-106, 5.3099343558565195e-106, 5.275930594364886e-106, 5.241926832873254e-106, 5.207923071381622e-106, 5.173919309889989e-106, 5.139915548398357e-106, 5.105911786906724e-106, 5.071908025415091e-106, 5.037904263923459e-106, 5.003900502431827e-106, 4.969896740940195e-106, 4.935892979448562e-106, 4.901889217956929e-106, 4.867885456465298e-106, 4.833881694973665e-106, 4.799877933482032e-106, 4.765874171990399e-106, 4.7318704104987675e-106, 4.697866649007135e-106, 4.663862887515502e-106, 4.62985912602387e-106, 4.595855364532237e-106, 4.561851603040605e-106, 4.527847841548972e-106, 4.49384408005734e-106, 4.459840318565707e-106, 4.425836557074075e-106, 4.391832795582443e-106, 4.3578290340908106e-106, 4.323825272599178e-106, 4.289821511107545e-106, 4.255817749615913e-106, 4.22181398812428e-106, 4.187810226632648e-106, 4.153806465141016e-106, 4.119802703649383e-106, 4.08579894215775e-106, 4.051795180666117e-106, 4.017791419174486e-106, 3.983787657682853e-106, 3.9497838961912204e-106, 3.915780134699588e-106, 3.8817763732079564e-106, 3.847772611716324e-106, 3.813768850224691e-106, 3.7797650887330586e-106, 3.745761327241426e-106, 3.711757565749794e-106, 3.6777538042581613e-106, 3.643750042766529e-106, 3.609746281274896e-106, 3.5757425197832635e-106, 3.5417387582916317e-106, 3.507734996799999e-106, 3.4737312353083667e-106, 3.439727473816734e-106, 3.405723712325101e-106, 3.37171995083347e-106, 3.3377161893418366e-106, 3.3037124278502044e-106, 3.2697086663585716e-106, 3.235704904866939e-106, 3.2017011433753075e-106, 3.167697381883675e-106, 3.133693620392042e-106, 3.0996898589004093e-106, 3.065686097408777e-106, 3.031682335917145e-106, 2.9976785744255125e-106, 2.9636748129338797e-106, 2.929671051442247e-106, 2.8956672899506147e-106, 2.8616635284589824e-106, 2.82765976696735e-106, 2.7936560054757174e-106, 2.7596522439840846e-106, 2.7256484824924524e-106, 2.69164472100082e-106, 2.657640959509188e-106, 2.623637198017555e-106, 2.589633436525923e-106, 2.5556296750342895e-106, 2.5216259135426582e-106, 2.4876221520510255e-106, 2.4536183905593927e-106, 2.4196146290677605e-106, 2.385610867576127e-106, 2.351607106084496e-106, 2.3176033445928636e-106, 2.2835995831012304e-106, 2.249595821609598e-106, 2.2155920601179654e-106, 2.1815882986263336e-106, 2.147584537134701e-106, 2.1135807756430683e-106, 2.0795770141514358e-106, 2.045573252659803e-106, 2.0115694911681715e-106, 1.9775657296765385e-106, 1.943561968184906e-106, 1.9095582066932735e-106, 1.875554445201642e-106, 1.8415506837100092e-106, 1.8075469222183764e-106, 1.773543160726744e-106, 1.7395393992351112e-106, 1.7055356377434794e-106, 1.6715318762518469e-106, 1.6375281147602143e-106, 1.6035243532685816e-106, 1.569520591776949e-106, 1.535516830285317e-106, 1.5015130687936845e-106, 1.4675093073020518e-106, 1.4335055458104195e-106, 1.3995017843187868e-106, 1.365498022827155e-106, 1.3314942613355222e-106, 1.2974904998438897e-106, 1.263486738352257e-106, 1.2294829768606242e-106, 1.1954792153689926e-106, 1.1614754538773601e-106, 1.1274716923857274e-106, 1.0934679308940946e-106, 1.0594641694024621e-106, 1.0254604079108304e-106, 9.914566464191978e-107, 9.574528849275652e-107, 9.234491234359325e-107, 8.894453619442998e-107, 8.554416004526681e-107, 8.214378389610355e-107, 7.874340774694028e-107, 7.534303159777702e-107, 7.194265544861376e-107, 6.854227929945049e-107, 6.514190315028723e-107, 6.174152700112416e-107, 5.834115085196088e-107, 5.494077470279762e-107, 5.154039855363436e-107, 4.8140022404471094e-107, 4.473964625530783e-107, 4.133927010614457e-107, 3.7938893956981304e-107, 3.4538517807818034e-107, 3.113814165865477e-107, 2.77377655094917e-107, 2.4337389360328438e-107, 2.093701321116517e-107, 1.7536637062001908e-107, 1.413626091283864e-107, 1.0735884763675378e-107, 7.335508614512114e-108, 3.9351324653488486e-108, 5.347563161855839e-109, 6.62845717959596e-111, 6.599328159601831e-111, 6.5701991396077e-111, 6.5410701196135706e-111, 6.51194109961944e-111, 6.48281207962531e-111, 6.453683059631179e-111, 6.4245540396370484e-111, 6.395425019642919e-111, 6.366295999648788e-111, 6.337166979654657e-111, 6.3080379596605284e-111, 6.278908939666398e-111, 6.249779919672268e-111, 6.220650899678137e-111, 6.191521879684007e-111, 6.162392859689876e-111, 6.1332638396957455e-111, 6.104134819701616e-111, 6.075005799707485e-111, 6.045876779713354e-111, 6.0167477597192255e-111, 5.987618739725095e-111, 5.958489719730964e-111, 5.9293606997368344e-111, 5.900231679742704e-111, 5.871102659748573e-111, 5.8419736397544425e-111, 5.812844619760313e-111, 5.7837155997661825e-111, 5.7545865797720514e-111, 5.7254575597779225e-111, 5.696328539783792e-111, 5.667199519789661e-111, 5.6380704997955314e-111, 5.608941479801401e-111, 5.579812459807271e-111, 5.5506834398131396e-111, 5.521554419819009e-111, 5.4924253998248796e-111, 5.4632963798307485e-111, 5.4341673598366196e-111, 5.405038339842489e-111, 5.375909319848359e-111, 5.346780299854228e-111, 5.317651279860098e-111, 5.288522259865968e-111, 5.259393239871837e-111, 5.230264219877706e-111, 5.201135199883577e-111, 5.172006179889448e-111, 5.142877159895317e-111, 5.113748139901186e-111, 5.084619119907056e-111, 5.055490099912925e-111, 5.026361079918795e-111, 4.997232059924665e-111, 4.968103039930534e-111, 4.9389740199364034e-111, 4.909844999942273e-111, 4.880715979948144e-111, 4.8515869599540145e-111, 4.8224579399598834e-111, 4.793328919965753e-111, 4.764199899971622e-111, 4.735070879977492e-111, 4.705941859983362e-111, 4.6768128399892316e-111, 4.6476838199951005e-111, 4.61855480000097e-111, 4.589425780006841e-111, 4.5602967600127116e-111, 4.5311677400185805e-111, 4.50203872002445e-111, 4.47290970003032e-111, 4.4437806800361886e-111, 4.414651660042059e-111, 4.3855226400479286e-111, 4.3563936200537975e-111, 4.327264600059667e-111, 4.298135580065538e-111, 4.269006560071408e-111, 4.2398775400772775e-111, 4.210748520083147e-111, 4.181619500089017e-111, 4.1524904800948864e-111, 4.123361460100756e-111, 4.094232440106626e-111, 4.0651034201124946e-111, 4.035974400118364e-111, 4.006845380124235e-111, 3.977716360130105e-111, 3.9485873401359746e-111, 3.919458320141844e-111, 3.890329300147714e-111, 3.8612002801535835e-111, 3.832071260159453e-111, 3.802942240165322e-111, 3.7738132201711924e-111, 3.744684200177061e-111]}, {\"line\": {\"color\": \"#2e7d32\", \"dash\": \"dash\", \"width\": 3}, \"mode\": \"lines\", \"name\": \"Recovered - Model\", \"type\": \"scatter\", \"x\": [\"2020-02-25\", \"2020-02-26\", \"2020-02-27\", \"2020-02-28\", \"2020-02-29\", \"2020-03-01\", \"2020-03-02\", \"2020-03-03\", \"2020-03-04\", \"2020-03-05\", \"2020-03-06\", \"2020-03-07\", \"2020-03-08\", \"2020-03-09\", \"2020-03-10\", \"2020-03-11\", \"2020-03-12\", \"2020-03-13\", \"2020-03-14\", \"2020-03-15\", \"2020-03-16\", \"2020-03-17\", \"2020-03-18\", \"2020-03-19\", \"2020-03-20\", \"2020-03-21\", \"2020-03-22\", \"2020-03-23\", \"2020-03-24\", \"2020-03-25\", \"2020-03-26\", \"2020-03-27\", \"2020-03-28\", \"2020-03-29\", \"2020-03-30\", \"2020-03-31\", \"2020-04-01\", \"2020-04-02\", \"2020-04-03\", \"2020-04-04\", \"2020-04-05\", \"2020-04-06\", \"2020-04-07\", \"2020-04-08\", \"2020-04-09\", \"2020-04-10\", \"2020-04-11\", \"2020-04-12\", \"2020-04-13\", \"2020-04-14\", \"2020-04-15\", \"2020-04-16\", \"2020-04-17\", \"2020-04-18\", \"2020-04-19\", \"2020-04-20\", \"2020-04-21\", \"2020-04-22\", \"2020-04-23\", \"2020-04-24\", \"2020-04-25\", \"2020-04-26\", \"2020-04-27\", \"2020-04-28\", \"2020-04-29\", \"2020-04-30\", \"2020-05-01\", \"2020-05-02\", \"2020-05-03\", \"2020-05-04\", \"2020-05-05\", \"2020-05-06\", \"2020-05-07\", \"2020-05-08\", \"2020-05-09\", \"2020-05-10\", \"2020-05-11\", \"2020-05-12\", \"2020-05-13\", \"2020-05-14\", \"2020-05-15\", \"2020-05-16\", \"2020-05-17\", \"2020-05-18\", \"2020-05-19\", \"2020-05-20\", \"2020-05-21\", \"2020-05-22\", \"2020-05-23\", \"2020-05-24\", \"2020-05-25\", \"2020-05-26\", \"2020-05-27\", \"2020-05-28\", \"2020-05-29\", \"2020-05-30\", \"2020-05-31\", \"2020-06-01\", \"2020-06-02\", \"2020-06-03\", \"2020-06-04\", \"2020-06-05\", \"2020-06-06\", \"2020-06-07\", \"2020-06-08\", \"2020-06-09\", \"2020-06-10\", \"2020-06-11\", \"2020-06-12\", \"2020-06-13\", \"2020-06-14\", \"2020-06-15\", \"2020-06-16\", \"2020-06-17\", \"2020-06-18\", \"2020-06-19\", \"2020-06-20\", \"2020-06-21\", \"2020-06-22\", \"2020-06-23\", \"2020-06-24\", \"2020-06-25\", \"2020-06-26\", \"2020-06-27\", \"2020-06-28\", \"2020-06-29\", \"2020-06-30\", \"2020-07-01\", \"2020-07-02\", \"2020-07-03\", \"2020-07-04\", \"2020-07-05\", \"2020-07-06\", \"2020-07-07\", \"2020-07-08\", \"2020-07-09\", \"2020-07-10\", \"2020-07-11\", \"2020-07-12\", \"2020-07-13\", \"2020-07-14\", \"2020-07-15\", \"2020-07-16\", \"2020-07-17\", \"2020-07-18\", \"2020-07-19\", \"2020-07-20\", \"2020-07-21\", \"2020-07-22\", \"2020-07-23\", \"2020-07-24\", \"2020-07-25\", \"2020-07-26\", \"2020-07-27\", \"2020-07-28\", \"2020-07-29\", \"2020-07-30\", \"2020-07-31\", \"2020-08-01\", \"2020-08-02\", \"2020-08-03\", \"2020-08-04\", \"2020-08-05\", \"2020-08-06\", \"2020-08-07\", \"2020-08-08\", \"2020-08-09\", \"2020-08-10\", \"2020-08-11\", \"2020-08-12\", \"2020-08-13\", \"2020-08-14\", \"2020-08-15\", \"2020-08-16\", \"2020-08-17\", \"2020-08-18\", \"2020-08-19\", \"2020-08-20\", \"2020-08-21\", \"2020-08-22\", \"2020-08-23\", \"2020-08-24\", \"2020-08-25\", \"2020-08-26\", \"2020-08-27\", \"2020-08-28\", \"2020-08-29\", \"2020-08-30\", \"2020-08-31\", \"2020-09-01\", \"2020-09-02\", \"2020-09-03\", \"2020-09-04\", \"2020-09-05\", \"2020-09-06\", \"2020-09-07\", \"2020-09-08\", \"2020-09-09\", \"2020-09-10\", \"2020-09-11\", \"2020-09-12\", \"2020-09-13\", \"2020-09-14\", \"2020-09-15\", \"2020-09-16\", \"2020-09-17\", \"2020-09-18\", \"2020-09-19\", \"2020-09-20\", \"2020-09-21\", \"2020-09-22\", \"2020-09-23\", \"2020-09-24\", \"2020-09-25\", \"2020-09-26\", \"2020-09-27\", \"2020-09-28\", \"2020-09-29\", \"2020-09-30\", \"2020-10-01\", \"2020-10-02\", \"2020-10-03\", \"2020-10-04\", \"2020-10-05\", \"2020-10-06\", \"2020-10-07\", \"2020-10-08\", \"2020-10-09\", \"2020-10-10\", \"2020-10-11\", \"2020-10-12\", \"2020-10-13\", \"2020-10-14\", \"2020-10-15\", \"2020-10-16\", \"2020-10-17\", \"2020-10-18\", \"2020-10-19\", \"2020-10-20\", \"2020-10-21\", \"2020-10-22\", \"2020-10-23\", \"2020-10-24\", \"2020-10-25\", \"2020-10-26\", \"2020-10-27\", \"2020-10-28\", \"2020-10-29\", \"2020-10-30\", \"2020-10-31\", \"2020-11-01\", \"2020-11-02\", \"2020-11-03\", \"2020-11-04\", \"2020-11-05\", \"2020-11-06\", \"2020-11-07\", \"2020-11-08\", \"2020-11-09\", \"2020-11-10\", \"2020-11-11\", \"2020-11-12\", \"2020-11-13\", \"2020-11-14\", \"2020-11-15\", \"2020-11-16\", \"2020-11-17\", \"2020-11-18\", \"2020-11-19\", \"2020-11-20\", \"2020-11-21\", \"2020-11-22\", \"2020-11-23\", \"2020-11-24\", \"2020-11-25\", \"2020-11-26\", \"2020-11-27\", \"2020-11-28\", \"2020-11-29\", \"2020-11-30\", \"2020-12-01\", \"2020-12-02\", \"2020-12-03\", \"2020-12-04\", \"2020-12-05\", \"2020-12-06\", \"2020-12-07\", \"2020-12-08\", \"2020-12-09\", \"2020-12-10\", \"2020-12-11\", \"2020-12-12\", \"2020-12-13\", \"2020-12-14\", \"2020-12-15\", \"2020-12-16\", \"2020-12-17\", \"2020-12-18\", \"2020-12-19\", \"2020-12-20\", \"2020-12-21\", \"2020-12-22\", \"2020-12-23\", \"2020-12-24\", \"2020-12-25\", \"2020-12-26\", \"2020-12-27\", \"2020-12-28\", \"2020-12-29\", \"2020-12-30\", \"2020-12-31\", \"2021-01-01\", \"2021-01-02\", \"2021-01-03\", \"2021-01-04\", \"2021-01-05\", \"2021-01-06\", \"2021-01-07\", \"2021-01-08\", \"2021-01-09\", \"2021-01-10\", \"2021-01-11\", \"2021-01-12\", \"2021-01-13\", \"2021-01-14\", \"2021-01-15\", \"2021-01-16\", \"2021-01-17\", \"2021-01-18\", \"2021-01-19\", \"2021-01-20\", \"2021-01-21\", \"2021-01-22\", \"2021-01-23\", \"2021-01-24\", \"2021-01-25\", \"2021-01-26\", \"2021-01-27\", \"2021-01-28\", \"2021-01-29\", \"2021-01-30\", \"2021-01-31\", \"2021-02-01\", \"2021-02-02\", \"2021-02-03\", \"2021-02-04\", \"2021-02-05\", \"2021-02-06\", \"2021-02-07\", \"2021-02-08\", \"2021-02-09\", \"2021-02-10\", \"2021-02-11\", \"2021-02-12\", \"2021-02-13\", \"2021-02-14\", \"2021-02-15\", \"2021-02-16\", \"2021-02-17\", \"2021-02-18\", \"2021-02-19\", \"2021-02-20\", \"2021-02-21\", \"2021-02-22\", \"2021-02-23\", \"2021-02-24\", \"2021-02-25\", \"2021-02-26\", \"2021-02-27\", \"2021-02-28\", \"2021-03-01\", \"2021-03-02\", \"2021-03-03\", \"2021-03-04\", \"2021-03-05\", \"2021-03-06\", \"2021-03-07\", \"2021-03-08\", \"2021-03-09\", \"2021-03-10\"], \"y\": [0.0, 2.4936824809477527e-12, 2.4936824809477527e-12, 2.4936824809477527e-12, 2.4936824809477527e-12, 2.4936824809477527e-12, 2.4936824809477527e-12, 2.4936824809477527e-12, 2.4936824809477527e-12, 2.4936824809477527e-12, 2.4936824809477527e-12, 2.4936824809477527e-12, 2.4936824809477527e-12, 2.4936824809477527e-12, 2.4936824809477527e-12, 2.4936824809477527e-12, 2.4936824809477527e-12, 2.4936824809477527e-12, 2.4936824809477527e-12, 2.4936824809477527e-12, 2.4936824809477527e-12, 2.4936824809477527e-12, 2.4936824809477527e-12, 2.4936824809477527e-12, 2.4936824809477527e-12, 2.4936824809477527e-12, 2.4936824809477527e-12, 2.4936824809477527e-12, 2.4936824809477527e-12, 2.4936824809477527e-12, 2.4936824809477527e-12, 2.4936824809477527e-12, 2.4936824809477527e-12, 2.4936824809477527e-12, 2.4936824809477527e-12, 2.4936824809477527e-12, 2.4936824809477527e-12, 2.4936824809477527e-12, 2.4936824809477527e-12, 2.4936824809477527e-12, 2.4936824809477527e-12, 2.4936824809477527e-12, 2.4936824809477527e-12, 2.4936824809477527e-12, 2.4936824809477527e-12, 2.4936824809477527e-12, 2.4936824809477527e-12, 2.4936824809477527e-12, 2.4936824809477527e-12, 2.4936824809477527e-12, 2.4936824809477527e-12, 2.4936824809477527e-12, 2.4936824809477527e-12, 2.4936824809477527e-12, 2.4936824809477527e-12, 2.4936824809477527e-12, 2.4936824809477527e-12, 2.4936824809477527e-12, 2.4936824809477527e-12, 2.4936824809477527e-12, 2.4936824809477527e-12, 2.4936824809477527e-12, 2.4936824809477527e-12, 2.4936824809477527e-12, 2.4936824809477527e-12, 2.4936824809477527e-12, 2.4936824809477527e-12, 2.4936824809477527e-12, 2.4936824809477527e-12, 2.4936824809477527e-12, 2.4936824809477527e-12, 2.4936824809477527e-12, 2.4936824809477527e-12, 2.4936824809477527e-12, 2.4936824809477527e-12, 2.4936824809477527e-12, 2.4936824809477527e-12, 2.4936824809477527e-12, 2.4936824809477527e-12, 2.4936824809477527e-12, 2.4936824809477527e-12, 2.4936824809477527e-12, 2.4936824809477527e-12, 2.4936824809477527e-12, 2.4936824809477527e-12, 2.4936824809477527e-12, 2.4936824809477527e-12, 2.4936824809477527e-12, 2.4936824809477527e-12, 2.4936824809477527e-12, 2.4936824809477527e-12, 2.4936824809477527e-12, 2.4936824809477527e-12, 2.4936824809477527e-12, 2.4936824809477527e-12, 2.4936824809477527e-12, 2.4936824809477527e-12, 2.4936824809477527e-12, 2.4936824809477527e-12, 2.4936824809477527e-12, 2.4936824809477527e-12, 2.4936824809477527e-12, 2.4936824809477527e-12, 2.4936824809477527e-12, 2.4936824809477527e-12, 2.4936824809477527e-12, 2.4936824809477527e-12, 2.4936824809477527e-12, 2.4936824809477527e-12, 2.4936824809477527e-12, 2.4936824809477527e-12, 2.4936824809477527e-12, 2.4936824809477527e-12, 2.4936824809477527e-12, 2.4936824809477527e-12, 2.4936824809477527e-12, 2.4936824809477527e-12, 2.4936824809477527e-12, 2.4936824809477527e-12, 2.4936824809477527e-12, 2.4936824809477527e-12, 2.4936824809477527e-12, 2.4936824809477527e-12, 2.4936824809477527e-12, 2.4936824809477527e-12, 2.4936824809477527e-12, 2.4936824809477527e-12, 2.4936824809477527e-12, 2.4936824809477527e-12, 2.4936824809477527e-12, 2.4936824809477527e-12, 2.4936824809477527e-12, 2.4936824809477527e-12, 2.4936824809477527e-12, 2.4936824809477527e-12, 2.4936824809477527e-12, 2.4936824809477527e-12, 2.4936824809477527e-12, 2.4936824809477527e-12, 2.4936824809477527e-12, 2.4936824809477527e-12, 2.4936824809477527e-12, 2.4936824809477527e-12, 2.4936824809477527e-12, 2.4936824809477527e-12, 2.4936824809477527e-12, 2.4936824809477527e-12, 2.4936824809477527e-12, 2.4936824809477527e-12, 2.4936824809477527e-12, 2.4936824809477527e-12, 2.4936824809477527e-12, 2.4936824809477527e-12, 2.4936824809477527e-12, 2.4936824809477527e-12, 2.4936824809477527e-12, 2.4936824809477527e-12, 2.4936824809477527e-12, 2.4936824809477527e-12, 2.4936824809477527e-12, 2.4936824809477527e-12, 2.4936824809477527e-12, 2.4936824809477527e-12, 2.4936824809477527e-12, 2.4936824809477527e-12, 2.4936824809477527e-12, 2.4936824809477527e-12, 2.4936824809477527e-12, 2.4936824809477527e-12, 2.4936824809477527e-12, 2.4936824809477527e-12, 2.4936824809477527e-12, 2.4936824809477527e-12, 2.4936824809477527e-12, 2.4936824809477527e-12, 2.4936824809477527e-12, 2.4936824809477527e-12, 2.4936824809477527e-12, 2.4936824809477527e-12, 2.4936824809477527e-12, 2.4936824809477527e-12, 2.4936824809477527e-12, 2.4936824809477527e-12, 2.4936824809477527e-12, 2.4936824809477527e-12, 2.4936824809477527e-12, 2.4936824809477527e-12, 2.4936824809477527e-12, 2.4936824809477527e-12, 2.4936824809477527e-12, 2.4936824809477527e-12, 2.4936824809477527e-12, 2.4936824809477527e-12, 2.4936824809477527e-12, 2.4936824809477527e-12, 2.4936824809477527e-12, 2.4936824809477527e-12, 2.4936824809477527e-12, 2.4936824809477527e-12, 2.4936824809477527e-12, 2.4936824809477527e-12, 2.4936824809477527e-12, 2.4936824809477527e-12, 2.4936824809477527e-12, 2.4936824809477527e-12, 2.4936824809477527e-12, 2.4936824809477527e-12, 2.4936824809477527e-12, 2.4936824809477527e-12, 2.4936824809477527e-12, 2.4936824809477527e-12, 2.4936824809477527e-12, 2.4936824809477527e-12, 2.4936824809477527e-12, 2.4936824809477527e-12, 2.4936824809477527e-12, 2.4936824809477527e-12, 2.4936824809477527e-12, 2.4936824809477527e-12, 2.4936824809477527e-12, 2.4936824809477527e-12, 2.4936824809477527e-12, 2.4936824809477527e-12, 2.4936824809477527e-12, 2.4936824809477527e-12, 2.4936824809477527e-12, 2.4936824809477527e-12, 2.4936824809477527e-12, 2.4936824809477527e-12, 2.4936824809477527e-12, 2.4936824809477527e-12, 2.4936824809477527e-12, 2.4936824809477527e-12, 2.4936824809477527e-12, 2.4936824809477527e-12, 2.4936824809477527e-12, 2.4936824809477527e-12, 2.4936824809477527e-12, 2.4936824809477527e-12, 2.4936824809477527e-12, 2.4936824809477527e-12, 2.4936824809477527e-12, 2.4936824809477527e-12, 2.4936824809477527e-12, 2.4936824809477527e-12, 2.4936824809477527e-12, 2.4936824809477527e-12, 2.4936824809477527e-12, 2.4936824809477527e-12, 2.4936824809477527e-12, 2.4936824809477527e-12, 2.4936824809477527e-12, 2.4936824809477527e-12, 2.4936824809477527e-12, 2.4936824809477527e-12, 2.4936824809477527e-12, 2.4936824809477527e-12, 2.4936824809477527e-12, 2.4936824809477527e-12, 2.4936824809477527e-12, 2.4936824809477527e-12, 2.4936824809477527e-12, 2.4936824809477527e-12, 2.4936824809477527e-12, 2.4936824809477527e-12, 2.4936824809477527e-12, 2.4936824809477527e-12, 2.4936824809477527e-12, 2.4936824809477527e-12, 2.4936824809477527e-12, 2.4936824809477527e-12, 2.4936824809477527e-12, 2.4936824809477527e-12, 2.4936824809477527e-12, 2.4936824809477527e-12, 2.4936824809477527e-12, 2.4936824809477527e-12, 2.4936824809477527e-12, 2.4936824809477527e-12, 2.4936824809477527e-12, 2.4936824809477527e-12, 2.4936824809477527e-12, 2.4936824809477527e-12, 2.4936824809477527e-12, 2.4936824809477527e-12, 2.4936824809477527e-12, 2.4936824809477527e-12, 2.4936824809477527e-12, 2.4936824809477527e-12, 2.4936824809477527e-12, 2.4936824809477527e-12, 2.4936824809477527e-12, 2.4936824809477527e-12, 2.4936824809477527e-12, 2.4936824809477527e-12, 2.4936824809477527e-12, 2.4936824809477527e-12, 2.4936824809477527e-12, 2.4936824809477527e-12, 2.4936824809477527e-12, 2.4936824809477527e-12, 2.4936824809477527e-12, 2.4936824809477527e-12, 2.4936824809477527e-12, 2.4936824809477527e-12, 2.4936824809477527e-12, 2.4936824809477527e-12, 2.4936824809477527e-12, 2.4936824809477527e-12, 2.4936824809477527e-12, 2.4936824809477527e-12, 2.4936824809477527e-12, 2.4936824809477527e-12, 2.4936824809477527e-12, 2.4936824809477527e-12, 2.4936824809477527e-12, 2.4936824809477527e-12, 2.4936824809477527e-12, 2.4936824809477527e-12, 2.4936824809477527e-12, 2.4936824809477527e-12, 2.4936824809477527e-12, 2.4936824809477527e-12, 2.4936824809477527e-12, 2.4936824809477527e-12, 2.4936824809477527e-12, 2.4936824809477527e-12, 2.4936824809477527e-12, 2.4936824809477527e-12, 2.4936824809477527e-12, 2.4936824809477527e-12, 2.4936824809477527e-12, 2.4936824809477527e-12, 2.4936824809477527e-12, 2.4936824809477527e-12, 2.4936824809477527e-12, 2.4936824809477527e-12, 2.4936824809477527e-12, 2.4936824809477527e-12, 2.4936824809477527e-12, 2.4936824809477527e-12, 2.4936824809477527e-12, 2.4936824809477527e-12, 2.4936824809477527e-12, 2.4936824809477527e-12, 2.4936824809477527e-12, 2.4936824809477527e-12, 2.4936824809477527e-12, 2.4936824809477527e-12, 2.4936824809477527e-12, 2.4936824809477527e-12, 2.4936824809477527e-12, 2.4936824809477527e-12, 2.4936824809477527e-12, 2.4936824809477527e-12, 2.4936824809477527e-12, 2.4936824809477527e-12, 2.4936824809477527e-12, 2.4936824809477527e-12, 2.4936824809477527e-12, 2.4936824809477527e-12, 2.4936824809477527e-12, 2.4936824809477527e-12, 2.4936824809477527e-12, 2.4936824809477527e-12, 2.4936824809477527e-12, 2.4936824809477527e-12, 2.4936824809477527e-12, 2.4936824809477527e-12, 2.4936824809477527e-12, 2.4936824809477527e-12, 2.4936824809477527e-12, 2.4936824809477527e-12, 2.4936824809477527e-12, 2.4936824809477527e-12, 2.4936824809477527e-12, 2.4936824809477527e-12, 2.4936824809477527e-12, 2.4936824809477527e-12, 2.4936824809477527e-12]}, {\"marker\": {\"color\": \"#38006b\", \"size\": 6}, \"mode\": \"markers\", \"name\": \"Active Cases - Data\", \"type\": \"scatter\", \"x\": [\"2020-02-25\", \"2020-02-26\", \"2020-02-27\", \"2020-02-28\", \"2020-02-29\", \"2020-03-01\", \"2020-03-02\", \"2020-03-03\", \"2020-03-04\", \"2020-03-05\", \"2020-03-06\", \"2020-03-07\", \"2020-03-08\", \"2020-03-09\", \"2020-03-10\", \"2020-03-11\", \"2020-03-12\", \"2020-03-13\", \"2020-03-14\", \"2020-03-15\", \"2020-03-16\", \"2020-03-17\", \"2020-03-18\", \"2020-03-19\", \"2020-03-20\", \"2020-03-21\", \"2020-03-22\", \"2020-03-23\", \"2020-03-24\", \"2020-03-25\", \"2020-03-26\", \"2020-03-27\", \"2020-03-28\", \"2020-03-29\", \"2020-03-30\", \"2020-03-31\", \"2020-04-01\", \"2020-04-02\", \"2020-04-03\", \"2020-04-04\", \"2020-04-05\", \"2020-04-06\", \"2020-04-07\", \"2020-04-08\", \"2020-04-09\", \"2020-04-10\", \"2020-04-11\", \"2020-04-12\", \"2020-04-13\", \"2020-04-14\", \"2020-04-15\", \"2020-04-16\", \"2020-04-17\", \"2020-04-18\", \"2020-04-19\", \"2020-04-20\", \"2020-04-21\", \"2020-04-22\", \"2020-04-23\", \"2020-04-24\", \"2020-04-25\", \"2020-04-26\", \"2020-04-27\", \"2020-04-28\", \"2020-04-29\", \"2020-04-30\", \"2020-05-01\", \"2020-05-02\", \"2020-05-03\", \"2020-05-04\", \"2020-05-05\", \"2020-05-06\", \"2020-05-07\", \"2020-05-08\", \"2020-05-09\", \"2020-05-10\", \"2020-05-11\", \"2020-05-12\", \"2020-05-13\", \"2020-05-14\", \"2020-05-15\", \"2020-05-16\", \"2020-05-17\", \"2020-05-18\", \"2020-05-19\", \"2020-05-20\", \"2020-05-21\", \"2020-05-22\", \"2020-05-23\", \"2020-05-24\", \"2020-05-25\", \"2020-05-26\", \"2020-05-27\", \"2020-05-28\", \"2020-05-29\", \"2020-05-30\", \"2020-05-31\", \"2020-06-01\", \"2020-06-02\", \"2020-06-03\", \"2020-06-04\", \"2020-06-05\", \"2020-06-06\", \"2020-06-07\", \"2020-06-08\", \"2020-06-09\", \"2020-06-10\", \"2020-06-11\", \"2020-06-12\", \"2020-06-13\", \"2020-06-14\", \"2020-06-15\", \"2020-06-16\", \"2020-06-17\", \"2020-06-18\", \"2020-06-19\", \"2020-06-20\", \"2020-06-21\", \"2020-06-22\", \"2020-06-23\", \"2020-06-24\", \"2020-06-25\", \"2020-06-26\", \"2020-06-27\", \"2020-06-28\", \"2020-06-29\", \"2020-06-30\", \"2020-07-01\", \"2020-07-02\", \"2020-07-03\", \"2020-07-04\", \"2020-07-05\", \"2020-07-06\", \"2020-07-07\", \"2020-07-08\", \"2020-07-09\", \"2020-07-10\", \"2020-07-11\", \"2020-07-12\", \"2020-07-13\", \"2020-07-14\", \"2020-07-15\", \"2020-07-16\", \"2020-07-17\", \"2020-07-18\", \"2020-07-19\", \"2020-07-20\", \"2020-07-21\", \"2020-07-22\", \"2020-07-23\", \"2020-07-24\", \"2020-07-25\", \"2020-07-26\", \"2020-07-27\", \"2020-07-28\", \"2020-07-29\", \"2020-07-30\", \"2020-07-31\", \"2020-08-01\", \"2020-08-02\", \"2020-08-03\", \"2020-08-04\", \"2020-08-05\", \"2020-08-06\", \"2020-08-07\", \"2020-08-08\", \"2020-08-09\", \"2020-08-10\", \"2020-08-11\", \"2020-08-12\", \"2020-08-13\", \"2020-08-14\", \"2020-08-15\", \"2020-08-16\", \"2020-08-17\", \"2020-08-18\", \"2020-08-19\", \"2020-08-20\", \"2020-08-21\", \"2020-08-22\", \"2020-08-23\", \"2020-08-24\", \"2020-08-25\", \"2020-08-26\", \"2020-08-27\", \"2020-08-28\", \"2020-08-29\", \"2020-08-30\", \"2020-08-31\", \"2020-09-01\", \"2020-09-02\", \"2020-09-03\", \"2020-09-04\", \"2020-09-05\", \"2020-09-06\", \"2020-09-07\", \"2020-09-08\", \"2020-09-09\", \"2020-09-10\", \"2020-09-11\", \"2020-09-12\", \"2020-09-13\", \"2020-09-14\", \"2020-09-15\", \"2020-09-16\", \"2020-09-17\", \"2020-09-18\", \"2020-09-19\", \"2020-09-20\", \"2020-09-21\", \"2020-09-22\", \"2020-09-23\", \"2020-09-24\", \"2020-09-25\", \"2020-09-26\", \"2020-09-27\", \"2020-09-28\", \"2020-09-29\", \"2020-09-30\", \"2020-10-01\", \"2020-10-02\", \"2020-10-03\", \"2020-10-04\", \"2020-10-05\", \"2020-10-06\", \"2020-10-07\", \"2020-10-08\", \"2020-10-09\", \"2020-10-10\", \"2020-10-11\", \"2020-10-12\", \"2020-10-13\", \"2020-10-14\", \"2020-10-15\", \"2020-10-16\", \"2020-10-17\", \"2020-10-18\", \"2020-10-19\", \"2020-10-20\", \"2020-10-21\", \"2020-10-22\", \"2020-10-23\", \"2020-10-24\", \"2020-10-25\", \"2020-10-26\", \"2020-10-27\", \"2020-10-28\", \"2020-10-29\", \"2020-10-30\", \"2020-10-31\", \"2020-11-01\", \"2020-11-02\", \"2020-11-03\", \"2020-11-04\", \"2020-11-05\", \"2020-11-06\", \"2020-11-07\", \"2020-11-08\", \"2020-11-09\", \"2020-11-10\", \"2020-11-11\", \"2020-11-12\", \"2020-11-13\", \"2020-11-14\", \"2020-11-15\", \"2020-11-16\", \"2020-11-17\", \"2020-11-18\", \"2020-11-19\", \"2020-11-20\", \"2020-11-21\", \"2020-11-22\", \"2020-11-23\", \"2020-11-24\", \"2020-11-25\", \"2020-11-26\", \"2020-11-27\", \"2020-11-28\", \"2020-11-29\", \"2020-11-30\", \"2020-12-01\", \"2020-12-02\", \"2020-12-03\", \"2020-12-04\", \"2020-12-05\", \"2020-12-06\", \"2020-12-07\", \"2020-12-08\", \"2020-12-09\", \"2020-12-10\", \"2020-12-11\", \"2020-12-12\", \"2020-12-13\", \"2020-12-14\", \"2020-12-15\", \"2020-12-16\", \"2020-12-17\", \"2020-12-18\", \"2020-12-19\", \"2020-12-20\", \"2020-12-21\", \"2020-12-22\", \"2020-12-23\", \"2020-12-24\", \"2020-12-25\", \"2020-12-26\", \"2020-12-27\", \"2020-12-28\", \"2020-12-29\", \"2020-12-30\", \"2020-12-31\", \"2021-01-01\", \"2021-01-02\", \"2021-01-03\", \"2021-01-04\", \"2021-01-05\", \"2021-01-06\", \"2021-01-07\", \"2021-01-08\", \"2021-01-09\", \"2021-01-10\", \"2021-01-11\", \"2021-01-12\", \"2021-01-13\", \"2021-01-14\", \"2021-01-15\", \"2021-01-16\", \"2021-01-17\", \"2021-01-18\", \"2021-01-19\", \"2021-01-20\", \"2021-01-21\", \"2021-01-22\", \"2021-01-23\", \"2021-01-24\", \"2021-01-25\", \"2021-01-26\", \"2021-01-27\", \"2021-01-28\", \"2021-01-29\", \"2021-01-30\", \"2021-01-31\", \"2021-02-01\", \"2021-02-02\", \"2021-02-03\", \"2021-02-04\", \"2021-02-05\", \"2021-02-06\", \"2021-02-07\", \"2021-02-08\", \"2021-02-09\", \"2021-02-10\", \"2021-02-11\", \"2021-02-12\", \"2021-02-13\", \"2021-02-14\", \"2021-02-15\", \"2021-02-16\", \"2021-02-17\", \"2021-02-18\", \"2021-02-19\", \"2021-02-20\", \"2021-02-21\", \"2021-02-22\", \"2021-02-23\", \"2021-02-24\", \"2021-02-25\", \"2021-02-26\", \"2021-02-27\", \"2021-02-28\", \"2021-03-01\", \"2021-03-02\", \"2021-03-03\", \"2021-03-04\", \"2021-03-05\", \"2021-03-06\", \"2021-03-07\", \"2021-03-08\", \"2021-03-09\", \"2021-03-10\"], \"y\": [1.0, 1.0, 1.0, 2.0, 2.0, 2.0, 2.0, 2.0, 3.0, 7.0, 14.0, 19.0, 25.0, 25.0, 34.0, 53.0, 89.0, 106.0, 142.0, 225.0, 279.0, 333.0, 514.0, 643.0, 974.0, 1198.0, 1594.0, 1952.0, 2243.0, 2547.0, 2956.0, 3442.0, 3907.0, 4267.0, 4605.0, 5766.0, 6861.0, 8030.0, 9142.0, 10311.0, 11328.0, 11915.0, 13516.0, 15470.0, 17358.0, 18946.0, 19984.0, 21384.0, 20899.0, 22633.0, 24754.0, 26638.0, 29373.0, 32026.0, 33587.0, 34223.0, 36280.0, 37837.0, 41146.0, 43761.0, 47755.0, 50716.0, 53525.0, 58299.0, 63601.0, 68893.0, 73116.0, 76908.0, 80412.0, 86414.0, 91700.0, 97790.0, 101952.0, 110722.0, 117595.0, 115157.0, 118326.0, 123006.0, 128505.0, 135868.0, 147026.0, 154806.0, 158827.0, 162617.0, 172203.0, 182558.0, 190756.0, 203498.0, 200273.0, 202458.0, 207825.0, 214106.0, 224527.0, 240954.0, 253960.0, 243582.0, 245897.0, 249900.0, 267228.0, 282710.0, 298045.0, 310110.0, 320338.0, 326754.0, 332341.0, 345559.0, 362170.0, 373262.0, 383492.0, 390409.0, 397498.0, 413547.0, 438234.0, 437788.0, 449492.0, 484005.0, 479914.0, 484759.0, 497245.0, 523251.0, 532141.0, 552412.0, 575075.0, 586784.0, 601259.0, 611016.0, 620189.0, 529140.0, 536993.0, 556255.0, 560486.0, 561371.0, 561542.0, 563771.0, 575378.0, 589648.0, 592018.0, 600238.0, 603141.0, 599626.0, 605264.0, 606293.0, 619153.0, 623509.0, 618923.0, 611772.0, 602717.0, 594919.0, 616924.0, 601349.0, 599544.0, 611408.0, 608761.0, 601359.0, 618654.0, 628561.0, 652337.0, 661605.0, 665899.0, 665287.0, 657196.0, 654902.0, 674838.0, 672421.0, 690942.0, 696845.0, 684152.0, 670781.0, 667497.0, 666667.0, 704583.0, 695623.0, 697238.0, 681889.0, 668439.0, 665265.0, 663455.0, 664042.0, 661325.0, 666947.0, 659652.0, 644251.0, 645736.0, 643992.0, 644234.0, 654004.0, 647893.0, 626997.0, 610483.0, 605529.0, 612541.0, 622993.0, 624442.0, 626355.0, 618341.0, 600811.0, 596377.0, 594253.0, 588945.0, 593021.0, 595773.0, 584104.0, 583472.0, 576657.0, 571630.0, 587930.0, 592698.0, 593239.0, 583149.0, 584586.0, 558210.0, 560940.0, 554146.0, 565581.0, 567699.0, 562042.0, 554252.0, 547320.0, 542599.0, 553497.0, 561274.0, 547874.0, 541030.0, 543536.0, 544936.0, 547940.0, 546090.0, 558607.0, 554743.0, 543489.0, 529692.0, 522142.0, 519608.0, 521272.0, 527063.0, 524713.0, 521513.0, 518076.0, 517143.0, 519483.0, 524009.0, 534902.0, 536822.0, 529710.0, 519478.0, 530464.0, 525771.0, 537674.0, 537166.0, 532610.0, 525521.0, 516770.0, 510093.0, 515944.0, 515189.0, 519995.0, 517254.0, 519225.0, 516585.0, 542265.0, 529545.0, 531944.0, 550307.0, 571945.0, 584448.0, 545549.0, 558238.0, 567904.0, 581085.0, 595025.0, 618954.0, 614763.0, 611043.0, 617115.0, 637378.0, 655386.0, 664345.0, 713841.0, 733690.0, 660325.0, 681653.0, 683139.0, 700033.0, 714498.0, 715687.0, 737535.0, 716642.0, 715657.0, 766046.0, 746697.0, 764179.0, 801635.0, 768470.0, 776150.0, 775748.0, 809163.0, 815507.0, 846952.0, 829211.0, 830477.0, 800968.0, 825602.0, 853817.0, 906936.0, 924749.0, 815360.0, 808370.0, 800569.0, 816860.0, 812479.0, 832196.0, 848607.0, 826076.0, 832140.0, 811516.0, 824103.0, 848865.0, 888599.0, 892889.0, 875689.0, 878790.0, 867636.0, 920352.0, 916935.0, 938714.0, 964475.0, 975172.0, 969560.0, 960884.0, 965413.0, 1023121.0, 1033828.0, 1007995.0, 1030272.0, 1028966.0, 1015903.0, 1012100.0, 1043076.0, 1075106.0, 1060912.0, 1031958.0, 1032156.0, 1014588.0, 1035223.0, 1034667.0, 1038621.0, 1060360.0, 1072929.0, 1060521.0, 1078748.0, 1031576.0, 1053609.0, 1086445.0, 1053058.0, 1069789.0, 1080049.0, 1041704.0, 1079951.0, 1044287.0, 1060160.0, 1070513.0, 1073835.0, 1078133.0, 1097466.0, 1079353.0, 1120305.0, 1132421.0, 1156748.0, 1152188.0, 1175783.0, 1160874.0, 1151916.0, 1182653.0, 1201117.0, 1223350.0, 1260384.0, 1288729.0, 1237423.0, 1257320.0, 1291070.0]}, {\"marker\": {\"color\": \"#005005\", \"size\": 6}, \"mode\": \"markers\", \"name\": \"Recovered - Data\", \"type\": \"scatter\", \"x\": [\"2020-02-25\", \"2020-02-26\", \"2020-02-27\", \"2020-02-28\", \"2020-02-29\", \"2020-03-01\", \"2020-03-02\", \"2020-03-03\", \"2020-03-04\", \"2020-03-05\", \"2020-03-06\", \"2020-03-07\", \"2020-03-08\", \"2020-03-09\", \"2020-03-10\", \"2020-03-11\", \"2020-03-12\", \"2020-03-13\", \"2020-03-14\", \"2020-03-15\", \"2020-03-16\", \"2020-03-17\", \"2020-03-18\", \"2020-03-19\", \"2020-03-20\", \"2020-03-21\", \"2020-03-22\", \"2020-03-23\", \"2020-03-24\", \"2020-03-25\", \"2020-03-26\", \"2020-03-27\", \"2020-03-28\", \"2020-03-29\", \"2020-03-30\", \"2020-03-31\", \"2020-04-01\", \"2020-04-02\", \"2020-04-03\", \"2020-04-04\", \"2020-04-05\", \"2020-04-06\", \"2020-04-07\", \"2020-04-08\", \"2020-04-09\", \"2020-04-10\", \"2020-04-11\", \"2020-04-12\", \"2020-04-13\", \"2020-04-14\", \"2020-04-15\", \"2020-04-16\", \"2020-04-17\", \"2020-04-18\", \"2020-04-19\", \"2020-04-20\", \"2020-04-21\", \"2020-04-22\", \"2020-04-23\", \"2020-04-24\", \"2020-04-25\", \"2020-04-26\", \"2020-04-27\", \"2020-04-28\", \"2020-04-29\", \"2020-04-30\", \"2020-05-01\", \"2020-05-02\", \"2020-05-03\", \"2020-05-04\", \"2020-05-05\", \"2020-05-06\", \"2020-05-07\", \"2020-05-08\", \"2020-05-09\", \"2020-05-10\", \"2020-05-11\", \"2020-05-12\", \"2020-05-13\", \"2020-05-14\", \"2020-05-15\", \"2020-05-16\", \"2020-05-17\", \"2020-05-18\", \"2020-05-19\", \"2020-05-20\", \"2020-05-21\", \"2020-05-22\", \"2020-05-23\", \"2020-05-24\", \"2020-05-25\", \"2020-05-26\", \"2020-05-27\", \"2020-05-28\", \"2020-05-29\", \"2020-05-30\", \"2020-05-31\", \"2020-06-01\", \"2020-06-02\", \"2020-06-03\", \"2020-06-04\", \"2020-06-05\", \"2020-06-06\", \"2020-06-07\", \"2020-06-08\", \"2020-06-09\", \"2020-06-10\", \"2020-06-11\", \"2020-06-12\", \"2020-06-13\", \"2020-06-14\", \"2020-06-15\", \"2020-06-16\", \"2020-06-17\", \"2020-06-18\", \"2020-06-19\", \"2020-06-20\", \"2020-06-21\", \"2020-06-22\", \"2020-06-23\", \"2020-06-24\", \"2020-06-25\", \"2020-06-26\", \"2020-06-27\", \"2020-06-28\", \"2020-06-29\", \"2020-06-30\", \"2020-07-01\", \"2020-07-02\", \"2020-07-03\", \"2020-07-04\", \"2020-07-05\", \"2020-07-06\", \"2020-07-07\", \"2020-07-08\", \"2020-07-09\", \"2020-07-10\", \"2020-07-11\", \"2020-07-12\", \"2020-07-13\", \"2020-07-14\", \"2020-07-15\", \"2020-07-16\", \"2020-07-17\", \"2020-07-18\", \"2020-07-19\", \"2020-07-20\", \"2020-07-21\", \"2020-07-22\", \"2020-07-23\", \"2020-07-24\", \"2020-07-25\", \"2020-07-26\", \"2020-07-27\", \"2020-07-28\", \"2020-07-29\", \"2020-07-30\", \"2020-07-31\", \"2020-08-01\", \"2020-08-02\", \"2020-08-03\", \"2020-08-04\", \"2020-08-05\", \"2020-08-06\", \"2020-08-07\", \"2020-08-08\", \"2020-08-09\", \"2020-08-10\", \"2020-08-11\", \"2020-08-12\", \"2020-08-13\", \"2020-08-14\", \"2020-08-15\", \"2020-08-16\", \"2020-08-17\", \"2020-08-18\", \"2020-08-19\", \"2020-08-20\", \"2020-08-21\", \"2020-08-22\", \"2020-08-23\", \"2020-08-24\", \"2020-08-25\", \"2020-08-26\", \"2020-08-27\", \"2020-08-28\", \"2020-08-29\", \"2020-08-30\", \"2020-08-31\", \"2020-09-01\", \"2020-09-02\", \"2020-09-03\", \"2020-09-04\", \"2020-09-05\", \"2020-09-06\", \"2020-09-07\", \"2020-09-08\", \"2020-09-09\", \"2020-09-10\", \"2020-09-11\", \"2020-09-12\", \"2020-09-13\", \"2020-09-14\", \"2020-09-15\", \"2020-09-16\", \"2020-09-17\", \"2020-09-18\", \"2020-09-19\", \"2020-09-20\", \"2020-09-21\", \"2020-09-22\", \"2020-09-23\", \"2020-09-24\", \"2020-09-25\", \"2020-09-26\", \"2020-09-27\", \"2020-09-28\", \"2020-09-29\", \"2020-09-30\", \"2020-10-01\", \"2020-10-02\", \"2020-10-03\", \"2020-10-04\", \"2020-10-05\", \"2020-10-06\", \"2020-10-07\", \"2020-10-08\", \"2020-10-09\", \"2020-10-10\", \"2020-10-11\", \"2020-10-12\", \"2020-10-13\", \"2020-10-14\", \"2020-10-15\", \"2020-10-16\", \"2020-10-17\", \"2020-10-18\", \"2020-10-19\", \"2020-10-20\", \"2020-10-21\", \"2020-10-22\", \"2020-10-23\", \"2020-10-24\", \"2020-10-25\", \"2020-10-26\", \"2020-10-27\", \"2020-10-28\", \"2020-10-29\", \"2020-10-30\", \"2020-10-31\", \"2020-11-01\", \"2020-11-02\", \"2020-11-03\", \"2020-11-04\", \"2020-11-05\", \"2020-11-06\", \"2020-11-07\", \"2020-11-08\", \"2020-11-09\", \"2020-11-10\", \"2020-11-11\", \"2020-11-12\", \"2020-11-13\", \"2020-11-14\", \"2020-11-15\", \"2020-11-16\", \"2020-11-17\", \"2020-11-18\", \"2020-11-19\", \"2020-11-20\", \"2020-11-21\", \"2020-11-22\", \"2020-11-23\", \"2020-11-24\", \"2020-11-25\", \"2020-11-26\", \"2020-11-27\", \"2020-11-28\", \"2020-11-29\", \"2020-11-30\", \"2020-12-01\", \"2020-12-02\", \"2020-12-03\", \"2020-12-04\", \"2020-12-05\", \"2020-12-06\", \"2020-12-07\", \"2020-12-08\", \"2020-12-09\", \"2020-12-10\", \"2020-12-11\", \"2020-12-12\", \"2020-12-13\", \"2020-12-14\", \"2020-12-15\", \"2020-12-16\", \"2020-12-17\", \"2020-12-18\", \"2020-12-19\", \"2020-12-20\", \"2020-12-21\", \"2020-12-22\", \"2020-12-23\", \"2020-12-24\", \"2020-12-25\", \"2020-12-26\", \"2020-12-27\", \"2020-12-28\", \"2020-12-29\", \"2020-12-30\", \"2020-12-31\", \"2021-01-01\", \"2021-01-02\", \"2021-01-03\", \"2021-01-04\", \"2021-01-05\", \"2021-01-06\", \"2021-01-07\", \"2021-01-08\", \"2021-01-09\", \"2021-01-10\", \"2021-01-11\", \"2021-01-12\", \"2021-01-13\", \"2021-01-14\", \"2021-01-15\", \"2021-01-16\", \"2021-01-17\", \"2021-01-18\", \"2021-01-19\", \"2021-01-20\", \"2021-01-21\", \"2021-01-22\", \"2021-01-23\", \"2021-01-24\", \"2021-01-25\", \"2021-01-26\", \"2021-01-27\", \"2021-01-28\", \"2021-01-29\", \"2021-01-30\", \"2021-01-31\", \"2021-02-01\", \"2021-02-02\", \"2021-02-03\", \"2021-02-04\", \"2021-02-05\", \"2021-02-06\", \"2021-02-07\", \"2021-02-08\", \"2021-02-09\", \"2021-02-10\", \"2021-02-11\", \"2021-02-12\", \"2021-02-13\", \"2021-02-14\", \"2021-02-15\", \"2021-02-16\", \"2021-02-17\", \"2021-02-18\", \"2021-02-19\", \"2021-02-20\", \"2021-02-21\", \"2021-02-22\", \"2021-02-23\", \"2021-02-24\", \"2021-02-25\", \"2021-02-26\", \"2021-02-27\", \"2021-02-28\", \"2021-03-01\", \"2021-03-02\", \"2021-03-03\", \"2021-03-04\", \"2021-03-05\", \"2021-03-06\", \"2021-03-07\", \"2021-03-08\", \"2021-03-09\", \"2021-03-10\"], \"y\": [0.0, 0.0, 0.0, 0.0, 0.0, 0.0, 0.0, 0.0, 0.0, 0.0, 0.0, 0.0, 0.0, 0.0, 0.0, 0.0, 0.0, 0.0, 0.0, 0.0, 0.0, 0.0, 0.0, 0.0, 0.0, 0.0, 0.0, 8.0, 20.0, 27.0, 42.0, 42.0, 56.0, 56.0, 66.0, 66.0, 78.0, 78.0, 78.0, 78.0, 104.0, 355.0, 575.0, 796.0, 845.0, 999.0, 1016.0, 1080.0, 2977.0, 3152.0, 4273.0, 4471.0, 5032.0, 5157.0, 5618.0, 6722.0, 7407.0, 8594.0, 9160.0, 10456.0, 11760.0, 12514.0, 13850.0, 15309.0, 16206.0, 18241.0, 19557.0, 20680.0, 21619.0, 22599.0, 24721.0, 29175.0, 34745.0, 36382.0, 39664.0, 48361.0, 51415.0, 56348.0, 62543.0, 69313.0, 73615.0, 79883.0, 83525.0, 94294.0, 102197.0, 112074.0, 122013.0, 131078.0, 151300.0, 163583.0, 171023.0, 181069.0, 190847.0, 202757.0, 216641.0, 259340.0, 270248.0, 281394.0, 295743.0, 306346.0, 322965.0, 343001.0, 356563.0, 368135.0, 379886.0, 398366.0, 415545.0, 433145.0, 447197.0, 461510.0, 471215.0, 479783.0, 492079.0, 523450.0, 537266.0, 558812.0, 591760.0, 603482.0, 617491.0, 631012.0, 663155.0, 684348.0, 706569.0, 731780.0, 750188.0, 761981.0, 792488.0, 930362.0, 966910.0, 990688.0, 1020024.0, 1044332.0, 1068615.0, 1113085.0, 1146728.0, 1175420.0, 1217361.0, 1244088.0, 1264843.0, 1291251.0, 1328535.0, 1367648.0, 1398471.0, 1428733.0, 1459072.0, 1489635.0, 1521443.0, 1576168.0, 1620313.0, 1693214.0, 1751922.0, 1787593.0, 1812913.0, 1848326.0, 1885035.0, 1930579.0, 1964858.0, 2008854.0, 2046101.0, 2070779.0, 2098976.0, 2157553.0, 2193786.0, 2250192.0, 2281074.0, 2321560.0, 2356983.0, 2396860.0, 2450664.0, 2506448.0, 2529245.0, 2587612.0, 2622878.0, 2661233.0, 2699080.0, 2751518.0, 2801931.0, 2844318.0, 2879361.0, 2919647.0, 2948815.0, 2987729.0, 3032551.0, 3082447.0, 3124465.0, 3158783.0, 3202185.0, 3237615.0, 3304354.0, 3353637.0, 3393078.0, 3429435.0, 3467525.0, 3499469.0, 3522155.0, 3549201.0, 3572421.0, 3611632.0, 3657701.0, 3695158.0, 3723206.0, 3748895.0, 3770138.0, 3811505.0, 3853829.0, 3873934.0, 3908897.0, 3937914.0, 3963446.0, 3979644.0, 4040987.0, 4070983.0, 4109792.0, 4130667.0, 4153267.0, 4172711.0, 4197372.0, 4237152.0, 4274774.0, 4299659.0, 4324700.0, 4361108.0, 4376667.0, 4400214.0, 4430340.0, 4458274.0, 4486954.0, 4502170.0, 4529778.0, 4553223.0, 4575656.0, 4596565.0, 4626943.0, 4655705.0, 4678510.0, 4701636.0, 4716887.0, 4736903.0, 4761602.0, 4785118.0, 4805356.0, 4824464.0, 4847528.0, 4866894.0, 4895737.0, 4914733.0, 4947777.0, 4962574.0, 4987435.0, 5005161.0, 5022438.0, 5039438.0, 5060697.0, 5078162.0, 5102762.0, 5118156.0, 5138641.0, 5147172.0, 5163226.0, 5183970.0, 5222937.0, 5254457.0, 5274812.0, 5279452.0, 5280855.0, 5335498.0, 5358299.0, 5383385.0, 5406066.0, 5430896.0, 5437189.0, 5459306.0, 5481184.0, 5509645.0, 5534010.0, 5556887.0, 5581436.0, 5583425.0, 5584588.0, 5681648.0, 5712305.0, 5759294.0, 5792539.0, 5825745.0, 5864838.0, 5869420.0, 5917337.0, 5966118.0, 5970320.0, 6043219.0, 6078287.0, 6083155.0, 6138349.0, 6158049.0, 6206483.0, 6239192.0, 6301547.0, 6322955.0, 6388938.0, 6412156.0, 6469310.0, 6501341.0, 6518805.0, 6523897.0, 6527267.0, 6654189.0, 6678793.0, 6714031.0, 6754111.0, 6814092.0, 6848844.0, 6855372.0, 6893256.0, 6904382.0, 6950045.0, 6995541.0, 7033286.0, 7081521.0, 7136817.0, 7205410.0, 7231336.0, 7273237.0, 7284945.0, 7348189.0, 7394739.0, 7438075.0, 7485823.0, 7522851.0, 7560460.0, 7618080.0, 7624849.0, 7673092.0, 7754675.0, 7791551.0, 7821376.0, 7864969.0, 7930380.0, 7964176.0, 7992906.0, 8066603.0, 8148671.0, 8176373.0, 8222431.0, 8258074.0, 8313044.0, 8366197.0, 8396148.0, 8429889.0, 8468459.0, 8478818.0, 8577207.0, 8616282.0, 8637050.0, 8719379.0, 8747504.0, 8767967.0, 8832120.0, 8859157.0, 8942046.0, 8979652.0, 9021456.0, 9070505.0, 9095692.0, 9108205.0, 9189903.0, 9214337.0, 9270500.0, 9309568.0, 9372546.0, 9382316.0, 9437611.0, 9506263.0, 9548315.0, 9605983.0, 9656255.0, 9686024.0, 9739464.0, 9827355.0, 9878566.0, 9921994.0]}],\n",
              "                        {\"legend\": {\"orientation\": \"h\", \"x\": 0.95, \"xanchor\": \"right\", \"y\": 1.01, \"yanchor\": \"bottom\"}, \"template\": {\"data\": {\"pie\": [{\"automargin\": true, \"type\": \"pie\"}]}, \"layout\": {\"xaxis\": {\"showgrid\": false, \"title\": {\"standoff\": 15}}, \"yaxis\": {\"title\": {\"standoff\": 15}}}}, \"title\": {\"text\": \"SIR Model\"}, \"xaxis\": {\"showgrid\": false, \"title\": {\"text\": \"Days\"}}},\n",
              "                        {\"responsive\": true}\n",
              "                    ).then(function(){\n",
              "                            \n",
              "var gd = document.getElementById('2d9f9ab4-d4d7-4a5e-96cf-17c69d6335d4');\n",
              "var x = new MutationObserver(function (mutations, observer) {{\n",
              "        var display = window.getComputedStyle(gd).display;\n",
              "        if (!display || display === 'none') {{\n",
              "            console.log([gd, 'removed!']);\n",
              "            Plotly.purge(gd);\n",
              "            observer.disconnect();\n",
              "        }}\n",
              "}});\n",
              "\n",
              "// Listen for the removal of the full notebook cells\n",
              "var notebookContainer = gd.closest('#notebook-container');\n",
              "if (notebookContainer) {{\n",
              "    x.observe(notebookContainer, {childList: true});\n",
              "}}\n",
              "\n",
              "// Listen for the clearing of the current output cell\n",
              "var outputEl = gd.closest('.output');\n",
              "if (outputEl) {{\n",
              "    x.observe(outputEl, {childList: true});\n",
              "}}\n",
              "\n",
              "                        })\n",
              "                };\n",
              "                \n",
              "            </script>\n",
              "        </div>\n",
              "</body>\n",
              "</html>"
            ]
          },
          "metadata": {
            "tags": []
          }
        }
      ]
    },
    {
      "cell_type": "markdown",
      "metadata": {
        "id": "8wTdNEegVYFm"
      },
      "source": [
        "## Maranhão"
      ]
    },
    {
      "cell_type": "code",
      "metadata": {
        "colab": {
          "base_uri": "https://localhost:8080/",
          "height": 0
        },
        "id": "kZ0FmtguVYFo",
        "outputId": "aa977e79-1586-48cc-8e6b-29a62171d9dc"
      },
      "source": [
        "state = 'MA'\r\n",
        "df_MA = df[df.state == state].reset_index()\r\n",
        "df_MA.head()"
      ],
      "execution_count": 367,
      "outputs": [
        {
          "output_type": "execute_result",
          "data": {
            "text/html": [
              "<div>\n",
              "<style scoped>\n",
              "    .dataframe tbody tr th:only-of-type {\n",
              "        vertical-align: middle;\n",
              "    }\n",
              "\n",
              "    .dataframe tbody tr th {\n",
              "        vertical-align: top;\n",
              "    }\n",
              "\n",
              "    .dataframe thead th {\n",
              "        text-align: right;\n",
              "    }\n",
              "</style>\n",
              "<table border=\"1\" class=\"dataframe\">\n",
              "  <thead>\n",
              "    <tr style=\"text-align: right;\">\n",
              "      <th></th>\n",
              "      <th>index</th>\n",
              "      <th>epi_week</th>\n",
              "      <th>date</th>\n",
              "      <th>country</th>\n",
              "      <th>state</th>\n",
              "      <th>city</th>\n",
              "      <th>newDeaths</th>\n",
              "      <th>deaths</th>\n",
              "      <th>newCases</th>\n",
              "      <th>totalCases</th>\n",
              "      <th>deathsMS</th>\n",
              "      <th>totalCasesMS</th>\n",
              "      <th>deaths_per_100k_inhabitants</th>\n",
              "      <th>totalCases_per_100k_inhabitants</th>\n",
              "      <th>deaths_by_totalCases</th>\n",
              "      <th>recovered</th>\n",
              "      <th>suspects</th>\n",
              "      <th>tests</th>\n",
              "      <th>tests_per_100k_inhabitants</th>\n",
              "      <th>vaccinated</th>\n",
              "      <th>vaccinated_per_100k_inhabitants</th>\n",
              "      <th>vaccinated_second</th>\n",
              "      <th>vaccinated_second_per_100k_inhabitants</th>\n",
              "    </tr>\n",
              "  </thead>\n",
              "  <tbody>\n",
              "    <tr>\n",
              "      <th>0</th>\n",
              "      <td>220</td>\n",
              "      <td>12</td>\n",
              "      <td>2020-03-20</td>\n",
              "      <td>Brazil</td>\n",
              "      <td>MA</td>\n",
              "      <td>TOTAL</td>\n",
              "      <td>0</td>\n",
              "      <td>0</td>\n",
              "      <td>1</td>\n",
              "      <td>1</td>\n",
              "      <td>0</td>\n",
              "      <td>0</td>\n",
              "      <td>0.0</td>\n",
              "      <td>0.01413</td>\n",
              "      <td>0.0</td>\n",
              "      <td>NaN</td>\n",
              "      <td>NaN</td>\n",
              "      <td>NaN</td>\n",
              "      <td>NaN</td>\n",
              "      <td>NaN</td>\n",
              "      <td>NaN</td>\n",
              "      <td>NaN</td>\n",
              "      <td>NaN</td>\n",
              "    </tr>\n",
              "    <tr>\n",
              "      <th>1</th>\n",
              "      <td>247</td>\n",
              "      <td>12</td>\n",
              "      <td>2020-03-21</td>\n",
              "      <td>Brazil</td>\n",
              "      <td>MA</td>\n",
              "      <td>TOTAL</td>\n",
              "      <td>0</td>\n",
              "      <td>0</td>\n",
              "      <td>1</td>\n",
              "      <td>2</td>\n",
              "      <td>0</td>\n",
              "      <td>1</td>\n",
              "      <td>0.0</td>\n",
              "      <td>0.02827</td>\n",
              "      <td>0.0</td>\n",
              "      <td>NaN</td>\n",
              "      <td>NaN</td>\n",
              "      <td>NaN</td>\n",
              "      <td>NaN</td>\n",
              "      <td>NaN</td>\n",
              "      <td>NaN</td>\n",
              "      <td>NaN</td>\n",
              "      <td>NaN</td>\n",
              "    </tr>\n",
              "    <tr>\n",
              "      <th>2</th>\n",
              "      <td>275</td>\n",
              "      <td>13</td>\n",
              "      <td>2020-03-22</td>\n",
              "      <td>Brazil</td>\n",
              "      <td>MA</td>\n",
              "      <td>TOTAL</td>\n",
              "      <td>0</td>\n",
              "      <td>0</td>\n",
              "      <td>0</td>\n",
              "      <td>2</td>\n",
              "      <td>0</td>\n",
              "      <td>2</td>\n",
              "      <td>0.0</td>\n",
              "      <td>0.02827</td>\n",
              "      <td>0.0</td>\n",
              "      <td>NaN</td>\n",
              "      <td>NaN</td>\n",
              "      <td>NaN</td>\n",
              "      <td>NaN</td>\n",
              "      <td>NaN</td>\n",
              "      <td>NaN</td>\n",
              "      <td>NaN</td>\n",
              "      <td>NaN</td>\n",
              "    </tr>\n",
              "    <tr>\n",
              "      <th>3</th>\n",
              "      <td>303</td>\n",
              "      <td>13</td>\n",
              "      <td>2020-03-23</td>\n",
              "      <td>Brazil</td>\n",
              "      <td>MA</td>\n",
              "      <td>TOTAL</td>\n",
              "      <td>0</td>\n",
              "      <td>0</td>\n",
              "      <td>6</td>\n",
              "      <td>8</td>\n",
              "      <td>0</td>\n",
              "      <td>2</td>\n",
              "      <td>0.0</td>\n",
              "      <td>0.11307</td>\n",
              "      <td>0.0</td>\n",
              "      <td>NaN</td>\n",
              "      <td>302.0</td>\n",
              "      <td>NaN</td>\n",
              "      <td>NaN</td>\n",
              "      <td>NaN</td>\n",
              "      <td>NaN</td>\n",
              "      <td>NaN</td>\n",
              "      <td>NaN</td>\n",
              "    </tr>\n",
              "    <tr>\n",
              "      <th>4</th>\n",
              "      <td>331</td>\n",
              "      <td>13</td>\n",
              "      <td>2020-03-24</td>\n",
              "      <td>Brazil</td>\n",
              "      <td>MA</td>\n",
              "      <td>TOTAL</td>\n",
              "      <td>0</td>\n",
              "      <td>0</td>\n",
              "      <td>0</td>\n",
              "      <td>8</td>\n",
              "      <td>0</td>\n",
              "      <td>8</td>\n",
              "      <td>0.0</td>\n",
              "      <td>0.11307</td>\n",
              "      <td>0.0</td>\n",
              "      <td>NaN</td>\n",
              "      <td>302.0</td>\n",
              "      <td>NaN</td>\n",
              "      <td>NaN</td>\n",
              "      <td>NaN</td>\n",
              "      <td>NaN</td>\n",
              "      <td>NaN</td>\n",
              "      <td>NaN</td>\n",
              "    </tr>\n",
              "  </tbody>\n",
              "</table>\n",
              "</div>"
            ],
            "text/plain": [
              "   index  epi_week  ... vaccinated_second vaccinated_second_per_100k_inhabitants\n",
              "0    220        12  ...               NaN                                    NaN\n",
              "1    247        12  ...               NaN                                    NaN\n",
              "2    275        13  ...               NaN                                    NaN\n",
              "3    303        13  ...               NaN                                    NaN\n",
              "4    331        13  ...               NaN                                    NaN\n",
              "\n",
              "[5 rows x 23 columns]"
            ]
          },
          "metadata": {
            "tags": []
          },
          "execution_count": 367
        }
      ]
    },
    {
      "cell_type": "markdown",
      "metadata": {
        "id": "1oaAUZlrVYFp"
      },
      "source": [
        "**Infectados**"
      ]
    },
    {
      "cell_type": "code",
      "metadata": {
        "id": "EJrNTy11VYFq"
      },
      "source": [
        "df_MA[\"newRecovered\"] = df_MA[\"recovered\"].diff()\r\n",
        "df_MA.newRecovered.fillna(0, inplace=True)\r\n",
        "df_MA.recovered.fillna(0, inplace=True)"
      ],
      "execution_count": 368,
      "outputs": []
    },
    {
      "cell_type": "code",
      "metadata": {
        "id": "uvoW2OeXVYFq"
      },
      "source": [
        "active_infected = [df_MA[\"totalCases\"].iloc[0]]\r\n",
        "for nc, nr in zip(df_MA[\"newCases\"].iloc[1:], \r\n",
        "                  df_MA[\"newRecovered\"].iloc[1:]):\r\n",
        "    active_infected.append(active_infected[-1] + nc - nr)\r\n",
        "df_MA[\"activeCases\"] = active_infected"
      ],
      "execution_count": 369,
      "outputs": []
    },
    {
      "cell_type": "code",
      "metadata": {
        "id": "EMC-z4e1ZN4w"
      },
      "source": [
        "import yaml\r\n",
        "\r\n",
        "# Reading states static information, such as \r\n",
        "# estimated population, size of the state...\r\n",
        "with open('/content/drive/MyDrive/Trabalho/Covid/Datasets/state_pop.yaml') as f:\r\n",
        "    state_pop = yaml.load(f)\r\n",
        "\r\n",
        "#print(state_pop)"
      ],
      "execution_count": 370,
      "outputs": []
    },
    {
      "cell_type": "code",
      "metadata": {
        "id": "WYX800VXVYFr"
      },
      "source": [
        "df_MA = df_MA.iloc[:240] #240 primeiros dias\r\n",
        "\r\n",
        "# Tamanho da população - N\r\n",
        "N = state_pop['MA']['population']\r\n",
        "\r\n",
        "# Dados Reais\r\n",
        "Id = df_MA[\"activeCases\"]\r\n",
        "Rd = df_MA[\"recovered\"]\r\n",
        "Sd = N - Rd - Id"
      ],
      "execution_count": 371,
      "outputs": []
    },
    {
      "cell_type": "code",
      "metadata": {
        "id": "OjvoqC0QVYFr"
      },
      "source": [
        "# Valores iniciais \r\n",
        "I0 = 1 \r\n",
        "R0 = 0\r\n",
        "S0 = N - I0\r\n",
        "\r\n",
        "# Vetor de condições iniciais\r\n",
        "y0 = S0, I0, R0\r\n",
        "\r\n",
        "# Beta -  taxa de contato,\r\n",
        "# r - taxa média de recuperação (in 1/dia).\r\n",
        "\r\n",
        "theta0 = [1e-4, 1e-2] # valores iniciais [Beta, r]\r\n",
        "\r\n",
        "t = np.linspace(0, len(df_MA.index.values), len(df_MA.index.values))"
      ],
      "execution_count": 372,
      "outputs": []
    },
    {
      "cell_type": "code",
      "metadata": {
        "colab": {
          "base_uri": "https://localhost:8080/"
        },
        "id": "vS_3R7hCVYFr",
        "outputId": "2c3a60b5-470b-4dad-d024-c24268218a56"
      },
      "source": [
        "(c, kvg) = optimize.leastsq(objetivo,theta0) \r\n",
        "print(c)"
      ],
      "execution_count": 373,
      "outputs": [
        {
          "output_type": "stream",
          "text": [
            "[-0.18462648  0.00535777]\n"
          ],
          "name": "stdout"
        }
      ]
    },
    {
      "cell_type": "code",
      "metadata": {
        "id": "QJ_foghzVYFt"
      },
      "source": [
        "[Ss,Is,Rs] = SIRsim(y0,t,c)"
      ],
      "execution_count": 374,
      "outputs": []
    },
    {
      "cell_type": "code",
      "metadata": {
        "colab": {
          "base_uri": "https://localhost:8080/",
          "height": 0
        },
        "id": "ZhBVeScCapuX",
        "outputId": "cc209b79-2cd0-4f30-fc6c-a785831af5c7"
      },
      "source": [
        "# Plotting the correct results components\r\n",
        "fig = go.Figure()\r\n",
        "\r\n",
        "fig.add_trace(go.Scatter(\r\n",
        "    name=\"Active Cases - Model\",\r\n",
        "    x=df_MA.date,\r\n",
        "    y=Is,\r\n",
        "    mode='lines',\r\n",
        "    line=dict(width=3, dash=\"dash\", color=\"#6a1b9a\")\r\n",
        "    ))\r\n",
        "\r\n",
        "fig.add_trace(go.Scatter(\r\n",
        "    name=\"Recovered - Model\",\r\n",
        "    x=df_MA.date,\r\n",
        "    y=Rs,\r\n",
        "    mode='lines',\r\n",
        "    line=dict(width=3, dash=\"dash\", color=\"#2e7d32\")\r\n",
        "    ))\r\n",
        "\r\n",
        "fig.add_trace(go.Scatter(\r\n",
        "    name=\"Active Cases - Data\",\r\n",
        "    x=df_MA.date,\r\n",
        "    y=Id,\r\n",
        "    mode='markers',\r\n",
        "    marker=dict(size=6, color=\"#38006b\")\r\n",
        "    ))\r\n",
        "\r\n",
        "fig.add_trace(go.Scatter(\r\n",
        "    name=\"Recovered - Data\",\r\n",
        "    x=df_MA.date,\r\n",
        "    y=Rd,\r\n",
        "    mode='markers',\r\n",
        "    marker=dict(size=6, color=\"#005005\")\r\n",
        "    ))\r\n",
        "\r\n",
        "fig.update_layout(\r\n",
        "    template='xgridoff',\r\n",
        "    xaxis=dict(showgrid=False),\r\n",
        "    xaxis_title='Days',\r\n",
        "    legend=dict(\r\n",
        "      orientation='h',\r\n",
        "      yanchor='bottom',\r\n",
        "      y=1.01,\r\n",
        "      xanchor='right',\r\n",
        "      x=0.95\r\n",
        "      ),\r\n",
        "    title_text=\"SIR Model\")\r\n",
        "\r\n",
        "fig.show()"
      ],
      "execution_count": 375,
      "outputs": [
        {
          "output_type": "display_data",
          "data": {
            "text/html": [
              "<html>\n",
              "<head><meta charset=\"utf-8\" /></head>\n",
              "<body>\n",
              "    <div>\n",
              "            <script src=\"https://cdnjs.cloudflare.com/ajax/libs/mathjax/2.7.5/MathJax.js?config=TeX-AMS-MML_SVG\"></script><script type=\"text/javascript\">if (window.MathJax) {MathJax.Hub.Config({SVG: {font: \"STIX-Web\"}});}</script>\n",
              "                <script type=\"text/javascript\">window.PlotlyConfig = {MathJaxConfig: 'local'};</script>\n",
              "        <script src=\"https://cdn.plot.ly/plotly-latest.min.js\"></script>    \n",
              "            <div id=\"35b78dfd-a11e-4457-9b47-21ccf4ed19f6\" class=\"plotly-graph-div\" style=\"height:525px; width:100%;\"></div>\n",
              "            <script type=\"text/javascript\">\n",
              "                \n",
              "                    window.PLOTLYENV=window.PLOTLYENV || {};\n",
              "                    \n",
              "                if (document.getElementById(\"35b78dfd-a11e-4457-9b47-21ccf4ed19f6\")) {\n",
              "                    Plotly.newPlot(\n",
              "                        '35b78dfd-a11e-4457-9b47-21ccf4ed19f6',\n",
              "                        [{\"line\": {\"color\": \"#6a1b9a\", \"dash\": \"dash\", \"width\": 3}, \"mode\": \"lines\", \"name\": \"Active Cases - Model\", \"type\": \"scatter\", \"x\": [\"2020-03-20\", \"2020-03-21\", \"2020-03-22\", \"2020-03-23\", \"2020-03-24\", \"2020-03-25\", \"2020-03-26\", \"2020-03-27\", \"2020-03-28\", \"2020-03-29\", \"2020-03-30\", \"2020-03-31\", \"2020-04-01\", \"2020-04-02\", \"2020-04-03\", \"2020-04-04\", \"2020-04-05\", \"2020-04-06\", \"2020-04-07\", \"2020-04-08\", \"2020-04-09\", \"2020-04-10\", \"2020-04-11\", \"2020-04-12\", \"2020-04-13\", \"2020-04-14\", \"2020-04-15\", \"2020-04-16\", \"2020-04-17\", \"2020-04-18\", \"2020-04-19\", \"2020-04-20\", \"2020-04-21\", \"2020-04-22\", \"2020-04-23\", \"2020-04-24\", \"2020-04-25\", \"2020-04-26\", \"2020-04-27\", \"2020-04-28\", \"2020-04-29\", \"2020-04-30\", \"2020-05-01\", \"2020-05-02\", \"2020-05-03\", \"2020-05-04\", \"2020-05-05\", \"2020-05-06\", \"2020-05-07\", \"2020-05-08\", \"2020-05-09\", \"2020-05-10\", \"2020-05-11\", \"2020-05-12\", \"2020-05-13\", \"2020-05-14\", \"2020-05-15\", \"2020-05-16\", \"2020-05-17\", \"2020-05-18\", \"2020-05-19\", \"2020-05-20\", \"2020-05-21\", \"2020-05-22\", \"2020-05-23\", \"2020-05-24\", \"2020-05-25\", \"2020-05-26\", \"2020-05-27\", \"2020-05-28\", \"2020-05-29\", \"2020-05-30\", \"2020-05-31\", \"2020-06-01\", \"2020-06-02\", \"2020-06-03\", \"2020-06-04\", \"2020-06-05\", \"2020-06-06\", \"2020-06-07\", \"2020-06-08\", \"2020-06-09\", \"2020-06-10\", \"2020-06-11\", \"2020-06-12\", \"2020-06-13\", \"2020-06-14\", \"2020-06-15\", \"2020-06-16\", \"2020-06-17\", \"2020-06-18\", \"2020-06-19\", \"2020-06-20\", \"2020-06-21\", \"2020-06-22\", \"2020-06-23\", \"2020-06-24\", \"2020-06-25\", \"2020-06-26\", \"2020-06-27\", \"2020-06-28\", \"2020-06-29\", \"2020-06-30\", \"2020-07-01\", \"2020-07-02\", \"2020-07-03\", \"2020-07-04\", \"2020-07-05\", \"2020-07-06\", \"2020-07-07\", \"2020-07-08\", \"2020-07-09\", \"2020-07-10\", \"2020-07-11\", \"2020-07-12\", \"2020-07-13\", \"2020-07-14\", \"2020-07-15\", \"2020-07-16\", \"2020-07-17\", \"2020-07-18\", \"2020-07-19\", \"2020-07-20\", \"2020-07-21\", \"2020-07-22\", \"2020-07-23\", \"2020-07-24\", \"2020-07-25\", \"2020-07-26\", \"2020-07-27\", \"2020-07-28\", \"2020-07-29\", \"2020-07-30\", \"2020-07-31\", \"2020-08-01\", \"2020-08-02\", \"2020-08-03\", \"2020-08-04\", \"2020-08-05\", \"2020-08-06\", \"2020-08-07\", \"2020-08-08\", \"2020-08-09\", \"2020-08-10\", \"2020-08-11\", \"2020-08-12\", \"2020-08-13\", \"2020-08-14\", \"2020-08-15\", \"2020-08-16\", \"2020-08-17\", \"2020-08-18\", \"2020-08-19\", \"2020-08-20\", \"2020-08-21\", \"2020-08-22\", \"2020-08-23\", \"2020-08-24\", \"2020-08-25\", \"2020-08-26\", \"2020-08-27\", \"2020-08-28\", \"2020-08-29\", \"2020-08-30\", \"2020-08-31\", \"2020-09-01\", \"2020-09-02\", \"2020-09-03\", \"2020-09-04\", \"2020-09-05\", \"2020-09-06\", \"2020-09-07\", \"2020-09-08\", \"2020-09-09\", \"2020-09-10\", \"2020-09-11\", \"2020-09-12\", \"2020-09-13\", \"2020-09-14\", \"2020-09-15\", \"2020-09-16\", \"2020-09-17\", \"2020-09-18\", \"2020-09-19\", \"2020-09-20\", \"2020-09-21\", \"2020-09-22\", \"2020-09-23\", \"2020-09-24\", \"2020-09-25\", \"2020-09-26\", \"2020-09-27\", \"2020-09-28\", \"2020-09-29\", \"2020-09-30\", \"2020-10-01\", \"2020-10-02\", \"2020-10-03\", \"2020-10-04\", \"2020-10-05\", \"2020-10-06\", \"2020-10-07\", \"2020-10-08\", \"2020-10-09\", \"2020-10-10\", \"2020-10-11\", \"2020-10-12\", \"2020-10-13\", \"2020-10-14\", \"2020-10-15\", \"2020-10-16\", \"2020-10-17\", \"2020-10-18\", \"2020-10-19\", \"2020-10-20\", \"2020-10-21\", \"2020-10-22\", \"2020-10-23\", \"2020-10-24\", \"2020-10-25\", \"2020-10-26\", \"2020-10-27\", \"2020-10-28\", \"2020-10-29\", \"2020-10-30\", \"2020-10-31\", \"2020-11-01\", \"2020-11-02\", \"2020-11-03\", \"2020-11-04\", \"2020-11-05\", \"2020-11-06\", \"2020-11-07\", \"2020-11-08\", \"2020-11-09\", \"2020-11-10\", \"2020-11-11\", \"2020-11-12\", \"2020-11-13\", \"2020-11-14\"], \"y\": [1.0, 4.3910540710252536e-44, 2.165499658468191e-44, 9.980768779777131e-49, 5.831434187525726e-49, 1.6820995952743205e-49, 1.757151375948995e-54, 1.683106366771105e-54, 1.6090613575932146e-54, 1.5350163484153246e-54, 1.4609713392374346e-54, 1.3869263300595444e-54, 1.3128813208816544e-54, 1.2388363117037644e-54, 1.1647913025258743e-54, 1.0907462933479841e-54, 1.0167012841700941e-54, 9.42656274992204e-55, 8.68611265814314e-55, 7.945662566364239e-55, 7.205212474585339e-55, 6.4647623828064375e-55, 5.7243122910275376e-55, 4.983862199248637e-55, 4.2434121074697356e-55, 3.502962015690835e-55, 2.7625119239119347e-55, 2.0220618321330338e-55, 1.2816117403541333e-55, 5.411616485752327e-56, 9.630370217191347e-59, 9.230000597812418e-59, 8.82963097843349e-59, 8.429261359054561e-59, 8.028891739675632e-59, 7.628522120296706e-59, 7.228152500917776e-59, 6.827782881538846e-59, 6.42741326215992e-59, 6.027043642780992e-59, 5.626674023402062e-59, 5.226304404023132e-59, 4.8259347846442055e-59, 4.425565165265279e-59, 4.025195545886349e-59, 3.6248259265074188e-59, 3.224456307128492e-59, 2.8240866877495652e-59, 2.4237170683706356e-59, 2.0233474489917055e-59, 1.6229778296127787e-59, 1.2226082102338515e-59, 8.222385908549217e-60, 4.218689714759919e-60, 2.149935209706491e-61, 2.0340609571856842e-65, 2.0256662514244666e-65, 2.017271545663249e-65, 2.0088768399020317e-65, 2.000482134140814e-65, 1.992087428379597e-65, 1.983692722618379e-65, 1.9752980168571616e-65, 1.966903311095944e-65, 1.9585086053347263e-65, 1.950113899573509e-65, 1.9417191938122914e-65, 1.933324488051074e-65, 1.9249297822898566e-65, 1.916535076528639e-65, 1.9081403707674217e-65, 1.899745665006204e-65, 1.8913509592449866e-65, 1.882956253483769e-65, 1.8745615477225515e-65, 1.8661668419613341e-65, 1.8577721362001167e-65, 1.849377430438899e-65, 1.8409827246776816e-65, 1.8325880189164642e-65, 1.8241933131552467e-65, 1.8157986073940293e-65, 1.8074039016328117e-65, 1.7990091958715942e-65, 1.7906144901103766e-65, 1.7822197843491591e-65, 1.7738250785879417e-65, 1.7654303728267243e-65, 1.7570356670655066e-65, 1.7486409613042888e-65, 1.7402462555430714e-65, 1.731851549781854e-65, 1.723456844020637e-65, 1.715062138259419e-65, 1.7066674324982016e-65, 1.698272726736984e-65, 1.6898780209757665e-65, 1.6814833152145491e-65, 1.6730886094533315e-65, 1.664693903692114e-65, 1.6562991979308964e-65, 1.647904492169679e-65, 1.6395097864084615e-65, 1.631115080647244e-65, 1.6227203748860267e-65, 1.614325669124809e-65, 1.6059309633635916e-65, 1.5975362576023741e-65, 1.5891415518411567e-65, 1.580746846079939e-65, 1.5723521403187216e-65, 1.563957434557504e-65, 1.5555627287962866e-65, 1.5471680230350691e-65, 1.5387733172738515e-65, 1.530378611512634e-65, 1.5219839057514164e-65, 1.5135891999901992e-65, 1.5051944942289818e-65, 1.4967997884677643e-65, 1.4884050827065467e-65, 1.480010376945329e-65, 1.4716156711841116e-65, 1.4632209654228942e-65, 1.4548262596616767e-65, 1.446431553900459e-65, 1.4380368481392417e-65, 1.429642142378024e-65, 1.4212474366168066e-65, 1.4128527308555891e-65, 1.4044580250943717e-65, 1.3960633193331543e-65, 1.3876686135719366e-65, 1.3792739078107192e-65, 1.3708792020495018e-65, 1.3624844962882841e-65, 1.3540897905270667e-65, 1.3456950847658493e-65, 1.3373003790046316e-65, 1.3289056732434142e-65, 1.3205109674821968e-65, 1.3121162617209791e-65, 1.3037215559597617e-65, 1.2953268501985442e-65, 1.2869321444373268e-65, 1.2785374386761094e-65, 1.2701427329148915e-65, 1.261748027153674e-65, 1.2533533213924564e-65, 1.244958615631239e-65, 1.2365639098700216e-65, 1.228169204108804e-65, 1.2197744983475865e-65, 1.211379792586369e-65, 1.2029850868251514e-65, 1.1945903810639342e-65, 1.1861956753027168e-65, 1.1778009695414991e-65, 1.1694062637802817e-65, 1.161011558019064e-65, 1.1526168522578466e-65, 1.1442221464966292e-65, 1.1358274407354115e-65, 1.1274327349741941e-65, 1.1190380292129765e-65, 1.110643323451759e-65, 1.1022486176905416e-65, 1.093853911929324e-65, 1.0854592061681067e-65, 1.0770645004068893e-65, 1.0686697946456717e-65, 1.0602750888844542e-65, 1.0518803831232368e-65, 1.0434856773620192e-65, 1.0350909716008017e-65, 1.026696265839584e-65, 1.0183015600783666e-65, 1.0099068543171492e-65, 1.0015121485559316e-65, 9.931174427947141e-66, 9.847227370334965e-66, 9.76328031272279e-66, 9.679333255110616e-66, 9.59538619749844e-66, 9.511439139886268e-66, 9.427492082274093e-66, 9.343545024661916e-66, 9.259597967049741e-66, 9.175650909437567e-66, 9.091703851825391e-66, 9.007756794213217e-66, 8.923809736601041e-66, 8.839862678988867e-66, 8.755915621376692e-66, 8.671968563764516e-66, 8.588021506152342e-66, 8.504074448540165e-66, 8.420127390927992e-66, 8.336180333315817e-66, 8.252233275703641e-66, 8.168286218091467e-66, 8.084339160479292e-66, 8.000392102867116e-66, 7.916445045254943e-66, 7.832497987642768e-66, 7.748550930030592e-66, 7.664603872418418e-66, 7.580656814806241e-66, 7.496709757194067e-66, 7.412762699581894e-66, 7.328815641969717e-66, 7.244868584357543e-66, 7.160921526745365e-66, 7.076974469133191e-66, 6.993027411521017e-66, 6.90908035390884e-66, 6.825133296296667e-66, 6.741186238684493e-66, 6.657239181072316e-66, 6.573292123460142e-66, 6.489345065847968e-66, 6.405398008235791e-66, 6.321450950623618e-66, 6.237503893011441e-66, 6.153556835399267e-66, 6.069609777787093e-66, 5.985662720174916e-66, 5.901715662562742e-66, 5.817768604950565e-66, 5.733821547338392e-66, 5.649874489726218e-66, 5.565927432114041e-66, 5.481980374501867e-66, 5.398033316889693e-66, 5.314086259277516e-66, 5.230139201665343e-66, 5.146192144053169e-66, 5.062245086440992e-66, 4.978298028828818e-66, 4.894350971216642e-66]}, {\"line\": {\"color\": \"#2e7d32\", \"dash\": \"dash\", \"width\": 3}, \"mode\": \"lines\", \"name\": \"Recovered - Model\", \"type\": \"scatter\", \"x\": [\"2020-03-20\", \"2020-03-21\", \"2020-03-22\", \"2020-03-23\", \"2020-03-24\", \"2020-03-25\", \"2020-03-26\", \"2020-03-27\", \"2020-03-28\", \"2020-03-29\", \"2020-03-30\", \"2020-03-31\", \"2020-04-01\", \"2020-04-02\", \"2020-04-03\", \"2020-04-04\", \"2020-04-05\", \"2020-04-06\", \"2020-04-07\", \"2020-04-08\", \"2020-04-09\", \"2020-04-10\", \"2020-04-11\", \"2020-04-12\", \"2020-04-13\", \"2020-04-14\", \"2020-04-15\", \"2020-04-16\", \"2020-04-17\", \"2020-04-18\", \"2020-04-19\", \"2020-04-20\", \"2020-04-21\", \"2020-04-22\", \"2020-04-23\", \"2020-04-24\", \"2020-04-25\", \"2020-04-26\", \"2020-04-27\", \"2020-04-28\", \"2020-04-29\", \"2020-04-30\", \"2020-05-01\", \"2020-05-02\", \"2020-05-03\", \"2020-05-04\", \"2020-05-05\", \"2020-05-06\", \"2020-05-07\", \"2020-05-08\", \"2020-05-09\", \"2020-05-10\", \"2020-05-11\", \"2020-05-12\", \"2020-05-13\", \"2020-05-14\", \"2020-05-15\", \"2020-05-16\", \"2020-05-17\", \"2020-05-18\", \"2020-05-19\", \"2020-05-20\", \"2020-05-21\", \"2020-05-22\", \"2020-05-23\", \"2020-05-24\", \"2020-05-25\", \"2020-05-26\", \"2020-05-27\", \"2020-05-28\", \"2020-05-29\", \"2020-05-30\", \"2020-05-31\", \"2020-06-01\", \"2020-06-02\", \"2020-06-03\", \"2020-06-04\", \"2020-06-05\", \"2020-06-06\", \"2020-06-07\", \"2020-06-08\", \"2020-06-09\", \"2020-06-10\", \"2020-06-11\", \"2020-06-12\", \"2020-06-13\", \"2020-06-14\", \"2020-06-15\", \"2020-06-16\", \"2020-06-17\", \"2020-06-18\", \"2020-06-19\", \"2020-06-20\", \"2020-06-21\", \"2020-06-22\", \"2020-06-23\", \"2020-06-24\", \"2020-06-25\", \"2020-06-26\", \"2020-06-27\", \"2020-06-28\", \"2020-06-29\", \"2020-06-30\", \"2020-07-01\", \"2020-07-02\", \"2020-07-03\", \"2020-07-04\", \"2020-07-05\", \"2020-07-06\", \"2020-07-07\", \"2020-07-08\", \"2020-07-09\", \"2020-07-10\", \"2020-07-11\", \"2020-07-12\", \"2020-07-13\", \"2020-07-14\", \"2020-07-15\", \"2020-07-16\", \"2020-07-17\", \"2020-07-18\", \"2020-07-19\", \"2020-07-20\", \"2020-07-21\", \"2020-07-22\", \"2020-07-23\", \"2020-07-24\", \"2020-07-25\", \"2020-07-26\", \"2020-07-27\", \"2020-07-28\", \"2020-07-29\", \"2020-07-30\", \"2020-07-31\", \"2020-08-01\", \"2020-08-02\", \"2020-08-03\", \"2020-08-04\", \"2020-08-05\", \"2020-08-06\", \"2020-08-07\", \"2020-08-08\", \"2020-08-09\", \"2020-08-10\", \"2020-08-11\", \"2020-08-12\", \"2020-08-13\", \"2020-08-14\", \"2020-08-15\", \"2020-08-16\", \"2020-08-17\", \"2020-08-18\", \"2020-08-19\", \"2020-08-20\", \"2020-08-21\", \"2020-08-22\", \"2020-08-23\", \"2020-08-24\", \"2020-08-25\", \"2020-08-26\", \"2020-08-27\", \"2020-08-28\", \"2020-08-29\", \"2020-08-30\", \"2020-08-31\", \"2020-09-01\", \"2020-09-02\", \"2020-09-03\", \"2020-09-04\", \"2020-09-05\", \"2020-09-06\", \"2020-09-07\", \"2020-09-08\", \"2020-09-09\", \"2020-09-10\", \"2020-09-11\", \"2020-09-12\", \"2020-09-13\", \"2020-09-14\", \"2020-09-15\", \"2020-09-16\", \"2020-09-17\", \"2020-09-18\", \"2020-09-19\", \"2020-09-20\", \"2020-09-21\", \"2020-09-22\", \"2020-09-23\", \"2020-09-24\", \"2020-09-25\", \"2020-09-26\", \"2020-09-27\", \"2020-09-28\", \"2020-09-29\", \"2020-09-30\", \"2020-10-01\", \"2020-10-02\", \"2020-10-03\", \"2020-10-04\", \"2020-10-05\", \"2020-10-06\", \"2020-10-07\", \"2020-10-08\", \"2020-10-09\", \"2020-10-10\", \"2020-10-11\", \"2020-10-12\", \"2020-10-13\", \"2020-10-14\", \"2020-10-15\", \"2020-10-16\", \"2020-10-17\", \"2020-10-18\", \"2020-10-19\", \"2020-10-20\", \"2020-10-21\", \"2020-10-22\", \"2020-10-23\", \"2020-10-24\", \"2020-10-25\", \"2020-10-26\", \"2020-10-27\", \"2020-10-28\", \"2020-10-29\", \"2020-10-30\", \"2020-10-31\", \"2020-11-01\", \"2020-11-02\", \"2020-11-03\", \"2020-11-04\", \"2020-11-05\", \"2020-11-06\", \"2020-11-07\", \"2020-11-08\", \"2020-11-09\", \"2020-11-10\", \"2020-11-11\", \"2020-11-12\", \"2020-11-13\", \"2020-11-14\"], \"y\": [0.0, 4.101594697755439e-09, 4.101594697755439e-09, 4.101594697755439e-09, 4.101594697755439e-09, 4.101594697755439e-09, 4.101594697755439e-09, 4.101594697755439e-09, 4.101594697755439e-09, 4.101594697755439e-09, 4.101594697755439e-09, 4.101594697755439e-09, 4.101594697755439e-09, 4.101594697755439e-09, 4.101594697755439e-09, 4.101594697755439e-09, 4.101594697755439e-09, 4.101594697755439e-09, 4.101594697755439e-09, 4.101594697755439e-09, 4.101594697755439e-09, 4.101594697755439e-09, 4.101594697755439e-09, 4.101594697755439e-09, 4.101594697755439e-09, 4.101594697755439e-09, 4.101594697755439e-09, 4.101594697755439e-09, 4.101594697755439e-09, 4.101594697755439e-09, 4.101594697755439e-09, 4.101594697755439e-09, 4.101594697755439e-09, 4.101594697755439e-09, 4.101594697755439e-09, 4.101594697755439e-09, 4.101594697755439e-09, 4.101594697755439e-09, 4.101594697755439e-09, 4.101594697755439e-09, 4.101594697755439e-09, 4.101594697755439e-09, 4.101594697755439e-09, 4.101594697755439e-09, 4.101594697755439e-09, 4.101594697755439e-09, 4.101594697755439e-09, 4.101594697755439e-09, 4.101594697755439e-09, 4.101594697755439e-09, 4.101594697755439e-09, 4.101594697755439e-09, 4.101594697755439e-09, 4.101594697755439e-09, 4.101594697755439e-09, 4.101594697755439e-09, 4.101594697755439e-09, 4.101594697755439e-09, 4.101594697755439e-09, 4.101594697755439e-09, 4.101594697755439e-09, 4.101594697755439e-09, 4.101594697755439e-09, 4.101594697755439e-09, 4.101594697755439e-09, 4.101594697755439e-09, 4.101594697755439e-09, 4.101594697755439e-09, 4.101594697755439e-09, 4.101594697755439e-09, 4.101594697755439e-09, 4.101594697755439e-09, 4.101594697755439e-09, 4.101594697755439e-09, 4.101594697755439e-09, 4.101594697755439e-09, 4.101594697755439e-09, 4.101594697755439e-09, 4.101594697755439e-09, 4.101594697755439e-09, 4.101594697755439e-09, 4.101594697755439e-09, 4.101594697755439e-09, 4.101594697755439e-09, 4.101594697755439e-09, 4.101594697755439e-09, 4.101594697755439e-09, 4.101594697755439e-09, 4.101594697755439e-09, 4.101594697755439e-09, 4.101594697755439e-09, 4.101594697755439e-09, 4.101594697755439e-09, 4.101594697755439e-09, 4.101594697755439e-09, 4.101594697755439e-09, 4.101594697755439e-09, 4.101594697755439e-09, 4.101594697755439e-09, 4.101594697755439e-09, 4.101594697755439e-09, 4.101594697755439e-09, 4.101594697755439e-09, 4.101594697755439e-09, 4.101594697755439e-09, 4.101594697755439e-09, 4.101594697755439e-09, 4.101594697755439e-09, 4.101594697755439e-09, 4.101594697755439e-09, 4.101594697755439e-09, 4.101594697755439e-09, 4.101594697755439e-09, 4.101594697755439e-09, 4.101594697755439e-09, 4.101594697755439e-09, 4.101594697755439e-09, 4.101594697755439e-09, 4.101594697755439e-09, 4.101594697755439e-09, 4.101594697755439e-09, 4.101594697755439e-09, 4.101594697755439e-09, 4.101594697755439e-09, 4.101594697755439e-09, 4.101594697755439e-09, 4.101594697755439e-09, 4.101594697755439e-09, 4.101594697755439e-09, 4.101594697755439e-09, 4.101594697755439e-09, 4.101594697755439e-09, 4.101594697755439e-09, 4.101594697755439e-09, 4.101594697755439e-09, 4.101594697755439e-09, 4.101594697755439e-09, 4.101594697755439e-09, 4.101594697755439e-09, 4.101594697755439e-09, 4.101594697755439e-09, 4.101594697755439e-09, 4.101594697755439e-09, 4.101594697755439e-09, 4.101594697755439e-09, 4.101594697755439e-09, 4.101594697755439e-09, 4.101594697755439e-09, 4.101594697755439e-09, 4.101594697755439e-09, 4.101594697755439e-09, 4.101594697755439e-09, 4.101594697755439e-09, 4.101594697755439e-09, 4.101594697755439e-09, 4.101594697755439e-09, 4.101594697755439e-09, 4.101594697755439e-09, 4.101594697755439e-09, 4.101594697755439e-09, 4.101594697755439e-09, 4.101594697755439e-09, 4.101594697755439e-09, 4.101594697755439e-09, 4.101594697755439e-09, 4.101594697755439e-09, 4.101594697755439e-09, 4.101594697755439e-09, 4.101594697755439e-09, 4.101594697755439e-09, 4.101594697755439e-09, 4.101594697755439e-09, 4.101594697755439e-09, 4.101594697755439e-09, 4.101594697755439e-09, 4.101594697755439e-09, 4.101594697755439e-09, 4.101594697755439e-09, 4.101594697755439e-09, 4.101594697755439e-09, 4.101594697755439e-09, 4.101594697755439e-09, 4.101594697755439e-09, 4.101594697755439e-09, 4.101594697755439e-09, 4.101594697755439e-09, 4.101594697755439e-09, 4.101594697755439e-09, 4.101594697755439e-09, 4.101594697755439e-09, 4.101594697755439e-09, 4.101594697755439e-09, 4.101594697755439e-09, 4.101594697755439e-09, 4.101594697755439e-09, 4.101594697755439e-09, 4.101594697755439e-09, 4.101594697755439e-09, 4.101594697755439e-09, 4.101594697755439e-09, 4.101594697755439e-09, 4.101594697755439e-09, 4.101594697755439e-09, 4.101594697755439e-09, 4.101594697755439e-09, 4.101594697755439e-09, 4.101594697755439e-09, 4.101594697755439e-09, 4.101594697755439e-09, 4.101594697755439e-09, 4.101594697755439e-09, 4.101594697755439e-09, 4.101594697755439e-09, 4.101594697755439e-09, 4.101594697755439e-09, 4.101594697755439e-09, 4.101594697755439e-09, 4.101594697755439e-09, 4.101594697755439e-09, 4.101594697755439e-09, 4.101594697755439e-09, 4.101594697755439e-09, 4.101594697755439e-09, 4.101594697755439e-09, 4.101594697755439e-09, 4.101594697755439e-09, 4.101594697755439e-09, 4.101594697755439e-09, 4.101594697755439e-09, 4.101594697755439e-09, 4.101594697755439e-09, 4.101594697755439e-09, 4.101594697755439e-09, 4.101594697755439e-09, 4.101594697755439e-09, 4.101594697755439e-09, 4.101594697755439e-09, 4.101594697755439e-09, 4.101594697755439e-09, 4.101594697755439e-09]}, {\"marker\": {\"color\": \"#38006b\", \"size\": 6}, \"mode\": \"markers\", \"name\": \"Active Cases - Data\", \"type\": \"scatter\", \"x\": [\"2020-03-20\", \"2020-03-21\", \"2020-03-22\", \"2020-03-23\", \"2020-03-24\", \"2020-03-25\", \"2020-03-26\", \"2020-03-27\", \"2020-03-28\", \"2020-03-29\", \"2020-03-30\", \"2020-03-31\", \"2020-04-01\", \"2020-04-02\", \"2020-04-03\", \"2020-04-04\", \"2020-04-05\", \"2020-04-06\", \"2020-04-07\", \"2020-04-08\", \"2020-04-09\", \"2020-04-10\", \"2020-04-11\", \"2020-04-12\", \"2020-04-13\", \"2020-04-14\", \"2020-04-15\", \"2020-04-16\", \"2020-04-17\", \"2020-04-18\", \"2020-04-19\", \"2020-04-20\", \"2020-04-21\", \"2020-04-22\", \"2020-04-23\", \"2020-04-24\", \"2020-04-25\", \"2020-04-26\", \"2020-04-27\", \"2020-04-28\", \"2020-04-29\", \"2020-04-30\", \"2020-05-01\", \"2020-05-02\", \"2020-05-03\", \"2020-05-04\", \"2020-05-05\", \"2020-05-06\", \"2020-05-07\", \"2020-05-08\", \"2020-05-09\", \"2020-05-10\", \"2020-05-11\", \"2020-05-12\", \"2020-05-13\", \"2020-05-14\", \"2020-05-15\", \"2020-05-16\", \"2020-05-17\", \"2020-05-18\", \"2020-05-19\", \"2020-05-20\", \"2020-05-21\", \"2020-05-22\", \"2020-05-23\", \"2020-05-24\", \"2020-05-25\", \"2020-05-26\", \"2020-05-27\", \"2020-05-28\", \"2020-05-29\", \"2020-05-30\", \"2020-05-31\", \"2020-06-01\", \"2020-06-02\", \"2020-06-03\", \"2020-06-04\", \"2020-06-05\", \"2020-06-06\", \"2020-06-07\", \"2020-06-08\", \"2020-06-09\", \"2020-06-10\", \"2020-06-11\", \"2020-06-12\", \"2020-06-13\", \"2020-06-14\", \"2020-06-15\", \"2020-06-16\", \"2020-06-17\", \"2020-06-18\", \"2020-06-19\", \"2020-06-20\", \"2020-06-21\", \"2020-06-22\", \"2020-06-23\", \"2020-06-24\", \"2020-06-25\", \"2020-06-26\", \"2020-06-27\", \"2020-06-28\", \"2020-06-29\", \"2020-06-30\", \"2020-07-01\", \"2020-07-02\", \"2020-07-03\", \"2020-07-04\", \"2020-07-05\", \"2020-07-06\", \"2020-07-07\", \"2020-07-08\", \"2020-07-09\", \"2020-07-10\", \"2020-07-11\", \"2020-07-12\", \"2020-07-13\", \"2020-07-14\", \"2020-07-15\", \"2020-07-16\", \"2020-07-17\", \"2020-07-18\", \"2020-07-19\", \"2020-07-20\", \"2020-07-21\", \"2020-07-22\", \"2020-07-23\", \"2020-07-24\", \"2020-07-25\", \"2020-07-26\", \"2020-07-27\", \"2020-07-28\", \"2020-07-29\", \"2020-07-30\", \"2020-07-31\", \"2020-08-01\", \"2020-08-02\", \"2020-08-03\", \"2020-08-04\", \"2020-08-05\", \"2020-08-06\", \"2020-08-07\", \"2020-08-08\", \"2020-08-09\", \"2020-08-10\", \"2020-08-11\", \"2020-08-12\", \"2020-08-13\", \"2020-08-14\", \"2020-08-15\", \"2020-08-16\", \"2020-08-17\", \"2020-08-18\", \"2020-08-19\", \"2020-08-20\", \"2020-08-21\", \"2020-08-22\", \"2020-08-23\", \"2020-08-24\", \"2020-08-25\", \"2020-08-26\", \"2020-08-27\", \"2020-08-28\", \"2020-08-29\", \"2020-08-30\", \"2020-08-31\", \"2020-09-01\", \"2020-09-02\", \"2020-09-03\", \"2020-09-04\", \"2020-09-05\", \"2020-09-06\", \"2020-09-07\", \"2020-09-08\", \"2020-09-09\", \"2020-09-10\", \"2020-09-11\", \"2020-09-12\", \"2020-09-13\", \"2020-09-14\", \"2020-09-15\", \"2020-09-16\", \"2020-09-17\", \"2020-09-18\", \"2020-09-19\", \"2020-09-20\", \"2020-09-21\", \"2020-09-22\", \"2020-09-23\", \"2020-09-24\", \"2020-09-25\", \"2020-09-26\", \"2020-09-27\", \"2020-09-28\", \"2020-09-29\", \"2020-09-30\", \"2020-10-01\", \"2020-10-02\", \"2020-10-03\", \"2020-10-04\", \"2020-10-05\", \"2020-10-06\", \"2020-10-07\", \"2020-10-08\", \"2020-10-09\", \"2020-10-10\", \"2020-10-11\", \"2020-10-12\", \"2020-10-13\", \"2020-10-14\", \"2020-10-15\", \"2020-10-16\", \"2020-10-17\", \"2020-10-18\", \"2020-10-19\", \"2020-10-20\", \"2020-10-21\", \"2020-10-22\", \"2020-10-23\", \"2020-10-24\", \"2020-10-25\", \"2020-10-26\", \"2020-10-27\", \"2020-10-28\", \"2020-10-29\", \"2020-10-30\", \"2020-10-31\", \"2020-11-01\", \"2020-11-02\", \"2020-11-03\", \"2020-11-04\", \"2020-11-05\", \"2020-11-06\", \"2020-11-07\", \"2020-11-08\", \"2020-11-09\", \"2020-11-10\", \"2020-11-11\", \"2020-11-12\", \"2020-11-13\", \"2020-11-14\"], \"y\": [1.0, 2.0, 2.0, 8.0, 8.0, 8.0, 10.0, 13.0, 15.0, 21.0, 30.0, 51.0, 70.0, 80.0, 87.0, 95.0, 132.0, 171.0, 196.0, 239.0, 255.0, 302.0, 345.0, 389.0, 422.0, 566.0, 620.0, 713.0, 956.0, 1108.0, 1200.0, 1280.0, 1457.0, 1598.0, 1749.0, 1867.0, 1928.0, 1959.0, 2007.0, 2216.0, 2448.0, 2734.0, 2946.0, 3125.0, 3234.0, 3427.0, 3825.0, 3962.0, 4387.0, 5190.0, 5994.0, 6414.0, 6732.0, 7247.0, 7284.0, 8160.0, 8843.0, 9675.0, 10369.0, 11212.0, 12091.0, 12746.0, 13548.0, 14890.0, 17129.0, 17527.0, 18349.0, 19493.0, 20874.0, 22430.0, 23993.0, 25686.0, 25089.0, 25164.0, 25445.0, 26627.0, 27696.0, 27571.0, 27325.0, 26735.0, 26111.0, 26961.0, 26725.0, 26174.0, 26048.0, 25310.0, 25652.0, 25138.0, 25744.0, 25361.0, 24330.0, 24682.0, 23668.0, 23135.0, 22925.0, 24257.0, 21415.0, 21146.0, 20873.0, 20757.0, 20155.0, 19881.0, 19370.0, 20112.0, 21221.0, 20685.0, 20414.0, 20721.0, 20648.0, 21173.0, 22024.0, 24408.0, 21160.0, 21489.0, 21149.0, 22027.0, 23664.0, 18313.0, 17079.0, 18136.0, 15744.0, 15380.0, 15476.0, 15312.0, 15277.0, 14649.0, 12325.0, 12398.0, 12264.0, 11725.0, 12960.0, 12035.0, 13603.0, 12105.0, 12407.0, 12432.0, 11786.0, 11840.0, 10728.0, 10897.0, 11028.0, 11107.0, 11144.0, 10211.0, 10229.0, 9505.0, 10433.0, 11300.0, 12256.0, 11087.0, 11178.0, 11541.0, 11423.0, 11457.0, 11382.0, 11474.0, 11690.0, 11441.0, 11454.0, 11835.0, 11699.0, 11676.0, 11880.0, 11938.0, 11100.0, 11038.0, 11717.0, 12966.0, 11759.0, 12551.0, 12757.0, 12219.0, 10916.0, 11992.0, 10009.0, 10062.0, 10544.0, 10651.0, 11066.0, 10201.0, 9386.0, 10115.0, 9394.0, 9535.0, 9378.0, 9468.0, 10433.0, 11210.0, 9130.0, 9867.0, 10424.0, 9318.0, 9739.0, 8965.0, 9684.0, 10315.0, 8914.0, 9344.0, 9514.0, 8639.0, 9169.0, 9881.0, 10470.0, 11078.0, 11435.0, 7591.0, 6818.0, 6568.0, 6542.0, 6725.0, 6815.0, 6912.0, 6919.0, 7145.0, 7169.0, 7294.0, 7182.0, 7481.0, 7474.0, 7546.0, 7523.0, 8069.0, 7518.0, 7859.0, 6663.0, 6524.0, 6570.0, 6606.0, 6731.0, 7094.0, 7083.0, 7188.0, 7153.0, 7150.0, 7072.0, 6975.0, 7339.0, 7012.0, 6538.0, 6718.0]}, {\"marker\": {\"color\": \"#005005\", \"size\": 6}, \"mode\": \"markers\", \"name\": \"Recovered - Data\", \"type\": \"scatter\", \"x\": [\"2020-03-20\", \"2020-03-21\", \"2020-03-22\", \"2020-03-23\", \"2020-03-24\", \"2020-03-25\", \"2020-03-26\", \"2020-03-27\", \"2020-03-28\", \"2020-03-29\", \"2020-03-30\", \"2020-03-31\", \"2020-04-01\", \"2020-04-02\", \"2020-04-03\", \"2020-04-04\", \"2020-04-05\", \"2020-04-06\", \"2020-04-07\", \"2020-04-08\", \"2020-04-09\", \"2020-04-10\", \"2020-04-11\", \"2020-04-12\", \"2020-04-13\", \"2020-04-14\", \"2020-04-15\", \"2020-04-16\", \"2020-04-17\", \"2020-04-18\", \"2020-04-19\", \"2020-04-20\", \"2020-04-21\", \"2020-04-22\", \"2020-04-23\", \"2020-04-24\", \"2020-04-25\", \"2020-04-26\", \"2020-04-27\", \"2020-04-28\", \"2020-04-29\", \"2020-04-30\", \"2020-05-01\", \"2020-05-02\", \"2020-05-03\", \"2020-05-04\", \"2020-05-05\", \"2020-05-06\", \"2020-05-07\", \"2020-05-08\", \"2020-05-09\", \"2020-05-10\", \"2020-05-11\", \"2020-05-12\", \"2020-05-13\", \"2020-05-14\", \"2020-05-15\", \"2020-05-16\", \"2020-05-17\", \"2020-05-18\", \"2020-05-19\", \"2020-05-20\", \"2020-05-21\", \"2020-05-22\", \"2020-05-23\", \"2020-05-24\", \"2020-05-25\", \"2020-05-26\", \"2020-05-27\", \"2020-05-28\", \"2020-05-29\", \"2020-05-30\", \"2020-05-31\", \"2020-06-01\", \"2020-06-02\", \"2020-06-03\", \"2020-06-04\", \"2020-06-05\", \"2020-06-06\", \"2020-06-07\", \"2020-06-08\", \"2020-06-09\", \"2020-06-10\", \"2020-06-11\", \"2020-06-12\", \"2020-06-13\", \"2020-06-14\", \"2020-06-15\", \"2020-06-16\", \"2020-06-17\", \"2020-06-18\", \"2020-06-19\", \"2020-06-20\", \"2020-06-21\", \"2020-06-22\", \"2020-06-23\", \"2020-06-24\", \"2020-06-25\", \"2020-06-26\", \"2020-06-27\", \"2020-06-28\", \"2020-06-29\", \"2020-06-30\", \"2020-07-01\", \"2020-07-02\", \"2020-07-03\", \"2020-07-04\", \"2020-07-05\", \"2020-07-06\", \"2020-07-07\", \"2020-07-08\", \"2020-07-09\", \"2020-07-10\", \"2020-07-11\", \"2020-07-12\", \"2020-07-13\", \"2020-07-14\", \"2020-07-15\", \"2020-07-16\", \"2020-07-17\", \"2020-07-18\", \"2020-07-19\", \"2020-07-20\", \"2020-07-21\", \"2020-07-22\", \"2020-07-23\", \"2020-07-24\", \"2020-07-25\", \"2020-07-26\", \"2020-07-27\", \"2020-07-28\", \"2020-07-29\", \"2020-07-30\", \"2020-07-31\", \"2020-08-01\", \"2020-08-02\", \"2020-08-03\", \"2020-08-04\", \"2020-08-05\", \"2020-08-06\", \"2020-08-07\", \"2020-08-08\", \"2020-08-09\", \"2020-08-10\", \"2020-08-11\", \"2020-08-12\", \"2020-08-13\", \"2020-08-14\", \"2020-08-15\", \"2020-08-16\", \"2020-08-17\", \"2020-08-18\", \"2020-08-19\", \"2020-08-20\", \"2020-08-21\", \"2020-08-22\", \"2020-08-23\", \"2020-08-24\", \"2020-08-25\", \"2020-08-26\", \"2020-08-27\", \"2020-08-28\", \"2020-08-29\", \"2020-08-30\", \"2020-08-31\", \"2020-09-01\", \"2020-09-02\", \"2020-09-03\", \"2020-09-04\", \"2020-09-05\", \"2020-09-06\", \"2020-09-07\", \"2020-09-08\", \"2020-09-09\", \"2020-09-10\", \"2020-09-11\", \"2020-09-12\", \"2020-09-13\", \"2020-09-14\", \"2020-09-15\", \"2020-09-16\", \"2020-09-17\", \"2020-09-18\", \"2020-09-19\", \"2020-09-20\", \"2020-09-21\", \"2020-09-22\", \"2020-09-23\", \"2020-09-24\", \"2020-09-25\", \"2020-09-26\", \"2020-09-27\", \"2020-09-28\", \"2020-09-29\", \"2020-09-30\", \"2020-10-01\", \"2020-10-02\", \"2020-10-03\", \"2020-10-04\", \"2020-10-05\", \"2020-10-06\", \"2020-10-07\", \"2020-10-08\", \"2020-10-09\", \"2020-10-10\", \"2020-10-11\", \"2020-10-12\", \"2020-10-13\", \"2020-10-14\", \"2020-10-15\", \"2020-10-16\", \"2020-10-17\", \"2020-10-18\", \"2020-10-19\", \"2020-10-20\", \"2020-10-21\", \"2020-10-22\", \"2020-10-23\", \"2020-10-24\", \"2020-10-25\", \"2020-10-26\", \"2020-10-27\", \"2020-10-28\", \"2020-10-29\", \"2020-10-30\", \"2020-10-31\", \"2020-11-01\", \"2020-11-02\", \"2020-11-03\", \"2020-11-04\", \"2020-11-05\", \"2020-11-06\", \"2020-11-07\", \"2020-11-08\", \"2020-11-09\", \"2020-11-10\", \"2020-11-11\", \"2020-11-12\", \"2020-11-13\", \"2020-11-14\"], \"y\": [0.0, 0.0, 0.0, 0.0, 0.0, 0.0, 0.0, 0.0, 0.0, 0.0, 0.0, 0.0, 12.0, 12.0, 12.0, 12.0, 12.0, 12.0, 45.0, 45.0, 50.0, 54.0, 65.0, 68.0, 68.0, 76.0, 87.0, 96.0, 96.0, 109.0, 132.0, 142.0, 159.0, 171.0, 214.0, 250.0, 307.0, 463.0, 533.0, 600.0, 754.0, 784.0, 871.0, 927.0, 1005.0, 1115.0, 1215.0, 1439.0, 1534.0, 1587.0, 1617.0, 1742.0, 1806.0, 1877.0, 2529.0, 2591.0, 2761.0, 2829.0, 2881.0, 2998.0, 3035.0, 3324.0, 3676.0, 3889.0, 4074.0, 5271.0, 5941.0, 6664.0, 7117.0, 8064.0, 8639.0, 8965.0, 10220.0, 11473.0, 12741.0, 14014.0, 15629.0, 17911.0, 20280.0, 21814.0, 23272.0, 25120.0, 26795.0, 29518.0, 31569.0, 33561.0, 34210.0, 35466.0, 36979.0, 39386.0, 41773.0, 43830.0, 46017.0, 46936.0, 47776.0, 47776.0, 51911.0, 53791.0, 55837.0, 57370.0, 58369.0, 59100.0, 61093.0, 63156.0, 64816.0, 67541.0, 68655.0, 69005.0, 69615.0, 70927.0, 70927.0, 70927.0, 75570.0, 76921.0, 77815.0, 77815.0, 77815.0, 84168.0, 87059.0, 87059.0, 90360.0, 90957.0, 91442.0, 92854.0, 94466.0, 96851.0, 100370.0, 101177.0, 101639.0, 102872.0, 103040.0, 105671.0, 105671.0, 108568.0, 109186.0, 109533.0, 110708.0, 112059.0, 114743.0, 116180.0, 117830.0, 118605.0, 119004.0, 120367.0, 121843.0, 123772.0, 123772.0, 124036.0, 124036.0, 125778.0, 126242.0, 127656.0, 129160.0, 130415.0, 131733.0, 132411.0, 132722.0, 133466.0, 134479.0, 135853.0, 137236.0, 138480.0, 139027.0, 139286.0, 140527.0, 141655.0, 142763.0, 142763.0, 145305.0, 145305.0, 145305.0, 146103.0, 148259.0, 148259.0, 150971.0, 151944.0, 151944.0, 151944.0, 151944.0, 153613.0, 155396.0, 155396.0, 157198.0, 157810.0, 158291.0, 158492.0, 158492.0, 158492.0, 161068.0, 161068.0, 161068.0, 162449.0, 162449.0, 163892.0, 163892.0, 163892.0, 165886.0, 165886.0, 165886.0, 167126.0, 167126.0, 167126.0, 167126.0, 167126.0, 167126.0, 171186.0, 172084.0, 172614.0, 173124.0, 173441.0, 173757.0, 173987.0, 174144.0, 174412.0, 174863.0, 175201.0, 175774.0, 175992.0, 176301.0, 176404.0, 176611.0, 176611.0, 177494.0, 177494.0, 179063.0, 179315.0, 179359.0, 179392.0, 179490.0, 179490.0, 179833.0, 180118.0, 180414.0, 180514.0, 180859.0, 181350.0, 181350.0, 182048.0, 182795.0, 182795.0]}],\n",
              "                        {\"legend\": {\"orientation\": \"h\", \"x\": 0.95, \"xanchor\": \"right\", \"y\": 1.01, \"yanchor\": \"bottom\"}, \"template\": {\"data\": {\"pie\": [{\"automargin\": true, \"type\": \"pie\"}]}, \"layout\": {\"xaxis\": {\"showgrid\": false, \"title\": {\"standoff\": 15}}, \"yaxis\": {\"title\": {\"standoff\": 15}}}}, \"title\": {\"text\": \"SIR Model\"}, \"xaxis\": {\"showgrid\": false, \"title\": {\"text\": \"Days\"}}},\n",
              "                        {\"responsive\": true}\n",
              "                    ).then(function(){\n",
              "                            \n",
              "var gd = document.getElementById('35b78dfd-a11e-4457-9b47-21ccf4ed19f6');\n",
              "var x = new MutationObserver(function (mutations, observer) {{\n",
              "        var display = window.getComputedStyle(gd).display;\n",
              "        if (!display || display === 'none') {{\n",
              "            console.log([gd, 'removed!']);\n",
              "            Plotly.purge(gd);\n",
              "            observer.disconnect();\n",
              "        }}\n",
              "}});\n",
              "\n",
              "// Listen for the removal of the full notebook cells\n",
              "var notebookContainer = gd.closest('#notebook-container');\n",
              "if (notebookContainer) {{\n",
              "    x.observe(notebookContainer, {childList: true});\n",
              "}}\n",
              "\n",
              "// Listen for the clearing of the current output cell\n",
              "var outputEl = gd.closest('.output');\n",
              "if (outputEl) {{\n",
              "    x.observe(outputEl, {childList: true});\n",
              "}}\n",
              "\n",
              "                        })\n",
              "                };\n",
              "                \n",
              "            </script>\n",
              "        </div>\n",
              "</body>\n",
              "</html>"
            ]
          },
          "metadata": {
            "tags": []
          }
        }
      ]
    }
  ]
}