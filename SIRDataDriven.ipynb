{
  "nbformat": 4,
  "nbformat_minor": 0,
  "metadata": {
    "colab": {
      "name": "SIRDataDriven.ipynb",
      "provenance": [],
      "collapsed_sections": [
        "hZfMC9v7v3CL",
        "OMo8RJN9VSDE"
      ],
      "mount_file_id": "1y_pdN_8jVpwhSEqX6s5-ome4HnouTA2j",
      "authorship_tag": "ABX9TyPwEJpZgSOi51y7WANU9iRI",
      "include_colab_link": true
    },
    "kernelspec": {
      "name": "python3",
      "display_name": "Python 3"
    }
  },
  "cells": [
    {
      "cell_type": "markdown",
      "metadata": {
        "id": "view-in-github",
        "colab_type": "text"
      },
      "source": [
        "<a href=\"https://colab.research.google.com/github/Lucas-Buk/IMT/blob/main/SIRDataDriven.ipynb\" target=\"_parent\"><img src=\"https://colab.research.google.com/assets/colab-badge.svg\" alt=\"Open In Colab\"/></a>"
      ]
    },
    {
      "cell_type": "markdown",
      "metadata": {
        "id": "hZfMC9v7v3CL"
      },
      "source": [
        "# Configurações básicas"
      ]
    },
    {
      "cell_type": "code",
      "metadata": {
        "id": "IWpqpeVhv1rb"
      },
      "source": [
        "import numpy as np\n",
        "import pandas as pd \n",
        "import matplotlib.pyplot as plt\n",
        "from scipy import optimize\n",
        "from scipy.integrate import odeint\n",
        "import plotly.graph_objects as go"
      ],
      "execution_count": 162,
      "outputs": []
    },
    {
      "cell_type": "markdown",
      "metadata": {
        "id": "zN2shiWmv8jj"
      },
      "source": [
        "# Referências"
      ]
    },
    {
      "cell_type": "markdown",
      "metadata": {
        "id": "LUwtbwGqtttJ"
      },
      "source": [
        "https://cmdlinetips.com/2018/02/how-to-subset-pandas-dataframe-based-on-values-of-a-column/"
      ]
    },
    {
      "cell_type": "markdown",
      "metadata": {
        "id": "J3ZIvFVAtxqF"
      },
      "source": [
        "https://cmdlinetips.com/2018/04/how-to-concatenate-arrays-in-numpy/"
      ]
    },
    {
      "cell_type": "markdown",
      "metadata": {
        "id": "9dc_x8SGwCxF"
      },
      "source": [
        "https://stackoverflow.com/questions/11278836/fitting-data-to-system-of-odes-using-python-via-scipy-numpy"
      ]
    },
    {
      "cell_type": "markdown",
      "metadata": {
        "id": "rzh7QSy19IOS"
      },
      "source": [
        "# **Dados artificiais**"
      ]
    },
    {
      "cell_type": "markdown",
      "metadata": {
        "id": "sXqTFbp69Q_k"
      },
      "source": [
        "Uma prática interessante na análise de dados é testarmos se o algoritmo proposto e principalmente sua estrutura está consistente. Podemos então utilizar dados artificiais para avaliar se o processo de ajuste está estruturado corretamente."
      ]
    },
    {
      "cell_type": "code",
      "metadata": {
        "id": "3dx_IElpPbOM",
        "colab": {
          "base_uri": "https://localhost:8080/",
          "height": 204
        },
        "outputId": "b80fbca4-08f4-4d2a-b9ba-98bf7bba030c"
      },
      "source": [
        "# Lendo o arquivo de dados no formato 'filename.csv'  \n",
        "data = pd.read_csv(\"/content/drive/MyDrive/Trabalho/Covid/Datasets/SIRpd\") \n",
        "# Preview das cinco primeiras linhas\n",
        "data.head()"
      ],
      "execution_count": 138,
      "outputs": [
        {
          "output_type": "execute_result",
          "data": {
            "text/html": [
              "<div>\n",
              "<style scoped>\n",
              "    .dataframe tbody tr th:only-of-type {\n",
              "        vertical-align: middle;\n",
              "    }\n",
              "\n",
              "    .dataframe tbody tr th {\n",
              "        vertical-align: top;\n",
              "    }\n",
              "\n",
              "    .dataframe thead th {\n",
              "        text-align: right;\n",
              "    }\n",
              "</style>\n",
              "<table border=\"1\" class=\"dataframe\">\n",
              "  <thead>\n",
              "    <tr style=\"text-align: right;\">\n",
              "      <th></th>\n",
              "      <th>S</th>\n",
              "      <th>I</th>\n",
              "      <th>R</th>\n",
              "    </tr>\n",
              "  </thead>\n",
              "  <tbody>\n",
              "    <tr>\n",
              "      <th>0</th>\n",
              "      <td>499.000000</td>\n",
              "      <td>1.000000</td>\n",
              "      <td>0.000000</td>\n",
              "    </tr>\n",
              "    <tr>\n",
              "      <th>1</th>\n",
              "      <td>498.949042</td>\n",
              "      <td>1.040746</td>\n",
              "      <td>0.010213</td>\n",
              "    </tr>\n",
              "    <tr>\n",
              "      <th>2</th>\n",
              "      <td>498.896013</td>\n",
              "      <td>1.083146</td>\n",
              "      <td>0.020841</td>\n",
              "    </tr>\n",
              "    <tr>\n",
              "      <th>3</th>\n",
              "      <td>498.840830</td>\n",
              "      <td>1.127267</td>\n",
              "      <td>0.031903</td>\n",
              "    </tr>\n",
              "    <tr>\n",
              "      <th>4</th>\n",
              "      <td>498.783405</td>\n",
              "      <td>1.173179</td>\n",
              "      <td>0.043415</td>\n",
              "    </tr>\n",
              "  </tbody>\n",
              "</table>\n",
              "</div>"
            ],
            "text/plain": [
              "            S         I         R\n",
              "0  499.000000  1.000000  0.000000\n",
              "1  498.949042  1.040746  0.010213\n",
              "2  498.896013  1.083146  0.020841\n",
              "3  498.840830  1.127267  0.031903\n",
              "4  498.783405  1.173179  0.043415"
            ]
          },
          "metadata": {
            "tags": []
          },
          "execution_count": 138
        }
      ]
    },
    {
      "cell_type": "code",
      "metadata": {
        "id": "4h2Jrl9TcPMO",
        "colab": {
          "base_uri": "https://localhost:8080/"
        },
        "outputId": "b598177c-26c8-452d-dfb4-96e919cd42bc"
      },
      "source": [
        "data.shape"
      ],
      "execution_count": 139,
      "outputs": [
        {
          "output_type": "execute_result",
          "data": {
            "text/plain": [
              "(1000, 3)"
            ]
          },
          "metadata": {
            "tags": []
          },
          "execution_count": 139
        }
      ]
    },
    {
      "cell_type": "code",
      "metadata": {
        "id": "nb8EBFeSDn6L"
      },
      "source": [
        "s_array = data[[\"S\", \"I\", \"R\"]].to_numpy()\n",
        "s_array[:,0:]\n",
        "Sd = s_array[:,0]\n",
        "Id = s_array[:,1]\n",
        "Rd = s_array[:,2]"
      ],
      "execution_count": 140,
      "outputs": []
    },
    {
      "cell_type": "markdown",
      "metadata": {
        "id": "8pVQEE9mMYEY"
      },
      "source": [
        "**Gerando ruído gaussiano**"
      ]
    },
    {
      "cell_type": "code",
      "metadata": {
        "id": "Wr1Pt_JXEHEZ"
      },
      "source": [
        "Sdn = np.random.normal(0, np.mean(Sd)/10, len(Sd)) \n",
        "Idn = np.random.normal(0, np.mean(Id)/5, len(Sd)) \n",
        "Rdn = np.random.normal(0, np.mean(Rd)/10, len(Sd)) "
      ],
      "execution_count": 141,
      "outputs": []
    },
    {
      "cell_type": "markdown",
      "metadata": {
        "id": "I_s0BrcwMdRU"
      },
      "source": [
        "**Adicionando aos dados**"
      ]
    },
    {
      "cell_type": "code",
      "metadata": {
        "id": "vlboEDJfFEQj"
      },
      "source": [
        "Sd = Sd + Sdn\n",
        "Id = Id + Idn\n",
        "Rd = Rd + Rdn"
      ],
      "execution_count": 142,
      "outputs": []
    },
    {
      "cell_type": "code",
      "metadata": {
        "colab": {
          "base_uri": "https://localhost:8080/"
        },
        "id": "aakffjLIYeKK",
        "outputId": "f6e81f49-2bbd-44ca-c682-43ae8d2f4a05"
      },
      "source": [
        "len(Rd)"
      ],
      "execution_count": 145,
      "outputs": [
        {
          "output_type": "execute_result",
          "data": {
            "text/plain": [
              "1000"
            ]
          },
          "metadata": {
            "tags": []
          },
          "execution_count": 145
        }
      ]
    },
    {
      "cell_type": "markdown",
      "metadata": {
        "id": "KbXJZ3_BMgak"
      },
      "source": [
        "**Visualizando os dados**"
      ]
    },
    {
      "cell_type": "code",
      "metadata": {
        "id": "T36rmwWbFVHA",
        "colab": {
          "base_uri": "https://localhost:8080/",
          "height": 606
        },
        "outputId": "33ab1f61-5848-4d6e-e625-ec24b5112e12"
      },
      "source": [
        "# Visualizando a evolução da Epidemia - S(t), I(t) e R(t)\n",
        "t = np.linspace(0,len(Sd),len(Sd))\n",
        "fig = plt.figure(facecolor='w',figsize=(20,10))\n",
        "ax = fig.add_subplot(111, axisbelow=True)\n",
        "plt.scatter(t, Sd, marker='o', color='b', label='Suscetíveis - dados', s=15)\n",
        "plt.scatter(t, Id, marker='*', color='k', label='Infectados - dados', s=15)\n",
        "plt.scatter(t, Rd, marker='+', color='c', label='Removidos - dados', s=15)\n",
        "ax.set_xlabel('Dias')\n",
        "ax.set_ylabel('Indivíduos')\n",
        "ax.set_ylim(0,600)\n",
        "ax.yaxis.set_tick_params(length=0)\n",
        "ax.xaxis.set_tick_params(length=0)\n",
        "ax.grid(b=True, which='major', c='w', lw=2, ls='-')\n",
        "legend = ax.legend()\n",
        "legend.get_frame().set_alpha(0.5)\n",
        "for spine in ('top', 'right', 'bottom', 'left'):\n",
        "    ax.spines[spine].set_visible(False)\n",
        "plt.show()"
      ],
      "execution_count": 7,
      "outputs": [
        {
          "output_type": "display_data",
          "data": {
            "image/png": "[encoded data removed]",
            "text/plain": [
              "<Figure size 1440x720 with 1 Axes>"
            ]
          },
          "metadata": {
            "tags": []
          }
        }
      ]
    },
    {
      "cell_type": "markdown",
      "metadata": {
        "id": "BpRnVfs4_U2a"
      },
      "source": [
        "# **O problema**\n",
        "\n",
        "\n",
        "\n",
        "\n",
        "\n",
        "\n",
        "\n"
      ]
    },
    {
      "cell_type": "markdown",
      "metadata": {
        "id": "LnAUup87_mlI"
      },
      "source": [
        "O conjunto de equações diferenciais que caracteriza o modelo é descrito abaixo. No modelo $\\beta - \\text{representa a taxa de transmissão ou taxa efetiva de contato} $  e $r - \\text{a taxa de remoção ou recuperação.}$ \n",
        "\n",
        "\n",
        "$$ \\begin{split}\n",
        "   \\frac{dS(t)}{dt} & = -\\beta S(t) I(t) \\\\\n",
        "   \\frac{dI(t)}{dt} & = \\beta S(t) I(t) - rI(t)  \\\\\n",
        "   \\frac{dR(t)}{dt} & = r I(t)\n",
        "   \\end{split}$$\n",
        "\n",
        "   Gostaríamos de identificar quais parâmetros $\\beta$ e $r$ resultam num melhor ajuste do modelo para os dados de **S**, **I** e **R**"
      ]
    },
    {
      "cell_type": "code",
      "metadata": {
        "id": "4kZX_8Az_PXa"
      },
      "source": [
        "def SIRmodel(y, t, Beta, r):\n",
        "    S, I, R = y\n",
        "    Sdot = -(Beta * S * I)\n",
        "    Idot = (Beta * S * I)  - r * I\n",
        "    Rdot = r * I\n",
        "    return Sdot, Idot, Rdot   \n",
        "\n",
        "# Resolução da simulação - Escala temporal (dias)"
      ],
      "execution_count": 8,
      "outputs": []
    },
    {
      "cell_type": "markdown",
      "metadata": {
        "id": "ON2BwqItAetm"
      },
      "source": [
        "# **Obtendo** $y_s(\\theta,k) = [S \\; I \\: R]$"
      ]
    },
    {
      "cell_type": "markdown",
      "metadata": {
        "id": "byDz2Ffj_xX9"
      },
      "source": [
        "\n",
        "\n",
        "O trecho a seguir retorna os valores sintetizados $y_s(\\theta,k) = [S \\; I \\: R]$ representa o dado sintetizado a partir de um modelo sintetizado para uma determinada amostra $k$ e $\\theta$ representa o vetor de parâmetros $\\theta = [ \\beta \\; \\; r]^T$. A partir de uma condição inicial $y_0$.\n",
        "\n"
      ]
    },
    {
      "cell_type": "code",
      "metadata": {
        "id": "4UA5CINl_1rl"
      },
      "source": [
        "def SIRsim(y0, t, theta):\n",
        "    Beta = theta[0]\n",
        "    r = theta[1]\n",
        "    ret = odeint(SIRmodel,y0,t,args=(Beta,r))\n",
        "    S, I, R = ret.T\n",
        "    return S, I, R"
      ],
      "execution_count": 9,
      "outputs": []
    },
    {
      "cell_type": "markdown",
      "metadata": {
        "id": "nkzB5p58BUl8"
      },
      "source": [
        "# **Condições inicias** - $y_0$ e $\\theta_0$"
      ]
    },
    {
      "cell_type": "code",
      "metadata": {
        "id": "-qbcJlrf0y3g"
      },
      "source": [
        "# Tamanho da população - N\n",
        "N = 500\n",
        "\n",
        "# Valores iniciais \n",
        "I0 = 1 \n",
        "R0 = 0\n",
        "S0 = N - I0\n",
        "\n",
        "# Vetor de condições iniciais\n",
        "y0 = S0, I0, R0\n",
        "\n",
        "# Beta -  taxa de contato,\n",
        "# r - taxa média de recuperação (in 1/dia).\n",
        "\n",
        "theta0 = [1e-4, 1e-2] # valores iniciais\n",
        "\n",
        "# Definição do conjunto de equações diferencias não lineares que formam o modelo.\n",
        "\n",
        "t = np.linspace(0, 1000, 1000)"
      ],
      "execution_count": 10,
      "outputs": []
    },
    {
      "cell_type": "markdown",
      "metadata": {
        "id": "5AHqu7a-9bix"
      },
      "source": [
        "# **Estimativa de parâmetros**"
      ]
    },
    {
      "cell_type": "markdown",
      "metadata": {
        "id": "s6Jp01u09bAU"
      },
      "source": [
        "Para estimarmos os parâmetros do modelo $\\mathbf{\\beta}$ e $\\mathbf{r}$, vamos utilizar  inicialmente o método de mínimos quadrados. Podemos então formular o problema a partir da Equação abaixo. Na Equação $y_m(k)$ representa o dado real em cada amostra $k$; $y_s(\\theta,k)$ representa o **valor estimado** a partir da simulação do modelo para uma determinada amostra $k$ e $\\theta$ representa o vetor ed parâmetros $\\theta = [ \\beta \\; \\; r]^T$. \n",
        "\n",
        "$$ min_{\\theta}= \\sum_{k=1}^{K}(y_m(k) - y_s(\\theta,k))^2 $$\n",
        "\n",
        "A equação formula a pergunta: quais os valores de $\\mathbf{\\beta}$ e $r$ que minizam o erro quadrático quando comparados com os dados reais."
      ]
    },
    {
      "cell_type": "code",
      "metadata": {
        "id": "YDqhZPP4KfR_"
      },
      "source": [
        "def ErroQuadratico(Sd, Id, Rd, y0, t, theta0):\n",
        "    \"\"\" function to pass to optimize.leastsq\n",
        "        The routine will square and sum the values returned by \n",
        "        this function\"\"\" \n",
        "    [S,I,R] = SIRsim(y0,t,theta0)\n",
        "    erroS = S - Sd\n",
        "    erroI = I - Id\n",
        "    erroR = R - Rd\n",
        "    EQ = np.concatenate([erroI,erroR])\n",
        "    return EQ\n",
        "\n",
        "def objetivo(p):\n",
        "    return ErroQuadratico(Sd,Id,Rd,y0,t,p)"
      ],
      "execution_count": 11,
      "outputs": []
    },
    {
      "cell_type": "markdown",
      "metadata": {
        "id": "rwaQq87_CTj0"
      },
      "source": [
        "# **Minimização da função custo**"
      ]
    },
    {
      "cell_type": "code",
      "metadata": {
        "id": "2CeHzC5HFEe4",
        "colab": {
          "base_uri": "https://localhost:8080/"
        },
        "outputId": "60c919c1-9963-4c40-f0db-c7bd16724da3"
      },
      "source": [
        "(c, kvg) = optimize.leastsq(objetivo,theta0) \n",
        "print(c)"
      ],
      "execution_count": 12,
      "outputs": [
        {
          "output_type": "stream",
          "text": [
            "[9.95262442e-05 9.96228627e-03]\n"
          ],
          "name": "stdout"
        }
      ]
    },
    {
      "cell_type": "markdown",
      "metadata": {
        "id": "_qDSfUAsCcgC"
      },
      "source": [
        "# **Visualização**"
      ]
    },
    {
      "cell_type": "code",
      "metadata": {
        "id": "YYv9P7LMSW2B",
        "colab": {
          "base_uri": "https://localhost:8080/",
          "height": 602
        },
        "outputId": "dfd89c65-0485-4083-b2ea-fbc25d649de2"
      },
      "source": [
        "[Sa,Ia,Ra] = SIRsim(y0,t,c)\n",
        "\n",
        "# Visualizando a evolução da Epidemia - S(t), I(t) e R(t)\n",
        "fig = plt.figure(facecolor='w',figsize=(20,10))\n",
        "ax = fig.add_subplot(111, axisbelow=True)\n",
        "ax.plot(t, Sa, 'b', alpha=0.5, lw=4, label='Suscetíveis')\n",
        "ax.plot(t, Ia, 'k', alpha=0.5, lw=4, label='Infectados')\n",
        "ax.plot(t, Ra, 'g', alpha=0.5, lw=4, label='Removidos')\n",
        "plt.scatter(t, Sd, marker='o', color='y', label='Suscetíveis - dados', s=15)\n",
        "plt.scatter(t, Id, marker='*', color='c', label='Infectados - dados', s=15)\n",
        "plt.scatter(t, Rd, marker='+', color='gray', label='Removidos - dados', s=15)\n",
        "ax.set_xlabel('Dias')\n",
        "ax.set_ylabel('Indivíduos')\n",
        "ax.set_ylim(0, 550)\n",
        "ax.yaxis.set_tick_params(length=0)\n",
        "ax.xaxis.set_tick_params(length=0)\n",
        "ax.grid(b=True, which='major', c='w', lw=2, ls='-')\n",
        "legend = ax.legend()\n",
        "legend.get_frame().set_alpha(0.5)\n",
        "for spine in ('top', 'right', 'bottom', 'left'):\n",
        "    ax.spines[spine].set_visible(False)\n",
        "plt.show()"
      ],
      "execution_count": 13,
      "outputs": [
        {
          "output_type": "display_data",
          "data": {
            "image/png": "[encoded data removed]",
            "text/plain": [
              "<Figure size 1440x720 with 1 Axes>"
            ]
          },
          "metadata": {
            "tags": []
          }
        }
      ]
    },
    {
      "cell_type": "markdown",
      "metadata": {
        "id": "Oj1DhfE2nIKd"
      },
      "source": [
        "# **Dados Reais**\r\n",
        "\r\n",
        "Lendo e visualizando os dados do Brasil do COVID fornecidos por\r\n",
        "\r\n",
        "- [Wesley Cota](https://github.com/wcota/covid19br)"
      ]
    },
    {
      "cell_type": "code",
      "metadata": {
        "id": "r3L0Q3rzgm9m",
        "colab": {
          "base_uri": "https://localhost:8080/",
          "height": 309
        },
        "outputId": "1941be39-d65d-4af8-f5a9-02bade84aba6"
      },
      "source": [
        "# Lendo os dados online - wcota\n",
        "data_path = 'https://raw.githubusercontent.com/wcota/covid19br/master/cases-brazil-states.csv'\n",
        "\n",
        "data = pd.read_csv(data_path, delimiter=\",\") \n",
        "data.head()"
      ],
      "execution_count": 176,
      "outputs": [
        {
          "output_type": "execute_result",
          "data": {
            "text/html": [
              "<div>\n",
              "<style scoped>\n",
              "    .dataframe tbody tr th:only-of-type {\n",
              "        vertical-align: middle;\n",
              "    }\n",
              "\n",
              "    .dataframe tbody tr th {\n",
              "        vertical-align: top;\n",
              "    }\n",
              "\n",
              "    .dataframe thead th {\n",
              "        text-align: right;\n",
              "    }\n",
              "</style>\n",
              "<table border=\"1\" class=\"dataframe\">\n",
              "  <thead>\n",
              "    <tr style=\"text-align: right;\">\n",
              "      <th></th>\n",
              "      <th>epi_week</th>\n",
              "      <th>date</th>\n",
              "      <th>country</th>\n",
              "      <th>state</th>\n",
              "      <th>city</th>\n",
              "      <th>newDeaths</th>\n",
              "      <th>deaths</th>\n",
              "      <th>newCases</th>\n",
              "      <th>totalCases</th>\n",
              "      <th>deathsMS</th>\n",
              "      <th>totalCasesMS</th>\n",
              "      <th>deaths_per_100k_inhabitants</th>\n",
              "      <th>totalCases_per_100k_inhabitants</th>\n",
              "      <th>deaths_by_totalCases</th>\n",
              "      <th>recovered</th>\n",
              "      <th>suspects</th>\n",
              "      <th>tests</th>\n",
              "      <th>tests_per_100k_inhabitants</th>\n",
              "      <th>vaccinated</th>\n",
              "      <th>vaccinated_per_100k_inhabitants</th>\n",
              "      <th>vaccinated_second</th>\n",
              "      <th>vaccinated_second_per_100k_inhabitants</th>\n",
              "    </tr>\n",
              "  </thead>\n",
              "  <tbody>\n",
              "    <tr>\n",
              "      <th>0</th>\n",
              "      <td>9</td>\n",
              "      <td>2020-02-25</td>\n",
              "      <td>Brazil</td>\n",
              "      <td>SP</td>\n",
              "      <td>TOTAL</td>\n",
              "      <td>0</td>\n",
              "      <td>0</td>\n",
              "      <td>1</td>\n",
              "      <td>1</td>\n",
              "      <td>0</td>\n",
              "      <td>0</td>\n",
              "      <td>0.0</td>\n",
              "      <td>0.00218</td>\n",
              "      <td>0.0</td>\n",
              "      <td>NaN</td>\n",
              "      <td>NaN</td>\n",
              "      <td>NaN</td>\n",
              "      <td>NaN</td>\n",
              "      <td>NaN</td>\n",
              "      <td>NaN</td>\n",
              "      <td>NaN</td>\n",
              "      <td>NaN</td>\n",
              "    </tr>\n",
              "    <tr>\n",
              "      <th>1</th>\n",
              "      <td>9</td>\n",
              "      <td>2020-02-25</td>\n",
              "      <td>Brazil</td>\n",
              "      <td>TOTAL</td>\n",
              "      <td>TOTAL</td>\n",
              "      <td>0</td>\n",
              "      <td>0</td>\n",
              "      <td>1</td>\n",
              "      <td>1</td>\n",
              "      <td>0</td>\n",
              "      <td>0</td>\n",
              "      <td>0.0</td>\n",
              "      <td>0.00047</td>\n",
              "      <td>0.0</td>\n",
              "      <td>NaN</td>\n",
              "      <td>NaN</td>\n",
              "      <td>NaN</td>\n",
              "      <td>NaN</td>\n",
              "      <td>NaN</td>\n",
              "      <td>NaN</td>\n",
              "      <td>NaN</td>\n",
              "      <td>NaN</td>\n",
              "    </tr>\n",
              "    <tr>\n",
              "      <th>2</th>\n",
              "      <td>9</td>\n",
              "      <td>2020-02-26</td>\n",
              "      <td>Brazil</td>\n",
              "      <td>SP</td>\n",
              "      <td>TOTAL</td>\n",
              "      <td>0</td>\n",
              "      <td>0</td>\n",
              "      <td>0</td>\n",
              "      <td>1</td>\n",
              "      <td>0</td>\n",
              "      <td>1</td>\n",
              "      <td>0.0</td>\n",
              "      <td>0.00218</td>\n",
              "      <td>0.0</td>\n",
              "      <td>NaN</td>\n",
              "      <td>NaN</td>\n",
              "      <td>NaN</td>\n",
              "      <td>NaN</td>\n",
              "      <td>NaN</td>\n",
              "      <td>NaN</td>\n",
              "      <td>NaN</td>\n",
              "      <td>NaN</td>\n",
              "    </tr>\n",
              "    <tr>\n",
              "      <th>3</th>\n",
              "      <td>9</td>\n",
              "      <td>2020-02-26</td>\n",
              "      <td>Brazil</td>\n",
              "      <td>TOTAL</td>\n",
              "      <td>TOTAL</td>\n",
              "      <td>0</td>\n",
              "      <td>0</td>\n",
              "      <td>0</td>\n",
              "      <td>1</td>\n",
              "      <td>0</td>\n",
              "      <td>1</td>\n",
              "      <td>0.0</td>\n",
              "      <td>0.00047</td>\n",
              "      <td>0.0</td>\n",
              "      <td>NaN</td>\n",
              "      <td>NaN</td>\n",
              "      <td>NaN</td>\n",
              "      <td>NaN</td>\n",
              "      <td>NaN</td>\n",
              "      <td>NaN</td>\n",
              "      <td>NaN</td>\n",
              "      <td>NaN</td>\n",
              "    </tr>\n",
              "    <tr>\n",
              "      <th>4</th>\n",
              "      <td>9</td>\n",
              "      <td>2020-02-27</td>\n",
              "      <td>Brazil</td>\n",
              "      <td>SP</td>\n",
              "      <td>TOTAL</td>\n",
              "      <td>0</td>\n",
              "      <td>0</td>\n",
              "      <td>0</td>\n",
              "      <td>1</td>\n",
              "      <td>0</td>\n",
              "      <td>1</td>\n",
              "      <td>0.0</td>\n",
              "      <td>0.00218</td>\n",
              "      <td>0.0</td>\n",
              "      <td>NaN</td>\n",
              "      <td>NaN</td>\n",
              "      <td>NaN</td>\n",
              "      <td>NaN</td>\n",
              "      <td>NaN</td>\n",
              "      <td>NaN</td>\n",
              "      <td>NaN</td>\n",
              "      <td>NaN</td>\n",
              "    </tr>\n",
              "  </tbody>\n",
              "</table>\n",
              "</div>"
            ],
            "text/plain": [
              "   epi_week  ... vaccinated_second_per_100k_inhabitants\n",
              "0         9  ...                                    NaN\n",
              "1         9  ...                                    NaN\n",
              "2         9  ...                                    NaN\n",
              "3         9  ...                                    NaN\n",
              "4         9  ...                                    NaN\n",
              "\n",
              "[5 rows x 22 columns]"
            ]
          },
          "metadata": {
            "tags": []
          },
          "execution_count": 176
        }
      ]
    },
    {
      "cell_type": "code",
      "metadata": {
        "colab": {
          "base_uri": "https://localhost:8080/"
        },
        "id": "gTg-oKksHz4l",
        "outputId": "184bde35-05f5-433f-8c08-bea8b7ec807a"
      },
      "source": [
        "data.shape"
      ],
      "execution_count": 177,
      "outputs": [
        {
          "output_type": "execute_result",
          "data": {
            "text/plain": [
              "(10178, 22)"
            ]
          },
          "metadata": {
            "tags": []
          },
          "execution_count": 177
        }
      ]
    },
    {
      "cell_type": "code",
      "metadata": {
        "colab": {
          "base_uri": "https://localhost:8080/"
        },
        "id": "56Gh2BmZn24t",
        "outputId": "2b2c779c-2f2b-4b6c-da78-79b0a9384ad1"
      },
      "source": [
        "data.isnull().sum()"
      ],
      "execution_count": 178,
      "outputs": [
        {
          "output_type": "execute_result",
          "data": {
            "text/plain": [
              "epi_week                                     0\n",
              "date                                         0\n",
              "country                                      0\n",
              "state                                        0\n",
              "city                                         0\n",
              "newDeaths                                    0\n",
              "deaths                                       0\n",
              "newCases                                     0\n",
              "totalCases                                   0\n",
              "deathsMS                                     0\n",
              "totalCasesMS                                 0\n",
              "deaths_per_100k_inhabitants                  0\n",
              "totalCases_per_100k_inhabitants              0\n",
              "deaths_by_totalCases                         0\n",
              "recovered                                  643\n",
              "suspects                                  2544\n",
              "tests                                     1344\n",
              "tests_per_100k_inhabitants                1344\n",
              "vaccinated                                8731\n",
              "vaccinated_per_100k_inhabitants           8731\n",
              "vaccinated_second                         9411\n",
              "vaccinated_second_per_100k_inhabitants    9411\n",
              "dtype: int64"
            ]
          },
          "metadata": {
            "tags": []
          },
          "execution_count": 178
        }
      ]
    },
    {
      "cell_type": "markdown",
      "metadata": {
        "id": "OMo8RJN9VSDE"
      },
      "source": [
        "## Brasil"
      ]
    },
    {
      "cell_type": "code",
      "metadata": {
        "colab": {
          "base_uri": "https://localhost:8080/",
          "height": 309
        },
        "id": "g9UN7Gvyn5wD",
        "outputId": "c937bcca-6948-4d41-d9fe-4db6efe4b1ae"
      },
      "source": [
        "state = 'TOTAL'\r\n",
        "df_BR = data[data.state == state].reset_index()\r\n",
        "df_BR.head()"
      ],
      "execution_count": 18,
      "outputs": [
        {
          "output_type": "execute_result",
          "data": {
            "text/html": [
              "<div>\n",
              "<style scoped>\n",
              "    .dataframe tbody tr th:only-of-type {\n",
              "        vertical-align: middle;\n",
              "    }\n",
              "\n",
              "    .dataframe tbody tr th {\n",
              "        vertical-align: top;\n",
              "    }\n",
              "\n",
              "    .dataframe thead th {\n",
              "        text-align: right;\n",
              "    }\n",
              "</style>\n",
              "<table border=\"1\" class=\"dataframe\">\n",
              "  <thead>\n",
              "    <tr style=\"text-align: right;\">\n",
              "      <th></th>\n",
              "      <th>index</th>\n",
              "      <th>epi_week</th>\n",
              "      <th>date</th>\n",
              "      <th>country</th>\n",
              "      <th>state</th>\n",
              "      <th>city</th>\n",
              "      <th>newDeaths</th>\n",
              "      <th>deaths</th>\n",
              "      <th>newCases</th>\n",
              "      <th>totalCases</th>\n",
              "      <th>deathsMS</th>\n",
              "      <th>totalCasesMS</th>\n",
              "      <th>deaths_per_100k_inhabitants</th>\n",
              "      <th>totalCases_per_100k_inhabitants</th>\n",
              "      <th>deaths_by_totalCases</th>\n",
              "      <th>recovered</th>\n",
              "      <th>suspects</th>\n",
              "      <th>tests</th>\n",
              "      <th>tests_per_100k_inhabitants</th>\n",
              "      <th>vaccinated</th>\n",
              "      <th>vaccinated_per_100k_inhabitants</th>\n",
              "      <th>vaccinated_second</th>\n",
              "      <th>vaccinated_second_per_100k_inhabitants</th>\n",
              "    </tr>\n",
              "  </thead>\n",
              "  <tbody>\n",
              "    <tr>\n",
              "      <th>0</th>\n",
              "      <td>1</td>\n",
              "      <td>9</td>\n",
              "      <td>2020-02-25</td>\n",
              "      <td>Brazil</td>\n",
              "      <td>TOTAL</td>\n",
              "      <td>TOTAL</td>\n",
              "      <td>0</td>\n",
              "      <td>0</td>\n",
              "      <td>1</td>\n",
              "      <td>1</td>\n",
              "      <td>0</td>\n",
              "      <td>0</td>\n",
              "      <td>0.0</td>\n",
              "      <td>0.00047</td>\n",
              "      <td>0.0</td>\n",
              "      <td>NaN</td>\n",
              "      <td>NaN</td>\n",
              "      <td>NaN</td>\n",
              "      <td>NaN</td>\n",
              "      <td>NaN</td>\n",
              "      <td>NaN</td>\n",
              "      <td>NaN</td>\n",
              "      <td>NaN</td>\n",
              "    </tr>\n",
              "    <tr>\n",
              "      <th>1</th>\n",
              "      <td>3</td>\n",
              "      <td>9</td>\n",
              "      <td>2020-02-26</td>\n",
              "      <td>Brazil</td>\n",
              "      <td>TOTAL</td>\n",
              "      <td>TOTAL</td>\n",
              "      <td>0</td>\n",
              "      <td>0</td>\n",
              "      <td>0</td>\n",
              "      <td>1</td>\n",
              "      <td>0</td>\n",
              "      <td>1</td>\n",
              "      <td>0.0</td>\n",
              "      <td>0.00047</td>\n",
              "      <td>0.0</td>\n",
              "      <td>NaN</td>\n",
              "      <td>NaN</td>\n",
              "      <td>NaN</td>\n",
              "      <td>NaN</td>\n",
              "      <td>NaN</td>\n",
              "      <td>NaN</td>\n",
              "      <td>NaN</td>\n",
              "      <td>NaN</td>\n",
              "    </tr>\n",
              "    <tr>\n",
              "      <th>2</th>\n",
              "      <td>5</td>\n",
              "      <td>9</td>\n",
              "      <td>2020-02-27</td>\n",
              "      <td>Brazil</td>\n",
              "      <td>TOTAL</td>\n",
              "      <td>TOTAL</td>\n",
              "      <td>0</td>\n",
              "      <td>0</td>\n",
              "      <td>0</td>\n",
              "      <td>1</td>\n",
              "      <td>0</td>\n",
              "      <td>1</td>\n",
              "      <td>0.0</td>\n",
              "      <td>0.00047</td>\n",
              "      <td>0.0</td>\n",
              "      <td>NaN</td>\n",
              "      <td>NaN</td>\n",
              "      <td>NaN</td>\n",
              "      <td>NaN</td>\n",
              "      <td>NaN</td>\n",
              "      <td>NaN</td>\n",
              "      <td>NaN</td>\n",
              "      <td>NaN</td>\n",
              "    </tr>\n",
              "    <tr>\n",
              "      <th>3</th>\n",
              "      <td>7</td>\n",
              "      <td>9</td>\n",
              "      <td>2020-02-28</td>\n",
              "      <td>Brazil</td>\n",
              "      <td>TOTAL</td>\n",
              "      <td>TOTAL</td>\n",
              "      <td>0</td>\n",
              "      <td>0</td>\n",
              "      <td>1</td>\n",
              "      <td>2</td>\n",
              "      <td>0</td>\n",
              "      <td>1</td>\n",
              "      <td>0.0</td>\n",
              "      <td>0.00094</td>\n",
              "      <td>0.0</td>\n",
              "      <td>NaN</td>\n",
              "      <td>NaN</td>\n",
              "      <td>NaN</td>\n",
              "      <td>NaN</td>\n",
              "      <td>NaN</td>\n",
              "      <td>NaN</td>\n",
              "      <td>NaN</td>\n",
              "      <td>NaN</td>\n",
              "    </tr>\n",
              "    <tr>\n",
              "      <th>4</th>\n",
              "      <td>9</td>\n",
              "      <td>9</td>\n",
              "      <td>2020-02-29</td>\n",
              "      <td>Brazil</td>\n",
              "      <td>TOTAL</td>\n",
              "      <td>TOTAL</td>\n",
              "      <td>0</td>\n",
              "      <td>0</td>\n",
              "      <td>0</td>\n",
              "      <td>2</td>\n",
              "      <td>0</td>\n",
              "      <td>2</td>\n",
              "      <td>0.0</td>\n",
              "      <td>0.00094</td>\n",
              "      <td>0.0</td>\n",
              "      <td>NaN</td>\n",
              "      <td>NaN</td>\n",
              "      <td>NaN</td>\n",
              "      <td>NaN</td>\n",
              "      <td>NaN</td>\n",
              "      <td>NaN</td>\n",
              "      <td>NaN</td>\n",
              "      <td>NaN</td>\n",
              "    </tr>\n",
              "  </tbody>\n",
              "</table>\n",
              "</div>"
            ],
            "text/plain": [
              "   index  epi_week  ... vaccinated_second vaccinated_second_per_100k_inhabitants\n",
              "0      1         9  ...               NaN                                    NaN\n",
              "1      3         9  ...               NaN                                    NaN\n",
              "2      5         9  ...               NaN                                    NaN\n",
              "3      7         9  ...               NaN                                    NaN\n",
              "4      9         9  ...               NaN                                    NaN\n",
              "\n",
              "[5 rows x 23 columns]"
            ]
          },
          "metadata": {
            "tags": []
          },
          "execution_count": 18
        }
      ]
    },
    {
      "cell_type": "markdown",
      "metadata": {
        "id": "2-UjOFOUq2iB"
      },
      "source": [
        "**Infectados**"
      ]
    },
    {
      "cell_type": "code",
      "metadata": {
        "id": "_XWAvVaH7tvK"
      },
      "source": [
        "df_BR[\"newRecovered\"] = df_BR[\"recovered\"].diff()\r\n",
        "df_BR.newRecovered.fillna(0, inplace=True)\r\n",
        "df_BR.recovered.fillna(0, inplace=True)"
      ],
      "execution_count": 46,
      "outputs": []
    },
    {
      "cell_type": "code",
      "metadata": {
        "id": "P7edO6tV645F"
      },
      "source": [
        "active_infected = [df_BR[\"totalCases\"].iloc[0]]\r\n",
        "for nc, nr in zip(df_BR[\"newCases\"].iloc[1:], \r\n",
        "                  df_BR[\"newRecovered\"].iloc[1:]):\r\n",
        "    active_infected.append(active_infected[-1] + nc - nr)\r\n",
        "df_BR[\"activeCases\"] = active_infected"
      ],
      "execution_count": 47,
      "outputs": []
    },
    {
      "cell_type": "code",
      "metadata": {
        "colab": {
          "base_uri": "https://localhost:8080/",
          "height": 613
        },
        "id": "tOnDCuXuI9NR",
        "outputId": "4b155b31-4c64-42a7-d5c5-57a927ef1d57"
      },
      "source": [
        "df_BR_date = df_BR.iloc[:200] #200 primeiros dias\r\n",
        "t = np.linspace(0, len(df_BR_date.index.values), len(df_BR_date.index.values))\r\n",
        "\r\n",
        "# Visualizando a evolução da Epidemia - S(t), I(t) e R(t)\r\n",
        "fig = plt.figure(facecolor='w',figsize=(20,10))\r\n",
        "ax = fig.add_subplot(111, axisbelow=True)\r\n",
        "#plt.scatter(t, Sd, marker='o', color='y', label='Suscetíveis - dados', s=15)\r\n",
        "plt.scatter(t, df_BR_date['activeCases'], marker='*', color='c', label='Infectados - dados', s=15)\r\n",
        "plt.scatter(t, df_BR_date['recovered'], marker='+', color='gray', label='Removidos - dados', s=15)\r\n",
        "ax.set_xlabel('Dias')\r\n",
        "ax.set_ylabel('Indivíduos')\r\n",
        "ax.yaxis.set_tick_params(length=0)\r\n",
        "ax.xaxis.set_tick_params(length=0)\r\n",
        "ax.grid(b=True, which='major', c='w', lw=2, ls='-')\r\n",
        "legend = ax.legend()\r\n",
        "legend.get_frame().set_alpha(0.5)\r\n",
        "for spine in ('top', 'right', 'bottom', 'left'):\r\n",
        "    ax.spines[spine].set_visible(False)\r\n",
        "plt.show() "
      ],
      "execution_count": 93,
      "outputs": [
        {
          "output_type": "display_data",
          "data": {
            "image/png": "[encoded data removed]",
            "text/plain": [
              "<Figure size 1440x720 with 1 Axes>"
            ]
          },
          "metadata": {
            "tags": []
          }
        }
      ]
    },
    {
      "cell_type": "code",
      "metadata": {
        "id": "UEGeACoOsbZD"
      },
      "source": [
        "# Tamanho da população - N\r\n",
        "N = 220e6\r\n",
        "\r\n",
        "# Dados Reais\r\n",
        "Id = df_BR_date[\"activeCases\"].iloc[1:]\r\n",
        "Rd = df_BR_date[\"recovered\"].iloc[1:]\r\n",
        "Sd = N - Rd - Id"
      ],
      "execution_count": 92,
      "outputs": []
    },
    {
      "cell_type": "code",
      "metadata": {
        "id": "BKfuHY0Npthz"
      },
      "source": [
        "# Valores iniciais \r\n",
        "I0 = 1 \r\n",
        "R0 = 0\r\n",
        "S0 = N - I0\r\n",
        "\r\n",
        "# Vetor de condições iniciais\r\n",
        "y0 = S0, I0, R0\r\n",
        "\r\n",
        "# Beta -  taxa de contato,\r\n",
        "# r - taxa média de recuperação (in 1/dia).\r\n",
        "\r\n",
        "theta0 = [1e-4, 1e-2] # valores iniciais [Beta, r]"
      ],
      "execution_count": 88,
      "outputs": []
    },
    {
      "cell_type": "code",
      "metadata": {
        "colab": {
          "base_uri": "https://localhost:8080/"
        },
        "id": "KKzHa5N9OfUO",
        "outputId": "9aa33b78-6c76-4e0e-93b0-50bf12c01897"
      },
      "source": [
        "(c, kvg) = optimize.leastsq(objetivo,theta0) \r\n",
        "print(c)"
      ],
      "execution_count": 89,
      "outputs": [
        {
          "output_type": "stream",
          "text": [
            "[-1.93008064  0.00638175]\n"
          ],
          "name": "stdout"
        }
      ]
    },
    {
      "cell_type": "code",
      "metadata": {
        "id": "yq2MJzE_GJfv"
      },
      "source": [
        "[Ss,Is,Rs] = SIRsim(y0,t,c)"
      ],
      "execution_count": 90,
      "outputs": []
    },
    {
      "cell_type": "code",
      "metadata": {
        "colab": {
          "base_uri": "https://localhost:8080/",
          "height": 602
        },
        "id": "C7azmGntOj_W",
        "outputId": "9085417e-b624-47ff-f4b0-fa3679a11a32"
      },
      "source": [
        "# Visualizando a evolução da Epidemia - S(t), I(t) e R(t)\r\n",
        "fig = plt.figure(facecolor='w',figsize=(20,10))\r\n",
        "ax = fig.add_subplot(111, axisbelow=True)\r\n",
        "#ax.plot(t, Ss, 'b', alpha=0.5, lw=4, label='Suscetíveis')\r\n",
        "ax.plot(t, Is, 'k', alpha=0.5, lw=4, label='Infectados')\r\n",
        "#ax.plot(t, Rs, 'g', alpha=0.5, lw=4, label='Removidos')\r\n",
        "#plt.scatter(t, Sd, marker='o', color='y', label='Suscetíveis - dados', s=15)\r\n",
        "#plt.scatter(t, Id, marker='*', color='c', label='Infectados - dados', s=15)\r\n",
        "#plt.scatter(t, Rd, marker='+', color='gray', label='Removidos - dados', s=15)\r\n",
        "ax.set_xlabel('Dias')\r\n",
        "ax.set_ylabel('Indivíduos')\r\n",
        "ax.yaxis.set_tick_params(length=0)\r\n",
        "ax.xaxis.set_tick_params(length=0)\r\n",
        "ax.grid(b=True, which='major', c='w', lw=2, ls='-')\r\n",
        "legend = ax.legend()\r\n",
        "legend.get_frame().set_alpha(0.5)\r\n",
        "for spine in ('top', 'right', 'bottom', 'left'):\r\n",
        "    ax.spines[spine].set_visible(False)\r\n",
        "plt.show() "
      ],
      "execution_count": 91,
      "outputs": [
        {
          "output_type": "display_data",
          "data": {
            "image/png": "[encoded data removed]",
            "text/plain": [
              "<Figure size 1440x720 with 1 Axes>"
            ]
          },
          "metadata": {
            "tags": []
          }
        }
      ]
    },
    {
      "cell_type": "markdown",
      "metadata": {
        "id": "8wTdNEegVYFm"
      },
      "source": [
        "## Maranhão"
      ]
    },
    {
      "cell_type": "code",
      "metadata": {
        "colab": {
          "base_uri": "https://localhost:8080/",
          "height": 309
        },
        "id": "kZ0FmtguVYFo",
        "outputId": "e4c1d811-5e90-4e84-b6d1-23948e899ce6"
      },
      "source": [
        "state = 'MA'\r\n",
        "df_MA = data[data.state == state].reset_index()\r\n",
        "df_MA.head()"
      ],
      "execution_count": 179,
      "outputs": [
        {
          "output_type": "execute_result",
          "data": {
            "text/html": [
              "<div>\n",
              "<style scoped>\n",
              "    .dataframe tbody tr th:only-of-type {\n",
              "        vertical-align: middle;\n",
              "    }\n",
              "\n",
              "    .dataframe tbody tr th {\n",
              "        vertical-align: top;\n",
              "    }\n",
              "\n",
              "    .dataframe thead th {\n",
              "        text-align: right;\n",
              "    }\n",
              "</style>\n",
              "<table border=\"1\" class=\"dataframe\">\n",
              "  <thead>\n",
              "    <tr style=\"text-align: right;\">\n",
              "      <th></th>\n",
              "      <th>index</th>\n",
              "      <th>epi_week</th>\n",
              "      <th>date</th>\n",
              "      <th>country</th>\n",
              "      <th>state</th>\n",
              "      <th>city</th>\n",
              "      <th>newDeaths</th>\n",
              "      <th>deaths</th>\n",
              "      <th>newCases</th>\n",
              "      <th>totalCases</th>\n",
              "      <th>deathsMS</th>\n",
              "      <th>totalCasesMS</th>\n",
              "      <th>deaths_per_100k_inhabitants</th>\n",
              "      <th>totalCases_per_100k_inhabitants</th>\n",
              "      <th>deaths_by_totalCases</th>\n",
              "      <th>recovered</th>\n",
              "      <th>suspects</th>\n",
              "      <th>tests</th>\n",
              "      <th>tests_per_100k_inhabitants</th>\n",
              "      <th>vaccinated</th>\n",
              "      <th>vaccinated_per_100k_inhabitants</th>\n",
              "      <th>vaccinated_second</th>\n",
              "      <th>vaccinated_second_per_100k_inhabitants</th>\n",
              "    </tr>\n",
              "  </thead>\n",
              "  <tbody>\n",
              "    <tr>\n",
              "      <th>0</th>\n",
              "      <td>220</td>\n",
              "      <td>12</td>\n",
              "      <td>2020-03-20</td>\n",
              "      <td>Brazil</td>\n",
              "      <td>MA</td>\n",
              "      <td>TOTAL</td>\n",
              "      <td>0</td>\n",
              "      <td>0</td>\n",
              "      <td>1</td>\n",
              "      <td>1</td>\n",
              "      <td>0</td>\n",
              "      <td>0</td>\n",
              "      <td>0.0</td>\n",
              "      <td>0.01413</td>\n",
              "      <td>0.0</td>\n",
              "      <td>NaN</td>\n",
              "      <td>NaN</td>\n",
              "      <td>NaN</td>\n",
              "      <td>NaN</td>\n",
              "      <td>NaN</td>\n",
              "      <td>NaN</td>\n",
              "      <td>NaN</td>\n",
              "      <td>NaN</td>\n",
              "    </tr>\n",
              "    <tr>\n",
              "      <th>1</th>\n",
              "      <td>247</td>\n",
              "      <td>12</td>\n",
              "      <td>2020-03-21</td>\n",
              "      <td>Brazil</td>\n",
              "      <td>MA</td>\n",
              "      <td>TOTAL</td>\n",
              "      <td>0</td>\n",
              "      <td>0</td>\n",
              "      <td>1</td>\n",
              "      <td>2</td>\n",
              "      <td>0</td>\n",
              "      <td>1</td>\n",
              "      <td>0.0</td>\n",
              "      <td>0.02827</td>\n",
              "      <td>0.0</td>\n",
              "      <td>NaN</td>\n",
              "      <td>NaN</td>\n",
              "      <td>NaN</td>\n",
              "      <td>NaN</td>\n",
              "      <td>NaN</td>\n",
              "      <td>NaN</td>\n",
              "      <td>NaN</td>\n",
              "      <td>NaN</td>\n",
              "    </tr>\n",
              "    <tr>\n",
              "      <th>2</th>\n",
              "      <td>275</td>\n",
              "      <td>13</td>\n",
              "      <td>2020-03-22</td>\n",
              "      <td>Brazil</td>\n",
              "      <td>MA</td>\n",
              "      <td>TOTAL</td>\n",
              "      <td>0</td>\n",
              "      <td>0</td>\n",
              "      <td>0</td>\n",
              "      <td>2</td>\n",
              "      <td>0</td>\n",
              "      <td>2</td>\n",
              "      <td>0.0</td>\n",
              "      <td>0.02827</td>\n",
              "      <td>0.0</td>\n",
              "      <td>NaN</td>\n",
              "      <td>NaN</td>\n",
              "      <td>NaN</td>\n",
              "      <td>NaN</td>\n",
              "      <td>NaN</td>\n",
              "      <td>NaN</td>\n",
              "      <td>NaN</td>\n",
              "      <td>NaN</td>\n",
              "    </tr>\n",
              "    <tr>\n",
              "      <th>3</th>\n",
              "      <td>303</td>\n",
              "      <td>13</td>\n",
              "      <td>2020-03-23</td>\n",
              "      <td>Brazil</td>\n",
              "      <td>MA</td>\n",
              "      <td>TOTAL</td>\n",
              "      <td>0</td>\n",
              "      <td>0</td>\n",
              "      <td>6</td>\n",
              "      <td>8</td>\n",
              "      <td>0</td>\n",
              "      <td>2</td>\n",
              "      <td>0.0</td>\n",
              "      <td>0.11307</td>\n",
              "      <td>0.0</td>\n",
              "      <td>NaN</td>\n",
              "      <td>302.0</td>\n",
              "      <td>NaN</td>\n",
              "      <td>NaN</td>\n",
              "      <td>NaN</td>\n",
              "      <td>NaN</td>\n",
              "      <td>NaN</td>\n",
              "      <td>NaN</td>\n",
              "    </tr>\n",
              "    <tr>\n",
              "      <th>4</th>\n",
              "      <td>331</td>\n",
              "      <td>13</td>\n",
              "      <td>2020-03-24</td>\n",
              "      <td>Brazil</td>\n",
              "      <td>MA</td>\n",
              "      <td>TOTAL</td>\n",
              "      <td>0</td>\n",
              "      <td>0</td>\n",
              "      <td>0</td>\n",
              "      <td>8</td>\n",
              "      <td>0</td>\n",
              "      <td>8</td>\n",
              "      <td>0.0</td>\n",
              "      <td>0.11307</td>\n",
              "      <td>0.0</td>\n",
              "      <td>NaN</td>\n",
              "      <td>302.0</td>\n",
              "      <td>NaN</td>\n",
              "      <td>NaN</td>\n",
              "      <td>NaN</td>\n",
              "      <td>NaN</td>\n",
              "      <td>NaN</td>\n",
              "      <td>NaN</td>\n",
              "    </tr>\n",
              "  </tbody>\n",
              "</table>\n",
              "</div>"
            ],
            "text/plain": [
              "   index  epi_week  ... vaccinated_second vaccinated_second_per_100k_inhabitants\n",
              "0    220        12  ...               NaN                                    NaN\n",
              "1    247        12  ...               NaN                                    NaN\n",
              "2    275        13  ...               NaN                                    NaN\n",
              "3    303        13  ...               NaN                                    NaN\n",
              "4    331        13  ...               NaN                                    NaN\n",
              "\n",
              "[5 rows x 23 columns]"
            ]
          },
          "metadata": {
            "tags": []
          },
          "execution_count": 179
        }
      ]
    },
    {
      "cell_type": "markdown",
      "metadata": {
        "id": "1oaAUZlrVYFp"
      },
      "source": [
        "**Infectados**"
      ]
    },
    {
      "cell_type": "code",
      "metadata": {
        "id": "EJrNTy11VYFq"
      },
      "source": [
        "df_MA[\"newRecovered\"] = df_MA[\"recovered\"].diff()\r\n",
        "df_MA.newRecovered.fillna(0, inplace=True)\r\n",
        "df_MA.recovered.fillna(0, inplace=True)"
      ],
      "execution_count": 180,
      "outputs": []
    },
    {
      "cell_type": "code",
      "metadata": {
        "id": "uvoW2OeXVYFq"
      },
      "source": [
        "active_infected = [df_MA[\"totalCases\"].iloc[0]]\r\n",
        "for nc, nr in zip(df_MA[\"newCases\"].iloc[1:], \r\n",
        "                  df_MA[\"newRecovered\"].iloc[1:]):\r\n",
        "    active_infected.append(active_infected[-1] + nc - nr)\r\n",
        "df_MA[\"activeCases\"] = active_infected"
      ],
      "execution_count": 181,
      "outputs": []
    },
    {
      "cell_type": "code",
      "metadata": {
        "id": "EMC-z4e1ZN4w"
      },
      "source": [
        "import yaml\r\n",
        "\r\n",
        "# Reading states static information, such as \r\n",
        "# estimated population, size of the state...\r\n",
        "with open('/content/drive/MyDrive/Trabalho/Covid/Datasets/state_pop.yaml') as f:\r\n",
        "    state_pop = yaml.load(f)\r\n",
        "\r\n",
        "#print(state_pop)"
      ],
      "execution_count": 182,
      "outputs": []
    },
    {
      "cell_type": "code",
      "metadata": {
        "id": "WYX800VXVYFr"
      },
      "source": [
        "#df_MA_date = df_MA.iloc[:] #200 primeiros dias\r\n",
        "\r\n",
        "# Tamanho da população - N\r\n",
        "N = state_pop['MA']['population']\r\n",
        "\r\n",
        "# Dados Reais\r\n",
        "Id = df_MA[\"activeCases\"]#.iloc[1:]\r\n",
        "Rd = df_MA[\"recovered\"]#.iloc[1:]\r\n",
        "Sd = N - Rd - Id"
      ],
      "execution_count": 183,
      "outputs": []
    },
    {
      "cell_type": "code",
      "metadata": {
        "id": "OjvoqC0QVYFr"
      },
      "source": [
        "# Valores iniciais \r\n",
        "I0 = 1 \r\n",
        "R0 = 0\r\n",
        "S0 = N - I0\r\n",
        "\r\n",
        "# Vetor de condições iniciais\r\n",
        "y0 = S0, I0, R0\r\n",
        "\r\n",
        "# Beta -  taxa de contato,\r\n",
        "# r - taxa média de recuperação (in 1/dia).\r\n",
        "\r\n",
        "theta0 = [1e-4, 1e-2] # valores iniciais [Beta, r]\r\n",
        "\r\n",
        "t = np.linspace(1, len(df_MA.index.values), len(df_MA.index.values))"
      ],
      "execution_count": 184,
      "outputs": []
    },
    {
      "cell_type": "code",
      "metadata": {
        "colab": {
          "base_uri": "https://localhost:8080/"
        },
        "id": "vS_3R7hCVYFr",
        "outputId": "9a762cf9-306a-4c5e-b40c-ca2ebac5a0ee"
      },
      "source": [
        "(c, kvg) = optimize.leastsq(objetivo,theta0) \r\n",
        "print(c)"
      ],
      "execution_count": 185,
      "outputs": [
        {
          "output_type": "stream",
          "text": [
            "[-0.27185333  0.00367314]\n"
          ],
          "name": "stdout"
        }
      ]
    },
    {
      "cell_type": "code",
      "metadata": {
        "id": "QJ_foghzVYFt"
      },
      "source": [
        "[Ss,Is,Rs] = SIRsim(y0,t,c)"
      ],
      "execution_count": 186,
      "outputs": []
    },
    {
      "cell_type": "code",
      "metadata": {
        "colab": {
          "base_uri": "https://localhost:8080/",
          "height": 542
        },
        "id": "ZhBVeScCapuX",
        "outputId": "f5ec7f90-1006-4b58-c11f-b1a34d56487d"
      },
      "source": [
        "# Plotting the correct results components\r\n",
        "fig = go.Figure()\r\n",
        "\r\n",
        "fig.add_trace(go.Scatter(\r\n",
        "    name=\"Active Cases - Model\",\r\n",
        "    x=t,\r\n",
        "    y=Is,\r\n",
        "    mode='lines',\r\n",
        "    line=dict(width=3, dash=\"dash\", color=\"#6a1b9a\")\r\n",
        "    ))\r\n",
        "\r\n",
        "fig.add_trace(go.Scatter(\r\n",
        "    name=\"Recovered - Model\",\r\n",
        "    x=t,\r\n",
        "    y=Rs,\r\n",
        "    mode='lines',\r\n",
        "    line=dict(width=3, dash=\"dash\", color=\"#2e7d32\")\r\n",
        "    ))\r\n",
        "\r\n",
        "fig.add_trace(go.Scatter(\r\n",
        "    name=\"Active Cases - Data\",\r\n",
        "    x=t,\r\n",
        "    y=Id,\r\n",
        "    mode='markers',\r\n",
        "    marker=dict(size=6, color=\"#38006b\")\r\n",
        "    ))\r\n",
        "\r\n",
        "fig.add_trace(go.Scatter(\r\n",
        "    name=\"Recovered - Data\",\r\n",
        "    x=t,\r\n",
        "    y=Rd,\r\n",
        "    mode='markers',\r\n",
        "    marker=dict(size=6, color=\"#005005\")\r\n",
        "    ))\r\n",
        "\r\n",
        "fig.update_layout(\r\n",
        "    template='xgridoff',\r\n",
        "    xaxis=dict(showgrid=False),\r\n",
        "    xaxis_title='Days',\r\n",
        "    legend_orientation=\"h\", legend=dict(x=0.35, y=1.0),\r\n",
        "    title_text=\"SIR Model\")\r\n",
        "\r\n",
        "fig.show()"
      ],
      "execution_count": 187,
      "outputs": [
        {
          "output_type": "display_data",
          "data": {
            "text/html": [
              "<html>\n",
              "<head><meta charset=\"utf-8\" /></head>\n",
              "<body>\n",
              "    <div>\n",
              "            <script src=\"https://cdnjs.cloudflare.com/ajax/libs/mathjax/2.7.5/MathJax.js?config=TeX-AMS-MML_SVG\"></script><script type=\"text/javascript\">if (window.MathJax) {MathJax.Hub.Config({SVG: {font: \"STIX-Web\"}});}</script>\n",
              "                <script type=\"text/javascript\">window.PlotlyConfig = {MathJaxConfig: 'local'};</script>\n",
              "        <script src=\"https://cdn.plot.ly/plotly-latest.min.js\"></script>    \n",
              "            <div id=\"4a83feda-1ebb-4906-bade-18d8bbf93836\" class=\"plotly-graph-div\" style=\"height:525px; width:100%;\"></div>\n",
              "            <script type=\"text/javascript\">\n",
              "                \n",
              "                    window.PLOTLYENV=window.PLOTLYENV || {};\n",
              "                    \n",
              "                if (document.getElementById(\"4a83feda-1ebb-4906-bade-18d8bbf93836\")) {\n",
              "                    Plotly.newPlot(\n",
              "                        '4a83feda-1ebb-4906-bade-18d8bbf93836',\n",
              "                        [{\"line\": {\"color\": \"#6a1b9a\", \"dash\": \"dash\", \"width\": 3}, \"mode\": \"lines\", \"name\": \"Active Cases - Model\", \"type\": \"scatter\", \"x\": [1.0, 2.0, 3.0, 4.0, 5.0, 6.0, 7.0, 8.0, 9.0, 10.0, 11.0, 12.0, 13.0, 14.0, 15.0, 16.0, 17.0, 18.0, 19.0, 20.0, 21.0, 22.0, 23.0, 24.0, 25.0, 26.0, 27.0, 28.0, 29.0, 30.0, 31.0, 32.0, 33.0, 34.0, 35.0, 36.0, 37.0, 38.0, 39.0, 40.0, 41.0, 42.0, 43.0, 44.0, 45.0, 46.0, 47.0, 48.0, 49.0, 50.0, 51.0, 52.0, 53.0, 54.0, 55.0, 56.0, 57.0, 58.0, 59.0, 60.0, 61.0, 62.0, 63.0, 64.0, 65.0, 66.0, 67.0, 68.0, 69.0, 70.0, 71.0, 72.0, 73.0, 74.0, 75.0, 76.0, 77.0, 78.0, 79.0, 80.0, 81.0, 82.0, 83.0, 84.0, 85.0, 86.0, 87.0, 88.0, 89.0, 90.0, 91.0, 92.0, 93.0, 94.0, 95.0, 96.0, 97.0, 98.0, 99.0, 100.0, 101.0, 102.0, 103.0, 104.0, 105.0, 106.0, 107.0, 108.0, 109.0, 110.0, 111.0, 112.0, 113.0, 114.0, 115.0, 116.0, 117.0, 118.0, 119.0, 120.0, 121.0, 122.0, 123.0, 124.0, 125.0, 126.0, 127.0, 128.0, 129.0, 130.0, 131.0, 132.0, 133.0, 134.0, 135.0, 136.0, 137.0, 138.0, 139.0, 140.0, 141.0, 142.0, 143.0, 144.0, 145.0, 146.0, 147.0, 148.0, 149.0, 150.0, 151.0, 152.0, 153.0, 154.0, 155.0, 156.0, 157.0, 158.0, 159.0, 160.0, 161.0, 162.0, 163.0, 164.0, 165.0, 166.0, 167.0, 168.0, 169.0, 170.0, 171.0, 172.0, 173.0, 174.0, 175.0, 176.0, 177.0, 178.0, 179.0, 180.0, 181.0, 182.0, 183.0, 184.0, 185.0, 186.0, 187.0, 188.0, 189.0, 190.0, 191.0, 192.0, 193.0, 194.0, 195.0, 196.0, 197.0, 198.0, 199.0, 200.0, 201.0, 202.0, 203.0, 204.0, 205.0, 206.0, 207.0, 208.0, 209.0, 210.0, 211.0, 212.0, 213.0, 214.0, 215.0, 216.0, 217.0, 218.0, 219.0, 220.0, 221.0, 222.0, 223.0, 224.0, 225.0, 226.0, 227.0, 228.0, 229.0, 230.0, 231.0, 232.0, 233.0, 234.0, 235.0, 236.0, 237.0, 238.0, 239.0, 240.0, 241.0, 242.0, 243.0, 244.0, 245.0, 246.0, 247.0, 248.0, 249.0, 250.0, 251.0, 252.0, 253.0, 254.0, 255.0, 256.0, 257.0, 258.0, 259.0, 260.0, 261.0, 262.0, 263.0, 264.0, 265.0, 266.0, 267.0, 268.0, 269.0, 270.0, 271.0, 272.0, 273.0, 274.0, 275.0, 276.0, 277.0, 278.0, 279.0, 280.0, 281.0, 282.0, 283.0, 284.0, 285.0, 286.0, 287.0, 288.0, 289.0, 290.0, 291.0, 292.0, 293.0, 294.0, 295.0, 296.0, 297.0, 298.0, 299.0, 300.0, 301.0, 302.0, 303.0, 304.0, 305.0, 306.0, 307.0, 308.0, 309.0, 310.0, 311.0, 312.0, 313.0, 314.0, 315.0, 316.0, 317.0, 318.0, 319.0, 320.0, 321.0, 322.0, 323.0, 324.0, 325.0, 326.0, 327.0, 328.0, 329.0, 330.0, 331.0, 332.0, 333.0, 334.0, 335.0, 336.0, 337.0, 338.0, 339.0, 340.0, 341.0, 342.0, 343.0, 344.0, 345.0, 346.0, 347.0, 348.0, 349.0, 350.0, 351.0, 352.0, 353.0, 354.0, 355.0, 356.0], \"y\": [1.0, -7.102128920577256e-44, -1.9023650625305165e-45, -3.4111951176889428e-49, -1.2360377765752155e-54, -1.1600902820216332e-54, -1.084142787468051e-54, -1.0081952929144687e-54, -9.322477983608866e-55, -8.563003038073044e-55, -7.803528092537221e-55, -7.044053147001399e-55, -6.284578201465576e-55, -5.5251032559297534e-55, -4.765628310393931e-55, -4.006153364858109e-55, -3.2466784193222864e-55, -2.4872034737864636e-55, -1.7277285282506415e-55, -9.68253582714819e-56, -2.087786371789967e-56, 7.283050424070905e-60, 6.823946695357104e-60, 6.364842966643303e-60, 5.905739237929501e-60, 5.446635509215701e-60, 4.9875317805019e-60, 4.528428051788099e-60, 4.069324323074298e-60, 3.610220594360497e-60, 3.1511168656466966e-60, 2.692013136932895e-60, 2.2329094082190942e-60, 1.7738056795052932e-60, 1.3147019507914924e-60, 8.555982220776915e-61, 3.964944933638904e-61, 1.4074710247502697e-66, 1.3989800225775944e-66, 1.390489020404919e-66, 1.3819980182322435e-66, 1.3735070160595682e-66, 1.365016013886893e-66, 1.3565250117142174e-66, 1.348034009541542e-66, 1.3395430073688668e-66, 1.3310520051961912e-66, 1.322561003023516e-66, 1.3140700008508406e-66, 1.305578998678165e-66, 1.2970879965054898e-66, 1.2885969943328145e-66, 1.280105992160139e-66, 1.2716149899874636e-66, 1.263123987814788e-66, 1.2546329856421128e-66, 1.2461419834694375e-66, 1.237650981296762e-66, 1.2291599791240866e-66, 1.2206689769514113e-66, 1.2121779747787358e-66, 1.2036869726060605e-66, 1.1951959704333852e-66, 1.1867049682607096e-66, 1.1782139660880343e-66, 1.169722963915359e-66, 1.1612319617426835e-66, 1.1527409595700082e-66, 1.1442499573973329e-66, 1.1357589552246573e-66, 1.127267953051982e-66, 1.1187769508793066e-66, 1.1102859487066312e-66, 1.1017949465339559e-66, 1.0933039443612804e-66, 1.084812942188605e-66, 1.0763219400159296e-66, 1.0678309378432543e-66, 1.0593399356705789e-66, 1.0508489334979034e-66, 1.042357931325228e-66, 1.0338669291525527e-66, 1.0253759269798773e-66, 1.0168849248072019e-66, 1.0083939226345264e-66, 9.999029204618511e-67, 9.914119182891757e-67, 9.829209161165003e-67, 9.74429913943825e-67, 9.659389117711495e-67, 9.574479095984741e-67, 9.489569074257988e-67, 9.404659052531233e-67, 9.31974903080448e-67, 9.234839009077727e-67, 9.149928987350971e-67, 9.065018965624218e-67, 8.980108943897465e-67, 8.89519892217071e-67, 8.810288900443957e-67, 8.725378878717204e-67, 8.640468856990448e-67, 8.555558835263695e-67, 8.470648813536941e-67, 8.385738791810187e-67, 8.300828770083434e-67, 8.215918748356678e-67, 8.131008726629925e-67, 8.046098704903172e-67, 7.961188683176417e-67, 7.876278661449664e-67, 7.791368639722909e-67, 7.706458617996155e-67, 7.621548596269402e-67, 7.536638574542648e-67, 7.451728552815893e-67, 7.36681853108914e-67, 7.281908509362386e-67, 7.196998487635632e-67, 7.112088465908878e-67, 7.027178444182123e-67, 6.94226842245537e-67, 6.857358400728616e-67, 6.772448379001862e-67, 6.687538357275109e-67, 6.602628335548355e-67, 6.5177183138216e-67, 6.432808292094846e-67, 6.347898270368093e-67, 6.262988248641339e-67, 6.178078226914585e-67, 6.093168205187832e-67, 6.008258183461077e-67, 5.923348161734323e-67, 5.83843814000757e-67, 5.753528118280816e-67, 5.6686180965540616e-67, 5.583708074827308e-67, 5.498798053100554e-67, 5.4138880313738e-67, 5.328978009647046e-67, 5.244067987920292e-67, 5.1591579661935385e-67, 5.074247944466784e-67, 4.9893379227400306e-67, 4.9044279010132764e-67, 4.819517879286523e-67, 4.734607857559769e-67, 4.649697835833015e-67, 4.5647878141062606e-67, 4.4798777923795076e-67, 4.394967770652753e-67, 4.310057748925999e-67, 4.225147727199245e-67, 4.140237705472492e-67, 4.0553276837457375e-67, 3.970417662018983e-67, 3.8855076402922296e-67, 3.800597618565476e-67, 3.715687596838722e-67, 3.630777575111968e-67, 3.545867553385214e-67, 3.46095753165846e-67, 3.376047509931706e-67, 3.291137488204952e-67, 3.206227466478198e-67, 3.1213174447514444e-67, 3.036407423024691e-67, 2.9514974012979365e-67, 2.866587379571183e-67, 2.7816773578444286e-67, 2.696767336117675e-67, 2.611857314390921e-67, 2.526947292664167e-67, 2.4420372709374132e-67, 2.3571272492106595e-67, 2.2722172274839053e-67, 2.1873072057571516e-67, 2.1023971840303974e-67, 2.0174871623036438e-67, 1.9325771405768898e-67, 1.847667118850136e-67, 1.762757097123382e-67, 1.677847075396628e-67, 1.592937053669874e-67, 1.5080270319431204e-67, 1.4231170102163664e-67, 1.3382069884896125e-67, 1.2532969667628585e-67, 1.1683869450361046e-67, 1.0834769233093508e-67, 9.985669015825969e-68, 9.13656879855843e-68, 8.28746858129089e-68, 7.43836836402335e-68, 6.589268146755812e-68, 5.740167929488273e-68, 4.891067712220734e-68, 4.041967494953195e-68, 3.1928672776856557e-68, 2.3437670604181166e-68, 1.4946668431505775e-68, 6.455666258830385e-69, 8.832751501524547e-71, 8.779425265613803e-71, 8.726099029703057e-71, 8.672772793792312e-71, 8.619446557881568e-71, 8.566120321970822e-71, 8.512794086060078e-71, 8.459467850149332e-71, 8.406141614238586e-71, 8.352815378327841e-71, 8.299489142417095e-71, 8.24616290650635e-71, 8.192836670595606e-71, 8.13951043468486e-71, 8.086184198774116e-71, 8.03285796286337e-71, 7.979531726952624e-71, 7.92620549104188e-71, 7.872879255131133e-71, 7.819553019220389e-71, 7.766226783309645e-71, 7.712900547398898e-71, 7.659574311488154e-71, 7.606248075577408e-71, 7.552921839666662e-71, 7.499595603755918e-71, 7.446269367845172e-71, 7.392943131934427e-71, 7.339616896023683e-71, 7.286290660112937e-71, 7.2329644242021915e-71, 7.179638188291446e-71, 7.126311952380701e-71, 7.072985716469956e-71, 7.01965948055921e-71, 6.9663332446484646e-71, 6.913007008737721e-71, 6.859680772826975e-71, 6.80635453691623e-71, 6.7530283010054845e-71, 6.699702065094739e-71, 6.646375829183994e-71, 6.593049593273248e-71, 6.539723357362503e-71, 6.486397121451759e-71, 6.433070885541013e-71, 6.379744649630268e-71, 6.326418413719523e-71, 6.2730921778087775e-71, 6.219765941898032e-71, 6.166439705987286e-71, 6.113113470076541e-71, 6.0597872341657974e-71, 6.006460998255051e-71, 5.953134762344306e-71, 5.899808526433561e-71, 5.846482290522816e-71, 5.7931560546120705e-71, 5.7398298187013245e-71, 5.686503582790579e-71, 5.633177346879836e-71, 5.57985111096909e-71, 5.5265248750583444e-71, 5.473198639147599e-71, 5.419872403236854e-71, 5.366546167326109e-71, 5.3132199314153635e-71, 5.259893695504618e-71, 5.206567459593873e-71, 5.153241223683128e-71, 5.099914987772383e-71, 5.0465887518616374e-71, 4.993262515950892e-71, 4.939936280040147e-71, 4.886610044129402e-71, 4.8332838082186565e-71, 4.779957572307911e-71, 4.726631336397166e-71, 4.673305100486421e-71, 4.619978864575676e-71, 4.5666526286649304e-71, 4.513326392754185e-71, 4.46000015684344e-71, 4.406673920932695e-71, 4.3533476850219495e-71, 4.300021449111204e-71, 4.246695213200459e-71, 4.193368977289714e-71, 4.140042741378969e-71, 4.0867165054682234e-71, 4.033390269557478e-71, 3.980064033646733e-71, 3.926737797735988e-71, 3.8734115618252425e-71, 3.820085325914497e-71, 3.766759090003752e-71, 3.713432854093007e-71, 3.660106618182262e-71, 3.606780382271517e-71, 3.5534541463607712e-71, 3.500127910450026e-71, 3.4468016745392804e-71, 3.393475438628536e-71, 3.3401492027177903e-71, 3.286822966807045e-71, 3.2334967308962995e-71, 3.180170494985555e-71, 3.1268442590748094e-71, 3.0735180231640642e-71, 3.0201917872533186e-71, 2.966865551342574e-71, 2.9135393154318285e-71, 2.8602130795210833e-71, 2.8068868436103377e-71, 2.753560607699593e-71, 2.7002343717888477e-71, 2.6469081358781024e-71, 2.593581899967357e-71, 2.540255664056612e-71, 2.4869294281458668e-71, 2.4336031922351215e-71, 2.3802769563243763e-71, 2.326950720413631e-71, 2.273624484502886e-71, 2.2202982485921407e-71, 2.1669720126813954e-71, 2.1136457767706502e-71, 2.060319540859905e-71, 2.0069933049491598e-71, 1.9536670690384145e-71, 1.9003408331276693e-71, 1.847014597216924e-71, 1.7936883613061789e-71, 1.7403621253954335e-71, 1.6870358894846884e-71, 1.633709653573943e-71, 1.580383417663198e-71, 1.5270571817524526e-71, 1.4737309458417076e-71, 1.4204047099309621e-71, 1.3670784740202171e-71, 1.3137522381094719e-71, 1.2604260021987267e-71, 1.2070997662879814e-71, 1.1537735303772362e-71, 1.100447294466491e-71, 1.0471210585557458e-71, 9.937948226450006e-72, 9.404685867342553e-72, 8.871423508235101e-72, 8.338161149127649e-72, 7.804898790020197e-72, 7.271636430912744e-72]}, {\"line\": {\"color\": \"#2e7d32\", \"dash\": \"dash\", \"width\": 3}, \"mode\": \"lines\", \"name\": \"Recovered - Model\", \"type\": \"scatter\", \"x\": [1.0, 2.0, 3.0, 4.0, 5.0, 6.0, 7.0, 8.0, 9.0, 10.0, 11.0, 12.0, 13.0, 14.0, 15.0, 16.0, 17.0, 18.0, 19.0, 20.0, 21.0, 22.0, 23.0, 24.0, 25.0, 26.0, 27.0, 28.0, 29.0, 30.0, 31.0, 32.0, 33.0, 34.0, 35.0, 36.0, 37.0, 38.0, 39.0, 40.0, 41.0, 42.0, 43.0, 44.0, 45.0, 46.0, 47.0, 48.0, 49.0, 50.0, 51.0, 52.0, 53.0, 54.0, 55.0, 56.0, 57.0, 58.0, 59.0, 60.0, 61.0, 62.0, 63.0, 64.0, 65.0, 66.0, 67.0, 68.0, 69.0, 70.0, 71.0, 72.0, 73.0, 74.0, 75.0, 76.0, 77.0, 78.0, 79.0, 80.0, 81.0, 82.0, 83.0, 84.0, 85.0, 86.0, 87.0, 88.0, 89.0, 90.0, 91.0, 92.0, 93.0, 94.0, 95.0, 96.0, 97.0, 98.0, 99.0, 100.0, 101.0, 102.0, 103.0, 104.0, 105.0, 106.0, 107.0, 108.0, 109.0, 110.0, 111.0, 112.0, 113.0, 114.0, 115.0, 116.0, 117.0, 118.0, 119.0, 120.0, 121.0, 122.0, 123.0, 124.0, 125.0, 126.0, 127.0, 128.0, 129.0, 130.0, 131.0, 132.0, 133.0, 134.0, 135.0, 136.0, 137.0, 138.0, 139.0, 140.0, 141.0, 142.0, 143.0, 144.0, 145.0, 146.0, 147.0, 148.0, 149.0, 150.0, 151.0, 152.0, 153.0, 154.0, 155.0, 156.0, 157.0, 158.0, 159.0, 160.0, 161.0, 162.0, 163.0, 164.0, 165.0, 166.0, 167.0, 168.0, 169.0, 170.0, 171.0, 172.0, 173.0, 174.0, 175.0, 176.0, 177.0, 178.0, 179.0, 180.0, 181.0, 182.0, 183.0, 184.0, 185.0, 186.0, 187.0, 188.0, 189.0, 190.0, 191.0, 192.0, 193.0, 194.0, 195.0, 196.0, 197.0, 198.0, 199.0, 200.0, 201.0, 202.0, 203.0, 204.0, 205.0, 206.0, 207.0, 208.0, 209.0, 210.0, 211.0, 212.0, 213.0, 214.0, 215.0, 216.0, 217.0, 218.0, 219.0, 220.0, 221.0, 222.0, 223.0, 224.0, 225.0, 226.0, 227.0, 228.0, 229.0, 230.0, 231.0, 232.0, 233.0, 234.0, 235.0, 236.0, 237.0, 238.0, 239.0, 240.0, 241.0, 242.0, 243.0, 244.0, 245.0, 246.0, 247.0, 248.0, 249.0, 250.0, 251.0, 252.0, 253.0, 254.0, 255.0, 256.0, 257.0, 258.0, 259.0, 260.0, 261.0, 262.0, 263.0, 264.0, 265.0, 266.0, 267.0, 268.0, 269.0, 270.0, 271.0, 272.0, 273.0, 274.0, 275.0, 276.0, 277.0, 278.0, 279.0, 280.0, 281.0, 282.0, 283.0, 284.0, 285.0, 286.0, 287.0, 288.0, 289.0, 290.0, 291.0, 292.0, 293.0, 294.0, 295.0, 296.0, 297.0, 298.0, 299.0, 300.0, 301.0, 302.0, 303.0, 304.0, 305.0, 306.0, 307.0, 308.0, 309.0, 310.0, 311.0, 312.0, 313.0, 314.0, 315.0, 316.0, 317.0, 318.0, 319.0, 320.0, 321.0, 322.0, 323.0, 324.0, 325.0, 326.0, 327.0, 328.0, 329.0, 330.0, 331.0, 332.0, 333.0, 334.0, 335.0, 336.0, 337.0, 338.0, 339.0, 340.0, 341.0, 342.0, 343.0, 344.0, 345.0, 346.0, 347.0, 348.0, 349.0, 350.0, 351.0, 352.0, 353.0, 354.0, 355.0, 356.0], \"y\": [0.0, 1.9097017396280984e-09, 1.9097017396280984e-09, 1.9097017396280984e-09, 1.9097017396280984e-09, 1.9097017396280984e-09, 1.9097017396280984e-09, 1.9097017396280984e-09, 1.9097017396280984e-09, 1.9097017396280984e-09, 1.9097017396280984e-09, 1.9097017396280984e-09, 1.9097017396280984e-09, 1.9097017396280984e-09, 1.9097017396280984e-09, 1.9097017396280984e-09, 1.9097017396280984e-09, 1.9097017396280984e-09, 1.9097017396280984e-09, 1.9097017396280984e-09, 1.9097017396280984e-09, 1.9097017396280984e-09, 1.9097017396280984e-09, 1.9097017396280984e-09, 1.9097017396280984e-09, 1.9097017396280984e-09, 1.9097017396280984e-09, 1.9097017396280984e-09, 1.9097017396280984e-09, 1.9097017396280984e-09, 1.9097017396280984e-09, 1.9097017396280984e-09, 1.9097017396280984e-09, 1.9097017396280984e-09, 1.9097017396280984e-09, 1.9097017396280984e-09, 1.9097017396280984e-09, 1.9097017396280984e-09, 1.9097017396280984e-09, 1.9097017396280984e-09, 1.9097017396280984e-09, 1.9097017396280984e-09, 1.9097017396280984e-09, 1.9097017396280984e-09, 1.9097017396280984e-09, 1.9097017396280984e-09, 1.9097017396280984e-09, 1.9097017396280984e-09, 1.9097017396280984e-09, 1.9097017396280984e-09, 1.9097017396280984e-09, 1.9097017396280984e-09, 1.9097017396280984e-09, 1.9097017396280984e-09, 1.9097017396280984e-09, 1.9097017396280984e-09, 1.9097017396280984e-09, 1.9097017396280984e-09, 1.9097017396280984e-09, 1.9097017396280984e-09, 1.9097017396280984e-09, 1.9097017396280984e-09, 1.9097017396280984e-09, 1.9097017396280984e-09, 1.9097017396280984e-09, 1.9097017396280984e-09, 1.9097017396280984e-09, 1.9097017396280984e-09, 1.9097017396280984e-09, 1.9097017396280984e-09, 1.9097017396280984e-09, 1.9097017396280984e-09, 1.9097017396280984e-09, 1.9097017396280984e-09, 1.9097017396280984e-09, 1.9097017396280984e-09, 1.9097017396280984e-09, 1.9097017396280984e-09, 1.9097017396280984e-09, 1.9097017396280984e-09, 1.9097017396280984e-09, 1.9097017396280984e-09, 1.9097017396280984e-09, 1.9097017396280984e-09, 1.9097017396280984e-09, 1.9097017396280984e-09, 1.9097017396280984e-09, 1.9097017396280984e-09, 1.9097017396280984e-09, 1.9097017396280984e-09, 1.9097017396280984e-09, 1.9097017396280984e-09, 1.9097017396280984e-09, 1.9097017396280984e-09, 1.9097017396280984e-09, 1.9097017396280984e-09, 1.9097017396280984e-09, 1.9097017396280984e-09, 1.9097017396280984e-09, 1.9097017396280984e-09, 1.9097017396280984e-09, 1.9097017396280984e-09, 1.9097017396280984e-09, 1.9097017396280984e-09, 1.9097017396280984e-09, 1.9097017396280984e-09, 1.9097017396280984e-09, 1.9097017396280984e-09, 1.9097017396280984e-09, 1.9097017396280984e-09, 1.9097017396280984e-09, 1.9097017396280984e-09, 1.9097017396280984e-09, 1.9097017396280984e-09, 1.9097017396280984e-09, 1.9097017396280984e-09, 1.9097017396280984e-09, 1.9097017396280984e-09, 1.9097017396280984e-09, 1.9097017396280984e-09, 1.9097017396280984e-09, 1.9097017396280984e-09, 1.9097017396280984e-09, 1.9097017396280984e-09, 1.9097017396280984e-09, 1.9097017396280984e-09, 1.9097017396280984e-09, 1.9097017396280984e-09, 1.9097017396280984e-09, 1.9097017396280984e-09, 1.9097017396280984e-09, 1.9097017396280984e-09, 1.9097017396280984e-09, 1.9097017396280984e-09, 1.9097017396280984e-09, 1.9097017396280984e-09, 1.9097017396280984e-09, 1.9097017396280984e-09, 1.9097017396280984e-09, 1.9097017396280984e-09, 1.9097017396280984e-09, 1.9097017396280984e-09, 1.9097017396280984e-09, 1.9097017396280984e-09, 1.9097017396280984e-09, 1.9097017396280984e-09, 1.9097017396280984e-09, 1.9097017396280984e-09, 1.9097017396280984e-09, 1.9097017396280984e-09, 1.9097017396280984e-09, 1.9097017396280984e-09, 1.9097017396280984e-09, 1.9097017396280984e-09, 1.9097017396280984e-09, 1.9097017396280984e-09, 1.9097017396280984e-09, 1.9097017396280984e-09, 1.9097017396280984e-09, 1.9097017396280984e-09, 1.9097017396280984e-09, 1.9097017396280984e-09, 1.9097017396280984e-09, 1.9097017396280984e-09, 1.9097017396280984e-09, 1.9097017396280984e-09, 1.9097017396280984e-09, 1.9097017396280984e-09, 1.9097017396280984e-09, 1.9097017396280984e-09, 1.9097017396280984e-09, 1.9097017396280984e-09, 1.9097017396280984e-09, 1.9097017396280984e-09, 1.9097017396280984e-09, 1.9097017396280984e-09, 1.9097017396280984e-09, 1.9097017396280984e-09, 1.9097017396280984e-09, 1.9097017396280984e-09, 1.9097017396280984e-09, 1.9097017396280984e-09, 1.9097017396280984e-09, 1.9097017396280984e-09, 1.9097017396280984e-09, 1.9097017396280984e-09, 1.9097017396280984e-09, 1.9097017396280984e-09, 1.9097017396280984e-09, 1.9097017396280984e-09, 1.9097017396280984e-09, 1.9097017396280984e-09, 1.9097017396280984e-09, 1.9097017396280984e-09, 1.9097017396280984e-09, 1.9097017396280984e-09, 1.9097017396280984e-09, 1.9097017396280984e-09, 1.9097017396280984e-09, 1.9097017396280984e-09, 1.9097017396280984e-09, 1.9097017396280984e-09, 1.9097017396280984e-09, 1.9097017396280984e-09, 1.9097017396280984e-09, 1.9097017396280984e-09, 1.9097017396280984e-09, 1.9097017396280984e-09, 1.9097017396280984e-09, 1.9097017396280984e-09, 1.9097017396280984e-09, 1.9097017396280984e-09, 1.9097017396280984e-09, 1.9097017396280984e-09, 1.9097017396280984e-09, 1.9097017396280984e-09, 1.9097017396280984e-09, 1.9097017396280984e-09, 1.9097017396280984e-09, 1.9097017396280984e-09, 1.9097017396280984e-09, 1.9097017396280984e-09, 1.9097017396280984e-09, 1.9097017396280984e-09, 1.9097017396280984e-09, 1.9097017396280984e-09, 1.9097017396280984e-09, 1.9097017396280984e-09, 1.9097017396280984e-09, 1.9097017396280984e-09, 1.9097017396280984e-09, 1.9097017396280984e-09, 1.9097017396280984e-09, 1.9097017396280984e-09, 1.9097017396280984e-09, 1.9097017396280984e-09, 1.9097017396280984e-09, 1.9097017396280984e-09, 1.9097017396280984e-09, 1.9097017396280984e-09, 1.9097017396280984e-09, 1.9097017396280984e-09, 1.9097017396280984e-09, 1.9097017396280984e-09, 1.9097017396280984e-09, 1.9097017396280984e-09, 1.9097017396280984e-09, 1.9097017396280984e-09, 1.9097017396280984e-09, 1.9097017396280984e-09, 1.9097017396280984e-09, 1.9097017396280984e-09, 1.9097017396280984e-09, 1.9097017396280984e-09, 1.9097017396280984e-09, 1.9097017396280984e-09, 1.9097017396280984e-09, 1.9097017396280984e-09, 1.9097017396280984e-09, 1.9097017396280984e-09, 1.9097017396280984e-09, 1.9097017396280984e-09, 1.9097017396280984e-09, 1.9097017396280984e-09, 1.9097017396280984e-09, 1.9097017396280984e-09, 1.9097017396280984e-09, 1.9097017396280984e-09, 1.9097017396280984e-09, 1.9097017396280984e-09, 1.9097017396280984e-09, 1.9097017396280984e-09, 1.9097017396280984e-09, 1.9097017396280984e-09, 1.9097017396280984e-09, 1.9097017396280984e-09, 1.9097017396280984e-09, 1.9097017396280984e-09, 1.9097017396280984e-09, 1.9097017396280984e-09, 1.9097017396280984e-09, 1.9097017396280984e-09, 1.9097017396280984e-09, 1.9097017396280984e-09, 1.9097017396280984e-09, 1.9097017396280984e-09, 1.9097017396280984e-09, 1.9097017396280984e-09, 1.9097017396280984e-09, 1.9097017396280984e-09, 1.9097017396280984e-09, 1.9097017396280984e-09, 1.9097017396280984e-09, 1.9097017396280984e-09, 1.9097017396280984e-09, 1.9097017396280984e-09, 1.9097017396280984e-09, 1.9097017396280984e-09, 1.9097017396280984e-09, 1.9097017396280984e-09, 1.9097017396280984e-09, 1.9097017396280984e-09, 1.9097017396280984e-09, 1.9097017396280984e-09, 1.9097017396280984e-09, 1.9097017396280984e-09, 1.9097017396280984e-09, 1.9097017396280984e-09, 1.9097017396280984e-09, 1.9097017396280984e-09, 1.9097017396280984e-09, 1.9097017396280984e-09, 1.9097017396280984e-09, 1.9097017396280984e-09, 1.9097017396280984e-09, 1.9097017396280984e-09, 1.9097017396280984e-09, 1.9097017396280984e-09, 1.9097017396280984e-09, 1.9097017396280984e-09, 1.9097017396280984e-09, 1.9097017396280984e-09, 1.9097017396280984e-09, 1.9097017396280984e-09, 1.9097017396280984e-09, 1.9097017396280984e-09, 1.9097017396280984e-09, 1.9097017396280984e-09, 1.9097017396280984e-09, 1.9097017396280984e-09, 1.9097017396280984e-09, 1.9097017396280984e-09, 1.9097017396280984e-09, 1.9097017396280984e-09, 1.9097017396280984e-09, 1.9097017396280984e-09, 1.9097017396280984e-09, 1.9097017396280984e-09, 1.9097017396280984e-09, 1.9097017396280984e-09, 1.9097017396280984e-09, 1.9097017396280984e-09, 1.9097017396280984e-09, 1.9097017396280984e-09, 1.9097017396280984e-09, 1.9097017396280984e-09, 1.9097017396280984e-09, 1.9097017396280984e-09, 1.9097017396280984e-09, 1.9097017396280984e-09, 1.9097017396280984e-09, 1.9097017396280984e-09, 1.9097017396280984e-09, 1.9097017396280984e-09, 1.9097017396280984e-09, 1.9097017396280984e-09]}, {\"marker\": {\"color\": \"#38006b\", \"size\": 6}, \"mode\": \"markers\", \"name\": \"Active Cases - Data\", \"type\": \"scatter\", \"x\": [1.0, 2.0, 3.0, 4.0, 5.0, 6.0, 7.0, 8.0, 9.0, 10.0, 11.0, 12.0, 13.0, 14.0, 15.0, 16.0, 17.0, 18.0, 19.0, 20.0, 21.0, 22.0, 23.0, 24.0, 25.0, 26.0, 27.0, 28.0, 29.0, 30.0, 31.0, 32.0, 33.0, 34.0, 35.0, 36.0, 37.0, 38.0, 39.0, 40.0, 41.0, 42.0, 43.0, 44.0, 45.0, 46.0, 47.0, 48.0, 49.0, 50.0, 51.0, 52.0, 53.0, 54.0, 55.0, 56.0, 57.0, 58.0, 59.0, 60.0, 61.0, 62.0, 63.0, 64.0, 65.0, 66.0, 67.0, 68.0, 69.0, 70.0, 71.0, 72.0, 73.0, 74.0, 75.0, 76.0, 77.0, 78.0, 79.0, 80.0, 81.0, 82.0, 83.0, 84.0, 85.0, 86.0, 87.0, 88.0, 89.0, 90.0, 91.0, 92.0, 93.0, 94.0, 95.0, 96.0, 97.0, 98.0, 99.0, 100.0, 101.0, 102.0, 103.0, 104.0, 105.0, 106.0, 107.0, 108.0, 109.0, 110.0, 111.0, 112.0, 113.0, 114.0, 115.0, 116.0, 117.0, 118.0, 119.0, 120.0, 121.0, 122.0, 123.0, 124.0, 125.0, 126.0, 127.0, 128.0, 129.0, 130.0, 131.0, 132.0, 133.0, 134.0, 135.0, 136.0, 137.0, 138.0, 139.0, 140.0, 141.0, 142.0, 143.0, 144.0, 145.0, 146.0, 147.0, 148.0, 149.0, 150.0, 151.0, 152.0, 153.0, 154.0, 155.0, 156.0, 157.0, 158.0, 159.0, 160.0, 161.0, 162.0, 163.0, 164.0, 165.0, 166.0, 167.0, 168.0, 169.0, 170.0, 171.0, 172.0, 173.0, 174.0, 175.0, 176.0, 177.0, 178.0, 179.0, 180.0, 181.0, 182.0, 183.0, 184.0, 185.0, 186.0, 187.0, 188.0, 189.0, 190.0, 191.0, 192.0, 193.0, 194.0, 195.0, 196.0, 197.0, 198.0, 199.0, 200.0, 201.0, 202.0, 203.0, 204.0, 205.0, 206.0, 207.0, 208.0, 209.0, 210.0, 211.0, 212.0, 213.0, 214.0, 215.0, 216.0, 217.0, 218.0, 219.0, 220.0, 221.0, 222.0, 223.0, 224.0, 225.0, 226.0, 227.0, 228.0, 229.0, 230.0, 231.0, 232.0, 233.0, 234.0, 235.0, 236.0, 237.0, 238.0, 239.0, 240.0, 241.0, 242.0, 243.0, 244.0, 245.0, 246.0, 247.0, 248.0, 249.0, 250.0, 251.0, 252.0, 253.0, 254.0, 255.0, 256.0, 257.0, 258.0, 259.0, 260.0, 261.0, 262.0, 263.0, 264.0, 265.0, 266.0, 267.0, 268.0, 269.0, 270.0, 271.0, 272.0, 273.0, 274.0, 275.0, 276.0, 277.0, 278.0, 279.0, 280.0, 281.0, 282.0, 283.0, 284.0, 285.0, 286.0, 287.0, 288.0, 289.0, 290.0, 291.0, 292.0, 293.0, 294.0, 295.0, 296.0, 297.0, 298.0, 299.0, 300.0, 301.0, 302.0, 303.0, 304.0, 305.0, 306.0, 307.0, 308.0, 309.0, 310.0, 311.0, 312.0, 313.0, 314.0, 315.0, 316.0, 317.0, 318.0, 319.0, 320.0, 321.0, 322.0, 323.0, 324.0, 325.0, 326.0, 327.0, 328.0, 329.0, 330.0, 331.0, 332.0, 333.0, 334.0, 335.0, 336.0, 337.0, 338.0, 339.0, 340.0, 341.0, 342.0, 343.0, 344.0, 345.0, 346.0, 347.0, 348.0, 349.0, 350.0, 351.0, 352.0, 353.0, 354.0, 355.0, 356.0], \"y\": [1.0, 2.0, 2.0, 8.0, 8.0, 8.0, 10.0, 13.0, 15.0, 21.0, 30.0, 51.0, 70.0, 80.0, 87.0, 95.0, 132.0, 171.0, 196.0, 239.0, 255.0, 302.0, 345.0, 389.0, 422.0, 566.0, 620.0, 713.0, 956.0, 1108.0, 1200.0, 1280.0, 1457.0, 1598.0, 1749.0, 1867.0, 1928.0, 1959.0, 2007.0, 2216.0, 2448.0, 2734.0, 2946.0, 3125.0, 3234.0, 3427.0, 3825.0, 3962.0, 4387.0, 5190.0, 5994.0, 6414.0, 6732.0, 7247.0, 7284.0, 8160.0, 8843.0, 9675.0, 10369.0, 11212.0, 12091.0, 12746.0, 13548.0, 14890.0, 17129.0, 17527.0, 18349.0, 19493.0, 20874.0, 22430.0, 23993.0, 25686.0, 25089.0, 25164.0, 25445.0, 26627.0, 27696.0, 27571.0, 27325.0, 26735.0, 26111.0, 26961.0, 26725.0, 26174.0, 26048.0, 25310.0, 25652.0, 25138.0, 25744.0, 25361.0, 24330.0, 24682.0, 23668.0, 23135.0, 22925.0, 24257.0, 21415.0, 21146.0, 20873.0, 20757.0, 20155.0, 19881.0, 19370.0, 20112.0, 21221.0, 20685.0, 20414.0, 20721.0, 20648.0, 21173.0, 22024.0, 24408.0, 21160.0, 21489.0, 21149.0, 22027.0, 23664.0, 18313.0, 17079.0, 18136.0, 15744.0, 15380.0, 15476.0, 15312.0, 15277.0, 14649.0, 12325.0, 12398.0, 12264.0, 11725.0, 12960.0, 12035.0, 13603.0, 12105.0, 12407.0, 12432.0, 11786.0, 11840.0, 10728.0, 10897.0, 11028.0, 11107.0, 11144.0, 10211.0, 10229.0, 9505.0, 10433.0, 11300.0, 12256.0, 11087.0, 11178.0, 11541.0, 11423.0, 11457.0, 11382.0, 11474.0, 11690.0, 11441.0, 11454.0, 11835.0, 11699.0, 11676.0, 11880.0, 11938.0, 11100.0, 11038.0, 11717.0, 12966.0, 11759.0, 12551.0, 12757.0, 12219.0, 10916.0, 11992.0, 10009.0, 10062.0, 10544.0, 10651.0, 11066.0, 10201.0, 9386.0, 10115.0, 9394.0, 9535.0, 9378.0, 9468.0, 10433.0, 11210.0, 9130.0, 9867.0, 10424.0, 9318.0, 9739.0, 8965.0, 9684.0, 10315.0, 8914.0, 9344.0, 9514.0, 8639.0, 9169.0, 9881.0, 10470.0, 11078.0, 11435.0, 7591.0, 6818.0, 6568.0, 6542.0, 6725.0, 6815.0, 6912.0, 6919.0, 7145.0, 7169.0, 7294.0, 7182.0, 7481.0, 7474.0, 7546.0, 7523.0, 8069.0, 7518.0, 7859.0, 6663.0, 6524.0, 6570.0, 6606.0, 6731.0, 7094.0, 7083.0, 7188.0, 7153.0, 7150.0, 7072.0, 6975.0, 7339.0, 7012.0, 6538.0, 6718.0, 6807.0, 6615.0, 6846.0, 6884.0, 7035.0, 6961.0, 7135.0, 6966.0, 7045.0, 7131.0, 7223.0, 7327.0, 7519.0, 7727.0, 7740.0, 7844.0, 8029.0, 7999.0, 8108.0, 8270.0, 8315.0, 8381.0, 8441.0, 8531.0, 8900.0, 8747.0, 8876.0, 9034.0, 8931.0, 9142.0, 9074.0, 9537.0, 9285.0, 9628.0, 9531.0, 9542.0, 9583.0, 9675.0, 9894.0, 10046.0, 10126.0, 9858.0, 9942.0, 9967.0, 10241.0, 10141.0, 10066.0, 10087.0, 10099.0, 10140.0, 10184.0, 10178.0, 10377.0, 10272.0, 10326.0, 10392.0, 10422.0, 10517.0, 10781.0, 10808.0, 10891.0, 11208.0, 10946.0, 10885.0, 10899.0, 10948.0, 11284.0, 11751.0, 11141.0, 11472.0, 11557.0, 11697.0, 11512.0, 11882.0, 12272.0, 12737.0, 11887.0, 11960.0, 11960.0, 12509.0, 13035.0, 12313.0, 12559.0, 12832.0, 13006.0, 13245.0, 13196.0, 13710.0, 14301.0, 13716.0, 14233.0, 13483.0, 13529.0, 13920.0, 14224.0, 13876.0, 14037.0, 14671.0, 14756.0, 15024.0, 14310.0, 14965.0, 15403.0, 15682.0, 15016.0, 15090.0, 15415.0, 15201.0, 15358.0, 15576.0, 15797.0, 16517.0, 16368.0, 16259.0, 16806.0, 17429.0]}, {\"marker\": {\"color\": \"#005005\", \"size\": 6}, \"mode\": \"markers\", \"name\": \"Recovered - Data\", \"type\": \"scatter\", \"x\": [1.0, 2.0, 3.0, 4.0, 5.0, 6.0, 7.0, 8.0, 9.0, 10.0, 11.0, 12.0, 13.0, 14.0, 15.0, 16.0, 17.0, 18.0, 19.0, 20.0, 21.0, 22.0, 23.0, 24.0, 25.0, 26.0, 27.0, 28.0, 29.0, 30.0, 31.0, 32.0, 33.0, 34.0, 35.0, 36.0, 37.0, 38.0, 39.0, 40.0, 41.0, 42.0, 43.0, 44.0, 45.0, 46.0, 47.0, 48.0, 49.0, 50.0, 51.0, 52.0, 53.0, 54.0, 55.0, 56.0, 57.0, 58.0, 59.0, 60.0, 61.0, 62.0, 63.0, 64.0, 65.0, 66.0, 67.0, 68.0, 69.0, 70.0, 71.0, 72.0, 73.0, 74.0, 75.0, 76.0, 77.0, 78.0, 79.0, 80.0, 81.0, 82.0, 83.0, 84.0, 85.0, 86.0, 87.0, 88.0, 89.0, 90.0, 91.0, 92.0, 93.0, 94.0, 95.0, 96.0, 97.0, 98.0, 99.0, 100.0, 101.0, 102.0, 103.0, 104.0, 105.0, 106.0, 107.0, 108.0, 109.0, 110.0, 111.0, 112.0, 113.0, 114.0, 115.0, 116.0, 117.0, 118.0, 119.0, 120.0, 121.0, 122.0, 123.0, 124.0, 125.0, 126.0, 127.0, 128.0, 129.0, 130.0, 131.0, 132.0, 133.0, 134.0, 135.0, 136.0, 137.0, 138.0, 139.0, 140.0, 141.0, 142.0, 143.0, 144.0, 145.0, 146.0, 147.0, 148.0, 149.0, 150.0, 151.0, 152.0, 153.0, 154.0, 155.0, 156.0, 157.0, 158.0, 159.0, 160.0, 161.0, 162.0, 163.0, 164.0, 165.0, 166.0, 167.0, 168.0, 169.0, 170.0, 171.0, 172.0, 173.0, 174.0, 175.0, 176.0, 177.0, 178.0, 179.0, 180.0, 181.0, 182.0, 183.0, 184.0, 185.0, 186.0, 187.0, 188.0, 189.0, 190.0, 191.0, 192.0, 193.0, 194.0, 195.0, 196.0, 197.0, 198.0, 199.0, 200.0, 201.0, 202.0, 203.0, 204.0, 205.0, 206.0, 207.0, 208.0, 209.0, 210.0, 211.0, 212.0, 213.0, 214.0, 215.0, 216.0, 217.0, 218.0, 219.0, 220.0, 221.0, 222.0, 223.0, 224.0, 225.0, 226.0, 227.0, 228.0, 229.0, 230.0, 231.0, 232.0, 233.0, 234.0, 235.0, 236.0, 237.0, 238.0, 239.0, 240.0, 241.0, 242.0, 243.0, 244.0, 245.0, 246.0, 247.0, 248.0, 249.0, 250.0, 251.0, 252.0, 253.0, 254.0, 255.0, 256.0, 257.0, 258.0, 259.0, 260.0, 261.0, 262.0, 263.0, 264.0, 265.0, 266.0, 267.0, 268.0, 269.0, 270.0, 271.0, 272.0, 273.0, 274.0, 275.0, 276.0, 277.0, 278.0, 279.0, 280.0, 281.0, 282.0, 283.0, 284.0, 285.0, 286.0, 287.0, 288.0, 289.0, 290.0, 291.0, 292.0, 293.0, 294.0, 295.0, 296.0, 297.0, 298.0, 299.0, 300.0, 301.0, 302.0, 303.0, 304.0, 305.0, 306.0, 307.0, 308.0, 309.0, 310.0, 311.0, 312.0, 313.0, 314.0, 315.0, 316.0, 317.0, 318.0, 319.0, 320.0, 321.0, 322.0, 323.0, 324.0, 325.0, 326.0, 327.0, 328.0, 329.0, 330.0, 331.0, 332.0, 333.0, 334.0, 335.0, 336.0, 337.0, 338.0, 339.0, 340.0, 341.0, 342.0, 343.0, 344.0, 345.0, 346.0, 347.0, 348.0, 349.0, 350.0, 351.0, 352.0, 353.0, 354.0, 355.0, 356.0], \"y\": [0.0, 0.0, 0.0, 0.0, 0.0, 0.0, 0.0, 0.0, 0.0, 0.0, 0.0, 0.0, 12.0, 12.0, 12.0, 12.0, 12.0, 12.0, 45.0, 45.0, 50.0, 54.0, 65.0, 68.0, 68.0, 76.0, 87.0, 96.0, 96.0, 109.0, 132.0, 142.0, 159.0, 171.0, 214.0, 250.0, 307.0, 463.0, 533.0, 600.0, 754.0, 784.0, 871.0, 927.0, 1005.0, 1115.0, 1215.0, 1439.0, 1534.0, 1587.0, 1617.0, 1742.0, 1806.0, 1877.0, 2529.0, 2591.0, 2761.0, 2829.0, 2881.0, 2998.0, 3035.0, 3324.0, 3676.0, 3889.0, 4074.0, 5271.0, 5941.0, 6664.0, 7117.0, 8064.0, 8639.0, 8965.0, 10220.0, 11473.0, 12741.0, 14014.0, 15629.0, 17911.0, 20280.0, 21814.0, 23272.0, 25120.0, 26795.0, 29518.0, 31569.0, 33561.0, 34210.0, 35466.0, 36979.0, 39386.0, 41773.0, 43830.0, 46017.0, 46936.0, 47776.0, 47776.0, 51911.0, 53791.0, 55837.0, 57370.0, 58369.0, 59100.0, 61093.0, 63156.0, 64816.0, 67541.0, 68655.0, 69005.0, 69615.0, 70927.0, 70927.0, 70927.0, 75570.0, 76921.0, 77815.0, 77815.0, 77815.0, 84168.0, 87059.0, 87059.0, 90360.0, 90957.0, 91442.0, 92854.0, 94466.0, 96851.0, 100370.0, 101177.0, 101639.0, 102872.0, 103040.0, 105671.0, 105671.0, 108568.0, 109186.0, 109533.0, 110708.0, 112059.0, 114743.0, 116180.0, 117830.0, 118605.0, 119004.0, 120367.0, 121843.0, 123772.0, 123772.0, 124036.0, 124036.0, 125778.0, 126242.0, 127656.0, 129160.0, 130415.0, 131733.0, 132411.0, 132722.0, 133466.0, 134479.0, 135853.0, 137236.0, 138480.0, 139027.0, 139286.0, 140527.0, 141655.0, 142763.0, 142763.0, 145305.0, 145305.0, 145305.0, 146103.0, 148259.0, 148259.0, 150971.0, 151944.0, 151944.0, 151944.0, 151944.0, 153613.0, 155396.0, 155396.0, 157198.0, 157810.0, 158291.0, 158492.0, 158492.0, 158492.0, 161068.0, 161068.0, 161068.0, 162449.0, 162449.0, 163892.0, 163892.0, 163892.0, 165886.0, 165886.0, 165886.0, 167126.0, 167126.0, 167126.0, 167126.0, 167126.0, 167126.0, 171186.0, 172084.0, 172614.0, 173124.0, 173441.0, 173757.0, 173987.0, 174144.0, 174412.0, 174863.0, 175201.0, 175774.0, 175992.0, 176301.0, 176404.0, 176611.0, 176611.0, 177494.0, 177494.0, 179063.0, 179315.0, 179359.0, 179392.0, 179490.0, 179490.0, 179833.0, 180118.0, 180414.0, 180514.0, 180859.0, 181350.0, 181350.0, 182048.0, 182795.0, 182795.0, 182795.0, 183102.0, 183102.0, 183449.0, 183618.0, 184004.0, 184004.0, 184250.0, 184333.0, 184602.0, 184918.0, 185186.0, 185338.0, 185338.0, 185338.0, 185338.0, 185533.0, 185896.0, 186224.0, 186542.0, 186717.0, 186717.0, 186792.0, 187070.0, 187070.0, 187711.0, 187984.0, 187984.0, 188137.0, 188137.0, 188622.0, 188622.0, 189227.0, 189227.0, 189575.0, 189575.0, 189627.0, 189872.0, 189872.0, 189872.0, 189872.0, 190197.0, 190197.0, 190265.0, 190335.0, 190620.0, 190884.0, 190884.0, 190889.0, 190889.0, 190921.0, 191089.0, 191089.0, 191381.0, 191431.0, 191535.0, 191535.0, 191545.0, 191545.0, 191778.0, 191960.0, 191960.0, 192400.0, 192550.0, 192694.0, 193028.0, 193028.0, 193028.0, 193936.0, 193936.0, 193936.0, 193936.0, 194420.0, 194420.0, 194420.0, 194420.0, 195540.0, 195540.0, 195701.0, 195701.0, 195701.0, 196784.0, 196784.0, 196784.0, 196784.0, 196784.0, 197355.0, 197355.0, 197355.0, 198499.0, 198499.0, 199403.0, 199570.0, 199570.0, 199846.0, 200614.0, 201198.0, 201198.0, 201198.0, 201198.0, 202349.0, 202349.0, 202765.0, 202765.0, 204229.0, 204229.0, 204229.0, 205264.0, 205686.0, 206320.0, 206696.0, 206696.0, 207133.0, 207575.0, 207575.0, 207917.0]}],\n",
              "                        {\"legend\": {\"orientation\": \"h\", \"x\": 0.35, \"y\": 1.0}, \"template\": {\"data\": {\"pie\": [{\"automargin\": true, \"type\": \"pie\"}]}, \"layout\": {\"xaxis\": {\"showgrid\": false, \"title\": {\"standoff\": 15}}, \"yaxis\": {\"title\": {\"standoff\": 15}}}}, \"title\": {\"text\": \"SIR Model\"}, \"xaxis\": {\"showgrid\": false, \"title\": {\"text\": \"Days\"}}},\n",
              "                        {\"responsive\": true}\n",
              "                    ).then(function(){\n",
              "                            \n",
              "var gd = document.getElementById('4a83feda-1ebb-4906-bade-18d8bbf93836');\n",
              "var x = new MutationObserver(function (mutations, observer) {{\n",
              "        var display = window.getComputedStyle(gd).display;\n",
              "        if (!display || display === 'none') {{\n",
              "            console.log([gd, 'removed!']);\n",
              "            Plotly.purge(gd);\n",
              "            observer.disconnect();\n",
              "        }}\n",
              "}});\n",
              "\n",
              "// Listen for the removal of the full notebook cells\n",
              "var notebookContainer = gd.closest('#notebook-container');\n",
              "if (notebookContainer) {{\n",
              "    x.observe(notebookContainer, {childList: true});\n",
              "}}\n",
              "\n",
              "// Listen for the clearing of the current output cell\n",
              "var outputEl = gd.closest('.output');\n",
              "if (outputEl) {{\n",
              "    x.observe(outputEl, {childList: true});\n",
              "}}\n",
              "\n",
              "                        })\n",
              "                };\n",
              "                \n",
              "            </script>\n",
              "        </div>\n",
              "</body>\n",
              "</html>"
            ]
          },
          "metadata": {
            "tags": []
          }
        }
      ]
    }
  ]
}