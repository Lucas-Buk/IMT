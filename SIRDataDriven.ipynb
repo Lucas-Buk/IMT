{
  "nbformat": 4,
  "nbformat_minor": 0,
  "metadata": {
    "colab": {
      "name": "SIRDataDriven.ipynb",
      "provenance": [],
      "collapsed_sections": [
        "zN2shiWmv8jj",
        "BpRnVfs4_U2a",
        "ON2BwqItAetm",
        "5AHqu7a-9bix",
        "rzh7QSy19IOS"
      ],
      "mount_file_id": "1y_pdN_8jVpwhSEqX6s5-ome4HnouTA2j",
      "authorship_tag": "ABX9TyNEWwxpbT1W8Q0A6XtnNE3Z",
      "include_colab_link": true
    },
    "kernelspec": {
      "name": "python3",
      "display_name": "Python 3"
    }
  },
  "cells": [
    {
      "cell_type": "markdown",
      "metadata": {
        "id": "view-in-github",
        "colab_type": "text"
      },
      "source": [
        "<a href=\"https://colab.research.google.com/github/Lucas-Buk/IMT/blob/main/SIRDataDriven.ipynb\" target=\"_parent\"><img src=\"https://colab.research.google.com/assets/colab-badge.svg\" alt=\"Open In Colab\"/></a>"
      ]
    },
    {
      "cell_type": "markdown",
      "metadata": {
        "id": "hZfMC9v7v3CL"
      },
      "source": [
        "# **Configurações básicas**"
      ]
    },
    {
      "cell_type": "code",
      "metadata": {
        "id": "IWpqpeVhv1rb"
      },
      "source": [
        "import numpy as np\n",
        "import pandas as pd \n",
        "import matplotlib.pyplot as plt\n",
        "from scipy import optimize\n",
        "from scipy.integrate import odeint\n",
        "import plotly.graph_objects as go"
      ],
      "execution_count": 1,
      "outputs": []
    },
    {
      "cell_type": "markdown",
      "metadata": {
        "id": "zN2shiWmv8jj"
      },
      "source": [
        "# **Referências**"
      ]
    },
    {
      "cell_type": "markdown",
      "metadata": {
        "id": "LUwtbwGqtttJ"
      },
      "source": [
        "https://cmdlinetips.com/2018/02/how-to-subset-pandas-dataframe-based-on-values-of-a-column/"
      ]
    },
    {
      "cell_type": "markdown",
      "metadata": {
        "id": "J3ZIvFVAtxqF"
      },
      "source": [
        "https://cmdlinetips.com/2018/04/how-to-concatenate-arrays-in-numpy/"
      ]
    },
    {
      "cell_type": "markdown",
      "metadata": {
        "id": "9dc_x8SGwCxF"
      },
      "source": [
        "https://stackoverflow.com/questions/11278836/fitting-data-to-system-of-odes-using-python-via-scipy-numpy"
      ]
    },
    {
      "cell_type": "markdown",
      "metadata": {
        "id": "BpRnVfs4_U2a"
      },
      "source": [
        "# **O problema**\n",
        "\n",
        "\n",
        "\n",
        "\n",
        "\n",
        "\n",
        "\n"
      ]
    },
    {
      "cell_type": "markdown",
      "metadata": {
        "id": "LnAUup87_mlI"
      },
      "source": [
        "O conjunto de equações diferenciais que caracteriza o modelo é descrito abaixo. No modelo $\\beta - \\text{representa a taxa de transmissão ou taxa efetiva de contato} $  e $r - \\text{a taxa de remoção ou recuperação.}$ \n",
        "\n",
        "\n",
        "$$ \\begin{split}\n",
        "   \\frac{dS(t)}{dt} & = -\\beta S(t) I(t) \\\\\n",
        "   \\frac{dI(t)}{dt} & = \\beta S(t) I(t) - rI(t)  \\\\\n",
        "   \\frac{dR(t)}{dt} & = r I(t)\n",
        "   \\end{split}$$\n",
        "\n",
        "   Gostaríamos de identificar quais parâmetros $\\beta$ e $r$ resultam num melhor ajuste do modelo para os dados de **S**, **I** e **R**"
      ]
    },
    {
      "cell_type": "code",
      "metadata": {
        "id": "4kZX_8Az_PXa"
      },
      "source": [
        "def SIRmodel(y, t, Beta, r):\n",
        "    S, I, R = y\n",
        "    Sdot = -(Beta * S * I)\n",
        "    Idot = (Beta * S * I)  - r * I\n",
        "    Rdot = r * I\n",
        "    return Sdot, Idot, Rdot   \n",
        "\n",
        "# Resolução da simulação - Escala temporal (dias)"
      ],
      "execution_count": 2,
      "outputs": []
    },
    {
      "cell_type": "markdown",
      "metadata": {
        "id": "ON2BwqItAetm"
      },
      "source": [
        "# **Obtendo** $y_s(\\theta,k) = [S \\; I \\: R]$"
      ]
    },
    {
      "cell_type": "markdown",
      "metadata": {
        "id": "byDz2Ffj_xX9"
      },
      "source": [
        "\n",
        "\n",
        "O trecho a seguir retorna os valores sintetizados $y_s(\\theta,k) = [S \\; I \\: R]$ representa o dado sintetizado a partir de um modelo sintetizado para uma determinada amostra $k$ e $\\theta$ representa o vetor de parâmetros $\\theta = [ \\beta \\; \\; r]^T$. A partir de uma condição inicial $y_0$.\n",
        "\n"
      ]
    },
    {
      "cell_type": "code",
      "metadata": {
        "id": "4UA5CINl_1rl"
      },
      "source": [
        "def SIRsim(y0, t, theta):\n",
        "    Beta = theta[0]\n",
        "    r = theta[1]\n",
        "    ret = odeint(SIRmodel,y0,t,args=(Beta,r))\n",
        "    S, I, R = ret.T\n",
        "    return S, I, R"
      ],
      "execution_count": 3,
      "outputs": []
    },
    {
      "cell_type": "markdown",
      "metadata": {
        "id": "5AHqu7a-9bix"
      },
      "source": [
        "# **Estimativa de parâmetros**"
      ]
    },
    {
      "cell_type": "markdown",
      "metadata": {
        "id": "s6Jp01u09bAU"
      },
      "source": [
        "Para estimarmos os parâmetros do modelo $\\mathbf{\\beta}$ e $\\mathbf{r}$, vamos utilizar  inicialmente o método de mínimos quadrados. Podemos então formular o problema a partir da Equação abaixo. Na Equação $y_m(k)$ representa o dado real em cada amostra $k$; $y_s(\\theta,k)$ representa o **valor estimado** a partir da simulação do modelo para uma determinada amostra $k$ e $\\theta$ representa o vetor ed parâmetros $\\theta = [ \\beta \\; \\; r]^T$. \n",
        "\n",
        "$$ min_{\\theta}= \\sum_{k=1}^{K}(y_m(k) - y_s(\\theta,k))^2 $$\n",
        "\n",
        "A equação formula a pergunta: quais os valores de $\\mathbf{\\beta}$ e $r$ que minizam o erro quadrático quando comparados com os dados reais."
      ]
    },
    {
      "cell_type": "code",
      "metadata": {
        "id": "YDqhZPP4KfR_"
      },
      "source": [
        "def ErroQuadratico(Sd, Id, Rd, y0, t, theta0):\n",
        "    \"\"\" function to pass to optimize.leastsq\n",
        "        The routine will square and sum the values returned by \n",
        "        this function\"\"\" \n",
        "    [S,I,R] = SIRsim(y0,t,theta0)\n",
        "    erroS = S - Sd\n",
        "    erroI = I - Id\n",
        "    erroR = R - Rd\n",
        "    EQ = np.concatenate([erroI,erroR])\n",
        "    return EQ\n",
        "\n",
        "def objetivo(p):\n",
        "    return ErroQuadratico(Sd,Id,Rd,y0,t,p)"
      ],
      "execution_count": 4,
      "outputs": []
    },
    {
      "cell_type": "markdown",
      "metadata": {
        "id": "rzh7QSy19IOS"
      },
      "source": [
        "# **Dados artificiais**"
      ]
    },
    {
      "cell_type": "markdown",
      "metadata": {
        "id": "sXqTFbp69Q_k"
      },
      "source": [
        "Uma prática interessante na análise de dados é testarmos se o algoritmo proposto e principalmente sua estrutura está consistente. Podemos então utilizar dados artificiais para avaliar se o processo de ajuste está estruturado corretamente."
      ]
    },
    {
      "cell_type": "code",
      "metadata": {
        "id": "3dx_IElpPbOM",
        "colab": {
          "base_uri": "https://localhost:8080/",
          "height": 0
        },
        "outputId": "87df5bd6-3480-4b37-a61c-fcc75b7c8529"
      },
      "source": [
        "# Lendo o arquivo de dados no formato 'filename.csv'  \n",
        "data = pd.read_csv(\"/content/drive/MyDrive/Trabalho/Covid/Datasets/SIRpd\") \n",
        "# Preview das cinco primeiras linhas\n",
        "data.head()"
      ],
      "execution_count": 5,
      "outputs": [
        {
          "output_type": "execute_result",
          "data": {
            "text/html": [
              "<div>\n",
              "<style scoped>\n",
              "    .dataframe tbody tr th:only-of-type {\n",
              "        vertical-align: middle;\n",
              "    }\n",
              "\n",
              "    .dataframe tbody tr th {\n",
              "        vertical-align: top;\n",
              "    }\n",
              "\n",
              "    .dataframe thead th {\n",
              "        text-align: right;\n",
              "    }\n",
              "</style>\n",
              "<table border=\"1\" class=\"dataframe\">\n",
              "  <thead>\n",
              "    <tr style=\"text-align: right;\">\n",
              "      <th></th>\n",
              "      <th>S</th>\n",
              "      <th>I</th>\n",
              "      <th>R</th>\n",
              "    </tr>\n",
              "  </thead>\n",
              "  <tbody>\n",
              "    <tr>\n",
              "      <th>0</th>\n",
              "      <td>499.000000</td>\n",
              "      <td>1.000000</td>\n",
              "      <td>0.000000</td>\n",
              "    </tr>\n",
              "    <tr>\n",
              "      <th>1</th>\n",
              "      <td>498.949042</td>\n",
              "      <td>1.040746</td>\n",
              "      <td>0.010213</td>\n",
              "    </tr>\n",
              "    <tr>\n",
              "      <th>2</th>\n",
              "      <td>498.896013</td>\n",
              "      <td>1.083146</td>\n",
              "      <td>0.020841</td>\n",
              "    </tr>\n",
              "    <tr>\n",
              "      <th>3</th>\n",
              "      <td>498.840830</td>\n",
              "      <td>1.127267</td>\n",
              "      <td>0.031903</td>\n",
              "    </tr>\n",
              "    <tr>\n",
              "      <th>4</th>\n",
              "      <td>498.783405</td>\n",
              "      <td>1.173179</td>\n",
              "      <td>0.043415</td>\n",
              "    </tr>\n",
              "  </tbody>\n",
              "</table>\n",
              "</div>"
            ],
            "text/plain": [
              "            S         I         R\n",
              "0  499.000000  1.000000  0.000000\n",
              "1  498.949042  1.040746  0.010213\n",
              "2  498.896013  1.083146  0.020841\n",
              "3  498.840830  1.127267  0.031903\n",
              "4  498.783405  1.173179  0.043415"
            ]
          },
          "metadata": {
            "tags": []
          },
          "execution_count": 5
        }
      ]
    },
    {
      "cell_type": "code",
      "metadata": {
        "id": "4h2Jrl9TcPMO",
        "colab": {
          "base_uri": "https://localhost:8080/"
        },
        "outputId": "9a6c27ba-a240-49d7-d25d-c0d8c24fe522"
      },
      "source": [
        "data.shape"
      ],
      "execution_count": 6,
      "outputs": [
        {
          "output_type": "execute_result",
          "data": {
            "text/plain": [
              "(1000, 3)"
            ]
          },
          "metadata": {
            "tags": []
          },
          "execution_count": 6
        }
      ]
    },
    {
      "cell_type": "code",
      "metadata": {
        "id": "nb8EBFeSDn6L"
      },
      "source": [
        "s_array = data[[\"S\", \"I\", \"R\"]].to_numpy()\n",
        "s_array[:,0:]\n",
        "Sd = s_array[:,0]\n",
        "Id = s_array[:,1]\n",
        "Rd = s_array[:,2]"
      ],
      "execution_count": 7,
      "outputs": []
    },
    {
      "cell_type": "markdown",
      "metadata": {
        "id": "8pVQEE9mMYEY"
      },
      "source": [
        "**Gerando ruído gaussiano**"
      ]
    },
    {
      "cell_type": "code",
      "metadata": {
        "id": "Wr1Pt_JXEHEZ"
      },
      "source": [
        "Sdn = np.random.normal(0, np.mean(Sd)/10, len(Sd)) \n",
        "Idn = np.random.normal(0, np.mean(Id)/5, len(Sd)) \n",
        "Rdn = np.random.normal(0, np.mean(Rd)/10, len(Sd)) "
      ],
      "execution_count": 8,
      "outputs": []
    },
    {
      "cell_type": "markdown",
      "metadata": {
        "id": "I_s0BrcwMdRU"
      },
      "source": [
        "**Adicionando aos dados**"
      ]
    },
    {
      "cell_type": "code",
      "metadata": {
        "id": "vlboEDJfFEQj"
      },
      "source": [
        "Sd = Sd + Sdn\n",
        "Id = Id + Idn\n",
        "Rd = Rd + Rdn"
      ],
      "execution_count": 9,
      "outputs": []
    },
    {
      "cell_type": "markdown",
      "metadata": {
        "id": "KbXJZ3_BMgak"
      },
      "source": [
        "**Visualizando os dados**"
      ]
    },
    {
      "cell_type": "code",
      "metadata": {
        "id": "T36rmwWbFVHA",
        "colab": {
          "base_uri": "https://localhost:8080/",
          "height": 0
        },
        "outputId": "b39c4cb3-1b30-463b-efce-b0c76b563481"
      },
      "source": [
        "# Visualizando a evolução da Epidemia - S(t), I(t) e R(t)\n",
        "t = np.linspace(0,len(Sd),len(Sd))\n",
        "fig = plt.figure(facecolor='w',figsize=(20,10))\n",
        "ax = fig.add_subplot(111, axisbelow=True)\n",
        "plt.scatter(t, Sd, marker='o', color='b', label='Suscetíveis - dados', s=15)\n",
        "plt.scatter(t, Id, marker='*', color='k', label='Infectados - dados', s=15)\n",
        "plt.scatter(t, Rd, marker='+', color='c', label='Removidos - dados', s=15)\n",
        "ax.set_xlabel('Dias')\n",
        "ax.set_ylabel('Indivíduos')\n",
        "ax.set_ylim(0,600)\n",
        "ax.yaxis.set_tick_params(length=0)\n",
        "ax.xaxis.set_tick_params(length=0)\n",
        "ax.grid(b=True, which='major', c='w', lw=2, ls='-')\n",
        "legend = ax.legend()\n",
        "legend.get_frame().set_alpha(0.5)\n",
        "for spine in ('top', 'right', 'bottom', 'left'):\n",
        "    ax.spines[spine].set_visible(False)\n",
        "plt.show()"
      ],
      "execution_count": 10,
      "outputs": [
        {
          "output_type": "display_data",
          "data": {
            "image/png": "[encoded data removed]",
            "text/plain": [
              "<Figure size 1440x720 with 1 Axes>"
            ]
          },
          "metadata": {
            "tags": []
          }
        }
      ]
    },
    {
      "cell_type": "markdown",
      "metadata": {
        "id": "nkzB5p58BUl8"
      },
      "source": [
        "## **Condições inicias** - $y_0$ e $\\theta_0$"
      ]
    },
    {
      "cell_type": "code",
      "metadata": {
        "id": "-qbcJlrf0y3g"
      },
      "source": [
        "# Tamanho da população - N\n",
        "N = 500\n",
        "\n",
        "# Valores iniciais \n",
        "I0 = 1 \n",
        "R0 = 0\n",
        "S0 = N - I0\n",
        "\n",
        "# Vetor de condições iniciais\n",
        "y0 = S0, I0, R0\n",
        "\n",
        "# Beta -  taxa de contato,\n",
        "# r - taxa média de recuperação (in 1/dia).\n",
        "\n",
        "theta0 = [1e-4, 1e-2] # valores iniciais\n",
        "\n",
        "# Definição do conjunto de equações diferencias não lineares que formam o modelo.\n",
        "\n",
        "t = np.linspace(0, 1000, 1000)"
      ],
      "execution_count": 11,
      "outputs": []
    },
    {
      "cell_type": "markdown",
      "metadata": {
        "id": "rwaQq87_CTj0"
      },
      "source": [
        "## **Minimização da função custo**"
      ]
    },
    {
      "cell_type": "code",
      "metadata": {
        "id": "2CeHzC5HFEe4",
        "colab": {
          "base_uri": "https://localhost:8080/"
        },
        "outputId": "56ca6e11-c592-4ddf-8d60-1ccb14cb9f26"
      },
      "source": [
        "(c, kvg) = optimize.leastsq(objetivo,theta0) \n",
        "print(c)"
      ],
      "execution_count": 12,
      "outputs": [
        {
          "output_type": "stream",
          "text": [
            "[0.00010064 0.01003261]\n"
          ],
          "name": "stdout"
        }
      ]
    },
    {
      "cell_type": "markdown",
      "metadata": {
        "id": "_qDSfUAsCcgC"
      },
      "source": [
        "## **Visualização**"
      ]
    },
    {
      "cell_type": "code",
      "metadata": {
        "id": "YYv9P7LMSW2B",
        "colab": {
          "base_uri": "https://localhost:8080/",
          "height": 0
        },
        "outputId": "6fd8a088-9734-4cf0-8dfe-451a29d39f8c"
      },
      "source": [
        "[Sa,Ia,Ra] = SIRsim(y0,t,c)\n",
        "\n",
        "# Visualizando a evolução da Epidemia - S(t), I(t) e R(t)\n",
        "fig = plt.figure(facecolor='w',figsize=(20,10))\n",
        "ax = fig.add_subplot(111, axisbelow=True)\n",
        "ax.plot(t, Sa, 'b', alpha=0.5, lw=4, label='Suscetíveis')\n",
        "ax.plot(t, Ia, 'k', alpha=0.5, lw=4, label='Infectados')\n",
        "ax.plot(t, Ra, 'g', alpha=0.5, lw=4, label='Removidos')\n",
        "plt.scatter(t, Sd, marker='o', color='y', label='Suscetíveis - dados', s=15)\n",
        "plt.scatter(t, Id, marker='*', color='c', label='Infectados - dados', s=15)\n",
        "plt.scatter(t, Rd, marker='+', color='gray', label='Removidos - dados', s=15)\n",
        "ax.set_xlabel('Dias')\n",
        "ax.set_ylabel('Indivíduos')\n",
        "ax.set_ylim(0, 550)\n",
        "ax.yaxis.set_tick_params(length=0)\n",
        "ax.xaxis.set_tick_params(length=0)\n",
        "ax.grid(b=True, which='major', c='w', lw=2, ls='-')\n",
        "legend = ax.legend()\n",
        "legend.get_frame().set_alpha(0.5)\n",
        "for spine in ('top', 'right', 'bottom', 'left'):\n",
        "    ax.spines[spine].set_visible(False)\n",
        "plt.show()"
      ],
      "execution_count": 13,
      "outputs": [
        {
          "output_type": "display_data",
          "data": {
            "image/png": "[encoded data removed]",
            "text/plain": [
              "<Figure size 1440x720 with 1 Axes>"
            ]
          },
          "metadata": {
            "tags": []
          }
        }
      ]
    },
    {
      "cell_type": "markdown",
      "metadata": {
        "id": "Oj1DhfE2nIKd"
      },
      "source": [
        "# **Dados Reais**\r\n",
        "\r\n",
        "Dados da COVID-19 no Brasil fornecidos por\r\n",
        "\r\n",
        "- [Wesley Cota](https://github.com/wcota/covid19br)"
      ]
    },
    {
      "cell_type": "code",
      "metadata": {
        "id": "r3L0Q3rzgm9m",
        "colab": {
          "base_uri": "https://localhost:8080/",
          "height": 309
        },
        "outputId": "5a7129a3-24f5-46f8-f39b-f3ab5eb11946"
      },
      "source": [
        "# Reading data - wcota\n",
        "data_path = 'https://raw.githubusercontent.com/wcota/covid19br/master/cases-brazil-states.csv'\n",
        "\n",
        "df = pd.read_csv(data_path, delimiter=\",\") \n",
        "df.head()"
      ],
      "execution_count": 14,
      "outputs": [
        {
          "output_type": "execute_result",
          "data": {
            "text/html": [
              "<div>\n",
              "<style scoped>\n",
              "    .dataframe tbody tr th:only-of-type {\n",
              "        vertical-align: middle;\n",
              "    }\n",
              "\n",
              "    .dataframe tbody tr th {\n",
              "        vertical-align: top;\n",
              "    }\n",
              "\n",
              "    .dataframe thead th {\n",
              "        text-align: right;\n",
              "    }\n",
              "</style>\n",
              "<table border=\"1\" class=\"dataframe\">\n",
              "  <thead>\n",
              "    <tr style=\"text-align: right;\">\n",
              "      <th></th>\n",
              "      <th>epi_week</th>\n",
              "      <th>date</th>\n",
              "      <th>country</th>\n",
              "      <th>state</th>\n",
              "      <th>city</th>\n",
              "      <th>newDeaths</th>\n",
              "      <th>deaths</th>\n",
              "      <th>newCases</th>\n",
              "      <th>totalCases</th>\n",
              "      <th>deathsMS</th>\n",
              "      <th>totalCasesMS</th>\n",
              "      <th>deaths_per_100k_inhabitants</th>\n",
              "      <th>totalCases_per_100k_inhabitants</th>\n",
              "      <th>deaths_by_totalCases</th>\n",
              "      <th>recovered</th>\n",
              "      <th>suspects</th>\n",
              "      <th>tests</th>\n",
              "      <th>tests_per_100k_inhabitants</th>\n",
              "      <th>vaccinated</th>\n",
              "      <th>vaccinated_per_100k_inhabitants</th>\n",
              "      <th>vaccinated_second</th>\n",
              "      <th>vaccinated_second_per_100k_inhabitants</th>\n",
              "    </tr>\n",
              "  </thead>\n",
              "  <tbody>\n",
              "    <tr>\n",
              "      <th>0</th>\n",
              "      <td>9</td>\n",
              "      <td>2020-02-25</td>\n",
              "      <td>Brazil</td>\n",
              "      <td>SP</td>\n",
              "      <td>TOTAL</td>\n",
              "      <td>0</td>\n",
              "      <td>0</td>\n",
              "      <td>1</td>\n",
              "      <td>1</td>\n",
              "      <td>0</td>\n",
              "      <td>0</td>\n",
              "      <td>0.0</td>\n",
              "      <td>0.00218</td>\n",
              "      <td>0.0</td>\n",
              "      <td>NaN</td>\n",
              "      <td>NaN</td>\n",
              "      <td>NaN</td>\n",
              "      <td>NaN</td>\n",
              "      <td>NaN</td>\n",
              "      <td>NaN</td>\n",
              "      <td>NaN</td>\n",
              "      <td>NaN</td>\n",
              "    </tr>\n",
              "    <tr>\n",
              "      <th>1</th>\n",
              "      <td>9</td>\n",
              "      <td>2020-02-25</td>\n",
              "      <td>Brazil</td>\n",
              "      <td>TOTAL</td>\n",
              "      <td>TOTAL</td>\n",
              "      <td>0</td>\n",
              "      <td>0</td>\n",
              "      <td>1</td>\n",
              "      <td>1</td>\n",
              "      <td>0</td>\n",
              "      <td>0</td>\n",
              "      <td>0.0</td>\n",
              "      <td>0.00047</td>\n",
              "      <td>0.0</td>\n",
              "      <td>NaN</td>\n",
              "      <td>NaN</td>\n",
              "      <td>NaN</td>\n",
              "      <td>NaN</td>\n",
              "      <td>NaN</td>\n",
              "      <td>NaN</td>\n",
              "      <td>NaN</td>\n",
              "      <td>NaN</td>\n",
              "    </tr>\n",
              "    <tr>\n",
              "      <th>2</th>\n",
              "      <td>9</td>\n",
              "      <td>2020-02-26</td>\n",
              "      <td>Brazil</td>\n",
              "      <td>SP</td>\n",
              "      <td>TOTAL</td>\n",
              "      <td>0</td>\n",
              "      <td>0</td>\n",
              "      <td>0</td>\n",
              "      <td>1</td>\n",
              "      <td>0</td>\n",
              "      <td>1</td>\n",
              "      <td>0.0</td>\n",
              "      <td>0.00218</td>\n",
              "      <td>0.0</td>\n",
              "      <td>NaN</td>\n",
              "      <td>NaN</td>\n",
              "      <td>NaN</td>\n",
              "      <td>NaN</td>\n",
              "      <td>NaN</td>\n",
              "      <td>NaN</td>\n",
              "      <td>NaN</td>\n",
              "      <td>NaN</td>\n",
              "    </tr>\n",
              "    <tr>\n",
              "      <th>3</th>\n",
              "      <td>9</td>\n",
              "      <td>2020-02-26</td>\n",
              "      <td>Brazil</td>\n",
              "      <td>TOTAL</td>\n",
              "      <td>TOTAL</td>\n",
              "      <td>0</td>\n",
              "      <td>0</td>\n",
              "      <td>0</td>\n",
              "      <td>1</td>\n",
              "      <td>0</td>\n",
              "      <td>1</td>\n",
              "      <td>0.0</td>\n",
              "      <td>0.00047</td>\n",
              "      <td>0.0</td>\n",
              "      <td>NaN</td>\n",
              "      <td>NaN</td>\n",
              "      <td>NaN</td>\n",
              "      <td>NaN</td>\n",
              "      <td>NaN</td>\n",
              "      <td>NaN</td>\n",
              "      <td>NaN</td>\n",
              "      <td>NaN</td>\n",
              "    </tr>\n",
              "    <tr>\n",
              "      <th>4</th>\n",
              "      <td>9</td>\n",
              "      <td>2020-02-27</td>\n",
              "      <td>Brazil</td>\n",
              "      <td>SP</td>\n",
              "      <td>TOTAL</td>\n",
              "      <td>0</td>\n",
              "      <td>0</td>\n",
              "      <td>0</td>\n",
              "      <td>1</td>\n",
              "      <td>0</td>\n",
              "      <td>1</td>\n",
              "      <td>0.0</td>\n",
              "      <td>0.00218</td>\n",
              "      <td>0.0</td>\n",
              "      <td>NaN</td>\n",
              "      <td>NaN</td>\n",
              "      <td>NaN</td>\n",
              "      <td>NaN</td>\n",
              "      <td>NaN</td>\n",
              "      <td>NaN</td>\n",
              "      <td>NaN</td>\n",
              "      <td>NaN</td>\n",
              "    </tr>\n",
              "  </tbody>\n",
              "</table>\n",
              "</div>"
            ],
            "text/plain": [
              "   epi_week  ... vaccinated_second_per_100k_inhabitants\n",
              "0         9  ...                                    NaN\n",
              "1         9  ...                                    NaN\n",
              "2         9  ...                                    NaN\n",
              "3         9  ...                                    NaN\n",
              "4         9  ...                                    NaN\n",
              "\n",
              "[5 rows x 22 columns]"
            ]
          },
          "metadata": {
            "tags": []
          },
          "execution_count": 14
        }
      ]
    },
    {
      "cell_type": "code",
      "metadata": {
        "colab": {
          "base_uri": "https://localhost:8080/"
        },
        "id": "gTg-oKksHz4l",
        "outputId": "afb1be31-4a8d-4eb1-e8af-454d3570d874"
      },
      "source": [
        "df.shape"
      ],
      "execution_count": 15,
      "outputs": [
        {
          "output_type": "execute_result",
          "data": {
            "text/plain": [
              "(10206, 22)"
            ]
          },
          "metadata": {
            "tags": []
          },
          "execution_count": 15
        }
      ]
    },
    {
      "cell_type": "code",
      "metadata": {
        "colab": {
          "base_uri": "https://localhost:8080/"
        },
        "id": "56Gh2BmZn24t",
        "outputId": "76748ef6-6cc0-4dcb-a5fd-f79d712d1fac"
      },
      "source": [
        "df.isnull().sum()"
      ],
      "execution_count": 16,
      "outputs": [
        {
          "output_type": "execute_result",
          "data": {
            "text/plain": [
              "epi_week                                     0\n",
              "date                                         0\n",
              "country                                      0\n",
              "state                                        0\n",
              "city                                         0\n",
              "newDeaths                                    0\n",
              "deaths                                       0\n",
              "newCases                                     0\n",
              "totalCases                                   0\n",
              "deathsMS                                     0\n",
              "totalCasesMS                                 0\n",
              "deaths_per_100k_inhabitants                  0\n",
              "totalCases_per_100k_inhabitants              0\n",
              "deaths_by_totalCases                         0\n",
              "recovered                                  643\n",
              "suspects                                  2544\n",
              "tests                                     1344\n",
              "tests_per_100k_inhabitants                1344\n",
              "vaccinated                                8731\n",
              "vaccinated_per_100k_inhabitants           8731\n",
              "vaccinated_second                         9411\n",
              "vaccinated_second_per_100k_inhabitants    9411\n",
              "dtype: int64"
            ]
          },
          "metadata": {
            "tags": []
          },
          "execution_count": 16
        }
      ]
    },
    {
      "cell_type": "markdown",
      "metadata": {
        "id": "8wTdNEegVYFm"
      },
      "source": [
        "## Maranhão"
      ]
    },
    {
      "cell_type": "code",
      "metadata": {
        "colab": {
          "base_uri": "https://localhost:8080/",
          "height": 309
        },
        "id": "kZ0FmtguVYFo",
        "outputId": "4343b9cb-bd7e-4aa2-c744-c1b508c29bfb"
      },
      "source": [
        "# Dataframe for Maranhão state\r\n",
        "state = 'MA'\r\n",
        "df_state = df[df.state == state].reset_index()\r\n",
        "df_state.head()"
      ],
      "execution_count": 76,
      "outputs": [
        {
          "output_type": "execute_result",
          "data": {
            "text/html": [
              "<div>\n",
              "<style scoped>\n",
              "    .dataframe tbody tr th:only-of-type {\n",
              "        vertical-align: middle;\n",
              "    }\n",
              "\n",
              "    .dataframe tbody tr th {\n",
              "        vertical-align: top;\n",
              "    }\n",
              "\n",
              "    .dataframe thead th {\n",
              "        text-align: right;\n",
              "    }\n",
              "</style>\n",
              "<table border=\"1\" class=\"dataframe\">\n",
              "  <thead>\n",
              "    <tr style=\"text-align: right;\">\n",
              "      <th></th>\n",
              "      <th>index</th>\n",
              "      <th>epi_week</th>\n",
              "      <th>date</th>\n",
              "      <th>country</th>\n",
              "      <th>state</th>\n",
              "      <th>city</th>\n",
              "      <th>newDeaths</th>\n",
              "      <th>deaths</th>\n",
              "      <th>newCases</th>\n",
              "      <th>totalCases</th>\n",
              "      <th>deathsMS</th>\n",
              "      <th>totalCasesMS</th>\n",
              "      <th>deaths_per_100k_inhabitants</th>\n",
              "      <th>totalCases_per_100k_inhabitants</th>\n",
              "      <th>deaths_by_totalCases</th>\n",
              "      <th>recovered</th>\n",
              "      <th>suspects</th>\n",
              "      <th>tests</th>\n",
              "      <th>tests_per_100k_inhabitants</th>\n",
              "      <th>vaccinated</th>\n",
              "      <th>vaccinated_per_100k_inhabitants</th>\n",
              "      <th>vaccinated_second</th>\n",
              "      <th>vaccinated_second_per_100k_inhabitants</th>\n",
              "    </tr>\n",
              "  </thead>\n",
              "  <tbody>\n",
              "    <tr>\n",
              "      <th>0</th>\n",
              "      <td>220</td>\n",
              "      <td>12</td>\n",
              "      <td>2020-03-20</td>\n",
              "      <td>Brazil</td>\n",
              "      <td>MA</td>\n",
              "      <td>TOTAL</td>\n",
              "      <td>0</td>\n",
              "      <td>0</td>\n",
              "      <td>1</td>\n",
              "      <td>1</td>\n",
              "      <td>0</td>\n",
              "      <td>0</td>\n",
              "      <td>0.0</td>\n",
              "      <td>0.01413</td>\n",
              "      <td>0.0</td>\n",
              "      <td>NaN</td>\n",
              "      <td>NaN</td>\n",
              "      <td>NaN</td>\n",
              "      <td>NaN</td>\n",
              "      <td>NaN</td>\n",
              "      <td>NaN</td>\n",
              "      <td>NaN</td>\n",
              "      <td>NaN</td>\n",
              "    </tr>\n",
              "    <tr>\n",
              "      <th>1</th>\n",
              "      <td>247</td>\n",
              "      <td>12</td>\n",
              "      <td>2020-03-21</td>\n",
              "      <td>Brazil</td>\n",
              "      <td>MA</td>\n",
              "      <td>TOTAL</td>\n",
              "      <td>0</td>\n",
              "      <td>0</td>\n",
              "      <td>1</td>\n",
              "      <td>2</td>\n",
              "      <td>0</td>\n",
              "      <td>1</td>\n",
              "      <td>0.0</td>\n",
              "      <td>0.02827</td>\n",
              "      <td>0.0</td>\n",
              "      <td>NaN</td>\n",
              "      <td>NaN</td>\n",
              "      <td>NaN</td>\n",
              "      <td>NaN</td>\n",
              "      <td>NaN</td>\n",
              "      <td>NaN</td>\n",
              "      <td>NaN</td>\n",
              "      <td>NaN</td>\n",
              "    </tr>\n",
              "    <tr>\n",
              "      <th>2</th>\n",
              "      <td>275</td>\n",
              "      <td>13</td>\n",
              "      <td>2020-03-22</td>\n",
              "      <td>Brazil</td>\n",
              "      <td>MA</td>\n",
              "      <td>TOTAL</td>\n",
              "      <td>0</td>\n",
              "      <td>0</td>\n",
              "      <td>0</td>\n",
              "      <td>2</td>\n",
              "      <td>0</td>\n",
              "      <td>2</td>\n",
              "      <td>0.0</td>\n",
              "      <td>0.02827</td>\n",
              "      <td>0.0</td>\n",
              "      <td>NaN</td>\n",
              "      <td>NaN</td>\n",
              "      <td>NaN</td>\n",
              "      <td>NaN</td>\n",
              "      <td>NaN</td>\n",
              "      <td>NaN</td>\n",
              "      <td>NaN</td>\n",
              "      <td>NaN</td>\n",
              "    </tr>\n",
              "    <tr>\n",
              "      <th>3</th>\n",
              "      <td>303</td>\n",
              "      <td>13</td>\n",
              "      <td>2020-03-23</td>\n",
              "      <td>Brazil</td>\n",
              "      <td>MA</td>\n",
              "      <td>TOTAL</td>\n",
              "      <td>0</td>\n",
              "      <td>0</td>\n",
              "      <td>6</td>\n",
              "      <td>8</td>\n",
              "      <td>0</td>\n",
              "      <td>2</td>\n",
              "      <td>0.0</td>\n",
              "      <td>0.11307</td>\n",
              "      <td>0.0</td>\n",
              "      <td>NaN</td>\n",
              "      <td>302.0</td>\n",
              "      <td>NaN</td>\n",
              "      <td>NaN</td>\n",
              "      <td>NaN</td>\n",
              "      <td>NaN</td>\n",
              "      <td>NaN</td>\n",
              "      <td>NaN</td>\n",
              "    </tr>\n",
              "    <tr>\n",
              "      <th>4</th>\n",
              "      <td>331</td>\n",
              "      <td>13</td>\n",
              "      <td>2020-03-24</td>\n",
              "      <td>Brazil</td>\n",
              "      <td>MA</td>\n",
              "      <td>TOTAL</td>\n",
              "      <td>0</td>\n",
              "      <td>0</td>\n",
              "      <td>0</td>\n",
              "      <td>8</td>\n",
              "      <td>0</td>\n",
              "      <td>8</td>\n",
              "      <td>0.0</td>\n",
              "      <td>0.11307</td>\n",
              "      <td>0.0</td>\n",
              "      <td>NaN</td>\n",
              "      <td>302.0</td>\n",
              "      <td>NaN</td>\n",
              "      <td>NaN</td>\n",
              "      <td>NaN</td>\n",
              "      <td>NaN</td>\n",
              "      <td>NaN</td>\n",
              "      <td>NaN</td>\n",
              "    </tr>\n",
              "  </tbody>\n",
              "</table>\n",
              "</div>"
            ],
            "text/plain": [
              "   index  epi_week  ... vaccinated_second vaccinated_second_per_100k_inhabitants\n",
              "0    220        12  ...               NaN                                    NaN\n",
              "1    247        12  ...               NaN                                    NaN\n",
              "2    275        13  ...               NaN                                    NaN\n",
              "3    303        13  ...               NaN                                    NaN\n",
              "4    331        13  ...               NaN                                    NaN\n",
              "\n",
              "[5 rows x 23 columns]"
            ]
          },
          "metadata": {
            "tags": []
          },
          "execution_count": 76
        }
      ]
    },
    {
      "cell_type": "code",
      "metadata": {
        "id": "EJrNTy11VYFq"
      },
      "source": [
        "# Creating new recovered column\r\n",
        "df_state[\"newRecovered\"] = df_state[\"recovered\"].diff()\r\n",
        "df_state.newRecovered.fillna(0, inplace=True)\r\n",
        "df_state.recovered.fillna(0, inplace=True)"
      ],
      "execution_count": 77,
      "outputs": []
    },
    {
      "cell_type": "code",
      "metadata": {
        "id": "uvoW2OeXVYFq"
      },
      "source": [
        "# Creating active cases column (Infected)\r\n",
        "active_infected = [df_state[\"totalCases\"].iloc[0]]\r\n",
        "for nc, nr in zip(df_state[\"newCases\"].iloc[1:], \r\n",
        "                  df_state[\"newRecovered\"].iloc[1:]):\r\n",
        "    active_infected.append(active_infected[-1] + nc - nr)\r\n",
        "df_state[\"activeCases\"] = active_infected"
      ],
      "execution_count": 78,
      "outputs": []
    },
    {
      "cell_type": "code",
      "metadata": {
        "colab": {
          "base_uri": "https://localhost:8080/",
          "height": 542
        },
        "id": "E8OXbBQHdaJw",
        "outputId": "9787e9be-3dd0-4c74-cac9-8c2e3f420b57"
      },
      "source": [
        "# Plotting the correct results components\r\n",
        "fig = go.Figure()\r\n",
        "\r\n",
        "fig.add_trace(go.Scatter(\r\n",
        "    name=\"Active Cases\",\r\n",
        "    x=df_state.date,\r\n",
        "    y=df_state.activeCases,\r\n",
        "    mode='markers',\r\n",
        "    marker=dict(size=6, color=\"#38006b\")\r\n",
        "    ))\r\n",
        "\r\n",
        "fig.add_trace(go.Scatter(\r\n",
        "    name=\"Recovered\",\r\n",
        "    x=df_state.date,\r\n",
        "    y=df_state.recovered,\r\n",
        "    mode='markers',\r\n",
        "    marker=dict(size=6, color=\"#005005\")\r\n",
        "    ))\r\n",
        "\r\n",
        "fig.update_layout(\r\n",
        "    template='xgridoff',\r\n",
        "    xaxis=dict(showgrid=False),\r\n",
        "    xaxis_title='Date',\r\n",
        "    yaxis_title='Individuals',\r\n",
        "    legend=dict(\r\n",
        "      orientation='h',\r\n",
        "      yanchor='bottom',\r\n",
        "      y=1.01,\r\n",
        "      xanchor='right',\r\n",
        "      x=0.95\r\n",
        "      ),\r\n",
        "    title_text=\"Real data\")\r\n",
        "\r\n",
        "fig.show()"
      ],
      "execution_count": 79,
      "outputs": [
        {
          "output_type": "display_data",
          "data": {
            "text/html": [
              "<html>\n",
              "<head><meta charset=\"utf-8\" /></head>\n",
              "<body>\n",
              "    <div>\n",
              "            <script src=\"https://cdnjs.cloudflare.com/ajax/libs/mathjax/2.7.5/MathJax.js?config=TeX-AMS-MML_SVG\"></script><script type=\"text/javascript\">if (window.MathJax) {MathJax.Hub.Config({SVG: {font: \"STIX-Web\"}});}</script>\n",
              "                <script type=\"text/javascript\">window.PlotlyConfig = {MathJaxConfig: 'local'};</script>\n",
              "        <script src=\"https://cdn.plot.ly/plotly-latest.min.js\"></script>    \n",
              "            <div id=\"6d79504e-a3e2-4b7e-85ba-2ea5119bb554\" class=\"plotly-graph-div\" style=\"height:525px; width:100%;\"></div>\n",
              "            <script type=\"text/javascript\">\n",
              "                \n",
              "                    window.PLOTLYENV=window.PLOTLYENV || {};\n",
              "                    \n",
              "                if (document.getElementById(\"6d79504e-a3e2-4b7e-85ba-2ea5119bb554\")) {\n",
              "                    Plotly.newPlot(\n",
              "                        '6d79504e-a3e2-4b7e-85ba-2ea5119bb554',\n",
              "                        [{\"marker\": {\"color\": \"#38006b\", \"size\": 6}, \"mode\": \"markers\", \"name\": \"Active Cases\", \"type\": \"scatter\", \"x\": [\"2020-03-20\", \"2020-03-21\", \"2020-03-22\", \"2020-03-23\", \"2020-03-24\", \"2020-03-25\", \"2020-03-26\", \"2020-03-27\", \"2020-03-28\", \"2020-03-29\", \"2020-03-30\", \"2020-03-31\", \"2020-04-01\", \"2020-04-02\", \"2020-04-03\", \"2020-04-04\", \"2020-04-05\", \"2020-04-06\", \"2020-04-07\", \"2020-04-08\", \"2020-04-09\", \"2020-04-10\", \"2020-04-11\", \"2020-04-12\", \"2020-04-13\", \"2020-04-14\", \"2020-04-15\", \"2020-04-16\", \"2020-04-17\", \"2020-04-18\", \"2020-04-19\", \"2020-04-20\", \"2020-04-21\", \"2020-04-22\", \"2020-04-23\", \"2020-04-24\", \"2020-04-25\", \"2020-04-26\", \"2020-04-27\", \"2020-04-28\", \"2020-04-29\", \"2020-04-30\", \"2020-05-01\", \"2020-05-02\", \"2020-05-03\", \"2020-05-04\", \"2020-05-05\", \"2020-05-06\", \"2020-05-07\", \"2020-05-08\", \"2020-05-09\", \"2020-05-10\", \"2020-05-11\", \"2020-05-12\", \"2020-05-13\", \"2020-05-14\", \"2020-05-15\", \"2020-05-16\", \"2020-05-17\", \"2020-05-18\", \"2020-05-19\", \"2020-05-20\", \"2020-05-21\", \"2020-05-22\", \"2020-05-23\", \"2020-05-24\", \"2020-05-25\", \"2020-05-26\", \"2020-05-27\", \"2020-05-28\", \"2020-05-29\", \"2020-05-30\", \"2020-05-31\", \"2020-06-01\", \"2020-06-02\", \"2020-06-03\", \"2020-06-04\", \"2020-06-05\", \"2020-06-06\", \"2020-06-07\", \"2020-06-08\", \"2020-06-09\", \"2020-06-10\", \"2020-06-11\", \"2020-06-12\", \"2020-06-13\", \"2020-06-14\", \"2020-06-15\", \"2020-06-16\", \"2020-06-17\", \"2020-06-18\", \"2020-06-19\", \"2020-06-20\", \"2020-06-21\", \"2020-06-22\", \"2020-06-23\", \"2020-06-24\", \"2020-06-25\", \"2020-06-26\", \"2020-06-27\", \"2020-06-28\", \"2020-06-29\", \"2020-06-30\", \"2020-07-01\", \"2020-07-02\", \"2020-07-03\", \"2020-07-04\", \"2020-07-05\", \"2020-07-06\", \"2020-07-07\", \"2020-07-08\", \"2020-07-09\", \"2020-07-10\", \"2020-07-11\", \"2020-07-12\", \"2020-07-13\", \"2020-07-14\", \"2020-07-15\", \"2020-07-16\", \"2020-07-17\", \"2020-07-18\", \"2020-07-19\", \"2020-07-20\", \"2020-07-21\", \"2020-07-22\", \"2020-07-23\", \"2020-07-24\", \"2020-07-25\", \"2020-07-26\", \"2020-07-27\", \"2020-07-28\", \"2020-07-29\", \"2020-07-30\", \"2020-07-31\", \"2020-08-01\", \"2020-08-02\", \"2020-08-03\", \"2020-08-04\", \"2020-08-05\", \"2020-08-06\", \"2020-08-07\", \"2020-08-08\", \"2020-08-09\", \"2020-08-10\", \"2020-08-11\", \"2020-08-12\", \"2020-08-13\", \"2020-08-14\", \"2020-08-15\", \"2020-08-16\", \"2020-08-17\", \"2020-08-18\", \"2020-08-19\", \"2020-08-20\", \"2020-08-21\", \"2020-08-22\", \"2020-08-23\", \"2020-08-24\", \"2020-08-25\", \"2020-08-26\", \"2020-08-27\", \"2020-08-28\", \"2020-08-29\", \"2020-08-30\", \"2020-08-31\", \"2020-09-01\", \"2020-09-02\", \"2020-09-03\", \"2020-09-04\", \"2020-09-05\", \"2020-09-06\", \"2020-09-07\", \"2020-09-08\", \"2020-09-09\", \"2020-09-10\", \"2020-09-11\", \"2020-09-12\", \"2020-09-13\", \"2020-09-14\", \"2020-09-15\", \"2020-09-16\", \"2020-09-17\", \"2020-09-18\", \"2020-09-19\", \"2020-09-20\", \"2020-09-21\", \"2020-09-22\", \"2020-09-23\", \"2020-09-24\", \"2020-09-25\", \"2020-09-26\", \"2020-09-27\", \"2020-09-28\", \"2020-09-29\", \"2020-09-30\", \"2020-10-01\", \"2020-10-02\", \"2020-10-03\", \"2020-10-04\", \"2020-10-05\", \"2020-10-06\", \"2020-10-07\", \"2020-10-08\", \"2020-10-09\", \"2020-10-10\", \"2020-10-11\", \"2020-10-12\", \"2020-10-13\", \"2020-10-14\", \"2020-10-15\", \"2020-10-16\", \"2020-10-17\", \"2020-10-18\", \"2020-10-19\", \"2020-10-20\", \"2020-10-21\", \"2020-10-22\", \"2020-10-23\", \"2020-10-24\", \"2020-10-25\", \"2020-10-26\", \"2020-10-27\", \"2020-10-28\", \"2020-10-29\", \"2020-10-30\", \"2020-10-31\", \"2020-11-01\", \"2020-11-02\", \"2020-11-03\", \"2020-11-04\", \"2020-11-05\", \"2020-11-06\", \"2020-11-07\", \"2020-11-08\", \"2020-11-09\", \"2020-11-10\", \"2020-11-11\", \"2020-11-12\", \"2020-11-13\", \"2020-11-14\", \"2020-11-15\", \"2020-11-16\", \"2020-11-17\", \"2020-11-18\", \"2020-11-19\", \"2020-11-20\", \"2020-11-21\", \"2020-11-22\", \"2020-11-23\", \"2020-11-24\", \"2020-11-25\", \"2020-11-26\", \"2020-11-27\", \"2020-11-28\", \"2020-11-29\", \"2020-11-30\", \"2020-12-01\", \"2020-12-02\", \"2020-12-03\", \"2020-12-04\", \"2020-12-05\", \"2020-12-06\", \"2020-12-07\", \"2020-12-08\", \"2020-12-09\", \"2020-12-10\", \"2020-12-11\", \"2020-12-12\", \"2020-12-13\", \"2020-12-14\", \"2020-12-15\", \"2020-12-16\", \"2020-12-17\", \"2020-12-18\", \"2020-12-19\", \"2020-12-20\", \"2020-12-21\", \"2020-12-22\", \"2020-12-23\", \"2020-12-24\", \"2020-12-25\", \"2020-12-26\", \"2020-12-27\", \"2020-12-28\", \"2020-12-29\", \"2020-12-30\", \"2020-12-31\", \"2021-01-01\", \"2021-01-02\", \"2021-01-03\", \"2021-01-04\", \"2021-01-05\", \"2021-01-06\", \"2021-01-07\", \"2021-01-08\", \"2021-01-09\", \"2021-01-10\", \"2021-01-11\", \"2021-01-12\", \"2021-01-13\", \"2021-01-14\", \"2021-01-15\", \"2021-01-16\", \"2021-01-17\", \"2021-01-18\", \"2021-01-19\", \"2021-01-20\", \"2021-01-21\", \"2021-01-22\", \"2021-01-23\", \"2021-01-24\", \"2021-01-25\", \"2021-01-26\", \"2021-01-27\", \"2021-01-28\", \"2021-01-29\", \"2021-01-30\", \"2021-01-31\", \"2021-02-01\", \"2021-02-02\", \"2021-02-03\", \"2021-02-04\", \"2021-02-05\", \"2021-02-06\", \"2021-02-07\", \"2021-02-08\", \"2021-02-09\", \"2021-02-10\", \"2021-02-11\", \"2021-02-12\", \"2021-02-13\", \"2021-02-14\", \"2021-02-15\", \"2021-02-16\", \"2021-02-17\", \"2021-02-18\", \"2021-02-19\", \"2021-02-20\", \"2021-02-21\", \"2021-02-22\", \"2021-02-23\", \"2021-02-24\", \"2021-02-25\", \"2021-02-26\", \"2021-02-27\", \"2021-02-28\", \"2021-03-01\", \"2021-03-02\", \"2021-03-03\", \"2021-03-04\", \"2021-03-05\", \"2021-03-06\", \"2021-03-07\", \"2021-03-08\", \"2021-03-09\", \"2021-03-10\", \"2021-03-11\"], \"y\": [1.0, 2.0, 2.0, 8.0, 8.0, 8.0, 10.0, 13.0, 15.0, 21.0, 30.0, 51.0, 70.0, 80.0, 87.0, 95.0, 132.0, 171.0, 196.0, 239.0, 255.0, 302.0, 345.0, 389.0, 422.0, 566.0, 620.0, 713.0, 956.0, 1108.0, 1200.0, 1280.0, 1457.0, 1598.0, 1749.0, 1867.0, 1928.0, 1959.0, 2007.0, 2216.0, 2448.0, 2734.0, 2946.0, 3125.0, 3234.0, 3427.0, 3825.0, 3962.0, 4387.0, 5190.0, 5994.0, 6414.0, 6732.0, 7247.0, 7284.0, 8160.0, 8843.0, 9675.0, 10369.0, 11212.0, 12091.0, 12746.0, 13548.0, 14890.0, 17129.0, 17527.0, 18349.0, 19493.0, 20874.0, 22430.0, 23993.0, 25686.0, 25089.0, 25164.0, 25445.0, 26627.0, 27696.0, 27571.0, 27325.0, 26735.0, 26111.0, 26961.0, 26725.0, 26174.0, 26048.0, 25310.0, 25652.0, 25138.0, 25744.0, 25361.0, 24330.0, 24682.0, 23668.0, 23135.0, 22925.0, 24257.0, 21415.0, 21146.0, 20873.0, 20757.0, 20155.0, 19881.0, 19370.0, 20112.0, 21221.0, 20685.0, 20414.0, 20721.0, 20648.0, 21173.0, 22024.0, 24408.0, 21160.0, 21489.0, 21149.0, 22027.0, 23664.0, 18313.0, 17079.0, 18136.0, 15744.0, 15380.0, 15476.0, 15312.0, 15277.0, 14649.0, 12325.0, 12398.0, 12264.0, 11725.0, 12960.0, 12035.0, 13603.0, 12105.0, 12407.0, 12432.0, 11786.0, 11840.0, 10728.0, 10897.0, 11028.0, 11107.0, 11144.0, 10211.0, 10229.0, 9505.0, 10433.0, 11300.0, 12256.0, 11087.0, 11178.0, 11541.0, 11423.0, 11457.0, 11382.0, 11474.0, 11690.0, 11441.0, 11454.0, 11835.0, 11699.0, 11676.0, 11880.0, 11938.0, 11100.0, 11038.0, 11717.0, 12966.0, 11759.0, 12551.0, 12757.0, 12219.0, 10916.0, 11992.0, 10009.0, 10062.0, 10544.0, 10651.0, 11066.0, 10201.0, 9386.0, 10115.0, 9394.0, 9535.0, 9378.0, 9468.0, 10433.0, 11210.0, 9130.0, 9867.0, 10424.0, 9318.0, 9739.0, 8965.0, 9684.0, 10315.0, 8914.0, 9344.0, 9514.0, 8639.0, 9169.0, 9881.0, 10470.0, 11078.0, 11435.0, 7591.0, 6818.0, 6568.0, 6542.0, 6725.0, 6815.0, 6912.0, 6919.0, 7145.0, 7169.0, 7294.0, 7182.0, 7481.0, 7474.0, 7546.0, 7523.0, 8069.0, 7518.0, 7859.0, 6663.0, 6524.0, 6570.0, 6606.0, 6731.0, 7094.0, 7083.0, 7188.0, 7153.0, 7150.0, 7072.0, 6975.0, 7339.0, 7012.0, 6538.0, 6718.0, 6807.0, 6615.0, 6846.0, 6884.0, 7035.0, 6961.0, 7135.0, 6966.0, 7045.0, 7131.0, 7223.0, 7327.0, 7519.0, 7727.0, 7740.0, 7844.0, 8029.0, 7999.0, 8108.0, 8270.0, 8315.0, 8381.0, 8441.0, 8531.0, 8900.0, 8747.0, 8876.0, 9034.0, 8931.0, 9142.0, 9074.0, 9537.0, 9285.0, 9628.0, 9531.0, 9542.0, 9583.0, 9675.0, 9894.0, 10046.0, 10126.0, 9858.0, 9942.0, 9967.0, 10241.0, 10141.0, 10066.0, 10087.0, 10099.0, 10140.0, 10184.0, 10178.0, 10377.0, 10272.0, 10326.0, 10392.0, 10422.0, 10517.0, 10781.0, 10808.0, 10891.0, 11208.0, 10946.0, 10885.0, 10899.0, 10948.0, 11284.0, 11751.0, 11141.0, 11472.0, 11557.0, 11697.0, 11512.0, 11882.0, 12272.0, 12737.0, 11887.0, 11960.0, 11960.0, 12509.0, 13035.0, 12313.0, 12559.0, 12832.0, 13006.0, 13245.0, 13196.0, 13710.0, 14301.0, 13716.0, 14233.0, 13483.0, 13529.0, 13920.0, 14224.0, 13876.0, 14037.0, 14671.0, 14756.0, 15024.0, 14310.0, 14965.0, 15403.0, 15682.0, 15016.0, 15090.0, 15415.0, 15201.0, 15358.0, 15576.0, 15797.0, 16517.0, 16368.0, 16259.0, 16806.0, 17429.0, 18267.0]}, {\"marker\": {\"color\": \"#005005\", \"size\": 6}, \"mode\": \"markers\", \"name\": \"Recovered\", \"type\": \"scatter\", \"x\": [\"2020-03-20\", \"2020-03-21\", \"2020-03-22\", \"2020-03-23\", \"2020-03-24\", \"2020-03-25\", \"2020-03-26\", \"2020-03-27\", \"2020-03-28\", \"2020-03-29\", \"2020-03-30\", \"2020-03-31\", \"2020-04-01\", \"2020-04-02\", \"2020-04-03\", \"2020-04-04\", \"2020-04-05\", \"2020-04-06\", \"2020-04-07\", \"2020-04-08\", \"2020-04-09\", \"2020-04-10\", \"2020-04-11\", \"2020-04-12\", \"2020-04-13\", \"2020-04-14\", \"2020-04-15\", \"2020-04-16\", \"2020-04-17\", \"2020-04-18\", \"2020-04-19\", \"2020-04-20\", \"2020-04-21\", \"2020-04-22\", \"2020-04-23\", \"2020-04-24\", \"2020-04-25\", \"2020-04-26\", \"2020-04-27\", \"2020-04-28\", \"2020-04-29\", \"2020-04-30\", \"2020-05-01\", \"2020-05-02\", \"2020-05-03\", \"2020-05-04\", \"2020-05-05\", \"2020-05-06\", \"2020-05-07\", \"2020-05-08\", \"2020-05-09\", \"2020-05-10\", \"2020-05-11\", \"2020-05-12\", \"2020-05-13\", \"2020-05-14\", \"2020-05-15\", \"2020-05-16\", \"2020-05-17\", \"2020-05-18\", \"2020-05-19\", \"2020-05-20\", \"2020-05-21\", \"2020-05-22\", \"2020-05-23\", \"2020-05-24\", \"2020-05-25\", \"2020-05-26\", \"2020-05-27\", \"2020-05-28\", \"2020-05-29\", \"2020-05-30\", \"2020-05-31\", \"2020-06-01\", \"2020-06-02\", \"2020-06-03\", \"2020-06-04\", \"2020-06-05\", \"2020-06-06\", \"2020-06-07\", \"2020-06-08\", \"2020-06-09\", \"2020-06-10\", \"2020-06-11\", \"2020-06-12\", \"2020-06-13\", \"2020-06-14\", \"2020-06-15\", \"2020-06-16\", \"2020-06-17\", \"2020-06-18\", \"2020-06-19\", \"2020-06-20\", \"2020-06-21\", \"2020-06-22\", \"2020-06-23\", \"2020-06-24\", \"2020-06-25\", \"2020-06-26\", \"2020-06-27\", \"2020-06-28\", \"2020-06-29\", \"2020-06-30\", \"2020-07-01\", \"2020-07-02\", \"2020-07-03\", \"2020-07-04\", \"2020-07-05\", \"2020-07-06\", \"2020-07-07\", \"2020-07-08\", \"2020-07-09\", \"2020-07-10\", \"2020-07-11\", \"2020-07-12\", \"2020-07-13\", \"2020-07-14\", \"2020-07-15\", \"2020-07-16\", \"2020-07-17\", \"2020-07-18\", \"2020-07-19\", \"2020-07-20\", \"2020-07-21\", \"2020-07-22\", \"2020-07-23\", \"2020-07-24\", \"2020-07-25\", \"2020-07-26\", \"2020-07-27\", \"2020-07-28\", \"2020-07-29\", \"2020-07-30\", \"2020-07-31\", \"2020-08-01\", \"2020-08-02\", \"2020-08-03\", \"2020-08-04\", \"2020-08-05\", \"2020-08-06\", \"2020-08-07\", \"2020-08-08\", \"2020-08-09\", \"2020-08-10\", \"2020-08-11\", \"2020-08-12\", \"2020-08-13\", \"2020-08-14\", \"2020-08-15\", \"2020-08-16\", \"2020-08-17\", \"2020-08-18\", \"2020-08-19\", \"2020-08-20\", \"2020-08-21\", \"2020-08-22\", \"2020-08-23\", \"2020-08-24\", \"2020-08-25\", \"2020-08-26\", \"2020-08-27\", \"2020-08-28\", \"2020-08-29\", \"2020-08-30\", \"2020-08-31\", \"2020-09-01\", \"2020-09-02\", \"2020-09-03\", \"2020-09-04\", \"2020-09-05\", \"2020-09-06\", \"2020-09-07\", \"2020-09-08\", \"2020-09-09\", \"2020-09-10\", \"2020-09-11\", \"2020-09-12\", \"2020-09-13\", \"2020-09-14\", \"2020-09-15\", \"2020-09-16\", \"2020-09-17\", \"2020-09-18\", \"2020-09-19\", \"2020-09-20\", \"2020-09-21\", \"2020-09-22\", \"2020-09-23\", \"2020-09-24\", \"2020-09-25\", \"2020-09-26\", \"2020-09-27\", \"2020-09-28\", \"2020-09-29\", \"2020-09-30\", \"2020-10-01\", \"2020-10-02\", \"2020-10-03\", \"2020-10-04\", \"2020-10-05\", \"2020-10-06\", \"2020-10-07\", \"2020-10-08\", \"2020-10-09\", \"2020-10-10\", \"2020-10-11\", \"2020-10-12\", \"2020-10-13\", \"2020-10-14\", \"2020-10-15\", \"2020-10-16\", \"2020-10-17\", \"2020-10-18\", \"2020-10-19\", \"2020-10-20\", \"2020-10-21\", \"2020-10-22\", \"2020-10-23\", \"2020-10-24\", \"2020-10-25\", \"2020-10-26\", \"2020-10-27\", \"2020-10-28\", \"2020-10-29\", \"2020-10-30\", \"2020-10-31\", \"2020-11-01\", \"2020-11-02\", \"2020-11-03\", \"2020-11-04\", \"2020-11-05\", \"2020-11-06\", \"2020-11-07\", \"2020-11-08\", \"2020-11-09\", \"2020-11-10\", \"2020-11-11\", \"2020-11-12\", \"2020-11-13\", \"2020-11-14\", \"2020-11-15\", \"2020-11-16\", \"2020-11-17\", \"2020-11-18\", \"2020-11-19\", \"2020-11-20\", \"2020-11-21\", \"2020-11-22\", \"2020-11-23\", \"2020-11-24\", \"2020-11-25\", \"2020-11-26\", \"2020-11-27\", \"2020-11-28\", \"2020-11-29\", \"2020-11-30\", \"2020-12-01\", \"2020-12-02\", \"2020-12-03\", \"2020-12-04\", \"2020-12-05\", \"2020-12-06\", \"2020-12-07\", \"2020-12-08\", \"2020-12-09\", \"2020-12-10\", \"2020-12-11\", \"2020-12-12\", \"2020-12-13\", \"2020-12-14\", \"2020-12-15\", \"2020-12-16\", \"2020-12-17\", \"2020-12-18\", \"2020-12-19\", \"2020-12-20\", \"2020-12-21\", \"2020-12-22\", \"2020-12-23\", \"2020-12-24\", \"2020-12-25\", \"2020-12-26\", \"2020-12-27\", \"2020-12-28\", \"2020-12-29\", \"2020-12-30\", \"2020-12-31\", \"2021-01-01\", \"2021-01-02\", \"2021-01-03\", \"2021-01-04\", \"2021-01-05\", \"2021-01-06\", \"2021-01-07\", \"2021-01-08\", \"2021-01-09\", \"2021-01-10\", \"2021-01-11\", \"2021-01-12\", \"2021-01-13\", \"2021-01-14\", \"2021-01-15\", \"2021-01-16\", \"2021-01-17\", \"2021-01-18\", \"2021-01-19\", \"2021-01-20\", \"2021-01-21\", \"2021-01-22\", \"2021-01-23\", \"2021-01-24\", \"2021-01-25\", \"2021-01-26\", \"2021-01-27\", \"2021-01-28\", \"2021-01-29\", \"2021-01-30\", \"2021-01-31\", \"2021-02-01\", \"2021-02-02\", \"2021-02-03\", \"2021-02-04\", \"2021-02-05\", \"2021-02-06\", \"2021-02-07\", \"2021-02-08\", \"2021-02-09\", \"2021-02-10\", \"2021-02-11\", \"2021-02-12\", \"2021-02-13\", \"2021-02-14\", \"2021-02-15\", \"2021-02-16\", \"2021-02-17\", \"2021-02-18\", \"2021-02-19\", \"2021-02-20\", \"2021-02-21\", \"2021-02-22\", \"2021-02-23\", \"2021-02-24\", \"2021-02-25\", \"2021-02-26\", \"2021-02-27\", \"2021-02-28\", \"2021-03-01\", \"2021-03-02\", \"2021-03-03\", \"2021-03-04\", \"2021-03-05\", \"2021-03-06\", \"2021-03-07\", \"2021-03-08\", \"2021-03-09\", \"2021-03-10\", \"2021-03-11\"], \"y\": [0.0, 0.0, 0.0, 0.0, 0.0, 0.0, 0.0, 0.0, 0.0, 0.0, 0.0, 0.0, 12.0, 12.0, 12.0, 12.0, 12.0, 12.0, 45.0, 45.0, 50.0, 54.0, 65.0, 68.0, 68.0, 76.0, 87.0, 96.0, 96.0, 109.0, 132.0, 142.0, 159.0, 171.0, 214.0, 250.0, 307.0, 463.0, 533.0, 600.0, 754.0, 784.0, 871.0, 927.0, 1005.0, 1115.0, 1215.0, 1439.0, 1534.0, 1587.0, 1617.0, 1742.0, 1806.0, 1877.0, 2529.0, 2591.0, 2761.0, 2829.0, 2881.0, 2998.0, 3035.0, 3324.0, 3676.0, 3889.0, 4074.0, 5271.0, 5941.0, 6664.0, 7117.0, 8064.0, 8639.0, 8965.0, 10220.0, 11473.0, 12741.0, 14014.0, 15629.0, 17911.0, 20280.0, 21814.0, 23272.0, 25120.0, 26795.0, 29518.0, 31569.0, 33561.0, 34210.0, 35466.0, 36979.0, 39386.0, 41773.0, 43830.0, 46017.0, 46936.0, 47776.0, 47776.0, 51911.0, 53791.0, 55837.0, 57370.0, 58369.0, 59100.0, 61093.0, 63156.0, 64816.0, 67541.0, 68655.0, 69005.0, 69615.0, 70927.0, 70927.0, 70927.0, 75570.0, 76921.0, 77815.0, 77815.0, 77815.0, 84168.0, 87059.0, 87059.0, 90360.0, 90957.0, 91442.0, 92854.0, 94466.0, 96851.0, 100370.0, 101177.0, 101639.0, 102872.0, 103040.0, 105671.0, 105671.0, 108568.0, 109186.0, 109533.0, 110708.0, 112059.0, 114743.0, 116180.0, 117830.0, 118605.0, 119004.0, 120367.0, 121843.0, 123772.0, 123772.0, 124036.0, 124036.0, 125778.0, 126242.0, 127656.0, 129160.0, 130415.0, 131733.0, 132411.0, 132722.0, 133466.0, 134479.0, 135853.0, 137236.0, 138480.0, 139027.0, 139286.0, 140527.0, 141655.0, 142763.0, 142763.0, 145305.0, 145305.0, 145305.0, 146103.0, 148259.0, 148259.0, 150971.0, 151944.0, 151944.0, 151944.0, 151944.0, 153613.0, 155396.0, 155396.0, 157198.0, 157810.0, 158291.0, 158492.0, 158492.0, 158492.0, 161068.0, 161068.0, 161068.0, 162449.0, 162449.0, 163892.0, 163892.0, 163892.0, 165886.0, 165886.0, 165886.0, 167126.0, 167126.0, 167126.0, 167126.0, 167126.0, 167126.0, 171186.0, 172084.0, 172614.0, 173124.0, 173441.0, 173757.0, 173987.0, 174144.0, 174412.0, 174863.0, 175201.0, 175774.0, 175992.0, 176301.0, 176404.0, 176611.0, 176611.0, 177494.0, 177494.0, 179063.0, 179315.0, 179359.0, 179392.0, 179490.0, 179490.0, 179833.0, 180118.0, 180414.0, 180514.0, 180859.0, 181350.0, 181350.0, 182048.0, 182795.0, 182795.0, 182795.0, 183102.0, 183102.0, 183449.0, 183618.0, 184004.0, 184004.0, 184250.0, 184333.0, 184602.0, 184918.0, 185186.0, 185338.0, 185338.0, 185338.0, 185338.0, 185533.0, 185896.0, 186224.0, 186542.0, 186717.0, 186717.0, 186792.0, 187070.0, 187070.0, 187711.0, 187984.0, 187984.0, 188137.0, 188137.0, 188622.0, 188622.0, 189227.0, 189227.0, 189575.0, 189575.0, 189627.0, 189872.0, 189872.0, 189872.0, 189872.0, 190197.0, 190197.0, 190265.0, 190335.0, 190620.0, 190884.0, 190884.0, 190889.0, 190889.0, 190921.0, 191089.0, 191089.0, 191381.0, 191431.0, 191535.0, 191535.0, 191545.0, 191545.0, 191778.0, 191960.0, 191960.0, 192400.0, 192550.0, 192694.0, 193028.0, 193028.0, 193028.0, 193936.0, 193936.0, 193936.0, 193936.0, 194420.0, 194420.0, 194420.0, 194420.0, 195540.0, 195540.0, 195701.0, 195701.0, 195701.0, 196784.0, 196784.0, 196784.0, 196784.0, 196784.0, 197355.0, 197355.0, 197355.0, 198499.0, 198499.0, 199403.0, 199570.0, 199570.0, 199846.0, 200614.0, 201198.0, 201198.0, 201198.0, 201198.0, 202349.0, 202349.0, 202765.0, 202765.0, 204229.0, 204229.0, 204229.0, 205264.0, 205686.0, 206320.0, 206696.0, 206696.0, 207133.0, 207575.0, 207575.0, 207917.0, 207917.0]}],\n",
              "                        {\"legend\": {\"orientation\": \"h\", \"x\": 0.95, \"xanchor\": \"right\", \"y\": 1.01, \"yanchor\": \"bottom\"}, \"template\": {\"data\": {\"pie\": [{\"automargin\": true, \"type\": \"pie\"}]}, \"layout\": {\"xaxis\": {\"showgrid\": false, \"title\": {\"standoff\": 15}}, \"yaxis\": {\"title\": {\"standoff\": 15}}}}, \"title\": {\"text\": \"Real data\"}, \"xaxis\": {\"showgrid\": false, \"title\": {\"text\": \"Date\"}}, \"yaxis\": {\"title\": {\"text\": \"Individuals\"}}},\n",
              "                        {\"responsive\": true}\n",
              "                    ).then(function(){\n",
              "                            \n",
              "var gd = document.getElementById('6d79504e-a3e2-4b7e-85ba-2ea5119bb554');\n",
              "var x = new MutationObserver(function (mutations, observer) {{\n",
              "        var display = window.getComputedStyle(gd).display;\n",
              "        if (!display || display === 'none') {{\n",
              "            console.log([gd, 'removed!']);\n",
              "            Plotly.purge(gd);\n",
              "            observer.disconnect();\n",
              "        }}\n",
              "}});\n",
              "\n",
              "// Listen for the removal of the full notebook cells\n",
              "var notebookContainer = gd.closest('#notebook-container');\n",
              "if (notebookContainer) {{\n",
              "    x.observe(notebookContainer, {childList: true});\n",
              "}}\n",
              "\n",
              "// Listen for the clearing of the current output cell\n",
              "var outputEl = gd.closest('.output');\n",
              "if (outputEl) {{\n",
              "    x.observe(outputEl, {childList: true});\n",
              "}}\n",
              "\n",
              "                        })\n",
              "                };\n",
              "                \n",
              "            </script>\n",
              "        </div>\n",
              "</body>\n",
              "</html>"
            ]
          },
          "metadata": {
            "tags": []
          }
        }
      ]
    },
    {
      "cell_type": "code",
      "metadata": {
        "id": "EMC-z4e1ZN4w"
      },
      "source": [
        "# States population\r\n",
        "\r\n",
        "import yaml\r\n",
        "\r\n",
        "with open('/content/drive/MyDrive/Trabalho/Covid/Datasets/state_pop.yaml') as f:\r\n",
        "    state_pop = yaml.load(f)"
      ],
      "execution_count": 80,
      "outputs": []
    },
    {
      "cell_type": "code",
      "metadata": {
        "id": "WYX800VXVYFr"
      },
      "source": [
        "df_state_init = df_state.iloc[:70] # Days to find Beta and r \r\n",
        "\r\n",
        "# Size of population\r\n",
        "N = 60000 \r\n",
        "#N = state_pop['MA']['population']\r\n",
        "\r\n",
        "# Data\r\n",
        "Id = df_state_init[\"activeCases\"]\r\n",
        "Rd = df_state_init[\"recovered\"]\r\n",
        "Sd = N - Rd - Id"
      ],
      "execution_count": 135,
      "outputs": []
    },
    {
      "cell_type": "code",
      "metadata": {
        "id": "OjvoqC0QVYFr"
      },
      "source": [
        "# Valores iniciais \r\n",
        "I0 = 1 \r\n",
        "R0 = 0\r\n",
        "S0 = N - I0\r\n",
        "\r\n",
        "# Vetor de condições iniciais\r\n",
        "y0 = S0, I0, R0\r\n",
        "\r\n",
        "# Beta - taxa de contato,\r\n",
        "# r - taxa média de recuperação (in 1/dia).\r\n",
        "\r\n",
        "theta0 = [1e-4, 1e-2] # valores iniciais [Beta, r]\r\n",
        "\r\n",
        "t = np.linspace(0, len(df_state_init.index.values), len(df_state_init.index.values))"
      ],
      "execution_count": 136,
      "outputs": []
    },
    {
      "cell_type": "code",
      "metadata": {
        "colab": {
          "base_uri": "https://localhost:8080/"
        },
        "id": "vS_3R7hCVYFr",
        "outputId": "f877cede-e720-4ba7-f53f-3601bdd6fedb"
      },
      "source": [
        "# Simulating to find beta and r\r\n",
        "(c, kvg) = optimize.leastsq(objetivo,theta0) \r\n",
        "print(c)"
      ],
      "execution_count": 137,
      "outputs": [
        {
          "output_type": "stream",
          "text": [
            "[3.28952339e-06 3.80846916e-02]\n"
          ],
          "name": "stdout"
        }
      ]
    },
    {
      "cell_type": "code",
      "metadata": {
        "id": "QJ_foghzVYFt"
      },
      "source": [
        "df_state_sim = df_state.iloc[:250] # Days to simulate\r\n",
        "tsim = np.linspace(0, len(df_state_sim.index.values), len(df_state_sim.index.values))\r\n",
        "[Ss,Is,Rs] = SIRsim(y0,tsim,c) # Finding S, I and R for the model"
      ],
      "execution_count": 138,
      "outputs": []
    },
    {
      "cell_type": "code",
      "metadata": {
        "colab": {
          "base_uri": "https://localhost:8080/",
          "height": 542
        },
        "id": "ZhBVeScCapuX",
        "outputId": "8831f8dc-bce5-4d1a-b378-e342b539f816"
      },
      "source": [
        "# Plotting the results\r\n",
        "fig = go.Figure()\r\n",
        "\r\n",
        "fig.add_trace(go.Scatter(\r\n",
        "    name=\"Active Cases - Model\",\r\n",
        "    x=df_state_sim.date,\r\n",
        "    y=Is,\r\n",
        "    mode='lines',\r\n",
        "    line=dict(width=3, dash=\"dash\", color=\"#6a1b9a\")\r\n",
        "    ))\r\n",
        "\r\n",
        "fig.add_trace(go.Scatter(\r\n",
        "    name=\"Recovered - Model\",\r\n",
        "    x=df_state_sim.date,\r\n",
        "    y=Rs,\r\n",
        "    mode='lines',\r\n",
        "    line=dict(width=3, dash=\"dash\", color=\"#2e7d32\")\r\n",
        "    ))\r\n",
        "\r\n",
        "fig.add_trace(go.Scatter(\r\n",
        "    name=\"Susceptible - Model\",\r\n",
        "    x=df_state_sim.date,\r\n",
        "    y=Ss,\r\n",
        "    mode='lines',\r\n",
        "    line=dict(width=3, dash=\"dash\", color=\"#58ACFA\")\r\n",
        "    ))\r\n",
        "\r\n",
        "fig.add_trace(go.Scatter(\r\n",
        "    name=\"Active Cases - Data\",\r\n",
        "    x=df_state_sim.date,\r\n",
        "    y=Id,\r\n",
        "    mode='markers',\r\n",
        "    marker=dict(size=6, color=\"#38006b\")\r\n",
        "    ))\r\n",
        "\r\n",
        "fig.add_trace(go.Scatter(\r\n",
        "    name=\"Recovered - Data\",\r\n",
        "    x=df_state_sim.date,\r\n",
        "    y=Rd,\r\n",
        "    mode='markers',\r\n",
        "    marker=dict(size=6, color=\"#005005\")\r\n",
        "    ))\r\n",
        "\r\n",
        "fig.add_trace(go.Scatter(\r\n",
        "    name=\"Susceptible - Data\",\r\n",
        "    x=df_state_sim.date,\r\n",
        "    y=Sd,\r\n",
        "    mode='markers',\r\n",
        "    marker=dict(size=6, color=\"#0080FF\")\r\n",
        "    ))\r\n",
        "\r\n",
        "fig.update_layout(\r\n",
        "    template='xgridoff',\r\n",
        "    xaxis=dict(showgrid=False),\r\n",
        "    xaxis_title='Days',\r\n",
        "    yaxis_title='Individuals',\r\n",
        "    legend=dict(\r\n",
        "      orientation='h',\r\n",
        "      yanchor='bottom',\r\n",
        "      y=1.01,\r\n",
        "      xanchor='right',\r\n",
        "      x=0.95\r\n",
        "      ),\r\n",
        "    title_text=\"SIR Model\")\r\n",
        "\r\n",
        "fig.show()"
      ],
      "execution_count": 139,
      "outputs": [
        {
          "output_type": "display_data",
          "data": {
            "text/html": [
              "<html>\n",
              "<head><meta charset=\"utf-8\" /></head>\n",
              "<body>\n",
              "    <div>\n",
              "            <script src=\"https://cdnjs.cloudflare.com/ajax/libs/mathjax/2.7.5/MathJax.js?config=TeX-AMS-MML_SVG\"></script><script type=\"text/javascript\">if (window.MathJax) {MathJax.Hub.Config({SVG: {font: \"STIX-Web\"}});}</script>\n",
              "                <script type=\"text/javascript\">window.PlotlyConfig = {MathJaxConfig: 'local'};</script>\n",
              "        <script src=\"https://cdn.plot.ly/plotly-latest.min.js\"></script>    \n",
              "            <div id=\"8e1a8228-db00-48ad-895a-490e56bb94b0\" class=\"plotly-graph-div\" style=\"height:525px; width:100%;\"></div>\n",
              "            <script type=\"text/javascript\">\n",
              "                \n",
              "                    window.PLOTLYENV=window.PLOTLYENV || {};\n",
              "                    \n",
              "                if (document.getElementById(\"8e1a8228-db00-48ad-895a-490e56bb94b0\")) {\n",
              "                    Plotly.newPlot(\n",
              "                        '8e1a8228-db00-48ad-895a-490e56bb94b0',\n",
              "                        [{\"line\": {\"color\": \"#6a1b9a\", \"dash\": \"dash\", \"width\": 3}, \"mode\": \"lines\", \"name\": \"Active Cases - Model\", \"type\": \"scatter\", \"x\": [\"2020-03-20\", \"2020-03-21\", \"2020-03-22\", \"2020-03-23\", \"2020-03-24\", \"2020-03-25\", \"2020-03-26\", \"2020-03-27\", \"2020-03-28\", \"2020-03-29\", \"2020-03-30\", \"2020-03-31\", \"2020-04-01\", \"2020-04-02\", \"2020-04-03\", \"2020-04-04\", \"2020-04-05\", \"2020-04-06\", \"2020-04-07\", \"2020-04-08\", \"2020-04-09\", \"2020-04-10\", \"2020-04-11\", \"2020-04-12\", \"2020-04-13\", \"2020-04-14\", \"2020-04-15\", \"2020-04-16\", \"2020-04-17\", \"2020-04-18\", \"2020-04-19\", \"2020-04-20\", \"2020-04-21\", \"2020-04-22\", \"2020-04-23\", \"2020-04-24\", \"2020-04-25\", \"2020-04-26\", \"2020-04-27\", \"2020-04-28\", \"2020-04-29\", \"2020-04-30\", \"2020-05-01\", \"2020-05-02\", \"2020-05-03\", \"2020-05-04\", \"2020-05-05\", \"2020-05-06\", \"2020-05-07\", \"2020-05-08\", \"2020-05-09\", \"2020-05-10\", \"2020-05-11\", \"2020-05-12\", \"2020-05-13\", \"2020-05-14\", \"2020-05-15\", \"2020-05-16\", \"2020-05-17\", \"2020-05-18\", \"2020-05-19\", \"2020-05-20\", \"2020-05-21\", \"2020-05-22\", \"2020-05-23\", \"2020-05-24\", \"2020-05-25\", \"2020-05-26\", \"2020-05-27\", \"2020-05-28\", \"2020-05-29\", \"2020-05-30\", \"2020-05-31\", \"2020-06-01\", \"2020-06-02\", \"2020-06-03\", \"2020-06-04\", \"2020-06-05\", \"2020-06-06\", \"2020-06-07\", \"2020-06-08\", \"2020-06-09\", \"2020-06-10\", \"2020-06-11\", \"2020-06-12\", \"2020-06-13\", \"2020-06-14\", \"2020-06-15\", \"2020-06-16\", \"2020-06-17\", \"2020-06-18\", \"2020-06-19\", \"2020-06-20\", \"2020-06-21\", \"2020-06-22\", \"2020-06-23\", \"2020-06-24\", \"2020-06-25\", \"2020-06-26\", \"2020-06-27\", \"2020-06-28\", \"2020-06-29\", \"2020-06-30\", \"2020-07-01\", \"2020-07-02\", \"2020-07-03\", \"2020-07-04\", \"2020-07-05\", \"2020-07-06\", \"2020-07-07\", \"2020-07-08\", \"2020-07-09\", \"2020-07-10\", \"2020-07-11\", \"2020-07-12\", \"2020-07-13\", \"2020-07-14\", \"2020-07-15\", \"2020-07-16\", \"2020-07-17\", \"2020-07-18\", \"2020-07-19\", \"2020-07-20\", \"2020-07-21\", \"2020-07-22\", \"2020-07-23\", \"2020-07-24\", \"2020-07-25\", \"2020-07-26\", \"2020-07-27\", \"2020-07-28\", \"2020-07-29\", \"2020-07-30\", \"2020-07-31\", \"2020-08-01\", \"2020-08-02\", \"2020-08-03\", \"2020-08-04\", \"2020-08-05\", \"2020-08-06\", \"2020-08-07\", \"2020-08-08\", \"2020-08-09\", \"2020-08-10\", \"2020-08-11\", \"2020-08-12\", \"2020-08-13\", \"2020-08-14\", \"2020-08-15\", \"2020-08-16\", \"2020-08-17\", \"2020-08-18\", \"2020-08-19\", \"2020-08-20\", \"2020-08-21\", \"2020-08-22\", \"2020-08-23\", \"2020-08-24\", \"2020-08-25\", \"2020-08-26\", \"2020-08-27\", \"2020-08-28\", \"2020-08-29\", \"2020-08-30\", \"2020-08-31\", \"2020-09-01\", \"2020-09-02\", \"2020-09-03\", \"2020-09-04\", \"2020-09-05\", \"2020-09-06\", \"2020-09-07\", \"2020-09-08\", \"2020-09-09\", \"2020-09-10\", \"2020-09-11\", \"2020-09-12\", \"2020-09-13\", \"2020-09-14\", \"2020-09-15\", \"2020-09-16\", \"2020-09-17\", \"2020-09-18\", \"2020-09-19\", \"2020-09-20\", \"2020-09-21\", \"2020-09-22\", \"2020-09-23\", \"2020-09-24\", \"2020-09-25\", \"2020-09-26\", \"2020-09-27\", \"2020-09-28\", \"2020-09-29\", \"2020-09-30\", \"2020-10-01\", \"2020-10-02\", \"2020-10-03\", \"2020-10-04\", \"2020-10-05\", \"2020-10-06\", \"2020-10-07\", \"2020-10-08\", \"2020-10-09\", \"2020-10-10\", \"2020-10-11\", \"2020-10-12\", \"2020-10-13\", \"2020-10-14\", \"2020-10-15\", \"2020-10-16\", \"2020-10-17\", \"2020-10-18\", \"2020-10-19\", \"2020-10-20\", \"2020-10-21\", \"2020-10-22\", \"2020-10-23\", \"2020-10-24\", \"2020-10-25\", \"2020-10-26\", \"2020-10-27\", \"2020-10-28\", \"2020-10-29\", \"2020-10-30\", \"2020-10-31\", \"2020-11-01\", \"2020-11-02\", \"2020-11-03\", \"2020-11-04\", \"2020-11-05\", \"2020-11-06\", \"2020-11-07\", \"2020-11-08\", \"2020-11-09\", \"2020-11-10\", \"2020-11-11\", \"2020-11-12\", \"2020-11-13\", \"2020-11-14\", \"2020-11-15\", \"2020-11-16\", \"2020-11-17\", \"2020-11-18\", \"2020-11-19\", \"2020-11-20\", \"2020-11-21\", \"2020-11-22\", \"2020-11-23\", \"2020-11-24\"], \"y\": [1.0, 1.1734202305975059, 1.3769140149135952, 1.6156960633485808, 1.8958852978590157, 2.2246614347429374, 2.6104485262499195, 3.0631312656489253, 3.594307335063766, 4.217584440882902, 4.948928318707802, 5.807070919636244, 6.813989192423083, 7.995466569977603, 9.381751081586145, 11.008327170770707, 12.916820249221193, 15.156056849907074, 17.78330675786954, 20.86573803238271, 24.48212100696702, 28.7248228980359, 33.70214183708873, 39.541036657580385, 46.3903176667149, 54.42437375592124, 63.84752245536135, 74.89908223322838, 87.8592803161084, 103.05612449714488, 120.87338364027474, 141.75983842689516, 166.2399806777284, 194.9263544861678, 228.5337492305257, 267.89545374802225, 313.9817907732927, 367.9211319427874, 431.0235610504707, 504.80729522614615, 591.0278743496735, 691.7099765633225, 809.1814998465929, 946.1092091882462, 1105.5348830983005, 1290.9101985091597, 1506.1279579856007, 1755.5462231713163, 2044.0007864479558, 2376.8000661424135, 2759.694994353051, 3198.8149993622465, 3700.55989976615, 4271.436832515706, 4917.8317060718055, 5645.706721146189, 6460.219947144501, 7365.270399603056, 8362.98287504431, 9453.160672583926, 10632.750008128112, 11895.374921845245, 13231.012126851729, 14625.877204123906, 16062.582951289507, 17520.60566658355, 18977.05728233179, 20407.716293072637, 21788.22746729828, 23095.349561760777, 24308.11968964362, 25408.815664923095, 26383.63045937852, 27223.017716449347, 27921.713674073366, 28478.479497767636, 28895.633016521428, 29178.448591437387, 29334.500374295214, 29373.011686802965, 29304.256317041334, 29139.04010758386, 28888.276104209974, 28562.65374096063, 28172.398362192493, 27727.104597613874, 27235.637025078897, 26706.07876625386, 26145.72019748481, 25561.07466970912, 24957.913495949804, 24341.313139828275, 23715.70906918018, 23084.95263180051, 22452.367956404207, 21820.80706544335, 21192.70197748811, 20570.113089169743, 19954.773465073315, 19348.12898490299, 18751.3744189422, 18165.485627766422, 17591.248150835563, 17029.28248143495, 16480.066332021695, 15943.954196311615, 15421.19449409761, 14911.944566236072, 14416.28379217508, 13934.224993507863, 13465.724423561529, 13010.690411481468, 12568.990922216452, 12140.46011707842, 11724.90402408332, 11322.105519346644, 10931.828574302037, 10553.821999839398, 10187.822650357684, 9833.558197498522, 9490.7495486549, 9159.112894484715, 8838.361508167924, 8528.207265327515, 8228.361953402498, 7938.538396903557, 7658.451397927943, 7387.818551162228, 7126.3609161501345, 6873.8035859573165, 6629.8761603392495, 6394.313127566031, 6166.854182463771, 5947.2444722936, 5735.234791942845, 5530.581729883966, 5333.047769837734, 5142.401364029648, 4958.4169606693, 4780.875020852426, 4609.561999529656, 4444.270315739901, 4284.798297710985, 4130.950120636202, 3982.5357270777477, 3839.3707404116285, 3701.276367816137, 3568.0792972227027, 3439.6115883385573, 3315.7105588900595, 3196.2186680138398, 3080.983395603817, 2969.8571232476606, 2862.697009595069, 2759.3648663016397, 2659.7270376955717, 2563.654274480961, 2471.0216149399157, 2381.708261024612, 2295.597460179145, 2212.576386894486, 2132.536025605648, 2055.371057579981, 1980.9797470037483, 1909.2638322741138, 1840.1284170761023, 1773.4818653779264, 1709.2356983572365, 1647.3044933539543, 1587.6057862655678, 1530.0599750694987, 1474.5902277865434, 1421.1223916042704, 1369.5849028412656, 1319.9087032898926, 1272.027156403947, 1225.8759653465697, 1181.3930956986069, 1138.5186988786388, 1097.1950374092512, 1057.3664142002463, 1018.9791027462155, 981.9812793464617, 946.3229584265085, 911.9559291667907, 878.8336941113146, 846.9114102675755, 816.1458316781152, 786.4952538359576, 757.9194602379299, 730.379670439596, 703.8384898559656, 678.2598613087207, 653.6090181286169, 629.8524388382258, 606.957803342321, 584.8939505936876, 563.6308377968128, 543.1395008874164, 523.3920162653144, 504.36146394223744, 486.02189225855034, 468.34828332807564, 451.31651971081294, 434.9033524224767, 419.08637043743954, 403.8439704429136, 389.15532795871366, 375.00036960321654, 361.3597467286168, 348.2148089672438, 335.5475792698812, 323.3407299177254, 311.5775596612527, 300.24197066986574, 289.3184469729797, 278.7920337668835, 268.6483174981391, 258.87340589506545, 249.45390932617937, 240.3769230096412, 231.63000957211722, 223.20118186196177, 215.07888680764415, 207.25199012935852, 199.70976105499815, 192.44185757058875, 185.4383124500483, 178.68952009972145, 172.18622318932933, 165.9194999991859, 159.88075235003598, 154.06169425133103, 148.45434024418591, 143.05099454226647, 137.84424062517868, 132.82693140293895, 127.99217909808002, 123.33334591147921, 118.84403507361, 114.51808227897499, 110.34954695492613, 106.33270421799796, 102.46203720259271, 98.7322295542637, 95.13815795120884, 91.67488515159907, 88.33765342136104, 85.12187794868328, 82.02314045616433]}, {\"line\": {\"color\": \"#2e7d32\", \"dash\": \"dash\", \"width\": 3}, \"mode\": \"lines\", \"name\": \"Recovered - Model\", \"type\": \"scatter\", \"x\": [\"2020-03-20\", \"2020-03-21\", \"2020-03-22\", \"2020-03-23\", \"2020-03-24\", \"2020-03-25\", \"2020-03-26\", \"2020-03-27\", \"2020-03-28\", \"2020-03-29\", \"2020-03-30\", \"2020-03-31\", \"2020-04-01\", \"2020-04-02\", \"2020-04-03\", \"2020-04-04\", \"2020-04-05\", \"2020-04-06\", \"2020-04-07\", \"2020-04-08\", \"2020-04-09\", \"2020-04-10\", \"2020-04-11\", \"2020-04-12\", \"2020-04-13\", \"2020-04-14\", \"2020-04-15\", \"2020-04-16\", \"2020-04-17\", \"2020-04-18\", \"2020-04-19\", \"2020-04-20\", \"2020-04-21\", \"2020-04-22\", \"2020-04-23\", \"2020-04-24\", \"2020-04-25\", \"2020-04-26\", \"2020-04-27\", \"2020-04-28\", \"2020-04-29\", \"2020-04-30\", \"2020-05-01\", \"2020-05-02\", \"2020-05-03\", \"2020-05-04\", \"2020-05-05\", \"2020-05-06\", \"2020-05-07\", \"2020-05-08\", \"2020-05-09\", \"2020-05-10\", \"2020-05-11\", \"2020-05-12\", \"2020-05-13\", \"2020-05-14\", \"2020-05-15\", \"2020-05-16\", \"2020-05-17\", \"2020-05-18\", \"2020-05-19\", \"2020-05-20\", \"2020-05-21\", \"2020-05-22\", \"2020-05-23\", \"2020-05-24\", \"2020-05-25\", \"2020-05-26\", \"2020-05-27\", \"2020-05-28\", \"2020-05-29\", \"2020-05-30\", \"2020-05-31\", \"2020-06-01\", \"2020-06-02\", \"2020-06-03\", \"2020-06-04\", \"2020-06-05\", \"2020-06-06\", \"2020-06-07\", \"2020-06-08\", \"2020-06-09\", \"2020-06-10\", \"2020-06-11\", \"2020-06-12\", \"2020-06-13\", \"2020-06-14\", \"2020-06-15\", \"2020-06-16\", \"2020-06-17\", \"2020-06-18\", \"2020-06-19\", \"2020-06-20\", \"2020-06-21\", \"2020-06-22\", \"2020-06-23\", \"2020-06-24\", \"2020-06-25\", \"2020-06-26\", \"2020-06-27\", \"2020-06-28\", \"2020-06-29\", \"2020-06-30\", \"2020-07-01\", \"2020-07-02\", \"2020-07-03\", \"2020-07-04\", \"2020-07-05\", \"2020-07-06\", \"2020-07-07\", \"2020-07-08\", \"2020-07-09\", \"2020-07-10\", \"2020-07-11\", \"2020-07-12\", \"2020-07-13\", \"2020-07-14\", \"2020-07-15\", \"2020-07-16\", \"2020-07-17\", \"2020-07-18\", \"2020-07-19\", \"2020-07-20\", \"2020-07-21\", \"2020-07-22\", \"2020-07-23\", \"2020-07-24\", \"2020-07-25\", \"2020-07-26\", \"2020-07-27\", \"2020-07-28\", \"2020-07-29\", \"2020-07-30\", \"2020-07-31\", \"2020-08-01\", \"2020-08-02\", \"2020-08-03\", \"2020-08-04\", \"2020-08-05\", \"2020-08-06\", \"2020-08-07\", \"2020-08-08\", \"2020-08-09\", \"2020-08-10\", \"2020-08-11\", \"2020-08-12\", \"2020-08-13\", \"2020-08-14\", \"2020-08-15\", \"2020-08-16\", \"2020-08-17\", \"2020-08-18\", \"2020-08-19\", \"2020-08-20\", \"2020-08-21\", \"2020-08-22\", \"2020-08-23\", \"2020-08-24\", \"2020-08-25\", \"2020-08-26\", \"2020-08-27\", \"2020-08-28\", \"2020-08-29\", \"2020-08-30\", \"2020-08-31\", \"2020-09-01\", \"2020-09-02\", \"2020-09-03\", \"2020-09-04\", \"2020-09-05\", \"2020-09-06\", \"2020-09-07\", \"2020-09-08\", \"2020-09-09\", \"2020-09-10\", \"2020-09-11\", \"2020-09-12\", \"2020-09-13\", \"2020-09-14\", \"2020-09-15\", \"2020-09-16\", \"2020-09-17\", \"2020-09-18\", \"2020-09-19\", \"2020-09-20\", \"2020-09-21\", \"2020-09-22\", \"2020-09-23\", \"2020-09-24\", \"2020-09-25\", \"2020-09-26\", \"2020-09-27\", \"2020-09-28\", \"2020-09-29\", \"2020-09-30\", \"2020-10-01\", \"2020-10-02\", \"2020-10-03\", \"2020-10-04\", \"2020-10-05\", \"2020-10-06\", \"2020-10-07\", \"2020-10-08\", \"2020-10-09\", \"2020-10-10\", \"2020-10-11\", \"2020-10-12\", \"2020-10-13\", \"2020-10-14\", \"2020-10-15\", \"2020-10-16\", \"2020-10-17\", \"2020-10-18\", \"2020-10-19\", \"2020-10-20\", \"2020-10-21\", \"2020-10-22\", \"2020-10-23\", \"2020-10-24\", \"2020-10-25\", \"2020-10-26\", \"2020-10-27\", \"2020-10-28\", \"2020-10-29\", \"2020-10-30\", \"2020-10-31\", \"2020-11-01\", \"2020-11-02\", \"2020-11-03\", \"2020-11-04\", \"2020-11-05\", \"2020-11-06\", \"2020-11-07\", \"2020-11-08\", \"2020-11-09\", \"2020-11-10\", \"2020-11-11\", \"2020-11-12\", \"2020-11-13\", \"2020-11-14\", \"2020-11-15\", \"2020-11-16\", \"2020-11-17\", \"2020-11-18\", \"2020-11-19\", \"2020-11-20\", \"2020-11-21\", \"2020-11-22\", \"2020-11-23\", \"2020-11-24\"], \"y\": [0.0, 0.04146489662872977, 0.09012063532367649, 0.147214186062174, 0.21420877216417514, 0.2928213315783062, 0.3850664325062846, 0.49330803498662085, 0.6203198862831192, 0.7693566239693193, 0.9442370969555173, 1.1494421187946204, 1.3902291598541734, 1.6727668957997555, 2.0042929716020943, 2.3932991077843178, 2.8497481572496466, 3.3853286599501047, 4.013753312765186, 4.75110889878977, 5.61626651438474, 6.631362334794944, 7.822360987389279, 9.219715545237708, 10.85914048607292, 12.782516661224108, 15.03895039249409, 17.686012375095473, 20.791186124457077, 24.433560318596356, 28.70580461183067, 33.7164743510254, 39.59269613363976, 46.48329295810724, 54.56241689709216, 64.03376198173702, 75.13544221025712, 88.14562507436703, 103.38901869731168, 121.24431633061533, 142.15270429393084, 166.62753693662646, 195.2652734225325, 228.75774896193957, 267.9058259349032, 313.63440652669885, 367.00871997253944, 429.25168156348764, 501.76196593168856, 586.1322448849883, 684.1667761221718, 797.8972238384262, 929.5952224125775, 1081.7797900844637, 1257.2172871024604, 1458.9112424550592, 1690.0791272717786, 1954.113131061274, 2254.522325033173, 2594.854398639165, 2978.596528227923, 3409.0569058481997, 3889.2309285944316, 4421.658777193452, 5008.283683965608, 5650.3220831134695, 6348.157514505833, 7101.269222105436, 7908.203744835916, 8766.593714007118, 9673.223178579754, 10624.133926841561, 11614.76330884528, 12640.101615017347, 13694.856394619748, 14773.61207779216, 15870.975473960785, 16981.700591148405, 18100.789201264583, 19223.566235899256, 20345.731179420083, 21463.388039737376, 22573.05724106605, 23671.67322598929, 24756.570773428113, 25825.464190704108, 26876.420797826962, 27907.832108034618, 28918.383521531163, 29907.02425099772, 30872.93827058127, 31815.51676080067, 32734.332598461, 33629.11690790513, 34499.73781509392, 35346.181358692855, 36168.534444553916, 36966.969715747975, 37741.7322106248, 38493.12762271471, 39221.512023122785, 39927.282886123234, 40610.87127634499, 41272.73506431801, 41913.35305072667, 42533.21988863606, 43132.84170702092, 43712.73234757106, 44273.410139698295, 44815.39514083849, 45339.20678932197, 45845.36190630134, 46334.37301556145, 46806.74692224501, 47262.983541683716, 47703.57490853029, 48129.00438664598, 48539.746010689545, 48936.26397254396, 49319.0122202102, 49688.43414895747, 50044.96238901406, 50389.01865538391, 50721.01366860931, 51041.3471271512, 51350.407724057644, 51648.57320803338, 51936.21047239347, 52213.675676672916, 52481.31438999499, 52739.461753908894, 52988.44266359811, 53228.571959735295, 53460.15463341532, 53683.48603817817, 53898.85210877617, 54106.529585395045, 54306.78623889828, 54499.881102251595, 54686.06469800015, 54865.57926926115, 55038.65900723216, 55205.53027942777, 55366.41185355652, 55521.51512021781, 55671.04431143194, 55815.19671619973, 55954.16289202618, 56088.12687242869, 56217.266370223835, 56341.7529762483, 56461.7523539716, 56577.42442848897, 56688.92357214234, 56796.39878511572, 56899.99387019044, 56999.84760455378, 57096.09390510353, 57188.86199079686, 57278.27653917303, 57364.4578388307, 57447.521937559104, 57527.58078550776, 57604.74237470767, 57679.11087366489, 57750.786758369075, 57819.866938856416, 57886.44488187111, 57950.61072972992, 58012.45141521127, 58072.05077296423, 58129.48964700149, 58184.84599488414, 58238.19498871841, 58289.609112297876, 58339.158255336224, 58386.90980451467, 58432.92873145886, 58477.27767776228, 58520.01703712542, 58561.20503477295, 58600.89780410505, 58639.14946066296, 58676.012173810275, 58711.53623572739, 58745.770127941505, 58778.76058594892, 58810.5526612761, 58841.189781364985, 58870.71380770762, 58899.16509163452, 58926.582528124716, 58953.00360812489, 58978.4644685939, 59002.999940886344, 59026.64359792225, 59049.42779934486, 59071.38373439718, 59092.54146402282, 59112.929962070455, 59132.57715421705, 59151.50995487694, 59169.75430406114, 59187.33520281613, 59204.2767469242, 59220.60215866237, 59236.333819051964, 59251.49329831416, 59266.10138498405, 59280.178113357026, 59293.74279158701, 59306.81402786054, 59319.409755500135, 59331.54725675975, 59343.24318721191, 59354.51359826894, 59365.3739587697, 59375.839175730776, 59385.92361537097, 59395.6411225426, 59405.0050392351, 59414.02822277134, 59422.72306381329, 59431.10150316641, 59439.17504764488, 59446.954786025206, 59454.451404436935, 59461.675200889695, 59468.63609890552, 59475.343661468636, 59481.80710418935, 59488.0353078402, 59494.03683011027, 59499.81991775731, 59505.392517881446, 59510.762288720594, 59515.936609832286, 59520.92259262736, 59525.72709004636, 59530.356705831575, 59534.8178033953, 59539.116514895606, 59543.258749566994, 59547.25020165975, 59551.09635821482, 59554.802506824, 59558.37374282663, 59561.81497610502, 59565.13093790653, 59568.32618746199]}, {\"line\": {\"color\": \"#58ACFA\", \"dash\": \"dash\", \"width\": 3}, \"mode\": \"lines\", \"name\": \"Susceptible - Model\", \"type\": \"scatter\", \"x\": [\"2020-03-20\", \"2020-03-21\", \"2020-03-22\", \"2020-03-23\", \"2020-03-24\", \"2020-03-25\", \"2020-03-26\", \"2020-03-27\", \"2020-03-28\", \"2020-03-29\", \"2020-03-30\", \"2020-03-31\", \"2020-04-01\", \"2020-04-02\", \"2020-04-03\", \"2020-04-04\", \"2020-04-05\", \"2020-04-06\", \"2020-04-07\", \"2020-04-08\", \"2020-04-09\", \"2020-04-10\", \"2020-04-11\", \"2020-04-12\", \"2020-04-13\", \"2020-04-14\", \"2020-04-15\", \"2020-04-16\", \"2020-04-17\", \"2020-04-18\", \"2020-04-19\", \"2020-04-20\", \"2020-04-21\", \"2020-04-22\", \"2020-04-23\", \"2020-04-24\", \"2020-04-25\", \"2020-04-26\", \"2020-04-27\", \"2020-04-28\", \"2020-04-29\", \"2020-04-30\", \"2020-05-01\", \"2020-05-02\", \"2020-05-03\", \"2020-05-04\", \"2020-05-05\", \"2020-05-06\", \"2020-05-07\", \"2020-05-08\", \"2020-05-09\", \"2020-05-10\", \"2020-05-11\", \"2020-05-12\", \"2020-05-13\", \"2020-05-14\", \"2020-05-15\", \"2020-05-16\", \"2020-05-17\", \"2020-05-18\", \"2020-05-19\", \"2020-05-20\", \"2020-05-21\", \"2020-05-22\", \"2020-05-23\", \"2020-05-24\", \"2020-05-25\", \"2020-05-26\", \"2020-05-27\", \"2020-05-28\", \"2020-05-29\", \"2020-05-30\", \"2020-05-31\", \"2020-06-01\", \"2020-06-02\", \"2020-06-03\", \"2020-06-04\", \"2020-06-05\", \"2020-06-06\", \"2020-06-07\", \"2020-06-08\", \"2020-06-09\", \"2020-06-10\", \"2020-06-11\", \"2020-06-12\", \"2020-06-13\", \"2020-06-14\", \"2020-06-15\", \"2020-06-16\", \"2020-06-17\", \"2020-06-18\", \"2020-06-19\", \"2020-06-20\", \"2020-06-21\", \"2020-06-22\", \"2020-06-23\", \"2020-06-24\", \"2020-06-25\", \"2020-06-26\", \"2020-06-27\", \"2020-06-28\", \"2020-06-29\", \"2020-06-30\", \"2020-07-01\", \"2020-07-02\", \"2020-07-03\", \"2020-07-04\", \"2020-07-05\", \"2020-07-06\", \"2020-07-07\", \"2020-07-08\", \"2020-07-09\", \"2020-07-10\", \"2020-07-11\", \"2020-07-12\", \"2020-07-13\", \"2020-07-14\", \"2020-07-15\", \"2020-07-16\", \"2020-07-17\", \"2020-07-18\", \"2020-07-19\", \"2020-07-20\", \"2020-07-21\", \"2020-07-22\", \"2020-07-23\", \"2020-07-24\", \"2020-07-25\", \"2020-07-26\", \"2020-07-27\", \"2020-07-28\", \"2020-07-29\", \"2020-07-30\", \"2020-07-31\", \"2020-08-01\", \"2020-08-02\", \"2020-08-03\", \"2020-08-04\", \"2020-08-05\", \"2020-08-06\", \"2020-08-07\", \"2020-08-08\", \"2020-08-09\", \"2020-08-10\", \"2020-08-11\", \"2020-08-12\", \"2020-08-13\", \"2020-08-14\", \"2020-08-15\", \"2020-08-16\", \"2020-08-17\", \"2020-08-18\", \"2020-08-19\", \"2020-08-20\", \"2020-08-21\", \"2020-08-22\", \"2020-08-23\", \"2020-08-24\", \"2020-08-25\", \"2020-08-26\", \"2020-08-27\", \"2020-08-28\", \"2020-08-29\", \"2020-08-30\", \"2020-08-31\", \"2020-09-01\", \"2020-09-02\", \"2020-09-03\", \"2020-09-04\", \"2020-09-05\", \"2020-09-06\", \"2020-09-07\", \"2020-09-08\", \"2020-09-09\", \"2020-09-10\", \"2020-09-11\", \"2020-09-12\", \"2020-09-13\", \"2020-09-14\", \"2020-09-15\", \"2020-09-16\", \"2020-09-17\", \"2020-09-18\", \"2020-09-19\", \"2020-09-20\", \"2020-09-21\", \"2020-09-22\", \"2020-09-23\", \"2020-09-24\", \"2020-09-25\", \"2020-09-26\", \"2020-09-27\", \"2020-09-28\", \"2020-09-29\", \"2020-09-30\", \"2020-10-01\", \"2020-10-02\", \"2020-10-03\", \"2020-10-04\", \"2020-10-05\", \"2020-10-06\", \"2020-10-07\", \"2020-10-08\", \"2020-10-09\", \"2020-10-10\", \"2020-10-11\", \"2020-10-12\", \"2020-10-13\", \"2020-10-14\", \"2020-10-15\", \"2020-10-16\", \"2020-10-17\", \"2020-10-18\", \"2020-10-19\", \"2020-10-20\", \"2020-10-21\", \"2020-10-22\", \"2020-10-23\", \"2020-10-24\", \"2020-10-25\", \"2020-10-26\", \"2020-10-27\", \"2020-10-28\", \"2020-10-29\", \"2020-10-30\", \"2020-10-31\", \"2020-11-01\", \"2020-11-02\", \"2020-11-03\", \"2020-11-04\", \"2020-11-05\", \"2020-11-06\", \"2020-11-07\", \"2020-11-08\", \"2020-11-09\", \"2020-11-10\", \"2020-11-11\", \"2020-11-12\", \"2020-11-13\", \"2020-11-14\", \"2020-11-15\", \"2020-11-16\", \"2020-11-17\", \"2020-11-18\", \"2020-11-19\", \"2020-11-20\", \"2020-11-21\", \"2020-11-22\", \"2020-11-23\", \"2020-11-24\"], \"y\": [59999.0, 59998.78511487278, 59998.53296534977, 59998.23708975059, 59997.88990592998, 59997.482517233686, 59997.00448504125, 59996.44356069937, 59995.785372778664, 59995.01305893516, 59994.10683458435, 59993.04348696158, 59991.79578164773, 59990.33176653425, 59988.613955946836, 59986.59837372147, 59984.23343159355, 59981.45861449017, 59978.20293992939, 59974.383153068855, 59969.90161247867, 59964.643814767194, 59958.47549717555, 59951.2392477972, 59942.750541847236, 59932.79310958287, 59921.11352715216, 59907.41490539169, 59891.34953355945, 59872.51031518427, 59850.420811747914, 59824.5236872221, 59794.167323188645, 59758.59035255574, 59716.9038338724, 59668.070784270254, 59610.88276701647, 59543.933242982865, 59465.58742025223, 59373.94838844325, 59266.8194213564, 59141.662486500056, 58995.55322673088, 58825.13304184982, 58626.559290966805, 58395.45539496415, 58126.86332204187, 57815.2020952652, 57454.23724762037, 57037.06768897262, 56556.13822952479, 56003.287776799334, 55369.84487782128, 54646.783377399835, 53824.951006825744, 52895.382036398754, 51849.70092558372, 50680.61646933566, 49382.49479992251, 47951.98492877691, 46388.65346364396, 44695.56817230655, 42879.75694455383, 40952.46401868264, 38929.133364744885, 36829.072250302976, 34674.78520316238, 32491.014484821928, 30303.568787865806, 28138.0567242321, 26018.657131776625, 23967.050408235344, 22001.6062317762, 20136.880668533304, 18383.429931306888, 16747.908424440207, 15233.391509517785, 13839.850817414212, 12564.710424440205, 11403.42207729778, 10350.012503538583, 9397.571852678759, 8538.666654723973, 7765.673033050079, 7071.030864379389, 6447.431211682015, 5887.942177094136, 5386.089125711521, 4935.896280984026, 4531.901079293162, 4169.148233468932, 3843.170099371063, 3549.95833235883, 3285.930460294366, 3047.8942285018866, 2833.0115758638044, 2638.7635779579855, 2462.9171950822874, 2303.4943243018906, 2158.743392382309, 2027.113557935014, 1907.2314861103469, 1797.8805728194534, 1697.9824542470383, 1606.580617251648, 1522.8259150523368, 1445.963798881484, 1375.323086192882, 1310.3060681266345, 1250.3798656536587, 1195.0687871165146, 1143.947682217209, 1096.636062222121, 1052.7929606765874, 1012.1124342329808, 974.3195721230858, 939.1670390520026, 906.4319894710825, 875.9133770983841, 847.4295822913056, 820.8163023876557, 795.9247165012464, 772.6198364481886, 750.7790660631937, 730.2909194463163, 711.0538790388149, 692.9753940387039, 675.9709764443256, 659.9634071769701, 644.882024047717, 630.6620857518768, 617.2442088358858, 604.5738578009641, 592.6008942911078, 581.2791698790126, 570.5661613398875, 560.4226447672435, 550.8123970720936, 541.7019370791313, 533.0602811474504, 524.8587312092179, 517.0706770279594, 509.67142286127165, 502.63802580729964, 495.9491527044672, 489.584948156458, 483.52691598415754, 477.75781075114975, 472.26153923278343, 467.0230708861364, 462.02835573788445, 457.26425042461125, 452.718448263396, 448.3794182626165, 444.2363485826685, 440.27909211401624, 436.4981209652845, 432.88447995657384, 429.4297481785462, 426.12600064784664, 422.9657742748346, 419.94203683526786, 417.0481569122835, 414.2778782886043, 411.6252940610171, 409.0848245548448, 406.6511957656769, 404.3194197716744, 402.08477691614877, 399.9427985231787, 397.88925196629475, 395.9201252119895, 394.0316135116088, 392.2201084403416, 390.48218441225026, 388.8145882598484, 387.2142301387816, 385.67817284255216, 384.203623359103, 382.7879254653499, 381.4285510268171, 380.123093148749, 378.86925999059997, 377.6648677632292, 376.5078351058331, 375.3961779471977, 374.3280037835189, 373.3015070457934, 372.31496479906775, 371.3667320544595, 370.45523792589404, 369.57898201932613, 368.736530566402, 367.9265132775001, 367.14762027544475, 366.3985987354442, 365.678250061465, 364.98542780601684, 364.3190350897799, 363.6780216642461, 363.0613818407302, 362.46815286451596, 361.897412610794, 361.3482774730669, 360.81990065333224, 360.31147090020437, 359.82221050513454, 359.35137372713496, 358.89824541274976, 358.4621399143747, 358.0423994457667, 357.6383928695934, 357.2495145821632, 356.87518357901513, 356.5148421182421, 356.16795475810045, 355.8340074634359, 355.5125067711, 355.2029787339847, 354.9049681312354, 354.6180377552753, 354.3417676565626, 354.0757543247657, 353.81961002596984, 353.57296222578094, 353.33545291981596, 353.106737992492, 352.88648666027575, 352.6743809947761, 352.47011534205035, 352.273395811483, 352.0839398097848, 351.9014756384135, 351.72574199851937, 351.55648757630547, 351.39347065424005, 351.2364587647885, 351.08522827457057, 350.93956404217187, 350.7992590948265, 350.6641143257326, 350.53393814947884, 350.40854621501865, 350.2877611376685, 350.1714122309251, 350.0593352247989, 349.95137202177585, 349.8473704736257, 349.74718414479764, 349.6506720818526]}, {\"marker\": {\"color\": \"#38006b\", \"size\": 6}, \"mode\": \"markers\", \"name\": \"Active Cases - Data\", \"type\": \"scatter\", \"x\": [\"2020-03-20\", \"2020-03-21\", \"2020-03-22\", \"2020-03-23\", \"2020-03-24\", \"2020-03-25\", \"2020-03-26\", \"2020-03-27\", \"2020-03-28\", \"2020-03-29\", \"2020-03-30\", \"2020-03-31\", \"2020-04-01\", \"2020-04-02\", \"2020-04-03\", \"2020-04-04\", \"2020-04-05\", \"2020-04-06\", \"2020-04-07\", \"2020-04-08\", \"2020-04-09\", \"2020-04-10\", \"2020-04-11\", \"2020-04-12\", \"2020-04-13\", \"2020-04-14\", \"2020-04-15\", \"2020-04-16\", \"2020-04-17\", \"2020-04-18\", \"2020-04-19\", \"2020-04-20\", \"2020-04-21\", \"2020-04-22\", \"2020-04-23\", \"2020-04-24\", \"2020-04-25\", \"2020-04-26\", \"2020-04-27\", \"2020-04-28\", \"2020-04-29\", \"2020-04-30\", \"2020-05-01\", \"2020-05-02\", \"2020-05-03\", \"2020-05-04\", \"2020-05-05\", \"2020-05-06\", \"2020-05-07\", \"2020-05-08\", \"2020-05-09\", \"2020-05-10\", \"2020-05-11\", \"2020-05-12\", \"2020-05-13\", \"2020-05-14\", \"2020-05-15\", \"2020-05-16\", \"2020-05-17\", \"2020-05-18\", \"2020-05-19\", \"2020-05-20\", \"2020-05-21\", \"2020-05-22\", \"2020-05-23\", \"2020-05-24\", \"2020-05-25\", \"2020-05-26\", \"2020-05-27\", \"2020-05-28\", \"2020-05-29\", \"2020-05-30\", \"2020-05-31\", \"2020-06-01\", \"2020-06-02\", \"2020-06-03\", \"2020-06-04\", \"2020-06-05\", \"2020-06-06\", \"2020-06-07\", \"2020-06-08\", \"2020-06-09\", \"2020-06-10\", \"2020-06-11\", \"2020-06-12\", \"2020-06-13\", \"2020-06-14\", \"2020-06-15\", \"2020-06-16\", \"2020-06-17\", \"2020-06-18\", \"2020-06-19\", \"2020-06-20\", \"2020-06-21\", \"2020-06-22\", \"2020-06-23\", \"2020-06-24\", \"2020-06-25\", \"2020-06-26\", \"2020-06-27\", \"2020-06-28\", \"2020-06-29\", \"2020-06-30\", \"2020-07-01\", \"2020-07-02\", \"2020-07-03\", \"2020-07-04\", \"2020-07-05\", \"2020-07-06\", \"2020-07-07\", \"2020-07-08\", \"2020-07-09\", \"2020-07-10\", \"2020-07-11\", \"2020-07-12\", \"2020-07-13\", \"2020-07-14\", \"2020-07-15\", \"2020-07-16\", \"2020-07-17\", \"2020-07-18\", \"2020-07-19\", \"2020-07-20\", \"2020-07-21\", \"2020-07-22\", \"2020-07-23\", \"2020-07-24\", \"2020-07-25\", \"2020-07-26\", \"2020-07-27\", \"2020-07-28\", \"2020-07-29\", \"2020-07-30\", \"2020-07-31\", \"2020-08-01\", \"2020-08-02\", \"2020-08-03\", \"2020-08-04\", \"2020-08-05\", \"2020-08-06\", \"2020-08-07\", \"2020-08-08\", \"2020-08-09\", \"2020-08-10\", \"2020-08-11\", \"2020-08-12\", \"2020-08-13\", \"2020-08-14\", \"2020-08-15\", \"2020-08-16\", \"2020-08-17\", \"2020-08-18\", \"2020-08-19\", \"2020-08-20\", \"2020-08-21\", \"2020-08-22\", \"2020-08-23\", \"2020-08-24\", \"2020-08-25\", \"2020-08-26\", \"2020-08-27\", \"2020-08-28\", \"2020-08-29\", \"2020-08-30\", \"2020-08-31\", \"2020-09-01\", \"2020-09-02\", \"2020-09-03\", \"2020-09-04\", \"2020-09-05\", \"2020-09-06\", \"2020-09-07\", \"2020-09-08\", \"2020-09-09\", \"2020-09-10\", \"2020-09-11\", \"2020-09-12\", \"2020-09-13\", \"2020-09-14\", \"2020-09-15\", \"2020-09-16\", \"2020-09-17\", \"2020-09-18\", \"2020-09-19\", \"2020-09-20\", \"2020-09-21\", \"2020-09-22\", \"2020-09-23\", \"2020-09-24\", \"2020-09-25\", \"2020-09-26\", \"2020-09-27\", \"2020-09-28\", \"2020-09-29\", \"2020-09-30\", \"2020-10-01\", \"2020-10-02\", \"2020-10-03\", \"2020-10-04\", \"2020-10-05\", \"2020-10-06\", \"2020-10-07\", \"2020-10-08\", \"2020-10-09\", \"2020-10-10\", \"2020-10-11\", \"2020-10-12\", \"2020-10-13\", \"2020-10-14\", \"2020-10-15\", \"2020-10-16\", \"2020-10-17\", \"2020-10-18\", \"2020-10-19\", \"2020-10-20\", \"2020-10-21\", \"2020-10-22\", \"2020-10-23\", \"2020-10-24\", \"2020-10-25\", \"2020-10-26\", \"2020-10-27\", \"2020-10-28\", \"2020-10-29\", \"2020-10-30\", \"2020-10-31\", \"2020-11-01\", \"2020-11-02\", \"2020-11-03\", \"2020-11-04\", \"2020-11-05\", \"2020-11-06\", \"2020-11-07\", \"2020-11-08\", \"2020-11-09\", \"2020-11-10\", \"2020-11-11\", \"2020-11-12\", \"2020-11-13\", \"2020-11-14\", \"2020-11-15\", \"2020-11-16\", \"2020-11-17\", \"2020-11-18\", \"2020-11-19\", \"2020-11-20\", \"2020-11-21\", \"2020-11-22\", \"2020-11-23\", \"2020-11-24\"], \"y\": [1.0, 2.0, 2.0, 8.0, 8.0, 8.0, 10.0, 13.0, 15.0, 21.0, 30.0, 51.0, 70.0, 80.0, 87.0, 95.0, 132.0, 171.0, 196.0, 239.0, 255.0, 302.0, 345.0, 389.0, 422.0, 566.0, 620.0, 713.0, 956.0, 1108.0, 1200.0, 1280.0, 1457.0, 1598.0, 1749.0, 1867.0, 1928.0, 1959.0, 2007.0, 2216.0, 2448.0, 2734.0, 2946.0, 3125.0, 3234.0, 3427.0, 3825.0, 3962.0, 4387.0, 5190.0, 5994.0, 6414.0, 6732.0, 7247.0, 7284.0, 8160.0, 8843.0, 9675.0, 10369.0, 11212.0, 12091.0, 12746.0, 13548.0, 14890.0, 17129.0, 17527.0, 18349.0, 19493.0, 20874.0, 22430.0]}, {\"marker\": {\"color\": \"#005005\", \"size\": 6}, \"mode\": \"markers\", \"name\": \"Recovered - Data\", \"type\": \"scatter\", \"x\": [\"2020-03-20\", \"2020-03-21\", \"2020-03-22\", \"2020-03-23\", \"2020-03-24\", \"2020-03-25\", \"2020-03-26\", \"2020-03-27\", \"2020-03-28\", \"2020-03-29\", \"2020-03-30\", \"2020-03-31\", \"2020-04-01\", \"2020-04-02\", \"2020-04-03\", \"2020-04-04\", \"2020-04-05\", \"2020-04-06\", \"2020-04-07\", \"2020-04-08\", \"2020-04-09\", \"2020-04-10\", \"2020-04-11\", \"2020-04-12\", \"2020-04-13\", \"2020-04-14\", \"2020-04-15\", \"2020-04-16\", \"2020-04-17\", \"2020-04-18\", \"2020-04-19\", \"2020-04-20\", \"2020-04-21\", \"2020-04-22\", \"2020-04-23\", \"2020-04-24\", \"2020-04-25\", \"2020-04-26\", \"2020-04-27\", \"2020-04-28\", \"2020-04-29\", \"2020-04-30\", \"2020-05-01\", \"2020-05-02\", \"2020-05-03\", \"2020-05-04\", \"2020-05-05\", \"2020-05-06\", \"2020-05-07\", \"2020-05-08\", \"2020-05-09\", \"2020-05-10\", \"2020-05-11\", \"2020-05-12\", \"2020-05-13\", \"2020-05-14\", \"2020-05-15\", \"2020-05-16\", \"2020-05-17\", \"2020-05-18\", \"2020-05-19\", \"2020-05-20\", \"2020-05-21\", \"2020-05-22\", \"2020-05-23\", \"2020-05-24\", \"2020-05-25\", \"2020-05-26\", \"2020-05-27\", \"2020-05-28\", \"2020-05-29\", \"2020-05-30\", \"2020-05-31\", \"2020-06-01\", \"2020-06-02\", \"2020-06-03\", \"2020-06-04\", \"2020-06-05\", \"2020-06-06\", \"2020-06-07\", \"2020-06-08\", \"2020-06-09\", \"2020-06-10\", \"2020-06-11\", \"2020-06-12\", \"2020-06-13\", \"2020-06-14\", \"2020-06-15\", \"2020-06-16\", \"2020-06-17\", \"2020-06-18\", \"2020-06-19\", \"2020-06-20\", \"2020-06-21\", \"2020-06-22\", \"2020-06-23\", \"2020-06-24\", \"2020-06-25\", \"2020-06-26\", \"2020-06-27\", \"2020-06-28\", \"2020-06-29\", \"2020-06-30\", \"2020-07-01\", \"2020-07-02\", \"2020-07-03\", \"2020-07-04\", \"2020-07-05\", \"2020-07-06\", \"2020-07-07\", \"2020-07-08\", \"2020-07-09\", \"2020-07-10\", \"2020-07-11\", \"2020-07-12\", \"2020-07-13\", \"2020-07-14\", \"2020-07-15\", \"2020-07-16\", \"2020-07-17\", \"2020-07-18\", \"2020-07-19\", \"2020-07-20\", \"2020-07-21\", \"2020-07-22\", \"2020-07-23\", \"2020-07-24\", \"2020-07-25\", \"2020-07-26\", \"2020-07-27\", \"2020-07-28\", \"2020-07-29\", \"2020-07-30\", \"2020-07-31\", \"2020-08-01\", \"2020-08-02\", \"2020-08-03\", \"2020-08-04\", \"2020-08-05\", \"2020-08-06\", \"2020-08-07\", \"2020-08-08\", \"2020-08-09\", \"2020-08-10\", \"2020-08-11\", \"2020-08-12\", \"2020-08-13\", \"2020-08-14\", \"2020-08-15\", \"2020-08-16\", \"2020-08-17\", \"2020-08-18\", \"2020-08-19\", \"2020-08-20\", \"2020-08-21\", \"2020-08-22\", \"2020-08-23\", \"2020-08-24\", \"2020-08-25\", \"2020-08-26\", \"2020-08-27\", \"2020-08-28\", \"2020-08-29\", \"2020-08-30\", \"2020-08-31\", \"2020-09-01\", \"2020-09-02\", \"2020-09-03\", \"2020-09-04\", \"2020-09-05\", \"2020-09-06\", \"2020-09-07\", \"2020-09-08\", \"2020-09-09\", \"2020-09-10\", \"2020-09-11\", \"2020-09-12\", \"2020-09-13\", \"2020-09-14\", \"2020-09-15\", \"2020-09-16\", \"2020-09-17\", \"2020-09-18\", \"2020-09-19\", \"2020-09-20\", \"2020-09-21\", \"2020-09-22\", \"2020-09-23\", \"2020-09-24\", \"2020-09-25\", \"2020-09-26\", \"2020-09-27\", \"2020-09-28\", \"2020-09-29\", \"2020-09-30\", \"2020-10-01\", \"2020-10-02\", \"2020-10-03\", \"2020-10-04\", \"2020-10-05\", \"2020-10-06\", \"2020-10-07\", \"2020-10-08\", \"2020-10-09\", \"2020-10-10\", \"2020-10-11\", \"2020-10-12\", \"2020-10-13\", \"2020-10-14\", \"2020-10-15\", \"2020-10-16\", \"2020-10-17\", \"2020-10-18\", \"2020-10-19\", \"2020-10-20\", \"2020-10-21\", \"2020-10-22\", \"2020-10-23\", \"2020-10-24\", \"2020-10-25\", \"2020-10-26\", \"2020-10-27\", \"2020-10-28\", \"2020-10-29\", \"2020-10-30\", \"2020-10-31\", \"2020-11-01\", \"2020-11-02\", \"2020-11-03\", \"2020-11-04\", \"2020-11-05\", \"2020-11-06\", \"2020-11-07\", \"2020-11-08\", \"2020-11-09\", \"2020-11-10\", \"2020-11-11\", \"2020-11-12\", \"2020-11-13\", \"2020-11-14\", \"2020-11-15\", \"2020-11-16\", \"2020-11-17\", \"2020-11-18\", \"2020-11-19\", \"2020-11-20\", \"2020-11-21\", \"2020-11-22\", \"2020-11-23\", \"2020-11-24\"], \"y\": [0.0, 0.0, 0.0, 0.0, 0.0, 0.0, 0.0, 0.0, 0.0, 0.0, 0.0, 0.0, 12.0, 12.0, 12.0, 12.0, 12.0, 12.0, 45.0, 45.0, 50.0, 54.0, 65.0, 68.0, 68.0, 76.0, 87.0, 96.0, 96.0, 109.0, 132.0, 142.0, 159.0, 171.0, 214.0, 250.0, 307.0, 463.0, 533.0, 600.0, 754.0, 784.0, 871.0, 927.0, 1005.0, 1115.0, 1215.0, 1439.0, 1534.0, 1587.0, 1617.0, 1742.0, 1806.0, 1877.0, 2529.0, 2591.0, 2761.0, 2829.0, 2881.0, 2998.0, 3035.0, 3324.0, 3676.0, 3889.0, 4074.0, 5271.0, 5941.0, 6664.0, 7117.0, 8064.0]}, {\"marker\": {\"color\": \"#0080FF\", \"size\": 6}, \"mode\": \"markers\", \"name\": \"Susceptible - Data\", \"type\": \"scatter\", \"x\": [\"2020-03-20\", \"2020-03-21\", \"2020-03-22\", \"2020-03-23\", \"2020-03-24\", \"2020-03-25\", \"2020-03-26\", \"2020-03-27\", \"2020-03-28\", \"2020-03-29\", \"2020-03-30\", \"2020-03-31\", \"2020-04-01\", \"2020-04-02\", \"2020-04-03\", \"2020-04-04\", \"2020-04-05\", \"2020-04-06\", \"2020-04-07\", \"2020-04-08\", \"2020-04-09\", \"2020-04-10\", \"2020-04-11\", \"2020-04-12\", \"2020-04-13\", \"2020-04-14\", \"2020-04-15\", \"2020-04-16\", \"2020-04-17\", \"2020-04-18\", \"2020-04-19\", \"2020-04-20\", \"2020-04-21\", \"2020-04-22\", \"2020-04-23\", \"2020-04-24\", \"2020-04-25\", \"2020-04-26\", \"2020-04-27\", \"2020-04-28\", \"2020-04-29\", \"2020-04-30\", \"2020-05-01\", \"2020-05-02\", \"2020-05-03\", \"2020-05-04\", \"2020-05-05\", \"2020-05-06\", \"2020-05-07\", \"2020-05-08\", \"2020-05-09\", \"2020-05-10\", \"2020-05-11\", \"2020-05-12\", \"2020-05-13\", \"2020-05-14\", \"2020-05-15\", \"2020-05-16\", \"2020-05-17\", \"2020-05-18\", \"2020-05-19\", \"2020-05-20\", \"2020-05-21\", \"2020-05-22\", \"2020-05-23\", \"2020-05-24\", \"2020-05-25\", \"2020-05-26\", \"2020-05-27\", \"2020-05-28\", \"2020-05-29\", \"2020-05-30\", \"2020-05-31\", \"2020-06-01\", \"2020-06-02\", \"2020-06-03\", \"2020-06-04\", \"2020-06-05\", \"2020-06-06\", \"2020-06-07\", \"2020-06-08\", \"2020-06-09\", \"2020-06-10\", \"2020-06-11\", \"2020-06-12\", \"2020-06-13\", \"2020-06-14\", \"2020-06-15\", \"2020-06-16\", \"2020-06-17\", \"2020-06-18\", \"2020-06-19\", \"2020-06-20\", \"2020-06-21\", \"2020-06-22\", \"2020-06-23\", \"2020-06-24\", \"2020-06-25\", \"2020-06-26\", \"2020-06-27\", \"2020-06-28\", \"2020-06-29\", \"2020-06-30\", \"2020-07-01\", \"2020-07-02\", \"2020-07-03\", \"2020-07-04\", \"2020-07-05\", \"2020-07-06\", \"2020-07-07\", \"2020-07-08\", \"2020-07-09\", \"2020-07-10\", \"2020-07-11\", \"2020-07-12\", \"2020-07-13\", \"2020-07-14\", \"2020-07-15\", \"2020-07-16\", \"2020-07-17\", \"2020-07-18\", \"2020-07-19\", \"2020-07-20\", \"2020-07-21\", \"2020-07-22\", \"2020-07-23\", \"2020-07-24\", \"2020-07-25\", \"2020-07-26\", \"2020-07-27\", \"2020-07-28\", \"2020-07-29\", \"2020-07-30\", \"2020-07-31\", \"2020-08-01\", \"2020-08-02\", \"2020-08-03\", \"2020-08-04\", \"2020-08-05\", \"2020-08-06\", \"2020-08-07\", \"2020-08-08\", \"2020-08-09\", \"2020-08-10\", \"2020-08-11\", \"2020-08-12\", \"2020-08-13\", \"2020-08-14\", \"2020-08-15\", \"2020-08-16\", \"2020-08-17\", \"2020-08-18\", \"2020-08-19\", \"2020-08-20\", \"2020-08-21\", \"2020-08-22\", \"2020-08-23\", \"2020-08-24\", \"2020-08-25\", \"2020-08-26\", \"2020-08-27\", \"2020-08-28\", \"2020-08-29\", \"2020-08-30\", \"2020-08-31\", \"2020-09-01\", \"2020-09-02\", \"2020-09-03\", \"2020-09-04\", \"2020-09-05\", \"2020-09-06\", \"2020-09-07\", \"2020-09-08\", \"2020-09-09\", \"2020-09-10\", \"2020-09-11\", \"2020-09-12\", \"2020-09-13\", \"2020-09-14\", \"2020-09-15\", \"2020-09-16\", \"2020-09-17\", \"2020-09-18\", \"2020-09-19\", \"2020-09-20\", \"2020-09-21\", \"2020-09-22\", \"2020-09-23\", \"2020-09-24\", \"2020-09-25\", \"2020-09-26\", \"2020-09-27\", \"2020-09-28\", \"2020-09-29\", \"2020-09-30\", \"2020-10-01\", \"2020-10-02\", \"2020-10-03\", \"2020-10-04\", \"2020-10-05\", \"2020-10-06\", \"2020-10-07\", \"2020-10-08\", \"2020-10-09\", \"2020-10-10\", \"2020-10-11\", \"2020-10-12\", \"2020-10-13\", \"2020-10-14\", \"2020-10-15\", \"2020-10-16\", \"2020-10-17\", \"2020-10-18\", \"2020-10-19\", \"2020-10-20\", \"2020-10-21\", \"2020-10-22\", \"2020-10-23\", \"2020-10-24\", \"2020-10-25\", \"2020-10-26\", \"2020-10-27\", \"2020-10-28\", \"2020-10-29\", \"2020-10-30\", \"2020-10-31\", \"2020-11-01\", \"2020-11-02\", \"2020-11-03\", \"2020-11-04\", \"2020-11-05\", \"2020-11-06\", \"2020-11-07\", \"2020-11-08\", \"2020-11-09\", \"2020-11-10\", \"2020-11-11\", \"2020-11-12\", \"2020-11-13\", \"2020-11-14\", \"2020-11-15\", \"2020-11-16\", \"2020-11-17\", \"2020-11-18\", \"2020-11-19\", \"2020-11-20\", \"2020-11-21\", \"2020-11-22\", \"2020-11-23\", \"2020-11-24\"], \"y\": [59999.0, 59998.0, 59998.0, 59992.0, 59992.0, 59992.0, 59990.0, 59987.0, 59985.0, 59979.0, 59970.0, 59949.0, 59918.0, 59908.0, 59901.0, 59893.0, 59856.0, 59817.0, 59759.0, 59716.0, 59695.0, 59644.0, 59590.0, 59543.0, 59510.0, 59358.0, 59293.0, 59191.0, 58948.0, 58783.0, 58668.0, 58578.0, 58384.0, 58231.0, 58037.0, 57883.0, 57765.0, 57578.0, 57460.0, 57184.0, 56798.0, 56482.0, 56183.0, 55948.0, 55761.0, 55458.0, 54960.0, 54599.0, 54079.0, 53223.0, 52389.0, 51844.0, 51462.0, 50876.0, 50187.0, 49249.0, 48396.0, 47496.0, 46750.0, 45790.0, 44874.0, 43930.0, 42776.0, 41221.0, 38797.0, 37202.0, 35710.0, 33843.0, 32009.0, 29506.0]}],\n",
              "                        {\"legend\": {\"orientation\": \"h\", \"x\": 0.95, \"xanchor\": \"right\", \"y\": 1.01, \"yanchor\": \"bottom\"}, \"template\": {\"data\": {\"pie\": [{\"automargin\": true, \"type\": \"pie\"}]}, \"layout\": {\"xaxis\": {\"showgrid\": false, \"title\": {\"standoff\": 15}}, \"yaxis\": {\"title\": {\"standoff\": 15}}}}, \"title\": {\"text\": \"SIR Model\"}, \"xaxis\": {\"showgrid\": false, \"title\": {\"text\": \"Days\"}}, \"yaxis\": {\"title\": {\"text\": \"Individuals\"}}},\n",
              "                        {\"responsive\": true}\n",
              "                    ).then(function(){\n",
              "                            \n",
              "var gd = document.getElementById('8e1a8228-db00-48ad-895a-490e56bb94b0');\n",
              "var x = new MutationObserver(function (mutations, observer) {{\n",
              "        var display = window.getComputedStyle(gd).display;\n",
              "        if (!display || display === 'none') {{\n",
              "            console.log([gd, 'removed!']);\n",
              "            Plotly.purge(gd);\n",
              "            observer.disconnect();\n",
              "        }}\n",
              "}});\n",
              "\n",
              "// Listen for the removal of the full notebook cells\n",
              "var notebookContainer = gd.closest('#notebook-container');\n",
              "if (notebookContainer) {{\n",
              "    x.observe(notebookContainer, {childList: true});\n",
              "}}\n",
              "\n",
              "// Listen for the clearing of the current output cell\n",
              "var outputEl = gd.closest('.output');\n",
              "if (outputEl) {{\n",
              "    x.observe(outputEl, {childList: true});\n",
              "}}\n",
              "\n",
              "                        })\n",
              "                };\n",
              "                \n",
              "            </script>\n",
              "        </div>\n",
              "</body>\n",
              "</html>"
            ]
          },
          "metadata": {
            "tags": []
          }
        }
      ]
    },
    {
      "cell_type": "markdown",
      "metadata": {
        "id": "B8Cj9YC-3Sg8"
      },
      "source": [
        "## Espírito Santo"
      ]
    },
    {
      "cell_type": "code",
      "metadata": {
        "colab": {
          "base_uri": "https://localhost:8080/",
          "height": 309
        },
        "id": "BKLDVlQs3ShV",
        "outputId": "e727796a-8416-4688-b0de-4958fdc46604"
      },
      "source": [
        "# Dataframe for Espírito Santo state\r\n",
        "state = 'ES'\r\n",
        "df_state = df[df.state == state].reset_index()\r\n",
        "df_state.head()"
      ],
      "execution_count": 140,
      "outputs": [
        {
          "output_type": "execute_result",
          "data": {
            "text/html": [
              "<div>\n",
              "<style scoped>\n",
              "    .dataframe tbody tr th:only-of-type {\n",
              "        vertical-align: middle;\n",
              "    }\n",
              "\n",
              "    .dataframe tbody tr th {\n",
              "        vertical-align: top;\n",
              "    }\n",
              "\n",
              "    .dataframe thead th {\n",
              "        text-align: right;\n",
              "    }\n",
              "</style>\n",
              "<table border=\"1\" class=\"dataframe\">\n",
              "  <thead>\n",
              "    <tr style=\"text-align: right;\">\n",
              "      <th></th>\n",
              "      <th>index</th>\n",
              "      <th>epi_week</th>\n",
              "      <th>date</th>\n",
              "      <th>country</th>\n",
              "      <th>state</th>\n",
              "      <th>city</th>\n",
              "      <th>newDeaths</th>\n",
              "      <th>deaths</th>\n",
              "      <th>newCases</th>\n",
              "      <th>totalCases</th>\n",
              "      <th>deathsMS</th>\n",
              "      <th>totalCasesMS</th>\n",
              "      <th>deaths_per_100k_inhabitants</th>\n",
              "      <th>totalCases_per_100k_inhabitants</th>\n",
              "      <th>deaths_by_totalCases</th>\n",
              "      <th>recovered</th>\n",
              "      <th>suspects</th>\n",
              "      <th>tests</th>\n",
              "      <th>tests_per_100k_inhabitants</th>\n",
              "      <th>vaccinated</th>\n",
              "      <th>vaccinated_per_100k_inhabitants</th>\n",
              "      <th>vaccinated_second</th>\n",
              "      <th>vaccinated_second_per_100k_inhabitants</th>\n",
              "    </tr>\n",
              "  </thead>\n",
              "  <tbody>\n",
              "    <tr>\n",
              "      <th>0</th>\n",
              "      <td>22</td>\n",
              "      <td>10</td>\n",
              "      <td>2020-03-06</td>\n",
              "      <td>Brazil</td>\n",
              "      <td>ES</td>\n",
              "      <td>TOTAL</td>\n",
              "      <td>0</td>\n",
              "      <td>0</td>\n",
              "      <td>1</td>\n",
              "      <td>1</td>\n",
              "      <td>0</td>\n",
              "      <td>1</td>\n",
              "      <td>0.0</td>\n",
              "      <td>0.02488</td>\n",
              "      <td>0.0</td>\n",
              "      <td>NaN</td>\n",
              "      <td>NaN</td>\n",
              "      <td>NaN</td>\n",
              "      <td>NaN</td>\n",
              "      <td>NaN</td>\n",
              "      <td>NaN</td>\n",
              "      <td>NaN</td>\n",
              "      <td>NaN</td>\n",
              "    </tr>\n",
              "    <tr>\n",
              "      <th>1</th>\n",
              "      <td>28</td>\n",
              "      <td>10</td>\n",
              "      <td>2020-03-07</td>\n",
              "      <td>Brazil</td>\n",
              "      <td>ES</td>\n",
              "      <td>TOTAL</td>\n",
              "      <td>0</td>\n",
              "      <td>0</td>\n",
              "      <td>0</td>\n",
              "      <td>1</td>\n",
              "      <td>0</td>\n",
              "      <td>1</td>\n",
              "      <td>0.0</td>\n",
              "      <td>0.02488</td>\n",
              "      <td>0.0</td>\n",
              "      <td>NaN</td>\n",
              "      <td>NaN</td>\n",
              "      <td>NaN</td>\n",
              "      <td>NaN</td>\n",
              "      <td>NaN</td>\n",
              "      <td>NaN</td>\n",
              "      <td>NaN</td>\n",
              "      <td>NaN</td>\n",
              "    </tr>\n",
              "    <tr>\n",
              "      <th>2</th>\n",
              "      <td>35</td>\n",
              "      <td>11</td>\n",
              "      <td>2020-03-08</td>\n",
              "      <td>Brazil</td>\n",
              "      <td>ES</td>\n",
              "      <td>TOTAL</td>\n",
              "      <td>0</td>\n",
              "      <td>0</td>\n",
              "      <td>0</td>\n",
              "      <td>1</td>\n",
              "      <td>0</td>\n",
              "      <td>1</td>\n",
              "      <td>0.0</td>\n",
              "      <td>0.02488</td>\n",
              "      <td>0.0</td>\n",
              "      <td>NaN</td>\n",
              "      <td>NaN</td>\n",
              "      <td>NaN</td>\n",
              "      <td>NaN</td>\n",
              "      <td>NaN</td>\n",
              "      <td>NaN</td>\n",
              "      <td>NaN</td>\n",
              "      <td>NaN</td>\n",
              "    </tr>\n",
              "    <tr>\n",
              "      <th>3</th>\n",
              "      <td>43</td>\n",
              "      <td>11</td>\n",
              "      <td>2020-03-09</td>\n",
              "      <td>Brazil</td>\n",
              "      <td>ES</td>\n",
              "      <td>TOTAL</td>\n",
              "      <td>0</td>\n",
              "      <td>0</td>\n",
              "      <td>0</td>\n",
              "      <td>1</td>\n",
              "      <td>0</td>\n",
              "      <td>1</td>\n",
              "      <td>0.0</td>\n",
              "      <td>0.02488</td>\n",
              "      <td>0.0</td>\n",
              "      <td>NaN</td>\n",
              "      <td>NaN</td>\n",
              "      <td>NaN</td>\n",
              "      <td>NaN</td>\n",
              "      <td>NaN</td>\n",
              "      <td>NaN</td>\n",
              "      <td>NaN</td>\n",
              "      <td>NaN</td>\n",
              "    </tr>\n",
              "    <tr>\n",
              "      <th>4</th>\n",
              "      <td>51</td>\n",
              "      <td>11</td>\n",
              "      <td>2020-03-10</td>\n",
              "      <td>Brazil</td>\n",
              "      <td>ES</td>\n",
              "      <td>TOTAL</td>\n",
              "      <td>0</td>\n",
              "      <td>0</td>\n",
              "      <td>0</td>\n",
              "      <td>1</td>\n",
              "      <td>0</td>\n",
              "      <td>1</td>\n",
              "      <td>0.0</td>\n",
              "      <td>0.02488</td>\n",
              "      <td>0.0</td>\n",
              "      <td>NaN</td>\n",
              "      <td>NaN</td>\n",
              "      <td>NaN</td>\n",
              "      <td>NaN</td>\n",
              "      <td>NaN</td>\n",
              "      <td>NaN</td>\n",
              "      <td>NaN</td>\n",
              "      <td>NaN</td>\n",
              "    </tr>\n",
              "  </tbody>\n",
              "</table>\n",
              "</div>"
            ],
            "text/plain": [
              "   index  epi_week  ... vaccinated_second vaccinated_second_per_100k_inhabitants\n",
              "0     22        10  ...               NaN                                    NaN\n",
              "1     28        10  ...               NaN                                    NaN\n",
              "2     35        11  ...               NaN                                    NaN\n",
              "3     43        11  ...               NaN                                    NaN\n",
              "4     51        11  ...               NaN                                    NaN\n",
              "\n",
              "[5 rows x 23 columns]"
            ]
          },
          "metadata": {
            "tags": []
          },
          "execution_count": 140
        }
      ]
    },
    {
      "cell_type": "code",
      "metadata": {
        "id": "xGxtUVH23ShX"
      },
      "source": [
        "# Creating new recovered column\r\n",
        "df_state[\"newRecovered\"] = df_state[\"recovered\"].diff()\r\n",
        "df_state.newRecovered.fillna(0, inplace=True)\r\n",
        "df_state.recovered.fillna(0, inplace=True)"
      ],
      "execution_count": 141,
      "outputs": []
    },
    {
      "cell_type": "code",
      "metadata": {
        "id": "WyPb5Pls3ShX"
      },
      "source": [
        "# Creating active cases column (Infected)\r\n",
        "active_infected = [df_state[\"totalCases\"].iloc[0]]\r\n",
        "for nc, nr in zip(df_state[\"newCases\"].iloc[1:], \r\n",
        "                  df_state[\"newRecovered\"].iloc[1:]):\r\n",
        "    active_infected.append(active_infected[-1] + nc - nr)\r\n",
        "df_state[\"activeCases\"] = active_infected"
      ],
      "execution_count": 142,
      "outputs": []
    },
    {
      "cell_type": "code",
      "metadata": {
        "colab": {
          "base_uri": "https://localhost:8080/",
          "height": 542
        },
        "id": "5SdllzLp3ShY",
        "outputId": "5aecb48c-c862-47bc-f97d-2af5ead54f7f"
      },
      "source": [
        "# Plotting the correct results components\r\n",
        "fig = go.Figure()\r\n",
        "\r\n",
        "fig.add_trace(go.Scatter(\r\n",
        "    name=\"Active Cases\",\r\n",
        "    x=df_state.index.values,\r\n",
        "    y=df_state.activeCases,\r\n",
        "    mode='markers',\r\n",
        "    marker=dict(size=6, color=\"#38006b\")\r\n",
        "    ))\r\n",
        "\r\n",
        "fig.add_trace(go.Scatter(\r\n",
        "    name=\"Recovered\",\r\n",
        "    x=df_state.index.values,\r\n",
        "    y=df_state.recovered,\r\n",
        "    mode='markers',\r\n",
        "    marker=dict(size=6, color=\"#005005\")\r\n",
        "    ))\r\n",
        "\r\n",
        "fig.update_layout(\r\n",
        "    template='xgridoff',\r\n",
        "    xaxis=dict(showgrid=False),\r\n",
        "    xaxis_title='Date',\r\n",
        "    yaxis_title='Individuals',\r\n",
        "    legend=dict(\r\n",
        "      orientation='h',\r\n",
        "      yanchor='bottom',\r\n",
        "      y=1.01,\r\n",
        "      xanchor='right',\r\n",
        "      x=0.95\r\n",
        "      ),\r\n",
        "    title_text=\"Real data\")\r\n",
        "\r\n",
        "fig.show()"
      ],
      "execution_count": 143,
      "outputs": [
        {
          "output_type": "display_data",
          "data": {
            "text/html": [
              "<html>\n",
              "<head><meta charset=\"utf-8\" /></head>\n",
              "<body>\n",
              "    <div>\n",
              "            <script src=\"https://cdnjs.cloudflare.com/ajax/libs/mathjax/2.7.5/MathJax.js?config=TeX-AMS-MML_SVG\"></script><script type=\"text/javascript\">if (window.MathJax) {MathJax.Hub.Config({SVG: {font: \"STIX-Web\"}});}</script>\n",
              "                <script type=\"text/javascript\">window.PlotlyConfig = {MathJaxConfig: 'local'};</script>\n",
              "        <script src=\"https://cdn.plot.ly/plotly-latest.min.js\"></script>    \n",
              "            <div id=\"b23cc685-cb90-4e47-9bc4-dda7f339515d\" class=\"plotly-graph-div\" style=\"height:525px; width:100%;\"></div>\n",
              "            <script type=\"text/javascript\">\n",
              "                \n",
              "                    window.PLOTLYENV=window.PLOTLYENV || {};\n",
              "                    \n",
              "                if (document.getElementById(\"b23cc685-cb90-4e47-9bc4-dda7f339515d\")) {\n",
              "                    Plotly.newPlot(\n",
              "                        'b23cc685-cb90-4e47-9bc4-dda7f339515d',\n",
              "                        [{\"marker\": {\"color\": \"#38006b\", \"size\": 6}, \"mode\": \"markers\", \"name\": \"Active Cases\", \"type\": \"scatter\", \"x\": [0, 1, 2, 3, 4, 5, 6, 7, 8, 9, 10, 11, 12, 13, 14, 15, 16, 17, 18, 19, 20, 21, 22, 23, 24, 25, 26, 27, 28, 29, 30, 31, 32, 33, 34, 35, 36, 37, 38, 39, 40, 41, 42, 43, 44, 45, 46, 47, 48, 49, 50, 51, 52, 53, 54, 55, 56, 57, 58, 59, 60, 61, 62, 63, 64, 65, 66, 67, 68, 69, 70, 71, 72, 73, 74, 75, 76, 77, 78, 79, 80, 81, 82, 83, 84, 85, 86, 87, 88, 89, 90, 91, 92, 93, 94, 95, 96, 97, 98, 99, 100, 101, 102, 103, 104, 105, 106, 107, 108, 109, 110, 111, 112, 113, 114, 115, 116, 117, 118, 119, 120, 121, 122, 123, 124, 125, 126, 127, 128, 129, 130, 131, 132, 133, 134, 135, 136, 137, 138, 139, 140, 141, 142, 143, 144, 145, 146, 147, 148, 149, 150, 151, 152, 153, 154, 155, 156, 157, 158, 159, 160, 161, 162, 163, 164, 165, 166, 167, 168, 169, 170, 171, 172, 173, 174, 175, 176, 177, 178, 179, 180, 181, 182, 183, 184, 185, 186, 187, 188, 189, 190, 191, 192, 193, 194, 195, 196, 197, 198, 199, 200, 201, 202, 203, 204, 205, 206, 207, 208, 209, 210, 211, 212, 213, 214, 215, 216, 217, 218, 219, 220, 221, 222, 223, 224, 225, 226, 227, 228, 229, 230, 231, 232, 233, 234, 235, 236, 237, 238, 239, 240, 241, 242, 243, 244, 245, 246, 247, 248, 249, 250, 251, 252, 253, 254, 255, 256, 257, 258, 259, 260, 261, 262, 263, 264, 265, 266, 267, 268, 269, 270, 271, 272, 273, 274, 275, 276, 277, 278, 279, 280, 281, 282, 283, 284, 285, 286, 287, 288, 289, 290, 291, 292, 293, 294, 295, 296, 297, 298, 299, 300, 301, 302, 303, 304, 305, 306, 307, 308, 309, 310, 311, 312, 313, 314, 315, 316, 317, 318, 319, 320, 321, 322, 323, 324, 325, 326, 327, 328, 329, 330, 331, 332, 333, 334, 335, 336, 337, 338, 339, 340, 341, 342, 343, 344, 345, 346, 347, 348, 349, 350, 351, 352, 353, 354, 355, 356, 357, 358, 359, 360, 361, 362, 363, 364, 365, 366, 367, 368, 369, 370], \"y\": [1.0, 1.0, 1.0, 1.0, 1.0, 1.0, 1.0, 1.0, 1.0, 1.0, 1.0, 1.0, 9.0, 13.0, 16.0, 26.0, 26.0, 33.0, 40.0, 40.0, 48.0, 54.0, 54.0, 65.0, 78.0, 90.0, 113.0, 132.0, 146.0, 159.0, 161.0, 176.0, 194.0, 240.0, 264.0, 313.0, 347.0, 394.0, 382.0, 476.0, 277.0, 460.0, 452.0, 599.0, 973.0, 981.0, 1055.0, 1014.0, 1088.0, 1261.0, 1248.0, 1343.0, 1448.0, 1668.0, 1724.0, 1844.0, 2021.0, 2130.0, 2215.0, 2333.0, 2417.0, 2482.0, 2661.0, 2745.0, 2810.0, 2949.0, 3090.0, 3358.0, 3278.0, 3532.0, 3700.0, 4015.0, 4164.0, 4243.0, 4489.0, 4824.0, 5008.0, 5095.0, 5263.0, 5352.0, 5203.0, 5133.0, 5155.0, 5196.0, 5557.0, 6022.0, 5963.0, 6278.0, 6722.0, 7328.0, 7707.0, 8195.0, 9036.0, 9089.0, 9472.0, 10077.0, 10671.0, 11156.0, 11586.0, 11792.0, 12250.0, 12405.0, 13783.0, 13258.0, 14523.0, 14145.0, 14407.0, 14790.0, 15462.0, 16142.0, 16175.0, 16682.0, 16997.0, 16239.0, 17985.0, 18351.0, 19318.0, 20074.0, 19915.0, 19714.0, 20849.0, 19559.0, 19434.0, 19610.0, 20237.0, 21195.0, 20383.0, 20948.0, 21207.0, 21300.0, 21472.0, 21838.0, 21907.0, 22052.0, 21470.0, 21578.0, 21602.0, 21310.0, 20668.0, 19769.0, 18930.0, 19005.0, 19187.0, 18145.0, 16603.0, 16413.0, 16117.0, 16180.0, 15689.0, 15745.0, 15302.0, 14608.0, 14165.0, 13980.0, 13869.0, 14166.0, 14320.0, 14330.0, 13974.0, 13835.0, 13870.0, 13809.0, 13930.0, 14334.0, 14650.0, 14312.0, 14503.0, 14518.0, 13998.0, 14090.0, 13746.0, 13204.0, 12759.0, 13477.0, 12300.0, 11967.0, 11490.0, 11263.0, 11022.0, 10955.0, 10811.0, 10836.0, 10923.0, 10921.0, 10956.0, 10911.0, 10577.0, 10119.0, 10217.0, 10177.0, 10447.0, 10455.0, 10507.0, 10357.0, 10375.0, 10365.0, 10179.0, 10180.0, 10477.0, 10614.0, 10281.0, 10074.0, 10130.0, 10052.0, 10509.0, 10174.0, 10143.0, 10432.0, 10469.0, 10841.0, 10724.0, 10666.0, 10744.0, 10766.0, 10750.0, 10792.0, 10711.0, 10461.0, 10632.0, 11103.0, 11798.0, 12744.0, 11303.0, 10998.0, 10498.0, 10832.0, 10825.0, 11062.0, 11364.0, 11592.0, 11530.0, 11784.0, 11381.0, 11493.0, 11578.0, 11625.0, 11604.0, 12022.0, 11919.0, 12356.0, 12334.0, 12146.0, 12386.0, 13404.0, 12651.0, 12419.0, 12202.0, 13148.0, 12340.0, 12851.0, 12823.0, 13027.0, 11395.0, 11876.0, 12965.0, 12390.0, 12821.0, 12688.0, 12205.0, 12481.0, 13064.0, 12950.0, 13329.0, 13388.0, 13702.0, 14142.0, 13737.0, 15505.0, 16092.0, 14081.0, 14741.0, 15380.0, 15192.0, 15145.0, 16432.0, 17742.0, 17238.0, 17706.0, 20125.0, 17210.0, 16868.0, 18588.0, 17942.0, 18100.0, 18292.0, 21281.0, 18147.0, 20286.0, 18732.0, 20228.0, 18827.0, 18924.0, 18318.0, 20062.0, 20802.0, 19964.0, 19856.0, 20246.0, 19709.0, 20022.0, 20325.0, 21345.0, 21058.0, 22463.0, 21463.0, 22095.0, 21174.0, 20591.0, 20264.0, 20921.0, 22268.0, 21566.0, 23461.0, 20166.0, 19050.0, 18602.0, 19498.0, 19983.0, 20072.0, 19831.0, 21218.0, 18628.0, 18727.0, 19585.0, 19510.0, 19288.0, 18833.0, 18661.0, 18135.0, 17695.0, 17609.0, 18036.0, 17816.0, 17661.0, 17391.0, 17682.0, 17658.0, 18401.0, 19394.0, 18096.0, 17802.0, 17907.0, 17843.0, 17534.0, 17974.0, 17981.0, 17746.0, 17735.0, 18051.0, 17341.0, 17019.0, 17724.0, 18899.0, 17756.0, 17783.0, 19230.0, 18007.0, 17897.0, 18301.0, 19291.0, 18478.0, 18142.0, 18233.0, 18508.0, 18383.0, 19193.0, 19308.0, 19208.0, 18910.0, 19055.0, 19620.0]}, {\"marker\": {\"color\": \"#005005\", \"size\": 6}, \"mode\": \"markers\", \"name\": \"Recovered\", \"type\": \"scatter\", \"x\": [0, 1, 2, 3, 4, 5, 6, 7, 8, 9, 10, 11, 12, 13, 14, 15, 16, 17, 18, 19, 20, 21, 22, 23, 24, 25, 26, 27, 28, 29, 30, 31, 32, 33, 34, 35, 36, 37, 38, 39, 40, 41, 42, 43, 44, 45, 46, 47, 48, 49, 50, 51, 52, 53, 54, 55, 56, 57, 58, 59, 60, 61, 62, 63, 64, 65, 66, 67, 68, 69, 70, 71, 72, 73, 74, 75, 76, 77, 78, 79, 80, 81, 82, 83, 84, 85, 86, 87, 88, 89, 90, 91, 92, 93, 94, 95, 96, 97, 98, 99, 100, 101, 102, 103, 104, 105, 106, 107, 108, 109, 110, 111, 112, 113, 114, 115, 116, 117, 118, 119, 120, 121, 122, 123, 124, 125, 126, 127, 128, 129, 130, 131, 132, 133, 134, 135, 136, 137, 138, 139, 140, 141, 142, 143, 144, 145, 146, 147, 148, 149, 150, 151, 152, 153, 154, 155, 156, 157, 158, 159, 160, 161, 162, 163, 164, 165, 166, 167, 168, 169, 170, 171, 172, 173, 174, 175, 176, 177, 178, 179, 180, 181, 182, 183, 184, 185, 186, 187, 188, 189, 190, 191, 192, 193, 194, 195, 196, 197, 198, 199, 200, 201, 202, 203, 204, 205, 206, 207, 208, 209, 210, 211, 212, 213, 214, 215, 216, 217, 218, 219, 220, 221, 222, 223, 224, 225, 226, 227, 228, 229, 230, 231, 232, 233, 234, 235, 236, 237, 238, 239, 240, 241, 242, 243, 244, 245, 246, 247, 248, 249, 250, 251, 252, 253, 254, 255, 256, 257, 258, 259, 260, 261, 262, 263, 264, 265, 266, 267, 268, 269, 270, 271, 272, 273, 274, 275, 276, 277, 278, 279, 280, 281, 282, 283, 284, 285, 286, 287, 288, 289, 290, 291, 292, 293, 294, 295, 296, 297, 298, 299, 300, 301, 302, 303, 304, 305, 306, 307, 308, 309, 310, 311, 312, 313, 314, 315, 316, 317, 318, 319, 320, 321, 322, 323, 324, 325, 326, 327, 328, 329, 330, 331, 332, 333, 334, 335, 336, 337, 338, 339, 340, 341, 342, 343, 344, 345, 346, 347, 348, 349, 350, 351, 352, 353, 354, 355, 356, 357, 358, 359, 360, 361, 362, 363, 364, 365, 366, 367, 368, 369, 370], \"y\": [0.0, 0.0, 0.0, 0.0, 0.0, 0.0, 0.0, 0.0, 0.0, 0.0, 0.0, 0.0, 0.0, 0.0, 0.0, 0.0, 0.0, 5.0, 5.0, 5.0, 5.0, 5.0, 12.0, 12.0, 12.0, 12.0, 12.0, 12.0, 12.0, 12.0, 38.0, 38.0, 38.0, 38.0, 41.0, 41.0, 41.0, 41.0, 86.0, 86.0, 462.0, 480.0, 505.0, 505.0, 227.0, 236.0, 263.0, 342.0, 370.0, 409.0, 468.0, 481.0, 501.0, 501.0, 819.0, 849.0, 897.0, 979.0, 998.0, 1023.0, 1128.0, 1237.0, 1332.0, 1502.0, 1607.0, 1655.0, 1734.0, 1734.0, 2128.0, 2286.0, 2503.0, 2585.0, 2585.0, 2919.0, 3209.0, 3676.0, 3875.0, 4430.0, 4660.0, 4660.0, 5167.0, 5761.0, 6334.0, 7012.0, 7351.0, 7420.0, 7732.0, 8012.0, 8434.0, 8798.0, 9192.0, 9919.0, 9919.0, 10535.0, 11192.0, 11892.0, 12725.0, 13277.0, 13921.0, 14224.0, 14224.0, 15252.0, 15252.0, 17254.0, 17254.0, 19092.0, 19836.0, 20081.0, 20690.0, 20690.0, 22313.0, 23729.0, 24660.0, 25418.0, 25703.0, 26751.0, 27580.0, 28752.0, 30332.0, 31980.0, 31980.0, 33839.0, 35118.0, 37098.0, 38609.0, 38819.0, 40983.0, 41450.0, 41671.0, 42586.0, 43746.0, 44519.0, 46216.0, 47416.0, 48666.0, 49036.0, 50106.0, 51300.0, 53092.0, 54846.0, 56929.0, 57598.0, 58019.0, 60040.0, 62870.0, 64239.0, 65774.0, 67117.0, 68130.0, 68515.0, 69918.0, 71606.0, 73083.0, 74568.0, 76059.0, 76985.0, 77476.0, 78744.0, 80509.0, 81923.0, 83084.0, 84302.0, 84840.0, 85251.0, 86214.0, 87567.0, 88592.0, 89656.0, 90995.0, 91548.0, 92151.0, 93295.0, 94437.0, 94437.0, 96367.0, 97531.0, 98540.0, 99093.0, 100246.0, 101122.0, 102021.0, 102928.0, 103782.0, 104256.0, 104554.0, 104887.0, 106006.0, 107156.0, 107926.0, 108642.0, 108912.0, 109098.0, 109750.0, 110622.0, 111340.0, 112111.0, 113099.0, 113545.0, 113819.0, 114576.0, 115595.0, 116537.0, 117243.0, 118218.0, 118218.0, 119023.0, 119658.0, 120287.0, 121026.0, 121514.0, 122306.0, 123083.0, 123557.0, 124240.0, 125105.0, 125803.0, 126624.0, 127643.0, 127835.0, 127835.0, 127962.0, 127962.0, 130250.0, 131426.0, 132600.0, 133127.0, 133595.0, 134358.0, 134874.0, 135808.0, 136530.0, 137370.0, 138278.0, 138829.0, 139703.0, 140596.0, 141405.0, 142114.0, 142822.0, 143370.0, 143689.0, 144540.0, 145369.0, 145369.0, 147167.0, 148476.0, 149011.0, 149285.0, 150737.0, 151813.0, 152870.0, 153977.0, 156968.0, 156968.0, 156968.0, 158852.0, 160108.0, 161555.0, 163100.0, 164427.0, 164427.0, 165214.0, 166193.0, 167923.0, 169158.0, 170664.0, 172842.0, 172842.0, 172842.0, 175925.0, 177237.0, 178450.0, 180250.0, 181964.0, 182520.0, 182520.0, 184914.0, 186864.0, 186864.0, 191303.0, 193721.0, 193721.0, 195187.0, 197443.0, 199651.0, 199651.0, 205077.0, 205077.0, 208518.0, 208518.0, 211598.0, 213841.0, 216181.0, 216181.0, 216181.0, 218467.0, 219185.0, 222312.0, 224547.0, 226910.0, 227931.0, 227931.0, 229191.0, 229191.0, 231657.0, 233521.0, 236126.0, 238355.0, 240711.0, 241241.0, 241241.0, 243995.0, 243995.0, 249062.0, 251996.0, 254434.0, 255016.0, 255526.0, 257290.0, 259213.0, 259213.0, 263421.0, 265274.0, 265274.0, 266149.0, 267922.0, 269532.0, 270950.0, 272645.0, 274698.0, 275426.0, 276098.0, 277548.0, 278985.0, 280375.0, 281547.0, 283076.0, 283465.0, 283465.0, 285649.0, 287062.0, 288527.0, 290125.0, 291870.0, 292206.0, 292787.0, 293537.0, 293955.0, 294568.0, 296340.0, 298296.0, 298845.0, 298845.0, 301061.0, 302405.0, 302405.0, 305041.0, 306334.0, 307019.0, 307019.0, 309042.0, 310464.0, 311415.0, 312825.0, 314512.0, 315026.0, 315584.0, 317015.0, 318677.0, 320004.0, 321321.0]}],\n",
              "                        {\"legend\": {\"orientation\": \"h\", \"x\": 0.95, \"xanchor\": \"right\", \"y\": 1.01, \"yanchor\": \"bottom\"}, \"template\": {\"data\": {\"pie\": [{\"automargin\": true, \"type\": \"pie\"}]}, \"layout\": {\"xaxis\": {\"showgrid\": false, \"title\": {\"standoff\": 15}}, \"yaxis\": {\"title\": {\"standoff\": 15}}}}, \"title\": {\"text\": \"Real data\"}, \"xaxis\": {\"showgrid\": false, \"title\": {\"text\": \"Date\"}}, \"yaxis\": {\"title\": {\"text\": \"Individuals\"}}},\n",
              "                        {\"responsive\": true}\n",
              "                    ).then(function(){\n",
              "                            \n",
              "var gd = document.getElementById('b23cc685-cb90-4e47-9bc4-dda7f339515d');\n",
              "var x = new MutationObserver(function (mutations, observer) {{\n",
              "        var display = window.getComputedStyle(gd).display;\n",
              "        if (!display || display === 'none') {{\n",
              "            console.log([gd, 'removed!']);\n",
              "            Plotly.purge(gd);\n",
              "            observer.disconnect();\n",
              "        }}\n",
              "}});\n",
              "\n",
              "// Listen for the removal of the full notebook cells\n",
              "var notebookContainer = gd.closest('#notebook-container');\n",
              "if (notebookContainer) {{\n",
              "    x.observe(notebookContainer, {childList: true});\n",
              "}}\n",
              "\n",
              "// Listen for the clearing of the current output cell\n",
              "var outputEl = gd.closest('.output');\n",
              "if (outputEl) {{\n",
              "    x.observe(outputEl, {childList: true});\n",
              "}}\n",
              "\n",
              "                        })\n",
              "                };\n",
              "                \n",
              "            </script>\n",
              "        </div>\n",
              "</body>\n",
              "</html>"
            ]
          },
          "metadata": {
            "tags": []
          }
        }
      ]
    },
    {
      "cell_type": "code",
      "metadata": {
        "id": "tAVYahdd3ShZ"
      },
      "source": [
        "df_state_init = df_state.iloc[:100] # Days to find Beta and r \r\n",
        "\r\n",
        "# Size of population\r\n",
        "N = 150000 \r\n",
        "#N = state_pop['ES']['population']\r\n",
        "\r\n",
        "# Data\r\n",
        "Id = df_state_init[\"activeCases\"]\r\n",
        "Rd = df_state_init[\"recovered\"]\r\n",
        "Sd = N - Rd - Id"
      ],
      "execution_count": 169,
      "outputs": []
    },
    {
      "cell_type": "code",
      "metadata": {
        "id": "0z198j3W3Sha"
      },
      "source": [
        "# Valores iniciais \r\n",
        "I0 = 1 \r\n",
        "R0 = 0\r\n",
        "S0 = N - I0\r\n",
        "\r\n",
        "# Vetor de condições iniciais\r\n",
        "y0 = S0, I0, R0\r\n",
        "\r\n",
        "# Beta - taxa de contato,\r\n",
        "# r - taxa média de recuperação (in 1/dia).\r\n",
        "\r\n",
        "theta0 = [1e-4, 1e-2] # valores iniciais [Beta, r]\r\n",
        "\r\n",
        "t = np.linspace(0, len(df_state_init.index.values), len(df_state_init.index.values))"
      ],
      "execution_count": 170,
      "outputs": []
    },
    {
      "cell_type": "code",
      "metadata": {
        "colab": {
          "base_uri": "https://localhost:8080/"
        },
        "id": "2YI23SMD3Sha",
        "outputId": "f3366dda-87a4-4450-92e4-443c241cd98a"
      },
      "source": [
        "# Simulating to find beta and r\r\n",
        "(c, kvg) = optimize.leastsq(objetivo,theta0) \r\n",
        "print(c)"
      ],
      "execution_count": 171,
      "outputs": [
        {
          "output_type": "stream",
          "text": [
            "[1.35465490e-06 1.02733624e-01]\n"
          ],
          "name": "stdout"
        }
      ]
    },
    {
      "cell_type": "code",
      "metadata": {
        "id": "H0YLhdoZ3Shb"
      },
      "source": [
        "df_state_sim = df_state.iloc[:250] # Days to simulate\r\n",
        "tsim = np.linspace(0, len(df_state_sim.index.values), len(df_state_sim.index.values))\r\n",
        "[Ss,Is,Rs] = SIRsim(y0,tsim,c) # Finding S, I and R for the model"
      ],
      "execution_count": 172,
      "outputs": []
    },
    {
      "cell_type": "code",
      "metadata": {
        "colab": {
          "base_uri": "https://localhost:8080/",
          "height": 542
        },
        "id": "MgGbfb9N3Shb",
        "outputId": "28f9953f-b68f-4acd-f377-269fc107ded9"
      },
      "source": [
        "# Plotting the results\r\n",
        "fig = go.Figure()\r\n",
        "\r\n",
        "fig.add_trace(go.Scatter(\r\n",
        "    name=\"Active Cases - Model\",\r\n",
        "    x=df_state_sim.date,\r\n",
        "    y=Is,\r\n",
        "    mode='lines',\r\n",
        "    line=dict(width=3, dash=\"dash\", color=\"#6a1b9a\")\r\n",
        "    ))\r\n",
        "\r\n",
        "fig.add_trace(go.Scatter(\r\n",
        "    name=\"Recovered - Model\",\r\n",
        "    x=df_state_sim.date,\r\n",
        "    y=Rs,\r\n",
        "    mode='lines',\r\n",
        "    line=dict(width=3, dash=\"dash\", color=\"#2e7d32\")\r\n",
        "    ))\r\n",
        "\r\n",
        "fig.add_trace(go.Scatter(\r\n",
        "    name=\"Susceptible - Model\",\r\n",
        "    x=df_state_sim.date,\r\n",
        "    y=Ss,\r\n",
        "    mode='lines',\r\n",
        "    line=dict(width=3, dash=\"dash\", color=\"#58ACFA\")\r\n",
        "    ))\r\n",
        "\r\n",
        "fig.add_trace(go.Scatter(\r\n",
        "    name=\"Active Cases - Data\",\r\n",
        "    x=df_state_sim.date,\r\n",
        "    y=Id,\r\n",
        "    mode='markers',\r\n",
        "    marker=dict(size=6, color=\"#38006b\")\r\n",
        "    ))\r\n",
        "\r\n",
        "fig.add_trace(go.Scatter(\r\n",
        "    name=\"Recovered - Data\",\r\n",
        "    x=df_state_sim.date,\r\n",
        "    y=Rd,\r\n",
        "    mode='markers',\r\n",
        "    marker=dict(size=6, color=\"#005005\")\r\n",
        "    ))\r\n",
        "\r\n",
        "fig.add_trace(go.Scatter(\r\n",
        "    name=\"Susceptible - Data\",\r\n",
        "    x=df_state_sim.date,\r\n",
        "    y=Sd,\r\n",
        "    mode='markers',\r\n",
        "    marker=dict(size=6, color=\"#0080FF\")\r\n",
        "    ))\r\n",
        "\r\n",
        "fig.update_layout(\r\n",
        "    template='xgridoff',\r\n",
        "    xaxis=dict(showgrid=False),\r\n",
        "    xaxis_title='Days',\r\n",
        "    yaxis_title='Individuals',\r\n",
        "    legend=dict(\r\n",
        "      orientation='h',\r\n",
        "      yanchor='bottom',\r\n",
        "      y=1.01,\r\n",
        "      xanchor='right',\r\n",
        "      x=0.95\r\n",
        "      ),\r\n",
        "    title_text=\"SIR Model\")\r\n",
        "\r\n",
        "fig.show()"
      ],
      "execution_count": 174,
      "outputs": [
        {
          "output_type": "display_data",
          "data": {
            "text/html": [
              "<html>\n",
              "<head><meta charset=\"utf-8\" /></head>\n",
              "<body>\n",
              "    <div>\n",
              "            <script src=\"https://cdnjs.cloudflare.com/ajax/libs/mathjax/2.7.5/MathJax.js?config=TeX-AMS-MML_SVG\"></script><script type=\"text/javascript\">if (window.MathJax) {MathJax.Hub.Config({SVG: {font: \"STIX-Web\"}});}</script>\n",
              "                <script type=\"text/javascript\">window.PlotlyConfig = {MathJaxConfig: 'local'};</script>\n",
              "        <script src=\"https://cdn.plot.ly/plotly-latest.min.js\"></script>    \n",
              "            <div id=\"d36b9a45-1d8a-4ad6-844b-f51ec30368b7\" class=\"plotly-graph-div\" style=\"height:525px; width:100%;\"></div>\n",
              "            <script type=\"text/javascript\">\n",
              "                \n",
              "                    window.PLOTLYENV=window.PLOTLYENV || {};\n",
              "                    \n",
              "                if (document.getElementById(\"d36b9a45-1d8a-4ad6-844b-f51ec30368b7\")) {\n",
              "                    Plotly.newPlot(\n",
              "                        'd36b9a45-1d8a-4ad6-844b-f51ec30368b7',\n",
              "                        [{\"line\": {\"color\": \"#6a1b9a\", \"dash\": \"dash\", \"width\": 3}, \"mode\": \"lines\", \"name\": \"Active Cases - Model\", \"type\": \"scatter\", \"x\": [\"2020-03-06\", \"2020-03-07\", \"2020-03-08\", \"2020-03-09\", \"2020-03-10\", \"2020-03-11\", \"2020-03-12\", \"2020-03-13\", \"2020-03-14\", \"2020-03-15\", \"2020-03-16\", \"2020-03-17\", \"2020-03-18\", \"2020-03-19\", \"2020-03-20\", \"2020-03-21\", \"2020-03-22\", \"2020-03-23\", \"2020-03-24\", \"2020-03-25\", \"2020-03-26\", \"2020-03-27\", \"2020-03-28\", \"2020-03-29\", \"2020-03-30\", \"2020-03-31\", \"2020-04-01\", \"2020-04-02\", \"2020-04-03\", \"2020-04-04\", \"2020-04-05\", \"2020-04-06\", \"2020-04-07\", \"2020-04-08\", \"2020-04-09\", \"2020-04-10\", \"2020-04-11\", \"2020-04-12\", \"2020-04-13\", \"2020-04-14\", \"2020-04-15\", \"2020-04-16\", \"2020-04-17\", \"2020-04-18\", \"2020-04-19\", \"2020-04-20\", \"2020-04-21\", \"2020-04-22\", \"2020-04-23\", \"2020-04-24\", \"2020-04-25\", \"2020-04-26\", \"2020-04-27\", \"2020-04-28\", \"2020-04-29\", \"2020-04-30\", \"2020-05-01\", \"2020-05-02\", \"2020-05-03\", \"2020-05-04\", \"2020-05-05\", \"2020-05-06\", \"2020-05-07\", \"2020-05-08\", \"2020-05-09\", \"2020-05-10\", \"2020-05-11\", \"2020-05-12\", \"2020-05-13\", \"2020-05-14\", \"2020-05-15\", \"2020-05-16\", \"2020-05-17\", \"2020-05-18\", \"2020-05-19\", \"2020-05-20\", \"2020-05-21\", \"2020-05-22\", \"2020-05-23\", \"2020-05-24\", \"2020-05-25\", \"2020-05-26\", \"2020-05-27\", \"2020-05-28\", \"2020-05-29\", \"2020-05-30\", \"2020-05-31\", \"2020-06-01\", \"2020-06-02\", \"2020-06-03\", \"2020-06-04\", \"2020-06-05\", \"2020-06-06\", \"2020-06-07\", \"2020-06-08\", \"2020-06-09\", \"2020-06-10\", \"2020-06-11\", \"2020-06-12\", \"2020-06-13\", \"2020-06-14\", \"2020-06-15\", \"2020-06-16\", \"2020-06-17\", \"2020-06-18\", \"2020-06-19\", \"2020-06-20\", \"2020-06-21\", \"2020-06-22\", \"2020-06-23\", \"2020-06-24\", \"2020-06-25\", \"2020-06-26\", \"2020-06-27\", \"2020-06-28\", \"2020-06-29\", \"2020-06-30\", \"2020-07-01\", \"2020-07-02\", \"2020-07-03\", \"2020-07-04\", \"2020-07-05\", \"2020-07-06\", \"2020-07-07\", \"2020-07-08\", \"2020-07-09\", \"2020-07-10\", \"2020-07-11\", \"2020-07-12\", \"2020-07-13\", \"2020-07-14\", \"2020-07-15\", \"2020-07-16\", \"2020-07-17\", \"2020-07-18\", \"2020-07-19\", \"2020-07-20\", \"2020-07-21\", \"2020-07-22\", \"2020-07-23\", \"2020-07-24\", \"2020-07-25\", \"2020-07-26\", \"2020-07-27\", \"2020-07-28\", \"2020-07-29\", \"2020-07-30\", \"2020-07-31\", \"2020-08-01\", \"2020-08-02\", \"2020-08-03\", \"2020-08-04\", \"2020-08-05\", \"2020-08-06\", \"2020-08-07\", \"2020-08-08\", \"2020-08-09\", \"2020-08-10\", \"2020-08-11\", \"2020-08-12\", \"2020-08-13\", \"2020-08-14\", \"2020-08-15\", \"2020-08-16\", \"2020-08-17\", \"2020-08-18\", \"2020-08-19\", \"2020-08-20\", \"2020-08-21\", \"2020-08-22\", \"2020-08-23\", \"2020-08-24\", \"2020-08-25\", \"2020-08-26\", \"2020-08-27\", \"2020-08-28\", \"2020-08-29\", \"2020-08-30\", \"2020-08-31\", \"2020-09-01\", \"2020-09-02\", \"2020-09-03\", \"2020-09-04\", \"2020-09-05\", \"2020-09-06\", \"2020-09-07\", \"2020-09-08\", \"2020-09-09\", \"2020-09-10\", \"2020-09-11\", \"2020-09-12\", \"2020-09-13\", \"2020-09-14\", \"2020-09-15\", \"2020-09-16\", \"2020-09-17\", \"2020-09-18\", \"2020-09-19\", \"2020-09-20\", \"2020-09-21\", \"2020-09-22\", \"2020-09-23\", \"2020-09-24\", \"2020-09-25\", \"2020-09-26\", \"2020-09-27\", \"2020-09-28\", \"2020-09-29\", \"2020-09-30\", \"2020-10-01\", \"2020-10-02\", \"2020-10-03\", \"2020-10-04\", \"2020-10-05\", \"2020-10-06\", \"2020-10-07\", \"2020-10-08\", \"2020-10-09\", \"2020-10-10\", \"2020-10-11\", \"2020-10-12\", \"2020-10-13\", \"2020-10-14\", \"2020-10-15\", \"2020-10-16\", \"2020-10-17\", \"2020-10-18\", \"2020-10-19\", \"2020-10-20\", \"2020-10-21\", \"2020-10-22\", \"2020-10-23\", \"2020-10-24\", \"2020-10-25\", \"2020-10-26\", \"2020-10-27\", \"2020-10-28\", \"2020-10-29\", \"2020-10-30\", \"2020-10-31\", \"2020-11-01\", \"2020-11-02\", \"2020-11-03\", \"2020-11-04\", \"2020-11-05\", \"2020-11-06\", \"2020-11-07\", \"2020-11-08\", \"2020-11-09\", \"2020-11-10\"], \"y\": [1.0, 1.1061290437393398, 1.2235210943540575, 1.3533713545404755, 1.4970018409852677, 1.655874846892942, 1.831607806958881, 2.025989765725804, 2.240999455722117, 2.478825704426245, 2.7418893902385677, 3.032868220586909, 3.3547239117703005, 3.710732289769702, 4.104516588661335, 4.540084270670452, 5.021867642628726, 5.554769017542558, 6.144210369968563, 6.796188397433323, 7.517335306541954, 8.31498611240761, 9.19725296449248, 10.173107317273764, 11.252470764920849, 12.446315445290224, 13.766774992046967, 15.22726703552881, 16.84262881458819, 18.629266709932676, 20.605321569926115, 22.790851359843664, 25.208032640126827, 27.881383298826112, 30.838008247105133, 34.107870486498896, 37.724090542407204, 41.72327635609145, 46.1458872372686, 51.036635281477125, 56.444927231303964, 62.42535164670885, 69.03821514658271, 76.35013217153285, 84.4346742945972, 93.37308325682976, 103.2550542797693, 114.17959622576461, 126.25597399807333, 139.604741369304, 154.35887106242293, 170.66499046122078, 188.68472864020922, 208.59618617082285, 230.59553208917418, 254.8987396035404, 281.74346455957345, 311.39107627997896, 344.1288448211793, 380.2722893754906, 420.1676919106855, 464.1947706907591, 512.7695178998572, 566.3471810716009, 625.4253879667735, 690.5473781199314, 762.30532296098, 841.3436851434941, 928.362560198188, 1024.1209438088913, 1129.439804633186, 1245.2048798815824, 1372.3690547123138, 1511.9541200633394, 1665.0517513060959, 1832.8234485200744, 2016.499159771212, 2217.374274337582, 2436.804608146908, 2676.1989942603145, 2937.0090197100503, 3220.7154344953674, 3528.810752571817, 3862.7775370604923, 4224.061914302024, 4614.041928672202, 5033.990396579385, 5485.032161978111, 5968.095832540248, 6483.860278665828, 7032.696710049756, 7614.607420365821, 8229.162727020599, 8875.43837422955, 9551.955907299434, 10256.629143230612, 10986.72032554099, 11738.809516701738, 12508.781255442824, 13291.831667100998, 14082.499114170394, 14874.720831143944, 15661.915343283352, 16437.09139034236, 17192.980207266428, 17922.187154526047, 18617.358200627354, 19271.35319632711, 19877.41966293026, 20429.35803189599, 20921.67164429062, 21349.694552609282, 21709.69064986371, 21998.92265820315, 22215.6865631756, 22359.313398451464, 22430.139953458045, 22429.451007719857, 22359.398971216124, 22222.904686659742, 22023.54654293202, 21765.441987826194, 21453.12705810068, 21091.43892907412, 20685.403702591433, 20240.133759217053, 19760.73569403979, 19252.230216362103, 18719.484848193693, 18167.15889705635, 17599.660638936926, 17021.115083559976, 16435.34305010234, 15845.847651875278, 15255.809657756117, 14668.088547649253, 14085.229261024584, 13509.472957150474, 12942.770864675826, 12386.800781048136, 11842.98476469376, 11312.508104561583, 10796.338445498486, 10295.245074663415, 9809.81775306165, 9340.484959149057, 8887.531339384837, 8451.114110927834, 8031.278577585931, 7627.972452153705, 7241.059019169277, 6870.329309014782, 6515.513118062224, 6176.288971432117, 5852.293124033942, 5543.127605236955, 5248.367381537792, 4967.566702484681, 4700.26469312625, 4445.990252811344, 4204.26631771124, 3974.6135725040863, 3756.5536007792116, 3549.6116047907335, 3353.3186963796784, 3167.2138088412776, 2990.845291250809, 2823.772190133804, 2665.565291782128, 2515.8079229976847, 2374.0965600114273, 2240.04126553794, 2113.2659703521404, 1993.4086328695264, 1880.1212803899089, 1773.0699660034377, 1671.9346371874578, 1576.4089444489985, 1486.1999912335311, 1401.0280399546775, 1320.626184664955, 1244.7399906690664, 1173.1271146548504, 1105.556909139543, 1041.8100169157972, 981.6779561136229, 924.9627040249799, 871.4762805849946, 821.0403351349277, 773.4857370354752, 728.6521741346774, 686.3877584481855, 646.5486418538109, 608.9986418626428, 573.6088789641105, 540.2574248716911, 508.8289633110479, 479.21446309563197, 451.3108630946649, 425.02076898812146, 400.25216613593057, 376.9181391695068, 354.93660761986143, 334.2300719736793, 314.725370413859, 296.35344952289637, 279.0491425371801, 262.7509606099866, 247.40089342600572, 232.9442192163457, 219.32932538273562, 206.50753686262004, 194.43295445320678, 183.06230095926418, 172.35477510463875, 162.2719136347804, 152.77746018442696, 143.8372416034736, 135.4190506597003, 127.4925350148116, 120.02909246616406, 113.00177144992956, 106.38517738197304, 100.15538442865412, 94.2898510699522, 88.76734132197527, 83.5678505735543, 78.67253402910195, 74.06364066029755, 69.72445097465076, 65.63921643002797, 61.79310421068961, 58.17214497141929, 54.763181753068146, 51.55382382521626, 48.53240273233191, 45.687929414235825, 43.010055639076455, 40.48903705213473, 38.115697238986584, 35.8813955151072, 33.777995863214635, 31.797836872539083, 29.933704847583247, 28.17880770545002, 26.526749854299535, 24.97150975780405, 23.50741800951808, 22.12913635491314, 20.831638873021316]}, {\"line\": {\"color\": \"#2e7d32\", \"dash\": \"dash\", \"width\": 3}, \"mode\": \"lines\", \"name\": \"Recovered - Model\", \"type\": \"scatter\", \"x\": [\"2020-03-06\", \"2020-03-07\", \"2020-03-08\", \"2020-03-09\", \"2020-03-10\", \"2020-03-11\", \"2020-03-12\", \"2020-03-13\", \"2020-03-14\", \"2020-03-15\", \"2020-03-16\", \"2020-03-17\", \"2020-03-18\", \"2020-03-19\", \"2020-03-20\", \"2020-03-21\", \"2020-03-22\", \"2020-03-23\", \"2020-03-24\", \"2020-03-25\", \"2020-03-26\", \"2020-03-27\", \"2020-03-28\", \"2020-03-29\", \"2020-03-30\", \"2020-03-31\", \"2020-04-01\", \"2020-04-02\", \"2020-04-03\", \"2020-04-04\", \"2020-04-05\", \"2020-04-06\", \"2020-04-07\", \"2020-04-08\", \"2020-04-09\", \"2020-04-10\", \"2020-04-11\", \"2020-04-12\", \"2020-04-13\", \"2020-04-14\", \"2020-04-15\", \"2020-04-16\", \"2020-04-17\", \"2020-04-18\", \"2020-04-19\", \"2020-04-20\", \"2020-04-21\", \"2020-04-22\", \"2020-04-23\", \"2020-04-24\", \"2020-04-25\", \"2020-04-26\", \"2020-04-27\", \"2020-04-28\", \"2020-04-29\", \"2020-04-30\", \"2020-05-01\", \"2020-05-02\", \"2020-05-03\", \"2020-05-04\", \"2020-05-05\", \"2020-05-06\", \"2020-05-07\", \"2020-05-08\", \"2020-05-09\", \"2020-05-10\", \"2020-05-11\", \"2020-05-12\", \"2020-05-13\", \"2020-05-14\", \"2020-05-15\", \"2020-05-16\", \"2020-05-17\", \"2020-05-18\", \"2020-05-19\", \"2020-05-20\", \"2020-05-21\", \"2020-05-22\", \"2020-05-23\", \"2020-05-24\", \"2020-05-25\", \"2020-05-26\", \"2020-05-27\", \"2020-05-28\", \"2020-05-29\", \"2020-05-30\", \"2020-05-31\", \"2020-06-01\", \"2020-06-02\", \"2020-06-03\", \"2020-06-04\", \"2020-06-05\", \"2020-06-06\", \"2020-06-07\", \"2020-06-08\", \"2020-06-09\", \"2020-06-10\", \"2020-06-11\", \"2020-06-12\", \"2020-06-13\", \"2020-06-14\", \"2020-06-15\", \"2020-06-16\", \"2020-06-17\", \"2020-06-18\", \"2020-06-19\", \"2020-06-20\", \"2020-06-21\", \"2020-06-22\", \"2020-06-23\", \"2020-06-24\", \"2020-06-25\", \"2020-06-26\", \"2020-06-27\", \"2020-06-28\", \"2020-06-29\", \"2020-06-30\", \"2020-07-01\", \"2020-07-02\", \"2020-07-03\", \"2020-07-04\", \"2020-07-05\", \"2020-07-06\", \"2020-07-07\", \"2020-07-08\", \"2020-07-09\", \"2020-07-10\", \"2020-07-11\", \"2020-07-12\", \"2020-07-13\", \"2020-07-14\", \"2020-07-15\", \"2020-07-16\", \"2020-07-17\", \"2020-07-18\", \"2020-07-19\", \"2020-07-20\", \"2020-07-21\", \"2020-07-22\", \"2020-07-23\", \"2020-07-24\", \"2020-07-25\", \"2020-07-26\", \"2020-07-27\", \"2020-07-28\", \"2020-07-29\", \"2020-07-30\", \"2020-07-31\", \"2020-08-01\", \"2020-08-02\", \"2020-08-03\", \"2020-08-04\", \"2020-08-05\", \"2020-08-06\", \"2020-08-07\", \"2020-08-08\", \"2020-08-09\", \"2020-08-10\", \"2020-08-11\", \"2020-08-12\", \"2020-08-13\", \"2020-08-14\", \"2020-08-15\", \"2020-08-16\", \"2020-08-17\", \"2020-08-18\", \"2020-08-19\", \"2020-08-20\", \"2020-08-21\", \"2020-08-22\", \"2020-08-23\", \"2020-08-24\", \"2020-08-25\", \"2020-08-26\", \"2020-08-27\", \"2020-08-28\", \"2020-08-29\", \"2020-08-30\", \"2020-08-31\", \"2020-09-01\", \"2020-09-02\", \"2020-09-03\", \"2020-09-04\", \"2020-09-05\", \"2020-09-06\", \"2020-09-07\", \"2020-09-08\", \"2020-09-09\", \"2020-09-10\", \"2020-09-11\", \"2020-09-12\", \"2020-09-13\", \"2020-09-14\", \"2020-09-15\", \"2020-09-16\", \"2020-09-17\", \"2020-09-18\", \"2020-09-19\", \"2020-09-20\", \"2020-09-21\", \"2020-09-22\", \"2020-09-23\", \"2020-09-24\", \"2020-09-25\", \"2020-09-26\", \"2020-09-27\", \"2020-09-28\", \"2020-09-29\", \"2020-09-30\", \"2020-10-01\", \"2020-10-02\", \"2020-10-03\", \"2020-10-04\", \"2020-10-05\", \"2020-10-06\", \"2020-10-07\", \"2020-10-08\", \"2020-10-09\", \"2020-10-10\", \"2020-10-11\", \"2020-10-12\", \"2020-10-13\", \"2020-10-14\", \"2020-10-15\", \"2020-10-16\", \"2020-10-17\", \"2020-10-18\", \"2020-10-19\", \"2020-10-20\", \"2020-10-21\", \"2020-10-22\", \"2020-10-23\", \"2020-10-24\", \"2020-10-25\", \"2020-10-26\", \"2020-10-27\", \"2020-10-28\", \"2020-10-29\", \"2020-10-30\", \"2020-10-31\", \"2020-11-01\", \"2020-11-02\", \"2020-11-03\", \"2020-11-04\", \"2020-11-05\", \"2020-11-06\", \"2020-11-07\", \"2020-11-08\", \"2020-11-09\", \"2020-11-10\"], \"y\": [0.0, 0.10852761037607117, 0.228573142820302, 0.36135893279573006, 0.5082370268898365, 0.6707029569943102, 0.8504109503153348, 1.0491907810935606, 1.269066270868117, 1.512276173881453, 1.7812966495079623, 2.0788666259768918, 2.4080156255289666, 2.7720945837126023, 3.174809947171015, 3.6202613833050483, 4.112983384492482, 4.657991537379121, 5.260833405448933, 5.927644964406348, 6.665212920267797, 7.481043724063919, 8.383439814971634, 9.381583938825415, 10.48563239179546, 11.706818129834376, 13.057564762364741, 14.551612471470754, 16.204157493222237, 18.032006004597626, 20.05374438202735, 22.28992744762574, 24.7632862845549, 27.498958200528367, 30.524740657312847, 33.87137173097941, 37.5728403397262, 41.666728482170825, 46.194589402851584, 51.20236543880824, 56.74084879195517, 62.86619067760036, 69.64046309150545, 77.13227819082923, 85.41747234167796, 94.57985964422711, 104.71206269411601, 115.91642873948365, 128.30603769558158, 142.00581248986256, 157.1537409957356, 173.9022204432989, 192.41953322825725, 212.89146977104872, 235.52310808603102, 260.5407663653386, 288.1941409303371, 318.75864635956515, 352.53797271149386, 389.8668767968796, 431.1142245140073, 476.6862997845465, 527.0303992911632, 582.6387253015415, 644.0525961230182, 711.866982097321, 786.7353816287939, 869.3750416918015, 960.572522514569, 1061.1896096242956, 1172.169544094271, 1294.5435631253806, 1429.4377136891746, 1578.0798685072664, 1741.8068942760706, 1922.0718657966254, 2120.451210864534, 2338.651633049761, 2578.5166164317548, 2842.032302180983, 3131.3324558087306, 3448.702204230856, 3796.5801811015285, 4177.558661437128, 4594.3812112929, 5049.937343150115, 5547.253625880901, 6089.480673016315, 6679.875443280126, 7321.778274819224, 8018.584173331582, 8773.70795455463, 9590.542925840587, 10472.41309654435, 11422.51906698336, 12443.878004305398, 13539.25862283098, 14711.112273900857, 15961.501679371826, 17292.0294436741, 18703.768352405867, 20197.19625528693, 21772.138069980298, 23427.71766817138, 25162.322326677033, 26973.58161474497, 28858.36305763997, 30812.78518976823, 32832.24850220645, 34911.484237728546, 37044.6191636485, 39225.25496877731, 41446.55928188926, 43701.36543138286, 45982.27757898378, 48281.77751838921, 50592.330423586944, 52906.48563223035, 55216.97049109182, 57516.77500718428, 59799.225278905884, 62058.0453813846, 64287.406701642816, 66481.96501999706, 68636.88573428156, 70747.85792694925, 72811.09849707504, 74823.3472184517, 76781.85437632521, 78684.36199847073, 80529.08000806457, 82314.65892103073, 84040.15885750813, 85705.01789420591, 87309.0187789331, 88852.2557869271, 90335.101782781, 91758.17638761851, 93122.31529100156, 94428.5412186633, 95678.03657701785, 96872.11811509158, 98012.21340159218, 99099.83947064065, 100136.58324950008, 101124.08404779904, 102064.017772802, 102958.08305101194, 103807.98877807017, 104615.44334645652, 105382.14534897587, 106109.77542429559, 106799.98939801843, 107454.4125147326, 108074.63460313762, 108662.20614336542, 109218.63510915372, 109745.38451600051, 110243.87057940758, 110715.46140748073, 111161.47617746943, 111583.18470769215, 111981.80740016763, 112358.51548044953, 112714.43148485164, 113050.6299726527, 113368.13842024168, 113667.93825763595, 113950.96603329158, 114218.11465972585, 114470.23475197464, 114708.13599327933, 114932.58856458295, 115144.32457549732, 115344.03952259314, 115532.39373088139, 115710.01379980319, 115877.49402425997, 116035.39779687664, 116184.25898147201, 116324.58325074172, 116456.84939406463, 116581.5105844674, 116698.99560513982, 116809.71003350137, 116914.03738595411, 117012.34021792903, 117104.9611812164, 117192.2240380542, 117274.43463374407, 117351.88182626337, 117424.83837593673, 117493.56179445832, 117558.2951547358, 117619.2678623582, 117676.69639106642, 117730.78498207699, 117781.72630887963, 117829.70210944097, 117874.88378706752, 117917.43297775308, 117957.50209244093, 117995.23482851668, 118030.76665539078, 118064.22527497551, 118095.73105598793, 118125.39744723105, 118153.33136715801, 118179.63357280382, 118204.39900893685, 118227.7171377994, 118249.67225113112, 118270.3437644513, 118289.80649531745, 118308.13092632379, 118325.38345340139, 118341.62662007028, 118356.91933859754, 118371.31709876221, 118384.87216489145, 118397.63376178763, 118409.64824986218, 118420.95929059846, 118431.60800285236, 118441.63310959237, 118451.07107664911, 118459.95624337874, 118468.32094671649, 118476.19563677977, 118483.60898536122, 118490.5879916281, 118497.1580779124, 118503.34318018763, 118509.16583735644, 118514.64727086603, 118519.80746066083, 118524.66521983848, 118529.23826101527, 118533.54326009064, 118537.59591857898, 118541.4110189458, 118545.00247814249, 118548.3833995857, 118551.56611929502, 118554.56225082705, 118557.3827286053, 118560.03784637328, 118562.53729489786, 118564.89019807921, 118567.10514519137]}, {\"line\": {\"color\": \"#58ACFA\", \"dash\": \"dash\", \"width\": 3}, \"mode\": \"lines\", \"name\": \"Susceptible - Model\", \"type\": \"scatter\", \"x\": [\"2020-03-06\", \"2020-03-07\", \"2020-03-08\", \"2020-03-09\", \"2020-03-10\", \"2020-03-11\", \"2020-03-12\", \"2020-03-13\", \"2020-03-14\", \"2020-03-15\", \"2020-03-16\", \"2020-03-17\", \"2020-03-18\", \"2020-03-19\", \"2020-03-20\", \"2020-03-21\", \"2020-03-22\", \"2020-03-23\", \"2020-03-24\", \"2020-03-25\", \"2020-03-26\", \"2020-03-27\", \"2020-03-28\", \"2020-03-29\", \"2020-03-30\", \"2020-03-31\", \"2020-04-01\", \"2020-04-02\", \"2020-04-03\", \"2020-04-04\", \"2020-04-05\", \"2020-04-06\", \"2020-04-07\", \"2020-04-08\", \"2020-04-09\", \"2020-04-10\", \"2020-04-11\", \"2020-04-12\", \"2020-04-13\", \"2020-04-14\", \"2020-04-15\", \"2020-04-16\", \"2020-04-17\", \"2020-04-18\", \"2020-04-19\", \"2020-04-20\", \"2020-04-21\", \"2020-04-22\", \"2020-04-23\", \"2020-04-24\", \"2020-04-25\", \"2020-04-26\", \"2020-04-27\", \"2020-04-28\", \"2020-04-29\", \"2020-04-30\", \"2020-05-01\", \"2020-05-02\", \"2020-05-03\", \"2020-05-04\", \"2020-05-05\", \"2020-05-06\", \"2020-05-07\", \"2020-05-08\", \"2020-05-09\", \"2020-05-10\", \"2020-05-11\", \"2020-05-12\", \"2020-05-13\", \"2020-05-14\", \"2020-05-15\", \"2020-05-16\", \"2020-05-17\", \"2020-05-18\", \"2020-05-19\", \"2020-05-20\", \"2020-05-21\", \"2020-05-22\", \"2020-05-23\", \"2020-05-24\", \"2020-05-25\", \"2020-05-26\", \"2020-05-27\", \"2020-05-28\", \"2020-05-29\", \"2020-05-30\", \"2020-05-31\", \"2020-06-01\", \"2020-06-02\", \"2020-06-03\", \"2020-06-04\", \"2020-06-05\", \"2020-06-06\", \"2020-06-07\", \"2020-06-08\", \"2020-06-09\", \"2020-06-10\", \"2020-06-11\", \"2020-06-12\", \"2020-06-13\", \"2020-06-14\", \"2020-06-15\", \"2020-06-16\", \"2020-06-17\", \"2020-06-18\", \"2020-06-19\", \"2020-06-20\", \"2020-06-21\", \"2020-06-22\", \"2020-06-23\", \"2020-06-24\", \"2020-06-25\", \"2020-06-26\", \"2020-06-27\", \"2020-06-28\", \"2020-06-29\", \"2020-06-30\", \"2020-07-01\", \"2020-07-02\", \"2020-07-03\", \"2020-07-04\", \"2020-07-05\", \"2020-07-06\", \"2020-07-07\", \"2020-07-08\", \"2020-07-09\", \"2020-07-10\", \"2020-07-11\", \"2020-07-12\", \"2020-07-13\", \"2020-07-14\", \"2020-07-15\", \"2020-07-16\", \"2020-07-17\", \"2020-07-18\", \"2020-07-19\", \"2020-07-20\", \"2020-07-21\", \"2020-07-22\", \"2020-07-23\", \"2020-07-24\", \"2020-07-25\", \"2020-07-26\", \"2020-07-27\", \"2020-07-28\", \"2020-07-29\", \"2020-07-30\", \"2020-07-31\", \"2020-08-01\", \"2020-08-02\", \"2020-08-03\", \"2020-08-04\", \"2020-08-05\", \"2020-08-06\", \"2020-08-07\", \"2020-08-08\", \"2020-08-09\", \"2020-08-10\", \"2020-08-11\", \"2020-08-12\", \"2020-08-13\", \"2020-08-14\", \"2020-08-15\", \"2020-08-16\", \"2020-08-17\", \"2020-08-18\", \"2020-08-19\", \"2020-08-20\", \"2020-08-21\", \"2020-08-22\", \"2020-08-23\", \"2020-08-24\", \"2020-08-25\", \"2020-08-26\", \"2020-08-27\", \"2020-08-28\", \"2020-08-29\", \"2020-08-30\", \"2020-08-31\", \"2020-09-01\", \"2020-09-02\", \"2020-09-03\", \"2020-09-04\", \"2020-09-05\", \"2020-09-06\", \"2020-09-07\", \"2020-09-08\", \"2020-09-09\", \"2020-09-10\", \"2020-09-11\", \"2020-09-12\", \"2020-09-13\", \"2020-09-14\", \"2020-09-15\", \"2020-09-16\", \"2020-09-17\", \"2020-09-18\", \"2020-09-19\", \"2020-09-20\", \"2020-09-21\", \"2020-09-22\", \"2020-09-23\", \"2020-09-24\", \"2020-09-25\", \"2020-09-26\", \"2020-09-27\", \"2020-09-28\", \"2020-09-29\", \"2020-09-30\", \"2020-10-01\", \"2020-10-02\", \"2020-10-03\", \"2020-10-04\", \"2020-10-05\", \"2020-10-06\", \"2020-10-07\", \"2020-10-08\", \"2020-10-09\", \"2020-10-10\", \"2020-10-11\", \"2020-10-12\", \"2020-10-13\", \"2020-10-14\", \"2020-10-15\", \"2020-10-16\", \"2020-10-17\", \"2020-10-18\", \"2020-10-19\", \"2020-10-20\", \"2020-10-21\", \"2020-10-22\", \"2020-10-23\", \"2020-10-24\", \"2020-10-25\", \"2020-10-26\", \"2020-10-27\", \"2020-10-28\", \"2020-10-29\", \"2020-10-30\", \"2020-10-31\", \"2020-11-01\", \"2020-11-02\", \"2020-11-03\", \"2020-11-04\", \"2020-11-05\", \"2020-11-06\", \"2020-11-07\", \"2020-11-08\", \"2020-11-09\", \"2020-11-10\"], \"y\": [149999.0, 149998.78534334592, 149998.54790576288, 149998.2852697127, 149997.99476113217, 149997.67342219615, 149997.31798124278, 149996.92481945327, 149996.4899342735, 149996.00889812177, 149995.4768139603, 149994.88826515348, 149994.23726046275, 149993.51717312657, 149992.72067346424, 149991.83965434608, 149990.86514897292, 149989.7872394451, 149988.59495622464, 149987.2761666382, 149985.81745177324, 149984.20397016357, 149982.41930722058, 149980.44530874395, 149978.26189684332, 149975.8468664249, 149973.17566024562, 149970.22112049302, 149966.9532136922, 149963.3387272855, 149959.34093404806, 149954.91922119254, 149950.02868107535, 149944.61965850065, 149938.6372510956, 149932.02075778253, 149924.70306911788, 149916.60999516177, 149907.65952335988, 149897.7609992797, 149886.81422397675, 149874.7084576757, 149861.32132176193, 149846.51758963763, 149830.14785336374, 149812.04705709897, 149792.0328830261, 149769.90397503477, 149745.43798830637, 149718.38944614088, 149688.4873879419, 149655.4327890955, 149618.89573813157, 149578.51234405817, 149533.88135982482, 149484.56049403115, 149430.06239451014, 149369.8502773605, 149303.33318246738, 149229.86083382767, 149148.71808357534, 149059.11892952473, 148960.20008280905, 148851.01409362693, 148730.52201591028, 148597.5856397828, 148450.95929541028, 148289.2812731648, 148111.06491728732, 147914.68944656692, 147698.39065127264, 147460.25155699314, 147198.1932315986, 146909.96601142947, 146593.14135441792, 146245.10468568336, 145863.0496293643, 145443.9740926127, 144984.6787754214, 144481.76870355877, 143931.6585244813, 143330.58236127387, 142674.60906632672, 141959.66380150247, 141181.55687440516, 140336.02072817777, 139418.7559775398, 138425.48716500564, 137352.0287241797, 136194.36144651502, 134948.71911661874, 133611.68462507962, 132180.29434713887, 130652.14852922618, 129025.52502571729, 127299.49285246407, 125474.02105162811, 123550.07820939748, 121529.71706518542, 119416.13888922498, 117213.73253342383, 114928.0829135692, 112565.94658673642, 110135.19094148633, 107644.69746605663, 105104.23123072907, 102524.27874173276, 99915.86161390475, 97290.33183486339, 94659.15773037556, 92033.70919206097, 89425.0504786135, 86843.75006824711, 84299.71191041407, 81802.0358578407, 79358.90908315941, 76977.52962295509, 74664.06336004987, 72423.63053769214, 70260.32030615605, 68177.22817816217, 66176.51263078926, 64259.466240256574, 62426.5960509289, 60677.710563127075, 59012.008313833765, 57428.16580888524, 55924.42256518627, 54498.66077548118, 53148.47910447298, 51871.25935299858, 50664.225995409375, 49524.498092389615, 48449.13445391887, 47435.17156331086, 46479.655665423736, 45579.668956194495, 44732.350655231094, 43934.91384432268, 43184.65800028864, 42478.97865828848, 41815.37378034691, 41191.44815290941, 40604.915454696, 40053.59899743834, 39535.430993051974, 39048.450887813226, 38590.80283806029, 38160.73264434397, 37756.58420138984, 37376.795631854926, 37019.8952666897, 36684.49748391941, 36369.29851383535, 36073.07227282851, 35794.666251397706, 35532.99750930856, 35287.04878151487, 35055.86472746623, 34838.548339708, 34634.25750481939, 34442.201719803845, 34261.63899905325, 34091.87291475983, 33932.24981876877, 33782.15621850609, 33641.016288507584, 33508.28955223032, 33383.468674926364, 33266.077417276545, 33155.668688014004, 33051.8227411828, 32954.14546506497, 32862.26679163323, 32775.83919701703, 32694.53630311524, 32618.051563009427, 32546.0970312911, 32478.402211889905, 32414.712978573396, 32354.790564593397, 32298.410615266373, 32245.36230087782, 32195.447485720706, 32148.479949582892, 32104.284657932334, 32062.697078046058, 32023.56253819867, 31986.735626810932, 31952.079629220516, 31919.465999602016, 31888.77386561514, 31859.889563687935, 31832.706203401627, 31807.123258677748, 31783.046184061943, 31760.386054612027, 31739.0592280248, 31718.987027464424, 31700.095443944418, 31682.314856111054, 31665.57976838961, 31649.828563863513, 31635.00327263559, 31621.04935461068, 31607.915494489233, 31595.55341023182, 31583.917672232055, 31572.965533770224, 31562.656771846854, 31552.95353681792, 31543.820212006318, 31535.22328109555, 31527.13120372336, 31519.514298571623, 31512.344632963894, 31505.595919745363, 31499.24341979905, 31493.263850578154, 31487.6353000938, 31482.337145746264, 31477.349978687955, 31472.65553201963, 31468.23661271905, 31464.077039337742, 31460.16158202897, 31456.47590604777, 31453.006519254468, 31449.74072255999, 31446.66656366418, 31443.772791941927, 31441.04881787695, 31438.484674840995, 31436.070980890538, 31433.79890530881, 31431.660136606886, 31429.64685074733, 31427.7516833457, 31425.967702857277, 31424.288384182084, 31422.707585539152, 31421.219525994347, 31419.818763541814, 31418.500175857454, 31417.25894146756, 31416.09052154045, 31414.990643868965, 31413.955287092664, 31412.980665565916, 31412.063215935665]}, {\"marker\": {\"color\": \"#38006b\", \"size\": 6}, \"mode\": \"markers\", \"name\": \"Active Cases - Data\", \"type\": \"scatter\", \"x\": [\"2020-03-06\", \"2020-03-07\", \"2020-03-08\", \"2020-03-09\", \"2020-03-10\", \"2020-03-11\", \"2020-03-12\", \"2020-03-13\", \"2020-03-14\", \"2020-03-15\", \"2020-03-16\", \"2020-03-17\", \"2020-03-18\", \"2020-03-19\", \"2020-03-20\", \"2020-03-21\", \"2020-03-22\", \"2020-03-23\", \"2020-03-24\", \"2020-03-25\", \"2020-03-26\", \"2020-03-27\", \"2020-03-28\", \"2020-03-29\", \"2020-03-30\", \"2020-03-31\", \"2020-04-01\", \"2020-04-02\", \"2020-04-03\", \"2020-04-04\", \"2020-04-05\", \"2020-04-06\", \"2020-04-07\", \"2020-04-08\", \"2020-04-09\", \"2020-04-10\", \"2020-04-11\", \"2020-04-12\", \"2020-04-13\", \"2020-04-14\", \"2020-04-15\", \"2020-04-16\", \"2020-04-17\", \"2020-04-18\", \"2020-04-19\", \"2020-04-20\", \"2020-04-21\", \"2020-04-22\", \"2020-04-23\", \"2020-04-24\", \"2020-04-25\", \"2020-04-26\", \"2020-04-27\", \"2020-04-28\", \"2020-04-29\", \"2020-04-30\", \"2020-05-01\", \"2020-05-02\", \"2020-05-03\", \"2020-05-04\", \"2020-05-05\", \"2020-05-06\", \"2020-05-07\", \"2020-05-08\", \"2020-05-09\", \"2020-05-10\", \"2020-05-11\", \"2020-05-12\", \"2020-05-13\", \"2020-05-14\", \"2020-05-15\", \"2020-05-16\", \"2020-05-17\", \"2020-05-18\", \"2020-05-19\", \"2020-05-20\", \"2020-05-21\", \"2020-05-22\", \"2020-05-23\", \"2020-05-24\", \"2020-05-25\", \"2020-05-26\", \"2020-05-27\", \"2020-05-28\", \"2020-05-29\", \"2020-05-30\", \"2020-05-31\", \"2020-06-01\", \"2020-06-02\", \"2020-06-03\", \"2020-06-04\", \"2020-06-05\", \"2020-06-06\", \"2020-06-07\", \"2020-06-08\", \"2020-06-09\", \"2020-06-10\", \"2020-06-11\", \"2020-06-12\", \"2020-06-13\", \"2020-06-14\", \"2020-06-15\", \"2020-06-16\", \"2020-06-17\", \"2020-06-18\", \"2020-06-19\", \"2020-06-20\", \"2020-06-21\", \"2020-06-22\", \"2020-06-23\", \"2020-06-24\", \"2020-06-25\", \"2020-06-26\", \"2020-06-27\", \"2020-06-28\", \"2020-06-29\", \"2020-06-30\", \"2020-07-01\", \"2020-07-02\", \"2020-07-03\", \"2020-07-04\", \"2020-07-05\", \"2020-07-06\", \"2020-07-07\", \"2020-07-08\", \"2020-07-09\", \"2020-07-10\", \"2020-07-11\", \"2020-07-12\", \"2020-07-13\", \"2020-07-14\", \"2020-07-15\", \"2020-07-16\", \"2020-07-17\", \"2020-07-18\", \"2020-07-19\", \"2020-07-20\", \"2020-07-21\", \"2020-07-22\", \"2020-07-23\", \"2020-07-24\", \"2020-07-25\", \"2020-07-26\", \"2020-07-27\", \"2020-07-28\", \"2020-07-29\", \"2020-07-30\", \"2020-07-31\", \"2020-08-01\", \"2020-08-02\", \"2020-08-03\", \"2020-08-04\", \"2020-08-05\", \"2020-08-06\", \"2020-08-07\", \"2020-08-08\", \"2020-08-09\", \"2020-08-10\", \"2020-08-11\", \"2020-08-12\", \"2020-08-13\", \"2020-08-14\", \"2020-08-15\", \"2020-08-16\", \"2020-08-17\", \"2020-08-18\", \"2020-08-19\", \"2020-08-20\", \"2020-08-21\", \"2020-08-22\", \"2020-08-23\", \"2020-08-24\", \"2020-08-25\", \"2020-08-26\", \"2020-08-27\", \"2020-08-28\", \"2020-08-29\", \"2020-08-30\", \"2020-08-31\", \"2020-09-01\", \"2020-09-02\", \"2020-09-03\", \"2020-09-04\", \"2020-09-05\", \"2020-09-06\", \"2020-09-07\", \"2020-09-08\", \"2020-09-09\", \"2020-09-10\", \"2020-09-11\", \"2020-09-12\", \"2020-09-13\", \"2020-09-14\", \"2020-09-15\", \"2020-09-16\", \"2020-09-17\", \"2020-09-18\", \"2020-09-19\", \"2020-09-20\", \"2020-09-21\", \"2020-09-22\", \"2020-09-23\", \"2020-09-24\", \"2020-09-25\", \"2020-09-26\", \"2020-09-27\", \"2020-09-28\", \"2020-09-29\", \"2020-09-30\", \"2020-10-01\", \"2020-10-02\", \"2020-10-03\", \"2020-10-04\", \"2020-10-05\", \"2020-10-06\", \"2020-10-07\", \"2020-10-08\", \"2020-10-09\", \"2020-10-10\", \"2020-10-11\", \"2020-10-12\", \"2020-10-13\", \"2020-10-14\", \"2020-10-15\", \"2020-10-16\", \"2020-10-17\", \"2020-10-18\", \"2020-10-19\", \"2020-10-20\", \"2020-10-21\", \"2020-10-22\", \"2020-10-23\", \"2020-10-24\", \"2020-10-25\", \"2020-10-26\", \"2020-10-27\", \"2020-10-28\", \"2020-10-29\", \"2020-10-30\", \"2020-10-31\", \"2020-11-01\", \"2020-11-02\", \"2020-11-03\", \"2020-11-04\", \"2020-11-05\", \"2020-11-06\", \"2020-11-07\", \"2020-11-08\", \"2020-11-09\", \"2020-11-10\"], \"y\": [1.0, 1.0, 1.0, 1.0, 1.0, 1.0, 1.0, 1.0, 1.0, 1.0, 1.0, 1.0, 9.0, 13.0, 16.0, 26.0, 26.0, 33.0, 40.0, 40.0, 48.0, 54.0, 54.0, 65.0, 78.0, 90.0, 113.0, 132.0, 146.0, 159.0, 161.0, 176.0, 194.0, 240.0, 264.0, 313.0, 347.0, 394.0, 382.0, 476.0, 277.0, 460.0, 452.0, 599.0, 973.0, 981.0, 1055.0, 1014.0, 1088.0, 1261.0, 1248.0, 1343.0, 1448.0, 1668.0, 1724.0, 1844.0, 2021.0, 2130.0, 2215.0, 2333.0, 2417.0, 2482.0, 2661.0, 2745.0, 2810.0, 2949.0, 3090.0, 3358.0, 3278.0, 3532.0, 3700.0, 4015.0, 4164.0, 4243.0, 4489.0, 4824.0, 5008.0, 5095.0, 5263.0, 5352.0, 5203.0, 5133.0, 5155.0, 5196.0, 5557.0, 6022.0, 5963.0, 6278.0, 6722.0, 7328.0, 7707.0, 8195.0, 9036.0, 9089.0, 9472.0, 10077.0, 10671.0, 11156.0, 11586.0, 11792.0]}, {\"marker\": {\"color\": \"#005005\", \"size\": 6}, \"mode\": \"markers\", \"name\": \"Recovered - Data\", \"type\": \"scatter\", \"x\": [\"2020-03-06\", \"2020-03-07\", \"2020-03-08\", \"2020-03-09\", \"2020-03-10\", \"2020-03-11\", \"2020-03-12\", \"2020-03-13\", \"2020-03-14\", \"2020-03-15\", \"2020-03-16\", \"2020-03-17\", \"2020-03-18\", \"2020-03-19\", \"2020-03-20\", \"2020-03-21\", \"2020-03-22\", \"2020-03-23\", \"2020-03-24\", \"2020-03-25\", \"2020-03-26\", \"2020-03-27\", \"2020-03-28\", \"2020-03-29\", \"2020-03-30\", \"2020-03-31\", \"2020-04-01\", \"2020-04-02\", \"2020-04-03\", \"2020-04-04\", \"2020-04-05\", \"2020-04-06\", \"2020-04-07\", \"2020-04-08\", \"2020-04-09\", \"2020-04-10\", \"2020-04-11\", \"2020-04-12\", \"2020-04-13\", \"2020-04-14\", \"2020-04-15\", \"2020-04-16\", \"2020-04-17\", \"2020-04-18\", \"2020-04-19\", \"2020-04-20\", \"2020-04-21\", \"2020-04-22\", \"2020-04-23\", \"2020-04-24\", \"2020-04-25\", \"2020-04-26\", \"2020-04-27\", \"2020-04-28\", \"2020-04-29\", \"2020-04-30\", \"2020-05-01\", \"2020-05-02\", \"2020-05-03\", \"2020-05-04\", \"2020-05-05\", \"2020-05-06\", \"2020-05-07\", \"2020-05-08\", \"2020-05-09\", \"2020-05-10\", \"2020-05-11\", \"2020-05-12\", \"2020-05-13\", \"2020-05-14\", \"2020-05-15\", \"2020-05-16\", \"2020-05-17\", \"2020-05-18\", \"2020-05-19\", \"2020-05-20\", \"2020-05-21\", \"2020-05-22\", \"2020-05-23\", \"2020-05-24\", \"2020-05-25\", \"2020-05-26\", \"2020-05-27\", \"2020-05-28\", \"2020-05-29\", \"2020-05-30\", \"2020-05-31\", \"2020-06-01\", \"2020-06-02\", \"2020-06-03\", \"2020-06-04\", \"2020-06-05\", \"2020-06-06\", \"2020-06-07\", \"2020-06-08\", \"2020-06-09\", \"2020-06-10\", \"2020-06-11\", \"2020-06-12\", \"2020-06-13\", \"2020-06-14\", \"2020-06-15\", \"2020-06-16\", \"2020-06-17\", \"2020-06-18\", \"2020-06-19\", \"2020-06-20\", \"2020-06-21\", \"2020-06-22\", \"2020-06-23\", \"2020-06-24\", \"2020-06-25\", \"2020-06-26\", \"2020-06-27\", \"2020-06-28\", \"2020-06-29\", \"2020-06-30\", \"2020-07-01\", \"2020-07-02\", \"2020-07-03\", \"2020-07-04\", \"2020-07-05\", \"2020-07-06\", \"2020-07-07\", \"2020-07-08\", \"2020-07-09\", \"2020-07-10\", \"2020-07-11\", \"2020-07-12\", \"2020-07-13\", \"2020-07-14\", \"2020-07-15\", \"2020-07-16\", \"2020-07-17\", \"2020-07-18\", \"2020-07-19\", \"2020-07-20\", \"2020-07-21\", \"2020-07-22\", \"2020-07-23\", \"2020-07-24\", \"2020-07-25\", \"2020-07-26\", \"2020-07-27\", \"2020-07-28\", \"2020-07-29\", \"2020-07-30\", \"2020-07-31\", \"2020-08-01\", \"2020-08-02\", \"2020-08-03\", \"2020-08-04\", \"2020-08-05\", \"2020-08-06\", \"2020-08-07\", \"2020-08-08\", \"2020-08-09\", \"2020-08-10\", \"2020-08-11\", \"2020-08-12\", \"2020-08-13\", \"2020-08-14\", \"2020-08-15\", \"2020-08-16\", \"2020-08-17\", \"2020-08-18\", \"2020-08-19\", \"2020-08-20\", \"2020-08-21\", \"2020-08-22\", \"2020-08-23\", \"2020-08-24\", \"2020-08-25\", \"2020-08-26\", \"2020-08-27\", \"2020-08-28\", \"2020-08-29\", \"2020-08-30\", \"2020-08-31\", \"2020-09-01\", \"2020-09-02\", \"2020-09-03\", \"2020-09-04\", \"2020-09-05\", \"2020-09-06\", \"2020-09-07\", \"2020-09-08\", \"2020-09-09\", \"2020-09-10\", \"2020-09-11\", \"2020-09-12\", \"2020-09-13\", \"2020-09-14\", \"2020-09-15\", \"2020-09-16\", \"2020-09-17\", \"2020-09-18\", \"2020-09-19\", \"2020-09-20\", \"2020-09-21\", \"2020-09-22\", \"2020-09-23\", \"2020-09-24\", \"2020-09-25\", \"2020-09-26\", \"2020-09-27\", \"2020-09-28\", \"2020-09-29\", \"2020-09-30\", \"2020-10-01\", \"2020-10-02\", \"2020-10-03\", \"2020-10-04\", \"2020-10-05\", \"2020-10-06\", \"2020-10-07\", \"2020-10-08\", \"2020-10-09\", \"2020-10-10\", \"2020-10-11\", \"2020-10-12\", \"2020-10-13\", \"2020-10-14\", \"2020-10-15\", \"2020-10-16\", \"2020-10-17\", \"2020-10-18\", \"2020-10-19\", \"2020-10-20\", \"2020-10-21\", \"2020-10-22\", \"2020-10-23\", \"2020-10-24\", \"2020-10-25\", \"2020-10-26\", \"2020-10-27\", \"2020-10-28\", \"2020-10-29\", \"2020-10-30\", \"2020-10-31\", \"2020-11-01\", \"2020-11-02\", \"2020-11-03\", \"2020-11-04\", \"2020-11-05\", \"2020-11-06\", \"2020-11-07\", \"2020-11-08\", \"2020-11-09\", \"2020-11-10\"], \"y\": [0.0, 0.0, 0.0, 0.0, 0.0, 0.0, 0.0, 0.0, 0.0, 0.0, 0.0, 0.0, 0.0, 0.0, 0.0, 0.0, 0.0, 5.0, 5.0, 5.0, 5.0, 5.0, 12.0, 12.0, 12.0, 12.0, 12.0, 12.0, 12.0, 12.0, 38.0, 38.0, 38.0, 38.0, 41.0, 41.0, 41.0, 41.0, 86.0, 86.0, 462.0, 480.0, 505.0, 505.0, 227.0, 236.0, 263.0, 342.0, 370.0, 409.0, 468.0, 481.0, 501.0, 501.0, 819.0, 849.0, 897.0, 979.0, 998.0, 1023.0, 1128.0, 1237.0, 1332.0, 1502.0, 1607.0, 1655.0, 1734.0, 1734.0, 2128.0, 2286.0, 2503.0, 2585.0, 2585.0, 2919.0, 3209.0, 3676.0, 3875.0, 4430.0, 4660.0, 4660.0, 5167.0, 5761.0, 6334.0, 7012.0, 7351.0, 7420.0, 7732.0, 8012.0, 8434.0, 8798.0, 9192.0, 9919.0, 9919.0, 10535.0, 11192.0, 11892.0, 12725.0, 13277.0, 13921.0, 14224.0]}, {\"marker\": {\"color\": \"#0080FF\", \"size\": 6}, \"mode\": \"markers\", \"name\": \"Susceptible - Data\", \"type\": \"scatter\", \"x\": [\"2020-03-06\", \"2020-03-07\", \"2020-03-08\", \"2020-03-09\", \"2020-03-10\", \"2020-03-11\", \"2020-03-12\", \"2020-03-13\", \"2020-03-14\", \"2020-03-15\", \"2020-03-16\", \"2020-03-17\", \"2020-03-18\", \"2020-03-19\", \"2020-03-20\", \"2020-03-21\", \"2020-03-22\", \"2020-03-23\", \"2020-03-24\", \"2020-03-25\", \"2020-03-26\", \"2020-03-27\", \"2020-03-28\", \"2020-03-29\", \"2020-03-30\", \"2020-03-31\", \"2020-04-01\", \"2020-04-02\", \"2020-04-03\", \"2020-04-04\", \"2020-04-05\", \"2020-04-06\", \"2020-04-07\", \"2020-04-08\", \"2020-04-09\", \"2020-04-10\", \"2020-04-11\", \"2020-04-12\", \"2020-04-13\", \"2020-04-14\", \"2020-04-15\", \"2020-04-16\", \"2020-04-17\", \"2020-04-18\", \"2020-04-19\", \"2020-04-20\", \"2020-04-21\", \"2020-04-22\", \"2020-04-23\", \"2020-04-24\", \"2020-04-25\", \"2020-04-26\", \"2020-04-27\", \"2020-04-28\", \"2020-04-29\", \"2020-04-30\", \"2020-05-01\", \"2020-05-02\", \"2020-05-03\", \"2020-05-04\", \"2020-05-05\", \"2020-05-06\", \"2020-05-07\", \"2020-05-08\", \"2020-05-09\", \"2020-05-10\", \"2020-05-11\", \"2020-05-12\", \"2020-05-13\", \"2020-05-14\", \"2020-05-15\", \"2020-05-16\", \"2020-05-17\", \"2020-05-18\", \"2020-05-19\", \"2020-05-20\", \"2020-05-21\", \"2020-05-22\", \"2020-05-23\", \"2020-05-24\", \"2020-05-25\", \"2020-05-26\", \"2020-05-27\", \"2020-05-28\", \"2020-05-29\", \"2020-05-30\", \"2020-05-31\", \"2020-06-01\", \"2020-06-02\", \"2020-06-03\", \"2020-06-04\", \"2020-06-05\", \"2020-06-06\", \"2020-06-07\", \"2020-06-08\", \"2020-06-09\", \"2020-06-10\", \"2020-06-11\", \"2020-06-12\", \"2020-06-13\", \"2020-06-14\", \"2020-06-15\", \"2020-06-16\", \"2020-06-17\", \"2020-06-18\", \"2020-06-19\", \"2020-06-20\", \"2020-06-21\", \"2020-06-22\", \"2020-06-23\", \"2020-06-24\", \"2020-06-25\", \"2020-06-26\", \"2020-06-27\", \"2020-06-28\", \"2020-06-29\", \"2020-06-30\", \"2020-07-01\", \"2020-07-02\", \"2020-07-03\", \"2020-07-04\", \"2020-07-05\", \"2020-07-06\", \"2020-07-07\", \"2020-07-08\", \"2020-07-09\", \"2020-07-10\", \"2020-07-11\", \"2020-07-12\", \"2020-07-13\", \"2020-07-14\", \"2020-07-15\", \"2020-07-16\", \"2020-07-17\", \"2020-07-18\", \"2020-07-19\", \"2020-07-20\", \"2020-07-21\", \"2020-07-22\", \"2020-07-23\", \"2020-07-24\", \"2020-07-25\", \"2020-07-26\", \"2020-07-27\", \"2020-07-28\", \"2020-07-29\", \"2020-07-30\", \"2020-07-31\", \"2020-08-01\", \"2020-08-02\", \"2020-08-03\", \"2020-08-04\", \"2020-08-05\", \"2020-08-06\", \"2020-08-07\", \"2020-08-08\", \"2020-08-09\", \"2020-08-10\", \"2020-08-11\", \"2020-08-12\", \"2020-08-13\", \"2020-08-14\", \"2020-08-15\", \"2020-08-16\", \"2020-08-17\", \"2020-08-18\", \"2020-08-19\", \"2020-08-20\", \"2020-08-21\", \"2020-08-22\", \"2020-08-23\", \"2020-08-24\", \"2020-08-25\", \"2020-08-26\", \"2020-08-27\", \"2020-08-28\", \"2020-08-29\", \"2020-08-30\", \"2020-08-31\", \"2020-09-01\", \"2020-09-02\", \"2020-09-03\", \"2020-09-04\", \"2020-09-05\", \"2020-09-06\", \"2020-09-07\", \"2020-09-08\", \"2020-09-09\", \"2020-09-10\", \"2020-09-11\", \"2020-09-12\", \"2020-09-13\", \"2020-09-14\", \"2020-09-15\", \"2020-09-16\", \"2020-09-17\", \"2020-09-18\", \"2020-09-19\", \"2020-09-20\", \"2020-09-21\", \"2020-09-22\", \"2020-09-23\", \"2020-09-24\", \"2020-09-25\", \"2020-09-26\", \"2020-09-27\", \"2020-09-28\", \"2020-09-29\", \"2020-09-30\", \"2020-10-01\", \"2020-10-02\", \"2020-10-03\", \"2020-10-04\", \"2020-10-05\", \"2020-10-06\", \"2020-10-07\", \"2020-10-08\", \"2020-10-09\", \"2020-10-10\", \"2020-10-11\", \"2020-10-12\", \"2020-10-13\", \"2020-10-14\", \"2020-10-15\", \"2020-10-16\", \"2020-10-17\", \"2020-10-18\", \"2020-10-19\", \"2020-10-20\", \"2020-10-21\", \"2020-10-22\", \"2020-10-23\", \"2020-10-24\", \"2020-10-25\", \"2020-10-26\", \"2020-10-27\", \"2020-10-28\", \"2020-10-29\", \"2020-10-30\", \"2020-10-31\", \"2020-11-01\", \"2020-11-02\", \"2020-11-03\", \"2020-11-04\", \"2020-11-05\", \"2020-11-06\", \"2020-11-07\", \"2020-11-08\", \"2020-11-09\", \"2020-11-10\"], \"y\": [149999.0, 149999.0, 149999.0, 149999.0, 149999.0, 149999.0, 149999.0, 149999.0, 149999.0, 149999.0, 149999.0, 149999.0, 149991.0, 149987.0, 149984.0, 149974.0, 149974.0, 149962.0, 149955.0, 149955.0, 149947.0, 149941.0, 149934.0, 149923.0, 149910.0, 149898.0, 149875.0, 149856.0, 149842.0, 149829.0, 149801.0, 149786.0, 149768.0, 149722.0, 149695.0, 149646.0, 149612.0, 149565.0, 149532.0, 149438.0, 149261.0, 149060.0, 149043.0, 148896.0, 148800.0, 148783.0, 148682.0, 148644.0, 148542.0, 148330.0, 148284.0, 148176.0, 148051.0, 147831.0, 147457.0, 147307.0, 147082.0, 146891.0, 146787.0, 146644.0, 146455.0, 146281.0, 146007.0, 145753.0, 145583.0, 145396.0, 145176.0, 144908.0, 144594.0, 144182.0, 143797.0, 143400.0, 143251.0, 142838.0, 142302.0, 141500.0, 141117.0, 140475.0, 140077.0, 139988.0, 139630.0, 139106.0, 138511.0, 137792.0, 137092.0, 136558.0, 136305.0, 135710.0, 134844.0, 133874.0, 133101.0, 131886.0, 131045.0, 130376.0, 129336.0, 128031.0, 126604.0, 125567.0, 124493.0, 123984.0]}],\n",
              "                        {\"legend\": {\"orientation\": \"h\", \"x\": 0.95, \"xanchor\": \"right\", \"y\": 1.01, \"yanchor\": \"bottom\"}, \"template\": {\"data\": {\"pie\": [{\"automargin\": true, \"type\": \"pie\"}]}, \"layout\": {\"xaxis\": {\"showgrid\": false, \"title\": {\"standoff\": 15}}, \"yaxis\": {\"title\": {\"standoff\": 15}}}}, \"title\": {\"text\": \"SIR Model\"}, \"xaxis\": {\"showgrid\": false, \"title\": {\"text\": \"Days\"}}, \"yaxis\": {\"title\": {\"text\": \"Individuals\"}}},\n",
              "                        {\"responsive\": true}\n",
              "                    ).then(function(){\n",
              "                            \n",
              "var gd = document.getElementById('d36b9a45-1d8a-4ad6-844b-f51ec30368b7');\n",
              "var x = new MutationObserver(function (mutations, observer) {{\n",
              "        var display = window.getComputedStyle(gd).display;\n",
              "        if (!display || display === 'none') {{\n",
              "            console.log([gd, 'removed!']);\n",
              "            Plotly.purge(gd);\n",
              "            observer.disconnect();\n",
              "        }}\n",
              "}});\n",
              "\n",
              "// Listen for the removal of the full notebook cells\n",
              "var notebookContainer = gd.closest('#notebook-container');\n",
              "if (notebookContainer) {{\n",
              "    x.observe(notebookContainer, {childList: true});\n",
              "}}\n",
              "\n",
              "// Listen for the clearing of the current output cell\n",
              "var outputEl = gd.closest('.output');\n",
              "if (outputEl) {{\n",
              "    x.observe(outputEl, {childList: true});\n",
              "}}\n",
              "\n",
              "                        })\n",
              "                };\n",
              "                \n",
              "            </script>\n",
              "        </div>\n",
              "</body>\n",
              "</html>"
            ]
          },
          "metadata": {
            "tags": []
          }
        }
      ]
    },
    {
      "cell_type": "markdown",
      "metadata": {
        "id": "7TSvRsOV8nPo"
      },
      "source": [
        "## Tocantins"
      ]
    },
    {
      "cell_type": "code",
      "metadata": {
        "colab": {
          "base_uri": "https://localhost:8080/",
          "height": 309
        },
        "id": "WFCrQlTK8nP3",
        "outputId": "ccd09b76-f5d0-41f0-fcdd-e2df97dd1bb8"
      },
      "source": [
        "# Dataframe for Distrito Federal\r\n",
        "state = 'TO'\r\n",
        "df_state = df[df.state == state].reset_index()\r\n",
        "df_state.head()"
      ],
      "execution_count": 229,
      "outputs": [
        {
          "output_type": "execute_result",
          "data": {
            "text/html": [
              "<div>\n",
              "<style scoped>\n",
              "    .dataframe tbody tr th:only-of-type {\n",
              "        vertical-align: middle;\n",
              "    }\n",
              "\n",
              "    .dataframe tbody tr th {\n",
              "        vertical-align: top;\n",
              "    }\n",
              "\n",
              "    .dataframe thead th {\n",
              "        text-align: right;\n",
              "    }\n",
              "</style>\n",
              "<table border=\"1\" class=\"dataframe\">\n",
              "  <thead>\n",
              "    <tr style=\"text-align: right;\">\n",
              "      <th></th>\n",
              "      <th>index</th>\n",
              "      <th>epi_week</th>\n",
              "      <th>date</th>\n",
              "      <th>country</th>\n",
              "      <th>state</th>\n",
              "      <th>city</th>\n",
              "      <th>newDeaths</th>\n",
              "      <th>deaths</th>\n",
              "      <th>newCases</th>\n",
              "      <th>totalCases</th>\n",
              "      <th>deathsMS</th>\n",
              "      <th>totalCasesMS</th>\n",
              "      <th>deaths_per_100k_inhabitants</th>\n",
              "      <th>totalCases_per_100k_inhabitants</th>\n",
              "      <th>deaths_by_totalCases</th>\n",
              "      <th>recovered</th>\n",
              "      <th>suspects</th>\n",
              "      <th>tests</th>\n",
              "      <th>tests_per_100k_inhabitants</th>\n",
              "      <th>vaccinated</th>\n",
              "      <th>vaccinated_per_100k_inhabitants</th>\n",
              "      <th>vaccinated_second</th>\n",
              "      <th>vaccinated_second_per_100k_inhabitants</th>\n",
              "    </tr>\n",
              "  </thead>\n",
              "  <tbody>\n",
              "    <tr>\n",
              "      <th>0</th>\n",
              "      <td>186</td>\n",
              "      <td>12</td>\n",
              "      <td>2020-03-18</td>\n",
              "      <td>Brazil</td>\n",
              "      <td>TO</td>\n",
              "      <td>TOTAL</td>\n",
              "      <td>0</td>\n",
              "      <td>0</td>\n",
              "      <td>1</td>\n",
              "      <td>1</td>\n",
              "      <td>0</td>\n",
              "      <td>0</td>\n",
              "      <td>0.0</td>\n",
              "      <td>0.06358</td>\n",
              "      <td>0.0</td>\n",
              "      <td>NaN</td>\n",
              "      <td>NaN</td>\n",
              "      <td>NaN</td>\n",
              "      <td>NaN</td>\n",
              "      <td>NaN</td>\n",
              "      <td>NaN</td>\n",
              "      <td>NaN</td>\n",
              "      <td>NaN</td>\n",
              "    </tr>\n",
              "    <tr>\n",
              "      <th>1</th>\n",
              "      <td>209</td>\n",
              "      <td>12</td>\n",
              "      <td>2020-03-19</td>\n",
              "      <td>Brazil</td>\n",
              "      <td>TO</td>\n",
              "      <td>TOTAL</td>\n",
              "      <td>0</td>\n",
              "      <td>0</td>\n",
              "      <td>0</td>\n",
              "      <td>1</td>\n",
              "      <td>0</td>\n",
              "      <td>1</td>\n",
              "      <td>0.0</td>\n",
              "      <td>0.06358</td>\n",
              "      <td>0.0</td>\n",
              "      <td>NaN</td>\n",
              "      <td>NaN</td>\n",
              "      <td>NaN</td>\n",
              "      <td>NaN</td>\n",
              "      <td>NaN</td>\n",
              "      <td>NaN</td>\n",
              "      <td>NaN</td>\n",
              "      <td>NaN</td>\n",
              "    </tr>\n",
              "    <tr>\n",
              "      <th>2</th>\n",
              "      <td>236</td>\n",
              "      <td>12</td>\n",
              "      <td>2020-03-20</td>\n",
              "      <td>Brazil</td>\n",
              "      <td>TO</td>\n",
              "      <td>TOTAL</td>\n",
              "      <td>0</td>\n",
              "      <td>0</td>\n",
              "      <td>0</td>\n",
              "      <td>1</td>\n",
              "      <td>0</td>\n",
              "      <td>1</td>\n",
              "      <td>0.0</td>\n",
              "      <td>0.06358</td>\n",
              "      <td>0.0</td>\n",
              "      <td>NaN</td>\n",
              "      <td>NaN</td>\n",
              "      <td>NaN</td>\n",
              "      <td>NaN</td>\n",
              "      <td>NaN</td>\n",
              "      <td>NaN</td>\n",
              "      <td>NaN</td>\n",
              "      <td>NaN</td>\n",
              "    </tr>\n",
              "    <tr>\n",
              "      <th>3</th>\n",
              "      <td>264</td>\n",
              "      <td>12</td>\n",
              "      <td>2020-03-21</td>\n",
              "      <td>Brazil</td>\n",
              "      <td>TO</td>\n",
              "      <td>TOTAL</td>\n",
              "      <td>0</td>\n",
              "      <td>0</td>\n",
              "      <td>1</td>\n",
              "      <td>2</td>\n",
              "      <td>0</td>\n",
              "      <td>2</td>\n",
              "      <td>0.0</td>\n",
              "      <td>0.12716</td>\n",
              "      <td>0.0</td>\n",
              "      <td>NaN</td>\n",
              "      <td>NaN</td>\n",
              "      <td>NaN</td>\n",
              "      <td>NaN</td>\n",
              "      <td>NaN</td>\n",
              "      <td>NaN</td>\n",
              "      <td>NaN</td>\n",
              "      <td>NaN</td>\n",
              "    </tr>\n",
              "    <tr>\n",
              "      <th>4</th>\n",
              "      <td>292</td>\n",
              "      <td>13</td>\n",
              "      <td>2020-03-22</td>\n",
              "      <td>Brazil</td>\n",
              "      <td>TO</td>\n",
              "      <td>TOTAL</td>\n",
              "      <td>0</td>\n",
              "      <td>0</td>\n",
              "      <td>3</td>\n",
              "      <td>5</td>\n",
              "      <td>0</td>\n",
              "      <td>2</td>\n",
              "      <td>0.0</td>\n",
              "      <td>0.31789</td>\n",
              "      <td>0.0</td>\n",
              "      <td>NaN</td>\n",
              "      <td>NaN</td>\n",
              "      <td>NaN</td>\n",
              "      <td>NaN</td>\n",
              "      <td>NaN</td>\n",
              "      <td>NaN</td>\n",
              "      <td>NaN</td>\n",
              "      <td>NaN</td>\n",
              "    </tr>\n",
              "  </tbody>\n",
              "</table>\n",
              "</div>"
            ],
            "text/plain": [
              "   index  epi_week  ... vaccinated_second vaccinated_second_per_100k_inhabitants\n",
              "0    186        12  ...               NaN                                    NaN\n",
              "1    209        12  ...               NaN                                    NaN\n",
              "2    236        12  ...               NaN                                    NaN\n",
              "3    264        12  ...               NaN                                    NaN\n",
              "4    292        13  ...               NaN                                    NaN\n",
              "\n",
              "[5 rows x 23 columns]"
            ]
          },
          "metadata": {
            "tags": []
          },
          "execution_count": 229
        }
      ]
    },
    {
      "cell_type": "code",
      "metadata": {
        "id": "z2vsYj-28nP4"
      },
      "source": [
        "# Creating new recovered column\r\n",
        "df_state[\"newRecovered\"] = df_state[\"recovered\"].diff()\r\n",
        "df_state.newRecovered.fillna(0, inplace=True)\r\n",
        "df_state.recovered.fillna(0, inplace=True)"
      ],
      "execution_count": 230,
      "outputs": []
    },
    {
      "cell_type": "code",
      "metadata": {
        "id": "XvWsAIMl8nP5"
      },
      "source": [
        "# Creating active cases column (Infected)\r\n",
        "active_infected = [df_state[\"totalCases\"].iloc[0]]\r\n",
        "for nc, nr in zip(df_state[\"newCases\"].iloc[1:], \r\n",
        "                  df_state[\"newRecovered\"].iloc[1:]):\r\n",
        "    active_infected.append(active_infected[-1] + nc - nr)\r\n",
        "df_state[\"activeCases\"] = active_infected"
      ],
      "execution_count": 231,
      "outputs": []
    },
    {
      "cell_type": "code",
      "metadata": {
        "colab": {
          "base_uri": "https://localhost:8080/",
          "height": 542
        },
        "id": "jF8d34Mk8nP5",
        "outputId": "1f6474ac-4e20-4089-ad1f-a6a7bf54df9f"
      },
      "source": [
        "# Plotting the correct results components\r\n",
        "fig = go.Figure()\r\n",
        "\r\n",
        "fig.add_trace(go.Scatter(\r\n",
        "    name=\"Active Cases\",\r\n",
        "    x=df_state.index.values,\r\n",
        "    y=df_state.activeCases,\r\n",
        "    mode='markers',\r\n",
        "    marker=dict(size=6, color=\"#38006b\")\r\n",
        "    ))\r\n",
        "\r\n",
        "fig.add_trace(go.Scatter(\r\n",
        "    name=\"Recovered\",\r\n",
        "    x=df_state.index.values,\r\n",
        "    y=df_state.recovered,\r\n",
        "    mode='markers',\r\n",
        "    marker=dict(size=6, color=\"#005005\")\r\n",
        "    ))\r\n",
        "\r\n",
        "fig.update_layout(\r\n",
        "    template='xgridoff',\r\n",
        "    xaxis=dict(showgrid=False),\r\n",
        "    xaxis_title='Date',\r\n",
        "    yaxis_title='Individuals',\r\n",
        "    legend=dict(\r\n",
        "      orientation='h',\r\n",
        "      yanchor='bottom',\r\n",
        "      y=1.01,\r\n",
        "      xanchor='right',\r\n",
        "      x=0.95\r\n",
        "      ),\r\n",
        "    title_text=\"Real data\")\r\n",
        "\r\n",
        "fig.show()"
      ],
      "execution_count": 232,
      "outputs": [
        {
          "output_type": "display_data",
          "data": {
            "text/html": [
              "<html>\n",
              "<head><meta charset=\"utf-8\" /></head>\n",
              "<body>\n",
              "    <div>\n",
              "            <script src=\"https://cdnjs.cloudflare.com/ajax/libs/mathjax/2.7.5/MathJax.js?config=TeX-AMS-MML_SVG\"></script><script type=\"text/javascript\">if (window.MathJax) {MathJax.Hub.Config({SVG: {font: \"STIX-Web\"}});}</script>\n",
              "                <script type=\"text/javascript\">window.PlotlyConfig = {MathJaxConfig: 'local'};</script>\n",
              "        <script src=\"https://cdn.plot.ly/plotly-latest.min.js\"></script>    \n",
              "            <div id=\"80c9239d-35be-445d-b60b-3bf2c0c9a6bc\" class=\"plotly-graph-div\" style=\"height:525px; width:100%;\"></div>\n",
              "            <script type=\"text/javascript\">\n",
              "                \n",
              "                    window.PLOTLYENV=window.PLOTLYENV || {};\n",
              "                    \n",
              "                if (document.getElementById(\"80c9239d-35be-445d-b60b-3bf2c0c9a6bc\")) {\n",
              "                    Plotly.newPlot(\n",
              "                        '80c9239d-35be-445d-b60b-3bf2c0c9a6bc',\n",
              "                        [{\"marker\": {\"color\": \"#38006b\", \"size\": 6}, \"mode\": \"markers\", \"name\": \"Active Cases\", \"type\": \"scatter\", \"x\": [0, 1, 2, 3, 4, 5, 6, 7, 8, 9, 10, 11, 12, 13, 14, 15, 16, 17, 18, 19, 20, 21, 22, 23, 24, 25, 26, 27, 28, 29, 30, 31, 32, 33, 34, 35, 36, 37, 38, 39, 40, 41, 42, 43, 44, 45, 46, 47, 48, 49, 50, 51, 52, 53, 54, 55, 56, 57, 58, 59, 60, 61, 62, 63, 64, 65, 66, 67, 68, 69, 70, 71, 72, 73, 74, 75, 76, 77, 78, 79, 80, 81, 82, 83, 84, 85, 86, 87, 88, 89, 90, 91, 92, 93, 94, 95, 96, 97, 98, 99, 100, 101, 102, 103, 104, 105, 106, 107, 108, 109, 110, 111, 112, 113, 114, 115, 116, 117, 118, 119, 120, 121, 122, 123, 124, 125, 126, 127, 128, 129, 130, 131, 132, 133, 134, 135, 136, 137, 138, 139, 140, 141, 142, 143, 144, 145, 146, 147, 148, 149, 150, 151, 152, 153, 154, 155, 156, 157, 158, 159, 160, 161, 162, 163, 164, 165, 166, 167, 168, 169, 170, 171, 172, 173, 174, 175, 176, 177, 178, 179, 180, 181, 182, 183, 184, 185, 186, 187, 188, 189, 190, 191, 192, 193, 194, 195, 196, 197, 198, 199, 200, 201, 202, 203, 204, 205, 206, 207, 208, 209, 210, 211, 212, 213, 214, 215, 216, 217, 218, 219, 220, 221, 222, 223, 224, 225, 226, 227, 228, 229, 230, 231, 232, 233, 234, 235, 236, 237, 238, 239, 240, 241, 242, 243, 244, 245, 246, 247, 248, 249, 250, 251, 252, 253, 254, 255, 256, 257, 258, 259, 260, 261, 262, 263, 264, 265, 266, 267, 268, 269, 270, 271, 272, 273, 274, 275, 276, 277, 278, 279, 280, 281, 282, 283, 284, 285, 286, 287, 288, 289, 290, 291, 292, 293, 294, 295, 296, 297, 298, 299, 300, 301, 302, 303, 304, 305, 306, 307, 308, 309, 310, 311, 312, 313, 314, 315, 316, 317, 318, 319, 320, 321, 322, 323, 324, 325, 326, 327, 328, 329, 330, 331, 332, 333, 334, 335, 336, 337, 338, 339, 340, 341, 342, 343, 344, 345, 346, 347, 348, 349, 350, 351, 352, 353, 354, 355, 356, 357, 358], \"y\": [1.0, 1.0, 1.0, 2.0, 5.0, 7.0, 7.0, 7.0, 8.0, 9.0, 9.0, 10.0, 11.0, 12.0, 12.0, 12.0, 13.0, 16.0, 17.0, 19.0, 19.0, 23.0, 23.0, 23.0, 25.0, 26.0, 26.0, 27.0, 29.0, 31.0, 32.0, 33.0, 34.0, 34.0, 34.0, 34.0, 40.0, 46.0, 54.0, 63.0, 74.0, 111.0, 123.0, 148.0, 172.0, 227.0, 246.0, 276.0, 319.0, 383.0, 434.0, 508.0, 623.0, 682.0, 732.0, 809.0, 887.0, 1037.0, 1100.0, 1175.0, 1269.0, 1389.0, 1521.0, 1626.0, 1796.0, 1964.0, 1964.0, 2052.0, 2052.0, 2005.0, 2365.0, 2365.0, 2394.0, 2747.0, 2942.0, 3111.0, 3249.0, 3464.0, 3366.0, 3584.0, 3723.0, 3179.0, 3430.0, 3283.0, 3555.0, 3346.0, 3400.0, 3299.0, 3369.0, 3424.0, 3359.0, 3560.0, 3742.0, 3232.0, 3316.0, 3439.0, 3728.0, 3562.0, 3767.0, 4023.0, 4180.0, 4137.0, 4268.0, 4673.0, 4318.0, 4348.0, 4522.0, 4970.0, 4965.0, 4940.0, 5166.0, 5351.0, 5340.0, 6004.0, 6036.0, 6036.0, 6072.0, 6316.0, 6220.0, 6861.0, 6652.0, 6907.0, 7239.0, 6538.0, 6844.0, 7101.0, 7464.0, 7772.0, 8727.0, 8698.0, 8806.0, 9551.0, 9388.0, 9866.0, 10061.0, 10323.0, 11032.0, 11596.0, 11886.0, 12377.0, 12204.0, 12502.0, 12506.0, 12622.0, 13248.0, 13456.0, 13933.0, 14576.0, 14831.0, 15077.0, 15105.0, 15351.0, 15798.0, 16289.0, 17243.0, 17857.0, 17079.0, 17224.0, 17375.0, 17824.0, 18333.0, 19393.0, 19188.0, 19507.0, 19684.0, 18572.0, 19245.0, 18867.0, 18283.0, 19002.0, 18729.0, 18462.0, 18126.0, 18094.0, 18366.0, 19440.0, 19590.0, 19383.0, 19240.0, 18611.0, 18928.0, 19168.0, 18609.0, 18499.0, 18349.0, 18169.0, 17378.0, 17774.0, 17956.0, 18366.0, 17442.0, 17512.0, 16705.0, 16493.0, 16382.0, 16769.0, 16694.0, 16812.0, 16402.0, 16307.0, 16086.0, 15877.0, 15971.0, 15562.0, 15919.0, 15361.0, 14205.0, 14055.0, 14014.0, 14294.0, 14348.0, 14254.0, 14320.0, 14070.0, 14084.0, 13503.0, 13607.0, 13417.0, 12932.0, 12880.0, 12737.0, 12627.0, 12680.0, 12744.0, 12758.0, 12697.0, 12234.0, 11832.0, 11779.0, 11388.0, 11636.0, 11497.0, 11713.0, 11620.0, 11178.0, 11161.0, 11201.0, 11292.0, 10906.0, 10313.0, 9511.0, 8864.0, 8956.0, 8750.0, 8569.0, 8353.0, 8361.0, 8092.0, 8186.0, 7677.0, 7698.0, 7791.0, 7718.0, 7880.0, 8292.0, 8495.0, 8658.0, 7916.0, 8198.0, 8242.0, 8483.0, 8701.0, 8466.0, 8599.0, 8608.0, 8840.0, 9196.0, 9090.0, 9280.0, 9393.0, 9409.0, 8913.0, 9213.0, 9427.0, 9185.0, 9186.0, 9263.0, 9480.0, 9572.0, 9695.0, 10058.0, 10298.0, 10459.0, 10156.0, 9813.0, 9991.0, 9775.0, 9770.0, 9890.0, 9946.0, 9582.0, 9574.0, 9820.0, 10071.0, 9873.0, 10115.0, 10202.0, 9888.0, 9657.0, 10082.0, 10475.0, 10840.0, 10782.0, 11091.0, 11319.0, 11352.0, 11781.0, 12250.0, 12712.0, 12991.0, 12355.0, 11835.0, 11242.0, 11823.0, 11974.0, 11746.0, 12292.0, 12057.0, 11847.0, 11807.0, 12124.0, 12294.0, 12356.0, 12446.0, 12579.0, 12769.0, 9471.0, 9918.0, 9838.0, 9659.0, 10155.0, 9687.0, 9615.0, 9559.0, 9778.0, 10050.0, 10103.0, 10328.0, 10635.0, 10244.0, 10312.0, 10837.0, 11156.0, 11635.0, 12072.0, 12843.0, 12583.0, 12867.0, 13606.0, 13730.0, 14370.0, 14178.0, 14059.0, 14757.0, 14455.0, 15186.0, 15913.0, 16659.0, 16253.0]}, {\"marker\": {\"color\": \"#005005\", \"size\": 6}, \"mode\": \"markers\", \"name\": \"Recovered\", \"type\": \"scatter\", \"x\": [0, 1, 2, 3, 4, 5, 6, 7, 8, 9, 10, 11, 12, 13, 14, 15, 16, 17, 18, 19, 20, 21, 22, 23, 24, 25, 26, 27, 28, 29, 30, 31, 32, 33, 34, 35, 36, 37, 38, 39, 40, 41, 42, 43, 44, 45, 46, 47, 48, 49, 50, 51, 52, 53, 54, 55, 56, 57, 58, 59, 60, 61, 62, 63, 64, 65, 66, 67, 68, 69, 70, 71, 72, 73, 74, 75, 76, 77, 78, 79, 80, 81, 82, 83, 84, 85, 86, 87, 88, 89, 90, 91, 92, 93, 94, 95, 96, 97, 98, 99, 100, 101, 102, 103, 104, 105, 106, 107, 108, 109, 110, 111, 112, 113, 114, 115, 116, 117, 118, 119, 120, 121, 122, 123, 124, 125, 126, 127, 128, 129, 130, 131, 132, 133, 134, 135, 136, 137, 138, 139, 140, 141, 142, 143, 144, 145, 146, 147, 148, 149, 150, 151, 152, 153, 154, 155, 156, 157, 158, 159, 160, 161, 162, 163, 164, 165, 166, 167, 168, 169, 170, 171, 172, 173, 174, 175, 176, 177, 178, 179, 180, 181, 182, 183, 184, 185, 186, 187, 188, 189, 190, 191, 192, 193, 194, 195, 196, 197, 198, 199, 200, 201, 202, 203, 204, 205, 206, 207, 208, 209, 210, 211, 212, 213, 214, 215, 216, 217, 218, 219, 220, 221, 222, 223, 224, 225, 226, 227, 228, 229, 230, 231, 232, 233, 234, 235, 236, 237, 238, 239, 240, 241, 242, 243, 244, 245, 246, 247, 248, 249, 250, 251, 252, 253, 254, 255, 256, 257, 258, 259, 260, 261, 262, 263, 264, 265, 266, 267, 268, 269, 270, 271, 272, 273, 274, 275, 276, 277, 278, 279, 280, 281, 282, 283, 284, 285, 286, 287, 288, 289, 290, 291, 292, 293, 294, 295, 296, 297, 298, 299, 300, 301, 302, 303, 304, 305, 306, 307, 308, 309, 310, 311, 312, 313, 314, 315, 316, 317, 318, 319, 320, 321, 322, 323, 324, 325, 326, 327, 328, 329, 330, 331, 332, 333, 334, 335, 336, 337, 338, 339, 340, 341, 342, 343, 344, 345, 346, 347, 348, 349, 350, 351, 352, 353, 354, 355, 356, 357, 358], \"y\": [0.0, 0.0, 0.0, 0.0, 0.0, 0.0, 0.0, 0.0, 0.0, 0.0, 0.0, 0.0, 0.0, 0.0, 0.0, 0.0, 0.0, 0.0, 0.0, 0.0, 0.0, 0.0, 0.0, 0.0, 0.0, 0.0, 0.0, 0.0, 0.0, 0.0, 12.0, 12.0, 12.0, 13.0, 15.0, 15.0, 15.0, 16.0, 16.0, 16.0, 17.0, 17.0, 26.0, 28.0, 31.0, 31.0, 33.0, 39.0, 44.0, 52.0, 72.0, 77.0, 77.0, 77.0, 108.0, 135.0, 154.0, 154.0, 191.0, 219.0, 239.0, 269.0, 300.0, 362.0, 421.0, 478.0, 478.0, 656.0, 656.0, 865.0, 924.0, 924.0, 1229.0, 1246.0, 1246.0, 1246.0, 1246.0, 1246.0, 1828.0, 1933.0, 1933.0, 2477.0, 2634.0, 2986.0, 2986.0, 3410.0, 3543.0, 3685.0, 3780.0, 3897.0, 4226.0, 4226.0, 4226.0, 4983.0, 5050.0, 5050.0, 5050.0, 5548.0, 5670.0, 5670.0, 5798.0, 6103.0, 6103.0, 6103.0, 6916.0, 7118.0, 7226.0, 7324.0, 7523.0, 7712.0, 7850.0, 8101.0, 8517.0, 8517.0, 8915.0, 9108.0, 9247.0, 9419.0, 9823.0, 9823.0, 10314.0, 10314.0, 10546.0, 11372.0, 11522.0, 11761.0, 11971.0, 12205.0, 12205.0, 13081.0, 13312.0, 13312.0, 14141.0, 14424.0, 14775.0, 15035.0, 15414.0, 15414.0, 15790.0, 15947.0, 17347.0, 17868.0, 18609.0, 19053.0, 19053.0, 19603.0, 19845.0, 19845.0, 20584.0, 21413.0, 21896.0, 22517.0, 23059.0, 23555.0, 23555.0, 24003.0, 25772.0, 26384.0, 26910.0, 27588.0, 28043.0, 28177.0, 29404.0, 30156.0, 30701.0, 32134.0, 32396.0, 33270.0, 34667.0, 35023.0, 36358.0, 37063.0, 37792.0, 38141.0, 38330.0, 38471.0, 39080.0, 40024.0, 40494.0, 41436.0, 41809.0, 42115.0, 43086.0, 44011.0, 44830.0, 45266.0, 46178.0, 46511.0, 46843.0, 47000.0, 48564.0, 49016.0, 50017.0, 50384.0, 50495.0, 51246.0, 51924.0, 52208.0, 53008.0, 53124.0, 53404.0, 53722.0, 54010.0, 54797.0, 54797.0, 55699.0, 56943.0, 57152.0, 57267.0, 57342.0, 57648.0, 58093.0, 58263.0, 58536.0, 58652.0, 59574.0, 59719.0, 60161.0, 60982.0, 61250.0, 61459.0, 61614.0, 61832.0, 62105.0, 62360.0, 62740.0, 63347.0, 63805.0, 63881.0, 64304.0, 64367.0, 64690.0, 64889.0, 65131.0, 65639.0, 65711.0, 65906.0, 66026.0, 66634.0, 67487.0, 68473.0, 69225.0, 69225.0, 69626.0, 70061.0, 70537.0, 70809.0, 71340.0, 71340.0, 71947.0, 72208.0, 72439.0, 72744.0, 72849.0, 72986.0, 72986.0, 72986.0, 74068.0, 74109.0, 74421.0, 74524.0, 74611.0, 74957.0, 74957.0, 75352.0, 75453.0, 75453.0, 75885.0, 76004.0, 76004.0, 76152.0, 76830.0, 76979.0, 77170.0, 77798.0, 78121.0, 78227.0, 78227.0, 78510.0, 78693.0, 78693.0, 78693.0, 78693.0, 79145.0, 79609.0, 79815.0, 80284.0, 80600.0, 80658.0, 80658.0, 81133.0, 81298.0, 81422.0, 81537.0, 82139.0, 82343.0, 82726.0, 83223.0, 83616.0, 83825.0, 83918.0, 84117.0, 84733.0, 84979.0, 85083.0, 85249.0, 85427.0, 85552.0, 85552.0, 85808.0, 86947.0, 87662.0, 88393.0, 88393.0, 88747.0, 89386.0, 89386.0, 90063.0, 90382.0, 90553.0, 90678.0, 90933.0, 91272.0, 91516.0, 91835.0, 91835.0, 95278.0, 95278.0, 95751.0, 96351.0, 96351.0, 97299.0, 97560.0, 97693.0, 97794.0, 97794.0, 98306.0, 98580.0, 98895.0, 99609.0, 99777.0, 99936.0, 100226.0, 100431.0, 100763.0, 100763.0, 101353.0, 101612.0, 101748.0, 102320.0, 102554.0, 103562.0, 104197.0, 104197.0, 104880.0, 105054.0, 105331.0, 105779.0, 106185.0]}],\n",
              "                        {\"legend\": {\"orientation\": \"h\", \"x\": 0.95, \"xanchor\": \"right\", \"y\": 1.01, \"yanchor\": \"bottom\"}, \"template\": {\"data\": {\"pie\": [{\"automargin\": true, \"type\": \"pie\"}]}, \"layout\": {\"xaxis\": {\"showgrid\": false, \"title\": {\"standoff\": 15}}, \"yaxis\": {\"title\": {\"standoff\": 15}}}}, \"title\": {\"text\": \"Real data\"}, \"xaxis\": {\"showgrid\": false, \"title\": {\"text\": \"Date\"}}, \"yaxis\": {\"title\": {\"text\": \"Individuals\"}}},\n",
              "                        {\"responsive\": true}\n",
              "                    ).then(function(){\n",
              "                            \n",
              "var gd = document.getElementById('80c9239d-35be-445d-b60b-3bf2c0c9a6bc');\n",
              "var x = new MutationObserver(function (mutations, observer) {{\n",
              "        var display = window.getComputedStyle(gd).display;\n",
              "        if (!display || display === 'none') {{\n",
              "            console.log([gd, 'removed!']);\n",
              "            Plotly.purge(gd);\n",
              "            observer.disconnect();\n",
              "        }}\n",
              "}});\n",
              "\n",
              "// Listen for the removal of the full notebook cells\n",
              "var notebookContainer = gd.closest('#notebook-container');\n",
              "if (notebookContainer) {{\n",
              "    x.observe(notebookContainer, {childList: true});\n",
              "}}\n",
              "\n",
              "// Listen for the clearing of the current output cell\n",
              "var outputEl = gd.closest('.output');\n",
              "if (outputEl) {{\n",
              "    x.observe(outputEl, {childList: true});\n",
              "}}\n",
              "\n",
              "                        })\n",
              "                };\n",
              "                \n",
              "            </script>\n",
              "        </div>\n",
              "</body>\n",
              "</html>"
            ]
          },
          "metadata": {
            "tags": []
          }
        }
      ]
    },
    {
      "cell_type": "code",
      "metadata": {
        "id": "ylMeCCKO8nP5"
      },
      "source": [
        "df_state_init = df_state.iloc[:130] # Days to find Beta and r \r\n",
        "\r\n",
        "# Size of population\r\n",
        "N = 150000 #state_pop['TO']['population']\r\n",
        "\r\n",
        "# Data\r\n",
        "Id = df_state_init[\"activeCases\"]\r\n",
        "Rd = df_state_init[\"recovered\"]\r\n",
        "Sd = N - Rd - Id"
      ],
      "execution_count": 299,
      "outputs": []
    },
    {
      "cell_type": "code",
      "metadata": {
        "id": "38filRoy8nP6"
      },
      "source": [
        "# Valores iniciais \r\n",
        "I0 = 1 \r\n",
        "R0 = 0\r\n",
        "S0 = N - I0\r\n",
        "\r\n",
        "# Vetor de condições iniciais\r\n",
        "y0 = S0, I0, R0\r\n",
        "\r\n",
        "# Beta - taxa de contato,\r\n",
        "# r - taxa média de recuperação (in 1/dia).\r\n",
        "\r\n",
        "theta0 = [1e-4, 1e-2] # valores iniciais [Beta, r]\r\n",
        "\r\n",
        "t = np.linspace(0, len(df_state_init.index.values), len(df_state_init.index.values))"
      ],
      "execution_count": 300,
      "outputs": []
    },
    {
      "cell_type": "code",
      "metadata": {
        "colab": {
          "base_uri": "https://localhost:8080/"
        },
        "id": "fk1A9Bei8nP6",
        "outputId": "9d536ad8-809b-4adb-9a62-836a051b03fc"
      },
      "source": [
        "# Simulating to find beta and r\r\n",
        "(c, kvg) = optimize.leastsq(objetivo,theta0) \r\n",
        "print(c)"
      ],
      "execution_count": 301,
      "outputs": [
        {
          "output_type": "stream",
          "text": [
            "[1.19770069e-06 1.04696676e-01]\n"
          ],
          "name": "stdout"
        }
      ]
    },
    {
      "cell_type": "code",
      "metadata": {
        "id": "EZZV9AQq8nP6"
      },
      "source": [
        "df_state_sim = df_state.iloc[:250] # Days to simulate\r\n",
        "tsim = np.linspace(0, len(df_state_sim.index.values), len(df_state_sim.index.values))\r\n",
        "[Ss,Is,Rs] = SIRsim(y0,tsim,c) # Finding S, I and R for the model"
      ],
      "execution_count": 302,
      "outputs": []
    },
    {
      "cell_type": "code",
      "metadata": {
        "colab": {
          "base_uri": "https://localhost:8080/",
          "height": 542
        },
        "id": "Y_MFmea88nP7",
        "outputId": "fce9fa56-150e-4140-8e53-6e7c6bb2fa51"
      },
      "source": [
        "# Plotting the results\r\n",
        "fig = go.Figure()\r\n",
        "\r\n",
        "fig.add_trace(go.Scatter(\r\n",
        "    name=\"Active Cases - Model\",\r\n",
        "    x=df_state_sim.date,\r\n",
        "    y=Is,\r\n",
        "    mode='lines',\r\n",
        "    line=dict(width=3, dash=\"dash\", color=\"#6a1b9a\")\r\n",
        "    ))\r\n",
        "\r\n",
        "fig.add_trace(go.Scatter(\r\n",
        "    name=\"Recovered - Model\",\r\n",
        "    x=df_state_sim.date,\r\n",
        "    y=Rs,\r\n",
        "    mode='lines',\r\n",
        "    line=dict(width=3, dash=\"dash\", color=\"#2e7d32\")\r\n",
        "    ))\r\n",
        "\r\n",
        "fig.add_trace(go.Scatter(\r\n",
        "    name=\"Susceptible - Model\",\r\n",
        "    x=df_state_sim.date,\r\n",
        "    y=Ss,\r\n",
        "    mode='lines',\r\n",
        "    line=dict(width=3, dash=\"dash\", color=\"#58ACFA\")\r\n",
        "    ))\r\n",
        "\r\n",
        "fig.add_trace(go.Scatter(\r\n",
        "    name=\"Active Cases - Data\",\r\n",
        "    x=df_state_sim.date,\r\n",
        "    y=Id,\r\n",
        "    mode='markers',\r\n",
        "    marker=dict(size=6, color=\"#38006b\")\r\n",
        "    ))\r\n",
        "\r\n",
        "fig.add_trace(go.Scatter(\r\n",
        "    name=\"Recovered - Data\",\r\n",
        "    x=df_state_sim.date,\r\n",
        "    y=Rd,\r\n",
        "    mode='markers',\r\n",
        "    marker=dict(size=6, color=\"#005005\")\r\n",
        "    ))\r\n",
        "\r\n",
        "fig.add_trace(go.Scatter(\r\n",
        "    name=\"Susceptible - Data\",\r\n",
        "    x=df_state_sim.date,\r\n",
        "    y=Sd,\r\n",
        "    mode='markers',\r\n",
        "    marker=dict(size=6, color=\"#0080FF\")\r\n",
        "    ))\r\n",
        "\r\n",
        "fig.update_layout(\r\n",
        "    template='xgridoff',\r\n",
        "    xaxis=dict(showgrid=False),\r\n",
        "    xaxis_title='Days',\r\n",
        "    yaxis_title='Individuals',\r\n",
        "    legend=dict(\r\n",
        "      orientation='h',\r\n",
        "      yanchor='bottom',\r\n",
        "      y=1.01,\r\n",
        "      xanchor='right',\r\n",
        "      x=0.95\r\n",
        "      ),\r\n",
        "    title_text=\"SIR Model\")\r\n",
        "\r\n",
        "fig.show()"
      ],
      "execution_count": 303,
      "outputs": [
        {
          "output_type": "display_data",
          "data": {
            "text/html": [
              "<html>\n",
              "<head><meta charset=\"utf-8\" /></head>\n",
              "<body>\n",
              "    <div>\n",
              "            <script src=\"https://cdnjs.cloudflare.com/ajax/libs/mathjax/2.7.5/MathJax.js?config=TeX-AMS-MML_SVG\"></script><script type=\"text/javascript\">if (window.MathJax) {MathJax.Hub.Config({SVG: {font: \"STIX-Web\"}});}</script>\n",
              "                <script type=\"text/javascript\">window.PlotlyConfig = {MathJaxConfig: 'local'};</script>\n",
              "        <script src=\"https://cdn.plot.ly/plotly-latest.min.js\"></script>    \n",
              "            <div id=\"e1d0d3c4-dcc2-48b3-9cfd-f40ae6d49249\" class=\"plotly-graph-div\" style=\"height:525px; width:100%;\"></div>\n",
              "            <script type=\"text/javascript\">\n",
              "                \n",
              "                    window.PLOTLYENV=window.PLOTLYENV || {};\n",
              "                    \n",
              "                if (document.getElementById(\"e1d0d3c4-dcc2-48b3-9cfd-f40ae6d49249\")) {\n",
              "                    Plotly.newPlot(\n",
              "                        'e1d0d3c4-dcc2-48b3-9cfd-f40ae6d49249',\n",
              "                        [{\"line\": {\"color\": \"#6a1b9a\", \"dash\": \"dash\", \"width\": 3}, \"mode\": \"lines\", \"name\": \"Active Cases - Model\", \"type\": \"scatter\", \"x\": [\"2020-03-18\", \"2020-03-19\", \"2020-03-20\", \"2020-03-21\", \"2020-03-22\", \"2020-03-23\", \"2020-03-24\", \"2020-03-25\", \"2020-03-26\", \"2020-03-27\", \"2020-03-28\", \"2020-03-29\", \"2020-03-30\", \"2020-03-31\", \"2020-04-01\", \"2020-04-02\", \"2020-04-03\", \"2020-04-04\", \"2020-04-05\", \"2020-04-06\", \"2020-04-07\", \"2020-04-08\", \"2020-04-09\", \"2020-04-10\", \"2020-04-11\", \"2020-04-12\", \"2020-04-13\", \"2020-04-14\", \"2020-04-15\", \"2020-04-16\", \"2020-04-17\", \"2020-04-18\", \"2020-04-19\", \"2020-04-20\", \"2020-04-21\", \"2020-04-22\", \"2020-04-23\", \"2020-04-24\", \"2020-04-25\", \"2020-04-26\", \"2020-04-27\", \"2020-04-28\", \"2020-04-29\", \"2020-04-30\", \"2020-05-01\", \"2020-05-02\", \"2020-05-03\", \"2020-05-04\", \"2020-05-05\", \"2020-05-06\", \"2020-05-07\", \"2020-05-08\", \"2020-05-09\", \"2020-05-10\", \"2020-05-11\", \"2020-05-12\", \"2020-05-13\", \"2020-05-14\", \"2020-05-15\", \"2020-05-16\", \"2020-05-17\", \"2020-05-18\", \"2020-05-19\", \"2020-05-20\", \"2020-05-21\", \"2020-05-22\", \"2020-05-23\", \"2020-05-24\", \"2020-05-25\", \"2020-05-26\", \"2020-05-27\", \"2020-05-28\", \"2020-05-29\", \"2020-05-30\", \"2020-05-31\", \"2020-06-01\", \"2020-06-02\", \"2020-06-03\", \"2020-06-04\", \"2020-06-05\", \"2020-06-06\", \"2020-06-07\", \"2020-06-08\", \"2020-06-09\", \"2020-06-10\", \"2020-06-11\", \"2020-06-12\", \"2020-06-13\", \"2020-06-14\", \"2020-06-15\", \"2020-06-16\", \"2020-06-17\", \"2020-06-18\", \"2020-06-19\", \"2020-06-20\", \"2020-06-21\", \"2020-06-22\", \"2020-06-23\", \"2020-06-24\", \"2020-06-25\", \"2020-06-26\", \"2020-06-27\", \"2020-06-28\", \"2020-06-29\", \"2020-06-30\", \"2020-07-01\", \"2020-07-02\", \"2020-07-03\", \"2020-07-04\", \"2020-07-05\", \"2020-07-06\", \"2020-07-07\", \"2020-07-08\", \"2020-07-09\", \"2020-07-10\", \"2020-07-11\", \"2020-07-12\", \"2020-07-13\", \"2020-07-14\", \"2020-07-15\", \"2020-07-16\", \"2020-07-17\", \"2020-07-18\", \"2020-07-19\", \"2020-07-20\", \"2020-07-21\", \"2020-07-22\", \"2020-07-23\", \"2020-07-24\", \"2020-07-25\", \"2020-07-26\", \"2020-07-27\", \"2020-07-28\", \"2020-07-29\", \"2020-07-30\", \"2020-07-31\", \"2020-08-01\", \"2020-08-02\", \"2020-08-03\", \"2020-08-04\", \"2020-08-05\", \"2020-08-06\", \"2020-08-07\", \"2020-08-08\", \"2020-08-09\", \"2020-08-10\", \"2020-08-11\", \"2020-08-12\", \"2020-08-13\", \"2020-08-14\", \"2020-08-15\", \"2020-08-16\", \"2020-08-17\", \"2020-08-18\", \"2020-08-19\", \"2020-08-20\", \"2020-08-21\", \"2020-08-22\", \"2020-08-23\", \"2020-08-24\", \"2020-08-25\", \"2020-08-26\", \"2020-08-27\", \"2020-08-28\", \"2020-08-29\", \"2020-08-30\", \"2020-08-31\", \"2020-09-01\", \"2020-09-02\", \"2020-09-03\", \"2020-09-04\", \"2020-09-05\", \"2020-09-06\", \"2020-09-07\", \"2020-09-08\", \"2020-09-09\", \"2020-09-10\", \"2020-09-11\", \"2020-09-12\", \"2020-09-13\", \"2020-09-14\", \"2020-09-15\", \"2020-09-16\", \"2020-09-17\", \"2020-09-18\", \"2020-09-19\", \"2020-09-20\", \"2020-09-21\", \"2020-09-22\", \"2020-09-23\", \"2020-09-24\", \"2020-09-25\", \"2020-09-26\", \"2020-09-27\", \"2020-09-28\", \"2020-09-29\", \"2020-09-30\", \"2020-10-01\", \"2020-10-02\", \"2020-10-03\", \"2020-10-04\", \"2020-10-05\", \"2020-10-06\", \"2020-10-07\", \"2020-10-08\", \"2020-10-09\", \"2020-10-10\", \"2020-10-11\", \"2020-10-12\", \"2020-10-13\", \"2020-10-14\", \"2020-10-15\", \"2020-10-16\", \"2020-10-17\", \"2020-10-18\", \"2020-10-19\", \"2020-10-20\", \"2020-10-21\", \"2020-10-22\", \"2020-10-23\", \"2020-10-24\", \"2020-10-25\", \"2020-10-26\", \"2020-10-27\", \"2020-10-28\", \"2020-10-29\", \"2020-10-30\", \"2020-10-31\", \"2020-11-01\", \"2020-11-02\", \"2020-11-03\", \"2020-11-04\", \"2020-11-05\", \"2020-11-06\", \"2020-11-07\", \"2020-11-08\", \"2020-11-09\", \"2020-11-10\", \"2020-11-11\", \"2020-11-12\", \"2020-11-13\", \"2020-11-14\", \"2020-11-15\", \"2020-11-16\", \"2020-11-17\", \"2020-11-18\", \"2020-11-19\", \"2020-11-20\", \"2020-11-21\", \"2020-11-22\"], \"y\": [1.0, 1.0781624395976668, 1.16243397804345, 1.253292057795532, 1.3512513990174118, 1.4568669804043923, 1.5707371188192558, 1.693506880351197, 1.825871750740033, 1.9685814945871294, 2.1224444647376868, 2.2883322288209884, 2.4671843573107433, 2.660013836710052, 2.8679127716084762, 3.0920585590144443, 3.3337205404341943, 3.5942671809429214, 3.875173801476535, 4.178030922627005, 4.504553183860684, 4.856589118902638, 5.236131543211004, 5.64532878962278, 6.086496854214214, 6.562132414302903, 7.074926929211684, 7.627781801624037, 8.223824713038963, 8.866427222904036, 9.559223746896413, 10.306131971337228, 11.111374892828964, 11.979504501504744, 12.915427363765543, 13.924432040296752, 15.012218846239797, 16.18493162145306, 17.449192200209378, 18.81213728702408, 20.28145836826928, 21.865444491887466, 23.573028445556922, 25.413836376809414, 27.39824117753384, 29.537419999591457, 31.843415938188315, 34.32920465323463, 37.00876559496389, 39.89715907431379, 43.01060848556439, 46.36658931702441, 49.983924030327046, 53.882884687889494, 58.085302355530004, 62.614685221059396, 67.49634460482704, 72.75753066642655, 78.42757732027654, 84.53805766292749, 91.122950679418, 98.2188190863392, 105.86499949788391, 114.10380610197963, 122.98074753707087, 132.54475855220156, 142.84844694280784, 153.9483560655314, 165.90524465945998, 178.78438327804525, 192.6558695162426, 207.59496135713044, 223.68242991817561, 241.00493218176666, 259.6554025389772, 279.7334663383677, 301.34587125527065, 324.6069405221467, 349.63904431050264, 376.57308896932807, 405.5490259166052, 436.7163711295131, 470.2347435357624, 506.2744074428672, 545.0168250456525, 586.655210668963, 631.3950746759068, 679.4547633824931, 731.0659776352487, 786.4742619417899, 845.9394489291435, 909.7360574524769, 978.1536159302944, 1051.496903045093, 1130.086077477004, 1214.2566834176052, 1304.3594939674847, 1400.7601784314281, 1503.838748187025, 1613.9887575345508, 1731.6162112831396, 1857.1381491076008, 1990.9808537245087, 2133.577644050554, 2285.3662040082413, 2446.785396221128, 2618.271523182909, 2800.2539729447635, 2993.150237108774, 3197.3602228973514, 3413.2598920587884, 3641.194133064174, 3881.468966075591, 4134.342974519727, 4400.018153478751, 4678.630063306534, 4970.237588750719, 5274.812202751129, 5592.227150841871, 5922.246493561704, 6264.514519117866, 6618.545543876508, 6983.714651952127, 7359.249527554837, 7744.223867539471, 8137.552726936147, 8537.99007627952, 8944.129176870389, 9354.40568035783, 9767.104330572336, 10180.36866494424, 10592.2148141172, 11000.548241715736, 11403.18459355749, 11797.873047505393, 12182.323148890704, 12554.23335423094, 12911.321760251401, 13251.35749476295, 13572.19243339199, 13871.792422706043, 14148.266694536718, 14399.895674768504, 14625.154973511582, 14822.736827103712, 14991.566248347455, 15130.813939328214, 15239.903275355673, 15318.513663594409, 15366.578264559084, 15384.278026607497, 15372.03116755606, 15330.47924019863, 15260.470214320865, 15163.038725099286, 15039.385024141577, 14890.851929007114, 14718.901961519126, 14525.093460397784, 14311.057975462665, 14078.477621933644, 13829.064360203642, 13564.54009994767, 13286.618975679941, 12996.991091199838, 12697.308389767972, 12389.172371908826, 12074.123716549986, 11753.633869636573, 11429.098227709523, 11101.83119423099, 10773.062586368309, 10443.935496145412, 10115.505327748218, 9788.740046976454, 9464.52120326514, 9143.64583013738, 8826.828983319332, 8514.706818252102, 8207.840069037762, 7906.717844459583, 7611.761657718507, 7323.329580990445, 7041.720481417903, 6767.178260827308, 6499.896058296869, 6240.0203671640165, 5987.6550402447365, 5742.865162068014, 5505.680708000422, 5276.100106001195, 5054.09352523532, 4839.60602161184, 4632.560483404955, 4432.860318996747, 4240.392049109238, 4055.027596877019, 3876.626479007298, 3705.03777008968, 3540.1018965786784, 3381.6523049203674, 3229.516915260873, 3083.519493495628, 2943.480838357261, 2809.2198671276806, 2680.554581913824, 2557.3029099671285, 2439.2834697857006, 2326.316218742381, 2218.2230346534743, 2114.8282104405635, 2015.9588790494608, 1921.4453789223417, 1831.1215544583542, 1744.8250102576874, 1662.397313918635, 1583.6841589295288, 1508.5354894725358, 1436.8055888266506, 1368.3531404477633, 1303.0412615637367, 1240.7375160565882, 1181.3139018399916, 1124.6468232267616, 1070.6170510885956, 1019.1096622704507, 970.0139728246617, 923.2234643946, 878.6356935238151, 836.1522019478642, 795.6784220417011, 757.1235704642768, 720.4005462552142, 685.4258247563318, 652.1193454421182, 620.4044055354871, 590.2075501547715, 561.4584602571384, 534.0898466342555, 508.03734128742, 483.2393896490603, 459.6371481497763, 437.17438119127047, 415.79736024962756, 395.4547652073156, 376.0975885589608, 357.679043474199, 340.1544728627946, 323.4812611759435, 307.6187490116263]}, {\"line\": {\"color\": \"#2e7d32\", \"dash\": \"dash\", \"width\": 3}, \"mode\": \"lines\", \"name\": \"Recovered - Model\", \"type\": \"scatter\", \"x\": [\"2020-03-18\", \"2020-03-19\", \"2020-03-20\", \"2020-03-21\", \"2020-03-22\", \"2020-03-23\", \"2020-03-24\", \"2020-03-25\", \"2020-03-26\", \"2020-03-27\", \"2020-03-28\", \"2020-03-29\", \"2020-03-30\", \"2020-03-31\", \"2020-04-01\", \"2020-04-02\", \"2020-04-03\", \"2020-04-04\", \"2020-04-05\", \"2020-04-06\", \"2020-04-07\", \"2020-04-08\", \"2020-04-09\", \"2020-04-10\", \"2020-04-11\", \"2020-04-12\", \"2020-04-13\", \"2020-04-14\", \"2020-04-15\", \"2020-04-16\", \"2020-04-17\", \"2020-04-18\", \"2020-04-19\", \"2020-04-20\", \"2020-04-21\", \"2020-04-22\", \"2020-04-23\", \"2020-04-24\", \"2020-04-25\", \"2020-04-26\", \"2020-04-27\", \"2020-04-28\", \"2020-04-29\", \"2020-04-30\", \"2020-05-01\", \"2020-05-02\", \"2020-05-03\", \"2020-05-04\", \"2020-05-05\", \"2020-05-06\", \"2020-05-07\", \"2020-05-08\", \"2020-05-09\", \"2020-05-10\", \"2020-05-11\", \"2020-05-12\", \"2020-05-13\", \"2020-05-14\", \"2020-05-15\", \"2020-05-16\", \"2020-05-17\", \"2020-05-18\", \"2020-05-19\", \"2020-05-20\", \"2020-05-21\", \"2020-05-22\", \"2020-05-23\", \"2020-05-24\", \"2020-05-25\", \"2020-05-26\", \"2020-05-27\", \"2020-05-28\", \"2020-05-29\", \"2020-05-30\", \"2020-05-31\", \"2020-06-01\", \"2020-06-02\", \"2020-06-03\", \"2020-06-04\", \"2020-06-05\", \"2020-06-06\", \"2020-06-07\", \"2020-06-08\", \"2020-06-09\", \"2020-06-10\", \"2020-06-11\", \"2020-06-12\", \"2020-06-13\", \"2020-06-14\", \"2020-06-15\", \"2020-06-16\", \"2020-06-17\", \"2020-06-18\", \"2020-06-19\", \"2020-06-20\", \"2020-06-21\", \"2020-06-22\", \"2020-06-23\", \"2020-06-24\", \"2020-06-25\", \"2020-06-26\", \"2020-06-27\", \"2020-06-28\", \"2020-06-29\", \"2020-06-30\", \"2020-07-01\", \"2020-07-02\", \"2020-07-03\", \"2020-07-04\", \"2020-07-05\", \"2020-07-06\", \"2020-07-07\", \"2020-07-08\", \"2020-07-09\", \"2020-07-10\", \"2020-07-11\", \"2020-07-12\", \"2020-07-13\", \"2020-07-14\", \"2020-07-15\", \"2020-07-16\", \"2020-07-17\", \"2020-07-18\", \"2020-07-19\", \"2020-07-20\", \"2020-07-21\", \"2020-07-22\", \"2020-07-23\", \"2020-07-24\", \"2020-07-25\", \"2020-07-26\", \"2020-07-27\", \"2020-07-28\", \"2020-07-29\", \"2020-07-30\", \"2020-07-31\", \"2020-08-01\", \"2020-08-02\", \"2020-08-03\", \"2020-08-04\", \"2020-08-05\", \"2020-08-06\", \"2020-08-07\", \"2020-08-08\", \"2020-08-09\", \"2020-08-10\", \"2020-08-11\", \"2020-08-12\", \"2020-08-13\", \"2020-08-14\", \"2020-08-15\", \"2020-08-16\", \"2020-08-17\", \"2020-08-18\", \"2020-08-19\", \"2020-08-20\", \"2020-08-21\", \"2020-08-22\", \"2020-08-23\", \"2020-08-24\", \"2020-08-25\", \"2020-08-26\", \"2020-08-27\", \"2020-08-28\", \"2020-08-29\", \"2020-08-30\", \"2020-08-31\", \"2020-09-01\", \"2020-09-02\", \"2020-09-03\", \"2020-09-04\", \"2020-09-05\", \"2020-09-06\", \"2020-09-07\", \"2020-09-08\", \"2020-09-09\", \"2020-09-10\", \"2020-09-11\", \"2020-09-12\", \"2020-09-13\", \"2020-09-14\", \"2020-09-15\", \"2020-09-16\", \"2020-09-17\", \"2020-09-18\", \"2020-09-19\", \"2020-09-20\", \"2020-09-21\", \"2020-09-22\", \"2020-09-23\", \"2020-09-24\", \"2020-09-25\", \"2020-09-26\", \"2020-09-27\", \"2020-09-28\", \"2020-09-29\", \"2020-09-30\", \"2020-10-01\", \"2020-10-02\", \"2020-10-03\", \"2020-10-04\", \"2020-10-05\", \"2020-10-06\", \"2020-10-07\", \"2020-10-08\", \"2020-10-09\", \"2020-10-10\", \"2020-10-11\", \"2020-10-12\", \"2020-10-13\", \"2020-10-14\", \"2020-10-15\", \"2020-10-16\", \"2020-10-17\", \"2020-10-18\", \"2020-10-19\", \"2020-10-20\", \"2020-10-21\", \"2020-10-22\", \"2020-10-23\", \"2020-10-24\", \"2020-10-25\", \"2020-10-26\", \"2020-10-27\", \"2020-10-28\", \"2020-10-29\", \"2020-10-30\", \"2020-10-31\", \"2020-11-01\", \"2020-11-02\", \"2020-11-03\", \"2020-11-04\", \"2020-11-05\", \"2020-11-06\", \"2020-11-07\", \"2020-11-08\", \"2020-11-09\", \"2020-11-10\", \"2020-11-11\", \"2020-11-12\", \"2020-11-13\", \"2020-11-14\", \"2020-11-15\", \"2020-11-16\", \"2020-11-17\", \"2020-11-18\", \"2020-11-19\", \"2020-11-20\", \"2020-11-21\", \"2020-11-22\"], \"y\": [0.0, 0.10917372264084046, 0.22688072139854754, 0.3537879541650063, 0.49061446314373636, 0.6381355412560505, 0.7971870369194742, 0.9686701223795274, 1.1535564249928125, 1.3528934226951417, 1.5678104695217312, 1.799525265080415, 2.049350550302886, 2.3187016784266423, 2.6091045906521817, 2.9222044534530975, 3.259774965352786, 3.6237284023212895, 4.016126438878494, 4.439191826824081, 4.89532088088485, 5.387097166660826, 5.917306047165711, 6.488950421124781, 7.10526773982127, 7.76974825056917, 8.486154762441062, 9.258543904997122, 10.091289040212878, 10.989104954777682, 11.95707449753264, 13.000677242394074, 14.125820447995977, 15.338872338469207, 16.646698074523, 18.056698317882663, 19.576851126428636, 21.215756690227696, 22.982685917065336, 24.88763242946987, 26.94136890282939, 29.155507485439035, 31.542565090367447, 34.1160336116947, 36.89045555001988, 39.8815055869948, 43.10607815942094, 46.58238220244966, 50.33004253008769, 54.37020978110465, 58.72567780683574, 63.421011108734696, 68.48268078517155, 73.93921207414928, 79.82134178564034, 86.16218892765677, 92.99743697189818, 100.36553097428147, 108.3078884729668, 116.86912659818292, 126.09730670744896, 136.04419604713834, 146.76554911630117, 158.32141016838716, 170.77643726374407, 184.20025014399945, 198.66780332882766, 214.25978572650058, 231.0630489991998, 249.17106604221746, 268.6844216439577, 289.71133725796125, 312.36823186913995, 336.78032092257547, 363.08225528741286, 391.41880298491657, 421.9455746167753, 454.8297960543245, 490.2511292262579, 528.4025432958374, 569.491239389881, 613.7396271502072, 661.3863600578704, 712.6874242860906, 767.9172875887368, 827.3701063942019, 891.3609870934523, 960.2273089850407, 1034.330101256671, 1114.0554731795282, 1199.816090761143, 1292.0527027125408, 1391.2356995341827, 1497.8667068371485, 1612.4801947985068, 1735.6450989054413, 1867.9664259778078, 2010.086843547006, 2162.6882155978515, 2326.4930739728143, 2502.2659825677215, 2690.814779851871, 2892.991642958949, 3109.6939521362538, 3341.8648896142117, 3590.4937405527457, 3856.61582027073, 4141.311986386069, 4445.707652671864, 4770.971247653637, 5118.312037770963, 5488.977240102149, 5884.248357543421, 6305.436640096317, 6753.877636242106, 7230.924713493319, 7737.941564932058, 8276.29355663267, 8847.338009960193, 9452.413253523602, 10092.826639644716, 10769.841351746089, 11484.662313483981, 12238.42104022324, 13032.159857725806, 13866.81537833823, 14743.201744920843, 15661.993631499108, 16623.70953378381, 17628.695494919502, 18677.109727108316, 19768.908486016084, 20903.83347015452, 22081.401347950803, 23300.895386042233, 24561.36001794171, 25861.597959575593, 27200.17087462869, 28575.402837722504, 29985.387619901572, 31427.99879027884, 32900.90348466254, 34401.57876963262, 35927.331073424604, 37475.31777517243, 39042.57088706926, 40626.02228555314, 42222.529836264526, 43828.90434394061, 45441.936162570564, 47058.421856771485, 48675.18944114101, 50289.12291655943, 51897.18459002224, 53496.43602519184, 55084.05633253719, 56657.3585727777, 58213.8033948162, 59751.01046177072, 61266.76727900753, 62759.03569496944, 64225.95615220634, 65665.8496945779, 67077.21816253064, 68458.74239015079, 69809.27904490875, 71127.85582463715, 72413.66572007375, 73666.06004322963, 74884.54088968881, 76068.75277777121, 77218.47396651414, 78333.6074583371, 79414.17183239169, 80460.29197273517, 81472.18996308478, 82450.17610379978, 83394.64014223804, 84306.04280768015, 85184.9077084175, 86031.81359354447, 86847.38704111952, 87632.29556360455, 88387.24116681622, 89112.95434120134, 89810.18851710408, 90479.71494125415, 91122.3179836144, 91738.7908366112, 92329.93169478397, 92896.5401861934, 93439.41427512924, 93959.3474449617, 94457.1261966639, 94933.52790409558, 95389.3188552928, 95825.25263876321, 96242.06870270771, 96640.4911616521, 97021.22780208771, 97384.96924695226, 97732.38831729686, 98064.13951082504, 98380.85863595805, 98683.16255652689, 98971.64904365626, 99246.89672841331, 99509.4651319859, 99759.89477432024, 99998.70734640413, 100226.4059380945, 100443.47531512265, 100650.38223833013, 100847.57581467272, 101035.48788233037, 101214.53341353837, 101385.11094332443, 101547.6030130425, 101702.3766114802, 101849.78364307481, 101990.16139430623, 102123.83299024077, 102251.10787107651, 102372.28225662299, 102487.63959822262, 102597.4510448534, 102701.97589014804, 102801.46200766004, 102896.14629297465, 102986.25508387743, 103072.0045698741, 103153.60120290176, 103231.24208595142, 103305.11535326444, 103375.40054498821, 103442.26896179921, 103505.88401205593, 103566.40155051467, 103623.97019917738, 103678.73166100834, 103730.82102304268, 103780.36704438904, 103827.49243613129, 103872.31413061182, 103914.94354044879, 103955.48680670292, 103994.04503573243, 104030.71452812866, 104065.58699827467, 104098.74978487696]}, {\"line\": {\"color\": \"#58ACFA\", \"dash\": \"dash\", \"width\": 3}, \"mode\": \"lines\", \"name\": \"Susceptible - Model\", \"type\": \"scatter\", \"x\": [\"2020-03-18\", \"2020-03-19\", \"2020-03-20\", \"2020-03-21\", \"2020-03-22\", \"2020-03-23\", \"2020-03-24\", \"2020-03-25\", \"2020-03-26\", \"2020-03-27\", \"2020-03-28\", \"2020-03-29\", \"2020-03-30\", \"2020-03-31\", \"2020-04-01\", \"2020-04-02\", \"2020-04-03\", \"2020-04-04\", \"2020-04-05\", \"2020-04-06\", \"2020-04-07\", \"2020-04-08\", \"2020-04-09\", \"2020-04-10\", \"2020-04-11\", \"2020-04-12\", \"2020-04-13\", \"2020-04-14\", \"2020-04-15\", \"2020-04-16\", \"2020-04-17\", \"2020-04-18\", \"2020-04-19\", \"2020-04-20\", \"2020-04-21\", \"2020-04-22\", \"2020-04-23\", \"2020-04-24\", \"2020-04-25\", \"2020-04-26\", \"2020-04-27\", \"2020-04-28\", \"2020-04-29\", \"2020-04-30\", \"2020-05-01\", \"2020-05-02\", \"2020-05-03\", \"2020-05-04\", \"2020-05-05\", \"2020-05-06\", \"2020-05-07\", \"2020-05-08\", \"2020-05-09\", \"2020-05-10\", \"2020-05-11\", \"2020-05-12\", \"2020-05-13\", \"2020-05-14\", \"2020-05-15\", \"2020-05-16\", \"2020-05-17\", \"2020-05-18\", \"2020-05-19\", \"2020-05-20\", \"2020-05-21\", \"2020-05-22\", \"2020-05-23\", \"2020-05-24\", \"2020-05-25\", \"2020-05-26\", \"2020-05-27\", \"2020-05-28\", \"2020-05-29\", \"2020-05-30\", \"2020-05-31\", \"2020-06-01\", \"2020-06-02\", \"2020-06-03\", \"2020-06-04\", \"2020-06-05\", \"2020-06-06\", \"2020-06-07\", \"2020-06-08\", \"2020-06-09\", \"2020-06-10\", \"2020-06-11\", \"2020-06-12\", \"2020-06-13\", \"2020-06-14\", \"2020-06-15\", \"2020-06-16\", \"2020-06-17\", \"2020-06-18\", \"2020-06-19\", \"2020-06-20\", \"2020-06-21\", \"2020-06-22\", \"2020-06-23\", \"2020-06-24\", \"2020-06-25\", \"2020-06-26\", \"2020-06-27\", \"2020-06-28\", \"2020-06-29\", \"2020-06-30\", \"2020-07-01\", \"2020-07-02\", \"2020-07-03\", \"2020-07-04\", \"2020-07-05\", \"2020-07-06\", \"2020-07-07\", \"2020-07-08\", \"2020-07-09\", \"2020-07-10\", \"2020-07-11\", \"2020-07-12\", \"2020-07-13\", \"2020-07-14\", \"2020-07-15\", \"2020-07-16\", \"2020-07-17\", \"2020-07-18\", \"2020-07-19\", \"2020-07-20\", \"2020-07-21\", \"2020-07-22\", \"2020-07-23\", \"2020-07-24\", \"2020-07-25\", \"2020-07-26\", \"2020-07-27\", \"2020-07-28\", \"2020-07-29\", \"2020-07-30\", \"2020-07-31\", \"2020-08-01\", \"2020-08-02\", \"2020-08-03\", \"2020-08-04\", \"2020-08-05\", \"2020-08-06\", \"2020-08-07\", \"2020-08-08\", \"2020-08-09\", \"2020-08-10\", \"2020-08-11\", \"2020-08-12\", \"2020-08-13\", \"2020-08-14\", \"2020-08-15\", \"2020-08-16\", \"2020-08-17\", \"2020-08-18\", \"2020-08-19\", \"2020-08-20\", \"2020-08-21\", \"2020-08-22\", \"2020-08-23\", \"2020-08-24\", \"2020-08-25\", \"2020-08-26\", \"2020-08-27\", \"2020-08-28\", \"2020-08-29\", \"2020-08-30\", \"2020-08-31\", \"2020-09-01\", \"2020-09-02\", \"2020-09-03\", \"2020-09-04\", \"2020-09-05\", \"2020-09-06\", \"2020-09-07\", \"2020-09-08\", \"2020-09-09\", \"2020-09-10\", \"2020-09-11\", \"2020-09-12\", \"2020-09-13\", \"2020-09-14\", \"2020-09-15\", \"2020-09-16\", \"2020-09-17\", \"2020-09-18\", \"2020-09-19\", \"2020-09-20\", \"2020-09-21\", \"2020-09-22\", \"2020-09-23\", \"2020-09-24\", \"2020-09-25\", \"2020-09-26\", \"2020-09-27\", \"2020-09-28\", \"2020-09-29\", \"2020-09-30\", \"2020-10-01\", \"2020-10-02\", \"2020-10-03\", \"2020-10-04\", \"2020-10-05\", \"2020-10-06\", \"2020-10-07\", \"2020-10-08\", \"2020-10-09\", \"2020-10-10\", \"2020-10-11\", \"2020-10-12\", \"2020-10-13\", \"2020-10-14\", \"2020-10-15\", \"2020-10-16\", \"2020-10-17\", \"2020-10-18\", \"2020-10-19\", \"2020-10-20\", \"2020-10-21\", \"2020-10-22\", \"2020-10-23\", \"2020-10-24\", \"2020-10-25\", \"2020-10-26\", \"2020-10-27\", \"2020-10-28\", \"2020-10-29\", \"2020-10-30\", \"2020-10-31\", \"2020-11-01\", \"2020-11-02\", \"2020-11-03\", \"2020-11-04\", \"2020-11-05\", \"2020-11-06\", \"2020-11-07\", \"2020-11-08\", \"2020-11-09\", \"2020-11-10\", \"2020-11-11\", \"2020-11-12\", \"2020-11-13\", \"2020-11-14\", \"2020-11-15\", \"2020-11-16\", \"2020-11-17\", \"2020-11-18\", \"2020-11-19\", \"2020-11-20\", \"2020-11-21\", \"2020-11-22\"], \"y\": [149999.0, 149998.8126638377, 149998.61068530052, 149998.39291998802, 149998.1581341378, 149997.9049974783, 149997.63207584422, 149997.33782299721, 149997.02057182422, 149996.67852508268, 149996.3097450657, 149995.91214250604, 149995.48346509234, 149995.02128448483, 149994.52298263772, 149993.9857369875, 149993.40650449417, 149992.7820044167, 149992.10869975958, 149991.3827772505, 149990.6001259352, 149989.75631371437, 149988.84656240954, 149987.86572078915, 149986.8082354059, 149985.66811933505, 149984.43891830827, 149983.1136742933, 149981.68488624666, 149980.14446782225, 149978.4837017555, 149976.69319078617, 149974.76280465908, 149972.68162315994, 149970.4378745616, 149968.01886964173, 149965.41093002722, 149962.59931168822, 149959.56812188262, 149956.3002302834, 149952.7771727288, 149948.97904802256, 149944.88440646397, 149940.47013001138, 149935.71130327234, 149930.58107441332, 149925.0505059023, 149919.0884131442, 149912.66119187482, 149905.73263114446, 149898.26371370748, 149890.2123995741, 149881.53339518438, 149872.17790323784, 149862.09335585873, 149851.2231258512, 149839.5062184232, 149826.8769383592, 149813.26453420668, 149798.5928157388, 149782.77974261306, 149765.73698486647, 149747.36945138575, 149727.5747837296, 149706.24281519916, 149683.25499130378, 149658.48374972833, 149631.79185820793, 149603.0317063413, 149572.0445506797, 149538.65970883975, 149502.69370138488, 149463.94933821264, 149422.21474689562, 149377.26234217358, 149328.84773067667, 149276.70855412792, 149220.5632634235, 149160.10982646322, 149095.02436773482, 149024.95973469352, 148949.54400172026, 148868.3788964064, 148781.03816827107, 148687.06588736564, 148585.97468293685, 148477.24393823068, 148360.3179276325, 148234.60392110812, 148099.4702648787, 147954.24446030974, 147798.21123983501, 147630.61068453555, 147450.63639011778, 147257.4337277245, 147050.09821767698, 146827.67408005474, 146589.1529780216, 146333.47303621515, 146059.51816849265, 145766.11780614915, 145452.04707104052, 145116.02750331655, 144756.72840381318, 144372.76890637752, 143962.72086322613, 143525.11265654638, 143058.43404066918, 142561.14211021937, 142031.66852944903, 141468.42807017025, 140869.82862683368, 140234.282676381, 139560.22038538396, 138846.10421027915, 138090.44522320016, 137291.82084631725, 136448.8942406162, 135560.43483919796, 134625.3402529147, 133642.65884123743, 132611.61310437738, 131531.62303456388, 130402.32943222189, 129223.6162747347, 127995.6318947256, 126718.8081787996, 125393.87719163048, 124021.88478585835, 122604.20017450814, 121142.52160794742, 119638.87669986668, 118095.61828812971, 116515.41405849167, 114901.23156645235, 113256.31683316756, 111584.16868619343, 109888.50736511988, 108173.23966751451, 106442.4199467064, 104700.20878701507, 102950.8298208007, 101198.52555559883, 99447.51395306377, 97701.94539772382, 95965.86286458324, 94243.1637751186, 92537.56688837976, 90852.58199246494, 89191.48557287033, 87557.30011662099, 85952.77939130289, 84380.39784324191, 82842.34519565686, 81340.52524970884, 79876.5586433212, 78451.78949821515, 77067.29464366463, 75723.89607783145, 74422.17474552977, 73162.48668309688, 71944.97948758998, 70769.61020547438, 69636.16286178937, 68544.26651864934, 67493.41256532323, 66482.97180345397, 65512.210563376204, 64580.30608713374, 63686.3608826016, 62829.41602799774, 62008.4634471175, 61222.45704551745, 60470.32283986005, 59750.96798028835, 59063.288833650055, 58406.178066062814, 57778.53087444261, 57179.250374067735, 56607.25222254473, 56061.46856199592, 55540.85130116195, 55044.374855404996, 54571.038351765856, 54119.86739797134, 53689.91542459905, 53280.26469158184, 52890.02697614086, 52518.344001320795, 52164.387597215624, 51827.359707805415, 51506.49219963544, 51201.04653342646, 50910.313319931134, 50633.611776907666, 50370.28909559795, 50119.71976435976, 49881.304818284996, 49654.471068258215, 49438.67030133361, 49233.378448127376, 49038.094767442264, 48852.34099567933, 48675.66052568469, 48507.617576345445, 48347.79637442991, 48195.80036161956, 48051.251398228385, 47913.78900693736, 47783.06961894238, 47658.76585146492, 47540.56580582788, 47428.172382747514, 47321.302630868915, 47219.68710741193, 47123.06927254298, 47031.204897746036, 46943.86149748496, 46860.81779969316, 46781.86321647743, 46706.797344130035, 46635.42949370263, 46567.57822708349, 46503.07092015024, 46441.743350688776, 46383.43929287615, 46328.01013702729, 46275.314527945346, 46225.21801350154, 46177.592714174694, 46132.317008084196, 46089.27522663396, 46048.35736779335, 46009.45882197921, 45972.48010956966, 45937.32663266528, 45903.90843778929, 45872.139989228184, 45841.93995418836, 45813.23099770424, 45785.93958730826, 45759.99580746118, 45735.333182677445, 45711.88850913856, 45689.6016943439, 45668.41560473812, 45648.27592079337, 45629.13099900854, 45610.9317405494, 45593.63146611143]}, {\"marker\": {\"color\": \"#38006b\", \"size\": 6}, \"mode\": \"markers\", \"name\": \"Active Cases - Data\", \"type\": \"scatter\", \"x\": [\"2020-03-18\", \"2020-03-19\", \"2020-03-20\", \"2020-03-21\", \"2020-03-22\", \"2020-03-23\", \"2020-03-24\", \"2020-03-25\", \"2020-03-26\", \"2020-03-27\", \"2020-03-28\", \"2020-03-29\", \"2020-03-30\", \"2020-03-31\", \"2020-04-01\", \"2020-04-02\", \"2020-04-03\", \"2020-04-04\", \"2020-04-05\", \"2020-04-06\", \"2020-04-07\", \"2020-04-08\", \"2020-04-09\", \"2020-04-10\", \"2020-04-11\", \"2020-04-12\", \"2020-04-13\", \"2020-04-14\", \"2020-04-15\", \"2020-04-16\", \"2020-04-17\", \"2020-04-18\", \"2020-04-19\", \"2020-04-20\", \"2020-04-21\", \"2020-04-22\", \"2020-04-23\", \"2020-04-24\", \"2020-04-25\", \"2020-04-26\", \"2020-04-27\", \"2020-04-28\", \"2020-04-29\", \"2020-04-30\", \"2020-05-01\", \"2020-05-02\", \"2020-05-03\", \"2020-05-04\", \"2020-05-05\", \"2020-05-06\", \"2020-05-07\", \"2020-05-08\", \"2020-05-09\", \"2020-05-10\", \"2020-05-11\", \"2020-05-12\", \"2020-05-13\", \"2020-05-14\", \"2020-05-15\", \"2020-05-16\", \"2020-05-17\", \"2020-05-18\", \"2020-05-19\", \"2020-05-20\", \"2020-05-21\", \"2020-05-22\", \"2020-05-23\", \"2020-05-24\", \"2020-05-25\", \"2020-05-26\", \"2020-05-27\", \"2020-05-28\", \"2020-05-29\", \"2020-05-30\", \"2020-05-31\", \"2020-06-01\", \"2020-06-02\", \"2020-06-03\", \"2020-06-04\", \"2020-06-05\", \"2020-06-06\", \"2020-06-07\", \"2020-06-08\", \"2020-06-09\", \"2020-06-10\", \"2020-06-11\", \"2020-06-12\", \"2020-06-13\", \"2020-06-14\", \"2020-06-15\", \"2020-06-16\", \"2020-06-17\", \"2020-06-18\", \"2020-06-19\", \"2020-06-20\", \"2020-06-21\", \"2020-06-22\", \"2020-06-23\", \"2020-06-24\", \"2020-06-25\", \"2020-06-26\", \"2020-06-27\", \"2020-06-28\", \"2020-06-29\", \"2020-06-30\", \"2020-07-01\", \"2020-07-02\", \"2020-07-03\", \"2020-07-04\", \"2020-07-05\", \"2020-07-06\", \"2020-07-07\", \"2020-07-08\", \"2020-07-09\", \"2020-07-10\", \"2020-07-11\", \"2020-07-12\", \"2020-07-13\", \"2020-07-14\", \"2020-07-15\", \"2020-07-16\", \"2020-07-17\", \"2020-07-18\", \"2020-07-19\", \"2020-07-20\", \"2020-07-21\", \"2020-07-22\", \"2020-07-23\", \"2020-07-24\", \"2020-07-25\", \"2020-07-26\", \"2020-07-27\", \"2020-07-28\", \"2020-07-29\", \"2020-07-30\", \"2020-07-31\", \"2020-08-01\", \"2020-08-02\", \"2020-08-03\", \"2020-08-04\", \"2020-08-05\", \"2020-08-06\", \"2020-08-07\", \"2020-08-08\", \"2020-08-09\", \"2020-08-10\", \"2020-08-11\", \"2020-08-12\", \"2020-08-13\", \"2020-08-14\", \"2020-08-15\", \"2020-08-16\", \"2020-08-17\", \"2020-08-18\", \"2020-08-19\", \"2020-08-20\", \"2020-08-21\", \"2020-08-22\", \"2020-08-23\", \"2020-08-24\", \"2020-08-25\", \"2020-08-26\", \"2020-08-27\", \"2020-08-28\", \"2020-08-29\", \"2020-08-30\", \"2020-08-31\", \"2020-09-01\", \"2020-09-02\", \"2020-09-03\", \"2020-09-04\", \"2020-09-05\", \"2020-09-06\", \"2020-09-07\", \"2020-09-08\", \"2020-09-09\", \"2020-09-10\", \"2020-09-11\", \"2020-09-12\", \"2020-09-13\", \"2020-09-14\", \"2020-09-15\", \"2020-09-16\", \"2020-09-17\", \"2020-09-18\", \"2020-09-19\", \"2020-09-20\", \"2020-09-21\", \"2020-09-22\", \"2020-09-23\", \"2020-09-24\", \"2020-09-25\", \"2020-09-26\", \"2020-09-27\", \"2020-09-28\", \"2020-09-29\", \"2020-09-30\", \"2020-10-01\", \"2020-10-02\", \"2020-10-03\", \"2020-10-04\", \"2020-10-05\", \"2020-10-06\", \"2020-10-07\", \"2020-10-08\", \"2020-10-09\", \"2020-10-10\", \"2020-10-11\", \"2020-10-12\", \"2020-10-13\", \"2020-10-14\", \"2020-10-15\", \"2020-10-16\", \"2020-10-17\", \"2020-10-18\", \"2020-10-19\", \"2020-10-20\", \"2020-10-21\", \"2020-10-22\", \"2020-10-23\", \"2020-10-24\", \"2020-10-25\", \"2020-10-26\", \"2020-10-27\", \"2020-10-28\", \"2020-10-29\", \"2020-10-30\", \"2020-10-31\", \"2020-11-01\", \"2020-11-02\", \"2020-11-03\", \"2020-11-04\", \"2020-11-05\", \"2020-11-06\", \"2020-11-07\", \"2020-11-08\", \"2020-11-09\", \"2020-11-10\", \"2020-11-11\", \"2020-11-12\", \"2020-11-13\", \"2020-11-14\", \"2020-11-15\", \"2020-11-16\", \"2020-11-17\", \"2020-11-18\", \"2020-11-19\", \"2020-11-20\", \"2020-11-21\", \"2020-11-22\"], \"y\": [1.0, 1.0, 1.0, 2.0, 5.0, 7.0, 7.0, 7.0, 8.0, 9.0, 9.0, 10.0, 11.0, 12.0, 12.0, 12.0, 13.0, 16.0, 17.0, 19.0, 19.0, 23.0, 23.0, 23.0, 25.0, 26.0, 26.0, 27.0, 29.0, 31.0, 32.0, 33.0, 34.0, 34.0, 34.0, 34.0, 40.0, 46.0, 54.0, 63.0, 74.0, 111.0, 123.0, 148.0, 172.0, 227.0, 246.0, 276.0, 319.0, 383.0, 434.0, 508.0, 623.0, 682.0, 732.0, 809.0, 887.0, 1037.0, 1100.0, 1175.0, 1269.0, 1389.0, 1521.0, 1626.0, 1796.0, 1964.0, 1964.0, 2052.0, 2052.0, 2005.0, 2365.0, 2365.0, 2394.0, 2747.0, 2942.0, 3111.0, 3249.0, 3464.0, 3366.0, 3584.0, 3723.0, 3179.0, 3430.0, 3283.0, 3555.0, 3346.0, 3400.0, 3299.0, 3369.0, 3424.0, 3359.0, 3560.0, 3742.0, 3232.0, 3316.0, 3439.0, 3728.0, 3562.0, 3767.0, 4023.0, 4180.0, 4137.0, 4268.0, 4673.0, 4318.0, 4348.0, 4522.0, 4970.0, 4965.0, 4940.0, 5166.0, 5351.0, 5340.0, 6004.0, 6036.0, 6036.0, 6072.0, 6316.0, 6220.0, 6861.0, 6652.0, 6907.0, 7239.0, 6538.0, 6844.0, 7101.0, 7464.0, 7772.0, 8727.0, 8698.0]}, {\"marker\": {\"color\": \"#005005\", \"size\": 6}, \"mode\": \"markers\", \"name\": \"Recovered - Data\", \"type\": \"scatter\", \"x\": [\"2020-03-18\", \"2020-03-19\", \"2020-03-20\", \"2020-03-21\", \"2020-03-22\", \"2020-03-23\", \"2020-03-24\", \"2020-03-25\", \"2020-03-26\", \"2020-03-27\", \"2020-03-28\", \"2020-03-29\", \"2020-03-30\", \"2020-03-31\", \"2020-04-01\", \"2020-04-02\", \"2020-04-03\", \"2020-04-04\", \"2020-04-05\", \"2020-04-06\", \"2020-04-07\", \"2020-04-08\", \"2020-04-09\", \"2020-04-10\", \"2020-04-11\", \"2020-04-12\", \"2020-04-13\", \"2020-04-14\", \"2020-04-15\", \"2020-04-16\", \"2020-04-17\", \"2020-04-18\", \"2020-04-19\", \"2020-04-20\", \"2020-04-21\", \"2020-04-22\", \"2020-04-23\", \"2020-04-24\", \"2020-04-25\", \"2020-04-26\", \"2020-04-27\", \"2020-04-28\", \"2020-04-29\", \"2020-04-30\", \"2020-05-01\", \"2020-05-02\", \"2020-05-03\", \"2020-05-04\", \"2020-05-05\", \"2020-05-06\", \"2020-05-07\", \"2020-05-08\", \"2020-05-09\", \"2020-05-10\", \"2020-05-11\", \"2020-05-12\", \"2020-05-13\", \"2020-05-14\", \"2020-05-15\", \"2020-05-16\", \"2020-05-17\", \"2020-05-18\", \"2020-05-19\", \"2020-05-20\", \"2020-05-21\", \"2020-05-22\", \"2020-05-23\", \"2020-05-24\", \"2020-05-25\", \"2020-05-26\", \"2020-05-27\", \"2020-05-28\", \"2020-05-29\", \"2020-05-30\", \"2020-05-31\", \"2020-06-01\", \"2020-06-02\", \"2020-06-03\", \"2020-06-04\", \"2020-06-05\", \"2020-06-06\", \"2020-06-07\", \"2020-06-08\", \"2020-06-09\", \"2020-06-10\", \"2020-06-11\", \"2020-06-12\", \"2020-06-13\", \"2020-06-14\", \"2020-06-15\", \"2020-06-16\", \"2020-06-17\", \"2020-06-18\", \"2020-06-19\", \"2020-06-20\", \"2020-06-21\", \"2020-06-22\", \"2020-06-23\", \"2020-06-24\", \"2020-06-25\", \"2020-06-26\", \"2020-06-27\", \"2020-06-28\", \"2020-06-29\", \"2020-06-30\", \"2020-07-01\", \"2020-07-02\", \"2020-07-03\", \"2020-07-04\", \"2020-07-05\", \"2020-07-06\", \"2020-07-07\", \"2020-07-08\", \"2020-07-09\", \"2020-07-10\", \"2020-07-11\", \"2020-07-12\", \"2020-07-13\", \"2020-07-14\", \"2020-07-15\", \"2020-07-16\", \"2020-07-17\", \"2020-07-18\", \"2020-07-19\", \"2020-07-20\", \"2020-07-21\", \"2020-07-22\", \"2020-07-23\", \"2020-07-24\", \"2020-07-25\", \"2020-07-26\", \"2020-07-27\", \"2020-07-28\", \"2020-07-29\", \"2020-07-30\", \"2020-07-31\", \"2020-08-01\", \"2020-08-02\", \"2020-08-03\", \"2020-08-04\", \"2020-08-05\", \"2020-08-06\", \"2020-08-07\", \"2020-08-08\", \"2020-08-09\", \"2020-08-10\", \"2020-08-11\", \"2020-08-12\", \"2020-08-13\", \"2020-08-14\", \"2020-08-15\", \"2020-08-16\", \"2020-08-17\", \"2020-08-18\", \"2020-08-19\", \"2020-08-20\", \"2020-08-21\", \"2020-08-22\", \"2020-08-23\", \"2020-08-24\", \"2020-08-25\", \"2020-08-26\", \"2020-08-27\", \"2020-08-28\", \"2020-08-29\", \"2020-08-30\", \"2020-08-31\", \"2020-09-01\", \"2020-09-02\", \"2020-09-03\", \"2020-09-04\", \"2020-09-05\", \"2020-09-06\", \"2020-09-07\", \"2020-09-08\", \"2020-09-09\", \"2020-09-10\", \"2020-09-11\", \"2020-09-12\", \"2020-09-13\", \"2020-09-14\", \"2020-09-15\", \"2020-09-16\", \"2020-09-17\", \"2020-09-18\", \"2020-09-19\", \"2020-09-20\", \"2020-09-21\", \"2020-09-22\", \"2020-09-23\", \"2020-09-24\", \"2020-09-25\", \"2020-09-26\", \"2020-09-27\", \"2020-09-28\", \"2020-09-29\", \"2020-09-30\", \"2020-10-01\", \"2020-10-02\", \"2020-10-03\", \"2020-10-04\", \"2020-10-05\", \"2020-10-06\", \"2020-10-07\", \"2020-10-08\", \"2020-10-09\", \"2020-10-10\", \"2020-10-11\", \"2020-10-12\", \"2020-10-13\", \"2020-10-14\", \"2020-10-15\", \"2020-10-16\", \"2020-10-17\", \"2020-10-18\", \"2020-10-19\", \"2020-10-20\", \"2020-10-21\", \"2020-10-22\", \"2020-10-23\", \"2020-10-24\", \"2020-10-25\", \"2020-10-26\", \"2020-10-27\", \"2020-10-28\", \"2020-10-29\", \"2020-10-30\", \"2020-10-31\", \"2020-11-01\", \"2020-11-02\", \"2020-11-03\", \"2020-11-04\", \"2020-11-05\", \"2020-11-06\", \"2020-11-07\", \"2020-11-08\", \"2020-11-09\", \"2020-11-10\", \"2020-11-11\", \"2020-11-12\", \"2020-11-13\", \"2020-11-14\", \"2020-11-15\", \"2020-11-16\", \"2020-11-17\", \"2020-11-18\", \"2020-11-19\", \"2020-11-20\", \"2020-11-21\", \"2020-11-22\"], \"y\": [0.0, 0.0, 0.0, 0.0, 0.0, 0.0, 0.0, 0.0, 0.0, 0.0, 0.0, 0.0, 0.0, 0.0, 0.0, 0.0, 0.0, 0.0, 0.0, 0.0, 0.0, 0.0, 0.0, 0.0, 0.0, 0.0, 0.0, 0.0, 0.0, 0.0, 12.0, 12.0, 12.0, 13.0, 15.0, 15.0, 15.0, 16.0, 16.0, 16.0, 17.0, 17.0, 26.0, 28.0, 31.0, 31.0, 33.0, 39.0, 44.0, 52.0, 72.0, 77.0, 77.0, 77.0, 108.0, 135.0, 154.0, 154.0, 191.0, 219.0, 239.0, 269.0, 300.0, 362.0, 421.0, 478.0, 478.0, 656.0, 656.0, 865.0, 924.0, 924.0, 1229.0, 1246.0, 1246.0, 1246.0, 1246.0, 1246.0, 1828.0, 1933.0, 1933.0, 2477.0, 2634.0, 2986.0, 2986.0, 3410.0, 3543.0, 3685.0, 3780.0, 3897.0, 4226.0, 4226.0, 4226.0, 4983.0, 5050.0, 5050.0, 5050.0, 5548.0, 5670.0, 5670.0, 5798.0, 6103.0, 6103.0, 6103.0, 6916.0, 7118.0, 7226.0, 7324.0, 7523.0, 7712.0, 7850.0, 8101.0, 8517.0, 8517.0, 8915.0, 9108.0, 9247.0, 9419.0, 9823.0, 9823.0, 10314.0, 10314.0, 10546.0, 11372.0, 11522.0, 11761.0, 11971.0, 12205.0, 12205.0, 13081.0]}, {\"marker\": {\"color\": \"#0080FF\", \"size\": 6}, \"mode\": \"markers\", \"name\": \"Susceptible - Data\", \"type\": \"scatter\", \"x\": [\"2020-03-18\", \"2020-03-19\", \"2020-03-20\", \"2020-03-21\", \"2020-03-22\", \"2020-03-23\", \"2020-03-24\", \"2020-03-25\", \"2020-03-26\", \"2020-03-27\", \"2020-03-28\", \"2020-03-29\", \"2020-03-30\", \"2020-03-31\", \"2020-04-01\", \"2020-04-02\", \"2020-04-03\", \"2020-04-04\", \"2020-04-05\", \"2020-04-06\", \"2020-04-07\", \"2020-04-08\", \"2020-04-09\", \"2020-04-10\", \"2020-04-11\", \"2020-04-12\", \"2020-04-13\", \"2020-04-14\", \"2020-04-15\", \"2020-04-16\", \"2020-04-17\", \"2020-04-18\", \"2020-04-19\", \"2020-04-20\", \"2020-04-21\", \"2020-04-22\", \"2020-04-23\", \"2020-04-24\", \"2020-04-25\", \"2020-04-26\", \"2020-04-27\", \"2020-04-28\", \"2020-04-29\", \"2020-04-30\", \"2020-05-01\", \"2020-05-02\", \"2020-05-03\", \"2020-05-04\", \"2020-05-05\", \"2020-05-06\", \"2020-05-07\", \"2020-05-08\", \"2020-05-09\", \"2020-05-10\", \"2020-05-11\", \"2020-05-12\", \"2020-05-13\", \"2020-05-14\", \"2020-05-15\", \"2020-05-16\", \"2020-05-17\", \"2020-05-18\", \"2020-05-19\", \"2020-05-20\", \"2020-05-21\", \"2020-05-22\", \"2020-05-23\", \"2020-05-24\", \"2020-05-25\", \"2020-05-26\", \"2020-05-27\", \"2020-05-28\", \"2020-05-29\", \"2020-05-30\", \"2020-05-31\", \"2020-06-01\", \"2020-06-02\", \"2020-06-03\", \"2020-06-04\", \"2020-06-05\", \"2020-06-06\", \"2020-06-07\", \"2020-06-08\", \"2020-06-09\", \"2020-06-10\", \"2020-06-11\", \"2020-06-12\", \"2020-06-13\", \"2020-06-14\", \"2020-06-15\", \"2020-06-16\", \"2020-06-17\", \"2020-06-18\", \"2020-06-19\", \"2020-06-20\", \"2020-06-21\", \"2020-06-22\", \"2020-06-23\", \"2020-06-24\", \"2020-06-25\", \"2020-06-26\", \"2020-06-27\", \"2020-06-28\", \"2020-06-29\", \"2020-06-30\", \"2020-07-01\", \"2020-07-02\", \"2020-07-03\", \"2020-07-04\", \"2020-07-05\", \"2020-07-06\", \"2020-07-07\", \"2020-07-08\", \"2020-07-09\", \"2020-07-10\", \"2020-07-11\", \"2020-07-12\", \"2020-07-13\", \"2020-07-14\", \"2020-07-15\", \"2020-07-16\", \"2020-07-17\", \"2020-07-18\", \"2020-07-19\", \"2020-07-20\", \"2020-07-21\", \"2020-07-22\", \"2020-07-23\", \"2020-07-24\", \"2020-07-25\", \"2020-07-26\", \"2020-07-27\", \"2020-07-28\", \"2020-07-29\", \"2020-07-30\", \"2020-07-31\", \"2020-08-01\", \"2020-08-02\", \"2020-08-03\", \"2020-08-04\", \"2020-08-05\", \"2020-08-06\", \"2020-08-07\", \"2020-08-08\", \"2020-08-09\", \"2020-08-10\", \"2020-08-11\", \"2020-08-12\", \"2020-08-13\", \"2020-08-14\", \"2020-08-15\", \"2020-08-16\", \"2020-08-17\", \"2020-08-18\", \"2020-08-19\", \"2020-08-20\", \"2020-08-21\", \"2020-08-22\", \"2020-08-23\", \"2020-08-24\", \"2020-08-25\", \"2020-08-26\", \"2020-08-27\", \"2020-08-28\", \"2020-08-29\", \"2020-08-30\", \"2020-08-31\", \"2020-09-01\", \"2020-09-02\", \"2020-09-03\", \"2020-09-04\", \"2020-09-05\", \"2020-09-06\", \"2020-09-07\", \"2020-09-08\", \"2020-09-09\", \"2020-09-10\", \"2020-09-11\", \"2020-09-12\", \"2020-09-13\", \"2020-09-14\", \"2020-09-15\", \"2020-09-16\", \"2020-09-17\", \"2020-09-18\", \"2020-09-19\", \"2020-09-20\", \"2020-09-21\", \"2020-09-22\", \"2020-09-23\", \"2020-09-24\", \"2020-09-25\", \"2020-09-26\", \"2020-09-27\", \"2020-09-28\", \"2020-09-29\", \"2020-09-30\", \"2020-10-01\", \"2020-10-02\", \"2020-10-03\", \"2020-10-04\", \"2020-10-05\", \"2020-10-06\", \"2020-10-07\", \"2020-10-08\", \"2020-10-09\", \"2020-10-10\", \"2020-10-11\", \"2020-10-12\", \"2020-10-13\", \"2020-10-14\", \"2020-10-15\", \"2020-10-16\", \"2020-10-17\", \"2020-10-18\", \"2020-10-19\", \"2020-10-20\", \"2020-10-21\", \"2020-10-22\", \"2020-10-23\", \"2020-10-24\", \"2020-10-25\", \"2020-10-26\", \"2020-10-27\", \"2020-10-28\", \"2020-10-29\", \"2020-10-30\", \"2020-10-31\", \"2020-11-01\", \"2020-11-02\", \"2020-11-03\", \"2020-11-04\", \"2020-11-05\", \"2020-11-06\", \"2020-11-07\", \"2020-11-08\", \"2020-11-09\", \"2020-11-10\", \"2020-11-11\", \"2020-11-12\", \"2020-11-13\", \"2020-11-14\", \"2020-11-15\", \"2020-11-16\", \"2020-11-17\", \"2020-11-18\", \"2020-11-19\", \"2020-11-20\", \"2020-11-21\", \"2020-11-22\"], \"y\": [149999.0, 149999.0, 149999.0, 149998.0, 149995.0, 149993.0, 149993.0, 149993.0, 149992.0, 149991.0, 149991.0, 149990.0, 149989.0, 149988.0, 149988.0, 149988.0, 149987.0, 149984.0, 149983.0, 149981.0, 149981.0, 149977.0, 149977.0, 149977.0, 149975.0, 149974.0, 149974.0, 149973.0, 149971.0, 149969.0, 149956.0, 149955.0, 149954.0, 149953.0, 149951.0, 149951.0, 149945.0, 149938.0, 149930.0, 149921.0, 149909.0, 149872.0, 149851.0, 149824.0, 149797.0, 149742.0, 149721.0, 149685.0, 149637.0, 149565.0, 149494.0, 149415.0, 149300.0, 149241.0, 149160.0, 149056.0, 148959.0, 148809.0, 148709.0, 148606.0, 148492.0, 148342.0, 148179.0, 148012.0, 147783.0, 147558.0, 147558.0, 147292.0, 147292.0, 147130.0, 146711.0, 146711.0, 146377.0, 146007.0, 145812.0, 145643.0, 145505.0, 145290.0, 144806.0, 144483.0, 144344.0, 144344.0, 143936.0, 143731.0, 143459.0, 143244.0, 143057.0, 143016.0, 142851.0, 142679.0, 142415.0, 142214.0, 142032.0, 141785.0, 141634.0, 141511.0, 141222.0, 140890.0, 140563.0, 140307.0, 140022.0, 139760.0, 139629.0, 139224.0, 138766.0, 138534.0, 138252.0, 137706.0, 137512.0, 137348.0, 136984.0, 136548.0, 136143.0, 135479.0, 135049.0, 134856.0, 134681.0, 134265.0, 133957.0, 133316.0, 133034.0, 132779.0, 132215.0, 132090.0, 131634.0, 131138.0, 130565.0, 130023.0, 129068.0, 128221.0]}],\n",
              "                        {\"legend\": {\"orientation\": \"h\", \"x\": 0.95, \"xanchor\": \"right\", \"y\": 1.01, \"yanchor\": \"bottom\"}, \"template\": {\"data\": {\"pie\": [{\"automargin\": true, \"type\": \"pie\"}]}, \"layout\": {\"xaxis\": {\"showgrid\": false, \"title\": {\"standoff\": 15}}, \"yaxis\": {\"title\": {\"standoff\": 15}}}}, \"title\": {\"text\": \"SIR Model\"}, \"xaxis\": {\"showgrid\": false, \"title\": {\"text\": \"Days\"}}, \"yaxis\": {\"title\": {\"text\": \"Individuals\"}}},\n",
              "                        {\"responsive\": true}\n",
              "                    ).then(function(){\n",
              "                            \n",
              "var gd = document.getElementById('e1d0d3c4-dcc2-48b3-9cfd-f40ae6d49249');\n",
              "var x = new MutationObserver(function (mutations, observer) {{\n",
              "        var display = window.getComputedStyle(gd).display;\n",
              "        if (!display || display === 'none') {{\n",
              "            console.log([gd, 'removed!']);\n",
              "            Plotly.purge(gd);\n",
              "            observer.disconnect();\n",
              "        }}\n",
              "}});\n",
              "\n",
              "// Listen for the removal of the full notebook cells\n",
              "var notebookContainer = gd.closest('#notebook-container');\n",
              "if (notebookContainer) {{\n",
              "    x.observe(notebookContainer, {childList: true});\n",
              "}}\n",
              "\n",
              "// Listen for the clearing of the current output cell\n",
              "var outputEl = gd.closest('.output');\n",
              "if (outputEl) {{\n",
              "    x.observe(outputEl, {childList: true});\n",
              "}}\n",
              "\n",
              "                        })\n",
              "                };\n",
              "                \n",
              "            </script>\n",
              "        </div>\n",
              "</body>\n",
              "</html>"
            ]
          },
          "metadata": {
            "tags": []
          }
        }
      ]
    }
  ]
}