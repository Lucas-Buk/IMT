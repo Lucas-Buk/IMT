{
  "nbformat": 4,
  "nbformat_minor": 0,
  "metadata": {
    "colab": {
      "name": "Tratamento.ipynb",
      "provenance": [],
      "collapsed_sections": [
        "oyIb2QifkUZS",
        "U_9GSUcGowQ7",
        "PAG4ul1wkRW2",
        "awEU2t0WmvYm",
        "UBzOuw7aorcX",
        "1iBt-vIDJsMQ",
        "1reHTDe6OR8g",
        "zU3CewjDOiUY",
        "SUDJtzItpsXo",
        "yxtKyQmLp6pL",
        "Hr6-zODlOxE-",
        "4NziHuukWQ4U",
        "kXATWDn_8AUU",
        "lfqvYn_lWULy",
        "-CWTijrd8KY-",
        "XFjFTBmnWXI9",
        "ohe9g9F08Nwm",
        "DZK1CcByahQp",
        "4HobNQlsUPip",
        "zzgpC4w_DFj7"
      ],
      "mount_file_id": "1xXTKEbiCmxcvDWXsA-8eQtV3m3T2OpUq",
      "authorship_tag": "ABX9TyM7dFxjTDxlpDZmrKhgKKXc",
      "include_colab_link": true
    },
    "kernelspec": {
      "name": "python3",
      "display_name": "Python 3"
    }
  },
  "cells": [
    {
      "cell_type": "markdown",
      "metadata": {
        "id": "view-in-github",
        "colab_type": "text"
      },
      "source": [
        "<a href=\"https://colab.research.google.com/github/Lucas-Buk/IMT/blob/main/Tratamento.ipynb\" target=\"_parent\"><img src=\"https://colab.research.google.com/assets/colab-badge.svg\" alt=\"Open In Colab\"/></a>"
      ]
    },
    {
      "cell_type": "markdown",
      "metadata": {
        "id": "oyIb2QifkUZS"
      },
      "source": [
        "# **Bibliotecas**"
      ]
    },
    {
      "cell_type": "code",
      "metadata": {
        "id": "2l2PtKfRI-Ko",
        "colab": {
          "base_uri": "https://localhost:8080/"
        },
        "outputId": "7b69809d-cc92-436d-eb44-061ebd7a8c43"
      },
      "source": [
        "# instala biblioteca para leitura de excel e biblioteca gráfica\n",
        "\n",
        "!pip install xlrd\n",
        "!pip install -U plotly\n",
        "# !pip install plotly==4.8.1\n",
        "\n",
        "# organização da planilha excel\n",
        "\n",
        "!pip install nltk\n",
        "\n",
        "# Exportando figuras com melhores resoluções\n",
        "\n",
        "!pip install -U kaleido"
      ],
      "execution_count": 181,
      "outputs": [
        {
          "output_type": "stream",
          "text": [
            "Requirement already satisfied: xlrd in /usr/local/lib/python3.7/dist-packages (1.1.0)\n",
            "Requirement already up-to-date: plotly in /usr/local/lib/python3.7/dist-packages (4.14.3)\n",
            "Requirement already satisfied, skipping upgrade: retrying>=1.3.3 in /usr/local/lib/python3.7/dist-packages (from plotly) (1.3.3)\n",
            "Requirement already satisfied, skipping upgrade: six in /usr/local/lib/python3.7/dist-packages (from plotly) (1.15.0)\n",
            "Requirement already satisfied: nltk in /usr/local/lib/python3.7/dist-packages (3.2.5)\n",
            "Requirement already satisfied: six in /usr/local/lib/python3.7/dist-packages (from nltk) (1.15.0)\n",
            "Requirement already up-to-date: kaleido in /usr/local/lib/python3.7/dist-packages (0.2.0)\n"
          ],
          "name": "stdout"
        }
      ]
    },
    {
      "cell_type": "code",
      "metadata": {
        "id": "HaqiwShwhsD5",
        "colab": {
          "base_uri": "https://localhost:8080/"
        },
        "outputId": "3efcfa04-b826-44e5-aa99-4b0d882c2ae5"
      },
      "source": [
        "!add-apt-repository -y ppa:cran/poppler\n",
        "!apt-get update\n",
        "!apt-get install -y libpoppler-cpp-dev"
      ],
      "execution_count": 182,
      "outputs": [
        {
          "output_type": "stream",
          "text": [
            "\r0% [Working]\r            \rGet:1 http://security.ubuntu.com/ubuntu bionic-security InRelease [88.7 kB]\n",
            "\r0% [Connecting to archive.ubuntu.com] [1 InRelease 14.2 kB/88.7 kB 16%] [Connec\r                                                                               \rIgn:2 https://developer.download.nvidia.com/compute/cuda/repos/ubuntu1804/x86_64  InRelease\n",
            "\r0% [Connecting to archive.ubuntu.com (91.189.88.142)] [1 InRelease 54.7 kB/88.7\r0% [Connecting to archive.ubuntu.com (91.189.88.142)] [Waiting for headers] [Wa\r                                                                               \rHit:3 https://cloud.r-project.org/bin/linux/ubuntu bionic-cran40/ InRelease\n",
            "\r0% [Connecting to archive.ubuntu.com (91.189.88.142)] [Waiting for headers] [Wa\r0% [1 InRelease gpgv 88.7 kB] [Connecting to archive.ubuntu.com (91.189.88.142)\r                                                                               \rIgn:4 https://developer.download.nvidia.com/compute/machine-learning/repos/ubuntu1804/x86_64  InRelease\n",
            "\r0% [1 InRelease gpgv 88.7 kB] [Connecting to archive.ubuntu.com (91.189.88.142)\r                                                                               \rHit:5 http://ppa.launchpad.net/c2d4u.team/c2d4u4.0+/ubuntu bionic InRelease\n",
            "\r0% [1 InRelease gpgv 88.7 kB] [Connecting to archive.ubuntu.com (91.189.88.142)\r                                                                               \rHit:6 https://developer.download.nvidia.com/compute/cuda/repos/ubuntu1804/x86_64  Release\n",
            "Hit:7 https://developer.download.nvidia.com/compute/machine-learning/repos/ubuntu1804/x86_64  Release\n",
            "Hit:8 http://archive.ubuntu.com/ubuntu bionic InRelease\n",
            "Hit:9 http://ppa.launchpad.net/cran/libgit2/ubuntu bionic InRelease\n",
            "Get:10 http://archive.ubuntu.com/ubuntu bionic-updates InRelease [88.7 kB]\n",
            "Hit:11 http://ppa.launchpad.net/cran/poppler/ubuntu bionic InRelease\n",
            "Hit:12 http://ppa.launchpad.net/deadsnakes/ppa/ubuntu bionic InRelease\n",
            "Get:13 http://archive.ubuntu.com/ubuntu bionic-backports InRelease [74.6 kB]\n",
            "Hit:14 http://ppa.launchpad.net/graphics-drivers/ppa/ubuntu bionic InRelease\n",
            "Fetched 252 kB in 3s (89.5 kB/s)\n",
            "Reading package lists... Done\n",
            "Hit:1 https://cloud.r-project.org/bin/linux/ubuntu bionic-cran40/ InRelease\n",
            "Ign:2 https://developer.download.nvidia.com/compute/cuda/repos/ubuntu1804/x86_64  InRelease\n",
            "Ign:3 https://developer.download.nvidia.com/compute/machine-learning/repos/ubuntu1804/x86_64  InRelease\n",
            "Hit:4 https://developer.download.nvidia.com/compute/cuda/repos/ubuntu1804/x86_64  Release\n",
            "Hit:5 https://developer.download.nvidia.com/compute/machine-learning/repos/ubuntu1804/x86_64  Release\n",
            "Hit:6 http://security.ubuntu.com/ubuntu bionic-security InRelease\n",
            "Hit:7 http://archive.ubuntu.com/ubuntu bionic InRelease\n",
            "Hit:8 http://ppa.launchpad.net/c2d4u.team/c2d4u4.0+/ubuntu bionic InRelease\n",
            "Hit:9 http://archive.ubuntu.com/ubuntu bionic-updates InRelease\n",
            "Hit:10 http://ppa.launchpad.net/cran/libgit2/ubuntu bionic InRelease\n",
            "Hit:11 http://archive.ubuntu.com/ubuntu bionic-backports InRelease\n",
            "Hit:13 http://ppa.launchpad.net/cran/poppler/ubuntu bionic InRelease\n",
            "Hit:15 http://ppa.launchpad.net/deadsnakes/ppa/ubuntu bionic InRelease\n",
            "Hit:16 http://ppa.launchpad.net/graphics-drivers/ppa/ubuntu bionic InRelease\n",
            "Reading package lists... Done\n",
            "Reading package lists... Done\n",
            "Building dependency tree       \n",
            "Reading state information... Done\n",
            "libpoppler-cpp-dev is already the newest version (0.74.0-bionic0).\n",
            "0 upgraded, 0 newly installed, 0 to remove and 55 not upgraded.\n"
          ],
          "name": "stdout"
        }
      ]
    },
    {
      "cell_type": "code",
      "metadata": {
        "id": "SWoaxYhJfoal",
        "colab": {
          "base_uri": "https://localhost:8080/"
        },
        "outputId": "dca7896c-47b5-405b-fb77-0c947bd16b0a"
      },
      "source": [
        "!apt-get install poppler-utils "
      ],
      "execution_count": 183,
      "outputs": [
        {
          "output_type": "stream",
          "text": [
            "Reading package lists... Done\n",
            "Building dependency tree       \n",
            "Reading state information... Done\n",
            "poppler-utils is already the newest version (0.74.0-bionic0).\n",
            "0 upgraded, 0 newly installed, 0 to remove and 55 not upgraded.\n"
          ],
          "name": "stdout"
        }
      ]
    },
    {
      "cell_type": "code",
      "metadata": {
        "id": "wU_x9uvLJAz2",
        "colab": {
          "base_uri": "https://localhost:8080/"
        },
        "outputId": "b3be2fd8-81e3-4c3b-a692-a64e6d623fac"
      },
      "source": [
        "# Importa a biblioteca pandas\n",
        "\n",
        "import pandas as pd\n",
        "pd.options.plotting.backend = \"plotly\"\n",
        "\n",
        "# Importa biblioteca para conversão de datas\n",
        "\n",
        "from datetime import datetime\n",
        "\n",
        "# Bilbioteca gráfica utilizada neste estudo\n",
        "\n",
        "import plotly.express as px\n",
        "import plotly.figure_factory as ff\n",
        "\n",
        "# Importando pacote\n",
        "import nltk\n",
        "nltk.download(\"popular\")\n",
        "import pandas as pd\n",
        "import numpy as np\n",
        "\n",
        "# Stemming pt\n",
        "nltk.download('rslp')\n",
        "\n",
        "# biblioteca numérica\n",
        "\n",
        "import scipy.stats as stats\n",
        "import scipy\n",
        "from sklearn.metrics import r2_score"
      ],
      "execution_count": 184,
      "outputs": [
        {
          "output_type": "stream",
          "text": [
            "[nltk_data] Downloading collection 'popular'\n",
            "[nltk_data]    | \n",
            "[nltk_data]    | Downloading package cmudict to /root/nltk_data...\n",
            "[nltk_data]    |   Package cmudict is already up-to-date!\n",
            "[nltk_data]    | Downloading package gazetteers to /root/nltk_data...\n",
            "[nltk_data]    |   Package gazetteers is already up-to-date!\n",
            "[nltk_data]    | Downloading package genesis to /root/nltk_data...\n",
            "[nltk_data]    |   Package genesis is already up-to-date!\n",
            "[nltk_data]    | Downloading package gutenberg to /root/nltk_data...\n",
            "[nltk_data]    |   Package gutenberg is already up-to-date!\n",
            "[nltk_data]    | Downloading package inaugural to /root/nltk_data...\n",
            "[nltk_data]    |   Package inaugural is already up-to-date!\n",
            "[nltk_data]    | Downloading package movie_reviews to\n",
            "[nltk_data]    |     /root/nltk_data...\n",
            "[nltk_data]    |   Package movie_reviews is already up-to-date!\n",
            "[nltk_data]    | Downloading package names to /root/nltk_data...\n",
            "[nltk_data]    |   Package names is already up-to-date!\n",
            "[nltk_data]    | Downloading package shakespeare to /root/nltk_data...\n",
            "[nltk_data]    |   Package shakespeare is already up-to-date!\n",
            "[nltk_data]    | Downloading package stopwords to /root/nltk_data...\n",
            "[nltk_data]    |   Package stopwords is already up-to-date!\n",
            "[nltk_data]    | Downloading package treebank to /root/nltk_data...\n",
            "[nltk_data]    |   Package treebank is already up-to-date!\n",
            "[nltk_data]    | Downloading package twitter_samples to\n",
            "[nltk_data]    |     /root/nltk_data...\n",
            "[nltk_data]    |   Package twitter_samples is already up-to-date!\n",
            "[nltk_data]    | Downloading package omw to /root/nltk_data...\n",
            "[nltk_data]    |   Package omw is already up-to-date!\n",
            "[nltk_data]    | Downloading package wordnet to /root/nltk_data...\n",
            "[nltk_data]    |   Package wordnet is already up-to-date!\n",
            "[nltk_data]    | Downloading package wordnet_ic to /root/nltk_data...\n",
            "[nltk_data]    |   Package wordnet_ic is already up-to-date!\n",
            "[nltk_data]    | Downloading package words to /root/nltk_data...\n",
            "[nltk_data]    |   Package words is already up-to-date!\n",
            "[nltk_data]    | Downloading package maxent_ne_chunker to\n",
            "[nltk_data]    |     /root/nltk_data...\n",
            "[nltk_data]    |   Package maxent_ne_chunker is already up-to-date!\n",
            "[nltk_data]    | Downloading package punkt to /root/nltk_data...\n",
            "[nltk_data]    |   Package punkt is already up-to-date!\n",
            "[nltk_data]    | Downloading package snowball_data to\n",
            "[nltk_data]    |     /root/nltk_data...\n",
            "[nltk_data]    |   Package snowball_data is already up-to-date!\n",
            "[nltk_data]    | Downloading package averaged_perceptron_tagger to\n",
            "[nltk_data]    |     /root/nltk_data...\n",
            "[nltk_data]    |   Package averaged_perceptron_tagger is already up-\n",
            "[nltk_data]    |       to-date!\n",
            "[nltk_data]    | \n",
            "[nltk_data]  Done downloading collection popular\n",
            "[nltk_data] Downloading package rslp to /root/nltk_data...\n",
            "[nltk_data]   Package rslp is already up-to-date!\n"
          ],
          "name": "stdout"
        }
      ]
    },
    {
      "cell_type": "code",
      "metadata": {
        "id": "4z8cvklVJEsy"
      },
      "source": [
        "# biblioteca numérica\n",
        "from scipy.interpolate import interp1d\n",
        "from scipy import stats\n",
        "from sklearn import datasets, linear_model\n",
        "from sklearn.linear_model import LinearRegression\n",
        "import statsmodels.api as sm"
      ],
      "execution_count": 185,
      "outputs": []
    },
    {
      "cell_type": "code",
      "metadata": {
        "id": "UH1h_0m6JHng"
      },
      "source": [
        "from plotly.subplots import make_subplots\n",
        "import plotly.graph_objects as go"
      ],
      "execution_count": 186,
      "outputs": []
    },
    {
      "cell_type": "code",
      "metadata": {
        "id": "U7hcjWG_OKtj"
      },
      "source": [
        "# Diretório de imagens\n",
        "import os\n",
        "if not os.path.exists(\"images\"):\n",
        "    os.mkdir(\"images\")"
      ],
      "execution_count": 187,
      "outputs": []
    },
    {
      "cell_type": "code",
      "metadata": {
        "id": "ioHLF_A1rPFY"
      },
      "source": [
        "from scipy.optimize import curve_fit\n",
        "import math\n",
        "import matplotlib.pyplot as plt\n",
        "import matplotlib"
      ],
      "execution_count": 188,
      "outputs": []
    },
    {
      "cell_type": "markdown",
      "metadata": {
        "id": "U_9GSUcGowQ7"
      },
      "source": [
        "# **Funções proprietárias**"
      ]
    },
    {
      "cell_type": "code",
      "metadata": {
        "id": "kfdXhX7my5GO"
      },
      "source": [
        "#######################################################################\n",
        "\n",
        "def DataNorm(Acc):\n",
        "\n",
        "  # Montagem do Kernel\n",
        "\n",
        "  variavel =  scipy.stats.zscore(Acc, axis=0, ddof=0)\n",
        "  empilhada = variavel.tolist()\n",
        "  empilhada += [24+i for i in variavel.tolist() ]\n",
        "  empilhada += [48+i for i in variavel.tolist() ]\n",
        "  bins = np.linspace(0,24,24)\n",
        "  bins = 3*bins.tolist()\n",
        "  Kernel = stats.gaussian_kde(empilhada)\n",
        "\n",
        "  Acc_kernel = Kernel(np.linspace(25,49,24))\n",
        "\n",
        "\n",
        "  return Acc_kernel\n",
        "\n",
        "#######################################################################"
      ],
      "execution_count": 189,
      "outputs": []
    },
    {
      "cell_type": "code",
      "metadata": {
        "id": "69-xdZHHa9bF"
      },
      "source": [
        "# Polynomial Regression\n",
        "def polyfit(x, y, degree):\n",
        "    results = {}\n",
        "\n",
        "    coeffs = np.polyfit(x, y, degree)\n",
        "     # Polynomial Coefficients\n",
        "    results['polynomial'] = coeffs.tolist()\n",
        "\n",
        "    correlation = np.corrcoef(x, y)[0,1]\n",
        "\n",
        "     # r\n",
        "    results['correlation'] = correlation\n",
        "     # r-squared\n",
        "    results['determination'] = correlation**2\n",
        "\n",
        "    return results"
      ],
      "execution_count": 190,
      "outputs": []
    },
    {
      "cell_type": "markdown",
      "metadata": {
        "id": "zso4KPBaCZFx"
      },
      "source": [
        "**Função de visualização:**\n",
        "\n",
        "f(a1,a2,a3,... aN, 'acidente', 'bocejo',...'final')\n",
        "\n",
        "Comando (!)"
      ]
    },
    {
      "cell_type": "code",
      "metadata": {
        "id": "2M3jvOVx31X6"
      },
      "source": [
        "def graphics_plot(y, y_name, yaxes_title, title='Title', bins=1, x_tick=1, save=False):\r\n",
        "\r\n",
        "  '''\r\n",
        "  y = [y1, y2, y3, y4]\r\n",
        "\r\n",
        "  y_name = ['y1 name', 'y2 name', 'y3 name', 'y4 name']\r\n",
        "\r\n",
        "  bins = number of bins for x scale\r\n",
        "\r\n",
        "  title = 'Title'\r\n",
        "\r\n",
        "  yaxes_title = ['Title yaxes1', 'Title yaxes2', 'Title yaxes3', 'Title yaxes4']\r\n",
        "\r\n",
        "  x_tick = dtick for axis x\r\n",
        "\r\n",
        "  save = True -> save graphics as image (images/title.eps) \r\n",
        "  '''\r\n",
        "\r\n",
        "  # Create figure with secondary y-axis\r\n",
        "  fig = make_subplots(specs=[[{'secondary_y': True}]])\r\n",
        "\r\n",
        "  # Markers\r\n",
        "  markers = ['circle','star','diamond','x']\r\n",
        "\r\n",
        "  # Lines\r\n",
        "  dash = ['dash','dot','dashdot']\r\n",
        "\r\n",
        "  for i, v in enumerate(y):\r\n",
        "    \r\n",
        "    if (len(yaxes_title) == 1) | (i < len(y) - 1):\r\n",
        "      on = False\r\n",
        "    else:\r\n",
        "      on = True\r\n",
        "\r\n",
        "    if i == 0:\r\n",
        "      # Add traces\r\n",
        "      fig.add_trace(\r\n",
        "          go.Scatter(x=np.linspace(0,24,bins),\r\n",
        "          y=v, name=y_name[i],\r\n",
        "          marker_symbol=markers[i],\r\n",
        "          marker_size=7,\r\n",
        "          mode='lines+markers',\r\n",
        "          line=dict(color='rgb(0, 0, 0)',\r\n",
        "          width=2)),\r\n",
        "          # line_shape='spline'),\r\n",
        "          secondary_y=False)\r\n",
        "      \r\n",
        "    else:\r\n",
        "      # Add traces\r\n",
        "      fig.add_trace(\r\n",
        "          go.Scatter(x=np.linspace(0,24,bins),\r\n",
        "          y=v, name=y_name[i],\r\n",
        "          marker_symbol=markers[i],\r\n",
        "          marker_size=7,\r\n",
        "          mode='lines+markers',\r\n",
        "          line=dict(color='rgb(0, 0, 0)',\r\n",
        "          width=2,dash=dash[i-1])),\r\n",
        "          # line_shape='spline'),\r\n",
        "          secondary_y=on)\r\n",
        "  \r\n",
        "  # Add figure title\r\n",
        "  fig.update_layout(title_text=title)\r\n",
        "  \r\n",
        "  # Set x-axis title\r\n",
        "  fig.update_xaxes(title_text='Time of day')\r\n",
        "\r\n",
        "  # Set y-axes titles\r\n",
        "  if len(yaxes_title) > 1:\r\n",
        "    fig.update_yaxes(title_text='<b>'+ yaxes_title[0] +'</b>', secondary_y=False)\r\n",
        "    fig.update_yaxes(title_text='<b>'+ yaxes_title[1] +'</b>', secondary_y=True)\r\n",
        "  else:\r\n",
        "    fig.update_yaxes(title_text='<b>'+ yaxes_title[0] +'</b>', secondary_y=False)\r\n",
        "\r\n",
        "  \r\n",
        "  fig.update_xaxes(showgrid=True, gridwidth=1, gridcolor='black')\r\n",
        "  fig.update_yaxes(showgrid=False, gridwidth=1, gridcolor='black')\r\n",
        "\r\n",
        "  fig.update_xaxes(showline=True, linewidth=2, linecolor='black', mirror=True)\r\n",
        "  fig.update_yaxes(showline=True, linewidth=2, linecolor='black', mirror=True)\r\n",
        "\r\n",
        "  fig.update_layout(\r\n",
        "      paper_bgcolor='rgba(0,0,0,0)',\r\n",
        "      plot_bgcolor='rgba(0,0,0,0)'\r\n",
        "  )\r\n",
        "\r\n",
        "  fig.update_layout(\r\n",
        "      xaxis=dict(\r\n",
        "      tickmode='linear',\r\n",
        "      tick0=0,\r\n",
        "      dtick=x_tick\r\n",
        "  ))\r\n",
        "\r\n",
        "  fig.update_layout(legend=dict(\r\n",
        "    orientation='h',\r\n",
        "    yanchor='bottom',\r\n",
        "    y=1.01,\r\n",
        "    xanchor='right',\r\n",
        "    x=0.95\r\n",
        "  ))\r\n",
        "\r\n",
        "  fig.show()\r\n",
        "\r\n",
        "  if save:\r\n",
        "    fig.write_image('images/'+title+'.eps')"
      ],
      "execution_count": 191,
      "outputs": []
    },
    {
      "cell_type": "code",
      "metadata": {
        "id": "LSzZfPh8yePR"
      },
      "source": [
        "def graphics_plot_v2(y, y_name, yaxes_title, title='Title', bins=1, x_tick=1, save=False):\r\n",
        "\r\n",
        "  '''\r\n",
        "  y = [y1, y2, y3, y4]\r\n",
        "\r\n",
        "  y_name = ['y1 name', 'y2 name', 'y3 name', 'y4 name']\r\n",
        "\r\n",
        "  bins = number of bins for x scale\r\n",
        "\r\n",
        "  title = 'Title'\r\n",
        "\r\n",
        "  yaxes_title = ['Title yaxes1', 'Title yaxes2', 'Title yaxes3', 'Title yaxes4']\r\n",
        "\r\n",
        "  x_tick = dtick for axis x\r\n",
        "\r\n",
        "  save = True -> save graphics as image (images/title.eps) \r\n",
        "  '''\r\n",
        "\r\n",
        "  # Create figure with secondary y-axis\r\n",
        "  fig = make_subplots(specs=[[{'secondary_y': True}]])\r\n",
        "\r\n",
        "  # Markers\r\n",
        "  markers = ['circle','star','diamond','x']\r\n",
        "\r\n",
        "  # Lines\r\n",
        "  dash = ['dash','dot','dashdot']\r\n",
        "\r\n",
        "  if len(yaxes_title) == 1:\r\n",
        "    on = False\r\n",
        "  else:\r\n",
        "    on = True\r\n",
        "\r\n",
        "  j = 0\r\n",
        "  k = 0\r\n",
        "\r\n",
        "  for i, v in enumerate(y):\r\n",
        "\r\n",
        "    if (len(yaxes_title) == 1) | (i < len(y) - 1):\r\n",
        "      on = False\r\n",
        "    else:\r\n",
        "      on = True\r\n",
        "\r\n",
        "    if k == 4:\r\n",
        "      k = 0\r\n",
        "      j+=1\r\n",
        "    \r\n",
        "    if k==0:\r\n",
        "      # Add traces\r\n",
        "      fig.add_trace(\r\n",
        "          go.Scatter(x=np.linspace(0,24,bins),\r\n",
        "          y=v, name=y_name[i],\r\n",
        "          marker_symbol=markers[j],\r\n",
        "          marker_size=7,\r\n",
        "          mode='lines+markers',\r\n",
        "          line=dict(color='rgb(0, 0, 0)',\r\n",
        "          width=2),),\r\n",
        "          # line_shape='spline'),\r\n",
        "          secondary_y=False)\r\n",
        "      \r\n",
        "    else:\r\n",
        "      # Add traces\r\n",
        "      fig.add_trace(\r\n",
        "          go.Scatter(x=np.linspace(0,24,bins),\r\n",
        "          y=v, name=y_name[i],\r\n",
        "          marker_symbol=markers[j],\r\n",
        "          marker_size=7,\r\n",
        "          mode='lines+markers',\r\n",
        "          line=dict(color='rgb(0, 0, 0)',\r\n",
        "          width=2, dash=dash[k-1]),),\r\n",
        "          # line_shape='spline'),\r\n",
        "          secondary_y=on)\r\n",
        "    k+=1\r\n",
        "  \r\n",
        "  # Add figure title\r\n",
        "  fig.update_layout(title_text=title)\r\n",
        "  \r\n",
        "  # Set x-axis title\r\n",
        "  fig.update_xaxes(title_text='Time of day')\r\n",
        "\r\n",
        "  # Set y-axes titles\r\n",
        "  if len(yaxes_title) > 1:\r\n",
        "    fig.update_yaxes(title_text='<b>'+ yaxes_title[0] +'</b>', secondary_y=False)\r\n",
        "    fig.update_yaxes(title_text='<b>'+ yaxes_title[1] +'</b>', secondary_y=True)\r\n",
        "  else:\r\n",
        "    fig.update_yaxes(title_text='<b>'+ yaxes_title[0] +'</b>', secondary_y=False)\r\n",
        "\r\n",
        "  \r\n",
        "  fig.update_xaxes(showgrid=True, gridwidth=1, gridcolor='black')\r\n",
        "  fig.update_yaxes(showgrid=False, gridwidth=1, gridcolor='black')\r\n",
        "\r\n",
        "  fig.update_xaxes(showline=True, linewidth=2, linecolor='black', mirror=True)\r\n",
        "  fig.update_yaxes(showline=True, linewidth=2, linecolor='black', mirror=True)\r\n",
        "\r\n",
        "  fig.update_layout(\r\n",
        "      paper_bgcolor='rgba(0,0,0,0)',\r\n",
        "      plot_bgcolor='rgba(0,0,0,0)'\r\n",
        "  )\r\n",
        "\r\n",
        "  fig.update_layout(\r\n",
        "      xaxis=dict(\r\n",
        "      tickmode='linear',\r\n",
        "      tick0=0,\r\n",
        "      dtick=x_tick\r\n",
        "  ))\r\n",
        "\r\n",
        "  fig.update_layout(legend=dict(\r\n",
        "    orientation='h',\r\n",
        "    yanchor='bottom',\r\n",
        "    y=1.01,\r\n",
        "    xanchor='right',\r\n",
        "    x=0.95\r\n",
        "  ))\r\n",
        "\r\n",
        "  fig.show()\r\n",
        "\r\n",
        "  if save:\r\n",
        "    fig.write_image('images/'+title+'.eps')"
      ],
      "execution_count": 192,
      "outputs": []
    },
    {
      "cell_type": "markdown",
      "metadata": {
        "id": "PAG4ul1wkRW2"
      },
      "source": [
        "# **Dados**"
      ]
    },
    {
      "cell_type": "code",
      "metadata": {
        "id": "9IJKHatb_AXr"
      },
      "source": [
        "## Carrega uma determinada planilha na variável file\n",
        "\n",
        "# Monitoramento\n",
        "fileE3  = '/content/drive/MyDrive/Trabalho/KLB_Final/Monitoramento/Monitoramento 2018_2019 E3.xlsx'\n",
        "fileE5  = '/content/drive/MyDrive/Trabalho/KLB_Final/Monitoramento/Monitoramento E5 - 2019.xlsx'\n",
        "fileE9  = '/content/drive/MyDrive/Trabalho/KLB_Final/Monitoramento/Monitoramento E9 - Abril 2019 a fevereiro 2020.xlsx'\n",
        "fileE9r = '/content/drive/MyDrive/Trabalho/KLB_Final/Monitoramento/Monitoramento E9 - Março a Maio 2020.xlsx'\n",
        "#fileCAS = '/content/drive/MyDrive/Trabalho/KLB_Final/Cabine Anti Sono/Cabine Sono.xlsx'\n",
        "# Ocorrências\n",
        "fileOCO = '/content/drive/MyDrive/Trabalho/KLB_Final/Ocorrências/Ocorrências_2017_2018_2019.xlsx'\n",
        "\n",
        "# Informações gerais\n",
        "fileINF = '/content/drive/MyDrive/Trabalho/KLB_Final/Informações Gerais/Informações gerais empresa Código.xlsx'\n",
        "\n",
        "\n",
        "## Carrega a planilha em um data frame\n",
        "# Monitoramento\n",
        "dfE31 = pd.read_excel(fileE3)\n",
        "xls3 = pd.ExcelFile(fileE3)\n",
        "dfE3 = pd.read_excel(fileE3, xls3.sheet_names[1])\n",
        "\n",
        "dfE5 = pd.read_excel(fileE5) \n",
        "# Arquivo E9 tem mais planilhas internamente\n",
        "dfE9 = pd.read_excel(fileE9)\n",
        "xls9 = pd.ExcelFile(fileE9)\n",
        "dfE91 = pd.read_excel(fileE9, xls9.sheet_names[1])\n",
        "dfE92 = pd.read_excel(fileE9,  xls9.sheet_names[2])\n",
        "#dfCAS = pd.read_excel(fileCAS)\n",
        "# Ocorrencias\n",
        "dfOCO = pd.read_excel(fileOCO)\n",
        "\n",
        "# Informações gerais\n",
        "dfINF = pd.read_excel(fileINF)"
      ],
      "execution_count": 193,
      "outputs": []
    },
    {
      "cell_type": "code",
      "metadata": {
        "id": "LP548xSWNjcb"
      },
      "source": [
        "## Dados PRF ##################################################\r\n",
        "# Acidentes\r\n",
        "\r\n",
        "#file2013  = '/content/drive/MyDrive/Trabalho/PRF/PF2013.xlsx'\r\n",
        "#file2014  = '/content/drive/MyDrive/Trabalho/PRF/PF2014.xlsx'\r\n",
        "file2015  = '/content/drive/MyDrive/Trabalho/PRF/PF2015.xlsx'\r\n",
        "#file2016  = '/content/drive/MyDrive/Trabalho/PRF/PF2016.xlsx'\r\n",
        "#file2017  = '/content/drive/MyDrive/Trabalho/PRF/PF2017.xlsx'\r\n",
        "\r\n",
        "# Multas\r\n",
        "\r\n",
        "#dfMultas = pd.read_csv('/content/drive/MyDrive/Trabalho/PRF/Multas.csv') \r\n",
        "\r\n",
        "#dfVel = pd.read_csv('/content/drive/MyDrive/Trabalho/PRF/prfInfraSpeedTruck.csv') \r\n",
        "#dfBr  = pd.read_csv('/content/drive/MyDrive/Trabalho/PRF/sumInfraAggBr.csv') \r\n",
        "#dfLei = pd.read_csv('/content/drive/MyDrive/Trabalho/PRF/sumInfraAggLei.csv') \r\n",
        "#dfMes = pd.read_csv('/content/drive/MyDrive/Trabalho/PRF/sumInfraAggMonth.csv') \r\n",
        "#dfEst = pd.read_csv('/content/drive/MyDrive/Trabalho/PRF/sumInfraAggSeason.csv') \r\n",
        "#dfSem = pd.read_csv('/content/drive/MyDrive/Trabalho/PRF/sumInfraAggWeek.csv') \r\n",
        "#dfAno = pd.read_csv('/content/drive/MyDrive/Trabalho/PRF/sumInfraAggYear.csv') \r\n",
        "\r\n",
        "# Fluxo\r\n",
        "\r\n",
        "dfFluxo = pd.read_csv('/content/drive/MyDrive/Trabalho/PRF/DNIT.csv') \r\n",
        "\r\n",
        "# Montando as bases de dados\r\n",
        "\r\n",
        "#df13 = pd.read_excel(file2013)\r\n",
        "#df14 = pd.read_excel(file2014)\r\n",
        "df15 = pd.read_excel(file2015)\r\n",
        "#df16 = pd.read_excel(file2016)\r\n",
        "#df17 = pd.read_excel(file2017)"
      ],
      "execution_count": 194,
      "outputs": []
    },
    {
      "cell_type": "markdown",
      "metadata": {
        "id": "4NMQffM-j-ks"
      },
      "source": [
        "Corrigindo, a empresa que realiza monitoramento é a E17 e não a E5, por gentileza alterar.\n",
        "\n",
        "Então conforme alinhamos, irei coletar as informações das empresas E17 e E9, além da Klabin. Essas empresas são as que tem monitoramento por câmeras. Além dessas, temos os PMT porém eles iniciaram recentemente o monitoramento por câmeras.\n",
        "\n",
        "Informações sobre o monitoramento:\n",
        "\n",
        "Monitoramento_2018_2019: alertas de sono detectados pelas câmeras nos veículos Klabin. Iniciou em 07 de 2018, sendo que a implantação em 100% dos veículos foi a partir de fevereiro de 2019. Os alertas são referente as piscada de olho superior a 3 segundos.\n",
        "\n",
        "Monitoramento_pmt_códigos:  alertas de sono detectados das pequenas e médias transportadoras. Os alertas são referente as piscada de olho superior a 3 segundos. (Desde 20/08/2019)\n",
        "\n",
        "Dados Monitoramento Empresa E5: alertas de sono da empresa terceira E5 mês 10, avaliam bocejo e fechada de olha, imagens não são tratadas.  (desde o incio do ano)\n",
        "\n",
        "Dados Monitoramento Empresa E9: alertas de sono da empresa terceira E9 mês 10, imagens são tratadas, dados onde a piscada foi superior a 1,5 segundos e menor que 3 segundo (fadiga Nível 1). (desde mês 03 de 2019)."
      ]
    },
    {
      "cell_type": "markdown",
      "metadata": {
        "id": "Pu1bC-fnkRQf"
      },
      "source": [
        "Consegui contato com as empresas e confirmei a informação referente ao descanso, para as 3 empresas avaliadas o descanso é de 60 horas.\n",
        "\n",
        "Sobre o monitoramento da empresa E5 acredito que até segunda-feira encaminho a informação."
      ]
    },
    {
      "cell_type": "markdown",
      "metadata": {
        "id": "kPqQO0apkw8T"
      },
      "source": [
        "Primeiramente gostaria de confirmar se recebeu o shipe que encaminhei e se a informação é suficiente.\n",
        "\n",
        "Entrei em contato com a empresa E9 para entender melhor o que é cada alerta do monitoramento, o Yawn-Warning capta o bocejo, o Atten-Warning é todo e qualquer desvio de atenção, como por exemplo, olhar para o lado, e o Tired é o cansaço, então é quando o motorista fechou o olhou por mais de 1,5 segundos.\n",
        "\n",
        "Sobre o questionamento sobre a jornada, eles não passaram o quanto em horas seria esses dois dias de descanso, porém as empresas E3 e E9, passaram que é fixa a escala, não alterando quando retorno dos dias de descanso.\n",
        "\n",
        "Estou aguardando agora o retorno da empresa E5 para passar o restante das informações."
      ]
    },
    {
      "cell_type": "markdown",
      "metadata": {
        "id": "i3ffKmMklOeF"
      },
      "source": [
        "em uma das planilhas temos escala de trabalho classificada como 1,2,3 - O que significam estes números?\n",
        "Esse número representa qual dia da escala de trabalho o colaborador está. Por exemplo, o colaborador está no segundo dia da escala de trabalho dele.\n",
        "\n",
        "O que é a medida em segundo momento?\n",
        "É quando o colaborador precisou repetir o teste de reflexo por algum motivo, mas não temos a informação do motivo.\n",
        "\n",
        "Escala 4x2 significa 4 dias de trabalho e 2 de descanso?\n",
        "Isso, exatamente.\n",
        "\n",
        "Quando você menciona 3 horas extras - significa que todos fazem ou alguns fazem ?\n",
        "São horas eventuais, mas quando me passaram da frota própria, passaram com essas horas inclusas.\n",
        "\n",
        "Qual o significado do termo PMT?\n",
        "Pequenas e Médias Transportadoras.\n",
        "\n",
        "O que significa o prefixo VPP?existem outras classificações? \n",
        "Es letras do prefixo são referentes as empresas, o VPP é Veículo próprio pesado da nossa frota própria.\n",
        "\n",
        "O que significa Fadiga N1? existem outras classificações? \n",
        "Então essa terminologia é utilizada apenas por uma empresa e significa que o colabora fechou os olhos por mais de 1,5 segundos e no caso a mesma empresa tem o N2 que é quando é por mais de 3 segundos. Mas eles enviaram só as informações de N1 por enquanto.\n",
        "\n",
        "como interpretar as colunas potencial e SAP?\n",
        "Então o potencial é a classificação que damos as ocorrências, vou te enviar o texto que consta no nosso procedimento, mas é nosso critério para definição do potencial e o número SAP é o número para buscar o relatório dessa ocorrência, mantive para caso precise procurar fica mais fácil.\n",
        "\n",
        "Texto Procedimento de Classificação de Ocorrência:\n",
        "\n",
        "Potencialidade: Conceito aplicado para as ocorrências de acidentes e incidentes considerando a suscetibilidade de existir ou acontecer, mas sem a existência real de um determinada de uma perda.\n",
        "\n",
        "Potencial Leve (PL): Acidente ou Incidente onde não houve potencialidade de gerar nenhuma das lesões citadas no critério total e permanente;\n",
        "\n",
        "Potencial Grave (PG): Acidente ou Incidente onde tenha gerado ou houve a possibilidade de ocasionar:\n",
        "\n",
        " Incapacidade total e permanente;\n",
        "\n",
        "\n",
        " Perdas de função;\n",
        "\n",
        "Ø Amputação total ou parcial nos membros superiores e/ou inferiores (amputação de dedo(s) das mãos com perda total da função de preensão, amputação da mão/pé, amputação do antebraço/braço/perna);\n",
        "\n",
        "Ø Perda total ou parcial de um órgão pós trauma ou em decorrência de lesão grave;\n",
        "\n",
        "Ø Perda total ou parcial de função de órgão em decorrência de lesão grave;\n",
        "\n",
        "Ø Fratura exposta;\n",
        "\n",
        "Ø Incapacidade total ou parcial permanente por dano neurológico ou motor;\n",
        "\n",
        "Ø Queimaduras que resultem em sequelas definitivas com restrição de função de membros superiores e inferiores;\n",
        "\n",
        "Danos estéticos;\n",
        "\n",
        "Ø Lesão/cicatriz na face ou deformidade visível com aparência, permanência e irreparabilidade pelos meios comuns ou por si mesma, onde o dano estético apreciável causa complexo ou interfere negativamente na vida social com deformidade de mais de 10% da superfície facial ou 25% de qualquer outra parte do corpo (mãos, pés, braços, pernas e tronco).\n",
        "\n",
        "Potencial Fatal (PF): Acidente ou incidente onde tenha gerado ou houve a potencialidade de fatalidade.\n",
        "\n",
        "Tempo de empresa está em meses ou anos (tem valores como 86 e 407, estão corretos)?\n",
        "Está em meses.\n",
        "\n",
        "Entrei em contato com a empresa E5 e o alerta referente a piscada é de acordo com o número de piscadas por minuto, porém eles não souberem especificar qual seria esse número.\n",
        "\n",
        "A empresa iria tentar a informação, buscando o fornecedor mas ainda não obtive nenhum retorno.\n",
        "\n",
        "Verifiquei alguns pontos para ajuste:\n",
        "\n",
        "- No campo autores, aparece a legenda “1” para meu nome e da Clara, porém na legenda a Klabin está como “c”.\n",
        "\n",
        "- Ainda referente aos autores, segue meu nome completo para atualizar: Verônica Marques Lopes\n",
        "\n",
        "- Na linha “94”, está descrito que a empresa E5 dispõem de 3 sistemas de fadiga, porém conforme descrito na sequência, são apenas 2, bocejo e olho fechado.\n",
        "\n",
        "- Ajustar descrição do alerta referente a E5: número de piscadas por minuto.\n",
        "\n",
        "- Desta forma, na linha “98”, ajustar que o alerta referente a Eye closed, considera critérios diferentes, para as empresas E5 e E9.\n"
      ]
    },
    {
      "cell_type": "markdown",
      "metadata": {
        "id": "awEU2t0WmvYm"
      },
      "source": [
        "# **Tratamento de dados**"
      ]
    },
    {
      "cell_type": "markdown",
      "metadata": {
        "id": "pGwzjshVR0_z"
      },
      "source": [
        "\n",
        "\n",
        "1.   motoristas em cada hora cheia - E3, E5 e E9\n",
        "2.   acidentes em cada hora cheia - madeira\n",
        "3.   eventos em cada hora cheia: bocejo, fadiga, atenção, tired,...\n",
        "\n"
      ]
    },
    {
      "cell_type": "markdown",
      "metadata": {
        "id": "UBzOuw7aorcX"
      },
      "source": [
        "## **Informações Gerais**"
      ]
    },
    {
      "cell_type": "code",
      "metadata": {
        "colab": {
          "base_uri": "https://localhost:8080/",
          "height": 0
        },
        "id": "_Mhn4Rtioqr7",
        "outputId": "489b4ea7-db2a-456a-afd8-e368a8d30a88"
      },
      "source": [
        "dfINF.head()"
      ],
      "execution_count": 195,
      "outputs": [
        {
          "output_type": "execute_result",
          "data": {
            "text/html": [
              "<div>\n",
              "<style scoped>\n",
              "    .dataframe tbody tr th:only-of-type {\n",
              "        vertical-align: middle;\n",
              "    }\n",
              "\n",
              "    .dataframe tbody tr th {\n",
              "        vertical-align: top;\n",
              "    }\n",
              "\n",
              "    .dataframe thead th {\n",
              "        text-align: right;\n",
              "    }\n",
              "</style>\n",
              "<table border=\"1\" class=\"dataframe\">\n",
              "  <thead>\n",
              "    <tr style=\"text-align: right;\">\n",
              "      <th></th>\n",
              "      <th>Empresa</th>\n",
              "      <th>Escala</th>\n",
              "      <th>Jornada</th>\n",
              "      <th>Intervalos</th>\n",
              "      <th>N° de Colaboradores por turno</th>\n",
              "      <th>Tempo médio de deslocamento</th>\n",
              "      <th>Observação</th>\n",
              "      <th>Unnamed: 7</th>\n",
              "    </tr>\n",
              "  </thead>\n",
              "  <tbody>\n",
              "    <tr>\n",
              "      <th>0</th>\n",
              "      <td>E5</td>\n",
              "      <td>4X2</td>\n",
              "      <td>00 às 11 horas</td>\n",
              "      <td>1 hora refeição (deve ser entre a 4ª e 6ª hora)</td>\n",
              "      <td>3.0</td>\n",
              "      <td>NaN</td>\n",
              "      <td>NaN</td>\n",
              "      <td>NaN</td>\n",
              "    </tr>\n",
              "    <tr>\n",
              "      <th>1</th>\n",
              "      <td>E5</td>\n",
              "      <td>4X2</td>\n",
              "      <td>1 às 12 horas</td>\n",
              "      <td>1 hora refeição (deve ser entre a 4ª e 6ª hora)</td>\n",
              "      <td>8.0</td>\n",
              "      <td>NaN</td>\n",
              "      <td>NaN</td>\n",
              "      <td>NaN</td>\n",
              "    </tr>\n",
              "    <tr>\n",
              "      <th>2</th>\n",
              "      <td>E5</td>\n",
              "      <td>4X2</td>\n",
              "      <td>2 às 13 horas</td>\n",
              "      <td>1 hora refeição (deve ser entre a 4ª e 6ª hora)</td>\n",
              "      <td>6.0</td>\n",
              "      <td>NaN</td>\n",
              "      <td>NaN</td>\n",
              "      <td>NaN</td>\n",
              "    </tr>\n",
              "    <tr>\n",
              "      <th>3</th>\n",
              "      <td>E5</td>\n",
              "      <td>4X2</td>\n",
              "      <td>4 às 15 horas</td>\n",
              "      <td>1 hora refeição (deve ser entre a 4ª e 6ª hora)</td>\n",
              "      <td>5.0</td>\n",
              "      <td>NaN</td>\n",
              "      <td>NaN</td>\n",
              "      <td>NaN</td>\n",
              "    </tr>\n",
              "    <tr>\n",
              "      <th>4</th>\n",
              "      <td>E5</td>\n",
              "      <td>4X2</td>\n",
              "      <td>5 às 16 horas</td>\n",
              "      <td>1 hora refeição (deve ser entre a 4ª e 6ª hora)</td>\n",
              "      <td>6.0</td>\n",
              "      <td>NaN</td>\n",
              "      <td>NaN</td>\n",
              "      <td>NaN</td>\n",
              "    </tr>\n",
              "  </tbody>\n",
              "</table>\n",
              "</div>"
            ],
            "text/plain": [
              "  Empresa Escala  ... Observação Unnamed: 7\n",
              "0      E5    4X2  ...        NaN        NaN\n",
              "1      E5    4X2  ...        NaN        NaN\n",
              "2      E5    4X2  ...        NaN        NaN\n",
              "3      E5    4X2  ...        NaN        NaN\n",
              "4      E5    4X2  ...        NaN        NaN\n",
              "\n",
              "[5 rows x 8 columns]"
            ]
          },
          "metadata": {
            "tags": []
          },
          "execution_count": 195
        }
      ]
    },
    {
      "cell_type": "code",
      "metadata": {
        "colab": {
          "base_uri": "https://localhost:8080/"
        },
        "id": "1SKEiW0hpzOz",
        "outputId": "aaccf8bc-c8b6-400d-963c-8dc5410c432d"
      },
      "source": [
        "dfINF.shape"
      ],
      "execution_count": 196,
      "outputs": [
        {
          "output_type": "execute_result",
          "data": {
            "text/plain": [
              "(66, 8)"
            ]
          },
          "metadata": {
            "tags": []
          },
          "execution_count": 196
        }
      ]
    },
    {
      "cell_type": "code",
      "metadata": {
        "colab": {
          "base_uri": "https://localhost:8080/",
          "height": 0
        },
        "id": "BXfI-yzHDRYi",
        "outputId": "e65575ae-0917-4f2f-f272-9936394d8987"
      },
      "source": [
        "dfInf_expand = dfINF.Jornada.str.split(' ', expand=True)\r\n",
        "dfInf_expand.head()"
      ],
      "execution_count": 197,
      "outputs": [
        {
          "output_type": "execute_result",
          "data": {
            "text/html": [
              "<div>\n",
              "<style scoped>\n",
              "    .dataframe tbody tr th:only-of-type {\n",
              "        vertical-align: middle;\n",
              "    }\n",
              "\n",
              "    .dataframe tbody tr th {\n",
              "        vertical-align: top;\n",
              "    }\n",
              "\n",
              "    .dataframe thead th {\n",
              "        text-align: right;\n",
              "    }\n",
              "</style>\n",
              "<table border=\"1\" class=\"dataframe\">\n",
              "  <thead>\n",
              "    <tr style=\"text-align: right;\">\n",
              "      <th></th>\n",
              "      <th>0</th>\n",
              "      <th>1</th>\n",
              "      <th>2</th>\n",
              "      <th>3</th>\n",
              "    </tr>\n",
              "  </thead>\n",
              "  <tbody>\n",
              "    <tr>\n",
              "      <th>0</th>\n",
              "      <td>00</td>\n",
              "      <td>às</td>\n",
              "      <td>11</td>\n",
              "      <td>horas</td>\n",
              "    </tr>\n",
              "    <tr>\n",
              "      <th>1</th>\n",
              "      <td>1</td>\n",
              "      <td>às</td>\n",
              "      <td>12</td>\n",
              "      <td>horas</td>\n",
              "    </tr>\n",
              "    <tr>\n",
              "      <th>2</th>\n",
              "      <td>2</td>\n",
              "      <td>às</td>\n",
              "      <td>13</td>\n",
              "      <td>horas</td>\n",
              "    </tr>\n",
              "    <tr>\n",
              "      <th>3</th>\n",
              "      <td>4</td>\n",
              "      <td>às</td>\n",
              "      <td>15</td>\n",
              "      <td>horas</td>\n",
              "    </tr>\n",
              "    <tr>\n",
              "      <th>4</th>\n",
              "      <td>5</td>\n",
              "      <td>às</td>\n",
              "      <td>16</td>\n",
              "      <td>horas</td>\n",
              "    </tr>\n",
              "  </tbody>\n",
              "</table>\n",
              "</div>"
            ],
            "text/plain": [
              "    0   1   2      3\n",
              "0  00  às  11  horas\n",
              "1   1  às  12  horas\n",
              "2   2  às  13  horas\n",
              "3   4  às  15  horas\n",
              "4   5  às  16  horas"
            ]
          },
          "metadata": {
            "tags": []
          },
          "execution_count": 197
        }
      ]
    },
    {
      "cell_type": "code",
      "metadata": {
        "colab": {
          "base_uri": "https://localhost:8080/",
          "height": 0
        },
        "id": "o4r35sRmExRe",
        "outputId": "14e7deb2-121d-4229-87db-0ef59440e6bd"
      },
      "source": [
        "dfINF['Inicio'] = dfInf_expand[0].astype('int64')\r\n",
        "dfINF['Fim'] = dfInf_expand[2].astype('int64')\r\n",
        "dfINF.tail()"
      ],
      "execution_count": 198,
      "outputs": [
        {
          "output_type": "execute_result",
          "data": {
            "text/html": [
              "<div>\n",
              "<style scoped>\n",
              "    .dataframe tbody tr th:only-of-type {\n",
              "        vertical-align: middle;\n",
              "    }\n",
              "\n",
              "    .dataframe tbody tr th {\n",
              "        vertical-align: top;\n",
              "    }\n",
              "\n",
              "    .dataframe thead th {\n",
              "        text-align: right;\n",
              "    }\n",
              "</style>\n",
              "<table border=\"1\" class=\"dataframe\">\n",
              "  <thead>\n",
              "    <tr style=\"text-align: right;\">\n",
              "      <th></th>\n",
              "      <th>Empresa</th>\n",
              "      <th>Escala</th>\n",
              "      <th>Jornada</th>\n",
              "      <th>Intervalos</th>\n",
              "      <th>N° de Colaboradores por turno</th>\n",
              "      <th>Tempo médio de deslocamento</th>\n",
              "      <th>Observação</th>\n",
              "      <th>Unnamed: 7</th>\n",
              "      <th>Inicio</th>\n",
              "      <th>Fim</th>\n",
              "    </tr>\n",
              "  </thead>\n",
              "  <tbody>\n",
              "    <tr>\n",
              "      <th>61</th>\n",
              "      <td>E9</td>\n",
              "      <td>4X2</td>\n",
              "      <td>16 às 04 horas</td>\n",
              "      <td>Mínimo 1 hora</td>\n",
              "      <td>2.0</td>\n",
              "      <td>Aproximadamente 22 min</td>\n",
              "      <td>NaN</td>\n",
              "      <td>NaN</td>\n",
              "      <td>16</td>\n",
              "      <td>4</td>\n",
              "    </tr>\n",
              "    <tr>\n",
              "      <th>62</th>\n",
              "      <td>E9</td>\n",
              "      <td>4X2</td>\n",
              "      <td>17 às 05 horas</td>\n",
              "      <td>Mínimo 1 hora</td>\n",
              "      <td>6.0</td>\n",
              "      <td>Aproximadamente 22 min</td>\n",
              "      <td>NaN</td>\n",
              "      <td>NaN</td>\n",
              "      <td>17</td>\n",
              "      <td>5</td>\n",
              "    </tr>\n",
              "    <tr>\n",
              "      <th>63</th>\n",
              "      <td>E9</td>\n",
              "      <td>4X2</td>\n",
              "      <td>18 às 06 horas</td>\n",
              "      <td>Mínimo 1 hora</td>\n",
              "      <td>8.0</td>\n",
              "      <td>Aproximadamente 22 min</td>\n",
              "      <td>NaN</td>\n",
              "      <td>NaN</td>\n",
              "      <td>18</td>\n",
              "      <td>6</td>\n",
              "    </tr>\n",
              "    <tr>\n",
              "      <th>64</th>\n",
              "      <td>E9</td>\n",
              "      <td>4X2</td>\n",
              "      <td>19 às 07 horas</td>\n",
              "      <td>Mínimo 1 hora</td>\n",
              "      <td>2.0</td>\n",
              "      <td>Aproximadamente 22 min</td>\n",
              "      <td>NaN</td>\n",
              "      <td>NaN</td>\n",
              "      <td>19</td>\n",
              "      <td>7</td>\n",
              "    </tr>\n",
              "    <tr>\n",
              "      <th>65</th>\n",
              "      <td>E9</td>\n",
              "      <td>4X2</td>\n",
              "      <td>20 às 08 horas</td>\n",
              "      <td>Mínimo 1 hora</td>\n",
              "      <td>2.0</td>\n",
              "      <td>Aproximadamente 22 min</td>\n",
              "      <td>NaN</td>\n",
              "      <td>NaN</td>\n",
              "      <td>20</td>\n",
              "      <td>8</td>\n",
              "    </tr>\n",
              "  </tbody>\n",
              "</table>\n",
              "</div>"
            ],
            "text/plain": [
              "   Empresa Escala         Jornada  ... Unnamed: 7  Inicio Fim\n",
              "61      E9    4X2  16 às 04 horas  ...        NaN      16   4\n",
              "62      E9    4X2  17 às 05 horas  ...        NaN      17   5\n",
              "63      E9    4X2  18 às 06 horas  ...        NaN      18   6\n",
              "64      E9    4X2  19 às 07 horas  ...        NaN      19   7\n",
              "65      E9    4X2  20 às 08 horas  ...        NaN      20   8\n",
              "\n",
              "[5 rows x 10 columns]"
            ]
          },
          "metadata": {
            "tags": []
          },
          "execution_count": 198
        }
      ]
    },
    {
      "cell_type": "code",
      "metadata": {
        "colab": {
          "base_uri": "https://localhost:8080/"
        },
        "id": "j3U7BX1kFOJr",
        "outputId": "ad5ab0af-245d-46f1-a02c-ac98e232c48f"
      },
      "source": [
        "dfINF.dtypes"
      ],
      "execution_count": 199,
      "outputs": [
        {
          "output_type": "execute_result",
          "data": {
            "text/plain": [
              "Empresa                           object\n",
              "Escala                            object\n",
              "Jornada                           object\n",
              "Intervalos                        object\n",
              "N° de Colaboradores por turno    float64\n",
              "Tempo médio de deslocamento       object\n",
              "Observação                        object\n",
              "Unnamed: 7                        object\n",
              "Inicio                             int64\n",
              "Fim                                int64\n",
              "dtype: object"
            ]
          },
          "metadata": {
            "tags": []
          },
          "execution_count": 199
        }
      ]
    },
    {
      "cell_type": "code",
      "metadata": {
        "colab": {
          "base_uri": "https://localhost:8080/"
        },
        "id": "qp7Zf2OCpXB8",
        "outputId": "a3a5cc93-3e0e-4d40-cf99-676135e9226b"
      },
      "source": [
        "dfINF.isnull().sum()"
      ],
      "execution_count": 200,
      "outputs": [
        {
          "output_type": "execute_result",
          "data": {
            "text/plain": [
              "Empresa                           0\n",
              "Escala                            0\n",
              "Jornada                           0\n",
              "Intervalos                        0\n",
              "N° de Colaboradores por turno    10\n",
              "Tempo médio de deslocamento      20\n",
              "Observação                       40\n",
              "Unnamed: 7                       40\n",
              "Inicio                            0\n",
              "Fim                               0\n",
              "dtype: int64"
            ]
          },
          "metadata": {
            "tags": []
          },
          "execution_count": 200
        }
      ]
    },
    {
      "cell_type": "code",
      "metadata": {
        "colab": {
          "base_uri": "https://localhost:8080/"
        },
        "id": "wpF7r-7IpjzW",
        "outputId": "3f62b089-c099-4233-8232-0674b4e13b1e"
      },
      "source": [
        "dfINF_limpo = dfINF.dropna(subset=['N° de Colaboradores por turno'])\r\n",
        "dfINF_limpo.shape"
      ],
      "execution_count": 201,
      "outputs": [
        {
          "output_type": "execute_result",
          "data": {
            "text/plain": [
              "(56, 10)"
            ]
          },
          "metadata": {
            "tags": []
          },
          "execution_count": 201
        }
      ]
    },
    {
      "cell_type": "code",
      "metadata": {
        "colab": {
          "base_uri": "https://localhost:8080/"
        },
        "id": "TTkiR74LqW1n",
        "outputId": "3769165e-a05f-41e6-ced9-c60cb5ac321d"
      },
      "source": [
        "dfINF_limpo.Empresa.value_counts()"
      ],
      "execution_count": 202,
      "outputs": [
        {
          "output_type": "execute_result",
          "data": {
            "text/plain": [
              "E9    20\n",
              "E5    20\n",
              "E3    16\n",
              "Name: Empresa, dtype: int64"
            ]
          },
          "metadata": {
            "tags": []
          },
          "execution_count": 202
        }
      ]
    },
    {
      "cell_type": "code",
      "metadata": {
        "colab": {
          "base_uri": "https://localhost:8080/"
        },
        "id": "09AZzTVKp-i1",
        "outputId": "223247df-4e65-425c-ab2a-bc6367e63490"
      },
      "source": [
        "dfInfE3 = dfINF_limpo[dfINF_limpo.Empresa == 'E3']\r\n",
        "dfInfE5 = dfINF_limpo[dfINF_limpo.Empresa == 'E5']\r\n",
        "dfInfE9 = dfINF_limpo[dfINF_limpo.Empresa == 'E9']\r\n",
        "print(dfInfE3.shape,dfInfE5.shape,dfInfE9.shape)"
      ],
      "execution_count": 203,
      "outputs": [
        {
          "output_type": "stream",
          "text": [
            "(16, 10) (20, 10) (20, 10)\n"
          ],
          "name": "stdout"
        }
      ]
    },
    {
      "cell_type": "markdown",
      "metadata": {
        "id": "1iBt-vIDJsMQ"
      },
      "source": [
        "## **Ocorrências**"
      ]
    },
    {
      "cell_type": "code",
      "metadata": {
        "colab": {
          "base_uri": "https://localhost:8080/",
          "height": 0
        },
        "id": "41IKN1_SJsMn",
        "outputId": "7c64e70f-c06c-4980-fcef-b4c49d3c5c34"
      },
      "source": [
        "dfOCO.head(2)"
      ],
      "execution_count": 204,
      "outputs": [
        {
          "output_type": "execute_result",
          "data": {
            "text/html": [
              "<div>\n",
              "<style scoped>\n",
              "    .dataframe tbody tr th:only-of-type {\n",
              "        vertical-align: middle;\n",
              "    }\n",
              "\n",
              "    .dataframe tbody tr th {\n",
              "        vertical-align: top;\n",
              "    }\n",
              "\n",
              "    .dataframe thead th {\n",
              "        text-align: right;\n",
              "    }\n",
              "</style>\n",
              "<table border=\"1\" class=\"dataframe\">\n",
              "  <thead>\n",
              "    <tr style=\"text-align: right;\">\n",
              "      <th></th>\n",
              "      <th>CLASSIFICAÇÃO</th>\n",
              "      <th>EMPRESA</th>\n",
              "      <th>GERÊNCIA</th>\n",
              "      <th>COORDENAÇÃO</th>\n",
              "      <th>SUB ÁREA</th>\n",
              "      <th>NOME</th>\n",
              "      <th>CARGO</th>\n",
              "      <th>TEMPO DE EMPRESA</th>\n",
              "      <th>IDADE</th>\n",
              "      <th>\\nDATA DA OCORRÊNCIA</th>\n",
              "      <th>DIA DA SEMANA</th>\n",
              "      <th>HORA</th>\n",
              "      <th>\\nLOCAL DA OCORRÊNCIA</th>\n",
              "      <th>QUALIDADE PISTA</th>\n",
              "      <th>CARACTERISTICA PISTA</th>\n",
              "      <th>SINALIZAÇÃO</th>\n",
              "      <th>CLIMA</th>\n",
              "      <th>PREFIXO</th>\n",
              "      <th>MODELO</th>\n",
              "      <th>CARREGADO</th>\n",
              "      <th>TIPO</th>\n",
              "      <th>DETALHAMENTO</th>\n",
              "      <th>POTENCIAL</th>\n",
              "      <th>SAP</th>\n",
              "      <th>DIA ESCALA</th>\n",
              "      <th>ESCALA</th>\n",
              "      <th>JORNADA</th>\n",
              "      <th>TEMPO DECORRIDO</th>\n",
              "      <th>DORMIU BEM?</th>\n",
              "      <th>PRÓXIMO PERIODO DE FÉRIAS OU FERIADO</th>\n",
              "      <th>ALIMENTOU</th>\n",
              "      <th>PROBLEMAS SAÚDE</th>\n",
              "      <th>USO MEDICAMENTO</th>\n",
              "      <th>USO ALCOOL/DROGA</th>\n",
              "      <th>PRESSÃO</th>\n",
              "      <th>PRESSA PARA CONCLUIR O TRABALHO</th>\n",
              "      <th>DESCRIÇÃO</th>\n",
              "    </tr>\n",
              "  </thead>\n",
              "  <tbody>\n",
              "    <tr>\n",
              "      <th>0</th>\n",
              "      <td>IBP</td>\n",
              "      <td>E3</td>\n",
              "      <td>ANGATUBA</td>\n",
              "      <td>ANGATUBA</td>\n",
              "      <td>PÁTIO DE MADEIRA</td>\n",
              "      <td>C422</td>\n",
              "      <td>OPERADOR DE MÁQUINA FLORESTAL</td>\n",
              "      <td>2</td>\n",
              "      <td>36.0</td>\n",
              "      <td>2017-01-03</td>\n",
              "      <td>TERÇA-FEIRA</td>\n",
              "      <td>10:20:00</td>\n",
              "      <td>PÁTIO DE MADEIRA</td>\n",
              "      <td>NaN</td>\n",
              "      <td>NaN</td>\n",
              "      <td>NaN</td>\n",
              "      <td>NaN</td>\n",
              "      <td>NaN</td>\n",
              "      <td>NaN</td>\n",
              "      <td>NaN</td>\n",
              "      <td>NaN</td>\n",
              "      <td>AO SE DESLOCAR COM O TRATOR ATÉ O PICADOR, A J...</td>\n",
              "      <td>LPG</td>\n",
              "      <td>6008</td>\n",
              "      <td>NaN</td>\n",
              "      <td>NaN</td>\n",
              "      <td>NaN</td>\n",
              "      <td>NaN</td>\n",
              "      <td>NaN</td>\n",
              "      <td>NaN</td>\n",
              "      <td>NaN</td>\n",
              "      <td>NaN</td>\n",
              "      <td>NaN</td>\n",
              "      <td>NaN</td>\n",
              "      <td>NaN</td>\n",
              "      <td>NaN</td>\n",
              "      <td>NaN</td>\n",
              "    </tr>\n",
              "    <tr>\n",
              "      <th>1</th>\n",
              "      <td>IBP</td>\n",
              "      <td>E3</td>\n",
              "      <td>PESQUISA</td>\n",
              "      <td>PESQUISA</td>\n",
              "      <td>PESQUISA</td>\n",
              "      <td>C365</td>\n",
              "      <td>LÍDER DE TURMA</td>\n",
              "      <td>81</td>\n",
              "      <td>28.0</td>\n",
              "      <td>2017-01-04</td>\n",
              "      <td>QUARTA-FEIRA</td>\n",
              "      <td>15:00:00</td>\n",
              "      <td>LAGOA - Viveiro Florestal</td>\n",
              "      <td>NaN</td>\n",
              "      <td>RETA</td>\n",
              "      <td>NaN</td>\n",
              "      <td>NaN</td>\n",
              "      <td>AM-232</td>\n",
              "      <td>NaN</td>\n",
              "      <td>NaN</td>\n",
              "      <td>VEÍCULO DE LOCOMOÇÃO DE PESSOAS</td>\n",
              "      <td>A COLABORADORA ESTAVA EM DESLOCAMENTO NO VIVEI...</td>\n",
              "      <td>LPL</td>\n",
              "      <td>6039</td>\n",
              "      <td>NaN</td>\n",
              "      <td>NaN</td>\n",
              "      <td>NaN</td>\n",
              "      <td>NaN</td>\n",
              "      <td>NaN</td>\n",
              "      <td>NaN</td>\n",
              "      <td>NaN</td>\n",
              "      <td>NaN</td>\n",
              "      <td>NaN</td>\n",
              "      <td>NaN</td>\n",
              "      <td>NaN</td>\n",
              "      <td>NaN</td>\n",
              "      <td>NaN</td>\n",
              "    </tr>\n",
              "  </tbody>\n",
              "</table>\n",
              "</div>"
            ],
            "text/plain": [
              "  CLASSIFICAÇÃO EMPRESA  ... PRESSA PARA CONCLUIR O TRABALHO DESCRIÇÃO \n",
              "0           IBP      E3  ...                             NaN        NaN\n",
              "1           IBP      E3  ...                             NaN        NaN\n",
              "\n",
              "[2 rows x 37 columns]"
            ]
          },
          "metadata": {
            "tags": []
          },
          "execution_count": 204
        }
      ]
    },
    {
      "cell_type": "code",
      "metadata": {
        "colab": {
          "base_uri": "https://localhost:8080/"
        },
        "id": "buHRK3tdJsMp",
        "outputId": "efe16058-3fca-4a07-e34e-f20c75ed1120"
      },
      "source": [
        "dfOCO.columns"
      ],
      "execution_count": 205,
      "outputs": [
        {
          "output_type": "execute_result",
          "data": {
            "text/plain": [
              "Index(['CLASSIFICAÇÃO', 'EMPRESA', 'GERÊNCIA', 'COORDENAÇÃO ', 'SUB ÁREA',\n",
              "       'NOME', 'CARGO', 'TEMPO DE EMPRESA', 'IDADE', '\\nDATA DA OCORRÊNCIA',\n",
              "       'DIA DA SEMANA', 'HORA', ' \\nLOCAL DA OCORRÊNCIA', 'QUALIDADE PISTA',\n",
              "       'CARACTERISTICA PISTA', 'SINALIZAÇÃO', 'CLIMA', 'PREFIXO', 'MODELO',\n",
              "       'CARREGADO', 'TIPO ', 'DETALHAMENTO', 'POTENCIAL', 'SAP', 'DIA ESCALA',\n",
              "       'ESCALA', 'JORNADA ', 'TEMPO DECORRIDO', 'DORMIU BEM?',\n",
              "       'PRÓXIMO PERIODO DE FÉRIAS OU FERIADO', 'ALIMENTOU', 'PROBLEMAS SAÚDE ',\n",
              "       'USO MEDICAMENTO', 'USO ALCOOL/DROGA', 'PRESSÃO',\n",
              "       'PRESSA PARA CONCLUIR O TRABALHO', 'DESCRIÇÃO '],\n",
              "      dtype='object')"
            ]
          },
          "metadata": {
            "tags": []
          },
          "execution_count": 205
        }
      ]
    },
    {
      "cell_type": "code",
      "metadata": {
        "colab": {
          "base_uri": "https://localhost:8080/"
        },
        "id": "-g3Bjtj8JsMq",
        "outputId": "ea2b21c7-a714-4909-ac24-f5066c6944e5"
      },
      "source": [
        "dfOCO['TIPO '].value_counts()"
      ],
      "execution_count": 206,
      "outputs": [
        {
          "output_type": "execute_result",
          "data": {
            "text/plain": [
              "TRANSPORTE DE MADEIRA              224\n",
              "VEÍCULO DE LOCOMOÇÃO DE PESSOAS    102\n",
              "TRANSPORTE GERAL                    52\n",
              "TRANSPORTE DE MADEIRA                4\n",
              "Name: TIPO , dtype: int64"
            ]
          },
          "metadata": {
            "tags": []
          },
          "execution_count": 206
        }
      ]
    },
    {
      "cell_type": "code",
      "metadata": {
        "colab": {
          "base_uri": "https://localhost:8080/",
          "height": 0
        },
        "id": "Ss5ZaZv6JsMr",
        "outputId": "1d50ec0a-4666-4f63-cb20-ec2f1b8e0666"
      },
      "source": [
        "# Ocorrências\r\n",
        "dfOCO = pd.read_excel(fileOCO)\r\n",
        "dfOCO = dfOCO.dropna(subset=['EMPRESA'])\r\n",
        "dfOCO = dfOCO.dropna(subset=['TIPO '])\r\n",
        "dfOCO['HorarioAcidente'] = pd.to_datetime(dfOCO['HORA'], format='%H:%M:%S').dt.hour\r\n",
        "dfOCO.set_index('HORA',drop=True,inplace=True)\r\n",
        "dfOCO.head(3)"
      ],
      "execution_count": 207,
      "outputs": [
        {
          "output_type": "execute_result",
          "data": {
            "text/html": [
              "<div>\n",
              "<style scoped>\n",
              "    .dataframe tbody tr th:only-of-type {\n",
              "        vertical-align: middle;\n",
              "    }\n",
              "\n",
              "    .dataframe tbody tr th {\n",
              "        vertical-align: top;\n",
              "    }\n",
              "\n",
              "    .dataframe thead th {\n",
              "        text-align: right;\n",
              "    }\n",
              "</style>\n",
              "<table border=\"1\" class=\"dataframe\">\n",
              "  <thead>\n",
              "    <tr style=\"text-align: right;\">\n",
              "      <th></th>\n",
              "      <th>CLASSIFICAÇÃO</th>\n",
              "      <th>EMPRESA</th>\n",
              "      <th>GERÊNCIA</th>\n",
              "      <th>COORDENAÇÃO</th>\n",
              "      <th>SUB ÁREA</th>\n",
              "      <th>NOME</th>\n",
              "      <th>CARGO</th>\n",
              "      <th>TEMPO DE EMPRESA</th>\n",
              "      <th>IDADE</th>\n",
              "      <th>\\nDATA DA OCORRÊNCIA</th>\n",
              "      <th>DIA DA SEMANA</th>\n",
              "      <th>\\nLOCAL DA OCORRÊNCIA</th>\n",
              "      <th>QUALIDADE PISTA</th>\n",
              "      <th>CARACTERISTICA PISTA</th>\n",
              "      <th>SINALIZAÇÃO</th>\n",
              "      <th>CLIMA</th>\n",
              "      <th>PREFIXO</th>\n",
              "      <th>MODELO</th>\n",
              "      <th>CARREGADO</th>\n",
              "      <th>TIPO</th>\n",
              "      <th>DETALHAMENTO</th>\n",
              "      <th>POTENCIAL</th>\n",
              "      <th>SAP</th>\n",
              "      <th>DIA ESCALA</th>\n",
              "      <th>ESCALA</th>\n",
              "      <th>JORNADA</th>\n",
              "      <th>TEMPO DECORRIDO</th>\n",
              "      <th>DORMIU BEM?</th>\n",
              "      <th>PRÓXIMO PERIODO DE FÉRIAS OU FERIADO</th>\n",
              "      <th>ALIMENTOU</th>\n",
              "      <th>PROBLEMAS SAÚDE</th>\n",
              "      <th>USO MEDICAMENTO</th>\n",
              "      <th>USO ALCOOL/DROGA</th>\n",
              "      <th>PRESSÃO</th>\n",
              "      <th>PRESSA PARA CONCLUIR O TRABALHO</th>\n",
              "      <th>DESCRIÇÃO</th>\n",
              "      <th>HorarioAcidente</th>\n",
              "    </tr>\n",
              "    <tr>\n",
              "      <th>HORA</th>\n",
              "      <th></th>\n",
              "      <th></th>\n",
              "      <th></th>\n",
              "      <th></th>\n",
              "      <th></th>\n",
              "      <th></th>\n",
              "      <th></th>\n",
              "      <th></th>\n",
              "      <th></th>\n",
              "      <th></th>\n",
              "      <th></th>\n",
              "      <th></th>\n",
              "      <th></th>\n",
              "      <th></th>\n",
              "      <th></th>\n",
              "      <th></th>\n",
              "      <th></th>\n",
              "      <th></th>\n",
              "      <th></th>\n",
              "      <th></th>\n",
              "      <th></th>\n",
              "      <th></th>\n",
              "      <th></th>\n",
              "      <th></th>\n",
              "      <th></th>\n",
              "      <th></th>\n",
              "      <th></th>\n",
              "      <th></th>\n",
              "      <th></th>\n",
              "      <th></th>\n",
              "      <th></th>\n",
              "      <th></th>\n",
              "      <th></th>\n",
              "      <th></th>\n",
              "      <th></th>\n",
              "      <th></th>\n",
              "      <th></th>\n",
              "    </tr>\n",
              "  </thead>\n",
              "  <tbody>\n",
              "    <tr>\n",
              "      <th>15:00:00</th>\n",
              "      <td>IBP</td>\n",
              "      <td>E3</td>\n",
              "      <td>PESQUISA</td>\n",
              "      <td>PESQUISA</td>\n",
              "      <td>PESQUISA</td>\n",
              "      <td>C365</td>\n",
              "      <td>LÍDER DE TURMA</td>\n",
              "      <td>81</td>\n",
              "      <td>28.0</td>\n",
              "      <td>2017-01-04</td>\n",
              "      <td>QUARTA-FEIRA</td>\n",
              "      <td>LAGOA - Viveiro Florestal</td>\n",
              "      <td>NaN</td>\n",
              "      <td>RETA</td>\n",
              "      <td>NaN</td>\n",
              "      <td>NaN</td>\n",
              "      <td>AM-232</td>\n",
              "      <td>NaN</td>\n",
              "      <td>NaN</td>\n",
              "      <td>VEÍCULO DE LOCOMOÇÃO DE PESSOAS</td>\n",
              "      <td>A COLABORADORA ESTAVA EM DESLOCAMENTO NO VIVEI...</td>\n",
              "      <td>LPL</td>\n",
              "      <td>6039</td>\n",
              "      <td>NaN</td>\n",
              "      <td>NaN</td>\n",
              "      <td>NaN</td>\n",
              "      <td>NaN</td>\n",
              "      <td>NaN</td>\n",
              "      <td>NaN</td>\n",
              "      <td>NaN</td>\n",
              "      <td>NaN</td>\n",
              "      <td>NaN</td>\n",
              "      <td>NaN</td>\n",
              "      <td>NaN</td>\n",
              "      <td>NaN</td>\n",
              "      <td>NaN</td>\n",
              "      <td>15</td>\n",
              "    </tr>\n",
              "    <tr>\n",
              "      <th>21:40:00</th>\n",
              "      <td>IAP</td>\n",
              "      <td>E2</td>\n",
              "      <td>LOGÍSTICA</td>\n",
              "      <td>TRANSPORTE FLORESTAL</td>\n",
              "      <td>LOGÍSTICA</td>\n",
              "      <td>C409</td>\n",
              "      <td>MOTORISTA</td>\n",
              "      <td>3</td>\n",
              "      <td>48.0</td>\n",
              "      <td>2017-01-17</td>\n",
              "      <td>TERÇA-FEIRA</td>\n",
              "      <td>DISTRITO INDUSTRIAL</td>\n",
              "      <td>PRECARIA</td>\n",
              "      <td>DECLIVE</td>\n",
              "      <td>NaN</td>\n",
              "      <td>NaN</td>\n",
              "      <td>GFR 028</td>\n",
              "      <td>NaN</td>\n",
              "      <td>SIM</td>\n",
              "      <td>TRANSPORTE DE MADEIRA</td>\n",
              "      <td>COLABORADOR DESLOCAVA-SE COM CAMINHÃO DA EMPRE...</td>\n",
              "      <td>LPG</td>\n",
              "      <td>6072</td>\n",
              "      <td>NaN</td>\n",
              "      <td>NaN</td>\n",
              "      <td>NaN</td>\n",
              "      <td>NaN</td>\n",
              "      <td>NaN</td>\n",
              "      <td>NaN</td>\n",
              "      <td>NaN</td>\n",
              "      <td>NaN</td>\n",
              "      <td>NaN</td>\n",
              "      <td>NaN</td>\n",
              "      <td>NaN</td>\n",
              "      <td>NaN</td>\n",
              "      <td>NaN</td>\n",
              "      <td>21</td>\n",
              "    </tr>\n",
              "    <tr>\n",
              "      <th>13:51:00</th>\n",
              "      <td>IBP</td>\n",
              "      <td>E3</td>\n",
              "      <td>LOGÍSTICA</td>\n",
              "      <td>PROG. LOGÍSTICA</td>\n",
              "      <td>PROG. LOGÍSTICA E PÁTIOS</td>\n",
              "      <td>C240</td>\n",
              "      <td>SUPERVISOR</td>\n",
              "      <td>17</td>\n",
              "      <td>26.0</td>\n",
              "      <td>2017-01-19</td>\n",
              "      <td>QUINTA-FEIRA</td>\n",
              "      <td>PR 092</td>\n",
              "      <td>ASFALTADA</td>\n",
              "      <td>ACLIVE</td>\n",
              "      <td>NaN</td>\n",
              "      <td>BOAS CONDIÇÕES</td>\n",
              "      <td>AM-329</td>\n",
              "      <td>FOX</td>\n",
              "      <td>NÃO</td>\n",
              "      <td>VEÍCULO DE LOCOMOÇÃO DE PESSOAS</td>\n",
              "      <td>AO DESLOCAR-SE EM ACLIVE COM O VEICULO AM-329 ...</td>\n",
              "      <td>LPL</td>\n",
              "      <td>6081</td>\n",
              "      <td>NaN</td>\n",
              "      <td>NaN</td>\n",
              "      <td>NaN</td>\n",
              "      <td>NaN</td>\n",
              "      <td>NaN</td>\n",
              "      <td>NaN</td>\n",
              "      <td>NaN</td>\n",
              "      <td>NÃO</td>\n",
              "      <td>NaN</td>\n",
              "      <td>NaN</td>\n",
              "      <td>NaN</td>\n",
              "      <td>NÃO</td>\n",
              "      <td>O CONDUTOR ESTAVA BEM DE SAUDE, NÃO ESTAVA COM...</td>\n",
              "      <td>13</td>\n",
              "    </tr>\n",
              "  </tbody>\n",
              "</table>\n",
              "</div>"
            ],
            "text/plain": [
              "         CLASSIFICAÇÃO  ... HorarioAcidente\n",
              "HORA                    ...                \n",
              "15:00:00           IBP  ...              15\n",
              "21:40:00           IAP  ...              21\n",
              "13:51:00           IBP  ...              13\n",
              "\n",
              "[3 rows x 37 columns]"
            ]
          },
          "metadata": {
            "tags": []
          },
          "execution_count": 207
        }
      ]
    },
    {
      "cell_type": "code",
      "metadata": {
        "colab": {
          "base_uri": "https://localhost:8080/"
        },
        "id": "5Eppw53nGTuW",
        "outputId": "5f03421e-4728-4b17-f444-720ea88093a5"
      },
      "source": [
        "dfOCO.isnull().sum()"
      ],
      "execution_count": 208,
      "outputs": [
        {
          "output_type": "execute_result",
          "data": {
            "text/plain": [
              "CLASSIFICAÇÃO                             0\n",
              "EMPRESA                                   0\n",
              "GERÊNCIA                                  0\n",
              "COORDENAÇÃO                               2\n",
              "SUB ÁREA                                  2\n",
              "NOME                                     23\n",
              "CARGO                                     5\n",
              "TEMPO DE EMPRESA                         29\n",
              "IDADE                                    28\n",
              "\\nDATA DA OCORRÊNCIA                      0\n",
              "DIA DA SEMANA                             0\n",
              " \\nLOCAL DA OCORRÊNCIA                    1\n",
              "QUALIDADE PISTA                         216\n",
              "CARACTERISTICA PISTA                    220\n",
              "SINALIZAÇÃO                             367\n",
              "CLIMA                                   319\n",
              "PREFIXO                                  27\n",
              "MODELO                                  235\n",
              "CARREGADO                               173\n",
              "TIPO                                      0\n",
              "DETALHAMENTO                              0\n",
              "POTENCIAL                                 0\n",
              "SAP                                       1\n",
              "DIA ESCALA                              346\n",
              "ESCALA                                  345\n",
              "JORNADA                                 356\n",
              "TEMPO DECORRIDO                         367\n",
              "DORMIU BEM?                             364\n",
              "PRÓXIMO PERIODO DE FÉRIAS OU FERIADO    354\n",
              "ALIMENTOU                               372\n",
              "PROBLEMAS SAÚDE                         342\n",
              "USO MEDICAMENTO                         342\n",
              "USO ALCOOL/DROGA                        373\n",
              "PRESSÃO                                 329\n",
              "PRESSA PARA CONCLUIR O TRABALHO         350\n",
              "DESCRIÇÃO                               233\n",
              "HorarioAcidente                           0\n",
              "dtype: int64"
            ]
          },
          "metadata": {
            "tags": []
          },
          "execution_count": 208
        }
      ]
    },
    {
      "cell_type": "code",
      "metadata": {
        "colab": {
          "base_uri": "https://localhost:8080/"
        },
        "id": "oTMxmtmgJsMs",
        "outputId": "faeefbbd-eeb0-4dc6-a1cc-d0b67e4e1072"
      },
      "source": [
        "TM = (dfOCO['TIPO '] == 'TRANSPORTE DE MADEIRA') | (dfOCO['TIPO '] == 'TRANSPORTE DE MADEIRA ')\r\n",
        "\r\n",
        "dfOCO_TM = dfOCO[TM]\r\n",
        "dfOCO_TM.EMPRESA.value_counts()"
      ],
      "execution_count": 209,
      "outputs": [
        {
          "output_type": "execute_result",
          "data": {
            "text/plain": [
              "E3     48\n",
              "E9     42\n",
              "E2     28\n",
              "E7     21\n",
              "E5     19\n",
              "E4     16\n",
              "E12    13\n",
              "E16     9\n",
              "E1      8\n",
              "E13     5\n",
              "E19     3\n",
              "E23     3\n",
              "E26     2\n",
              "E32     2\n",
              "E22     1\n",
              "E36     1\n",
              "E34     1\n",
              "E33     1\n",
              "E25     1\n",
              "E30     1\n",
              "E31     1\n",
              "E14     1\n",
              "Name: EMPRESA, dtype: int64"
            ]
          },
          "metadata": {
            "tags": []
          },
          "execution_count": 209
        }
      ]
    },
    {
      "cell_type": "code",
      "metadata": {
        "colab": {
          "base_uri": "https://localhost:8080/"
        },
        "id": "p0QsSQJkJsMt",
        "outputId": "e13be784-418c-4d6a-fde9-2724d2e32edd"
      },
      "source": [
        "E3 = (dfOCO_TM['EMPRESA'] == 'E3')\r\n",
        "E5 = (dfOCO_TM['EMPRESA'] == 'E5')\r\n",
        "E9 = (dfOCO_TM['EMPRESA'] == 'E9')\r\n",
        "\r\n",
        "dfOCO_TM_E3 = dfOCO_TM[E3]\r\n",
        "dfOCO_TM_E5 = dfOCO_TM[E5]\r\n",
        "dfOCO_TM_E9 = dfOCO_TM[E9]\r\n",
        "\r\n",
        "print(dfOCO_TM_E3.shape,dfOCO_TM_E5.shape,dfOCO_TM_E9.shape)"
      ],
      "execution_count": 210,
      "outputs": [
        {
          "output_type": "stream",
          "text": [
            "(48, 37) (19, 37) (42, 37)\n"
          ],
          "name": "stdout"
        }
      ]
    },
    {
      "cell_type": "markdown",
      "metadata": {
        "id": "1reHTDe6OR8g"
      },
      "source": [
        "## **Estradas federais**"
      ]
    },
    {
      "cell_type": "code",
      "metadata": {
        "colab": {
          "base_uri": "https://localhost:8080/",
          "height": 0
        },
        "id": "5Ubf6Geem0M2",
        "outputId": "f14343a3-ddbb-4668-fa42-4d36deedbc2a"
      },
      "source": [
        "df15['Hora'] = pd.to_datetime(df15['horario'], format='%H:%M:%S').dt.hour\n",
        "df15.head()"
      ],
      "execution_count": 211,
      "outputs": [
        {
          "output_type": "execute_result",
          "data": {
            "text/html": [
              "<div>\n",
              "<style scoped>\n",
              "    .dataframe tbody tr th:only-of-type {\n",
              "        vertical-align: middle;\n",
              "    }\n",
              "\n",
              "    .dataframe tbody tr th {\n",
              "        vertical-align: top;\n",
              "    }\n",
              "\n",
              "    .dataframe thead th {\n",
              "        text-align: right;\n",
              "    }\n",
              "</style>\n",
              "<table border=\"1\" class=\"dataframe\">\n",
              "  <thead>\n",
              "    <tr style=\"text-align: right;\">\n",
              "      <th></th>\n",
              "      <th>id</th>\n",
              "      <th>data_inversa</th>\n",
              "      <th>dia_semana</th>\n",
              "      <th>horario</th>\n",
              "      <th>uf</th>\n",
              "      <th>br</th>\n",
              "      <th>km</th>\n",
              "      <th>municipio</th>\n",
              "      <th>causa_acidente</th>\n",
              "      <th>tipo_acidente</th>\n",
              "      <th>classificacao_acidente</th>\n",
              "      <th>fase_dia</th>\n",
              "      <th>sentido_via</th>\n",
              "      <th>condicao_metereologica</th>\n",
              "      <th>tipo_pista</th>\n",
              "      <th>tracado_via</th>\n",
              "      <th>uso_solo</th>\n",
              "      <th>ano</th>\n",
              "      <th>pessoas</th>\n",
              "      <th>mortos</th>\n",
              "      <th>feridos_leves</th>\n",
              "      <th>feridos_graves</th>\n",
              "      <th>ilesos</th>\n",
              "      <th>ignorados</th>\n",
              "      <th>feridos</th>\n",
              "      <th>veiculos</th>\n",
              "      <th>Hora</th>\n",
              "    </tr>\n",
              "  </thead>\n",
              "  <tbody>\n",
              "    <tr>\n",
              "      <th>0</th>\n",
              "      <td>83298209</td>\n",
              "      <td>2015-01-01</td>\n",
              "      <td>Quinta</td>\n",
              "      <td>00:05:00</td>\n",
              "      <td>RJ</td>\n",
              "      <td>101</td>\n",
              "      <td>327.0</td>\n",
              "      <td>NITEROI</td>\n",
              "      <td>Outras</td>\n",
              "      <td>Colisão traseira</td>\n",
              "      <td>Sem Vítimas</td>\n",
              "      <td>Plena noite</td>\n",
              "      <td>Decrescente</td>\n",
              "      <td>Ceu Claro</td>\n",
              "      <td>Dupla</td>\n",
              "      <td>Reta</td>\n",
              "      <td>Urbano</td>\n",
              "      <td>2015</td>\n",
              "      <td>2</td>\n",
              "      <td>0</td>\n",
              "      <td>0</td>\n",
              "      <td>0</td>\n",
              "      <td>2</td>\n",
              "      <td>0</td>\n",
              "      <td>0</td>\n",
              "      <td>2</td>\n",
              "      <td>0</td>\n",
              "    </tr>\n",
              "    <tr>\n",
              "      <th>1</th>\n",
              "      <td>83298218</td>\n",
              "      <td>2015-01-01</td>\n",
              "      <td>Quinta</td>\n",
              "      <td>01:20:00</td>\n",
              "      <td>MS</td>\n",
              "      <td>163</td>\n",
              "      <td>434.4</td>\n",
              "      <td>CAMPO GRANDE</td>\n",
              "      <td>Animais na Pista</td>\n",
              "      <td>Saída de Pista</td>\n",
              "      <td>Com Vítimas Feridas</td>\n",
              "      <td>Plena noite</td>\n",
              "      <td>Crescente</td>\n",
              "      <td>Ceu Claro</td>\n",
              "      <td>Simples</td>\n",
              "      <td>Reta</td>\n",
              "      <td>Rural</td>\n",
              "      <td>2015</td>\n",
              "      <td>2</td>\n",
              "      <td>0</td>\n",
              "      <td>1</td>\n",
              "      <td>0</td>\n",
              "      <td>1</td>\n",
              "      <td>0</td>\n",
              "      <td>1</td>\n",
              "      <td>1</td>\n",
              "      <td>1</td>\n",
              "    </tr>\n",
              "    <tr>\n",
              "      <th>2</th>\n",
              "      <td>83298220</td>\n",
              "      <td>2015-01-01</td>\n",
              "      <td>Quinta</td>\n",
              "      <td>01:45:00</td>\n",
              "      <td>RJ</td>\n",
              "      <td>40</td>\n",
              "      <td>64.0</td>\n",
              "      <td>PETROPOLIS</td>\n",
              "      <td>Outras</td>\n",
              "      <td>Colisão com objeto fixo</td>\n",
              "      <td>Sem Vítimas</td>\n",
              "      <td>Plena noite</td>\n",
              "      <td>Crescente</td>\n",
              "      <td>Nublado</td>\n",
              "      <td>Dupla</td>\n",
              "      <td>Reta</td>\n",
              "      <td>Urbano</td>\n",
              "      <td>2015</td>\n",
              "      <td>2</td>\n",
              "      <td>0</td>\n",
              "      <td>0</td>\n",
              "      <td>0</td>\n",
              "      <td>2</td>\n",
              "      <td>0</td>\n",
              "      <td>0</td>\n",
              "      <td>2</td>\n",
              "      <td>1</td>\n",
              "    </tr>\n",
              "    <tr>\n",
              "      <th>3</th>\n",
              "      <td>83298221</td>\n",
              "      <td>2015-01-01</td>\n",
              "      <td>Quinta</td>\n",
              "      <td>02:50:00</td>\n",
              "      <td>SC</td>\n",
              "      <td>101</td>\n",
              "      <td>356.1</td>\n",
              "      <td>SANGAO</td>\n",
              "      <td>Falta de atenção</td>\n",
              "      <td>Saída de Pista</td>\n",
              "      <td>Com Vítimas Feridas</td>\n",
              "      <td>Plena noite</td>\n",
              "      <td>Crescente</td>\n",
              "      <td>Ceu Claro</td>\n",
              "      <td>Dupla</td>\n",
              "      <td>Reta</td>\n",
              "      <td>Urbano</td>\n",
              "      <td>2015</td>\n",
              "      <td>4</td>\n",
              "      <td>0</td>\n",
              "      <td>4</td>\n",
              "      <td>0</td>\n",
              "      <td>0</td>\n",
              "      <td>0</td>\n",
              "      <td>4</td>\n",
              "      <td>1</td>\n",
              "      <td>2</td>\n",
              "    </tr>\n",
              "    <tr>\n",
              "      <th>4</th>\n",
              "      <td>83298222</td>\n",
              "      <td>2015-01-01</td>\n",
              "      <td>Quinta</td>\n",
              "      <td>02:50:00</td>\n",
              "      <td>RS</td>\n",
              "      <td>101</td>\n",
              "      <td>25.9</td>\n",
              "      <td>TRES CACHOEIRAS</td>\n",
              "      <td>Falta de atenção</td>\n",
              "      <td>Saída de Pista</td>\n",
              "      <td>Sem Vítimas</td>\n",
              "      <td>Plena noite</td>\n",
              "      <td>Decrescente</td>\n",
              "      <td>Nublado</td>\n",
              "      <td>Dupla</td>\n",
              "      <td>Reta</td>\n",
              "      <td>Urbano</td>\n",
              "      <td>2015</td>\n",
              "      <td>1</td>\n",
              "      <td>0</td>\n",
              "      <td>0</td>\n",
              "      <td>0</td>\n",
              "      <td>1</td>\n",
              "      <td>0</td>\n",
              "      <td>0</td>\n",
              "      <td>1</td>\n",
              "      <td>2</td>\n",
              "    </tr>\n",
              "  </tbody>\n",
              "</table>\n",
              "</div>"
            ],
            "text/plain": [
              "         id data_inversa dia_semana  ... feridos veiculos  Hora\n",
              "0  83298209   2015-01-01     Quinta  ...       0        2     0\n",
              "1  83298218   2015-01-01     Quinta  ...       1        1     1\n",
              "2  83298220   2015-01-01     Quinta  ...       0        2     1\n",
              "3  83298221   2015-01-01     Quinta  ...       4        1     2\n",
              "4  83298222   2015-01-01     Quinta  ...       0        1     2\n",
              "\n",
              "[5 rows x 27 columns]"
            ]
          },
          "metadata": {
            "tags": []
          },
          "execution_count": 211
        }
      ]
    },
    {
      "cell_type": "code",
      "metadata": {
        "colab": {
          "base_uri": "https://localhost:8080/",
          "height": 0
        },
        "id": "_FmFTCchm76Y",
        "outputId": "75c1801d-f1f8-49b0-dc7d-47b06f64f3b0"
      },
      "source": [
        "dfFluxo['avgtotal'].loc[2::3]   # [star:stop:step] - se ficar livre vai até o final\n",
        "dfDNIT = pd.DataFrame(dfFluxo['avgtotal'].loc[2::3].values.reshape(4,24)).T\n",
        "dfDNIT.tail()"
      ],
      "execution_count": 212,
      "outputs": [
        {
          "output_type": "execute_result",
          "data": {
            "text/html": [
              "<div>\n",
              "<style scoped>\n",
              "    .dataframe tbody tr th:only-of-type {\n",
              "        vertical-align: middle;\n",
              "    }\n",
              "\n",
              "    .dataframe tbody tr th {\n",
              "        vertical-align: top;\n",
              "    }\n",
              "\n",
              "    .dataframe thead th {\n",
              "        text-align: right;\n",
              "    }\n",
              "</style>\n",
              "<table border=\"1\" class=\"dataframe\">\n",
              "  <thead>\n",
              "    <tr style=\"text-align: right;\">\n",
              "      <th></th>\n",
              "      <th>0</th>\n",
              "      <th>1</th>\n",
              "      <th>2</th>\n",
              "      <th>3</th>\n",
              "    </tr>\n",
              "  </thead>\n",
              "  <tbody>\n",
              "    <tr>\n",
              "      <th>19</th>\n",
              "      <td>342.206554</td>\n",
              "      <td>276.263322</td>\n",
              "      <td>267.873313</td>\n",
              "      <td>262.693239</td>\n",
              "    </tr>\n",
              "    <tr>\n",
              "      <th>20</th>\n",
              "      <td>266.653952</td>\n",
              "      <td>213.115489</td>\n",
              "      <td>205.209297</td>\n",
              "      <td>200.119518</td>\n",
              "    </tr>\n",
              "    <tr>\n",
              "      <th>21</th>\n",
              "      <td>217.674901</td>\n",
              "      <td>172.611702</td>\n",
              "      <td>164.695324</td>\n",
              "      <td>160.408976</td>\n",
              "    </tr>\n",
              "    <tr>\n",
              "      <th>22</th>\n",
              "      <td>183.319164</td>\n",
              "      <td>143.476845</td>\n",
              "      <td>136.172760</td>\n",
              "      <td>132.808623</td>\n",
              "    </tr>\n",
              "    <tr>\n",
              "      <th>23</th>\n",
              "      <td>131.100690</td>\n",
              "      <td>104.440947</td>\n",
              "      <td>97.717366</td>\n",
              "      <td>94.281760</td>\n",
              "    </tr>\n",
              "  </tbody>\n",
              "</table>\n",
              "</div>"
            ],
            "text/plain": [
              "             0           1           2           3\n",
              "19  342.206554  276.263322  267.873313  262.693239\n",
              "20  266.653952  213.115489  205.209297  200.119518\n",
              "21  217.674901  172.611702  164.695324  160.408976\n",
              "22  183.319164  143.476845  136.172760  132.808623\n",
              "23  131.100690  104.440947   97.717366   94.281760"
            ]
          },
          "metadata": {
            "tags": []
          },
          "execution_count": 212
        }
      ]
    },
    {
      "cell_type": "code",
      "metadata": {
        "id": "keXe-5uNnIXU"
      },
      "source": [
        "counts, bins = np.histogram(df15['Hora'], bins=range(0, 25, 1))\n",
        "acidentes = np.array(counts)/sum(np.array(counts))\n",
        "fluxo     = np.array(dfDNIT[0]/sum(dfDNIT[0]))\n",
        "\n",
        "taxa      = (acidentes/fluxo)/sum(acidentes/fluxo)"
      ],
      "execution_count": 213,
      "outputs": []
    },
    {
      "cell_type": "markdown",
      "metadata": {
        "id": "zU3CewjDOiUY"
      },
      "source": [
        "## **Empresas**\r\n"
      ]
    },
    {
      "cell_type": "markdown",
      "metadata": {
        "id": "SUDJtzItpsXo"
      },
      "source": [
        "### **E5 - Hora**"
      ]
    },
    {
      "cell_type": "code",
      "metadata": {
        "colab": {
          "base_uri": "https://localhost:8080/",
          "height": 0
        },
        "id": "NTRnHCPrpxnZ",
        "outputId": "fe572d65-c8b1-48c9-eb87-64832bab3456"
      },
      "source": [
        "dfE5H = pd.read_excel(fileE5)\r\n",
        "dfE5H['HORA'] = pd.to_datetime(dfE5H['DATA'], format='%Y-%M-%D %H:%M:%S').dt.hour\r\n",
        "dfE5H.head(2)"
      ],
      "execution_count": 214,
      "outputs": [
        {
          "output_type": "execute_result",
          "data": {
            "text/html": [
              "<div>\n",
              "<style scoped>\n",
              "    .dataframe tbody tr th:only-of-type {\n",
              "        vertical-align: middle;\n",
              "    }\n",
              "\n",
              "    .dataframe tbody tr th {\n",
              "        vertical-align: top;\n",
              "    }\n",
              "\n",
              "    .dataframe thead th {\n",
              "        text-align: right;\n",
              "    }\n",
              "</style>\n",
              "<table border=\"1\" class=\"dataframe\">\n",
              "  <thead>\n",
              "    <tr style=\"text-align: right;\">\n",
              "      <th></th>\n",
              "      <th>Nome</th>\n",
              "      <th>DATA</th>\n",
              "      <th>HORA</th>\n",
              "      <th>Tipo de Desatenção</th>\n",
              "      <th>Velocidade</th>\n",
              "    </tr>\n",
              "  </thead>\n",
              "  <tbody>\n",
              "    <tr>\n",
              "      <th>0</th>\n",
              "      <td>NaN</td>\n",
              "      <td>2019-01-04 11:46:41</td>\n",
              "      <td>11</td>\n",
              "      <td>Olho Fechado</td>\n",
              "      <td>57</td>\n",
              "    </tr>\n",
              "    <tr>\n",
              "      <th>1</th>\n",
              "      <td>NaN</td>\n",
              "      <td>2019-01-11 19:11:04</td>\n",
              "      <td>19</td>\n",
              "      <td>Olho Fechado</td>\n",
              "      <td>48</td>\n",
              "    </tr>\n",
              "  </tbody>\n",
              "</table>\n",
              "</div>"
            ],
            "text/plain": [
              "  Nome                DATA  HORA Tipo de Desatenção  Velocidade\n",
              "0  NaN 2019-01-04 11:46:41    11       Olho Fechado          57\n",
              "1  NaN 2019-01-11 19:11:04    19       Olho Fechado          48"
            ]
          },
          "metadata": {
            "tags": []
          },
          "execution_count": 214
        }
      ]
    },
    {
      "cell_type": "markdown",
      "metadata": {
        "id": "yxtKyQmLp6pL"
      },
      "source": [
        "### **E9 - Hora**"
      ]
    },
    {
      "cell_type": "code",
      "metadata": {
        "colab": {
          "base_uri": "https://localhost:8080/",
          "height": 0
        },
        "id": "4Cy7_bYPp6pN",
        "outputId": "46263170-e4b6-43e7-ea6a-cf91d91babcb"
      },
      "source": [
        "dfE91H = pd.read_excel(fileE9, xls9.sheet_names[1])\r\n",
        "dfE91H['HORA'] = pd.to_datetime(dfE91H['Data da ocorrência'], format='%Y-%M-%D %H:%M:%S').dt.hour\r\n",
        "dfE91H.head(2)"
      ],
      "execution_count": 215,
      "outputs": [
        {
          "output_type": "execute_result",
          "data": {
            "text/html": [
              "<div>\n",
              "<style scoped>\n",
              "    .dataframe tbody tr th:only-of-type {\n",
              "        vertical-align: middle;\n",
              "    }\n",
              "\n",
              "    .dataframe tbody tr th {\n",
              "        vertical-align: top;\n",
              "    }\n",
              "\n",
              "    .dataframe thead th {\n",
              "        text-align: right;\n",
              "    }\n",
              "</style>\n",
              "<table border=\"1\" class=\"dataframe\">\n",
              "  <thead>\n",
              "    <tr style=\"text-align: right;\">\n",
              "      <th></th>\n",
              "      <th>Data da ocorrência</th>\n",
              "      <th>dia</th>\n",
              "      <th>mês</th>\n",
              "      <th>Tipo</th>\n",
              "      <th>Velocidade</th>\n",
              "      <th>Tratativa</th>\n",
              "      <th>Placa</th>\n",
              "      <th>Motorista</th>\n",
              "      <th>Unnamed: 8</th>\n",
              "      <th>HORA</th>\n",
              "    </tr>\n",
              "  </thead>\n",
              "  <tbody>\n",
              "    <tr>\n",
              "      <th>0</th>\n",
              "      <td>2019-04-23 22:59:00</td>\n",
              "      <td>2019-04-23</td>\n",
              "      <td>2019-04-23</td>\n",
              "      <td>Yawn-Warning</td>\n",
              "      <td>35</td>\n",
              "      <td>NaN</td>\n",
              "      <td>PLP3I10</td>\n",
              "      <td>NaN</td>\n",
              "      <td>NaN</td>\n",
              "      <td>22</td>\n",
              "    </tr>\n",
              "    <tr>\n",
              "      <th>1</th>\n",
              "      <td>2019-04-23 19:46:00</td>\n",
              "      <td>2019-04-23</td>\n",
              "      <td>2019-04-23</td>\n",
              "      <td>Yawn-Warning</td>\n",
              "      <td>62</td>\n",
              "      <td>NaN</td>\n",
              "      <td>PLP3I10</td>\n",
              "      <td>NaN</td>\n",
              "      <td>NaN</td>\n",
              "      <td>19</td>\n",
              "    </tr>\n",
              "  </tbody>\n",
              "</table>\n",
              "</div>"
            ],
            "text/plain": [
              "   Data da ocorrência        dia        mês  ... Motorista  Unnamed: 8 HORA\n",
              "0 2019-04-23 22:59:00 2019-04-23 2019-04-23  ...       NaN         NaN   22\n",
              "1 2019-04-23 19:46:00 2019-04-23 2019-04-23  ...       NaN         NaN   19\n",
              "\n",
              "[2 rows x 10 columns]"
            ]
          },
          "metadata": {
            "tags": []
          },
          "execution_count": 215
        }
      ]
    },
    {
      "cell_type": "code",
      "metadata": {
        "colab": {
          "base_uri": "https://localhost:8080/",
          "height": 0
        },
        "id": "5PE1LQPSqFUv",
        "outputId": "863bb98c-957e-4645-fee7-cad1e8074623"
      },
      "source": [
        "dfE92H = pd.read_excel(fileE9,  xls9.sheet_names[2])\r\n",
        "dfE92H['HORA'] = pd.to_datetime(dfE92H['Data da ocorrência'], format='%Y-%M-%D %H:%M:%S').dt.hour\r\n",
        "dfE92H.head(2)"
      ],
      "execution_count": 216,
      "outputs": [
        {
          "output_type": "execute_result",
          "data": {
            "text/html": [
              "<div>\n",
              "<style scoped>\n",
              "    .dataframe tbody tr th:only-of-type {\n",
              "        vertical-align: middle;\n",
              "    }\n",
              "\n",
              "    .dataframe tbody tr th {\n",
              "        vertical-align: top;\n",
              "    }\n",
              "\n",
              "    .dataframe thead th {\n",
              "        text-align: right;\n",
              "    }\n",
              "</style>\n",
              "<table border=\"1\" class=\"dataframe\">\n",
              "  <thead>\n",
              "    <tr style=\"text-align: right;\">\n",
              "      <th></th>\n",
              "      <th>Data da ocorrência</th>\n",
              "      <th>dia</th>\n",
              "      <th>mês</th>\n",
              "      <th>Tipo</th>\n",
              "      <th>Velocidade</th>\n",
              "      <th>Tratativa</th>\n",
              "      <th>Placa</th>\n",
              "      <th>Motorista</th>\n",
              "      <th>Unnamed: 8</th>\n",
              "      <th>HORA</th>\n",
              "    </tr>\n",
              "  </thead>\n",
              "  <tbody>\n",
              "    <tr>\n",
              "      <th>0</th>\n",
              "      <td>2019-12-01 23:59:00</td>\n",
              "      <td>2019-12-01</td>\n",
              "      <td>2019-12-01</td>\n",
              "      <td>Atten-Warning</td>\n",
              "      <td>33</td>\n",
              "      <td>NaN</td>\n",
              "      <td>CQU5528</td>\n",
              "      <td>C805</td>\n",
              "      <td>NaN</td>\n",
              "      <td>23</td>\n",
              "    </tr>\n",
              "    <tr>\n",
              "      <th>1</th>\n",
              "      <td>2019-12-01 23:10:00</td>\n",
              "      <td>2019-12-01</td>\n",
              "      <td>2019-12-01</td>\n",
              "      <td>Atten-Warning</td>\n",
              "      <td>37</td>\n",
              "      <td>NaN</td>\n",
              "      <td>QPY2670</td>\n",
              "      <td>C784</td>\n",
              "      <td>NaN</td>\n",
              "      <td>23</td>\n",
              "    </tr>\n",
              "  </tbody>\n",
              "</table>\n",
              "</div>"
            ],
            "text/plain": [
              "   Data da ocorrência        dia        mês  ... Motorista  Unnamed: 8 HORA\n",
              "0 2019-12-01 23:59:00 2019-12-01 2019-12-01  ...      C805         NaN   23\n",
              "1 2019-12-01 23:10:00 2019-12-01 2019-12-01  ...      C784         NaN   23\n",
              "\n",
              "[2 rows x 10 columns]"
            ]
          },
          "metadata": {
            "tags": []
          },
          "execution_count": 216
        }
      ]
    },
    {
      "cell_type": "markdown",
      "metadata": {
        "id": "dlFXrCqFl_KW"
      },
      "source": [
        "# **Seleção dos dados**"
      ]
    },
    {
      "cell_type": "markdown",
      "metadata": {
        "id": "Hr6-zODlOxE-"
      },
      "source": [
        "## **Estradas**"
      ]
    },
    {
      "cell_type": "code",
      "metadata": {
        "colab": {
          "base_uri": "https://localhost:8080/",
          "height": 542
        },
        "id": "1nOYG8OMPfHb",
        "outputId": "6407f240-ff8a-4be1-afe0-d402fe5d6bda"
      },
      "source": [
        "graphics_plot(y=[taxa, fluxo, acidentes], y_name=['Accidents/traffic', 'Traffic','Accidents (raw)'],\r\n",
        "              bins=24, yaxes_title=['Accidents/traffic, Traffic','Accidents'], title='Accidents, traffic and accidents / traffic',\r\n",
        "              x_tick=2)"
      ],
      "execution_count": 217,
      "outputs": [
        {
          "output_type": "display_data",
          "data": {
            "text/html": [
              "<html>\n",
              "<head><meta charset=\"utf-8\" /></head>\n",
              "<body>\n",
              "    <div>            <script src=\"https://cdnjs.cloudflare.com/ajax/libs/mathjax/2.7.5/MathJax.js?config=TeX-AMS-MML_SVG\"></script><script type=\"text/javascript\">if (window.MathJax) {MathJax.Hub.Config({SVG: {font: \"STIX-Web\"}});}</script>                <script type=\"text/javascript\">window.PlotlyConfig = {MathJaxConfig: 'local'};</script>\n",
              "        <script src=\"https://cdn.plot.ly/plotly-latest.min.js\"></script>                <div id=\"e22ac6fc-0f59-4e80-87cb-9f301bf49275\" class=\"plotly-graph-div\" style=\"height:525px; width:100%;\"></div>            <script type=\"text/javascript\">                                    window.PLOTLYENV=window.PLOTLYENV || {};                                    if (document.getElementById(\"e22ac6fc-0f59-4e80-87cb-9f301bf49275\")) {                    Plotly.newPlot(                        \"e22ac6fc-0f59-4e80-87cb-9f301bf49275\",                        [{\"line\": {\"color\": \"rgb(0, 0, 0)\", \"width\": 2}, \"marker\": {\"size\": 7, \"symbol\": \"circle\"}, \"mode\": \"lines+markers\", \"name\": \"Accidents/traffic\", \"type\": \"scatter\", \"x\": [0.0, 1.0434782608695652, 2.0869565217391304, 3.1304347826086953, 4.173913043478261, 5.217391304347826, 6.260869565217391, 7.304347826086956, 8.347826086956522, 9.391304347826086, 10.434782608695652, 11.478260869565217, 12.521739130434781, 13.565217391304348, 14.608695652173912, 15.652173913043478, 16.695652173913043, 17.73913043478261, 18.782608695652172, 19.82608695652174, 20.869565217391305, 21.913043478260867, 22.956521739130434, 24.0], \"xaxis\": \"x\", \"y\": [0.05142222394945099, 0.06348963040778928, 0.06578315369801359, 0.06688815148505377, 0.06053202240938446, 0.04326656891753909, 0.03275922767224201, 0.03584490981916405, 0.032244932663166345, 0.02872670093992397, 0.02893066029291476, 0.029433786933801755, 0.0274877887538377, 0.02864168450954485, 0.03218762672646417, 0.033578046230858735, 0.03486468711513606, 0.03755673437305434, 0.04467904095901726, 0.043925901669510846, 0.03850927284020072, 0.042594592929131356, 0.04421417077498218, 0.052438483929817745], \"yaxis\": \"y\"}, {\"line\": {\"color\": \"rgb(0, 0, 0)\", \"dash\": \"dash\", \"width\": 2}, \"marker\": {\"size\": 7, \"symbol\": \"star\"}, \"mode\": \"lines+markers\", \"name\": \"Traffic\", \"type\": \"scatter\", \"x\": [0.0, 1.0434782608695652, 2.0869565217391304, 3.1304347826086953, 4.173913043478261, 5.217391304347826, 6.260869565217391, 7.304347826086956, 8.347826086956522, 9.391304347826086, 10.434782608695652, 11.478260869565217, 12.521739130434781, 13.565217391304348, 14.608695652173912, 15.652173913043478, 16.695652173913043, 17.73913043478261, 18.782608695652172, 19.82608695652174, 20.869565217391305, 21.913043478260867, 22.956521739130434, 24.0], \"xaxis\": \"x\", \"y\": [0.013203928322578613, 0.0098226089100822, 0.008109684765694293, 0.008313779097352978, 0.012042572612261425, 0.023484246209716637, 0.044449684642951695, 0.05704190646698589, 0.057901608595074296, 0.05867492382748998, 0.0588989036373298, 0.05776070265078094, 0.05553932324850364, 0.057384352644822896, 0.0599181566259512, 0.061965003557895214, 0.06446583048364696, 0.06630953904636967, 0.06057382280176634, 0.04923031414100578, 0.03836121096154991, 0.03131501616382884, 0.026372551711784688, 0.01886032887457621], \"yaxis\": \"y\"}, {\"line\": {\"color\": \"rgb(0, 0, 0)\", \"dash\": \"dot\", \"width\": 2}, \"marker\": {\"size\": 7, \"symbol\": \"diamond\"}, \"mode\": \"lines+markers\", \"name\": \"Accidents (raw)\", \"type\": \"scatter\", \"x\": [0.0, 1.0434782608695652, 2.0869565217391304, 3.1304347826086953, 4.173913043478261, 5.217391304347826, 6.260869565217391, 7.304347826086956, 8.347826086956522, 9.391304347826086, 10.434782608695652, 11.478260869565217, 12.521739130434781, 13.565217391304348, 14.608695652173912, 15.652173913043478, 16.695652173913043, 17.73913043478261, 18.782608695652172, 19.82608695652174, 20.869565217391305, 21.913043478260867, 22.956521739130434, 24.0], \"xaxis\": \"x\", \"y\": [0.018680266206072313, 0.017157685349661514, 0.014677352019056818, 0.015299481831353705, 0.020055500527991748, 0.027954911960445642, 0.04006188554448637, 0.056253632501371144, 0.051366639107407436, 0.046373228771866636, 0.04688075572400357, 0.04677433878242647, 0.04200194824862272, 0.04521901425168425, 0.05306112425405817, 0.05724412864989645, 0.061836428974877414, 0.0685161385384861, 0.07445911542963794, 0.059495256260181234, 0.04064308576386899, 0.036697473006933476, 0.03208061492620395, 0.02720999336940595], \"yaxis\": \"y2\"}],                        {\"legend\": {\"orientation\": \"h\", \"x\": 0.95, \"xanchor\": \"right\", \"y\": 1.01, \"yanchor\": \"bottom\"}, \"paper_bgcolor\": \"rgba(0,0,0,0)\", \"plot_bgcolor\": \"rgba(0,0,0,0)\", \"template\": {\"data\": {\"bar\": [{\"error_x\": {\"color\": \"#2a3f5f\"}, \"error_y\": {\"color\": \"#2a3f5f\"}, \"marker\": {\"line\": {\"color\": \"#E5ECF6\", \"width\": 0.5}}, \"type\": \"bar\"}], \"barpolar\": [{\"marker\": {\"line\": {\"color\": \"#E5ECF6\", \"width\": 0.5}}, \"type\": \"barpolar\"}], \"carpet\": [{\"aaxis\": {\"endlinecolor\": \"#2a3f5f\", \"gridcolor\": \"white\", \"linecolor\": \"white\", \"minorgridcolor\": \"white\", \"startlinecolor\": \"#2a3f5f\"}, \"baxis\": {\"endlinecolor\": \"#2a3f5f\", \"gridcolor\": \"white\", \"linecolor\": \"white\", \"minorgridcolor\": \"white\", \"startlinecolor\": \"#2a3f5f\"}, \"type\": \"carpet\"}], \"choropleth\": [{\"colorbar\": {\"outlinewidth\": 0, \"ticks\": \"\"}, \"type\": \"choropleth\"}], \"contour\": [{\"colorbar\": {\"outlinewidth\": 0, \"ticks\": \"\"}, \"colorscale\": [[0.0, \"#0d0887\"], [0.1111111111111111, \"#46039f\"], [0.2222222222222222, \"#7201a8\"], [0.3333333333333333, \"#9c179e\"], [0.4444444444444444, \"#bd3786\"], [0.5555555555555556, \"#d8576b\"], [0.6666666666666666, \"#ed7953\"], [0.7777777777777778, \"#fb9f3a\"], [0.8888888888888888, \"#fdca26\"], [1.0, \"#f0f921\"]], \"type\": \"contour\"}], \"contourcarpet\": [{\"colorbar\": {\"outlinewidth\": 0, \"ticks\": \"\"}, \"type\": \"contourcarpet\"}], \"heatmap\": [{\"colorbar\": {\"outlinewidth\": 0, \"ticks\": \"\"}, \"colorscale\": [[0.0, \"#0d0887\"], [0.1111111111111111, \"#46039f\"], [0.2222222222222222, \"#7201a8\"], [0.3333333333333333, \"#9c179e\"], [0.4444444444444444, \"#bd3786\"], [0.5555555555555556, \"#d8576b\"], [0.6666666666666666, \"#ed7953\"], [0.7777777777777778, \"#fb9f3a\"], [0.8888888888888888, \"#fdca26\"], [1.0, \"#f0f921\"]], \"type\": \"heatmap\"}], \"heatmapgl\": [{\"colorbar\": {\"outlinewidth\": 0, \"ticks\": \"\"}, \"colorscale\": [[0.0, \"#0d0887\"], [0.1111111111111111, \"#46039f\"], [0.2222222222222222, \"#7201a8\"], [0.3333333333333333, \"#9c179e\"], [0.4444444444444444, \"#bd3786\"], [0.5555555555555556, \"#d8576b\"], [0.6666666666666666, \"#ed7953\"], [0.7777777777777778, \"#fb9f3a\"], [0.8888888888888888, \"#fdca26\"], [1.0, \"#f0f921\"]], \"type\": \"heatmapgl\"}], \"histogram\": [{\"marker\": {\"colorbar\": {\"outlinewidth\": 0, \"ticks\": \"\"}}, \"type\": \"histogram\"}], \"histogram2d\": [{\"colorbar\": {\"outlinewidth\": 0, \"ticks\": \"\"}, \"colorscale\": [[0.0, \"#0d0887\"], [0.1111111111111111, \"#46039f\"], [0.2222222222222222, \"#7201a8\"], [0.3333333333333333, \"#9c179e\"], [0.4444444444444444, \"#bd3786\"], [0.5555555555555556, \"#d8576b\"], [0.6666666666666666, \"#ed7953\"], [0.7777777777777778, \"#fb9f3a\"], [0.8888888888888888, \"#fdca26\"], [1.0, \"#f0f921\"]], \"type\": \"histogram2d\"}], \"histogram2dcontour\": [{\"colorbar\": {\"outlinewidth\": 0, \"ticks\": \"\"}, \"colorscale\": [[0.0, \"#0d0887\"], [0.1111111111111111, \"#46039f\"], [0.2222222222222222, \"#7201a8\"], [0.3333333333333333, \"#9c179e\"], [0.4444444444444444, \"#bd3786\"], [0.5555555555555556, \"#d8576b\"], [0.6666666666666666, \"#ed7953\"], [0.7777777777777778, \"#fb9f3a\"], [0.8888888888888888, \"#fdca26\"], [1.0, \"#f0f921\"]], \"type\": \"histogram2dcontour\"}], \"mesh3d\": [{\"colorbar\": {\"outlinewidth\": 0, \"ticks\": \"\"}, \"type\": \"mesh3d\"}], \"parcoords\": [{\"line\": {\"colorbar\": {\"outlinewidth\": 0, \"ticks\": \"\"}}, \"type\": \"parcoords\"}], \"pie\": [{\"automargin\": true, \"type\": \"pie\"}], \"scatter\": [{\"marker\": {\"colorbar\": {\"outlinewidth\": 0, \"ticks\": \"\"}}, \"type\": \"scatter\"}], \"scatter3d\": [{\"line\": {\"colorbar\": {\"outlinewidth\": 0, \"ticks\": \"\"}}, \"marker\": {\"colorbar\": {\"outlinewidth\": 0, \"ticks\": \"\"}}, \"type\": \"scatter3d\"}], \"scattercarpet\": [{\"marker\": {\"colorbar\": {\"outlinewidth\": 0, \"ticks\": \"\"}}, \"type\": \"scattercarpet\"}], \"scattergeo\": [{\"marker\": {\"colorbar\": {\"outlinewidth\": 0, \"ticks\": \"\"}}, \"type\": \"scattergeo\"}], \"scattergl\": [{\"marker\": {\"colorbar\": {\"outlinewidth\": 0, \"ticks\": \"\"}}, \"type\": \"scattergl\"}], \"scattermapbox\": [{\"marker\": {\"colorbar\": {\"outlinewidth\": 0, \"ticks\": \"\"}}, \"type\": \"scattermapbox\"}], \"scatterpolar\": [{\"marker\": {\"colorbar\": {\"outlinewidth\": 0, \"ticks\": \"\"}}, \"type\": \"scatterpolar\"}], \"scatterpolargl\": [{\"marker\": {\"colorbar\": {\"outlinewidth\": 0, \"ticks\": \"\"}}, \"type\": \"scatterpolargl\"}], \"scatterternary\": [{\"marker\": {\"colorbar\": {\"outlinewidth\": 0, \"ticks\": \"\"}}, \"type\": \"scatterternary\"}], \"surface\": [{\"colorbar\": {\"outlinewidth\": 0, \"ticks\": \"\"}, \"colorscale\": [[0.0, \"#0d0887\"], [0.1111111111111111, \"#46039f\"], [0.2222222222222222, \"#7201a8\"], [0.3333333333333333, \"#9c179e\"], [0.4444444444444444, \"#bd3786\"], [0.5555555555555556, \"#d8576b\"], [0.6666666666666666, \"#ed7953\"], [0.7777777777777778, \"#fb9f3a\"], [0.8888888888888888, \"#fdca26\"], [1.0, \"#f0f921\"]], \"type\": \"surface\"}], \"table\": [{\"cells\": {\"fill\": {\"color\": \"#EBF0F8\"}, \"line\": {\"color\": \"white\"}}, \"header\": {\"fill\": {\"color\": \"#C8D4E3\"}, \"line\": {\"color\": \"white\"}}, \"type\": \"table\"}]}, \"layout\": {\"annotationdefaults\": {\"arrowcolor\": \"#2a3f5f\", \"arrowhead\": 0, \"arrowwidth\": 1}, \"autotypenumbers\": \"strict\", \"coloraxis\": {\"colorbar\": {\"outlinewidth\": 0, \"ticks\": \"\"}}, \"colorscale\": {\"diverging\": [[0, \"#8e0152\"], [0.1, \"#c51b7d\"], [0.2, \"#de77ae\"], [0.3, \"#f1b6da\"], [0.4, \"#fde0ef\"], [0.5, \"#f7f7f7\"], [0.6, \"#e6f5d0\"], [0.7, \"#b8e186\"], [0.8, \"#7fbc41\"], [0.9, \"#4d9221\"], [1, \"#276419\"]], \"sequential\": [[0.0, \"#0d0887\"], [0.1111111111111111, \"#46039f\"], [0.2222222222222222, \"#7201a8\"], [0.3333333333333333, \"#9c179e\"], [0.4444444444444444, \"#bd3786\"], [0.5555555555555556, \"#d8576b\"], [0.6666666666666666, \"#ed7953\"], [0.7777777777777778, \"#fb9f3a\"], [0.8888888888888888, \"#fdca26\"], [1.0, \"#f0f921\"]], \"sequentialminus\": [[0.0, \"#0d0887\"], [0.1111111111111111, \"#46039f\"], [0.2222222222222222, \"#7201a8\"], [0.3333333333333333, \"#9c179e\"], [0.4444444444444444, \"#bd3786\"], [0.5555555555555556, \"#d8576b\"], [0.6666666666666666, \"#ed7953\"], [0.7777777777777778, \"#fb9f3a\"], [0.8888888888888888, \"#fdca26\"], [1.0, \"#f0f921\"]]}, \"colorway\": [\"#636efa\", \"#EF553B\", \"#00cc96\", \"#ab63fa\", \"#FFA15A\", \"#19d3f3\", \"#FF6692\", \"#B6E880\", \"#FF97FF\", \"#FECB52\"], \"font\": {\"color\": \"#2a3f5f\"}, \"geo\": {\"bgcolor\": \"white\", \"lakecolor\": \"white\", \"landcolor\": \"#E5ECF6\", \"showlakes\": true, \"showland\": true, \"subunitcolor\": \"white\"}, \"hoverlabel\": {\"align\": \"left\"}, \"hovermode\": \"closest\", \"mapbox\": {\"style\": \"light\"}, \"paper_bgcolor\": \"white\", \"plot_bgcolor\": \"#E5ECF6\", \"polar\": {\"angularaxis\": {\"gridcolor\": \"white\", \"linecolor\": \"white\", \"ticks\": \"\"}, \"bgcolor\": \"#E5ECF6\", \"radialaxis\": {\"gridcolor\": \"white\", \"linecolor\": \"white\", \"ticks\": \"\"}}, \"scene\": {\"xaxis\": {\"backgroundcolor\": \"#E5ECF6\", \"gridcolor\": \"white\", \"gridwidth\": 2, \"linecolor\": \"white\", \"showbackground\": true, \"ticks\": \"\", \"zerolinecolor\": \"white\"}, \"yaxis\": {\"backgroundcolor\": \"#E5ECF6\", \"gridcolor\": \"white\", \"gridwidth\": 2, \"linecolor\": \"white\", \"showbackground\": true, \"ticks\": \"\", \"zerolinecolor\": \"white\"}, \"zaxis\": {\"backgroundcolor\": \"#E5ECF6\", \"gridcolor\": \"white\", \"gridwidth\": 2, \"linecolor\": \"white\", \"showbackground\": true, \"ticks\": \"\", \"zerolinecolor\": \"white\"}}, \"shapedefaults\": {\"line\": {\"color\": \"#2a3f5f\"}}, \"ternary\": {\"aaxis\": {\"gridcolor\": \"white\", \"linecolor\": \"white\", \"ticks\": \"\"}, \"baxis\": {\"gridcolor\": \"white\", \"linecolor\": \"white\", \"ticks\": \"\"}, \"bgcolor\": \"#E5ECF6\", \"caxis\": {\"gridcolor\": \"white\", \"linecolor\": \"white\", \"ticks\": \"\"}}, \"title\": {\"x\": 0.05}, \"xaxis\": {\"automargin\": true, \"gridcolor\": \"white\", \"linecolor\": \"white\", \"ticks\": \"\", \"title\": {\"standoff\": 15}, \"zerolinecolor\": \"white\", \"zerolinewidth\": 2}, \"yaxis\": {\"automargin\": true, \"gridcolor\": \"white\", \"linecolor\": \"white\", \"ticks\": \"\", \"title\": {\"standoff\": 15}, \"zerolinecolor\": \"white\", \"zerolinewidth\": 2}}}, \"title\": {\"text\": \"Accidents, traffic and accidents / traffic\"}, \"xaxis\": {\"anchor\": \"y\", \"domain\": [0.0, 0.94], \"dtick\": 2, \"gridcolor\": \"black\", \"gridwidth\": 1, \"linecolor\": \"black\", \"linewidth\": 2, \"mirror\": true, \"showgrid\": true, \"showline\": true, \"tick0\": 0, \"tickmode\": \"linear\", \"title\": {\"text\": \"Time of day\"}}, \"yaxis\": {\"anchor\": \"x\", \"domain\": [0.0, 1.0], \"gridcolor\": \"black\", \"gridwidth\": 1, \"linecolor\": \"black\", \"linewidth\": 2, \"mirror\": true, \"showgrid\": false, \"showline\": true, \"title\": {\"text\": \"<b>Accidents/traffic, Traffic</b>\"}}, \"yaxis2\": {\"anchor\": \"x\", \"gridcolor\": \"black\", \"gridwidth\": 1, \"linecolor\": \"black\", \"linewidth\": 2, \"mirror\": true, \"overlaying\": \"y\", \"showgrid\": false, \"showline\": true, \"side\": \"right\", \"title\": {\"text\": \"<b>Accidents</b>\"}}},                        {\"responsive\": true}                    ).then(function(){\n",
              "                            \n",
              "var gd = document.getElementById('e22ac6fc-0f59-4e80-87cb-9f301bf49275');\n",
              "var x = new MutationObserver(function (mutations, observer) {{\n",
              "        var display = window.getComputedStyle(gd).display;\n",
              "        if (!display || display === 'none') {{\n",
              "            console.log([gd, 'removed!']);\n",
              "            Plotly.purge(gd);\n",
              "            observer.disconnect();\n",
              "        }}\n",
              "}});\n",
              "\n",
              "// Listen for the removal of the full notebook cells\n",
              "var notebookContainer = gd.closest('#notebook-container');\n",
              "if (notebookContainer) {{\n",
              "    x.observe(notebookContainer, {childList: true});\n",
              "}}\n",
              "\n",
              "// Listen for the clearing of the current output cell\n",
              "var outputEl = gd.closest('.output');\n",
              "if (outputEl) {{\n",
              "    x.observe(outputEl, {childList: true});\n",
              "}}\n",
              "\n",
              "                        })                };                            </script>        </div>\n",
              "</body>\n",
              "</html>"
            ]
          },
          "metadata": {
            "tags": []
          }
        }
      ]
    },
    {
      "cell_type": "markdown",
      "metadata": {
        "id": "4NziHuukWQ4U"
      },
      "source": [
        "## **E3**"
      ]
    },
    {
      "cell_type": "markdown",
      "metadata": {
        "id": "-ISS5Hu4V6MZ"
      },
      "source": [
        "**Motoristas por hora**"
      ]
    },
    {
      "cell_type": "code",
      "metadata": {
        "colab": {
          "base_uri": "https://localhost:8080/",
          "height": 306
        },
        "id": "s55ohknyNshG",
        "outputId": "541e554f-7b25-459a-ebbb-e6482f557a5d"
      },
      "source": [
        "dfInfE3.reset_index(inplace=True)\r\n",
        "dfInfE3.head()"
      ],
      "execution_count": 218,
      "outputs": [
        {
          "output_type": "execute_result",
          "data": {
            "text/html": [
              "<div>\n",
              "<style scoped>\n",
              "    .dataframe tbody tr th:only-of-type {\n",
              "        vertical-align: middle;\n",
              "    }\n",
              "\n",
              "    .dataframe tbody tr th {\n",
              "        vertical-align: top;\n",
              "    }\n",
              "\n",
              "    .dataframe thead th {\n",
              "        text-align: right;\n",
              "    }\n",
              "</style>\n",
              "<table border=\"1\" class=\"dataframe\">\n",
              "  <thead>\n",
              "    <tr style=\"text-align: right;\">\n",
              "      <th></th>\n",
              "      <th>index</th>\n",
              "      <th>Empresa</th>\n",
              "      <th>Escala</th>\n",
              "      <th>Jornada</th>\n",
              "      <th>Intervalos</th>\n",
              "      <th>N° de Colaboradores por turno</th>\n",
              "      <th>Tempo médio de deslocamento</th>\n",
              "      <th>Observação</th>\n",
              "      <th>Unnamed: 7</th>\n",
              "      <th>Inicio</th>\n",
              "      <th>Fim</th>\n",
              "    </tr>\n",
              "  </thead>\n",
              "  <tbody>\n",
              "    <tr>\n",
              "      <th>0</th>\n",
              "      <td>30</td>\n",
              "      <td>E3</td>\n",
              "      <td>4X2</td>\n",
              "      <td>4 às 16 horas</td>\n",
              "      <td>1 hora refeição e a cada 3 ou 4 horas 15 min d...</td>\n",
              "      <td>10.0</td>\n",
              "      <td>25 min (van)</td>\n",
              "      <td>Jornada a partir de 17/07/2019</td>\n",
              "      <td>Jornada referente a transporte de madeira</td>\n",
              "      <td>4</td>\n",
              "      <td>16</td>\n",
              "    </tr>\n",
              "    <tr>\n",
              "      <th>1</th>\n",
              "      <td>31</td>\n",
              "      <td>E3</td>\n",
              "      <td>4X2</td>\n",
              "      <td>5 às 17 horas</td>\n",
              "      <td>1 hora refeição e a cada 3 ou 4 horas 15 min d...</td>\n",
              "      <td>8.0</td>\n",
              "      <td>25 min (van)</td>\n",
              "      <td>Jornada a partir de 17/07/2019</td>\n",
              "      <td>Jornada referente a transporte de madeira</td>\n",
              "      <td>5</td>\n",
              "      <td>17</td>\n",
              "    </tr>\n",
              "    <tr>\n",
              "      <th>2</th>\n",
              "      <td>32</td>\n",
              "      <td>E3</td>\n",
              "      <td>4X2</td>\n",
              "      <td>6 às 18 horas</td>\n",
              "      <td>1 hora refeição e a cada 3 ou 4 horas 15 min d...</td>\n",
              "      <td>8.0</td>\n",
              "      <td>25 min (van)</td>\n",
              "      <td>Jornada a partir de 17/07/2019</td>\n",
              "      <td>Jornada referente a transporte de madeira</td>\n",
              "      <td>6</td>\n",
              "      <td>18</td>\n",
              "    </tr>\n",
              "    <tr>\n",
              "      <th>3</th>\n",
              "      <td>33</td>\n",
              "      <td>E3</td>\n",
              "      <td>4X2</td>\n",
              "      <td>7 às 19 horas</td>\n",
              "      <td>1 hora refeição e a cada 3 ou 4 horas 15 min d...</td>\n",
              "      <td>8.0</td>\n",
              "      <td>25 min (van)</td>\n",
              "      <td>Jornada a partir de 17/07/2019</td>\n",
              "      <td>Jornada referente a transporte de madeira</td>\n",
              "      <td>7</td>\n",
              "      <td>19</td>\n",
              "    </tr>\n",
              "    <tr>\n",
              "      <th>4</th>\n",
              "      <td>34</td>\n",
              "      <td>E3</td>\n",
              "      <td>4X2</td>\n",
              "      <td>15 às 03 horas</td>\n",
              "      <td>1 hora refeição e a cada 3 ou 4 horas 15 min d...</td>\n",
              "      <td>8.0</td>\n",
              "      <td>25 min (van)</td>\n",
              "      <td>Jornada a partir de 17/07/2019</td>\n",
              "      <td>Jornada referente a transporte de madeira</td>\n",
              "      <td>15</td>\n",
              "      <td>3</td>\n",
              "    </tr>\n",
              "  </tbody>\n",
              "</table>\n",
              "</div>"
            ],
            "text/plain": [
              "   index Empresa Escala  ...                                 Unnamed: 7 Inicio  Fim\n",
              "0     30      E3    4X2  ...  Jornada referente a transporte de madeira      4   16\n",
              "1     31      E3    4X2  ...  Jornada referente a transporte de madeira      5   17\n",
              "2     32      E3    4X2  ...  Jornada referente a transporte de madeira      6   18\n",
              "3     33      E3    4X2  ...  Jornada referente a transporte de madeira      7   19\n",
              "4     34      E3    4X2  ...  Jornada referente a transporte de madeira     15    3\n",
              "\n",
              "[5 rows x 11 columns]"
            ]
          },
          "metadata": {
            "tags": []
          },
          "execution_count": 218
        }
      ]
    },
    {
      "cell_type": "code",
      "metadata": {
        "id": "DHdfk1wmM2oe"
      },
      "source": [
        "dfE3_motoristas_hora = pd.DataFrame(np.zeros(24, dtype='int64'), columns=['motoristasE3'])\r\n",
        "for index, row in dfInfE3.iterrows():\r\n",
        "    if row['Inicio'] < row['Fim']:\r\n",
        "      dfE3_motoristas_hora['motoristasE3'][row['Inicio']:row['Fim']] += row['N° de Colaboradores por turno']\r\n",
        "    else:\r\n",
        "      dfE3_motoristas_hora['motoristasE3'][0:row['Fim']] += row['N° de Colaboradores por turno']\r\n",
        "      dfE3_motoristas_hora['motoristasE3'][row['Inicio']:24] += row['N° de Colaboradores por turno']"
      ],
      "execution_count": 219,
      "outputs": []
    },
    {
      "cell_type": "code",
      "metadata": {
        "colab": {
          "base_uri": "https://localhost:8080/",
          "height": 824
        },
        "id": "7F3XVxG0UPS0",
        "outputId": "6f8103c8-cede-447d-96af-1a44de49ffd3"
      },
      "source": [
        "dfE3_motoristas_hora.index.name = 'HORA'\r\n",
        "dfE3_motoristas_hora"
      ],
      "execution_count": 220,
      "outputs": [
        {
          "output_type": "execute_result",
          "data": {
            "text/html": [
              "<div>\n",
              "<style scoped>\n",
              "    .dataframe tbody tr th:only-of-type {\n",
              "        vertical-align: middle;\n",
              "    }\n",
              "\n",
              "    .dataframe tbody tr th {\n",
              "        vertical-align: top;\n",
              "    }\n",
              "\n",
              "    .dataframe thead th {\n",
              "        text-align: right;\n",
              "    }\n",
              "</style>\n",
              "<table border=\"1\" class=\"dataframe\">\n",
              "  <thead>\n",
              "    <tr style=\"text-align: right;\">\n",
              "      <th></th>\n",
              "      <th>motoristasE3</th>\n",
              "    </tr>\n",
              "    <tr>\n",
              "      <th>HORA</th>\n",
              "      <th></th>\n",
              "    </tr>\n",
              "  </thead>\n",
              "  <tbody>\n",
              "    <tr>\n",
              "      <th>0</th>\n",
              "      <td>80.0</td>\n",
              "    </tr>\n",
              "    <tr>\n",
              "      <th>1</th>\n",
              "      <td>80.0</td>\n",
              "    </tr>\n",
              "    <tr>\n",
              "      <th>2</th>\n",
              "      <td>68.0</td>\n",
              "    </tr>\n",
              "    <tr>\n",
              "      <th>3</th>\n",
              "      <td>60.0</td>\n",
              "    </tr>\n",
              "    <tr>\n",
              "      <th>4</th>\n",
              "      <td>50.0</td>\n",
              "    </tr>\n",
              "    <tr>\n",
              "      <th>5</th>\n",
              "      <td>50.0</td>\n",
              "    </tr>\n",
              "    <tr>\n",
              "      <th>6</th>\n",
              "      <td>68.0</td>\n",
              "    </tr>\n",
              "    <tr>\n",
              "      <th>7</th>\n",
              "      <td>68.0</td>\n",
              "    </tr>\n",
              "    <tr>\n",
              "      <th>8</th>\n",
              "      <td>68.0</td>\n",
              "    </tr>\n",
              "    <tr>\n",
              "      <th>9</th>\n",
              "      <td>68.0</td>\n",
              "    </tr>\n",
              "    <tr>\n",
              "      <th>10</th>\n",
              "      <td>68.0</td>\n",
              "    </tr>\n",
              "    <tr>\n",
              "      <th>11</th>\n",
              "      <td>68.0</td>\n",
              "    </tr>\n",
              "    <tr>\n",
              "      <th>12</th>\n",
              "      <td>68.0</td>\n",
              "    </tr>\n",
              "    <tr>\n",
              "      <th>13</th>\n",
              "      <td>68.0</td>\n",
              "    </tr>\n",
              "    <tr>\n",
              "      <th>14</th>\n",
              "      <td>80.0</td>\n",
              "    </tr>\n",
              "    <tr>\n",
              "      <th>15</th>\n",
              "      <td>88.0</td>\n",
              "    </tr>\n",
              "    <tr>\n",
              "      <th>16</th>\n",
              "      <td>98.0</td>\n",
              "    </tr>\n",
              "    <tr>\n",
              "      <th>17</th>\n",
              "      <td>98.0</td>\n",
              "    </tr>\n",
              "    <tr>\n",
              "      <th>18</th>\n",
              "      <td>80.0</td>\n",
              "    </tr>\n",
              "    <tr>\n",
              "      <th>19</th>\n",
              "      <td>80.0</td>\n",
              "    </tr>\n",
              "    <tr>\n",
              "      <th>20</th>\n",
              "      <td>80.0</td>\n",
              "    </tr>\n",
              "    <tr>\n",
              "      <th>21</th>\n",
              "      <td>80.0</td>\n",
              "    </tr>\n",
              "    <tr>\n",
              "      <th>22</th>\n",
              "      <td>80.0</td>\n",
              "    </tr>\n",
              "    <tr>\n",
              "      <th>23</th>\n",
              "      <td>80.0</td>\n",
              "    </tr>\n",
              "  </tbody>\n",
              "</table>\n",
              "</div>"
            ],
            "text/plain": [
              "      motoristasE3\n",
              "HORA              \n",
              "0             80.0\n",
              "1             80.0\n",
              "2             68.0\n",
              "3             60.0\n",
              "4             50.0\n",
              "5             50.0\n",
              "6             68.0\n",
              "7             68.0\n",
              "8             68.0\n",
              "9             68.0\n",
              "10            68.0\n",
              "11            68.0\n",
              "12            68.0\n",
              "13            68.0\n",
              "14            80.0\n",
              "15            88.0\n",
              "16            98.0\n",
              "17            98.0\n",
              "18            80.0\n",
              "19            80.0\n",
              "20            80.0\n",
              "21            80.0\n",
              "22            80.0\n",
              "23            80.0"
            ]
          },
          "metadata": {
            "tags": []
          },
          "execution_count": 220
        }
      ]
    },
    {
      "cell_type": "markdown",
      "metadata": {
        "id": "22MD4J1GA1iz"
      },
      "source": [
        "**Eventos por hora**"
      ]
    },
    {
      "cell_type": "code",
      "metadata": {
        "colab": {
          "base_uri": "https://localhost:8080/",
          "height": 111
        },
        "id": "hvuGwqSXcB0X",
        "outputId": "a60b13a3-1fd6-4114-ff4b-65fa686387bc"
      },
      "source": [
        "dfE3.head(2) "
      ],
      "execution_count": 221,
      "outputs": [
        {
          "output_type": "execute_result",
          "data": {
            "text/html": [
              "<div>\n",
              "<style scoped>\n",
              "    .dataframe tbody tr th:only-of-type {\n",
              "        vertical-align: middle;\n",
              "    }\n",
              "\n",
              "    .dataframe tbody tr th {\n",
              "        vertical-align: top;\n",
              "    }\n",
              "\n",
              "    .dataframe thead th {\n",
              "        text-align: right;\n",
              "    }\n",
              "</style>\n",
              "<table border=\"1\" class=\"dataframe\">\n",
              "  <thead>\n",
              "    <tr style=\"text-align: right;\">\n",
              "      <th></th>\n",
              "      <th>HORA</th>\n",
              "      <th>TIPO</th>\n",
              "      <th>QTDE</th>\n",
              "      <th>UO</th>\n",
              "      <th>PREFIXO</th>\n",
              "      <th>LOCALIZAÇÃO</th>\n",
              "      <th>PONTO REFERÊNCIA</th>\n",
              "      <th>DIA DA SEMANA</th>\n",
              "      <th>COLABORADOR</th>\n",
              "    </tr>\n",
              "  </thead>\n",
              "  <tbody>\n",
              "    <tr>\n",
              "      <th>0</th>\n",
              "      <td>0</td>\n",
              "      <td>FADIGA MOTORISTA</td>\n",
              "      <td>AYM8091</td>\n",
              "      <td>MADEIRA</td>\n",
              "      <td>VPP 560</td>\n",
              "      <td>Ortigueira - Paraná</td>\n",
              "      <td>NaN</td>\n",
              "      <td>sex</td>\n",
              "      <td>C170</td>\n",
              "    </tr>\n",
              "    <tr>\n",
              "      <th>1</th>\n",
              "      <td>0</td>\n",
              "      <td>FADIGA MOTORISTA</td>\n",
              "      <td>AYM8091</td>\n",
              "      <td>MADEIRA</td>\n",
              "      <td>VPP 560</td>\n",
              "      <td>Reserva - Paraná</td>\n",
              "      <td>NaN</td>\n",
              "      <td>sex</td>\n",
              "      <td>C170</td>\n",
              "    </tr>\n",
              "  </tbody>\n",
              "</table>\n",
              "</div>"
            ],
            "text/plain": [
              "   HORA              TIPO     QTDE  ... PONTO REFERÊNCIA DIA DA SEMANA COLABORADOR\n",
              "0     0  FADIGA MOTORISTA  AYM8091  ...              NaN           sex        C170\n",
              "1     0  FADIGA MOTORISTA  AYM8091  ...              NaN           sex        C170\n",
              "\n",
              "[2 rows x 9 columns]"
            ]
          },
          "metadata": {
            "tags": []
          },
          "execution_count": 221
        }
      ]
    },
    {
      "cell_type": "code",
      "metadata": {
        "colab": {
          "base_uri": "https://localhost:8080/"
        },
        "id": "QUYT7PYqCE6s",
        "outputId": "e6f302d4-2c75-44ea-ca5f-ff8c2bc491f6"
      },
      "source": [
        "dfE3.shape"
      ],
      "execution_count": 222,
      "outputs": [
        {
          "output_type": "execute_result",
          "data": {
            "text/plain": [
              "(3954, 9)"
            ]
          },
          "metadata": {
            "tags": []
          },
          "execution_count": 222
        }
      ]
    },
    {
      "cell_type": "code",
      "metadata": {
        "colab": {
          "base_uri": "https://localhost:8080/"
        },
        "id": "471-0ZxQA2YG",
        "outputId": "7cb6ef7b-691b-4df2-ff82-7d3ec8ee7c41"
      },
      "source": [
        "dfE3.TIPO.unique()"
      ],
      "execution_count": 223,
      "outputs": [
        {
          "output_type": "execute_result",
          "data": {
            "text/plain": [
              "array(['FADIGA MOTORISTA'], dtype=object)"
            ]
          },
          "metadata": {
            "tags": []
          },
          "execution_count": 223
        }
      ]
    },
    {
      "cell_type": "code",
      "metadata": {
        "colab": {
          "base_uri": "https://localhost:8080/"
        },
        "id": "gBvyF5Z4B6tO",
        "outputId": "ec5f1508-f55e-4600-a3f9-8779077530ee"
      },
      "source": [
        "dfE3['TIPO'].value_counts()"
      ],
      "execution_count": 224,
      "outputs": [
        {
          "output_type": "execute_result",
          "data": {
            "text/plain": [
              "FADIGA MOTORISTA    3954\n",
              "Name: TIPO, dtype: int64"
            ]
          },
          "metadata": {
            "tags": []
          },
          "execution_count": 224
        }
      ]
    },
    {
      "cell_type": "code",
      "metadata": {
        "colab": {
          "base_uri": "https://localhost:8080/"
        },
        "id": "FRwGMyQfPIu1",
        "outputId": "a065fe6b-d9aa-472a-a29a-a78bdfc791f7"
      },
      "source": [
        "dfE3_fad = dfE3.HORA.value_counts().rename('Fadiga').sort_index()\r\n",
        "dfE3_fad"
      ],
      "execution_count": 225,
      "outputs": [
        {
          "output_type": "execute_result",
          "data": {
            "text/plain": [
              "0     225\n",
              "1     357\n",
              "2     278\n",
              "3     267\n",
              "4     274\n",
              "5     202\n",
              "6     131\n",
              "7     133\n",
              "8     146\n",
              "9     147\n",
              "10    240\n",
              "11    166\n",
              "12    158\n",
              "13    186\n",
              "14    162\n",
              "15    113\n",
              "16     97\n",
              "17     97\n",
              "18     67\n",
              "19     84\n",
              "20     69\n",
              "21     76\n",
              "22    119\n",
              "23    160\n",
              "Name: Fadiga, dtype: int64"
            ]
          },
          "metadata": {
            "tags": []
          },
          "execution_count": 225
        }
      ]
    },
    {
      "cell_type": "markdown",
      "metadata": {
        "id": "IqAqqP-nJ_k-"
      },
      "source": [
        "**Acidentes por hora**"
      ]
    },
    {
      "cell_type": "code",
      "metadata": {
        "colab": {
          "base_uri": "https://localhost:8080/",
          "height": 516
        },
        "id": "HnJxGCfpKDPZ",
        "outputId": "424ad1f9-5477-43a4-ae67-cef089acd1ce"
      },
      "source": [
        "dfOCO_TM_E3.head(3)"
      ],
      "execution_count": 226,
      "outputs": [
        {
          "output_type": "execute_result",
          "data": {
            "text/html": [
              "<div>\n",
              "<style scoped>\n",
              "    .dataframe tbody tr th:only-of-type {\n",
              "        vertical-align: middle;\n",
              "    }\n",
              "\n",
              "    .dataframe tbody tr th {\n",
              "        vertical-align: top;\n",
              "    }\n",
              "\n",
              "    .dataframe thead th {\n",
              "        text-align: right;\n",
              "    }\n",
              "</style>\n",
              "<table border=\"1\" class=\"dataframe\">\n",
              "  <thead>\n",
              "    <tr style=\"text-align: right;\">\n",
              "      <th></th>\n",
              "      <th>CLASSIFICAÇÃO</th>\n",
              "      <th>EMPRESA</th>\n",
              "      <th>GERÊNCIA</th>\n",
              "      <th>COORDENAÇÃO</th>\n",
              "      <th>SUB ÁREA</th>\n",
              "      <th>NOME</th>\n",
              "      <th>CARGO</th>\n",
              "      <th>TEMPO DE EMPRESA</th>\n",
              "      <th>IDADE</th>\n",
              "      <th>\\nDATA DA OCORRÊNCIA</th>\n",
              "      <th>DIA DA SEMANA</th>\n",
              "      <th>\\nLOCAL DA OCORRÊNCIA</th>\n",
              "      <th>QUALIDADE PISTA</th>\n",
              "      <th>CARACTERISTICA PISTA</th>\n",
              "      <th>SINALIZAÇÃO</th>\n",
              "      <th>CLIMA</th>\n",
              "      <th>PREFIXO</th>\n",
              "      <th>MODELO</th>\n",
              "      <th>CARREGADO</th>\n",
              "      <th>TIPO</th>\n",
              "      <th>DETALHAMENTO</th>\n",
              "      <th>POTENCIAL</th>\n",
              "      <th>SAP</th>\n",
              "      <th>DIA ESCALA</th>\n",
              "      <th>ESCALA</th>\n",
              "      <th>JORNADA</th>\n",
              "      <th>TEMPO DECORRIDO</th>\n",
              "      <th>DORMIU BEM?</th>\n",
              "      <th>PRÓXIMO PERIODO DE FÉRIAS OU FERIADO</th>\n",
              "      <th>ALIMENTOU</th>\n",
              "      <th>PROBLEMAS SAÚDE</th>\n",
              "      <th>USO MEDICAMENTO</th>\n",
              "      <th>USO ALCOOL/DROGA</th>\n",
              "      <th>PRESSÃO</th>\n",
              "      <th>PRESSA PARA CONCLUIR O TRABALHO</th>\n",
              "      <th>DESCRIÇÃO</th>\n",
              "      <th>HorarioAcidente</th>\n",
              "    </tr>\n",
              "    <tr>\n",
              "      <th>HORA</th>\n",
              "      <th></th>\n",
              "      <th></th>\n",
              "      <th></th>\n",
              "      <th></th>\n",
              "      <th></th>\n",
              "      <th></th>\n",
              "      <th></th>\n",
              "      <th></th>\n",
              "      <th></th>\n",
              "      <th></th>\n",
              "      <th></th>\n",
              "      <th></th>\n",
              "      <th></th>\n",
              "      <th></th>\n",
              "      <th></th>\n",
              "      <th></th>\n",
              "      <th></th>\n",
              "      <th></th>\n",
              "      <th></th>\n",
              "      <th></th>\n",
              "      <th></th>\n",
              "      <th></th>\n",
              "      <th></th>\n",
              "      <th></th>\n",
              "      <th></th>\n",
              "      <th></th>\n",
              "      <th></th>\n",
              "      <th></th>\n",
              "      <th></th>\n",
              "      <th></th>\n",
              "      <th></th>\n",
              "      <th></th>\n",
              "      <th></th>\n",
              "      <th></th>\n",
              "      <th></th>\n",
              "      <th></th>\n",
              "      <th></th>\n",
              "    </tr>\n",
              "  </thead>\n",
              "  <tbody>\n",
              "    <tr>\n",
              "      <th>21:45:00</th>\n",
              "      <td>IAP</td>\n",
              "      <td>E3</td>\n",
              "      <td>LOGÍSTICA</td>\n",
              "      <td>PROG. LOGÍSTICA</td>\n",
              "      <td>PROG. LOGÍSTICA E PÁTIOS</td>\n",
              "      <td>C403</td>\n",
              "      <td>MOTORISTA</td>\n",
              "      <td>5</td>\n",
              "      <td>46.0</td>\n",
              "      <td>2017-01-24</td>\n",
              "      <td>TERÇA-FEIRA</td>\n",
              "      <td>PÁTIO 3 MONTE ALEGRE SENTIDO MESA 01</td>\n",
              "      <td>NaN</td>\n",
              "      <td>NaN</td>\n",
              "      <td>NaN</td>\n",
              "      <td>NaN</td>\n",
              "      <td>VP-O547</td>\n",
              "      <td>TRITREM</td>\n",
              "      <td>SIM</td>\n",
              "      <td>TRANSPORTE DE MADEIRA</td>\n",
              "      <td>AO MOVIMENTAR O TRITREN VP-O547 CARREGADO DO P...</td>\n",
              "      <td>LPG</td>\n",
              "      <td>6088</td>\n",
              "      <td>NaN</td>\n",
              "      <td>NaN</td>\n",
              "      <td>NaN</td>\n",
              "      <td>05:44:00</td>\n",
              "      <td>NaN</td>\n",
              "      <td>NaN</td>\n",
              "      <td>NaN</td>\n",
              "      <td>NaN</td>\n",
              "      <td>NaN</td>\n",
              "      <td>NaN</td>\n",
              "      <td>NaN</td>\n",
              "      <td>NaN</td>\n",
              "      <td>A ORGANIZAÇÃO DO AMBIENTE ESTAVA ADEQUADO? SIM...</td>\n",
              "      <td>21</td>\n",
              "    </tr>\n",
              "    <tr>\n",
              "      <th>13:20:00</th>\n",
              "      <td>IBP</td>\n",
              "      <td>E3</td>\n",
              "      <td>LOGÍSTICA</td>\n",
              "      <td>LOGÍSTICA PRÓPRIA</td>\n",
              "      <td>TRANSPORTE DE MADEIRA</td>\n",
              "      <td>C131</td>\n",
              "      <td>MOTORISTA</td>\n",
              "      <td>16</td>\n",
              "      <td>44.0</td>\n",
              "      <td>2017-02-22</td>\n",
              "      <td>QUARTA-FEIRA</td>\n",
              "      <td>sentido PÁTIO RIO NOVO</td>\n",
              "      <td>CASCALHADA</td>\n",
              "      <td>ACLIVE ACENTUADO</td>\n",
              "      <td>NaN</td>\n",
              "      <td>ENSOLARADO</td>\n",
              "      <td>VPP246</td>\n",
              "      <td>NaN</td>\n",
              "      <td>SIM</td>\n",
              "      <td>TRANSPORTE DE MADEIRA</td>\n",
              "      <td>O COLABORADOR CONDUZIA O VPP246 (CARREGADO DE ...</td>\n",
              "      <td>LPG</td>\n",
              "      <td>6272</td>\n",
              "      <td>NaN</td>\n",
              "      <td>NaN</td>\n",
              "      <td>NaN</td>\n",
              "      <td>NaN</td>\n",
              "      <td>SIM</td>\n",
              "      <td>NaN</td>\n",
              "      <td>NaN</td>\n",
              "      <td>NÃO</td>\n",
              "      <td>NÃO</td>\n",
              "      <td>NÃO</td>\n",
              "      <td>NÃO</td>\n",
              "      <td>NÃO</td>\n",
              "      <td>RELATO DO COLABORADOR COLABORADOR RELATA QUE E...</td>\n",
              "      <td>13</td>\n",
              "    </tr>\n",
              "    <tr>\n",
              "      <th>00:30:00</th>\n",
              "      <td>IBP</td>\n",
              "      <td>E3</td>\n",
              "      <td>LOGÍSTICA</td>\n",
              "      <td>TRANSPORTE FLORESTAL</td>\n",
              "      <td>CARREGAMENTO</td>\n",
              "      <td>C339</td>\n",
              "      <td>OPERADOR DE MÁQUINA FLORESTAL</td>\n",
              "      <td>18</td>\n",
              "      <td>31.0</td>\n",
              "      <td>2017-02-25</td>\n",
              "      <td>SÁBADO</td>\n",
              "      <td>MIRANDINHA</td>\n",
              "      <td>NaN</td>\n",
              "      <td>RETA</td>\n",
              "      <td>NaN</td>\n",
              "      <td>NaN</td>\n",
              "      <td>JSL-053</td>\n",
              "      <td>NaN</td>\n",
              "      <td>SIM</td>\n",
              "      <td>TRANSPORTE DE MADEIRA</td>\n",
              "      <td>O CAMINHÃO JSL 053 ESTAVA SENDO CARREGADO PELA...</td>\n",
              "      <td>LPL</td>\n",
              "      <td>6314</td>\n",
              "      <td>NaN</td>\n",
              "      <td>NaN</td>\n",
              "      <td>NaN</td>\n",
              "      <td>NaN</td>\n",
              "      <td>NaN</td>\n",
              "      <td>NaN</td>\n",
              "      <td>NaN</td>\n",
              "      <td>NaN</td>\n",
              "      <td>NaN</td>\n",
              "      <td>NaN</td>\n",
              "      <td>NaN</td>\n",
              "      <td>NaN</td>\n",
              "      <td>OCASIONADO POR TERCEIROS</td>\n",
              "      <td>0</td>\n",
              "    </tr>\n",
              "  </tbody>\n",
              "</table>\n",
              "</div>"
            ],
            "text/plain": [
              "         CLASSIFICAÇÃO  ... HorarioAcidente\n",
              "HORA                    ...                \n",
              "21:45:00           IAP  ...              21\n",
              "13:20:00           IBP  ...              13\n",
              "00:30:00           IBP  ...               0\n",
              "\n",
              "[3 rows x 37 columns]"
            ]
          },
          "metadata": {
            "tags": []
          },
          "execution_count": 226
        }
      ]
    },
    {
      "cell_type": "code",
      "metadata": {
        "colab": {
          "base_uri": "https://localhost:8080/"
        },
        "id": "u0s9doKzKo4n",
        "outputId": "0ea6bd6f-6c62-481e-b362-a5233b325dd5"
      },
      "source": [
        "dfOCO_TM_E3.CARGO.value_counts()"
      ],
      "execution_count": 227,
      "outputs": [
        {
          "output_type": "execute_result",
          "data": {
            "text/plain": [
              "MOTORISTA                          29\n",
              "MOTORISTA TRANSPORTE FLORESTAL     14\n",
              "OPERADOR DE MÁQUINA FLORESTAL       1\n",
              "MOTORISTA BALDEIO INTERNO           1\n",
              "OPERADOR MAQUINAS FLORESTAIS II     1\n",
              "OPERADOR DE MÁQUINA                 1\n",
              "BOMBEIRO FLORESTAL                  1\n",
              "Name: CARGO, dtype: int64"
            ]
          },
          "metadata": {
            "tags": []
          },
          "execution_count": 227
        }
      ]
    },
    {
      "cell_type": "code",
      "metadata": {
        "colab": {
          "base_uri": "https://localhost:8080/",
          "height": 516
        },
        "id": "4Ghdmmg5Ko1H",
        "outputId": "31137dcf-f905-4d4f-9b8a-862df5c4ed3d"
      },
      "source": [
        "dfOCO_TM_E3_moto = dfOCO_TM_E3[(dfOCO_TM_E3.CARGO == 'MOTORISTA') | (dfOCO_TM_E3.CARGO == 'MOTORISTA TRANSPORTE FLORESTAL')]\r\n",
        "dfOCO_TM_E3_moto.head(3)"
      ],
      "execution_count": 228,
      "outputs": [
        {
          "output_type": "execute_result",
          "data": {
            "text/html": [
              "<div>\n",
              "<style scoped>\n",
              "    .dataframe tbody tr th:only-of-type {\n",
              "        vertical-align: middle;\n",
              "    }\n",
              "\n",
              "    .dataframe tbody tr th {\n",
              "        vertical-align: top;\n",
              "    }\n",
              "\n",
              "    .dataframe thead th {\n",
              "        text-align: right;\n",
              "    }\n",
              "</style>\n",
              "<table border=\"1\" class=\"dataframe\">\n",
              "  <thead>\n",
              "    <tr style=\"text-align: right;\">\n",
              "      <th></th>\n",
              "      <th>CLASSIFICAÇÃO</th>\n",
              "      <th>EMPRESA</th>\n",
              "      <th>GERÊNCIA</th>\n",
              "      <th>COORDENAÇÃO</th>\n",
              "      <th>SUB ÁREA</th>\n",
              "      <th>NOME</th>\n",
              "      <th>CARGO</th>\n",
              "      <th>TEMPO DE EMPRESA</th>\n",
              "      <th>IDADE</th>\n",
              "      <th>\\nDATA DA OCORRÊNCIA</th>\n",
              "      <th>DIA DA SEMANA</th>\n",
              "      <th>\\nLOCAL DA OCORRÊNCIA</th>\n",
              "      <th>QUALIDADE PISTA</th>\n",
              "      <th>CARACTERISTICA PISTA</th>\n",
              "      <th>SINALIZAÇÃO</th>\n",
              "      <th>CLIMA</th>\n",
              "      <th>PREFIXO</th>\n",
              "      <th>MODELO</th>\n",
              "      <th>CARREGADO</th>\n",
              "      <th>TIPO</th>\n",
              "      <th>DETALHAMENTO</th>\n",
              "      <th>POTENCIAL</th>\n",
              "      <th>SAP</th>\n",
              "      <th>DIA ESCALA</th>\n",
              "      <th>ESCALA</th>\n",
              "      <th>JORNADA</th>\n",
              "      <th>TEMPO DECORRIDO</th>\n",
              "      <th>DORMIU BEM?</th>\n",
              "      <th>PRÓXIMO PERIODO DE FÉRIAS OU FERIADO</th>\n",
              "      <th>ALIMENTOU</th>\n",
              "      <th>PROBLEMAS SAÚDE</th>\n",
              "      <th>USO MEDICAMENTO</th>\n",
              "      <th>USO ALCOOL/DROGA</th>\n",
              "      <th>PRESSÃO</th>\n",
              "      <th>PRESSA PARA CONCLUIR O TRABALHO</th>\n",
              "      <th>DESCRIÇÃO</th>\n",
              "      <th>HorarioAcidente</th>\n",
              "    </tr>\n",
              "    <tr>\n",
              "      <th>HORA</th>\n",
              "      <th></th>\n",
              "      <th></th>\n",
              "      <th></th>\n",
              "      <th></th>\n",
              "      <th></th>\n",
              "      <th></th>\n",
              "      <th></th>\n",
              "      <th></th>\n",
              "      <th></th>\n",
              "      <th></th>\n",
              "      <th></th>\n",
              "      <th></th>\n",
              "      <th></th>\n",
              "      <th></th>\n",
              "      <th></th>\n",
              "      <th></th>\n",
              "      <th></th>\n",
              "      <th></th>\n",
              "      <th></th>\n",
              "      <th></th>\n",
              "      <th></th>\n",
              "      <th></th>\n",
              "      <th></th>\n",
              "      <th></th>\n",
              "      <th></th>\n",
              "      <th></th>\n",
              "      <th></th>\n",
              "      <th></th>\n",
              "      <th></th>\n",
              "      <th></th>\n",
              "      <th></th>\n",
              "      <th></th>\n",
              "      <th></th>\n",
              "      <th></th>\n",
              "      <th></th>\n",
              "      <th></th>\n",
              "      <th></th>\n",
              "    </tr>\n",
              "  </thead>\n",
              "  <tbody>\n",
              "    <tr>\n",
              "      <th>21:45:00</th>\n",
              "      <td>IAP</td>\n",
              "      <td>E3</td>\n",
              "      <td>LOGÍSTICA</td>\n",
              "      <td>PROG. LOGÍSTICA</td>\n",
              "      <td>PROG. LOGÍSTICA E PÁTIOS</td>\n",
              "      <td>C403</td>\n",
              "      <td>MOTORISTA</td>\n",
              "      <td>5</td>\n",
              "      <td>46.0</td>\n",
              "      <td>2017-01-24</td>\n",
              "      <td>TERÇA-FEIRA</td>\n",
              "      <td>PÁTIO 3 MONTE ALEGRE SENTIDO MESA 01</td>\n",
              "      <td>NaN</td>\n",
              "      <td>NaN</td>\n",
              "      <td>NaN</td>\n",
              "      <td>NaN</td>\n",
              "      <td>VP-O547</td>\n",
              "      <td>TRITREM</td>\n",
              "      <td>SIM</td>\n",
              "      <td>TRANSPORTE DE MADEIRA</td>\n",
              "      <td>AO MOVIMENTAR O TRITREN VP-O547 CARREGADO DO P...</td>\n",
              "      <td>LPG</td>\n",
              "      <td>6088</td>\n",
              "      <td>NaN</td>\n",
              "      <td>NaN</td>\n",
              "      <td>NaN</td>\n",
              "      <td>05:44:00</td>\n",
              "      <td>NaN</td>\n",
              "      <td>NaN</td>\n",
              "      <td>NaN</td>\n",
              "      <td>NaN</td>\n",
              "      <td>NaN</td>\n",
              "      <td>NaN</td>\n",
              "      <td>NaN</td>\n",
              "      <td>NaN</td>\n",
              "      <td>A ORGANIZAÇÃO DO AMBIENTE ESTAVA ADEQUADO? SIM...</td>\n",
              "      <td>21</td>\n",
              "    </tr>\n",
              "    <tr>\n",
              "      <th>13:20:00</th>\n",
              "      <td>IBP</td>\n",
              "      <td>E3</td>\n",
              "      <td>LOGÍSTICA</td>\n",
              "      <td>LOGÍSTICA PRÓPRIA</td>\n",
              "      <td>TRANSPORTE DE MADEIRA</td>\n",
              "      <td>C131</td>\n",
              "      <td>MOTORISTA</td>\n",
              "      <td>16</td>\n",
              "      <td>44.0</td>\n",
              "      <td>2017-02-22</td>\n",
              "      <td>QUARTA-FEIRA</td>\n",
              "      <td>sentido PÁTIO RIO NOVO</td>\n",
              "      <td>CASCALHADA</td>\n",
              "      <td>ACLIVE ACENTUADO</td>\n",
              "      <td>NaN</td>\n",
              "      <td>ENSOLARADO</td>\n",
              "      <td>VPP246</td>\n",
              "      <td>NaN</td>\n",
              "      <td>SIM</td>\n",
              "      <td>TRANSPORTE DE MADEIRA</td>\n",
              "      <td>O COLABORADOR CONDUZIA O VPP246 (CARREGADO DE ...</td>\n",
              "      <td>LPG</td>\n",
              "      <td>6272</td>\n",
              "      <td>NaN</td>\n",
              "      <td>NaN</td>\n",
              "      <td>NaN</td>\n",
              "      <td>NaN</td>\n",
              "      <td>SIM</td>\n",
              "      <td>NaN</td>\n",
              "      <td>NaN</td>\n",
              "      <td>NÃO</td>\n",
              "      <td>NÃO</td>\n",
              "      <td>NÃO</td>\n",
              "      <td>NÃO</td>\n",
              "      <td>NÃO</td>\n",
              "      <td>RELATO DO COLABORADOR COLABORADOR RELATA QUE E...</td>\n",
              "      <td>13</td>\n",
              "    </tr>\n",
              "    <tr>\n",
              "      <th>20:15:00</th>\n",
              "      <td>OEC</td>\n",
              "      <td>E3</td>\n",
              "      <td>LOGÍSTICA</td>\n",
              "      <td>LOGÍSTICA PRÓPRIA</td>\n",
              "      <td>FROTA PRÓPRIA</td>\n",
              "      <td>C26</td>\n",
              "      <td>MOTORISTA</td>\n",
              "      <td>12</td>\n",
              "      <td>31.0</td>\n",
              "      <td>2017-02-25</td>\n",
              "      <td>SÁBADO</td>\n",
              "      <td>PR-239</td>\n",
              "      <td>ASFALTADA</td>\n",
              "      <td>RETA</td>\n",
              "      <td>NaN</td>\n",
              "      <td>NaN</td>\n",
              "      <td>VPP-525</td>\n",
              "      <td>NaN</td>\n",
              "      <td>SIM</td>\n",
              "      <td>TRANSPORTE DE MADEIRA</td>\n",
              "      <td>COLABORADOR TRAFEGAVA PELA RODOVIA PR-239 COM ...</td>\n",
              "      <td>LPL</td>\n",
              "      <td>6324</td>\n",
              "      <td>NaN</td>\n",
              "      <td>NaN</td>\n",
              "      <td>NaN</td>\n",
              "      <td>NaN</td>\n",
              "      <td>NaN</td>\n",
              "      <td>NaN</td>\n",
              "      <td>NaN</td>\n",
              "      <td>NaN</td>\n",
              "      <td>NaN</td>\n",
              "      <td>NaN</td>\n",
              "      <td>NaN</td>\n",
              "      <td>NaN</td>\n",
              "      <td>MOTORISTA DO VEICULO TERCEIRO FORÇOU ULTRAPASS...</td>\n",
              "      <td>20</td>\n",
              "    </tr>\n",
              "  </tbody>\n",
              "</table>\n",
              "</div>"
            ],
            "text/plain": [
              "         CLASSIFICAÇÃO  ... HorarioAcidente\n",
              "HORA                    ...                \n",
              "21:45:00           IAP  ...              21\n",
              "13:20:00           IBP  ...              13\n",
              "20:15:00           OEC  ...              20\n",
              "\n",
              "[3 rows x 37 columns]"
            ]
          },
          "metadata": {
            "tags": []
          },
          "execution_count": 228
        }
      ]
    },
    {
      "cell_type": "code",
      "metadata": {
        "colab": {
          "base_uri": "https://localhost:8080/"
        },
        "id": "x4awsMn1LVms",
        "outputId": "7f6e3b85-f542-41dc-e7f5-9490ca41bb0f"
      },
      "source": [
        "dfE3_acid_hora = dfOCO_TM_E3_moto.HorarioAcidente.value_counts().sort_index().rename('Acidentes por hora')\r\n",
        "dfE3_acid_hora"
      ],
      "execution_count": 229,
      "outputs": [
        {
          "output_type": "execute_result",
          "data": {
            "text/plain": [
              "0     4\n",
              "1     1\n",
              "2     3\n",
              "3     3\n",
              "4     1\n",
              "5     3\n",
              "6     1\n",
              "7     1\n",
              "8     3\n",
              "9     3\n",
              "10    2\n",
              "11    2\n",
              "12    1\n",
              "13    4\n",
              "14    1\n",
              "15    1\n",
              "16    2\n",
              "18    1\n",
              "20    2\n",
              "21    2\n",
              "22    1\n",
              "23    1\n",
              "Name: Acidentes por hora, dtype: int64"
            ]
          },
          "metadata": {
            "tags": []
          },
          "execution_count": 229
        }
      ]
    },
    {
      "cell_type": "markdown",
      "metadata": {
        "id": "XWv4aLgPP_Gk"
      },
      "source": [
        "**DF final E3**"
      ]
    },
    {
      "cell_type": "code",
      "metadata": {
        "colab": {
          "base_uri": "https://localhost:8080/",
          "height": 824
        },
        "id": "GPgL6wYiR3kH",
        "outputId": "5a7afd52-803e-4d1d-dba9-98a4ab76e456"
      },
      "source": [
        "dfE3_final = pd.DataFrame(dfE3_motoristas_hora['motoristasE3'], dtype='int64')\r\n",
        "dfE3_final['Fadiga'] = pd.DataFrame(dfE3_fad)\r\n",
        "dfE3_final['Acidentes'] = pd.DataFrame(dfE3_acid_hora)\r\n",
        "dfE3_final.fillna(0, inplace=True)\r\n",
        "dfE3_final['Acidentes'] = dfE3_final.Acidentes.astype('int64')\r\n",
        "dfE3_final"
      ],
      "execution_count": 230,
      "outputs": [
        {
          "output_type": "execute_result",
          "data": {
            "text/html": [
              "<div>\n",
              "<style scoped>\n",
              "    .dataframe tbody tr th:only-of-type {\n",
              "        vertical-align: middle;\n",
              "    }\n",
              "\n",
              "    .dataframe tbody tr th {\n",
              "        vertical-align: top;\n",
              "    }\n",
              "\n",
              "    .dataframe thead th {\n",
              "        text-align: right;\n",
              "    }\n",
              "</style>\n",
              "<table border=\"1\" class=\"dataframe\">\n",
              "  <thead>\n",
              "    <tr style=\"text-align: right;\">\n",
              "      <th></th>\n",
              "      <th>motoristasE3</th>\n",
              "      <th>Fadiga</th>\n",
              "      <th>Acidentes</th>\n",
              "    </tr>\n",
              "    <tr>\n",
              "      <th>HORA</th>\n",
              "      <th></th>\n",
              "      <th></th>\n",
              "      <th></th>\n",
              "    </tr>\n",
              "  </thead>\n",
              "  <tbody>\n",
              "    <tr>\n",
              "      <th>0</th>\n",
              "      <td>80</td>\n",
              "      <td>225</td>\n",
              "      <td>4</td>\n",
              "    </tr>\n",
              "    <tr>\n",
              "      <th>1</th>\n",
              "      <td>80</td>\n",
              "      <td>357</td>\n",
              "      <td>1</td>\n",
              "    </tr>\n",
              "    <tr>\n",
              "      <th>2</th>\n",
              "      <td>68</td>\n",
              "      <td>278</td>\n",
              "      <td>3</td>\n",
              "    </tr>\n",
              "    <tr>\n",
              "      <th>3</th>\n",
              "      <td>60</td>\n",
              "      <td>267</td>\n",
              "      <td>3</td>\n",
              "    </tr>\n",
              "    <tr>\n",
              "      <th>4</th>\n",
              "      <td>50</td>\n",
              "      <td>274</td>\n",
              "      <td>1</td>\n",
              "    </tr>\n",
              "    <tr>\n",
              "      <th>5</th>\n",
              "      <td>50</td>\n",
              "      <td>202</td>\n",
              "      <td>3</td>\n",
              "    </tr>\n",
              "    <tr>\n",
              "      <th>6</th>\n",
              "      <td>68</td>\n",
              "      <td>131</td>\n",
              "      <td>1</td>\n",
              "    </tr>\n",
              "    <tr>\n",
              "      <th>7</th>\n",
              "      <td>68</td>\n",
              "      <td>133</td>\n",
              "      <td>1</td>\n",
              "    </tr>\n",
              "    <tr>\n",
              "      <th>8</th>\n",
              "      <td>68</td>\n",
              "      <td>146</td>\n",
              "      <td>3</td>\n",
              "    </tr>\n",
              "    <tr>\n",
              "      <th>9</th>\n",
              "      <td>68</td>\n",
              "      <td>147</td>\n",
              "      <td>3</td>\n",
              "    </tr>\n",
              "    <tr>\n",
              "      <th>10</th>\n",
              "      <td>68</td>\n",
              "      <td>240</td>\n",
              "      <td>2</td>\n",
              "    </tr>\n",
              "    <tr>\n",
              "      <th>11</th>\n",
              "      <td>68</td>\n",
              "      <td>166</td>\n",
              "      <td>2</td>\n",
              "    </tr>\n",
              "    <tr>\n",
              "      <th>12</th>\n",
              "      <td>68</td>\n",
              "      <td>158</td>\n",
              "      <td>1</td>\n",
              "    </tr>\n",
              "    <tr>\n",
              "      <th>13</th>\n",
              "      <td>68</td>\n",
              "      <td>186</td>\n",
              "      <td>4</td>\n",
              "    </tr>\n",
              "    <tr>\n",
              "      <th>14</th>\n",
              "      <td>80</td>\n",
              "      <td>162</td>\n",
              "      <td>1</td>\n",
              "    </tr>\n",
              "    <tr>\n",
              "      <th>15</th>\n",
              "      <td>88</td>\n",
              "      <td>113</td>\n",
              "      <td>1</td>\n",
              "    </tr>\n",
              "    <tr>\n",
              "      <th>16</th>\n",
              "      <td>98</td>\n",
              "      <td>97</td>\n",
              "      <td>2</td>\n",
              "    </tr>\n",
              "    <tr>\n",
              "      <th>17</th>\n",
              "      <td>98</td>\n",
              "      <td>97</td>\n",
              "      <td>0</td>\n",
              "    </tr>\n",
              "    <tr>\n",
              "      <th>18</th>\n",
              "      <td>80</td>\n",
              "      <td>67</td>\n",
              "      <td>1</td>\n",
              "    </tr>\n",
              "    <tr>\n",
              "      <th>19</th>\n",
              "      <td>80</td>\n",
              "      <td>84</td>\n",
              "      <td>0</td>\n",
              "    </tr>\n",
              "    <tr>\n",
              "      <th>20</th>\n",
              "      <td>80</td>\n",
              "      <td>69</td>\n",
              "      <td>2</td>\n",
              "    </tr>\n",
              "    <tr>\n",
              "      <th>21</th>\n",
              "      <td>80</td>\n",
              "      <td>76</td>\n",
              "      <td>2</td>\n",
              "    </tr>\n",
              "    <tr>\n",
              "      <th>22</th>\n",
              "      <td>80</td>\n",
              "      <td>119</td>\n",
              "      <td>1</td>\n",
              "    </tr>\n",
              "    <tr>\n",
              "      <th>23</th>\n",
              "      <td>80</td>\n",
              "      <td>160</td>\n",
              "      <td>1</td>\n",
              "    </tr>\n",
              "  </tbody>\n",
              "</table>\n",
              "</div>"
            ],
            "text/plain": [
              "      motoristasE3  Fadiga  Acidentes\n",
              "HORA                                 \n",
              "0               80     225          4\n",
              "1               80     357          1\n",
              "2               68     278          3\n",
              "3               60     267          3\n",
              "4               50     274          1\n",
              "5               50     202          3\n",
              "6               68     131          1\n",
              "7               68     133          1\n",
              "8               68     146          3\n",
              "9               68     147          3\n",
              "10              68     240          2\n",
              "11              68     166          2\n",
              "12              68     158          1\n",
              "13              68     186          4\n",
              "14              80     162          1\n",
              "15              88     113          1\n",
              "16              98      97          2\n",
              "17              98      97          0\n",
              "18              80      67          1\n",
              "19              80      84          0\n",
              "20              80      69          2\n",
              "21              80      76          2\n",
              "22              80     119          1\n",
              "23              80     160          1"
            ]
          },
          "metadata": {
            "tags": []
          },
          "execution_count": 230
        }
      ]
    },
    {
      "cell_type": "markdown",
      "metadata": {
        "id": "kXATWDn_8AUU"
      },
      "source": [
        "### **Visualização**"
      ]
    },
    {
      "cell_type": "code",
      "metadata": {
        "colab": {
          "base_uri": "https://localhost:8080/"
        },
        "id": "bw3RiPkl8FxT",
        "outputId": "88a8dd30-36ab-498b-ec66-e66d6c86b287"
      },
      "source": [
        "counts, bins = np.histogram(dfE3['HORA'], bins=range(0, 25, 3))\r\n",
        "counts"
      ],
      "execution_count": 231,
      "outputs": [
        {
          "output_type": "execute_result",
          "data": {
            "text/plain": [
              "array([860, 743, 410, 553, 506, 307, 220, 355])"
            ]
          },
          "metadata": {
            "tags": []
          },
          "execution_count": 231
        }
      ]
    },
    {
      "cell_type": "code",
      "metadata": {
        "colab": {
          "base_uri": "https://localhost:8080/"
        },
        "id": "rdoerYms8FUI",
        "outputId": "e4897927-5952-482d-9130-070cb3f581bb"
      },
      "source": [
        "b = np.array(dfE3_final['motoristasE3'])\r\n",
        "b"
      ],
      "execution_count": 232,
      "outputs": [
        {
          "output_type": "execute_result",
          "data": {
            "text/plain": [
              "array([80, 80, 68, 60, 50, 50, 68, 68, 68, 68, 68, 68, 68, 68, 80, 88, 98,\n",
              "       98, 80, 80, 80, 80, 80, 80])"
            ]
          },
          "metadata": {
            "tags": []
          },
          "execution_count": 232
        }
      ]
    },
    {
      "cell_type": "code",
      "metadata": {
        "colab": {
          "base_uri": "https://localhost:8080/"
        },
        "id": "-c2uKcpH9_ke",
        "outputId": "0da1c42c-c243-4609-cff3-0a0b3c9f5547"
      },
      "source": [
        "c = b.reshape((8,3)).sum(axis=1)\r\n",
        "c"
      ],
      "execution_count": 233,
      "outputs": [
        {
          "output_type": "execute_result",
          "data": {
            "text/plain": [
              "array([228, 160, 204, 204, 216, 284, 240, 240])"
            ]
          },
          "metadata": {
            "tags": []
          },
          "execution_count": 233
        }
      ]
    },
    {
      "cell_type": "code",
      "metadata": {
        "id": "UlklNaMxh7yL"
      },
      "source": [
        "## Variáveis da função\r\n",
        "Nbins = 9\r\n",
        "ticks = 3"
      ],
      "execution_count": 234,
      "outputs": []
    },
    {
      "cell_type": "code",
      "metadata": {
        "colab": {
          "base_uri": "https://localhost:8080/",
          "height": 542
        },
        "id": "J0hgvyoJ-T6t",
        "outputId": "f158dca8-be7f-4ea1-db8d-a51fdb8cb506"
      },
      "source": [
        "graphics_plot(y = [counts, counts/c], y_name = ['Events(raw)', 'Events/Drivers'], \r\n",
        "              bins = Nbins, title = 'Events company E3', yaxes_title = ['Raw', 'Rate'], \r\n",
        "              x_tick = ticks)"
      ],
      "execution_count": 235,
      "outputs": [
        {
          "output_type": "display_data",
          "data": {
            "text/html": [
              "<html>\n",
              "<head><meta charset=\"utf-8\" /></head>\n",
              "<body>\n",
              "    <div>            <script src=\"https://cdnjs.cloudflare.com/ajax/libs/mathjax/2.7.5/MathJax.js?config=TeX-AMS-MML_SVG\"></script><script type=\"text/javascript\">if (window.MathJax) {MathJax.Hub.Config({SVG: {font: \"STIX-Web\"}});}</script>                <script type=\"text/javascript\">window.PlotlyConfig = {MathJaxConfig: 'local'};</script>\n",
              "        <script src=\"https://cdn.plot.ly/plotly-latest.min.js\"></script>                <div id=\"ba6a99e7-9fbb-48a8-95b6-e0b1245005fb\" class=\"plotly-graph-div\" style=\"height:525px; width:100%;\"></div>            <script type=\"text/javascript\">                                    window.PLOTLYENV=window.PLOTLYENV || {};                                    if (document.getElementById(\"ba6a99e7-9fbb-48a8-95b6-e0b1245005fb\")) {                    Plotly.newPlot(                        \"ba6a99e7-9fbb-48a8-95b6-e0b1245005fb\",                        [{\"line\": {\"color\": \"rgb(0, 0, 0)\", \"width\": 2}, \"marker\": {\"size\": 7, \"symbol\": \"circle\"}, \"mode\": \"lines+markers\", \"name\": \"Events(raw)\", \"type\": \"scatter\", \"x\": [0.0, 3.0, 6.0, 9.0, 12.0, 15.0, 18.0, 21.0, 24.0], \"xaxis\": \"x\", \"y\": [860, 743, 410, 553, 506, 307, 220, 355], \"yaxis\": \"y\"}, {\"line\": {\"color\": \"rgb(0, 0, 0)\", \"dash\": \"dash\", \"width\": 2}, \"marker\": {\"size\": 7, \"symbol\": \"star\"}, \"mode\": \"lines+markers\", \"name\": \"Events/Drivers\", \"type\": \"scatter\", \"x\": [0.0, 3.0, 6.0, 9.0, 12.0, 15.0, 18.0, 21.0, 24.0], \"xaxis\": \"x\", \"y\": [3.7719298245614037, 4.64375, 2.0098039215686274, 2.7107843137254903, 2.3425925925925926, 1.0809859154929577, 0.9166666666666666, 1.4791666666666667], \"yaxis\": \"y2\"}],                        {\"legend\": {\"orientation\": \"h\", \"x\": 0.95, \"xanchor\": \"right\", \"y\": 1.01, \"yanchor\": \"bottom\"}, \"paper_bgcolor\": \"rgba(0,0,0,0)\", \"plot_bgcolor\": \"rgba(0,0,0,0)\", \"template\": {\"data\": {\"bar\": [{\"error_x\": {\"color\": \"#2a3f5f\"}, \"error_y\": {\"color\": \"#2a3f5f\"}, \"marker\": {\"line\": {\"color\": \"#E5ECF6\", \"width\": 0.5}}, \"type\": \"bar\"}], \"barpolar\": [{\"marker\": {\"line\": {\"color\": \"#E5ECF6\", \"width\": 0.5}}, \"type\": \"barpolar\"}], \"carpet\": [{\"aaxis\": {\"endlinecolor\": \"#2a3f5f\", \"gridcolor\": \"white\", \"linecolor\": \"white\", \"minorgridcolor\": \"white\", \"startlinecolor\": \"#2a3f5f\"}, \"baxis\": {\"endlinecolor\": \"#2a3f5f\", \"gridcolor\": \"white\", \"linecolor\": \"white\", \"minorgridcolor\": \"white\", \"startlinecolor\": \"#2a3f5f\"}, \"type\": \"carpet\"}], \"choropleth\": [{\"colorbar\": {\"outlinewidth\": 0, \"ticks\": \"\"}, \"type\": \"choropleth\"}], \"contour\": [{\"colorbar\": {\"outlinewidth\": 0, \"ticks\": \"\"}, \"colorscale\": [[0.0, \"#0d0887\"], [0.1111111111111111, \"#46039f\"], [0.2222222222222222, \"#7201a8\"], [0.3333333333333333, \"#9c179e\"], [0.4444444444444444, \"#bd3786\"], [0.5555555555555556, \"#d8576b\"], [0.6666666666666666, \"#ed7953\"], [0.7777777777777778, \"#fb9f3a\"], [0.8888888888888888, \"#fdca26\"], [1.0, \"#f0f921\"]], \"type\": \"contour\"}], \"contourcarpet\": [{\"colorbar\": {\"outlinewidth\": 0, \"ticks\": \"\"}, \"type\": \"contourcarpet\"}], \"heatmap\": [{\"colorbar\": {\"outlinewidth\": 0, \"ticks\": \"\"}, \"colorscale\": [[0.0, \"#0d0887\"], [0.1111111111111111, \"#46039f\"], [0.2222222222222222, \"#7201a8\"], [0.3333333333333333, \"#9c179e\"], [0.4444444444444444, \"#bd3786\"], [0.5555555555555556, \"#d8576b\"], [0.6666666666666666, \"#ed7953\"], [0.7777777777777778, \"#fb9f3a\"], [0.8888888888888888, \"#fdca26\"], [1.0, \"#f0f921\"]], \"type\": \"heatmap\"}], \"heatmapgl\": [{\"colorbar\": {\"outlinewidth\": 0, \"ticks\": \"\"}, \"colorscale\": [[0.0, \"#0d0887\"], [0.1111111111111111, \"#46039f\"], [0.2222222222222222, \"#7201a8\"], [0.3333333333333333, \"#9c179e\"], [0.4444444444444444, \"#bd3786\"], [0.5555555555555556, \"#d8576b\"], [0.6666666666666666, \"#ed7953\"], [0.7777777777777778, \"#fb9f3a\"], [0.8888888888888888, \"#fdca26\"], [1.0, \"#f0f921\"]], \"type\": \"heatmapgl\"}], \"histogram\": [{\"marker\": {\"colorbar\": {\"outlinewidth\": 0, \"ticks\": \"\"}}, \"type\": \"histogram\"}], \"histogram2d\": [{\"colorbar\": {\"outlinewidth\": 0, \"ticks\": \"\"}, \"colorscale\": [[0.0, \"#0d0887\"], [0.1111111111111111, \"#46039f\"], [0.2222222222222222, \"#7201a8\"], [0.3333333333333333, \"#9c179e\"], [0.4444444444444444, \"#bd3786\"], [0.5555555555555556, \"#d8576b\"], [0.6666666666666666, \"#ed7953\"], [0.7777777777777778, \"#fb9f3a\"], [0.8888888888888888, \"#fdca26\"], [1.0, \"#f0f921\"]], \"type\": \"histogram2d\"}], \"histogram2dcontour\": [{\"colorbar\": {\"outlinewidth\": 0, \"ticks\": \"\"}, \"colorscale\": [[0.0, \"#0d0887\"], [0.1111111111111111, \"#46039f\"], [0.2222222222222222, \"#7201a8\"], [0.3333333333333333, \"#9c179e\"], [0.4444444444444444, \"#bd3786\"], [0.5555555555555556, \"#d8576b\"], [0.6666666666666666, \"#ed7953\"], [0.7777777777777778, \"#fb9f3a\"], [0.8888888888888888, \"#fdca26\"], [1.0, \"#f0f921\"]], \"type\": \"histogram2dcontour\"}], \"mesh3d\": [{\"colorbar\": {\"outlinewidth\": 0, \"ticks\": \"\"}, \"type\": \"mesh3d\"}], \"parcoords\": [{\"line\": {\"colorbar\": {\"outlinewidth\": 0, \"ticks\": \"\"}}, \"type\": \"parcoords\"}], \"pie\": [{\"automargin\": true, \"type\": \"pie\"}], \"scatter\": [{\"marker\": {\"colorbar\": {\"outlinewidth\": 0, \"ticks\": \"\"}}, \"type\": \"scatter\"}], \"scatter3d\": [{\"line\": {\"colorbar\": {\"outlinewidth\": 0, \"ticks\": \"\"}}, \"marker\": {\"colorbar\": {\"outlinewidth\": 0, \"ticks\": \"\"}}, \"type\": \"scatter3d\"}], \"scattercarpet\": [{\"marker\": {\"colorbar\": {\"outlinewidth\": 0, \"ticks\": \"\"}}, \"type\": \"scattercarpet\"}], \"scattergeo\": [{\"marker\": {\"colorbar\": {\"outlinewidth\": 0, \"ticks\": \"\"}}, \"type\": \"scattergeo\"}], \"scattergl\": [{\"marker\": {\"colorbar\": {\"outlinewidth\": 0, \"ticks\": \"\"}}, \"type\": \"scattergl\"}], \"scattermapbox\": [{\"marker\": {\"colorbar\": {\"outlinewidth\": 0, \"ticks\": \"\"}}, \"type\": \"scattermapbox\"}], \"scatterpolar\": [{\"marker\": {\"colorbar\": {\"outlinewidth\": 0, \"ticks\": \"\"}}, \"type\": \"scatterpolar\"}], \"scatterpolargl\": [{\"marker\": {\"colorbar\": {\"outlinewidth\": 0, \"ticks\": \"\"}}, \"type\": \"scatterpolargl\"}], \"scatterternary\": [{\"marker\": {\"colorbar\": {\"outlinewidth\": 0, \"ticks\": \"\"}}, \"type\": \"scatterternary\"}], \"surface\": [{\"colorbar\": {\"outlinewidth\": 0, \"ticks\": \"\"}, \"colorscale\": [[0.0, \"#0d0887\"], [0.1111111111111111, \"#46039f\"], [0.2222222222222222, \"#7201a8\"], [0.3333333333333333, \"#9c179e\"], [0.4444444444444444, \"#bd3786\"], [0.5555555555555556, \"#d8576b\"], [0.6666666666666666, \"#ed7953\"], [0.7777777777777778, \"#fb9f3a\"], [0.8888888888888888, \"#fdca26\"], [1.0, \"#f0f921\"]], \"type\": \"surface\"}], \"table\": [{\"cells\": {\"fill\": {\"color\": \"#EBF0F8\"}, \"line\": {\"color\": \"white\"}}, \"header\": {\"fill\": {\"color\": \"#C8D4E3\"}, \"line\": {\"color\": \"white\"}}, \"type\": \"table\"}]}, \"layout\": {\"annotationdefaults\": {\"arrowcolor\": \"#2a3f5f\", \"arrowhead\": 0, \"arrowwidth\": 1}, \"autotypenumbers\": \"strict\", \"coloraxis\": {\"colorbar\": {\"outlinewidth\": 0, \"ticks\": \"\"}}, \"colorscale\": {\"diverging\": [[0, \"#8e0152\"], [0.1, \"#c51b7d\"], [0.2, \"#de77ae\"], [0.3, \"#f1b6da\"], [0.4, \"#fde0ef\"], [0.5, \"#f7f7f7\"], [0.6, \"#e6f5d0\"], [0.7, \"#b8e186\"], [0.8, \"#7fbc41\"], [0.9, \"#4d9221\"], [1, \"#276419\"]], \"sequential\": [[0.0, \"#0d0887\"], [0.1111111111111111, \"#46039f\"], [0.2222222222222222, \"#7201a8\"], [0.3333333333333333, \"#9c179e\"], [0.4444444444444444, \"#bd3786\"], [0.5555555555555556, \"#d8576b\"], [0.6666666666666666, \"#ed7953\"], [0.7777777777777778, \"#fb9f3a\"], [0.8888888888888888, \"#fdca26\"], [1.0, \"#f0f921\"]], \"sequentialminus\": [[0.0, \"#0d0887\"], [0.1111111111111111, \"#46039f\"], [0.2222222222222222, \"#7201a8\"], [0.3333333333333333, \"#9c179e\"], [0.4444444444444444, \"#bd3786\"], [0.5555555555555556, \"#d8576b\"], [0.6666666666666666, \"#ed7953\"], [0.7777777777777778, \"#fb9f3a\"], [0.8888888888888888, \"#fdca26\"], [1.0, \"#f0f921\"]]}, \"colorway\": [\"#636efa\", \"#EF553B\", \"#00cc96\", \"#ab63fa\", \"#FFA15A\", \"#19d3f3\", \"#FF6692\", \"#B6E880\", \"#FF97FF\", \"#FECB52\"], \"font\": {\"color\": \"#2a3f5f\"}, \"geo\": {\"bgcolor\": \"white\", \"lakecolor\": \"white\", \"landcolor\": \"#E5ECF6\", \"showlakes\": true, \"showland\": true, \"subunitcolor\": \"white\"}, \"hoverlabel\": {\"align\": \"left\"}, \"hovermode\": \"closest\", \"mapbox\": {\"style\": \"light\"}, \"paper_bgcolor\": \"white\", \"plot_bgcolor\": \"#E5ECF6\", \"polar\": {\"angularaxis\": {\"gridcolor\": \"white\", \"linecolor\": \"white\", \"ticks\": \"\"}, \"bgcolor\": \"#E5ECF6\", \"radialaxis\": {\"gridcolor\": \"white\", \"linecolor\": \"white\", \"ticks\": \"\"}}, \"scene\": {\"xaxis\": {\"backgroundcolor\": \"#E5ECF6\", \"gridcolor\": \"white\", \"gridwidth\": 2, \"linecolor\": \"white\", \"showbackground\": true, \"ticks\": \"\", \"zerolinecolor\": \"white\"}, \"yaxis\": {\"backgroundcolor\": \"#E5ECF6\", \"gridcolor\": \"white\", \"gridwidth\": 2, \"linecolor\": \"white\", \"showbackground\": true, \"ticks\": \"\", \"zerolinecolor\": \"white\"}, \"zaxis\": {\"backgroundcolor\": \"#E5ECF6\", \"gridcolor\": \"white\", \"gridwidth\": 2, \"linecolor\": \"white\", \"showbackground\": true, \"ticks\": \"\", \"zerolinecolor\": \"white\"}}, \"shapedefaults\": {\"line\": {\"color\": \"#2a3f5f\"}}, \"ternary\": {\"aaxis\": {\"gridcolor\": \"white\", \"linecolor\": \"white\", \"ticks\": \"\"}, \"baxis\": {\"gridcolor\": \"white\", \"linecolor\": \"white\", \"ticks\": \"\"}, \"bgcolor\": \"#E5ECF6\", \"caxis\": {\"gridcolor\": \"white\", \"linecolor\": \"white\", \"ticks\": \"\"}}, \"title\": {\"x\": 0.05}, \"xaxis\": {\"automargin\": true, \"gridcolor\": \"white\", \"linecolor\": \"white\", \"ticks\": \"\", \"title\": {\"standoff\": 15}, \"zerolinecolor\": \"white\", \"zerolinewidth\": 2}, \"yaxis\": {\"automargin\": true, \"gridcolor\": \"white\", \"linecolor\": \"white\", \"ticks\": \"\", \"title\": {\"standoff\": 15}, \"zerolinecolor\": \"white\", \"zerolinewidth\": 2}}}, \"title\": {\"text\": \"Events company E3\"}, \"xaxis\": {\"anchor\": \"y\", \"domain\": [0.0, 0.94], \"dtick\": 3, \"gridcolor\": \"black\", \"gridwidth\": 1, \"linecolor\": \"black\", \"linewidth\": 2, \"mirror\": true, \"showgrid\": true, \"showline\": true, \"tick0\": 0, \"tickmode\": \"linear\", \"title\": {\"text\": \"Time of day\"}}, \"yaxis\": {\"anchor\": \"x\", \"domain\": [0.0, 1.0], \"gridcolor\": \"black\", \"gridwidth\": 1, \"linecolor\": \"black\", \"linewidth\": 2, \"mirror\": true, \"showgrid\": false, \"showline\": true, \"title\": {\"text\": \"<b>Raw</b>\"}}, \"yaxis2\": {\"anchor\": \"x\", \"gridcolor\": \"black\", \"gridwidth\": 1, \"linecolor\": \"black\", \"linewidth\": 2, \"mirror\": true, \"overlaying\": \"y\", \"showgrid\": false, \"showline\": true, \"side\": \"right\", \"title\": {\"text\": \"<b>Rate</b>\"}}},                        {\"responsive\": true}                    ).then(function(){\n",
              "                            \n",
              "var gd = document.getElementById('ba6a99e7-9fbb-48a8-95b6-e0b1245005fb');\n",
              "var x = new MutationObserver(function (mutations, observer) {{\n",
              "        var display = window.getComputedStyle(gd).display;\n",
              "        if (!display || display === 'none') {{\n",
              "            console.log([gd, 'removed!']);\n",
              "            Plotly.purge(gd);\n",
              "            observer.disconnect();\n",
              "        }}\n",
              "}});\n",
              "\n",
              "// Listen for the removal of the full notebook cells\n",
              "var notebookContainer = gd.closest('#notebook-container');\n",
              "if (notebookContainer) {{\n",
              "    x.observe(notebookContainer, {childList: true});\n",
              "}}\n",
              "\n",
              "// Listen for the clearing of the current output cell\n",
              "var outputEl = gd.closest('.output');\n",
              "if (outputEl) {{\n",
              "    x.observe(outputEl, {childList: true});\n",
              "}}\n",
              "\n",
              "                        })                };                            </script>        </div>\n",
              "</body>\n",
              "</html>"
            ]
          },
          "metadata": {
            "tags": []
          }
        }
      ]
    },
    {
      "cell_type": "markdown",
      "metadata": {
        "id": "lfqvYn_lWULy"
      },
      "source": [
        "##**E5**"
      ]
    },
    {
      "cell_type": "markdown",
      "metadata": {
        "id": "t8eZBCcFAezp"
      },
      "source": [
        "**Motoristas por hora**"
      ]
    },
    {
      "cell_type": "code",
      "metadata": {
        "colab": {
          "base_uri": "https://localhost:8080/",
          "height": 306
        },
        "id": "ASLm6Dd_OTHY",
        "outputId": "1b8cd4ac-c41b-4e48-d2cc-826ca33e2526"
      },
      "source": [
        "dfInfE5.head()"
      ],
      "execution_count": 236,
      "outputs": [
        {
          "output_type": "execute_result",
          "data": {
            "text/html": [
              "<div>\n",
              "<style scoped>\n",
              "    .dataframe tbody tr th:only-of-type {\n",
              "        vertical-align: middle;\n",
              "    }\n",
              "\n",
              "    .dataframe tbody tr th {\n",
              "        vertical-align: top;\n",
              "    }\n",
              "\n",
              "    .dataframe thead th {\n",
              "        text-align: right;\n",
              "    }\n",
              "</style>\n",
              "<table border=\"1\" class=\"dataframe\">\n",
              "  <thead>\n",
              "    <tr style=\"text-align: right;\">\n",
              "      <th></th>\n",
              "      <th>Empresa</th>\n",
              "      <th>Escala</th>\n",
              "      <th>Jornada</th>\n",
              "      <th>Intervalos</th>\n",
              "      <th>N° de Colaboradores por turno</th>\n",
              "      <th>Tempo médio de deslocamento</th>\n",
              "      <th>Observação</th>\n",
              "      <th>Unnamed: 7</th>\n",
              "      <th>Inicio</th>\n",
              "      <th>Fim</th>\n",
              "    </tr>\n",
              "  </thead>\n",
              "  <tbody>\n",
              "    <tr>\n",
              "      <th>0</th>\n",
              "      <td>E5</td>\n",
              "      <td>4X2</td>\n",
              "      <td>00 às 11 horas</td>\n",
              "      <td>1 hora refeição (deve ser entre a 4ª e 6ª hora)</td>\n",
              "      <td>3.0</td>\n",
              "      <td>NaN</td>\n",
              "      <td>NaN</td>\n",
              "      <td>NaN</td>\n",
              "      <td>0</td>\n",
              "      <td>11</td>\n",
              "    </tr>\n",
              "    <tr>\n",
              "      <th>1</th>\n",
              "      <td>E5</td>\n",
              "      <td>4X2</td>\n",
              "      <td>1 às 12 horas</td>\n",
              "      <td>1 hora refeição (deve ser entre a 4ª e 6ª hora)</td>\n",
              "      <td>8.0</td>\n",
              "      <td>NaN</td>\n",
              "      <td>NaN</td>\n",
              "      <td>NaN</td>\n",
              "      <td>1</td>\n",
              "      <td>12</td>\n",
              "    </tr>\n",
              "    <tr>\n",
              "      <th>2</th>\n",
              "      <td>E5</td>\n",
              "      <td>4X2</td>\n",
              "      <td>2 às 13 horas</td>\n",
              "      <td>1 hora refeição (deve ser entre a 4ª e 6ª hora)</td>\n",
              "      <td>6.0</td>\n",
              "      <td>NaN</td>\n",
              "      <td>NaN</td>\n",
              "      <td>NaN</td>\n",
              "      <td>2</td>\n",
              "      <td>13</td>\n",
              "    </tr>\n",
              "    <tr>\n",
              "      <th>3</th>\n",
              "      <td>E5</td>\n",
              "      <td>4X2</td>\n",
              "      <td>4 às 15 horas</td>\n",
              "      <td>1 hora refeição (deve ser entre a 4ª e 6ª hora)</td>\n",
              "      <td>5.0</td>\n",
              "      <td>NaN</td>\n",
              "      <td>NaN</td>\n",
              "      <td>NaN</td>\n",
              "      <td>4</td>\n",
              "      <td>15</td>\n",
              "    </tr>\n",
              "    <tr>\n",
              "      <th>4</th>\n",
              "      <td>E5</td>\n",
              "      <td>4X2</td>\n",
              "      <td>5 às 16 horas</td>\n",
              "      <td>1 hora refeição (deve ser entre a 4ª e 6ª hora)</td>\n",
              "      <td>6.0</td>\n",
              "      <td>NaN</td>\n",
              "      <td>NaN</td>\n",
              "      <td>NaN</td>\n",
              "      <td>5</td>\n",
              "      <td>16</td>\n",
              "    </tr>\n",
              "  </tbody>\n",
              "</table>\n",
              "</div>"
            ],
            "text/plain": [
              "  Empresa Escala         Jornada  ... Unnamed: 7  Inicio Fim\n",
              "0      E5    4X2  00 às 11 horas  ...        NaN       0  11\n",
              "1      E5    4X2   1 às 12 horas  ...        NaN       1  12\n",
              "2      E5    4X2   2 às 13 horas  ...        NaN       2  13\n",
              "3      E5    4X2   4 às 15 horas  ...        NaN       4  15\n",
              "4      E5    4X2   5 às 16 horas  ...        NaN       5  16\n",
              "\n",
              "[5 rows x 10 columns]"
            ]
          },
          "metadata": {
            "tags": []
          },
          "execution_count": 236
        }
      ]
    },
    {
      "cell_type": "code",
      "metadata": {
        "id": "veA3Zi2pV9pr"
      },
      "source": [
        "dfE5_motoristas_hora = pd.DataFrame(np.zeros(24, dtype='int64'),columns=['motoristasE5'])\r\n",
        "for index, row in dfInfE5.iterrows():\r\n",
        "    if row['Inicio'] < row['Fim']:\r\n",
        "      dfE5_motoristas_hora['motoristasE5'][row['Inicio']:row['Fim']] += row['N° de Colaboradores por turno']\r\n",
        "    else:\r\n",
        "      dfE5_motoristas_hora['motoristasE5'][0:row['Fim']] += row['N° de Colaboradores por turno']\r\n",
        "      dfE5_motoristas_hora['motoristasE5'][row['Inicio']:24] += row['N° de Colaboradores por turno']"
      ],
      "execution_count": 237,
      "outputs": []
    },
    {
      "cell_type": "code",
      "metadata": {
        "colab": {
          "base_uri": "https://localhost:8080/",
          "height": 824
        },
        "id": "dBZPgik6V9ps",
        "outputId": "df79f7e8-ab2f-466f-9965-6edbc5a62289"
      },
      "source": [
        "dfE5_motoristas_hora.index.name = 'HORA'\r\n",
        "dfE5_motoristas_hora"
      ],
      "execution_count": 238,
      "outputs": [
        {
          "output_type": "execute_result",
          "data": {
            "text/html": [
              "<div>\n",
              "<style scoped>\n",
              "    .dataframe tbody tr th:only-of-type {\n",
              "        vertical-align: middle;\n",
              "    }\n",
              "\n",
              "    .dataframe tbody tr th {\n",
              "        vertical-align: top;\n",
              "    }\n",
              "\n",
              "    .dataframe thead th {\n",
              "        text-align: right;\n",
              "    }\n",
              "</style>\n",
              "<table border=\"1\" class=\"dataframe\">\n",
              "  <thead>\n",
              "    <tr style=\"text-align: right;\">\n",
              "      <th></th>\n",
              "      <th>motoristasE5</th>\n",
              "    </tr>\n",
              "    <tr>\n",
              "      <th>HORA</th>\n",
              "      <th></th>\n",
              "    </tr>\n",
              "  </thead>\n",
              "  <tbody>\n",
              "    <tr>\n",
              "      <th>0</th>\n",
              "      <td>48.0</td>\n",
              "    </tr>\n",
              "    <tr>\n",
              "      <th>1</th>\n",
              "      <td>50.0</td>\n",
              "    </tr>\n",
              "    <tr>\n",
              "      <th>2</th>\n",
              "      <td>56.0</td>\n",
              "    </tr>\n",
              "    <tr>\n",
              "      <th>3</th>\n",
              "      <td>51.0</td>\n",
              "    </tr>\n",
              "    <tr>\n",
              "      <th>4</th>\n",
              "      <td>50.0</td>\n",
              "    </tr>\n",
              "    <tr>\n",
              "      <th>5</th>\n",
              "      <td>47.0</td>\n",
              "    </tr>\n",
              "    <tr>\n",
              "      <th>6</th>\n",
              "      <td>52.0</td>\n",
              "    </tr>\n",
              "    <tr>\n",
              "      <th>7</th>\n",
              "      <td>50.0</td>\n",
              "    </tr>\n",
              "    <tr>\n",
              "      <th>8</th>\n",
              "      <td>56.0</td>\n",
              "    </tr>\n",
              "    <tr>\n",
              "      <th>9</th>\n",
              "      <td>53.0</td>\n",
              "    </tr>\n",
              "    <tr>\n",
              "      <th>10</th>\n",
              "      <td>50.0</td>\n",
              "    </tr>\n",
              "    <tr>\n",
              "      <th>11</th>\n",
              "      <td>53.0</td>\n",
              "    </tr>\n",
              "    <tr>\n",
              "      <th>12</th>\n",
              "      <td>48.0</td>\n",
              "    </tr>\n",
              "    <tr>\n",
              "      <th>13</th>\n",
              "      <td>50.0</td>\n",
              "    </tr>\n",
              "    <tr>\n",
              "      <th>14</th>\n",
              "      <td>56.0</td>\n",
              "    </tr>\n",
              "    <tr>\n",
              "      <th>15</th>\n",
              "      <td>51.0</td>\n",
              "    </tr>\n",
              "    <tr>\n",
              "      <th>16</th>\n",
              "      <td>50.0</td>\n",
              "    </tr>\n",
              "    <tr>\n",
              "      <th>17</th>\n",
              "      <td>47.0</td>\n",
              "    </tr>\n",
              "    <tr>\n",
              "      <th>18</th>\n",
              "      <td>52.0</td>\n",
              "    </tr>\n",
              "    <tr>\n",
              "      <th>19</th>\n",
              "      <td>50.0</td>\n",
              "    </tr>\n",
              "    <tr>\n",
              "      <th>20</th>\n",
              "      <td>56.0</td>\n",
              "    </tr>\n",
              "    <tr>\n",
              "      <th>21</th>\n",
              "      <td>53.0</td>\n",
              "    </tr>\n",
              "    <tr>\n",
              "      <th>22</th>\n",
              "      <td>50.0</td>\n",
              "    </tr>\n",
              "    <tr>\n",
              "      <th>23</th>\n",
              "      <td>53.0</td>\n",
              "    </tr>\n",
              "  </tbody>\n",
              "</table>\n",
              "</div>"
            ],
            "text/plain": [
              "      motoristasE5\n",
              "HORA              \n",
              "0             48.0\n",
              "1             50.0\n",
              "2             56.0\n",
              "3             51.0\n",
              "4             50.0\n",
              "5             47.0\n",
              "6             52.0\n",
              "7             50.0\n",
              "8             56.0\n",
              "9             53.0\n",
              "10            50.0\n",
              "11            53.0\n",
              "12            48.0\n",
              "13            50.0\n",
              "14            56.0\n",
              "15            51.0\n",
              "16            50.0\n",
              "17            47.0\n",
              "18            52.0\n",
              "19            50.0\n",
              "20            56.0\n",
              "21            53.0\n",
              "22            50.0\n",
              "23            53.0"
            ]
          },
          "metadata": {
            "tags": []
          },
          "execution_count": 238
        }
      ]
    },
    {
      "cell_type": "markdown",
      "metadata": {
        "id": "D0NYIiaoAzl_"
      },
      "source": [
        "**Eventos por hora**"
      ]
    },
    {
      "cell_type": "code",
      "metadata": {
        "colab": {
          "base_uri": "https://localhost:8080/",
          "height": 204
        },
        "id": "IQw0VPoSVeNt",
        "outputId": "3a1d5753-478a-4c4f-8997-a03faa4b0dca"
      },
      "source": [
        "dfE5H.head()"
      ],
      "execution_count": 239,
      "outputs": [
        {
          "output_type": "execute_result",
          "data": {
            "text/html": [
              "<div>\n",
              "<style scoped>\n",
              "    .dataframe tbody tr th:only-of-type {\n",
              "        vertical-align: middle;\n",
              "    }\n",
              "\n",
              "    .dataframe tbody tr th {\n",
              "        vertical-align: top;\n",
              "    }\n",
              "\n",
              "    .dataframe thead th {\n",
              "        text-align: right;\n",
              "    }\n",
              "</style>\n",
              "<table border=\"1\" class=\"dataframe\">\n",
              "  <thead>\n",
              "    <tr style=\"text-align: right;\">\n",
              "      <th></th>\n",
              "      <th>Nome</th>\n",
              "      <th>DATA</th>\n",
              "      <th>HORA</th>\n",
              "      <th>Tipo de Desatenção</th>\n",
              "      <th>Velocidade</th>\n",
              "    </tr>\n",
              "  </thead>\n",
              "  <tbody>\n",
              "    <tr>\n",
              "      <th>0</th>\n",
              "      <td>NaN</td>\n",
              "      <td>2019-01-04 11:46:41</td>\n",
              "      <td>11</td>\n",
              "      <td>Olho Fechado</td>\n",
              "      <td>57</td>\n",
              "    </tr>\n",
              "    <tr>\n",
              "      <th>1</th>\n",
              "      <td>NaN</td>\n",
              "      <td>2019-01-11 19:11:04</td>\n",
              "      <td>19</td>\n",
              "      <td>Olho Fechado</td>\n",
              "      <td>48</td>\n",
              "    </tr>\n",
              "    <tr>\n",
              "      <th>2</th>\n",
              "      <td>NaN</td>\n",
              "      <td>2019-02-20 02:49:08</td>\n",
              "      <td>2</td>\n",
              "      <td>Bocejo</td>\n",
              "      <td>58</td>\n",
              "    </tr>\n",
              "    <tr>\n",
              "      <th>3</th>\n",
              "      <td>NaN</td>\n",
              "      <td>2019-02-21 05:40:30</td>\n",
              "      <td>5</td>\n",
              "      <td>Bocejo</td>\n",
              "      <td>49</td>\n",
              "    </tr>\n",
              "    <tr>\n",
              "      <th>4</th>\n",
              "      <td>NaN</td>\n",
              "      <td>2019-02-21 05:54:02</td>\n",
              "      <td>5</td>\n",
              "      <td>Bocejo</td>\n",
              "      <td>41</td>\n",
              "    </tr>\n",
              "  </tbody>\n",
              "</table>\n",
              "</div>"
            ],
            "text/plain": [
              "  Nome                DATA  HORA Tipo de Desatenção  Velocidade\n",
              "0  NaN 2019-01-04 11:46:41    11       Olho Fechado          57\n",
              "1  NaN 2019-01-11 19:11:04    19       Olho Fechado          48\n",
              "2  NaN 2019-02-20 02:49:08     2             Bocejo          58\n",
              "3  NaN 2019-02-21 05:40:30     5             Bocejo          49\n",
              "4  NaN 2019-02-21 05:54:02     5             Bocejo          41"
            ]
          },
          "metadata": {
            "tags": []
          },
          "execution_count": 239
        }
      ]
    },
    {
      "cell_type": "code",
      "metadata": {
        "colab": {
          "base_uri": "https://localhost:8080/"
        },
        "id": "AG_z5ikOUq2r",
        "outputId": "ec10da2c-a197-4dc2-9527-2e2b3b5af930"
      },
      "source": [
        "dfE5H.shape"
      ],
      "execution_count": 240,
      "outputs": [
        {
          "output_type": "execute_result",
          "data": {
            "text/plain": [
              "(69100, 5)"
            ]
          },
          "metadata": {
            "tags": []
          },
          "execution_count": 240
        }
      ]
    },
    {
      "cell_type": "code",
      "metadata": {
        "colab": {
          "base_uri": "https://localhost:8080/"
        },
        "id": "82Nj47cfA4Ik",
        "outputId": "fd7d1141-3a91-4027-900f-5f52ec7134c9"
      },
      "source": [
        "dfE5H['Tipo de Desatenção'].unique()"
      ],
      "execution_count": 241,
      "outputs": [
        {
          "output_type": "execute_result",
          "data": {
            "text/plain": [
              "array(['Olho Fechado', 'Bocejo'], dtype=object)"
            ]
          },
          "metadata": {
            "tags": []
          },
          "execution_count": 241
        }
      ]
    },
    {
      "cell_type": "code",
      "metadata": {
        "colab": {
          "base_uri": "https://localhost:8080/"
        },
        "id": "5Bv_F7-DF7uB",
        "outputId": "7035cd80-f1e1-42f4-e422-e792dfa455bb"
      },
      "source": [
        "dfE5H['Tipo de Desatenção'].value_counts()"
      ],
      "execution_count": 242,
      "outputs": [
        {
          "output_type": "execute_result",
          "data": {
            "text/plain": [
              "Bocejo          40900\n",
              "Olho Fechado    28200\n",
              "Name: Tipo de Desatenção, dtype: int64"
            ]
          },
          "metadata": {
            "tags": []
          },
          "execution_count": 242
        }
      ]
    },
    {
      "cell_type": "code",
      "metadata": {
        "colab": {
          "base_uri": "https://localhost:8080/"
        },
        "id": "x4NBhLQDDzrv",
        "outputId": "bc6fec8d-b9e4-4ad6-e9d6-2141b40918fe"
      },
      "source": [
        "dfE5_of = dfE5H[dfE5H['Tipo de Desatenção'] == 'Olho Fechado']\r\n",
        "dfE5_of_final = dfE5_of.HORA.value_counts().rename('Olho fechado').sort_index()\r\n",
        "dfE5_of_final"
      ],
      "execution_count": 243,
      "outputs": [
        {
          "output_type": "execute_result",
          "data": {
            "text/plain": [
              "0      278\n",
              "1      329\n",
              "2      384\n",
              "3      473\n",
              "4      586\n",
              "5      548\n",
              "6     1174\n",
              "7     1902\n",
              "8     2285\n",
              "9     2363\n",
              "10    2164\n",
              "11    2172\n",
              "12    2231\n",
              "13    2341\n",
              "14    2386\n",
              "15    2092\n",
              "16    1780\n",
              "17    1080\n",
              "18     419\n",
              "19     266\n",
              "20     225\n",
              "21     212\n",
              "22     274\n",
              "23     236\n",
              "Name: Olho fechado, dtype: int64"
            ]
          },
          "metadata": {
            "tags": []
          },
          "execution_count": 243
        }
      ]
    },
    {
      "cell_type": "code",
      "metadata": {
        "colab": {
          "base_uri": "https://localhost:8080/"
        },
        "id": "RkQl3MCuGCOH",
        "outputId": "f67f5853-dde6-4cb1-8986-bcebf9774529"
      },
      "source": [
        "dfE5_of_final.sum()"
      ],
      "execution_count": 244,
      "outputs": [
        {
          "output_type": "execute_result",
          "data": {
            "text/plain": [
              "28200"
            ]
          },
          "metadata": {
            "tags": []
          },
          "execution_count": 244
        }
      ]
    },
    {
      "cell_type": "code",
      "metadata": {
        "colab": {
          "base_uri": "https://localhost:8080/"
        },
        "id": "_dK_GOqGFpc7",
        "outputId": "ae09f6f1-6aee-4acb-b800-fe52e40e3d01"
      },
      "source": [
        "dfE5_b = dfE5H[dfE5H['Tipo de Desatenção'] == 'Bocejo']\r\n",
        "dfE5_b_final = dfE5_b.HORA.value_counts().rename('Bocejo').sort_index()\r\n",
        "dfE5_b_final"
      ],
      "execution_count": 245,
      "outputs": [
        {
          "output_type": "execute_result",
          "data": {
            "text/plain": [
              "0     1915\n",
              "1     2133\n",
              "2     2342\n",
              "3     2372\n",
              "4     2362\n",
              "5     2419\n",
              "6     2564\n",
              "7     2122\n",
              "8     1715\n",
              "9     1315\n",
              "10    1199\n",
              "11    1248\n",
              "12    1691\n",
              "13    1757\n",
              "14    1649\n",
              "15    1408\n",
              "16    1190\n",
              "17    1257\n",
              "18    1384\n",
              "19    1187\n",
              "20    1191\n",
              "21    1322\n",
              "22    1583\n",
              "23    1575\n",
              "Name: Bocejo, dtype: int64"
            ]
          },
          "metadata": {
            "tags": []
          },
          "execution_count": 245
        }
      ]
    },
    {
      "cell_type": "code",
      "metadata": {
        "colab": {
          "base_uri": "https://localhost:8080/"
        },
        "id": "8GPbCvr7GFtY",
        "outputId": "7fbf904d-0fdc-41b5-c73f-6fb7657ac6ea"
      },
      "source": [
        "dfE5_b_final.sum()"
      ],
      "execution_count": 246,
      "outputs": [
        {
          "output_type": "execute_result",
          "data": {
            "text/plain": [
              "40900"
            ]
          },
          "metadata": {
            "tags": []
          },
          "execution_count": 246
        }
      ]
    },
    {
      "cell_type": "markdown",
      "metadata": {
        "id": "NVzXXslwKHxk"
      },
      "source": [
        "**Acidentes por hora**"
      ]
    },
    {
      "cell_type": "code",
      "metadata": {
        "colab": {
          "base_uri": "https://localhost:8080/",
          "height": 482
        },
        "id": "SUvpqeXlKIcb",
        "outputId": "855a9a84-23a4-428d-9d40-6b59c0167fb0"
      },
      "source": [
        "dfOCO_TM_E5.head(3)"
      ],
      "execution_count": 247,
      "outputs": [
        {
          "output_type": "execute_result",
          "data": {
            "text/html": [
              "<div>\n",
              "<style scoped>\n",
              "    .dataframe tbody tr th:only-of-type {\n",
              "        vertical-align: middle;\n",
              "    }\n",
              "\n",
              "    .dataframe tbody tr th {\n",
              "        vertical-align: top;\n",
              "    }\n",
              "\n",
              "    .dataframe thead th {\n",
              "        text-align: right;\n",
              "    }\n",
              "</style>\n",
              "<table border=\"1\" class=\"dataframe\">\n",
              "  <thead>\n",
              "    <tr style=\"text-align: right;\">\n",
              "      <th></th>\n",
              "      <th>CLASSIFICAÇÃO</th>\n",
              "      <th>EMPRESA</th>\n",
              "      <th>GERÊNCIA</th>\n",
              "      <th>COORDENAÇÃO</th>\n",
              "      <th>SUB ÁREA</th>\n",
              "      <th>NOME</th>\n",
              "      <th>CARGO</th>\n",
              "      <th>TEMPO DE EMPRESA</th>\n",
              "      <th>IDADE</th>\n",
              "      <th>\\nDATA DA OCORRÊNCIA</th>\n",
              "      <th>DIA DA SEMANA</th>\n",
              "      <th>\\nLOCAL DA OCORRÊNCIA</th>\n",
              "      <th>QUALIDADE PISTA</th>\n",
              "      <th>CARACTERISTICA PISTA</th>\n",
              "      <th>SINALIZAÇÃO</th>\n",
              "      <th>CLIMA</th>\n",
              "      <th>PREFIXO</th>\n",
              "      <th>MODELO</th>\n",
              "      <th>CARREGADO</th>\n",
              "      <th>TIPO</th>\n",
              "      <th>DETALHAMENTO</th>\n",
              "      <th>POTENCIAL</th>\n",
              "      <th>SAP</th>\n",
              "      <th>DIA ESCALA</th>\n",
              "      <th>ESCALA</th>\n",
              "      <th>JORNADA</th>\n",
              "      <th>TEMPO DECORRIDO</th>\n",
              "      <th>DORMIU BEM?</th>\n",
              "      <th>PRÓXIMO PERIODO DE FÉRIAS OU FERIADO</th>\n",
              "      <th>ALIMENTOU</th>\n",
              "      <th>PROBLEMAS SAÚDE</th>\n",
              "      <th>USO MEDICAMENTO</th>\n",
              "      <th>USO ALCOOL/DROGA</th>\n",
              "      <th>PRESSÃO</th>\n",
              "      <th>PRESSA PARA CONCLUIR O TRABALHO</th>\n",
              "      <th>DESCRIÇÃO</th>\n",
              "      <th>HorarioAcidente</th>\n",
              "    </tr>\n",
              "    <tr>\n",
              "      <th>HORA</th>\n",
              "      <th></th>\n",
              "      <th></th>\n",
              "      <th></th>\n",
              "      <th></th>\n",
              "      <th></th>\n",
              "      <th></th>\n",
              "      <th></th>\n",
              "      <th></th>\n",
              "      <th></th>\n",
              "      <th></th>\n",
              "      <th></th>\n",
              "      <th></th>\n",
              "      <th></th>\n",
              "      <th></th>\n",
              "      <th></th>\n",
              "      <th></th>\n",
              "      <th></th>\n",
              "      <th></th>\n",
              "      <th></th>\n",
              "      <th></th>\n",
              "      <th></th>\n",
              "      <th></th>\n",
              "      <th></th>\n",
              "      <th></th>\n",
              "      <th></th>\n",
              "      <th></th>\n",
              "      <th></th>\n",
              "      <th></th>\n",
              "      <th></th>\n",
              "      <th></th>\n",
              "      <th></th>\n",
              "      <th></th>\n",
              "      <th></th>\n",
              "      <th></th>\n",
              "      <th></th>\n",
              "      <th></th>\n",
              "      <th></th>\n",
              "    </tr>\n",
              "  </thead>\n",
              "  <tbody>\n",
              "    <tr>\n",
              "      <th>18:50:00</th>\n",
              "      <td>IAP</td>\n",
              "      <td>E5</td>\n",
              "      <td>LOGÍSTICA</td>\n",
              "      <td>TRANSPORTE FLORESTAL</td>\n",
              "      <td>LOGÍSTICA</td>\n",
              "      <td>C492</td>\n",
              "      <td>MOTORISTA</td>\n",
              "      <td>24</td>\n",
              "      <td>48.0</td>\n",
              "      <td>2017-03-28</td>\n",
              "      <td>TERÇA-FEIRA</td>\n",
              "      <td>PÁTIO DE MADEIRA AEROPORTO</td>\n",
              "      <td>ESTRADA DE CHÃO</td>\n",
              "      <td>RETA</td>\n",
              "      <td>NaN</td>\n",
              "      <td>NaN</td>\n",
              "      <td>BBM-056</td>\n",
              "      <td>NaN</td>\n",
              "      <td>NÃO</td>\n",
              "      <td>TRANSPORTE DE MADEIRA</td>\n",
              "      <td>MOTORISTA DO CAMINHÃO DE PREFIXO BBM-056 AO RE...</td>\n",
              "      <td>LPG</td>\n",
              "      <td>6510</td>\n",
              "      <td>2.0</td>\n",
              "      <td>NaN</td>\n",
              "      <td>NaN</td>\n",
              "      <td>00:50:00</td>\n",
              "      <td>NaN</td>\n",
              "      <td>NÃO</td>\n",
              "      <td>NaN</td>\n",
              "      <td>NÃO</td>\n",
              "      <td>NÃO</td>\n",
              "      <td>NaN</td>\n",
              "      <td>NaN</td>\n",
              "      <td>NaN</td>\n",
              "      <td>NOITE ESTAVA NORMAL SEM CHUVA OU NEBLINA. * CO...</td>\n",
              "      <td>18</td>\n",
              "    </tr>\n",
              "    <tr>\n",
              "      <th>23:00:00</th>\n",
              "      <td>IAP</td>\n",
              "      <td>E5</td>\n",
              "      <td>LOGÍSTICA</td>\n",
              "      <td>TRANSPORTE FLORESTAL</td>\n",
              "      <td>LOGÍSTICA</td>\n",
              "      <td>C488</td>\n",
              "      <td>MOTORISTA</td>\n",
              "      <td>12</td>\n",
              "      <td>55.0</td>\n",
              "      <td>2017-05-31</td>\n",
              "      <td>QUARTA-FEIRA</td>\n",
              "      <td>PRINCESA DO VALE</td>\n",
              "      <td>SEM CASCALHO</td>\n",
              "      <td>DECLIVE</td>\n",
              "      <td>NaN</td>\n",
              "      <td>CHUVA</td>\n",
              "      <td>BBM-059</td>\n",
              "      <td>NaN</td>\n",
              "      <td>SIM</td>\n",
              "      <td>TRANSPORTE DE MADEIRA</td>\n",
              "      <td>O MOTORISTA DO CAMINHÃO DE PREFIXO BBM-059, AP...</td>\n",
              "      <td>LPG</td>\n",
              "      <td>6822</td>\n",
              "      <td>NaN</td>\n",
              "      <td>NaN</td>\n",
              "      <td>NaN</td>\n",
              "      <td>NaN</td>\n",
              "      <td>NaN</td>\n",
              "      <td>NaN</td>\n",
              "      <td>NaN</td>\n",
              "      <td>NaN</td>\n",
              "      <td>NaN</td>\n",
              "      <td>NaN</td>\n",
              "      <td>NaN</td>\n",
              "      <td>NaN</td>\n",
              "      <td>NaN</td>\n",
              "      <td>23</td>\n",
              "    </tr>\n",
              "    <tr>\n",
              "      <th>14:15:00</th>\n",
              "      <td>IAP</td>\n",
              "      <td>E5</td>\n",
              "      <td>LOGÍSTICA</td>\n",
              "      <td>TRANSPORTE FLORESTAL</td>\n",
              "      <td>LOGÍSTICA</td>\n",
              "      <td>C390</td>\n",
              "      <td>MOTORISTA</td>\n",
              "      <td>14</td>\n",
              "      <td>58.0</td>\n",
              "      <td>2017-11-10</td>\n",
              "      <td>SEXTA-FEIRA</td>\n",
              "      <td>PR-160 - PRÓXIMO À ENTRADA DA LAGOA</td>\n",
              "      <td>ASFALTADA</td>\n",
              "      <td>CURVA</td>\n",
              "      <td>NaN</td>\n",
              "      <td>NaN</td>\n",
              "      <td>BBM-814</td>\n",
              "      <td>NaN</td>\n",
              "      <td>SIM</td>\n",
              "      <td>TRANSPORTE DE MADEIRA</td>\n",
              "      <td>COLABORADOR TRAFEGAVA COM CAMINHÃO DE PREFIXO ...</td>\n",
              "      <td>LPG</td>\n",
              "      <td>7510</td>\n",
              "      <td>NaN</td>\n",
              "      <td>NaN</td>\n",
              "      <td>04:00 - 15:00</td>\n",
              "      <td>NaN</td>\n",
              "      <td>NaN</td>\n",
              "      <td>NaN</td>\n",
              "      <td>NaN</td>\n",
              "      <td>NaN</td>\n",
              "      <td>NaN</td>\n",
              "      <td>NaN</td>\n",
              "      <td>NÃO</td>\n",
              "      <td>NÃO</td>\n",
              "      <td>APÓS INVESTIGAÇÃO DA OCORRÊNCIA CONSTATAMOS QU...</td>\n",
              "      <td>14</td>\n",
              "    </tr>\n",
              "  </tbody>\n",
              "</table>\n",
              "</div>"
            ],
            "text/plain": [
              "         CLASSIFICAÇÃO  ... HorarioAcidente\n",
              "HORA                    ...                \n",
              "18:50:00           IAP  ...              18\n",
              "23:00:00           IAP  ...              23\n",
              "14:15:00           IAP  ...              14\n",
              "\n",
              "[3 rows x 37 columns]"
            ]
          },
          "metadata": {
            "tags": []
          },
          "execution_count": 247
        }
      ]
    },
    {
      "cell_type": "code",
      "metadata": {
        "colab": {
          "base_uri": "https://localhost:8080/"
        },
        "id": "Rj4ElWF3M-n3",
        "outputId": "241daed4-0bf4-43e9-ade3-6d4de23b9e1e"
      },
      "source": [
        "dfOCO_TM_E5.CARGO.value_counts()"
      ],
      "execution_count": 248,
      "outputs": [
        {
          "output_type": "execute_result",
          "data": {
            "text/plain": [
              "MOTORISTA                         16\n",
              "MOTORISTA TRANSPORTE FLORESTAL     2\n",
              "MOTORISTA                          1\n",
              "Name: CARGO, dtype: int64"
            ]
          },
          "metadata": {
            "tags": []
          },
          "execution_count": 248
        }
      ]
    },
    {
      "cell_type": "code",
      "metadata": {
        "colab": {
          "base_uri": "https://localhost:8080/"
        },
        "id": "-VRezoyLM-oa",
        "outputId": "d5907d84-9861-477b-a24a-2c2672c1a326"
      },
      "source": [
        "dfE5_acid_hora = dfOCO_TM_E5.HorarioAcidente.value_counts().sort_index().rename('Acidentes por hora')\r\n",
        "dfE5_acid_hora"
      ],
      "execution_count": 249,
      "outputs": [
        {
          "output_type": "execute_result",
          "data": {
            "text/plain": [
              "2     1\n",
              "3     2\n",
              "4     2\n",
              "5     2\n",
              "6     2\n",
              "10    1\n",
              "14    1\n",
              "18    1\n",
              "19    2\n",
              "20    2\n",
              "22    2\n",
              "23    1\n",
              "Name: Acidentes por hora, dtype: int64"
            ]
          },
          "metadata": {
            "tags": []
          },
          "execution_count": 249
        }
      ]
    },
    {
      "cell_type": "markdown",
      "metadata": {
        "id": "j7yXj0ljT09j"
      },
      "source": [
        "**DF final E5**"
      ]
    },
    {
      "cell_type": "code",
      "metadata": {
        "colab": {
          "base_uri": "https://localhost:8080/",
          "height": 824
        },
        "id": "JKNKFhENT09-",
        "outputId": "4841c832-825b-415a-eb81-ecc03d2a5c1b"
      },
      "source": [
        "dfE5_final = pd.DataFrame(dfE5_motoristas_hora['motoristasE5'],dtype='int64')\r\n",
        "dfE5_final['Olho_fechado'] = pd.DataFrame(dfE5_of_final)\r\n",
        "dfE5_final['Bocejo'] = pd.DataFrame(dfE5_b_final)\r\n",
        "dfE5_final['Acidentes'] = pd.DataFrame(dfE5_acid_hora)\r\n",
        "dfE5_final.fillna(0, inplace=True)\r\n",
        "dfE5_final['Acidentes'] = dfE5_final.Acidentes.astype('int64')\r\n",
        "dfE5_final"
      ],
      "execution_count": 250,
      "outputs": [
        {
          "output_type": "execute_result",
          "data": {
            "text/html": [
              "<div>\n",
              "<style scoped>\n",
              "    .dataframe tbody tr th:only-of-type {\n",
              "        vertical-align: middle;\n",
              "    }\n",
              "\n",
              "    .dataframe tbody tr th {\n",
              "        vertical-align: top;\n",
              "    }\n",
              "\n",
              "    .dataframe thead th {\n",
              "        text-align: right;\n",
              "    }\n",
              "</style>\n",
              "<table border=\"1\" class=\"dataframe\">\n",
              "  <thead>\n",
              "    <tr style=\"text-align: right;\">\n",
              "      <th></th>\n",
              "      <th>motoristasE5</th>\n",
              "      <th>Olho_fechado</th>\n",
              "      <th>Bocejo</th>\n",
              "      <th>Acidentes</th>\n",
              "    </tr>\n",
              "    <tr>\n",
              "      <th>HORA</th>\n",
              "      <th></th>\n",
              "      <th></th>\n",
              "      <th></th>\n",
              "      <th></th>\n",
              "    </tr>\n",
              "  </thead>\n",
              "  <tbody>\n",
              "    <tr>\n",
              "      <th>0</th>\n",
              "      <td>48</td>\n",
              "      <td>278</td>\n",
              "      <td>1915</td>\n",
              "      <td>0</td>\n",
              "    </tr>\n",
              "    <tr>\n",
              "      <th>1</th>\n",
              "      <td>50</td>\n",
              "      <td>329</td>\n",
              "      <td>2133</td>\n",
              "      <td>0</td>\n",
              "    </tr>\n",
              "    <tr>\n",
              "      <th>2</th>\n",
              "      <td>56</td>\n",
              "      <td>384</td>\n",
              "      <td>2342</td>\n",
              "      <td>1</td>\n",
              "    </tr>\n",
              "    <tr>\n",
              "      <th>3</th>\n",
              "      <td>51</td>\n",
              "      <td>473</td>\n",
              "      <td>2372</td>\n",
              "      <td>2</td>\n",
              "    </tr>\n",
              "    <tr>\n",
              "      <th>4</th>\n",
              "      <td>50</td>\n",
              "      <td>586</td>\n",
              "      <td>2362</td>\n",
              "      <td>2</td>\n",
              "    </tr>\n",
              "    <tr>\n",
              "      <th>5</th>\n",
              "      <td>47</td>\n",
              "      <td>548</td>\n",
              "      <td>2419</td>\n",
              "      <td>2</td>\n",
              "    </tr>\n",
              "    <tr>\n",
              "      <th>6</th>\n",
              "      <td>52</td>\n",
              "      <td>1174</td>\n",
              "      <td>2564</td>\n",
              "      <td>2</td>\n",
              "    </tr>\n",
              "    <tr>\n",
              "      <th>7</th>\n",
              "      <td>50</td>\n",
              "      <td>1902</td>\n",
              "      <td>2122</td>\n",
              "      <td>0</td>\n",
              "    </tr>\n",
              "    <tr>\n",
              "      <th>8</th>\n",
              "      <td>56</td>\n",
              "      <td>2285</td>\n",
              "      <td>1715</td>\n",
              "      <td>0</td>\n",
              "    </tr>\n",
              "    <tr>\n",
              "      <th>9</th>\n",
              "      <td>53</td>\n",
              "      <td>2363</td>\n",
              "      <td>1315</td>\n",
              "      <td>0</td>\n",
              "    </tr>\n",
              "    <tr>\n",
              "      <th>10</th>\n",
              "      <td>50</td>\n",
              "      <td>2164</td>\n",
              "      <td>1199</td>\n",
              "      <td>1</td>\n",
              "    </tr>\n",
              "    <tr>\n",
              "      <th>11</th>\n",
              "      <td>53</td>\n",
              "      <td>2172</td>\n",
              "      <td>1248</td>\n",
              "      <td>0</td>\n",
              "    </tr>\n",
              "    <tr>\n",
              "      <th>12</th>\n",
              "      <td>48</td>\n",
              "      <td>2231</td>\n",
              "      <td>1691</td>\n",
              "      <td>0</td>\n",
              "    </tr>\n",
              "    <tr>\n",
              "      <th>13</th>\n",
              "      <td>50</td>\n",
              "      <td>2341</td>\n",
              "      <td>1757</td>\n",
              "      <td>0</td>\n",
              "    </tr>\n",
              "    <tr>\n",
              "      <th>14</th>\n",
              "      <td>56</td>\n",
              "      <td>2386</td>\n",
              "      <td>1649</td>\n",
              "      <td>1</td>\n",
              "    </tr>\n",
              "    <tr>\n",
              "      <th>15</th>\n",
              "      <td>51</td>\n",
              "      <td>2092</td>\n",
              "      <td>1408</td>\n",
              "      <td>0</td>\n",
              "    </tr>\n",
              "    <tr>\n",
              "      <th>16</th>\n",
              "      <td>50</td>\n",
              "      <td>1780</td>\n",
              "      <td>1190</td>\n",
              "      <td>0</td>\n",
              "    </tr>\n",
              "    <tr>\n",
              "      <th>17</th>\n",
              "      <td>47</td>\n",
              "      <td>1080</td>\n",
              "      <td>1257</td>\n",
              "      <td>0</td>\n",
              "    </tr>\n",
              "    <tr>\n",
              "      <th>18</th>\n",
              "      <td>52</td>\n",
              "      <td>419</td>\n",
              "      <td>1384</td>\n",
              "      <td>1</td>\n",
              "    </tr>\n",
              "    <tr>\n",
              "      <th>19</th>\n",
              "      <td>50</td>\n",
              "      <td>266</td>\n",
              "      <td>1187</td>\n",
              "      <td>2</td>\n",
              "    </tr>\n",
              "    <tr>\n",
              "      <th>20</th>\n",
              "      <td>56</td>\n",
              "      <td>225</td>\n",
              "      <td>1191</td>\n",
              "      <td>2</td>\n",
              "    </tr>\n",
              "    <tr>\n",
              "      <th>21</th>\n",
              "      <td>53</td>\n",
              "      <td>212</td>\n",
              "      <td>1322</td>\n",
              "      <td>0</td>\n",
              "    </tr>\n",
              "    <tr>\n",
              "      <th>22</th>\n",
              "      <td>50</td>\n",
              "      <td>274</td>\n",
              "      <td>1583</td>\n",
              "      <td>2</td>\n",
              "    </tr>\n",
              "    <tr>\n",
              "      <th>23</th>\n",
              "      <td>53</td>\n",
              "      <td>236</td>\n",
              "      <td>1575</td>\n",
              "      <td>1</td>\n",
              "    </tr>\n",
              "  </tbody>\n",
              "</table>\n",
              "</div>"
            ],
            "text/plain": [
              "      motoristasE5  Olho_fechado  Bocejo  Acidentes\n",
              "HORA                                               \n",
              "0               48           278    1915          0\n",
              "1               50           329    2133          0\n",
              "2               56           384    2342          1\n",
              "3               51           473    2372          2\n",
              "4               50           586    2362          2\n",
              "5               47           548    2419          2\n",
              "6               52          1174    2564          2\n",
              "7               50          1902    2122          0\n",
              "8               56          2285    1715          0\n",
              "9               53          2363    1315          0\n",
              "10              50          2164    1199          1\n",
              "11              53          2172    1248          0\n",
              "12              48          2231    1691          0\n",
              "13              50          2341    1757          0\n",
              "14              56          2386    1649          1\n",
              "15              51          2092    1408          0\n",
              "16              50          1780    1190          0\n",
              "17              47          1080    1257          0\n",
              "18              52           419    1384          1\n",
              "19              50           266    1187          2\n",
              "20              56           225    1191          2\n",
              "21              53           212    1322          0\n",
              "22              50           274    1583          2\n",
              "23              53           236    1575          1"
            ]
          },
          "metadata": {
            "tags": []
          },
          "execution_count": 250
        }
      ]
    },
    {
      "cell_type": "markdown",
      "metadata": {
        "id": "-CWTijrd8KY-"
      },
      "source": [
        "### **Visualização**"
      ]
    },
    {
      "cell_type": "code",
      "metadata": {
        "colab": {
          "base_uri": "https://localhost:8080/",
          "height": 142
        },
        "id": "zp_19z2bBKo8",
        "outputId": "8bbcb54c-839b-43a9-d0e8-e32c0322082f"
      },
      "source": [
        "dfE5_of.head(3)"
      ],
      "execution_count": 251,
      "outputs": [
        {
          "output_type": "execute_result",
          "data": {
            "text/html": [
              "<div>\n",
              "<style scoped>\n",
              "    .dataframe tbody tr th:only-of-type {\n",
              "        vertical-align: middle;\n",
              "    }\n",
              "\n",
              "    .dataframe tbody tr th {\n",
              "        vertical-align: top;\n",
              "    }\n",
              "\n",
              "    .dataframe thead th {\n",
              "        text-align: right;\n",
              "    }\n",
              "</style>\n",
              "<table border=\"1\" class=\"dataframe\">\n",
              "  <thead>\n",
              "    <tr style=\"text-align: right;\">\n",
              "      <th></th>\n",
              "      <th>Nome</th>\n",
              "      <th>DATA</th>\n",
              "      <th>HORA</th>\n",
              "      <th>Tipo de Desatenção</th>\n",
              "      <th>Velocidade</th>\n",
              "    </tr>\n",
              "  </thead>\n",
              "  <tbody>\n",
              "    <tr>\n",
              "      <th>0</th>\n",
              "      <td>NaN</td>\n",
              "      <td>2019-01-04 11:46:41</td>\n",
              "      <td>11</td>\n",
              "      <td>Olho Fechado</td>\n",
              "      <td>57</td>\n",
              "    </tr>\n",
              "    <tr>\n",
              "      <th>1</th>\n",
              "      <td>NaN</td>\n",
              "      <td>2019-01-11 19:11:04</td>\n",
              "      <td>19</td>\n",
              "      <td>Olho Fechado</td>\n",
              "      <td>48</td>\n",
              "    </tr>\n",
              "    <tr>\n",
              "      <th>16</th>\n",
              "      <td>NaN</td>\n",
              "      <td>2019-02-22 08:39:56</td>\n",
              "      <td>8</td>\n",
              "      <td>Olho Fechado</td>\n",
              "      <td>52</td>\n",
              "    </tr>\n",
              "  </tbody>\n",
              "</table>\n",
              "</div>"
            ],
            "text/plain": [
              "   Nome                DATA  HORA Tipo de Desatenção  Velocidade\n",
              "0   NaN 2019-01-04 11:46:41    11       Olho Fechado          57\n",
              "1   NaN 2019-01-11 19:11:04    19       Olho Fechado          48\n",
              "16  NaN 2019-02-22 08:39:56     8       Olho Fechado          52"
            ]
          },
          "metadata": {
            "tags": []
          },
          "execution_count": 251
        }
      ]
    },
    {
      "cell_type": "code",
      "metadata": {
        "colab": {
          "base_uri": "https://localhost:8080/"
        },
        "id": "c62JfU7Y8KZX",
        "outputId": "7dcbf573-5416-4bfa-9286-96545313ef7d"
      },
      "source": [
        "counts, bins = np.histogram(dfE5_of['HORA'], bins=range(0, 25, 3))\r\n",
        "counts"
      ],
      "execution_count": 252,
      "outputs": [
        {
          "output_type": "execute_result",
          "data": {
            "text/plain": [
              "array([ 991, 1607, 5361, 6699, 6958, 4952,  910,  722])"
            ]
          },
          "metadata": {
            "tags": []
          },
          "execution_count": 252
        }
      ]
    },
    {
      "cell_type": "code",
      "metadata": {
        "colab": {
          "base_uri": "https://localhost:8080/"
        },
        "id": "cruDLI858KZZ",
        "outputId": "39180abb-29f2-4cb1-bf0a-57c3a092090a"
      },
      "source": [
        "b = np.array(dfE5_final['motoristasE5'])\r\n",
        "b"
      ],
      "execution_count": 253,
      "outputs": [
        {
          "output_type": "execute_result",
          "data": {
            "text/plain": [
              "array([48, 50, 56, 51, 50, 47, 52, 50, 56, 53, 50, 53, 48, 50, 56, 51, 50,\n",
              "       47, 52, 50, 56, 53, 50, 53])"
            ]
          },
          "metadata": {
            "tags": []
          },
          "execution_count": 253
        }
      ]
    },
    {
      "cell_type": "code",
      "metadata": {
        "colab": {
          "base_uri": "https://localhost:8080/"
        },
        "id": "wYPUEF208KZZ",
        "outputId": "561c2da0-a3d1-48bb-d8c8-37227723be9e"
      },
      "source": [
        "c = b.reshape((8,3)).sum(axis=1)\r\n",
        "c"
      ],
      "execution_count": 254,
      "outputs": [
        {
          "output_type": "execute_result",
          "data": {
            "text/plain": [
              "array([154, 148, 158, 156, 154, 148, 158, 156])"
            ]
          },
          "metadata": {
            "tags": []
          },
          "execution_count": 254
        }
      ]
    },
    {
      "cell_type": "code",
      "metadata": {
        "colab": {
          "base_uri": "https://localhost:8080/",
          "height": 542
        },
        "id": "yS-dEX9d8KZa",
        "outputId": "5416e4d2-762c-41ad-b7a7-9291c1622cbd"
      },
      "source": [
        "graphics_plot(y = [counts, counts/c], y_name = ['Events(raw)', 'Events/Drivers'], bins = Nbins,\r\n",
        "              title = 'Events company E5 (Olho fechado)', yaxes_title = ['Raw', 'Rate'], x_tick = ticks)"
      ],
      "execution_count": 255,
      "outputs": [
        {
          "output_type": "display_data",
          "data": {
            "text/html": [
              "<html>\n",
              "<head><meta charset=\"utf-8\" /></head>\n",
              "<body>\n",
              "    <div>            <script src=\"https://cdnjs.cloudflare.com/ajax/libs/mathjax/2.7.5/MathJax.js?config=TeX-AMS-MML_SVG\"></script><script type=\"text/javascript\">if (window.MathJax) {MathJax.Hub.Config({SVG: {font: \"STIX-Web\"}});}</script>                <script type=\"text/javascript\">window.PlotlyConfig = {MathJaxConfig: 'local'};</script>\n",
              "        <script src=\"https://cdn.plot.ly/plotly-latest.min.js\"></script>                <div id=\"27e171a7-6624-4a97-ad5e-2afd50f666b7\" class=\"plotly-graph-div\" style=\"height:525px; width:100%;\"></div>            <script type=\"text/javascript\">                                    window.PLOTLYENV=window.PLOTLYENV || {};                                    if (document.getElementById(\"27e171a7-6624-4a97-ad5e-2afd50f666b7\")) {                    Plotly.newPlot(                        \"27e171a7-6624-4a97-ad5e-2afd50f666b7\",                        [{\"line\": {\"color\": \"rgb(0, 0, 0)\", \"width\": 2}, \"marker\": {\"size\": 7, \"symbol\": \"circle\"}, \"mode\": \"lines+markers\", \"name\": \"Events(raw)\", \"type\": \"scatter\", \"x\": [0.0, 3.0, 6.0, 9.0, 12.0, 15.0, 18.0, 21.0, 24.0], \"xaxis\": \"x\", \"y\": [991, 1607, 5361, 6699, 6958, 4952, 910, 722], \"yaxis\": \"y\"}, {\"line\": {\"color\": \"rgb(0, 0, 0)\", \"dash\": \"dash\", \"width\": 2}, \"marker\": {\"size\": 7, \"symbol\": \"star\"}, \"mode\": \"lines+markers\", \"name\": \"Events/Drivers\", \"type\": \"scatter\", \"x\": [0.0, 3.0, 6.0, 9.0, 12.0, 15.0, 18.0, 21.0, 24.0], \"xaxis\": \"x\", \"y\": [6.435064935064935, 10.858108108108109, 33.93037974683544, 42.94230769230769, 45.18181818181818, 33.45945945945946, 5.7594936708860756, 4.628205128205129], \"yaxis\": \"y2\"}],                        {\"legend\": {\"orientation\": \"h\", \"x\": 0.95, \"xanchor\": \"right\", \"y\": 1.01, \"yanchor\": \"bottom\"}, \"paper_bgcolor\": \"rgba(0,0,0,0)\", \"plot_bgcolor\": \"rgba(0,0,0,0)\", \"template\": {\"data\": {\"bar\": [{\"error_x\": {\"color\": \"#2a3f5f\"}, \"error_y\": {\"color\": \"#2a3f5f\"}, \"marker\": {\"line\": {\"color\": \"#E5ECF6\", \"width\": 0.5}}, \"type\": \"bar\"}], \"barpolar\": [{\"marker\": {\"line\": {\"color\": \"#E5ECF6\", \"width\": 0.5}}, \"type\": \"barpolar\"}], \"carpet\": [{\"aaxis\": {\"endlinecolor\": \"#2a3f5f\", \"gridcolor\": \"white\", \"linecolor\": \"white\", \"minorgridcolor\": \"white\", \"startlinecolor\": \"#2a3f5f\"}, \"baxis\": {\"endlinecolor\": \"#2a3f5f\", \"gridcolor\": \"white\", \"linecolor\": \"white\", \"minorgridcolor\": \"white\", \"startlinecolor\": \"#2a3f5f\"}, \"type\": \"carpet\"}], \"choropleth\": [{\"colorbar\": {\"outlinewidth\": 0, \"ticks\": \"\"}, \"type\": \"choropleth\"}], \"contour\": [{\"colorbar\": {\"outlinewidth\": 0, \"ticks\": \"\"}, \"colorscale\": [[0.0, \"#0d0887\"], [0.1111111111111111, \"#46039f\"], [0.2222222222222222, \"#7201a8\"], [0.3333333333333333, \"#9c179e\"], [0.4444444444444444, \"#bd3786\"], [0.5555555555555556, \"#d8576b\"], [0.6666666666666666, \"#ed7953\"], [0.7777777777777778, \"#fb9f3a\"], [0.8888888888888888, \"#fdca26\"], [1.0, \"#f0f921\"]], \"type\": \"contour\"}], \"contourcarpet\": [{\"colorbar\": {\"outlinewidth\": 0, \"ticks\": \"\"}, \"type\": \"contourcarpet\"}], \"heatmap\": [{\"colorbar\": {\"outlinewidth\": 0, \"ticks\": \"\"}, \"colorscale\": [[0.0, \"#0d0887\"], [0.1111111111111111, \"#46039f\"], [0.2222222222222222, \"#7201a8\"], [0.3333333333333333, \"#9c179e\"], [0.4444444444444444, \"#bd3786\"], [0.5555555555555556, \"#d8576b\"], [0.6666666666666666, \"#ed7953\"], [0.7777777777777778, \"#fb9f3a\"], [0.8888888888888888, \"#fdca26\"], [1.0, \"#f0f921\"]], \"type\": \"heatmap\"}], \"heatmapgl\": [{\"colorbar\": {\"outlinewidth\": 0, \"ticks\": \"\"}, \"colorscale\": [[0.0, \"#0d0887\"], [0.1111111111111111, \"#46039f\"], [0.2222222222222222, \"#7201a8\"], [0.3333333333333333, \"#9c179e\"], [0.4444444444444444, \"#bd3786\"], [0.5555555555555556, \"#d8576b\"], [0.6666666666666666, \"#ed7953\"], [0.7777777777777778, \"#fb9f3a\"], [0.8888888888888888, \"#fdca26\"], [1.0, \"#f0f921\"]], \"type\": \"heatmapgl\"}], \"histogram\": [{\"marker\": {\"colorbar\": {\"outlinewidth\": 0, \"ticks\": \"\"}}, \"type\": \"histogram\"}], \"histogram2d\": [{\"colorbar\": {\"outlinewidth\": 0, \"ticks\": \"\"}, \"colorscale\": [[0.0, \"#0d0887\"], [0.1111111111111111, \"#46039f\"], [0.2222222222222222, \"#7201a8\"], [0.3333333333333333, \"#9c179e\"], [0.4444444444444444, \"#bd3786\"], [0.5555555555555556, \"#d8576b\"], [0.6666666666666666, \"#ed7953\"], [0.7777777777777778, \"#fb9f3a\"], [0.8888888888888888, \"#fdca26\"], [1.0, \"#f0f921\"]], \"type\": \"histogram2d\"}], \"histogram2dcontour\": [{\"colorbar\": {\"outlinewidth\": 0, \"ticks\": \"\"}, \"colorscale\": [[0.0, \"#0d0887\"], [0.1111111111111111, \"#46039f\"], [0.2222222222222222, \"#7201a8\"], [0.3333333333333333, \"#9c179e\"], [0.4444444444444444, \"#bd3786\"], [0.5555555555555556, \"#d8576b\"], [0.6666666666666666, \"#ed7953\"], [0.7777777777777778, \"#fb9f3a\"], [0.8888888888888888, \"#fdca26\"], [1.0, \"#f0f921\"]], \"type\": \"histogram2dcontour\"}], \"mesh3d\": [{\"colorbar\": {\"outlinewidth\": 0, \"ticks\": \"\"}, \"type\": \"mesh3d\"}], \"parcoords\": [{\"line\": {\"colorbar\": {\"outlinewidth\": 0, \"ticks\": \"\"}}, \"type\": \"parcoords\"}], \"pie\": [{\"automargin\": true, \"type\": \"pie\"}], \"scatter\": [{\"marker\": {\"colorbar\": {\"outlinewidth\": 0, \"ticks\": \"\"}}, \"type\": \"scatter\"}], \"scatter3d\": [{\"line\": {\"colorbar\": {\"outlinewidth\": 0, \"ticks\": \"\"}}, \"marker\": {\"colorbar\": {\"outlinewidth\": 0, \"ticks\": \"\"}}, \"type\": \"scatter3d\"}], \"scattercarpet\": [{\"marker\": {\"colorbar\": {\"outlinewidth\": 0, \"ticks\": \"\"}}, \"type\": \"scattercarpet\"}], \"scattergeo\": [{\"marker\": {\"colorbar\": {\"outlinewidth\": 0, \"ticks\": \"\"}}, \"type\": \"scattergeo\"}], \"scattergl\": [{\"marker\": {\"colorbar\": {\"outlinewidth\": 0, \"ticks\": \"\"}}, \"type\": \"scattergl\"}], \"scattermapbox\": [{\"marker\": {\"colorbar\": {\"outlinewidth\": 0, \"ticks\": \"\"}}, \"type\": \"scattermapbox\"}], \"scatterpolar\": [{\"marker\": {\"colorbar\": {\"outlinewidth\": 0, \"ticks\": \"\"}}, \"type\": \"scatterpolar\"}], \"scatterpolargl\": [{\"marker\": {\"colorbar\": {\"outlinewidth\": 0, \"ticks\": \"\"}}, \"type\": \"scatterpolargl\"}], \"scatterternary\": [{\"marker\": {\"colorbar\": {\"outlinewidth\": 0, \"ticks\": \"\"}}, \"type\": \"scatterternary\"}], \"surface\": [{\"colorbar\": {\"outlinewidth\": 0, \"ticks\": \"\"}, \"colorscale\": [[0.0, \"#0d0887\"], [0.1111111111111111, \"#46039f\"], [0.2222222222222222, \"#7201a8\"], [0.3333333333333333, \"#9c179e\"], [0.4444444444444444, \"#bd3786\"], [0.5555555555555556, \"#d8576b\"], [0.6666666666666666, \"#ed7953\"], [0.7777777777777778, \"#fb9f3a\"], [0.8888888888888888, \"#fdca26\"], [1.0, \"#f0f921\"]], \"type\": \"surface\"}], \"table\": [{\"cells\": {\"fill\": {\"color\": \"#EBF0F8\"}, \"line\": {\"color\": \"white\"}}, \"header\": {\"fill\": {\"color\": \"#C8D4E3\"}, \"line\": {\"color\": \"white\"}}, \"type\": \"table\"}]}, \"layout\": {\"annotationdefaults\": {\"arrowcolor\": \"#2a3f5f\", \"arrowhead\": 0, \"arrowwidth\": 1}, \"autotypenumbers\": \"strict\", \"coloraxis\": {\"colorbar\": {\"outlinewidth\": 0, \"ticks\": \"\"}}, \"colorscale\": {\"diverging\": [[0, \"#8e0152\"], [0.1, \"#c51b7d\"], [0.2, \"#de77ae\"], [0.3, \"#f1b6da\"], [0.4, \"#fde0ef\"], [0.5, \"#f7f7f7\"], [0.6, \"#e6f5d0\"], [0.7, \"#b8e186\"], [0.8, \"#7fbc41\"], [0.9, \"#4d9221\"], [1, \"#276419\"]], \"sequential\": [[0.0, \"#0d0887\"], [0.1111111111111111, \"#46039f\"], [0.2222222222222222, \"#7201a8\"], [0.3333333333333333, \"#9c179e\"], [0.4444444444444444, \"#bd3786\"], [0.5555555555555556, \"#d8576b\"], [0.6666666666666666, \"#ed7953\"], [0.7777777777777778, \"#fb9f3a\"], [0.8888888888888888, \"#fdca26\"], [1.0, \"#f0f921\"]], \"sequentialminus\": [[0.0, \"#0d0887\"], [0.1111111111111111, \"#46039f\"], [0.2222222222222222, \"#7201a8\"], [0.3333333333333333, \"#9c179e\"], [0.4444444444444444, \"#bd3786\"], [0.5555555555555556, \"#d8576b\"], [0.6666666666666666, \"#ed7953\"], [0.7777777777777778, \"#fb9f3a\"], [0.8888888888888888, \"#fdca26\"], [1.0, \"#f0f921\"]]}, \"colorway\": [\"#636efa\", \"#EF553B\", \"#00cc96\", \"#ab63fa\", \"#FFA15A\", \"#19d3f3\", \"#FF6692\", \"#B6E880\", \"#FF97FF\", \"#FECB52\"], \"font\": {\"color\": \"#2a3f5f\"}, \"geo\": {\"bgcolor\": \"white\", \"lakecolor\": \"white\", \"landcolor\": \"#E5ECF6\", \"showlakes\": true, \"showland\": true, \"subunitcolor\": \"white\"}, \"hoverlabel\": {\"align\": \"left\"}, \"hovermode\": \"closest\", \"mapbox\": {\"style\": \"light\"}, \"paper_bgcolor\": \"white\", \"plot_bgcolor\": \"#E5ECF6\", \"polar\": {\"angularaxis\": {\"gridcolor\": \"white\", \"linecolor\": \"white\", \"ticks\": \"\"}, \"bgcolor\": \"#E5ECF6\", \"radialaxis\": {\"gridcolor\": \"white\", \"linecolor\": \"white\", \"ticks\": \"\"}}, \"scene\": {\"xaxis\": {\"backgroundcolor\": \"#E5ECF6\", \"gridcolor\": \"white\", \"gridwidth\": 2, \"linecolor\": \"white\", \"showbackground\": true, \"ticks\": \"\", \"zerolinecolor\": \"white\"}, \"yaxis\": {\"backgroundcolor\": \"#E5ECF6\", \"gridcolor\": \"white\", \"gridwidth\": 2, \"linecolor\": \"white\", \"showbackground\": true, \"ticks\": \"\", \"zerolinecolor\": \"white\"}, \"zaxis\": {\"backgroundcolor\": \"#E5ECF6\", \"gridcolor\": \"white\", \"gridwidth\": 2, \"linecolor\": \"white\", \"showbackground\": true, \"ticks\": \"\", \"zerolinecolor\": \"white\"}}, \"shapedefaults\": {\"line\": {\"color\": \"#2a3f5f\"}}, \"ternary\": {\"aaxis\": {\"gridcolor\": \"white\", \"linecolor\": \"white\", \"ticks\": \"\"}, \"baxis\": {\"gridcolor\": \"white\", \"linecolor\": \"white\", \"ticks\": \"\"}, \"bgcolor\": \"#E5ECF6\", \"caxis\": {\"gridcolor\": \"white\", \"linecolor\": \"white\", \"ticks\": \"\"}}, \"title\": {\"x\": 0.05}, \"xaxis\": {\"automargin\": true, \"gridcolor\": \"white\", \"linecolor\": \"white\", \"ticks\": \"\", \"title\": {\"standoff\": 15}, \"zerolinecolor\": \"white\", \"zerolinewidth\": 2}, \"yaxis\": {\"automargin\": true, \"gridcolor\": \"white\", \"linecolor\": \"white\", \"ticks\": \"\", \"title\": {\"standoff\": 15}, \"zerolinecolor\": \"white\", \"zerolinewidth\": 2}}}, \"title\": {\"text\": \"Events company E5 (Olho fechado)\"}, \"xaxis\": {\"anchor\": \"y\", \"domain\": [0.0, 0.94], \"dtick\": 3, \"gridcolor\": \"black\", \"gridwidth\": 1, \"linecolor\": \"black\", \"linewidth\": 2, \"mirror\": true, \"showgrid\": true, \"showline\": true, \"tick0\": 0, \"tickmode\": \"linear\", \"title\": {\"text\": \"Time of day\"}}, \"yaxis\": {\"anchor\": \"x\", \"domain\": [0.0, 1.0], \"gridcolor\": \"black\", \"gridwidth\": 1, \"linecolor\": \"black\", \"linewidth\": 2, \"mirror\": true, \"showgrid\": false, \"showline\": true, \"title\": {\"text\": \"<b>Raw</b>\"}}, \"yaxis2\": {\"anchor\": \"x\", \"gridcolor\": \"black\", \"gridwidth\": 1, \"linecolor\": \"black\", \"linewidth\": 2, \"mirror\": true, \"overlaying\": \"y\", \"showgrid\": false, \"showline\": true, \"side\": \"right\", \"title\": {\"text\": \"<b>Rate</b>\"}}},                        {\"responsive\": true}                    ).then(function(){\n",
              "                            \n",
              "var gd = document.getElementById('27e171a7-6624-4a97-ad5e-2afd50f666b7');\n",
              "var x = new MutationObserver(function (mutations, observer) {{\n",
              "        var display = window.getComputedStyle(gd).display;\n",
              "        if (!display || display === 'none') {{\n",
              "            console.log([gd, 'removed!']);\n",
              "            Plotly.purge(gd);\n",
              "            observer.disconnect();\n",
              "        }}\n",
              "}});\n",
              "\n",
              "// Listen for the removal of the full notebook cells\n",
              "var notebookContainer = gd.closest('#notebook-container');\n",
              "if (notebookContainer) {{\n",
              "    x.observe(notebookContainer, {childList: true});\n",
              "}}\n",
              "\n",
              "// Listen for the clearing of the current output cell\n",
              "var outputEl = gd.closest('.output');\n",
              "if (outputEl) {{\n",
              "    x.observe(outputEl, {childList: true});\n",
              "}}\n",
              "\n",
              "                        })                };                            </script>        </div>\n",
              "</body>\n",
              "</html>"
            ]
          },
          "metadata": {
            "tags": []
          }
        }
      ]
    },
    {
      "cell_type": "code",
      "metadata": {
        "colab": {
          "base_uri": "https://localhost:8080/",
          "height": 142
        },
        "id": "oYgdsxHNCMW4",
        "outputId": "3daed9f5-ed1f-4bfa-fd2b-b85f0145b63a"
      },
      "source": [
        "dfE5_b.head(3)"
      ],
      "execution_count": 256,
      "outputs": [
        {
          "output_type": "execute_result",
          "data": {
            "text/html": [
              "<div>\n",
              "<style scoped>\n",
              "    .dataframe tbody tr th:only-of-type {\n",
              "        vertical-align: middle;\n",
              "    }\n",
              "\n",
              "    .dataframe tbody tr th {\n",
              "        vertical-align: top;\n",
              "    }\n",
              "\n",
              "    .dataframe thead th {\n",
              "        text-align: right;\n",
              "    }\n",
              "</style>\n",
              "<table border=\"1\" class=\"dataframe\">\n",
              "  <thead>\n",
              "    <tr style=\"text-align: right;\">\n",
              "      <th></th>\n",
              "      <th>Nome</th>\n",
              "      <th>DATA</th>\n",
              "      <th>HORA</th>\n",
              "      <th>Tipo de Desatenção</th>\n",
              "      <th>Velocidade</th>\n",
              "    </tr>\n",
              "  </thead>\n",
              "  <tbody>\n",
              "    <tr>\n",
              "      <th>2</th>\n",
              "      <td>NaN</td>\n",
              "      <td>2019-02-20 02:49:08</td>\n",
              "      <td>2</td>\n",
              "      <td>Bocejo</td>\n",
              "      <td>58</td>\n",
              "    </tr>\n",
              "    <tr>\n",
              "      <th>3</th>\n",
              "      <td>NaN</td>\n",
              "      <td>2019-02-21 05:40:30</td>\n",
              "      <td>5</td>\n",
              "      <td>Bocejo</td>\n",
              "      <td>49</td>\n",
              "    </tr>\n",
              "    <tr>\n",
              "      <th>4</th>\n",
              "      <td>NaN</td>\n",
              "      <td>2019-02-21 05:54:02</td>\n",
              "      <td>5</td>\n",
              "      <td>Bocejo</td>\n",
              "      <td>41</td>\n",
              "    </tr>\n",
              "  </tbody>\n",
              "</table>\n",
              "</div>"
            ],
            "text/plain": [
              "  Nome                DATA  HORA Tipo de Desatenção  Velocidade\n",
              "2  NaN 2019-02-20 02:49:08     2             Bocejo          58\n",
              "3  NaN 2019-02-21 05:40:30     5             Bocejo          49\n",
              "4  NaN 2019-02-21 05:54:02     5             Bocejo          41"
            ]
          },
          "metadata": {
            "tags": []
          },
          "execution_count": 256
        }
      ]
    },
    {
      "cell_type": "code",
      "metadata": {
        "colab": {
          "base_uri": "https://localhost:8080/"
        },
        "id": "8tmouNlrCMXE",
        "outputId": "27cb265d-f683-4afb-bd22-bad598e3f13b"
      },
      "source": [
        "counts, bins = np.histogram(dfE5_b['HORA'], bins=range(0, 25, 1))\r\n",
        "counts"
      ],
      "execution_count": 257,
      "outputs": [
        {
          "output_type": "execute_result",
          "data": {
            "text/plain": [
              "array([1915, 2133, 2342, 2372, 2362, 2419, 2564, 2122, 1715, 1315, 1199,\n",
              "       1248, 1691, 1757, 1649, 1408, 1190, 1257, 1384, 1187, 1191, 1322,\n",
              "       1583, 1575])"
            ]
          },
          "metadata": {
            "tags": []
          },
          "execution_count": 257
        }
      ]
    },
    {
      "cell_type": "code",
      "metadata": {
        "colab": {
          "base_uri": "https://localhost:8080/"
        },
        "id": "XarDrsI4Cpqc",
        "outputId": "641c7c39-eed9-4d72-9596-3cc5389c9eb7"
      },
      "source": [
        "b = np.roll(counts, 1)\r\n",
        "counts = b.reshape((8,3)).sum(axis=1)\r\n",
        "counts"
      ],
      "execution_count": 258,
      "outputs": [
        {
          "output_type": "execute_result",
          "data": {
            "text/plain": [
              "array([5623, 7076, 7105, 4229, 4696, 4247, 3828, 4096])"
            ]
          },
          "metadata": {
            "tags": []
          },
          "execution_count": 258
        }
      ]
    },
    {
      "cell_type": "code",
      "metadata": {
        "colab": {
          "base_uri": "https://localhost:8080/"
        },
        "id": "vsiN1dDbCMXE",
        "outputId": "419a748e-4ae8-4bf0-e56a-f0fa067bb570"
      },
      "source": [
        "b = np.array(dfE5_final['motoristasE5'])\r\n",
        "b = np.roll(b, 1)\r\n",
        "b"
      ],
      "execution_count": 259,
      "outputs": [
        {
          "output_type": "execute_result",
          "data": {
            "text/plain": [
              "array([53, 48, 50, 56, 51, 50, 47, 52, 50, 56, 53, 50, 53, 48, 50, 56, 51,\n",
              "       50, 47, 52, 50, 56, 53, 50])"
            ]
          },
          "metadata": {
            "tags": []
          },
          "execution_count": 259
        }
      ]
    },
    {
      "cell_type": "code",
      "metadata": {
        "colab": {
          "base_uri": "https://localhost:8080/"
        },
        "id": "_72-q8SHCMXF",
        "outputId": "5a7a222f-4606-400d-b6bb-7cbf9e0fc6a1"
      },
      "source": [
        "c = b.reshape((8,3)).sum(axis=1)\r\n",
        "c"
      ],
      "execution_count": 260,
      "outputs": [
        {
          "output_type": "execute_result",
          "data": {
            "text/plain": [
              "array([151, 157, 149, 159, 151, 157, 149, 159])"
            ]
          },
          "metadata": {
            "tags": []
          },
          "execution_count": 260
        }
      ]
    },
    {
      "cell_type": "code",
      "metadata": {
        "colab": {
          "base_uri": "https://localhost:8080/",
          "height": 542
        },
        "id": "qi6_wkXdCMXF",
        "outputId": "7c878d82-83a1-4335-ca6a-4b001c200bd7"
      },
      "source": [
        "graphics_plot(y = [counts, counts/c], y_name = ['Events(raw)', 'Events/Drivers'], bins = Nbins, x_tick=ticks,\r\n",
        "              title = 'Events company E5 (Bocejo)', yaxes_title = ['Raw', 'Rate'])"
      ],
      "execution_count": 261,
      "outputs": [
        {
          "output_type": "display_data",
          "data": {
            "text/html": [
              "<html>\n",
              "<head><meta charset=\"utf-8\" /></head>\n",
              "<body>\n",
              "    <div>            <script src=\"https://cdnjs.cloudflare.com/ajax/libs/mathjax/2.7.5/MathJax.js?config=TeX-AMS-MML_SVG\"></script><script type=\"text/javascript\">if (window.MathJax) {MathJax.Hub.Config({SVG: {font: \"STIX-Web\"}});}</script>                <script type=\"text/javascript\">window.PlotlyConfig = {MathJaxConfig: 'local'};</script>\n",
              "        <script src=\"https://cdn.plot.ly/plotly-latest.min.js\"></script>                <div id=\"1b6ddfbf-1045-4097-b3f5-16d77fe59886\" class=\"plotly-graph-div\" style=\"height:525px; width:100%;\"></div>            <script type=\"text/javascript\">                                    window.PLOTLYENV=window.PLOTLYENV || {};                                    if (document.getElementById(\"1b6ddfbf-1045-4097-b3f5-16d77fe59886\")) {                    Plotly.newPlot(                        \"1b6ddfbf-1045-4097-b3f5-16d77fe59886\",                        [{\"line\": {\"color\": \"rgb(0, 0, 0)\", \"width\": 2}, \"marker\": {\"size\": 7, \"symbol\": \"circle\"}, \"mode\": \"lines+markers\", \"name\": \"Events(raw)\", \"type\": \"scatter\", \"x\": [0.0, 3.0, 6.0, 9.0, 12.0, 15.0, 18.0, 21.0, 24.0], \"xaxis\": \"x\", \"y\": [5623, 7076, 7105, 4229, 4696, 4247, 3828, 4096], \"yaxis\": \"y\"}, {\"line\": {\"color\": \"rgb(0, 0, 0)\", \"dash\": \"dash\", \"width\": 2}, \"marker\": {\"size\": 7, \"symbol\": \"star\"}, \"mode\": \"lines+markers\", \"name\": \"Events/Drivers\", \"type\": \"scatter\", \"x\": [0.0, 3.0, 6.0, 9.0, 12.0, 15.0, 18.0, 21.0, 24.0], \"xaxis\": \"x\", \"y\": [37.23841059602649, 45.07006369426752, 47.68456375838926, 26.59748427672956, 31.09933774834437, 27.05095541401274, 25.691275167785236, 25.761006289308177], \"yaxis\": \"y2\"}],                        {\"legend\": {\"orientation\": \"h\", \"x\": 0.95, \"xanchor\": \"right\", \"y\": 1.01, \"yanchor\": \"bottom\"}, \"paper_bgcolor\": \"rgba(0,0,0,0)\", \"plot_bgcolor\": \"rgba(0,0,0,0)\", \"template\": {\"data\": {\"bar\": [{\"error_x\": {\"color\": \"#2a3f5f\"}, \"error_y\": {\"color\": \"#2a3f5f\"}, \"marker\": {\"line\": {\"color\": \"#E5ECF6\", \"width\": 0.5}}, \"type\": \"bar\"}], \"barpolar\": [{\"marker\": {\"line\": {\"color\": \"#E5ECF6\", \"width\": 0.5}}, \"type\": \"barpolar\"}], \"carpet\": [{\"aaxis\": {\"endlinecolor\": \"#2a3f5f\", \"gridcolor\": \"white\", \"linecolor\": \"white\", \"minorgridcolor\": \"white\", \"startlinecolor\": \"#2a3f5f\"}, \"baxis\": {\"endlinecolor\": \"#2a3f5f\", \"gridcolor\": \"white\", \"linecolor\": \"white\", \"minorgridcolor\": \"white\", \"startlinecolor\": \"#2a3f5f\"}, \"type\": \"carpet\"}], \"choropleth\": [{\"colorbar\": {\"outlinewidth\": 0, \"ticks\": \"\"}, \"type\": \"choropleth\"}], \"contour\": [{\"colorbar\": {\"outlinewidth\": 0, \"ticks\": \"\"}, \"colorscale\": [[0.0, \"#0d0887\"], [0.1111111111111111, \"#46039f\"], [0.2222222222222222, \"#7201a8\"], [0.3333333333333333, \"#9c179e\"], [0.4444444444444444, \"#bd3786\"], [0.5555555555555556, \"#d8576b\"], [0.6666666666666666, \"#ed7953\"], [0.7777777777777778, \"#fb9f3a\"], [0.8888888888888888, \"#fdca26\"], [1.0, \"#f0f921\"]], \"type\": \"contour\"}], \"contourcarpet\": [{\"colorbar\": {\"outlinewidth\": 0, \"ticks\": \"\"}, \"type\": \"contourcarpet\"}], \"heatmap\": [{\"colorbar\": {\"outlinewidth\": 0, \"ticks\": \"\"}, \"colorscale\": [[0.0, \"#0d0887\"], [0.1111111111111111, \"#46039f\"], [0.2222222222222222, \"#7201a8\"], [0.3333333333333333, \"#9c179e\"], [0.4444444444444444, \"#bd3786\"], [0.5555555555555556, \"#d8576b\"], [0.6666666666666666, \"#ed7953\"], [0.7777777777777778, \"#fb9f3a\"], [0.8888888888888888, \"#fdca26\"], [1.0, \"#f0f921\"]], \"type\": \"heatmap\"}], \"heatmapgl\": [{\"colorbar\": {\"outlinewidth\": 0, \"ticks\": \"\"}, \"colorscale\": [[0.0, \"#0d0887\"], [0.1111111111111111, \"#46039f\"], [0.2222222222222222, \"#7201a8\"], [0.3333333333333333, \"#9c179e\"], [0.4444444444444444, \"#bd3786\"], [0.5555555555555556, \"#d8576b\"], [0.6666666666666666, \"#ed7953\"], [0.7777777777777778, \"#fb9f3a\"], [0.8888888888888888, \"#fdca26\"], [1.0, \"#f0f921\"]], \"type\": \"heatmapgl\"}], \"histogram\": [{\"marker\": {\"colorbar\": {\"outlinewidth\": 0, \"ticks\": \"\"}}, \"type\": \"histogram\"}], \"histogram2d\": [{\"colorbar\": {\"outlinewidth\": 0, \"ticks\": \"\"}, \"colorscale\": [[0.0, \"#0d0887\"], [0.1111111111111111, \"#46039f\"], [0.2222222222222222, \"#7201a8\"], [0.3333333333333333, \"#9c179e\"], [0.4444444444444444, \"#bd3786\"], [0.5555555555555556, \"#d8576b\"], [0.6666666666666666, \"#ed7953\"], [0.7777777777777778, \"#fb9f3a\"], [0.8888888888888888, \"#fdca26\"], [1.0, \"#f0f921\"]], \"type\": \"histogram2d\"}], \"histogram2dcontour\": [{\"colorbar\": {\"outlinewidth\": 0, \"ticks\": \"\"}, \"colorscale\": [[0.0, \"#0d0887\"], [0.1111111111111111, \"#46039f\"], [0.2222222222222222, \"#7201a8\"], [0.3333333333333333, \"#9c179e\"], [0.4444444444444444, \"#bd3786\"], [0.5555555555555556, \"#d8576b\"], [0.6666666666666666, \"#ed7953\"], [0.7777777777777778, \"#fb9f3a\"], [0.8888888888888888, \"#fdca26\"], [1.0, \"#f0f921\"]], \"type\": \"histogram2dcontour\"}], \"mesh3d\": [{\"colorbar\": {\"outlinewidth\": 0, \"ticks\": \"\"}, \"type\": \"mesh3d\"}], \"parcoords\": [{\"line\": {\"colorbar\": {\"outlinewidth\": 0, \"ticks\": \"\"}}, \"type\": \"parcoords\"}], \"pie\": [{\"automargin\": true, \"type\": \"pie\"}], \"scatter\": [{\"marker\": {\"colorbar\": {\"outlinewidth\": 0, \"ticks\": \"\"}}, \"type\": \"scatter\"}], \"scatter3d\": [{\"line\": {\"colorbar\": {\"outlinewidth\": 0, \"ticks\": \"\"}}, \"marker\": {\"colorbar\": {\"outlinewidth\": 0, \"ticks\": \"\"}}, \"type\": \"scatter3d\"}], \"scattercarpet\": [{\"marker\": {\"colorbar\": {\"outlinewidth\": 0, \"ticks\": \"\"}}, \"type\": \"scattercarpet\"}], \"scattergeo\": [{\"marker\": {\"colorbar\": {\"outlinewidth\": 0, \"ticks\": \"\"}}, \"type\": \"scattergeo\"}], \"scattergl\": [{\"marker\": {\"colorbar\": {\"outlinewidth\": 0, \"ticks\": \"\"}}, \"type\": \"scattergl\"}], \"scattermapbox\": [{\"marker\": {\"colorbar\": {\"outlinewidth\": 0, \"ticks\": \"\"}}, \"type\": \"scattermapbox\"}], \"scatterpolar\": [{\"marker\": {\"colorbar\": {\"outlinewidth\": 0, \"ticks\": \"\"}}, \"type\": \"scatterpolar\"}], \"scatterpolargl\": [{\"marker\": {\"colorbar\": {\"outlinewidth\": 0, \"ticks\": \"\"}}, \"type\": \"scatterpolargl\"}], \"scatterternary\": [{\"marker\": {\"colorbar\": {\"outlinewidth\": 0, \"ticks\": \"\"}}, \"type\": \"scatterternary\"}], \"surface\": [{\"colorbar\": {\"outlinewidth\": 0, \"ticks\": \"\"}, \"colorscale\": [[0.0, \"#0d0887\"], [0.1111111111111111, \"#46039f\"], [0.2222222222222222, \"#7201a8\"], [0.3333333333333333, \"#9c179e\"], [0.4444444444444444, \"#bd3786\"], [0.5555555555555556, \"#d8576b\"], [0.6666666666666666, \"#ed7953\"], [0.7777777777777778, \"#fb9f3a\"], [0.8888888888888888, \"#fdca26\"], [1.0, \"#f0f921\"]], \"type\": \"surface\"}], \"table\": [{\"cells\": {\"fill\": {\"color\": \"#EBF0F8\"}, \"line\": {\"color\": \"white\"}}, \"header\": {\"fill\": {\"color\": \"#C8D4E3\"}, \"line\": {\"color\": \"white\"}}, \"type\": \"table\"}]}, \"layout\": {\"annotationdefaults\": {\"arrowcolor\": \"#2a3f5f\", \"arrowhead\": 0, \"arrowwidth\": 1}, \"autotypenumbers\": \"strict\", \"coloraxis\": {\"colorbar\": {\"outlinewidth\": 0, \"ticks\": \"\"}}, \"colorscale\": {\"diverging\": [[0, \"#8e0152\"], [0.1, \"#c51b7d\"], [0.2, \"#de77ae\"], [0.3, \"#f1b6da\"], [0.4, \"#fde0ef\"], [0.5, \"#f7f7f7\"], [0.6, \"#e6f5d0\"], [0.7, \"#b8e186\"], [0.8, \"#7fbc41\"], [0.9, \"#4d9221\"], [1, \"#276419\"]], \"sequential\": [[0.0, \"#0d0887\"], [0.1111111111111111, \"#46039f\"], [0.2222222222222222, \"#7201a8\"], [0.3333333333333333, \"#9c179e\"], [0.4444444444444444, \"#bd3786\"], [0.5555555555555556, \"#d8576b\"], [0.6666666666666666, \"#ed7953\"], [0.7777777777777778, \"#fb9f3a\"], [0.8888888888888888, \"#fdca26\"], [1.0, \"#f0f921\"]], \"sequentialminus\": [[0.0, \"#0d0887\"], [0.1111111111111111, \"#46039f\"], [0.2222222222222222, \"#7201a8\"], [0.3333333333333333, \"#9c179e\"], [0.4444444444444444, \"#bd3786\"], [0.5555555555555556, \"#d8576b\"], [0.6666666666666666, \"#ed7953\"], [0.7777777777777778, \"#fb9f3a\"], [0.8888888888888888, \"#fdca26\"], [1.0, \"#f0f921\"]]}, \"colorway\": [\"#636efa\", \"#EF553B\", \"#00cc96\", \"#ab63fa\", \"#FFA15A\", \"#19d3f3\", \"#FF6692\", \"#B6E880\", \"#FF97FF\", \"#FECB52\"], \"font\": {\"color\": \"#2a3f5f\"}, \"geo\": {\"bgcolor\": \"white\", \"lakecolor\": \"white\", \"landcolor\": \"#E5ECF6\", \"showlakes\": true, \"showland\": true, \"subunitcolor\": \"white\"}, \"hoverlabel\": {\"align\": \"left\"}, \"hovermode\": \"closest\", \"mapbox\": {\"style\": \"light\"}, \"paper_bgcolor\": \"white\", \"plot_bgcolor\": \"#E5ECF6\", \"polar\": {\"angularaxis\": {\"gridcolor\": \"white\", \"linecolor\": \"white\", \"ticks\": \"\"}, \"bgcolor\": \"#E5ECF6\", \"radialaxis\": {\"gridcolor\": \"white\", \"linecolor\": \"white\", \"ticks\": \"\"}}, \"scene\": {\"xaxis\": {\"backgroundcolor\": \"#E5ECF6\", \"gridcolor\": \"white\", \"gridwidth\": 2, \"linecolor\": \"white\", \"showbackground\": true, \"ticks\": \"\", \"zerolinecolor\": \"white\"}, \"yaxis\": {\"backgroundcolor\": \"#E5ECF6\", \"gridcolor\": \"white\", \"gridwidth\": 2, \"linecolor\": \"white\", \"showbackground\": true, \"ticks\": \"\", \"zerolinecolor\": \"white\"}, \"zaxis\": {\"backgroundcolor\": \"#E5ECF6\", \"gridcolor\": \"white\", \"gridwidth\": 2, \"linecolor\": \"white\", \"showbackground\": true, \"ticks\": \"\", \"zerolinecolor\": \"white\"}}, \"shapedefaults\": {\"line\": {\"color\": \"#2a3f5f\"}}, \"ternary\": {\"aaxis\": {\"gridcolor\": \"white\", \"linecolor\": \"white\", \"ticks\": \"\"}, \"baxis\": {\"gridcolor\": \"white\", \"linecolor\": \"white\", \"ticks\": \"\"}, \"bgcolor\": \"#E5ECF6\", \"caxis\": {\"gridcolor\": \"white\", \"linecolor\": \"white\", \"ticks\": \"\"}}, \"title\": {\"x\": 0.05}, \"xaxis\": {\"automargin\": true, \"gridcolor\": \"white\", \"linecolor\": \"white\", \"ticks\": \"\", \"title\": {\"standoff\": 15}, \"zerolinecolor\": \"white\", \"zerolinewidth\": 2}, \"yaxis\": {\"automargin\": true, \"gridcolor\": \"white\", \"linecolor\": \"white\", \"ticks\": \"\", \"title\": {\"standoff\": 15}, \"zerolinecolor\": \"white\", \"zerolinewidth\": 2}}}, \"title\": {\"text\": \"Events company E5 (Bocejo)\"}, \"xaxis\": {\"anchor\": \"y\", \"domain\": [0.0, 0.94], \"dtick\": 3, \"gridcolor\": \"black\", \"gridwidth\": 1, \"linecolor\": \"black\", \"linewidth\": 2, \"mirror\": true, \"showgrid\": true, \"showline\": true, \"tick0\": 0, \"tickmode\": \"linear\", \"title\": {\"text\": \"Time of day\"}}, \"yaxis\": {\"anchor\": \"x\", \"domain\": [0.0, 1.0], \"gridcolor\": \"black\", \"gridwidth\": 1, \"linecolor\": \"black\", \"linewidth\": 2, \"mirror\": true, \"showgrid\": false, \"showline\": true, \"title\": {\"text\": \"<b>Raw</b>\"}}, \"yaxis2\": {\"anchor\": \"x\", \"gridcolor\": \"black\", \"gridwidth\": 1, \"linecolor\": \"black\", \"linewidth\": 2, \"mirror\": true, \"overlaying\": \"y\", \"showgrid\": false, \"showline\": true, \"side\": \"right\", \"title\": {\"text\": \"<b>Rate</b>\"}}},                        {\"responsive\": true}                    ).then(function(){\n",
              "                            \n",
              "var gd = document.getElementById('1b6ddfbf-1045-4097-b3f5-16d77fe59886');\n",
              "var x = new MutationObserver(function (mutations, observer) {{\n",
              "        var display = window.getComputedStyle(gd).display;\n",
              "        if (!display || display === 'none') {{\n",
              "            console.log([gd, 'removed!']);\n",
              "            Plotly.purge(gd);\n",
              "            observer.disconnect();\n",
              "        }}\n",
              "}});\n",
              "\n",
              "// Listen for the removal of the full notebook cells\n",
              "var notebookContainer = gd.closest('#notebook-container');\n",
              "if (notebookContainer) {{\n",
              "    x.observe(notebookContainer, {childList: true});\n",
              "}}\n",
              "\n",
              "// Listen for the clearing of the current output cell\n",
              "var outputEl = gd.closest('.output');\n",
              "if (outputEl) {{\n",
              "    x.observe(outputEl, {childList: true});\n",
              "}}\n",
              "\n",
              "                        })                };                            </script>        </div>\n",
              "</body>\n",
              "</html>"
            ]
          },
          "metadata": {
            "tags": []
          }
        }
      ]
    },
    {
      "cell_type": "markdown",
      "metadata": {
        "id": "XFjFTBmnWXI9"
      },
      "source": [
        "##**E9**"
      ]
    },
    {
      "cell_type": "markdown",
      "metadata": {
        "id": "WxIJsIREAgs6"
      },
      "source": [
        "**Motoristas por hora**"
      ]
    },
    {
      "cell_type": "code",
      "metadata": {
        "colab": {
          "base_uri": "https://localhost:8080/",
          "height": 204
        },
        "id": "5LfB-DEyYBmw",
        "outputId": "448b50a6-6cee-47aa-f5ec-2811e8b35092"
      },
      "source": [
        "dfInfE9.head()"
      ],
      "execution_count": 262,
      "outputs": [
        {
          "output_type": "execute_result",
          "data": {
            "text/html": [
              "<div>\n",
              "<style scoped>\n",
              "    .dataframe tbody tr th:only-of-type {\n",
              "        vertical-align: middle;\n",
              "    }\n",
              "\n",
              "    .dataframe tbody tr th {\n",
              "        vertical-align: top;\n",
              "    }\n",
              "\n",
              "    .dataframe thead th {\n",
              "        text-align: right;\n",
              "    }\n",
              "</style>\n",
              "<table border=\"1\" class=\"dataframe\">\n",
              "  <thead>\n",
              "    <tr style=\"text-align: right;\">\n",
              "      <th></th>\n",
              "      <th>Empresa</th>\n",
              "      <th>Escala</th>\n",
              "      <th>Jornada</th>\n",
              "      <th>Intervalos</th>\n",
              "      <th>N° de Colaboradores por turno</th>\n",
              "      <th>Tempo médio de deslocamento</th>\n",
              "      <th>Observação</th>\n",
              "      <th>Unnamed: 7</th>\n",
              "      <th>Inicio</th>\n",
              "      <th>Fim</th>\n",
              "    </tr>\n",
              "  </thead>\n",
              "  <tbody>\n",
              "    <tr>\n",
              "      <th>46</th>\n",
              "      <td>E9</td>\n",
              "      <td>4X2</td>\n",
              "      <td>01 às 13 horas</td>\n",
              "      <td>Mínimo 1 hora</td>\n",
              "      <td>6.0</td>\n",
              "      <td>Aproximadamente 22 min</td>\n",
              "      <td>NaN</td>\n",
              "      <td>NaN</td>\n",
              "      <td>1</td>\n",
              "      <td>13</td>\n",
              "    </tr>\n",
              "    <tr>\n",
              "      <th>47</th>\n",
              "      <td>E9</td>\n",
              "      <td>4X2</td>\n",
              "      <td>02 às 14 horas</td>\n",
              "      <td>Mínimo 1 hora</td>\n",
              "      <td>10.0</td>\n",
              "      <td>Aproximadamente 22 min</td>\n",
              "      <td>NaN</td>\n",
              "      <td>NaN</td>\n",
              "      <td>2</td>\n",
              "      <td>14</td>\n",
              "    </tr>\n",
              "    <tr>\n",
              "      <th>48</th>\n",
              "      <td>E9</td>\n",
              "      <td>4X2</td>\n",
              "      <td>3 às 15 horas</td>\n",
              "      <td>Mínimo 1 hora</td>\n",
              "      <td>10.0</td>\n",
              "      <td>Aproximadamente 22 min</td>\n",
              "      <td>NaN</td>\n",
              "      <td>NaN</td>\n",
              "      <td>3</td>\n",
              "      <td>15</td>\n",
              "    </tr>\n",
              "    <tr>\n",
              "      <th>49</th>\n",
              "      <td>E9</td>\n",
              "      <td>4X2</td>\n",
              "      <td>4 às 16 horas</td>\n",
              "      <td>Mínimo 1 hora</td>\n",
              "      <td>6.0</td>\n",
              "      <td>Aproximadamente 22 min</td>\n",
              "      <td>NaN</td>\n",
              "      <td>NaN</td>\n",
              "      <td>4</td>\n",
              "      <td>16</td>\n",
              "    </tr>\n",
              "    <tr>\n",
              "      <th>50</th>\n",
              "      <td>E9</td>\n",
              "      <td>4X2</td>\n",
              "      <td>5 às 17 horas</td>\n",
              "      <td>Mínimo 1 hora</td>\n",
              "      <td>6.0</td>\n",
              "      <td>Aproximadamente 22 min</td>\n",
              "      <td>NaN</td>\n",
              "      <td>NaN</td>\n",
              "      <td>5</td>\n",
              "      <td>17</td>\n",
              "    </tr>\n",
              "  </tbody>\n",
              "</table>\n",
              "</div>"
            ],
            "text/plain": [
              "   Empresa Escala         Jornada  ... Unnamed: 7  Inicio Fim\n",
              "46      E9    4X2  01 às 13 horas  ...        NaN       1  13\n",
              "47      E9    4X2  02 às 14 horas  ...        NaN       2  14\n",
              "48      E9    4X2   3 às 15 horas  ...        NaN       3  15\n",
              "49      E9    4X2   4 às 16 horas  ...        NaN       4  16\n",
              "50      E9    4X2   5 às 17 horas  ...        NaN       5  17\n",
              "\n",
              "[5 rows x 10 columns]"
            ]
          },
          "metadata": {
            "tags": []
          },
          "execution_count": 262
        }
      ]
    },
    {
      "cell_type": "code",
      "metadata": {
        "id": "PbN-Ldk-YBnU"
      },
      "source": [
        "dfE9_motoristas_hora = pd.DataFrame(np.zeros(24, dtype='int64'), columns=['motoristasE9'])\r\n",
        "for index, row in dfInfE9.iterrows():\r\n",
        "    if row['Inicio'] < row['Fim']:\r\n",
        "      dfE9_motoristas_hora['motoristasE9'][row['Inicio']:row['Fim']] += row['N° de Colaboradores por turno']\r\n",
        "    else:\r\n",
        "      dfE9_motoristas_hora['motoristasE9'][0:row['Fim']] += row['N° de Colaboradores por turno']\r\n",
        "      dfE9_motoristas_hora['motoristasE9'][row['Inicio']:24] += row['N° de Colaboradores por turno']"
      ],
      "execution_count": 263,
      "outputs": []
    },
    {
      "cell_type": "code",
      "metadata": {
        "colab": {
          "base_uri": "https://localhost:8080/",
          "height": 824
        },
        "id": "LVU7eY2YYBnW",
        "outputId": "6f85613e-da16-4f7d-e609-3524d0efa6a3"
      },
      "source": [
        "dfE9_motoristas_hora.index.name = 'HORA'\r\n",
        "dfE9_motoristas_hora"
      ],
      "execution_count": 264,
      "outputs": [
        {
          "output_type": "execute_result",
          "data": {
            "text/html": [
              "<div>\n",
              "<style scoped>\n",
              "    .dataframe tbody tr th:only-of-type {\n",
              "        vertical-align: middle;\n",
              "    }\n",
              "\n",
              "    .dataframe tbody tr th {\n",
              "        vertical-align: top;\n",
              "    }\n",
              "\n",
              "    .dataframe thead th {\n",
              "        text-align: right;\n",
              "    }\n",
              "</style>\n",
              "<table border=\"1\" class=\"dataframe\">\n",
              "  <thead>\n",
              "    <tr style=\"text-align: right;\">\n",
              "      <th></th>\n",
              "      <th>motoristasE9</th>\n",
              "    </tr>\n",
              "    <tr>\n",
              "      <th>HORA</th>\n",
              "      <th></th>\n",
              "    </tr>\n",
              "  </thead>\n",
              "  <tbody>\n",
              "    <tr>\n",
              "      <th>0</th>\n",
              "      <td>42.0</td>\n",
              "    </tr>\n",
              "    <tr>\n",
              "      <th>1</th>\n",
              "      <td>38.0</td>\n",
              "    </tr>\n",
              "    <tr>\n",
              "      <th>2</th>\n",
              "      <td>42.0</td>\n",
              "    </tr>\n",
              "    <tr>\n",
              "      <th>3</th>\n",
              "      <td>46.0</td>\n",
              "    </tr>\n",
              "    <tr>\n",
              "      <th>4</th>\n",
              "      <td>50.0</td>\n",
              "    </tr>\n",
              "    <tr>\n",
              "      <th>5</th>\n",
              "      <td>50.0</td>\n",
              "    </tr>\n",
              "    <tr>\n",
              "      <th>6</th>\n",
              "      <td>44.0</td>\n",
              "    </tr>\n",
              "    <tr>\n",
              "      <th>7</th>\n",
              "      <td>48.0</td>\n",
              "    </tr>\n",
              "    <tr>\n",
              "      <th>8</th>\n",
              "      <td>54.0</td>\n",
              "    </tr>\n",
              "    <tr>\n",
              "      <th>9</th>\n",
              "      <td>56.0</td>\n",
              "    </tr>\n",
              "    <tr>\n",
              "      <th>10</th>\n",
              "      <td>58.0</td>\n",
              "    </tr>\n",
              "    <tr>\n",
              "      <th>11</th>\n",
              "      <td>64.0</td>\n",
              "    </tr>\n",
              "    <tr>\n",
              "      <th>12</th>\n",
              "      <td>74.0</td>\n",
              "    </tr>\n",
              "    <tr>\n",
              "      <th>13</th>\n",
              "      <td>78.0</td>\n",
              "    </tr>\n",
              "    <tr>\n",
              "      <th>14</th>\n",
              "      <td>74.0</td>\n",
              "    </tr>\n",
              "    <tr>\n",
              "      <th>15</th>\n",
              "      <td>70.0</td>\n",
              "    </tr>\n",
              "    <tr>\n",
              "      <th>16</th>\n",
              "      <td>66.0</td>\n",
              "    </tr>\n",
              "    <tr>\n",
              "      <th>17</th>\n",
              "      <td>66.0</td>\n",
              "    </tr>\n",
              "    <tr>\n",
              "      <th>18</th>\n",
              "      <td>72.0</td>\n",
              "    </tr>\n",
              "    <tr>\n",
              "      <th>19</th>\n",
              "      <td>68.0</td>\n",
              "    </tr>\n",
              "    <tr>\n",
              "      <th>20</th>\n",
              "      <td>62.0</td>\n",
              "    </tr>\n",
              "    <tr>\n",
              "      <th>21</th>\n",
              "      <td>60.0</td>\n",
              "    </tr>\n",
              "    <tr>\n",
              "      <th>22</th>\n",
              "      <td>58.0</td>\n",
              "    </tr>\n",
              "    <tr>\n",
              "      <th>23</th>\n",
              "      <td>52.0</td>\n",
              "    </tr>\n",
              "  </tbody>\n",
              "</table>\n",
              "</div>"
            ],
            "text/plain": [
              "      motoristasE9\n",
              "HORA              \n",
              "0             42.0\n",
              "1             38.0\n",
              "2             42.0\n",
              "3             46.0\n",
              "4             50.0\n",
              "5             50.0\n",
              "6             44.0\n",
              "7             48.0\n",
              "8             54.0\n",
              "9             56.0\n",
              "10            58.0\n",
              "11            64.0\n",
              "12            74.0\n",
              "13            78.0\n",
              "14            74.0\n",
              "15            70.0\n",
              "16            66.0\n",
              "17            66.0\n",
              "18            72.0\n",
              "19            68.0\n",
              "20            62.0\n",
              "21            60.0\n",
              "22            58.0\n",
              "23            52.0"
            ]
          },
          "metadata": {
            "tags": []
          },
          "execution_count": 264
        }
      ]
    },
    {
      "cell_type": "markdown",
      "metadata": {
        "id": "yENWnLy3WEer"
      },
      "source": [
        "**Eventos por hora**"
      ]
    },
    {
      "cell_type": "code",
      "metadata": {
        "colab": {
          "base_uri": "https://localhost:8080/",
          "height": 204
        },
        "id": "KjrOuaPhWpRP",
        "outputId": "8ea81d38-07b3-46d0-c295-7c10843b7428"
      },
      "source": [
        "dfE91H.head()"
      ],
      "execution_count": 265,
      "outputs": [
        {
          "output_type": "execute_result",
          "data": {
            "text/html": [
              "<div>\n",
              "<style scoped>\n",
              "    .dataframe tbody tr th:only-of-type {\n",
              "        vertical-align: middle;\n",
              "    }\n",
              "\n",
              "    .dataframe tbody tr th {\n",
              "        vertical-align: top;\n",
              "    }\n",
              "\n",
              "    .dataframe thead th {\n",
              "        text-align: right;\n",
              "    }\n",
              "</style>\n",
              "<table border=\"1\" class=\"dataframe\">\n",
              "  <thead>\n",
              "    <tr style=\"text-align: right;\">\n",
              "      <th></th>\n",
              "      <th>Data da ocorrência</th>\n",
              "      <th>dia</th>\n",
              "      <th>mês</th>\n",
              "      <th>Tipo</th>\n",
              "      <th>Velocidade</th>\n",
              "      <th>Tratativa</th>\n",
              "      <th>Placa</th>\n",
              "      <th>Motorista</th>\n",
              "      <th>Unnamed: 8</th>\n",
              "      <th>HORA</th>\n",
              "    </tr>\n",
              "  </thead>\n",
              "  <tbody>\n",
              "    <tr>\n",
              "      <th>0</th>\n",
              "      <td>2019-04-23 22:59:00</td>\n",
              "      <td>2019-04-23</td>\n",
              "      <td>2019-04-23</td>\n",
              "      <td>Yawn-Warning</td>\n",
              "      <td>35</td>\n",
              "      <td>NaN</td>\n",
              "      <td>PLP3I10</td>\n",
              "      <td>NaN</td>\n",
              "      <td>NaN</td>\n",
              "      <td>22</td>\n",
              "    </tr>\n",
              "    <tr>\n",
              "      <th>1</th>\n",
              "      <td>2019-04-23 19:46:00</td>\n",
              "      <td>2019-04-23</td>\n",
              "      <td>2019-04-23</td>\n",
              "      <td>Yawn-Warning</td>\n",
              "      <td>62</td>\n",
              "      <td>NaN</td>\n",
              "      <td>PLP3I10</td>\n",
              "      <td>NaN</td>\n",
              "      <td>NaN</td>\n",
              "      <td>19</td>\n",
              "    </tr>\n",
              "    <tr>\n",
              "      <th>2</th>\n",
              "      <td>2019-04-24 00:54:00</td>\n",
              "      <td>2019-04-24</td>\n",
              "      <td>2019-04-24</td>\n",
              "      <td>Yawn-Warning</td>\n",
              "      <td>55</td>\n",
              "      <td>NaN</td>\n",
              "      <td>PXO2594</td>\n",
              "      <td>NaN</td>\n",
              "      <td>NaN</td>\n",
              "      <td>0</td>\n",
              "    </tr>\n",
              "    <tr>\n",
              "      <th>3</th>\n",
              "      <td>2019-04-24 01:04:00</td>\n",
              "      <td>2019-04-24</td>\n",
              "      <td>2019-04-24</td>\n",
              "      <td>Yawn-Warning</td>\n",
              "      <td>62</td>\n",
              "      <td>NaN</td>\n",
              "      <td>PXO2594</td>\n",
              "      <td>NaN</td>\n",
              "      <td>NaN</td>\n",
              "      <td>1</td>\n",
              "    </tr>\n",
              "    <tr>\n",
              "      <th>4</th>\n",
              "      <td>2019-04-24 01:06:00</td>\n",
              "      <td>2019-04-24</td>\n",
              "      <td>2019-04-24</td>\n",
              "      <td>Yawn-Warning</td>\n",
              "      <td>59</td>\n",
              "      <td>NaN</td>\n",
              "      <td>PXO2594</td>\n",
              "      <td>NaN</td>\n",
              "      <td>NaN</td>\n",
              "      <td>1</td>\n",
              "    </tr>\n",
              "  </tbody>\n",
              "</table>\n",
              "</div>"
            ],
            "text/plain": [
              "   Data da ocorrência        dia        mês  ... Motorista  Unnamed: 8 HORA\n",
              "0 2019-04-23 22:59:00 2019-04-23 2019-04-23  ...       NaN         NaN   22\n",
              "1 2019-04-23 19:46:00 2019-04-23 2019-04-23  ...       NaN         NaN   19\n",
              "2 2019-04-24 00:54:00 2019-04-24 2019-04-24  ...       NaN         NaN    0\n",
              "3 2019-04-24 01:04:00 2019-04-24 2019-04-24  ...       NaN         NaN    1\n",
              "4 2019-04-24 01:06:00 2019-04-24 2019-04-24  ...       NaN         NaN    1\n",
              "\n",
              "[5 rows x 10 columns]"
            ]
          },
          "metadata": {
            "tags": []
          },
          "execution_count": 265
        }
      ]
    },
    {
      "cell_type": "code",
      "metadata": {
        "colab": {
          "base_uri": "https://localhost:8080/"
        },
        "id": "clTI-pG-GMsI",
        "outputId": "51d4f5f9-5756-4dda-9b63-4f03f766f257"
      },
      "source": [
        "dfE91H.Tipo.value_counts()"
      ],
      "execution_count": 266,
      "outputs": [
        {
          "output_type": "execute_result",
          "data": {
            "text/plain": [
              "Yawn-Warning    6149\n",
              "Tired            573\n",
              "Name: Tipo, dtype: int64"
            ]
          },
          "metadata": {
            "tags": []
          },
          "execution_count": 266
        }
      ]
    },
    {
      "cell_type": "code",
      "metadata": {
        "colab": {
          "base_uri": "https://localhost:8080/"
        },
        "id": "vYG5jP5UHegr",
        "outputId": "e07ba4b7-80a3-4e25-ec34-e0cff61cc277"
      },
      "source": [
        "dfE9_yawn = dfE91H[dfE91H['Tipo'] == 'Yawn-Warning']\r\n",
        "dfE9_yawn_final = dfE9_yawn.HORA.value_counts().rename('Yawn-Warning').sort_index()\r\n",
        "dfE9_yawn_final"
      ],
      "execution_count": 267,
      "outputs": [
        {
          "output_type": "execute_result",
          "data": {
            "text/plain": [
              "0     299\n",
              "1     282\n",
              "2     409\n",
              "3     382\n",
              "4     492\n",
              "5     489\n",
              "6     302\n",
              "7     185\n",
              "8     211\n",
              "9     199\n",
              "10    182\n",
              "11    181\n",
              "12    131\n",
              "13    144\n",
              "14    187\n",
              "15    217\n",
              "16    219\n",
              "17    162\n",
              "18    136\n",
              "19    170\n",
              "20    221\n",
              "21    255\n",
              "22    336\n",
              "23    358\n",
              "Name: Yawn-Warning, dtype: int64"
            ]
          },
          "metadata": {
            "tags": []
          },
          "execution_count": 267
        }
      ]
    },
    {
      "cell_type": "code",
      "metadata": {
        "colab": {
          "base_uri": "https://localhost:8080/"
        },
        "id": "QzYrfn5uIAMb",
        "outputId": "f5ccc8cc-6dc7-471a-83ca-909d867f3db3"
      },
      "source": [
        "dfE9_yawn_final.sum()"
      ],
      "execution_count": 268,
      "outputs": [
        {
          "output_type": "execute_result",
          "data": {
            "text/plain": [
              "6149"
            ]
          },
          "metadata": {
            "tags": []
          },
          "execution_count": 268
        }
      ]
    },
    {
      "cell_type": "code",
      "metadata": {
        "colab": {
          "base_uri": "https://localhost:8080/"
        },
        "id": "s4PZFj5IIEb1",
        "outputId": "6ea37cc0-ee63-490f-a596-62526d78f81c"
      },
      "source": [
        "dfE9_tired = dfE91H[dfE91H['Tipo'] == 'Tired']\r\n",
        "dfE9_tired_final = dfE9_tired.HORA.value_counts().rename('Tired').sort_index()\r\n",
        "dfE9_tired_final"
      ],
      "execution_count": 269,
      "outputs": [
        {
          "output_type": "execute_result",
          "data": {
            "text/plain": [
              "0     10\n",
              "1     14\n",
              "2     22\n",
              "3     24\n",
              "4     14\n",
              "5     12\n",
              "6     18\n",
              "7     30\n",
              "8     42\n",
              "9     38\n",
              "10    25\n",
              "11    34\n",
              "12    14\n",
              "13    31\n",
              "14    37\n",
              "15    28\n",
              "16    18\n",
              "17    54\n",
              "18    16\n",
              "19     8\n",
              "20     5\n",
              "21    12\n",
              "22    33\n",
              "23    34\n",
              "Name: Tired, dtype: int64"
            ]
          },
          "metadata": {
            "tags": []
          },
          "execution_count": 269
        }
      ]
    },
    {
      "cell_type": "code",
      "metadata": {
        "colab": {
          "base_uri": "https://localhost:8080/"
        },
        "id": "U6c6YNdcIERJ",
        "outputId": "6d108831-5608-4fdf-ac40-2fec837de0fd"
      },
      "source": [
        "dfE9_tired_final.sum()"
      ],
      "execution_count": 270,
      "outputs": [
        {
          "output_type": "execute_result",
          "data": {
            "text/plain": [
              "573"
            ]
          },
          "metadata": {
            "tags": []
          },
          "execution_count": 270
        }
      ]
    },
    {
      "cell_type": "code",
      "metadata": {
        "colab": {
          "base_uri": "https://localhost:8080/",
          "height": 204
        },
        "id": "rNYk7TCJcB0e",
        "outputId": "e85b89d4-fb13-4bd6-b420-9cbb941a35ce"
      },
      "source": [
        "dfE92H.head()"
      ],
      "execution_count": 271,
      "outputs": [
        {
          "output_type": "execute_result",
          "data": {
            "text/html": [
              "<div>\n",
              "<style scoped>\n",
              "    .dataframe tbody tr th:only-of-type {\n",
              "        vertical-align: middle;\n",
              "    }\n",
              "\n",
              "    .dataframe tbody tr th {\n",
              "        vertical-align: top;\n",
              "    }\n",
              "\n",
              "    .dataframe thead th {\n",
              "        text-align: right;\n",
              "    }\n",
              "</style>\n",
              "<table border=\"1\" class=\"dataframe\">\n",
              "  <thead>\n",
              "    <tr style=\"text-align: right;\">\n",
              "      <th></th>\n",
              "      <th>Data da ocorrência</th>\n",
              "      <th>dia</th>\n",
              "      <th>mês</th>\n",
              "      <th>Tipo</th>\n",
              "      <th>Velocidade</th>\n",
              "      <th>Tratativa</th>\n",
              "      <th>Placa</th>\n",
              "      <th>Motorista</th>\n",
              "      <th>Unnamed: 8</th>\n",
              "      <th>HORA</th>\n",
              "    </tr>\n",
              "  </thead>\n",
              "  <tbody>\n",
              "    <tr>\n",
              "      <th>0</th>\n",
              "      <td>2019-12-01 23:59:00</td>\n",
              "      <td>2019-12-01</td>\n",
              "      <td>2019-12-01</td>\n",
              "      <td>Atten-Warning</td>\n",
              "      <td>33</td>\n",
              "      <td>NaN</td>\n",
              "      <td>CQU5528</td>\n",
              "      <td>C805</td>\n",
              "      <td>NaN</td>\n",
              "      <td>23</td>\n",
              "    </tr>\n",
              "    <tr>\n",
              "      <th>1</th>\n",
              "      <td>2019-12-01 23:10:00</td>\n",
              "      <td>2019-12-01</td>\n",
              "      <td>2019-12-01</td>\n",
              "      <td>Atten-Warning</td>\n",
              "      <td>37</td>\n",
              "      <td>NaN</td>\n",
              "      <td>QPY2670</td>\n",
              "      <td>C784</td>\n",
              "      <td>NaN</td>\n",
              "      <td>23</td>\n",
              "    </tr>\n",
              "    <tr>\n",
              "      <th>2</th>\n",
              "      <td>2019-12-01 21:52:00</td>\n",
              "      <td>2019-12-01</td>\n",
              "      <td>2019-12-01</td>\n",
              "      <td>Atten-Warning</td>\n",
              "      <td>33</td>\n",
              "      <td>NaN</td>\n",
              "      <td>BSY2450</td>\n",
              "      <td>C752</td>\n",
              "      <td>NaN</td>\n",
              "      <td>21</td>\n",
              "    </tr>\n",
              "    <tr>\n",
              "      <th>3</th>\n",
              "      <td>2019-12-01 22:22:00</td>\n",
              "      <td>2019-12-01</td>\n",
              "      <td>2019-12-01</td>\n",
              "      <td>Atten-Warning</td>\n",
              "      <td>51</td>\n",
              "      <td>NaN</td>\n",
              "      <td>PTL9284</td>\n",
              "      <td>C736</td>\n",
              "      <td>NaN</td>\n",
              "      <td>22</td>\n",
              "    </tr>\n",
              "    <tr>\n",
              "      <th>4</th>\n",
              "      <td>2019-12-01 21:25:00</td>\n",
              "      <td>2019-12-01</td>\n",
              "      <td>2019-12-01</td>\n",
              "      <td>Atten-Warning</td>\n",
              "      <td>50</td>\n",
              "      <td>NaN</td>\n",
              "      <td>CQU5528</td>\n",
              "      <td>C805</td>\n",
              "      <td>NaN</td>\n",
              "      <td>21</td>\n",
              "    </tr>\n",
              "  </tbody>\n",
              "</table>\n",
              "</div>"
            ],
            "text/plain": [
              "   Data da ocorrência        dia        mês  ... Motorista  Unnamed: 8 HORA\n",
              "0 2019-12-01 23:59:00 2019-12-01 2019-12-01  ...      C805         NaN   23\n",
              "1 2019-12-01 23:10:00 2019-12-01 2019-12-01  ...      C784         NaN   23\n",
              "2 2019-12-01 21:52:00 2019-12-01 2019-12-01  ...      C752         NaN   21\n",
              "3 2019-12-01 22:22:00 2019-12-01 2019-12-01  ...      C736         NaN   22\n",
              "4 2019-12-01 21:25:00 2019-12-01 2019-12-01  ...      C805         NaN   21\n",
              "\n",
              "[5 rows x 10 columns]"
            ]
          },
          "metadata": {
            "tags": []
          },
          "execution_count": 271
        }
      ]
    },
    {
      "cell_type": "code",
      "metadata": {
        "colab": {
          "base_uri": "https://localhost:8080/"
        },
        "id": "rhntX51YA5lV",
        "outputId": "48ed988a-11c8-49f3-bd43-40e94c8c71e8"
      },
      "source": [
        "dfE92H.Tipo.value_counts()"
      ],
      "execution_count": 272,
      "outputs": [
        {
          "output_type": "execute_result",
          "data": {
            "text/plain": [
              "Atten-Warning    2895\n",
              "Name: Tipo, dtype: int64"
            ]
          },
          "metadata": {
            "tags": []
          },
          "execution_count": 272
        }
      ]
    },
    {
      "cell_type": "code",
      "metadata": {
        "colab": {
          "base_uri": "https://localhost:8080/"
        },
        "id": "sDefbrYUIYbZ",
        "outputId": "35bd0140-b16f-4419-f695-07cb45e2cb8d"
      },
      "source": [
        "dfE9_at = dfE92H.HORA.value_counts().rename('Atten-Warning').sort_index()\r\n",
        "dfE9_at"
      ],
      "execution_count": 273,
      "outputs": [
        {
          "output_type": "execute_result",
          "data": {
            "text/plain": [
              "0      44\n",
              "1     170\n",
              "2     210\n",
              "3     274\n",
              "4      83\n",
              "5      45\n",
              "6      91\n",
              "7     125\n",
              "8     159\n",
              "9      95\n",
              "10    144\n",
              "11    114\n",
              "12    185\n",
              "13    177\n",
              "14    105\n",
              "15    118\n",
              "16    111\n",
              "17     93\n",
              "18     46\n",
              "19     36\n",
              "20     24\n",
              "21    145\n",
              "22    220\n",
              "23     81\n",
              "Name: Atten-Warning, dtype: int64"
            ]
          },
          "metadata": {
            "tags": []
          },
          "execution_count": 273
        }
      ]
    },
    {
      "cell_type": "code",
      "metadata": {
        "colab": {
          "base_uri": "https://localhost:8080/"
        },
        "id": "JT6hj0N9ItQt",
        "outputId": "6088875c-1051-420b-fbbf-1b3264f3381d"
      },
      "source": [
        "dfE9_at.sum()"
      ],
      "execution_count": 274,
      "outputs": [
        {
          "output_type": "execute_result",
          "data": {
            "text/plain": [
              "2895"
            ]
          },
          "metadata": {
            "tags": []
          },
          "execution_count": 274
        }
      ]
    },
    {
      "cell_type": "markdown",
      "metadata": {
        "id": "wB814-hKKLPO"
      },
      "source": [
        "**Acidentes por hora**"
      ]
    },
    {
      "cell_type": "code",
      "metadata": {
        "colab": {
          "base_uri": "https://localhost:8080/",
          "height": 533
        },
        "id": "YC5gHg1UKL0g",
        "outputId": "c06c4c7b-9610-4ed8-c0b9-868ff92cdfff"
      },
      "source": [
        "dfOCO_TM_E9.head(3)"
      ],
      "execution_count": 275,
      "outputs": [
        {
          "output_type": "execute_result",
          "data": {
            "text/html": [
              "<div>\n",
              "<style scoped>\n",
              "    .dataframe tbody tr th:only-of-type {\n",
              "        vertical-align: middle;\n",
              "    }\n",
              "\n",
              "    .dataframe tbody tr th {\n",
              "        vertical-align: top;\n",
              "    }\n",
              "\n",
              "    .dataframe thead th {\n",
              "        text-align: right;\n",
              "    }\n",
              "</style>\n",
              "<table border=\"1\" class=\"dataframe\">\n",
              "  <thead>\n",
              "    <tr style=\"text-align: right;\">\n",
              "      <th></th>\n",
              "      <th>CLASSIFICAÇÃO</th>\n",
              "      <th>EMPRESA</th>\n",
              "      <th>GERÊNCIA</th>\n",
              "      <th>COORDENAÇÃO</th>\n",
              "      <th>SUB ÁREA</th>\n",
              "      <th>NOME</th>\n",
              "      <th>CARGO</th>\n",
              "      <th>TEMPO DE EMPRESA</th>\n",
              "      <th>IDADE</th>\n",
              "      <th>\\nDATA DA OCORRÊNCIA</th>\n",
              "      <th>DIA DA SEMANA</th>\n",
              "      <th>\\nLOCAL DA OCORRÊNCIA</th>\n",
              "      <th>QUALIDADE PISTA</th>\n",
              "      <th>CARACTERISTICA PISTA</th>\n",
              "      <th>SINALIZAÇÃO</th>\n",
              "      <th>CLIMA</th>\n",
              "      <th>PREFIXO</th>\n",
              "      <th>MODELO</th>\n",
              "      <th>CARREGADO</th>\n",
              "      <th>TIPO</th>\n",
              "      <th>DETALHAMENTO</th>\n",
              "      <th>POTENCIAL</th>\n",
              "      <th>SAP</th>\n",
              "      <th>DIA ESCALA</th>\n",
              "      <th>ESCALA</th>\n",
              "      <th>JORNADA</th>\n",
              "      <th>TEMPO DECORRIDO</th>\n",
              "      <th>DORMIU BEM?</th>\n",
              "      <th>PRÓXIMO PERIODO DE FÉRIAS OU FERIADO</th>\n",
              "      <th>ALIMENTOU</th>\n",
              "      <th>PROBLEMAS SAÚDE</th>\n",
              "      <th>USO MEDICAMENTO</th>\n",
              "      <th>USO ALCOOL/DROGA</th>\n",
              "      <th>PRESSÃO</th>\n",
              "      <th>PRESSA PARA CONCLUIR O TRABALHO</th>\n",
              "      <th>DESCRIÇÃO</th>\n",
              "      <th>HorarioAcidente</th>\n",
              "    </tr>\n",
              "    <tr>\n",
              "      <th>HORA</th>\n",
              "      <th></th>\n",
              "      <th></th>\n",
              "      <th></th>\n",
              "      <th></th>\n",
              "      <th></th>\n",
              "      <th></th>\n",
              "      <th></th>\n",
              "      <th></th>\n",
              "      <th></th>\n",
              "      <th></th>\n",
              "      <th></th>\n",
              "      <th></th>\n",
              "      <th></th>\n",
              "      <th></th>\n",
              "      <th></th>\n",
              "      <th></th>\n",
              "      <th></th>\n",
              "      <th></th>\n",
              "      <th></th>\n",
              "      <th></th>\n",
              "      <th></th>\n",
              "      <th></th>\n",
              "      <th></th>\n",
              "      <th></th>\n",
              "      <th></th>\n",
              "      <th></th>\n",
              "      <th></th>\n",
              "      <th></th>\n",
              "      <th></th>\n",
              "      <th></th>\n",
              "      <th></th>\n",
              "      <th></th>\n",
              "      <th></th>\n",
              "      <th></th>\n",
              "      <th></th>\n",
              "      <th></th>\n",
              "      <th></th>\n",
              "    </tr>\n",
              "  </thead>\n",
              "  <tbody>\n",
              "    <tr>\n",
              "      <th>00:01:00</th>\n",
              "      <td>INCIDENTE</td>\n",
              "      <td>E9</td>\n",
              "      <td>GERÊNCIA LOGÍSTICA PR</td>\n",
              "      <td>OPERAÇÕES LOGÍSTICAS PR</td>\n",
              "      <td>OPERAÇÕES LOGÍSTICAS PR</td>\n",
              "      <td>C318</td>\n",
              "      <td>MOTORISTA</td>\n",
              "      <td>12</td>\n",
              "      <td>45.0</td>\n",
              "      <td>2019-04-14</td>\n",
              "      <td>DOMINGO</td>\n",
              "      <td>BR-153</td>\n",
              "      <td>ASFALTADA</td>\n",
              "      <td>NaN</td>\n",
              "      <td>NaN</td>\n",
              "      <td>SEM CHUVA</td>\n",
              "      <td>JSL 001</td>\n",
              "      <td>NaN</td>\n",
              "      <td>NaN</td>\n",
              "      <td>TRANSPORTE DE MADEIRA</td>\n",
              "      <td>O MOTORISTA DA EMPRESA JSL RETORNAVA DA RF ADA...</td>\n",
              "      <td>PF</td>\n",
              "      <td>10033</td>\n",
              "      <td>NaN</td>\n",
              "      <td>NaN</td>\n",
              "      <td>NaN</td>\n",
              "      <td>NaN</td>\n",
              "      <td>NaN</td>\n",
              "      <td>NaN</td>\n",
              "      <td>NaN</td>\n",
              "      <td>NaN</td>\n",
              "      <td>NÃO</td>\n",
              "      <td>NaN</td>\n",
              "      <td>NÃO</td>\n",
              "      <td>NaN</td>\n",
              "      <td>O MOTORISTA TEVE UM APAGÃO DE MEMORIA MAS NÃO ...</td>\n",
              "      <td>0</td>\n",
              "    </tr>\n",
              "    <tr>\n",
              "      <th>01:30:00</th>\n",
              "      <td>IAP</td>\n",
              "      <td>E9</td>\n",
              "      <td>LOGÍSTICA</td>\n",
              "      <td>TRANSPORTE FLORESTAL</td>\n",
              "      <td>LOGÍSTICA</td>\n",
              "      <td>NaN</td>\n",
              "      <td>MOTORISTA</td>\n",
              "      <td>NaN</td>\n",
              "      <td>NaN</td>\n",
              "      <td>2017-11-10</td>\n",
              "      <td>SEXTA-FEIRA</td>\n",
              "      <td>ESTRADA MARGEM DIREITA</td>\n",
              "      <td>ESTRADA DE CHÃO</td>\n",
              "      <td>NaN</td>\n",
              "      <td>NaN</td>\n",
              "      <td>NaN</td>\n",
              "      <td>JSL-110</td>\n",
              "      <td>NaN</td>\n",
              "      <td>SIM</td>\n",
              "      <td>TRANSPORTE DE MADEIRA</td>\n",
              "      <td>O MOTORISTA TRAFEGAVA COM O CAMINHÃO PREFIXO J...</td>\n",
              "      <td>LPG</td>\n",
              "      <td>7488</td>\n",
              "      <td>2.0</td>\n",
              "      <td>4x2</td>\n",
              "      <td>15:00:00</td>\n",
              "      <td>10:30:00</td>\n",
              "      <td>NaN</td>\n",
              "      <td>NaN</td>\n",
              "      <td>NaN</td>\n",
              "      <td>NaN</td>\n",
              "      <td>NaN</td>\n",
              "      <td>NaN</td>\n",
              "      <td>NaN</td>\n",
              "      <td>NaN</td>\n",
              "      <td>APÓS A INVESTIGAÇÃO DA OCORRÊNCIA CONSTATAMOS ...</td>\n",
              "      <td>1</td>\n",
              "    </tr>\n",
              "    <tr>\n",
              "      <th>02:00:00</th>\n",
              "      <td>IBP</td>\n",
              "      <td>E9</td>\n",
              "      <td>GERÊNCIA LOGÍSTICA PR</td>\n",
              "      <td>OPERAÇÕES LOGÍSTICAS PR</td>\n",
              "      <td>OPERAÇÕES LOGÍSTICAS PR</td>\n",
              "      <td>C467</td>\n",
              "      <td>MOTORISTA</td>\n",
              "      <td>20</td>\n",
              "      <td>25.0</td>\n",
              "      <td>2018-08-06</td>\n",
              "      <td>SEGUNDA-FEIRA</td>\n",
              "      <td>DA REGIÃO FLORESTAL BOA ESPERANÇA COM SENTIDO ...</td>\n",
              "      <td>NaN</td>\n",
              "      <td>DECLIVE</td>\n",
              "      <td>NaN</td>\n",
              "      <td>NaN</td>\n",
              "      <td>JSL-008</td>\n",
              "      <td>NaN</td>\n",
              "      <td>SIM</td>\n",
              "      <td>TRANSPORTE DE MADEIRA</td>\n",
              "      <td>MOTORISTA DA EMPRESA JSL, TRAFEGAVA COM CAMINH...</td>\n",
              "      <td>LPL</td>\n",
              "      <td>8765</td>\n",
              "      <td>NaN</td>\n",
              "      <td>NaN</td>\n",
              "      <td>NaN</td>\n",
              "      <td>NaN</td>\n",
              "      <td>NaN</td>\n",
              "      <td>NaN</td>\n",
              "      <td>NaN</td>\n",
              "      <td>NaN</td>\n",
              "      <td>NaN</td>\n",
              "      <td>NaN</td>\n",
              "      <td>NaN</td>\n",
              "      <td>NaN</td>\n",
              "      <td>NaN</td>\n",
              "      <td>2</td>\n",
              "    </tr>\n",
              "  </tbody>\n",
              "</table>\n",
              "</div>"
            ],
            "text/plain": [
              "         CLASSIFICAÇÃO  ... HorarioAcidente\n",
              "HORA                    ...                \n",
              "00:01:00     INCIDENTE  ...               0\n",
              "01:30:00           IAP  ...               1\n",
              "02:00:00           IBP  ...               2\n",
              "\n",
              "[3 rows x 37 columns]"
            ]
          },
          "metadata": {
            "tags": []
          },
          "execution_count": 275
        }
      ]
    },
    {
      "cell_type": "code",
      "metadata": {
        "colab": {
          "base_uri": "https://localhost:8080/"
        },
        "id": "hH9WuktNNt4L",
        "outputId": "97db508a-7ddc-4dcd-f576-3388063e43d2"
      },
      "source": [
        "dfOCO_TM_E9.CARGO.value_counts()"
      ],
      "execution_count": 276,
      "outputs": [
        {
          "output_type": "execute_result",
          "data": {
            "text/plain": [
              "MOTORISTA                         38\n",
              "MOTORISTA                          2\n",
              "MOTORISTA TRANSPORTE FLORESTAL     2\n",
              "Name: CARGO, dtype: int64"
            ]
          },
          "metadata": {
            "tags": []
          },
          "execution_count": 276
        }
      ]
    },
    {
      "cell_type": "code",
      "metadata": {
        "colab": {
          "base_uri": "https://localhost:8080/"
        },
        "id": "_XVmMPLKNt4O",
        "outputId": "18e7868e-002d-4b1c-87ed-42dcc4152148"
      },
      "source": [
        "dfE9_acid_hora = dfOCO_TM_E9.HorarioAcidente.value_counts().sort_index().rename('Acidentes por hora')\r\n",
        "dfE9_acid_hora"
      ],
      "execution_count": 277,
      "outputs": [
        {
          "output_type": "execute_result",
          "data": {
            "text/plain": [
              "0     1\n",
              "1     1\n",
              "2     2\n",
              "4     3\n",
              "5     3\n",
              "7     1\n",
              "8     5\n",
              "9     1\n",
              "10    1\n",
              "11    3\n",
              "13    2\n",
              "14    2\n",
              "15    2\n",
              "17    2\n",
              "18    2\n",
              "19    1\n",
              "20    2\n",
              "21    1\n",
              "22    3\n",
              "23    4\n",
              "Name: Acidentes por hora, dtype: int64"
            ]
          },
          "metadata": {
            "tags": []
          },
          "execution_count": 277
        }
      ]
    },
    {
      "cell_type": "markdown",
      "metadata": {
        "id": "bobVLDn0VDzS"
      },
      "source": [
        "**DF final E9**"
      ]
    },
    {
      "cell_type": "code",
      "metadata": {
        "colab": {
          "base_uri": "https://localhost:8080/",
          "height": 824
        },
        "id": "c4xWk1gwVDzU",
        "outputId": "29e755eb-1fdb-4d11-a7a9-89c6adab61ab"
      },
      "source": [
        "dfE9_final = pd.DataFrame(dfE9_motoristas_hora['motoristasE9'],dtype='int64')\r\n",
        "dfE9_final['Yawn'] = pd.DataFrame(dfE9_yawn_final)\r\n",
        "dfE9_final['Tired'] = pd.DataFrame(dfE9_tired_final)\r\n",
        "dfE9_final['Atten-Warning'] = pd.DataFrame(dfE9_at)\r\n",
        "dfE9_final['Acidentes'] = pd.DataFrame(dfE9_acid_hora)\r\n",
        "dfE9_final.fillna(0, inplace=True)\r\n",
        "dfE9_final['Acidentes'] = dfE9_final.Acidentes.astype('int64')\r\n",
        "dfE9_final"
      ],
      "execution_count": 278,
      "outputs": [
        {
          "output_type": "execute_result",
          "data": {
            "text/html": [
              "<div>\n",
              "<style scoped>\n",
              "    .dataframe tbody tr th:only-of-type {\n",
              "        vertical-align: middle;\n",
              "    }\n",
              "\n",
              "    .dataframe tbody tr th {\n",
              "        vertical-align: top;\n",
              "    }\n",
              "\n",
              "    .dataframe thead th {\n",
              "        text-align: right;\n",
              "    }\n",
              "</style>\n",
              "<table border=\"1\" class=\"dataframe\">\n",
              "  <thead>\n",
              "    <tr style=\"text-align: right;\">\n",
              "      <th></th>\n",
              "      <th>motoristasE9</th>\n",
              "      <th>Yawn</th>\n",
              "      <th>Tired</th>\n",
              "      <th>Atten-Warning</th>\n",
              "      <th>Acidentes</th>\n",
              "    </tr>\n",
              "    <tr>\n",
              "      <th>HORA</th>\n",
              "      <th></th>\n",
              "      <th></th>\n",
              "      <th></th>\n",
              "      <th></th>\n",
              "      <th></th>\n",
              "    </tr>\n",
              "  </thead>\n",
              "  <tbody>\n",
              "    <tr>\n",
              "      <th>0</th>\n",
              "      <td>42</td>\n",
              "      <td>299</td>\n",
              "      <td>10</td>\n",
              "      <td>44</td>\n",
              "      <td>1</td>\n",
              "    </tr>\n",
              "    <tr>\n",
              "      <th>1</th>\n",
              "      <td>38</td>\n",
              "      <td>282</td>\n",
              "      <td>14</td>\n",
              "      <td>170</td>\n",
              "      <td>1</td>\n",
              "    </tr>\n",
              "    <tr>\n",
              "      <th>2</th>\n",
              "      <td>42</td>\n",
              "      <td>409</td>\n",
              "      <td>22</td>\n",
              "      <td>210</td>\n",
              "      <td>2</td>\n",
              "    </tr>\n",
              "    <tr>\n",
              "      <th>3</th>\n",
              "      <td>46</td>\n",
              "      <td>382</td>\n",
              "      <td>24</td>\n",
              "      <td>274</td>\n",
              "      <td>0</td>\n",
              "    </tr>\n",
              "    <tr>\n",
              "      <th>4</th>\n",
              "      <td>50</td>\n",
              "      <td>492</td>\n",
              "      <td>14</td>\n",
              "      <td>83</td>\n",
              "      <td>3</td>\n",
              "    </tr>\n",
              "    <tr>\n",
              "      <th>5</th>\n",
              "      <td>50</td>\n",
              "      <td>489</td>\n",
              "      <td>12</td>\n",
              "      <td>45</td>\n",
              "      <td>3</td>\n",
              "    </tr>\n",
              "    <tr>\n",
              "      <th>6</th>\n",
              "      <td>44</td>\n",
              "      <td>302</td>\n",
              "      <td>18</td>\n",
              "      <td>91</td>\n",
              "      <td>0</td>\n",
              "    </tr>\n",
              "    <tr>\n",
              "      <th>7</th>\n",
              "      <td>48</td>\n",
              "      <td>185</td>\n",
              "      <td>30</td>\n",
              "      <td>125</td>\n",
              "      <td>1</td>\n",
              "    </tr>\n",
              "    <tr>\n",
              "      <th>8</th>\n",
              "      <td>54</td>\n",
              "      <td>211</td>\n",
              "      <td>42</td>\n",
              "      <td>159</td>\n",
              "      <td>5</td>\n",
              "    </tr>\n",
              "    <tr>\n",
              "      <th>9</th>\n",
              "      <td>56</td>\n",
              "      <td>199</td>\n",
              "      <td>38</td>\n",
              "      <td>95</td>\n",
              "      <td>1</td>\n",
              "    </tr>\n",
              "    <tr>\n",
              "      <th>10</th>\n",
              "      <td>58</td>\n",
              "      <td>182</td>\n",
              "      <td>25</td>\n",
              "      <td>144</td>\n",
              "      <td>1</td>\n",
              "    </tr>\n",
              "    <tr>\n",
              "      <th>11</th>\n",
              "      <td>64</td>\n",
              "      <td>181</td>\n",
              "      <td>34</td>\n",
              "      <td>114</td>\n",
              "      <td>3</td>\n",
              "    </tr>\n",
              "    <tr>\n",
              "      <th>12</th>\n",
              "      <td>74</td>\n",
              "      <td>131</td>\n",
              "      <td>14</td>\n",
              "      <td>185</td>\n",
              "      <td>0</td>\n",
              "    </tr>\n",
              "    <tr>\n",
              "      <th>13</th>\n",
              "      <td>78</td>\n",
              "      <td>144</td>\n",
              "      <td>31</td>\n",
              "      <td>177</td>\n",
              "      <td>2</td>\n",
              "    </tr>\n",
              "    <tr>\n",
              "      <th>14</th>\n",
              "      <td>74</td>\n",
              "      <td>187</td>\n",
              "      <td>37</td>\n",
              "      <td>105</td>\n",
              "      <td>2</td>\n",
              "    </tr>\n",
              "    <tr>\n",
              "      <th>15</th>\n",
              "      <td>70</td>\n",
              "      <td>217</td>\n",
              "      <td>28</td>\n",
              "      <td>118</td>\n",
              "      <td>2</td>\n",
              "    </tr>\n",
              "    <tr>\n",
              "      <th>16</th>\n",
              "      <td>66</td>\n",
              "      <td>219</td>\n",
              "      <td>18</td>\n",
              "      <td>111</td>\n",
              "      <td>0</td>\n",
              "    </tr>\n",
              "    <tr>\n",
              "      <th>17</th>\n",
              "      <td>66</td>\n",
              "      <td>162</td>\n",
              "      <td>54</td>\n",
              "      <td>93</td>\n",
              "      <td>2</td>\n",
              "    </tr>\n",
              "    <tr>\n",
              "      <th>18</th>\n",
              "      <td>72</td>\n",
              "      <td>136</td>\n",
              "      <td>16</td>\n",
              "      <td>46</td>\n",
              "      <td>2</td>\n",
              "    </tr>\n",
              "    <tr>\n",
              "      <th>19</th>\n",
              "      <td>68</td>\n",
              "      <td>170</td>\n",
              "      <td>8</td>\n",
              "      <td>36</td>\n",
              "      <td>1</td>\n",
              "    </tr>\n",
              "    <tr>\n",
              "      <th>20</th>\n",
              "      <td>62</td>\n",
              "      <td>221</td>\n",
              "      <td>5</td>\n",
              "      <td>24</td>\n",
              "      <td>2</td>\n",
              "    </tr>\n",
              "    <tr>\n",
              "      <th>21</th>\n",
              "      <td>60</td>\n",
              "      <td>255</td>\n",
              "      <td>12</td>\n",
              "      <td>145</td>\n",
              "      <td>1</td>\n",
              "    </tr>\n",
              "    <tr>\n",
              "      <th>22</th>\n",
              "      <td>58</td>\n",
              "      <td>336</td>\n",
              "      <td>33</td>\n",
              "      <td>220</td>\n",
              "      <td>3</td>\n",
              "    </tr>\n",
              "    <tr>\n",
              "      <th>23</th>\n",
              "      <td>52</td>\n",
              "      <td>358</td>\n",
              "      <td>34</td>\n",
              "      <td>81</td>\n",
              "      <td>4</td>\n",
              "    </tr>\n",
              "  </tbody>\n",
              "</table>\n",
              "</div>"
            ],
            "text/plain": [
              "      motoristasE9  Yawn  Tired  Atten-Warning  Acidentes\n",
              "HORA                                                     \n",
              "0               42   299     10             44          1\n",
              "1               38   282     14            170          1\n",
              "2               42   409     22            210          2\n",
              "3               46   382     24            274          0\n",
              "4               50   492     14             83          3\n",
              "5               50   489     12             45          3\n",
              "6               44   302     18             91          0\n",
              "7               48   185     30            125          1\n",
              "8               54   211     42            159          5\n",
              "9               56   199     38             95          1\n",
              "10              58   182     25            144          1\n",
              "11              64   181     34            114          3\n",
              "12              74   131     14            185          0\n",
              "13              78   144     31            177          2\n",
              "14              74   187     37            105          2\n",
              "15              70   217     28            118          2\n",
              "16              66   219     18            111          0\n",
              "17              66   162     54             93          2\n",
              "18              72   136     16             46          2\n",
              "19              68   170      8             36          1\n",
              "20              62   221      5             24          2\n",
              "21              60   255     12            145          1\n",
              "22              58   336     33            220          3\n",
              "23              52   358     34             81          4"
            ]
          },
          "metadata": {
            "tags": []
          },
          "execution_count": 278
        }
      ]
    },
    {
      "cell_type": "markdown",
      "metadata": {
        "id": "ohe9g9F08Nwm"
      },
      "source": [
        "### **Visualização**"
      ]
    },
    {
      "cell_type": "code",
      "metadata": {
        "colab": {
          "base_uri": "https://localhost:8080/"
        },
        "id": "i-4bxNP9HfNP",
        "outputId": "ec158ba1-a985-4569-bac8-8293d8542a92"
      },
      "source": [
        "dfE91H.shape"
      ],
      "execution_count": 279,
      "outputs": [
        {
          "output_type": "execute_result",
          "data": {
            "text/plain": [
              "(6722, 10)"
            ]
          },
          "metadata": {
            "tags": []
          },
          "execution_count": 279
        }
      ]
    },
    {
      "cell_type": "code",
      "metadata": {
        "colab": {
          "base_uri": "https://localhost:8080/"
        },
        "id": "NEioWlfOIJ8N",
        "outputId": "27929bab-b699-433b-e9c1-180178827ec9"
      },
      "source": [
        "dfE91H.Tipo.value_counts()"
      ],
      "execution_count": 280,
      "outputs": [
        {
          "output_type": "execute_result",
          "data": {
            "text/plain": [
              "Yawn-Warning    6149\n",
              "Tired            573\n",
              "Name: Tipo, dtype: int64"
            ]
          },
          "metadata": {
            "tags": []
          },
          "execution_count": 280
        }
      ]
    },
    {
      "cell_type": "code",
      "metadata": {
        "id": "T0mgKPctGKA1",
        "colab": {
          "base_uri": "https://localhost:8080/"
        },
        "outputId": "85951278-0492-4cb2-9212-003b30c389ee"
      },
      "source": [
        "dfE91_yawn = dfE91H[dfE91H.Tipo == 'Yawn-Warning']\r\n",
        "dfE91_yawn.shape"
      ],
      "execution_count": 281,
      "outputs": [
        {
          "output_type": "execute_result",
          "data": {
            "text/plain": [
              "(6149, 10)"
            ]
          },
          "metadata": {
            "tags": []
          },
          "execution_count": 281
        }
      ]
    },
    {
      "cell_type": "code",
      "metadata": {
        "colab": {
          "base_uri": "https://localhost:8080/"
        },
        "id": "a1_b5oTr8Nwn",
        "outputId": "43c48764-68f7-4bdd-e168-386557467bb2"
      },
      "source": [
        "counts, bins = np.histogram(dfE91_yawn['HORA'], bins=range(0, 25, 3))\r\n",
        "counts"
      ],
      "execution_count": 282,
      "outputs": [
        {
          "output_type": "execute_result",
          "data": {
            "text/plain": [
              "array([ 990, 1363,  698,  562,  462,  598,  527,  949])"
            ]
          },
          "metadata": {
            "tags": []
          },
          "execution_count": 282
        }
      ]
    },
    {
      "cell_type": "code",
      "metadata": {
        "colab": {
          "base_uri": "https://localhost:8080/"
        },
        "id": "2SvNEssY8Nwn",
        "outputId": "35994613-d4fb-46ac-c74f-fd575c554d16"
      },
      "source": [
        "b = np.array(dfE9_final['motoristasE9'])\r\n",
        "print(b)\r\n",
        "c = b.reshape((8,3)).sum(axis=1)\r\n",
        "print(c)"
      ],
      "execution_count": 283,
      "outputs": [
        {
          "output_type": "stream",
          "text": [
            "[42 38 42 46 50 50 44 48 54 56 58 64 74 78 74 70 66 66 72 68 62 60 58 52]\n",
            "[122 146 146 178 226 202 202 170]\n"
          ],
          "name": "stdout"
        }
      ]
    },
    {
      "cell_type": "code",
      "metadata": {
        "colab": {
          "base_uri": "https://localhost:8080/",
          "height": 542
        },
        "id": "Lz-ADRNp8Nwo",
        "outputId": "41fd190d-785a-42df-8e96-a08e38f629f7"
      },
      "source": [
        "graphics_plot(y = [counts, counts/c], y_name = ['Events(raw)', 'Events/Drivers'], bins = Nbins, x_tick=ticks,\r\n",
        "              title = 'Events company E9 (Yawn-Warning)', yaxes_title = ['Raw', 'Rate'])"
      ],
      "execution_count": 284,
      "outputs": [
        {
          "output_type": "display_data",
          "data": {
            "text/html": [
              "<html>\n",
              "<head><meta charset=\"utf-8\" /></head>\n",
              "<body>\n",
              "    <div>            <script src=\"https://cdnjs.cloudflare.com/ajax/libs/mathjax/2.7.5/MathJax.js?config=TeX-AMS-MML_SVG\"></script><script type=\"text/javascript\">if (window.MathJax) {MathJax.Hub.Config({SVG: {font: \"STIX-Web\"}});}</script>                <script type=\"text/javascript\">window.PlotlyConfig = {MathJaxConfig: 'local'};</script>\n",
              "        <script src=\"https://cdn.plot.ly/plotly-latest.min.js\"></script>                <div id=\"63e8a67d-9802-4c65-8f98-83d1413d283f\" class=\"plotly-graph-div\" style=\"height:525px; width:100%;\"></div>            <script type=\"text/javascript\">                                    window.PLOTLYENV=window.PLOTLYENV || {};                                    if (document.getElementById(\"63e8a67d-9802-4c65-8f98-83d1413d283f\")) {                    Plotly.newPlot(                        \"63e8a67d-9802-4c65-8f98-83d1413d283f\",                        [{\"line\": {\"color\": \"rgb(0, 0, 0)\", \"width\": 2}, \"marker\": {\"size\": 7, \"symbol\": \"circle\"}, \"mode\": \"lines+markers\", \"name\": \"Events(raw)\", \"type\": \"scatter\", \"x\": [0.0, 3.0, 6.0, 9.0, 12.0, 15.0, 18.0, 21.0, 24.0], \"xaxis\": \"x\", \"y\": [990, 1363, 698, 562, 462, 598, 527, 949], \"yaxis\": \"y\"}, {\"line\": {\"color\": \"rgb(0, 0, 0)\", \"dash\": \"dash\", \"width\": 2}, \"marker\": {\"size\": 7, \"symbol\": \"star\"}, \"mode\": \"lines+markers\", \"name\": \"Events/Drivers\", \"type\": \"scatter\", \"x\": [0.0, 3.0, 6.0, 9.0, 12.0, 15.0, 18.0, 21.0, 24.0], \"xaxis\": \"x\", \"y\": [8.114754098360656, 9.335616438356164, 4.780821917808219, 3.157303370786517, 2.0442477876106193, 2.9603960396039604, 2.608910891089109, 5.58235294117647], \"yaxis\": \"y2\"}],                        {\"legend\": {\"orientation\": \"h\", \"x\": 0.95, \"xanchor\": \"right\", \"y\": 1.01, \"yanchor\": \"bottom\"}, \"paper_bgcolor\": \"rgba(0,0,0,0)\", \"plot_bgcolor\": \"rgba(0,0,0,0)\", \"template\": {\"data\": {\"bar\": [{\"error_x\": {\"color\": \"#2a3f5f\"}, \"error_y\": {\"color\": \"#2a3f5f\"}, \"marker\": {\"line\": {\"color\": \"#E5ECF6\", \"width\": 0.5}}, \"type\": \"bar\"}], \"barpolar\": [{\"marker\": {\"line\": {\"color\": \"#E5ECF6\", \"width\": 0.5}}, \"type\": \"barpolar\"}], \"carpet\": [{\"aaxis\": {\"endlinecolor\": \"#2a3f5f\", \"gridcolor\": \"white\", \"linecolor\": \"white\", \"minorgridcolor\": \"white\", \"startlinecolor\": \"#2a3f5f\"}, \"baxis\": {\"endlinecolor\": \"#2a3f5f\", \"gridcolor\": \"white\", \"linecolor\": \"white\", \"minorgridcolor\": \"white\", \"startlinecolor\": \"#2a3f5f\"}, \"type\": \"carpet\"}], \"choropleth\": [{\"colorbar\": {\"outlinewidth\": 0, \"ticks\": \"\"}, \"type\": \"choropleth\"}], \"contour\": [{\"colorbar\": {\"outlinewidth\": 0, \"ticks\": \"\"}, \"colorscale\": [[0.0, \"#0d0887\"], [0.1111111111111111, \"#46039f\"], [0.2222222222222222, \"#7201a8\"], [0.3333333333333333, \"#9c179e\"], [0.4444444444444444, \"#bd3786\"], [0.5555555555555556, \"#d8576b\"], [0.6666666666666666, \"#ed7953\"], [0.7777777777777778, \"#fb9f3a\"], [0.8888888888888888, \"#fdca26\"], [1.0, \"#f0f921\"]], \"type\": \"contour\"}], \"contourcarpet\": [{\"colorbar\": {\"outlinewidth\": 0, \"ticks\": \"\"}, \"type\": \"contourcarpet\"}], \"heatmap\": [{\"colorbar\": {\"outlinewidth\": 0, \"ticks\": \"\"}, \"colorscale\": [[0.0, \"#0d0887\"], [0.1111111111111111, \"#46039f\"], [0.2222222222222222, \"#7201a8\"], [0.3333333333333333, \"#9c179e\"], [0.4444444444444444, \"#bd3786\"], [0.5555555555555556, \"#d8576b\"], [0.6666666666666666, \"#ed7953\"], [0.7777777777777778, \"#fb9f3a\"], [0.8888888888888888, \"#fdca26\"], [1.0, \"#f0f921\"]], \"type\": \"heatmap\"}], \"heatmapgl\": [{\"colorbar\": {\"outlinewidth\": 0, \"ticks\": \"\"}, \"colorscale\": [[0.0, \"#0d0887\"], [0.1111111111111111, \"#46039f\"], [0.2222222222222222, \"#7201a8\"], [0.3333333333333333, \"#9c179e\"], [0.4444444444444444, \"#bd3786\"], [0.5555555555555556, \"#d8576b\"], [0.6666666666666666, \"#ed7953\"], [0.7777777777777778, \"#fb9f3a\"], [0.8888888888888888, \"#fdca26\"], [1.0, \"#f0f921\"]], \"type\": \"heatmapgl\"}], \"histogram\": [{\"marker\": {\"colorbar\": {\"outlinewidth\": 0, \"ticks\": \"\"}}, \"type\": \"histogram\"}], \"histogram2d\": [{\"colorbar\": {\"outlinewidth\": 0, \"ticks\": \"\"}, \"colorscale\": [[0.0, \"#0d0887\"], [0.1111111111111111, \"#46039f\"], [0.2222222222222222, \"#7201a8\"], [0.3333333333333333, \"#9c179e\"], [0.4444444444444444, \"#bd3786\"], [0.5555555555555556, \"#d8576b\"], [0.6666666666666666, \"#ed7953\"], [0.7777777777777778, \"#fb9f3a\"], [0.8888888888888888, \"#fdca26\"], [1.0, \"#f0f921\"]], \"type\": \"histogram2d\"}], \"histogram2dcontour\": [{\"colorbar\": {\"outlinewidth\": 0, \"ticks\": \"\"}, \"colorscale\": [[0.0, \"#0d0887\"], [0.1111111111111111, \"#46039f\"], [0.2222222222222222, \"#7201a8\"], [0.3333333333333333, \"#9c179e\"], [0.4444444444444444, \"#bd3786\"], [0.5555555555555556, \"#d8576b\"], [0.6666666666666666, \"#ed7953\"], [0.7777777777777778, \"#fb9f3a\"], [0.8888888888888888, \"#fdca26\"], [1.0, \"#f0f921\"]], \"type\": \"histogram2dcontour\"}], \"mesh3d\": [{\"colorbar\": {\"outlinewidth\": 0, \"ticks\": \"\"}, \"type\": \"mesh3d\"}], \"parcoords\": [{\"line\": {\"colorbar\": {\"outlinewidth\": 0, \"ticks\": \"\"}}, \"type\": \"parcoords\"}], \"pie\": [{\"automargin\": true, \"type\": \"pie\"}], \"scatter\": [{\"marker\": {\"colorbar\": {\"outlinewidth\": 0, \"ticks\": \"\"}}, \"type\": \"scatter\"}], \"scatter3d\": [{\"line\": {\"colorbar\": {\"outlinewidth\": 0, \"ticks\": \"\"}}, \"marker\": {\"colorbar\": {\"outlinewidth\": 0, \"ticks\": \"\"}}, \"type\": \"scatter3d\"}], \"scattercarpet\": [{\"marker\": {\"colorbar\": {\"outlinewidth\": 0, \"ticks\": \"\"}}, \"type\": \"scattercarpet\"}], \"scattergeo\": [{\"marker\": {\"colorbar\": {\"outlinewidth\": 0, \"ticks\": \"\"}}, \"type\": \"scattergeo\"}], \"scattergl\": [{\"marker\": {\"colorbar\": {\"outlinewidth\": 0, \"ticks\": \"\"}}, \"type\": \"scattergl\"}], \"scattermapbox\": [{\"marker\": {\"colorbar\": {\"outlinewidth\": 0, \"ticks\": \"\"}}, \"type\": \"scattermapbox\"}], \"scatterpolar\": [{\"marker\": {\"colorbar\": {\"outlinewidth\": 0, \"ticks\": \"\"}}, \"type\": \"scatterpolar\"}], \"scatterpolargl\": [{\"marker\": {\"colorbar\": {\"outlinewidth\": 0, \"ticks\": \"\"}}, \"type\": \"scatterpolargl\"}], \"scatterternary\": [{\"marker\": {\"colorbar\": {\"outlinewidth\": 0, \"ticks\": \"\"}}, \"type\": \"scatterternary\"}], \"surface\": [{\"colorbar\": {\"outlinewidth\": 0, \"ticks\": \"\"}, \"colorscale\": [[0.0, \"#0d0887\"], [0.1111111111111111, \"#46039f\"], [0.2222222222222222, \"#7201a8\"], [0.3333333333333333, \"#9c179e\"], [0.4444444444444444, \"#bd3786\"], [0.5555555555555556, \"#d8576b\"], [0.6666666666666666, \"#ed7953\"], [0.7777777777777778, \"#fb9f3a\"], [0.8888888888888888, \"#fdca26\"], [1.0, \"#f0f921\"]], \"type\": \"surface\"}], \"table\": [{\"cells\": {\"fill\": {\"color\": \"#EBF0F8\"}, \"line\": {\"color\": \"white\"}}, \"header\": {\"fill\": {\"color\": \"#C8D4E3\"}, \"line\": {\"color\": \"white\"}}, \"type\": \"table\"}]}, \"layout\": {\"annotationdefaults\": {\"arrowcolor\": \"#2a3f5f\", \"arrowhead\": 0, \"arrowwidth\": 1}, \"autotypenumbers\": \"strict\", \"coloraxis\": {\"colorbar\": {\"outlinewidth\": 0, \"ticks\": \"\"}}, \"colorscale\": {\"diverging\": [[0, \"#8e0152\"], [0.1, \"#c51b7d\"], [0.2, \"#de77ae\"], [0.3, \"#f1b6da\"], [0.4, \"#fde0ef\"], [0.5, \"#f7f7f7\"], [0.6, \"#e6f5d0\"], [0.7, \"#b8e186\"], [0.8, \"#7fbc41\"], [0.9, \"#4d9221\"], [1, \"#276419\"]], \"sequential\": [[0.0, \"#0d0887\"], [0.1111111111111111, \"#46039f\"], [0.2222222222222222, \"#7201a8\"], [0.3333333333333333, \"#9c179e\"], [0.4444444444444444, \"#bd3786\"], [0.5555555555555556, \"#d8576b\"], [0.6666666666666666, \"#ed7953\"], [0.7777777777777778, \"#fb9f3a\"], [0.8888888888888888, \"#fdca26\"], [1.0, \"#f0f921\"]], \"sequentialminus\": [[0.0, \"#0d0887\"], [0.1111111111111111, \"#46039f\"], [0.2222222222222222, \"#7201a8\"], [0.3333333333333333, \"#9c179e\"], [0.4444444444444444, \"#bd3786\"], [0.5555555555555556, \"#d8576b\"], [0.6666666666666666, \"#ed7953\"], [0.7777777777777778, \"#fb9f3a\"], [0.8888888888888888, \"#fdca26\"], [1.0, \"#f0f921\"]]}, \"colorway\": [\"#636efa\", \"#EF553B\", \"#00cc96\", \"#ab63fa\", \"#FFA15A\", \"#19d3f3\", \"#FF6692\", \"#B6E880\", \"#FF97FF\", \"#FECB52\"], \"font\": {\"color\": \"#2a3f5f\"}, \"geo\": {\"bgcolor\": \"white\", \"lakecolor\": \"white\", \"landcolor\": \"#E5ECF6\", \"showlakes\": true, \"showland\": true, \"subunitcolor\": \"white\"}, \"hoverlabel\": {\"align\": \"left\"}, \"hovermode\": \"closest\", \"mapbox\": {\"style\": \"light\"}, \"paper_bgcolor\": \"white\", \"plot_bgcolor\": \"#E5ECF6\", \"polar\": {\"angularaxis\": {\"gridcolor\": \"white\", \"linecolor\": \"white\", \"ticks\": \"\"}, \"bgcolor\": \"#E5ECF6\", \"radialaxis\": {\"gridcolor\": \"white\", \"linecolor\": \"white\", \"ticks\": \"\"}}, \"scene\": {\"xaxis\": {\"backgroundcolor\": \"#E5ECF6\", \"gridcolor\": \"white\", \"gridwidth\": 2, \"linecolor\": \"white\", \"showbackground\": true, \"ticks\": \"\", \"zerolinecolor\": \"white\"}, \"yaxis\": {\"backgroundcolor\": \"#E5ECF6\", \"gridcolor\": \"white\", \"gridwidth\": 2, \"linecolor\": \"white\", \"showbackground\": true, \"ticks\": \"\", \"zerolinecolor\": \"white\"}, \"zaxis\": {\"backgroundcolor\": \"#E5ECF6\", \"gridcolor\": \"white\", \"gridwidth\": 2, \"linecolor\": \"white\", \"showbackground\": true, \"ticks\": \"\", \"zerolinecolor\": \"white\"}}, \"shapedefaults\": {\"line\": {\"color\": \"#2a3f5f\"}}, \"ternary\": {\"aaxis\": {\"gridcolor\": \"white\", \"linecolor\": \"white\", \"ticks\": \"\"}, \"baxis\": {\"gridcolor\": \"white\", \"linecolor\": \"white\", \"ticks\": \"\"}, \"bgcolor\": \"#E5ECF6\", \"caxis\": {\"gridcolor\": \"white\", \"linecolor\": \"white\", \"ticks\": \"\"}}, \"title\": {\"x\": 0.05}, \"xaxis\": {\"automargin\": true, \"gridcolor\": \"white\", \"linecolor\": \"white\", \"ticks\": \"\", \"title\": {\"standoff\": 15}, \"zerolinecolor\": \"white\", \"zerolinewidth\": 2}, \"yaxis\": {\"automargin\": true, \"gridcolor\": \"white\", \"linecolor\": \"white\", \"ticks\": \"\", \"title\": {\"standoff\": 15}, \"zerolinecolor\": \"white\", \"zerolinewidth\": 2}}}, \"title\": {\"text\": \"Events company E9 (Yawn-Warning)\"}, \"xaxis\": {\"anchor\": \"y\", \"domain\": [0.0, 0.94], \"dtick\": 3, \"gridcolor\": \"black\", \"gridwidth\": 1, \"linecolor\": \"black\", \"linewidth\": 2, \"mirror\": true, \"showgrid\": true, \"showline\": true, \"tick0\": 0, \"tickmode\": \"linear\", \"title\": {\"text\": \"Time of day\"}}, \"yaxis\": {\"anchor\": \"x\", \"domain\": [0.0, 1.0], \"gridcolor\": \"black\", \"gridwidth\": 1, \"linecolor\": \"black\", \"linewidth\": 2, \"mirror\": true, \"showgrid\": false, \"showline\": true, \"title\": {\"text\": \"<b>Raw</b>\"}}, \"yaxis2\": {\"anchor\": \"x\", \"gridcolor\": \"black\", \"gridwidth\": 1, \"linecolor\": \"black\", \"linewidth\": 2, \"mirror\": true, \"overlaying\": \"y\", \"showgrid\": false, \"showline\": true, \"side\": \"right\", \"title\": {\"text\": \"<b>Rate</b>\"}}},                        {\"responsive\": true}                    ).then(function(){\n",
              "                            \n",
              "var gd = document.getElementById('63e8a67d-9802-4c65-8f98-83d1413d283f');\n",
              "var x = new MutationObserver(function (mutations, observer) {{\n",
              "        var display = window.getComputedStyle(gd).display;\n",
              "        if (!display || display === 'none') {{\n",
              "            console.log([gd, 'removed!']);\n",
              "            Plotly.purge(gd);\n",
              "            observer.disconnect();\n",
              "        }}\n",
              "}});\n",
              "\n",
              "// Listen for the removal of the full notebook cells\n",
              "var notebookContainer = gd.closest('#notebook-container');\n",
              "if (notebookContainer) {{\n",
              "    x.observe(notebookContainer, {childList: true});\n",
              "}}\n",
              "\n",
              "// Listen for the clearing of the current output cell\n",
              "var outputEl = gd.closest('.output');\n",
              "if (outputEl) {{\n",
              "    x.observe(outputEl, {childList: true});\n",
              "}}\n",
              "\n",
              "                        })                };                            </script>        </div>\n",
              "</body>\n",
              "</html>"
            ]
          },
          "metadata": {
            "tags": []
          }
        }
      ]
    },
    {
      "cell_type": "code",
      "metadata": {
        "id": "6pA3wB8Q8Nwo",
        "colab": {
          "base_uri": "https://localhost:8080/"
        },
        "outputId": "88017057-31f5-46f2-903c-dacd0ea8ed9e"
      },
      "source": [
        "dfE91_tired = dfE91H[dfE91H.Tipo == 'Tired']\r\n",
        "dfE91_tired.shape"
      ],
      "execution_count": 285,
      "outputs": [
        {
          "output_type": "execute_result",
          "data": {
            "text/plain": [
              "(573, 10)"
            ]
          },
          "metadata": {
            "tags": []
          },
          "execution_count": 285
        }
      ]
    },
    {
      "cell_type": "code",
      "metadata": {
        "colab": {
          "base_uri": "https://localhost:8080/"
        },
        "id": "bz9uUDc3JNay",
        "outputId": "52d4cd57-8880-496d-babe-fc2e75b82996"
      },
      "source": [
        "counts, bins = np.histogram(dfE91_tired['HORA'], bins=range(0, 25, 3))\r\n",
        "counts"
      ],
      "execution_count": 286,
      "outputs": [
        {
          "output_type": "execute_result",
          "data": {
            "text/plain": [
              "array([ 46,  50,  90,  97,  82, 100,  29,  79])"
            ]
          },
          "metadata": {
            "tags": []
          },
          "execution_count": 286
        }
      ]
    },
    {
      "cell_type": "code",
      "metadata": {
        "colab": {
          "base_uri": "https://localhost:8080/",
          "height": 542
        },
        "id": "xh5qMqQjJNbM",
        "outputId": "e55dde15-676e-4496-f860-431cb1e78c19"
      },
      "source": [
        "graphics_plot(y = [counts, counts/c], y_name = ['Events(raw)', 'Events/Drivers'],  bins = Nbins, x_tick=ticks,\r\n",
        "              title = 'Events company E9 (Tired)', yaxes_title = ['Raw', 'Rate'])"
      ],
      "execution_count": 287,
      "outputs": [
        {
          "output_type": "display_data",
          "data": {
            "text/html": [
              "<html>\n",
              "<head><meta charset=\"utf-8\" /></head>\n",
              "<body>\n",
              "    <div>            <script src=\"https://cdnjs.cloudflare.com/ajax/libs/mathjax/2.7.5/MathJax.js?config=TeX-AMS-MML_SVG\"></script><script type=\"text/javascript\">if (window.MathJax) {MathJax.Hub.Config({SVG: {font: \"STIX-Web\"}});}</script>                <script type=\"text/javascript\">window.PlotlyConfig = {MathJaxConfig: 'local'};</script>\n",
              "        <script src=\"https://cdn.plot.ly/plotly-latest.min.js\"></script>                <div id=\"15b3463b-8715-45ec-a687-3bf9da288513\" class=\"plotly-graph-div\" style=\"height:525px; width:100%;\"></div>            <script type=\"text/javascript\">                                    window.PLOTLYENV=window.PLOTLYENV || {};                                    if (document.getElementById(\"15b3463b-8715-45ec-a687-3bf9da288513\")) {                    Plotly.newPlot(                        \"15b3463b-8715-45ec-a687-3bf9da288513\",                        [{\"line\": {\"color\": \"rgb(0, 0, 0)\", \"width\": 2}, \"marker\": {\"size\": 7, \"symbol\": \"circle\"}, \"mode\": \"lines+markers\", \"name\": \"Events(raw)\", \"type\": \"scatter\", \"x\": [0.0, 3.0, 6.0, 9.0, 12.0, 15.0, 18.0, 21.0, 24.0], \"xaxis\": \"x\", \"y\": [46, 50, 90, 97, 82, 100, 29, 79], \"yaxis\": \"y\"}, {\"line\": {\"color\": \"rgb(0, 0, 0)\", \"dash\": \"dash\", \"width\": 2}, \"marker\": {\"size\": 7, \"symbol\": \"star\"}, \"mode\": \"lines+markers\", \"name\": \"Events/Drivers\", \"type\": \"scatter\", \"x\": [0.0, 3.0, 6.0, 9.0, 12.0, 15.0, 18.0, 21.0, 24.0], \"xaxis\": \"x\", \"y\": [0.3770491803278688, 0.3424657534246575, 0.6164383561643836, 0.5449438202247191, 0.36283185840707965, 0.49504950495049505, 0.14356435643564355, 0.4647058823529412], \"yaxis\": \"y2\"}],                        {\"legend\": {\"orientation\": \"h\", \"x\": 0.95, \"xanchor\": \"right\", \"y\": 1.01, \"yanchor\": \"bottom\"}, \"paper_bgcolor\": \"rgba(0,0,0,0)\", \"plot_bgcolor\": \"rgba(0,0,0,0)\", \"template\": {\"data\": {\"bar\": [{\"error_x\": {\"color\": \"#2a3f5f\"}, \"error_y\": {\"color\": \"#2a3f5f\"}, \"marker\": {\"line\": {\"color\": \"#E5ECF6\", \"width\": 0.5}}, \"type\": \"bar\"}], \"barpolar\": [{\"marker\": {\"line\": {\"color\": \"#E5ECF6\", \"width\": 0.5}}, \"type\": \"barpolar\"}], \"carpet\": [{\"aaxis\": {\"endlinecolor\": \"#2a3f5f\", \"gridcolor\": \"white\", \"linecolor\": \"white\", \"minorgridcolor\": \"white\", \"startlinecolor\": \"#2a3f5f\"}, \"baxis\": {\"endlinecolor\": \"#2a3f5f\", \"gridcolor\": \"white\", \"linecolor\": \"white\", \"minorgridcolor\": \"white\", \"startlinecolor\": \"#2a3f5f\"}, \"type\": \"carpet\"}], \"choropleth\": [{\"colorbar\": {\"outlinewidth\": 0, \"ticks\": \"\"}, \"type\": \"choropleth\"}], \"contour\": [{\"colorbar\": {\"outlinewidth\": 0, \"ticks\": \"\"}, \"colorscale\": [[0.0, \"#0d0887\"], [0.1111111111111111, \"#46039f\"], [0.2222222222222222, \"#7201a8\"], [0.3333333333333333, \"#9c179e\"], [0.4444444444444444, \"#bd3786\"], [0.5555555555555556, \"#d8576b\"], [0.6666666666666666, \"#ed7953\"], [0.7777777777777778, \"#fb9f3a\"], [0.8888888888888888, \"#fdca26\"], [1.0, \"#f0f921\"]], \"type\": \"contour\"}], \"contourcarpet\": [{\"colorbar\": {\"outlinewidth\": 0, \"ticks\": \"\"}, \"type\": \"contourcarpet\"}], \"heatmap\": [{\"colorbar\": {\"outlinewidth\": 0, \"ticks\": \"\"}, \"colorscale\": [[0.0, \"#0d0887\"], [0.1111111111111111, \"#46039f\"], [0.2222222222222222, \"#7201a8\"], [0.3333333333333333, \"#9c179e\"], [0.4444444444444444, \"#bd3786\"], [0.5555555555555556, \"#d8576b\"], [0.6666666666666666, \"#ed7953\"], [0.7777777777777778, \"#fb9f3a\"], [0.8888888888888888, \"#fdca26\"], [1.0, \"#f0f921\"]], \"type\": \"heatmap\"}], \"heatmapgl\": [{\"colorbar\": {\"outlinewidth\": 0, \"ticks\": \"\"}, \"colorscale\": [[0.0, \"#0d0887\"], [0.1111111111111111, \"#46039f\"], [0.2222222222222222, \"#7201a8\"], [0.3333333333333333, \"#9c179e\"], [0.4444444444444444, \"#bd3786\"], [0.5555555555555556, \"#d8576b\"], [0.6666666666666666, \"#ed7953\"], [0.7777777777777778, \"#fb9f3a\"], [0.8888888888888888, \"#fdca26\"], [1.0, \"#f0f921\"]], \"type\": \"heatmapgl\"}], \"histogram\": [{\"marker\": {\"colorbar\": {\"outlinewidth\": 0, \"ticks\": \"\"}}, \"type\": \"histogram\"}], \"histogram2d\": [{\"colorbar\": {\"outlinewidth\": 0, \"ticks\": \"\"}, \"colorscale\": [[0.0, \"#0d0887\"], [0.1111111111111111, \"#46039f\"], [0.2222222222222222, \"#7201a8\"], [0.3333333333333333, \"#9c179e\"], [0.4444444444444444, \"#bd3786\"], [0.5555555555555556, \"#d8576b\"], [0.6666666666666666, \"#ed7953\"], [0.7777777777777778, \"#fb9f3a\"], [0.8888888888888888, \"#fdca26\"], [1.0, \"#f0f921\"]], \"type\": \"histogram2d\"}], \"histogram2dcontour\": [{\"colorbar\": {\"outlinewidth\": 0, \"ticks\": \"\"}, \"colorscale\": [[0.0, \"#0d0887\"], [0.1111111111111111, \"#46039f\"], [0.2222222222222222, \"#7201a8\"], [0.3333333333333333, \"#9c179e\"], [0.4444444444444444, \"#bd3786\"], [0.5555555555555556, \"#d8576b\"], [0.6666666666666666, \"#ed7953\"], [0.7777777777777778, \"#fb9f3a\"], [0.8888888888888888, \"#fdca26\"], [1.0, \"#f0f921\"]], \"type\": \"histogram2dcontour\"}], \"mesh3d\": [{\"colorbar\": {\"outlinewidth\": 0, \"ticks\": \"\"}, \"type\": \"mesh3d\"}], \"parcoords\": [{\"line\": {\"colorbar\": {\"outlinewidth\": 0, \"ticks\": \"\"}}, \"type\": \"parcoords\"}], \"pie\": [{\"automargin\": true, \"type\": \"pie\"}], \"scatter\": [{\"marker\": {\"colorbar\": {\"outlinewidth\": 0, \"ticks\": \"\"}}, \"type\": \"scatter\"}], \"scatter3d\": [{\"line\": {\"colorbar\": {\"outlinewidth\": 0, \"ticks\": \"\"}}, \"marker\": {\"colorbar\": {\"outlinewidth\": 0, \"ticks\": \"\"}}, \"type\": \"scatter3d\"}], \"scattercarpet\": [{\"marker\": {\"colorbar\": {\"outlinewidth\": 0, \"ticks\": \"\"}}, \"type\": \"scattercarpet\"}], \"scattergeo\": [{\"marker\": {\"colorbar\": {\"outlinewidth\": 0, \"ticks\": \"\"}}, \"type\": \"scattergeo\"}], \"scattergl\": [{\"marker\": {\"colorbar\": {\"outlinewidth\": 0, \"ticks\": \"\"}}, \"type\": \"scattergl\"}], \"scattermapbox\": [{\"marker\": {\"colorbar\": {\"outlinewidth\": 0, \"ticks\": \"\"}}, \"type\": \"scattermapbox\"}], \"scatterpolar\": [{\"marker\": {\"colorbar\": {\"outlinewidth\": 0, \"ticks\": \"\"}}, \"type\": \"scatterpolar\"}], \"scatterpolargl\": [{\"marker\": {\"colorbar\": {\"outlinewidth\": 0, \"ticks\": \"\"}}, \"type\": \"scatterpolargl\"}], \"scatterternary\": [{\"marker\": {\"colorbar\": {\"outlinewidth\": 0, \"ticks\": \"\"}}, \"type\": \"scatterternary\"}], \"surface\": [{\"colorbar\": {\"outlinewidth\": 0, \"ticks\": \"\"}, \"colorscale\": [[0.0, \"#0d0887\"], [0.1111111111111111, \"#46039f\"], [0.2222222222222222, \"#7201a8\"], [0.3333333333333333, \"#9c179e\"], [0.4444444444444444, \"#bd3786\"], [0.5555555555555556, \"#d8576b\"], [0.6666666666666666, \"#ed7953\"], [0.7777777777777778, \"#fb9f3a\"], [0.8888888888888888, \"#fdca26\"], [1.0, \"#f0f921\"]], \"type\": \"surface\"}], \"table\": [{\"cells\": {\"fill\": {\"color\": \"#EBF0F8\"}, \"line\": {\"color\": \"white\"}}, \"header\": {\"fill\": {\"color\": \"#C8D4E3\"}, \"line\": {\"color\": \"white\"}}, \"type\": \"table\"}]}, \"layout\": {\"annotationdefaults\": {\"arrowcolor\": \"#2a3f5f\", \"arrowhead\": 0, \"arrowwidth\": 1}, \"autotypenumbers\": \"strict\", \"coloraxis\": {\"colorbar\": {\"outlinewidth\": 0, \"ticks\": \"\"}}, \"colorscale\": {\"diverging\": [[0, \"#8e0152\"], [0.1, \"#c51b7d\"], [0.2, \"#de77ae\"], [0.3, \"#f1b6da\"], [0.4, \"#fde0ef\"], [0.5, \"#f7f7f7\"], [0.6, \"#e6f5d0\"], [0.7, \"#b8e186\"], [0.8, \"#7fbc41\"], [0.9, \"#4d9221\"], [1, \"#276419\"]], \"sequential\": [[0.0, \"#0d0887\"], [0.1111111111111111, \"#46039f\"], [0.2222222222222222, \"#7201a8\"], [0.3333333333333333, \"#9c179e\"], [0.4444444444444444, \"#bd3786\"], [0.5555555555555556, \"#d8576b\"], [0.6666666666666666, \"#ed7953\"], [0.7777777777777778, \"#fb9f3a\"], [0.8888888888888888, \"#fdca26\"], [1.0, \"#f0f921\"]], \"sequentialminus\": [[0.0, \"#0d0887\"], [0.1111111111111111, \"#46039f\"], [0.2222222222222222, \"#7201a8\"], [0.3333333333333333, \"#9c179e\"], [0.4444444444444444, \"#bd3786\"], [0.5555555555555556, \"#d8576b\"], [0.6666666666666666, \"#ed7953\"], [0.7777777777777778, \"#fb9f3a\"], [0.8888888888888888, \"#fdca26\"], [1.0, \"#f0f921\"]]}, \"colorway\": [\"#636efa\", \"#EF553B\", \"#00cc96\", \"#ab63fa\", \"#FFA15A\", \"#19d3f3\", \"#FF6692\", \"#B6E880\", \"#FF97FF\", \"#FECB52\"], \"font\": {\"color\": \"#2a3f5f\"}, \"geo\": {\"bgcolor\": \"white\", \"lakecolor\": \"white\", \"landcolor\": \"#E5ECF6\", \"showlakes\": true, \"showland\": true, \"subunitcolor\": \"white\"}, \"hoverlabel\": {\"align\": \"left\"}, \"hovermode\": \"closest\", \"mapbox\": {\"style\": \"light\"}, \"paper_bgcolor\": \"white\", \"plot_bgcolor\": \"#E5ECF6\", \"polar\": {\"angularaxis\": {\"gridcolor\": \"white\", \"linecolor\": \"white\", \"ticks\": \"\"}, \"bgcolor\": \"#E5ECF6\", \"radialaxis\": {\"gridcolor\": \"white\", \"linecolor\": \"white\", \"ticks\": \"\"}}, \"scene\": {\"xaxis\": {\"backgroundcolor\": \"#E5ECF6\", \"gridcolor\": \"white\", \"gridwidth\": 2, \"linecolor\": \"white\", \"showbackground\": true, \"ticks\": \"\", \"zerolinecolor\": \"white\"}, \"yaxis\": {\"backgroundcolor\": \"#E5ECF6\", \"gridcolor\": \"white\", \"gridwidth\": 2, \"linecolor\": \"white\", \"showbackground\": true, \"ticks\": \"\", \"zerolinecolor\": \"white\"}, \"zaxis\": {\"backgroundcolor\": \"#E5ECF6\", \"gridcolor\": \"white\", \"gridwidth\": 2, \"linecolor\": \"white\", \"showbackground\": true, \"ticks\": \"\", \"zerolinecolor\": \"white\"}}, \"shapedefaults\": {\"line\": {\"color\": \"#2a3f5f\"}}, \"ternary\": {\"aaxis\": {\"gridcolor\": \"white\", \"linecolor\": \"white\", \"ticks\": \"\"}, \"baxis\": {\"gridcolor\": \"white\", \"linecolor\": \"white\", \"ticks\": \"\"}, \"bgcolor\": \"#E5ECF6\", \"caxis\": {\"gridcolor\": \"white\", \"linecolor\": \"white\", \"ticks\": \"\"}}, \"title\": {\"x\": 0.05}, \"xaxis\": {\"automargin\": true, \"gridcolor\": \"white\", \"linecolor\": \"white\", \"ticks\": \"\", \"title\": {\"standoff\": 15}, \"zerolinecolor\": \"white\", \"zerolinewidth\": 2}, \"yaxis\": {\"automargin\": true, \"gridcolor\": \"white\", \"linecolor\": \"white\", \"ticks\": \"\", \"title\": {\"standoff\": 15}, \"zerolinecolor\": \"white\", \"zerolinewidth\": 2}}}, \"title\": {\"text\": \"Events company E9 (Tired)\"}, \"xaxis\": {\"anchor\": \"y\", \"domain\": [0.0, 0.94], \"dtick\": 3, \"gridcolor\": \"black\", \"gridwidth\": 1, \"linecolor\": \"black\", \"linewidth\": 2, \"mirror\": true, \"showgrid\": true, \"showline\": true, \"tick0\": 0, \"tickmode\": \"linear\", \"title\": {\"text\": \"Time of day\"}}, \"yaxis\": {\"anchor\": \"x\", \"domain\": [0.0, 1.0], \"gridcolor\": \"black\", \"gridwidth\": 1, \"linecolor\": \"black\", \"linewidth\": 2, \"mirror\": true, \"showgrid\": false, \"showline\": true, \"title\": {\"text\": \"<b>Raw</b>\"}}, \"yaxis2\": {\"anchor\": \"x\", \"gridcolor\": \"black\", \"gridwidth\": 1, \"linecolor\": \"black\", \"linewidth\": 2, \"mirror\": true, \"overlaying\": \"y\", \"showgrid\": false, \"showline\": true, \"side\": \"right\", \"title\": {\"text\": \"<b>Rate</b>\"}}},                        {\"responsive\": true}                    ).then(function(){\n",
              "                            \n",
              "var gd = document.getElementById('15b3463b-8715-45ec-a687-3bf9da288513');\n",
              "var x = new MutationObserver(function (mutations, observer) {{\n",
              "        var display = window.getComputedStyle(gd).display;\n",
              "        if (!display || display === 'none') {{\n",
              "            console.log([gd, 'removed!']);\n",
              "            Plotly.purge(gd);\n",
              "            observer.disconnect();\n",
              "        }}\n",
              "}});\n",
              "\n",
              "// Listen for the removal of the full notebook cells\n",
              "var notebookContainer = gd.closest('#notebook-container');\n",
              "if (notebookContainer) {{\n",
              "    x.observe(notebookContainer, {childList: true});\n",
              "}}\n",
              "\n",
              "// Listen for the clearing of the current output cell\n",
              "var outputEl = gd.closest('.output');\n",
              "if (outputEl) {{\n",
              "    x.observe(outputEl, {childList: true});\n",
              "}}\n",
              "\n",
              "                        })                };                            </script>        </div>\n",
              "</body>\n",
              "</html>"
            ]
          },
          "metadata": {
            "tags": []
          }
        }
      ]
    },
    {
      "cell_type": "code",
      "metadata": {
        "colab": {
          "base_uri": "https://localhost:8080/"
        },
        "id": "Z5oHFfapJyqw",
        "outputId": "71c9f950-a375-433a-c44e-ab1b6bd0ebe3"
      },
      "source": [
        "dfE92H.shape"
      ],
      "execution_count": 288,
      "outputs": [
        {
          "output_type": "execute_result",
          "data": {
            "text/plain": [
              "(2895, 10)"
            ]
          },
          "metadata": {
            "tags": []
          },
          "execution_count": 288
        }
      ]
    },
    {
      "cell_type": "code",
      "metadata": {
        "colab": {
          "base_uri": "https://localhost:8080/"
        },
        "id": "PpPJ07NJJyqw",
        "outputId": "6f548bcd-06c7-4110-b879-fe902a69d47f"
      },
      "source": [
        "dfE92H.Tipo.value_counts()"
      ],
      "execution_count": 289,
      "outputs": [
        {
          "output_type": "execute_result",
          "data": {
            "text/plain": [
              "Atten-Warning    2895\n",
              "Name: Tipo, dtype: int64"
            ]
          },
          "metadata": {
            "tags": []
          },
          "execution_count": 289
        }
      ]
    },
    {
      "cell_type": "code",
      "metadata": {
        "colab": {
          "base_uri": "https://localhost:8080/"
        },
        "id": "JF8eVRXNJyqx",
        "outputId": "56327b53-9373-4766-99bd-9019d8c580e6"
      },
      "source": [
        "dfE92_at = dfE92H[dfE92H.Tipo == 'Atten-Warning']\r\n",
        "dfE92_at.shape"
      ],
      "execution_count": 290,
      "outputs": [
        {
          "output_type": "execute_result",
          "data": {
            "text/plain": [
              "(2895, 10)"
            ]
          },
          "metadata": {
            "tags": []
          },
          "execution_count": 290
        }
      ]
    },
    {
      "cell_type": "code",
      "metadata": {
        "colab": {
          "base_uri": "https://localhost:8080/"
        },
        "id": "wK6DcL6XJi7x",
        "outputId": "24f96424-966b-41a2-b392-86462cc2f1b5"
      },
      "source": [
        "counts, bins = np.histogram(dfE92_at['HORA'], bins=range(0, 25, 3))\r\n",
        "counts"
      ],
      "execution_count": 291,
      "outputs": [
        {
          "output_type": "execute_result",
          "data": {
            "text/plain": [
              "array([424, 402, 375, 353, 467, 322, 106, 446])"
            ]
          },
          "metadata": {
            "tags": []
          },
          "execution_count": 291
        }
      ]
    },
    {
      "cell_type": "code",
      "metadata": {
        "colab": {
          "base_uri": "https://localhost:8080/",
          "height": 542
        },
        "id": "o7TgXtROJi71",
        "outputId": "46eb2f8c-519b-40bc-fac6-93abc2b3fc01"
      },
      "source": [
        "graphics_plot(y = [counts, counts/c], y_name = ['Events(raw)', 'Events/Drivers'], bins = Nbins,\r\n",
        "              title = 'Events company E9 (Atten-Warning)', yaxes_title = ['Raw', 'Rate'], x_tick = ticks,\r\n",
        "              #save=True\r\n",
        "              )"
      ],
      "execution_count": 292,
      "outputs": [
        {
          "output_type": "display_data",
          "data": {
            "text/html": [
              "<html>\n",
              "<head><meta charset=\"utf-8\" /></head>\n",
              "<body>\n",
              "    <div>            <script src=\"https://cdnjs.cloudflare.com/ajax/libs/mathjax/2.7.5/MathJax.js?config=TeX-AMS-MML_SVG\"></script><script type=\"text/javascript\">if (window.MathJax) {MathJax.Hub.Config({SVG: {font: \"STIX-Web\"}});}</script>                <script type=\"text/javascript\">window.PlotlyConfig = {MathJaxConfig: 'local'};</script>\n",
              "        <script src=\"https://cdn.plot.ly/plotly-latest.min.js\"></script>                <div id=\"f53dfbc1-2570-4c71-a7fa-3de3c7184d2e\" class=\"plotly-graph-div\" style=\"height:525px; width:100%;\"></div>            <script type=\"text/javascript\">                                    window.PLOTLYENV=window.PLOTLYENV || {};                                    if (document.getElementById(\"f53dfbc1-2570-4c71-a7fa-3de3c7184d2e\")) {                    Plotly.newPlot(                        \"f53dfbc1-2570-4c71-a7fa-3de3c7184d2e\",                        [{\"line\": {\"color\": \"rgb(0, 0, 0)\", \"width\": 2}, \"marker\": {\"size\": 7, \"symbol\": \"circle\"}, \"mode\": \"lines+markers\", \"name\": \"Events(raw)\", \"type\": \"scatter\", \"x\": [0.0, 3.0, 6.0, 9.0, 12.0, 15.0, 18.0, 21.0, 24.0], \"xaxis\": \"x\", \"y\": [424, 402, 375, 353, 467, 322, 106, 446], \"yaxis\": \"y\"}, {\"line\": {\"color\": \"rgb(0, 0, 0)\", \"dash\": \"dash\", \"width\": 2}, \"marker\": {\"size\": 7, \"symbol\": \"star\"}, \"mode\": \"lines+markers\", \"name\": \"Events/Drivers\", \"type\": \"scatter\", \"x\": [0.0, 3.0, 6.0, 9.0, 12.0, 15.0, 18.0, 21.0, 24.0], \"xaxis\": \"x\", \"y\": [3.4754098360655736, 2.7534246575342465, 2.5684931506849313, 1.9831460674157304, 2.066371681415929, 1.5940594059405941, 0.5247524752475248, 2.623529411764706], \"yaxis\": \"y2\"}],                        {\"legend\": {\"orientation\": \"h\", \"x\": 0.95, \"xanchor\": \"right\", \"y\": 1.01, \"yanchor\": \"bottom\"}, \"paper_bgcolor\": \"rgba(0,0,0,0)\", \"plot_bgcolor\": \"rgba(0,0,0,0)\", \"template\": {\"data\": {\"bar\": [{\"error_x\": {\"color\": \"#2a3f5f\"}, \"error_y\": {\"color\": \"#2a3f5f\"}, \"marker\": {\"line\": {\"color\": \"#E5ECF6\", \"width\": 0.5}}, \"type\": \"bar\"}], \"barpolar\": [{\"marker\": {\"line\": {\"color\": \"#E5ECF6\", \"width\": 0.5}}, \"type\": \"barpolar\"}], \"carpet\": [{\"aaxis\": {\"endlinecolor\": \"#2a3f5f\", \"gridcolor\": \"white\", \"linecolor\": \"white\", \"minorgridcolor\": \"white\", \"startlinecolor\": \"#2a3f5f\"}, \"baxis\": {\"endlinecolor\": \"#2a3f5f\", \"gridcolor\": \"white\", \"linecolor\": \"white\", \"minorgridcolor\": \"white\", \"startlinecolor\": \"#2a3f5f\"}, \"type\": \"carpet\"}], \"choropleth\": [{\"colorbar\": {\"outlinewidth\": 0, \"ticks\": \"\"}, \"type\": \"choropleth\"}], \"contour\": [{\"colorbar\": {\"outlinewidth\": 0, \"ticks\": \"\"}, \"colorscale\": [[0.0, \"#0d0887\"], [0.1111111111111111, \"#46039f\"], [0.2222222222222222, \"#7201a8\"], [0.3333333333333333, \"#9c179e\"], [0.4444444444444444, \"#bd3786\"], [0.5555555555555556, \"#d8576b\"], [0.6666666666666666, \"#ed7953\"], [0.7777777777777778, \"#fb9f3a\"], [0.8888888888888888, \"#fdca26\"], [1.0, \"#f0f921\"]], \"type\": \"contour\"}], \"contourcarpet\": [{\"colorbar\": {\"outlinewidth\": 0, \"ticks\": \"\"}, \"type\": \"contourcarpet\"}], \"heatmap\": [{\"colorbar\": {\"outlinewidth\": 0, \"ticks\": \"\"}, \"colorscale\": [[0.0, \"#0d0887\"], [0.1111111111111111, \"#46039f\"], [0.2222222222222222, \"#7201a8\"], [0.3333333333333333, \"#9c179e\"], [0.4444444444444444, \"#bd3786\"], [0.5555555555555556, \"#d8576b\"], [0.6666666666666666, \"#ed7953\"], [0.7777777777777778, \"#fb9f3a\"], [0.8888888888888888, \"#fdca26\"], [1.0, \"#f0f921\"]], \"type\": \"heatmap\"}], \"heatmapgl\": [{\"colorbar\": {\"outlinewidth\": 0, \"ticks\": \"\"}, \"colorscale\": [[0.0, \"#0d0887\"], [0.1111111111111111, \"#46039f\"], [0.2222222222222222, \"#7201a8\"], [0.3333333333333333, \"#9c179e\"], [0.4444444444444444, \"#bd3786\"], [0.5555555555555556, \"#d8576b\"], [0.6666666666666666, \"#ed7953\"], [0.7777777777777778, \"#fb9f3a\"], [0.8888888888888888, \"#fdca26\"], [1.0, \"#f0f921\"]], \"type\": \"heatmapgl\"}], \"histogram\": [{\"marker\": {\"colorbar\": {\"outlinewidth\": 0, \"ticks\": \"\"}}, \"type\": \"histogram\"}], \"histogram2d\": [{\"colorbar\": {\"outlinewidth\": 0, \"ticks\": \"\"}, \"colorscale\": [[0.0, \"#0d0887\"], [0.1111111111111111, \"#46039f\"], [0.2222222222222222, \"#7201a8\"], [0.3333333333333333, \"#9c179e\"], [0.4444444444444444, \"#bd3786\"], [0.5555555555555556, \"#d8576b\"], [0.6666666666666666, \"#ed7953\"], [0.7777777777777778, \"#fb9f3a\"], [0.8888888888888888, \"#fdca26\"], [1.0, \"#f0f921\"]], \"type\": \"histogram2d\"}], \"histogram2dcontour\": [{\"colorbar\": {\"outlinewidth\": 0, \"ticks\": \"\"}, \"colorscale\": [[0.0, \"#0d0887\"], [0.1111111111111111, \"#46039f\"], [0.2222222222222222, \"#7201a8\"], [0.3333333333333333, \"#9c179e\"], [0.4444444444444444, \"#bd3786\"], [0.5555555555555556, \"#d8576b\"], [0.6666666666666666, \"#ed7953\"], [0.7777777777777778, \"#fb9f3a\"], [0.8888888888888888, \"#fdca26\"], [1.0, \"#f0f921\"]], \"type\": \"histogram2dcontour\"}], \"mesh3d\": [{\"colorbar\": {\"outlinewidth\": 0, \"ticks\": \"\"}, \"type\": \"mesh3d\"}], \"parcoords\": [{\"line\": {\"colorbar\": {\"outlinewidth\": 0, \"ticks\": \"\"}}, \"type\": \"parcoords\"}], \"pie\": [{\"automargin\": true, \"type\": \"pie\"}], \"scatter\": [{\"marker\": {\"colorbar\": {\"outlinewidth\": 0, \"ticks\": \"\"}}, \"type\": \"scatter\"}], \"scatter3d\": [{\"line\": {\"colorbar\": {\"outlinewidth\": 0, \"ticks\": \"\"}}, \"marker\": {\"colorbar\": {\"outlinewidth\": 0, \"ticks\": \"\"}}, \"type\": \"scatter3d\"}], \"scattercarpet\": [{\"marker\": {\"colorbar\": {\"outlinewidth\": 0, \"ticks\": \"\"}}, \"type\": \"scattercarpet\"}], \"scattergeo\": [{\"marker\": {\"colorbar\": {\"outlinewidth\": 0, \"ticks\": \"\"}}, \"type\": \"scattergeo\"}], \"scattergl\": [{\"marker\": {\"colorbar\": {\"outlinewidth\": 0, \"ticks\": \"\"}}, \"type\": \"scattergl\"}], \"scattermapbox\": [{\"marker\": {\"colorbar\": {\"outlinewidth\": 0, \"ticks\": \"\"}}, \"type\": \"scattermapbox\"}], \"scatterpolar\": [{\"marker\": {\"colorbar\": {\"outlinewidth\": 0, \"ticks\": \"\"}}, \"type\": \"scatterpolar\"}], \"scatterpolargl\": [{\"marker\": {\"colorbar\": {\"outlinewidth\": 0, \"ticks\": \"\"}}, \"type\": \"scatterpolargl\"}], \"scatterternary\": [{\"marker\": {\"colorbar\": {\"outlinewidth\": 0, \"ticks\": \"\"}}, \"type\": \"scatterternary\"}], \"surface\": [{\"colorbar\": {\"outlinewidth\": 0, \"ticks\": \"\"}, \"colorscale\": [[0.0, \"#0d0887\"], [0.1111111111111111, \"#46039f\"], [0.2222222222222222, \"#7201a8\"], [0.3333333333333333, \"#9c179e\"], [0.4444444444444444, \"#bd3786\"], [0.5555555555555556, \"#d8576b\"], [0.6666666666666666, \"#ed7953\"], [0.7777777777777778, \"#fb9f3a\"], [0.8888888888888888, \"#fdca26\"], [1.0, \"#f0f921\"]], \"type\": \"surface\"}], \"table\": [{\"cells\": {\"fill\": {\"color\": \"#EBF0F8\"}, \"line\": {\"color\": \"white\"}}, \"header\": {\"fill\": {\"color\": \"#C8D4E3\"}, \"line\": {\"color\": \"white\"}}, \"type\": \"table\"}]}, \"layout\": {\"annotationdefaults\": {\"arrowcolor\": \"#2a3f5f\", \"arrowhead\": 0, \"arrowwidth\": 1}, \"autotypenumbers\": \"strict\", \"coloraxis\": {\"colorbar\": {\"outlinewidth\": 0, \"ticks\": \"\"}}, \"colorscale\": {\"diverging\": [[0, \"#8e0152\"], [0.1, \"#c51b7d\"], [0.2, \"#de77ae\"], [0.3, \"#f1b6da\"], [0.4, \"#fde0ef\"], [0.5, \"#f7f7f7\"], [0.6, \"#e6f5d0\"], [0.7, \"#b8e186\"], [0.8, \"#7fbc41\"], [0.9, \"#4d9221\"], [1, \"#276419\"]], \"sequential\": [[0.0, \"#0d0887\"], [0.1111111111111111, \"#46039f\"], [0.2222222222222222, \"#7201a8\"], [0.3333333333333333, \"#9c179e\"], [0.4444444444444444, \"#bd3786\"], [0.5555555555555556, \"#d8576b\"], [0.6666666666666666, \"#ed7953\"], [0.7777777777777778, \"#fb9f3a\"], [0.8888888888888888, \"#fdca26\"], [1.0, \"#f0f921\"]], \"sequentialminus\": [[0.0, \"#0d0887\"], [0.1111111111111111, \"#46039f\"], [0.2222222222222222, \"#7201a8\"], [0.3333333333333333, \"#9c179e\"], [0.4444444444444444, \"#bd3786\"], [0.5555555555555556, \"#d8576b\"], [0.6666666666666666, \"#ed7953\"], [0.7777777777777778, \"#fb9f3a\"], [0.8888888888888888, \"#fdca26\"], [1.0, \"#f0f921\"]]}, \"colorway\": [\"#636efa\", \"#EF553B\", \"#00cc96\", \"#ab63fa\", \"#FFA15A\", \"#19d3f3\", \"#FF6692\", \"#B6E880\", \"#FF97FF\", \"#FECB52\"], \"font\": {\"color\": \"#2a3f5f\"}, \"geo\": {\"bgcolor\": \"white\", \"lakecolor\": \"white\", \"landcolor\": \"#E5ECF6\", \"showlakes\": true, \"showland\": true, \"subunitcolor\": \"white\"}, \"hoverlabel\": {\"align\": \"left\"}, \"hovermode\": \"closest\", \"mapbox\": {\"style\": \"light\"}, \"paper_bgcolor\": \"white\", \"plot_bgcolor\": \"#E5ECF6\", \"polar\": {\"angularaxis\": {\"gridcolor\": \"white\", \"linecolor\": \"white\", \"ticks\": \"\"}, \"bgcolor\": \"#E5ECF6\", \"radialaxis\": {\"gridcolor\": \"white\", \"linecolor\": \"white\", \"ticks\": \"\"}}, \"scene\": {\"xaxis\": {\"backgroundcolor\": \"#E5ECF6\", \"gridcolor\": \"white\", \"gridwidth\": 2, \"linecolor\": \"white\", \"showbackground\": true, \"ticks\": \"\", \"zerolinecolor\": \"white\"}, \"yaxis\": {\"backgroundcolor\": \"#E5ECF6\", \"gridcolor\": \"white\", \"gridwidth\": 2, \"linecolor\": \"white\", \"showbackground\": true, \"ticks\": \"\", \"zerolinecolor\": \"white\"}, \"zaxis\": {\"backgroundcolor\": \"#E5ECF6\", \"gridcolor\": \"white\", \"gridwidth\": 2, \"linecolor\": \"white\", \"showbackground\": true, \"ticks\": \"\", \"zerolinecolor\": \"white\"}}, \"shapedefaults\": {\"line\": {\"color\": \"#2a3f5f\"}}, \"ternary\": {\"aaxis\": {\"gridcolor\": \"white\", \"linecolor\": \"white\", \"ticks\": \"\"}, \"baxis\": {\"gridcolor\": \"white\", \"linecolor\": \"white\", \"ticks\": \"\"}, \"bgcolor\": \"#E5ECF6\", \"caxis\": {\"gridcolor\": \"white\", \"linecolor\": \"white\", \"ticks\": \"\"}}, \"title\": {\"x\": 0.05}, \"xaxis\": {\"automargin\": true, \"gridcolor\": \"white\", \"linecolor\": \"white\", \"ticks\": \"\", \"title\": {\"standoff\": 15}, \"zerolinecolor\": \"white\", \"zerolinewidth\": 2}, \"yaxis\": {\"automargin\": true, \"gridcolor\": \"white\", \"linecolor\": \"white\", \"ticks\": \"\", \"title\": {\"standoff\": 15}, \"zerolinecolor\": \"white\", \"zerolinewidth\": 2}}}, \"title\": {\"text\": \"Events company E9 (Atten-Warning)\"}, \"xaxis\": {\"anchor\": \"y\", \"domain\": [0.0, 0.94], \"dtick\": 3, \"gridcolor\": \"black\", \"gridwidth\": 1, \"linecolor\": \"black\", \"linewidth\": 2, \"mirror\": true, \"showgrid\": true, \"showline\": true, \"tick0\": 0, \"tickmode\": \"linear\", \"title\": {\"text\": \"Time of day\"}}, \"yaxis\": {\"anchor\": \"x\", \"domain\": [0.0, 1.0], \"gridcolor\": \"black\", \"gridwidth\": 1, \"linecolor\": \"black\", \"linewidth\": 2, \"mirror\": true, \"showgrid\": false, \"showline\": true, \"title\": {\"text\": \"<b>Raw</b>\"}}, \"yaxis2\": {\"anchor\": \"x\", \"gridcolor\": \"black\", \"gridwidth\": 1, \"linecolor\": \"black\", \"linewidth\": 2, \"mirror\": true, \"overlaying\": \"y\", \"showgrid\": false, \"showline\": true, \"side\": \"right\", \"title\": {\"text\": \"<b>Rate</b>\"}}},                        {\"responsive\": true}                    ).then(function(){\n",
              "                            \n",
              "var gd = document.getElementById('f53dfbc1-2570-4c71-a7fa-3de3c7184d2e');\n",
              "var x = new MutationObserver(function (mutations, observer) {{\n",
              "        var display = window.getComputedStyle(gd).display;\n",
              "        if (!display || display === 'none') {{\n",
              "            console.log([gd, 'removed!']);\n",
              "            Plotly.purge(gd);\n",
              "            observer.disconnect();\n",
              "        }}\n",
              "}});\n",
              "\n",
              "// Listen for the removal of the full notebook cells\n",
              "var notebookContainer = gd.closest('#notebook-container');\n",
              "if (notebookContainer) {{\n",
              "    x.observe(notebookContainer, {childList: true});\n",
              "}}\n",
              "\n",
              "// Listen for the clearing of the current output cell\n",
              "var outputEl = gd.closest('.output');\n",
              "if (outputEl) {{\n",
              "    x.observe(outputEl, {childList: true});\n",
              "}}\n",
              "\n",
              "                        })                };                            </script>        </div>\n",
              "</body>\n",
              "</html>"
            ]
          },
          "metadata": {
            "tags": []
          }
        }
      ]
    },
    {
      "cell_type": "code",
      "metadata": {
        "id": "-zmrzsfDBrAj"
      },
      "source": [
        "# fig.write_image('images/AcidentesTotal.eps') ### Salvar imagens"
      ],
      "execution_count": 293,
      "outputs": []
    },
    {
      "cell_type": "markdown",
      "metadata": {
        "id": "DZK1CcByahQp"
      },
      "source": [
        "# **Análise estatística**"
      ]
    },
    {
      "cell_type": "code",
      "metadata": {
        "id": "6gHHFiviaow7"
      },
      "source": [
        "ACCE3, binsE3 = np.histogram(dfOCO_TM_E3['HorarioAcidente'], bins=range(0, 25, 1))\r\n",
        "ACCE5, binsE5 = np.histogram(dfOCO_TM_E5['HorarioAcidente'], bins=range(0, 25, 1))\r\n",
        "ACCE9, binsE9 = np.histogram(dfOCO_TM_E9['HorarioAcidente'], bins=range(0, 25, 1))"
      ],
      "execution_count": 294,
      "outputs": []
    },
    {
      "cell_type": "code",
      "metadata": {
        "id": "DA3oC0xVQaU3"
      },
      "source": [
        "# Define o deslocamento e agrupamento\n",
        "\n",
        "des = 0\n",
        "agr = 2\n",
        "Nbins = int((24/agr)+1)\n",
        "\n",
        "# Motoristas para cada compania\n",
        "\n",
        "m3 = np.array(dfE3_final['motoristasE3'])\n",
        "m3 = np.roll(m3, des)\n",
        "m3r = m3.reshape((int(24/agr),agr)).sum(axis=1)\n",
        "\n",
        "m5 = np.array(dfE5_final['motoristasE5'])\n",
        "m5 = np.roll(m5, des)\n",
        "m5r = m5.reshape((int(24/agr),agr)).sum(axis=1)\n",
        "\n",
        "m9 = np.array(dfE9_final['motoristasE9'])\n",
        "m9 = np.roll(m9, des)\n",
        "m9r = m9.reshape((int(24/agr),agr)).sum(axis=1)\n",
        "\n",
        "# Acidentes para cada compania\n",
        "\n",
        "a3 = np.array(ACCE3)\n",
        "a3 = np.roll(a3, des)\n",
        "a3r = a3.reshape((int(24/agr),agr)).sum(axis=1)\n",
        "\n",
        "a5 = np.array(ACCE5)\n",
        "a5 = np.roll(a5, des)\n",
        "a5r = a5.reshape((int(24/agr),agr)).sum(axis=1)\n",
        "\n",
        "a9 = np.array(ACCE9)\n",
        "a9 = np.roll(a9, des)\n",
        "a9r = a9.reshape((int(24/agr),agr)).sum(axis=1)\n",
        "\n",
        "# sensores\n",
        "\n",
        "of3, bins = np.histogram(dfE3['HORA'], bins=range(0, 25, 1))\n",
        "\n",
        "of3 = np.roll(of3, des)\n",
        "of3r = of3.reshape((int(24/agr),agr)).sum(axis=1)\n",
        "\n",
        "of5, bins = np.histogram(dfE5_of['HORA'], bins=range(0, 25, 1))\n",
        "\n",
        "of5 = np.roll(of5, des)\n",
        "of5r = of5.reshape((int(24/agr),agr)).sum(axis=1)\n",
        "\n",
        "y5, bins = np.histogram(dfE5_b['HORA'], bins=range(0, 25, 1))\n",
        "\n",
        "y5 = np.roll(y5, des)\n",
        "y5r = y5.reshape((int(24/agr),agr)).sum(axis=1)\n",
        "\n",
        "y9, bins = np.histogram(dfE91_yawn['HORA'], bins=range(0, 25, 1))\n",
        "\n",
        "y9 = np.roll(y9, des)\n",
        "y9r = y9.reshape((int(24/agr),agr)).sum(axis=1)\n",
        "\n",
        "of9, bins = np.histogram(dfE91_tired['HORA'], bins=range(0, 25, 1))\n",
        "\n",
        "of9 = np.roll(of9, des)\n",
        "of9r = of9.reshape((int(24/agr),agr)).sum(axis=1)\n",
        "\n",
        "at9, bins = np.histogram(dfE92H['HORA'], bins=range(0, 25, 1))\n",
        "\n",
        "at9 = np.roll(at9, des)\n",
        "at9r = at9.reshape((int(24/agr),agr)).sum(axis=1)\n",
        "\n",
        "# Referência\n",
        "\n",
        "b = np.roll(taxa, des)\n",
        "cfedr = b.reshape((int(24/agr),agr)).sum(axis=1)"
      ],
      "execution_count": 295,
      "outputs": []
    },
    {
      "cell_type": "code",
      "metadata": {
        "colab": {
          "base_uri": "https://localhost:8080/",
          "height": 542
        },
        "id": "DJSqpZk0aofz",
        "outputId": "e9da4d23-baa8-4bfa-9f38-4ef0d7dae8c4"
      },
      "source": [
        "graphics_plot(y = [stats.zscore(of3r/m3r), stats.zscore(of5r/m5r), stats.zscore(of9r/m9r), stats.zscore(cfedr)], \r\n",
        "              y_name = ['E3','E5','E9','Accidents rate'], bins = Nbins, title = 'Comparison closed eyes and Brazilian Highways', \r\n",
        "              yaxes_title = ['Closed eyes','Federal Highways'], x_tick = agr)"
      ],
      "execution_count": 296,
      "outputs": [
        {
          "output_type": "display_data",
          "data": {
            "text/html": [
              "<html>\n",
              "<head><meta charset=\"utf-8\" /></head>\n",
              "<body>\n",
              "    <div>            <script src=\"https://cdnjs.cloudflare.com/ajax/libs/mathjax/2.7.5/MathJax.js?config=TeX-AMS-MML_SVG\"></script><script type=\"text/javascript\">if (window.MathJax) {MathJax.Hub.Config({SVG: {font: \"STIX-Web\"}});}</script>                <script type=\"text/javascript\">window.PlotlyConfig = {MathJaxConfig: 'local'};</script>\n",
              "        <script src=\"https://cdn.plot.ly/plotly-latest.min.js\"></script>                <div id=\"693f1fbe-5c61-4be3-a76b-b3fc4a146986\" class=\"plotly-graph-div\" style=\"height:525px; width:100%;\"></div>            <script type=\"text/javascript\">                                    window.PLOTLYENV=window.PLOTLYENV || {};                                    if (document.getElementById(\"693f1fbe-5c61-4be3-a76b-b3fc4a146986\")) {                    Plotly.newPlot(                        \"693f1fbe-5c61-4be3-a76b-b3fc4a146986\",                        [{\"line\": {\"color\": \"rgb(0, 0, 0)\", \"width\": 2}, \"marker\": {\"size\": 7, \"symbol\": \"circle\"}, \"mode\": \"lines+markers\", \"name\": \"E3\", \"type\": \"scatter\", \"x\": [0.0, 2.0, 4.0, 6.0, 8.0, 10.0, 12.0, 14.0, 16.0, 18.0, 20.0, 22.0, 24.0], \"xaxis\": \"x\", \"y\": [1.0169674372795197, 1.5161813627060936, 1.920330873114408, -0.34819661779128364, -0.1765895194078711, 0.49208641567232303, 0.125202274300889, -0.5930678304270564, -1.1138468667362773, -1.150903614195074, -1.18108279356595, -0.5070811209497192], \"yaxis\": \"y\"}, {\"line\": {\"color\": \"rgb(0, 0, 0)\", \"dash\": \"dash\", \"width\": 2}, \"marker\": {\"size\": 7, \"symbol\": \"star\"}, \"mode\": \"lines+markers\", \"name\": \"E5\", \"type\": \"scatter\", \"x\": [0.0, 2.0, 4.0, 6.0, 8.0, 10.0, 12.0, 14.0, 16.0, 18.0, 20.0, 22.0, 24.0], \"xaxis\": \"x\", \"y\": [-0.9988874386431446, -0.8901500967669608, -0.6696543506192165, 0.4363738626410276, 1.1841823632855182, 1.1515327715318664, 1.4244125024022094, 1.1367614787700917, 0.3961049047933223, -0.9676337421011163, -1.1297400844410679, -1.0733021708525248], \"yaxis\": \"y\"}, {\"line\": {\"color\": \"rgb(0, 0, 0)\", \"dash\": \"dot\", \"width\": 2}, \"marker\": {\"size\": 7, \"symbol\": \"diamond\"}, \"mode\": \"lines+markers\", \"name\": \"E9\", \"type\": \"scatter\", \"x\": [0.0, 2.0, 4.0, 6.0, 8.0, 10.0, 12.0, 14.0, 16.0, 18.0, 20.0, 22.0, 24.0], \"xaxis\": \"x\", \"y\": [-0.679817102004997, 0.5924738550609439, -0.9083101718454109, 0.5868292634146886, 1.7609043258357877, 0.3690035464428043, -0.7023657602129327, 0.1849656970437917, 0.7222994629248152, -1.4142591122063273, -1.5975351693968234, 1.085811164943656], \"yaxis\": \"y\"}, {\"line\": {\"color\": \"rgb(0, 0, 0)\", \"dash\": \"dashdot\", \"width\": 2}, \"marker\": {\"size\": 7, \"symbol\": \"x\"}, \"mode\": \"lines+markers\", \"name\": \"Accidents rate\", \"type\": \"scatter\", \"x\": [0.0, 2.0, 4.0, 6.0, 8.0, 10.0, 12.0, 14.0, 16.0, 18.0, 20.0, 22.0, 24.0], \"xaxis\": \"x\", \"y\": [1.3497259124073242, 2.1087985412867885, 0.8747239618073904, -0.629553780613118, -0.9557814803464374, -1.0672175735061826, -1.1627446018170966, -0.7508751411100453, -0.46639581885876613, 0.22531858475655114, -0.09529167435441338, 0.5692930703480084], \"yaxis\": \"y2\"}],                        {\"legend\": {\"orientation\": \"h\", \"x\": 0.95, \"xanchor\": \"right\", \"y\": 1.01, \"yanchor\": \"bottom\"}, \"paper_bgcolor\": \"rgba(0,0,0,0)\", \"plot_bgcolor\": \"rgba(0,0,0,0)\", \"template\": {\"data\": {\"bar\": [{\"error_x\": {\"color\": \"#2a3f5f\"}, \"error_y\": {\"color\": \"#2a3f5f\"}, \"marker\": {\"line\": {\"color\": \"#E5ECF6\", \"width\": 0.5}}, \"type\": \"bar\"}], \"barpolar\": [{\"marker\": {\"line\": {\"color\": \"#E5ECF6\", \"width\": 0.5}}, \"type\": \"barpolar\"}], \"carpet\": [{\"aaxis\": {\"endlinecolor\": \"#2a3f5f\", \"gridcolor\": \"white\", \"linecolor\": \"white\", \"minorgridcolor\": \"white\", \"startlinecolor\": \"#2a3f5f\"}, \"baxis\": {\"endlinecolor\": \"#2a3f5f\", \"gridcolor\": \"white\", \"linecolor\": \"white\", \"minorgridcolor\": \"white\", \"startlinecolor\": \"#2a3f5f\"}, \"type\": \"carpet\"}], \"choropleth\": [{\"colorbar\": {\"outlinewidth\": 0, \"ticks\": \"\"}, \"type\": \"choropleth\"}], \"contour\": [{\"colorbar\": {\"outlinewidth\": 0, \"ticks\": \"\"}, \"colorscale\": [[0.0, \"#0d0887\"], [0.1111111111111111, \"#46039f\"], [0.2222222222222222, \"#7201a8\"], [0.3333333333333333, \"#9c179e\"], [0.4444444444444444, \"#bd3786\"], [0.5555555555555556, \"#d8576b\"], [0.6666666666666666, \"#ed7953\"], [0.7777777777777778, \"#fb9f3a\"], [0.8888888888888888, \"#fdca26\"], [1.0, \"#f0f921\"]], \"type\": \"contour\"}], \"contourcarpet\": [{\"colorbar\": {\"outlinewidth\": 0, \"ticks\": \"\"}, \"type\": \"contourcarpet\"}], \"heatmap\": [{\"colorbar\": {\"outlinewidth\": 0, \"ticks\": \"\"}, \"colorscale\": [[0.0, \"#0d0887\"], [0.1111111111111111, \"#46039f\"], [0.2222222222222222, \"#7201a8\"], [0.3333333333333333, \"#9c179e\"], [0.4444444444444444, \"#bd3786\"], [0.5555555555555556, \"#d8576b\"], [0.6666666666666666, \"#ed7953\"], [0.7777777777777778, \"#fb9f3a\"], [0.8888888888888888, \"#fdca26\"], [1.0, \"#f0f921\"]], \"type\": \"heatmap\"}], \"heatmapgl\": [{\"colorbar\": {\"outlinewidth\": 0, \"ticks\": \"\"}, \"colorscale\": [[0.0, \"#0d0887\"], [0.1111111111111111, \"#46039f\"], [0.2222222222222222, \"#7201a8\"], [0.3333333333333333, \"#9c179e\"], [0.4444444444444444, \"#bd3786\"], [0.5555555555555556, \"#d8576b\"], [0.6666666666666666, \"#ed7953\"], [0.7777777777777778, \"#fb9f3a\"], [0.8888888888888888, \"#fdca26\"], [1.0, \"#f0f921\"]], \"type\": \"heatmapgl\"}], \"histogram\": [{\"marker\": {\"colorbar\": {\"outlinewidth\": 0, \"ticks\": \"\"}}, \"type\": \"histogram\"}], \"histogram2d\": [{\"colorbar\": {\"outlinewidth\": 0, \"ticks\": \"\"}, \"colorscale\": [[0.0, \"#0d0887\"], [0.1111111111111111, \"#46039f\"], [0.2222222222222222, \"#7201a8\"], [0.3333333333333333, \"#9c179e\"], [0.4444444444444444, \"#bd3786\"], [0.5555555555555556, \"#d8576b\"], [0.6666666666666666, \"#ed7953\"], [0.7777777777777778, \"#fb9f3a\"], [0.8888888888888888, \"#fdca26\"], [1.0, \"#f0f921\"]], \"type\": \"histogram2d\"}], \"histogram2dcontour\": [{\"colorbar\": {\"outlinewidth\": 0, \"ticks\": \"\"}, \"colorscale\": [[0.0, \"#0d0887\"], [0.1111111111111111, \"#46039f\"], [0.2222222222222222, \"#7201a8\"], [0.3333333333333333, \"#9c179e\"], [0.4444444444444444, \"#bd3786\"], [0.5555555555555556, \"#d8576b\"], [0.6666666666666666, \"#ed7953\"], [0.7777777777777778, \"#fb9f3a\"], [0.8888888888888888, \"#fdca26\"], [1.0, \"#f0f921\"]], \"type\": \"histogram2dcontour\"}], \"mesh3d\": [{\"colorbar\": {\"outlinewidth\": 0, \"ticks\": \"\"}, \"type\": \"mesh3d\"}], \"parcoords\": [{\"line\": {\"colorbar\": {\"outlinewidth\": 0, \"ticks\": \"\"}}, \"type\": \"parcoords\"}], \"pie\": [{\"automargin\": true, \"type\": \"pie\"}], \"scatter\": [{\"marker\": {\"colorbar\": {\"outlinewidth\": 0, \"ticks\": \"\"}}, \"type\": \"scatter\"}], \"scatter3d\": [{\"line\": {\"colorbar\": {\"outlinewidth\": 0, \"ticks\": \"\"}}, \"marker\": {\"colorbar\": {\"outlinewidth\": 0, \"ticks\": \"\"}}, \"type\": \"scatter3d\"}], \"scattercarpet\": [{\"marker\": {\"colorbar\": {\"outlinewidth\": 0, \"ticks\": \"\"}}, \"type\": \"scattercarpet\"}], \"scattergeo\": [{\"marker\": {\"colorbar\": {\"outlinewidth\": 0, \"ticks\": \"\"}}, \"type\": \"scattergeo\"}], \"scattergl\": [{\"marker\": {\"colorbar\": {\"outlinewidth\": 0, \"ticks\": \"\"}}, \"type\": \"scattergl\"}], \"scattermapbox\": [{\"marker\": {\"colorbar\": {\"outlinewidth\": 0, \"ticks\": \"\"}}, \"type\": \"scattermapbox\"}], \"scatterpolar\": [{\"marker\": {\"colorbar\": {\"outlinewidth\": 0, \"ticks\": \"\"}}, \"type\": \"scatterpolar\"}], \"scatterpolargl\": [{\"marker\": {\"colorbar\": {\"outlinewidth\": 0, \"ticks\": \"\"}}, \"type\": \"scatterpolargl\"}], \"scatterternary\": [{\"marker\": {\"colorbar\": {\"outlinewidth\": 0, \"ticks\": \"\"}}, \"type\": \"scatterternary\"}], \"surface\": [{\"colorbar\": {\"outlinewidth\": 0, \"ticks\": \"\"}, \"colorscale\": [[0.0, \"#0d0887\"], [0.1111111111111111, \"#46039f\"], [0.2222222222222222, \"#7201a8\"], [0.3333333333333333, \"#9c179e\"], [0.4444444444444444, \"#bd3786\"], [0.5555555555555556, \"#d8576b\"], [0.6666666666666666, \"#ed7953\"], [0.7777777777777778, \"#fb9f3a\"], [0.8888888888888888, \"#fdca26\"], [1.0, \"#f0f921\"]], \"type\": \"surface\"}], \"table\": [{\"cells\": {\"fill\": {\"color\": \"#EBF0F8\"}, \"line\": {\"color\": \"white\"}}, \"header\": {\"fill\": {\"color\": \"#C8D4E3\"}, \"line\": {\"color\": \"white\"}}, \"type\": \"table\"}]}, \"layout\": {\"annotationdefaults\": {\"arrowcolor\": \"#2a3f5f\", \"arrowhead\": 0, \"arrowwidth\": 1}, \"autotypenumbers\": \"strict\", \"coloraxis\": {\"colorbar\": {\"outlinewidth\": 0, \"ticks\": \"\"}}, \"colorscale\": {\"diverging\": [[0, \"#8e0152\"], [0.1, \"#c51b7d\"], [0.2, \"#de77ae\"], [0.3, \"#f1b6da\"], [0.4, \"#fde0ef\"], [0.5, \"#f7f7f7\"], [0.6, \"#e6f5d0\"], [0.7, \"#b8e186\"], [0.8, \"#7fbc41\"], [0.9, \"#4d9221\"], [1, \"#276419\"]], \"sequential\": [[0.0, \"#0d0887\"], [0.1111111111111111, \"#46039f\"], [0.2222222222222222, \"#7201a8\"], [0.3333333333333333, \"#9c179e\"], [0.4444444444444444, \"#bd3786\"], [0.5555555555555556, \"#d8576b\"], [0.6666666666666666, \"#ed7953\"], [0.7777777777777778, \"#fb9f3a\"], [0.8888888888888888, \"#fdca26\"], [1.0, \"#f0f921\"]], \"sequentialminus\": [[0.0, \"#0d0887\"], [0.1111111111111111, \"#46039f\"], [0.2222222222222222, \"#7201a8\"], [0.3333333333333333, \"#9c179e\"], [0.4444444444444444, \"#bd3786\"], [0.5555555555555556, \"#d8576b\"], [0.6666666666666666, \"#ed7953\"], [0.7777777777777778, \"#fb9f3a\"], [0.8888888888888888, \"#fdca26\"], [1.0, \"#f0f921\"]]}, \"colorway\": [\"#636efa\", \"#EF553B\", \"#00cc96\", \"#ab63fa\", \"#FFA15A\", \"#19d3f3\", \"#FF6692\", \"#B6E880\", \"#FF97FF\", \"#FECB52\"], \"font\": {\"color\": \"#2a3f5f\"}, \"geo\": {\"bgcolor\": \"white\", \"lakecolor\": \"white\", \"landcolor\": \"#E5ECF6\", \"showlakes\": true, \"showland\": true, \"subunitcolor\": \"white\"}, \"hoverlabel\": {\"align\": \"left\"}, \"hovermode\": \"closest\", \"mapbox\": {\"style\": \"light\"}, \"paper_bgcolor\": \"white\", \"plot_bgcolor\": \"#E5ECF6\", \"polar\": {\"angularaxis\": {\"gridcolor\": \"white\", \"linecolor\": \"white\", \"ticks\": \"\"}, \"bgcolor\": \"#E5ECF6\", \"radialaxis\": {\"gridcolor\": \"white\", \"linecolor\": \"white\", \"ticks\": \"\"}}, \"scene\": {\"xaxis\": {\"backgroundcolor\": \"#E5ECF6\", \"gridcolor\": \"white\", \"gridwidth\": 2, \"linecolor\": \"white\", \"showbackground\": true, \"ticks\": \"\", \"zerolinecolor\": \"white\"}, \"yaxis\": {\"backgroundcolor\": \"#E5ECF6\", \"gridcolor\": \"white\", \"gridwidth\": 2, \"linecolor\": \"white\", \"showbackground\": true, \"ticks\": \"\", \"zerolinecolor\": \"white\"}, \"zaxis\": {\"backgroundcolor\": \"#E5ECF6\", \"gridcolor\": \"white\", \"gridwidth\": 2, \"linecolor\": \"white\", \"showbackground\": true, \"ticks\": \"\", \"zerolinecolor\": \"white\"}}, \"shapedefaults\": {\"line\": {\"color\": \"#2a3f5f\"}}, \"ternary\": {\"aaxis\": {\"gridcolor\": \"white\", \"linecolor\": \"white\", \"ticks\": \"\"}, \"baxis\": {\"gridcolor\": \"white\", \"linecolor\": \"white\", \"ticks\": \"\"}, \"bgcolor\": \"#E5ECF6\", \"caxis\": {\"gridcolor\": \"white\", \"linecolor\": \"white\", \"ticks\": \"\"}}, \"title\": {\"x\": 0.05}, \"xaxis\": {\"automargin\": true, \"gridcolor\": \"white\", \"linecolor\": \"white\", \"ticks\": \"\", \"title\": {\"standoff\": 15}, \"zerolinecolor\": \"white\", \"zerolinewidth\": 2}, \"yaxis\": {\"automargin\": true, \"gridcolor\": \"white\", \"linecolor\": \"white\", \"ticks\": \"\", \"title\": {\"standoff\": 15}, \"zerolinecolor\": \"white\", \"zerolinewidth\": 2}}}, \"title\": {\"text\": \"Comparison closed eyes and Brazilian Highways\"}, \"xaxis\": {\"anchor\": \"y\", \"domain\": [0.0, 0.94], \"dtick\": 2, \"gridcolor\": \"black\", \"gridwidth\": 1, \"linecolor\": \"black\", \"linewidth\": 2, \"mirror\": true, \"showgrid\": true, \"showline\": true, \"tick0\": 0, \"tickmode\": \"linear\", \"title\": {\"text\": \"Time of day\"}}, \"yaxis\": {\"anchor\": \"x\", \"domain\": [0.0, 1.0], \"gridcolor\": \"black\", \"gridwidth\": 1, \"linecolor\": \"black\", \"linewidth\": 2, \"mirror\": true, \"showgrid\": false, \"showline\": true, \"title\": {\"text\": \"<b>Closed eyes</b>\"}}, \"yaxis2\": {\"anchor\": \"x\", \"gridcolor\": \"black\", \"gridwidth\": 1, \"linecolor\": \"black\", \"linewidth\": 2, \"mirror\": true, \"overlaying\": \"y\", \"showgrid\": false, \"showline\": true, \"side\": \"right\", \"title\": {\"text\": \"<b>Federal Highways</b>\"}}},                        {\"responsive\": true}                    ).then(function(){\n",
              "                            \n",
              "var gd = document.getElementById('693f1fbe-5c61-4be3-a76b-b3fc4a146986');\n",
              "var x = new MutationObserver(function (mutations, observer) {{\n",
              "        var display = window.getComputedStyle(gd).display;\n",
              "        if (!display || display === 'none') {{\n",
              "            console.log([gd, 'removed!']);\n",
              "            Plotly.purge(gd);\n",
              "            observer.disconnect();\n",
              "        }}\n",
              "}});\n",
              "\n",
              "// Listen for the removal of the full notebook cells\n",
              "var notebookContainer = gd.closest('#notebook-container');\n",
              "if (notebookContainer) {{\n",
              "    x.observe(notebookContainer, {childList: true});\n",
              "}}\n",
              "\n",
              "// Listen for the clearing of the current output cell\n",
              "var outputEl = gd.closest('.output');\n",
              "if (outputEl) {{\n",
              "    x.observe(outputEl, {childList: true});\n",
              "}}\n",
              "\n",
              "                        })                };                            </script>        </div>\n",
              "</body>\n",
              "</html>"
            ]
          },
          "metadata": {
            "tags": []
          }
        }
      ]
    },
    {
      "cell_type": "code",
      "metadata": {
        "colab": {
          "base_uri": "https://localhost:8080/",
          "height": 542
        },
        "id": "F5sOyXfxjGW-",
        "outputId": "fc22551e-8a70-498a-a0e3-17aa80ff17b7"
      },
      "source": [
        "graphics_plot(y = [stats.zscore(a3r/m3r), stats.zscore(a5r/m5r), stats.zscore(a9r/m9r), stats.zscore(cfedr)], \r\n",
        "              y_name = ['E3','E5','E9','Accidents rate'], bins = Nbins, title = 'Comparison companies and Brazilian Highways', \r\n",
        "              yaxes_title = ['Comparison rate','Federal Highways'], x_tick = agr)"
      ],
      "execution_count": 297,
      "outputs": [
        {
          "output_type": "display_data",
          "data": {
            "text/html": [
              "<html>\n",
              "<head><meta charset=\"utf-8\" /></head>\n",
              "<body>\n",
              "    <div>            <script src=\"https://cdnjs.cloudflare.com/ajax/libs/mathjax/2.7.5/MathJax.js?config=TeX-AMS-MML_SVG\"></script><script type=\"text/javascript\">if (window.MathJax) {MathJax.Hub.Config({SVG: {font: \"STIX-Web\"}});}</script>                <script type=\"text/javascript\">window.PlotlyConfig = {MathJaxConfig: 'local'};</script>\n",
              "        <script src=\"https://cdn.plot.ly/plotly-latest.min.js\"></script>                <div id=\"714910d1-d98e-47b7-b590-1127b08fd195\" class=\"plotly-graph-div\" style=\"height:525px; width:100%;\"></div>            <script type=\"text/javascript\">                                    window.PLOTLYENV=window.PLOTLYENV || {};                                    if (document.getElementById(\"714910d1-d98e-47b7-b590-1127b08fd195\")) {                    Plotly.newPlot(                        \"714910d1-d98e-47b7-b590-1127b08fd195\",                        [{\"line\": {\"color\": \"rgb(0, 0, 0)\", \"width\": 2}, \"marker\": {\"size\": 7, \"symbol\": \"circle\"}, \"mode\": \"lines+markers\", \"name\": \"E3\", \"type\": \"scatter\", \"x\": [0.0, 2.0, 4.0, 6.0, 8.0, 10.0, 12.0, 14.0, 16.0, 18.0, 20.0, 22.0, 24.0], \"xaxis\": \"x\", \"y\": [0.6611822257822543, 1.9048647234149017, 0.842081498165185, -0.9881934930032887, 1.1400332409135412, 0.0759198739551261, 0.6079765574343337, -0.7601692000836285, -0.9447602943519249, -1.6000586790043774, -0.24331413613239825, -0.6955623170897247], \"yaxis\": \"y\"}, {\"line\": {\"color\": \"rgb(0, 0, 0)\", \"dash\": \"dash\", \"width\": 2}, \"marker\": {\"size\": 7, \"symbol\": \"star\"}, \"mode\": \"lines+markers\", \"name\": \"E5\", \"type\": \"scatter\", \"x\": [0.0, 2.0, 4.0, 6.0, 8.0, 10.0, 12.0, 14.0, 16.0, 18.0, 20.0, 22.0, 24.0], \"xaxis\": \"x\", \"y\": [-1.1232825591044766, 0.92151637190309, 1.884188033580192, 0.3067402227112726, -1.1232825591044766, -0.41521302636075624, -1.1232825591044766, -0.4416829154352878, -1.1232825591044766, 1.0217516136191471, 0.21490389727356402, 1.000926039126685], \"yaxis\": \"y\"}, {\"line\": {\"color\": \"rgb(0, 0, 0)\", \"dash\": \"dot\", \"width\": 2}, \"marker\": {\"size\": 7, \"symbol\": \"diamond\"}, \"mode\": \"lines+markers\", \"name\": \"E9\", \"type\": \"scatter\", \"x\": [0.0, 2.0, 4.0, 6.0, 8.0, 10.0, 12.0, 14.0, 16.0, 18.0, 20.0, 22.0, 24.0], \"xaxis\": \"x\", \"y\": [-0.3407842922198625, -0.4704609653302987, 1.656236473680854, -1.1470349119934438, 1.3450124582158072, 0.10351775171589417, -1.0164680100058194, -0.1822905806404407, -0.9027165423650859, -0.5445619213934051, -0.3641686103217445, 1.8637191506575517], \"yaxis\": \"y\"}, {\"line\": {\"color\": \"rgb(0, 0, 0)\", \"dash\": \"dashdot\", \"width\": 2}, \"marker\": {\"size\": 7, \"symbol\": \"x\"}, \"mode\": \"lines+markers\", \"name\": \"Accidents rate\", \"type\": \"scatter\", \"x\": [0.0, 2.0, 4.0, 6.0, 8.0, 10.0, 12.0, 14.0, 16.0, 18.0, 20.0, 22.0, 24.0], \"xaxis\": \"x\", \"y\": [1.3497259124073242, 2.1087985412867885, 0.8747239618073904, -0.629553780613118, -0.9557814803464374, -1.0672175735061826, -1.1627446018170966, -0.7508751411100453, -0.46639581885876613, 0.22531858475655114, -0.09529167435441338, 0.5692930703480084], \"yaxis\": \"y2\"}],                        {\"legend\": {\"orientation\": \"h\", \"x\": 0.95, \"xanchor\": \"right\", \"y\": 1.01, \"yanchor\": \"bottom\"}, \"paper_bgcolor\": \"rgba(0,0,0,0)\", \"plot_bgcolor\": \"rgba(0,0,0,0)\", \"template\": {\"data\": {\"bar\": [{\"error_x\": {\"color\": \"#2a3f5f\"}, \"error_y\": {\"color\": \"#2a3f5f\"}, \"marker\": {\"line\": {\"color\": \"#E5ECF6\", \"width\": 0.5}}, \"type\": \"bar\"}], \"barpolar\": [{\"marker\": {\"line\": {\"color\": \"#E5ECF6\", \"width\": 0.5}}, \"type\": \"barpolar\"}], \"carpet\": [{\"aaxis\": {\"endlinecolor\": \"#2a3f5f\", \"gridcolor\": \"white\", \"linecolor\": \"white\", \"minorgridcolor\": \"white\", \"startlinecolor\": \"#2a3f5f\"}, \"baxis\": {\"endlinecolor\": \"#2a3f5f\", \"gridcolor\": \"white\", \"linecolor\": \"white\", \"minorgridcolor\": \"white\", \"startlinecolor\": \"#2a3f5f\"}, \"type\": \"carpet\"}], \"choropleth\": [{\"colorbar\": {\"outlinewidth\": 0, \"ticks\": \"\"}, \"type\": \"choropleth\"}], \"contour\": [{\"colorbar\": {\"outlinewidth\": 0, \"ticks\": \"\"}, \"colorscale\": [[0.0, \"#0d0887\"], [0.1111111111111111, \"#46039f\"], [0.2222222222222222, \"#7201a8\"], [0.3333333333333333, \"#9c179e\"], [0.4444444444444444, \"#bd3786\"], [0.5555555555555556, \"#d8576b\"], [0.6666666666666666, \"#ed7953\"], [0.7777777777777778, \"#fb9f3a\"], [0.8888888888888888, \"#fdca26\"], [1.0, \"#f0f921\"]], \"type\": \"contour\"}], \"contourcarpet\": [{\"colorbar\": {\"outlinewidth\": 0, \"ticks\": \"\"}, \"type\": \"contourcarpet\"}], \"heatmap\": [{\"colorbar\": {\"outlinewidth\": 0, \"ticks\": \"\"}, \"colorscale\": [[0.0, \"#0d0887\"], [0.1111111111111111, \"#46039f\"], [0.2222222222222222, \"#7201a8\"], [0.3333333333333333, \"#9c179e\"], [0.4444444444444444, \"#bd3786\"], [0.5555555555555556, \"#d8576b\"], [0.6666666666666666, \"#ed7953\"], [0.7777777777777778, \"#fb9f3a\"], [0.8888888888888888, \"#fdca26\"], [1.0, \"#f0f921\"]], \"type\": \"heatmap\"}], \"heatmapgl\": [{\"colorbar\": {\"outlinewidth\": 0, \"ticks\": \"\"}, \"colorscale\": [[0.0, \"#0d0887\"], [0.1111111111111111, \"#46039f\"], [0.2222222222222222, \"#7201a8\"], [0.3333333333333333, \"#9c179e\"], [0.4444444444444444, \"#bd3786\"], [0.5555555555555556, \"#d8576b\"], [0.6666666666666666, \"#ed7953\"], [0.7777777777777778, \"#fb9f3a\"], [0.8888888888888888, \"#fdca26\"], [1.0, \"#f0f921\"]], \"type\": \"heatmapgl\"}], \"histogram\": [{\"marker\": {\"colorbar\": {\"outlinewidth\": 0, \"ticks\": \"\"}}, \"type\": \"histogram\"}], \"histogram2d\": [{\"colorbar\": {\"outlinewidth\": 0, \"ticks\": \"\"}, \"colorscale\": [[0.0, \"#0d0887\"], [0.1111111111111111, \"#46039f\"], [0.2222222222222222, \"#7201a8\"], [0.3333333333333333, \"#9c179e\"], [0.4444444444444444, \"#bd3786\"], [0.5555555555555556, \"#d8576b\"], [0.6666666666666666, \"#ed7953\"], [0.7777777777777778, \"#fb9f3a\"], [0.8888888888888888, \"#fdca26\"], [1.0, \"#f0f921\"]], \"type\": \"histogram2d\"}], \"histogram2dcontour\": [{\"colorbar\": {\"outlinewidth\": 0, \"ticks\": \"\"}, \"colorscale\": [[0.0, \"#0d0887\"], [0.1111111111111111, \"#46039f\"], [0.2222222222222222, \"#7201a8\"], [0.3333333333333333, \"#9c179e\"], [0.4444444444444444, \"#bd3786\"], [0.5555555555555556, \"#d8576b\"], [0.6666666666666666, \"#ed7953\"], [0.7777777777777778, \"#fb9f3a\"], [0.8888888888888888, \"#fdca26\"], [1.0, \"#f0f921\"]], \"type\": \"histogram2dcontour\"}], \"mesh3d\": [{\"colorbar\": {\"outlinewidth\": 0, \"ticks\": \"\"}, \"type\": \"mesh3d\"}], \"parcoords\": [{\"line\": {\"colorbar\": {\"outlinewidth\": 0, \"ticks\": \"\"}}, \"type\": \"parcoords\"}], \"pie\": [{\"automargin\": true, \"type\": \"pie\"}], \"scatter\": [{\"marker\": {\"colorbar\": {\"outlinewidth\": 0, \"ticks\": \"\"}}, \"type\": \"scatter\"}], \"scatter3d\": [{\"line\": {\"colorbar\": {\"outlinewidth\": 0, \"ticks\": \"\"}}, \"marker\": {\"colorbar\": {\"outlinewidth\": 0, \"ticks\": \"\"}}, \"type\": \"scatter3d\"}], \"scattercarpet\": [{\"marker\": {\"colorbar\": {\"outlinewidth\": 0, \"ticks\": \"\"}}, \"type\": \"scattercarpet\"}], \"scattergeo\": [{\"marker\": {\"colorbar\": {\"outlinewidth\": 0, \"ticks\": \"\"}}, \"type\": \"scattergeo\"}], \"scattergl\": [{\"marker\": {\"colorbar\": {\"outlinewidth\": 0, \"ticks\": \"\"}}, \"type\": \"scattergl\"}], \"scattermapbox\": [{\"marker\": {\"colorbar\": {\"outlinewidth\": 0, \"ticks\": \"\"}}, \"type\": \"scattermapbox\"}], \"scatterpolar\": [{\"marker\": {\"colorbar\": {\"outlinewidth\": 0, \"ticks\": \"\"}}, \"type\": \"scatterpolar\"}], \"scatterpolargl\": [{\"marker\": {\"colorbar\": {\"outlinewidth\": 0, \"ticks\": \"\"}}, \"type\": \"scatterpolargl\"}], \"scatterternary\": [{\"marker\": {\"colorbar\": {\"outlinewidth\": 0, \"ticks\": \"\"}}, \"type\": \"scatterternary\"}], \"surface\": [{\"colorbar\": {\"outlinewidth\": 0, \"ticks\": \"\"}, \"colorscale\": [[0.0, \"#0d0887\"], [0.1111111111111111, \"#46039f\"], [0.2222222222222222, \"#7201a8\"], [0.3333333333333333, \"#9c179e\"], [0.4444444444444444, \"#bd3786\"], [0.5555555555555556, \"#d8576b\"], [0.6666666666666666, \"#ed7953\"], [0.7777777777777778, \"#fb9f3a\"], [0.8888888888888888, \"#fdca26\"], [1.0, \"#f0f921\"]], \"type\": \"surface\"}], \"table\": [{\"cells\": {\"fill\": {\"color\": \"#EBF0F8\"}, \"line\": {\"color\": \"white\"}}, \"header\": {\"fill\": {\"color\": \"#C8D4E3\"}, \"line\": {\"color\": \"white\"}}, \"type\": \"table\"}]}, \"layout\": {\"annotationdefaults\": {\"arrowcolor\": \"#2a3f5f\", \"arrowhead\": 0, \"arrowwidth\": 1}, \"autotypenumbers\": \"strict\", \"coloraxis\": {\"colorbar\": {\"outlinewidth\": 0, \"ticks\": \"\"}}, \"colorscale\": {\"diverging\": [[0, \"#8e0152\"], [0.1, \"#c51b7d\"], [0.2, \"#de77ae\"], [0.3, \"#f1b6da\"], [0.4, \"#fde0ef\"], [0.5, \"#f7f7f7\"], [0.6, \"#e6f5d0\"], [0.7, \"#b8e186\"], [0.8, \"#7fbc41\"], [0.9, \"#4d9221\"], [1, \"#276419\"]], \"sequential\": [[0.0, \"#0d0887\"], [0.1111111111111111, \"#46039f\"], [0.2222222222222222, \"#7201a8\"], [0.3333333333333333, \"#9c179e\"], [0.4444444444444444, \"#bd3786\"], [0.5555555555555556, \"#d8576b\"], [0.6666666666666666, \"#ed7953\"], [0.7777777777777778, \"#fb9f3a\"], [0.8888888888888888, \"#fdca26\"], [1.0, \"#f0f921\"]], \"sequentialminus\": [[0.0, \"#0d0887\"], [0.1111111111111111, \"#46039f\"], [0.2222222222222222, \"#7201a8\"], [0.3333333333333333, \"#9c179e\"], [0.4444444444444444, \"#bd3786\"], [0.5555555555555556, \"#d8576b\"], [0.6666666666666666, \"#ed7953\"], [0.7777777777777778, \"#fb9f3a\"], [0.8888888888888888, \"#fdca26\"], [1.0, \"#f0f921\"]]}, \"colorway\": [\"#636efa\", \"#EF553B\", \"#00cc96\", \"#ab63fa\", \"#FFA15A\", \"#19d3f3\", \"#FF6692\", \"#B6E880\", \"#FF97FF\", \"#FECB52\"], \"font\": {\"color\": \"#2a3f5f\"}, \"geo\": {\"bgcolor\": \"white\", \"lakecolor\": \"white\", \"landcolor\": \"#E5ECF6\", \"showlakes\": true, \"showland\": true, \"subunitcolor\": \"white\"}, \"hoverlabel\": {\"align\": \"left\"}, \"hovermode\": \"closest\", \"mapbox\": {\"style\": \"light\"}, \"paper_bgcolor\": \"white\", \"plot_bgcolor\": \"#E5ECF6\", \"polar\": {\"angularaxis\": {\"gridcolor\": \"white\", \"linecolor\": \"white\", \"ticks\": \"\"}, \"bgcolor\": \"#E5ECF6\", \"radialaxis\": {\"gridcolor\": \"white\", \"linecolor\": \"white\", \"ticks\": \"\"}}, \"scene\": {\"xaxis\": {\"backgroundcolor\": \"#E5ECF6\", \"gridcolor\": \"white\", \"gridwidth\": 2, \"linecolor\": \"white\", \"showbackground\": true, \"ticks\": \"\", \"zerolinecolor\": \"white\"}, \"yaxis\": {\"backgroundcolor\": \"#E5ECF6\", \"gridcolor\": \"white\", \"gridwidth\": 2, \"linecolor\": \"white\", \"showbackground\": true, \"ticks\": \"\", \"zerolinecolor\": \"white\"}, \"zaxis\": {\"backgroundcolor\": \"#E5ECF6\", \"gridcolor\": \"white\", \"gridwidth\": 2, \"linecolor\": \"white\", \"showbackground\": true, \"ticks\": \"\", \"zerolinecolor\": \"white\"}}, \"shapedefaults\": {\"line\": {\"color\": \"#2a3f5f\"}}, \"ternary\": {\"aaxis\": {\"gridcolor\": \"white\", \"linecolor\": \"white\", \"ticks\": \"\"}, \"baxis\": {\"gridcolor\": \"white\", \"linecolor\": \"white\", \"ticks\": \"\"}, \"bgcolor\": \"#E5ECF6\", \"caxis\": {\"gridcolor\": \"white\", \"linecolor\": \"white\", \"ticks\": \"\"}}, \"title\": {\"x\": 0.05}, \"xaxis\": {\"automargin\": true, \"gridcolor\": \"white\", \"linecolor\": \"white\", \"ticks\": \"\", \"title\": {\"standoff\": 15}, \"zerolinecolor\": \"white\", \"zerolinewidth\": 2}, \"yaxis\": {\"automargin\": true, \"gridcolor\": \"white\", \"linecolor\": \"white\", \"ticks\": \"\", \"title\": {\"standoff\": 15}, \"zerolinecolor\": \"white\", \"zerolinewidth\": 2}}}, \"title\": {\"text\": \"Comparison companies and Brazilian Highways\"}, \"xaxis\": {\"anchor\": \"y\", \"domain\": [0.0, 0.94], \"dtick\": 2, \"gridcolor\": \"black\", \"gridwidth\": 1, \"linecolor\": \"black\", \"linewidth\": 2, \"mirror\": true, \"showgrid\": true, \"showline\": true, \"tick0\": 0, \"tickmode\": \"linear\", \"title\": {\"text\": \"Time of day\"}}, \"yaxis\": {\"anchor\": \"x\", \"domain\": [0.0, 1.0], \"gridcolor\": \"black\", \"gridwidth\": 1, \"linecolor\": \"black\", \"linewidth\": 2, \"mirror\": true, \"showgrid\": false, \"showline\": true, \"title\": {\"text\": \"<b>Comparison rate</b>\"}}, \"yaxis2\": {\"anchor\": \"x\", \"gridcolor\": \"black\", \"gridwidth\": 1, \"linecolor\": \"black\", \"linewidth\": 2, \"mirror\": true, \"overlaying\": \"y\", \"showgrid\": false, \"showline\": true, \"side\": \"right\", \"title\": {\"text\": \"<b>Federal Highways</b>\"}}},                        {\"responsive\": true}                    ).then(function(){\n",
              "                            \n",
              "var gd = document.getElementById('714910d1-d98e-47b7-b590-1127b08fd195');\n",
              "var x = new MutationObserver(function (mutations, observer) {{\n",
              "        var display = window.getComputedStyle(gd).display;\n",
              "        if (!display || display === 'none') {{\n",
              "            console.log([gd, 'removed!']);\n",
              "            Plotly.purge(gd);\n",
              "            observer.disconnect();\n",
              "        }}\n",
              "}});\n",
              "\n",
              "// Listen for the removal of the full notebook cells\n",
              "var notebookContainer = gd.closest('#notebook-container');\n",
              "if (notebookContainer) {{\n",
              "    x.observe(notebookContainer, {childList: true});\n",
              "}}\n",
              "\n",
              "// Listen for the clearing of the current output cell\n",
              "var outputEl = gd.closest('.output');\n",
              "if (outputEl) {{\n",
              "    x.observe(outputEl, {childList: true});\n",
              "}}\n",
              "\n",
              "                        })                };                            </script>        </div>\n",
              "</body>\n",
              "</html>"
            ]
          },
          "metadata": {
            "tags": []
          }
        }
      ]
    },
    {
      "cell_type": "code",
      "metadata": {
        "colab": {
          "base_uri": "https://localhost:8080/",
          "height": 542
        },
        "id": "vNOQphPYjpsZ",
        "outputId": "f7e262ce-d0e9-43ee-d6b7-e00738365c4c"
      },
      "source": [
        "graphics_plot(y = [stats.zscore(y5r/m5r), stats.zscore(y9r/m9r), stats.zscore(cfedr)], \r\n",
        "              y_name = ['E5','E9','Accidents rate'], bins = Nbins, title = 'Comparison companies and Brazilian Highways', \r\n",
        "              yaxes_title = ['Yawn rate','Federal Highways'], x_tick = agr)"
      ],
      "execution_count": 298,
      "outputs": [
        {
          "output_type": "display_data",
          "data": {
            "text/html": [
              "<html>\n",
              "<head><meta charset=\"utf-8\" /></head>\n",
              "<body>\n",
              "    <div>            <script src=\"https://cdnjs.cloudflare.com/ajax/libs/mathjax/2.7.5/MathJax.js?config=TeX-AMS-MML_SVG\"></script><script type=\"text/javascript\">if (window.MathJax) {MathJax.Hub.Config({SVG: {font: \"STIX-Web\"}});}</script>                <script type=\"text/javascript\">window.PlotlyConfig = {MathJaxConfig: 'local'};</script>\n",
              "        <script src=\"https://cdn.plot.ly/plotly-latest.min.js\"></script>                <div id=\"5c6602c7-7bb3-472a-9ddf-bd96b8b49033\" class=\"plotly-graph-div\" style=\"height:525px; width:100%;\"></div>            <script type=\"text/javascript\">                                    window.PLOTLYENV=window.PLOTLYENV || {};                                    if (document.getElementById(\"5c6602c7-7bb3-472a-9ddf-bd96b8b49033\")) {                    Plotly.newPlot(                        \"5c6602c7-7bb3-472a-9ddf-bd96b8b49033\",                        [{\"line\": {\"color\": \"rgb(0, 0, 0)\", \"width\": 2}, \"marker\": {\"size\": 7, \"symbol\": \"circle\"}, \"mode\": \"lines+markers\", \"name\": \"E5\", \"type\": \"scatter\", \"x\": [0.0, 2.0, 4.0, 6.0, 8.0, 10.0, 12.0, 14.0, 16.0, 18.0, 20.0, 22.0, 24.0], \"xaxis\": \"x\", \"y\": [0.879510560346258, 1.1830249027030812, 1.760549317726813, 1.3910850208443581, -0.6113730284483729, -1.0573684429341357, 0.20377117973493614, -0.526174708822621, -0.8951761119293529, -0.8974852637848679, -1.1348747326999513, -0.2954886927361472], \"yaxis\": \"y\"}, {\"line\": {\"color\": \"rgb(0, 0, 0)\", \"dash\": \"dash\", \"width\": 2}, \"marker\": {\"size\": 7, \"symbol\": \"star\"}, \"mode\": \"lines+markers\", \"name\": \"E9\", \"type\": \"scatter\", \"x\": [0.0, 2.0, 4.0, 6.0, 8.0, 10.0, 12.0, 14.0, 16.0, 18.0, 20.0, 22.0, 24.0], \"xaxis\": \"x\", \"y\": [0.9427100628483497, 1.6115529282425969, 1.9298146946066275, 0.17975403586958968, -0.4271188734528377, -0.7184505093145653, -1.1703291119474675, -0.7842656013716444, -0.7529541074171188, -1.0244415340174735, -0.3595553424403062, 0.5732833583942527], \"yaxis\": \"y\"}, {\"line\": {\"color\": \"rgb(0, 0, 0)\", \"dash\": \"dot\", \"width\": 2}, \"marker\": {\"size\": 7, \"symbol\": \"diamond\"}, \"mode\": \"lines+markers\", \"name\": \"Accidents rate\", \"type\": \"scatter\", \"x\": [0.0, 2.0, 4.0, 6.0, 8.0, 10.0, 12.0, 14.0, 16.0, 18.0, 20.0, 22.0, 24.0], \"xaxis\": \"x\", \"y\": [1.3497259124073242, 2.1087985412867885, 0.8747239618073904, -0.629553780613118, -0.9557814803464374, -1.0672175735061826, -1.1627446018170966, -0.7508751411100453, -0.46639581885876613, 0.22531858475655114, -0.09529167435441338, 0.5692930703480084], \"yaxis\": \"y2\"}],                        {\"legend\": {\"orientation\": \"h\", \"x\": 0.95, \"xanchor\": \"right\", \"y\": 1.01, \"yanchor\": \"bottom\"}, \"paper_bgcolor\": \"rgba(0,0,0,0)\", \"plot_bgcolor\": \"rgba(0,0,0,0)\", \"template\": {\"data\": {\"bar\": [{\"error_x\": {\"color\": \"#2a3f5f\"}, \"error_y\": {\"color\": \"#2a3f5f\"}, \"marker\": {\"line\": {\"color\": \"#E5ECF6\", \"width\": 0.5}}, \"type\": \"bar\"}], \"barpolar\": [{\"marker\": {\"line\": {\"color\": \"#E5ECF6\", \"width\": 0.5}}, \"type\": \"barpolar\"}], \"carpet\": [{\"aaxis\": {\"endlinecolor\": \"#2a3f5f\", \"gridcolor\": \"white\", \"linecolor\": \"white\", \"minorgridcolor\": \"white\", \"startlinecolor\": \"#2a3f5f\"}, \"baxis\": {\"endlinecolor\": \"#2a3f5f\", \"gridcolor\": \"white\", \"linecolor\": \"white\", \"minorgridcolor\": \"white\", \"startlinecolor\": \"#2a3f5f\"}, \"type\": \"carpet\"}], \"choropleth\": [{\"colorbar\": {\"outlinewidth\": 0, \"ticks\": \"\"}, \"type\": \"choropleth\"}], \"contour\": [{\"colorbar\": {\"outlinewidth\": 0, \"ticks\": \"\"}, \"colorscale\": [[0.0, \"#0d0887\"], [0.1111111111111111, \"#46039f\"], [0.2222222222222222, \"#7201a8\"], [0.3333333333333333, \"#9c179e\"], [0.4444444444444444, \"#bd3786\"], [0.5555555555555556, \"#d8576b\"], [0.6666666666666666, \"#ed7953\"], [0.7777777777777778, \"#fb9f3a\"], [0.8888888888888888, \"#fdca26\"], [1.0, \"#f0f921\"]], \"type\": \"contour\"}], \"contourcarpet\": [{\"colorbar\": {\"outlinewidth\": 0, \"ticks\": \"\"}, \"type\": \"contourcarpet\"}], \"heatmap\": [{\"colorbar\": {\"outlinewidth\": 0, \"ticks\": \"\"}, \"colorscale\": [[0.0, \"#0d0887\"], [0.1111111111111111, \"#46039f\"], [0.2222222222222222, \"#7201a8\"], [0.3333333333333333, \"#9c179e\"], [0.4444444444444444, \"#bd3786\"], [0.5555555555555556, \"#d8576b\"], [0.6666666666666666, \"#ed7953\"], [0.7777777777777778, \"#fb9f3a\"], [0.8888888888888888, \"#fdca26\"], [1.0, \"#f0f921\"]], \"type\": \"heatmap\"}], \"heatmapgl\": [{\"colorbar\": {\"outlinewidth\": 0, \"ticks\": \"\"}, \"colorscale\": [[0.0, \"#0d0887\"], [0.1111111111111111, \"#46039f\"], [0.2222222222222222, \"#7201a8\"], [0.3333333333333333, \"#9c179e\"], [0.4444444444444444, \"#bd3786\"], [0.5555555555555556, \"#d8576b\"], [0.6666666666666666, \"#ed7953\"], [0.7777777777777778, \"#fb9f3a\"], [0.8888888888888888, \"#fdca26\"], [1.0, \"#f0f921\"]], \"type\": \"heatmapgl\"}], \"histogram\": [{\"marker\": {\"colorbar\": {\"outlinewidth\": 0, \"ticks\": \"\"}}, \"type\": \"histogram\"}], \"histogram2d\": [{\"colorbar\": {\"outlinewidth\": 0, \"ticks\": \"\"}, \"colorscale\": [[0.0, \"#0d0887\"], [0.1111111111111111, \"#46039f\"], [0.2222222222222222, \"#7201a8\"], [0.3333333333333333, \"#9c179e\"], [0.4444444444444444, \"#bd3786\"], [0.5555555555555556, \"#d8576b\"], [0.6666666666666666, \"#ed7953\"], [0.7777777777777778, \"#fb9f3a\"], [0.8888888888888888, \"#fdca26\"], [1.0, \"#f0f921\"]], \"type\": \"histogram2d\"}], \"histogram2dcontour\": [{\"colorbar\": {\"outlinewidth\": 0, \"ticks\": \"\"}, \"colorscale\": [[0.0, \"#0d0887\"], [0.1111111111111111, \"#46039f\"], [0.2222222222222222, \"#7201a8\"], [0.3333333333333333, \"#9c179e\"], [0.4444444444444444, \"#bd3786\"], [0.5555555555555556, \"#d8576b\"], [0.6666666666666666, \"#ed7953\"], [0.7777777777777778, \"#fb9f3a\"], [0.8888888888888888, \"#fdca26\"], [1.0, \"#f0f921\"]], \"type\": \"histogram2dcontour\"}], \"mesh3d\": [{\"colorbar\": {\"outlinewidth\": 0, \"ticks\": \"\"}, \"type\": \"mesh3d\"}], \"parcoords\": [{\"line\": {\"colorbar\": {\"outlinewidth\": 0, \"ticks\": \"\"}}, \"type\": \"parcoords\"}], \"pie\": [{\"automargin\": true, \"type\": \"pie\"}], \"scatter\": [{\"marker\": {\"colorbar\": {\"outlinewidth\": 0, \"ticks\": \"\"}}, \"type\": \"scatter\"}], \"scatter3d\": [{\"line\": {\"colorbar\": {\"outlinewidth\": 0, \"ticks\": \"\"}}, \"marker\": {\"colorbar\": {\"outlinewidth\": 0, \"ticks\": \"\"}}, \"type\": \"scatter3d\"}], \"scattercarpet\": [{\"marker\": {\"colorbar\": {\"outlinewidth\": 0, \"ticks\": \"\"}}, \"type\": \"scattercarpet\"}], \"scattergeo\": [{\"marker\": {\"colorbar\": {\"outlinewidth\": 0, \"ticks\": \"\"}}, \"type\": \"scattergeo\"}], \"scattergl\": [{\"marker\": {\"colorbar\": {\"outlinewidth\": 0, \"ticks\": \"\"}}, \"type\": \"scattergl\"}], \"scattermapbox\": [{\"marker\": {\"colorbar\": {\"outlinewidth\": 0, \"ticks\": \"\"}}, \"type\": \"scattermapbox\"}], \"scatterpolar\": [{\"marker\": {\"colorbar\": {\"outlinewidth\": 0, \"ticks\": \"\"}}, \"type\": \"scatterpolar\"}], \"scatterpolargl\": [{\"marker\": {\"colorbar\": {\"outlinewidth\": 0, \"ticks\": \"\"}}, \"type\": \"scatterpolargl\"}], \"scatterternary\": [{\"marker\": {\"colorbar\": {\"outlinewidth\": 0, \"ticks\": \"\"}}, \"type\": \"scatterternary\"}], \"surface\": [{\"colorbar\": {\"outlinewidth\": 0, \"ticks\": \"\"}, \"colorscale\": [[0.0, \"#0d0887\"], [0.1111111111111111, \"#46039f\"], [0.2222222222222222, \"#7201a8\"], [0.3333333333333333, \"#9c179e\"], [0.4444444444444444, \"#bd3786\"], [0.5555555555555556, \"#d8576b\"], [0.6666666666666666, \"#ed7953\"], [0.7777777777777778, \"#fb9f3a\"], [0.8888888888888888, \"#fdca26\"], [1.0, \"#f0f921\"]], \"type\": \"surface\"}], \"table\": [{\"cells\": {\"fill\": {\"color\": \"#EBF0F8\"}, \"line\": {\"color\": \"white\"}}, \"header\": {\"fill\": {\"color\": \"#C8D4E3\"}, \"line\": {\"color\": \"white\"}}, \"type\": \"table\"}]}, \"layout\": {\"annotationdefaults\": {\"arrowcolor\": \"#2a3f5f\", \"arrowhead\": 0, \"arrowwidth\": 1}, \"autotypenumbers\": \"strict\", \"coloraxis\": {\"colorbar\": {\"outlinewidth\": 0, \"ticks\": \"\"}}, \"colorscale\": {\"diverging\": [[0, \"#8e0152\"], [0.1, \"#c51b7d\"], [0.2, \"#de77ae\"], [0.3, \"#f1b6da\"], [0.4, \"#fde0ef\"], [0.5, \"#f7f7f7\"], [0.6, \"#e6f5d0\"], [0.7, \"#b8e186\"], [0.8, \"#7fbc41\"], [0.9, \"#4d9221\"], [1, \"#276419\"]], \"sequential\": [[0.0, \"#0d0887\"], [0.1111111111111111, \"#46039f\"], [0.2222222222222222, \"#7201a8\"], [0.3333333333333333, \"#9c179e\"], [0.4444444444444444, \"#bd3786\"], [0.5555555555555556, \"#d8576b\"], [0.6666666666666666, \"#ed7953\"], [0.7777777777777778, \"#fb9f3a\"], [0.8888888888888888, \"#fdca26\"], [1.0, \"#f0f921\"]], \"sequentialminus\": [[0.0, \"#0d0887\"], [0.1111111111111111, \"#46039f\"], [0.2222222222222222, \"#7201a8\"], [0.3333333333333333, \"#9c179e\"], [0.4444444444444444, \"#bd3786\"], [0.5555555555555556, \"#d8576b\"], [0.6666666666666666, \"#ed7953\"], [0.7777777777777778, \"#fb9f3a\"], [0.8888888888888888, \"#fdca26\"], [1.0, \"#f0f921\"]]}, \"colorway\": [\"#636efa\", \"#EF553B\", \"#00cc96\", \"#ab63fa\", \"#FFA15A\", \"#19d3f3\", \"#FF6692\", \"#B6E880\", \"#FF97FF\", \"#FECB52\"], \"font\": {\"color\": \"#2a3f5f\"}, \"geo\": {\"bgcolor\": \"white\", \"lakecolor\": \"white\", \"landcolor\": \"#E5ECF6\", \"showlakes\": true, \"showland\": true, \"subunitcolor\": \"white\"}, \"hoverlabel\": {\"align\": \"left\"}, \"hovermode\": \"closest\", \"mapbox\": {\"style\": \"light\"}, \"paper_bgcolor\": \"white\", \"plot_bgcolor\": \"#E5ECF6\", \"polar\": {\"angularaxis\": {\"gridcolor\": \"white\", \"linecolor\": \"white\", \"ticks\": \"\"}, \"bgcolor\": \"#E5ECF6\", \"radialaxis\": {\"gridcolor\": \"white\", \"linecolor\": \"white\", \"ticks\": \"\"}}, \"scene\": {\"xaxis\": {\"backgroundcolor\": \"#E5ECF6\", \"gridcolor\": \"white\", \"gridwidth\": 2, \"linecolor\": \"white\", \"showbackground\": true, \"ticks\": \"\", \"zerolinecolor\": \"white\"}, \"yaxis\": {\"backgroundcolor\": \"#E5ECF6\", \"gridcolor\": \"white\", \"gridwidth\": 2, \"linecolor\": \"white\", \"showbackground\": true, \"ticks\": \"\", \"zerolinecolor\": \"white\"}, \"zaxis\": {\"backgroundcolor\": \"#E5ECF6\", \"gridcolor\": \"white\", \"gridwidth\": 2, \"linecolor\": \"white\", \"showbackground\": true, \"ticks\": \"\", \"zerolinecolor\": \"white\"}}, \"shapedefaults\": {\"line\": {\"color\": \"#2a3f5f\"}}, \"ternary\": {\"aaxis\": {\"gridcolor\": \"white\", \"linecolor\": \"white\", \"ticks\": \"\"}, \"baxis\": {\"gridcolor\": \"white\", \"linecolor\": \"white\", \"ticks\": \"\"}, \"bgcolor\": \"#E5ECF6\", \"caxis\": {\"gridcolor\": \"white\", \"linecolor\": \"white\", \"ticks\": \"\"}}, \"title\": {\"x\": 0.05}, \"xaxis\": {\"automargin\": true, \"gridcolor\": \"white\", \"linecolor\": \"white\", \"ticks\": \"\", \"title\": {\"standoff\": 15}, \"zerolinecolor\": \"white\", \"zerolinewidth\": 2}, \"yaxis\": {\"automargin\": true, \"gridcolor\": \"white\", \"linecolor\": \"white\", \"ticks\": \"\", \"title\": {\"standoff\": 15}, \"zerolinecolor\": \"white\", \"zerolinewidth\": 2}}}, \"title\": {\"text\": \"Comparison companies and Brazilian Highways\"}, \"xaxis\": {\"anchor\": \"y\", \"domain\": [0.0, 0.94], \"dtick\": 2, \"gridcolor\": \"black\", \"gridwidth\": 1, \"linecolor\": \"black\", \"linewidth\": 2, \"mirror\": true, \"showgrid\": true, \"showline\": true, \"tick0\": 0, \"tickmode\": \"linear\", \"title\": {\"text\": \"Time of day\"}}, \"yaxis\": {\"anchor\": \"x\", \"domain\": [0.0, 1.0], \"gridcolor\": \"black\", \"gridwidth\": 1, \"linecolor\": \"black\", \"linewidth\": 2, \"mirror\": true, \"showgrid\": false, \"showline\": true, \"title\": {\"text\": \"<b>Yawn rate</b>\"}}, \"yaxis2\": {\"anchor\": \"x\", \"gridcolor\": \"black\", \"gridwidth\": 1, \"linecolor\": \"black\", \"linewidth\": 2, \"mirror\": true, \"overlaying\": \"y\", \"showgrid\": false, \"showline\": true, \"side\": \"right\", \"title\": {\"text\": \"<b>Federal Highways</b>\"}}},                        {\"responsive\": true}                    ).then(function(){\n",
              "                            \n",
              "var gd = document.getElementById('5c6602c7-7bb3-472a-9ddf-bd96b8b49033');\n",
              "var x = new MutationObserver(function (mutations, observer) {{\n",
              "        var display = window.getComputedStyle(gd).display;\n",
              "        if (!display || display === 'none') {{\n",
              "            console.log([gd, 'removed!']);\n",
              "            Plotly.purge(gd);\n",
              "            observer.disconnect();\n",
              "        }}\n",
              "}});\n",
              "\n",
              "// Listen for the removal of the full notebook cells\n",
              "var notebookContainer = gd.closest('#notebook-container');\n",
              "if (notebookContainer) {{\n",
              "    x.observe(notebookContainer, {childList: true});\n",
              "}}\n",
              "\n",
              "// Listen for the clearing of the current output cell\n",
              "var outputEl = gd.closest('.output');\n",
              "if (outputEl) {{\n",
              "    x.observe(outputEl, {childList: true});\n",
              "}}\n",
              "\n",
              "                        })                };                            </script>        </div>\n",
              "</body>\n",
              "</html>"
            ]
          },
          "metadata": {
            "tags": []
          }
        }
      ]
    },
    {
      "cell_type": "code",
      "metadata": {
        "colab": {
          "base_uri": "https://localhost:8080/",
          "height": 542
        },
        "id": "NBQJerdhkFKj",
        "outputId": "d347c839-1e4e-4097-fb94-c47ebf06c3b3"
      },
      "source": [
        "graphics_plot(y = [stats.zscore(at9r/m9r), stats.zscore(cfedr)], \r\n",
        "              y_name = ['E9','Accidents Rate'], bins = Nbins, title = 'Comparison companies and Brazilian Highways', \r\n",
        "              yaxes_title = ['Companies Rate','Federal Highways'], x_tick = agr)"
      ],
      "execution_count": 299,
      "outputs": [
        {
          "output_type": "display_data",
          "data": {
            "text/html": [
              "<html>\n",
              "<head><meta charset=\"utf-8\" /></head>\n",
              "<body>\n",
              "    <div>            <script src=\"https://cdnjs.cloudflare.com/ajax/libs/mathjax/2.7.5/MathJax.js?config=TeX-AMS-MML_SVG\"></script><script type=\"text/javascript\">if (window.MathJax) {MathJax.Hub.Config({SVG: {font: \"STIX-Web\"}});}</script>                <script type=\"text/javascript\">window.PlotlyConfig = {MathJaxConfig: 'local'};</script>\n",
              "        <script src=\"https://cdn.plot.ly/plotly-latest.min.js\"></script>                <div id=\"0e0b4b8c-09a9-495d-9f0d-df822969dff9\" class=\"plotly-graph-div\" style=\"height:525px; width:100%;\"></div>            <script type=\"text/javascript\">                                    window.PLOTLYENV=window.PLOTLYENV || {};                                    if (document.getElementById(\"0e0b4b8c-09a9-495d-9f0d-df822969dff9\")) {                    Plotly.newPlot(                        \"0e0b4b8c-09a9-495d-9f0d-df822969dff9\",                        [{\"line\": {\"color\": \"rgb(0, 0, 0)\", \"width\": 2}, \"marker\": {\"size\": 7, \"symbol\": \"circle\"}, \"mode\": \"lines+markers\", \"name\": \"E9\", \"type\": \"scatter\", \"x\": [0.0, 2.0, 4.0, 6.0, 8.0, 10.0, 12.0, 14.0, 16.0, 18.0, 20.0, 22.0, 24.0], \"xaxis\": \"x\", \"y\": [0.40505753287338364, 2.8181648250457303, -0.7865476609603943, 0.12558646902425882, 0.09249898577785058, -0.07350298771265974, 0.1544180702956321, -0.557100782737124, -0.5597971125084796, -1.3796046237901087, -0.6966468989366226, 0.45747418362853526], \"yaxis\": \"y\"}, {\"line\": {\"color\": \"rgb(0, 0, 0)\", \"dash\": \"dash\", \"width\": 2}, \"marker\": {\"size\": 7, \"symbol\": \"star\"}, \"mode\": \"lines+markers\", \"name\": \"Accidents Rate\", \"type\": \"scatter\", \"x\": [0.0, 2.0, 4.0, 6.0, 8.0, 10.0, 12.0, 14.0, 16.0, 18.0, 20.0, 22.0, 24.0], \"xaxis\": \"x\", \"y\": [1.3497259124073242, 2.1087985412867885, 0.8747239618073904, -0.629553780613118, -0.9557814803464374, -1.0672175735061826, -1.1627446018170966, -0.7508751411100453, -0.46639581885876613, 0.22531858475655114, -0.09529167435441338, 0.5692930703480084], \"yaxis\": \"y2\"}],                        {\"legend\": {\"orientation\": \"h\", \"x\": 0.95, \"xanchor\": \"right\", \"y\": 1.01, \"yanchor\": \"bottom\"}, \"paper_bgcolor\": \"rgba(0,0,0,0)\", \"plot_bgcolor\": \"rgba(0,0,0,0)\", \"template\": {\"data\": {\"bar\": [{\"error_x\": {\"color\": \"#2a3f5f\"}, \"error_y\": {\"color\": \"#2a3f5f\"}, \"marker\": {\"line\": {\"color\": \"#E5ECF6\", \"width\": 0.5}}, \"type\": \"bar\"}], \"barpolar\": [{\"marker\": {\"line\": {\"color\": \"#E5ECF6\", \"width\": 0.5}}, \"type\": \"barpolar\"}], \"carpet\": [{\"aaxis\": {\"endlinecolor\": \"#2a3f5f\", \"gridcolor\": \"white\", \"linecolor\": \"white\", \"minorgridcolor\": \"white\", \"startlinecolor\": \"#2a3f5f\"}, \"baxis\": {\"endlinecolor\": \"#2a3f5f\", \"gridcolor\": \"white\", \"linecolor\": \"white\", \"minorgridcolor\": \"white\", \"startlinecolor\": \"#2a3f5f\"}, \"type\": \"carpet\"}], \"choropleth\": [{\"colorbar\": {\"outlinewidth\": 0, \"ticks\": \"\"}, \"type\": \"choropleth\"}], \"contour\": [{\"colorbar\": {\"outlinewidth\": 0, \"ticks\": \"\"}, \"colorscale\": [[0.0, \"#0d0887\"], [0.1111111111111111, \"#46039f\"], [0.2222222222222222, \"#7201a8\"], [0.3333333333333333, \"#9c179e\"], [0.4444444444444444, \"#bd3786\"], [0.5555555555555556, \"#d8576b\"], [0.6666666666666666, \"#ed7953\"], [0.7777777777777778, \"#fb9f3a\"], [0.8888888888888888, \"#fdca26\"], [1.0, \"#f0f921\"]], \"type\": \"contour\"}], \"contourcarpet\": [{\"colorbar\": {\"outlinewidth\": 0, \"ticks\": \"\"}, \"type\": \"contourcarpet\"}], \"heatmap\": [{\"colorbar\": {\"outlinewidth\": 0, \"ticks\": \"\"}, \"colorscale\": [[0.0, \"#0d0887\"], [0.1111111111111111, \"#46039f\"], [0.2222222222222222, \"#7201a8\"], [0.3333333333333333, \"#9c179e\"], [0.4444444444444444, \"#bd3786\"], [0.5555555555555556, \"#d8576b\"], [0.6666666666666666, \"#ed7953\"], [0.7777777777777778, \"#fb9f3a\"], [0.8888888888888888, \"#fdca26\"], [1.0, \"#f0f921\"]], \"type\": \"heatmap\"}], \"heatmapgl\": [{\"colorbar\": {\"outlinewidth\": 0, \"ticks\": \"\"}, \"colorscale\": [[0.0, \"#0d0887\"], [0.1111111111111111, \"#46039f\"], [0.2222222222222222, \"#7201a8\"], [0.3333333333333333, \"#9c179e\"], [0.4444444444444444, \"#bd3786\"], [0.5555555555555556, \"#d8576b\"], [0.6666666666666666, \"#ed7953\"], [0.7777777777777778, \"#fb9f3a\"], [0.8888888888888888, \"#fdca26\"], [1.0, \"#f0f921\"]], \"type\": \"heatmapgl\"}], \"histogram\": [{\"marker\": {\"colorbar\": {\"outlinewidth\": 0, \"ticks\": \"\"}}, \"type\": \"histogram\"}], \"histogram2d\": [{\"colorbar\": {\"outlinewidth\": 0, \"ticks\": \"\"}, \"colorscale\": [[0.0, \"#0d0887\"], [0.1111111111111111, \"#46039f\"], [0.2222222222222222, \"#7201a8\"], [0.3333333333333333, \"#9c179e\"], [0.4444444444444444, \"#bd3786\"], [0.5555555555555556, \"#d8576b\"], [0.6666666666666666, \"#ed7953\"], [0.7777777777777778, \"#fb9f3a\"], [0.8888888888888888, \"#fdca26\"], [1.0, \"#f0f921\"]], \"type\": \"histogram2d\"}], \"histogram2dcontour\": [{\"colorbar\": {\"outlinewidth\": 0, \"ticks\": \"\"}, \"colorscale\": [[0.0, \"#0d0887\"], [0.1111111111111111, \"#46039f\"], [0.2222222222222222, \"#7201a8\"], [0.3333333333333333, \"#9c179e\"], [0.4444444444444444, \"#bd3786\"], [0.5555555555555556, \"#d8576b\"], [0.6666666666666666, \"#ed7953\"], [0.7777777777777778, \"#fb9f3a\"], [0.8888888888888888, \"#fdca26\"], [1.0, \"#f0f921\"]], \"type\": \"histogram2dcontour\"}], \"mesh3d\": [{\"colorbar\": {\"outlinewidth\": 0, \"ticks\": \"\"}, \"type\": \"mesh3d\"}], \"parcoords\": [{\"line\": {\"colorbar\": {\"outlinewidth\": 0, \"ticks\": \"\"}}, \"type\": \"parcoords\"}], \"pie\": [{\"automargin\": true, \"type\": \"pie\"}], \"scatter\": [{\"marker\": {\"colorbar\": {\"outlinewidth\": 0, \"ticks\": \"\"}}, \"type\": \"scatter\"}], \"scatter3d\": [{\"line\": {\"colorbar\": {\"outlinewidth\": 0, \"ticks\": \"\"}}, \"marker\": {\"colorbar\": {\"outlinewidth\": 0, \"ticks\": \"\"}}, \"type\": \"scatter3d\"}], \"scattercarpet\": [{\"marker\": {\"colorbar\": {\"outlinewidth\": 0, \"ticks\": \"\"}}, \"type\": \"scattercarpet\"}], \"scattergeo\": [{\"marker\": {\"colorbar\": {\"outlinewidth\": 0, \"ticks\": \"\"}}, \"type\": \"scattergeo\"}], \"scattergl\": [{\"marker\": {\"colorbar\": {\"outlinewidth\": 0, \"ticks\": \"\"}}, \"type\": \"scattergl\"}], \"scattermapbox\": [{\"marker\": {\"colorbar\": {\"outlinewidth\": 0, \"ticks\": \"\"}}, \"type\": \"scattermapbox\"}], \"scatterpolar\": [{\"marker\": {\"colorbar\": {\"outlinewidth\": 0, \"ticks\": \"\"}}, \"type\": \"scatterpolar\"}], \"scatterpolargl\": [{\"marker\": {\"colorbar\": {\"outlinewidth\": 0, \"ticks\": \"\"}}, \"type\": \"scatterpolargl\"}], \"scatterternary\": [{\"marker\": {\"colorbar\": {\"outlinewidth\": 0, \"ticks\": \"\"}}, \"type\": \"scatterternary\"}], \"surface\": [{\"colorbar\": {\"outlinewidth\": 0, \"ticks\": \"\"}, \"colorscale\": [[0.0, \"#0d0887\"], [0.1111111111111111, \"#46039f\"], [0.2222222222222222, \"#7201a8\"], [0.3333333333333333, \"#9c179e\"], [0.4444444444444444, \"#bd3786\"], [0.5555555555555556, \"#d8576b\"], [0.6666666666666666, \"#ed7953\"], [0.7777777777777778, \"#fb9f3a\"], [0.8888888888888888, \"#fdca26\"], [1.0, \"#f0f921\"]], \"type\": \"surface\"}], \"table\": [{\"cells\": {\"fill\": {\"color\": \"#EBF0F8\"}, \"line\": {\"color\": \"white\"}}, \"header\": {\"fill\": {\"color\": \"#C8D4E3\"}, \"line\": {\"color\": \"white\"}}, \"type\": \"table\"}]}, \"layout\": {\"annotationdefaults\": {\"arrowcolor\": \"#2a3f5f\", \"arrowhead\": 0, \"arrowwidth\": 1}, \"autotypenumbers\": \"strict\", \"coloraxis\": {\"colorbar\": {\"outlinewidth\": 0, \"ticks\": \"\"}}, \"colorscale\": {\"diverging\": [[0, \"#8e0152\"], [0.1, \"#c51b7d\"], [0.2, \"#de77ae\"], [0.3, \"#f1b6da\"], [0.4, \"#fde0ef\"], [0.5, \"#f7f7f7\"], [0.6, \"#e6f5d0\"], [0.7, \"#b8e186\"], [0.8, \"#7fbc41\"], [0.9, \"#4d9221\"], [1, \"#276419\"]], \"sequential\": [[0.0, \"#0d0887\"], [0.1111111111111111, \"#46039f\"], [0.2222222222222222, \"#7201a8\"], [0.3333333333333333, \"#9c179e\"], [0.4444444444444444, \"#bd3786\"], [0.5555555555555556, \"#d8576b\"], [0.6666666666666666, \"#ed7953\"], [0.7777777777777778, \"#fb9f3a\"], [0.8888888888888888, \"#fdca26\"], [1.0, \"#f0f921\"]], \"sequentialminus\": [[0.0, \"#0d0887\"], [0.1111111111111111, \"#46039f\"], [0.2222222222222222, \"#7201a8\"], [0.3333333333333333, \"#9c179e\"], [0.4444444444444444, \"#bd3786\"], [0.5555555555555556, \"#d8576b\"], [0.6666666666666666, \"#ed7953\"], [0.7777777777777778, \"#fb9f3a\"], [0.8888888888888888, \"#fdca26\"], [1.0, \"#f0f921\"]]}, \"colorway\": [\"#636efa\", \"#EF553B\", \"#00cc96\", \"#ab63fa\", \"#FFA15A\", \"#19d3f3\", \"#FF6692\", \"#B6E880\", \"#FF97FF\", \"#FECB52\"], \"font\": {\"color\": \"#2a3f5f\"}, \"geo\": {\"bgcolor\": \"white\", \"lakecolor\": \"white\", \"landcolor\": \"#E5ECF6\", \"showlakes\": true, \"showland\": true, \"subunitcolor\": \"white\"}, \"hoverlabel\": {\"align\": \"left\"}, \"hovermode\": \"closest\", \"mapbox\": {\"style\": \"light\"}, \"paper_bgcolor\": \"white\", \"plot_bgcolor\": \"#E5ECF6\", \"polar\": {\"angularaxis\": {\"gridcolor\": \"white\", \"linecolor\": \"white\", \"ticks\": \"\"}, \"bgcolor\": \"#E5ECF6\", \"radialaxis\": {\"gridcolor\": \"white\", \"linecolor\": \"white\", \"ticks\": \"\"}}, \"scene\": {\"xaxis\": {\"backgroundcolor\": \"#E5ECF6\", \"gridcolor\": \"white\", \"gridwidth\": 2, \"linecolor\": \"white\", \"showbackground\": true, \"ticks\": \"\", \"zerolinecolor\": \"white\"}, \"yaxis\": {\"backgroundcolor\": \"#E5ECF6\", \"gridcolor\": \"white\", \"gridwidth\": 2, \"linecolor\": \"white\", \"showbackground\": true, \"ticks\": \"\", \"zerolinecolor\": \"white\"}, \"zaxis\": {\"backgroundcolor\": \"#E5ECF6\", \"gridcolor\": \"white\", \"gridwidth\": 2, \"linecolor\": \"white\", \"showbackground\": true, \"ticks\": \"\", \"zerolinecolor\": \"white\"}}, \"shapedefaults\": {\"line\": {\"color\": \"#2a3f5f\"}}, \"ternary\": {\"aaxis\": {\"gridcolor\": \"white\", \"linecolor\": \"white\", \"ticks\": \"\"}, \"baxis\": {\"gridcolor\": \"white\", \"linecolor\": \"white\", \"ticks\": \"\"}, \"bgcolor\": \"#E5ECF6\", \"caxis\": {\"gridcolor\": \"white\", \"linecolor\": \"white\", \"ticks\": \"\"}}, \"title\": {\"x\": 0.05}, \"xaxis\": {\"automargin\": true, \"gridcolor\": \"white\", \"linecolor\": \"white\", \"ticks\": \"\", \"title\": {\"standoff\": 15}, \"zerolinecolor\": \"white\", \"zerolinewidth\": 2}, \"yaxis\": {\"automargin\": true, \"gridcolor\": \"white\", \"linecolor\": \"white\", \"ticks\": \"\", \"title\": {\"standoff\": 15}, \"zerolinecolor\": \"white\", \"zerolinewidth\": 2}}}, \"title\": {\"text\": \"Comparison companies and Brazilian Highways\"}, \"xaxis\": {\"anchor\": \"y\", \"domain\": [0.0, 0.94], \"dtick\": 2, \"gridcolor\": \"black\", \"gridwidth\": 1, \"linecolor\": \"black\", \"linewidth\": 2, \"mirror\": true, \"showgrid\": true, \"showline\": true, \"tick0\": 0, \"tickmode\": \"linear\", \"title\": {\"text\": \"Time of day\"}}, \"yaxis\": {\"anchor\": \"x\", \"domain\": [0.0, 1.0], \"gridcolor\": \"black\", \"gridwidth\": 1, \"linecolor\": \"black\", \"linewidth\": 2, \"mirror\": true, \"showgrid\": false, \"showline\": true, \"title\": {\"text\": \"<b>Companies Rate</b>\"}}, \"yaxis2\": {\"anchor\": \"x\", \"gridcolor\": \"black\", \"gridwidth\": 1, \"linecolor\": \"black\", \"linewidth\": 2, \"mirror\": true, \"overlaying\": \"y\", \"showgrid\": false, \"showline\": true, \"side\": \"right\", \"title\": {\"text\": \"<b>Federal Highways</b>\"}}},                        {\"responsive\": true}                    ).then(function(){\n",
              "                            \n",
              "var gd = document.getElementById('0e0b4b8c-09a9-495d-9f0d-df822969dff9');\n",
              "var x = new MutationObserver(function (mutations, observer) {{\n",
              "        var display = window.getComputedStyle(gd).display;\n",
              "        if (!display || display === 'none') {{\n",
              "            console.log([gd, 'removed!']);\n",
              "            Plotly.purge(gd);\n",
              "            observer.disconnect();\n",
              "        }}\n",
              "}});\n",
              "\n",
              "// Listen for the removal of the full notebook cells\n",
              "var notebookContainer = gd.closest('#notebook-container');\n",
              "if (notebookContainer) {{\n",
              "    x.observe(notebookContainer, {childList: true});\n",
              "}}\n",
              "\n",
              "// Listen for the clearing of the current output cell\n",
              "var outputEl = gd.closest('.output');\n",
              "if (outputEl) {{\n",
              "    x.observe(outputEl, {childList: true});\n",
              "}}\n",
              "\n",
              "                        })                };                            </script>        </div>\n",
              "</body>\n",
              "</html>"
            ]
          },
          "metadata": {
            "tags": []
          }
        }
      ]
    },
    {
      "cell_type": "markdown",
      "metadata": {
        "id": "4HobNQlsUPip"
      },
      "source": [
        "## **Ajustando uma senóide**"
      ]
    },
    {
      "cell_type": "code",
      "metadata": {
        "id": "Bv2_WGrWUnOj"
      },
      "source": [
        "Nbins = 12\n",
        "X = np.linspace(0,24,Nbins)\n",
        "X = X[0:12]\n",
        "ys = cfedr\n",
        "acs = at9r/m9r"
      ],
      "execution_count": 300,
      "outputs": []
    },
    {
      "cell_type": "code",
      "metadata": {
        "id": "5iuPk8K1UNzF"
      },
      "source": [
        "def sinusoid(x,A,offset,omega,phase):\n",
        " return A*np.sin(2*np.pi*x/24+phase) + offset"
      ],
      "execution_count": 301,
      "outputs": []
    },
    {
      "cell_type": "code",
      "metadata": {
        "id": "J1g-4-2zUXLR"
      },
      "source": [
        "T = 24\n",
        "def get_p0(x, y): \n",
        " A0 = (max(y[0:T]) - min(y[0:T]))/2\n",
        " offset0 = y[0]\n",
        " phase0 = 0\n",
        " omega0 = 2.*np.pi/T\n",
        " return [A0, offset0, omega0, phase0]"
      ],
      "execution_count": 302,
      "outputs": []
    },
    {
      "cell_type": "code",
      "metadata": {
        "id": "JLa10mcTUks_",
        "colab": {
          "base_uri": "https://localhost:8080/"
        },
        "outputId": "fbb6c123-68c4-4871-d8a8-edcdd4c525bc"
      },
      "source": [
        "paramy, covariancey = curve_fit(sinusoid, X, ys, p0=get_p0(X,ys))\n",
        "parama, covariancea = curve_fit(sinusoid, X, acs, p0=get_p0(X,acs))"
      ],
      "execution_count": 303,
      "outputs": [
        {
          "output_type": "stream",
          "text": [
            "/usr/local/lib/python3.7/dist-packages/scipy/optimize/minpack.py:808: OptimizeWarning:\n",
            "\n",
            "Covariance of the parameters could not be estimated\n",
            "\n"
          ],
          "name": "stderr"
        }
      ]
    },
    {
      "cell_type": "code",
      "metadata": {
        "colab": {
          "base_uri": "https://localhost:8080/",
          "height": 542
        },
        "id": "Ol4hOI_iVNTR",
        "outputId": "d2e418ff-e41c-4803-8edd-440694ae6fe4"
      },
      "source": [
        "graphics_plot(y=[stats.zscore(sinusoid(X, *paramy)), stats.zscore(ys), stats.zscore(acs), \r\n",
        "                 stats.zscore(sinusoid(X, *parama))], \r\n",
        "              y_name=['Selected accidents - fit', 'Selected accidents - raw',\r\n",
        "                      'Federal Highways - raw', 'Federal Highways - fit'],\r\n",
        "              yaxes_title=['Fit'], title='Fitting an harmonic curve to the accidents',\r\n",
        "              bins=Nbins, x_tick=agr)"
      ],
      "execution_count": 304,
      "outputs": [
        {
          "output_type": "display_data",
          "data": {
            "text/html": [
              "<html>\n",
              "<head><meta charset=\"utf-8\" /></head>\n",
              "<body>\n",
              "    <div>            <script src=\"https://cdnjs.cloudflare.com/ajax/libs/mathjax/2.7.5/MathJax.js?config=TeX-AMS-MML_SVG\"></script><script type=\"text/javascript\">if (window.MathJax) {MathJax.Hub.Config({SVG: {font: \"STIX-Web\"}});}</script>                <script type=\"text/javascript\">window.PlotlyConfig = {MathJaxConfig: 'local'};</script>\n",
              "        <script src=\"https://cdn.plot.ly/plotly-latest.min.js\"></script>                <div id=\"e6611444-8169-4def-8b01-a0ec511f9f41\" class=\"plotly-graph-div\" style=\"height:525px; width:100%;\"></div>            <script type=\"text/javascript\">                                    window.PLOTLYENV=window.PLOTLYENV || {};                                    if (document.getElementById(\"e6611444-8169-4def-8b01-a0ec511f9f41\")) {                    Plotly.newPlot(                        \"e6611444-8169-4def-8b01-a0ec511f9f41\",                        [{\"line\": {\"color\": \"rgb(0, 0, 0)\", \"width\": 2}, \"marker\": {\"size\": 7, \"symbol\": \"circle\"}, \"mode\": \"lines+markers\", \"name\": \"Selected accidents - fit\", \"type\": \"scatter\", \"x\": [0.0, 2.1818181818181817, 4.363636363636363, 6.545454545454545, 8.727272727272727, 10.909090909090908, 13.09090909090909, 15.272727272727272, 17.454545454545453, 19.636363636363633, 21.818181818181817, 24.0], \"xaxis\": \"x\", \"y\": [1.2254375482469704, 1.1814415996178778, 0.7269764941375122, 0.006331691698898965, -0.7516931747565591, -1.3064305660770237, -1.481755280105354, -1.2220029589227877, -0.6096431291825899, 0.1609042899005252, 0.8449959371955699, 1.2254375482469697], \"yaxis\": \"y\"}, {\"line\": {\"color\": \"rgb(0, 0, 0)\", \"dash\": \"dash\", \"width\": 2}, \"marker\": {\"size\": 7, \"symbol\": \"star\"}, \"mode\": \"lines+markers\", \"name\": \"Selected accidents - raw\", \"type\": \"scatter\", \"x\": [0.0, 2.1818181818181817, 4.363636363636363, 6.545454545454545, 8.727272727272727, 10.909090909090908, 13.09090909090909, 15.272727272727272, 17.454545454545453, 19.636363636363633, 21.818181818181817, 24.0], \"xaxis\": \"x\", \"y\": [1.3497259124073242, 2.1087985412867885, 0.8747239618073904, -0.629553780613118, -0.9557814803464374, -1.0672175735061826, -1.1627446018170966, -0.7508751411100453, -0.46639581885876613, 0.22531858475655114, -0.09529167435441338, 0.5692930703480084], \"yaxis\": \"y\"}, {\"line\": {\"color\": \"rgb(0, 0, 0)\", \"dash\": \"dot\", \"width\": 2}, \"marker\": {\"size\": 7, \"symbol\": \"diamond\"}, \"mode\": \"lines+markers\", \"name\": \"Federal Highways - raw\", \"type\": \"scatter\", \"x\": [0.0, 2.1818181818181817, 4.363636363636363, 6.545454545454545, 8.727272727272727, 10.909090909090908, 13.09090909090909, 15.272727272727272, 17.454545454545453, 19.636363636363633, 21.818181818181817, 24.0], \"xaxis\": \"x\", \"y\": [0.40505753287338364, 2.8181648250457303, -0.7865476609603943, 0.12558646902425882, 0.09249898577785058, -0.07350298771265974, 0.1544180702956321, -0.557100782737124, -0.5597971125084796, -1.3796046237901087, -0.6966468989366226, 0.45747418362853526], \"yaxis\": \"y\"}, {\"line\": {\"color\": \"rgb(0, 0, 0)\", \"dash\": \"dashdot\", \"width\": 2}, \"marker\": {\"size\": 7, \"symbol\": \"x\"}, \"mode\": \"lines+markers\", \"name\": \"Federal Highways - fit\", \"type\": \"scatter\", \"x\": [0.0, 2.1818181818181817, 4.363636363636363, 6.545454545454545, 8.727272727272727, 10.909090909090908, 13.09090909090909, 15.272727272727272, 17.454545454545453, 19.636363636363633, 21.818181818181817, 24.0], \"xaxis\": \"x\", \"y\": [0.588508155841277, 1.1916971753244812, 1.3995446543829795, 1.146060486995809, 0.5117241052748558, -0.3020671715901753, -1.036940363169033, -1.4595784235012805, -1.4357967546492645, -0.9731458684402599, -0.21851415231066826, 0.588508155841277], \"yaxis\": \"y\"}],                        {\"legend\": {\"orientation\": \"h\", \"x\": 0.95, \"xanchor\": \"right\", \"y\": 1.01, \"yanchor\": \"bottom\"}, \"paper_bgcolor\": \"rgba(0,0,0,0)\", \"plot_bgcolor\": \"rgba(0,0,0,0)\", \"template\": {\"data\": {\"bar\": [{\"error_x\": {\"color\": \"#2a3f5f\"}, \"error_y\": {\"color\": \"#2a3f5f\"}, \"marker\": {\"line\": {\"color\": \"#E5ECF6\", \"width\": 0.5}}, \"type\": \"bar\"}], \"barpolar\": [{\"marker\": {\"line\": {\"color\": \"#E5ECF6\", \"width\": 0.5}}, \"type\": \"barpolar\"}], \"carpet\": [{\"aaxis\": {\"endlinecolor\": \"#2a3f5f\", \"gridcolor\": \"white\", \"linecolor\": \"white\", \"minorgridcolor\": \"white\", \"startlinecolor\": \"#2a3f5f\"}, \"baxis\": {\"endlinecolor\": \"#2a3f5f\", \"gridcolor\": \"white\", \"linecolor\": \"white\", \"minorgridcolor\": \"white\", \"startlinecolor\": \"#2a3f5f\"}, \"type\": \"carpet\"}], \"choropleth\": [{\"colorbar\": {\"outlinewidth\": 0, \"ticks\": \"\"}, \"type\": \"choropleth\"}], \"contour\": [{\"colorbar\": {\"outlinewidth\": 0, \"ticks\": \"\"}, \"colorscale\": [[0.0, \"#0d0887\"], [0.1111111111111111, \"#46039f\"], [0.2222222222222222, \"#7201a8\"], [0.3333333333333333, \"#9c179e\"], [0.4444444444444444, \"#bd3786\"], [0.5555555555555556, \"#d8576b\"], [0.6666666666666666, \"#ed7953\"], [0.7777777777777778, \"#fb9f3a\"], [0.8888888888888888, \"#fdca26\"], [1.0, \"#f0f921\"]], \"type\": \"contour\"}], \"contourcarpet\": [{\"colorbar\": {\"outlinewidth\": 0, \"ticks\": \"\"}, \"type\": \"contourcarpet\"}], \"heatmap\": [{\"colorbar\": {\"outlinewidth\": 0, \"ticks\": \"\"}, \"colorscale\": [[0.0, \"#0d0887\"], [0.1111111111111111, \"#46039f\"], [0.2222222222222222, \"#7201a8\"], [0.3333333333333333, \"#9c179e\"], [0.4444444444444444, \"#bd3786\"], [0.5555555555555556, \"#d8576b\"], [0.6666666666666666, \"#ed7953\"], [0.7777777777777778, \"#fb9f3a\"], [0.8888888888888888, \"#fdca26\"], [1.0, \"#f0f921\"]], \"type\": \"heatmap\"}], \"heatmapgl\": [{\"colorbar\": {\"outlinewidth\": 0, \"ticks\": \"\"}, \"colorscale\": [[0.0, \"#0d0887\"], [0.1111111111111111, \"#46039f\"], [0.2222222222222222, \"#7201a8\"], [0.3333333333333333, \"#9c179e\"], [0.4444444444444444, \"#bd3786\"], [0.5555555555555556, \"#d8576b\"], [0.6666666666666666, \"#ed7953\"], [0.7777777777777778, \"#fb9f3a\"], [0.8888888888888888, \"#fdca26\"], [1.0, \"#f0f921\"]], \"type\": \"heatmapgl\"}], \"histogram\": [{\"marker\": {\"colorbar\": {\"outlinewidth\": 0, \"ticks\": \"\"}}, \"type\": \"histogram\"}], \"histogram2d\": [{\"colorbar\": {\"outlinewidth\": 0, \"ticks\": \"\"}, \"colorscale\": [[0.0, \"#0d0887\"], [0.1111111111111111, \"#46039f\"], [0.2222222222222222, \"#7201a8\"], [0.3333333333333333, \"#9c179e\"], [0.4444444444444444, \"#bd3786\"], [0.5555555555555556, \"#d8576b\"], [0.6666666666666666, \"#ed7953\"], [0.7777777777777778, \"#fb9f3a\"], [0.8888888888888888, \"#fdca26\"], [1.0, \"#f0f921\"]], \"type\": \"histogram2d\"}], \"histogram2dcontour\": [{\"colorbar\": {\"outlinewidth\": 0, \"ticks\": \"\"}, \"colorscale\": [[0.0, \"#0d0887\"], [0.1111111111111111, \"#46039f\"], [0.2222222222222222, \"#7201a8\"], [0.3333333333333333, \"#9c179e\"], [0.4444444444444444, \"#bd3786\"], [0.5555555555555556, \"#d8576b\"], [0.6666666666666666, \"#ed7953\"], [0.7777777777777778, \"#fb9f3a\"], [0.8888888888888888, \"#fdca26\"], [1.0, \"#f0f921\"]], \"type\": \"histogram2dcontour\"}], \"mesh3d\": [{\"colorbar\": {\"outlinewidth\": 0, \"ticks\": \"\"}, \"type\": \"mesh3d\"}], \"parcoords\": [{\"line\": {\"colorbar\": {\"outlinewidth\": 0, \"ticks\": \"\"}}, \"type\": \"parcoords\"}], \"pie\": [{\"automargin\": true, \"type\": \"pie\"}], \"scatter\": [{\"marker\": {\"colorbar\": {\"outlinewidth\": 0, \"ticks\": \"\"}}, \"type\": \"scatter\"}], \"scatter3d\": [{\"line\": {\"colorbar\": {\"outlinewidth\": 0, \"ticks\": \"\"}}, \"marker\": {\"colorbar\": {\"outlinewidth\": 0, \"ticks\": \"\"}}, \"type\": \"scatter3d\"}], \"scattercarpet\": [{\"marker\": {\"colorbar\": {\"outlinewidth\": 0, \"ticks\": \"\"}}, \"type\": \"scattercarpet\"}], \"scattergeo\": [{\"marker\": {\"colorbar\": {\"outlinewidth\": 0, \"ticks\": \"\"}}, \"type\": \"scattergeo\"}], \"scattergl\": [{\"marker\": {\"colorbar\": {\"outlinewidth\": 0, \"ticks\": \"\"}}, \"type\": \"scattergl\"}], \"scattermapbox\": [{\"marker\": {\"colorbar\": {\"outlinewidth\": 0, \"ticks\": \"\"}}, \"type\": \"scattermapbox\"}], \"scatterpolar\": [{\"marker\": {\"colorbar\": {\"outlinewidth\": 0, \"ticks\": \"\"}}, \"type\": \"scatterpolar\"}], \"scatterpolargl\": [{\"marker\": {\"colorbar\": {\"outlinewidth\": 0, \"ticks\": \"\"}}, \"type\": \"scatterpolargl\"}], \"scatterternary\": [{\"marker\": {\"colorbar\": {\"outlinewidth\": 0, \"ticks\": \"\"}}, \"type\": \"scatterternary\"}], \"surface\": [{\"colorbar\": {\"outlinewidth\": 0, \"ticks\": \"\"}, \"colorscale\": [[0.0, \"#0d0887\"], [0.1111111111111111, \"#46039f\"], [0.2222222222222222, \"#7201a8\"], [0.3333333333333333, \"#9c179e\"], [0.4444444444444444, \"#bd3786\"], [0.5555555555555556, \"#d8576b\"], [0.6666666666666666, \"#ed7953\"], [0.7777777777777778, \"#fb9f3a\"], [0.8888888888888888, \"#fdca26\"], [1.0, \"#f0f921\"]], \"type\": \"surface\"}], \"table\": [{\"cells\": {\"fill\": {\"color\": \"#EBF0F8\"}, \"line\": {\"color\": \"white\"}}, \"header\": {\"fill\": {\"color\": \"#C8D4E3\"}, \"line\": {\"color\": \"white\"}}, \"type\": \"table\"}]}, \"layout\": {\"annotationdefaults\": {\"arrowcolor\": \"#2a3f5f\", \"arrowhead\": 0, \"arrowwidth\": 1}, \"autotypenumbers\": \"strict\", \"coloraxis\": {\"colorbar\": {\"outlinewidth\": 0, \"ticks\": \"\"}}, \"colorscale\": {\"diverging\": [[0, \"#8e0152\"], [0.1, \"#c51b7d\"], [0.2, \"#de77ae\"], [0.3, \"#f1b6da\"], [0.4, \"#fde0ef\"], [0.5, \"#f7f7f7\"], [0.6, \"#e6f5d0\"], [0.7, \"#b8e186\"], [0.8, \"#7fbc41\"], [0.9, \"#4d9221\"], [1, \"#276419\"]], \"sequential\": [[0.0, \"#0d0887\"], [0.1111111111111111, \"#46039f\"], [0.2222222222222222, \"#7201a8\"], [0.3333333333333333, \"#9c179e\"], [0.4444444444444444, \"#bd3786\"], [0.5555555555555556, \"#d8576b\"], [0.6666666666666666, \"#ed7953\"], [0.7777777777777778, \"#fb9f3a\"], [0.8888888888888888, \"#fdca26\"], [1.0, \"#f0f921\"]], \"sequentialminus\": [[0.0, \"#0d0887\"], [0.1111111111111111, \"#46039f\"], [0.2222222222222222, \"#7201a8\"], [0.3333333333333333, \"#9c179e\"], [0.4444444444444444, \"#bd3786\"], [0.5555555555555556, \"#d8576b\"], [0.6666666666666666, \"#ed7953\"], [0.7777777777777778, \"#fb9f3a\"], [0.8888888888888888, \"#fdca26\"], [1.0, \"#f0f921\"]]}, \"colorway\": [\"#636efa\", \"#EF553B\", \"#00cc96\", \"#ab63fa\", \"#FFA15A\", \"#19d3f3\", \"#FF6692\", \"#B6E880\", \"#FF97FF\", \"#FECB52\"], \"font\": {\"color\": \"#2a3f5f\"}, \"geo\": {\"bgcolor\": \"white\", \"lakecolor\": \"white\", \"landcolor\": \"#E5ECF6\", \"showlakes\": true, \"showland\": true, \"subunitcolor\": \"white\"}, \"hoverlabel\": {\"align\": \"left\"}, \"hovermode\": \"closest\", \"mapbox\": {\"style\": \"light\"}, \"paper_bgcolor\": \"white\", \"plot_bgcolor\": \"#E5ECF6\", \"polar\": {\"angularaxis\": {\"gridcolor\": \"white\", \"linecolor\": \"white\", \"ticks\": \"\"}, \"bgcolor\": \"#E5ECF6\", \"radialaxis\": {\"gridcolor\": \"white\", \"linecolor\": \"white\", \"ticks\": \"\"}}, \"scene\": {\"xaxis\": {\"backgroundcolor\": \"#E5ECF6\", \"gridcolor\": \"white\", \"gridwidth\": 2, \"linecolor\": \"white\", \"showbackground\": true, \"ticks\": \"\", \"zerolinecolor\": \"white\"}, \"yaxis\": {\"backgroundcolor\": \"#E5ECF6\", \"gridcolor\": \"white\", \"gridwidth\": 2, \"linecolor\": \"white\", \"showbackground\": true, \"ticks\": \"\", \"zerolinecolor\": \"white\"}, \"zaxis\": {\"backgroundcolor\": \"#E5ECF6\", \"gridcolor\": \"white\", \"gridwidth\": 2, \"linecolor\": \"white\", \"showbackground\": true, \"ticks\": \"\", \"zerolinecolor\": \"white\"}}, \"shapedefaults\": {\"line\": {\"color\": \"#2a3f5f\"}}, \"ternary\": {\"aaxis\": {\"gridcolor\": \"white\", \"linecolor\": \"white\", \"ticks\": \"\"}, \"baxis\": {\"gridcolor\": \"white\", \"linecolor\": \"white\", \"ticks\": \"\"}, \"bgcolor\": \"#E5ECF6\", \"caxis\": {\"gridcolor\": \"white\", \"linecolor\": \"white\", \"ticks\": \"\"}}, \"title\": {\"x\": 0.05}, \"xaxis\": {\"automargin\": true, \"gridcolor\": \"white\", \"linecolor\": \"white\", \"ticks\": \"\", \"title\": {\"standoff\": 15}, \"zerolinecolor\": \"white\", \"zerolinewidth\": 2}, \"yaxis\": {\"automargin\": true, \"gridcolor\": \"white\", \"linecolor\": \"white\", \"ticks\": \"\", \"title\": {\"standoff\": 15}, \"zerolinecolor\": \"white\", \"zerolinewidth\": 2}}}, \"title\": {\"text\": \"Fitting an harmonic curve to the accidents\"}, \"xaxis\": {\"anchor\": \"y\", \"domain\": [0.0, 0.94], \"dtick\": 2, \"gridcolor\": \"black\", \"gridwidth\": 1, \"linecolor\": \"black\", \"linewidth\": 2, \"mirror\": true, \"showgrid\": true, \"showline\": true, \"tick0\": 0, \"tickmode\": \"linear\", \"title\": {\"text\": \"Time of day\"}}, \"yaxis\": {\"anchor\": \"x\", \"domain\": [0.0, 1.0], \"gridcolor\": \"black\", \"gridwidth\": 1, \"linecolor\": \"black\", \"linewidth\": 2, \"mirror\": true, \"showgrid\": false, \"showline\": true, \"title\": {\"text\": \"<b>Fit</b>\"}}, \"yaxis2\": {\"anchor\": \"x\", \"gridcolor\": \"black\", \"gridwidth\": 1, \"linecolor\": \"black\", \"linewidth\": 2, \"mirror\": true, \"overlaying\": \"y\", \"showgrid\": false, \"showline\": true, \"side\": \"right\"}},                        {\"responsive\": true}                    ).then(function(){\n",
              "                            \n",
              "var gd = document.getElementById('e6611444-8169-4def-8b01-a0ec511f9f41');\n",
              "var x = new MutationObserver(function (mutations, observer) {{\n",
              "        var display = window.getComputedStyle(gd).display;\n",
              "        if (!display || display === 'none') {{\n",
              "            console.log([gd, 'removed!']);\n",
              "            Plotly.purge(gd);\n",
              "            observer.disconnect();\n",
              "        }}\n",
              "}});\n",
              "\n",
              "// Listen for the removal of the full notebook cells\n",
              "var notebookContainer = gd.closest('#notebook-container');\n",
              "if (notebookContainer) {{\n",
              "    x.observe(notebookContainer, {childList: true});\n",
              "}}\n",
              "\n",
              "// Listen for the clearing of the current output cell\n",
              "var outputEl = gd.closest('.output');\n",
              "if (outputEl) {{\n",
              "    x.observe(outputEl, {childList: true});\n",
              "}}\n",
              "\n",
              "                        })                };                            </script>        </div>\n",
              "</body>\n",
              "</html>"
            ]
          },
          "metadata": {
            "tags": []
          }
        }
      ]
    },
    {
      "cell_type": "code",
      "metadata": {
        "colab": {
          "base_uri": "https://localhost:8080/",
          "height": 542
        },
        "id": "gQCIe-shxPZA",
        "outputId": "8c32f032-d72c-4693-9cc1-2570e0c44dee"
      },
      "source": [
        "#1\r\n",
        "graphics_plot(y=[stats.zscore(ys), stats.zscore(sinusoid(X, *paramy))], \r\n",
        "              y_name=['Selected accidents - fit', 'Selected accidents - raw'],\r\n",
        "              yaxes_title=['Z-Score'], title='Fitting an harmonic curve to the accidents',\r\n",
        "              bins=Nbins, x_tick=agr)"
      ],
      "execution_count": 305,
      "outputs": [
        {
          "output_type": "display_data",
          "data": {
            "text/html": [
              "<html>\n",
              "<head><meta charset=\"utf-8\" /></head>\n",
              "<body>\n",
              "    <div>            <script src=\"https://cdnjs.cloudflare.com/ajax/libs/mathjax/2.7.5/MathJax.js?config=TeX-AMS-MML_SVG\"></script><script type=\"text/javascript\">if (window.MathJax) {MathJax.Hub.Config({SVG: {font: \"STIX-Web\"}});}</script>                <script type=\"text/javascript\">window.PlotlyConfig = {MathJaxConfig: 'local'};</script>\n",
              "        <script src=\"https://cdn.plot.ly/plotly-latest.min.js\"></script>                <div id=\"04827a22-5555-40a2-8b76-ea60cd494f07\" class=\"plotly-graph-div\" style=\"height:525px; width:100%;\"></div>            <script type=\"text/javascript\">                                    window.PLOTLYENV=window.PLOTLYENV || {};                                    if (document.getElementById(\"04827a22-5555-40a2-8b76-ea60cd494f07\")) {                    Plotly.newPlot(                        \"04827a22-5555-40a2-8b76-ea60cd494f07\",                        [{\"line\": {\"color\": \"rgb(0, 0, 0)\", \"width\": 2}, \"marker\": {\"size\": 7, \"symbol\": \"circle\"}, \"mode\": \"lines+markers\", \"name\": \"Selected accidents - fit\", \"type\": \"scatter\", \"x\": [0.0, 2.1818181818181817, 4.363636363636363, 6.545454545454545, 8.727272727272727, 10.909090909090908, 13.09090909090909, 15.272727272727272, 17.454545454545453, 19.636363636363633, 21.818181818181817, 24.0], \"xaxis\": \"x\", \"y\": [1.3497259124073242, 2.1087985412867885, 0.8747239618073904, -0.629553780613118, -0.9557814803464374, -1.0672175735061826, -1.1627446018170966, -0.7508751411100453, -0.46639581885876613, 0.22531858475655114, -0.09529167435441338, 0.5692930703480084], \"yaxis\": \"y\"}, {\"line\": {\"color\": \"rgb(0, 0, 0)\", \"dash\": \"dash\", \"width\": 2}, \"marker\": {\"size\": 7, \"symbol\": \"star\"}, \"mode\": \"lines+markers\", \"name\": \"Selected accidents - raw\", \"type\": \"scatter\", \"x\": [0.0, 2.1818181818181817, 4.363636363636363, 6.545454545454545, 8.727272727272727, 10.909090909090908, 13.09090909090909, 15.272727272727272, 17.454545454545453, 19.636363636363633, 21.818181818181817, 24.0], \"xaxis\": \"x\", \"y\": [1.2254375482469704, 1.1814415996178778, 0.7269764941375122, 0.006331691698898965, -0.7516931747565591, -1.3064305660770237, -1.481755280105354, -1.2220029589227877, -0.6096431291825899, 0.1609042899005252, 0.8449959371955699, 1.2254375482469697], \"yaxis\": \"y\"}],                        {\"legend\": {\"orientation\": \"h\", \"x\": 0.95, \"xanchor\": \"right\", \"y\": 1.01, \"yanchor\": \"bottom\"}, \"paper_bgcolor\": \"rgba(0,0,0,0)\", \"plot_bgcolor\": \"rgba(0,0,0,0)\", \"template\": {\"data\": {\"bar\": [{\"error_x\": {\"color\": \"#2a3f5f\"}, \"error_y\": {\"color\": \"#2a3f5f\"}, \"marker\": {\"line\": {\"color\": \"#E5ECF6\", \"width\": 0.5}}, \"type\": \"bar\"}], \"barpolar\": [{\"marker\": {\"line\": {\"color\": \"#E5ECF6\", \"width\": 0.5}}, \"type\": \"barpolar\"}], \"carpet\": [{\"aaxis\": {\"endlinecolor\": \"#2a3f5f\", \"gridcolor\": \"white\", \"linecolor\": \"white\", \"minorgridcolor\": \"white\", \"startlinecolor\": \"#2a3f5f\"}, \"baxis\": {\"endlinecolor\": \"#2a3f5f\", \"gridcolor\": \"white\", \"linecolor\": \"white\", \"minorgridcolor\": \"white\", \"startlinecolor\": \"#2a3f5f\"}, \"type\": \"carpet\"}], \"choropleth\": [{\"colorbar\": {\"outlinewidth\": 0, \"ticks\": \"\"}, \"type\": \"choropleth\"}], \"contour\": [{\"colorbar\": {\"outlinewidth\": 0, \"ticks\": \"\"}, \"colorscale\": [[0.0, \"#0d0887\"], [0.1111111111111111, \"#46039f\"], [0.2222222222222222, \"#7201a8\"], [0.3333333333333333, \"#9c179e\"], [0.4444444444444444, \"#bd3786\"], [0.5555555555555556, \"#d8576b\"], [0.6666666666666666, \"#ed7953\"], [0.7777777777777778, \"#fb9f3a\"], [0.8888888888888888, \"#fdca26\"], [1.0, \"#f0f921\"]], \"type\": \"contour\"}], \"contourcarpet\": [{\"colorbar\": {\"outlinewidth\": 0, \"ticks\": \"\"}, \"type\": \"contourcarpet\"}], \"heatmap\": [{\"colorbar\": {\"outlinewidth\": 0, \"ticks\": \"\"}, \"colorscale\": [[0.0, \"#0d0887\"], [0.1111111111111111, \"#46039f\"], [0.2222222222222222, \"#7201a8\"], [0.3333333333333333, \"#9c179e\"], [0.4444444444444444, \"#bd3786\"], [0.5555555555555556, \"#d8576b\"], [0.6666666666666666, \"#ed7953\"], [0.7777777777777778, \"#fb9f3a\"], [0.8888888888888888, \"#fdca26\"], [1.0, \"#f0f921\"]], \"type\": \"heatmap\"}], \"heatmapgl\": [{\"colorbar\": {\"outlinewidth\": 0, \"ticks\": \"\"}, \"colorscale\": [[0.0, \"#0d0887\"], [0.1111111111111111, \"#46039f\"], [0.2222222222222222, \"#7201a8\"], [0.3333333333333333, \"#9c179e\"], [0.4444444444444444, \"#bd3786\"], [0.5555555555555556, \"#d8576b\"], [0.6666666666666666, \"#ed7953\"], [0.7777777777777778, \"#fb9f3a\"], [0.8888888888888888, \"#fdca26\"], [1.0, \"#f0f921\"]], \"type\": \"heatmapgl\"}], \"histogram\": [{\"marker\": {\"colorbar\": {\"outlinewidth\": 0, \"ticks\": \"\"}}, \"type\": \"histogram\"}], \"histogram2d\": [{\"colorbar\": {\"outlinewidth\": 0, \"ticks\": \"\"}, \"colorscale\": [[0.0, \"#0d0887\"], [0.1111111111111111, \"#46039f\"], [0.2222222222222222, \"#7201a8\"], [0.3333333333333333, \"#9c179e\"], [0.4444444444444444, \"#bd3786\"], [0.5555555555555556, \"#d8576b\"], [0.6666666666666666, \"#ed7953\"], [0.7777777777777778, \"#fb9f3a\"], [0.8888888888888888, \"#fdca26\"], [1.0, \"#f0f921\"]], \"type\": \"histogram2d\"}], \"histogram2dcontour\": [{\"colorbar\": {\"outlinewidth\": 0, \"ticks\": \"\"}, \"colorscale\": [[0.0, \"#0d0887\"], [0.1111111111111111, \"#46039f\"], [0.2222222222222222, \"#7201a8\"], [0.3333333333333333, \"#9c179e\"], [0.4444444444444444, \"#bd3786\"], [0.5555555555555556, \"#d8576b\"], [0.6666666666666666, \"#ed7953\"], [0.7777777777777778, \"#fb9f3a\"], [0.8888888888888888, \"#fdca26\"], [1.0, \"#f0f921\"]], \"type\": \"histogram2dcontour\"}], \"mesh3d\": [{\"colorbar\": {\"outlinewidth\": 0, \"ticks\": \"\"}, \"type\": \"mesh3d\"}], \"parcoords\": [{\"line\": {\"colorbar\": {\"outlinewidth\": 0, \"ticks\": \"\"}}, \"type\": \"parcoords\"}], \"pie\": [{\"automargin\": true, \"type\": \"pie\"}], \"scatter\": [{\"marker\": {\"colorbar\": {\"outlinewidth\": 0, \"ticks\": \"\"}}, \"type\": \"scatter\"}], \"scatter3d\": [{\"line\": {\"colorbar\": {\"outlinewidth\": 0, \"ticks\": \"\"}}, \"marker\": {\"colorbar\": {\"outlinewidth\": 0, \"ticks\": \"\"}}, \"type\": \"scatter3d\"}], \"scattercarpet\": [{\"marker\": {\"colorbar\": {\"outlinewidth\": 0, \"ticks\": \"\"}}, \"type\": \"scattercarpet\"}], \"scattergeo\": [{\"marker\": {\"colorbar\": {\"outlinewidth\": 0, \"ticks\": \"\"}}, \"type\": \"scattergeo\"}], \"scattergl\": [{\"marker\": {\"colorbar\": {\"outlinewidth\": 0, \"ticks\": \"\"}}, \"type\": \"scattergl\"}], \"scattermapbox\": [{\"marker\": {\"colorbar\": {\"outlinewidth\": 0, \"ticks\": \"\"}}, \"type\": \"scattermapbox\"}], \"scatterpolar\": [{\"marker\": {\"colorbar\": {\"outlinewidth\": 0, \"ticks\": \"\"}}, \"type\": \"scatterpolar\"}], \"scatterpolargl\": [{\"marker\": {\"colorbar\": {\"outlinewidth\": 0, \"ticks\": \"\"}}, \"type\": \"scatterpolargl\"}], \"scatterternary\": [{\"marker\": {\"colorbar\": {\"outlinewidth\": 0, \"ticks\": \"\"}}, \"type\": \"scatterternary\"}], \"surface\": [{\"colorbar\": {\"outlinewidth\": 0, \"ticks\": \"\"}, \"colorscale\": [[0.0, \"#0d0887\"], [0.1111111111111111, \"#46039f\"], [0.2222222222222222, \"#7201a8\"], [0.3333333333333333, \"#9c179e\"], [0.4444444444444444, \"#bd3786\"], [0.5555555555555556, \"#d8576b\"], [0.6666666666666666, \"#ed7953\"], [0.7777777777777778, \"#fb9f3a\"], [0.8888888888888888, \"#fdca26\"], [1.0, \"#f0f921\"]], \"type\": \"surface\"}], \"table\": [{\"cells\": {\"fill\": {\"color\": \"#EBF0F8\"}, \"line\": {\"color\": \"white\"}}, \"header\": {\"fill\": {\"color\": \"#C8D4E3\"}, \"line\": {\"color\": \"white\"}}, \"type\": \"table\"}]}, \"layout\": {\"annotationdefaults\": {\"arrowcolor\": \"#2a3f5f\", \"arrowhead\": 0, \"arrowwidth\": 1}, \"autotypenumbers\": \"strict\", \"coloraxis\": {\"colorbar\": {\"outlinewidth\": 0, \"ticks\": \"\"}}, \"colorscale\": {\"diverging\": [[0, \"#8e0152\"], [0.1, \"#c51b7d\"], [0.2, \"#de77ae\"], [0.3, \"#f1b6da\"], [0.4, \"#fde0ef\"], [0.5, \"#f7f7f7\"], [0.6, \"#e6f5d0\"], [0.7, \"#b8e186\"], [0.8, \"#7fbc41\"], [0.9, \"#4d9221\"], [1, \"#276419\"]], \"sequential\": [[0.0, \"#0d0887\"], [0.1111111111111111, \"#46039f\"], [0.2222222222222222, \"#7201a8\"], [0.3333333333333333, \"#9c179e\"], [0.4444444444444444, \"#bd3786\"], [0.5555555555555556, \"#d8576b\"], [0.6666666666666666, \"#ed7953\"], [0.7777777777777778, \"#fb9f3a\"], [0.8888888888888888, \"#fdca26\"], [1.0, \"#f0f921\"]], \"sequentialminus\": [[0.0, \"#0d0887\"], [0.1111111111111111, \"#46039f\"], [0.2222222222222222, \"#7201a8\"], [0.3333333333333333, \"#9c179e\"], [0.4444444444444444, \"#bd3786\"], [0.5555555555555556, \"#d8576b\"], [0.6666666666666666, \"#ed7953\"], [0.7777777777777778, \"#fb9f3a\"], [0.8888888888888888, \"#fdca26\"], [1.0, \"#f0f921\"]]}, \"colorway\": [\"#636efa\", \"#EF553B\", \"#00cc96\", \"#ab63fa\", \"#FFA15A\", \"#19d3f3\", \"#FF6692\", \"#B6E880\", \"#FF97FF\", \"#FECB52\"], \"font\": {\"color\": \"#2a3f5f\"}, \"geo\": {\"bgcolor\": \"white\", \"lakecolor\": \"white\", \"landcolor\": \"#E5ECF6\", \"showlakes\": true, \"showland\": true, \"subunitcolor\": \"white\"}, \"hoverlabel\": {\"align\": \"left\"}, \"hovermode\": \"closest\", \"mapbox\": {\"style\": \"light\"}, \"paper_bgcolor\": \"white\", \"plot_bgcolor\": \"#E5ECF6\", \"polar\": {\"angularaxis\": {\"gridcolor\": \"white\", \"linecolor\": \"white\", \"ticks\": \"\"}, \"bgcolor\": \"#E5ECF6\", \"radialaxis\": {\"gridcolor\": \"white\", \"linecolor\": \"white\", \"ticks\": \"\"}}, \"scene\": {\"xaxis\": {\"backgroundcolor\": \"#E5ECF6\", \"gridcolor\": \"white\", \"gridwidth\": 2, \"linecolor\": \"white\", \"showbackground\": true, \"ticks\": \"\", \"zerolinecolor\": \"white\"}, \"yaxis\": {\"backgroundcolor\": \"#E5ECF6\", \"gridcolor\": \"white\", \"gridwidth\": 2, \"linecolor\": \"white\", \"showbackground\": true, \"ticks\": \"\", \"zerolinecolor\": \"white\"}, \"zaxis\": {\"backgroundcolor\": \"#E5ECF6\", \"gridcolor\": \"white\", \"gridwidth\": 2, \"linecolor\": \"white\", \"showbackground\": true, \"ticks\": \"\", \"zerolinecolor\": \"white\"}}, \"shapedefaults\": {\"line\": {\"color\": \"#2a3f5f\"}}, \"ternary\": {\"aaxis\": {\"gridcolor\": \"white\", \"linecolor\": \"white\", \"ticks\": \"\"}, \"baxis\": {\"gridcolor\": \"white\", \"linecolor\": \"white\", \"ticks\": \"\"}, \"bgcolor\": \"#E5ECF6\", \"caxis\": {\"gridcolor\": \"white\", \"linecolor\": \"white\", \"ticks\": \"\"}}, \"title\": {\"x\": 0.05}, \"xaxis\": {\"automargin\": true, \"gridcolor\": \"white\", \"linecolor\": \"white\", \"ticks\": \"\", \"title\": {\"standoff\": 15}, \"zerolinecolor\": \"white\", \"zerolinewidth\": 2}, \"yaxis\": {\"automargin\": true, \"gridcolor\": \"white\", \"linecolor\": \"white\", \"ticks\": \"\", \"title\": {\"standoff\": 15}, \"zerolinecolor\": \"white\", \"zerolinewidth\": 2}}}, \"title\": {\"text\": \"Fitting an harmonic curve to the accidents\"}, \"xaxis\": {\"anchor\": \"y\", \"domain\": [0.0, 0.94], \"dtick\": 2, \"gridcolor\": \"black\", \"gridwidth\": 1, \"linecolor\": \"black\", \"linewidth\": 2, \"mirror\": true, \"showgrid\": true, \"showline\": true, \"tick0\": 0, \"tickmode\": \"linear\", \"title\": {\"text\": \"Time of day\"}}, \"yaxis\": {\"anchor\": \"x\", \"domain\": [0.0, 1.0], \"gridcolor\": \"black\", \"gridwidth\": 1, \"linecolor\": \"black\", \"linewidth\": 2, \"mirror\": true, \"showgrid\": false, \"showline\": true, \"title\": {\"text\": \"<b>Z-Score</b>\"}}, \"yaxis2\": {\"anchor\": \"x\", \"gridcolor\": \"black\", \"gridwidth\": 1, \"linecolor\": \"black\", \"linewidth\": 2, \"mirror\": true, \"overlaying\": \"y\", \"showgrid\": false, \"showline\": true, \"side\": \"right\"}},                        {\"responsive\": true}                    ).then(function(){\n",
              "                            \n",
              "var gd = document.getElementById('04827a22-5555-40a2-8b76-ea60cd494f07');\n",
              "var x = new MutationObserver(function (mutations, observer) {{\n",
              "        var display = window.getComputedStyle(gd).display;\n",
              "        if (!display || display === 'none') {{\n",
              "            console.log([gd, 'removed!']);\n",
              "            Plotly.purge(gd);\n",
              "            observer.disconnect();\n",
              "        }}\n",
              "}});\n",
              "\n",
              "// Listen for the removal of the full notebook cells\n",
              "var notebookContainer = gd.closest('#notebook-container');\n",
              "if (notebookContainer) {{\n",
              "    x.observe(notebookContainer, {childList: true});\n",
              "}}\n",
              "\n",
              "// Listen for the clearing of the current output cell\n",
              "var outputEl = gd.closest('.output');\n",
              "if (outputEl) {{\n",
              "    x.observe(outputEl, {childList: true});\n",
              "}}\n",
              "\n",
              "                        })                };                            </script>        </div>\n",
              "</body>\n",
              "</html>"
            ]
          },
          "metadata": {
            "tags": []
          }
        }
      ]
    },
    {
      "cell_type": "code",
      "metadata": {
        "colab": {
          "base_uri": "https://localhost:8080/"
        },
        "id": "FFdPqHAUGujO",
        "outputId": "9f82d224-1e27-4285-a950-a8e16c717fbe"
      },
      "source": [
        "Y = stats.zscore(ys)\n",
        "X_m = stats.zscore(sinusoid(X, *paramy))\n",
        "X_m = sm.add_constant(X_m)\n",
        "model = sm.OLS(Y,X_m)\n",
        "results = model.fit()\n",
        "results.params\n",
        "\n",
        "y5 = results.predict(X_m)\n",
        "print(results.summary())"
      ],
      "execution_count": 306,
      "outputs": [
        {
          "output_type": "stream",
          "text": [
            "                            OLS Regression Results                            \n",
            "==============================================================================\n",
            "Dep. Variable:                      y   R-squared:                       0.761\n",
            "Model:                            OLS   Adj. R-squared:                  0.737\n",
            "Method:                 Least Squares   F-statistic:                     31.84\n",
            "Date:                Fri, 05 Mar 2021   Prob (F-statistic):           0.000215\n",
            "Time:                        13:36:46   Log-Likelihood:                -8.4396\n",
            "No. Observations:                  12   AIC:                             20.88\n",
            "Df Residuals:                      10   BIC:                             21.85\n",
            "Df Model:                           1                                         \n",
            "Covariance Type:            nonrobust                                         \n",
            "==============================================================================\n",
            "                 coef    std err          t      P>|t|      [0.025      0.975]\n",
            "------------------------------------------------------------------------------\n",
            "const        2.29e-16      0.155   1.48e-15      1.000      -0.344       0.344\n",
            "x1             0.8724      0.155      5.643      0.000       0.528       1.217\n",
            "==============================================================================\n",
            "Omnibus:                        0.885   Durbin-Watson:                   1.188\n",
            "Prob(Omnibus):                  0.642   Jarque-Bera (JB):                0.118\n",
            "Skew:                           0.242   Prob(JB):                        0.943\n",
            "Kurtosis:                       3.041   Cond. No.                         1.00\n",
            "==============================================================================\n",
            "\n",
            "Warnings:\n",
            "[1] Standard Errors assume that the covariance matrix of the errors is correctly specified.\n"
          ],
          "name": "stdout"
        },
        {
          "output_type": "stream",
          "text": [
            "/usr/local/lib/python3.7/dist-packages/scipy/stats/stats.py:1535: UserWarning:\n",
            "\n",
            "kurtosistest only valid for n>=20 ... continuing anyway, n=12\n",
            "\n"
          ],
          "name": "stderr"
        }
      ]
    },
    {
      "cell_type": "code",
      "metadata": {
        "id": "na2_TxVegiTB"
      },
      "source": [
        "Nbins = 12\n",
        "X = np.linspace(0,24,Nbins)\n",
        "X = X[0:12]\n",
        "acs = (a3r+a5r+a9r)/(m3r+m5r+m9r)"
      ],
      "execution_count": 307,
      "outputs": []
    },
    {
      "cell_type": "code",
      "metadata": {
        "colab": {
          "base_uri": "https://localhost:8080/"
        },
        "id": "LHBv_Rj1giTI",
        "outputId": "57e3344c-f66e-44da-802f-1d8ad16a419a"
      },
      "source": [
        "parama, covariancea = curve_fit(sinusoid, X, acs, p0=get_p0(X,acs))"
      ],
      "execution_count": 308,
      "outputs": [
        {
          "output_type": "stream",
          "text": [
            "/usr/local/lib/python3.7/dist-packages/scipy/optimize/minpack.py:808: OptimizeWarning:\n",
            "\n",
            "Covariance of the parameters could not be estimated\n",
            "\n"
          ],
          "name": "stderr"
        }
      ]
    },
    {
      "cell_type": "code",
      "metadata": {
        "colab": {
          "base_uri": "https://localhost:8080/",
          "height": 542
        },
        "id": "vXpq5vYRgiTI",
        "outputId": "c3b0d25c-fbdc-4a6d-945a-402386bce380"
      },
      "source": [
        "#2\r\n",
        "graphics_plot(y = [stats.zscore(acs), stats.zscore(sinusoid(X, *parama))], \r\n",
        "              y_name=['Selected accidents - raw', 'Selected accidents - fit'], yaxes_title=['Z-Score'], \r\n",
        "              title='Fitting an harmonic curve to the accidents', bins=Nbins, x_tick=agr)"
      ],
      "execution_count": 309,
      "outputs": [
        {
          "output_type": "display_data",
          "data": {
            "text/html": [
              "<html>\n",
              "<head><meta charset=\"utf-8\" /></head>\n",
              "<body>\n",
              "    <div>            <script src=\"https://cdnjs.cloudflare.com/ajax/libs/mathjax/2.7.5/MathJax.js?config=TeX-AMS-MML_SVG\"></script><script type=\"text/javascript\">if (window.MathJax) {MathJax.Hub.Config({SVG: {font: \"STIX-Web\"}});}</script>                <script type=\"text/javascript\">window.PlotlyConfig = {MathJaxConfig: 'local'};</script>\n",
              "        <script src=\"https://cdn.plot.ly/plotly-latest.min.js\"></script>                <div id=\"39eee7bf-c347-4d2c-b813-ed42d2f6a1aa\" class=\"plotly-graph-div\" style=\"height:525px; width:100%;\"></div>            <script type=\"text/javascript\">                                    window.PLOTLYENV=window.PLOTLYENV || {};                                    if (document.getElementById(\"39eee7bf-c347-4d2c-b813-ed42d2f6a1aa\")) {                    Plotly.newPlot(                        \"39eee7bf-c347-4d2c-b813-ed42d2f6a1aa\",                        [{\"line\": {\"color\": \"rgb(0, 0, 0)\", \"width\": 2}, \"marker\": {\"size\": 7, \"symbol\": \"circle\"}, \"mode\": \"lines+markers\", \"name\": \"Selected accidents - raw\", \"type\": \"scatter\", \"x\": [0.0, 2.1818181818181817, 4.363636363636363, 6.545454545454545, 8.727272727272727, 10.909090909090908, 13.09090909090909, 15.272727272727272, 17.454545454545453, 19.636363636363633, 21.818181818181817, 24.0], \"xaxis\": \"x\", \"y\": [-0.18211894632789072, 1.1514561964120171, 2.1391798219787197, -1.0245257574069024, 0.8202265100095021, -0.05728700540637026, -0.7294651334227513, -0.6346758423990773, -1.35950634816538, -0.8008545067040697, -0.2464815935170745, 0.9240526049492767], \"yaxis\": \"y\"}, {\"line\": {\"color\": \"rgb(0, 0, 0)\", \"dash\": \"dash\", \"width\": 2}, \"marker\": {\"size\": 7, \"symbol\": \"star\"}, \"mode\": \"lines+markers\", \"name\": \"Selected accidents - fit\", \"type\": \"scatter\", \"x\": [0.0, 2.1818181818181817, 4.363636363636363, 6.545454545454545, 8.727272727272727, 10.909090909090908, 13.09090909090909, 15.272727272727272, 17.454545454545453, 19.636363636363633, 21.818181818181817, 24.0], \"xaxis\": \"x\", \"y\": [0.6089614860005124, 1.2015245299216473, 1.3950355734239528, 1.1280562274791428, 0.48535054803877853, -0.3290269528161535, -1.056517172680669, -1.4661471069480498, -1.4278621457952116, -0.953817493879572, -0.194518978744891, 0.6089614860005129], \"yaxis\": \"y\"}],                        {\"legend\": {\"orientation\": \"h\", \"x\": 0.95, \"xanchor\": \"right\", \"y\": 1.01, \"yanchor\": \"bottom\"}, \"paper_bgcolor\": \"rgba(0,0,0,0)\", \"plot_bgcolor\": \"rgba(0,0,0,0)\", \"template\": {\"data\": {\"bar\": [{\"error_x\": {\"color\": \"#2a3f5f\"}, \"error_y\": {\"color\": \"#2a3f5f\"}, \"marker\": {\"line\": {\"color\": \"#E5ECF6\", \"width\": 0.5}}, \"type\": \"bar\"}], \"barpolar\": [{\"marker\": {\"line\": {\"color\": \"#E5ECF6\", \"width\": 0.5}}, \"type\": \"barpolar\"}], \"carpet\": [{\"aaxis\": {\"endlinecolor\": \"#2a3f5f\", \"gridcolor\": \"white\", \"linecolor\": \"white\", \"minorgridcolor\": \"white\", \"startlinecolor\": \"#2a3f5f\"}, \"baxis\": {\"endlinecolor\": \"#2a3f5f\", \"gridcolor\": \"white\", \"linecolor\": \"white\", \"minorgridcolor\": \"white\", \"startlinecolor\": \"#2a3f5f\"}, \"type\": \"carpet\"}], \"choropleth\": [{\"colorbar\": {\"outlinewidth\": 0, \"ticks\": \"\"}, \"type\": \"choropleth\"}], \"contour\": [{\"colorbar\": {\"outlinewidth\": 0, \"ticks\": \"\"}, \"colorscale\": [[0.0, \"#0d0887\"], [0.1111111111111111, \"#46039f\"], [0.2222222222222222, \"#7201a8\"], [0.3333333333333333, \"#9c179e\"], [0.4444444444444444, \"#bd3786\"], [0.5555555555555556, \"#d8576b\"], [0.6666666666666666, \"#ed7953\"], [0.7777777777777778, \"#fb9f3a\"], [0.8888888888888888, \"#fdca26\"], [1.0, \"#f0f921\"]], \"type\": \"contour\"}], \"contourcarpet\": [{\"colorbar\": {\"outlinewidth\": 0, \"ticks\": \"\"}, \"type\": \"contourcarpet\"}], \"heatmap\": [{\"colorbar\": {\"outlinewidth\": 0, \"ticks\": \"\"}, \"colorscale\": [[0.0, \"#0d0887\"], [0.1111111111111111, \"#46039f\"], [0.2222222222222222, \"#7201a8\"], [0.3333333333333333, \"#9c179e\"], [0.4444444444444444, \"#bd3786\"], [0.5555555555555556, \"#d8576b\"], [0.6666666666666666, \"#ed7953\"], [0.7777777777777778, \"#fb9f3a\"], [0.8888888888888888, \"#fdca26\"], [1.0, \"#f0f921\"]], \"type\": \"heatmap\"}], \"heatmapgl\": [{\"colorbar\": {\"outlinewidth\": 0, \"ticks\": \"\"}, \"colorscale\": [[0.0, \"#0d0887\"], [0.1111111111111111, \"#46039f\"], [0.2222222222222222, \"#7201a8\"], [0.3333333333333333, \"#9c179e\"], [0.4444444444444444, \"#bd3786\"], [0.5555555555555556, \"#d8576b\"], [0.6666666666666666, \"#ed7953\"], [0.7777777777777778, \"#fb9f3a\"], [0.8888888888888888, \"#fdca26\"], [1.0, \"#f0f921\"]], \"type\": \"heatmapgl\"}], \"histogram\": [{\"marker\": {\"colorbar\": {\"outlinewidth\": 0, \"ticks\": \"\"}}, \"type\": \"histogram\"}], \"histogram2d\": [{\"colorbar\": {\"outlinewidth\": 0, \"ticks\": \"\"}, \"colorscale\": [[0.0, \"#0d0887\"], [0.1111111111111111, \"#46039f\"], [0.2222222222222222, \"#7201a8\"], [0.3333333333333333, \"#9c179e\"], [0.4444444444444444, \"#bd3786\"], [0.5555555555555556, \"#d8576b\"], [0.6666666666666666, \"#ed7953\"], [0.7777777777777778, \"#fb9f3a\"], [0.8888888888888888, \"#fdca26\"], [1.0, \"#f0f921\"]], \"type\": \"histogram2d\"}], \"histogram2dcontour\": [{\"colorbar\": {\"outlinewidth\": 0, \"ticks\": \"\"}, \"colorscale\": [[0.0, \"#0d0887\"], [0.1111111111111111, \"#46039f\"], [0.2222222222222222, \"#7201a8\"], [0.3333333333333333, \"#9c179e\"], [0.4444444444444444, \"#bd3786\"], [0.5555555555555556, \"#d8576b\"], [0.6666666666666666, \"#ed7953\"], [0.7777777777777778, \"#fb9f3a\"], [0.8888888888888888, \"#fdca26\"], [1.0, \"#f0f921\"]], \"type\": \"histogram2dcontour\"}], \"mesh3d\": [{\"colorbar\": {\"outlinewidth\": 0, \"ticks\": \"\"}, \"type\": \"mesh3d\"}], \"parcoords\": [{\"line\": {\"colorbar\": {\"outlinewidth\": 0, \"ticks\": \"\"}}, \"type\": \"parcoords\"}], \"pie\": [{\"automargin\": true, \"type\": \"pie\"}], \"scatter\": [{\"marker\": {\"colorbar\": {\"outlinewidth\": 0, \"ticks\": \"\"}}, \"type\": \"scatter\"}], \"scatter3d\": [{\"line\": {\"colorbar\": {\"outlinewidth\": 0, \"ticks\": \"\"}}, \"marker\": {\"colorbar\": {\"outlinewidth\": 0, \"ticks\": \"\"}}, \"type\": \"scatter3d\"}], \"scattercarpet\": [{\"marker\": {\"colorbar\": {\"outlinewidth\": 0, \"ticks\": \"\"}}, \"type\": \"scattercarpet\"}], \"scattergeo\": [{\"marker\": {\"colorbar\": {\"outlinewidth\": 0, \"ticks\": \"\"}}, \"type\": \"scattergeo\"}], \"scattergl\": [{\"marker\": {\"colorbar\": {\"outlinewidth\": 0, \"ticks\": \"\"}}, \"type\": \"scattergl\"}], \"scattermapbox\": [{\"marker\": {\"colorbar\": {\"outlinewidth\": 0, \"ticks\": \"\"}}, \"type\": \"scattermapbox\"}], \"scatterpolar\": [{\"marker\": {\"colorbar\": {\"outlinewidth\": 0, \"ticks\": \"\"}}, \"type\": \"scatterpolar\"}], \"scatterpolargl\": [{\"marker\": {\"colorbar\": {\"outlinewidth\": 0, \"ticks\": \"\"}}, \"type\": \"scatterpolargl\"}], \"scatterternary\": [{\"marker\": {\"colorbar\": {\"outlinewidth\": 0, \"ticks\": \"\"}}, \"type\": \"scatterternary\"}], \"surface\": [{\"colorbar\": {\"outlinewidth\": 0, \"ticks\": \"\"}, \"colorscale\": [[0.0, \"#0d0887\"], [0.1111111111111111, \"#46039f\"], [0.2222222222222222, \"#7201a8\"], [0.3333333333333333, \"#9c179e\"], [0.4444444444444444, \"#bd3786\"], [0.5555555555555556, \"#d8576b\"], [0.6666666666666666, \"#ed7953\"], [0.7777777777777778, \"#fb9f3a\"], [0.8888888888888888, \"#fdca26\"], [1.0, \"#f0f921\"]], \"type\": \"surface\"}], \"table\": [{\"cells\": {\"fill\": {\"color\": \"#EBF0F8\"}, \"line\": {\"color\": \"white\"}}, \"header\": {\"fill\": {\"color\": \"#C8D4E3\"}, \"line\": {\"color\": \"white\"}}, \"type\": \"table\"}]}, \"layout\": {\"annotationdefaults\": {\"arrowcolor\": \"#2a3f5f\", \"arrowhead\": 0, \"arrowwidth\": 1}, \"autotypenumbers\": \"strict\", \"coloraxis\": {\"colorbar\": {\"outlinewidth\": 0, \"ticks\": \"\"}}, \"colorscale\": {\"diverging\": [[0, \"#8e0152\"], [0.1, \"#c51b7d\"], [0.2, \"#de77ae\"], [0.3, \"#f1b6da\"], [0.4, \"#fde0ef\"], [0.5, \"#f7f7f7\"], [0.6, \"#e6f5d0\"], [0.7, \"#b8e186\"], [0.8, \"#7fbc41\"], [0.9, \"#4d9221\"], [1, \"#276419\"]], \"sequential\": [[0.0, \"#0d0887\"], [0.1111111111111111, \"#46039f\"], [0.2222222222222222, \"#7201a8\"], [0.3333333333333333, \"#9c179e\"], [0.4444444444444444, \"#bd3786\"], [0.5555555555555556, \"#d8576b\"], [0.6666666666666666, \"#ed7953\"], [0.7777777777777778, \"#fb9f3a\"], [0.8888888888888888, \"#fdca26\"], [1.0, \"#f0f921\"]], \"sequentialminus\": [[0.0, \"#0d0887\"], [0.1111111111111111, \"#46039f\"], [0.2222222222222222, \"#7201a8\"], [0.3333333333333333, \"#9c179e\"], [0.4444444444444444, \"#bd3786\"], [0.5555555555555556, \"#d8576b\"], [0.6666666666666666, \"#ed7953\"], [0.7777777777777778, \"#fb9f3a\"], [0.8888888888888888, \"#fdca26\"], [1.0, \"#f0f921\"]]}, \"colorway\": [\"#636efa\", \"#EF553B\", \"#00cc96\", \"#ab63fa\", \"#FFA15A\", \"#19d3f3\", \"#FF6692\", \"#B6E880\", \"#FF97FF\", \"#FECB52\"], \"font\": {\"color\": \"#2a3f5f\"}, \"geo\": {\"bgcolor\": \"white\", \"lakecolor\": \"white\", \"landcolor\": \"#E5ECF6\", \"showlakes\": true, \"showland\": true, \"subunitcolor\": \"white\"}, \"hoverlabel\": {\"align\": \"left\"}, \"hovermode\": \"closest\", \"mapbox\": {\"style\": \"light\"}, \"paper_bgcolor\": \"white\", \"plot_bgcolor\": \"#E5ECF6\", \"polar\": {\"angularaxis\": {\"gridcolor\": \"white\", \"linecolor\": \"white\", \"ticks\": \"\"}, \"bgcolor\": \"#E5ECF6\", \"radialaxis\": {\"gridcolor\": \"white\", \"linecolor\": \"white\", \"ticks\": \"\"}}, \"scene\": {\"xaxis\": {\"backgroundcolor\": \"#E5ECF6\", \"gridcolor\": \"white\", \"gridwidth\": 2, \"linecolor\": \"white\", \"showbackground\": true, \"ticks\": \"\", \"zerolinecolor\": \"white\"}, \"yaxis\": {\"backgroundcolor\": \"#E5ECF6\", \"gridcolor\": \"white\", \"gridwidth\": 2, \"linecolor\": \"white\", \"showbackground\": true, \"ticks\": \"\", \"zerolinecolor\": \"white\"}, \"zaxis\": {\"backgroundcolor\": \"#E5ECF6\", \"gridcolor\": \"white\", \"gridwidth\": 2, \"linecolor\": \"white\", \"showbackground\": true, \"ticks\": \"\", \"zerolinecolor\": \"white\"}}, \"shapedefaults\": {\"line\": {\"color\": \"#2a3f5f\"}}, \"ternary\": {\"aaxis\": {\"gridcolor\": \"white\", \"linecolor\": \"white\", \"ticks\": \"\"}, \"baxis\": {\"gridcolor\": \"white\", \"linecolor\": \"white\", \"ticks\": \"\"}, \"bgcolor\": \"#E5ECF6\", \"caxis\": {\"gridcolor\": \"white\", \"linecolor\": \"white\", \"ticks\": \"\"}}, \"title\": {\"x\": 0.05}, \"xaxis\": {\"automargin\": true, \"gridcolor\": \"white\", \"linecolor\": \"white\", \"ticks\": \"\", \"title\": {\"standoff\": 15}, \"zerolinecolor\": \"white\", \"zerolinewidth\": 2}, \"yaxis\": {\"automargin\": true, \"gridcolor\": \"white\", \"linecolor\": \"white\", \"ticks\": \"\", \"title\": {\"standoff\": 15}, \"zerolinecolor\": \"white\", \"zerolinewidth\": 2}}}, \"title\": {\"text\": \"Fitting an harmonic curve to the accidents\"}, \"xaxis\": {\"anchor\": \"y\", \"domain\": [0.0, 0.94], \"dtick\": 2, \"gridcolor\": \"black\", \"gridwidth\": 1, \"linecolor\": \"black\", \"linewidth\": 2, \"mirror\": true, \"showgrid\": true, \"showline\": true, \"tick0\": 0, \"tickmode\": \"linear\", \"title\": {\"text\": \"Time of day\"}}, \"yaxis\": {\"anchor\": \"x\", \"domain\": [0.0, 1.0], \"gridcolor\": \"black\", \"gridwidth\": 1, \"linecolor\": \"black\", \"linewidth\": 2, \"mirror\": true, \"showgrid\": false, \"showline\": true, \"title\": {\"text\": \"<b>Z-Score</b>\"}}, \"yaxis2\": {\"anchor\": \"x\", \"gridcolor\": \"black\", \"gridwidth\": 1, \"linecolor\": \"black\", \"linewidth\": 2, \"mirror\": true, \"overlaying\": \"y\", \"showgrid\": false, \"showline\": true, \"side\": \"right\"}},                        {\"responsive\": true}                    ).then(function(){\n",
              "                            \n",
              "var gd = document.getElementById('39eee7bf-c347-4d2c-b813-ed42d2f6a1aa');\n",
              "var x = new MutationObserver(function (mutations, observer) {{\n",
              "        var display = window.getComputedStyle(gd).display;\n",
              "        if (!display || display === 'none') {{\n",
              "            console.log([gd, 'removed!']);\n",
              "            Plotly.purge(gd);\n",
              "            observer.disconnect();\n",
              "        }}\n",
              "}});\n",
              "\n",
              "// Listen for the removal of the full notebook cells\n",
              "var notebookContainer = gd.closest('#notebook-container');\n",
              "if (notebookContainer) {{\n",
              "    x.observe(notebookContainer, {childList: true});\n",
              "}}\n",
              "\n",
              "// Listen for the clearing of the current output cell\n",
              "var outputEl = gd.closest('.output');\n",
              "if (outputEl) {{\n",
              "    x.observe(outputEl, {childList: true});\n",
              "}}\n",
              "\n",
              "                        })                };                            </script>        </div>\n",
              "</body>\n",
              "</html>"
            ]
          },
          "metadata": {
            "tags": []
          }
        }
      ]
    },
    {
      "cell_type": "code",
      "metadata": {
        "colab": {
          "base_uri": "https://localhost:8080/"
        },
        "id": "HhGuzhU6giTJ",
        "outputId": "a32208c5-8a15-4d4b-f8a9-7b31e459f87b"
      },
      "source": [
        "Y = stats.zscore(acs)\r\n",
        "X_m = stats.zscore(sinusoid(X, *parama))\r\n",
        "X_m = sm.add_constant(X_m)\r\n",
        "model = sm.OLS(Y,X_m)\r\n",
        "results = model.fit()\r\n",
        "results.params\r\n",
        "\r\n",
        "y5 = results.predict(X_m)\r\n",
        "print(results.summary())"
      ],
      "execution_count": 310,
      "outputs": [
        {
          "output_type": "stream",
          "text": [
            "                            OLS Regression Results                            \n",
            "==============================================================================\n",
            "Dep. Variable:                      y   R-squared:                       0.506\n",
            "Model:                            OLS   Adj. R-squared:                  0.456\n",
            "Method:                 Least Squares   F-statistic:                     10.24\n",
            "Date:                Fri, 05 Mar 2021   Prob (F-statistic):            0.00950\n",
            "Time:                        13:36:46   Log-Likelihood:                -12.797\n",
            "No. Observations:                  12   AIC:                             29.59\n",
            "Df Residuals:                      10   BIC:                             30.56\n",
            "Df Model:                           1                                         \n",
            "Covariance Type:            nonrobust                                         \n",
            "==============================================================================\n",
            "                 coef    std err          t      P>|t|      [0.025      0.975]\n",
            "------------------------------------------------------------------------------\n",
            "const      -6.245e-17      0.222  -2.81e-16      1.000      -0.495       0.495\n",
            "x1             0.7112      0.222      3.200      0.009       0.216       1.207\n",
            "==============================================================================\n",
            "Omnibus:                        7.702   Durbin-Watson:                   2.856\n",
            "Prob(Omnibus):                  0.021   Jarque-Bera (JB):                3.491\n",
            "Skew:                          -1.089   Prob(JB):                        0.175\n",
            "Kurtosis:                       4.496   Cond. No.                         1.00\n",
            "==============================================================================\n",
            "\n",
            "Warnings:\n",
            "[1] Standard Errors assume that the covariance matrix of the errors is correctly specified.\n"
          ],
          "name": "stdout"
        },
        {
          "output_type": "stream",
          "text": [
            "/usr/local/lib/python3.7/dist-packages/scipy/stats/stats.py:1535: UserWarning:\n",
            "\n",
            "kurtosistest only valid for n>=20 ... continuing anyway, n=12\n",
            "\n"
          ],
          "name": "stderr"
        }
      ]
    },
    {
      "cell_type": "code",
      "metadata": {
        "id": "1E2XoUkgesfh"
      },
      "source": [
        "Nbins = 12\n",
        "X = np.linspace(0,24,Nbins)\n",
        "X = X[0:12]\n",
        "acs = y9r/m9r"
      ],
      "execution_count": 311,
      "outputs": []
    },
    {
      "cell_type": "code",
      "metadata": {
        "colab": {
          "base_uri": "https://localhost:8080/"
        },
        "id": "63EcO0G3esfl",
        "outputId": "7e69b33b-a069-418b-bd78-16efa4fbade4"
      },
      "source": [
        "parama, covariancea = curve_fit(sinusoid, X, acs, p0=get_p0(X,acs))"
      ],
      "execution_count": 312,
      "outputs": [
        {
          "output_type": "stream",
          "text": [
            "/usr/local/lib/python3.7/dist-packages/scipy/optimize/minpack.py:808: OptimizeWarning:\n",
            "\n",
            "Covariance of the parameters could not be estimated\n",
            "\n"
          ],
          "name": "stderr"
        }
      ]
    },
    {
      "cell_type": "code",
      "metadata": {
        "id": "yhNwxPZGx-nS",
        "colab": {
          "base_uri": "https://localhost:8080/",
          "height": 542
        },
        "outputId": "57047748-4692-4ae9-8bb6-ee4062db505a"
      },
      "source": [
        "#3\r\n",
        "graphics_plot(y = [stats.zscore(y9r/m9r), stats.zscore(sinusoid(X, *parama))], \r\n",
        "              y_name=['Selected accidents - raw', 'Selected accidents - fit'], yaxes_title=['Z-Score'], \r\n",
        "              title='Fitting an harmonic curve to the accidents', bins=Nbins, x_tick=agr)"
      ],
      "execution_count": 313,
      "outputs": [
        {
          "output_type": "display_data",
          "data": {
            "text/html": [
              "<html>\n",
              "<head><meta charset=\"utf-8\" /></head>\n",
              "<body>\n",
              "    <div>            <script src=\"https://cdnjs.cloudflare.com/ajax/libs/mathjax/2.7.5/MathJax.js?config=TeX-AMS-MML_SVG\"></script><script type=\"text/javascript\">if (window.MathJax) {MathJax.Hub.Config({SVG: {font: \"STIX-Web\"}});}</script>                <script type=\"text/javascript\">window.PlotlyConfig = {MathJaxConfig: 'local'};</script>\n",
              "        <script src=\"https://cdn.plot.ly/plotly-latest.min.js\"></script>                <div id=\"8b296514-c3e1-4169-9ee6-bc72c5087680\" class=\"plotly-graph-div\" style=\"height:525px; width:100%;\"></div>            <script type=\"text/javascript\">                                    window.PLOTLYENV=window.PLOTLYENV || {};                                    if (document.getElementById(\"8b296514-c3e1-4169-9ee6-bc72c5087680\")) {                    Plotly.newPlot(                        \"8b296514-c3e1-4169-9ee6-bc72c5087680\",                        [{\"line\": {\"color\": \"rgb(0, 0, 0)\", \"width\": 2}, \"marker\": {\"size\": 7, \"symbol\": \"circle\"}, \"mode\": \"lines+markers\", \"name\": \"Selected accidents - raw\", \"type\": \"scatter\", \"x\": [0.0, 2.1818181818181817, 4.363636363636363, 6.545454545454545, 8.727272727272727, 10.909090909090908, 13.09090909090909, 15.272727272727272, 17.454545454545453, 19.636363636363633, 21.818181818181817, 24.0], \"xaxis\": \"x\", \"y\": [0.9427100628483497, 1.6115529282425969, 1.9298146946066275, 0.17975403586958968, -0.4271188734528377, -0.7184505093145653, -1.1703291119474675, -0.7842656013716444, -0.7529541074171188, -1.0244415340174735, -0.3595553424403062, 0.5732833583942527], \"yaxis\": \"y\"}, {\"line\": {\"color\": \"rgb(0, 0, 0)\", \"dash\": \"dash\", \"width\": 2}, \"marker\": {\"size\": 7, \"symbol\": \"star\"}, \"mode\": \"lines+markers\", \"name\": \"Selected accidents - fit\", \"type\": \"scatter\", \"x\": [0.0, 2.1818181818181817, 4.363636363636363, 6.545454545454545, 8.727272727272727, 10.909090909090908, 13.09090909090909, 15.272727272727272, 17.454545454545453, 19.636363636363633, 21.818181818181817, 24.0], \"xaxis\": \"x\", \"y\": [0.8984929589716363, 1.2997678041529315, 1.2624423583247064, 0.7983671868084232, 0.054882877562029565, -0.7319595544378444, -1.3123431965941965, -1.5020003433172415, -1.2407161905757753, -0.6114466107196111, 0.18601975085330863, 0.8984929589716355], \"yaxis\": \"y\"}],                        {\"legend\": {\"orientation\": \"h\", \"x\": 0.95, \"xanchor\": \"right\", \"y\": 1.01, \"yanchor\": \"bottom\"}, \"paper_bgcolor\": \"rgba(0,0,0,0)\", \"plot_bgcolor\": \"rgba(0,0,0,0)\", \"template\": {\"data\": {\"bar\": [{\"error_x\": {\"color\": \"#2a3f5f\"}, \"error_y\": {\"color\": \"#2a3f5f\"}, \"marker\": {\"line\": {\"color\": \"#E5ECF6\", \"width\": 0.5}}, \"type\": \"bar\"}], \"barpolar\": [{\"marker\": {\"line\": {\"color\": \"#E5ECF6\", \"width\": 0.5}}, \"type\": \"barpolar\"}], \"carpet\": [{\"aaxis\": {\"endlinecolor\": \"#2a3f5f\", \"gridcolor\": \"white\", \"linecolor\": \"white\", \"minorgridcolor\": \"white\", \"startlinecolor\": \"#2a3f5f\"}, \"baxis\": {\"endlinecolor\": \"#2a3f5f\", \"gridcolor\": \"white\", \"linecolor\": \"white\", \"minorgridcolor\": \"white\", \"startlinecolor\": \"#2a3f5f\"}, \"type\": \"carpet\"}], \"choropleth\": [{\"colorbar\": {\"outlinewidth\": 0, \"ticks\": \"\"}, \"type\": \"choropleth\"}], \"contour\": [{\"colorbar\": {\"outlinewidth\": 0, \"ticks\": \"\"}, \"colorscale\": [[0.0, \"#0d0887\"], [0.1111111111111111, \"#46039f\"], [0.2222222222222222, \"#7201a8\"], [0.3333333333333333, \"#9c179e\"], [0.4444444444444444, \"#bd3786\"], [0.5555555555555556, \"#d8576b\"], [0.6666666666666666, \"#ed7953\"], [0.7777777777777778, \"#fb9f3a\"], [0.8888888888888888, \"#fdca26\"], [1.0, \"#f0f921\"]], \"type\": \"contour\"}], \"contourcarpet\": [{\"colorbar\": {\"outlinewidth\": 0, \"ticks\": \"\"}, \"type\": \"contourcarpet\"}], \"heatmap\": [{\"colorbar\": {\"outlinewidth\": 0, \"ticks\": \"\"}, \"colorscale\": [[0.0, \"#0d0887\"], [0.1111111111111111, \"#46039f\"], [0.2222222222222222, \"#7201a8\"], [0.3333333333333333, \"#9c179e\"], [0.4444444444444444, \"#bd3786\"], [0.5555555555555556, \"#d8576b\"], [0.6666666666666666, \"#ed7953\"], [0.7777777777777778, \"#fb9f3a\"], [0.8888888888888888, \"#fdca26\"], [1.0, \"#f0f921\"]], \"type\": \"heatmap\"}], \"heatmapgl\": [{\"colorbar\": {\"outlinewidth\": 0, \"ticks\": \"\"}, \"colorscale\": [[0.0, \"#0d0887\"], [0.1111111111111111, \"#46039f\"], [0.2222222222222222, \"#7201a8\"], [0.3333333333333333, \"#9c179e\"], [0.4444444444444444, \"#bd3786\"], [0.5555555555555556, \"#d8576b\"], [0.6666666666666666, \"#ed7953\"], [0.7777777777777778, \"#fb9f3a\"], [0.8888888888888888, \"#fdca26\"], [1.0, \"#f0f921\"]], \"type\": \"heatmapgl\"}], \"histogram\": [{\"marker\": {\"colorbar\": {\"outlinewidth\": 0, \"ticks\": \"\"}}, \"type\": \"histogram\"}], \"histogram2d\": [{\"colorbar\": {\"outlinewidth\": 0, \"ticks\": \"\"}, \"colorscale\": [[0.0, \"#0d0887\"], [0.1111111111111111, \"#46039f\"], [0.2222222222222222, \"#7201a8\"], [0.3333333333333333, \"#9c179e\"], [0.4444444444444444, \"#bd3786\"], [0.5555555555555556, \"#d8576b\"], [0.6666666666666666, \"#ed7953\"], [0.7777777777777778, \"#fb9f3a\"], [0.8888888888888888, \"#fdca26\"], [1.0, \"#f0f921\"]], \"type\": \"histogram2d\"}], \"histogram2dcontour\": [{\"colorbar\": {\"outlinewidth\": 0, \"ticks\": \"\"}, \"colorscale\": [[0.0, \"#0d0887\"], [0.1111111111111111, \"#46039f\"], [0.2222222222222222, \"#7201a8\"], [0.3333333333333333, \"#9c179e\"], [0.4444444444444444, \"#bd3786\"], [0.5555555555555556, \"#d8576b\"], [0.6666666666666666, \"#ed7953\"], [0.7777777777777778, \"#fb9f3a\"], [0.8888888888888888, \"#fdca26\"], [1.0, \"#f0f921\"]], \"type\": \"histogram2dcontour\"}], \"mesh3d\": [{\"colorbar\": {\"outlinewidth\": 0, \"ticks\": \"\"}, \"type\": \"mesh3d\"}], \"parcoords\": [{\"line\": {\"colorbar\": {\"outlinewidth\": 0, \"ticks\": \"\"}}, \"type\": \"parcoords\"}], \"pie\": [{\"automargin\": true, \"type\": \"pie\"}], \"scatter\": [{\"marker\": {\"colorbar\": {\"outlinewidth\": 0, \"ticks\": \"\"}}, \"type\": \"scatter\"}], \"scatter3d\": [{\"line\": {\"colorbar\": {\"outlinewidth\": 0, \"ticks\": \"\"}}, \"marker\": {\"colorbar\": {\"outlinewidth\": 0, \"ticks\": \"\"}}, \"type\": \"scatter3d\"}], \"scattercarpet\": [{\"marker\": {\"colorbar\": {\"outlinewidth\": 0, \"ticks\": \"\"}}, \"type\": \"scattercarpet\"}], \"scattergeo\": [{\"marker\": {\"colorbar\": {\"outlinewidth\": 0, \"ticks\": \"\"}}, \"type\": \"scattergeo\"}], \"scattergl\": [{\"marker\": {\"colorbar\": {\"outlinewidth\": 0, \"ticks\": \"\"}}, \"type\": \"scattergl\"}], \"scattermapbox\": [{\"marker\": {\"colorbar\": {\"outlinewidth\": 0, \"ticks\": \"\"}}, \"type\": \"scattermapbox\"}], \"scatterpolar\": [{\"marker\": {\"colorbar\": {\"outlinewidth\": 0, \"ticks\": \"\"}}, \"type\": \"scatterpolar\"}], \"scatterpolargl\": [{\"marker\": {\"colorbar\": {\"outlinewidth\": 0, \"ticks\": \"\"}}, \"type\": \"scatterpolargl\"}], \"scatterternary\": [{\"marker\": {\"colorbar\": {\"outlinewidth\": 0, \"ticks\": \"\"}}, \"type\": \"scatterternary\"}], \"surface\": [{\"colorbar\": {\"outlinewidth\": 0, \"ticks\": \"\"}, \"colorscale\": [[0.0, \"#0d0887\"], [0.1111111111111111, \"#46039f\"], [0.2222222222222222, \"#7201a8\"], [0.3333333333333333, \"#9c179e\"], [0.4444444444444444, \"#bd3786\"], [0.5555555555555556, \"#d8576b\"], [0.6666666666666666, \"#ed7953\"], [0.7777777777777778, \"#fb9f3a\"], [0.8888888888888888, \"#fdca26\"], [1.0, \"#f0f921\"]], \"type\": \"surface\"}], \"table\": [{\"cells\": {\"fill\": {\"color\": \"#EBF0F8\"}, \"line\": {\"color\": \"white\"}}, \"header\": {\"fill\": {\"color\": \"#C8D4E3\"}, \"line\": {\"color\": \"white\"}}, \"type\": \"table\"}]}, \"layout\": {\"annotationdefaults\": {\"arrowcolor\": \"#2a3f5f\", \"arrowhead\": 0, \"arrowwidth\": 1}, \"autotypenumbers\": \"strict\", \"coloraxis\": {\"colorbar\": {\"outlinewidth\": 0, \"ticks\": \"\"}}, \"colorscale\": {\"diverging\": [[0, \"#8e0152\"], [0.1, \"#c51b7d\"], [0.2, \"#de77ae\"], [0.3, \"#f1b6da\"], [0.4, \"#fde0ef\"], [0.5, \"#f7f7f7\"], [0.6, \"#e6f5d0\"], [0.7, \"#b8e186\"], [0.8, \"#7fbc41\"], [0.9, \"#4d9221\"], [1, \"#276419\"]], \"sequential\": [[0.0, \"#0d0887\"], [0.1111111111111111, \"#46039f\"], [0.2222222222222222, \"#7201a8\"], [0.3333333333333333, \"#9c179e\"], [0.4444444444444444, \"#bd3786\"], [0.5555555555555556, \"#d8576b\"], [0.6666666666666666, \"#ed7953\"], [0.7777777777777778, \"#fb9f3a\"], [0.8888888888888888, \"#fdca26\"], [1.0, \"#f0f921\"]], \"sequentialminus\": [[0.0, \"#0d0887\"], [0.1111111111111111, \"#46039f\"], [0.2222222222222222, \"#7201a8\"], [0.3333333333333333, \"#9c179e\"], [0.4444444444444444, \"#bd3786\"], [0.5555555555555556, \"#d8576b\"], [0.6666666666666666, \"#ed7953\"], [0.7777777777777778, \"#fb9f3a\"], [0.8888888888888888, \"#fdca26\"], [1.0, \"#f0f921\"]]}, \"colorway\": [\"#636efa\", \"#EF553B\", \"#00cc96\", \"#ab63fa\", \"#FFA15A\", \"#19d3f3\", \"#FF6692\", \"#B6E880\", \"#FF97FF\", \"#FECB52\"], \"font\": {\"color\": \"#2a3f5f\"}, \"geo\": {\"bgcolor\": \"white\", \"lakecolor\": \"white\", \"landcolor\": \"#E5ECF6\", \"showlakes\": true, \"showland\": true, \"subunitcolor\": \"white\"}, \"hoverlabel\": {\"align\": \"left\"}, \"hovermode\": \"closest\", \"mapbox\": {\"style\": \"light\"}, \"paper_bgcolor\": \"white\", \"plot_bgcolor\": \"#E5ECF6\", \"polar\": {\"angularaxis\": {\"gridcolor\": \"white\", \"linecolor\": \"white\", \"ticks\": \"\"}, \"bgcolor\": \"#E5ECF6\", \"radialaxis\": {\"gridcolor\": \"white\", \"linecolor\": \"white\", \"ticks\": \"\"}}, \"scene\": {\"xaxis\": {\"backgroundcolor\": \"#E5ECF6\", \"gridcolor\": \"white\", \"gridwidth\": 2, \"linecolor\": \"white\", \"showbackground\": true, \"ticks\": \"\", \"zerolinecolor\": \"white\"}, \"yaxis\": {\"backgroundcolor\": \"#E5ECF6\", \"gridcolor\": \"white\", \"gridwidth\": 2, \"linecolor\": \"white\", \"showbackground\": true, \"ticks\": \"\", \"zerolinecolor\": \"white\"}, \"zaxis\": {\"backgroundcolor\": \"#E5ECF6\", \"gridcolor\": \"white\", \"gridwidth\": 2, \"linecolor\": \"white\", \"showbackground\": true, \"ticks\": \"\", \"zerolinecolor\": \"white\"}}, \"shapedefaults\": {\"line\": {\"color\": \"#2a3f5f\"}}, \"ternary\": {\"aaxis\": {\"gridcolor\": \"white\", \"linecolor\": \"white\", \"ticks\": \"\"}, \"baxis\": {\"gridcolor\": \"white\", \"linecolor\": \"white\", \"ticks\": \"\"}, \"bgcolor\": \"#E5ECF6\", \"caxis\": {\"gridcolor\": \"white\", \"linecolor\": \"white\", \"ticks\": \"\"}}, \"title\": {\"x\": 0.05}, \"xaxis\": {\"automargin\": true, \"gridcolor\": \"white\", \"linecolor\": \"white\", \"ticks\": \"\", \"title\": {\"standoff\": 15}, \"zerolinecolor\": \"white\", \"zerolinewidth\": 2}, \"yaxis\": {\"automargin\": true, \"gridcolor\": \"white\", \"linecolor\": \"white\", \"ticks\": \"\", \"title\": {\"standoff\": 15}, \"zerolinecolor\": \"white\", \"zerolinewidth\": 2}}}, \"title\": {\"text\": \"Fitting an harmonic curve to the accidents\"}, \"xaxis\": {\"anchor\": \"y\", \"domain\": [0.0, 0.94], \"dtick\": 2, \"gridcolor\": \"black\", \"gridwidth\": 1, \"linecolor\": \"black\", \"linewidth\": 2, \"mirror\": true, \"showgrid\": true, \"showline\": true, \"tick0\": 0, \"tickmode\": \"linear\", \"title\": {\"text\": \"Time of day\"}}, \"yaxis\": {\"anchor\": \"x\", \"domain\": [0.0, 1.0], \"gridcolor\": \"black\", \"gridwidth\": 1, \"linecolor\": \"black\", \"linewidth\": 2, \"mirror\": true, \"showgrid\": false, \"showline\": true, \"title\": {\"text\": \"<b>Z-Score</b>\"}}, \"yaxis2\": {\"anchor\": \"x\", \"gridcolor\": \"black\", \"gridwidth\": 1, \"linecolor\": \"black\", \"linewidth\": 2, \"mirror\": true, \"overlaying\": \"y\", \"showgrid\": false, \"showline\": true, \"side\": \"right\"}},                        {\"responsive\": true}                    ).then(function(){\n",
              "                            \n",
              "var gd = document.getElementById('8b296514-c3e1-4169-9ee6-bc72c5087680');\n",
              "var x = new MutationObserver(function (mutations, observer) {{\n",
              "        var display = window.getComputedStyle(gd).display;\n",
              "        if (!display || display === 'none') {{\n",
              "            console.log([gd, 'removed!']);\n",
              "            Plotly.purge(gd);\n",
              "            observer.disconnect();\n",
              "        }}\n",
              "}});\n",
              "\n",
              "// Listen for the removal of the full notebook cells\n",
              "var notebookContainer = gd.closest('#notebook-container');\n",
              "if (notebookContainer) {{\n",
              "    x.observe(notebookContainer, {childList: true});\n",
              "}}\n",
              "\n",
              "// Listen for the clearing of the current output cell\n",
              "var outputEl = gd.closest('.output');\n",
              "if (outputEl) {{\n",
              "    x.observe(outputEl, {childList: true});\n",
              "}}\n",
              "\n",
              "                        })                };                            </script>        </div>\n",
              "</body>\n",
              "</html>"
            ]
          },
          "metadata": {
            "tags": []
          }
        }
      ]
    },
    {
      "cell_type": "code",
      "metadata": {
        "colab": {
          "base_uri": "https://localhost:8080/"
        },
        "id": "ghNpnWXBaJF0",
        "outputId": "7bbfce06-eac0-4d8e-ef9f-b32cbfbc484e"
      },
      "source": [
        "Y = stats.zscore(y9r/m9r)\r\n",
        "X_m = stats.zscore(sinusoid(X, *parama))\r\n",
        "X_m = sm.add_constant(X_m)\r\n",
        "model = sm.OLS(Y,X_m)\r\n",
        "results = model.fit()\r\n",
        "results.params\r\n",
        "\r\n",
        "y5 = results.predict(X_m)\r\n",
        "print(results.summary())"
      ],
      "execution_count": 314,
      "outputs": [
        {
          "output_type": "stream",
          "text": [
            "                            OLS Regression Results                            \n",
            "==============================================================================\n",
            "Dep. Variable:                      y   R-squared:                       0.802\n",
            "Model:                            OLS   Adj. R-squared:                  0.782\n",
            "Method:                 Least Squares   F-statistic:                     40.50\n",
            "Date:                Fri, 05 Mar 2021   Prob (F-statistic):           8.20e-05\n",
            "Time:                        13:36:46   Log-Likelihood:                -7.3104\n",
            "No. Observations:                  12   AIC:                             18.62\n",
            "Df Residuals:                      10   BIC:                             19.59\n",
            "Df Model:                           1                                         \n",
            "Covariance Type:            nonrobust                                         \n",
            "==============================================================================\n",
            "                 coef    std err          t      P>|t|      [0.025      0.975]\n",
            "------------------------------------------------------------------------------\n",
            "const       2.845e-16      0.141   2.02e-15      1.000      -0.314       0.314\n",
            "x1             0.8955      0.141      6.364      0.000       0.582       1.209\n",
            "==============================================================================\n",
            "Omnibus:                        1.713   Durbin-Watson:                   1.396\n",
            "Prob(Omnibus):                  0.425   Jarque-Bera (JB):                0.925\n",
            "Skew:                           0.281   Prob(JB):                        0.630\n",
            "Kurtosis:                       1.761   Cond. No.                         1.00\n",
            "==============================================================================\n",
            "\n",
            "Warnings:\n",
            "[1] Standard Errors assume that the covariance matrix of the errors is correctly specified.\n"
          ],
          "name": "stdout"
        },
        {
          "output_type": "stream",
          "text": [
            "/usr/local/lib/python3.7/dist-packages/scipy/stats/stats.py:1535: UserWarning:\n",
            "\n",
            "kurtosistest only valid for n>=20 ... continuing anyway, n=12\n",
            "\n"
          ],
          "name": "stderr"
        }
      ]
    },
    {
      "cell_type": "code",
      "metadata": {
        "id": "HOjkoteCfQ1F"
      },
      "source": [
        "Nbins = 12\n",
        "X = np.linspace(0,24,Nbins)\n",
        "X = X[0:12]\n",
        "acs = at9r/m9r"
      ],
      "execution_count": 315,
      "outputs": []
    },
    {
      "cell_type": "code",
      "metadata": {
        "colab": {
          "base_uri": "https://localhost:8080/"
        },
        "id": "sR9g1-RxfQ1F",
        "outputId": "01d0f388-2454-4a05-c7ea-4f3a495ce148"
      },
      "source": [
        "parama, covariancea = curve_fit(sinusoid, X, acs, p0=get_p0(X,acs))"
      ],
      "execution_count": 316,
      "outputs": [
        {
          "output_type": "stream",
          "text": [
            "/usr/local/lib/python3.7/dist-packages/scipy/optimize/minpack.py:808: OptimizeWarning:\n",
            "\n",
            "Covariance of the parameters could not be estimated\n",
            "\n"
          ],
          "name": "stderr"
        }
      ]
    },
    {
      "cell_type": "code",
      "metadata": {
        "colab": {
          "base_uri": "https://localhost:8080/",
          "height": 542
        },
        "id": "IBpT4qXIcd3I",
        "outputId": "4a40339b-87d8-4bcf-d58c-01c66ea985a2"
      },
      "source": [
        "#4\r\n",
        "graphics_plot(y = [stats.zscore(at9r/m9r), stats.zscore(sinusoid(X, *parama))], \r\n",
        "              y_name=['Selected accidents - raw', 'Selected accidents - fit'], yaxes_title=['Z-Score'], \r\n",
        "              title='Fitting an harmonic curve to the accidents', bins=Nbins, x_tick=agr)"
      ],
      "execution_count": 317,
      "outputs": [
        {
          "output_type": "display_data",
          "data": {
            "text/html": [
              "<html>\n",
              "<head><meta charset=\"utf-8\" /></head>\n",
              "<body>\n",
              "    <div>            <script src=\"https://cdnjs.cloudflare.com/ajax/libs/mathjax/2.7.5/MathJax.js?config=TeX-AMS-MML_SVG\"></script><script type=\"text/javascript\">if (window.MathJax) {MathJax.Hub.Config({SVG: {font: \"STIX-Web\"}});}</script>                <script type=\"text/javascript\">window.PlotlyConfig = {MathJaxConfig: 'local'};</script>\n",
              "        <script src=\"https://cdn.plot.ly/plotly-latest.min.js\"></script>                <div id=\"b0677fcd-3f15-4fdf-9e10-dd97266f2041\" class=\"plotly-graph-div\" style=\"height:525px; width:100%;\"></div>            <script type=\"text/javascript\">                                    window.PLOTLYENV=window.PLOTLYENV || {};                                    if (document.getElementById(\"b0677fcd-3f15-4fdf-9e10-dd97266f2041\")) {                    Plotly.newPlot(                        \"b0677fcd-3f15-4fdf-9e10-dd97266f2041\",                        [{\"line\": {\"color\": \"rgb(0, 0, 0)\", \"width\": 2}, \"marker\": {\"size\": 7, \"symbol\": \"circle\"}, \"mode\": \"lines+markers\", \"name\": \"Selected accidents - raw\", \"type\": \"scatter\", \"x\": [0.0, 2.1818181818181817, 4.363636363636363, 6.545454545454545, 8.727272727272727, 10.909090909090908, 13.09090909090909, 15.272727272727272, 17.454545454545453, 19.636363636363633, 21.818181818181817, 24.0], \"xaxis\": \"x\", \"y\": [0.40505753287338364, 2.8181648250457303, -0.7865476609603943, 0.12558646902425882, 0.09249898577785058, -0.07350298771265974, 0.1544180702956321, -0.557100782737124, -0.5597971125084796, -1.3796046237901087, -0.6966468989366226, 0.45747418362853526], \"yaxis\": \"y\"}, {\"line\": {\"color\": \"rgb(0, 0, 0)\", \"dash\": \"dash\", \"width\": 2}, \"marker\": {\"size\": 7, \"symbol\": \"star\"}, \"mode\": \"lines+markers\", \"name\": \"Selected accidents - fit\", \"type\": \"scatter\", \"x\": [0.0, 2.1818181818181817, 4.363636363636363, 6.545454545454545, 8.727272727272727, 10.909090909090908, 13.09090909090909, 15.272727272727272, 17.454545454545453, 19.636363636363633, 21.818181818181817, 24.0], \"xaxis\": \"x\", \"y\": [0.588508155841277, 1.1916971753244812, 1.3995446543829795, 1.146060486995809, 0.5117241052748558, -0.3020671715901753, -1.036940363169033, -1.4595784235012805, -1.4357967546492645, -0.9731458684402599, -0.21851415231066826, 0.588508155841277], \"yaxis\": \"y\"}],                        {\"legend\": {\"orientation\": \"h\", \"x\": 0.95, \"xanchor\": \"right\", \"y\": 1.01, \"yanchor\": \"bottom\"}, \"paper_bgcolor\": \"rgba(0,0,0,0)\", \"plot_bgcolor\": \"rgba(0,0,0,0)\", \"template\": {\"data\": {\"bar\": [{\"error_x\": {\"color\": \"#2a3f5f\"}, \"error_y\": {\"color\": \"#2a3f5f\"}, \"marker\": {\"line\": {\"color\": \"#E5ECF6\", \"width\": 0.5}}, \"type\": \"bar\"}], \"barpolar\": [{\"marker\": {\"line\": {\"color\": \"#E5ECF6\", \"width\": 0.5}}, \"type\": \"barpolar\"}], \"carpet\": [{\"aaxis\": {\"endlinecolor\": \"#2a3f5f\", \"gridcolor\": \"white\", \"linecolor\": \"white\", \"minorgridcolor\": \"white\", \"startlinecolor\": \"#2a3f5f\"}, \"baxis\": {\"endlinecolor\": \"#2a3f5f\", \"gridcolor\": \"white\", \"linecolor\": \"white\", \"minorgridcolor\": \"white\", \"startlinecolor\": \"#2a3f5f\"}, \"type\": \"carpet\"}], \"choropleth\": [{\"colorbar\": {\"outlinewidth\": 0, \"ticks\": \"\"}, \"type\": \"choropleth\"}], \"contour\": [{\"colorbar\": {\"outlinewidth\": 0, \"ticks\": \"\"}, \"colorscale\": [[0.0, \"#0d0887\"], [0.1111111111111111, \"#46039f\"], [0.2222222222222222, \"#7201a8\"], [0.3333333333333333, \"#9c179e\"], [0.4444444444444444, \"#bd3786\"], [0.5555555555555556, \"#d8576b\"], [0.6666666666666666, \"#ed7953\"], [0.7777777777777778, \"#fb9f3a\"], [0.8888888888888888, \"#fdca26\"], [1.0, \"#f0f921\"]], \"type\": \"contour\"}], \"contourcarpet\": [{\"colorbar\": {\"outlinewidth\": 0, \"ticks\": \"\"}, \"type\": \"contourcarpet\"}], \"heatmap\": [{\"colorbar\": {\"outlinewidth\": 0, \"ticks\": \"\"}, \"colorscale\": [[0.0, \"#0d0887\"], [0.1111111111111111, \"#46039f\"], [0.2222222222222222, \"#7201a8\"], [0.3333333333333333, \"#9c179e\"], [0.4444444444444444, \"#bd3786\"], [0.5555555555555556, \"#d8576b\"], [0.6666666666666666, \"#ed7953\"], [0.7777777777777778, \"#fb9f3a\"], [0.8888888888888888, \"#fdca26\"], [1.0, \"#f0f921\"]], \"type\": \"heatmap\"}], \"heatmapgl\": [{\"colorbar\": {\"outlinewidth\": 0, \"ticks\": \"\"}, \"colorscale\": [[0.0, \"#0d0887\"], [0.1111111111111111, \"#46039f\"], [0.2222222222222222, \"#7201a8\"], [0.3333333333333333, \"#9c179e\"], [0.4444444444444444, \"#bd3786\"], [0.5555555555555556, \"#d8576b\"], [0.6666666666666666, \"#ed7953\"], [0.7777777777777778, \"#fb9f3a\"], [0.8888888888888888, \"#fdca26\"], [1.0, \"#f0f921\"]], \"type\": \"heatmapgl\"}], \"histogram\": [{\"marker\": {\"colorbar\": {\"outlinewidth\": 0, \"ticks\": \"\"}}, \"type\": \"histogram\"}], \"histogram2d\": [{\"colorbar\": {\"outlinewidth\": 0, \"ticks\": \"\"}, \"colorscale\": [[0.0, \"#0d0887\"], [0.1111111111111111, \"#46039f\"], [0.2222222222222222, \"#7201a8\"], [0.3333333333333333, \"#9c179e\"], [0.4444444444444444, \"#bd3786\"], [0.5555555555555556, \"#d8576b\"], [0.6666666666666666, \"#ed7953\"], [0.7777777777777778, \"#fb9f3a\"], [0.8888888888888888, \"#fdca26\"], [1.0, \"#f0f921\"]], \"type\": \"histogram2d\"}], \"histogram2dcontour\": [{\"colorbar\": {\"outlinewidth\": 0, \"ticks\": \"\"}, \"colorscale\": [[0.0, \"#0d0887\"], [0.1111111111111111, \"#46039f\"], [0.2222222222222222, \"#7201a8\"], [0.3333333333333333, \"#9c179e\"], [0.4444444444444444, \"#bd3786\"], [0.5555555555555556, \"#d8576b\"], [0.6666666666666666, \"#ed7953\"], [0.7777777777777778, \"#fb9f3a\"], [0.8888888888888888, \"#fdca26\"], [1.0, \"#f0f921\"]], \"type\": \"histogram2dcontour\"}], \"mesh3d\": [{\"colorbar\": {\"outlinewidth\": 0, \"ticks\": \"\"}, \"type\": \"mesh3d\"}], \"parcoords\": [{\"line\": {\"colorbar\": {\"outlinewidth\": 0, \"ticks\": \"\"}}, \"type\": \"parcoords\"}], \"pie\": [{\"automargin\": true, \"type\": \"pie\"}], \"scatter\": [{\"marker\": {\"colorbar\": {\"outlinewidth\": 0, \"ticks\": \"\"}}, \"type\": \"scatter\"}], \"scatter3d\": [{\"line\": {\"colorbar\": {\"outlinewidth\": 0, \"ticks\": \"\"}}, \"marker\": {\"colorbar\": {\"outlinewidth\": 0, \"ticks\": \"\"}}, \"type\": \"scatter3d\"}], \"scattercarpet\": [{\"marker\": {\"colorbar\": {\"outlinewidth\": 0, \"ticks\": \"\"}}, \"type\": \"scattercarpet\"}], \"scattergeo\": [{\"marker\": {\"colorbar\": {\"outlinewidth\": 0, \"ticks\": \"\"}}, \"type\": \"scattergeo\"}], \"scattergl\": [{\"marker\": {\"colorbar\": {\"outlinewidth\": 0, \"ticks\": \"\"}}, \"type\": \"scattergl\"}], \"scattermapbox\": [{\"marker\": {\"colorbar\": {\"outlinewidth\": 0, \"ticks\": \"\"}}, \"type\": \"scattermapbox\"}], \"scatterpolar\": [{\"marker\": {\"colorbar\": {\"outlinewidth\": 0, \"ticks\": \"\"}}, \"type\": \"scatterpolar\"}], \"scatterpolargl\": [{\"marker\": {\"colorbar\": {\"outlinewidth\": 0, \"ticks\": \"\"}}, \"type\": \"scatterpolargl\"}], \"scatterternary\": [{\"marker\": {\"colorbar\": {\"outlinewidth\": 0, \"ticks\": \"\"}}, \"type\": \"scatterternary\"}], \"surface\": [{\"colorbar\": {\"outlinewidth\": 0, \"ticks\": \"\"}, \"colorscale\": [[0.0, \"#0d0887\"], [0.1111111111111111, \"#46039f\"], [0.2222222222222222, \"#7201a8\"], [0.3333333333333333, \"#9c179e\"], [0.4444444444444444, \"#bd3786\"], [0.5555555555555556, \"#d8576b\"], [0.6666666666666666, \"#ed7953\"], [0.7777777777777778, \"#fb9f3a\"], [0.8888888888888888, \"#fdca26\"], [1.0, \"#f0f921\"]], \"type\": \"surface\"}], \"table\": [{\"cells\": {\"fill\": {\"color\": \"#EBF0F8\"}, \"line\": {\"color\": \"white\"}}, \"header\": {\"fill\": {\"color\": \"#C8D4E3\"}, \"line\": {\"color\": \"white\"}}, \"type\": \"table\"}]}, \"layout\": {\"annotationdefaults\": {\"arrowcolor\": \"#2a3f5f\", \"arrowhead\": 0, \"arrowwidth\": 1}, \"autotypenumbers\": \"strict\", \"coloraxis\": {\"colorbar\": {\"outlinewidth\": 0, \"ticks\": \"\"}}, \"colorscale\": {\"diverging\": [[0, \"#8e0152\"], [0.1, \"#c51b7d\"], [0.2, \"#de77ae\"], [0.3, \"#f1b6da\"], [0.4, \"#fde0ef\"], [0.5, \"#f7f7f7\"], [0.6, \"#e6f5d0\"], [0.7, \"#b8e186\"], [0.8, \"#7fbc41\"], [0.9, \"#4d9221\"], [1, \"#276419\"]], \"sequential\": [[0.0, \"#0d0887\"], [0.1111111111111111, \"#46039f\"], [0.2222222222222222, \"#7201a8\"], [0.3333333333333333, \"#9c179e\"], [0.4444444444444444, \"#bd3786\"], [0.5555555555555556, \"#d8576b\"], [0.6666666666666666, \"#ed7953\"], [0.7777777777777778, \"#fb9f3a\"], [0.8888888888888888, \"#fdca26\"], [1.0, \"#f0f921\"]], \"sequentialminus\": [[0.0, \"#0d0887\"], [0.1111111111111111, \"#46039f\"], [0.2222222222222222, \"#7201a8\"], [0.3333333333333333, \"#9c179e\"], [0.4444444444444444, \"#bd3786\"], [0.5555555555555556, \"#d8576b\"], [0.6666666666666666, \"#ed7953\"], [0.7777777777777778, \"#fb9f3a\"], [0.8888888888888888, \"#fdca26\"], [1.0, \"#f0f921\"]]}, \"colorway\": [\"#636efa\", \"#EF553B\", \"#00cc96\", \"#ab63fa\", \"#FFA15A\", \"#19d3f3\", \"#FF6692\", \"#B6E880\", \"#FF97FF\", \"#FECB52\"], \"font\": {\"color\": \"#2a3f5f\"}, \"geo\": {\"bgcolor\": \"white\", \"lakecolor\": \"white\", \"landcolor\": \"#E5ECF6\", \"showlakes\": true, \"showland\": true, \"subunitcolor\": \"white\"}, \"hoverlabel\": {\"align\": \"left\"}, \"hovermode\": \"closest\", \"mapbox\": {\"style\": \"light\"}, \"paper_bgcolor\": \"white\", \"plot_bgcolor\": \"#E5ECF6\", \"polar\": {\"angularaxis\": {\"gridcolor\": \"white\", \"linecolor\": \"white\", \"ticks\": \"\"}, \"bgcolor\": \"#E5ECF6\", \"radialaxis\": {\"gridcolor\": \"white\", \"linecolor\": \"white\", \"ticks\": \"\"}}, \"scene\": {\"xaxis\": {\"backgroundcolor\": \"#E5ECF6\", \"gridcolor\": \"white\", \"gridwidth\": 2, \"linecolor\": \"white\", \"showbackground\": true, \"ticks\": \"\", \"zerolinecolor\": \"white\"}, \"yaxis\": {\"backgroundcolor\": \"#E5ECF6\", \"gridcolor\": \"white\", \"gridwidth\": 2, \"linecolor\": \"white\", \"showbackground\": true, \"ticks\": \"\", \"zerolinecolor\": \"white\"}, \"zaxis\": {\"backgroundcolor\": \"#E5ECF6\", \"gridcolor\": \"white\", \"gridwidth\": 2, \"linecolor\": \"white\", \"showbackground\": true, \"ticks\": \"\", \"zerolinecolor\": \"white\"}}, \"shapedefaults\": {\"line\": {\"color\": \"#2a3f5f\"}}, \"ternary\": {\"aaxis\": {\"gridcolor\": \"white\", \"linecolor\": \"white\", \"ticks\": \"\"}, \"baxis\": {\"gridcolor\": \"white\", \"linecolor\": \"white\", \"ticks\": \"\"}, \"bgcolor\": \"#E5ECF6\", \"caxis\": {\"gridcolor\": \"white\", \"linecolor\": \"white\", \"ticks\": \"\"}}, \"title\": {\"x\": 0.05}, \"xaxis\": {\"automargin\": true, \"gridcolor\": \"white\", \"linecolor\": \"white\", \"ticks\": \"\", \"title\": {\"standoff\": 15}, \"zerolinecolor\": \"white\", \"zerolinewidth\": 2}, \"yaxis\": {\"automargin\": true, \"gridcolor\": \"white\", \"linecolor\": \"white\", \"ticks\": \"\", \"title\": {\"standoff\": 15}, \"zerolinecolor\": \"white\", \"zerolinewidth\": 2}}}, \"title\": {\"text\": \"Fitting an harmonic curve to the accidents\"}, \"xaxis\": {\"anchor\": \"y\", \"domain\": [0.0, 0.94], \"dtick\": 2, \"gridcolor\": \"black\", \"gridwidth\": 1, \"linecolor\": \"black\", \"linewidth\": 2, \"mirror\": true, \"showgrid\": true, \"showline\": true, \"tick0\": 0, \"tickmode\": \"linear\", \"title\": {\"text\": \"Time of day\"}}, \"yaxis\": {\"anchor\": \"x\", \"domain\": [0.0, 1.0], \"gridcolor\": \"black\", \"gridwidth\": 1, \"linecolor\": \"black\", \"linewidth\": 2, \"mirror\": true, \"showgrid\": false, \"showline\": true, \"title\": {\"text\": \"<b>Z-Score</b>\"}}, \"yaxis2\": {\"anchor\": \"x\", \"gridcolor\": \"black\", \"gridwidth\": 1, \"linecolor\": \"black\", \"linewidth\": 2, \"mirror\": true, \"overlaying\": \"y\", \"showgrid\": false, \"showline\": true, \"side\": \"right\"}},                        {\"responsive\": true}                    ).then(function(){\n",
              "                            \n",
              "var gd = document.getElementById('b0677fcd-3f15-4fdf-9e10-dd97266f2041');\n",
              "var x = new MutationObserver(function (mutations, observer) {{\n",
              "        var display = window.getComputedStyle(gd).display;\n",
              "        if (!display || display === 'none') {{\n",
              "            console.log([gd, 'removed!']);\n",
              "            Plotly.purge(gd);\n",
              "            observer.disconnect();\n",
              "        }}\n",
              "}});\n",
              "\n",
              "// Listen for the removal of the full notebook cells\n",
              "var notebookContainer = gd.closest('#notebook-container');\n",
              "if (notebookContainer) {{\n",
              "    x.observe(notebookContainer, {childList: true});\n",
              "}}\n",
              "\n",
              "// Listen for the clearing of the current output cell\n",
              "var outputEl = gd.closest('.output');\n",
              "if (outputEl) {{\n",
              "    x.observe(outputEl, {childList: true});\n",
              "}}\n",
              "\n",
              "                        })                };                            </script>        </div>\n",
              "</body>\n",
              "</html>"
            ]
          },
          "metadata": {
            "tags": []
          }
        }
      ]
    },
    {
      "cell_type": "code",
      "metadata": {
        "colab": {
          "base_uri": "https://localhost:8080/"
        },
        "id": "yFKwotrZc_70",
        "outputId": "009eb99b-f6bf-42da-e8b1-1105f29aef0f"
      },
      "source": [
        "Y = stats.zscore(at9r/m9r)\r\n",
        "X_m = stats.zscore(sinusoid(X, *parama))\r\n",
        "X_m = sm.add_constant(X_m)\r\n",
        "model = sm.OLS(Y,X_m)\r\n",
        "results = model.fit()\r\n",
        "results.params\r\n",
        "\r\n",
        "y5 = results.predict(X_m)\r\n",
        "print(results.summary())"
      ],
      "execution_count": 318,
      "outputs": [
        {
          "output_type": "stream",
          "text": [
            "/usr/local/lib/python3.7/dist-packages/scipy/stats/stats.py:1535: UserWarning:\n",
            "\n",
            "kurtosistest only valid for n>=20 ... continuing anyway, n=12\n",
            "\n"
          ],
          "name": "stderr"
        },
        {
          "output_type": "stream",
          "text": [
            "                            OLS Regression Results                            \n",
            "==============================================================================\n",
            "Dep. Variable:                      y   R-squared:                       0.244\n",
            "Model:                            OLS   Adj. R-squared:                  0.169\n",
            "Method:                 Least Squares   F-statistic:                     3.231\n",
            "Date:                Fri, 05 Mar 2021   Prob (F-statistic):              0.102\n",
            "Time:                        13:36:46   Log-Likelihood:                -15.347\n",
            "No. Observations:                  12   AIC:                             34.69\n",
            "Df Residuals:                      10   BIC:                             35.66\n",
            "Df Model:                           1                                         \n",
            "Covariance Type:            nonrobust                                         \n",
            "==============================================================================\n",
            "                 coef    std err          t      P>|t|      [0.025      0.975]\n",
            "------------------------------------------------------------------------------\n",
            "const       1.388e-16      0.275   5.05e-16      1.000      -0.613       0.613\n",
            "x1             0.4942      0.275      1.798      0.102      -0.118       1.107\n",
            "==============================================================================\n",
            "Omnibus:                        6.507   Durbin-Watson:                   2.403\n",
            "Prob(Omnibus):                  0.039   Jarque-Bera (JB):                2.687\n",
            "Skew:                           0.906   Prob(JB):                        0.261\n",
            "Kurtosis:                       4.447   Cond. No.                         1.00\n",
            "==============================================================================\n",
            "\n",
            "Warnings:\n",
            "[1] Standard Errors assume that the covariance matrix of the errors is correctly specified.\n"
          ],
          "name": "stdout"
        }
      ]
    },
    {
      "cell_type": "code",
      "metadata": {
        "id": "_SSgCbYAfm5N"
      },
      "source": [
        "Nbins = 12\n",
        "X = np.linspace(0,24,Nbins)\n",
        "X = X[0:12]\n",
        "acs = of3r/m3r"
      ],
      "execution_count": 319,
      "outputs": []
    },
    {
      "cell_type": "code",
      "metadata": {
        "colab": {
          "base_uri": "https://localhost:8080/"
        },
        "id": "-j3UZlA1fm5N",
        "outputId": "ae652f90-0e07-4a3e-dba8-72e5bfe1d818"
      },
      "source": [
        "parama, covariancea = curve_fit(sinusoid, X, acs, p0=get_p0(X,acs))"
      ],
      "execution_count": 320,
      "outputs": [
        {
          "output_type": "stream",
          "text": [
            "/usr/local/lib/python3.7/dist-packages/scipy/optimize/minpack.py:808: OptimizeWarning:\n",
            "\n",
            "Covariance of the parameters could not be estimated\n",
            "\n"
          ],
          "name": "stderr"
        }
      ]
    },
    {
      "cell_type": "code",
      "metadata": {
        "colab": {
          "base_uri": "https://localhost:8080/",
          "height": 542
        },
        "id": "WZTpathCdFZc",
        "outputId": "4823d9ee-fcd5-480b-daba-b9707fb2284e"
      },
      "source": [
        "#5\r\n",
        "graphics_plot(y = [stats.zscore(of3r/m3r), stats.zscore(sinusoid(X, *parama))], \r\n",
        "              y_name=['Selected accidents - raw', 'Selected accidents - fit'], yaxes_title=['Z-Score'], \r\n",
        "              title='Fitting an harmonic curve to the accidents', bins=Nbins, x_tick=agr)"
      ],
      "execution_count": 321,
      "outputs": [
        {
          "output_type": "display_data",
          "data": {
            "text/html": [
              "<html>\n",
              "<head><meta charset=\"utf-8\" /></head>\n",
              "<body>\n",
              "    <div>            <script src=\"https://cdnjs.cloudflare.com/ajax/libs/mathjax/2.7.5/MathJax.js?config=TeX-AMS-MML_SVG\"></script><script type=\"text/javascript\">if (window.MathJax) {MathJax.Hub.Config({SVG: {font: \"STIX-Web\"}});}</script>                <script type=\"text/javascript\">window.PlotlyConfig = {MathJaxConfig: 'local'};</script>\n",
              "        <script src=\"https://cdn.plot.ly/plotly-latest.min.js\"></script>                <div id=\"aa2d5c05-a9d8-45e0-9240-a1d7e6a66e7d\" class=\"plotly-graph-div\" style=\"height:525px; width:100%;\"></div>            <script type=\"text/javascript\">                                    window.PLOTLYENV=window.PLOTLYENV || {};                                    if (document.getElementById(\"aa2d5c05-a9d8-45e0-9240-a1d7e6a66e7d\")) {                    Plotly.newPlot(                        \"aa2d5c05-a9d8-45e0-9240-a1d7e6a66e7d\",                        [{\"line\": {\"color\": \"rgb(0, 0, 0)\", \"width\": 2}, \"marker\": {\"size\": 7, \"symbol\": \"circle\"}, \"mode\": \"lines+markers\", \"name\": \"Selected accidents - raw\", \"type\": \"scatter\", \"x\": [0.0, 2.1818181818181817, 4.363636363636363, 6.545454545454545, 8.727272727272727, 10.909090909090908, 13.09090909090909, 15.272727272727272, 17.454545454545453, 19.636363636363633, 21.818181818181817, 24.0], \"xaxis\": \"x\", \"y\": [1.0169674372795197, 1.5161813627060936, 1.920330873114408, -0.34819661779128364, -0.1765895194078711, 0.49208641567232303, 0.125202274300889, -0.5930678304270564, -1.1138468667362773, -1.150903614195074, -1.18108279356595, -0.5070811209497192], \"yaxis\": \"y\"}, {\"line\": {\"color\": \"rgb(0, 0, 0)\", \"dash\": \"dash\", \"width\": 2}, \"marker\": {\"size\": 7, \"symbol\": \"star\"}, \"mode\": \"lines+markers\", \"name\": \"Selected accidents - fit\", \"type\": \"scatter\", \"x\": [0.0, 2.1818181818181817, 4.363636363636363, 6.545454545454545, 8.727272727272727, 10.909090909090908, 13.09090909090909, 15.272727272727272, 17.454545454545453, 19.636363636363633, 21.818181818181817, 24.0], \"xaxis\": \"x\", \"y\": [0.257636099283529, 0.9945508530971772, 1.4082665890172892, 1.367431484064935, 0.885010395535422, 0.11416861041234266, -0.7003570510355138, -1.2999604464617618, -1.494271734413712, -1.2215984539045739, -0.5685124448786624, 0.257636099283529], \"yaxis\": \"y\"}],                        {\"legend\": {\"orientation\": \"h\", \"x\": 0.95, \"xanchor\": \"right\", \"y\": 1.01, \"yanchor\": \"bottom\"}, \"paper_bgcolor\": \"rgba(0,0,0,0)\", \"plot_bgcolor\": \"rgba(0,0,0,0)\", \"template\": {\"data\": {\"bar\": [{\"error_x\": {\"color\": \"#2a3f5f\"}, \"error_y\": {\"color\": \"#2a3f5f\"}, \"marker\": {\"line\": {\"color\": \"#E5ECF6\", \"width\": 0.5}}, \"type\": \"bar\"}], \"barpolar\": [{\"marker\": {\"line\": {\"color\": \"#E5ECF6\", \"width\": 0.5}}, \"type\": \"barpolar\"}], \"carpet\": [{\"aaxis\": {\"endlinecolor\": \"#2a3f5f\", \"gridcolor\": \"white\", \"linecolor\": \"white\", \"minorgridcolor\": \"white\", \"startlinecolor\": \"#2a3f5f\"}, \"baxis\": {\"endlinecolor\": \"#2a3f5f\", \"gridcolor\": \"white\", \"linecolor\": \"white\", \"minorgridcolor\": \"white\", \"startlinecolor\": \"#2a3f5f\"}, \"type\": \"carpet\"}], \"choropleth\": [{\"colorbar\": {\"outlinewidth\": 0, \"ticks\": \"\"}, \"type\": \"choropleth\"}], \"contour\": [{\"colorbar\": {\"outlinewidth\": 0, \"ticks\": \"\"}, \"colorscale\": [[0.0, \"#0d0887\"], [0.1111111111111111, \"#46039f\"], [0.2222222222222222, \"#7201a8\"], [0.3333333333333333, \"#9c179e\"], [0.4444444444444444, \"#bd3786\"], [0.5555555555555556, \"#d8576b\"], [0.6666666666666666, \"#ed7953\"], [0.7777777777777778, \"#fb9f3a\"], [0.8888888888888888, \"#fdca26\"], [1.0, \"#f0f921\"]], \"type\": \"contour\"}], \"contourcarpet\": [{\"colorbar\": {\"outlinewidth\": 0, \"ticks\": \"\"}, \"type\": \"contourcarpet\"}], \"heatmap\": [{\"colorbar\": {\"outlinewidth\": 0, \"ticks\": \"\"}, \"colorscale\": [[0.0, \"#0d0887\"], [0.1111111111111111, \"#46039f\"], [0.2222222222222222, \"#7201a8\"], [0.3333333333333333, \"#9c179e\"], [0.4444444444444444, \"#bd3786\"], [0.5555555555555556, \"#d8576b\"], [0.6666666666666666, \"#ed7953\"], [0.7777777777777778, \"#fb9f3a\"], [0.8888888888888888, \"#fdca26\"], [1.0, \"#f0f921\"]], \"type\": \"heatmap\"}], \"heatmapgl\": [{\"colorbar\": {\"outlinewidth\": 0, \"ticks\": \"\"}, \"colorscale\": [[0.0, \"#0d0887\"], [0.1111111111111111, \"#46039f\"], [0.2222222222222222, \"#7201a8\"], [0.3333333333333333, \"#9c179e\"], [0.4444444444444444, \"#bd3786\"], [0.5555555555555556, \"#d8576b\"], [0.6666666666666666, \"#ed7953\"], [0.7777777777777778, \"#fb9f3a\"], [0.8888888888888888, \"#fdca26\"], [1.0, \"#f0f921\"]], \"type\": \"heatmapgl\"}], \"histogram\": [{\"marker\": {\"colorbar\": {\"outlinewidth\": 0, \"ticks\": \"\"}}, \"type\": \"histogram\"}], \"histogram2d\": [{\"colorbar\": {\"outlinewidth\": 0, \"ticks\": \"\"}, \"colorscale\": [[0.0, \"#0d0887\"], [0.1111111111111111, \"#46039f\"], [0.2222222222222222, \"#7201a8\"], [0.3333333333333333, \"#9c179e\"], [0.4444444444444444, \"#bd3786\"], [0.5555555555555556, \"#d8576b\"], [0.6666666666666666, \"#ed7953\"], [0.7777777777777778, \"#fb9f3a\"], [0.8888888888888888, \"#fdca26\"], [1.0, \"#f0f921\"]], \"type\": \"histogram2d\"}], \"histogram2dcontour\": [{\"colorbar\": {\"outlinewidth\": 0, \"ticks\": \"\"}, \"colorscale\": [[0.0, \"#0d0887\"], [0.1111111111111111, \"#46039f\"], [0.2222222222222222, \"#7201a8\"], [0.3333333333333333, \"#9c179e\"], [0.4444444444444444, \"#bd3786\"], [0.5555555555555556, \"#d8576b\"], [0.6666666666666666, \"#ed7953\"], [0.7777777777777778, \"#fb9f3a\"], [0.8888888888888888, \"#fdca26\"], [1.0, \"#f0f921\"]], \"type\": \"histogram2dcontour\"}], \"mesh3d\": [{\"colorbar\": {\"outlinewidth\": 0, \"ticks\": \"\"}, \"type\": \"mesh3d\"}], \"parcoords\": [{\"line\": {\"colorbar\": {\"outlinewidth\": 0, \"ticks\": \"\"}}, \"type\": \"parcoords\"}], \"pie\": [{\"automargin\": true, \"type\": \"pie\"}], \"scatter\": [{\"marker\": {\"colorbar\": {\"outlinewidth\": 0, \"ticks\": \"\"}}, \"type\": \"scatter\"}], \"scatter3d\": [{\"line\": {\"colorbar\": {\"outlinewidth\": 0, \"ticks\": \"\"}}, \"marker\": {\"colorbar\": {\"outlinewidth\": 0, \"ticks\": \"\"}}, \"type\": \"scatter3d\"}], \"scattercarpet\": [{\"marker\": {\"colorbar\": {\"outlinewidth\": 0, \"ticks\": \"\"}}, \"type\": \"scattercarpet\"}], \"scattergeo\": [{\"marker\": {\"colorbar\": {\"outlinewidth\": 0, \"ticks\": \"\"}}, \"type\": \"scattergeo\"}], \"scattergl\": [{\"marker\": {\"colorbar\": {\"outlinewidth\": 0, \"ticks\": \"\"}}, \"type\": \"scattergl\"}], \"scattermapbox\": [{\"marker\": {\"colorbar\": {\"outlinewidth\": 0, \"ticks\": \"\"}}, \"type\": \"scattermapbox\"}], \"scatterpolar\": [{\"marker\": {\"colorbar\": {\"outlinewidth\": 0, \"ticks\": \"\"}}, \"type\": \"scatterpolar\"}], \"scatterpolargl\": [{\"marker\": {\"colorbar\": {\"outlinewidth\": 0, \"ticks\": \"\"}}, \"type\": \"scatterpolargl\"}], \"scatterternary\": [{\"marker\": {\"colorbar\": {\"outlinewidth\": 0, \"ticks\": \"\"}}, \"type\": \"scatterternary\"}], \"surface\": [{\"colorbar\": {\"outlinewidth\": 0, \"ticks\": \"\"}, \"colorscale\": [[0.0, \"#0d0887\"], [0.1111111111111111, \"#46039f\"], [0.2222222222222222, \"#7201a8\"], [0.3333333333333333, \"#9c179e\"], [0.4444444444444444, \"#bd3786\"], [0.5555555555555556, \"#d8576b\"], [0.6666666666666666, \"#ed7953\"], [0.7777777777777778, \"#fb9f3a\"], [0.8888888888888888, \"#fdca26\"], [1.0, \"#f0f921\"]], \"type\": \"surface\"}], \"table\": [{\"cells\": {\"fill\": {\"color\": \"#EBF0F8\"}, \"line\": {\"color\": \"white\"}}, \"header\": {\"fill\": {\"color\": \"#C8D4E3\"}, \"line\": {\"color\": \"white\"}}, \"type\": \"table\"}]}, \"layout\": {\"annotationdefaults\": {\"arrowcolor\": \"#2a3f5f\", \"arrowhead\": 0, \"arrowwidth\": 1}, \"autotypenumbers\": \"strict\", \"coloraxis\": {\"colorbar\": {\"outlinewidth\": 0, \"ticks\": \"\"}}, \"colorscale\": {\"diverging\": [[0, \"#8e0152\"], [0.1, \"#c51b7d\"], [0.2, \"#de77ae\"], [0.3, \"#f1b6da\"], [0.4, \"#fde0ef\"], [0.5, \"#f7f7f7\"], [0.6, \"#e6f5d0\"], [0.7, \"#b8e186\"], [0.8, \"#7fbc41\"], [0.9, \"#4d9221\"], [1, \"#276419\"]], \"sequential\": [[0.0, \"#0d0887\"], [0.1111111111111111, \"#46039f\"], [0.2222222222222222, \"#7201a8\"], [0.3333333333333333, \"#9c179e\"], [0.4444444444444444, \"#bd3786\"], [0.5555555555555556, \"#d8576b\"], [0.6666666666666666, \"#ed7953\"], [0.7777777777777778, \"#fb9f3a\"], [0.8888888888888888, \"#fdca26\"], [1.0, \"#f0f921\"]], \"sequentialminus\": [[0.0, \"#0d0887\"], [0.1111111111111111, \"#46039f\"], [0.2222222222222222, \"#7201a8\"], [0.3333333333333333, \"#9c179e\"], [0.4444444444444444, \"#bd3786\"], [0.5555555555555556, \"#d8576b\"], [0.6666666666666666, \"#ed7953\"], [0.7777777777777778, \"#fb9f3a\"], [0.8888888888888888, \"#fdca26\"], [1.0, \"#f0f921\"]]}, \"colorway\": [\"#636efa\", \"#EF553B\", \"#00cc96\", \"#ab63fa\", \"#FFA15A\", \"#19d3f3\", \"#FF6692\", \"#B6E880\", \"#FF97FF\", \"#FECB52\"], \"font\": {\"color\": \"#2a3f5f\"}, \"geo\": {\"bgcolor\": \"white\", \"lakecolor\": \"white\", \"landcolor\": \"#E5ECF6\", \"showlakes\": true, \"showland\": true, \"subunitcolor\": \"white\"}, \"hoverlabel\": {\"align\": \"left\"}, \"hovermode\": \"closest\", \"mapbox\": {\"style\": \"light\"}, \"paper_bgcolor\": \"white\", \"plot_bgcolor\": \"#E5ECF6\", \"polar\": {\"angularaxis\": {\"gridcolor\": \"white\", \"linecolor\": \"white\", \"ticks\": \"\"}, \"bgcolor\": \"#E5ECF6\", \"radialaxis\": {\"gridcolor\": \"white\", \"linecolor\": \"white\", \"ticks\": \"\"}}, \"scene\": {\"xaxis\": {\"backgroundcolor\": \"#E5ECF6\", \"gridcolor\": \"white\", \"gridwidth\": 2, \"linecolor\": \"white\", \"showbackground\": true, \"ticks\": \"\", \"zerolinecolor\": \"white\"}, \"yaxis\": {\"backgroundcolor\": \"#E5ECF6\", \"gridcolor\": \"white\", \"gridwidth\": 2, \"linecolor\": \"white\", \"showbackground\": true, \"ticks\": \"\", \"zerolinecolor\": \"white\"}, \"zaxis\": {\"backgroundcolor\": \"#E5ECF6\", \"gridcolor\": \"white\", \"gridwidth\": 2, \"linecolor\": \"white\", \"showbackground\": true, \"ticks\": \"\", \"zerolinecolor\": \"white\"}}, \"shapedefaults\": {\"line\": {\"color\": \"#2a3f5f\"}}, \"ternary\": {\"aaxis\": {\"gridcolor\": \"white\", \"linecolor\": \"white\", \"ticks\": \"\"}, \"baxis\": {\"gridcolor\": \"white\", \"linecolor\": \"white\", \"ticks\": \"\"}, \"bgcolor\": \"#E5ECF6\", \"caxis\": {\"gridcolor\": \"white\", \"linecolor\": \"white\", \"ticks\": \"\"}}, \"title\": {\"x\": 0.05}, \"xaxis\": {\"automargin\": true, \"gridcolor\": \"white\", \"linecolor\": \"white\", \"ticks\": \"\", \"title\": {\"standoff\": 15}, \"zerolinecolor\": \"white\", \"zerolinewidth\": 2}, \"yaxis\": {\"automargin\": true, \"gridcolor\": \"white\", \"linecolor\": \"white\", \"ticks\": \"\", \"title\": {\"standoff\": 15}, \"zerolinecolor\": \"white\", \"zerolinewidth\": 2}}}, \"title\": {\"text\": \"Fitting an harmonic curve to the accidents\"}, \"xaxis\": {\"anchor\": \"y\", \"domain\": [0.0, 0.94], \"dtick\": 2, \"gridcolor\": \"black\", \"gridwidth\": 1, \"linecolor\": \"black\", \"linewidth\": 2, \"mirror\": true, \"showgrid\": true, \"showline\": true, \"tick0\": 0, \"tickmode\": \"linear\", \"title\": {\"text\": \"Time of day\"}}, \"yaxis\": {\"anchor\": \"x\", \"domain\": [0.0, 1.0], \"gridcolor\": \"black\", \"gridwidth\": 1, \"linecolor\": \"black\", \"linewidth\": 2, \"mirror\": true, \"showgrid\": false, \"showline\": true, \"title\": {\"text\": \"<b>Z-Score</b>\"}}, \"yaxis2\": {\"anchor\": \"x\", \"gridcolor\": \"black\", \"gridwidth\": 1, \"linecolor\": \"black\", \"linewidth\": 2, \"mirror\": true, \"overlaying\": \"y\", \"showgrid\": false, \"showline\": true, \"side\": \"right\"}},                        {\"responsive\": true}                    ).then(function(){\n",
              "                            \n",
              "var gd = document.getElementById('aa2d5c05-a9d8-45e0-9240-a1d7e6a66e7d');\n",
              "var x = new MutationObserver(function (mutations, observer) {{\n",
              "        var display = window.getComputedStyle(gd).display;\n",
              "        if (!display || display === 'none') {{\n",
              "            console.log([gd, 'removed!']);\n",
              "            Plotly.purge(gd);\n",
              "            observer.disconnect();\n",
              "        }}\n",
              "}});\n",
              "\n",
              "// Listen for the removal of the full notebook cells\n",
              "var notebookContainer = gd.closest('#notebook-container');\n",
              "if (notebookContainer) {{\n",
              "    x.observe(notebookContainer, {childList: true});\n",
              "}}\n",
              "\n",
              "// Listen for the clearing of the current output cell\n",
              "var outputEl = gd.closest('.output');\n",
              "if (outputEl) {{\n",
              "    x.observe(outputEl, {childList: true});\n",
              "}}\n",
              "\n",
              "                        })                };                            </script>        </div>\n",
              "</body>\n",
              "</html>"
            ]
          },
          "metadata": {
            "tags": []
          }
        }
      ]
    },
    {
      "cell_type": "code",
      "metadata": {
        "colab": {
          "base_uri": "https://localhost:8080/"
        },
        "id": "WmU2pirRdawh",
        "outputId": "4c1bd2ae-e40d-4bec-c31f-e7b5402e6979"
      },
      "source": [
        "Y = stats.zscore(of3r/m3r)\r\n",
        "X_m = stats.zscore(sinusoid(X, *parama))\r\n",
        "X_m = sm.add_constant(X_m)\r\n",
        "model = sm.OLS(Y,X_m)\r\n",
        "results = model.fit()\r\n",
        "results.params\r\n",
        "\r\n",
        "y5 = results.predict(X_m)\r\n",
        "print(results.summary())"
      ],
      "execution_count": 322,
      "outputs": [
        {
          "output_type": "stream",
          "text": [
            "/usr/local/lib/python3.7/dist-packages/scipy/stats/stats.py:1535: UserWarning:\n",
            "\n",
            "kurtosistest only valid for n>=20 ... continuing anyway, n=12\n",
            "\n"
          ],
          "name": "stderr"
        },
        {
          "output_type": "stream",
          "text": [
            "                            OLS Regression Results                            \n",
            "==============================================================================\n",
            "Dep. Variable:                      y   R-squared:                       0.466\n",
            "Model:                            OLS   Adj. R-squared:                  0.413\n",
            "Method:                 Least Squares   F-statistic:                     8.730\n",
            "Date:                Fri, 05 Mar 2021   Prob (F-statistic):             0.0144\n",
            "Time:                        13:36:46   Log-Likelihood:                -13.262\n",
            "No. Observations:                  12   AIC:                             30.52\n",
            "Df Residuals:                      10   BIC:                             31.49\n",
            "Df Model:                           1                                         \n",
            "Covariance Type:            nonrobust                                         \n",
            "==============================================================================\n",
            "                 coef    std err          t      P>|t|      [0.025      0.975]\n",
            "------------------------------------------------------------------------------\n",
            "const       1.665e-16      0.231   7.21e-16      1.000      -0.515       0.515\n",
            "x1             0.6827      0.231      2.955      0.014       0.168       1.198\n",
            "==============================================================================\n",
            "Omnibus:                        2.243   Durbin-Watson:                   1.137\n",
            "Prob(Omnibus):                  0.326   Jarque-Bera (JB):                0.990\n",
            "Skew:                          -0.225   Prob(JB):                        0.610\n",
            "Kurtosis:                       1.666   Cond. No.                         1.00\n",
            "==============================================================================\n",
            "\n",
            "Warnings:\n",
            "[1] Standard Errors assume that the covariance matrix of the errors is correctly specified.\n"
          ],
          "name": "stdout"
        }
      ]
    },
    {
      "cell_type": "code",
      "metadata": {
        "id": "5Rr-vBd6f-bd"
      },
      "source": [
        "Nbins = 12\n",
        "X = np.linspace(0,24,Nbins)\n",
        "X = X[0:12]\n",
        "acs = of5r/m5r"
      ],
      "execution_count": 323,
      "outputs": []
    },
    {
      "cell_type": "code",
      "metadata": {
        "colab": {
          "base_uri": "https://localhost:8080/"
        },
        "id": "g73W9Ypof-bf",
        "outputId": "bd085f16-1c26-4204-84d3-ead0002e31e8"
      },
      "source": [
        "parama, covariancea = curve_fit(sinusoid, X, acs, p0=get_p0(X,acs))"
      ],
      "execution_count": 324,
      "outputs": [
        {
          "output_type": "stream",
          "text": [
            "/usr/local/lib/python3.7/dist-packages/scipy/optimize/minpack.py:808: OptimizeWarning:\n",
            "\n",
            "Covariance of the parameters could not be estimated\n",
            "\n"
          ],
          "name": "stderr"
        }
      ]
    },
    {
      "cell_type": "code",
      "metadata": {
        "colab": {
          "base_uri": "https://localhost:8080/",
          "height": 542
        },
        "id": "SdkBJTV0dfRI",
        "outputId": "3c401b11-bea8-4cf6-a1a3-3952e65d32e2"
      },
      "source": [
        "#6\r\n",
        "graphics_plot(y = [stats.zscore(of5r/m5r), -stats.zscore(sinusoid(X, *paramy))], \r\n",
        "              y_name=['Selected accidents - raw', 'Selected accidents - fit'], yaxes_title=['Z-Score'], \r\n",
        "              title='Fitting an harmonic curve to the accidents', bins=Nbins, x_tick=agr)"
      ],
      "execution_count": 325,
      "outputs": [
        {
          "output_type": "display_data",
          "data": {
            "text/html": [
              "<html>\n",
              "<head><meta charset=\"utf-8\" /></head>\n",
              "<body>\n",
              "    <div>            <script src=\"https://cdnjs.cloudflare.com/ajax/libs/mathjax/2.7.5/MathJax.js?config=TeX-AMS-MML_SVG\"></script><script type=\"text/javascript\">if (window.MathJax) {MathJax.Hub.Config({SVG: {font: \"STIX-Web\"}});}</script>                <script type=\"text/javascript\">window.PlotlyConfig = {MathJaxConfig: 'local'};</script>\n",
              "        <script src=\"https://cdn.plot.ly/plotly-latest.min.js\"></script>                <div id=\"58fc26b3-2279-4c43-9820-b0944385ad3f\" class=\"plotly-graph-div\" style=\"height:525px; width:100%;\"></div>            <script type=\"text/javascript\">                                    window.PLOTLYENV=window.PLOTLYENV || {};                                    if (document.getElementById(\"58fc26b3-2279-4c43-9820-b0944385ad3f\")) {                    Plotly.newPlot(                        \"58fc26b3-2279-4c43-9820-b0944385ad3f\",                        [{\"line\": {\"color\": \"rgb(0, 0, 0)\", \"width\": 2}, \"marker\": {\"size\": 7, \"symbol\": \"circle\"}, \"mode\": \"lines+markers\", \"name\": \"Selected accidents - raw\", \"type\": \"scatter\", \"x\": [0.0, 2.1818181818181817, 4.363636363636363, 6.545454545454545, 8.727272727272727, 10.909090909090908, 13.09090909090909, 15.272727272727272, 17.454545454545453, 19.636363636363633, 21.818181818181817, 24.0], \"xaxis\": \"x\", \"y\": [-0.9988874386431446, -0.8901500967669608, -0.6696543506192165, 0.4363738626410276, 1.1841823632855182, 1.1515327715318664, 1.4244125024022094, 1.1367614787700917, 0.3961049047933223, -0.9676337421011163, -1.1297400844410679, -1.0733021708525248], \"yaxis\": \"y\"}, {\"line\": {\"color\": \"rgb(0, 0, 0)\", \"dash\": \"dash\", \"width\": 2}, \"marker\": {\"size\": 7, \"symbol\": \"star\"}, \"mode\": \"lines+markers\", \"name\": \"Selected accidents - fit\", \"type\": \"scatter\", \"x\": [0.0, 2.1818181818181817, 4.363636363636363, 6.545454545454545, 8.727272727272727, 10.909090909090908, 13.09090909090909, 15.272727272727272, 17.454545454545453, 19.636363636363633, 21.818181818181817, 24.0], \"xaxis\": \"x\", \"y\": [-1.2254375482469704, -1.1814415996178778, -0.7269764941375122, -0.006331691698898965, 0.7516931747565591, 1.3064305660770237, 1.481755280105354, 1.2220029589227877, 0.6096431291825899, -0.1609042899005252, -0.8449959371955699, -1.2254375482469697], \"yaxis\": \"y\"}],                        {\"legend\": {\"orientation\": \"h\", \"x\": 0.95, \"xanchor\": \"right\", \"y\": 1.01, \"yanchor\": \"bottom\"}, \"paper_bgcolor\": \"rgba(0,0,0,0)\", \"plot_bgcolor\": \"rgba(0,0,0,0)\", \"template\": {\"data\": {\"bar\": [{\"error_x\": {\"color\": \"#2a3f5f\"}, \"error_y\": {\"color\": \"#2a3f5f\"}, \"marker\": {\"line\": {\"color\": \"#E5ECF6\", \"width\": 0.5}}, \"type\": \"bar\"}], \"barpolar\": [{\"marker\": {\"line\": {\"color\": \"#E5ECF6\", \"width\": 0.5}}, \"type\": \"barpolar\"}], \"carpet\": [{\"aaxis\": {\"endlinecolor\": \"#2a3f5f\", \"gridcolor\": \"white\", \"linecolor\": \"white\", \"minorgridcolor\": \"white\", \"startlinecolor\": \"#2a3f5f\"}, \"baxis\": {\"endlinecolor\": \"#2a3f5f\", \"gridcolor\": \"white\", \"linecolor\": \"white\", \"minorgridcolor\": \"white\", \"startlinecolor\": \"#2a3f5f\"}, \"type\": \"carpet\"}], \"choropleth\": [{\"colorbar\": {\"outlinewidth\": 0, \"ticks\": \"\"}, \"type\": \"choropleth\"}], \"contour\": [{\"colorbar\": {\"outlinewidth\": 0, \"ticks\": \"\"}, \"colorscale\": [[0.0, \"#0d0887\"], [0.1111111111111111, \"#46039f\"], [0.2222222222222222, \"#7201a8\"], [0.3333333333333333, \"#9c179e\"], [0.4444444444444444, \"#bd3786\"], [0.5555555555555556, \"#d8576b\"], [0.6666666666666666, \"#ed7953\"], [0.7777777777777778, \"#fb9f3a\"], [0.8888888888888888, \"#fdca26\"], [1.0, \"#f0f921\"]], \"type\": \"contour\"}], \"contourcarpet\": [{\"colorbar\": {\"outlinewidth\": 0, \"ticks\": \"\"}, \"type\": \"contourcarpet\"}], \"heatmap\": [{\"colorbar\": {\"outlinewidth\": 0, \"ticks\": \"\"}, \"colorscale\": [[0.0, \"#0d0887\"], [0.1111111111111111, \"#46039f\"], [0.2222222222222222, \"#7201a8\"], [0.3333333333333333, \"#9c179e\"], [0.4444444444444444, \"#bd3786\"], [0.5555555555555556, \"#d8576b\"], [0.6666666666666666, \"#ed7953\"], [0.7777777777777778, \"#fb9f3a\"], [0.8888888888888888, \"#fdca26\"], [1.0, \"#f0f921\"]], \"type\": \"heatmap\"}], \"heatmapgl\": [{\"colorbar\": {\"outlinewidth\": 0, \"ticks\": \"\"}, \"colorscale\": [[0.0, \"#0d0887\"], [0.1111111111111111, \"#46039f\"], [0.2222222222222222, \"#7201a8\"], [0.3333333333333333, \"#9c179e\"], [0.4444444444444444, \"#bd3786\"], [0.5555555555555556, \"#d8576b\"], [0.6666666666666666, \"#ed7953\"], [0.7777777777777778, \"#fb9f3a\"], [0.8888888888888888, \"#fdca26\"], [1.0, \"#f0f921\"]], \"type\": \"heatmapgl\"}], \"histogram\": [{\"marker\": {\"colorbar\": {\"outlinewidth\": 0, \"ticks\": \"\"}}, \"type\": \"histogram\"}], \"histogram2d\": [{\"colorbar\": {\"outlinewidth\": 0, \"ticks\": \"\"}, \"colorscale\": [[0.0, \"#0d0887\"], [0.1111111111111111, \"#46039f\"], [0.2222222222222222, \"#7201a8\"], [0.3333333333333333, \"#9c179e\"], [0.4444444444444444, \"#bd3786\"], [0.5555555555555556, \"#d8576b\"], [0.6666666666666666, \"#ed7953\"], [0.7777777777777778, \"#fb9f3a\"], [0.8888888888888888, \"#fdca26\"], [1.0, \"#f0f921\"]], \"type\": \"histogram2d\"}], \"histogram2dcontour\": [{\"colorbar\": {\"outlinewidth\": 0, \"ticks\": \"\"}, \"colorscale\": [[0.0, \"#0d0887\"], [0.1111111111111111, \"#46039f\"], [0.2222222222222222, \"#7201a8\"], [0.3333333333333333, \"#9c179e\"], [0.4444444444444444, \"#bd3786\"], [0.5555555555555556, \"#d8576b\"], [0.6666666666666666, \"#ed7953\"], [0.7777777777777778, \"#fb9f3a\"], [0.8888888888888888, \"#fdca26\"], [1.0, \"#f0f921\"]], \"type\": \"histogram2dcontour\"}], \"mesh3d\": [{\"colorbar\": {\"outlinewidth\": 0, \"ticks\": \"\"}, \"type\": \"mesh3d\"}], \"parcoords\": [{\"line\": {\"colorbar\": {\"outlinewidth\": 0, \"ticks\": \"\"}}, \"type\": \"parcoords\"}], \"pie\": [{\"automargin\": true, \"type\": \"pie\"}], \"scatter\": [{\"marker\": {\"colorbar\": {\"outlinewidth\": 0, \"ticks\": \"\"}}, \"type\": \"scatter\"}], \"scatter3d\": [{\"line\": {\"colorbar\": {\"outlinewidth\": 0, \"ticks\": \"\"}}, \"marker\": {\"colorbar\": {\"outlinewidth\": 0, \"ticks\": \"\"}}, \"type\": \"scatter3d\"}], \"scattercarpet\": [{\"marker\": {\"colorbar\": {\"outlinewidth\": 0, \"ticks\": \"\"}}, \"type\": \"scattercarpet\"}], \"scattergeo\": [{\"marker\": {\"colorbar\": {\"outlinewidth\": 0, \"ticks\": \"\"}}, \"type\": \"scattergeo\"}], \"scattergl\": [{\"marker\": {\"colorbar\": {\"outlinewidth\": 0, \"ticks\": \"\"}}, \"type\": \"scattergl\"}], \"scattermapbox\": [{\"marker\": {\"colorbar\": {\"outlinewidth\": 0, \"ticks\": \"\"}}, \"type\": \"scattermapbox\"}], \"scatterpolar\": [{\"marker\": {\"colorbar\": {\"outlinewidth\": 0, \"ticks\": \"\"}}, \"type\": \"scatterpolar\"}], \"scatterpolargl\": [{\"marker\": {\"colorbar\": {\"outlinewidth\": 0, \"ticks\": \"\"}}, \"type\": \"scatterpolargl\"}], \"scatterternary\": [{\"marker\": {\"colorbar\": {\"outlinewidth\": 0, \"ticks\": \"\"}}, \"type\": \"scatterternary\"}], \"surface\": [{\"colorbar\": {\"outlinewidth\": 0, \"ticks\": \"\"}, \"colorscale\": [[0.0, \"#0d0887\"], [0.1111111111111111, \"#46039f\"], [0.2222222222222222, \"#7201a8\"], [0.3333333333333333, \"#9c179e\"], [0.4444444444444444, \"#bd3786\"], [0.5555555555555556, \"#d8576b\"], [0.6666666666666666, \"#ed7953\"], [0.7777777777777778, \"#fb9f3a\"], [0.8888888888888888, \"#fdca26\"], [1.0, \"#f0f921\"]], \"type\": \"surface\"}], \"table\": [{\"cells\": {\"fill\": {\"color\": \"#EBF0F8\"}, \"line\": {\"color\": \"white\"}}, \"header\": {\"fill\": {\"color\": \"#C8D4E3\"}, \"line\": {\"color\": \"white\"}}, \"type\": \"table\"}]}, \"layout\": {\"annotationdefaults\": {\"arrowcolor\": \"#2a3f5f\", \"arrowhead\": 0, \"arrowwidth\": 1}, \"autotypenumbers\": \"strict\", \"coloraxis\": {\"colorbar\": {\"outlinewidth\": 0, \"ticks\": \"\"}}, \"colorscale\": {\"diverging\": [[0, \"#8e0152\"], [0.1, \"#c51b7d\"], [0.2, \"#de77ae\"], [0.3, \"#f1b6da\"], [0.4, \"#fde0ef\"], [0.5, \"#f7f7f7\"], [0.6, \"#e6f5d0\"], [0.7, \"#b8e186\"], [0.8, \"#7fbc41\"], [0.9, \"#4d9221\"], [1, \"#276419\"]], \"sequential\": [[0.0, \"#0d0887\"], [0.1111111111111111, \"#46039f\"], [0.2222222222222222, \"#7201a8\"], [0.3333333333333333, \"#9c179e\"], [0.4444444444444444, \"#bd3786\"], [0.5555555555555556, \"#d8576b\"], [0.6666666666666666, \"#ed7953\"], [0.7777777777777778, \"#fb9f3a\"], [0.8888888888888888, \"#fdca26\"], [1.0, \"#f0f921\"]], \"sequentialminus\": [[0.0, \"#0d0887\"], [0.1111111111111111, \"#46039f\"], [0.2222222222222222, \"#7201a8\"], [0.3333333333333333, \"#9c179e\"], [0.4444444444444444, \"#bd3786\"], [0.5555555555555556, \"#d8576b\"], [0.6666666666666666, \"#ed7953\"], [0.7777777777777778, \"#fb9f3a\"], [0.8888888888888888, \"#fdca26\"], [1.0, \"#f0f921\"]]}, \"colorway\": [\"#636efa\", \"#EF553B\", \"#00cc96\", \"#ab63fa\", \"#FFA15A\", \"#19d3f3\", \"#FF6692\", \"#B6E880\", \"#FF97FF\", \"#FECB52\"], \"font\": {\"color\": \"#2a3f5f\"}, \"geo\": {\"bgcolor\": \"white\", \"lakecolor\": \"white\", \"landcolor\": \"#E5ECF6\", \"showlakes\": true, \"showland\": true, \"subunitcolor\": \"white\"}, \"hoverlabel\": {\"align\": \"left\"}, \"hovermode\": \"closest\", \"mapbox\": {\"style\": \"light\"}, \"paper_bgcolor\": \"white\", \"plot_bgcolor\": \"#E5ECF6\", \"polar\": {\"angularaxis\": {\"gridcolor\": \"white\", \"linecolor\": \"white\", \"ticks\": \"\"}, \"bgcolor\": \"#E5ECF6\", \"radialaxis\": {\"gridcolor\": \"white\", \"linecolor\": \"white\", \"ticks\": \"\"}}, \"scene\": {\"xaxis\": {\"backgroundcolor\": \"#E5ECF6\", \"gridcolor\": \"white\", \"gridwidth\": 2, \"linecolor\": \"white\", \"showbackground\": true, \"ticks\": \"\", \"zerolinecolor\": \"white\"}, \"yaxis\": {\"backgroundcolor\": \"#E5ECF6\", \"gridcolor\": \"white\", \"gridwidth\": 2, \"linecolor\": \"white\", \"showbackground\": true, \"ticks\": \"\", \"zerolinecolor\": \"white\"}, \"zaxis\": {\"backgroundcolor\": \"#E5ECF6\", \"gridcolor\": \"white\", \"gridwidth\": 2, \"linecolor\": \"white\", \"showbackground\": true, \"ticks\": \"\", \"zerolinecolor\": \"white\"}}, \"shapedefaults\": {\"line\": {\"color\": \"#2a3f5f\"}}, \"ternary\": {\"aaxis\": {\"gridcolor\": \"white\", \"linecolor\": \"white\", \"ticks\": \"\"}, \"baxis\": {\"gridcolor\": \"white\", \"linecolor\": \"white\", \"ticks\": \"\"}, \"bgcolor\": \"#E5ECF6\", \"caxis\": {\"gridcolor\": \"white\", \"linecolor\": \"white\", \"ticks\": \"\"}}, \"title\": {\"x\": 0.05}, \"xaxis\": {\"automargin\": true, \"gridcolor\": \"white\", \"linecolor\": \"white\", \"ticks\": \"\", \"title\": {\"standoff\": 15}, \"zerolinecolor\": \"white\", \"zerolinewidth\": 2}, \"yaxis\": {\"automargin\": true, \"gridcolor\": \"white\", \"linecolor\": \"white\", \"ticks\": \"\", \"title\": {\"standoff\": 15}, \"zerolinecolor\": \"white\", \"zerolinewidth\": 2}}}, \"title\": {\"text\": \"Fitting an harmonic curve to the accidents\"}, \"xaxis\": {\"anchor\": \"y\", \"domain\": [0.0, 0.94], \"dtick\": 2, \"gridcolor\": \"black\", \"gridwidth\": 1, \"linecolor\": \"black\", \"linewidth\": 2, \"mirror\": true, \"showgrid\": true, \"showline\": true, \"tick0\": 0, \"tickmode\": \"linear\", \"title\": {\"text\": \"Time of day\"}}, \"yaxis\": {\"anchor\": \"x\", \"domain\": [0.0, 1.0], \"gridcolor\": \"black\", \"gridwidth\": 1, \"linecolor\": \"black\", \"linewidth\": 2, \"mirror\": true, \"showgrid\": false, \"showline\": true, \"title\": {\"text\": \"<b>Z-Score</b>\"}}, \"yaxis2\": {\"anchor\": \"x\", \"gridcolor\": \"black\", \"gridwidth\": 1, \"linecolor\": \"black\", \"linewidth\": 2, \"mirror\": true, \"overlaying\": \"y\", \"showgrid\": false, \"showline\": true, \"side\": \"right\"}},                        {\"responsive\": true}                    ).then(function(){\n",
              "                            \n",
              "var gd = document.getElementById('58fc26b3-2279-4c43-9820-b0944385ad3f');\n",
              "var x = new MutationObserver(function (mutations, observer) {{\n",
              "        var display = window.getComputedStyle(gd).display;\n",
              "        if (!display || display === 'none') {{\n",
              "            console.log([gd, 'removed!']);\n",
              "            Plotly.purge(gd);\n",
              "            observer.disconnect();\n",
              "        }}\n",
              "}});\n",
              "\n",
              "// Listen for the removal of the full notebook cells\n",
              "var notebookContainer = gd.closest('#notebook-container');\n",
              "if (notebookContainer) {{\n",
              "    x.observe(notebookContainer, {childList: true});\n",
              "}}\n",
              "\n",
              "// Listen for the clearing of the current output cell\n",
              "var outputEl = gd.closest('.output');\n",
              "if (outputEl) {{\n",
              "    x.observe(outputEl, {childList: true});\n",
              "}}\n",
              "\n",
              "                        })                };                            </script>        </div>\n",
              "</body>\n",
              "</html>"
            ]
          },
          "metadata": {
            "tags": []
          }
        }
      ]
    },
    {
      "cell_type": "code",
      "metadata": {
        "colab": {
          "base_uri": "https://localhost:8080/"
        },
        "id": "GkHVWAsegHxY",
        "outputId": "8aaa9c5c-7342-47ce-8811-4f92fb7faab7"
      },
      "source": [
        "Y = stats.zscore(of5r/m5r)\r\n",
        "X_m = stats.zscore(sinusoid(X, *parama))\r\n",
        "X_m = sm.add_constant(X_m)\r\n",
        "model = sm.OLS(Y,X_m)\r\n",
        "results = model.fit()\r\n",
        "results.params\r\n",
        "\r\n",
        "y5 = results.predict(X_m)\r\n",
        "print(results.summary())"
      ],
      "execution_count": 326,
      "outputs": [
        {
          "output_type": "stream",
          "text": [
            "                            OLS Regression Results                            \n",
            "==============================================================================\n",
            "Dep. Variable:                      y   R-squared:                       0.954\n",
            "Model:                            OLS   Adj. R-squared:                  0.950\n",
            "Method:                 Least Squares   F-statistic:                     209.1\n",
            "Date:                Fri, 05 Mar 2021   Prob (F-statistic):           4.96e-08\n",
            "Time:                        13:36:46   Log-Likelihood:                 1.4956\n",
            "No. Observations:                  12   AIC:                             1.009\n",
            "Df Residuals:                      10   BIC:                             1.979\n",
            "Df Model:                           1                                         \n",
            "Covariance Type:            nonrobust                                         \n",
            "==============================================================================\n",
            "                 coef    std err          t      P>|t|      [0.025      0.975]\n",
            "------------------------------------------------------------------------------\n",
            "const       4.163e-16      0.068   6.16e-15      1.000      -0.151       0.151\n",
            "x1             0.9769      0.068     14.462      0.000       0.826       1.127\n",
            "==============================================================================\n",
            "Omnibus:                        2.794   Durbin-Watson:                   2.134\n",
            "Prob(Omnibus):                  0.247   Jarque-Bera (JB):                1.818\n",
            "Skew:                          -0.919   Prob(JB):                        0.403\n",
            "Kurtosis:                       2.493   Cond. No.                         1.00\n",
            "==============================================================================\n",
            "\n",
            "Warnings:\n",
            "[1] Standard Errors assume that the covariance matrix of the errors is correctly specified.\n"
          ],
          "name": "stdout"
        },
        {
          "output_type": "stream",
          "text": [
            "/usr/local/lib/python3.7/dist-packages/scipy/stats/stats.py:1535: UserWarning:\n",
            "\n",
            "kurtosistest only valid for n>=20 ... continuing anyway, n=12\n",
            "\n"
          ],
          "name": "stderr"
        }
      ]
    },
    {
      "cell_type": "markdown",
      "metadata": {
        "id": "zzgpC4w_DFj7"
      },
      "source": [
        "# **Salvar os resultados em csv**"
      ]
    },
    {
      "cell_type": "code",
      "metadata": {
        "id": "KZGfQO6XKW98"
      },
      "source": [
        "#dfE3_final.to_csv('/content/drive/MyDrive/Trabalho/Datasets/E3_final.csv', encoding='utf-8')#, index=False)"
      ],
      "execution_count": 327,
      "outputs": []
    },
    {
      "cell_type": "code",
      "metadata": {
        "id": "yrrKfSKoMiwW"
      },
      "source": [
        "#df = pd.read_csv('/content/drive/MyDrive/Trabalho/Datasets/E3_final.csv', index_col='HORA')\r\n",
        "#df.head()"
      ],
      "execution_count": 328,
      "outputs": []
    }
  ]
}