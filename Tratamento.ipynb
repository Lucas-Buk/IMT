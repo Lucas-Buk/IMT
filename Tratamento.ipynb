{
  "nbformat": 4,
  "nbformat_minor": 0,
  "metadata": {
    "colab": {
      "name": "Tratamento.ipynb",
      "provenance": [],
      "collapsed_sections": [
        "oyIb2QifkUZS",
        "U_9GSUcGowQ7",
        "PAG4ul1wkRW2",
        "awEU2t0WmvYm",
        "UBzOuw7aorcX",
        "1iBt-vIDJsMQ",
        "4NziHuukWQ4U",
        "kXATWDn_8AUU",
        "lfqvYn_lWULy",
        "-CWTijrd8KY-",
        "XFjFTBmnWXI9",
        "ohe9g9F08Nwm",
        "zzgpC4w_DFj7"
      ],
      "mount_file_id": "1xXTKEbiCmxcvDWXsA-8eQtV3m3T2OpUq",
      "authorship_tag": "ABX9TyMS0BPtvx4RFDEu1hgC8k5M",
      "include_colab_link": true
    },
    "kernelspec": {
      "name": "python3",
      "display_name": "Python 3"
    }
  },
  "cells": [
    {
      "cell_type": "markdown",
      "metadata": {
        "id": "view-in-github",
        "colab_type": "text"
      },
      "source": [
        "<a href=\"https://colab.research.google.com/github/Lucas-Buk/IMT/blob/main/Tratamento.ipynb\" target=\"_parent\"><img src=\"https://colab.research.google.com/assets/colab-badge.svg\" alt=\"Open In Colab\"/></a>"
      ]
    },
    {
      "cell_type": "markdown",
      "metadata": {
        "id": "oyIb2QifkUZS"
      },
      "source": [
        "# **Bibliotecas**"
      ]
    },
    {
      "cell_type": "code",
      "metadata": {
        "id": "2l2PtKfRI-Ko",
        "colab": {
          "base_uri": "https://localhost:8080/"
        },
        "outputId": "2beaf76c-da82-48ba-d1a0-5124d9adc869"
      },
      "source": [
        "# instala biblioteca para leitura de excel e biblioteca gráfica\n",
        "\n",
        "!pip install xlrd\n",
        "!pip install -U plotly\n",
        "# !pip install plotly==4.8.1\n",
        "\n",
        "# organização da planilha excel\n",
        "\n",
        "!pip install nltk\n",
        "\n",
        "# Exportando figuras com melhores resoluções\n",
        "\n",
        "!pip install -U kaleido"
      ],
      "execution_count": 1,
      "outputs": [
        {
          "output_type": "stream",
          "text": [
            "Requirement already satisfied: xlrd in /usr/local/lib/python3.7/dist-packages (1.1.0)\n",
            "Requirement already up-to-date: plotly in /usr/local/lib/python3.7/dist-packages (4.14.3)\n",
            "Requirement already satisfied, skipping upgrade: six in /usr/local/lib/python3.7/dist-packages (from plotly) (1.15.0)\n",
            "Requirement already satisfied, skipping upgrade: retrying>=1.3.3 in /usr/local/lib/python3.7/dist-packages (from plotly) (1.3.3)\n",
            "Requirement already satisfied: nltk in /usr/local/lib/python3.7/dist-packages (3.2.5)\n",
            "Requirement already satisfied: six in /usr/local/lib/python3.7/dist-packages (from nltk) (1.15.0)\n",
            "Requirement already up-to-date: kaleido in /usr/local/lib/python3.7/dist-packages (0.1.0)\n"
          ],
          "name": "stdout"
        }
      ]
    },
    {
      "cell_type": "code",
      "metadata": {
        "id": "HaqiwShwhsD5",
        "colab": {
          "base_uri": "https://localhost:8080/"
        },
        "outputId": "53f23a90-8145-45a5-92bb-c2e72e4bf16f"
      },
      "source": [
        "!add-apt-repository -y ppa:cran/poppler\n",
        "!apt-get update\n",
        "!apt-get install -y libpoppler-cpp-dev"
      ],
      "execution_count": 2,
      "outputs": [
        {
          "output_type": "stream",
          "text": [
            "\r0% [Working]\r            \rHit:1 https://cloud.r-project.org/bin/linux/ubuntu bionic-cran40/ InRelease\n",
            "\r0% [Connecting to archive.ubuntu.com] [Connecting to security.ubuntu.com] [Conn\r                                                                               \rIgn:2 https://developer.download.nvidia.com/compute/cuda/repos/ubuntu1804/x86_64  InRelease\n",
            "\r0% [Connecting to archive.ubuntu.com] [Connecting to security.ubuntu.com] [Conn\r0% [1 InRelease gpgv 3,626 B] [Connecting to archive.ubuntu.com] [Connecting to\r                                                                               \rIgn:3 https://developer.download.nvidia.com/compute/machine-learning/repos/ubuntu1804/x86_64  InRelease\n",
            "\r0% [1 InRelease gpgv 3,626 B] [Connecting to archive.ubuntu.com] [Connecting to\r                                                                               \rHit:4 https://developer.download.nvidia.com/compute/cuda/repos/ubuntu1804/x86_64  Release\n",
            "\r0% [1 InRelease gpgv 3,626 B] [Connecting to archive.ubuntu.com (91.189.88.152)\r                                                                               \rHit:5 https://developer.download.nvidia.com/compute/machine-learning/repos/ubuntu1804/x86_64  Release\n",
            "Get:6 http://security.ubuntu.com/ubuntu bionic-security InRelease [88.7 kB]\n",
            "Hit:7 http://archive.ubuntu.com/ubuntu bionic InRelease\n",
            "Get:8 http://ppa.launchpad.net/c2d4u.team/c2d4u4.0+/ubuntu bionic InRelease [15.9 kB]\n",
            "Get:10 http://archive.ubuntu.com/ubuntu bionic-updates InRelease [88.7 kB]\n",
            "Hit:12 http://ppa.launchpad.net/cran/libgit2/ubuntu bionic InRelease\n",
            "Get:13 http://archive.ubuntu.com/ubuntu bionic-backports InRelease [74.6 kB]\n",
            "Hit:14 http://ppa.launchpad.net/cran/poppler/ubuntu bionic InRelease\n",
            "Hit:15 http://ppa.launchpad.net/deadsnakes/ppa/ubuntu bionic InRelease\n",
            "Hit:16 http://ppa.launchpad.net/graphics-drivers/ppa/ubuntu bionic InRelease\n",
            "Get:17 http://archive.ubuntu.com/ubuntu bionic-updates/main amd64 Packages [2,395 kB]\n",
            "Get:18 http://ppa.launchpad.net/c2d4u.team/c2d4u4.0+/ubuntu bionic/main Sources [1,739 kB]\n",
            "Get:19 http://archive.ubuntu.com/ubuntu bionic-updates/universe amd64 Packages [2,163 kB]\n",
            "Get:20 http://ppa.launchpad.net/c2d4u.team/c2d4u4.0+/ubuntu bionic/main amd64 Packages [890 kB]\n",
            "Fetched 7,454 kB in 4s (2,002 kB/s)\n",
            "Reading package lists... Done\n",
            "Hit:1 https://cloud.r-project.org/bin/linux/ubuntu bionic-cran40/ InRelease\n",
            "Ign:2 https://developer.download.nvidia.com/compute/cuda/repos/ubuntu1804/x86_64  InRelease\n",
            "Ign:3 https://developer.download.nvidia.com/compute/machine-learning/repos/ubuntu1804/x86_64  InRelease\n",
            "Hit:4 https://developer.download.nvidia.com/compute/cuda/repos/ubuntu1804/x86_64  Release\n",
            "Hit:5 https://developer.download.nvidia.com/compute/machine-learning/repos/ubuntu1804/x86_64  Release\n",
            "Hit:6 http://security.ubuntu.com/ubuntu bionic-security InRelease\n",
            "Hit:7 http://archive.ubuntu.com/ubuntu bionic InRelease\n",
            "Hit:8 http://ppa.launchpad.net/c2d4u.team/c2d4u4.0+/ubuntu bionic InRelease\n",
            "Hit:10 http://archive.ubuntu.com/ubuntu bionic-updates InRelease\n",
            "Get:11 http://archive.ubuntu.com/ubuntu bionic-backports InRelease [74.6 kB]\n",
            "Hit:13 http://ppa.launchpad.net/cran/libgit2/ubuntu bionic InRelease\n",
            "Hit:14 http://ppa.launchpad.net/cran/poppler/ubuntu bionic InRelease\n",
            "Hit:15 http://ppa.launchpad.net/deadsnakes/ppa/ubuntu bionic InRelease\n",
            "Hit:16 http://ppa.launchpad.net/graphics-drivers/ppa/ubuntu bionic InRelease\n",
            "Fetched 74.6 kB in 2s (31.1 kB/s)\n",
            "Reading package lists... Done\n",
            "Reading package lists... Done\n",
            "Building dependency tree       \n",
            "Reading state information... Done\n",
            "libpoppler-cpp-dev is already the newest version (0.74.0-bionic0).\n",
            "0 upgraded, 0 newly installed, 0 to remove and 38 not upgraded.\n"
          ],
          "name": "stdout"
        }
      ]
    },
    {
      "cell_type": "code",
      "metadata": {
        "id": "SWoaxYhJfoal",
        "colab": {
          "base_uri": "https://localhost:8080/"
        },
        "outputId": "b92c3808-f5c1-46dd-a470-39ea653b7834"
      },
      "source": [
        "!apt-get install poppler-utils "
      ],
      "execution_count": 3,
      "outputs": [
        {
          "output_type": "stream",
          "text": [
            "Reading package lists... Done\n",
            "Building dependency tree       \n",
            "Reading state information... Done\n",
            "poppler-utils is already the newest version (0.74.0-bionic0).\n",
            "0 upgraded, 0 newly installed, 0 to remove and 38 not upgraded.\n"
          ],
          "name": "stdout"
        }
      ]
    },
    {
      "cell_type": "code",
      "metadata": {
        "id": "wU_x9uvLJAz2",
        "colab": {
          "base_uri": "https://localhost:8080/"
        },
        "outputId": "47ff1d36-cecb-4adb-cc29-9e02ee9dd138"
      },
      "source": [
        "# Importa a biblioteca pandas\n",
        "\n",
        "import pandas as pd\n",
        "pd.options.plotting.backend = \"plotly\"\n",
        "\n",
        "# Importa biblioteca para conversão de datas\n",
        "\n",
        "from datetime import datetime\n",
        "\n",
        "# Bilbioteca gráfica utilizada neste estudo\n",
        "\n",
        "import plotly.express as px\n",
        "import plotly.figure_factory as ff\n",
        "\n",
        "# Importando pacote\n",
        "import nltk\n",
        "nltk.download(\"popular\")\n",
        "import pandas as pd\n",
        "import numpy as np\n",
        "\n",
        "# Stemming pt\n",
        "nltk.download('rslp')\n",
        "\n",
        "# biblioteca numérica\n",
        "\n",
        "import scipy.stats as stats\n",
        "import scipy\n",
        "from sklearn.metrics import r2_score"
      ],
      "execution_count": 4,
      "outputs": [
        {
          "output_type": "stream",
          "text": [
            "[nltk_data] Downloading collection 'popular'\n",
            "[nltk_data]    | \n",
            "[nltk_data]    | Downloading package cmudict to /root/nltk_data...\n",
            "[nltk_data]    |   Package cmudict is already up-to-date!\n",
            "[nltk_data]    | Downloading package gazetteers to /root/nltk_data...\n",
            "[nltk_data]    |   Package gazetteers is already up-to-date!\n",
            "[nltk_data]    | Downloading package genesis to /root/nltk_data...\n",
            "[nltk_data]    |   Package genesis is already up-to-date!\n",
            "[nltk_data]    | Downloading package gutenberg to /root/nltk_data...\n",
            "[nltk_data]    |   Package gutenberg is already up-to-date!\n",
            "[nltk_data]    | Downloading package inaugural to /root/nltk_data...\n",
            "[nltk_data]    |   Package inaugural is already up-to-date!\n",
            "[nltk_data]    | Downloading package movie_reviews to\n",
            "[nltk_data]    |     /root/nltk_data...\n",
            "[nltk_data]    |   Package movie_reviews is already up-to-date!\n",
            "[nltk_data]    | Downloading package names to /root/nltk_data...\n",
            "[nltk_data]    |   Package names is already up-to-date!\n",
            "[nltk_data]    | Downloading package shakespeare to /root/nltk_data...\n",
            "[nltk_data]    |   Package shakespeare is already up-to-date!\n",
            "[nltk_data]    | Downloading package stopwords to /root/nltk_data...\n",
            "[nltk_data]    |   Package stopwords is already up-to-date!\n",
            "[nltk_data]    | Downloading package treebank to /root/nltk_data...\n",
            "[nltk_data]    |   Package treebank is already up-to-date!\n",
            "[nltk_data]    | Downloading package twitter_samples to\n",
            "[nltk_data]    |     /root/nltk_data...\n",
            "[nltk_data]    |   Package twitter_samples is already up-to-date!\n",
            "[nltk_data]    | Downloading package omw to /root/nltk_data...\n",
            "[nltk_data]    |   Package omw is already up-to-date!\n",
            "[nltk_data]    | Downloading package wordnet to /root/nltk_data...\n",
            "[nltk_data]    |   Package wordnet is already up-to-date!\n",
            "[nltk_data]    | Downloading package wordnet_ic to /root/nltk_data...\n",
            "[nltk_data]    |   Package wordnet_ic is already up-to-date!\n",
            "[nltk_data]    | Downloading package words to /root/nltk_data...\n",
            "[nltk_data]    |   Package words is already up-to-date!\n",
            "[nltk_data]    | Downloading package maxent_ne_chunker to\n",
            "[nltk_data]    |     /root/nltk_data...\n",
            "[nltk_data]    |   Package maxent_ne_chunker is already up-to-date!\n",
            "[nltk_data]    | Downloading package punkt to /root/nltk_data...\n",
            "[nltk_data]    |   Package punkt is already up-to-date!\n",
            "[nltk_data]    | Downloading package snowball_data to\n",
            "[nltk_data]    |     /root/nltk_data...\n",
            "[nltk_data]    |   Package snowball_data is already up-to-date!\n",
            "[nltk_data]    | Downloading package averaged_perceptron_tagger to\n",
            "[nltk_data]    |     /root/nltk_data...\n",
            "[nltk_data]    |   Package averaged_perceptron_tagger is already up-\n",
            "[nltk_data]    |       to-date!\n",
            "[nltk_data]    | \n",
            "[nltk_data]  Done downloading collection popular\n",
            "[nltk_data] Downloading package rslp to /root/nltk_data...\n",
            "[nltk_data]   Package rslp is already up-to-date!\n"
          ],
          "name": "stdout"
        }
      ]
    },
    {
      "cell_type": "code",
      "metadata": {
        "id": "4z8cvklVJEsy",
        "colab": {
          "base_uri": "https://localhost:8080/"
        },
        "outputId": "b9d67e2a-f328-45f8-c735-b6054d0ed90b"
      },
      "source": [
        "# biblioteca numérica\n",
        "from scipy.interpolate import interp1d\n",
        "from scipy import stats\n",
        "from sklearn import datasets, linear_model\n",
        "from sklearn.linear_model import LinearRegression\n",
        "import statsmodels.api as sm"
      ],
      "execution_count": 5,
      "outputs": [
        {
          "output_type": "stream",
          "text": [
            "/usr/local/lib/python3.7/dist-packages/statsmodels/tools/_testing.py:19: FutureWarning: pandas.util.testing is deprecated. Use the functions in the public API at pandas.testing instead.\n",
            "  import pandas.util.testing as tm\n"
          ],
          "name": "stderr"
        }
      ]
    },
    {
      "cell_type": "code",
      "metadata": {
        "id": "UH1h_0m6JHng"
      },
      "source": [
        "from plotly.subplots import make_subplots\n",
        "import plotly.graph_objects as go"
      ],
      "execution_count": 6,
      "outputs": []
    },
    {
      "cell_type": "code",
      "metadata": {
        "id": "U7hcjWG_OKtj"
      },
      "source": [
        "# Diretório de imagens\n",
        "import os\n",
        "if not os.path.exists(\"images\"):\n",
        "    os.mkdir(\"images\")"
      ],
      "execution_count": 7,
      "outputs": []
    },
    {
      "cell_type": "code",
      "metadata": {
        "id": "ioHLF_A1rPFY"
      },
      "source": [
        "from scipy.optimize import curve_fit\n",
        "import math\n",
        "import matplotlib.pyplot as plt\n",
        "import matplotlib"
      ],
      "execution_count": 8,
      "outputs": []
    },
    {
      "cell_type": "markdown",
      "metadata": {
        "id": "U_9GSUcGowQ7"
      },
      "source": [
        "# **Funções proprietárias**"
      ]
    },
    {
      "cell_type": "code",
      "metadata": {
        "id": "kfdXhX7my5GO"
      },
      "source": [
        "#######################################################################\n",
        "\n",
        "def DataNorm(Acc):\n",
        "\n",
        "  # Montagem do Kernel\n",
        "\n",
        "  variavel =  scipy.stats.zscore(Acc, axis=0, ddof=0)\n",
        "  empilhada = variavel.tolist()\n",
        "  empilhada += [24+i for i in variavel.tolist() ]\n",
        "  empilhada += [48+i for i in variavel.tolist() ]\n",
        "  bins = np.linspace(0,24,24)\n",
        "  bins = 3*bins.tolist()\n",
        "  Kernel = stats.gaussian_kde(empilhada)\n",
        "\n",
        "  Acc_kernel = Kernel(np.linspace(25,49,24))\n",
        "\n",
        "\n",
        "  return Acc_kernel\n",
        "\n",
        "#######################################################################"
      ],
      "execution_count": 543,
      "outputs": []
    },
    {
      "cell_type": "code",
      "metadata": {
        "id": "69-xdZHHa9bF"
      },
      "source": [
        "# Polynomial Regression\n",
        "def polyfit(x, y, degree):\n",
        "    results = {}\n",
        "\n",
        "    coeffs = np.polyfit(x, y, degree)\n",
        "     # Polynomial Coefficients\n",
        "    results['polynomial'] = coeffs.tolist()\n",
        "\n",
        "    correlation = np.corrcoef(x, y)[0,1]\n",
        "\n",
        "     # r\n",
        "    results['correlation'] = correlation\n",
        "     # r-squared\n",
        "    results['determination'] = correlation**2\n",
        "\n",
        "    return results"
      ],
      "execution_count": 544,
      "outputs": []
    },
    {
      "cell_type": "markdown",
      "metadata": {
        "id": "zso4KPBaCZFx"
      },
      "source": [
        "**Função de visualização:**\n",
        "\n",
        "f(a1,a2,a3,... aN, 'acidente', 'bocejo',...'final')\n",
        "\n",
        "Comando (!)"
      ]
    },
    {
      "cell_type": "code",
      "metadata": {
        "id": "2M3jvOVx31X6"
      },
      "source": [
        "def graphics_plot(y, name, title, yaxes_title, save=False):\r\n",
        "\r\n",
        "  '''\r\n",
        "  y = [y1, y2, y3, y4]\r\n",
        "\r\n",
        "  name = ['y1 name', 'y2 name', 'y3 name', 'y4 name']\r\n",
        "\r\n",
        "  title = 'Title'\r\n",
        "\r\n",
        "  yaxes_title = ['Title yaxes1', 'Title yaxes2', 'Title yaxes3', 'Title yaxes4']\r\n",
        "\r\n",
        "  save = True -> save graphics as image (images/title.eps) \r\n",
        "  '''\r\n",
        "\r\n",
        "  # Create figure with secondary y-axis\r\n",
        "  fig = make_subplots(specs=[[{\"secondary_y\": True}]])\r\n",
        "\r\n",
        "  # Markers\r\n",
        "  markers = ['x','star','diamond','circle']\r\n",
        "\r\n",
        "  # Lines\r\n",
        "  dash = ['dash','dot','dashdot']\r\n",
        "\r\n",
        "  if len(yaxes_title) == 1:\r\n",
        "    on = False\r\n",
        "  else:\r\n",
        "    on = True\r\n",
        "\r\n",
        "  for i, v in enumerate(y):\r\n",
        "    if i==0:\r\n",
        "      # Add traces\r\n",
        "      fig.add_trace(\r\n",
        "          go.Scatter(x=np.linspace(0,24,9),\r\n",
        "          y=v, name=name[i],\r\n",
        "          marker_symbol=markers[i],\r\n",
        "          marker_size=7,\r\n",
        "          mode='lines+markers',\r\n",
        "          line=dict(color='rgb(0, 0, 0)',\r\n",
        "          width=2),),\r\n",
        "          # line_shape='spline'),\r\n",
        "          secondary_y=False)\r\n",
        "      \r\n",
        "    else:\r\n",
        "      # Add traces\r\n",
        "      fig.add_trace(\r\n",
        "          go.Scatter(x=np.linspace(0,24,9),\r\n",
        "          y=v, name=name[i],\r\n",
        "          marker_symbol=markers[i],\r\n",
        "          marker_size=7,\r\n",
        "          mode='lines+markers',\r\n",
        "          line=dict(color='rgb(0, 0, 0)',\r\n",
        "          width=2, dash=dash[i-1]),),\r\n",
        "          # line_shape='spline'),\r\n",
        "          secondary_y=on)\r\n",
        "  \r\n",
        "  # Add figure title\r\n",
        "  fig.update_layout(title_text=title)\r\n",
        "  \r\n",
        "  # Set x-axis title\r\n",
        "  fig.update_xaxes(title_text=\"Time of day\")\r\n",
        "\r\n",
        "  # Set y-axes titles\r\n",
        "  if len(yaxes_title) > 1:\r\n",
        "    fig.update_yaxes(title_text=\"<b>\"+ yaxes_title[0] +\"</b>\", secondary_y=False)\r\n",
        "    fig.update_yaxes(title_text=\"<b>\"+ yaxes_title[1] +\"</b>\", secondary_y=True)\r\n",
        "  else:\r\n",
        "    fig.update_yaxes(title_text=\"<b>\"+ yaxes_title[0] +\"</b>\", secondary_y=False)\r\n",
        "\r\n",
        "  \r\n",
        "  fig.update_xaxes(showgrid=True, gridwidth=1, gridcolor='black')\r\n",
        "  fig.update_yaxes(showgrid=False, gridwidth=1, gridcolor='black')\r\n",
        "\r\n",
        "  fig.update_xaxes(showline=True, linewidth=2, linecolor='black', mirror=True)\r\n",
        "  fig.update_yaxes(showline=True, linewidth=2, linecolor='black', mirror=True)\r\n",
        "\r\n",
        "  fig.update_layout(\r\n",
        "      paper_bgcolor='rgba(0,0,0,0)',\r\n",
        "      plot_bgcolor='rgba(0,0,0,0)'\r\n",
        "  )\r\n",
        "\r\n",
        "  fig.update_layout(\r\n",
        "      xaxis=dict(\r\n",
        "      tickmode='linear',\r\n",
        "      tick0=0,\r\n",
        "      dtick=3\r\n",
        "  ))\r\n",
        "  fig.update_layout(legend=dict(\r\n",
        "    orientation=\"h\",\r\n",
        "    yanchor=\"bottom\",\r\n",
        "    y=1.01,\r\n",
        "    xanchor=\"right\",\r\n",
        "    x=0.95\r\n",
        "  ))\r\n",
        "\r\n",
        "  fig.show()\r\n",
        "\r\n",
        "  if save:\r\n",
        "    fig.write_image(\"images/\"+title+\".eps\")"
      ],
      "execution_count": 545,
      "outputs": []
    },
    {
      "cell_type": "markdown",
      "metadata": {
        "id": "PAG4ul1wkRW2"
      },
      "source": [
        "# **Dados**"
      ]
    },
    {
      "cell_type": "code",
      "metadata": {
        "id": "9IJKHatb_AXr"
      },
      "source": [
        "## Carrega uma determinada planilha na variável file\n",
        "\n",
        "# Monitoramento\n",
        "fileE3  = '/content/drive/MyDrive/Trabalho/KLB_Final/Monitoramento/Monitoramento 2018_2019 E3.xlsx'\n",
        "fileE5  = '/content/drive/MyDrive/Trabalho/KLB_Final/Monitoramento/Monitoramento E5 - 2019.xlsx'\n",
        "fileE9  = '/content/drive/MyDrive/Trabalho/KLB_Final/Monitoramento/Monitoramento E9 - Abril 2019 a fevereiro 2020.xlsx'\n",
        "fileE9r = '/content/drive/MyDrive/Trabalho/KLB_Final/Monitoramento/Monitoramento E9 - Março a Maio 2020.xlsx'\n",
        "fileCAS = '/content/drive/MyDrive/Trabalho/KLB_Final/Cabine Anti Sono/Cabine Sono.xlsx'\n",
        "# Ocorrências\n",
        "fileOCO = '/content/drive/MyDrive/Trabalho/KLB_Final/Ocorrências/Ocorrências_2017_2018_2019.xlsx'\n",
        "# Turno\n",
        "fileTurno  = '/content/drive/MyDrive/Trabalho/KLB_Final/Motoristas por turno.xlsx'\n",
        "# Informações gerais\n",
        "fileINF = '/content/drive/MyDrive/Trabalho/KLB_Final/Informações Gerais/Informações gerais empresa Código.xlsx'\n",
        "\n",
        "\n",
        "## Carrega a planilha em um data frame - data\n",
        "# Monitoramento\n",
        "dfE31 = pd.read_excel(fileE3)\n",
        "xls3 = pd.ExcelFile(fileE3)\n",
        "dfE3 = pd.read_excel(fileE3, xls3.sheet_names[1])\n",
        "\n",
        "dfE5 = pd.read_excel(fileE5) \n",
        "# Arquivo E9 tem mais planilhas internamente\n",
        "dfE9 = pd.read_excel(fileE9)\n",
        "xls9 = pd.ExcelFile(fileE9)\n",
        "dfE91 = pd.read_excel(fileE9, xls9.sheet_names[1])\n",
        "dfE92 = pd.read_excel(fileE9,  xls9.sheet_names[2])\n",
        "dfCAS = pd.read_excel(fileCAS)\n",
        "# Ocorrencias\n",
        "dfOCO = pd.read_excel(fileOCO)\n",
        "# Turno\n",
        "dfTurno = pd.read_excel(fileTurno)\n",
        "# Informações gerais\n",
        "dfINF = pd.read_excel(fileINF)"
      ],
      "execution_count": 547,
      "outputs": []
    },
    {
      "cell_type": "code",
      "metadata": {
        "colab": {
          "base_uri": "https://localhost:8080/",
          "height": 0
        },
        "id": "8AvIJBSoO3xG",
        "outputId": "04ba43f7-ca84-46b1-8bbd-f5f78ebc4204"
      },
      "source": [
        "dfCAS.head(2)"
      ],
      "execution_count": 548,
      "outputs": [
        {
          "output_type": "execute_result",
          "data": {
            "text/html": [
              "<div>\n",
              "<style scoped>\n",
              "    .dataframe tbody tr th:only-of-type {\n",
              "        vertical-align: middle;\n",
              "    }\n",
              "\n",
              "    .dataframe tbody tr th {\n",
              "        vertical-align: top;\n",
              "    }\n",
              "\n",
              "    .dataframe thead th {\n",
              "        text-align: right;\n",
              "    }\n",
              "</style>\n",
              "<table border=\"1\" class=\"dataframe\">\n",
              "  <thead>\n",
              "    <tr style=\"text-align: right;\">\n",
              "      <th></th>\n",
              "      <th>Colaborador</th>\n",
              "      <th>Empresa</th>\n",
              "      <th>Data</th>\n",
              "      <th>Dia</th>\n",
              "      <th>Horário Inicial</th>\n",
              "      <th>Horário Final</th>\n",
              "      <th>Tempo para teste</th>\n",
              "      <th>Pressão</th>\n",
              "      <th>Alta</th>\n",
              "      <th>Baixa</th>\n",
              "      <th>Escala Fadiga</th>\n",
              "      <th>Escala de Trabalho</th>\n",
              "      <th>2° momento</th>\n",
              "    </tr>\n",
              "  </thead>\n",
              "  <tbody>\n",
              "    <tr>\n",
              "      <th>0</th>\n",
              "      <td>C2</td>\n",
              "      <td>E3</td>\n",
              "      <td>2019-06-13 00:00:00</td>\n",
              "      <td>13</td>\n",
              "      <td>01:17:00</td>\n",
              "      <td>01:28:00</td>\n",
              "      <td>36</td>\n",
              "      <td>124x83</td>\n",
              "      <td>124</td>\n",
              "      <td>83.0</td>\n",
              "      <td>2.0</td>\n",
              "      <td>4.0</td>\n",
              "      <td>sim</td>\n",
              "    </tr>\n",
              "    <tr>\n",
              "      <th>1</th>\n",
              "      <td>C3</td>\n",
              "      <td>E3</td>\n",
              "      <td>2019-03-04 00:00:00</td>\n",
              "      <td>4</td>\n",
              "      <td>04:30:00</td>\n",
              "      <td>04:39:00</td>\n",
              "      <td>Kl@bin2007</td>\n",
              "      <td>130x90</td>\n",
              "      <td>130</td>\n",
              "      <td>90.0</td>\n",
              "      <td>4.0</td>\n",
              "      <td>4.0</td>\n",
              "      <td>não</td>\n",
              "    </tr>\n",
              "  </tbody>\n",
              "</table>\n",
              "</div>"
            ],
            "text/plain": [
              "  Colaborador Empresa  ... Escala de Trabalho 2° momento\n",
              "0          C2      E3  ...                4.0        sim\n",
              "1          C3      E3  ...                4.0        não\n",
              "\n",
              "[2 rows x 13 columns]"
            ]
          },
          "metadata": {
            "tags": []
          },
          "execution_count": 548
        }
      ]
    },
    {
      "cell_type": "code",
      "metadata": {
        "colab": {
          "base_uri": "https://localhost:8080/",
          "height": 0
        },
        "id": "F6dy1lHaPWPR",
        "outputId": "c09c12d2-ac31-4fca-db86-78d5eb69cc7a"
      },
      "source": [
        "dfTurno.head(2)"
      ],
      "execution_count": 549,
      "outputs": [
        {
          "output_type": "execute_result",
          "data": {
            "text/html": [
              "<div>\n",
              "<style scoped>\n",
              "    .dataframe tbody tr th:only-of-type {\n",
              "        vertical-align: middle;\n",
              "    }\n",
              "\n",
              "    .dataframe tbody tr th {\n",
              "        vertical-align: top;\n",
              "    }\n",
              "\n",
              "    .dataframe thead th {\n",
              "        text-align: right;\n",
              "    }\n",
              "</style>\n",
              "<table border=\"1\" class=\"dataframe\">\n",
              "  <thead>\n",
              "    <tr style=\"text-align: right;\">\n",
              "      <th></th>\n",
              "      <th>Unnamed: 0</th>\n",
              "      <th>Unnamed: 1</th>\n",
              "      <th>GT</th>\n",
              "      <th>VPP</th>\n",
              "    </tr>\n",
              "  </thead>\n",
              "  <tbody>\n",
              "    <tr>\n",
              "      <th>0</th>\n",
              "      <td>NaN</td>\n",
              "      <td>00:00:00</td>\n",
              "      <td>3</td>\n",
              "      <td>NaN</td>\n",
              "    </tr>\n",
              "    <tr>\n",
              "      <th>1</th>\n",
              "      <td>NaN</td>\n",
              "      <td>01:00:00</td>\n",
              "      <td>19</td>\n",
              "      <td>NaN</td>\n",
              "    </tr>\n",
              "  </tbody>\n",
              "</table>\n",
              "</div>"
            ],
            "text/plain": [
              "   Unnamed: 0 Unnamed: 1  GT  VPP\n",
              "0         NaN   00:00:00   3  NaN\n",
              "1         NaN   01:00:00  19  NaN"
            ]
          },
          "metadata": {
            "tags": []
          },
          "execution_count": 549
        }
      ]
    },
    {
      "cell_type": "code",
      "metadata": {
        "colab": {
          "base_uri": "https://localhost:8080/",
          "height": 0
        },
        "id": "RlOD3dx6PiqI",
        "outputId": "38d393e4-9072-466e-cd9e-269bc9acddfc"
      },
      "source": [
        "dfINF.head(2)"
      ],
      "execution_count": 550,
      "outputs": [
        {
          "output_type": "execute_result",
          "data": {
            "text/html": [
              "<div>\n",
              "<style scoped>\n",
              "    .dataframe tbody tr th:only-of-type {\n",
              "        vertical-align: middle;\n",
              "    }\n",
              "\n",
              "    .dataframe tbody tr th {\n",
              "        vertical-align: top;\n",
              "    }\n",
              "\n",
              "    .dataframe thead th {\n",
              "        text-align: right;\n",
              "    }\n",
              "</style>\n",
              "<table border=\"1\" class=\"dataframe\">\n",
              "  <thead>\n",
              "    <tr style=\"text-align: right;\">\n",
              "      <th></th>\n",
              "      <th>Empresa</th>\n",
              "      <th>Escala</th>\n",
              "      <th>Jornada</th>\n",
              "      <th>Intervalos</th>\n",
              "      <th>N° de Colaboradores por turno</th>\n",
              "      <th>Tempo médio de deslocamento</th>\n",
              "      <th>Observação</th>\n",
              "      <th>Unnamed: 7</th>\n",
              "    </tr>\n",
              "  </thead>\n",
              "  <tbody>\n",
              "    <tr>\n",
              "      <th>0</th>\n",
              "      <td>E5</td>\n",
              "      <td>4X2</td>\n",
              "      <td>00 às 11 horas</td>\n",
              "      <td>1 hora refeição (deve ser entre a 4ª e 6ª hora)</td>\n",
              "      <td>3.0</td>\n",
              "      <td>NaN</td>\n",
              "      <td>NaN</td>\n",
              "      <td>NaN</td>\n",
              "    </tr>\n",
              "    <tr>\n",
              "      <th>1</th>\n",
              "      <td>E5</td>\n",
              "      <td>4X2</td>\n",
              "      <td>1 às 12 horas</td>\n",
              "      <td>1 hora refeição (deve ser entre a 4ª e 6ª hora)</td>\n",
              "      <td>8.0</td>\n",
              "      <td>NaN</td>\n",
              "      <td>NaN</td>\n",
              "      <td>NaN</td>\n",
              "    </tr>\n",
              "  </tbody>\n",
              "</table>\n",
              "</div>"
            ],
            "text/plain": [
              "  Empresa Escala  ... Observação Unnamed: 7\n",
              "0      E5    4X2  ...        NaN        NaN\n",
              "1      E5    4X2  ...        NaN        NaN\n",
              "\n",
              "[2 rows x 8 columns]"
            ]
          },
          "metadata": {
            "tags": []
          },
          "execution_count": 550
        }
      ]
    },
    {
      "cell_type": "markdown",
      "metadata": {
        "id": "4NMQffM-j-ks"
      },
      "source": [
        "Corrigindo, a empresa que realiza monitoramento é a E17 e não a E5, por gentileza alterar.\n",
        "\n",
        "Então conforme alinhamos, irei coletar as informações das empresas E17 e E9, além da Klabin. Essas empresas são as que tem monitoramento por câmeras. Além dessas, temos os PMT porém eles iniciaram recentemente o monitoramento por câmeras.\n",
        "\n",
        "Informações sobre o monitoramento:\n",
        "\n",
        "Monitoramento_2018_2019: alertas de sono detectados pelas câmeras nos veículos Klabin. Iniciou em 07 de 2018, sendo que a implantação em 100% dos veículos foi a partir de fevereiro de 2019. Os alertas são referente as piscada de olho superior a 3 segundos.\n",
        "\n",
        "Monitoramento_pmt_códigos:  alertas de sono detectados das pequenas e médias transportadoras. Os alertas são referente as piscada de olho superior a 3 segundos. (Desde 20/08/2019)\n",
        "\n",
        "Dados Monitoramento Empresa E5: alertas de sono da empresa terceira E5 mês 10, avaliam bocejo e fechada de olha, imagens não são tratadas.  (desde o incio do ano)\n",
        "\n",
        "Dados Monitoramento Empresa E9: alertas de sono da empresa terceira E9 mês 10, imagens são tratadas, dados onde a piscada foi superior a 1,5 segundos e menor que 3 segundo (fadiga Nível 1). (desde mês 03 de 2019)."
      ]
    },
    {
      "cell_type": "markdown",
      "metadata": {
        "id": "Pu1bC-fnkRQf"
      },
      "source": [
        "Consegui contato com as empresas e confirmei a informação referente ao descanso, para as 3 empresas avaliadas o descanso é de 60 horas.\n",
        "\n",
        "Sobre o monitoramento da empresa E5 acredito que até segunda-feira encaminho a informação."
      ]
    },
    {
      "cell_type": "markdown",
      "metadata": {
        "id": "kPqQO0apkw8T"
      },
      "source": [
        "Primeiramente gostaria de confirmar se recebeu o shipe que encaminhei e se a informação é suficiente.\n",
        "\n",
        "Entrei em contato com a empresa E9 para entender melhor o que é cada alerta do monitoramento, o Yawn-Warning capta o bocejo, o Atten-Warning é todo e qualquer desvio de atenção, como por exemplo, olhar para o lado, e o Tired é o cansaço, então é quando o motorista fechou o olhou por mais de 1,5 segundos.\n",
        "\n",
        "Sobre o questionamento sobre a jornada, eles não passaram o quanto em horas seria esses dois dias de descanso, porém as empresas E3 e E9, passaram que é fixa a escala, não alterando quando retorno dos dias de descanso.\n",
        "\n",
        "Estou aguardando agora o retorno da empresa E5 para passar o restante das informações."
      ]
    },
    {
      "cell_type": "markdown",
      "metadata": {
        "id": "i3ffKmMklOeF"
      },
      "source": [
        "em uma das planilhas temos escala de trabalho classificada como 1,2,3 - O que significam estes números?\n",
        "Esse número representa qual dia da escala de trabalho o colaborador está. Por exemplo, o colaborador está no segundo dia da escala de trabalho dele.\n",
        "\n",
        "O que é a medida em segundo momento?\n",
        "É quando o colaborador precisou repetir o teste de reflexo por algum motivo, mas não temos a informação do motivo.\n",
        "\n",
        "Escala 4x2 significa 4 dias de trabalho e 2 de descanso?\n",
        "Isso, exatamente.\n",
        "\n",
        "Quando você menciona 3 horas extras - significa que todos fazem ou alguns fazem ?\n",
        "São horas eventuais, mas quando me passaram da frota própria, passaram com essas horas inclusas.\n",
        "\n",
        "Qual o significado do termo PMT?\n",
        "Pequenas e Médias Transportadoras.\n",
        "\n",
        "O que significa o prefixo VPP?existem outras classificações? \n",
        "Es letras do prefixo são referentes as empresas, o VPP é Veículo próprio pesado da nossa frota própria.\n",
        "\n",
        "O que significa Fadiga N1? existem outras classificações? \n",
        "Então essa terminologia é utilizada apenas por uma empresa e significa que o colabora fechou os olhos por mais de 1,5 segundos e no caso a mesma empresa tem o N2 que é quando é por mais de 3 segundos. Mas eles enviaram só as informações de N1 por enquanto.\n",
        "\n",
        "como interpretar as colunas potencial e SAP?\n",
        "Então o potencial é a classificação que damos as ocorrências, vou te enviar o texto que consta no nosso procedimento, mas é nosso critério para definição do potencial e o número SAP é o número para buscar o relatório dessa ocorrência, mantive para caso precise procurar fica mais fácil.\n",
        "\n",
        "Texto Procedimento de Classificação de Ocorrência:\n",
        "\n",
        "Potencialidade: Conceito aplicado para as ocorrências de acidentes e incidentes considerando a suscetibilidade de existir ou acontecer, mas sem a existência real de um determinada de uma perda.\n",
        "\n",
        "Potencial Leve (PL): Acidente ou Incidente onde não houve potencialidade de gerar nenhuma das lesões citadas no critério total e permanente;\n",
        "\n",
        "Potencial Grave (PG): Acidente ou Incidente onde tenha gerado ou houve a possibilidade de ocasionar:\n",
        "\n",
        " Incapacidade total e permanente;\n",
        "\n",
        "\n",
        " Perdas de função;\n",
        "\n",
        "Ø Amputação total ou parcial nos membros superiores e/ou inferiores (amputação de dedo(s) das mãos com perda total da função de preensão, amputação da mão/pé, amputação do antebraço/braço/perna);\n",
        "\n",
        "Ø Perda total ou parcial de um órgão pós trauma ou em decorrência de lesão grave;\n",
        "\n",
        "Ø Perda total ou parcial de função de órgão em decorrência de lesão grave;\n",
        "\n",
        "Ø Fratura exposta;\n",
        "\n",
        "Ø Incapacidade total ou parcial permanente por dano neurológico ou motor;\n",
        "\n",
        "Ø Queimaduras que resultem em sequelas definitivas com restrição de função de membros superiores e inferiores;\n",
        "\n",
        "Danos estéticos;\n",
        "\n",
        "Ø Lesão/cicatriz na face ou deformidade visível com aparência, permanência e irreparabilidade pelos meios comuns ou por si mesma, onde o dano estético apreciável causa complexo ou interfere negativamente na vida social com deformidade de mais de 10% da superfície facial ou 25% de qualquer outra parte do corpo (mãos, pés, braços, pernas e tronco).\n",
        "\n",
        "Potencial Fatal (PF): Acidente ou incidente onde tenha gerado ou houve a potencialidade de fatalidade.\n",
        "\n",
        "Tempo de empresa está em meses ou anos (tem valores como 86 e 407, estão corretos)?\n",
        "Está em meses.\n",
        "\n",
        "Entrei em contato com a empresa E5 e o alerta referente a piscada é de acordo com o número de piscadas por minuto, porém eles não souberem especificar qual seria esse número.\n",
        "\n",
        "A empresa iria tentar a informação, buscando o fornecedor mas ainda não obtive nenhum retorno.\n",
        "\n",
        "Verifiquei alguns pontos para ajuste:\n",
        "\n",
        "- No campo autores, aparece a legenda “1” para meu nome e da Clara, porém na legenda a Klabin está como “c”.\n",
        "\n",
        "- Ainda referente aos autores, segue meu nome completo para atualizar: Verônica Marques Lopes\n",
        "\n",
        "- Na linha “94”, está descrito que a empresa E5 dispõem de 3 sistemas de fadiga, porém conforme descrito na sequência, são apenas 2, bocejo e olho fechado.\n",
        "\n",
        "- Ajustar descrição do alerta referente a E5: número de piscadas por minuto.\n",
        "\n",
        "- Desta forma, na linha “98”, ajustar que o alerta referente a Eye closed, considera critérios diferentes, para as empresas E5 e E9.\n"
      ]
    },
    {
      "cell_type": "markdown",
      "metadata": {
        "id": "awEU2t0WmvYm"
      },
      "source": [
        "# **Tratamento de dados**"
      ]
    },
    {
      "cell_type": "markdown",
      "metadata": {
        "id": "pGwzjshVR0_z"
      },
      "source": [
        "\n",
        "\n",
        "1.   motoristas em cada hora cheia - E3, E5 e E9\n",
        "2.   acidentes em cada hora cheia - madeira\n",
        "3.   eventos em cada hora cheia: bocejo, fadiga, atenção, tired,...\n",
        "\n"
      ]
    },
    {
      "cell_type": "markdown",
      "metadata": {
        "id": "UBzOuw7aorcX"
      },
      "source": [
        "## **Informações Gerais**"
      ]
    },
    {
      "cell_type": "code",
      "metadata": {
        "colab": {
          "base_uri": "https://localhost:8080/",
          "height": 0
        },
        "id": "_Mhn4Rtioqr7",
        "outputId": "85ffbea3-7a39-4ecc-8900-b0b49bf8a9c3"
      },
      "source": [
        "dfINF.head()"
      ],
      "execution_count": 551,
      "outputs": [
        {
          "output_type": "execute_result",
          "data": {
            "text/html": [
              "<div>\n",
              "<style scoped>\n",
              "    .dataframe tbody tr th:only-of-type {\n",
              "        vertical-align: middle;\n",
              "    }\n",
              "\n",
              "    .dataframe tbody tr th {\n",
              "        vertical-align: top;\n",
              "    }\n",
              "\n",
              "    .dataframe thead th {\n",
              "        text-align: right;\n",
              "    }\n",
              "</style>\n",
              "<table border=\"1\" class=\"dataframe\">\n",
              "  <thead>\n",
              "    <tr style=\"text-align: right;\">\n",
              "      <th></th>\n",
              "      <th>Empresa</th>\n",
              "      <th>Escala</th>\n",
              "      <th>Jornada</th>\n",
              "      <th>Intervalos</th>\n",
              "      <th>N° de Colaboradores por turno</th>\n",
              "      <th>Tempo médio de deslocamento</th>\n",
              "      <th>Observação</th>\n",
              "      <th>Unnamed: 7</th>\n",
              "    </tr>\n",
              "  </thead>\n",
              "  <tbody>\n",
              "    <tr>\n",
              "      <th>0</th>\n",
              "      <td>E5</td>\n",
              "      <td>4X2</td>\n",
              "      <td>00 às 11 horas</td>\n",
              "      <td>1 hora refeição (deve ser entre a 4ª e 6ª hora)</td>\n",
              "      <td>3.0</td>\n",
              "      <td>NaN</td>\n",
              "      <td>NaN</td>\n",
              "      <td>NaN</td>\n",
              "    </tr>\n",
              "    <tr>\n",
              "      <th>1</th>\n",
              "      <td>E5</td>\n",
              "      <td>4X2</td>\n",
              "      <td>1 às 12 horas</td>\n",
              "      <td>1 hora refeição (deve ser entre a 4ª e 6ª hora)</td>\n",
              "      <td>8.0</td>\n",
              "      <td>NaN</td>\n",
              "      <td>NaN</td>\n",
              "      <td>NaN</td>\n",
              "    </tr>\n",
              "    <tr>\n",
              "      <th>2</th>\n",
              "      <td>E5</td>\n",
              "      <td>4X2</td>\n",
              "      <td>2 às 13 horas</td>\n",
              "      <td>1 hora refeição (deve ser entre a 4ª e 6ª hora)</td>\n",
              "      <td>6.0</td>\n",
              "      <td>NaN</td>\n",
              "      <td>NaN</td>\n",
              "      <td>NaN</td>\n",
              "    </tr>\n",
              "    <tr>\n",
              "      <th>3</th>\n",
              "      <td>E5</td>\n",
              "      <td>4X2</td>\n",
              "      <td>4 às 15 horas</td>\n",
              "      <td>1 hora refeição (deve ser entre a 4ª e 6ª hora)</td>\n",
              "      <td>5.0</td>\n",
              "      <td>NaN</td>\n",
              "      <td>NaN</td>\n",
              "      <td>NaN</td>\n",
              "    </tr>\n",
              "    <tr>\n",
              "      <th>4</th>\n",
              "      <td>E5</td>\n",
              "      <td>4X2</td>\n",
              "      <td>5 às 16 horas</td>\n",
              "      <td>1 hora refeição (deve ser entre a 4ª e 6ª hora)</td>\n",
              "      <td>6.0</td>\n",
              "      <td>NaN</td>\n",
              "      <td>NaN</td>\n",
              "      <td>NaN</td>\n",
              "    </tr>\n",
              "  </tbody>\n",
              "</table>\n",
              "</div>"
            ],
            "text/plain": [
              "  Empresa Escala  ... Observação Unnamed: 7\n",
              "0      E5    4X2  ...        NaN        NaN\n",
              "1      E5    4X2  ...        NaN        NaN\n",
              "2      E5    4X2  ...        NaN        NaN\n",
              "3      E5    4X2  ...        NaN        NaN\n",
              "4      E5    4X2  ...        NaN        NaN\n",
              "\n",
              "[5 rows x 8 columns]"
            ]
          },
          "metadata": {
            "tags": []
          },
          "execution_count": 551
        }
      ]
    },
    {
      "cell_type": "code",
      "metadata": {
        "colab": {
          "base_uri": "https://localhost:8080/"
        },
        "id": "1SKEiW0hpzOz",
        "outputId": "7021c360-ff37-4a5f-fffc-0d5f2490b7ba"
      },
      "source": [
        "dfINF.shape"
      ],
      "execution_count": 552,
      "outputs": [
        {
          "output_type": "execute_result",
          "data": {
            "text/plain": [
              "(66, 8)"
            ]
          },
          "metadata": {
            "tags": []
          },
          "execution_count": 552
        }
      ]
    },
    {
      "cell_type": "code",
      "metadata": {
        "colab": {
          "base_uri": "https://localhost:8080/",
          "height": 0
        },
        "id": "BXfI-yzHDRYi",
        "outputId": "ba7f47d4-0584-4b6d-b198-a91f6b52bd66"
      },
      "source": [
        "dfInf_expand = dfINF.Jornada.str.split(' ', expand=True)\r\n",
        "dfInf_expand.head()"
      ],
      "execution_count": 553,
      "outputs": [
        {
          "output_type": "execute_result",
          "data": {
            "text/html": [
              "<div>\n",
              "<style scoped>\n",
              "    .dataframe tbody tr th:only-of-type {\n",
              "        vertical-align: middle;\n",
              "    }\n",
              "\n",
              "    .dataframe tbody tr th {\n",
              "        vertical-align: top;\n",
              "    }\n",
              "\n",
              "    .dataframe thead th {\n",
              "        text-align: right;\n",
              "    }\n",
              "</style>\n",
              "<table border=\"1\" class=\"dataframe\">\n",
              "  <thead>\n",
              "    <tr style=\"text-align: right;\">\n",
              "      <th></th>\n",
              "      <th>0</th>\n",
              "      <th>1</th>\n",
              "      <th>2</th>\n",
              "      <th>3</th>\n",
              "    </tr>\n",
              "  </thead>\n",
              "  <tbody>\n",
              "    <tr>\n",
              "      <th>0</th>\n",
              "      <td>00</td>\n",
              "      <td>às</td>\n",
              "      <td>11</td>\n",
              "      <td>horas</td>\n",
              "    </tr>\n",
              "    <tr>\n",
              "      <th>1</th>\n",
              "      <td>1</td>\n",
              "      <td>às</td>\n",
              "      <td>12</td>\n",
              "      <td>horas</td>\n",
              "    </tr>\n",
              "    <tr>\n",
              "      <th>2</th>\n",
              "      <td>2</td>\n",
              "      <td>às</td>\n",
              "      <td>13</td>\n",
              "      <td>horas</td>\n",
              "    </tr>\n",
              "    <tr>\n",
              "      <th>3</th>\n",
              "      <td>4</td>\n",
              "      <td>às</td>\n",
              "      <td>15</td>\n",
              "      <td>horas</td>\n",
              "    </tr>\n",
              "    <tr>\n",
              "      <th>4</th>\n",
              "      <td>5</td>\n",
              "      <td>às</td>\n",
              "      <td>16</td>\n",
              "      <td>horas</td>\n",
              "    </tr>\n",
              "  </tbody>\n",
              "</table>\n",
              "</div>"
            ],
            "text/plain": [
              "    0   1   2      3\n",
              "0  00  às  11  horas\n",
              "1   1  às  12  horas\n",
              "2   2  às  13  horas\n",
              "3   4  às  15  horas\n",
              "4   5  às  16  horas"
            ]
          },
          "metadata": {
            "tags": []
          },
          "execution_count": 553
        }
      ]
    },
    {
      "cell_type": "code",
      "metadata": {
        "colab": {
          "base_uri": "https://localhost:8080/",
          "height": 0
        },
        "id": "o4r35sRmExRe",
        "outputId": "0ea0250a-8746-46a4-dd2b-2a629f693b4f"
      },
      "source": [
        "dfINF['Inicio'] = dfInf_expand[0].astype('int64')\r\n",
        "dfINF['Fim'] = dfInf_expand[2].astype('int64')\r\n",
        "dfINF.tail()"
      ],
      "execution_count": 554,
      "outputs": [
        {
          "output_type": "execute_result",
          "data": {
            "text/html": [
              "<div>\n",
              "<style scoped>\n",
              "    .dataframe tbody tr th:only-of-type {\n",
              "        vertical-align: middle;\n",
              "    }\n",
              "\n",
              "    .dataframe tbody tr th {\n",
              "        vertical-align: top;\n",
              "    }\n",
              "\n",
              "    .dataframe thead th {\n",
              "        text-align: right;\n",
              "    }\n",
              "</style>\n",
              "<table border=\"1\" class=\"dataframe\">\n",
              "  <thead>\n",
              "    <tr style=\"text-align: right;\">\n",
              "      <th></th>\n",
              "      <th>Empresa</th>\n",
              "      <th>Escala</th>\n",
              "      <th>Jornada</th>\n",
              "      <th>Intervalos</th>\n",
              "      <th>N° de Colaboradores por turno</th>\n",
              "      <th>Tempo médio de deslocamento</th>\n",
              "      <th>Observação</th>\n",
              "      <th>Unnamed: 7</th>\n",
              "      <th>Inicio</th>\n",
              "      <th>Fim</th>\n",
              "    </tr>\n",
              "  </thead>\n",
              "  <tbody>\n",
              "    <tr>\n",
              "      <th>61</th>\n",
              "      <td>E9</td>\n",
              "      <td>4X2</td>\n",
              "      <td>16 às 04 horas</td>\n",
              "      <td>Mínimo 1 hora</td>\n",
              "      <td>2.0</td>\n",
              "      <td>Aproximadamente 22 min</td>\n",
              "      <td>NaN</td>\n",
              "      <td>NaN</td>\n",
              "      <td>16</td>\n",
              "      <td>4</td>\n",
              "    </tr>\n",
              "    <tr>\n",
              "      <th>62</th>\n",
              "      <td>E9</td>\n",
              "      <td>4X2</td>\n",
              "      <td>17 às 05 horas</td>\n",
              "      <td>Mínimo 1 hora</td>\n",
              "      <td>6.0</td>\n",
              "      <td>Aproximadamente 22 min</td>\n",
              "      <td>NaN</td>\n",
              "      <td>NaN</td>\n",
              "      <td>17</td>\n",
              "      <td>5</td>\n",
              "    </tr>\n",
              "    <tr>\n",
              "      <th>63</th>\n",
              "      <td>E9</td>\n",
              "      <td>4X2</td>\n",
              "      <td>18 às 06 horas</td>\n",
              "      <td>Mínimo 1 hora</td>\n",
              "      <td>8.0</td>\n",
              "      <td>Aproximadamente 22 min</td>\n",
              "      <td>NaN</td>\n",
              "      <td>NaN</td>\n",
              "      <td>18</td>\n",
              "      <td>6</td>\n",
              "    </tr>\n",
              "    <tr>\n",
              "      <th>64</th>\n",
              "      <td>E9</td>\n",
              "      <td>4X2</td>\n",
              "      <td>19 às 07 horas</td>\n",
              "      <td>Mínimo 1 hora</td>\n",
              "      <td>2.0</td>\n",
              "      <td>Aproximadamente 22 min</td>\n",
              "      <td>NaN</td>\n",
              "      <td>NaN</td>\n",
              "      <td>19</td>\n",
              "      <td>7</td>\n",
              "    </tr>\n",
              "    <tr>\n",
              "      <th>65</th>\n",
              "      <td>E9</td>\n",
              "      <td>4X2</td>\n",
              "      <td>20 às 08 horas</td>\n",
              "      <td>Mínimo 1 hora</td>\n",
              "      <td>2.0</td>\n",
              "      <td>Aproximadamente 22 min</td>\n",
              "      <td>NaN</td>\n",
              "      <td>NaN</td>\n",
              "      <td>20</td>\n",
              "      <td>8</td>\n",
              "    </tr>\n",
              "  </tbody>\n",
              "</table>\n",
              "</div>"
            ],
            "text/plain": [
              "   Empresa Escala         Jornada  ... Unnamed: 7  Inicio Fim\n",
              "61      E9    4X2  16 às 04 horas  ...        NaN      16   4\n",
              "62      E9    4X2  17 às 05 horas  ...        NaN      17   5\n",
              "63      E9    4X2  18 às 06 horas  ...        NaN      18   6\n",
              "64      E9    4X2  19 às 07 horas  ...        NaN      19   7\n",
              "65      E9    4X2  20 às 08 horas  ...        NaN      20   8\n",
              "\n",
              "[5 rows x 10 columns]"
            ]
          },
          "metadata": {
            "tags": []
          },
          "execution_count": 554
        }
      ]
    },
    {
      "cell_type": "code",
      "metadata": {
        "colab": {
          "base_uri": "https://localhost:8080/"
        },
        "id": "j3U7BX1kFOJr",
        "outputId": "2603b3c5-6d14-4bb2-9aed-47645c4a2084"
      },
      "source": [
        "dfINF.dtypes"
      ],
      "execution_count": 555,
      "outputs": [
        {
          "output_type": "execute_result",
          "data": {
            "text/plain": [
              "Empresa                           object\n",
              "Escala                            object\n",
              "Jornada                           object\n",
              "Intervalos                        object\n",
              "N° de Colaboradores por turno    float64\n",
              "Tempo médio de deslocamento       object\n",
              "Observação                        object\n",
              "Unnamed: 7                        object\n",
              "Inicio                             int64\n",
              "Fim                                int64\n",
              "dtype: object"
            ]
          },
          "metadata": {
            "tags": []
          },
          "execution_count": 555
        }
      ]
    },
    {
      "cell_type": "code",
      "metadata": {
        "colab": {
          "base_uri": "https://localhost:8080/"
        },
        "id": "qp7Zf2OCpXB8",
        "outputId": "bce2ae56-e38a-4c32-d10a-92e92de1c679"
      },
      "source": [
        "dfINF.isnull().sum()"
      ],
      "execution_count": 556,
      "outputs": [
        {
          "output_type": "execute_result",
          "data": {
            "text/plain": [
              "Empresa                           0\n",
              "Escala                            0\n",
              "Jornada                           0\n",
              "Intervalos                        0\n",
              "N° de Colaboradores por turno    10\n",
              "Tempo médio de deslocamento      20\n",
              "Observação                       40\n",
              "Unnamed: 7                       40\n",
              "Inicio                            0\n",
              "Fim                               0\n",
              "dtype: int64"
            ]
          },
          "metadata": {
            "tags": []
          },
          "execution_count": 556
        }
      ]
    },
    {
      "cell_type": "code",
      "metadata": {
        "colab": {
          "base_uri": "https://localhost:8080/"
        },
        "id": "wpF7r-7IpjzW",
        "outputId": "05422bb7-713d-483a-daba-7205909b6869"
      },
      "source": [
        "dfINF_limpo = dfINF.dropna(subset=['N° de Colaboradores por turno'])\r\n",
        "dfINF_limpo.shape"
      ],
      "execution_count": 557,
      "outputs": [
        {
          "output_type": "execute_result",
          "data": {
            "text/plain": [
              "(56, 10)"
            ]
          },
          "metadata": {
            "tags": []
          },
          "execution_count": 557
        }
      ]
    },
    {
      "cell_type": "code",
      "metadata": {
        "colab": {
          "base_uri": "https://localhost:8080/"
        },
        "id": "TTkiR74LqW1n",
        "outputId": "b5039871-a6c1-459c-80af-c0a7f878514a"
      },
      "source": [
        "dfINF_limpo.Empresa.value_counts()"
      ],
      "execution_count": 558,
      "outputs": [
        {
          "output_type": "execute_result",
          "data": {
            "text/plain": [
              "E9    20\n",
              "E5    20\n",
              "E3    16\n",
              "Name: Empresa, dtype: int64"
            ]
          },
          "metadata": {
            "tags": []
          },
          "execution_count": 558
        }
      ]
    },
    {
      "cell_type": "code",
      "metadata": {
        "colab": {
          "base_uri": "https://localhost:8080/"
        },
        "id": "09AZzTVKp-i1",
        "outputId": "05f89596-3c7d-494a-bc3c-59663fc3ccd9"
      },
      "source": [
        "dfInfE3 = dfINF_limpo[dfINF_limpo.Empresa == 'E3']\r\n",
        "dfInfE5 = dfINF_limpo[dfINF_limpo.Empresa == 'E5']\r\n",
        "dfInfE9 = dfINF_limpo[dfINF_limpo.Empresa == 'E9']\r\n",
        "print(dfInfE3.shape,dfInfE5.shape,dfInfE9.shape)"
      ],
      "execution_count": 559,
      "outputs": [
        {
          "output_type": "stream",
          "text": [
            "(16, 10) (20, 10) (20, 10)\n"
          ],
          "name": "stdout"
        }
      ]
    },
    {
      "cell_type": "markdown",
      "metadata": {
        "id": "1iBt-vIDJsMQ"
      },
      "source": [
        "## **Ocorrências**"
      ]
    },
    {
      "cell_type": "code",
      "metadata": {
        "colab": {
          "base_uri": "https://localhost:8080/",
          "height": 0
        },
        "id": "41IKN1_SJsMn",
        "outputId": "0d97cccb-be63-4ffa-bf98-3c69c3084b7f"
      },
      "source": [
        "dfOCO.head(2)"
      ],
      "execution_count": 560,
      "outputs": [
        {
          "output_type": "execute_result",
          "data": {
            "text/html": [
              "<div>\n",
              "<style scoped>\n",
              "    .dataframe tbody tr th:only-of-type {\n",
              "        vertical-align: middle;\n",
              "    }\n",
              "\n",
              "    .dataframe tbody tr th {\n",
              "        vertical-align: top;\n",
              "    }\n",
              "\n",
              "    .dataframe thead th {\n",
              "        text-align: right;\n",
              "    }\n",
              "</style>\n",
              "<table border=\"1\" class=\"dataframe\">\n",
              "  <thead>\n",
              "    <tr style=\"text-align: right;\">\n",
              "      <th></th>\n",
              "      <th>CLASSIFICAÇÃO</th>\n",
              "      <th>EMPRESA</th>\n",
              "      <th>GERÊNCIA</th>\n",
              "      <th>COORDENAÇÃO</th>\n",
              "      <th>SUB ÁREA</th>\n",
              "      <th>NOME</th>\n",
              "      <th>CARGO</th>\n",
              "      <th>TEMPO DE EMPRESA</th>\n",
              "      <th>IDADE</th>\n",
              "      <th>\\nDATA DA OCORRÊNCIA</th>\n",
              "      <th>DIA DA SEMANA</th>\n",
              "      <th>HORA</th>\n",
              "      <th>\\nLOCAL DA OCORRÊNCIA</th>\n",
              "      <th>QUALIDADE PISTA</th>\n",
              "      <th>CARACTERISTICA PISTA</th>\n",
              "      <th>SINALIZAÇÃO</th>\n",
              "      <th>CLIMA</th>\n",
              "      <th>PREFIXO</th>\n",
              "      <th>MODELO</th>\n",
              "      <th>CARREGADO</th>\n",
              "      <th>TIPO</th>\n",
              "      <th>DETALHAMENTO</th>\n",
              "      <th>POTENCIAL</th>\n",
              "      <th>SAP</th>\n",
              "      <th>DIA ESCALA</th>\n",
              "      <th>ESCALA</th>\n",
              "      <th>JORNADA</th>\n",
              "      <th>TEMPO DECORRIDO</th>\n",
              "      <th>DORMIU BEM?</th>\n",
              "      <th>PRÓXIMO PERIODO DE FÉRIAS OU FERIADO</th>\n",
              "      <th>ALIMENTOU</th>\n",
              "      <th>PROBLEMAS SAÚDE</th>\n",
              "      <th>USO MEDICAMENTO</th>\n",
              "      <th>USO ALCOOL/DROGA</th>\n",
              "      <th>PRESSÃO</th>\n",
              "      <th>PRESSA PARA CONCLUIR O TRABALHO</th>\n",
              "      <th>DESCRIÇÃO</th>\n",
              "    </tr>\n",
              "  </thead>\n",
              "  <tbody>\n",
              "    <tr>\n",
              "      <th>0</th>\n",
              "      <td>IBP</td>\n",
              "      <td>E3</td>\n",
              "      <td>ANGATUBA</td>\n",
              "      <td>ANGATUBA</td>\n",
              "      <td>PÁTIO DE MADEIRA</td>\n",
              "      <td>C422</td>\n",
              "      <td>OPERADOR DE MÁQUINA FLORESTAL</td>\n",
              "      <td>2</td>\n",
              "      <td>36.0</td>\n",
              "      <td>2017-01-03</td>\n",
              "      <td>TERÇA-FEIRA</td>\n",
              "      <td>10:20:00</td>\n",
              "      <td>PÁTIO DE MADEIRA</td>\n",
              "      <td>NaN</td>\n",
              "      <td>NaN</td>\n",
              "      <td>NaN</td>\n",
              "      <td>NaN</td>\n",
              "      <td>NaN</td>\n",
              "      <td>NaN</td>\n",
              "      <td>NaN</td>\n",
              "      <td>NaN</td>\n",
              "      <td>AO SE DESLOCAR COM O TRATOR ATÉ O PICADOR, A J...</td>\n",
              "      <td>LPG</td>\n",
              "      <td>6008</td>\n",
              "      <td>NaN</td>\n",
              "      <td>NaN</td>\n",
              "      <td>NaN</td>\n",
              "      <td>NaN</td>\n",
              "      <td>NaN</td>\n",
              "      <td>NaN</td>\n",
              "      <td>NaN</td>\n",
              "      <td>NaN</td>\n",
              "      <td>NaN</td>\n",
              "      <td>NaN</td>\n",
              "      <td>NaN</td>\n",
              "      <td>NaN</td>\n",
              "      <td>NaN</td>\n",
              "    </tr>\n",
              "    <tr>\n",
              "      <th>1</th>\n",
              "      <td>IBP</td>\n",
              "      <td>E3</td>\n",
              "      <td>PESQUISA</td>\n",
              "      <td>PESQUISA</td>\n",
              "      <td>PESQUISA</td>\n",
              "      <td>C365</td>\n",
              "      <td>LÍDER DE TURMA</td>\n",
              "      <td>81</td>\n",
              "      <td>28.0</td>\n",
              "      <td>2017-01-04</td>\n",
              "      <td>QUARTA-FEIRA</td>\n",
              "      <td>15:00:00</td>\n",
              "      <td>LAGOA - Viveiro Florestal</td>\n",
              "      <td>NaN</td>\n",
              "      <td>RETA</td>\n",
              "      <td>NaN</td>\n",
              "      <td>NaN</td>\n",
              "      <td>AM-232</td>\n",
              "      <td>NaN</td>\n",
              "      <td>NaN</td>\n",
              "      <td>VEÍCULO DE LOCOMOÇÃO DE PESSOAS</td>\n",
              "      <td>A COLABORADORA ESTAVA EM DESLOCAMENTO NO VIVEI...</td>\n",
              "      <td>LPL</td>\n",
              "      <td>6039</td>\n",
              "      <td>NaN</td>\n",
              "      <td>NaN</td>\n",
              "      <td>NaN</td>\n",
              "      <td>NaN</td>\n",
              "      <td>NaN</td>\n",
              "      <td>NaN</td>\n",
              "      <td>NaN</td>\n",
              "      <td>NaN</td>\n",
              "      <td>NaN</td>\n",
              "      <td>NaN</td>\n",
              "      <td>NaN</td>\n",
              "      <td>NaN</td>\n",
              "      <td>NaN</td>\n",
              "    </tr>\n",
              "  </tbody>\n",
              "</table>\n",
              "</div>"
            ],
            "text/plain": [
              "  CLASSIFICAÇÃO EMPRESA  ... PRESSA PARA CONCLUIR O TRABALHO DESCRIÇÃO \n",
              "0           IBP      E3  ...                             NaN        NaN\n",
              "1           IBP      E3  ...                             NaN        NaN\n",
              "\n",
              "[2 rows x 37 columns]"
            ]
          },
          "metadata": {
            "tags": []
          },
          "execution_count": 560
        }
      ]
    },
    {
      "cell_type": "code",
      "metadata": {
        "colab": {
          "base_uri": "https://localhost:8080/"
        },
        "id": "buHRK3tdJsMp",
        "outputId": "2270eb91-366b-4311-ca51-392188af4606"
      },
      "source": [
        "dfOCO.columns"
      ],
      "execution_count": 561,
      "outputs": [
        {
          "output_type": "execute_result",
          "data": {
            "text/plain": [
              "Index(['CLASSIFICAÇÃO', 'EMPRESA', 'GERÊNCIA', 'COORDENAÇÃO ', 'SUB ÁREA',\n",
              "       'NOME', 'CARGO', 'TEMPO DE EMPRESA', 'IDADE', '\\nDATA DA OCORRÊNCIA',\n",
              "       'DIA DA SEMANA', 'HORA', ' \\nLOCAL DA OCORRÊNCIA', 'QUALIDADE PISTA',\n",
              "       'CARACTERISTICA PISTA', 'SINALIZAÇÃO', 'CLIMA', 'PREFIXO', 'MODELO',\n",
              "       'CARREGADO', 'TIPO ', 'DETALHAMENTO', 'POTENCIAL', 'SAP', 'DIA ESCALA',\n",
              "       'ESCALA', 'JORNADA ', 'TEMPO DECORRIDO', 'DORMIU BEM?',\n",
              "       'PRÓXIMO PERIODO DE FÉRIAS OU FERIADO', 'ALIMENTOU', 'PROBLEMAS SAÚDE ',\n",
              "       'USO MEDICAMENTO', 'USO ALCOOL/DROGA', 'PRESSÃO',\n",
              "       'PRESSA PARA CONCLUIR O TRABALHO', 'DESCRIÇÃO '],\n",
              "      dtype='object')"
            ]
          },
          "metadata": {
            "tags": []
          },
          "execution_count": 561
        }
      ]
    },
    {
      "cell_type": "code",
      "metadata": {
        "colab": {
          "base_uri": "https://localhost:8080/"
        },
        "id": "-g3Bjtj8JsMq",
        "outputId": "5c6b92a2-b910-4715-e2fd-9b996f641a88"
      },
      "source": [
        "dfOCO['TIPO '].value_counts()"
      ],
      "execution_count": 562,
      "outputs": [
        {
          "output_type": "execute_result",
          "data": {
            "text/plain": [
              "TRANSPORTE DE MADEIRA              224\n",
              "VEÍCULO DE LOCOMOÇÃO DE PESSOAS    102\n",
              "TRANSPORTE GERAL                    52\n",
              "TRANSPORTE DE MADEIRA                4\n",
              "Name: TIPO , dtype: int64"
            ]
          },
          "metadata": {
            "tags": []
          },
          "execution_count": 562
        }
      ]
    },
    {
      "cell_type": "code",
      "metadata": {
        "colab": {
          "base_uri": "https://localhost:8080/",
          "height": 0
        },
        "id": "Ss5ZaZv6JsMr",
        "outputId": "71358c06-d1a2-453b-d2ff-ae1fc8289cb3"
      },
      "source": [
        "# Ocorrências\r\n",
        "dfOCO = pd.read_excel(fileOCO)\r\n",
        "dfOCO = dfOCO.dropna(subset=['EMPRESA'])\r\n",
        "dfOCO = dfOCO.dropna(subset=['TIPO '])\r\n",
        "dfOCO['HorarioAcidente'] = pd.to_datetime(dfOCO['HORA'], format='%H:%M:%S').dt.hour\r\n",
        "dfOCO.set_index('HORA',drop=True,inplace=True)\r\n",
        "dfOCO.head(3)"
      ],
      "execution_count": 563,
      "outputs": [
        {
          "output_type": "execute_result",
          "data": {
            "text/html": [
              "<div>\n",
              "<style scoped>\n",
              "    .dataframe tbody tr th:only-of-type {\n",
              "        vertical-align: middle;\n",
              "    }\n",
              "\n",
              "    .dataframe tbody tr th {\n",
              "        vertical-align: top;\n",
              "    }\n",
              "\n",
              "    .dataframe thead th {\n",
              "        text-align: right;\n",
              "    }\n",
              "</style>\n",
              "<table border=\"1\" class=\"dataframe\">\n",
              "  <thead>\n",
              "    <tr style=\"text-align: right;\">\n",
              "      <th></th>\n",
              "      <th>CLASSIFICAÇÃO</th>\n",
              "      <th>EMPRESA</th>\n",
              "      <th>GERÊNCIA</th>\n",
              "      <th>COORDENAÇÃO</th>\n",
              "      <th>SUB ÁREA</th>\n",
              "      <th>NOME</th>\n",
              "      <th>CARGO</th>\n",
              "      <th>TEMPO DE EMPRESA</th>\n",
              "      <th>IDADE</th>\n",
              "      <th>\\nDATA DA OCORRÊNCIA</th>\n",
              "      <th>DIA DA SEMANA</th>\n",
              "      <th>\\nLOCAL DA OCORRÊNCIA</th>\n",
              "      <th>QUALIDADE PISTA</th>\n",
              "      <th>CARACTERISTICA PISTA</th>\n",
              "      <th>SINALIZAÇÃO</th>\n",
              "      <th>CLIMA</th>\n",
              "      <th>PREFIXO</th>\n",
              "      <th>MODELO</th>\n",
              "      <th>CARREGADO</th>\n",
              "      <th>TIPO</th>\n",
              "      <th>DETALHAMENTO</th>\n",
              "      <th>POTENCIAL</th>\n",
              "      <th>SAP</th>\n",
              "      <th>DIA ESCALA</th>\n",
              "      <th>ESCALA</th>\n",
              "      <th>JORNADA</th>\n",
              "      <th>TEMPO DECORRIDO</th>\n",
              "      <th>DORMIU BEM?</th>\n",
              "      <th>PRÓXIMO PERIODO DE FÉRIAS OU FERIADO</th>\n",
              "      <th>ALIMENTOU</th>\n",
              "      <th>PROBLEMAS SAÚDE</th>\n",
              "      <th>USO MEDICAMENTO</th>\n",
              "      <th>USO ALCOOL/DROGA</th>\n",
              "      <th>PRESSÃO</th>\n",
              "      <th>PRESSA PARA CONCLUIR O TRABALHO</th>\n",
              "      <th>DESCRIÇÃO</th>\n",
              "      <th>HorarioAcidente</th>\n",
              "    </tr>\n",
              "    <tr>\n",
              "      <th>HORA</th>\n",
              "      <th></th>\n",
              "      <th></th>\n",
              "      <th></th>\n",
              "      <th></th>\n",
              "      <th></th>\n",
              "      <th></th>\n",
              "      <th></th>\n",
              "      <th></th>\n",
              "      <th></th>\n",
              "      <th></th>\n",
              "      <th></th>\n",
              "      <th></th>\n",
              "      <th></th>\n",
              "      <th></th>\n",
              "      <th></th>\n",
              "      <th></th>\n",
              "      <th></th>\n",
              "      <th></th>\n",
              "      <th></th>\n",
              "      <th></th>\n",
              "      <th></th>\n",
              "      <th></th>\n",
              "      <th></th>\n",
              "      <th></th>\n",
              "      <th></th>\n",
              "      <th></th>\n",
              "      <th></th>\n",
              "      <th></th>\n",
              "      <th></th>\n",
              "      <th></th>\n",
              "      <th></th>\n",
              "      <th></th>\n",
              "      <th></th>\n",
              "      <th></th>\n",
              "      <th></th>\n",
              "      <th></th>\n",
              "      <th></th>\n",
              "    </tr>\n",
              "  </thead>\n",
              "  <tbody>\n",
              "    <tr>\n",
              "      <th>15:00:00</th>\n",
              "      <td>IBP</td>\n",
              "      <td>E3</td>\n",
              "      <td>PESQUISA</td>\n",
              "      <td>PESQUISA</td>\n",
              "      <td>PESQUISA</td>\n",
              "      <td>C365</td>\n",
              "      <td>LÍDER DE TURMA</td>\n",
              "      <td>81</td>\n",
              "      <td>28.0</td>\n",
              "      <td>2017-01-04</td>\n",
              "      <td>QUARTA-FEIRA</td>\n",
              "      <td>LAGOA - Viveiro Florestal</td>\n",
              "      <td>NaN</td>\n",
              "      <td>RETA</td>\n",
              "      <td>NaN</td>\n",
              "      <td>NaN</td>\n",
              "      <td>AM-232</td>\n",
              "      <td>NaN</td>\n",
              "      <td>NaN</td>\n",
              "      <td>VEÍCULO DE LOCOMOÇÃO DE PESSOAS</td>\n",
              "      <td>A COLABORADORA ESTAVA EM DESLOCAMENTO NO VIVEI...</td>\n",
              "      <td>LPL</td>\n",
              "      <td>6039</td>\n",
              "      <td>NaN</td>\n",
              "      <td>NaN</td>\n",
              "      <td>NaN</td>\n",
              "      <td>NaN</td>\n",
              "      <td>NaN</td>\n",
              "      <td>NaN</td>\n",
              "      <td>NaN</td>\n",
              "      <td>NaN</td>\n",
              "      <td>NaN</td>\n",
              "      <td>NaN</td>\n",
              "      <td>NaN</td>\n",
              "      <td>NaN</td>\n",
              "      <td>NaN</td>\n",
              "      <td>15</td>\n",
              "    </tr>\n",
              "    <tr>\n",
              "      <th>21:40:00</th>\n",
              "      <td>IAP</td>\n",
              "      <td>E2</td>\n",
              "      <td>LOGÍSTICA</td>\n",
              "      <td>TRANSPORTE FLORESTAL</td>\n",
              "      <td>LOGÍSTICA</td>\n",
              "      <td>C409</td>\n",
              "      <td>MOTORISTA</td>\n",
              "      <td>3</td>\n",
              "      <td>48.0</td>\n",
              "      <td>2017-01-17</td>\n",
              "      <td>TERÇA-FEIRA</td>\n",
              "      <td>DISTRITO INDUSTRIAL</td>\n",
              "      <td>PRECARIA</td>\n",
              "      <td>DECLIVE</td>\n",
              "      <td>NaN</td>\n",
              "      <td>NaN</td>\n",
              "      <td>GFR 028</td>\n",
              "      <td>NaN</td>\n",
              "      <td>SIM</td>\n",
              "      <td>TRANSPORTE DE MADEIRA</td>\n",
              "      <td>COLABORADOR DESLOCAVA-SE COM CAMINHÃO DA EMPRE...</td>\n",
              "      <td>LPG</td>\n",
              "      <td>6072</td>\n",
              "      <td>NaN</td>\n",
              "      <td>NaN</td>\n",
              "      <td>NaN</td>\n",
              "      <td>NaN</td>\n",
              "      <td>NaN</td>\n",
              "      <td>NaN</td>\n",
              "      <td>NaN</td>\n",
              "      <td>NaN</td>\n",
              "      <td>NaN</td>\n",
              "      <td>NaN</td>\n",
              "      <td>NaN</td>\n",
              "      <td>NaN</td>\n",
              "      <td>NaN</td>\n",
              "      <td>21</td>\n",
              "    </tr>\n",
              "    <tr>\n",
              "      <th>13:51:00</th>\n",
              "      <td>IBP</td>\n",
              "      <td>E3</td>\n",
              "      <td>LOGÍSTICA</td>\n",
              "      <td>PROG. LOGÍSTICA</td>\n",
              "      <td>PROG. LOGÍSTICA E PÁTIOS</td>\n",
              "      <td>C240</td>\n",
              "      <td>SUPERVISOR</td>\n",
              "      <td>17</td>\n",
              "      <td>26.0</td>\n",
              "      <td>2017-01-19</td>\n",
              "      <td>QUINTA-FEIRA</td>\n",
              "      <td>PR 092</td>\n",
              "      <td>ASFALTADA</td>\n",
              "      <td>ACLIVE</td>\n",
              "      <td>NaN</td>\n",
              "      <td>BOAS CONDIÇÕES</td>\n",
              "      <td>AM-329</td>\n",
              "      <td>FOX</td>\n",
              "      <td>NÃO</td>\n",
              "      <td>VEÍCULO DE LOCOMOÇÃO DE PESSOAS</td>\n",
              "      <td>AO DESLOCAR-SE EM ACLIVE COM O VEICULO AM-329 ...</td>\n",
              "      <td>LPL</td>\n",
              "      <td>6081</td>\n",
              "      <td>NaN</td>\n",
              "      <td>NaN</td>\n",
              "      <td>NaN</td>\n",
              "      <td>NaN</td>\n",
              "      <td>NaN</td>\n",
              "      <td>NaN</td>\n",
              "      <td>NaN</td>\n",
              "      <td>NÃO</td>\n",
              "      <td>NaN</td>\n",
              "      <td>NaN</td>\n",
              "      <td>NaN</td>\n",
              "      <td>NÃO</td>\n",
              "      <td>O CONDUTOR ESTAVA BEM DE SAUDE, NÃO ESTAVA COM...</td>\n",
              "      <td>13</td>\n",
              "    </tr>\n",
              "  </tbody>\n",
              "</table>\n",
              "</div>"
            ],
            "text/plain": [
              "         CLASSIFICAÇÃO  ... HorarioAcidente\n",
              "HORA                    ...                \n",
              "15:00:00           IBP  ...              15\n",
              "21:40:00           IAP  ...              21\n",
              "13:51:00           IBP  ...              13\n",
              "\n",
              "[3 rows x 37 columns]"
            ]
          },
          "metadata": {
            "tags": []
          },
          "execution_count": 563
        }
      ]
    },
    {
      "cell_type": "code",
      "metadata": {
        "colab": {
          "base_uri": "https://localhost:8080/"
        },
        "id": "5Eppw53nGTuW",
        "outputId": "9e994e9d-0e6c-4ffe-8ffa-8bc85976fc08"
      },
      "source": [
        "dfOCO.isnull().sum()"
      ],
      "execution_count": 564,
      "outputs": [
        {
          "output_type": "execute_result",
          "data": {
            "text/plain": [
              "CLASSIFICAÇÃO                             0\n",
              "EMPRESA                                   0\n",
              "GERÊNCIA                                  0\n",
              "COORDENAÇÃO                               2\n",
              "SUB ÁREA                                  2\n",
              "NOME                                     23\n",
              "CARGO                                     5\n",
              "TEMPO DE EMPRESA                         29\n",
              "IDADE                                    28\n",
              "\\nDATA DA OCORRÊNCIA                      0\n",
              "DIA DA SEMANA                             0\n",
              " \\nLOCAL DA OCORRÊNCIA                    1\n",
              "QUALIDADE PISTA                         216\n",
              "CARACTERISTICA PISTA                    220\n",
              "SINALIZAÇÃO                             367\n",
              "CLIMA                                   319\n",
              "PREFIXO                                  27\n",
              "MODELO                                  235\n",
              "CARREGADO                               173\n",
              "TIPO                                      0\n",
              "DETALHAMENTO                              0\n",
              "POTENCIAL                                 0\n",
              "SAP                                       1\n",
              "DIA ESCALA                              346\n",
              "ESCALA                                  345\n",
              "JORNADA                                 356\n",
              "TEMPO DECORRIDO                         367\n",
              "DORMIU BEM?                             364\n",
              "PRÓXIMO PERIODO DE FÉRIAS OU FERIADO    354\n",
              "ALIMENTOU                               372\n",
              "PROBLEMAS SAÚDE                         342\n",
              "USO MEDICAMENTO                         342\n",
              "USO ALCOOL/DROGA                        373\n",
              "PRESSÃO                                 329\n",
              "PRESSA PARA CONCLUIR O TRABALHO         350\n",
              "DESCRIÇÃO                               233\n",
              "HorarioAcidente                           0\n",
              "dtype: int64"
            ]
          },
          "metadata": {
            "tags": []
          },
          "execution_count": 564
        }
      ]
    },
    {
      "cell_type": "code",
      "metadata": {
        "colab": {
          "base_uri": "https://localhost:8080/"
        },
        "id": "oTMxmtmgJsMs",
        "outputId": "32b2ef05-f978-4af1-fe63-8b95f45e9fac"
      },
      "source": [
        "TM = (dfOCO['TIPO '] == 'TRANSPORTE DE MADEIRA') | (dfOCO['TIPO '] == 'TRANSPORTE DE MADEIRA ')\r\n",
        "\r\n",
        "dfOCO_TM = dfOCO[TM]\r\n",
        "dfOCO_TM.EMPRESA.value_counts()"
      ],
      "execution_count": 565,
      "outputs": [
        {
          "output_type": "execute_result",
          "data": {
            "text/plain": [
              "E3     48\n",
              "E9     42\n",
              "E2     28\n",
              "E7     21\n",
              "E5     19\n",
              "E4     16\n",
              "E12    13\n",
              "E16     9\n",
              "E1      8\n",
              "E13     5\n",
              "E19     3\n",
              "E23     3\n",
              "E26     2\n",
              "E32     2\n",
              "E31     1\n",
              "E36     1\n",
              "E33     1\n",
              "E25     1\n",
              "E34     1\n",
              "E14     1\n",
              "E30     1\n",
              "E22     1\n",
              "Name: EMPRESA, dtype: int64"
            ]
          },
          "metadata": {
            "tags": []
          },
          "execution_count": 565
        }
      ]
    },
    {
      "cell_type": "code",
      "metadata": {
        "colab": {
          "base_uri": "https://localhost:8080/"
        },
        "id": "p0QsSQJkJsMt",
        "outputId": "a1d1bea7-2071-4688-9b7a-33c0b0bbcdd6"
      },
      "source": [
        "E3 = (dfOCO_TM['EMPRESA'] == 'E3')\r\n",
        "E5 = (dfOCO_TM['EMPRESA'] == 'E5')\r\n",
        "E9 = (dfOCO_TM['EMPRESA'] == 'E9')\r\n",
        "\r\n",
        "dfOCO_TM_E3 = dfOCO_TM[E3]\r\n",
        "dfOCO_TM_E5 = dfOCO_TM[E5]\r\n",
        "dfOCO_TM_E9 = dfOCO_TM[E9]\r\n",
        "\r\n",
        "print(dfOCO_TM_E3.shape,dfOCO_TM_E5.shape,dfOCO_TM_E9.shape)"
      ],
      "execution_count": 566,
      "outputs": [
        {
          "output_type": "stream",
          "text": [
            "(48, 37) (19, 37) (42, 37)\n"
          ],
          "name": "stdout"
        }
      ]
    },
    {
      "cell_type": "markdown",
      "metadata": {
        "id": "4NziHuukWQ4U"
      },
      "source": [
        "# **E3**"
      ]
    },
    {
      "cell_type": "markdown",
      "metadata": {
        "id": "-ISS5Hu4V6MZ"
      },
      "source": [
        "**Motoristas por hora**"
      ]
    },
    {
      "cell_type": "code",
      "metadata": {
        "colab": {
          "base_uri": "https://localhost:8080/",
          "height": 306
        },
        "id": "s55ohknyNshG",
        "outputId": "d9e53d17-e8fa-477f-e418-de744e204807"
      },
      "source": [
        "dfInfE3.reset_index(inplace=True)\r\n",
        "dfInfE3.head()"
      ],
      "execution_count": 567,
      "outputs": [
        {
          "output_type": "execute_result",
          "data": {
            "text/html": [
              "<div>\n",
              "<style scoped>\n",
              "    .dataframe tbody tr th:only-of-type {\n",
              "        vertical-align: middle;\n",
              "    }\n",
              "\n",
              "    .dataframe tbody tr th {\n",
              "        vertical-align: top;\n",
              "    }\n",
              "\n",
              "    .dataframe thead th {\n",
              "        text-align: right;\n",
              "    }\n",
              "</style>\n",
              "<table border=\"1\" class=\"dataframe\">\n",
              "  <thead>\n",
              "    <tr style=\"text-align: right;\">\n",
              "      <th></th>\n",
              "      <th>index</th>\n",
              "      <th>Empresa</th>\n",
              "      <th>Escala</th>\n",
              "      <th>Jornada</th>\n",
              "      <th>Intervalos</th>\n",
              "      <th>N° de Colaboradores por turno</th>\n",
              "      <th>Tempo médio de deslocamento</th>\n",
              "      <th>Observação</th>\n",
              "      <th>Unnamed: 7</th>\n",
              "      <th>Inicio</th>\n",
              "      <th>Fim</th>\n",
              "    </tr>\n",
              "  </thead>\n",
              "  <tbody>\n",
              "    <tr>\n",
              "      <th>0</th>\n",
              "      <td>30</td>\n",
              "      <td>E3</td>\n",
              "      <td>4X2</td>\n",
              "      <td>4 às 16 horas</td>\n",
              "      <td>1 hora refeição e a cada 3 ou 4 horas 15 min d...</td>\n",
              "      <td>10.0</td>\n",
              "      <td>25 min (van)</td>\n",
              "      <td>Jornada a partir de 17/07/2019</td>\n",
              "      <td>Jornada referente a transporte de madeira</td>\n",
              "      <td>4</td>\n",
              "      <td>16</td>\n",
              "    </tr>\n",
              "    <tr>\n",
              "      <th>1</th>\n",
              "      <td>31</td>\n",
              "      <td>E3</td>\n",
              "      <td>4X2</td>\n",
              "      <td>5 às 17 horas</td>\n",
              "      <td>1 hora refeição e a cada 3 ou 4 horas 15 min d...</td>\n",
              "      <td>8.0</td>\n",
              "      <td>25 min (van)</td>\n",
              "      <td>Jornada a partir de 17/07/2019</td>\n",
              "      <td>Jornada referente a transporte de madeira</td>\n",
              "      <td>5</td>\n",
              "      <td>17</td>\n",
              "    </tr>\n",
              "    <tr>\n",
              "      <th>2</th>\n",
              "      <td>32</td>\n",
              "      <td>E3</td>\n",
              "      <td>4X2</td>\n",
              "      <td>6 às 18 horas</td>\n",
              "      <td>1 hora refeição e a cada 3 ou 4 horas 15 min d...</td>\n",
              "      <td>8.0</td>\n",
              "      <td>25 min (van)</td>\n",
              "      <td>Jornada a partir de 17/07/2019</td>\n",
              "      <td>Jornada referente a transporte de madeira</td>\n",
              "      <td>6</td>\n",
              "      <td>18</td>\n",
              "    </tr>\n",
              "    <tr>\n",
              "      <th>3</th>\n",
              "      <td>33</td>\n",
              "      <td>E3</td>\n",
              "      <td>4X2</td>\n",
              "      <td>7 às 19 horas</td>\n",
              "      <td>1 hora refeição e a cada 3 ou 4 horas 15 min d...</td>\n",
              "      <td>8.0</td>\n",
              "      <td>25 min (van)</td>\n",
              "      <td>Jornada a partir de 17/07/2019</td>\n",
              "      <td>Jornada referente a transporte de madeira</td>\n",
              "      <td>7</td>\n",
              "      <td>19</td>\n",
              "    </tr>\n",
              "    <tr>\n",
              "      <th>4</th>\n",
              "      <td>34</td>\n",
              "      <td>E3</td>\n",
              "      <td>4X2</td>\n",
              "      <td>15 às 03 horas</td>\n",
              "      <td>1 hora refeição e a cada 3 ou 4 horas 15 min d...</td>\n",
              "      <td>8.0</td>\n",
              "      <td>25 min (van)</td>\n",
              "      <td>Jornada a partir de 17/07/2019</td>\n",
              "      <td>Jornada referente a transporte de madeira</td>\n",
              "      <td>15</td>\n",
              "      <td>3</td>\n",
              "    </tr>\n",
              "  </tbody>\n",
              "</table>\n",
              "</div>"
            ],
            "text/plain": [
              "   index Empresa Escala  ...                                 Unnamed: 7 Inicio  Fim\n",
              "0     30      E3    4X2  ...  Jornada referente a transporte de madeira      4   16\n",
              "1     31      E3    4X2  ...  Jornada referente a transporte de madeira      5   17\n",
              "2     32      E3    4X2  ...  Jornada referente a transporte de madeira      6   18\n",
              "3     33      E3    4X2  ...  Jornada referente a transporte de madeira      7   19\n",
              "4     34      E3    4X2  ...  Jornada referente a transporte de madeira     15    3\n",
              "\n",
              "[5 rows x 11 columns]"
            ]
          },
          "metadata": {
            "tags": []
          },
          "execution_count": 567
        }
      ]
    },
    {
      "cell_type": "code",
      "metadata": {
        "id": "DHdfk1wmM2oe"
      },
      "source": [
        "dfE3_motoristas_hora = pd.DataFrame(np.zeros(24, dtype='int64'), columns=['motoristasE3'])\r\n",
        "for index, row in dfInfE3.iterrows():\r\n",
        "    if row['Inicio'] < row['Fim']:\r\n",
        "      dfE3_motoristas_hora['motoristasE3'][row['Inicio']:row['Fim']] += row['N° de Colaboradores por turno']\r\n",
        "    else:\r\n",
        "      dfE3_motoristas_hora['motoristasE3'][0:row['Fim']] += row['N° de Colaboradores por turno']\r\n",
        "      dfE3_motoristas_hora['motoristasE3'][row['Inicio']:24] += row['N° de Colaboradores por turno']"
      ],
      "execution_count": 568,
      "outputs": []
    },
    {
      "cell_type": "code",
      "metadata": {
        "colab": {
          "base_uri": "https://localhost:8080/",
          "height": 824
        },
        "id": "7F3XVxG0UPS0",
        "outputId": "e957228a-cc90-4c71-a262-4578255f856e"
      },
      "source": [
        "dfE3_motoristas_hora.index.name = 'HORA'\r\n",
        "dfE3_motoristas_hora"
      ],
      "execution_count": 569,
      "outputs": [
        {
          "output_type": "execute_result",
          "data": {
            "text/html": [
              "<div>\n",
              "<style scoped>\n",
              "    .dataframe tbody tr th:only-of-type {\n",
              "        vertical-align: middle;\n",
              "    }\n",
              "\n",
              "    .dataframe tbody tr th {\n",
              "        vertical-align: top;\n",
              "    }\n",
              "\n",
              "    .dataframe thead th {\n",
              "        text-align: right;\n",
              "    }\n",
              "</style>\n",
              "<table border=\"1\" class=\"dataframe\">\n",
              "  <thead>\n",
              "    <tr style=\"text-align: right;\">\n",
              "      <th></th>\n",
              "      <th>motoristasE3</th>\n",
              "    </tr>\n",
              "    <tr>\n",
              "      <th>HORA</th>\n",
              "      <th></th>\n",
              "    </tr>\n",
              "  </thead>\n",
              "  <tbody>\n",
              "    <tr>\n",
              "      <th>0</th>\n",
              "      <td>80.0</td>\n",
              "    </tr>\n",
              "    <tr>\n",
              "      <th>1</th>\n",
              "      <td>80.0</td>\n",
              "    </tr>\n",
              "    <tr>\n",
              "      <th>2</th>\n",
              "      <td>68.0</td>\n",
              "    </tr>\n",
              "    <tr>\n",
              "      <th>3</th>\n",
              "      <td>60.0</td>\n",
              "    </tr>\n",
              "    <tr>\n",
              "      <th>4</th>\n",
              "      <td>50.0</td>\n",
              "    </tr>\n",
              "    <tr>\n",
              "      <th>5</th>\n",
              "      <td>50.0</td>\n",
              "    </tr>\n",
              "    <tr>\n",
              "      <th>6</th>\n",
              "      <td>68.0</td>\n",
              "    </tr>\n",
              "    <tr>\n",
              "      <th>7</th>\n",
              "      <td>68.0</td>\n",
              "    </tr>\n",
              "    <tr>\n",
              "      <th>8</th>\n",
              "      <td>68.0</td>\n",
              "    </tr>\n",
              "    <tr>\n",
              "      <th>9</th>\n",
              "      <td>68.0</td>\n",
              "    </tr>\n",
              "    <tr>\n",
              "      <th>10</th>\n",
              "      <td>68.0</td>\n",
              "    </tr>\n",
              "    <tr>\n",
              "      <th>11</th>\n",
              "      <td>68.0</td>\n",
              "    </tr>\n",
              "    <tr>\n",
              "      <th>12</th>\n",
              "      <td>68.0</td>\n",
              "    </tr>\n",
              "    <tr>\n",
              "      <th>13</th>\n",
              "      <td>68.0</td>\n",
              "    </tr>\n",
              "    <tr>\n",
              "      <th>14</th>\n",
              "      <td>80.0</td>\n",
              "    </tr>\n",
              "    <tr>\n",
              "      <th>15</th>\n",
              "      <td>88.0</td>\n",
              "    </tr>\n",
              "    <tr>\n",
              "      <th>16</th>\n",
              "      <td>98.0</td>\n",
              "    </tr>\n",
              "    <tr>\n",
              "      <th>17</th>\n",
              "      <td>98.0</td>\n",
              "    </tr>\n",
              "    <tr>\n",
              "      <th>18</th>\n",
              "      <td>80.0</td>\n",
              "    </tr>\n",
              "    <tr>\n",
              "      <th>19</th>\n",
              "      <td>80.0</td>\n",
              "    </tr>\n",
              "    <tr>\n",
              "      <th>20</th>\n",
              "      <td>80.0</td>\n",
              "    </tr>\n",
              "    <tr>\n",
              "      <th>21</th>\n",
              "      <td>80.0</td>\n",
              "    </tr>\n",
              "    <tr>\n",
              "      <th>22</th>\n",
              "      <td>80.0</td>\n",
              "    </tr>\n",
              "    <tr>\n",
              "      <th>23</th>\n",
              "      <td>80.0</td>\n",
              "    </tr>\n",
              "  </tbody>\n",
              "</table>\n",
              "</div>"
            ],
            "text/plain": [
              "      motoristasE3\n",
              "HORA              \n",
              "0             80.0\n",
              "1             80.0\n",
              "2             68.0\n",
              "3             60.0\n",
              "4             50.0\n",
              "5             50.0\n",
              "6             68.0\n",
              "7             68.0\n",
              "8             68.0\n",
              "9             68.0\n",
              "10            68.0\n",
              "11            68.0\n",
              "12            68.0\n",
              "13            68.0\n",
              "14            80.0\n",
              "15            88.0\n",
              "16            98.0\n",
              "17            98.0\n",
              "18            80.0\n",
              "19            80.0\n",
              "20            80.0\n",
              "21            80.0\n",
              "22            80.0\n",
              "23            80.0"
            ]
          },
          "metadata": {
            "tags": []
          },
          "execution_count": 569
        }
      ]
    },
    {
      "cell_type": "markdown",
      "metadata": {
        "id": "22MD4J1GA1iz"
      },
      "source": [
        "**Eventos por hora**"
      ]
    },
    {
      "cell_type": "code",
      "metadata": {
        "colab": {
          "base_uri": "https://localhost:8080/",
          "height": 111
        },
        "id": "hvuGwqSXcB0X",
        "outputId": "f795fa34-fcb9-41e4-8e44-23eb8d840325"
      },
      "source": [
        "dfE3.head(2) "
      ],
      "execution_count": 570,
      "outputs": [
        {
          "output_type": "execute_result",
          "data": {
            "text/html": [
              "<div>\n",
              "<style scoped>\n",
              "    .dataframe tbody tr th:only-of-type {\n",
              "        vertical-align: middle;\n",
              "    }\n",
              "\n",
              "    .dataframe tbody tr th {\n",
              "        vertical-align: top;\n",
              "    }\n",
              "\n",
              "    .dataframe thead th {\n",
              "        text-align: right;\n",
              "    }\n",
              "</style>\n",
              "<table border=\"1\" class=\"dataframe\">\n",
              "  <thead>\n",
              "    <tr style=\"text-align: right;\">\n",
              "      <th></th>\n",
              "      <th>HORA</th>\n",
              "      <th>TIPO</th>\n",
              "      <th>QTDE</th>\n",
              "      <th>UO</th>\n",
              "      <th>PREFIXO</th>\n",
              "      <th>LOCALIZAÇÃO</th>\n",
              "      <th>PONTO REFERÊNCIA</th>\n",
              "      <th>DIA DA SEMANA</th>\n",
              "      <th>COLABORADOR</th>\n",
              "    </tr>\n",
              "  </thead>\n",
              "  <tbody>\n",
              "    <tr>\n",
              "      <th>0</th>\n",
              "      <td>0</td>\n",
              "      <td>FADIGA MOTORISTA</td>\n",
              "      <td>AYM8091</td>\n",
              "      <td>MADEIRA</td>\n",
              "      <td>VPP 560</td>\n",
              "      <td>Ortigueira - Paraná</td>\n",
              "      <td>NaN</td>\n",
              "      <td>sex</td>\n",
              "      <td>C170</td>\n",
              "    </tr>\n",
              "    <tr>\n",
              "      <th>1</th>\n",
              "      <td>0</td>\n",
              "      <td>FADIGA MOTORISTA</td>\n",
              "      <td>AYM8091</td>\n",
              "      <td>MADEIRA</td>\n",
              "      <td>VPP 560</td>\n",
              "      <td>Reserva - Paraná</td>\n",
              "      <td>NaN</td>\n",
              "      <td>sex</td>\n",
              "      <td>C170</td>\n",
              "    </tr>\n",
              "  </tbody>\n",
              "</table>\n",
              "</div>"
            ],
            "text/plain": [
              "   HORA              TIPO     QTDE  ... PONTO REFERÊNCIA DIA DA SEMANA COLABORADOR\n",
              "0     0  FADIGA MOTORISTA  AYM8091  ...              NaN           sex        C170\n",
              "1     0  FADIGA MOTORISTA  AYM8091  ...              NaN           sex        C170\n",
              "\n",
              "[2 rows x 9 columns]"
            ]
          },
          "metadata": {
            "tags": []
          },
          "execution_count": 570
        }
      ]
    },
    {
      "cell_type": "code",
      "metadata": {
        "colab": {
          "base_uri": "https://localhost:8080/"
        },
        "id": "QUYT7PYqCE6s",
        "outputId": "ececab71-d26d-439a-8244-ddf16f4a1b89"
      },
      "source": [
        "dfE3.shape"
      ],
      "execution_count": 571,
      "outputs": [
        {
          "output_type": "execute_result",
          "data": {
            "text/plain": [
              "(3954, 9)"
            ]
          },
          "metadata": {
            "tags": []
          },
          "execution_count": 571
        }
      ]
    },
    {
      "cell_type": "code",
      "metadata": {
        "colab": {
          "base_uri": "https://localhost:8080/"
        },
        "id": "471-0ZxQA2YG",
        "outputId": "1321159f-45a6-4bbe-ced8-b1ec36e6b701"
      },
      "source": [
        "dfE3.TIPO.unique()"
      ],
      "execution_count": 572,
      "outputs": [
        {
          "output_type": "execute_result",
          "data": {
            "text/plain": [
              "array(['FADIGA MOTORISTA'], dtype=object)"
            ]
          },
          "metadata": {
            "tags": []
          },
          "execution_count": 572
        }
      ]
    },
    {
      "cell_type": "code",
      "metadata": {
        "colab": {
          "base_uri": "https://localhost:8080/"
        },
        "id": "gBvyF5Z4B6tO",
        "outputId": "14a968b5-23c5-4289-ffb2-d8798a14b8ab"
      },
      "source": [
        "dfE3['TIPO'].value_counts()"
      ],
      "execution_count": 573,
      "outputs": [
        {
          "output_type": "execute_result",
          "data": {
            "text/plain": [
              "FADIGA MOTORISTA    3954\n",
              "Name: TIPO, dtype: int64"
            ]
          },
          "metadata": {
            "tags": []
          },
          "execution_count": 573
        }
      ]
    },
    {
      "cell_type": "code",
      "metadata": {
        "colab": {
          "base_uri": "https://localhost:8080/"
        },
        "id": "FRwGMyQfPIu1",
        "outputId": "f19a28c1-ca2e-4504-97b7-d0f33e505992"
      },
      "source": [
        "dfE3_fad = dfE3.HORA.value_counts().rename('Fadiga').sort_index()\r\n",
        "dfE3_fad"
      ],
      "execution_count": 574,
      "outputs": [
        {
          "output_type": "execute_result",
          "data": {
            "text/plain": [
              "0     225\n",
              "1     357\n",
              "2     278\n",
              "3     267\n",
              "4     274\n",
              "5     202\n",
              "6     131\n",
              "7     133\n",
              "8     146\n",
              "9     147\n",
              "10    240\n",
              "11    166\n",
              "12    158\n",
              "13    186\n",
              "14    162\n",
              "15    113\n",
              "16     97\n",
              "17     97\n",
              "18     67\n",
              "19     84\n",
              "20     69\n",
              "21     76\n",
              "22    119\n",
              "23    160\n",
              "Name: Fadiga, dtype: int64"
            ]
          },
          "metadata": {
            "tags": []
          },
          "execution_count": 574
        }
      ]
    },
    {
      "cell_type": "markdown",
      "metadata": {
        "id": "IqAqqP-nJ_k-"
      },
      "source": [
        "**Acidentes por hora**"
      ]
    },
    {
      "cell_type": "code",
      "metadata": {
        "colab": {
          "base_uri": "https://localhost:8080/",
          "height": 516
        },
        "id": "HnJxGCfpKDPZ",
        "outputId": "5cc87625-106b-47a8-ce50-a61b5ad98d20"
      },
      "source": [
        "dfOCO_TM_E3.head(3)"
      ],
      "execution_count": 575,
      "outputs": [
        {
          "output_type": "execute_result",
          "data": {
            "text/html": [
              "<div>\n",
              "<style scoped>\n",
              "    .dataframe tbody tr th:only-of-type {\n",
              "        vertical-align: middle;\n",
              "    }\n",
              "\n",
              "    .dataframe tbody tr th {\n",
              "        vertical-align: top;\n",
              "    }\n",
              "\n",
              "    .dataframe thead th {\n",
              "        text-align: right;\n",
              "    }\n",
              "</style>\n",
              "<table border=\"1\" class=\"dataframe\">\n",
              "  <thead>\n",
              "    <tr style=\"text-align: right;\">\n",
              "      <th></th>\n",
              "      <th>CLASSIFICAÇÃO</th>\n",
              "      <th>EMPRESA</th>\n",
              "      <th>GERÊNCIA</th>\n",
              "      <th>COORDENAÇÃO</th>\n",
              "      <th>SUB ÁREA</th>\n",
              "      <th>NOME</th>\n",
              "      <th>CARGO</th>\n",
              "      <th>TEMPO DE EMPRESA</th>\n",
              "      <th>IDADE</th>\n",
              "      <th>\\nDATA DA OCORRÊNCIA</th>\n",
              "      <th>DIA DA SEMANA</th>\n",
              "      <th>\\nLOCAL DA OCORRÊNCIA</th>\n",
              "      <th>QUALIDADE PISTA</th>\n",
              "      <th>CARACTERISTICA PISTA</th>\n",
              "      <th>SINALIZAÇÃO</th>\n",
              "      <th>CLIMA</th>\n",
              "      <th>PREFIXO</th>\n",
              "      <th>MODELO</th>\n",
              "      <th>CARREGADO</th>\n",
              "      <th>TIPO</th>\n",
              "      <th>DETALHAMENTO</th>\n",
              "      <th>POTENCIAL</th>\n",
              "      <th>SAP</th>\n",
              "      <th>DIA ESCALA</th>\n",
              "      <th>ESCALA</th>\n",
              "      <th>JORNADA</th>\n",
              "      <th>TEMPO DECORRIDO</th>\n",
              "      <th>DORMIU BEM?</th>\n",
              "      <th>PRÓXIMO PERIODO DE FÉRIAS OU FERIADO</th>\n",
              "      <th>ALIMENTOU</th>\n",
              "      <th>PROBLEMAS SAÚDE</th>\n",
              "      <th>USO MEDICAMENTO</th>\n",
              "      <th>USO ALCOOL/DROGA</th>\n",
              "      <th>PRESSÃO</th>\n",
              "      <th>PRESSA PARA CONCLUIR O TRABALHO</th>\n",
              "      <th>DESCRIÇÃO</th>\n",
              "      <th>HorarioAcidente</th>\n",
              "    </tr>\n",
              "    <tr>\n",
              "      <th>HORA</th>\n",
              "      <th></th>\n",
              "      <th></th>\n",
              "      <th></th>\n",
              "      <th></th>\n",
              "      <th></th>\n",
              "      <th></th>\n",
              "      <th></th>\n",
              "      <th></th>\n",
              "      <th></th>\n",
              "      <th></th>\n",
              "      <th></th>\n",
              "      <th></th>\n",
              "      <th></th>\n",
              "      <th></th>\n",
              "      <th></th>\n",
              "      <th></th>\n",
              "      <th></th>\n",
              "      <th></th>\n",
              "      <th></th>\n",
              "      <th></th>\n",
              "      <th></th>\n",
              "      <th></th>\n",
              "      <th></th>\n",
              "      <th></th>\n",
              "      <th></th>\n",
              "      <th></th>\n",
              "      <th></th>\n",
              "      <th></th>\n",
              "      <th></th>\n",
              "      <th></th>\n",
              "      <th></th>\n",
              "      <th></th>\n",
              "      <th></th>\n",
              "      <th></th>\n",
              "      <th></th>\n",
              "      <th></th>\n",
              "      <th></th>\n",
              "    </tr>\n",
              "  </thead>\n",
              "  <tbody>\n",
              "    <tr>\n",
              "      <th>21:45:00</th>\n",
              "      <td>IAP</td>\n",
              "      <td>E3</td>\n",
              "      <td>LOGÍSTICA</td>\n",
              "      <td>PROG. LOGÍSTICA</td>\n",
              "      <td>PROG. LOGÍSTICA E PÁTIOS</td>\n",
              "      <td>C403</td>\n",
              "      <td>MOTORISTA</td>\n",
              "      <td>5</td>\n",
              "      <td>46.0</td>\n",
              "      <td>2017-01-24</td>\n",
              "      <td>TERÇA-FEIRA</td>\n",
              "      <td>PÁTIO 3 MONTE ALEGRE SENTIDO MESA 01</td>\n",
              "      <td>NaN</td>\n",
              "      <td>NaN</td>\n",
              "      <td>NaN</td>\n",
              "      <td>NaN</td>\n",
              "      <td>VP-O547</td>\n",
              "      <td>TRITREM</td>\n",
              "      <td>SIM</td>\n",
              "      <td>TRANSPORTE DE MADEIRA</td>\n",
              "      <td>AO MOVIMENTAR O TRITREN VP-O547 CARREGADO DO P...</td>\n",
              "      <td>LPG</td>\n",
              "      <td>6088</td>\n",
              "      <td>NaN</td>\n",
              "      <td>NaN</td>\n",
              "      <td>NaN</td>\n",
              "      <td>05:44:00</td>\n",
              "      <td>NaN</td>\n",
              "      <td>NaN</td>\n",
              "      <td>NaN</td>\n",
              "      <td>NaN</td>\n",
              "      <td>NaN</td>\n",
              "      <td>NaN</td>\n",
              "      <td>NaN</td>\n",
              "      <td>NaN</td>\n",
              "      <td>A ORGANIZAÇÃO DO AMBIENTE ESTAVA ADEQUADO? SIM...</td>\n",
              "      <td>21</td>\n",
              "    </tr>\n",
              "    <tr>\n",
              "      <th>13:20:00</th>\n",
              "      <td>IBP</td>\n",
              "      <td>E3</td>\n",
              "      <td>LOGÍSTICA</td>\n",
              "      <td>LOGÍSTICA PRÓPRIA</td>\n",
              "      <td>TRANSPORTE DE MADEIRA</td>\n",
              "      <td>C131</td>\n",
              "      <td>MOTORISTA</td>\n",
              "      <td>16</td>\n",
              "      <td>44.0</td>\n",
              "      <td>2017-02-22</td>\n",
              "      <td>QUARTA-FEIRA</td>\n",
              "      <td>sentido PÁTIO RIO NOVO</td>\n",
              "      <td>CASCALHADA</td>\n",
              "      <td>ACLIVE ACENTUADO</td>\n",
              "      <td>NaN</td>\n",
              "      <td>ENSOLARADO</td>\n",
              "      <td>VPP246</td>\n",
              "      <td>NaN</td>\n",
              "      <td>SIM</td>\n",
              "      <td>TRANSPORTE DE MADEIRA</td>\n",
              "      <td>O COLABORADOR CONDUZIA O VPP246 (CARREGADO DE ...</td>\n",
              "      <td>LPG</td>\n",
              "      <td>6272</td>\n",
              "      <td>NaN</td>\n",
              "      <td>NaN</td>\n",
              "      <td>NaN</td>\n",
              "      <td>NaN</td>\n",
              "      <td>SIM</td>\n",
              "      <td>NaN</td>\n",
              "      <td>NaN</td>\n",
              "      <td>NÃO</td>\n",
              "      <td>NÃO</td>\n",
              "      <td>NÃO</td>\n",
              "      <td>NÃO</td>\n",
              "      <td>NÃO</td>\n",
              "      <td>RELATO DO COLABORADOR COLABORADOR RELATA QUE E...</td>\n",
              "      <td>13</td>\n",
              "    </tr>\n",
              "    <tr>\n",
              "      <th>00:30:00</th>\n",
              "      <td>IBP</td>\n",
              "      <td>E3</td>\n",
              "      <td>LOGÍSTICA</td>\n",
              "      <td>TRANSPORTE FLORESTAL</td>\n",
              "      <td>CARREGAMENTO</td>\n",
              "      <td>C339</td>\n",
              "      <td>OPERADOR DE MÁQUINA FLORESTAL</td>\n",
              "      <td>18</td>\n",
              "      <td>31.0</td>\n",
              "      <td>2017-02-25</td>\n",
              "      <td>SÁBADO</td>\n",
              "      <td>MIRANDINHA</td>\n",
              "      <td>NaN</td>\n",
              "      <td>RETA</td>\n",
              "      <td>NaN</td>\n",
              "      <td>NaN</td>\n",
              "      <td>JSL-053</td>\n",
              "      <td>NaN</td>\n",
              "      <td>SIM</td>\n",
              "      <td>TRANSPORTE DE MADEIRA</td>\n",
              "      <td>O CAMINHÃO JSL 053 ESTAVA SENDO CARREGADO PELA...</td>\n",
              "      <td>LPL</td>\n",
              "      <td>6314</td>\n",
              "      <td>NaN</td>\n",
              "      <td>NaN</td>\n",
              "      <td>NaN</td>\n",
              "      <td>NaN</td>\n",
              "      <td>NaN</td>\n",
              "      <td>NaN</td>\n",
              "      <td>NaN</td>\n",
              "      <td>NaN</td>\n",
              "      <td>NaN</td>\n",
              "      <td>NaN</td>\n",
              "      <td>NaN</td>\n",
              "      <td>NaN</td>\n",
              "      <td>OCASIONADO POR TERCEIROS</td>\n",
              "      <td>0</td>\n",
              "    </tr>\n",
              "  </tbody>\n",
              "</table>\n",
              "</div>"
            ],
            "text/plain": [
              "         CLASSIFICAÇÃO  ... HorarioAcidente\n",
              "HORA                    ...                \n",
              "21:45:00           IAP  ...              21\n",
              "13:20:00           IBP  ...              13\n",
              "00:30:00           IBP  ...               0\n",
              "\n",
              "[3 rows x 37 columns]"
            ]
          },
          "metadata": {
            "tags": []
          },
          "execution_count": 575
        }
      ]
    },
    {
      "cell_type": "code",
      "metadata": {
        "colab": {
          "base_uri": "https://localhost:8080/"
        },
        "id": "u0s9doKzKo4n",
        "outputId": "6ca1f60f-b378-430a-c6cf-35fc1c8a1e65"
      },
      "source": [
        "dfOCO_TM_E3.CARGO.value_counts()"
      ],
      "execution_count": 576,
      "outputs": [
        {
          "output_type": "execute_result",
          "data": {
            "text/plain": [
              "MOTORISTA                          29\n",
              "MOTORISTA TRANSPORTE FLORESTAL     14\n",
              "MOTORISTA BALDEIO INTERNO           1\n",
              "OPERADOR MAQUINAS FLORESTAIS II     1\n",
              "OPERADOR DE MÁQUINA FLORESTAL       1\n",
              "BOMBEIRO FLORESTAL                  1\n",
              "OPERADOR DE MÁQUINA                 1\n",
              "Name: CARGO, dtype: int64"
            ]
          },
          "metadata": {
            "tags": []
          },
          "execution_count": 576
        }
      ]
    },
    {
      "cell_type": "code",
      "metadata": {
        "colab": {
          "base_uri": "https://localhost:8080/",
          "height": 516
        },
        "id": "4Ghdmmg5Ko1H",
        "outputId": "e6ffd0d1-5615-438a-ff33-ad7d548978c6"
      },
      "source": [
        "dfOCO_TM_E3_moto = dfOCO_TM_E3[(dfOCO_TM_E3.CARGO == 'MOTORISTA') | (dfOCO_TM_E3.CARGO == 'MOTORISTA TRANSPORTE FLORESTAL')]\r\n",
        "dfOCO_TM_E3_moto.head(3)"
      ],
      "execution_count": 577,
      "outputs": [
        {
          "output_type": "execute_result",
          "data": {
            "text/html": [
              "<div>\n",
              "<style scoped>\n",
              "    .dataframe tbody tr th:only-of-type {\n",
              "        vertical-align: middle;\n",
              "    }\n",
              "\n",
              "    .dataframe tbody tr th {\n",
              "        vertical-align: top;\n",
              "    }\n",
              "\n",
              "    .dataframe thead th {\n",
              "        text-align: right;\n",
              "    }\n",
              "</style>\n",
              "<table border=\"1\" class=\"dataframe\">\n",
              "  <thead>\n",
              "    <tr style=\"text-align: right;\">\n",
              "      <th></th>\n",
              "      <th>CLASSIFICAÇÃO</th>\n",
              "      <th>EMPRESA</th>\n",
              "      <th>GERÊNCIA</th>\n",
              "      <th>COORDENAÇÃO</th>\n",
              "      <th>SUB ÁREA</th>\n",
              "      <th>NOME</th>\n",
              "      <th>CARGO</th>\n",
              "      <th>TEMPO DE EMPRESA</th>\n",
              "      <th>IDADE</th>\n",
              "      <th>\\nDATA DA OCORRÊNCIA</th>\n",
              "      <th>DIA DA SEMANA</th>\n",
              "      <th>\\nLOCAL DA OCORRÊNCIA</th>\n",
              "      <th>QUALIDADE PISTA</th>\n",
              "      <th>CARACTERISTICA PISTA</th>\n",
              "      <th>SINALIZAÇÃO</th>\n",
              "      <th>CLIMA</th>\n",
              "      <th>PREFIXO</th>\n",
              "      <th>MODELO</th>\n",
              "      <th>CARREGADO</th>\n",
              "      <th>TIPO</th>\n",
              "      <th>DETALHAMENTO</th>\n",
              "      <th>POTENCIAL</th>\n",
              "      <th>SAP</th>\n",
              "      <th>DIA ESCALA</th>\n",
              "      <th>ESCALA</th>\n",
              "      <th>JORNADA</th>\n",
              "      <th>TEMPO DECORRIDO</th>\n",
              "      <th>DORMIU BEM?</th>\n",
              "      <th>PRÓXIMO PERIODO DE FÉRIAS OU FERIADO</th>\n",
              "      <th>ALIMENTOU</th>\n",
              "      <th>PROBLEMAS SAÚDE</th>\n",
              "      <th>USO MEDICAMENTO</th>\n",
              "      <th>USO ALCOOL/DROGA</th>\n",
              "      <th>PRESSÃO</th>\n",
              "      <th>PRESSA PARA CONCLUIR O TRABALHO</th>\n",
              "      <th>DESCRIÇÃO</th>\n",
              "      <th>HorarioAcidente</th>\n",
              "    </tr>\n",
              "    <tr>\n",
              "      <th>HORA</th>\n",
              "      <th></th>\n",
              "      <th></th>\n",
              "      <th></th>\n",
              "      <th></th>\n",
              "      <th></th>\n",
              "      <th></th>\n",
              "      <th></th>\n",
              "      <th></th>\n",
              "      <th></th>\n",
              "      <th></th>\n",
              "      <th></th>\n",
              "      <th></th>\n",
              "      <th></th>\n",
              "      <th></th>\n",
              "      <th></th>\n",
              "      <th></th>\n",
              "      <th></th>\n",
              "      <th></th>\n",
              "      <th></th>\n",
              "      <th></th>\n",
              "      <th></th>\n",
              "      <th></th>\n",
              "      <th></th>\n",
              "      <th></th>\n",
              "      <th></th>\n",
              "      <th></th>\n",
              "      <th></th>\n",
              "      <th></th>\n",
              "      <th></th>\n",
              "      <th></th>\n",
              "      <th></th>\n",
              "      <th></th>\n",
              "      <th></th>\n",
              "      <th></th>\n",
              "      <th></th>\n",
              "      <th></th>\n",
              "      <th></th>\n",
              "    </tr>\n",
              "  </thead>\n",
              "  <tbody>\n",
              "    <tr>\n",
              "      <th>21:45:00</th>\n",
              "      <td>IAP</td>\n",
              "      <td>E3</td>\n",
              "      <td>LOGÍSTICA</td>\n",
              "      <td>PROG. LOGÍSTICA</td>\n",
              "      <td>PROG. LOGÍSTICA E PÁTIOS</td>\n",
              "      <td>C403</td>\n",
              "      <td>MOTORISTA</td>\n",
              "      <td>5</td>\n",
              "      <td>46.0</td>\n",
              "      <td>2017-01-24</td>\n",
              "      <td>TERÇA-FEIRA</td>\n",
              "      <td>PÁTIO 3 MONTE ALEGRE SENTIDO MESA 01</td>\n",
              "      <td>NaN</td>\n",
              "      <td>NaN</td>\n",
              "      <td>NaN</td>\n",
              "      <td>NaN</td>\n",
              "      <td>VP-O547</td>\n",
              "      <td>TRITREM</td>\n",
              "      <td>SIM</td>\n",
              "      <td>TRANSPORTE DE MADEIRA</td>\n",
              "      <td>AO MOVIMENTAR O TRITREN VP-O547 CARREGADO DO P...</td>\n",
              "      <td>LPG</td>\n",
              "      <td>6088</td>\n",
              "      <td>NaN</td>\n",
              "      <td>NaN</td>\n",
              "      <td>NaN</td>\n",
              "      <td>05:44:00</td>\n",
              "      <td>NaN</td>\n",
              "      <td>NaN</td>\n",
              "      <td>NaN</td>\n",
              "      <td>NaN</td>\n",
              "      <td>NaN</td>\n",
              "      <td>NaN</td>\n",
              "      <td>NaN</td>\n",
              "      <td>NaN</td>\n",
              "      <td>A ORGANIZAÇÃO DO AMBIENTE ESTAVA ADEQUADO? SIM...</td>\n",
              "      <td>21</td>\n",
              "    </tr>\n",
              "    <tr>\n",
              "      <th>13:20:00</th>\n",
              "      <td>IBP</td>\n",
              "      <td>E3</td>\n",
              "      <td>LOGÍSTICA</td>\n",
              "      <td>LOGÍSTICA PRÓPRIA</td>\n",
              "      <td>TRANSPORTE DE MADEIRA</td>\n",
              "      <td>C131</td>\n",
              "      <td>MOTORISTA</td>\n",
              "      <td>16</td>\n",
              "      <td>44.0</td>\n",
              "      <td>2017-02-22</td>\n",
              "      <td>QUARTA-FEIRA</td>\n",
              "      <td>sentido PÁTIO RIO NOVO</td>\n",
              "      <td>CASCALHADA</td>\n",
              "      <td>ACLIVE ACENTUADO</td>\n",
              "      <td>NaN</td>\n",
              "      <td>ENSOLARADO</td>\n",
              "      <td>VPP246</td>\n",
              "      <td>NaN</td>\n",
              "      <td>SIM</td>\n",
              "      <td>TRANSPORTE DE MADEIRA</td>\n",
              "      <td>O COLABORADOR CONDUZIA O VPP246 (CARREGADO DE ...</td>\n",
              "      <td>LPG</td>\n",
              "      <td>6272</td>\n",
              "      <td>NaN</td>\n",
              "      <td>NaN</td>\n",
              "      <td>NaN</td>\n",
              "      <td>NaN</td>\n",
              "      <td>SIM</td>\n",
              "      <td>NaN</td>\n",
              "      <td>NaN</td>\n",
              "      <td>NÃO</td>\n",
              "      <td>NÃO</td>\n",
              "      <td>NÃO</td>\n",
              "      <td>NÃO</td>\n",
              "      <td>NÃO</td>\n",
              "      <td>RELATO DO COLABORADOR COLABORADOR RELATA QUE E...</td>\n",
              "      <td>13</td>\n",
              "    </tr>\n",
              "    <tr>\n",
              "      <th>20:15:00</th>\n",
              "      <td>OEC</td>\n",
              "      <td>E3</td>\n",
              "      <td>LOGÍSTICA</td>\n",
              "      <td>LOGÍSTICA PRÓPRIA</td>\n",
              "      <td>FROTA PRÓPRIA</td>\n",
              "      <td>C26</td>\n",
              "      <td>MOTORISTA</td>\n",
              "      <td>12</td>\n",
              "      <td>31.0</td>\n",
              "      <td>2017-02-25</td>\n",
              "      <td>SÁBADO</td>\n",
              "      <td>PR-239</td>\n",
              "      <td>ASFALTADA</td>\n",
              "      <td>RETA</td>\n",
              "      <td>NaN</td>\n",
              "      <td>NaN</td>\n",
              "      <td>VPP-525</td>\n",
              "      <td>NaN</td>\n",
              "      <td>SIM</td>\n",
              "      <td>TRANSPORTE DE MADEIRA</td>\n",
              "      <td>COLABORADOR TRAFEGAVA PELA RODOVIA PR-239 COM ...</td>\n",
              "      <td>LPL</td>\n",
              "      <td>6324</td>\n",
              "      <td>NaN</td>\n",
              "      <td>NaN</td>\n",
              "      <td>NaN</td>\n",
              "      <td>NaN</td>\n",
              "      <td>NaN</td>\n",
              "      <td>NaN</td>\n",
              "      <td>NaN</td>\n",
              "      <td>NaN</td>\n",
              "      <td>NaN</td>\n",
              "      <td>NaN</td>\n",
              "      <td>NaN</td>\n",
              "      <td>NaN</td>\n",
              "      <td>MOTORISTA DO VEICULO TERCEIRO FORÇOU ULTRAPASS...</td>\n",
              "      <td>20</td>\n",
              "    </tr>\n",
              "  </tbody>\n",
              "</table>\n",
              "</div>"
            ],
            "text/plain": [
              "         CLASSIFICAÇÃO  ... HorarioAcidente\n",
              "HORA                    ...                \n",
              "21:45:00           IAP  ...              21\n",
              "13:20:00           IBP  ...              13\n",
              "20:15:00           OEC  ...              20\n",
              "\n",
              "[3 rows x 37 columns]"
            ]
          },
          "metadata": {
            "tags": []
          },
          "execution_count": 577
        }
      ]
    },
    {
      "cell_type": "code",
      "metadata": {
        "colab": {
          "base_uri": "https://localhost:8080/"
        },
        "id": "x4awsMn1LVms",
        "outputId": "4f5e5b50-3280-4953-f43c-7b16c4cdc197"
      },
      "source": [
        "dfE3_acid_hora = dfOCO_TM_E3_moto.HorarioAcidente.value_counts().sort_index().rename('Acidentes por hora')\r\n",
        "dfE3_acid_hora"
      ],
      "execution_count": 578,
      "outputs": [
        {
          "output_type": "execute_result",
          "data": {
            "text/plain": [
              "0     4\n",
              "1     1\n",
              "2     3\n",
              "3     3\n",
              "4     1\n",
              "5     3\n",
              "6     1\n",
              "7     1\n",
              "8     3\n",
              "9     3\n",
              "10    2\n",
              "11    2\n",
              "12    1\n",
              "13    4\n",
              "14    1\n",
              "15    1\n",
              "16    2\n",
              "18    1\n",
              "20    2\n",
              "21    2\n",
              "22    1\n",
              "23    1\n",
              "Name: Acidentes por hora, dtype: int64"
            ]
          },
          "metadata": {
            "tags": []
          },
          "execution_count": 578
        }
      ]
    },
    {
      "cell_type": "markdown",
      "metadata": {
        "id": "XWv4aLgPP_Gk"
      },
      "source": [
        "**DF final E3**"
      ]
    },
    {
      "cell_type": "code",
      "metadata": {
        "colab": {
          "base_uri": "https://localhost:8080/",
          "height": 824
        },
        "id": "GPgL6wYiR3kH",
        "outputId": "bd36e1eb-05ea-48cb-bb92-6df2186c8f6a"
      },
      "source": [
        "dfE3_final = pd.DataFrame(dfE3_motoristas_hora['motoristasE3'], dtype='int64')\r\n",
        "dfE3_final['Fadiga'] = pd.DataFrame(dfE3_fad)\r\n",
        "dfE3_final['Acidentes'] = pd.DataFrame(dfE3_acid_hora)\r\n",
        "dfE3_final.fillna(0, inplace=True)\r\n",
        "dfE3_final['Acidentes'] = dfE3_final.Acidentes.astype('int64')\r\n",
        "dfE3_final"
      ],
      "execution_count": 579,
      "outputs": [
        {
          "output_type": "execute_result",
          "data": {
            "text/html": [
              "<div>\n",
              "<style scoped>\n",
              "    .dataframe tbody tr th:only-of-type {\n",
              "        vertical-align: middle;\n",
              "    }\n",
              "\n",
              "    .dataframe tbody tr th {\n",
              "        vertical-align: top;\n",
              "    }\n",
              "\n",
              "    .dataframe thead th {\n",
              "        text-align: right;\n",
              "    }\n",
              "</style>\n",
              "<table border=\"1\" class=\"dataframe\">\n",
              "  <thead>\n",
              "    <tr style=\"text-align: right;\">\n",
              "      <th></th>\n",
              "      <th>motoristasE3</th>\n",
              "      <th>Fadiga</th>\n",
              "      <th>Acidentes</th>\n",
              "    </tr>\n",
              "    <tr>\n",
              "      <th>HORA</th>\n",
              "      <th></th>\n",
              "      <th></th>\n",
              "      <th></th>\n",
              "    </tr>\n",
              "  </thead>\n",
              "  <tbody>\n",
              "    <tr>\n",
              "      <th>0</th>\n",
              "      <td>80</td>\n",
              "      <td>225</td>\n",
              "      <td>4</td>\n",
              "    </tr>\n",
              "    <tr>\n",
              "      <th>1</th>\n",
              "      <td>80</td>\n",
              "      <td>357</td>\n",
              "      <td>1</td>\n",
              "    </tr>\n",
              "    <tr>\n",
              "      <th>2</th>\n",
              "      <td>68</td>\n",
              "      <td>278</td>\n",
              "      <td>3</td>\n",
              "    </tr>\n",
              "    <tr>\n",
              "      <th>3</th>\n",
              "      <td>60</td>\n",
              "      <td>267</td>\n",
              "      <td>3</td>\n",
              "    </tr>\n",
              "    <tr>\n",
              "      <th>4</th>\n",
              "      <td>50</td>\n",
              "      <td>274</td>\n",
              "      <td>1</td>\n",
              "    </tr>\n",
              "    <tr>\n",
              "      <th>5</th>\n",
              "      <td>50</td>\n",
              "      <td>202</td>\n",
              "      <td>3</td>\n",
              "    </tr>\n",
              "    <tr>\n",
              "      <th>6</th>\n",
              "      <td>68</td>\n",
              "      <td>131</td>\n",
              "      <td>1</td>\n",
              "    </tr>\n",
              "    <tr>\n",
              "      <th>7</th>\n",
              "      <td>68</td>\n",
              "      <td>133</td>\n",
              "      <td>1</td>\n",
              "    </tr>\n",
              "    <tr>\n",
              "      <th>8</th>\n",
              "      <td>68</td>\n",
              "      <td>146</td>\n",
              "      <td>3</td>\n",
              "    </tr>\n",
              "    <tr>\n",
              "      <th>9</th>\n",
              "      <td>68</td>\n",
              "      <td>147</td>\n",
              "      <td>3</td>\n",
              "    </tr>\n",
              "    <tr>\n",
              "      <th>10</th>\n",
              "      <td>68</td>\n",
              "      <td>240</td>\n",
              "      <td>2</td>\n",
              "    </tr>\n",
              "    <tr>\n",
              "      <th>11</th>\n",
              "      <td>68</td>\n",
              "      <td>166</td>\n",
              "      <td>2</td>\n",
              "    </tr>\n",
              "    <tr>\n",
              "      <th>12</th>\n",
              "      <td>68</td>\n",
              "      <td>158</td>\n",
              "      <td>1</td>\n",
              "    </tr>\n",
              "    <tr>\n",
              "      <th>13</th>\n",
              "      <td>68</td>\n",
              "      <td>186</td>\n",
              "      <td>4</td>\n",
              "    </tr>\n",
              "    <tr>\n",
              "      <th>14</th>\n",
              "      <td>80</td>\n",
              "      <td>162</td>\n",
              "      <td>1</td>\n",
              "    </tr>\n",
              "    <tr>\n",
              "      <th>15</th>\n",
              "      <td>88</td>\n",
              "      <td>113</td>\n",
              "      <td>1</td>\n",
              "    </tr>\n",
              "    <tr>\n",
              "      <th>16</th>\n",
              "      <td>98</td>\n",
              "      <td>97</td>\n",
              "      <td>2</td>\n",
              "    </tr>\n",
              "    <tr>\n",
              "      <th>17</th>\n",
              "      <td>98</td>\n",
              "      <td>97</td>\n",
              "      <td>0</td>\n",
              "    </tr>\n",
              "    <tr>\n",
              "      <th>18</th>\n",
              "      <td>80</td>\n",
              "      <td>67</td>\n",
              "      <td>1</td>\n",
              "    </tr>\n",
              "    <tr>\n",
              "      <th>19</th>\n",
              "      <td>80</td>\n",
              "      <td>84</td>\n",
              "      <td>0</td>\n",
              "    </tr>\n",
              "    <tr>\n",
              "      <th>20</th>\n",
              "      <td>80</td>\n",
              "      <td>69</td>\n",
              "      <td>2</td>\n",
              "    </tr>\n",
              "    <tr>\n",
              "      <th>21</th>\n",
              "      <td>80</td>\n",
              "      <td>76</td>\n",
              "      <td>2</td>\n",
              "    </tr>\n",
              "    <tr>\n",
              "      <th>22</th>\n",
              "      <td>80</td>\n",
              "      <td>119</td>\n",
              "      <td>1</td>\n",
              "    </tr>\n",
              "    <tr>\n",
              "      <th>23</th>\n",
              "      <td>80</td>\n",
              "      <td>160</td>\n",
              "      <td>1</td>\n",
              "    </tr>\n",
              "  </tbody>\n",
              "</table>\n",
              "</div>"
            ],
            "text/plain": [
              "      motoristasE3  Fadiga  Acidentes\n",
              "HORA                                 \n",
              "0               80     225          4\n",
              "1               80     357          1\n",
              "2               68     278          3\n",
              "3               60     267          3\n",
              "4               50     274          1\n",
              "5               50     202          3\n",
              "6               68     131          1\n",
              "7               68     133          1\n",
              "8               68     146          3\n",
              "9               68     147          3\n",
              "10              68     240          2\n",
              "11              68     166          2\n",
              "12              68     158          1\n",
              "13              68     186          4\n",
              "14              80     162          1\n",
              "15              88     113          1\n",
              "16              98      97          2\n",
              "17              98      97          0\n",
              "18              80      67          1\n",
              "19              80      84          0\n",
              "20              80      69          2\n",
              "21              80      76          2\n",
              "22              80     119          1\n",
              "23              80     160          1"
            ]
          },
          "metadata": {
            "tags": []
          },
          "execution_count": 579
        }
      ]
    },
    {
      "cell_type": "markdown",
      "metadata": {
        "id": "kXATWDn_8AUU"
      },
      "source": [
        "### **Visualização**"
      ]
    },
    {
      "cell_type": "code",
      "metadata": {
        "colab": {
          "base_uri": "https://localhost:8080/"
        },
        "id": "bw3RiPkl8FxT",
        "outputId": "61994678-9995-48d0-8567-f05eacc82e49"
      },
      "source": [
        "counts, bins = np.histogram(dfE3['HORA'], bins=range(0, 25, 3))\r\n",
        "counts"
      ],
      "execution_count": 648,
      "outputs": [
        {
          "output_type": "execute_result",
          "data": {
            "text/plain": [
              "array([860, 743, 410, 553, 506, 307, 220, 355])"
            ]
          },
          "metadata": {
            "tags": []
          },
          "execution_count": 648
        }
      ]
    },
    {
      "cell_type": "code",
      "metadata": {
        "colab": {
          "base_uri": "https://localhost:8080/"
        },
        "id": "rdoerYms8FUI",
        "outputId": "710a73b1-55b9-4a2b-de30-2557d867a6b3"
      },
      "source": [
        "b = np.array(dfE3_final['motoristasE3'])\r\n",
        "b"
      ],
      "execution_count": 649,
      "outputs": [
        {
          "output_type": "execute_result",
          "data": {
            "text/plain": [
              "array([80, 80, 68, 60, 50, 50, 68, 68, 68, 68, 68, 68, 68, 68, 80, 88, 98,\n",
              "       98, 80, 80, 80, 80, 80, 80])"
            ]
          },
          "metadata": {
            "tags": []
          },
          "execution_count": 649
        }
      ]
    },
    {
      "cell_type": "code",
      "metadata": {
        "colab": {
          "base_uri": "https://localhost:8080/"
        },
        "id": "-c2uKcpH9_ke",
        "outputId": "90cad28f-d024-44f2-8570-d4e65201b6af"
      },
      "source": [
        "c = b.reshape((8,3)).sum(axis=1)\r\n",
        "c"
      ],
      "execution_count": 650,
      "outputs": [
        {
          "output_type": "execute_result",
          "data": {
            "text/plain": [
              "array([228, 160, 204, 204, 216, 284, 240, 240])"
            ]
          },
          "metadata": {
            "tags": []
          },
          "execution_count": 650
        }
      ]
    },
    {
      "cell_type": "code",
      "metadata": {
        "colab": {
          "base_uri": "https://localhost:8080/",
          "height": 542
        },
        "id": "J0hgvyoJ-T6t",
        "outputId": "2bb82123-3fa8-4184-d444-6d729bdb738e"
      },
      "source": [
        "graphics_plot(y = [counts, counts/c], name = ['Events(raw)', 'Events/Drivers'],\r\n",
        "              title = \"Events company E3\", yaxes_title = [\"Raw\", \"Rate\"])"
      ],
      "execution_count": 651,
      "outputs": [
        {
          "output_type": "display_data",
          "data": {
            "text/html": [
              "<html>\n",
              "<head><meta charset=\"utf-8\" /></head>\n",
              "<body>\n",
              "    <div>            <script src=\"https://cdnjs.cloudflare.com/ajax/libs/mathjax/2.7.5/MathJax.js?config=TeX-AMS-MML_SVG\"></script><script type=\"text/javascript\">if (window.MathJax) {MathJax.Hub.Config({SVG: {font: \"STIX-Web\"}});}</script>                <script type=\"text/javascript\">window.PlotlyConfig = {MathJaxConfig: 'local'};</script>\n",
              "        <script src=\"https://cdn.plot.ly/plotly-latest.min.js\"></script>                <div id=\"8f1e2bc3-00e6-4959-99ad-f66ca97aa48d\" class=\"plotly-graph-div\" style=\"height:525px; width:100%;\"></div>            <script type=\"text/javascript\">                                    window.PLOTLYENV=window.PLOTLYENV || {};                                    if (document.getElementById(\"8f1e2bc3-00e6-4959-99ad-f66ca97aa48d\")) {                    Plotly.newPlot(                        \"8f1e2bc3-00e6-4959-99ad-f66ca97aa48d\",                        [{\"line\": {\"color\": \"rgb(0, 0, 0)\", \"width\": 2}, \"marker\": {\"size\": 7, \"symbol\": \"x\"}, \"mode\": \"lines+markers\", \"name\": \"Events(raw)\", \"type\": \"scatter\", \"x\": [0.0, 3.0, 6.0, 9.0, 12.0, 15.0, 18.0, 21.0, 24.0], \"xaxis\": \"x\", \"y\": [860, 743, 410, 553, 506, 307, 220, 355], \"yaxis\": \"y\"}, {\"line\": {\"color\": \"rgb(0, 0, 0)\", \"dash\": \"dash\", \"width\": 2}, \"marker\": {\"size\": 7, \"symbol\": \"star\"}, \"mode\": \"lines+markers\", \"name\": \"Events/Drivers\", \"type\": \"scatter\", \"x\": [0.0, 3.0, 6.0, 9.0, 12.0, 15.0, 18.0, 21.0, 24.0], \"xaxis\": \"x\", \"y\": [3.7719298245614037, 4.64375, 2.0098039215686274, 2.7107843137254903, 2.3425925925925926, 1.0809859154929577, 0.9166666666666666, 1.4791666666666667], \"yaxis\": \"y2\"}],                        {\"legend\": {\"orientation\": \"h\", \"x\": 0.95, \"xanchor\": \"right\", \"y\": 1.01, \"yanchor\": \"bottom\"}, \"paper_bgcolor\": \"rgba(0,0,0,0)\", \"plot_bgcolor\": \"rgba(0,0,0,0)\", \"template\": {\"data\": {\"bar\": [{\"error_x\": {\"color\": \"#2a3f5f\"}, \"error_y\": {\"color\": \"#2a3f5f\"}, \"marker\": {\"line\": {\"color\": \"#E5ECF6\", \"width\": 0.5}}, \"type\": \"bar\"}], \"barpolar\": [{\"marker\": {\"line\": {\"color\": \"#E5ECF6\", \"width\": 0.5}}, \"type\": \"barpolar\"}], \"carpet\": [{\"aaxis\": {\"endlinecolor\": \"#2a3f5f\", \"gridcolor\": \"white\", \"linecolor\": \"white\", \"minorgridcolor\": \"white\", \"startlinecolor\": \"#2a3f5f\"}, \"baxis\": {\"endlinecolor\": \"#2a3f5f\", \"gridcolor\": \"white\", \"linecolor\": \"white\", \"minorgridcolor\": \"white\", \"startlinecolor\": \"#2a3f5f\"}, \"type\": \"carpet\"}], \"choropleth\": [{\"colorbar\": {\"outlinewidth\": 0, \"ticks\": \"\"}, \"type\": \"choropleth\"}], \"contour\": [{\"colorbar\": {\"outlinewidth\": 0, \"ticks\": \"\"}, \"colorscale\": [[0.0, \"#0d0887\"], [0.1111111111111111, \"#46039f\"], [0.2222222222222222, \"#7201a8\"], [0.3333333333333333, \"#9c179e\"], [0.4444444444444444, \"#bd3786\"], [0.5555555555555556, \"#d8576b\"], [0.6666666666666666, \"#ed7953\"], [0.7777777777777778, \"#fb9f3a\"], [0.8888888888888888, \"#fdca26\"], [1.0, \"#f0f921\"]], \"type\": \"contour\"}], \"contourcarpet\": [{\"colorbar\": {\"outlinewidth\": 0, \"ticks\": \"\"}, \"type\": \"contourcarpet\"}], \"heatmap\": [{\"colorbar\": {\"outlinewidth\": 0, \"ticks\": \"\"}, \"colorscale\": [[0.0, \"#0d0887\"], [0.1111111111111111, \"#46039f\"], [0.2222222222222222, \"#7201a8\"], [0.3333333333333333, \"#9c179e\"], [0.4444444444444444, \"#bd3786\"], [0.5555555555555556, \"#d8576b\"], [0.6666666666666666, \"#ed7953\"], [0.7777777777777778, \"#fb9f3a\"], [0.8888888888888888, \"#fdca26\"], [1.0, \"#f0f921\"]], \"type\": \"heatmap\"}], \"heatmapgl\": [{\"colorbar\": {\"outlinewidth\": 0, \"ticks\": \"\"}, \"colorscale\": [[0.0, \"#0d0887\"], [0.1111111111111111, \"#46039f\"], [0.2222222222222222, \"#7201a8\"], [0.3333333333333333, \"#9c179e\"], [0.4444444444444444, \"#bd3786\"], [0.5555555555555556, \"#d8576b\"], [0.6666666666666666, \"#ed7953\"], [0.7777777777777778, \"#fb9f3a\"], [0.8888888888888888, \"#fdca26\"], [1.0, \"#f0f921\"]], \"type\": \"heatmapgl\"}], \"histogram\": [{\"marker\": {\"colorbar\": {\"outlinewidth\": 0, \"ticks\": \"\"}}, \"type\": \"histogram\"}], \"histogram2d\": [{\"colorbar\": {\"outlinewidth\": 0, \"ticks\": \"\"}, \"colorscale\": [[0.0, \"#0d0887\"], [0.1111111111111111, \"#46039f\"], [0.2222222222222222, \"#7201a8\"], [0.3333333333333333, \"#9c179e\"], [0.4444444444444444, \"#bd3786\"], [0.5555555555555556, \"#d8576b\"], [0.6666666666666666, \"#ed7953\"], [0.7777777777777778, \"#fb9f3a\"], [0.8888888888888888, \"#fdca26\"], [1.0, \"#f0f921\"]], \"type\": \"histogram2d\"}], \"histogram2dcontour\": [{\"colorbar\": {\"outlinewidth\": 0, \"ticks\": \"\"}, \"colorscale\": [[0.0, \"#0d0887\"], [0.1111111111111111, \"#46039f\"], [0.2222222222222222, \"#7201a8\"], [0.3333333333333333, \"#9c179e\"], [0.4444444444444444, \"#bd3786\"], [0.5555555555555556, \"#d8576b\"], [0.6666666666666666, \"#ed7953\"], [0.7777777777777778, \"#fb9f3a\"], [0.8888888888888888, \"#fdca26\"], [1.0, \"#f0f921\"]], \"type\": \"histogram2dcontour\"}], \"mesh3d\": [{\"colorbar\": {\"outlinewidth\": 0, \"ticks\": \"\"}, \"type\": \"mesh3d\"}], \"parcoords\": [{\"line\": {\"colorbar\": {\"outlinewidth\": 0, \"ticks\": \"\"}}, \"type\": \"parcoords\"}], \"pie\": [{\"automargin\": true, \"type\": \"pie\"}], \"scatter\": [{\"marker\": {\"colorbar\": {\"outlinewidth\": 0, \"ticks\": \"\"}}, \"type\": \"scatter\"}], \"scatter3d\": [{\"line\": {\"colorbar\": {\"outlinewidth\": 0, \"ticks\": \"\"}}, \"marker\": {\"colorbar\": {\"outlinewidth\": 0, \"ticks\": \"\"}}, \"type\": \"scatter3d\"}], \"scattercarpet\": [{\"marker\": {\"colorbar\": {\"outlinewidth\": 0, \"ticks\": \"\"}}, \"type\": \"scattercarpet\"}], \"scattergeo\": [{\"marker\": {\"colorbar\": {\"outlinewidth\": 0, \"ticks\": \"\"}}, \"type\": \"scattergeo\"}], \"scattergl\": [{\"marker\": {\"colorbar\": {\"outlinewidth\": 0, \"ticks\": \"\"}}, \"type\": \"scattergl\"}], \"scattermapbox\": [{\"marker\": {\"colorbar\": {\"outlinewidth\": 0, \"ticks\": \"\"}}, \"type\": \"scattermapbox\"}], \"scatterpolar\": [{\"marker\": {\"colorbar\": {\"outlinewidth\": 0, \"ticks\": \"\"}}, \"type\": \"scatterpolar\"}], \"scatterpolargl\": [{\"marker\": {\"colorbar\": {\"outlinewidth\": 0, \"ticks\": \"\"}}, \"type\": \"scatterpolargl\"}], \"scatterternary\": [{\"marker\": {\"colorbar\": {\"outlinewidth\": 0, \"ticks\": \"\"}}, \"type\": \"scatterternary\"}], \"surface\": [{\"colorbar\": {\"outlinewidth\": 0, \"ticks\": \"\"}, \"colorscale\": [[0.0, \"#0d0887\"], [0.1111111111111111, \"#46039f\"], [0.2222222222222222, \"#7201a8\"], [0.3333333333333333, \"#9c179e\"], [0.4444444444444444, \"#bd3786\"], [0.5555555555555556, \"#d8576b\"], [0.6666666666666666, \"#ed7953\"], [0.7777777777777778, \"#fb9f3a\"], [0.8888888888888888, \"#fdca26\"], [1.0, \"#f0f921\"]], \"type\": \"surface\"}], \"table\": [{\"cells\": {\"fill\": {\"color\": \"#EBF0F8\"}, \"line\": {\"color\": \"white\"}}, \"header\": {\"fill\": {\"color\": \"#C8D4E3\"}, \"line\": {\"color\": \"white\"}}, \"type\": \"table\"}]}, \"layout\": {\"annotationdefaults\": {\"arrowcolor\": \"#2a3f5f\", \"arrowhead\": 0, \"arrowwidth\": 1}, \"autotypenumbers\": \"strict\", \"coloraxis\": {\"colorbar\": {\"outlinewidth\": 0, \"ticks\": \"\"}}, \"colorscale\": {\"diverging\": [[0, \"#8e0152\"], [0.1, \"#c51b7d\"], [0.2, \"#de77ae\"], [0.3, \"#f1b6da\"], [0.4, \"#fde0ef\"], [0.5, \"#f7f7f7\"], [0.6, \"#e6f5d0\"], [0.7, \"#b8e186\"], [0.8, \"#7fbc41\"], [0.9, \"#4d9221\"], [1, \"#276419\"]], \"sequential\": [[0.0, \"#0d0887\"], [0.1111111111111111, \"#46039f\"], [0.2222222222222222, \"#7201a8\"], [0.3333333333333333, \"#9c179e\"], [0.4444444444444444, \"#bd3786\"], [0.5555555555555556, \"#d8576b\"], [0.6666666666666666, \"#ed7953\"], [0.7777777777777778, \"#fb9f3a\"], [0.8888888888888888, \"#fdca26\"], [1.0, \"#f0f921\"]], \"sequentialminus\": [[0.0, \"#0d0887\"], [0.1111111111111111, \"#46039f\"], [0.2222222222222222, \"#7201a8\"], [0.3333333333333333, \"#9c179e\"], [0.4444444444444444, \"#bd3786\"], [0.5555555555555556, \"#d8576b\"], [0.6666666666666666, \"#ed7953\"], [0.7777777777777778, \"#fb9f3a\"], [0.8888888888888888, \"#fdca26\"], [1.0, \"#f0f921\"]]}, \"colorway\": [\"#636efa\", \"#EF553B\", \"#00cc96\", \"#ab63fa\", \"#FFA15A\", \"#19d3f3\", \"#FF6692\", \"#B6E880\", \"#FF97FF\", \"#FECB52\"], \"font\": {\"color\": \"#2a3f5f\"}, \"geo\": {\"bgcolor\": \"white\", \"lakecolor\": \"white\", \"landcolor\": \"#E5ECF6\", \"showlakes\": true, \"showland\": true, \"subunitcolor\": \"white\"}, \"hoverlabel\": {\"align\": \"left\"}, \"hovermode\": \"closest\", \"mapbox\": {\"style\": \"light\"}, \"paper_bgcolor\": \"white\", \"plot_bgcolor\": \"#E5ECF6\", \"polar\": {\"angularaxis\": {\"gridcolor\": \"white\", \"linecolor\": \"white\", \"ticks\": \"\"}, \"bgcolor\": \"#E5ECF6\", \"radialaxis\": {\"gridcolor\": \"white\", \"linecolor\": \"white\", \"ticks\": \"\"}}, \"scene\": {\"xaxis\": {\"backgroundcolor\": \"#E5ECF6\", \"gridcolor\": \"white\", \"gridwidth\": 2, \"linecolor\": \"white\", \"showbackground\": true, \"ticks\": \"\", \"zerolinecolor\": \"white\"}, \"yaxis\": {\"backgroundcolor\": \"#E5ECF6\", \"gridcolor\": \"white\", \"gridwidth\": 2, \"linecolor\": \"white\", \"showbackground\": true, \"ticks\": \"\", \"zerolinecolor\": \"white\"}, \"zaxis\": {\"backgroundcolor\": \"#E5ECF6\", \"gridcolor\": \"white\", \"gridwidth\": 2, \"linecolor\": \"white\", \"showbackground\": true, \"ticks\": \"\", \"zerolinecolor\": \"white\"}}, \"shapedefaults\": {\"line\": {\"color\": \"#2a3f5f\"}}, \"ternary\": {\"aaxis\": {\"gridcolor\": \"white\", \"linecolor\": \"white\", \"ticks\": \"\"}, \"baxis\": {\"gridcolor\": \"white\", \"linecolor\": \"white\", \"ticks\": \"\"}, \"bgcolor\": \"#E5ECF6\", \"caxis\": {\"gridcolor\": \"white\", \"linecolor\": \"white\", \"ticks\": \"\"}}, \"title\": {\"x\": 0.05}, \"xaxis\": {\"automargin\": true, \"gridcolor\": \"white\", \"linecolor\": \"white\", \"ticks\": \"\", \"title\": {\"standoff\": 15}, \"zerolinecolor\": \"white\", \"zerolinewidth\": 2}, \"yaxis\": {\"automargin\": true, \"gridcolor\": \"white\", \"linecolor\": \"white\", \"ticks\": \"\", \"title\": {\"standoff\": 15}, \"zerolinecolor\": \"white\", \"zerolinewidth\": 2}}}, \"title\": {\"text\": \"Events company E3\"}, \"xaxis\": {\"anchor\": \"y\", \"domain\": [0.0, 0.94], \"dtick\": 3, \"gridcolor\": \"black\", \"gridwidth\": 1, \"linecolor\": \"black\", \"linewidth\": 2, \"mirror\": true, \"showgrid\": true, \"showline\": true, \"tick0\": 0, \"tickmode\": \"linear\", \"title\": {\"text\": \"Time of day\"}}, \"yaxis\": {\"anchor\": \"x\", \"domain\": [0.0, 1.0], \"gridcolor\": \"black\", \"gridwidth\": 1, \"linecolor\": \"black\", \"linewidth\": 2, \"mirror\": true, \"showgrid\": false, \"showline\": true, \"title\": {\"text\": \"<b>Raw</b>\"}}, \"yaxis2\": {\"anchor\": \"x\", \"gridcolor\": \"black\", \"gridwidth\": 1, \"linecolor\": \"black\", \"linewidth\": 2, \"mirror\": true, \"overlaying\": \"y\", \"showgrid\": false, \"showline\": true, \"side\": \"right\", \"title\": {\"text\": \"<b>Rate</b>\"}}},                        {\"responsive\": true}                    ).then(function(){\n",
              "                            \n",
              "var gd = document.getElementById('8f1e2bc3-00e6-4959-99ad-f66ca97aa48d');\n",
              "var x = new MutationObserver(function (mutations, observer) {{\n",
              "        var display = window.getComputedStyle(gd).display;\n",
              "        if (!display || display === 'none') {{\n",
              "            console.log([gd, 'removed!']);\n",
              "            Plotly.purge(gd);\n",
              "            observer.disconnect();\n",
              "        }}\n",
              "}});\n",
              "\n",
              "// Listen for the removal of the full notebook cells\n",
              "var notebookContainer = gd.closest('#notebook-container');\n",
              "if (notebookContainer) {{\n",
              "    x.observe(notebookContainer, {childList: true});\n",
              "}}\n",
              "\n",
              "// Listen for the clearing of the current output cell\n",
              "var outputEl = gd.closest('.output');\n",
              "if (outputEl) {{\n",
              "    x.observe(outputEl, {childList: true});\n",
              "}}\n",
              "\n",
              "                        })                };                            </script>        </div>\n",
              "</body>\n",
              "</html>"
            ]
          },
          "metadata": {
            "tags": []
          }
        }
      ]
    },
    {
      "cell_type": "markdown",
      "metadata": {
        "id": "lfqvYn_lWULy"
      },
      "source": [
        "#**E5**"
      ]
    },
    {
      "cell_type": "markdown",
      "metadata": {
        "id": "t8eZBCcFAezp"
      },
      "source": [
        "**Motoristas por hora**"
      ]
    },
    {
      "cell_type": "code",
      "metadata": {
        "colab": {
          "base_uri": "https://localhost:8080/",
          "height": 306
        },
        "id": "ASLm6Dd_OTHY",
        "outputId": "18fdc358-ae45-4a1e-de9a-547910ff0183"
      },
      "source": [
        "dfInfE5.head()"
      ],
      "execution_count": 653,
      "outputs": [
        {
          "output_type": "execute_result",
          "data": {
            "text/html": [
              "<div>\n",
              "<style scoped>\n",
              "    .dataframe tbody tr th:only-of-type {\n",
              "        vertical-align: middle;\n",
              "    }\n",
              "\n",
              "    .dataframe tbody tr th {\n",
              "        vertical-align: top;\n",
              "    }\n",
              "\n",
              "    .dataframe thead th {\n",
              "        text-align: right;\n",
              "    }\n",
              "</style>\n",
              "<table border=\"1\" class=\"dataframe\">\n",
              "  <thead>\n",
              "    <tr style=\"text-align: right;\">\n",
              "      <th></th>\n",
              "      <th>Empresa</th>\n",
              "      <th>Escala</th>\n",
              "      <th>Jornada</th>\n",
              "      <th>Intervalos</th>\n",
              "      <th>N° de Colaboradores por turno</th>\n",
              "      <th>Tempo médio de deslocamento</th>\n",
              "      <th>Observação</th>\n",
              "      <th>Unnamed: 7</th>\n",
              "      <th>Inicio</th>\n",
              "      <th>Fim</th>\n",
              "    </tr>\n",
              "  </thead>\n",
              "  <tbody>\n",
              "    <tr>\n",
              "      <th>0</th>\n",
              "      <td>E5</td>\n",
              "      <td>4X2</td>\n",
              "      <td>00 às 11 horas</td>\n",
              "      <td>1 hora refeição (deve ser entre a 4ª e 6ª hora)</td>\n",
              "      <td>3.0</td>\n",
              "      <td>NaN</td>\n",
              "      <td>NaN</td>\n",
              "      <td>NaN</td>\n",
              "      <td>0</td>\n",
              "      <td>11</td>\n",
              "    </tr>\n",
              "    <tr>\n",
              "      <th>1</th>\n",
              "      <td>E5</td>\n",
              "      <td>4X2</td>\n",
              "      <td>1 às 12 horas</td>\n",
              "      <td>1 hora refeição (deve ser entre a 4ª e 6ª hora)</td>\n",
              "      <td>8.0</td>\n",
              "      <td>NaN</td>\n",
              "      <td>NaN</td>\n",
              "      <td>NaN</td>\n",
              "      <td>1</td>\n",
              "      <td>12</td>\n",
              "    </tr>\n",
              "    <tr>\n",
              "      <th>2</th>\n",
              "      <td>E5</td>\n",
              "      <td>4X2</td>\n",
              "      <td>2 às 13 horas</td>\n",
              "      <td>1 hora refeição (deve ser entre a 4ª e 6ª hora)</td>\n",
              "      <td>6.0</td>\n",
              "      <td>NaN</td>\n",
              "      <td>NaN</td>\n",
              "      <td>NaN</td>\n",
              "      <td>2</td>\n",
              "      <td>13</td>\n",
              "    </tr>\n",
              "    <tr>\n",
              "      <th>3</th>\n",
              "      <td>E5</td>\n",
              "      <td>4X2</td>\n",
              "      <td>4 às 15 horas</td>\n",
              "      <td>1 hora refeição (deve ser entre a 4ª e 6ª hora)</td>\n",
              "      <td>5.0</td>\n",
              "      <td>NaN</td>\n",
              "      <td>NaN</td>\n",
              "      <td>NaN</td>\n",
              "      <td>4</td>\n",
              "      <td>15</td>\n",
              "    </tr>\n",
              "    <tr>\n",
              "      <th>4</th>\n",
              "      <td>E5</td>\n",
              "      <td>4X2</td>\n",
              "      <td>5 às 16 horas</td>\n",
              "      <td>1 hora refeição (deve ser entre a 4ª e 6ª hora)</td>\n",
              "      <td>6.0</td>\n",
              "      <td>NaN</td>\n",
              "      <td>NaN</td>\n",
              "      <td>NaN</td>\n",
              "      <td>5</td>\n",
              "      <td>16</td>\n",
              "    </tr>\n",
              "  </tbody>\n",
              "</table>\n",
              "</div>"
            ],
            "text/plain": [
              "  Empresa Escala         Jornada  ... Unnamed: 7  Inicio Fim\n",
              "0      E5    4X2  00 às 11 horas  ...        NaN       0  11\n",
              "1      E5    4X2   1 às 12 horas  ...        NaN       1  12\n",
              "2      E5    4X2   2 às 13 horas  ...        NaN       2  13\n",
              "3      E5    4X2   4 às 15 horas  ...        NaN       4  15\n",
              "4      E5    4X2   5 às 16 horas  ...        NaN       5  16\n",
              "\n",
              "[5 rows x 10 columns]"
            ]
          },
          "metadata": {
            "tags": []
          },
          "execution_count": 653
        }
      ]
    },
    {
      "cell_type": "code",
      "metadata": {
        "id": "veA3Zi2pV9pr"
      },
      "source": [
        "dfE5_motoristas_hora = pd.DataFrame(np.zeros(24, dtype='int64'),columns=['motoristasE5'])\r\n",
        "for index, row in dfInfE5.iterrows():\r\n",
        "    if row['Inicio'] < row['Fim']:\r\n",
        "      dfE5_motoristas_hora['motoristasE5'][row['Inicio']:row['Fim']] += row['N° de Colaboradores por turno']\r\n",
        "    else:\r\n",
        "      dfE5_motoristas_hora['motoristasE5'][0:row['Fim']] += row['N° de Colaboradores por turno']\r\n",
        "      dfE5_motoristas_hora['motoristasE5'][row['Inicio']:24] += row['N° de Colaboradores por turno']"
      ],
      "execution_count": 654,
      "outputs": []
    },
    {
      "cell_type": "code",
      "metadata": {
        "colab": {
          "base_uri": "https://localhost:8080/",
          "height": 824
        },
        "id": "dBZPgik6V9ps",
        "outputId": "5e82d3ad-3ee8-4b4f-af0f-7ae13ef889fb"
      },
      "source": [
        "dfE5_motoristas_hora.index.name = 'HORA'\r\n",
        "dfE5_motoristas_hora"
      ],
      "execution_count": 655,
      "outputs": [
        {
          "output_type": "execute_result",
          "data": {
            "text/html": [
              "<div>\n",
              "<style scoped>\n",
              "    .dataframe tbody tr th:only-of-type {\n",
              "        vertical-align: middle;\n",
              "    }\n",
              "\n",
              "    .dataframe tbody tr th {\n",
              "        vertical-align: top;\n",
              "    }\n",
              "\n",
              "    .dataframe thead th {\n",
              "        text-align: right;\n",
              "    }\n",
              "</style>\n",
              "<table border=\"1\" class=\"dataframe\">\n",
              "  <thead>\n",
              "    <tr style=\"text-align: right;\">\n",
              "      <th></th>\n",
              "      <th>motoristasE5</th>\n",
              "    </tr>\n",
              "    <tr>\n",
              "      <th>HORA</th>\n",
              "      <th></th>\n",
              "    </tr>\n",
              "  </thead>\n",
              "  <tbody>\n",
              "    <tr>\n",
              "      <th>0</th>\n",
              "      <td>48.0</td>\n",
              "    </tr>\n",
              "    <tr>\n",
              "      <th>1</th>\n",
              "      <td>50.0</td>\n",
              "    </tr>\n",
              "    <tr>\n",
              "      <th>2</th>\n",
              "      <td>56.0</td>\n",
              "    </tr>\n",
              "    <tr>\n",
              "      <th>3</th>\n",
              "      <td>51.0</td>\n",
              "    </tr>\n",
              "    <tr>\n",
              "      <th>4</th>\n",
              "      <td>50.0</td>\n",
              "    </tr>\n",
              "    <tr>\n",
              "      <th>5</th>\n",
              "      <td>47.0</td>\n",
              "    </tr>\n",
              "    <tr>\n",
              "      <th>6</th>\n",
              "      <td>52.0</td>\n",
              "    </tr>\n",
              "    <tr>\n",
              "      <th>7</th>\n",
              "      <td>50.0</td>\n",
              "    </tr>\n",
              "    <tr>\n",
              "      <th>8</th>\n",
              "      <td>56.0</td>\n",
              "    </tr>\n",
              "    <tr>\n",
              "      <th>9</th>\n",
              "      <td>53.0</td>\n",
              "    </tr>\n",
              "    <tr>\n",
              "      <th>10</th>\n",
              "      <td>50.0</td>\n",
              "    </tr>\n",
              "    <tr>\n",
              "      <th>11</th>\n",
              "      <td>53.0</td>\n",
              "    </tr>\n",
              "    <tr>\n",
              "      <th>12</th>\n",
              "      <td>48.0</td>\n",
              "    </tr>\n",
              "    <tr>\n",
              "      <th>13</th>\n",
              "      <td>50.0</td>\n",
              "    </tr>\n",
              "    <tr>\n",
              "      <th>14</th>\n",
              "      <td>56.0</td>\n",
              "    </tr>\n",
              "    <tr>\n",
              "      <th>15</th>\n",
              "      <td>51.0</td>\n",
              "    </tr>\n",
              "    <tr>\n",
              "      <th>16</th>\n",
              "      <td>50.0</td>\n",
              "    </tr>\n",
              "    <tr>\n",
              "      <th>17</th>\n",
              "      <td>47.0</td>\n",
              "    </tr>\n",
              "    <tr>\n",
              "      <th>18</th>\n",
              "      <td>52.0</td>\n",
              "    </tr>\n",
              "    <tr>\n",
              "      <th>19</th>\n",
              "      <td>50.0</td>\n",
              "    </tr>\n",
              "    <tr>\n",
              "      <th>20</th>\n",
              "      <td>56.0</td>\n",
              "    </tr>\n",
              "    <tr>\n",
              "      <th>21</th>\n",
              "      <td>53.0</td>\n",
              "    </tr>\n",
              "    <tr>\n",
              "      <th>22</th>\n",
              "      <td>50.0</td>\n",
              "    </tr>\n",
              "    <tr>\n",
              "      <th>23</th>\n",
              "      <td>53.0</td>\n",
              "    </tr>\n",
              "  </tbody>\n",
              "</table>\n",
              "</div>"
            ],
            "text/plain": [
              "      motoristasE5\n",
              "HORA              \n",
              "0             48.0\n",
              "1             50.0\n",
              "2             56.0\n",
              "3             51.0\n",
              "4             50.0\n",
              "5             47.0\n",
              "6             52.0\n",
              "7             50.0\n",
              "8             56.0\n",
              "9             53.0\n",
              "10            50.0\n",
              "11            53.0\n",
              "12            48.0\n",
              "13            50.0\n",
              "14            56.0\n",
              "15            51.0\n",
              "16            50.0\n",
              "17            47.0\n",
              "18            52.0\n",
              "19            50.0\n",
              "20            56.0\n",
              "21            53.0\n",
              "22            50.0\n",
              "23            53.0"
            ]
          },
          "metadata": {
            "tags": []
          },
          "execution_count": 655
        }
      ]
    },
    {
      "cell_type": "markdown",
      "metadata": {
        "id": "D0NYIiaoAzl_"
      },
      "source": [
        "**Eventos por hora**"
      ]
    },
    {
      "cell_type": "code",
      "metadata": {
        "colab": {
          "base_uri": "https://localhost:8080/",
          "height": 111
        },
        "id": "LoX0QAwMcB0c",
        "outputId": "fd750932-ba25-43fd-c961-615f357f7f96"
      },
      "source": [
        "dfE5H.head(2)"
      ],
      "execution_count": 656,
      "outputs": [
        {
          "output_type": "execute_result",
          "data": {
            "text/html": [
              "<div>\n",
              "<style scoped>\n",
              "    .dataframe tbody tr th:only-of-type {\n",
              "        vertical-align: middle;\n",
              "    }\n",
              "\n",
              "    .dataframe tbody tr th {\n",
              "        vertical-align: top;\n",
              "    }\n",
              "\n",
              "    .dataframe thead th {\n",
              "        text-align: right;\n",
              "    }\n",
              "</style>\n",
              "<table border=\"1\" class=\"dataframe\">\n",
              "  <thead>\n",
              "    <tr style=\"text-align: right;\">\n",
              "      <th></th>\n",
              "      <th>Nome</th>\n",
              "      <th>DATA</th>\n",
              "      <th>HORA</th>\n",
              "      <th>Tipo de Desatenção</th>\n",
              "      <th>Velocidade</th>\n",
              "    </tr>\n",
              "  </thead>\n",
              "  <tbody>\n",
              "    <tr>\n",
              "      <th>0</th>\n",
              "      <td>NaN</td>\n",
              "      <td>2019-01-04 11:46:41</td>\n",
              "      <td>11</td>\n",
              "      <td>Olho Fechado</td>\n",
              "      <td>57</td>\n",
              "    </tr>\n",
              "    <tr>\n",
              "      <th>1</th>\n",
              "      <td>NaN</td>\n",
              "      <td>2019-01-11 19:11:04</td>\n",
              "      <td>19</td>\n",
              "      <td>Olho Fechado</td>\n",
              "      <td>48</td>\n",
              "    </tr>\n",
              "  </tbody>\n",
              "</table>\n",
              "</div>"
            ],
            "text/plain": [
              "  Nome                DATA  HORA Tipo de Desatenção  Velocidade\n",
              "0  NaN 2019-01-04 11:46:41    11       Olho Fechado          57\n",
              "1  NaN 2019-01-11 19:11:04    19       Olho Fechado          48"
            ]
          },
          "metadata": {
            "tags": []
          },
          "execution_count": 656
        }
      ]
    },
    {
      "cell_type": "code",
      "metadata": {
        "colab": {
          "base_uri": "https://localhost:8080/"
        },
        "id": "AG_z5ikOUq2r",
        "outputId": "d4a7b4aa-bf5a-4120-a4d3-150cdbe43091"
      },
      "source": [
        "dfE5H.shape"
      ],
      "execution_count": 657,
      "outputs": [
        {
          "output_type": "execute_result",
          "data": {
            "text/plain": [
              "(69100, 5)"
            ]
          },
          "metadata": {
            "tags": []
          },
          "execution_count": 657
        }
      ]
    },
    {
      "cell_type": "code",
      "metadata": {
        "colab": {
          "base_uri": "https://localhost:8080/"
        },
        "id": "82Nj47cfA4Ik",
        "outputId": "01ce76f8-6875-4a5c-a4a4-a728daea8a59"
      },
      "source": [
        "dfE5H['Tipo de Desatenção'].unique()"
      ],
      "execution_count": 658,
      "outputs": [
        {
          "output_type": "execute_result",
          "data": {
            "text/plain": [
              "array(['Olho Fechado', 'Bocejo'], dtype=object)"
            ]
          },
          "metadata": {
            "tags": []
          },
          "execution_count": 658
        }
      ]
    },
    {
      "cell_type": "code",
      "metadata": {
        "colab": {
          "base_uri": "https://localhost:8080/"
        },
        "id": "5Bv_F7-DF7uB",
        "outputId": "a83c0e43-3f44-412a-cb06-78a5d684dba6"
      },
      "source": [
        "dfE5H['Tipo de Desatenção'].value_counts()"
      ],
      "execution_count": 659,
      "outputs": [
        {
          "output_type": "execute_result",
          "data": {
            "text/plain": [
              "Bocejo          40900\n",
              "Olho Fechado    28200\n",
              "Name: Tipo de Desatenção, dtype: int64"
            ]
          },
          "metadata": {
            "tags": []
          },
          "execution_count": 659
        }
      ]
    },
    {
      "cell_type": "code",
      "metadata": {
        "colab": {
          "base_uri": "https://localhost:8080/"
        },
        "id": "x4NBhLQDDzrv",
        "outputId": "d5c8d477-2435-40c0-b0a5-346da9715fbe"
      },
      "source": [
        "dfE5_of = dfE5H[dfE5H['Tipo de Desatenção'] == 'Olho Fechado']\r\n",
        "dfE5_of_final = dfE5_of.HORA.value_counts().rename('Olho fechado').sort_index()\r\n",
        "dfE5_of_final"
      ],
      "execution_count": 660,
      "outputs": [
        {
          "output_type": "execute_result",
          "data": {
            "text/plain": [
              "0      278\n",
              "1      329\n",
              "2      384\n",
              "3      473\n",
              "4      586\n",
              "5      548\n",
              "6     1174\n",
              "7     1902\n",
              "8     2285\n",
              "9     2363\n",
              "10    2164\n",
              "11    2172\n",
              "12    2231\n",
              "13    2341\n",
              "14    2386\n",
              "15    2092\n",
              "16    1780\n",
              "17    1080\n",
              "18     419\n",
              "19     266\n",
              "20     225\n",
              "21     212\n",
              "22     274\n",
              "23     236\n",
              "Name: Olho fechado, dtype: int64"
            ]
          },
          "metadata": {
            "tags": []
          },
          "execution_count": 660
        }
      ]
    },
    {
      "cell_type": "code",
      "metadata": {
        "colab": {
          "base_uri": "https://localhost:8080/"
        },
        "id": "RkQl3MCuGCOH",
        "outputId": "7916ccfa-ede8-4f3c-ae7e-93668eac717b"
      },
      "source": [
        "dfE5_of_final.sum()"
      ],
      "execution_count": 661,
      "outputs": [
        {
          "output_type": "execute_result",
          "data": {
            "text/plain": [
              "28200"
            ]
          },
          "metadata": {
            "tags": []
          },
          "execution_count": 661
        }
      ]
    },
    {
      "cell_type": "code",
      "metadata": {
        "colab": {
          "base_uri": "https://localhost:8080/"
        },
        "id": "_dK_GOqGFpc7",
        "outputId": "2bd66520-e455-4bc3-c1f8-7dad9058fab1"
      },
      "source": [
        "dfE5_b = dfE5H[dfE5H['Tipo de Desatenção'] == 'Bocejo']\r\n",
        "dfE5_b_final = dfE5_b.HORA.value_counts().rename('Bocejo').sort_index()\r\n",
        "dfE5_b_final"
      ],
      "execution_count": 662,
      "outputs": [
        {
          "output_type": "execute_result",
          "data": {
            "text/plain": [
              "0     1915\n",
              "1     2133\n",
              "2     2342\n",
              "3     2372\n",
              "4     2362\n",
              "5     2419\n",
              "6     2564\n",
              "7     2122\n",
              "8     1715\n",
              "9     1315\n",
              "10    1199\n",
              "11    1248\n",
              "12    1691\n",
              "13    1757\n",
              "14    1649\n",
              "15    1408\n",
              "16    1190\n",
              "17    1257\n",
              "18    1384\n",
              "19    1187\n",
              "20    1191\n",
              "21    1322\n",
              "22    1583\n",
              "23    1575\n",
              "Name: Bocejo, dtype: int64"
            ]
          },
          "metadata": {
            "tags": []
          },
          "execution_count": 662
        }
      ]
    },
    {
      "cell_type": "code",
      "metadata": {
        "colab": {
          "base_uri": "https://localhost:8080/"
        },
        "id": "8GPbCvr7GFtY",
        "outputId": "60254083-f186-49d3-b2d5-376963dd0866"
      },
      "source": [
        "dfE5_b_final.sum()"
      ],
      "execution_count": 663,
      "outputs": [
        {
          "output_type": "execute_result",
          "data": {
            "text/plain": [
              "40900"
            ]
          },
          "metadata": {
            "tags": []
          },
          "execution_count": 663
        }
      ]
    },
    {
      "cell_type": "markdown",
      "metadata": {
        "id": "NVzXXslwKHxk"
      },
      "source": [
        "**Acidentes por hora**"
      ]
    },
    {
      "cell_type": "code",
      "metadata": {
        "colab": {
          "base_uri": "https://localhost:8080/",
          "height": 482
        },
        "id": "SUvpqeXlKIcb",
        "outputId": "97adeee6-05cf-48cb-cc04-7e7f217f3f59"
      },
      "source": [
        "dfOCO_TM_E5.head(3)"
      ],
      "execution_count": 664,
      "outputs": [
        {
          "output_type": "execute_result",
          "data": {
            "text/html": [
              "<div>\n",
              "<style scoped>\n",
              "    .dataframe tbody tr th:only-of-type {\n",
              "        vertical-align: middle;\n",
              "    }\n",
              "\n",
              "    .dataframe tbody tr th {\n",
              "        vertical-align: top;\n",
              "    }\n",
              "\n",
              "    .dataframe thead th {\n",
              "        text-align: right;\n",
              "    }\n",
              "</style>\n",
              "<table border=\"1\" class=\"dataframe\">\n",
              "  <thead>\n",
              "    <tr style=\"text-align: right;\">\n",
              "      <th></th>\n",
              "      <th>CLASSIFICAÇÃO</th>\n",
              "      <th>EMPRESA</th>\n",
              "      <th>GERÊNCIA</th>\n",
              "      <th>COORDENAÇÃO</th>\n",
              "      <th>SUB ÁREA</th>\n",
              "      <th>NOME</th>\n",
              "      <th>CARGO</th>\n",
              "      <th>TEMPO DE EMPRESA</th>\n",
              "      <th>IDADE</th>\n",
              "      <th>\\nDATA DA OCORRÊNCIA</th>\n",
              "      <th>DIA DA SEMANA</th>\n",
              "      <th>\\nLOCAL DA OCORRÊNCIA</th>\n",
              "      <th>QUALIDADE PISTA</th>\n",
              "      <th>CARACTERISTICA PISTA</th>\n",
              "      <th>SINALIZAÇÃO</th>\n",
              "      <th>CLIMA</th>\n",
              "      <th>PREFIXO</th>\n",
              "      <th>MODELO</th>\n",
              "      <th>CARREGADO</th>\n",
              "      <th>TIPO</th>\n",
              "      <th>DETALHAMENTO</th>\n",
              "      <th>POTENCIAL</th>\n",
              "      <th>SAP</th>\n",
              "      <th>DIA ESCALA</th>\n",
              "      <th>ESCALA</th>\n",
              "      <th>JORNADA</th>\n",
              "      <th>TEMPO DECORRIDO</th>\n",
              "      <th>DORMIU BEM?</th>\n",
              "      <th>PRÓXIMO PERIODO DE FÉRIAS OU FERIADO</th>\n",
              "      <th>ALIMENTOU</th>\n",
              "      <th>PROBLEMAS SAÚDE</th>\n",
              "      <th>USO MEDICAMENTO</th>\n",
              "      <th>USO ALCOOL/DROGA</th>\n",
              "      <th>PRESSÃO</th>\n",
              "      <th>PRESSA PARA CONCLUIR O TRABALHO</th>\n",
              "      <th>DESCRIÇÃO</th>\n",
              "      <th>HorarioAcidente</th>\n",
              "    </tr>\n",
              "    <tr>\n",
              "      <th>HORA</th>\n",
              "      <th></th>\n",
              "      <th></th>\n",
              "      <th></th>\n",
              "      <th></th>\n",
              "      <th></th>\n",
              "      <th></th>\n",
              "      <th></th>\n",
              "      <th></th>\n",
              "      <th></th>\n",
              "      <th></th>\n",
              "      <th></th>\n",
              "      <th></th>\n",
              "      <th></th>\n",
              "      <th></th>\n",
              "      <th></th>\n",
              "      <th></th>\n",
              "      <th></th>\n",
              "      <th></th>\n",
              "      <th></th>\n",
              "      <th></th>\n",
              "      <th></th>\n",
              "      <th></th>\n",
              "      <th></th>\n",
              "      <th></th>\n",
              "      <th></th>\n",
              "      <th></th>\n",
              "      <th></th>\n",
              "      <th></th>\n",
              "      <th></th>\n",
              "      <th></th>\n",
              "      <th></th>\n",
              "      <th></th>\n",
              "      <th></th>\n",
              "      <th></th>\n",
              "      <th></th>\n",
              "      <th></th>\n",
              "      <th></th>\n",
              "    </tr>\n",
              "  </thead>\n",
              "  <tbody>\n",
              "    <tr>\n",
              "      <th>18:50:00</th>\n",
              "      <td>IAP</td>\n",
              "      <td>E5</td>\n",
              "      <td>LOGÍSTICA</td>\n",
              "      <td>TRANSPORTE FLORESTAL</td>\n",
              "      <td>LOGÍSTICA</td>\n",
              "      <td>C492</td>\n",
              "      <td>MOTORISTA</td>\n",
              "      <td>24</td>\n",
              "      <td>48.0</td>\n",
              "      <td>2017-03-28</td>\n",
              "      <td>TERÇA-FEIRA</td>\n",
              "      <td>PÁTIO DE MADEIRA AEROPORTO</td>\n",
              "      <td>ESTRADA DE CHÃO</td>\n",
              "      <td>RETA</td>\n",
              "      <td>NaN</td>\n",
              "      <td>NaN</td>\n",
              "      <td>BBM-056</td>\n",
              "      <td>NaN</td>\n",
              "      <td>NÃO</td>\n",
              "      <td>TRANSPORTE DE MADEIRA</td>\n",
              "      <td>MOTORISTA DO CAMINHÃO DE PREFIXO BBM-056 AO RE...</td>\n",
              "      <td>LPG</td>\n",
              "      <td>6510</td>\n",
              "      <td>2.0</td>\n",
              "      <td>NaN</td>\n",
              "      <td>NaN</td>\n",
              "      <td>00:50:00</td>\n",
              "      <td>NaN</td>\n",
              "      <td>NÃO</td>\n",
              "      <td>NaN</td>\n",
              "      <td>NÃO</td>\n",
              "      <td>NÃO</td>\n",
              "      <td>NaN</td>\n",
              "      <td>NaN</td>\n",
              "      <td>NaN</td>\n",
              "      <td>NOITE ESTAVA NORMAL SEM CHUVA OU NEBLINA. * CO...</td>\n",
              "      <td>18</td>\n",
              "    </tr>\n",
              "    <tr>\n",
              "      <th>23:00:00</th>\n",
              "      <td>IAP</td>\n",
              "      <td>E5</td>\n",
              "      <td>LOGÍSTICA</td>\n",
              "      <td>TRANSPORTE FLORESTAL</td>\n",
              "      <td>LOGÍSTICA</td>\n",
              "      <td>C488</td>\n",
              "      <td>MOTORISTA</td>\n",
              "      <td>12</td>\n",
              "      <td>55.0</td>\n",
              "      <td>2017-05-31</td>\n",
              "      <td>QUARTA-FEIRA</td>\n",
              "      <td>PRINCESA DO VALE</td>\n",
              "      <td>SEM CASCALHO</td>\n",
              "      <td>DECLIVE</td>\n",
              "      <td>NaN</td>\n",
              "      <td>CHUVA</td>\n",
              "      <td>BBM-059</td>\n",
              "      <td>NaN</td>\n",
              "      <td>SIM</td>\n",
              "      <td>TRANSPORTE DE MADEIRA</td>\n",
              "      <td>O MOTORISTA DO CAMINHÃO DE PREFIXO BBM-059, AP...</td>\n",
              "      <td>LPG</td>\n",
              "      <td>6822</td>\n",
              "      <td>NaN</td>\n",
              "      <td>NaN</td>\n",
              "      <td>NaN</td>\n",
              "      <td>NaN</td>\n",
              "      <td>NaN</td>\n",
              "      <td>NaN</td>\n",
              "      <td>NaN</td>\n",
              "      <td>NaN</td>\n",
              "      <td>NaN</td>\n",
              "      <td>NaN</td>\n",
              "      <td>NaN</td>\n",
              "      <td>NaN</td>\n",
              "      <td>NaN</td>\n",
              "      <td>23</td>\n",
              "    </tr>\n",
              "    <tr>\n",
              "      <th>14:15:00</th>\n",
              "      <td>IAP</td>\n",
              "      <td>E5</td>\n",
              "      <td>LOGÍSTICA</td>\n",
              "      <td>TRANSPORTE FLORESTAL</td>\n",
              "      <td>LOGÍSTICA</td>\n",
              "      <td>C390</td>\n",
              "      <td>MOTORISTA</td>\n",
              "      <td>14</td>\n",
              "      <td>58.0</td>\n",
              "      <td>2017-11-10</td>\n",
              "      <td>SEXTA-FEIRA</td>\n",
              "      <td>PR-160 - PRÓXIMO À ENTRADA DA LAGOA</td>\n",
              "      <td>ASFALTADA</td>\n",
              "      <td>CURVA</td>\n",
              "      <td>NaN</td>\n",
              "      <td>NaN</td>\n",
              "      <td>BBM-814</td>\n",
              "      <td>NaN</td>\n",
              "      <td>SIM</td>\n",
              "      <td>TRANSPORTE DE MADEIRA</td>\n",
              "      <td>COLABORADOR TRAFEGAVA COM CAMINHÃO DE PREFIXO ...</td>\n",
              "      <td>LPG</td>\n",
              "      <td>7510</td>\n",
              "      <td>NaN</td>\n",
              "      <td>NaN</td>\n",
              "      <td>04:00 - 15:00</td>\n",
              "      <td>NaN</td>\n",
              "      <td>NaN</td>\n",
              "      <td>NaN</td>\n",
              "      <td>NaN</td>\n",
              "      <td>NaN</td>\n",
              "      <td>NaN</td>\n",
              "      <td>NaN</td>\n",
              "      <td>NÃO</td>\n",
              "      <td>NÃO</td>\n",
              "      <td>APÓS INVESTIGAÇÃO DA OCORRÊNCIA CONSTATAMOS QU...</td>\n",
              "      <td>14</td>\n",
              "    </tr>\n",
              "  </tbody>\n",
              "</table>\n",
              "</div>"
            ],
            "text/plain": [
              "         CLASSIFICAÇÃO  ... HorarioAcidente\n",
              "HORA                    ...                \n",
              "18:50:00           IAP  ...              18\n",
              "23:00:00           IAP  ...              23\n",
              "14:15:00           IAP  ...              14\n",
              "\n",
              "[3 rows x 37 columns]"
            ]
          },
          "metadata": {
            "tags": []
          },
          "execution_count": 664
        }
      ]
    },
    {
      "cell_type": "code",
      "metadata": {
        "colab": {
          "base_uri": "https://localhost:8080/"
        },
        "id": "Rj4ElWF3M-n3",
        "outputId": "8b63bf9d-de9f-4c97-80da-52c4db02fc5d"
      },
      "source": [
        "dfOCO_TM_E5.CARGO.value_counts()"
      ],
      "execution_count": 665,
      "outputs": [
        {
          "output_type": "execute_result",
          "data": {
            "text/plain": [
              "MOTORISTA                         16\n",
              "MOTORISTA TRANSPORTE FLORESTAL     2\n",
              "MOTORISTA                          1\n",
              "Name: CARGO, dtype: int64"
            ]
          },
          "metadata": {
            "tags": []
          },
          "execution_count": 665
        }
      ]
    },
    {
      "cell_type": "code",
      "metadata": {
        "colab": {
          "base_uri": "https://localhost:8080/"
        },
        "id": "-VRezoyLM-oa",
        "outputId": "eb74e832-efe6-49c3-dacc-f47fb8de4982"
      },
      "source": [
        "dfE5_acid_hora = dfOCO_TM_E5.HorarioAcidente.value_counts().sort_index().rename('Acidentes por hora')\r\n",
        "dfE5_acid_hora"
      ],
      "execution_count": 666,
      "outputs": [
        {
          "output_type": "execute_result",
          "data": {
            "text/plain": [
              "2     1\n",
              "3     2\n",
              "4     2\n",
              "5     2\n",
              "6     2\n",
              "10    1\n",
              "14    1\n",
              "18    1\n",
              "19    2\n",
              "20    2\n",
              "22    2\n",
              "23    1\n",
              "Name: Acidentes por hora, dtype: int64"
            ]
          },
          "metadata": {
            "tags": []
          },
          "execution_count": 666
        }
      ]
    },
    {
      "cell_type": "markdown",
      "metadata": {
        "id": "j7yXj0ljT09j"
      },
      "source": [
        "**DF final E5**"
      ]
    },
    {
      "cell_type": "code",
      "metadata": {
        "colab": {
          "base_uri": "https://localhost:8080/",
          "height": 824
        },
        "id": "JKNKFhENT09-",
        "outputId": "0c16847a-c4b0-442f-b4da-212abf9be184"
      },
      "source": [
        "dfE5_final = pd.DataFrame(dfE5_motoristas_hora['motoristasE5'],dtype='int64')\r\n",
        "dfE5_final['Olho_fechado'] = pd.DataFrame(dfE5_of_final)\r\n",
        "dfE5_final['Bocejo'] = pd.DataFrame(dfE5_b_final)\r\n",
        "dfE5_final['Acidentes'] = pd.DataFrame(dfE5_acid_hora)\r\n",
        "dfE5_final.fillna(0, inplace=True)\r\n",
        "dfE5_final['Acidentes'] = dfE5_final.Acidentes.astype('int64')\r\n",
        "dfE5_final"
      ],
      "execution_count": 667,
      "outputs": [
        {
          "output_type": "execute_result",
          "data": {
            "text/html": [
              "<div>\n",
              "<style scoped>\n",
              "    .dataframe tbody tr th:only-of-type {\n",
              "        vertical-align: middle;\n",
              "    }\n",
              "\n",
              "    .dataframe tbody tr th {\n",
              "        vertical-align: top;\n",
              "    }\n",
              "\n",
              "    .dataframe thead th {\n",
              "        text-align: right;\n",
              "    }\n",
              "</style>\n",
              "<table border=\"1\" class=\"dataframe\">\n",
              "  <thead>\n",
              "    <tr style=\"text-align: right;\">\n",
              "      <th></th>\n",
              "      <th>motoristasE5</th>\n",
              "      <th>Olho_fechado</th>\n",
              "      <th>Bocejo</th>\n",
              "      <th>Acidentes</th>\n",
              "    </tr>\n",
              "    <tr>\n",
              "      <th>HORA</th>\n",
              "      <th></th>\n",
              "      <th></th>\n",
              "      <th></th>\n",
              "      <th></th>\n",
              "    </tr>\n",
              "  </thead>\n",
              "  <tbody>\n",
              "    <tr>\n",
              "      <th>0</th>\n",
              "      <td>48</td>\n",
              "      <td>278</td>\n",
              "      <td>1915</td>\n",
              "      <td>0</td>\n",
              "    </tr>\n",
              "    <tr>\n",
              "      <th>1</th>\n",
              "      <td>50</td>\n",
              "      <td>329</td>\n",
              "      <td>2133</td>\n",
              "      <td>0</td>\n",
              "    </tr>\n",
              "    <tr>\n",
              "      <th>2</th>\n",
              "      <td>56</td>\n",
              "      <td>384</td>\n",
              "      <td>2342</td>\n",
              "      <td>1</td>\n",
              "    </tr>\n",
              "    <tr>\n",
              "      <th>3</th>\n",
              "      <td>51</td>\n",
              "      <td>473</td>\n",
              "      <td>2372</td>\n",
              "      <td>2</td>\n",
              "    </tr>\n",
              "    <tr>\n",
              "      <th>4</th>\n",
              "      <td>50</td>\n",
              "      <td>586</td>\n",
              "      <td>2362</td>\n",
              "      <td>2</td>\n",
              "    </tr>\n",
              "    <tr>\n",
              "      <th>5</th>\n",
              "      <td>47</td>\n",
              "      <td>548</td>\n",
              "      <td>2419</td>\n",
              "      <td>2</td>\n",
              "    </tr>\n",
              "    <tr>\n",
              "      <th>6</th>\n",
              "      <td>52</td>\n",
              "      <td>1174</td>\n",
              "      <td>2564</td>\n",
              "      <td>2</td>\n",
              "    </tr>\n",
              "    <tr>\n",
              "      <th>7</th>\n",
              "      <td>50</td>\n",
              "      <td>1902</td>\n",
              "      <td>2122</td>\n",
              "      <td>0</td>\n",
              "    </tr>\n",
              "    <tr>\n",
              "      <th>8</th>\n",
              "      <td>56</td>\n",
              "      <td>2285</td>\n",
              "      <td>1715</td>\n",
              "      <td>0</td>\n",
              "    </tr>\n",
              "    <tr>\n",
              "      <th>9</th>\n",
              "      <td>53</td>\n",
              "      <td>2363</td>\n",
              "      <td>1315</td>\n",
              "      <td>0</td>\n",
              "    </tr>\n",
              "    <tr>\n",
              "      <th>10</th>\n",
              "      <td>50</td>\n",
              "      <td>2164</td>\n",
              "      <td>1199</td>\n",
              "      <td>1</td>\n",
              "    </tr>\n",
              "    <tr>\n",
              "      <th>11</th>\n",
              "      <td>53</td>\n",
              "      <td>2172</td>\n",
              "      <td>1248</td>\n",
              "      <td>0</td>\n",
              "    </tr>\n",
              "    <tr>\n",
              "      <th>12</th>\n",
              "      <td>48</td>\n",
              "      <td>2231</td>\n",
              "      <td>1691</td>\n",
              "      <td>0</td>\n",
              "    </tr>\n",
              "    <tr>\n",
              "      <th>13</th>\n",
              "      <td>50</td>\n",
              "      <td>2341</td>\n",
              "      <td>1757</td>\n",
              "      <td>0</td>\n",
              "    </tr>\n",
              "    <tr>\n",
              "      <th>14</th>\n",
              "      <td>56</td>\n",
              "      <td>2386</td>\n",
              "      <td>1649</td>\n",
              "      <td>1</td>\n",
              "    </tr>\n",
              "    <tr>\n",
              "      <th>15</th>\n",
              "      <td>51</td>\n",
              "      <td>2092</td>\n",
              "      <td>1408</td>\n",
              "      <td>0</td>\n",
              "    </tr>\n",
              "    <tr>\n",
              "      <th>16</th>\n",
              "      <td>50</td>\n",
              "      <td>1780</td>\n",
              "      <td>1190</td>\n",
              "      <td>0</td>\n",
              "    </tr>\n",
              "    <tr>\n",
              "      <th>17</th>\n",
              "      <td>47</td>\n",
              "      <td>1080</td>\n",
              "      <td>1257</td>\n",
              "      <td>0</td>\n",
              "    </tr>\n",
              "    <tr>\n",
              "      <th>18</th>\n",
              "      <td>52</td>\n",
              "      <td>419</td>\n",
              "      <td>1384</td>\n",
              "      <td>1</td>\n",
              "    </tr>\n",
              "    <tr>\n",
              "      <th>19</th>\n",
              "      <td>50</td>\n",
              "      <td>266</td>\n",
              "      <td>1187</td>\n",
              "      <td>2</td>\n",
              "    </tr>\n",
              "    <tr>\n",
              "      <th>20</th>\n",
              "      <td>56</td>\n",
              "      <td>225</td>\n",
              "      <td>1191</td>\n",
              "      <td>2</td>\n",
              "    </tr>\n",
              "    <tr>\n",
              "      <th>21</th>\n",
              "      <td>53</td>\n",
              "      <td>212</td>\n",
              "      <td>1322</td>\n",
              "      <td>0</td>\n",
              "    </tr>\n",
              "    <tr>\n",
              "      <th>22</th>\n",
              "      <td>50</td>\n",
              "      <td>274</td>\n",
              "      <td>1583</td>\n",
              "      <td>2</td>\n",
              "    </tr>\n",
              "    <tr>\n",
              "      <th>23</th>\n",
              "      <td>53</td>\n",
              "      <td>236</td>\n",
              "      <td>1575</td>\n",
              "      <td>1</td>\n",
              "    </tr>\n",
              "  </tbody>\n",
              "</table>\n",
              "</div>"
            ],
            "text/plain": [
              "      motoristasE5  Olho_fechado  Bocejo  Acidentes\n",
              "HORA                                               \n",
              "0               48           278    1915          0\n",
              "1               50           329    2133          0\n",
              "2               56           384    2342          1\n",
              "3               51           473    2372          2\n",
              "4               50           586    2362          2\n",
              "5               47           548    2419          2\n",
              "6               52          1174    2564          2\n",
              "7               50          1902    2122          0\n",
              "8               56          2285    1715          0\n",
              "9               53          2363    1315          0\n",
              "10              50          2164    1199          1\n",
              "11              53          2172    1248          0\n",
              "12              48          2231    1691          0\n",
              "13              50          2341    1757          0\n",
              "14              56          2386    1649          1\n",
              "15              51          2092    1408          0\n",
              "16              50          1780    1190          0\n",
              "17              47          1080    1257          0\n",
              "18              52           419    1384          1\n",
              "19              50           266    1187          2\n",
              "20              56           225    1191          2\n",
              "21              53           212    1322          0\n",
              "22              50           274    1583          2\n",
              "23              53           236    1575          1"
            ]
          },
          "metadata": {
            "tags": []
          },
          "execution_count": 667
        }
      ]
    },
    {
      "cell_type": "markdown",
      "metadata": {
        "id": "-CWTijrd8KY-"
      },
      "source": [
        "### **Visualização**"
      ]
    },
    {
      "cell_type": "code",
      "metadata": {
        "colab": {
          "base_uri": "https://localhost:8080/",
          "height": 142
        },
        "id": "zp_19z2bBKo8",
        "outputId": "0c414b0b-28d4-484a-9913-a6e5ff816f44"
      },
      "source": [
        "dfE5_of.head(3)"
      ],
      "execution_count": 680,
      "outputs": [
        {
          "output_type": "execute_result",
          "data": {
            "text/html": [
              "<div>\n",
              "<style scoped>\n",
              "    .dataframe tbody tr th:only-of-type {\n",
              "        vertical-align: middle;\n",
              "    }\n",
              "\n",
              "    .dataframe tbody tr th {\n",
              "        vertical-align: top;\n",
              "    }\n",
              "\n",
              "    .dataframe thead th {\n",
              "        text-align: right;\n",
              "    }\n",
              "</style>\n",
              "<table border=\"1\" class=\"dataframe\">\n",
              "  <thead>\n",
              "    <tr style=\"text-align: right;\">\n",
              "      <th></th>\n",
              "      <th>Nome</th>\n",
              "      <th>DATA</th>\n",
              "      <th>HORA</th>\n",
              "      <th>Tipo de Desatenção</th>\n",
              "      <th>Velocidade</th>\n",
              "    </tr>\n",
              "  </thead>\n",
              "  <tbody>\n",
              "    <tr>\n",
              "      <th>0</th>\n",
              "      <td>NaN</td>\n",
              "      <td>2019-01-04 11:46:41</td>\n",
              "      <td>11</td>\n",
              "      <td>Olho Fechado</td>\n",
              "      <td>57</td>\n",
              "    </tr>\n",
              "    <tr>\n",
              "      <th>1</th>\n",
              "      <td>NaN</td>\n",
              "      <td>2019-01-11 19:11:04</td>\n",
              "      <td>19</td>\n",
              "      <td>Olho Fechado</td>\n",
              "      <td>48</td>\n",
              "    </tr>\n",
              "    <tr>\n",
              "      <th>16</th>\n",
              "      <td>NaN</td>\n",
              "      <td>2019-02-22 08:39:56</td>\n",
              "      <td>8</td>\n",
              "      <td>Olho Fechado</td>\n",
              "      <td>52</td>\n",
              "    </tr>\n",
              "  </tbody>\n",
              "</table>\n",
              "</div>"
            ],
            "text/plain": [
              "   Nome                DATA  HORA Tipo de Desatenção  Velocidade\n",
              "0   NaN 2019-01-04 11:46:41    11       Olho Fechado          57\n",
              "1   NaN 2019-01-11 19:11:04    19       Olho Fechado          48\n",
              "16  NaN 2019-02-22 08:39:56     8       Olho Fechado          52"
            ]
          },
          "metadata": {
            "tags": []
          },
          "execution_count": 680
        }
      ]
    },
    {
      "cell_type": "code",
      "metadata": {
        "colab": {
          "base_uri": "https://localhost:8080/"
        },
        "id": "c62JfU7Y8KZX",
        "outputId": "d978b68d-acf6-43e9-db86-1d337734c4f4"
      },
      "source": [
        "counts, bins = np.histogram(dfE5_of['HORA'], bins=range(0, 25, 3))\r\n",
        "counts"
      ],
      "execution_count": 681,
      "outputs": [
        {
          "output_type": "execute_result",
          "data": {
            "text/plain": [
              "array([ 991, 1607, 5361, 6699, 6958, 4952,  910,  722])"
            ]
          },
          "metadata": {
            "tags": []
          },
          "execution_count": 681
        }
      ]
    },
    {
      "cell_type": "code",
      "metadata": {
        "colab": {
          "base_uri": "https://localhost:8080/"
        },
        "id": "cruDLI858KZZ",
        "outputId": "21b5a3e9-9920-4728-c0d2-7072af380092"
      },
      "source": [
        "b = np.array(dfE5_final['motoristasE5'])\r\n",
        "b"
      ],
      "execution_count": 682,
      "outputs": [
        {
          "output_type": "execute_result",
          "data": {
            "text/plain": [
              "array([48, 50, 56, 51, 50, 47, 52, 50, 56, 53, 50, 53, 48, 50, 56, 51, 50,\n",
              "       47, 52, 50, 56, 53, 50, 53])"
            ]
          },
          "metadata": {
            "tags": []
          },
          "execution_count": 682
        }
      ]
    },
    {
      "cell_type": "code",
      "metadata": {
        "colab": {
          "base_uri": "https://localhost:8080/"
        },
        "id": "wYPUEF208KZZ",
        "outputId": "bba77447-c6fc-42b8-bdf7-9322bb69dc3e"
      },
      "source": [
        "c = b.reshape((8,3)).sum(axis=1)\r\n",
        "c"
      ],
      "execution_count": 683,
      "outputs": [
        {
          "output_type": "execute_result",
          "data": {
            "text/plain": [
              "array([154, 148, 158, 156, 154, 148, 158, 156])"
            ]
          },
          "metadata": {
            "tags": []
          },
          "execution_count": 683
        }
      ]
    },
    {
      "cell_type": "code",
      "metadata": {
        "colab": {
          "base_uri": "https://localhost:8080/",
          "height": 542
        },
        "id": "yS-dEX9d8KZa",
        "outputId": "8d717e01-619f-410c-855d-8b78ab426948"
      },
      "source": [
        "graphics_plot(y = [counts, counts/c], name = ['Events(raw)', 'Events/Drivers'],\r\n",
        "              title = \"Events company E5 (Olho fechado)\", yaxes_title = [\"Raw\", \"Rate\"])"
      ],
      "execution_count": 684,
      "outputs": [
        {
          "output_type": "display_data",
          "data": {
            "text/html": [
              "<html>\n",
              "<head><meta charset=\"utf-8\" /></head>\n",
              "<body>\n",
              "    <div>            <script src=\"https://cdnjs.cloudflare.com/ajax/libs/mathjax/2.7.5/MathJax.js?config=TeX-AMS-MML_SVG\"></script><script type=\"text/javascript\">if (window.MathJax) {MathJax.Hub.Config({SVG: {font: \"STIX-Web\"}});}</script>                <script type=\"text/javascript\">window.PlotlyConfig = {MathJaxConfig: 'local'};</script>\n",
              "        <script src=\"https://cdn.plot.ly/plotly-latest.min.js\"></script>                <div id=\"62016e60-94e5-47f4-96bc-781de2e6fd57\" class=\"plotly-graph-div\" style=\"height:525px; width:100%;\"></div>            <script type=\"text/javascript\">                                    window.PLOTLYENV=window.PLOTLYENV || {};                                    if (document.getElementById(\"62016e60-94e5-47f4-96bc-781de2e6fd57\")) {                    Plotly.newPlot(                        \"62016e60-94e5-47f4-96bc-781de2e6fd57\",                        [{\"line\": {\"color\": \"rgb(0, 0, 0)\", \"width\": 2}, \"marker\": {\"size\": 7, \"symbol\": \"x\"}, \"mode\": \"lines+markers\", \"name\": \"Events(raw)\", \"type\": \"scatter\", \"x\": [0.0, 3.0, 6.0, 9.0, 12.0, 15.0, 18.0, 21.0, 24.0], \"xaxis\": \"x\", \"y\": [991, 1607, 5361, 6699, 6958, 4952, 910, 722], \"yaxis\": \"y\"}, {\"line\": {\"color\": \"rgb(0, 0, 0)\", \"dash\": \"dash\", \"width\": 2}, \"marker\": {\"size\": 7, \"symbol\": \"star\"}, \"mode\": \"lines+markers\", \"name\": \"Events/Drivers\", \"type\": \"scatter\", \"x\": [0.0, 3.0, 6.0, 9.0, 12.0, 15.0, 18.0, 21.0, 24.0], \"xaxis\": \"x\", \"y\": [6.435064935064935, 10.858108108108109, 33.93037974683544, 42.94230769230769, 45.18181818181818, 33.45945945945946, 5.7594936708860756, 4.628205128205129], \"yaxis\": \"y2\"}],                        {\"legend\": {\"orientation\": \"h\", \"x\": 0.95, \"xanchor\": \"right\", \"y\": 1.01, \"yanchor\": \"bottom\"}, \"paper_bgcolor\": \"rgba(0,0,0,0)\", \"plot_bgcolor\": \"rgba(0,0,0,0)\", \"template\": {\"data\": {\"bar\": [{\"error_x\": {\"color\": \"#2a3f5f\"}, \"error_y\": {\"color\": \"#2a3f5f\"}, \"marker\": {\"line\": {\"color\": \"#E5ECF6\", \"width\": 0.5}}, \"type\": \"bar\"}], \"barpolar\": [{\"marker\": {\"line\": {\"color\": \"#E5ECF6\", \"width\": 0.5}}, \"type\": \"barpolar\"}], \"carpet\": [{\"aaxis\": {\"endlinecolor\": \"#2a3f5f\", \"gridcolor\": \"white\", \"linecolor\": \"white\", \"minorgridcolor\": \"white\", \"startlinecolor\": \"#2a3f5f\"}, \"baxis\": {\"endlinecolor\": \"#2a3f5f\", \"gridcolor\": \"white\", \"linecolor\": \"white\", \"minorgridcolor\": \"white\", \"startlinecolor\": \"#2a3f5f\"}, \"type\": \"carpet\"}], \"choropleth\": [{\"colorbar\": {\"outlinewidth\": 0, \"ticks\": \"\"}, \"type\": \"choropleth\"}], \"contour\": [{\"colorbar\": {\"outlinewidth\": 0, \"ticks\": \"\"}, \"colorscale\": [[0.0, \"#0d0887\"], [0.1111111111111111, \"#46039f\"], [0.2222222222222222, \"#7201a8\"], [0.3333333333333333, \"#9c179e\"], [0.4444444444444444, \"#bd3786\"], [0.5555555555555556, \"#d8576b\"], [0.6666666666666666, \"#ed7953\"], [0.7777777777777778, \"#fb9f3a\"], [0.8888888888888888, \"#fdca26\"], [1.0, \"#f0f921\"]], \"type\": \"contour\"}], \"contourcarpet\": [{\"colorbar\": {\"outlinewidth\": 0, \"ticks\": \"\"}, \"type\": \"contourcarpet\"}], \"heatmap\": [{\"colorbar\": {\"outlinewidth\": 0, \"ticks\": \"\"}, \"colorscale\": [[0.0, \"#0d0887\"], [0.1111111111111111, \"#46039f\"], [0.2222222222222222, \"#7201a8\"], [0.3333333333333333, \"#9c179e\"], [0.4444444444444444, \"#bd3786\"], [0.5555555555555556, \"#d8576b\"], [0.6666666666666666, \"#ed7953\"], [0.7777777777777778, \"#fb9f3a\"], [0.8888888888888888, \"#fdca26\"], [1.0, \"#f0f921\"]], \"type\": \"heatmap\"}], \"heatmapgl\": [{\"colorbar\": {\"outlinewidth\": 0, \"ticks\": \"\"}, \"colorscale\": [[0.0, \"#0d0887\"], [0.1111111111111111, \"#46039f\"], [0.2222222222222222, \"#7201a8\"], [0.3333333333333333, \"#9c179e\"], [0.4444444444444444, \"#bd3786\"], [0.5555555555555556, \"#d8576b\"], [0.6666666666666666, \"#ed7953\"], [0.7777777777777778, \"#fb9f3a\"], [0.8888888888888888, \"#fdca26\"], [1.0, \"#f0f921\"]], \"type\": \"heatmapgl\"}], \"histogram\": [{\"marker\": {\"colorbar\": {\"outlinewidth\": 0, \"ticks\": \"\"}}, \"type\": \"histogram\"}], \"histogram2d\": [{\"colorbar\": {\"outlinewidth\": 0, \"ticks\": \"\"}, \"colorscale\": [[0.0, \"#0d0887\"], [0.1111111111111111, \"#46039f\"], [0.2222222222222222, \"#7201a8\"], [0.3333333333333333, \"#9c179e\"], [0.4444444444444444, \"#bd3786\"], [0.5555555555555556, \"#d8576b\"], [0.6666666666666666, \"#ed7953\"], [0.7777777777777778, \"#fb9f3a\"], [0.8888888888888888, \"#fdca26\"], [1.0, \"#f0f921\"]], \"type\": \"histogram2d\"}], \"histogram2dcontour\": [{\"colorbar\": {\"outlinewidth\": 0, \"ticks\": \"\"}, \"colorscale\": [[0.0, \"#0d0887\"], [0.1111111111111111, \"#46039f\"], [0.2222222222222222, \"#7201a8\"], [0.3333333333333333, \"#9c179e\"], [0.4444444444444444, \"#bd3786\"], [0.5555555555555556, \"#d8576b\"], [0.6666666666666666, \"#ed7953\"], [0.7777777777777778, \"#fb9f3a\"], [0.8888888888888888, \"#fdca26\"], [1.0, \"#f0f921\"]], \"type\": \"histogram2dcontour\"}], \"mesh3d\": [{\"colorbar\": {\"outlinewidth\": 0, \"ticks\": \"\"}, \"type\": \"mesh3d\"}], \"parcoords\": [{\"line\": {\"colorbar\": {\"outlinewidth\": 0, \"ticks\": \"\"}}, \"type\": \"parcoords\"}], \"pie\": [{\"automargin\": true, \"type\": \"pie\"}], \"scatter\": [{\"marker\": {\"colorbar\": {\"outlinewidth\": 0, \"ticks\": \"\"}}, \"type\": \"scatter\"}], \"scatter3d\": [{\"line\": {\"colorbar\": {\"outlinewidth\": 0, \"ticks\": \"\"}}, \"marker\": {\"colorbar\": {\"outlinewidth\": 0, \"ticks\": \"\"}}, \"type\": \"scatter3d\"}], \"scattercarpet\": [{\"marker\": {\"colorbar\": {\"outlinewidth\": 0, \"ticks\": \"\"}}, \"type\": \"scattercarpet\"}], \"scattergeo\": [{\"marker\": {\"colorbar\": {\"outlinewidth\": 0, \"ticks\": \"\"}}, \"type\": \"scattergeo\"}], \"scattergl\": [{\"marker\": {\"colorbar\": {\"outlinewidth\": 0, \"ticks\": \"\"}}, \"type\": \"scattergl\"}], \"scattermapbox\": [{\"marker\": {\"colorbar\": {\"outlinewidth\": 0, \"ticks\": \"\"}}, \"type\": \"scattermapbox\"}], \"scatterpolar\": [{\"marker\": {\"colorbar\": {\"outlinewidth\": 0, \"ticks\": \"\"}}, \"type\": \"scatterpolar\"}], \"scatterpolargl\": [{\"marker\": {\"colorbar\": {\"outlinewidth\": 0, \"ticks\": \"\"}}, \"type\": \"scatterpolargl\"}], \"scatterternary\": [{\"marker\": {\"colorbar\": {\"outlinewidth\": 0, \"ticks\": \"\"}}, \"type\": \"scatterternary\"}], \"surface\": [{\"colorbar\": {\"outlinewidth\": 0, \"ticks\": \"\"}, \"colorscale\": [[0.0, \"#0d0887\"], [0.1111111111111111, \"#46039f\"], [0.2222222222222222, \"#7201a8\"], [0.3333333333333333, \"#9c179e\"], [0.4444444444444444, \"#bd3786\"], [0.5555555555555556, \"#d8576b\"], [0.6666666666666666, \"#ed7953\"], [0.7777777777777778, \"#fb9f3a\"], [0.8888888888888888, \"#fdca26\"], [1.0, \"#f0f921\"]], \"type\": \"surface\"}], \"table\": [{\"cells\": {\"fill\": {\"color\": \"#EBF0F8\"}, \"line\": {\"color\": \"white\"}}, \"header\": {\"fill\": {\"color\": \"#C8D4E3\"}, \"line\": {\"color\": \"white\"}}, \"type\": \"table\"}]}, \"layout\": {\"annotationdefaults\": {\"arrowcolor\": \"#2a3f5f\", \"arrowhead\": 0, \"arrowwidth\": 1}, \"autotypenumbers\": \"strict\", \"coloraxis\": {\"colorbar\": {\"outlinewidth\": 0, \"ticks\": \"\"}}, \"colorscale\": {\"diverging\": [[0, \"#8e0152\"], [0.1, \"#c51b7d\"], [0.2, \"#de77ae\"], [0.3, \"#f1b6da\"], [0.4, \"#fde0ef\"], [0.5, \"#f7f7f7\"], [0.6, \"#e6f5d0\"], [0.7, \"#b8e186\"], [0.8, \"#7fbc41\"], [0.9, \"#4d9221\"], [1, \"#276419\"]], \"sequential\": [[0.0, \"#0d0887\"], [0.1111111111111111, \"#46039f\"], [0.2222222222222222, \"#7201a8\"], [0.3333333333333333, \"#9c179e\"], [0.4444444444444444, \"#bd3786\"], [0.5555555555555556, \"#d8576b\"], [0.6666666666666666, \"#ed7953\"], [0.7777777777777778, \"#fb9f3a\"], [0.8888888888888888, \"#fdca26\"], [1.0, \"#f0f921\"]], \"sequentialminus\": [[0.0, \"#0d0887\"], [0.1111111111111111, \"#46039f\"], [0.2222222222222222, \"#7201a8\"], [0.3333333333333333, \"#9c179e\"], [0.4444444444444444, \"#bd3786\"], [0.5555555555555556, \"#d8576b\"], [0.6666666666666666, \"#ed7953\"], [0.7777777777777778, \"#fb9f3a\"], [0.8888888888888888, \"#fdca26\"], [1.0, \"#f0f921\"]]}, \"colorway\": [\"#636efa\", \"#EF553B\", \"#00cc96\", \"#ab63fa\", \"#FFA15A\", \"#19d3f3\", \"#FF6692\", \"#B6E880\", \"#FF97FF\", \"#FECB52\"], \"font\": {\"color\": \"#2a3f5f\"}, \"geo\": {\"bgcolor\": \"white\", \"lakecolor\": \"white\", \"landcolor\": \"#E5ECF6\", \"showlakes\": true, \"showland\": true, \"subunitcolor\": \"white\"}, \"hoverlabel\": {\"align\": \"left\"}, \"hovermode\": \"closest\", \"mapbox\": {\"style\": \"light\"}, \"paper_bgcolor\": \"white\", \"plot_bgcolor\": \"#E5ECF6\", \"polar\": {\"angularaxis\": {\"gridcolor\": \"white\", \"linecolor\": \"white\", \"ticks\": \"\"}, \"bgcolor\": \"#E5ECF6\", \"radialaxis\": {\"gridcolor\": \"white\", \"linecolor\": \"white\", \"ticks\": \"\"}}, \"scene\": {\"xaxis\": {\"backgroundcolor\": \"#E5ECF6\", \"gridcolor\": \"white\", \"gridwidth\": 2, \"linecolor\": \"white\", \"showbackground\": true, \"ticks\": \"\", \"zerolinecolor\": \"white\"}, \"yaxis\": {\"backgroundcolor\": \"#E5ECF6\", \"gridcolor\": \"white\", \"gridwidth\": 2, \"linecolor\": \"white\", \"showbackground\": true, \"ticks\": \"\", \"zerolinecolor\": \"white\"}, \"zaxis\": {\"backgroundcolor\": \"#E5ECF6\", \"gridcolor\": \"white\", \"gridwidth\": 2, \"linecolor\": \"white\", \"showbackground\": true, \"ticks\": \"\", \"zerolinecolor\": \"white\"}}, \"shapedefaults\": {\"line\": {\"color\": \"#2a3f5f\"}}, \"ternary\": {\"aaxis\": {\"gridcolor\": \"white\", \"linecolor\": \"white\", \"ticks\": \"\"}, \"baxis\": {\"gridcolor\": \"white\", \"linecolor\": \"white\", \"ticks\": \"\"}, \"bgcolor\": \"#E5ECF6\", \"caxis\": {\"gridcolor\": \"white\", \"linecolor\": \"white\", \"ticks\": \"\"}}, \"title\": {\"x\": 0.05}, \"xaxis\": {\"automargin\": true, \"gridcolor\": \"white\", \"linecolor\": \"white\", \"ticks\": \"\", \"title\": {\"standoff\": 15}, \"zerolinecolor\": \"white\", \"zerolinewidth\": 2}, \"yaxis\": {\"automargin\": true, \"gridcolor\": \"white\", \"linecolor\": \"white\", \"ticks\": \"\", \"title\": {\"standoff\": 15}, \"zerolinecolor\": \"white\", \"zerolinewidth\": 2}}}, \"title\": {\"text\": \"Events company E5 (Olho fechado)\"}, \"xaxis\": {\"anchor\": \"y\", \"domain\": [0.0, 0.94], \"dtick\": 3, \"gridcolor\": \"black\", \"gridwidth\": 1, \"linecolor\": \"black\", \"linewidth\": 2, \"mirror\": true, \"showgrid\": true, \"showline\": true, \"tick0\": 0, \"tickmode\": \"linear\", \"title\": {\"text\": \"Time of day\"}}, \"yaxis\": {\"anchor\": \"x\", \"domain\": [0.0, 1.0], \"gridcolor\": \"black\", \"gridwidth\": 1, \"linecolor\": \"black\", \"linewidth\": 2, \"mirror\": true, \"showgrid\": false, \"showline\": true, \"title\": {\"text\": \"<b>Raw</b>\"}}, \"yaxis2\": {\"anchor\": \"x\", \"gridcolor\": \"black\", \"gridwidth\": 1, \"linecolor\": \"black\", \"linewidth\": 2, \"mirror\": true, \"overlaying\": \"y\", \"showgrid\": false, \"showline\": true, \"side\": \"right\", \"title\": {\"text\": \"<b>Rate</b>\"}}},                        {\"responsive\": true}                    ).then(function(){\n",
              "                            \n",
              "var gd = document.getElementById('62016e60-94e5-47f4-96bc-781de2e6fd57');\n",
              "var x = new MutationObserver(function (mutations, observer) {{\n",
              "        var display = window.getComputedStyle(gd).display;\n",
              "        if (!display || display === 'none') {{\n",
              "            console.log([gd, 'removed!']);\n",
              "            Plotly.purge(gd);\n",
              "            observer.disconnect();\n",
              "        }}\n",
              "}});\n",
              "\n",
              "// Listen for the removal of the full notebook cells\n",
              "var notebookContainer = gd.closest('#notebook-container');\n",
              "if (notebookContainer) {{\n",
              "    x.observe(notebookContainer, {childList: true});\n",
              "}}\n",
              "\n",
              "// Listen for the clearing of the current output cell\n",
              "var outputEl = gd.closest('.output');\n",
              "if (outputEl) {{\n",
              "    x.observe(outputEl, {childList: true});\n",
              "}}\n",
              "\n",
              "                        })                };                            </script>        </div>\n",
              "</body>\n",
              "</html>"
            ]
          },
          "metadata": {
            "tags": []
          }
        }
      ]
    },
    {
      "cell_type": "code",
      "metadata": {
        "colab": {
          "base_uri": "https://localhost:8080/",
          "height": 142
        },
        "id": "oYgdsxHNCMW4",
        "outputId": "246276f3-88b4-4b85-f6c7-3269a5f177c1"
      },
      "source": [
        "dfE5_b.head(3)"
      ],
      "execution_count": 685,
      "outputs": [
        {
          "output_type": "execute_result",
          "data": {
            "text/html": [
              "<div>\n",
              "<style scoped>\n",
              "    .dataframe tbody tr th:only-of-type {\n",
              "        vertical-align: middle;\n",
              "    }\n",
              "\n",
              "    .dataframe tbody tr th {\n",
              "        vertical-align: top;\n",
              "    }\n",
              "\n",
              "    .dataframe thead th {\n",
              "        text-align: right;\n",
              "    }\n",
              "</style>\n",
              "<table border=\"1\" class=\"dataframe\">\n",
              "  <thead>\n",
              "    <tr style=\"text-align: right;\">\n",
              "      <th></th>\n",
              "      <th>Nome</th>\n",
              "      <th>DATA</th>\n",
              "      <th>HORA</th>\n",
              "      <th>Tipo de Desatenção</th>\n",
              "      <th>Velocidade</th>\n",
              "    </tr>\n",
              "  </thead>\n",
              "  <tbody>\n",
              "    <tr>\n",
              "      <th>2</th>\n",
              "      <td>NaN</td>\n",
              "      <td>2019-02-20 02:49:08</td>\n",
              "      <td>2</td>\n",
              "      <td>Bocejo</td>\n",
              "      <td>58</td>\n",
              "    </tr>\n",
              "    <tr>\n",
              "      <th>3</th>\n",
              "      <td>NaN</td>\n",
              "      <td>2019-02-21 05:40:30</td>\n",
              "      <td>5</td>\n",
              "      <td>Bocejo</td>\n",
              "      <td>49</td>\n",
              "    </tr>\n",
              "    <tr>\n",
              "      <th>4</th>\n",
              "      <td>NaN</td>\n",
              "      <td>2019-02-21 05:54:02</td>\n",
              "      <td>5</td>\n",
              "      <td>Bocejo</td>\n",
              "      <td>41</td>\n",
              "    </tr>\n",
              "  </tbody>\n",
              "</table>\n",
              "</div>"
            ],
            "text/plain": [
              "  Nome                DATA  HORA Tipo de Desatenção  Velocidade\n",
              "2  NaN 2019-02-20 02:49:08     2             Bocejo          58\n",
              "3  NaN 2019-02-21 05:40:30     5             Bocejo          49\n",
              "4  NaN 2019-02-21 05:54:02     5             Bocejo          41"
            ]
          },
          "metadata": {
            "tags": []
          },
          "execution_count": 685
        }
      ]
    },
    {
      "cell_type": "code",
      "metadata": {
        "colab": {
          "base_uri": "https://localhost:8080/"
        },
        "id": "HUFD-pEuC339",
        "outputId": "85143335-f0a8-416f-ac76-254cfdf57fbc"
      },
      "source": [
        "np.histogram(dfE5_b['HORA'], bins=range(0, 25, 1))"
      ],
      "execution_count": 686,
      "outputs": [
        {
          "output_type": "execute_result",
          "data": {
            "text/plain": [
              "(array([1915, 2133, 2342, 2372, 2362, 2419, 2564, 2122, 1715, 1315, 1199,\n",
              "        1248, 1691, 1757, 1649, 1408, 1190, 1257, 1384, 1187, 1191, 1322,\n",
              "        1583, 1575]),\n",
              " array([ 0,  1,  2,  3,  4,  5,  6,  7,  8,  9, 10, 11, 12, 13, 14, 15, 16,\n",
              "        17, 18, 19, 20, 21, 22, 23, 24]))"
            ]
          },
          "metadata": {
            "tags": []
          },
          "execution_count": 686
        }
      ]
    },
    {
      "cell_type": "code",
      "metadata": {
        "colab": {
          "base_uri": "https://localhost:8080/"
        },
        "id": "8tmouNlrCMXE",
        "outputId": "0468b5fc-b1a5-42d2-9f61-a379b4d385f8"
      },
      "source": [
        "counts, bins = np.histogram(dfE5_b['HORA'], bins=range(0, 25, 1))\r\n",
        "counts"
      ],
      "execution_count": 687,
      "outputs": [
        {
          "output_type": "execute_result",
          "data": {
            "text/plain": [
              "array([1915, 2133, 2342, 2372, 2362, 2419, 2564, 2122, 1715, 1315, 1199,\n",
              "       1248, 1691, 1757, 1649, 1408, 1190, 1257, 1384, 1187, 1191, 1322,\n",
              "       1583, 1575])"
            ]
          },
          "metadata": {
            "tags": []
          },
          "execution_count": 687
        }
      ]
    },
    {
      "cell_type": "code",
      "metadata": {
        "colab": {
          "base_uri": "https://localhost:8080/"
        },
        "id": "XarDrsI4Cpqc",
        "outputId": "76518736-4388-41a0-de90-7ffb7806d3d8"
      },
      "source": [
        "b = np.roll(counts, 1)\r\n",
        "counts = b.reshape((8,3)).sum(axis=1)\r\n",
        "counts"
      ],
      "execution_count": 688,
      "outputs": [
        {
          "output_type": "execute_result",
          "data": {
            "text/plain": [
              "array([5623, 7076, 7105, 4229, 4696, 4247, 3828, 4096])"
            ]
          },
          "metadata": {
            "tags": []
          },
          "execution_count": 688
        }
      ]
    },
    {
      "cell_type": "code",
      "metadata": {
        "colab": {
          "base_uri": "https://localhost:8080/"
        },
        "id": "vsiN1dDbCMXE",
        "outputId": "dcf7084a-bcca-4b28-d5b9-4d9aa7b249de"
      },
      "source": [
        "b = np.array(dfE5_final['motoristasE5'])\r\n",
        "b = np.roll(b, 1)\r\n",
        "b"
      ],
      "execution_count": 689,
      "outputs": [
        {
          "output_type": "execute_result",
          "data": {
            "text/plain": [
              "array([53, 48, 50, 56, 51, 50, 47, 52, 50, 56, 53, 50, 53, 48, 50, 56, 51,\n",
              "       50, 47, 52, 50, 56, 53, 50])"
            ]
          },
          "metadata": {
            "tags": []
          },
          "execution_count": 689
        }
      ]
    },
    {
      "cell_type": "code",
      "metadata": {
        "colab": {
          "base_uri": "https://localhost:8080/"
        },
        "id": "_72-q8SHCMXF",
        "outputId": "01d1b005-b867-4518-d793-b69980399aeb"
      },
      "source": [
        "c = b.reshape((8,3)).sum(axis=1)\r\n",
        "c"
      ],
      "execution_count": 690,
      "outputs": [
        {
          "output_type": "execute_result",
          "data": {
            "text/plain": [
              "array([151, 157, 149, 159, 151, 157, 149, 159])"
            ]
          },
          "metadata": {
            "tags": []
          },
          "execution_count": 690
        }
      ]
    },
    {
      "cell_type": "code",
      "metadata": {
        "colab": {
          "base_uri": "https://localhost:8080/",
          "height": 542
        },
        "id": "qi6_wkXdCMXF",
        "outputId": "52481399-69e1-42dc-bb3b-6fa1d3d6c11e"
      },
      "source": [
        "graphics_plot(y = [counts, counts/c], name = ['Events(raw)', 'Events/Drivers'],\r\n",
        "              title = \"Events company E5 (Bocejo)\", yaxes_title = [\"Raw\", \"Rate\"])"
      ],
      "execution_count": 691,
      "outputs": [
        {
          "output_type": "display_data",
          "data": {
            "text/html": [
              "<html>\n",
              "<head><meta charset=\"utf-8\" /></head>\n",
              "<body>\n",
              "    <div>            <script src=\"https://cdnjs.cloudflare.com/ajax/libs/mathjax/2.7.5/MathJax.js?config=TeX-AMS-MML_SVG\"></script><script type=\"text/javascript\">if (window.MathJax) {MathJax.Hub.Config({SVG: {font: \"STIX-Web\"}});}</script>                <script type=\"text/javascript\">window.PlotlyConfig = {MathJaxConfig: 'local'};</script>\n",
              "        <script src=\"https://cdn.plot.ly/plotly-latest.min.js\"></script>                <div id=\"87d0e648-aa3d-4ab2-90e0-27f0e7d65d6b\" class=\"plotly-graph-div\" style=\"height:525px; width:100%;\"></div>            <script type=\"text/javascript\">                                    window.PLOTLYENV=window.PLOTLYENV || {};                                    if (document.getElementById(\"87d0e648-aa3d-4ab2-90e0-27f0e7d65d6b\")) {                    Plotly.newPlot(                        \"87d0e648-aa3d-4ab2-90e0-27f0e7d65d6b\",                        [{\"line\": {\"color\": \"rgb(0, 0, 0)\", \"width\": 2}, \"marker\": {\"size\": 7, \"symbol\": \"x\"}, \"mode\": \"lines+markers\", \"name\": \"Events(raw)\", \"type\": \"scatter\", \"x\": [0.0, 3.0, 6.0, 9.0, 12.0, 15.0, 18.0, 21.0, 24.0], \"xaxis\": \"x\", \"y\": [5623, 7076, 7105, 4229, 4696, 4247, 3828, 4096], \"yaxis\": \"y\"}, {\"line\": {\"color\": \"rgb(0, 0, 0)\", \"dash\": \"dash\", \"width\": 2}, \"marker\": {\"size\": 7, \"symbol\": \"star\"}, \"mode\": \"lines+markers\", \"name\": \"Events/Drivers\", \"type\": \"scatter\", \"x\": [0.0, 3.0, 6.0, 9.0, 12.0, 15.0, 18.0, 21.0, 24.0], \"xaxis\": \"x\", \"y\": [37.23841059602649, 45.07006369426752, 47.68456375838926, 26.59748427672956, 31.09933774834437, 27.05095541401274, 25.691275167785236, 25.761006289308177], \"yaxis\": \"y2\"}],                        {\"legend\": {\"orientation\": \"h\", \"x\": 0.95, \"xanchor\": \"right\", \"y\": 1.01, \"yanchor\": \"bottom\"}, \"paper_bgcolor\": \"rgba(0,0,0,0)\", \"plot_bgcolor\": \"rgba(0,0,0,0)\", \"template\": {\"data\": {\"bar\": [{\"error_x\": {\"color\": \"#2a3f5f\"}, \"error_y\": {\"color\": \"#2a3f5f\"}, \"marker\": {\"line\": {\"color\": \"#E5ECF6\", \"width\": 0.5}}, \"type\": \"bar\"}], \"barpolar\": [{\"marker\": {\"line\": {\"color\": \"#E5ECF6\", \"width\": 0.5}}, \"type\": \"barpolar\"}], \"carpet\": [{\"aaxis\": {\"endlinecolor\": \"#2a3f5f\", \"gridcolor\": \"white\", \"linecolor\": \"white\", \"minorgridcolor\": \"white\", \"startlinecolor\": \"#2a3f5f\"}, \"baxis\": {\"endlinecolor\": \"#2a3f5f\", \"gridcolor\": \"white\", \"linecolor\": \"white\", \"minorgridcolor\": \"white\", \"startlinecolor\": \"#2a3f5f\"}, \"type\": \"carpet\"}], \"choropleth\": [{\"colorbar\": {\"outlinewidth\": 0, \"ticks\": \"\"}, \"type\": \"choropleth\"}], \"contour\": [{\"colorbar\": {\"outlinewidth\": 0, \"ticks\": \"\"}, \"colorscale\": [[0.0, \"#0d0887\"], [0.1111111111111111, \"#46039f\"], [0.2222222222222222, \"#7201a8\"], [0.3333333333333333, \"#9c179e\"], [0.4444444444444444, \"#bd3786\"], [0.5555555555555556, \"#d8576b\"], [0.6666666666666666, \"#ed7953\"], [0.7777777777777778, \"#fb9f3a\"], [0.8888888888888888, \"#fdca26\"], [1.0, \"#f0f921\"]], \"type\": \"contour\"}], \"contourcarpet\": [{\"colorbar\": {\"outlinewidth\": 0, \"ticks\": \"\"}, \"type\": \"contourcarpet\"}], \"heatmap\": [{\"colorbar\": {\"outlinewidth\": 0, \"ticks\": \"\"}, \"colorscale\": [[0.0, \"#0d0887\"], [0.1111111111111111, \"#46039f\"], [0.2222222222222222, \"#7201a8\"], [0.3333333333333333, \"#9c179e\"], [0.4444444444444444, \"#bd3786\"], [0.5555555555555556, \"#d8576b\"], [0.6666666666666666, \"#ed7953\"], [0.7777777777777778, \"#fb9f3a\"], [0.8888888888888888, \"#fdca26\"], [1.0, \"#f0f921\"]], \"type\": \"heatmap\"}], \"heatmapgl\": [{\"colorbar\": {\"outlinewidth\": 0, \"ticks\": \"\"}, \"colorscale\": [[0.0, \"#0d0887\"], [0.1111111111111111, \"#46039f\"], [0.2222222222222222, \"#7201a8\"], [0.3333333333333333, \"#9c179e\"], [0.4444444444444444, \"#bd3786\"], [0.5555555555555556, \"#d8576b\"], [0.6666666666666666, \"#ed7953\"], [0.7777777777777778, \"#fb9f3a\"], [0.8888888888888888, \"#fdca26\"], [1.0, \"#f0f921\"]], \"type\": \"heatmapgl\"}], \"histogram\": [{\"marker\": {\"colorbar\": {\"outlinewidth\": 0, \"ticks\": \"\"}}, \"type\": \"histogram\"}], \"histogram2d\": [{\"colorbar\": {\"outlinewidth\": 0, \"ticks\": \"\"}, \"colorscale\": [[0.0, \"#0d0887\"], [0.1111111111111111, \"#46039f\"], [0.2222222222222222, \"#7201a8\"], [0.3333333333333333, \"#9c179e\"], [0.4444444444444444, \"#bd3786\"], [0.5555555555555556, \"#d8576b\"], [0.6666666666666666, \"#ed7953\"], [0.7777777777777778, \"#fb9f3a\"], [0.8888888888888888, \"#fdca26\"], [1.0, \"#f0f921\"]], \"type\": \"histogram2d\"}], \"histogram2dcontour\": [{\"colorbar\": {\"outlinewidth\": 0, \"ticks\": \"\"}, \"colorscale\": [[0.0, \"#0d0887\"], [0.1111111111111111, \"#46039f\"], [0.2222222222222222, \"#7201a8\"], [0.3333333333333333, \"#9c179e\"], [0.4444444444444444, \"#bd3786\"], [0.5555555555555556, \"#d8576b\"], [0.6666666666666666, \"#ed7953\"], [0.7777777777777778, \"#fb9f3a\"], [0.8888888888888888, \"#fdca26\"], [1.0, \"#f0f921\"]], \"type\": \"histogram2dcontour\"}], \"mesh3d\": [{\"colorbar\": {\"outlinewidth\": 0, \"ticks\": \"\"}, \"type\": \"mesh3d\"}], \"parcoords\": [{\"line\": {\"colorbar\": {\"outlinewidth\": 0, \"ticks\": \"\"}}, \"type\": \"parcoords\"}], \"pie\": [{\"automargin\": true, \"type\": \"pie\"}], \"scatter\": [{\"marker\": {\"colorbar\": {\"outlinewidth\": 0, \"ticks\": \"\"}}, \"type\": \"scatter\"}], \"scatter3d\": [{\"line\": {\"colorbar\": {\"outlinewidth\": 0, \"ticks\": \"\"}}, \"marker\": {\"colorbar\": {\"outlinewidth\": 0, \"ticks\": \"\"}}, \"type\": \"scatter3d\"}], \"scattercarpet\": [{\"marker\": {\"colorbar\": {\"outlinewidth\": 0, \"ticks\": \"\"}}, \"type\": \"scattercarpet\"}], \"scattergeo\": [{\"marker\": {\"colorbar\": {\"outlinewidth\": 0, \"ticks\": \"\"}}, \"type\": \"scattergeo\"}], \"scattergl\": [{\"marker\": {\"colorbar\": {\"outlinewidth\": 0, \"ticks\": \"\"}}, \"type\": \"scattergl\"}], \"scattermapbox\": [{\"marker\": {\"colorbar\": {\"outlinewidth\": 0, \"ticks\": \"\"}}, \"type\": \"scattermapbox\"}], \"scatterpolar\": [{\"marker\": {\"colorbar\": {\"outlinewidth\": 0, \"ticks\": \"\"}}, \"type\": \"scatterpolar\"}], \"scatterpolargl\": [{\"marker\": {\"colorbar\": {\"outlinewidth\": 0, \"ticks\": \"\"}}, \"type\": \"scatterpolargl\"}], \"scatterternary\": [{\"marker\": {\"colorbar\": {\"outlinewidth\": 0, \"ticks\": \"\"}}, \"type\": \"scatterternary\"}], \"surface\": [{\"colorbar\": {\"outlinewidth\": 0, \"ticks\": \"\"}, \"colorscale\": [[0.0, \"#0d0887\"], [0.1111111111111111, \"#46039f\"], [0.2222222222222222, \"#7201a8\"], [0.3333333333333333, \"#9c179e\"], [0.4444444444444444, \"#bd3786\"], [0.5555555555555556, \"#d8576b\"], [0.6666666666666666, \"#ed7953\"], [0.7777777777777778, \"#fb9f3a\"], [0.8888888888888888, \"#fdca26\"], [1.0, \"#f0f921\"]], \"type\": \"surface\"}], \"table\": [{\"cells\": {\"fill\": {\"color\": \"#EBF0F8\"}, \"line\": {\"color\": \"white\"}}, \"header\": {\"fill\": {\"color\": \"#C8D4E3\"}, \"line\": {\"color\": \"white\"}}, \"type\": \"table\"}]}, \"layout\": {\"annotationdefaults\": {\"arrowcolor\": \"#2a3f5f\", \"arrowhead\": 0, \"arrowwidth\": 1}, \"autotypenumbers\": \"strict\", \"coloraxis\": {\"colorbar\": {\"outlinewidth\": 0, \"ticks\": \"\"}}, \"colorscale\": {\"diverging\": [[0, \"#8e0152\"], [0.1, \"#c51b7d\"], [0.2, \"#de77ae\"], [0.3, \"#f1b6da\"], [0.4, \"#fde0ef\"], [0.5, \"#f7f7f7\"], [0.6, \"#e6f5d0\"], [0.7, \"#b8e186\"], [0.8, \"#7fbc41\"], [0.9, \"#4d9221\"], [1, \"#276419\"]], \"sequential\": [[0.0, \"#0d0887\"], [0.1111111111111111, \"#46039f\"], [0.2222222222222222, \"#7201a8\"], [0.3333333333333333, \"#9c179e\"], [0.4444444444444444, \"#bd3786\"], [0.5555555555555556, \"#d8576b\"], [0.6666666666666666, \"#ed7953\"], [0.7777777777777778, \"#fb9f3a\"], [0.8888888888888888, \"#fdca26\"], [1.0, \"#f0f921\"]], \"sequentialminus\": [[0.0, \"#0d0887\"], [0.1111111111111111, \"#46039f\"], [0.2222222222222222, \"#7201a8\"], [0.3333333333333333, \"#9c179e\"], [0.4444444444444444, \"#bd3786\"], [0.5555555555555556, \"#d8576b\"], [0.6666666666666666, \"#ed7953\"], [0.7777777777777778, \"#fb9f3a\"], [0.8888888888888888, \"#fdca26\"], [1.0, \"#f0f921\"]]}, \"colorway\": [\"#636efa\", \"#EF553B\", \"#00cc96\", \"#ab63fa\", \"#FFA15A\", \"#19d3f3\", \"#FF6692\", \"#B6E880\", \"#FF97FF\", \"#FECB52\"], \"font\": {\"color\": \"#2a3f5f\"}, \"geo\": {\"bgcolor\": \"white\", \"lakecolor\": \"white\", \"landcolor\": \"#E5ECF6\", \"showlakes\": true, \"showland\": true, \"subunitcolor\": \"white\"}, \"hoverlabel\": {\"align\": \"left\"}, \"hovermode\": \"closest\", \"mapbox\": {\"style\": \"light\"}, \"paper_bgcolor\": \"white\", \"plot_bgcolor\": \"#E5ECF6\", \"polar\": {\"angularaxis\": {\"gridcolor\": \"white\", \"linecolor\": \"white\", \"ticks\": \"\"}, \"bgcolor\": \"#E5ECF6\", \"radialaxis\": {\"gridcolor\": \"white\", \"linecolor\": \"white\", \"ticks\": \"\"}}, \"scene\": {\"xaxis\": {\"backgroundcolor\": \"#E5ECF6\", \"gridcolor\": \"white\", \"gridwidth\": 2, \"linecolor\": \"white\", \"showbackground\": true, \"ticks\": \"\", \"zerolinecolor\": \"white\"}, \"yaxis\": {\"backgroundcolor\": \"#E5ECF6\", \"gridcolor\": \"white\", \"gridwidth\": 2, \"linecolor\": \"white\", \"showbackground\": true, \"ticks\": \"\", \"zerolinecolor\": \"white\"}, \"zaxis\": {\"backgroundcolor\": \"#E5ECF6\", \"gridcolor\": \"white\", \"gridwidth\": 2, \"linecolor\": \"white\", \"showbackground\": true, \"ticks\": \"\", \"zerolinecolor\": \"white\"}}, \"shapedefaults\": {\"line\": {\"color\": \"#2a3f5f\"}}, \"ternary\": {\"aaxis\": {\"gridcolor\": \"white\", \"linecolor\": \"white\", \"ticks\": \"\"}, \"baxis\": {\"gridcolor\": \"white\", \"linecolor\": \"white\", \"ticks\": \"\"}, \"bgcolor\": \"#E5ECF6\", \"caxis\": {\"gridcolor\": \"white\", \"linecolor\": \"white\", \"ticks\": \"\"}}, \"title\": {\"x\": 0.05}, \"xaxis\": {\"automargin\": true, \"gridcolor\": \"white\", \"linecolor\": \"white\", \"ticks\": \"\", \"title\": {\"standoff\": 15}, \"zerolinecolor\": \"white\", \"zerolinewidth\": 2}, \"yaxis\": {\"automargin\": true, \"gridcolor\": \"white\", \"linecolor\": \"white\", \"ticks\": \"\", \"title\": {\"standoff\": 15}, \"zerolinecolor\": \"white\", \"zerolinewidth\": 2}}}, \"title\": {\"text\": \"Events company E5 (Bocejo)\"}, \"xaxis\": {\"anchor\": \"y\", \"domain\": [0.0, 0.94], \"dtick\": 3, \"gridcolor\": \"black\", \"gridwidth\": 1, \"linecolor\": \"black\", \"linewidth\": 2, \"mirror\": true, \"showgrid\": true, \"showline\": true, \"tick0\": 0, \"tickmode\": \"linear\", \"title\": {\"text\": \"Time of day\"}}, \"yaxis\": {\"anchor\": \"x\", \"domain\": [0.0, 1.0], \"gridcolor\": \"black\", \"gridwidth\": 1, \"linecolor\": \"black\", \"linewidth\": 2, \"mirror\": true, \"showgrid\": false, \"showline\": true, \"title\": {\"text\": \"<b>Raw</b>\"}}, \"yaxis2\": {\"anchor\": \"x\", \"gridcolor\": \"black\", \"gridwidth\": 1, \"linecolor\": \"black\", \"linewidth\": 2, \"mirror\": true, \"overlaying\": \"y\", \"showgrid\": false, \"showline\": true, \"side\": \"right\", \"title\": {\"text\": \"<b>Rate</b>\"}}},                        {\"responsive\": true}                    ).then(function(){\n",
              "                            \n",
              "var gd = document.getElementById('87d0e648-aa3d-4ab2-90e0-27f0e7d65d6b');\n",
              "var x = new MutationObserver(function (mutations, observer) {{\n",
              "        var display = window.getComputedStyle(gd).display;\n",
              "        if (!display || display === 'none') {{\n",
              "            console.log([gd, 'removed!']);\n",
              "            Plotly.purge(gd);\n",
              "            observer.disconnect();\n",
              "        }}\n",
              "}});\n",
              "\n",
              "// Listen for the removal of the full notebook cells\n",
              "var notebookContainer = gd.closest('#notebook-container');\n",
              "if (notebookContainer) {{\n",
              "    x.observe(notebookContainer, {childList: true});\n",
              "}}\n",
              "\n",
              "// Listen for the clearing of the current output cell\n",
              "var outputEl = gd.closest('.output');\n",
              "if (outputEl) {{\n",
              "    x.observe(outputEl, {childList: true});\n",
              "}}\n",
              "\n",
              "                        })                };                            </script>        </div>\n",
              "</body>\n",
              "</html>"
            ]
          },
          "metadata": {
            "tags": []
          }
        }
      ]
    },
    {
      "cell_type": "markdown",
      "metadata": {
        "id": "XFjFTBmnWXI9"
      },
      "source": [
        "#**E9**"
      ]
    },
    {
      "cell_type": "markdown",
      "metadata": {
        "id": "WxIJsIREAgs6"
      },
      "source": [
        "**Motoristas por hora**"
      ]
    },
    {
      "cell_type": "code",
      "metadata": {
        "colab": {
          "base_uri": "https://localhost:8080/",
          "height": 204
        },
        "id": "5LfB-DEyYBmw",
        "outputId": "aeefe8af-d30f-474c-88b6-e7778ef6a2ac"
      },
      "source": [
        "dfInfE9.head()"
      ],
      "execution_count": 611,
      "outputs": [
        {
          "output_type": "execute_result",
          "data": {
            "text/html": [
              "<div>\n",
              "<style scoped>\n",
              "    .dataframe tbody tr th:only-of-type {\n",
              "        vertical-align: middle;\n",
              "    }\n",
              "\n",
              "    .dataframe tbody tr th {\n",
              "        vertical-align: top;\n",
              "    }\n",
              "\n",
              "    .dataframe thead th {\n",
              "        text-align: right;\n",
              "    }\n",
              "</style>\n",
              "<table border=\"1\" class=\"dataframe\">\n",
              "  <thead>\n",
              "    <tr style=\"text-align: right;\">\n",
              "      <th></th>\n",
              "      <th>Empresa</th>\n",
              "      <th>Escala</th>\n",
              "      <th>Jornada</th>\n",
              "      <th>Intervalos</th>\n",
              "      <th>N° de Colaboradores por turno</th>\n",
              "      <th>Tempo médio de deslocamento</th>\n",
              "      <th>Observação</th>\n",
              "      <th>Unnamed: 7</th>\n",
              "      <th>Inicio</th>\n",
              "      <th>Fim</th>\n",
              "    </tr>\n",
              "  </thead>\n",
              "  <tbody>\n",
              "    <tr>\n",
              "      <th>46</th>\n",
              "      <td>E9</td>\n",
              "      <td>4X2</td>\n",
              "      <td>01 às 13 horas</td>\n",
              "      <td>Mínimo 1 hora</td>\n",
              "      <td>6.0</td>\n",
              "      <td>Aproximadamente 22 min</td>\n",
              "      <td>NaN</td>\n",
              "      <td>NaN</td>\n",
              "      <td>1</td>\n",
              "      <td>13</td>\n",
              "    </tr>\n",
              "    <tr>\n",
              "      <th>47</th>\n",
              "      <td>E9</td>\n",
              "      <td>4X2</td>\n",
              "      <td>02 às 14 horas</td>\n",
              "      <td>Mínimo 1 hora</td>\n",
              "      <td>10.0</td>\n",
              "      <td>Aproximadamente 22 min</td>\n",
              "      <td>NaN</td>\n",
              "      <td>NaN</td>\n",
              "      <td>2</td>\n",
              "      <td>14</td>\n",
              "    </tr>\n",
              "    <tr>\n",
              "      <th>48</th>\n",
              "      <td>E9</td>\n",
              "      <td>4X2</td>\n",
              "      <td>3 às 15 horas</td>\n",
              "      <td>Mínimo 1 hora</td>\n",
              "      <td>10.0</td>\n",
              "      <td>Aproximadamente 22 min</td>\n",
              "      <td>NaN</td>\n",
              "      <td>NaN</td>\n",
              "      <td>3</td>\n",
              "      <td>15</td>\n",
              "    </tr>\n",
              "    <tr>\n",
              "      <th>49</th>\n",
              "      <td>E9</td>\n",
              "      <td>4X2</td>\n",
              "      <td>4 às 16 horas</td>\n",
              "      <td>Mínimo 1 hora</td>\n",
              "      <td>6.0</td>\n",
              "      <td>Aproximadamente 22 min</td>\n",
              "      <td>NaN</td>\n",
              "      <td>NaN</td>\n",
              "      <td>4</td>\n",
              "      <td>16</td>\n",
              "    </tr>\n",
              "    <tr>\n",
              "      <th>50</th>\n",
              "      <td>E9</td>\n",
              "      <td>4X2</td>\n",
              "      <td>5 às 17 horas</td>\n",
              "      <td>Mínimo 1 hora</td>\n",
              "      <td>6.0</td>\n",
              "      <td>Aproximadamente 22 min</td>\n",
              "      <td>NaN</td>\n",
              "      <td>NaN</td>\n",
              "      <td>5</td>\n",
              "      <td>17</td>\n",
              "    </tr>\n",
              "  </tbody>\n",
              "</table>\n",
              "</div>"
            ],
            "text/plain": [
              "   Empresa Escala         Jornada  ... Unnamed: 7  Inicio Fim\n",
              "46      E9    4X2  01 às 13 horas  ...        NaN       1  13\n",
              "47      E9    4X2  02 às 14 horas  ...        NaN       2  14\n",
              "48      E9    4X2   3 às 15 horas  ...        NaN       3  15\n",
              "49      E9    4X2   4 às 16 horas  ...        NaN       4  16\n",
              "50      E9    4X2   5 às 17 horas  ...        NaN       5  17\n",
              "\n",
              "[5 rows x 10 columns]"
            ]
          },
          "metadata": {
            "tags": []
          },
          "execution_count": 611
        }
      ]
    },
    {
      "cell_type": "code",
      "metadata": {
        "id": "PbN-Ldk-YBnU"
      },
      "source": [
        "dfE9_motoristas_hora = pd.DataFrame(np.zeros(24, dtype='int64'), columns=['motoristasE9'])\r\n",
        "for index, row in dfInfE9.iterrows():\r\n",
        "    if row['Inicio'] < row['Fim']:\r\n",
        "      dfE9_motoristas_hora['motoristasE9'][row['Inicio']:row['Fim']] += row['N° de Colaboradores por turno']\r\n",
        "    else:\r\n",
        "      dfE9_motoristas_hora['motoristasE9'][0:row['Fim']] += row['N° de Colaboradores por turno']\r\n",
        "      dfE9_motoristas_hora['motoristasE9'][row['Inicio']:24] += row['N° de Colaboradores por turno']"
      ],
      "execution_count": 612,
      "outputs": []
    },
    {
      "cell_type": "code",
      "metadata": {
        "colab": {
          "base_uri": "https://localhost:8080/",
          "height": 824
        },
        "id": "LVU7eY2YYBnW",
        "outputId": "1475cf84-85ee-4a5f-a78b-cc580f1e034d"
      },
      "source": [
        "dfE9_motoristas_hora.index.name = 'HORA'\r\n",
        "dfE9_motoristas_hora"
      ],
      "execution_count": 613,
      "outputs": [
        {
          "output_type": "execute_result",
          "data": {
            "text/html": [
              "<div>\n",
              "<style scoped>\n",
              "    .dataframe tbody tr th:only-of-type {\n",
              "        vertical-align: middle;\n",
              "    }\n",
              "\n",
              "    .dataframe tbody tr th {\n",
              "        vertical-align: top;\n",
              "    }\n",
              "\n",
              "    .dataframe thead th {\n",
              "        text-align: right;\n",
              "    }\n",
              "</style>\n",
              "<table border=\"1\" class=\"dataframe\">\n",
              "  <thead>\n",
              "    <tr style=\"text-align: right;\">\n",
              "      <th></th>\n",
              "      <th>motoristasE9</th>\n",
              "    </tr>\n",
              "    <tr>\n",
              "      <th>HORA</th>\n",
              "      <th></th>\n",
              "    </tr>\n",
              "  </thead>\n",
              "  <tbody>\n",
              "    <tr>\n",
              "      <th>0</th>\n",
              "      <td>42.0</td>\n",
              "    </tr>\n",
              "    <tr>\n",
              "      <th>1</th>\n",
              "      <td>38.0</td>\n",
              "    </tr>\n",
              "    <tr>\n",
              "      <th>2</th>\n",
              "      <td>42.0</td>\n",
              "    </tr>\n",
              "    <tr>\n",
              "      <th>3</th>\n",
              "      <td>46.0</td>\n",
              "    </tr>\n",
              "    <tr>\n",
              "      <th>4</th>\n",
              "      <td>50.0</td>\n",
              "    </tr>\n",
              "    <tr>\n",
              "      <th>5</th>\n",
              "      <td>50.0</td>\n",
              "    </tr>\n",
              "    <tr>\n",
              "      <th>6</th>\n",
              "      <td>44.0</td>\n",
              "    </tr>\n",
              "    <tr>\n",
              "      <th>7</th>\n",
              "      <td>48.0</td>\n",
              "    </tr>\n",
              "    <tr>\n",
              "      <th>8</th>\n",
              "      <td>54.0</td>\n",
              "    </tr>\n",
              "    <tr>\n",
              "      <th>9</th>\n",
              "      <td>56.0</td>\n",
              "    </tr>\n",
              "    <tr>\n",
              "      <th>10</th>\n",
              "      <td>58.0</td>\n",
              "    </tr>\n",
              "    <tr>\n",
              "      <th>11</th>\n",
              "      <td>64.0</td>\n",
              "    </tr>\n",
              "    <tr>\n",
              "      <th>12</th>\n",
              "      <td>74.0</td>\n",
              "    </tr>\n",
              "    <tr>\n",
              "      <th>13</th>\n",
              "      <td>78.0</td>\n",
              "    </tr>\n",
              "    <tr>\n",
              "      <th>14</th>\n",
              "      <td>74.0</td>\n",
              "    </tr>\n",
              "    <tr>\n",
              "      <th>15</th>\n",
              "      <td>70.0</td>\n",
              "    </tr>\n",
              "    <tr>\n",
              "      <th>16</th>\n",
              "      <td>66.0</td>\n",
              "    </tr>\n",
              "    <tr>\n",
              "      <th>17</th>\n",
              "      <td>66.0</td>\n",
              "    </tr>\n",
              "    <tr>\n",
              "      <th>18</th>\n",
              "      <td>72.0</td>\n",
              "    </tr>\n",
              "    <tr>\n",
              "      <th>19</th>\n",
              "      <td>68.0</td>\n",
              "    </tr>\n",
              "    <tr>\n",
              "      <th>20</th>\n",
              "      <td>62.0</td>\n",
              "    </tr>\n",
              "    <tr>\n",
              "      <th>21</th>\n",
              "      <td>60.0</td>\n",
              "    </tr>\n",
              "    <tr>\n",
              "      <th>22</th>\n",
              "      <td>58.0</td>\n",
              "    </tr>\n",
              "    <tr>\n",
              "      <th>23</th>\n",
              "      <td>52.0</td>\n",
              "    </tr>\n",
              "  </tbody>\n",
              "</table>\n",
              "</div>"
            ],
            "text/plain": [
              "      motoristasE9\n",
              "HORA              \n",
              "0             42.0\n",
              "1             38.0\n",
              "2             42.0\n",
              "3             46.0\n",
              "4             50.0\n",
              "5             50.0\n",
              "6             44.0\n",
              "7             48.0\n",
              "8             54.0\n",
              "9             56.0\n",
              "10            58.0\n",
              "11            64.0\n",
              "12            74.0\n",
              "13            78.0\n",
              "14            74.0\n",
              "15            70.0\n",
              "16            66.0\n",
              "17            66.0\n",
              "18            72.0\n",
              "19            68.0\n",
              "20            62.0\n",
              "21            60.0\n",
              "22            58.0\n",
              "23            52.0"
            ]
          },
          "metadata": {
            "tags": []
          },
          "execution_count": 613
        }
      ]
    },
    {
      "cell_type": "markdown",
      "metadata": {
        "id": "yENWnLy3WEer"
      },
      "source": [
        "**Eventos por hora**"
      ]
    },
    {
      "cell_type": "code",
      "metadata": {
        "colab": {
          "base_uri": "https://localhost:8080/",
          "height": 111
        },
        "id": "1EJNua9fcB0d",
        "outputId": "59ec93dd-e2fd-45a3-bc71-1e7f4646b38c"
      },
      "source": [
        "dfE91H.head(2)"
      ],
      "execution_count": 614,
      "outputs": [
        {
          "output_type": "execute_result",
          "data": {
            "text/html": [
              "<div>\n",
              "<style scoped>\n",
              "    .dataframe tbody tr th:only-of-type {\n",
              "        vertical-align: middle;\n",
              "    }\n",
              "\n",
              "    .dataframe tbody tr th {\n",
              "        vertical-align: top;\n",
              "    }\n",
              "\n",
              "    .dataframe thead th {\n",
              "        text-align: right;\n",
              "    }\n",
              "</style>\n",
              "<table border=\"1\" class=\"dataframe\">\n",
              "  <thead>\n",
              "    <tr style=\"text-align: right;\">\n",
              "      <th></th>\n",
              "      <th>Data da ocorrência</th>\n",
              "      <th>dia</th>\n",
              "      <th>mês</th>\n",
              "      <th>Tipo</th>\n",
              "      <th>Velocidade</th>\n",
              "      <th>Tratativa</th>\n",
              "      <th>Placa</th>\n",
              "      <th>Motorista</th>\n",
              "      <th>Unnamed: 8</th>\n",
              "      <th>HORA</th>\n",
              "    </tr>\n",
              "  </thead>\n",
              "  <tbody>\n",
              "    <tr>\n",
              "      <th>0</th>\n",
              "      <td>2019-04-23 22:59:00</td>\n",
              "      <td>2019-04-23</td>\n",
              "      <td>2019-04-23</td>\n",
              "      <td>Yawn-Warning</td>\n",
              "      <td>35</td>\n",
              "      <td>NaN</td>\n",
              "      <td>PLP3I10</td>\n",
              "      <td>NaN</td>\n",
              "      <td>NaN</td>\n",
              "      <td>22</td>\n",
              "    </tr>\n",
              "    <tr>\n",
              "      <th>1</th>\n",
              "      <td>2019-04-23 19:46:00</td>\n",
              "      <td>2019-04-23</td>\n",
              "      <td>2019-04-23</td>\n",
              "      <td>Yawn-Warning</td>\n",
              "      <td>62</td>\n",
              "      <td>NaN</td>\n",
              "      <td>PLP3I10</td>\n",
              "      <td>NaN</td>\n",
              "      <td>NaN</td>\n",
              "      <td>19</td>\n",
              "    </tr>\n",
              "  </tbody>\n",
              "</table>\n",
              "</div>"
            ],
            "text/plain": [
              "   Data da ocorrência        dia        mês  ... Motorista  Unnamed: 8 HORA\n",
              "0 2019-04-23 22:59:00 2019-04-23 2019-04-23  ...       NaN         NaN   22\n",
              "1 2019-04-23 19:46:00 2019-04-23 2019-04-23  ...       NaN         NaN   19\n",
              "\n",
              "[2 rows x 10 columns]"
            ]
          },
          "metadata": {
            "tags": []
          },
          "execution_count": 614
        }
      ]
    },
    {
      "cell_type": "code",
      "metadata": {
        "colab": {
          "base_uri": "https://localhost:8080/"
        },
        "id": "clTI-pG-GMsI",
        "outputId": "767030cd-2fb5-4606-a473-1bc5f79a307e"
      },
      "source": [
        "dfE91H.Tipo.value_counts()"
      ],
      "execution_count": 615,
      "outputs": [
        {
          "output_type": "execute_result",
          "data": {
            "text/plain": [
              "Yawn-Warning    6149\n",
              "Tired            573\n",
              "Name: Tipo, dtype: int64"
            ]
          },
          "metadata": {
            "tags": []
          },
          "execution_count": 615
        }
      ]
    },
    {
      "cell_type": "code",
      "metadata": {
        "colab": {
          "base_uri": "https://localhost:8080/"
        },
        "id": "vYG5jP5UHegr",
        "outputId": "ad366a96-ffb9-48a9-d709-873cf998891e"
      },
      "source": [
        "dfE9_yawn = dfE91H[dfE91H['Tipo'] == 'Yawn-Warning']\r\n",
        "dfE9_yawn = dfE9_yawn.HORA.value_counts().rename('Yawn-Warning').sort_index()\r\n",
        "dfE9_yawn"
      ],
      "execution_count": 616,
      "outputs": [
        {
          "output_type": "execute_result",
          "data": {
            "text/plain": [
              "0     299\n",
              "1     282\n",
              "2     409\n",
              "3     382\n",
              "4     492\n",
              "5     489\n",
              "6     302\n",
              "7     185\n",
              "8     211\n",
              "9     199\n",
              "10    182\n",
              "11    181\n",
              "12    131\n",
              "13    144\n",
              "14    187\n",
              "15    217\n",
              "16    219\n",
              "17    162\n",
              "18    136\n",
              "19    170\n",
              "20    221\n",
              "21    255\n",
              "22    336\n",
              "23    358\n",
              "Name: Yawn-Warning, dtype: int64"
            ]
          },
          "metadata": {
            "tags": []
          },
          "execution_count": 616
        }
      ]
    },
    {
      "cell_type": "code",
      "metadata": {
        "colab": {
          "base_uri": "https://localhost:8080/"
        },
        "id": "QzYrfn5uIAMb",
        "outputId": "4e14d8e9-be92-4162-919a-ab0d46d6484d"
      },
      "source": [
        "dfE9_yawn.sum()"
      ],
      "execution_count": 617,
      "outputs": [
        {
          "output_type": "execute_result",
          "data": {
            "text/plain": [
              "6149"
            ]
          },
          "metadata": {
            "tags": []
          },
          "execution_count": 617
        }
      ]
    },
    {
      "cell_type": "code",
      "metadata": {
        "colab": {
          "base_uri": "https://localhost:8080/"
        },
        "id": "s4PZFj5IIEb1",
        "outputId": "1e8196f3-b5b0-46c0-df89-b461ec7e6c14"
      },
      "source": [
        "dfE9_tired = dfE91H[dfE91H['Tipo'] == 'Tired']\r\n",
        "dfE9_tired = dfE9_tired.HORA.value_counts().rename('Tired').sort_index()\r\n",
        "dfE9_tired"
      ],
      "execution_count": 618,
      "outputs": [
        {
          "output_type": "execute_result",
          "data": {
            "text/plain": [
              "0     10\n",
              "1     14\n",
              "2     22\n",
              "3     24\n",
              "4     14\n",
              "5     12\n",
              "6     18\n",
              "7     30\n",
              "8     42\n",
              "9     38\n",
              "10    25\n",
              "11    34\n",
              "12    14\n",
              "13    31\n",
              "14    37\n",
              "15    28\n",
              "16    18\n",
              "17    54\n",
              "18    16\n",
              "19     8\n",
              "20     5\n",
              "21    12\n",
              "22    33\n",
              "23    34\n",
              "Name: Tired, dtype: int64"
            ]
          },
          "metadata": {
            "tags": []
          },
          "execution_count": 618
        }
      ]
    },
    {
      "cell_type": "code",
      "metadata": {
        "colab": {
          "base_uri": "https://localhost:8080/"
        },
        "id": "U6c6YNdcIERJ",
        "outputId": "0eb80c93-12aa-4adc-b90f-0609f41a525b"
      },
      "source": [
        "dfE9_tired.sum()"
      ],
      "execution_count": 619,
      "outputs": [
        {
          "output_type": "execute_result",
          "data": {
            "text/plain": [
              "573"
            ]
          },
          "metadata": {
            "tags": []
          },
          "execution_count": 619
        }
      ]
    },
    {
      "cell_type": "code",
      "metadata": {
        "colab": {
          "base_uri": "https://localhost:8080/",
          "height": 111
        },
        "id": "rNYk7TCJcB0e",
        "outputId": "6e467139-fa1d-4759-aec6-3f66f174dd88"
      },
      "source": [
        "dfE92H.head(2)"
      ],
      "execution_count": 620,
      "outputs": [
        {
          "output_type": "execute_result",
          "data": {
            "text/html": [
              "<div>\n",
              "<style scoped>\n",
              "    .dataframe tbody tr th:only-of-type {\n",
              "        vertical-align: middle;\n",
              "    }\n",
              "\n",
              "    .dataframe tbody tr th {\n",
              "        vertical-align: top;\n",
              "    }\n",
              "\n",
              "    .dataframe thead th {\n",
              "        text-align: right;\n",
              "    }\n",
              "</style>\n",
              "<table border=\"1\" class=\"dataframe\">\n",
              "  <thead>\n",
              "    <tr style=\"text-align: right;\">\n",
              "      <th></th>\n",
              "      <th>Data da ocorrência</th>\n",
              "      <th>dia</th>\n",
              "      <th>mês</th>\n",
              "      <th>Tipo</th>\n",
              "      <th>Velocidade</th>\n",
              "      <th>Tratativa</th>\n",
              "      <th>Placa</th>\n",
              "      <th>Motorista</th>\n",
              "      <th>Unnamed: 8</th>\n",
              "      <th>HORA</th>\n",
              "    </tr>\n",
              "  </thead>\n",
              "  <tbody>\n",
              "    <tr>\n",
              "      <th>0</th>\n",
              "      <td>2019-12-01 23:59:00</td>\n",
              "      <td>2019-12-01</td>\n",
              "      <td>2019-12-01</td>\n",
              "      <td>Atten-Warning</td>\n",
              "      <td>33</td>\n",
              "      <td>NaN</td>\n",
              "      <td>CQU5528</td>\n",
              "      <td>C805</td>\n",
              "      <td>NaN</td>\n",
              "      <td>23</td>\n",
              "    </tr>\n",
              "    <tr>\n",
              "      <th>1</th>\n",
              "      <td>2019-12-01 23:10:00</td>\n",
              "      <td>2019-12-01</td>\n",
              "      <td>2019-12-01</td>\n",
              "      <td>Atten-Warning</td>\n",
              "      <td>37</td>\n",
              "      <td>NaN</td>\n",
              "      <td>QPY2670</td>\n",
              "      <td>C784</td>\n",
              "      <td>NaN</td>\n",
              "      <td>23</td>\n",
              "    </tr>\n",
              "  </tbody>\n",
              "</table>\n",
              "</div>"
            ],
            "text/plain": [
              "   Data da ocorrência        dia        mês  ... Motorista  Unnamed: 8 HORA\n",
              "0 2019-12-01 23:59:00 2019-12-01 2019-12-01  ...      C805         NaN   23\n",
              "1 2019-12-01 23:10:00 2019-12-01 2019-12-01  ...      C784         NaN   23\n",
              "\n",
              "[2 rows x 10 columns]"
            ]
          },
          "metadata": {
            "tags": []
          },
          "execution_count": 620
        }
      ]
    },
    {
      "cell_type": "code",
      "metadata": {
        "colab": {
          "base_uri": "https://localhost:8080/"
        },
        "id": "rhntX51YA5lV",
        "outputId": "689ed018-e578-4b33-f6fa-11e16100796a"
      },
      "source": [
        "dfE92H.Tipo.value_counts()"
      ],
      "execution_count": 621,
      "outputs": [
        {
          "output_type": "execute_result",
          "data": {
            "text/plain": [
              "Atten-Warning    2895\n",
              "Name: Tipo, dtype: int64"
            ]
          },
          "metadata": {
            "tags": []
          },
          "execution_count": 621
        }
      ]
    },
    {
      "cell_type": "code",
      "metadata": {
        "colab": {
          "base_uri": "https://localhost:8080/"
        },
        "id": "sDefbrYUIYbZ",
        "outputId": "e4911b22-8d59-4fff-9030-162ce55fa81c"
      },
      "source": [
        "dfE9_at = dfE92H.HORA.value_counts().rename('Atten-Warning').sort_index()\r\n",
        "dfE9_at"
      ],
      "execution_count": 622,
      "outputs": [
        {
          "output_type": "execute_result",
          "data": {
            "text/plain": [
              "0      44\n",
              "1     170\n",
              "2     210\n",
              "3     274\n",
              "4      83\n",
              "5      45\n",
              "6      91\n",
              "7     125\n",
              "8     159\n",
              "9      95\n",
              "10    144\n",
              "11    114\n",
              "12    185\n",
              "13    177\n",
              "14    105\n",
              "15    118\n",
              "16    111\n",
              "17     93\n",
              "18     46\n",
              "19     36\n",
              "20     24\n",
              "21    145\n",
              "22    220\n",
              "23     81\n",
              "Name: Atten-Warning, dtype: int64"
            ]
          },
          "metadata": {
            "tags": []
          },
          "execution_count": 622
        }
      ]
    },
    {
      "cell_type": "code",
      "metadata": {
        "colab": {
          "base_uri": "https://localhost:8080/"
        },
        "id": "JT6hj0N9ItQt",
        "outputId": "af10db19-5fd5-40f5-f4aa-8dfbc508913e"
      },
      "source": [
        "dfE9_at.sum()"
      ],
      "execution_count": 623,
      "outputs": [
        {
          "output_type": "execute_result",
          "data": {
            "text/plain": [
              "2895"
            ]
          },
          "metadata": {
            "tags": []
          },
          "execution_count": 623
        }
      ]
    },
    {
      "cell_type": "markdown",
      "metadata": {
        "id": "wB814-hKKLPO"
      },
      "source": [
        "**Acidentes por hora**"
      ]
    },
    {
      "cell_type": "code",
      "metadata": {
        "colab": {
          "base_uri": "https://localhost:8080/",
          "height": 533
        },
        "id": "YC5gHg1UKL0g",
        "outputId": "e3132774-1ee0-4ed1-ac41-3e55575551dd"
      },
      "source": [
        "dfOCO_TM_E9.head(3)"
      ],
      "execution_count": 624,
      "outputs": [
        {
          "output_type": "execute_result",
          "data": {
            "text/html": [
              "<div>\n",
              "<style scoped>\n",
              "    .dataframe tbody tr th:only-of-type {\n",
              "        vertical-align: middle;\n",
              "    }\n",
              "\n",
              "    .dataframe tbody tr th {\n",
              "        vertical-align: top;\n",
              "    }\n",
              "\n",
              "    .dataframe thead th {\n",
              "        text-align: right;\n",
              "    }\n",
              "</style>\n",
              "<table border=\"1\" class=\"dataframe\">\n",
              "  <thead>\n",
              "    <tr style=\"text-align: right;\">\n",
              "      <th></th>\n",
              "      <th>CLASSIFICAÇÃO</th>\n",
              "      <th>EMPRESA</th>\n",
              "      <th>GERÊNCIA</th>\n",
              "      <th>COORDENAÇÃO</th>\n",
              "      <th>SUB ÁREA</th>\n",
              "      <th>NOME</th>\n",
              "      <th>CARGO</th>\n",
              "      <th>TEMPO DE EMPRESA</th>\n",
              "      <th>IDADE</th>\n",
              "      <th>\\nDATA DA OCORRÊNCIA</th>\n",
              "      <th>DIA DA SEMANA</th>\n",
              "      <th>\\nLOCAL DA OCORRÊNCIA</th>\n",
              "      <th>QUALIDADE PISTA</th>\n",
              "      <th>CARACTERISTICA PISTA</th>\n",
              "      <th>SINALIZAÇÃO</th>\n",
              "      <th>CLIMA</th>\n",
              "      <th>PREFIXO</th>\n",
              "      <th>MODELO</th>\n",
              "      <th>CARREGADO</th>\n",
              "      <th>TIPO</th>\n",
              "      <th>DETALHAMENTO</th>\n",
              "      <th>POTENCIAL</th>\n",
              "      <th>SAP</th>\n",
              "      <th>DIA ESCALA</th>\n",
              "      <th>ESCALA</th>\n",
              "      <th>JORNADA</th>\n",
              "      <th>TEMPO DECORRIDO</th>\n",
              "      <th>DORMIU BEM?</th>\n",
              "      <th>PRÓXIMO PERIODO DE FÉRIAS OU FERIADO</th>\n",
              "      <th>ALIMENTOU</th>\n",
              "      <th>PROBLEMAS SAÚDE</th>\n",
              "      <th>USO MEDICAMENTO</th>\n",
              "      <th>USO ALCOOL/DROGA</th>\n",
              "      <th>PRESSÃO</th>\n",
              "      <th>PRESSA PARA CONCLUIR O TRABALHO</th>\n",
              "      <th>DESCRIÇÃO</th>\n",
              "      <th>HorarioAcidente</th>\n",
              "    </tr>\n",
              "    <tr>\n",
              "      <th>HORA</th>\n",
              "      <th></th>\n",
              "      <th></th>\n",
              "      <th></th>\n",
              "      <th></th>\n",
              "      <th></th>\n",
              "      <th></th>\n",
              "      <th></th>\n",
              "      <th></th>\n",
              "      <th></th>\n",
              "      <th></th>\n",
              "      <th></th>\n",
              "      <th></th>\n",
              "      <th></th>\n",
              "      <th></th>\n",
              "      <th></th>\n",
              "      <th></th>\n",
              "      <th></th>\n",
              "      <th></th>\n",
              "      <th></th>\n",
              "      <th></th>\n",
              "      <th></th>\n",
              "      <th></th>\n",
              "      <th></th>\n",
              "      <th></th>\n",
              "      <th></th>\n",
              "      <th></th>\n",
              "      <th></th>\n",
              "      <th></th>\n",
              "      <th></th>\n",
              "      <th></th>\n",
              "      <th></th>\n",
              "      <th></th>\n",
              "      <th></th>\n",
              "      <th></th>\n",
              "      <th></th>\n",
              "      <th></th>\n",
              "      <th></th>\n",
              "    </tr>\n",
              "  </thead>\n",
              "  <tbody>\n",
              "    <tr>\n",
              "      <th>00:01:00</th>\n",
              "      <td>INCIDENTE</td>\n",
              "      <td>E9</td>\n",
              "      <td>GERÊNCIA LOGÍSTICA PR</td>\n",
              "      <td>OPERAÇÕES LOGÍSTICAS PR</td>\n",
              "      <td>OPERAÇÕES LOGÍSTICAS PR</td>\n",
              "      <td>C318</td>\n",
              "      <td>MOTORISTA</td>\n",
              "      <td>12</td>\n",
              "      <td>45.0</td>\n",
              "      <td>2019-04-14</td>\n",
              "      <td>DOMINGO</td>\n",
              "      <td>BR-153</td>\n",
              "      <td>ASFALTADA</td>\n",
              "      <td>NaN</td>\n",
              "      <td>NaN</td>\n",
              "      <td>SEM CHUVA</td>\n",
              "      <td>JSL 001</td>\n",
              "      <td>NaN</td>\n",
              "      <td>NaN</td>\n",
              "      <td>TRANSPORTE DE MADEIRA</td>\n",
              "      <td>O MOTORISTA DA EMPRESA JSL RETORNAVA DA RF ADA...</td>\n",
              "      <td>PF</td>\n",
              "      <td>10033</td>\n",
              "      <td>NaN</td>\n",
              "      <td>NaN</td>\n",
              "      <td>NaN</td>\n",
              "      <td>NaN</td>\n",
              "      <td>NaN</td>\n",
              "      <td>NaN</td>\n",
              "      <td>NaN</td>\n",
              "      <td>NaN</td>\n",
              "      <td>NÃO</td>\n",
              "      <td>NaN</td>\n",
              "      <td>NÃO</td>\n",
              "      <td>NaN</td>\n",
              "      <td>O MOTORISTA TEVE UM APAGÃO DE MEMORIA MAS NÃO ...</td>\n",
              "      <td>0</td>\n",
              "    </tr>\n",
              "    <tr>\n",
              "      <th>01:30:00</th>\n",
              "      <td>IAP</td>\n",
              "      <td>E9</td>\n",
              "      <td>LOGÍSTICA</td>\n",
              "      <td>TRANSPORTE FLORESTAL</td>\n",
              "      <td>LOGÍSTICA</td>\n",
              "      <td>NaN</td>\n",
              "      <td>MOTORISTA</td>\n",
              "      <td>NaN</td>\n",
              "      <td>NaN</td>\n",
              "      <td>2017-11-10</td>\n",
              "      <td>SEXTA-FEIRA</td>\n",
              "      <td>ESTRADA MARGEM DIREITA</td>\n",
              "      <td>ESTRADA DE CHÃO</td>\n",
              "      <td>NaN</td>\n",
              "      <td>NaN</td>\n",
              "      <td>NaN</td>\n",
              "      <td>JSL-110</td>\n",
              "      <td>NaN</td>\n",
              "      <td>SIM</td>\n",
              "      <td>TRANSPORTE DE MADEIRA</td>\n",
              "      <td>O MOTORISTA TRAFEGAVA COM O CAMINHÃO PREFIXO J...</td>\n",
              "      <td>LPG</td>\n",
              "      <td>7488</td>\n",
              "      <td>2.0</td>\n",
              "      <td>4x2</td>\n",
              "      <td>15:00:00</td>\n",
              "      <td>10:30:00</td>\n",
              "      <td>NaN</td>\n",
              "      <td>NaN</td>\n",
              "      <td>NaN</td>\n",
              "      <td>NaN</td>\n",
              "      <td>NaN</td>\n",
              "      <td>NaN</td>\n",
              "      <td>NaN</td>\n",
              "      <td>NaN</td>\n",
              "      <td>APÓS A INVESTIGAÇÃO DA OCORRÊNCIA CONSTATAMOS ...</td>\n",
              "      <td>1</td>\n",
              "    </tr>\n",
              "    <tr>\n",
              "      <th>02:00:00</th>\n",
              "      <td>IBP</td>\n",
              "      <td>E9</td>\n",
              "      <td>GERÊNCIA LOGÍSTICA PR</td>\n",
              "      <td>OPERAÇÕES LOGÍSTICAS PR</td>\n",
              "      <td>OPERAÇÕES LOGÍSTICAS PR</td>\n",
              "      <td>C467</td>\n",
              "      <td>MOTORISTA</td>\n",
              "      <td>20</td>\n",
              "      <td>25.0</td>\n",
              "      <td>2018-08-06</td>\n",
              "      <td>SEGUNDA-FEIRA</td>\n",
              "      <td>DA REGIÃO FLORESTAL BOA ESPERANÇA COM SENTIDO ...</td>\n",
              "      <td>NaN</td>\n",
              "      <td>DECLIVE</td>\n",
              "      <td>NaN</td>\n",
              "      <td>NaN</td>\n",
              "      <td>JSL-008</td>\n",
              "      <td>NaN</td>\n",
              "      <td>SIM</td>\n",
              "      <td>TRANSPORTE DE MADEIRA</td>\n",
              "      <td>MOTORISTA DA EMPRESA JSL, TRAFEGAVA COM CAMINH...</td>\n",
              "      <td>LPL</td>\n",
              "      <td>8765</td>\n",
              "      <td>NaN</td>\n",
              "      <td>NaN</td>\n",
              "      <td>NaN</td>\n",
              "      <td>NaN</td>\n",
              "      <td>NaN</td>\n",
              "      <td>NaN</td>\n",
              "      <td>NaN</td>\n",
              "      <td>NaN</td>\n",
              "      <td>NaN</td>\n",
              "      <td>NaN</td>\n",
              "      <td>NaN</td>\n",
              "      <td>NaN</td>\n",
              "      <td>NaN</td>\n",
              "      <td>2</td>\n",
              "    </tr>\n",
              "  </tbody>\n",
              "</table>\n",
              "</div>"
            ],
            "text/plain": [
              "         CLASSIFICAÇÃO  ... HorarioAcidente\n",
              "HORA                    ...                \n",
              "00:01:00     INCIDENTE  ...               0\n",
              "01:30:00           IAP  ...               1\n",
              "02:00:00           IBP  ...               2\n",
              "\n",
              "[3 rows x 37 columns]"
            ]
          },
          "metadata": {
            "tags": []
          },
          "execution_count": 624
        }
      ]
    },
    {
      "cell_type": "code",
      "metadata": {
        "colab": {
          "base_uri": "https://localhost:8080/"
        },
        "id": "hH9WuktNNt4L",
        "outputId": "7f195e53-6899-4ba6-ac26-72d0a441249e"
      },
      "source": [
        "dfOCO_TM_E9.CARGO.value_counts()"
      ],
      "execution_count": 625,
      "outputs": [
        {
          "output_type": "execute_result",
          "data": {
            "text/plain": [
              "MOTORISTA                         38\n",
              "MOTORISTA                          2\n",
              "MOTORISTA TRANSPORTE FLORESTAL     2\n",
              "Name: CARGO, dtype: int64"
            ]
          },
          "metadata": {
            "tags": []
          },
          "execution_count": 625
        }
      ]
    },
    {
      "cell_type": "code",
      "metadata": {
        "colab": {
          "base_uri": "https://localhost:8080/"
        },
        "id": "_XVmMPLKNt4O",
        "outputId": "1386cb6e-c52a-4dc9-8d03-c261502b5fcd"
      },
      "source": [
        "dfE9_acid_hora = dfOCO_TM_E9.HorarioAcidente.value_counts().sort_index().rename('Acidentes por hora')\r\n",
        "dfE9_acid_hora"
      ],
      "execution_count": 626,
      "outputs": [
        {
          "output_type": "execute_result",
          "data": {
            "text/plain": [
              "0     1\n",
              "1     1\n",
              "2     2\n",
              "4     3\n",
              "5     3\n",
              "7     1\n",
              "8     5\n",
              "9     1\n",
              "10    1\n",
              "11    3\n",
              "13    2\n",
              "14    2\n",
              "15    2\n",
              "17    2\n",
              "18    2\n",
              "19    1\n",
              "20    2\n",
              "21    1\n",
              "22    3\n",
              "23    4\n",
              "Name: Acidentes por hora, dtype: int64"
            ]
          },
          "metadata": {
            "tags": []
          },
          "execution_count": 626
        }
      ]
    },
    {
      "cell_type": "markdown",
      "metadata": {
        "id": "bobVLDn0VDzS"
      },
      "source": [
        "**DF final E9**"
      ]
    },
    {
      "cell_type": "code",
      "metadata": {
        "colab": {
          "base_uri": "https://localhost:8080/",
          "height": 824
        },
        "id": "c4xWk1gwVDzU",
        "outputId": "df77112a-a557-4c42-d1be-970d8bd6835f"
      },
      "source": [
        "dfE9_final = pd.DataFrame(dfE9_motoristas_hora['motoristasE9'],dtype='int64')\r\n",
        "dfE9_final['Yawn'] = pd.DataFrame(dfE9_yawn)\r\n",
        "dfE9_final['Tired'] = pd.DataFrame(dfE9_tired)\r\n",
        "dfE9_final['Atten-Warning'] = pd.DataFrame(dfE9_at)\r\n",
        "dfE9_final['Acidentes'] = pd.DataFrame(dfE9_acid_hora)\r\n",
        "dfE9_final.fillna(0, inplace=True)\r\n",
        "dfE9_final['Acidentes'] = dfE9_final.Acidentes.astype('int64')\r\n",
        "dfE9_final"
      ],
      "execution_count": 627,
      "outputs": [
        {
          "output_type": "execute_result",
          "data": {
            "text/html": [
              "<div>\n",
              "<style scoped>\n",
              "    .dataframe tbody tr th:only-of-type {\n",
              "        vertical-align: middle;\n",
              "    }\n",
              "\n",
              "    .dataframe tbody tr th {\n",
              "        vertical-align: top;\n",
              "    }\n",
              "\n",
              "    .dataframe thead th {\n",
              "        text-align: right;\n",
              "    }\n",
              "</style>\n",
              "<table border=\"1\" class=\"dataframe\">\n",
              "  <thead>\n",
              "    <tr style=\"text-align: right;\">\n",
              "      <th></th>\n",
              "      <th>motoristasE9</th>\n",
              "      <th>Yawn</th>\n",
              "      <th>Tired</th>\n",
              "      <th>Atten-Warning</th>\n",
              "      <th>Acidentes</th>\n",
              "    </tr>\n",
              "    <tr>\n",
              "      <th>HORA</th>\n",
              "      <th></th>\n",
              "      <th></th>\n",
              "      <th></th>\n",
              "      <th></th>\n",
              "      <th></th>\n",
              "    </tr>\n",
              "  </thead>\n",
              "  <tbody>\n",
              "    <tr>\n",
              "      <th>0</th>\n",
              "      <td>42</td>\n",
              "      <td>299</td>\n",
              "      <td>10</td>\n",
              "      <td>44</td>\n",
              "      <td>1</td>\n",
              "    </tr>\n",
              "    <tr>\n",
              "      <th>1</th>\n",
              "      <td>38</td>\n",
              "      <td>282</td>\n",
              "      <td>14</td>\n",
              "      <td>170</td>\n",
              "      <td>1</td>\n",
              "    </tr>\n",
              "    <tr>\n",
              "      <th>2</th>\n",
              "      <td>42</td>\n",
              "      <td>409</td>\n",
              "      <td>22</td>\n",
              "      <td>210</td>\n",
              "      <td>2</td>\n",
              "    </tr>\n",
              "    <tr>\n",
              "      <th>3</th>\n",
              "      <td>46</td>\n",
              "      <td>382</td>\n",
              "      <td>24</td>\n",
              "      <td>274</td>\n",
              "      <td>0</td>\n",
              "    </tr>\n",
              "    <tr>\n",
              "      <th>4</th>\n",
              "      <td>50</td>\n",
              "      <td>492</td>\n",
              "      <td>14</td>\n",
              "      <td>83</td>\n",
              "      <td>3</td>\n",
              "    </tr>\n",
              "    <tr>\n",
              "      <th>5</th>\n",
              "      <td>50</td>\n",
              "      <td>489</td>\n",
              "      <td>12</td>\n",
              "      <td>45</td>\n",
              "      <td>3</td>\n",
              "    </tr>\n",
              "    <tr>\n",
              "      <th>6</th>\n",
              "      <td>44</td>\n",
              "      <td>302</td>\n",
              "      <td>18</td>\n",
              "      <td>91</td>\n",
              "      <td>0</td>\n",
              "    </tr>\n",
              "    <tr>\n",
              "      <th>7</th>\n",
              "      <td>48</td>\n",
              "      <td>185</td>\n",
              "      <td>30</td>\n",
              "      <td>125</td>\n",
              "      <td>1</td>\n",
              "    </tr>\n",
              "    <tr>\n",
              "      <th>8</th>\n",
              "      <td>54</td>\n",
              "      <td>211</td>\n",
              "      <td>42</td>\n",
              "      <td>159</td>\n",
              "      <td>5</td>\n",
              "    </tr>\n",
              "    <tr>\n",
              "      <th>9</th>\n",
              "      <td>56</td>\n",
              "      <td>199</td>\n",
              "      <td>38</td>\n",
              "      <td>95</td>\n",
              "      <td>1</td>\n",
              "    </tr>\n",
              "    <tr>\n",
              "      <th>10</th>\n",
              "      <td>58</td>\n",
              "      <td>182</td>\n",
              "      <td>25</td>\n",
              "      <td>144</td>\n",
              "      <td>1</td>\n",
              "    </tr>\n",
              "    <tr>\n",
              "      <th>11</th>\n",
              "      <td>64</td>\n",
              "      <td>181</td>\n",
              "      <td>34</td>\n",
              "      <td>114</td>\n",
              "      <td>3</td>\n",
              "    </tr>\n",
              "    <tr>\n",
              "      <th>12</th>\n",
              "      <td>74</td>\n",
              "      <td>131</td>\n",
              "      <td>14</td>\n",
              "      <td>185</td>\n",
              "      <td>0</td>\n",
              "    </tr>\n",
              "    <tr>\n",
              "      <th>13</th>\n",
              "      <td>78</td>\n",
              "      <td>144</td>\n",
              "      <td>31</td>\n",
              "      <td>177</td>\n",
              "      <td>2</td>\n",
              "    </tr>\n",
              "    <tr>\n",
              "      <th>14</th>\n",
              "      <td>74</td>\n",
              "      <td>187</td>\n",
              "      <td>37</td>\n",
              "      <td>105</td>\n",
              "      <td>2</td>\n",
              "    </tr>\n",
              "    <tr>\n",
              "      <th>15</th>\n",
              "      <td>70</td>\n",
              "      <td>217</td>\n",
              "      <td>28</td>\n",
              "      <td>118</td>\n",
              "      <td>2</td>\n",
              "    </tr>\n",
              "    <tr>\n",
              "      <th>16</th>\n",
              "      <td>66</td>\n",
              "      <td>219</td>\n",
              "      <td>18</td>\n",
              "      <td>111</td>\n",
              "      <td>0</td>\n",
              "    </tr>\n",
              "    <tr>\n",
              "      <th>17</th>\n",
              "      <td>66</td>\n",
              "      <td>162</td>\n",
              "      <td>54</td>\n",
              "      <td>93</td>\n",
              "      <td>2</td>\n",
              "    </tr>\n",
              "    <tr>\n",
              "      <th>18</th>\n",
              "      <td>72</td>\n",
              "      <td>136</td>\n",
              "      <td>16</td>\n",
              "      <td>46</td>\n",
              "      <td>2</td>\n",
              "    </tr>\n",
              "    <tr>\n",
              "      <th>19</th>\n",
              "      <td>68</td>\n",
              "      <td>170</td>\n",
              "      <td>8</td>\n",
              "      <td>36</td>\n",
              "      <td>1</td>\n",
              "    </tr>\n",
              "    <tr>\n",
              "      <th>20</th>\n",
              "      <td>62</td>\n",
              "      <td>221</td>\n",
              "      <td>5</td>\n",
              "      <td>24</td>\n",
              "      <td>2</td>\n",
              "    </tr>\n",
              "    <tr>\n",
              "      <th>21</th>\n",
              "      <td>60</td>\n",
              "      <td>255</td>\n",
              "      <td>12</td>\n",
              "      <td>145</td>\n",
              "      <td>1</td>\n",
              "    </tr>\n",
              "    <tr>\n",
              "      <th>22</th>\n",
              "      <td>58</td>\n",
              "      <td>336</td>\n",
              "      <td>33</td>\n",
              "      <td>220</td>\n",
              "      <td>3</td>\n",
              "    </tr>\n",
              "    <tr>\n",
              "      <th>23</th>\n",
              "      <td>52</td>\n",
              "      <td>358</td>\n",
              "      <td>34</td>\n",
              "      <td>81</td>\n",
              "      <td>4</td>\n",
              "    </tr>\n",
              "  </tbody>\n",
              "</table>\n",
              "</div>"
            ],
            "text/plain": [
              "      motoristasE9  Yawn  Tired  Atten-Warning  Acidentes\n",
              "HORA                                                     \n",
              "0               42   299     10             44          1\n",
              "1               38   282     14            170          1\n",
              "2               42   409     22            210          2\n",
              "3               46   382     24            274          0\n",
              "4               50   492     14             83          3\n",
              "5               50   489     12             45          3\n",
              "6               44   302     18             91          0\n",
              "7               48   185     30            125          1\n",
              "8               54   211     42            159          5\n",
              "9               56   199     38             95          1\n",
              "10              58   182     25            144          1\n",
              "11              64   181     34            114          3\n",
              "12              74   131     14            185          0\n",
              "13              78   144     31            177          2\n",
              "14              74   187     37            105          2\n",
              "15              70   217     28            118          2\n",
              "16              66   219     18            111          0\n",
              "17              66   162     54             93          2\n",
              "18              72   136     16             46          2\n",
              "19              68   170      8             36          1\n",
              "20              62   221      5             24          2\n",
              "21              60   255     12            145          1\n",
              "22              58   336     33            220          3\n",
              "23              52   358     34             81          4"
            ]
          },
          "metadata": {
            "tags": []
          },
          "execution_count": 627
        }
      ]
    },
    {
      "cell_type": "markdown",
      "metadata": {
        "id": "ohe9g9F08Nwm"
      },
      "source": [
        "### **Visualização**"
      ]
    },
    {
      "cell_type": "code",
      "metadata": {
        "colab": {
          "base_uri": "https://localhost:8080/"
        },
        "id": "i-4bxNP9HfNP",
        "outputId": "abeb23f5-83a7-4d18-bf80-7590b6aa50c4"
      },
      "source": [
        "dfE91H.shape"
      ],
      "execution_count": 692,
      "outputs": [
        {
          "output_type": "execute_result",
          "data": {
            "text/plain": [
              "(6722, 10)"
            ]
          },
          "metadata": {
            "tags": []
          },
          "execution_count": 692
        }
      ]
    },
    {
      "cell_type": "code",
      "metadata": {
        "colab": {
          "base_uri": "https://localhost:8080/"
        },
        "id": "NEioWlfOIJ8N",
        "outputId": "163a282b-8ba9-45cb-c731-f9ba348778c9"
      },
      "source": [
        "dfE91H.Tipo.value_counts()"
      ],
      "execution_count": 693,
      "outputs": [
        {
          "output_type": "execute_result",
          "data": {
            "text/plain": [
              "Yawn-Warning    6149\n",
              "Tired            573\n",
              "Name: Tipo, dtype: int64"
            ]
          },
          "metadata": {
            "tags": []
          },
          "execution_count": 693
        }
      ]
    },
    {
      "cell_type": "code",
      "metadata": {
        "id": "T0mgKPctGKA1",
        "colab": {
          "base_uri": "https://localhost:8080/"
        },
        "outputId": "35ecc97a-2522-4ec2-eba4-73b65055b62a"
      },
      "source": [
        "dfE91_yawn = dfE91H[dfE91H.Tipo == 'Yawn-Warning']\r\n",
        "dfE91_yawn.shape"
      ],
      "execution_count": 694,
      "outputs": [
        {
          "output_type": "execute_result",
          "data": {
            "text/plain": [
              "(6149, 10)"
            ]
          },
          "metadata": {
            "tags": []
          },
          "execution_count": 694
        }
      ]
    },
    {
      "cell_type": "code",
      "metadata": {
        "colab": {
          "base_uri": "https://localhost:8080/"
        },
        "id": "a1_b5oTr8Nwn",
        "outputId": "6709c181-74ac-4695-b815-137b5819c34c"
      },
      "source": [
        "counts, bins = np.histogram(dfE91_yawn['HORA'], bins=range(0, 25, 3))\r\n",
        "counts"
      ],
      "execution_count": 695,
      "outputs": [
        {
          "output_type": "execute_result",
          "data": {
            "text/plain": [
              "array([ 990, 1363,  698,  562,  462,  598,  527,  949])"
            ]
          },
          "metadata": {
            "tags": []
          },
          "execution_count": 695
        }
      ]
    },
    {
      "cell_type": "code",
      "metadata": {
        "colab": {
          "base_uri": "https://localhost:8080/"
        },
        "id": "2SvNEssY8Nwn",
        "outputId": "cba82e97-a9a5-4ee9-bb02-599a284387ad"
      },
      "source": [
        "b = np.array(dfE9_final['motoristasE9'])\r\n",
        "print(b)\r\n",
        "c = b.reshape((8,3)).sum(axis=1)\r\n",
        "print(c)"
      ],
      "execution_count": 696,
      "outputs": [
        {
          "output_type": "stream",
          "text": [
            "[42 38 42 46 50 50 44 48 54 56 58 64 74 78 74 70 66 66 72 68 62 60 58 52]\n",
            "[122 146 146 178 226 202 202 170]\n"
          ],
          "name": "stdout"
        }
      ]
    },
    {
      "cell_type": "code",
      "metadata": {
        "colab": {
          "base_uri": "https://localhost:8080/",
          "height": 542
        },
        "id": "Lz-ADRNp8Nwo",
        "outputId": "8984e9b8-d9e4-4e3e-8941-9702886e7c9a"
      },
      "source": [
        "graphics_plot(y = [counts, counts/c], name = ['Events(raw)', 'Events/Drivers'],\r\n",
        "              title = \"Events company E9 (Yawn-Warning)\", yaxes_title = [\"Raw\", \"Rate\"])"
      ],
      "execution_count": 697,
      "outputs": [
        {
          "output_type": "display_data",
          "data": {
            "text/html": [
              "<html>\n",
              "<head><meta charset=\"utf-8\" /></head>\n",
              "<body>\n",
              "    <div>            <script src=\"https://cdnjs.cloudflare.com/ajax/libs/mathjax/2.7.5/MathJax.js?config=TeX-AMS-MML_SVG\"></script><script type=\"text/javascript\">if (window.MathJax) {MathJax.Hub.Config({SVG: {font: \"STIX-Web\"}});}</script>                <script type=\"text/javascript\">window.PlotlyConfig = {MathJaxConfig: 'local'};</script>\n",
              "        <script src=\"https://cdn.plot.ly/plotly-latest.min.js\"></script>                <div id=\"cb35c3ef-a59e-477a-b68b-28441a1312d6\" class=\"plotly-graph-div\" style=\"height:525px; width:100%;\"></div>            <script type=\"text/javascript\">                                    window.PLOTLYENV=window.PLOTLYENV || {};                                    if (document.getElementById(\"cb35c3ef-a59e-477a-b68b-28441a1312d6\")) {                    Plotly.newPlot(                        \"cb35c3ef-a59e-477a-b68b-28441a1312d6\",                        [{\"line\": {\"color\": \"rgb(0, 0, 0)\", \"width\": 2}, \"marker\": {\"size\": 7, \"symbol\": \"x\"}, \"mode\": \"lines+markers\", \"name\": \"Events(raw)\", \"type\": \"scatter\", \"x\": [0.0, 3.0, 6.0, 9.0, 12.0, 15.0, 18.0, 21.0, 24.0], \"xaxis\": \"x\", \"y\": [990, 1363, 698, 562, 462, 598, 527, 949], \"yaxis\": \"y\"}, {\"line\": {\"color\": \"rgb(0, 0, 0)\", \"dash\": \"dash\", \"width\": 2}, \"marker\": {\"size\": 7, \"symbol\": \"star\"}, \"mode\": \"lines+markers\", \"name\": \"Events/Drivers\", \"type\": \"scatter\", \"x\": [0.0, 3.0, 6.0, 9.0, 12.0, 15.0, 18.0, 21.0, 24.0], \"xaxis\": \"x\", \"y\": [8.114754098360656, 9.335616438356164, 4.780821917808219, 3.157303370786517, 2.0442477876106193, 2.9603960396039604, 2.608910891089109, 5.58235294117647], \"yaxis\": \"y2\"}],                        {\"legend\": {\"orientation\": \"h\", \"x\": 0.95, \"xanchor\": \"right\", \"y\": 1.01, \"yanchor\": \"bottom\"}, \"paper_bgcolor\": \"rgba(0,0,0,0)\", \"plot_bgcolor\": \"rgba(0,0,0,0)\", \"template\": {\"data\": {\"bar\": [{\"error_x\": {\"color\": \"#2a3f5f\"}, \"error_y\": {\"color\": \"#2a3f5f\"}, \"marker\": {\"line\": {\"color\": \"#E5ECF6\", \"width\": 0.5}}, \"type\": \"bar\"}], \"barpolar\": [{\"marker\": {\"line\": {\"color\": \"#E5ECF6\", \"width\": 0.5}}, \"type\": \"barpolar\"}], \"carpet\": [{\"aaxis\": {\"endlinecolor\": \"#2a3f5f\", \"gridcolor\": \"white\", \"linecolor\": \"white\", \"minorgridcolor\": \"white\", \"startlinecolor\": \"#2a3f5f\"}, \"baxis\": {\"endlinecolor\": \"#2a3f5f\", \"gridcolor\": \"white\", \"linecolor\": \"white\", \"minorgridcolor\": \"white\", \"startlinecolor\": \"#2a3f5f\"}, \"type\": \"carpet\"}], \"choropleth\": [{\"colorbar\": {\"outlinewidth\": 0, \"ticks\": \"\"}, \"type\": \"choropleth\"}], \"contour\": [{\"colorbar\": {\"outlinewidth\": 0, \"ticks\": \"\"}, \"colorscale\": [[0.0, \"#0d0887\"], [0.1111111111111111, \"#46039f\"], [0.2222222222222222, \"#7201a8\"], [0.3333333333333333, \"#9c179e\"], [0.4444444444444444, \"#bd3786\"], [0.5555555555555556, \"#d8576b\"], [0.6666666666666666, \"#ed7953\"], [0.7777777777777778, \"#fb9f3a\"], [0.8888888888888888, \"#fdca26\"], [1.0, \"#f0f921\"]], \"type\": \"contour\"}], \"contourcarpet\": [{\"colorbar\": {\"outlinewidth\": 0, \"ticks\": \"\"}, \"type\": \"contourcarpet\"}], \"heatmap\": [{\"colorbar\": {\"outlinewidth\": 0, \"ticks\": \"\"}, \"colorscale\": [[0.0, \"#0d0887\"], [0.1111111111111111, \"#46039f\"], [0.2222222222222222, \"#7201a8\"], [0.3333333333333333, \"#9c179e\"], [0.4444444444444444, \"#bd3786\"], [0.5555555555555556, \"#d8576b\"], [0.6666666666666666, \"#ed7953\"], [0.7777777777777778, \"#fb9f3a\"], [0.8888888888888888, \"#fdca26\"], [1.0, \"#f0f921\"]], \"type\": \"heatmap\"}], \"heatmapgl\": [{\"colorbar\": {\"outlinewidth\": 0, \"ticks\": \"\"}, \"colorscale\": [[0.0, \"#0d0887\"], [0.1111111111111111, \"#46039f\"], [0.2222222222222222, \"#7201a8\"], [0.3333333333333333, \"#9c179e\"], [0.4444444444444444, \"#bd3786\"], [0.5555555555555556, \"#d8576b\"], [0.6666666666666666, \"#ed7953\"], [0.7777777777777778, \"#fb9f3a\"], [0.8888888888888888, \"#fdca26\"], [1.0, \"#f0f921\"]], \"type\": \"heatmapgl\"}], \"histogram\": [{\"marker\": {\"colorbar\": {\"outlinewidth\": 0, \"ticks\": \"\"}}, \"type\": \"histogram\"}], \"histogram2d\": [{\"colorbar\": {\"outlinewidth\": 0, \"ticks\": \"\"}, \"colorscale\": [[0.0, \"#0d0887\"], [0.1111111111111111, \"#46039f\"], [0.2222222222222222, \"#7201a8\"], [0.3333333333333333, \"#9c179e\"], [0.4444444444444444, \"#bd3786\"], [0.5555555555555556, \"#d8576b\"], [0.6666666666666666, \"#ed7953\"], [0.7777777777777778, \"#fb9f3a\"], [0.8888888888888888, \"#fdca26\"], [1.0, \"#f0f921\"]], \"type\": \"histogram2d\"}], \"histogram2dcontour\": [{\"colorbar\": {\"outlinewidth\": 0, \"ticks\": \"\"}, \"colorscale\": [[0.0, \"#0d0887\"], [0.1111111111111111, \"#46039f\"], [0.2222222222222222, \"#7201a8\"], [0.3333333333333333, \"#9c179e\"], [0.4444444444444444, \"#bd3786\"], [0.5555555555555556, \"#d8576b\"], [0.6666666666666666, \"#ed7953\"], [0.7777777777777778, \"#fb9f3a\"], [0.8888888888888888, \"#fdca26\"], [1.0, \"#f0f921\"]], \"type\": \"histogram2dcontour\"}], \"mesh3d\": [{\"colorbar\": {\"outlinewidth\": 0, \"ticks\": \"\"}, \"type\": \"mesh3d\"}], \"parcoords\": [{\"line\": {\"colorbar\": {\"outlinewidth\": 0, \"ticks\": \"\"}}, \"type\": \"parcoords\"}], \"pie\": [{\"automargin\": true, \"type\": \"pie\"}], \"scatter\": [{\"marker\": {\"colorbar\": {\"outlinewidth\": 0, \"ticks\": \"\"}}, \"type\": \"scatter\"}], \"scatter3d\": [{\"line\": {\"colorbar\": {\"outlinewidth\": 0, \"ticks\": \"\"}}, \"marker\": {\"colorbar\": {\"outlinewidth\": 0, \"ticks\": \"\"}}, \"type\": \"scatter3d\"}], \"scattercarpet\": [{\"marker\": {\"colorbar\": {\"outlinewidth\": 0, \"ticks\": \"\"}}, \"type\": \"scattercarpet\"}], \"scattergeo\": [{\"marker\": {\"colorbar\": {\"outlinewidth\": 0, \"ticks\": \"\"}}, \"type\": \"scattergeo\"}], \"scattergl\": [{\"marker\": {\"colorbar\": {\"outlinewidth\": 0, \"ticks\": \"\"}}, \"type\": \"scattergl\"}], \"scattermapbox\": [{\"marker\": {\"colorbar\": {\"outlinewidth\": 0, \"ticks\": \"\"}}, \"type\": \"scattermapbox\"}], \"scatterpolar\": [{\"marker\": {\"colorbar\": {\"outlinewidth\": 0, \"ticks\": \"\"}}, \"type\": \"scatterpolar\"}], \"scatterpolargl\": [{\"marker\": {\"colorbar\": {\"outlinewidth\": 0, \"ticks\": \"\"}}, \"type\": \"scatterpolargl\"}], \"scatterternary\": [{\"marker\": {\"colorbar\": {\"outlinewidth\": 0, \"ticks\": \"\"}}, \"type\": \"scatterternary\"}], \"surface\": [{\"colorbar\": {\"outlinewidth\": 0, \"ticks\": \"\"}, \"colorscale\": [[0.0, \"#0d0887\"], [0.1111111111111111, \"#46039f\"], [0.2222222222222222, \"#7201a8\"], [0.3333333333333333, \"#9c179e\"], [0.4444444444444444, \"#bd3786\"], [0.5555555555555556, \"#d8576b\"], [0.6666666666666666, \"#ed7953\"], [0.7777777777777778, \"#fb9f3a\"], [0.8888888888888888, \"#fdca26\"], [1.0, \"#f0f921\"]], \"type\": \"surface\"}], \"table\": [{\"cells\": {\"fill\": {\"color\": \"#EBF0F8\"}, \"line\": {\"color\": \"white\"}}, \"header\": {\"fill\": {\"color\": \"#C8D4E3\"}, \"line\": {\"color\": \"white\"}}, \"type\": \"table\"}]}, \"layout\": {\"annotationdefaults\": {\"arrowcolor\": \"#2a3f5f\", \"arrowhead\": 0, \"arrowwidth\": 1}, \"autotypenumbers\": \"strict\", \"coloraxis\": {\"colorbar\": {\"outlinewidth\": 0, \"ticks\": \"\"}}, \"colorscale\": {\"diverging\": [[0, \"#8e0152\"], [0.1, \"#c51b7d\"], [0.2, \"#de77ae\"], [0.3, \"#f1b6da\"], [0.4, \"#fde0ef\"], [0.5, \"#f7f7f7\"], [0.6, \"#e6f5d0\"], [0.7, \"#b8e186\"], [0.8, \"#7fbc41\"], [0.9, \"#4d9221\"], [1, \"#276419\"]], \"sequential\": [[0.0, \"#0d0887\"], [0.1111111111111111, \"#46039f\"], [0.2222222222222222, \"#7201a8\"], [0.3333333333333333, \"#9c179e\"], [0.4444444444444444, \"#bd3786\"], [0.5555555555555556, \"#d8576b\"], [0.6666666666666666, \"#ed7953\"], [0.7777777777777778, \"#fb9f3a\"], [0.8888888888888888, \"#fdca26\"], [1.0, \"#f0f921\"]], \"sequentialminus\": [[0.0, \"#0d0887\"], [0.1111111111111111, \"#46039f\"], [0.2222222222222222, \"#7201a8\"], [0.3333333333333333, \"#9c179e\"], [0.4444444444444444, \"#bd3786\"], [0.5555555555555556, \"#d8576b\"], [0.6666666666666666, \"#ed7953\"], [0.7777777777777778, \"#fb9f3a\"], [0.8888888888888888, \"#fdca26\"], [1.0, \"#f0f921\"]]}, \"colorway\": [\"#636efa\", \"#EF553B\", \"#00cc96\", \"#ab63fa\", \"#FFA15A\", \"#19d3f3\", \"#FF6692\", \"#B6E880\", \"#FF97FF\", \"#FECB52\"], \"font\": {\"color\": \"#2a3f5f\"}, \"geo\": {\"bgcolor\": \"white\", \"lakecolor\": \"white\", \"landcolor\": \"#E5ECF6\", \"showlakes\": true, \"showland\": true, \"subunitcolor\": \"white\"}, \"hoverlabel\": {\"align\": \"left\"}, \"hovermode\": \"closest\", \"mapbox\": {\"style\": \"light\"}, \"paper_bgcolor\": \"white\", \"plot_bgcolor\": \"#E5ECF6\", \"polar\": {\"angularaxis\": {\"gridcolor\": \"white\", \"linecolor\": \"white\", \"ticks\": \"\"}, \"bgcolor\": \"#E5ECF6\", \"radialaxis\": {\"gridcolor\": \"white\", \"linecolor\": \"white\", \"ticks\": \"\"}}, \"scene\": {\"xaxis\": {\"backgroundcolor\": \"#E5ECF6\", \"gridcolor\": \"white\", \"gridwidth\": 2, \"linecolor\": \"white\", \"showbackground\": true, \"ticks\": \"\", \"zerolinecolor\": \"white\"}, \"yaxis\": {\"backgroundcolor\": \"#E5ECF6\", \"gridcolor\": \"white\", \"gridwidth\": 2, \"linecolor\": \"white\", \"showbackground\": true, \"ticks\": \"\", \"zerolinecolor\": \"white\"}, \"zaxis\": {\"backgroundcolor\": \"#E5ECF6\", \"gridcolor\": \"white\", \"gridwidth\": 2, \"linecolor\": \"white\", \"showbackground\": true, \"ticks\": \"\", \"zerolinecolor\": \"white\"}}, \"shapedefaults\": {\"line\": {\"color\": \"#2a3f5f\"}}, \"ternary\": {\"aaxis\": {\"gridcolor\": \"white\", \"linecolor\": \"white\", \"ticks\": \"\"}, \"baxis\": {\"gridcolor\": \"white\", \"linecolor\": \"white\", \"ticks\": \"\"}, \"bgcolor\": \"#E5ECF6\", \"caxis\": {\"gridcolor\": \"white\", \"linecolor\": \"white\", \"ticks\": \"\"}}, \"title\": {\"x\": 0.05}, \"xaxis\": {\"automargin\": true, \"gridcolor\": \"white\", \"linecolor\": \"white\", \"ticks\": \"\", \"title\": {\"standoff\": 15}, \"zerolinecolor\": \"white\", \"zerolinewidth\": 2}, \"yaxis\": {\"automargin\": true, \"gridcolor\": \"white\", \"linecolor\": \"white\", \"ticks\": \"\", \"title\": {\"standoff\": 15}, \"zerolinecolor\": \"white\", \"zerolinewidth\": 2}}}, \"title\": {\"text\": \"Events company E9 (Yawn-Warning)\"}, \"xaxis\": {\"anchor\": \"y\", \"domain\": [0.0, 0.94], \"dtick\": 3, \"gridcolor\": \"black\", \"gridwidth\": 1, \"linecolor\": \"black\", \"linewidth\": 2, \"mirror\": true, \"showgrid\": true, \"showline\": true, \"tick0\": 0, \"tickmode\": \"linear\", \"title\": {\"text\": \"Time of day\"}}, \"yaxis\": {\"anchor\": \"x\", \"domain\": [0.0, 1.0], \"gridcolor\": \"black\", \"gridwidth\": 1, \"linecolor\": \"black\", \"linewidth\": 2, \"mirror\": true, \"showgrid\": false, \"showline\": true, \"title\": {\"text\": \"<b>Raw</b>\"}}, \"yaxis2\": {\"anchor\": \"x\", \"gridcolor\": \"black\", \"gridwidth\": 1, \"linecolor\": \"black\", \"linewidth\": 2, \"mirror\": true, \"overlaying\": \"y\", \"showgrid\": false, \"showline\": true, \"side\": \"right\", \"title\": {\"text\": \"<b>Rate</b>\"}}},                        {\"responsive\": true}                    ).then(function(){\n",
              "                            \n",
              "var gd = document.getElementById('cb35c3ef-a59e-477a-b68b-28441a1312d6');\n",
              "var x = new MutationObserver(function (mutations, observer) {{\n",
              "        var display = window.getComputedStyle(gd).display;\n",
              "        if (!display || display === 'none') {{\n",
              "            console.log([gd, 'removed!']);\n",
              "            Plotly.purge(gd);\n",
              "            observer.disconnect();\n",
              "        }}\n",
              "}});\n",
              "\n",
              "// Listen for the removal of the full notebook cells\n",
              "var notebookContainer = gd.closest('#notebook-container');\n",
              "if (notebookContainer) {{\n",
              "    x.observe(notebookContainer, {childList: true});\n",
              "}}\n",
              "\n",
              "// Listen for the clearing of the current output cell\n",
              "var outputEl = gd.closest('.output');\n",
              "if (outputEl) {{\n",
              "    x.observe(outputEl, {childList: true});\n",
              "}}\n",
              "\n",
              "                        })                };                            </script>        </div>\n",
              "</body>\n",
              "</html>"
            ]
          },
          "metadata": {
            "tags": []
          }
        }
      ]
    },
    {
      "cell_type": "code",
      "metadata": {
        "id": "6pA3wB8Q8Nwo",
        "colab": {
          "base_uri": "https://localhost:8080/"
        },
        "outputId": "6bdf1d1c-197e-4069-c297-ada433180cd6"
      },
      "source": [
        "dfE91_tired = dfE91H[dfE91H.Tipo == 'Tired']\r\n",
        "dfE91_tired.shape"
      ],
      "execution_count": 698,
      "outputs": [
        {
          "output_type": "execute_result",
          "data": {
            "text/plain": [
              "(573, 10)"
            ]
          },
          "metadata": {
            "tags": []
          },
          "execution_count": 698
        }
      ]
    },
    {
      "cell_type": "code",
      "metadata": {
        "colab": {
          "base_uri": "https://localhost:8080/"
        },
        "id": "bz9uUDc3JNay",
        "outputId": "6df9b66c-1651-4e0c-e807-1eab0e6cded4"
      },
      "source": [
        "counts, bins = np.histogram(dfE91_tired['HORA'], bins=range(0, 25, 3))\r\n",
        "counts"
      ],
      "execution_count": 699,
      "outputs": [
        {
          "output_type": "execute_result",
          "data": {
            "text/plain": [
              "array([ 46,  50,  90,  97,  82, 100,  29,  79])"
            ]
          },
          "metadata": {
            "tags": []
          },
          "execution_count": 699
        }
      ]
    },
    {
      "cell_type": "code",
      "metadata": {
        "colab": {
          "base_uri": "https://localhost:8080/",
          "height": 542
        },
        "id": "xh5qMqQjJNbM",
        "outputId": "100291ca-b450-4f76-cae8-5d1762698524"
      },
      "source": [
        "graphics_plot(y = [counts, counts/c], name = ['Events(raw)', 'Events/Drivers'],\r\n",
        "              title = \"Events company E9 (Tired)\", yaxes_title = [\"Raw\", \"Rate\"])"
      ],
      "execution_count": 700,
      "outputs": [
        {
          "output_type": "display_data",
          "data": {
            "text/html": [
              "<html>\n",
              "<head><meta charset=\"utf-8\" /></head>\n",
              "<body>\n",
              "    <div>            <script src=\"https://cdnjs.cloudflare.com/ajax/libs/mathjax/2.7.5/MathJax.js?config=TeX-AMS-MML_SVG\"></script><script type=\"text/javascript\">if (window.MathJax) {MathJax.Hub.Config({SVG: {font: \"STIX-Web\"}});}</script>                <script type=\"text/javascript\">window.PlotlyConfig = {MathJaxConfig: 'local'};</script>\n",
              "        <script src=\"https://cdn.plot.ly/plotly-latest.min.js\"></script>                <div id=\"e4c94a1f-4dd2-449f-9af1-11ca07b326af\" class=\"plotly-graph-div\" style=\"height:525px; width:100%;\"></div>            <script type=\"text/javascript\">                                    window.PLOTLYENV=window.PLOTLYENV || {};                                    if (document.getElementById(\"e4c94a1f-4dd2-449f-9af1-11ca07b326af\")) {                    Plotly.newPlot(                        \"e4c94a1f-4dd2-449f-9af1-11ca07b326af\",                        [{\"line\": {\"color\": \"rgb(0, 0, 0)\", \"width\": 2}, \"marker\": {\"size\": 7, \"symbol\": \"x\"}, \"mode\": \"lines+markers\", \"name\": \"Events(raw)\", \"type\": \"scatter\", \"x\": [0.0, 3.0, 6.0, 9.0, 12.0, 15.0, 18.0, 21.0, 24.0], \"xaxis\": \"x\", \"y\": [46, 50, 90, 97, 82, 100, 29, 79], \"yaxis\": \"y\"}, {\"line\": {\"color\": \"rgb(0, 0, 0)\", \"dash\": \"dash\", \"width\": 2}, \"marker\": {\"size\": 7, \"symbol\": \"star\"}, \"mode\": \"lines+markers\", \"name\": \"Events/Drivers\", \"type\": \"scatter\", \"x\": [0.0, 3.0, 6.0, 9.0, 12.0, 15.0, 18.0, 21.0, 24.0], \"xaxis\": \"x\", \"y\": [0.3770491803278688, 0.3424657534246575, 0.6164383561643836, 0.5449438202247191, 0.36283185840707965, 0.49504950495049505, 0.14356435643564355, 0.4647058823529412], \"yaxis\": \"y2\"}],                        {\"legend\": {\"orientation\": \"h\", \"x\": 0.95, \"xanchor\": \"right\", \"y\": 1.01, \"yanchor\": \"bottom\"}, \"paper_bgcolor\": \"rgba(0,0,0,0)\", \"plot_bgcolor\": \"rgba(0,0,0,0)\", \"template\": {\"data\": {\"bar\": [{\"error_x\": {\"color\": \"#2a3f5f\"}, \"error_y\": {\"color\": \"#2a3f5f\"}, \"marker\": {\"line\": {\"color\": \"#E5ECF6\", \"width\": 0.5}}, \"type\": \"bar\"}], \"barpolar\": [{\"marker\": {\"line\": {\"color\": \"#E5ECF6\", \"width\": 0.5}}, \"type\": \"barpolar\"}], \"carpet\": [{\"aaxis\": {\"endlinecolor\": \"#2a3f5f\", \"gridcolor\": \"white\", \"linecolor\": \"white\", \"minorgridcolor\": \"white\", \"startlinecolor\": \"#2a3f5f\"}, \"baxis\": {\"endlinecolor\": \"#2a3f5f\", \"gridcolor\": \"white\", \"linecolor\": \"white\", \"minorgridcolor\": \"white\", \"startlinecolor\": \"#2a3f5f\"}, \"type\": \"carpet\"}], \"choropleth\": [{\"colorbar\": {\"outlinewidth\": 0, \"ticks\": \"\"}, \"type\": \"choropleth\"}], \"contour\": [{\"colorbar\": {\"outlinewidth\": 0, \"ticks\": \"\"}, \"colorscale\": [[0.0, \"#0d0887\"], [0.1111111111111111, \"#46039f\"], [0.2222222222222222, \"#7201a8\"], [0.3333333333333333, \"#9c179e\"], [0.4444444444444444, \"#bd3786\"], [0.5555555555555556, \"#d8576b\"], [0.6666666666666666, \"#ed7953\"], [0.7777777777777778, \"#fb9f3a\"], [0.8888888888888888, \"#fdca26\"], [1.0, \"#f0f921\"]], \"type\": \"contour\"}], \"contourcarpet\": [{\"colorbar\": {\"outlinewidth\": 0, \"ticks\": \"\"}, \"type\": \"contourcarpet\"}], \"heatmap\": [{\"colorbar\": {\"outlinewidth\": 0, \"ticks\": \"\"}, \"colorscale\": [[0.0, \"#0d0887\"], [0.1111111111111111, \"#46039f\"], [0.2222222222222222, \"#7201a8\"], [0.3333333333333333, \"#9c179e\"], [0.4444444444444444, \"#bd3786\"], [0.5555555555555556, \"#d8576b\"], [0.6666666666666666, \"#ed7953\"], [0.7777777777777778, \"#fb9f3a\"], [0.8888888888888888, \"#fdca26\"], [1.0, \"#f0f921\"]], \"type\": \"heatmap\"}], \"heatmapgl\": [{\"colorbar\": {\"outlinewidth\": 0, \"ticks\": \"\"}, \"colorscale\": [[0.0, \"#0d0887\"], [0.1111111111111111, \"#46039f\"], [0.2222222222222222, \"#7201a8\"], [0.3333333333333333, \"#9c179e\"], [0.4444444444444444, \"#bd3786\"], [0.5555555555555556, \"#d8576b\"], [0.6666666666666666, \"#ed7953\"], [0.7777777777777778, \"#fb9f3a\"], [0.8888888888888888, \"#fdca26\"], [1.0, \"#f0f921\"]], \"type\": \"heatmapgl\"}], \"histogram\": [{\"marker\": {\"colorbar\": {\"outlinewidth\": 0, \"ticks\": \"\"}}, \"type\": \"histogram\"}], \"histogram2d\": [{\"colorbar\": {\"outlinewidth\": 0, \"ticks\": \"\"}, \"colorscale\": [[0.0, \"#0d0887\"], [0.1111111111111111, \"#46039f\"], [0.2222222222222222, \"#7201a8\"], [0.3333333333333333, \"#9c179e\"], [0.4444444444444444, \"#bd3786\"], [0.5555555555555556, \"#d8576b\"], [0.6666666666666666, \"#ed7953\"], [0.7777777777777778, \"#fb9f3a\"], [0.8888888888888888, \"#fdca26\"], [1.0, \"#f0f921\"]], \"type\": \"histogram2d\"}], \"histogram2dcontour\": [{\"colorbar\": {\"outlinewidth\": 0, \"ticks\": \"\"}, \"colorscale\": [[0.0, \"#0d0887\"], [0.1111111111111111, \"#46039f\"], [0.2222222222222222, \"#7201a8\"], [0.3333333333333333, \"#9c179e\"], [0.4444444444444444, \"#bd3786\"], [0.5555555555555556, \"#d8576b\"], [0.6666666666666666, \"#ed7953\"], [0.7777777777777778, \"#fb9f3a\"], [0.8888888888888888, \"#fdca26\"], [1.0, \"#f0f921\"]], \"type\": \"histogram2dcontour\"}], \"mesh3d\": [{\"colorbar\": {\"outlinewidth\": 0, \"ticks\": \"\"}, \"type\": \"mesh3d\"}], \"parcoords\": [{\"line\": {\"colorbar\": {\"outlinewidth\": 0, \"ticks\": \"\"}}, \"type\": \"parcoords\"}], \"pie\": [{\"automargin\": true, \"type\": \"pie\"}], \"scatter\": [{\"marker\": {\"colorbar\": {\"outlinewidth\": 0, \"ticks\": \"\"}}, \"type\": \"scatter\"}], \"scatter3d\": [{\"line\": {\"colorbar\": {\"outlinewidth\": 0, \"ticks\": \"\"}}, \"marker\": {\"colorbar\": {\"outlinewidth\": 0, \"ticks\": \"\"}}, \"type\": \"scatter3d\"}], \"scattercarpet\": [{\"marker\": {\"colorbar\": {\"outlinewidth\": 0, \"ticks\": \"\"}}, \"type\": \"scattercarpet\"}], \"scattergeo\": [{\"marker\": {\"colorbar\": {\"outlinewidth\": 0, \"ticks\": \"\"}}, \"type\": \"scattergeo\"}], \"scattergl\": [{\"marker\": {\"colorbar\": {\"outlinewidth\": 0, \"ticks\": \"\"}}, \"type\": \"scattergl\"}], \"scattermapbox\": [{\"marker\": {\"colorbar\": {\"outlinewidth\": 0, \"ticks\": \"\"}}, \"type\": \"scattermapbox\"}], \"scatterpolar\": [{\"marker\": {\"colorbar\": {\"outlinewidth\": 0, \"ticks\": \"\"}}, \"type\": \"scatterpolar\"}], \"scatterpolargl\": [{\"marker\": {\"colorbar\": {\"outlinewidth\": 0, \"ticks\": \"\"}}, \"type\": \"scatterpolargl\"}], \"scatterternary\": [{\"marker\": {\"colorbar\": {\"outlinewidth\": 0, \"ticks\": \"\"}}, \"type\": \"scatterternary\"}], \"surface\": [{\"colorbar\": {\"outlinewidth\": 0, \"ticks\": \"\"}, \"colorscale\": [[0.0, \"#0d0887\"], [0.1111111111111111, \"#46039f\"], [0.2222222222222222, \"#7201a8\"], [0.3333333333333333, \"#9c179e\"], [0.4444444444444444, \"#bd3786\"], [0.5555555555555556, \"#d8576b\"], [0.6666666666666666, \"#ed7953\"], [0.7777777777777778, \"#fb9f3a\"], [0.8888888888888888, \"#fdca26\"], [1.0, \"#f0f921\"]], \"type\": \"surface\"}], \"table\": [{\"cells\": {\"fill\": {\"color\": \"#EBF0F8\"}, \"line\": {\"color\": \"white\"}}, \"header\": {\"fill\": {\"color\": \"#C8D4E3\"}, \"line\": {\"color\": \"white\"}}, \"type\": \"table\"}]}, \"layout\": {\"annotationdefaults\": {\"arrowcolor\": \"#2a3f5f\", \"arrowhead\": 0, \"arrowwidth\": 1}, \"autotypenumbers\": \"strict\", \"coloraxis\": {\"colorbar\": {\"outlinewidth\": 0, \"ticks\": \"\"}}, \"colorscale\": {\"diverging\": [[0, \"#8e0152\"], [0.1, \"#c51b7d\"], [0.2, \"#de77ae\"], [0.3, \"#f1b6da\"], [0.4, \"#fde0ef\"], [0.5, \"#f7f7f7\"], [0.6, \"#e6f5d0\"], [0.7, \"#b8e186\"], [0.8, \"#7fbc41\"], [0.9, \"#4d9221\"], [1, \"#276419\"]], \"sequential\": [[0.0, \"#0d0887\"], [0.1111111111111111, \"#46039f\"], [0.2222222222222222, \"#7201a8\"], [0.3333333333333333, \"#9c179e\"], [0.4444444444444444, \"#bd3786\"], [0.5555555555555556, \"#d8576b\"], [0.6666666666666666, \"#ed7953\"], [0.7777777777777778, \"#fb9f3a\"], [0.8888888888888888, \"#fdca26\"], [1.0, \"#f0f921\"]], \"sequentialminus\": [[0.0, \"#0d0887\"], [0.1111111111111111, \"#46039f\"], [0.2222222222222222, \"#7201a8\"], [0.3333333333333333, \"#9c179e\"], [0.4444444444444444, \"#bd3786\"], [0.5555555555555556, \"#d8576b\"], [0.6666666666666666, \"#ed7953\"], [0.7777777777777778, \"#fb9f3a\"], [0.8888888888888888, \"#fdca26\"], [1.0, \"#f0f921\"]]}, \"colorway\": [\"#636efa\", \"#EF553B\", \"#00cc96\", \"#ab63fa\", \"#FFA15A\", \"#19d3f3\", \"#FF6692\", \"#B6E880\", \"#FF97FF\", \"#FECB52\"], \"font\": {\"color\": \"#2a3f5f\"}, \"geo\": {\"bgcolor\": \"white\", \"lakecolor\": \"white\", \"landcolor\": \"#E5ECF6\", \"showlakes\": true, \"showland\": true, \"subunitcolor\": \"white\"}, \"hoverlabel\": {\"align\": \"left\"}, \"hovermode\": \"closest\", \"mapbox\": {\"style\": \"light\"}, \"paper_bgcolor\": \"white\", \"plot_bgcolor\": \"#E5ECF6\", \"polar\": {\"angularaxis\": {\"gridcolor\": \"white\", \"linecolor\": \"white\", \"ticks\": \"\"}, \"bgcolor\": \"#E5ECF6\", \"radialaxis\": {\"gridcolor\": \"white\", \"linecolor\": \"white\", \"ticks\": \"\"}}, \"scene\": {\"xaxis\": {\"backgroundcolor\": \"#E5ECF6\", \"gridcolor\": \"white\", \"gridwidth\": 2, \"linecolor\": \"white\", \"showbackground\": true, \"ticks\": \"\", \"zerolinecolor\": \"white\"}, \"yaxis\": {\"backgroundcolor\": \"#E5ECF6\", \"gridcolor\": \"white\", \"gridwidth\": 2, \"linecolor\": \"white\", \"showbackground\": true, \"ticks\": \"\", \"zerolinecolor\": \"white\"}, \"zaxis\": {\"backgroundcolor\": \"#E5ECF6\", \"gridcolor\": \"white\", \"gridwidth\": 2, \"linecolor\": \"white\", \"showbackground\": true, \"ticks\": \"\", \"zerolinecolor\": \"white\"}}, \"shapedefaults\": {\"line\": {\"color\": \"#2a3f5f\"}}, \"ternary\": {\"aaxis\": {\"gridcolor\": \"white\", \"linecolor\": \"white\", \"ticks\": \"\"}, \"baxis\": {\"gridcolor\": \"white\", \"linecolor\": \"white\", \"ticks\": \"\"}, \"bgcolor\": \"#E5ECF6\", \"caxis\": {\"gridcolor\": \"white\", \"linecolor\": \"white\", \"ticks\": \"\"}}, \"title\": {\"x\": 0.05}, \"xaxis\": {\"automargin\": true, \"gridcolor\": \"white\", \"linecolor\": \"white\", \"ticks\": \"\", \"title\": {\"standoff\": 15}, \"zerolinecolor\": \"white\", \"zerolinewidth\": 2}, \"yaxis\": {\"automargin\": true, \"gridcolor\": \"white\", \"linecolor\": \"white\", \"ticks\": \"\", \"title\": {\"standoff\": 15}, \"zerolinecolor\": \"white\", \"zerolinewidth\": 2}}}, \"title\": {\"text\": \"Events company E9 (Tired)\"}, \"xaxis\": {\"anchor\": \"y\", \"domain\": [0.0, 0.94], \"dtick\": 3, \"gridcolor\": \"black\", \"gridwidth\": 1, \"linecolor\": \"black\", \"linewidth\": 2, \"mirror\": true, \"showgrid\": true, \"showline\": true, \"tick0\": 0, \"tickmode\": \"linear\", \"title\": {\"text\": \"Time of day\"}}, \"yaxis\": {\"anchor\": \"x\", \"domain\": [0.0, 1.0], \"gridcolor\": \"black\", \"gridwidth\": 1, \"linecolor\": \"black\", \"linewidth\": 2, \"mirror\": true, \"showgrid\": false, \"showline\": true, \"title\": {\"text\": \"<b>Raw</b>\"}}, \"yaxis2\": {\"anchor\": \"x\", \"gridcolor\": \"black\", \"gridwidth\": 1, \"linecolor\": \"black\", \"linewidth\": 2, \"mirror\": true, \"overlaying\": \"y\", \"showgrid\": false, \"showline\": true, \"side\": \"right\", \"title\": {\"text\": \"<b>Rate</b>\"}}},                        {\"responsive\": true}                    ).then(function(){\n",
              "                            \n",
              "var gd = document.getElementById('e4c94a1f-4dd2-449f-9af1-11ca07b326af');\n",
              "var x = new MutationObserver(function (mutations, observer) {{\n",
              "        var display = window.getComputedStyle(gd).display;\n",
              "        if (!display || display === 'none') {{\n",
              "            console.log([gd, 'removed!']);\n",
              "            Plotly.purge(gd);\n",
              "            observer.disconnect();\n",
              "        }}\n",
              "}});\n",
              "\n",
              "// Listen for the removal of the full notebook cells\n",
              "var notebookContainer = gd.closest('#notebook-container');\n",
              "if (notebookContainer) {{\n",
              "    x.observe(notebookContainer, {childList: true});\n",
              "}}\n",
              "\n",
              "// Listen for the clearing of the current output cell\n",
              "var outputEl = gd.closest('.output');\n",
              "if (outputEl) {{\n",
              "    x.observe(outputEl, {childList: true});\n",
              "}}\n",
              "\n",
              "                        })                };                            </script>        </div>\n",
              "</body>\n",
              "</html>"
            ]
          },
          "metadata": {
            "tags": []
          }
        }
      ]
    },
    {
      "cell_type": "code",
      "metadata": {
        "colab": {
          "base_uri": "https://localhost:8080/"
        },
        "id": "Z5oHFfapJyqw",
        "outputId": "c21a29ad-d2b9-44e6-a5b8-d7c073dad821"
      },
      "source": [
        "dfE92H.shape"
      ],
      "execution_count": 701,
      "outputs": [
        {
          "output_type": "execute_result",
          "data": {
            "text/plain": [
              "(2895, 10)"
            ]
          },
          "metadata": {
            "tags": []
          },
          "execution_count": 701
        }
      ]
    },
    {
      "cell_type": "code",
      "metadata": {
        "colab": {
          "base_uri": "https://localhost:8080/"
        },
        "id": "PpPJ07NJJyqw",
        "outputId": "b57c1cb8-aa86-499e-dd3b-a1d9558c4f8e"
      },
      "source": [
        "dfE92H.Tipo.value_counts()"
      ],
      "execution_count": 702,
      "outputs": [
        {
          "output_type": "execute_result",
          "data": {
            "text/plain": [
              "Atten-Warning    2895\n",
              "Name: Tipo, dtype: int64"
            ]
          },
          "metadata": {
            "tags": []
          },
          "execution_count": 702
        }
      ]
    },
    {
      "cell_type": "code",
      "metadata": {
        "colab": {
          "base_uri": "https://localhost:8080/"
        },
        "id": "JF8eVRXNJyqx",
        "outputId": "935a17ac-a9b5-496b-fdf6-1632ce692c62"
      },
      "source": [
        "dfE92_at = dfE92H[dfE92H.Tipo == 'Atten-Warning']\r\n",
        "dfE92_at.shape"
      ],
      "execution_count": 703,
      "outputs": [
        {
          "output_type": "execute_result",
          "data": {
            "text/plain": [
              "(2895, 10)"
            ]
          },
          "metadata": {
            "tags": []
          },
          "execution_count": 703
        }
      ]
    },
    {
      "cell_type": "code",
      "metadata": {
        "colab": {
          "base_uri": "https://localhost:8080/"
        },
        "id": "wK6DcL6XJi7x",
        "outputId": "053a9dcf-939e-419d-f3c0-737d3418910c"
      },
      "source": [
        "counts, bins = np.histogram(dfE92_at['HORA'], bins=range(0, 25, 3))\r\n",
        "counts"
      ],
      "execution_count": 704,
      "outputs": [
        {
          "output_type": "execute_result",
          "data": {
            "text/plain": [
              "array([424, 402, 375, 353, 467, 322, 106, 446])"
            ]
          },
          "metadata": {
            "tags": []
          },
          "execution_count": 704
        }
      ]
    },
    {
      "cell_type": "code",
      "metadata": {
        "colab": {
          "base_uri": "https://localhost:8080/",
          "height": 542
        },
        "id": "o7TgXtROJi71",
        "outputId": "37e4027e-49c7-49b3-e54d-c3afd2ebcc9f"
      },
      "source": [
        "graphics_plot(y = [counts, counts/c], name = ['Events(raw)', 'Events/Drivers'],\r\n",
        "              title = \"Events company E9 (Atten-Warning)\", yaxes_title = [\"Raw\", \"Rate\"],\r\n",
        "              save=True)"
      ],
      "execution_count": 705,
      "outputs": [
        {
          "output_type": "display_data",
          "data": {
            "text/html": [
              "<html>\n",
              "<head><meta charset=\"utf-8\" /></head>\n",
              "<body>\n",
              "    <div>            <script src=\"https://cdnjs.cloudflare.com/ajax/libs/mathjax/2.7.5/MathJax.js?config=TeX-AMS-MML_SVG\"></script><script type=\"text/javascript\">if (window.MathJax) {MathJax.Hub.Config({SVG: {font: \"STIX-Web\"}});}</script>                <script type=\"text/javascript\">window.PlotlyConfig = {MathJaxConfig: 'local'};</script>\n",
              "        <script src=\"https://cdn.plot.ly/plotly-latest.min.js\"></script>                <div id=\"c2a940db-9534-49fe-ae7f-1e789d0501a9\" class=\"plotly-graph-div\" style=\"height:525px; width:100%;\"></div>            <script type=\"text/javascript\">                                    window.PLOTLYENV=window.PLOTLYENV || {};                                    if (document.getElementById(\"c2a940db-9534-49fe-ae7f-1e789d0501a9\")) {                    Plotly.newPlot(                        \"c2a940db-9534-49fe-ae7f-1e789d0501a9\",                        [{\"line\": {\"color\": \"rgb(0, 0, 0)\", \"width\": 2}, \"marker\": {\"size\": 7, \"symbol\": \"x\"}, \"mode\": \"lines+markers\", \"name\": \"Events(raw)\", \"type\": \"scatter\", \"x\": [0.0, 3.0, 6.0, 9.0, 12.0, 15.0, 18.0, 21.0, 24.0], \"xaxis\": \"x\", \"y\": [424, 402, 375, 353, 467, 322, 106, 446], \"yaxis\": \"y\"}, {\"line\": {\"color\": \"rgb(0, 0, 0)\", \"dash\": \"dash\", \"width\": 2}, \"marker\": {\"size\": 7, \"symbol\": \"star\"}, \"mode\": \"lines+markers\", \"name\": \"Events/Drivers\", \"type\": \"scatter\", \"x\": [0.0, 3.0, 6.0, 9.0, 12.0, 15.0, 18.0, 21.0, 24.0], \"xaxis\": \"x\", \"y\": [3.4754098360655736, 2.7534246575342465, 2.5684931506849313, 1.9831460674157304, 2.066371681415929, 1.5940594059405941, 0.5247524752475248, 2.623529411764706], \"yaxis\": \"y2\"}],                        {\"legend\": {\"orientation\": \"h\", \"x\": 0.95, \"xanchor\": \"right\", \"y\": 1.01, \"yanchor\": \"bottom\"}, \"paper_bgcolor\": \"rgba(0,0,0,0)\", \"plot_bgcolor\": \"rgba(0,0,0,0)\", \"template\": {\"data\": {\"bar\": [{\"error_x\": {\"color\": \"#2a3f5f\"}, \"error_y\": {\"color\": \"#2a3f5f\"}, \"marker\": {\"line\": {\"color\": \"#E5ECF6\", \"width\": 0.5}}, \"type\": \"bar\"}], \"barpolar\": [{\"marker\": {\"line\": {\"color\": \"#E5ECF6\", \"width\": 0.5}}, \"type\": \"barpolar\"}], \"carpet\": [{\"aaxis\": {\"endlinecolor\": \"#2a3f5f\", \"gridcolor\": \"white\", \"linecolor\": \"white\", \"minorgridcolor\": \"white\", \"startlinecolor\": \"#2a3f5f\"}, \"baxis\": {\"endlinecolor\": \"#2a3f5f\", \"gridcolor\": \"white\", \"linecolor\": \"white\", \"minorgridcolor\": \"white\", \"startlinecolor\": \"#2a3f5f\"}, \"type\": \"carpet\"}], \"choropleth\": [{\"colorbar\": {\"outlinewidth\": 0, \"ticks\": \"\"}, \"type\": \"choropleth\"}], \"contour\": [{\"colorbar\": {\"outlinewidth\": 0, \"ticks\": \"\"}, \"colorscale\": [[0.0, \"#0d0887\"], [0.1111111111111111, \"#46039f\"], [0.2222222222222222, \"#7201a8\"], [0.3333333333333333, \"#9c179e\"], [0.4444444444444444, \"#bd3786\"], [0.5555555555555556, \"#d8576b\"], [0.6666666666666666, \"#ed7953\"], [0.7777777777777778, \"#fb9f3a\"], [0.8888888888888888, \"#fdca26\"], [1.0, \"#f0f921\"]], \"type\": \"contour\"}], \"contourcarpet\": [{\"colorbar\": {\"outlinewidth\": 0, \"ticks\": \"\"}, \"type\": \"contourcarpet\"}], \"heatmap\": [{\"colorbar\": {\"outlinewidth\": 0, \"ticks\": \"\"}, \"colorscale\": [[0.0, \"#0d0887\"], [0.1111111111111111, \"#46039f\"], [0.2222222222222222, \"#7201a8\"], [0.3333333333333333, \"#9c179e\"], [0.4444444444444444, \"#bd3786\"], [0.5555555555555556, \"#d8576b\"], [0.6666666666666666, \"#ed7953\"], [0.7777777777777778, \"#fb9f3a\"], [0.8888888888888888, \"#fdca26\"], [1.0, \"#f0f921\"]], \"type\": \"heatmap\"}], \"heatmapgl\": [{\"colorbar\": {\"outlinewidth\": 0, \"ticks\": \"\"}, \"colorscale\": [[0.0, \"#0d0887\"], [0.1111111111111111, \"#46039f\"], [0.2222222222222222, \"#7201a8\"], [0.3333333333333333, \"#9c179e\"], [0.4444444444444444, \"#bd3786\"], [0.5555555555555556, \"#d8576b\"], [0.6666666666666666, \"#ed7953\"], [0.7777777777777778, \"#fb9f3a\"], [0.8888888888888888, \"#fdca26\"], [1.0, \"#f0f921\"]], \"type\": \"heatmapgl\"}], \"histogram\": [{\"marker\": {\"colorbar\": {\"outlinewidth\": 0, \"ticks\": \"\"}}, \"type\": \"histogram\"}], \"histogram2d\": [{\"colorbar\": {\"outlinewidth\": 0, \"ticks\": \"\"}, \"colorscale\": [[0.0, \"#0d0887\"], [0.1111111111111111, \"#46039f\"], [0.2222222222222222, \"#7201a8\"], [0.3333333333333333, \"#9c179e\"], [0.4444444444444444, \"#bd3786\"], [0.5555555555555556, \"#d8576b\"], [0.6666666666666666, \"#ed7953\"], [0.7777777777777778, \"#fb9f3a\"], [0.8888888888888888, \"#fdca26\"], [1.0, \"#f0f921\"]], \"type\": \"histogram2d\"}], \"histogram2dcontour\": [{\"colorbar\": {\"outlinewidth\": 0, \"ticks\": \"\"}, \"colorscale\": [[0.0, \"#0d0887\"], [0.1111111111111111, \"#46039f\"], [0.2222222222222222, \"#7201a8\"], [0.3333333333333333, \"#9c179e\"], [0.4444444444444444, \"#bd3786\"], [0.5555555555555556, \"#d8576b\"], [0.6666666666666666, \"#ed7953\"], [0.7777777777777778, \"#fb9f3a\"], [0.8888888888888888, \"#fdca26\"], [1.0, \"#f0f921\"]], \"type\": \"histogram2dcontour\"}], \"mesh3d\": [{\"colorbar\": {\"outlinewidth\": 0, \"ticks\": \"\"}, \"type\": \"mesh3d\"}], \"parcoords\": [{\"line\": {\"colorbar\": {\"outlinewidth\": 0, \"ticks\": \"\"}}, \"type\": \"parcoords\"}], \"pie\": [{\"automargin\": true, \"type\": \"pie\"}], \"scatter\": [{\"marker\": {\"colorbar\": {\"outlinewidth\": 0, \"ticks\": \"\"}}, \"type\": \"scatter\"}], \"scatter3d\": [{\"line\": {\"colorbar\": {\"outlinewidth\": 0, \"ticks\": \"\"}}, \"marker\": {\"colorbar\": {\"outlinewidth\": 0, \"ticks\": \"\"}}, \"type\": \"scatter3d\"}], \"scattercarpet\": [{\"marker\": {\"colorbar\": {\"outlinewidth\": 0, \"ticks\": \"\"}}, \"type\": \"scattercarpet\"}], \"scattergeo\": [{\"marker\": {\"colorbar\": {\"outlinewidth\": 0, \"ticks\": \"\"}}, \"type\": \"scattergeo\"}], \"scattergl\": [{\"marker\": {\"colorbar\": {\"outlinewidth\": 0, \"ticks\": \"\"}}, \"type\": \"scattergl\"}], \"scattermapbox\": [{\"marker\": {\"colorbar\": {\"outlinewidth\": 0, \"ticks\": \"\"}}, \"type\": \"scattermapbox\"}], \"scatterpolar\": [{\"marker\": {\"colorbar\": {\"outlinewidth\": 0, \"ticks\": \"\"}}, \"type\": \"scatterpolar\"}], \"scatterpolargl\": [{\"marker\": {\"colorbar\": {\"outlinewidth\": 0, \"ticks\": \"\"}}, \"type\": \"scatterpolargl\"}], \"scatterternary\": [{\"marker\": {\"colorbar\": {\"outlinewidth\": 0, \"ticks\": \"\"}}, \"type\": \"scatterternary\"}], \"surface\": [{\"colorbar\": {\"outlinewidth\": 0, \"ticks\": \"\"}, \"colorscale\": [[0.0, \"#0d0887\"], [0.1111111111111111, \"#46039f\"], [0.2222222222222222, \"#7201a8\"], [0.3333333333333333, \"#9c179e\"], [0.4444444444444444, \"#bd3786\"], [0.5555555555555556, \"#d8576b\"], [0.6666666666666666, \"#ed7953\"], [0.7777777777777778, \"#fb9f3a\"], [0.8888888888888888, \"#fdca26\"], [1.0, \"#f0f921\"]], \"type\": \"surface\"}], \"table\": [{\"cells\": {\"fill\": {\"color\": \"#EBF0F8\"}, \"line\": {\"color\": \"white\"}}, \"header\": {\"fill\": {\"color\": \"#C8D4E3\"}, \"line\": {\"color\": \"white\"}}, \"type\": \"table\"}]}, \"layout\": {\"annotationdefaults\": {\"arrowcolor\": \"#2a3f5f\", \"arrowhead\": 0, \"arrowwidth\": 1}, \"autotypenumbers\": \"strict\", \"coloraxis\": {\"colorbar\": {\"outlinewidth\": 0, \"ticks\": \"\"}}, \"colorscale\": {\"diverging\": [[0, \"#8e0152\"], [0.1, \"#c51b7d\"], [0.2, \"#de77ae\"], [0.3, \"#f1b6da\"], [0.4, \"#fde0ef\"], [0.5, \"#f7f7f7\"], [0.6, \"#e6f5d0\"], [0.7, \"#b8e186\"], [0.8, \"#7fbc41\"], [0.9, \"#4d9221\"], [1, \"#276419\"]], \"sequential\": [[0.0, \"#0d0887\"], [0.1111111111111111, \"#46039f\"], [0.2222222222222222, \"#7201a8\"], [0.3333333333333333, \"#9c179e\"], [0.4444444444444444, \"#bd3786\"], [0.5555555555555556, \"#d8576b\"], [0.6666666666666666, \"#ed7953\"], [0.7777777777777778, \"#fb9f3a\"], [0.8888888888888888, \"#fdca26\"], [1.0, \"#f0f921\"]], \"sequentialminus\": [[0.0, \"#0d0887\"], [0.1111111111111111, \"#46039f\"], [0.2222222222222222, \"#7201a8\"], [0.3333333333333333, \"#9c179e\"], [0.4444444444444444, \"#bd3786\"], [0.5555555555555556, \"#d8576b\"], [0.6666666666666666, \"#ed7953\"], [0.7777777777777778, \"#fb9f3a\"], [0.8888888888888888, \"#fdca26\"], [1.0, \"#f0f921\"]]}, \"colorway\": [\"#636efa\", \"#EF553B\", \"#00cc96\", \"#ab63fa\", \"#FFA15A\", \"#19d3f3\", \"#FF6692\", \"#B6E880\", \"#FF97FF\", \"#FECB52\"], \"font\": {\"color\": \"#2a3f5f\"}, \"geo\": {\"bgcolor\": \"white\", \"lakecolor\": \"white\", \"landcolor\": \"#E5ECF6\", \"showlakes\": true, \"showland\": true, \"subunitcolor\": \"white\"}, \"hoverlabel\": {\"align\": \"left\"}, \"hovermode\": \"closest\", \"mapbox\": {\"style\": \"light\"}, \"paper_bgcolor\": \"white\", \"plot_bgcolor\": \"#E5ECF6\", \"polar\": {\"angularaxis\": {\"gridcolor\": \"white\", \"linecolor\": \"white\", \"ticks\": \"\"}, \"bgcolor\": \"#E5ECF6\", \"radialaxis\": {\"gridcolor\": \"white\", \"linecolor\": \"white\", \"ticks\": \"\"}}, \"scene\": {\"xaxis\": {\"backgroundcolor\": \"#E5ECF6\", \"gridcolor\": \"white\", \"gridwidth\": 2, \"linecolor\": \"white\", \"showbackground\": true, \"ticks\": \"\", \"zerolinecolor\": \"white\"}, \"yaxis\": {\"backgroundcolor\": \"#E5ECF6\", \"gridcolor\": \"white\", \"gridwidth\": 2, \"linecolor\": \"white\", \"showbackground\": true, \"ticks\": \"\", \"zerolinecolor\": \"white\"}, \"zaxis\": {\"backgroundcolor\": \"#E5ECF6\", \"gridcolor\": \"white\", \"gridwidth\": 2, \"linecolor\": \"white\", \"showbackground\": true, \"ticks\": \"\", \"zerolinecolor\": \"white\"}}, \"shapedefaults\": {\"line\": {\"color\": \"#2a3f5f\"}}, \"ternary\": {\"aaxis\": {\"gridcolor\": \"white\", \"linecolor\": \"white\", \"ticks\": \"\"}, \"baxis\": {\"gridcolor\": \"white\", \"linecolor\": \"white\", \"ticks\": \"\"}, \"bgcolor\": \"#E5ECF6\", \"caxis\": {\"gridcolor\": \"white\", \"linecolor\": \"white\", \"ticks\": \"\"}}, \"title\": {\"x\": 0.05}, \"xaxis\": {\"automargin\": true, \"gridcolor\": \"white\", \"linecolor\": \"white\", \"ticks\": \"\", \"title\": {\"standoff\": 15}, \"zerolinecolor\": \"white\", \"zerolinewidth\": 2}, \"yaxis\": {\"automargin\": true, \"gridcolor\": \"white\", \"linecolor\": \"white\", \"ticks\": \"\", \"title\": {\"standoff\": 15}, \"zerolinecolor\": \"white\", \"zerolinewidth\": 2}}}, \"title\": {\"text\": \"Events company E9 (Atten-Warning)\"}, \"xaxis\": {\"anchor\": \"y\", \"domain\": [0.0, 0.94], \"dtick\": 3, \"gridcolor\": \"black\", \"gridwidth\": 1, \"linecolor\": \"black\", \"linewidth\": 2, \"mirror\": true, \"showgrid\": true, \"showline\": true, \"tick0\": 0, \"tickmode\": \"linear\", \"title\": {\"text\": \"Time of day\"}}, \"yaxis\": {\"anchor\": \"x\", \"domain\": [0.0, 1.0], \"gridcolor\": \"black\", \"gridwidth\": 1, \"linecolor\": \"black\", \"linewidth\": 2, \"mirror\": true, \"showgrid\": false, \"showline\": true, \"title\": {\"text\": \"<b>Raw</b>\"}}, \"yaxis2\": {\"anchor\": \"x\", \"gridcolor\": \"black\", \"gridwidth\": 1, \"linecolor\": \"black\", \"linewidth\": 2, \"mirror\": true, \"overlaying\": \"y\", \"showgrid\": false, \"showline\": true, \"side\": \"right\", \"title\": {\"text\": \"<b>Rate</b>\"}}},                        {\"responsive\": true}                    ).then(function(){\n",
              "                            \n",
              "var gd = document.getElementById('c2a940db-9534-49fe-ae7f-1e789d0501a9');\n",
              "var x = new MutationObserver(function (mutations, observer) {{\n",
              "        var display = window.getComputedStyle(gd).display;\n",
              "        if (!display || display === 'none') {{\n",
              "            console.log([gd, 'removed!']);\n",
              "            Plotly.purge(gd);\n",
              "            observer.disconnect();\n",
              "        }}\n",
              "}});\n",
              "\n",
              "// Listen for the removal of the full notebook cells\n",
              "var notebookContainer = gd.closest('#notebook-container');\n",
              "if (notebookContainer) {{\n",
              "    x.observe(notebookContainer, {childList: true});\n",
              "}}\n",
              "\n",
              "// Listen for the clearing of the current output cell\n",
              "var outputEl = gd.closest('.output');\n",
              "if (outputEl) {{\n",
              "    x.observe(outputEl, {childList: true});\n",
              "}}\n",
              "\n",
              "                        })                };                            </script>        </div>\n",
              "</body>\n",
              "</html>"
            ]
          },
          "metadata": {
            "tags": []
          }
        }
      ]
    },
    {
      "cell_type": "code",
      "metadata": {
        "id": "-zmrzsfDBrAj"
      },
      "source": [
        "# fig.write_image(\"images/AcidentesTotal.eps\") ### Salvar imagens"
      ],
      "execution_count": 642,
      "outputs": []
    },
    {
      "cell_type": "markdown",
      "metadata": {
        "id": "zzgpC4w_DFj7"
      },
      "source": [
        "# **Salvar os resultados em csv**"
      ]
    },
    {
      "cell_type": "code",
      "metadata": {
        "id": "KZGfQO6XKW98"
      },
      "source": [
        "dfE3_final.to_csv('/content/drive/MyDrive/Trabalho/Datasets/E3_final.csv', encoding='utf-8')#, index=False)"
      ],
      "execution_count": null,
      "outputs": []
    },
    {
      "cell_type": "code",
      "metadata": {
        "colab": {
          "base_uri": "https://localhost:8080/",
          "height": 235
        },
        "id": "yrrKfSKoMiwW",
        "outputId": "46c2af90-7674-4874-b46f-38a1a3675250"
      },
      "source": [
        "df = pd.read_csv('/content/drive/MyDrive/Trabalho/Datasets/E3_final.csv', index_col='HORA')\r\n",
        "df.head()"
      ],
      "execution_count": null,
      "outputs": [
        {
          "output_type": "execute_result",
          "data": {
            "text/html": [
              "<div>\n",
              "<style scoped>\n",
              "    .dataframe tbody tr th:only-of-type {\n",
              "        vertical-align: middle;\n",
              "    }\n",
              "\n",
              "    .dataframe tbody tr th {\n",
              "        vertical-align: top;\n",
              "    }\n",
              "\n",
              "    .dataframe thead th {\n",
              "        text-align: right;\n",
              "    }\n",
              "</style>\n",
              "<table border=\"1\" class=\"dataframe\">\n",
              "  <thead>\n",
              "    <tr style=\"text-align: right;\">\n",
              "      <th></th>\n",
              "      <th>N° de motoristas</th>\n",
              "      <th>Fadiga</th>\n",
              "      <th>Acidentes</th>\n",
              "    </tr>\n",
              "    <tr>\n",
              "      <th>HORA</th>\n",
              "      <th></th>\n",
              "      <th></th>\n",
              "      <th></th>\n",
              "    </tr>\n",
              "  </thead>\n",
              "  <tbody>\n",
              "    <tr>\n",
              "      <th>0</th>\n",
              "      <td>41</td>\n",
              "      <td>225</td>\n",
              "      <td>4</td>\n",
              "    </tr>\n",
              "    <tr>\n",
              "      <th>1</th>\n",
              "      <td>52</td>\n",
              "      <td>357</td>\n",
              "      <td>1</td>\n",
              "    </tr>\n",
              "    <tr>\n",
              "      <th>2</th>\n",
              "      <td>44</td>\n",
              "      <td>278</td>\n",
              "      <td>3</td>\n",
              "    </tr>\n",
              "    <tr>\n",
              "      <th>3</th>\n",
              "      <td>40</td>\n",
              "      <td>267</td>\n",
              "      <td>3</td>\n",
              "    </tr>\n",
              "    <tr>\n",
              "      <th>4</th>\n",
              "      <td>44</td>\n",
              "      <td>274</td>\n",
              "      <td>1</td>\n",
              "    </tr>\n",
              "  </tbody>\n",
              "</table>\n",
              "</div>"
            ],
            "text/plain": [
              "      N° de motoristas  Fadiga  Acidentes\n",
              "HORA                                     \n",
              "0                   41     225          4\n",
              "1                   52     357          1\n",
              "2                   44     278          3\n",
              "3                   40     267          3\n",
              "4                   44     274          1"
            ]
          },
          "metadata": {
            "tags": []
          },
          "execution_count": 377
        }
      ]
    }
  ]
}