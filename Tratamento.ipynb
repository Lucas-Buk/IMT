{
  "nbformat": 4,
  "nbformat_minor": 0,
  "metadata": {
    "colab": {
      "name": "Tratamento.ipynb",
      "provenance": [],
      "collapsed_sections": [
        "oyIb2QifkUZS",
        "PAG4ul1wkRW2",
        "1iBt-vIDJsMQ",
        "4NziHuukWQ4U",
        "kXATWDn_8AUU",
        "lfqvYn_lWULy",
        "-CWTijrd8KY-"
      ],
      "mount_file_id": "1xXTKEbiCmxcvDWXsA-8eQtV3m3T2OpUq",
      "authorship_tag": "ABX9TyPmZ6/ufbknl26POHw2NGMr",
      "include_colab_link": true
    },
    "kernelspec": {
      "name": "python3",
      "display_name": "Python 3"
    }
  },
  "cells": [
    {
      "cell_type": "markdown",
      "metadata": {
        "id": "view-in-github",
        "colab_type": "text"
      },
      "source": [
        "<a href=\"https://colab.research.google.com/github/Lucas-Buk/IMT/blob/main/Tratamento.ipynb\" target=\"_parent\"><img src=\"https://colab.research.google.com/assets/colab-badge.svg\" alt=\"Open In Colab\"/></a>"
      ]
    },
    {
      "cell_type": "markdown",
      "metadata": {
        "id": "oyIb2QifkUZS"
      },
      "source": [
        "# **Bibliotecas**"
      ]
    },
    {
      "cell_type": "code",
      "metadata": {
        "id": "2l2PtKfRI-Ko"
      },
      "source": [
        "# instala biblioteca para leitura de excel e biblioteca gráfica\n",
        "\n",
        "!pip install xlrd\n",
        "!pip install -U plotly\n",
        "# !pip install plotly==4.8.1\n",
        "\n",
        "# organização da planilha excel\n",
        "\n",
        "!pip install nltk\n",
        "\n",
        "# Exportando figuras com melhores resoluções\n",
        "\n",
        "!pip install -U kaleido"
      ],
      "execution_count": null,
      "outputs": []
    },
    {
      "cell_type": "code",
      "metadata": {
        "id": "HaqiwShwhsD5"
      },
      "source": [
        "!add-apt-repository -y ppa:cran/poppler\n",
        "!apt-get update\n",
        "!apt-get install -y libpoppler-cpp-dev"
      ],
      "execution_count": null,
      "outputs": []
    },
    {
      "cell_type": "code",
      "metadata": {
        "id": "SWoaxYhJfoal"
      },
      "source": [
        "!apt-get install poppler-utils "
      ],
      "execution_count": null,
      "outputs": []
    },
    {
      "cell_type": "code",
      "metadata": {
        "id": "wU_x9uvLJAz2"
      },
      "source": [
        "# Importa a biblioteca pandas\n",
        "\n",
        "import pandas as pd\n",
        "pd.options.plotting.backend = \"plotly\"\n",
        "\n",
        "# Importa biblioteca para conversão de datas\n",
        "\n",
        "from datetime import datetime\n",
        "\n",
        "# Bilbioteca gráfica utilizada neste estudo\n",
        "\n",
        "import plotly.express as px\n",
        "import plotly.figure_factory as ff\n",
        "\n",
        "# Importando pacote\n",
        "import nltk\n",
        "nltk.download(\"popular\")\n",
        "import pandas as pd\n",
        "import numpy as np\n",
        "\n",
        "# Stemming pt\n",
        "nltk.download('rslp')\n",
        "\n",
        "# biblioteca numérica\n",
        "\n",
        "import scipy.stats as stats\n",
        "import scipy\n",
        "from sklearn.metrics import r2_score"
      ],
      "execution_count": null,
      "outputs": []
    },
    {
      "cell_type": "code",
      "metadata": {
        "id": "4z8cvklVJEsy"
      },
      "source": [
        "# biblioteca numérica\n",
        "from scipy.interpolate import interp1d\n",
        "from scipy import stats\n",
        "from sklearn import datasets, linear_model\n",
        "from sklearn.linear_model import LinearRegression\n",
        "import statsmodels.api as sm"
      ],
      "execution_count": 107,
      "outputs": []
    },
    {
      "cell_type": "code",
      "metadata": {
        "id": "UH1h_0m6JHng"
      },
      "source": [
        "from plotly.subplots import make_subplots\n",
        "import plotly.graph_objects as go"
      ],
      "execution_count": 108,
      "outputs": []
    },
    {
      "cell_type": "code",
      "metadata": {
        "id": "U7hcjWG_OKtj"
      },
      "source": [
        "# Diretório de imagens\n",
        "import os\n",
        "if not os.path.exists(\"images\"):\n",
        "    os.mkdir(\"images\")"
      ],
      "execution_count": 109,
      "outputs": []
    },
    {
      "cell_type": "code",
      "metadata": {
        "id": "ioHLF_A1rPFY"
      },
      "source": [
        "from scipy.optimize import curve_fit\n",
        "import math\n",
        "import matplotlib.pyplot as plt\n",
        "import matplotlib"
      ],
      "execution_count": 110,
      "outputs": []
    },
    {
      "cell_type": "markdown",
      "metadata": {
        "id": "U_9GSUcGowQ7"
      },
      "source": [
        "# **Funções proprietárias**"
      ]
    },
    {
      "cell_type": "code",
      "metadata": {
        "id": "kfdXhX7my5GO"
      },
      "source": [
        "#######################################################################\n",
        "\n",
        "def DataNorm(Acc):\n",
        "\n",
        "  # Montagem do Kernel\n",
        "\n",
        "  variavel =  scipy.stats.zscore(Acc, axis=0, ddof=0)\n",
        "  empilhada = variavel.tolist()\n",
        "  empilhada += [24+i for i in variavel.tolist() ]\n",
        "  empilhada += [48+i for i in variavel.tolist() ]\n",
        "  bins = np.linspace(0,24,24)\n",
        "  bins = 3*bins.tolist()\n",
        "  Kernel = stats.gaussian_kde(empilhada)\n",
        "\n",
        "  Acc_kernel = Kernel(np.linspace(25,49,24))\n",
        "\n",
        "\n",
        "  return Acc_kernel\n",
        "\n",
        "#######################################################################"
      ],
      "execution_count": 111,
      "outputs": []
    },
    {
      "cell_type": "code",
      "metadata": {
        "id": "69-xdZHHa9bF"
      },
      "source": [
        "# Polynomial Regression\n",
        "def polyfit(x, y, degree):\n",
        "    results = {}\n",
        "\n",
        "    coeffs = np.polyfit(x, y, degree)\n",
        "     # Polynomial Coefficients\n",
        "    results['polynomial'] = coeffs.tolist()\n",
        "\n",
        "    correlation = np.corrcoef(x, y)[0,1]\n",
        "\n",
        "     # r\n",
        "    results['correlation'] = correlation\n",
        "     # r-squared\n",
        "    results['determination'] = correlation**2\n",
        "\n",
        "    return results"
      ],
      "execution_count": 112,
      "outputs": []
    },
    {
      "cell_type": "markdown",
      "metadata": {
        "id": "zso4KPBaCZFx"
      },
      "source": [
        "**Função de visualização:**\n",
        "\n",
        "f(a1,a2,a3,... aN, 'acidente', 'bocejo',...'final')\n",
        "\n",
        "Comando (!)"
      ]
    },
    {
      "cell_type": "code",
      "metadata": {
        "id": "2M3jvOVx31X6"
      },
      "source": [
        "def graphics_plot(y, name, title, yaxes_title, save=False):\r\n",
        "\r\n",
        "'''\r\n",
        "y = [y1, y2, y3, y4]\r\n",
        "\r\n",
        "name = ['y1 name', 'y2 name', 'y3 name', 'y4 name']\r\n",
        "\r\n",
        "title = 'Title'\r\n",
        "\r\n",
        "yaxes_title = ['Title yaxes1', 'Title yaxes2', 'Title yaxes3', 'Title yaxes4']\r\n",
        "\r\n",
        "save = True -> save graphics as image (images/title.eps) '''\r\n",
        "\r\n",
        "  # Create figure with secondary y-axis\r\n",
        "  fig = make_subplots(specs=[[{\"secondary_y\": True}]])\r\n",
        "\r\n",
        "  # Markers\r\n",
        "  markers = ['x','star','diamond','circle']\r\n",
        "\r\n",
        "  # Lines\r\n",
        "  dash = ['dash','dot','dashdot']\r\n",
        "\r\n",
        "  if len(yaxes_title) == 1:\r\n",
        "    on = False\r\n",
        "  else:\r\n",
        "    on = True\r\n",
        "\r\n",
        "  for i, v in enumerate(y):\r\n",
        "    if i==0:\r\n",
        "      # Add traces\r\n",
        "      fig.add_trace(\r\n",
        "          go.Scatter(x=np.linspace(0,24,9),\r\n",
        "          y=v, name=name[i],\r\n",
        "          marker_symbol=markers[i],\r\n",
        "          marker_size=7,\r\n",
        "          mode='lines+markers',\r\n",
        "          line=dict(color='rgb(0, 0, 0)',\r\n",
        "          width=2),),\r\n",
        "          # line_shape='spline'),\r\n",
        "          secondary_y=False)\r\n",
        "      \r\n",
        "    else:\r\n",
        "      # Add traces\r\n",
        "      fig.add_trace(\r\n",
        "          go.Scatter(x=np.linspace(0,24,9),\r\n",
        "          y=v, name=name[i],\r\n",
        "          marker_symbol=markers[i],\r\n",
        "          marker_size=7,\r\n",
        "          mode='lines+markers',\r\n",
        "          line=dict(color='rgb(0, 0, 0)',\r\n",
        "          width=2, dash=dash[i-1]),),\r\n",
        "          # line_shape='spline'),\r\n",
        "          secondary_y=on)\r\n",
        "  \r\n",
        "  # Add figure title\r\n",
        "  fig.update_layout(title_text=title)\r\n",
        "  \r\n",
        "  # Set x-axis title\r\n",
        "  fig.update_xaxes(title_text=\"Time of day\")\r\n",
        "\r\n",
        "  # Set y-axes titles\r\n",
        "  if len(yaxes_title) > 1:\r\n",
        "    fig.update_yaxes(title_text=\"<b>\"+ yaxes_title[0] +\"</b>\", secondary_y=False)\r\n",
        "    fig.update_yaxes(title_text=\"<b>\"+ yaxes_title[1] +\"</b>\", secondary_y=True)\r\n",
        "  else:\r\n",
        "    fig.update_yaxes(title_text=\"<b>\"+ yaxes_title[0] +\"</b>\", secondary_y=False)\r\n",
        "\r\n",
        "  \r\n",
        "  fig.update_xaxes(showgrid=True, gridwidth=1, gridcolor='black')\r\n",
        "  fig.update_yaxes(showgrid=False, gridwidth=1, gridcolor='black')\r\n",
        "\r\n",
        "  fig.update_xaxes(showline=True, linewidth=2, linecolor='black', mirror=True)\r\n",
        "  fig.update_yaxes(showline=True, linewidth=2, linecolor='black', mirror=True)\r\n",
        "\r\n",
        "  fig.update_layout(\r\n",
        "      paper_bgcolor='rgba(0,0,0,0)',\r\n",
        "      plot_bgcolor='rgba(0,0,0,0)'\r\n",
        "  )\r\n",
        "\r\n",
        "  fig.update_layout(\r\n",
        "      xaxis=dict(\r\n",
        "      tickmode='linear',\r\n",
        "      tick0=0,\r\n",
        "      dtick=3\r\n",
        "  ))\r\n",
        "\r\n",
        "  fig.show()\r\n",
        "\r\n",
        "  if save:\r\n",
        "    fig.write_image(\"images/\"+title+\".eps\")"
      ],
      "execution_count": 409,
      "outputs": []
    },
    {
      "cell_type": "markdown",
      "metadata": {
        "id": "PAG4ul1wkRW2"
      },
      "source": [
        "# **Dados**"
      ]
    },
    {
      "cell_type": "code",
      "metadata": {
        "id": "9IJKHatb_AXr"
      },
      "source": [
        "## Carrega uma determinada planilha na variável file\n",
        "\n",
        "# Monitoramento\n",
        "fileE3  = '/content/drive/MyDrive/Trabalho/KLB_Final/Monitoramento/Monitoramento 2018_2019 E3.xlsx'\n",
        "fileE5  = '/content/drive/MyDrive/Trabalho/KLB_Final/Monitoramento/Monitoramento E5 - 2019.xlsx'\n",
        "fileE9  = '/content/drive/MyDrive/Trabalho/KLB_Final/Monitoramento/Monitoramento E9 - Abril 2019 a fevereiro 2020.xlsx'\n",
        "fileE9r = '/content/drive/MyDrive/Trabalho/KLB_Final/Monitoramento/Monitoramento E9 - Março a Maio 2020.xlsx'\n",
        "fileCAS = '/content/drive/MyDrive/Trabalho/KLB_Final/Cabine Anti Sono/Cabine Sono.xlsx'\n",
        "# Ocorrências\n",
        "fileOCO = '/content/drive/MyDrive/Trabalho/KLB_Final/Ocorrências/Ocorrências_2017_2018_2019.xlsx'\n",
        "# Turno\n",
        "fileTurno  = '/content/drive/MyDrive/Trabalho/KLB_Final/Motoristas por turno.xlsx'\n",
        "# Informações gerais\n",
        "fileINF = '/content/drive/MyDrive/Trabalho/KLB_Final/Informações Gerais/Informações gerais empresa Código.xlsx'\n",
        "\n",
        "\n",
        "## Carrega a planilha em um data frame - data\n",
        "# Monitoramento\n",
        "dfE31 = pd.read_excel(fileE3)\n",
        "xls = pd.ExcelFile(fileE3)\n",
        "dfE3 = pd.read_excel(fileE3, xls.sheet_names[1])\n",
        "\n",
        "dfE5 = pd.read_excel(fileE5) \n",
        "# Arquivo E9 tem mais planilhas internamente\n",
        "dfE9 = pd.read_excel(fileE9)\n",
        "xls = pd.ExcelFile(fileE9)\n",
        "dfE91 = pd.read_excel(fileE9, xls.sheet_names[1])\n",
        "dfE92 = pd.read_excel(fileE9,  xls.sheet_names[2])\n",
        "dfCAS = pd.read_excel(fileCAS)\n",
        "# Ocorrencias\n",
        "dfOCO = pd.read_excel(fileOCO)\n",
        "# Turno\n",
        "dfTurno = pd.read_excel(fileTurno)\n",
        "# Informações gerais\n",
        "dfINF = pd.read_excel(fileINF)"
      ],
      "execution_count": 113,
      "outputs": []
    },
    {
      "cell_type": "code",
      "metadata": {
        "colab": {
          "base_uri": "https://localhost:8080/",
          "height": 0
        },
        "id": "8AvIJBSoO3xG",
        "outputId": "71e7e274-3473-4a32-f019-156198324cfe"
      },
      "source": [
        "dfCAS.head(2)"
      ],
      "execution_count": 114,
      "outputs": [
        {
          "output_type": "execute_result",
          "data": {
            "text/html": [
              "<div>\n",
              "<style scoped>\n",
              "    .dataframe tbody tr th:only-of-type {\n",
              "        vertical-align: middle;\n",
              "    }\n",
              "\n",
              "    .dataframe tbody tr th {\n",
              "        vertical-align: top;\n",
              "    }\n",
              "\n",
              "    .dataframe thead th {\n",
              "        text-align: right;\n",
              "    }\n",
              "</style>\n",
              "<table border=\"1\" class=\"dataframe\">\n",
              "  <thead>\n",
              "    <tr style=\"text-align: right;\">\n",
              "      <th></th>\n",
              "      <th>Colaborador</th>\n",
              "      <th>Empresa</th>\n",
              "      <th>Data</th>\n",
              "      <th>Dia</th>\n",
              "      <th>Horário Inicial</th>\n",
              "      <th>Horário Final</th>\n",
              "      <th>Tempo para teste</th>\n",
              "      <th>Pressão</th>\n",
              "      <th>Alta</th>\n",
              "      <th>Baixa</th>\n",
              "      <th>Escala Fadiga</th>\n",
              "      <th>Escala de Trabalho</th>\n",
              "      <th>2° momento</th>\n",
              "    </tr>\n",
              "  </thead>\n",
              "  <tbody>\n",
              "    <tr>\n",
              "      <th>0</th>\n",
              "      <td>C2</td>\n",
              "      <td>E3</td>\n",
              "      <td>2019-06-13 00:00:00</td>\n",
              "      <td>13</td>\n",
              "      <td>01:17:00</td>\n",
              "      <td>01:28:00</td>\n",
              "      <td>36</td>\n",
              "      <td>124x83</td>\n",
              "      <td>124</td>\n",
              "      <td>83.0</td>\n",
              "      <td>2.0</td>\n",
              "      <td>4.0</td>\n",
              "      <td>sim</td>\n",
              "    </tr>\n",
              "    <tr>\n",
              "      <th>1</th>\n",
              "      <td>C3</td>\n",
              "      <td>E3</td>\n",
              "      <td>2019-03-04 00:00:00</td>\n",
              "      <td>4</td>\n",
              "      <td>04:30:00</td>\n",
              "      <td>04:39:00</td>\n",
              "      <td>Kl@bin2007</td>\n",
              "      <td>130x90</td>\n",
              "      <td>130</td>\n",
              "      <td>90.0</td>\n",
              "      <td>4.0</td>\n",
              "      <td>4.0</td>\n",
              "      <td>não</td>\n",
              "    </tr>\n",
              "  </tbody>\n",
              "</table>\n",
              "</div>"
            ],
            "text/plain": [
              "  Colaborador Empresa  ... Escala de Trabalho 2° momento\n",
              "0          C2      E3  ...                4.0        sim\n",
              "1          C3      E3  ...                4.0        não\n",
              "\n",
              "[2 rows x 13 columns]"
            ]
          },
          "metadata": {
            "tags": []
          },
          "execution_count": 114
        }
      ]
    },
    {
      "cell_type": "code",
      "metadata": {
        "colab": {
          "base_uri": "https://localhost:8080/",
          "height": 0
        },
        "id": "F6dy1lHaPWPR",
        "outputId": "2d7131f0-1b51-4750-b81d-1da7febfdbc8"
      },
      "source": [
        "dfTurno.head(2)"
      ],
      "execution_count": 115,
      "outputs": [
        {
          "output_type": "execute_result",
          "data": {
            "text/html": [
              "<div>\n",
              "<style scoped>\n",
              "    .dataframe tbody tr th:only-of-type {\n",
              "        vertical-align: middle;\n",
              "    }\n",
              "\n",
              "    .dataframe tbody tr th {\n",
              "        vertical-align: top;\n",
              "    }\n",
              "\n",
              "    .dataframe thead th {\n",
              "        text-align: right;\n",
              "    }\n",
              "</style>\n",
              "<table border=\"1\" class=\"dataframe\">\n",
              "  <thead>\n",
              "    <tr style=\"text-align: right;\">\n",
              "      <th></th>\n",
              "      <th>Unnamed: 0</th>\n",
              "      <th>Unnamed: 1</th>\n",
              "      <th>GT</th>\n",
              "      <th>VPP</th>\n",
              "    </tr>\n",
              "  </thead>\n",
              "  <tbody>\n",
              "    <tr>\n",
              "      <th>0</th>\n",
              "      <td>NaN</td>\n",
              "      <td>00:00:00</td>\n",
              "      <td>3</td>\n",
              "      <td>NaN</td>\n",
              "    </tr>\n",
              "    <tr>\n",
              "      <th>1</th>\n",
              "      <td>NaN</td>\n",
              "      <td>01:00:00</td>\n",
              "      <td>19</td>\n",
              "      <td>NaN</td>\n",
              "    </tr>\n",
              "  </tbody>\n",
              "</table>\n",
              "</div>"
            ],
            "text/plain": [
              "   Unnamed: 0 Unnamed: 1  GT  VPP\n",
              "0         NaN   00:00:00   3  NaN\n",
              "1         NaN   01:00:00  19  NaN"
            ]
          },
          "metadata": {
            "tags": []
          },
          "execution_count": 115
        }
      ]
    },
    {
      "cell_type": "code",
      "metadata": {
        "colab": {
          "base_uri": "https://localhost:8080/",
          "height": 0
        },
        "id": "RlOD3dx6PiqI",
        "outputId": "af2f6dbe-71de-4c4d-ca32-9a8f7d3d04c2"
      },
      "source": [
        "dfINF.head(2)"
      ],
      "execution_count": 116,
      "outputs": [
        {
          "output_type": "execute_result",
          "data": {
            "text/html": [
              "<div>\n",
              "<style scoped>\n",
              "    .dataframe tbody tr th:only-of-type {\n",
              "        vertical-align: middle;\n",
              "    }\n",
              "\n",
              "    .dataframe tbody tr th {\n",
              "        vertical-align: top;\n",
              "    }\n",
              "\n",
              "    .dataframe thead th {\n",
              "        text-align: right;\n",
              "    }\n",
              "</style>\n",
              "<table border=\"1\" class=\"dataframe\">\n",
              "  <thead>\n",
              "    <tr style=\"text-align: right;\">\n",
              "      <th></th>\n",
              "      <th>Empresa</th>\n",
              "      <th>Escala</th>\n",
              "      <th>Jornada</th>\n",
              "      <th>Intervalos</th>\n",
              "      <th>N° de Colaboradores por turno</th>\n",
              "      <th>Tempo médio de deslocamento</th>\n",
              "      <th>Observação</th>\n",
              "      <th>Unnamed: 7</th>\n",
              "    </tr>\n",
              "  </thead>\n",
              "  <tbody>\n",
              "    <tr>\n",
              "      <th>0</th>\n",
              "      <td>E5</td>\n",
              "      <td>4X2</td>\n",
              "      <td>00 às 11 horas</td>\n",
              "      <td>1 hora refeição (deve ser entre a 4ª e 6ª hora)</td>\n",
              "      <td>3.0</td>\n",
              "      <td>NaN</td>\n",
              "      <td>NaN</td>\n",
              "      <td>NaN</td>\n",
              "    </tr>\n",
              "    <tr>\n",
              "      <th>1</th>\n",
              "      <td>E5</td>\n",
              "      <td>4X2</td>\n",
              "      <td>1 às 12 horas</td>\n",
              "      <td>1 hora refeição (deve ser entre a 4ª e 6ª hora)</td>\n",
              "      <td>8.0</td>\n",
              "      <td>NaN</td>\n",
              "      <td>NaN</td>\n",
              "      <td>NaN</td>\n",
              "    </tr>\n",
              "  </tbody>\n",
              "</table>\n",
              "</div>"
            ],
            "text/plain": [
              "  Empresa Escala  ... Observação Unnamed: 7\n",
              "0      E5    4X2  ...        NaN        NaN\n",
              "1      E5    4X2  ...        NaN        NaN\n",
              "\n",
              "[2 rows x 8 columns]"
            ]
          },
          "metadata": {
            "tags": []
          },
          "execution_count": 116
        }
      ]
    },
    {
      "cell_type": "markdown",
      "metadata": {
        "id": "4NMQffM-j-ks"
      },
      "source": [
        "Corrigindo, a empresa que realiza monitoramento é a E17 e não a E5, por gentileza alterar.\n",
        "\n",
        "Então conforme alinhamos, irei coletar as informações das empresas E17 e E9, além da Klabin. Essas empresas são as que tem monitoramento por câmeras. Além dessas, temos os PMT porém eles iniciaram recentemente o monitoramento por câmeras.\n",
        "\n",
        "Informações sobre o monitoramento:\n",
        "\n",
        "Monitoramento_2018_2019: alertas de sono detectados pelas câmeras nos veículos Klabin. Iniciou em 07 de 2018, sendo que a implantação em 100% dos veículos foi a partir de fevereiro de 2019. Os alertas são referente as piscada de olho superior a 3 segundos.\n",
        "\n",
        "Monitoramento_pmt_códigos:  alertas de sono detectados das pequenas e médias transportadoras. Os alertas são referente as piscada de olho superior a 3 segundos. (Desde 20/08/2019)\n",
        "\n",
        "Dados Monitoramento Empresa E5: alertas de sono da empresa terceira E5 mês 10, avaliam bocejo e fechada de olha, imagens não são tratadas.  (desde o incio do ano)\n",
        "\n",
        "Dados Monitoramento Empresa E9: alertas de sono da empresa terceira E9 mês 10, imagens são tratadas, dados onde a piscada foi superior a 1,5 segundos e menor que 3 segundo (fadiga Nível 1). (desde mês 03 de 2019)."
      ]
    },
    {
      "cell_type": "markdown",
      "metadata": {
        "id": "Pu1bC-fnkRQf"
      },
      "source": [
        "Consegui contato com as empresas e confirmei a informação referente ao descanso, para as 3 empresas avaliadas o descanso é de 60 horas.\n",
        "\n",
        "Sobre o monitoramento da empresa E5 acredito que até segunda-feira encaminho a informação."
      ]
    },
    {
      "cell_type": "markdown",
      "metadata": {
        "id": "kPqQO0apkw8T"
      },
      "source": [
        "Primeiramente gostaria de confirmar se recebeu o shipe que encaminhei e se a informação é suficiente.\n",
        "\n",
        "Entrei em contato com a empresa E9 para entender melhor o que é cada alerta do monitoramento, o Yawn-Warning capta o bocejo, o Atten-Warning é todo e qualquer desvio de atenção, como por exemplo, olhar para o lado, e o Tired é o cansaço, então é quando o motorista fechou o olhou por mais de 1,5 segundos.\n",
        "\n",
        "Sobre o questionamento sobre a jornada, eles não passaram o quanto em horas seria esses dois dias de descanso, porém as empresas E3 e E9, passaram que é fixa a escala, não alterando quando retorno dos dias de descanso.\n",
        "\n",
        "Estou aguardando agora o retorno da empresa E5 para passar o restante das informações."
      ]
    },
    {
      "cell_type": "markdown",
      "metadata": {
        "id": "i3ffKmMklOeF"
      },
      "source": [
        "em uma das planilhas temos escala de trabalho classificada como 1,2,3 - O que significam estes números?\n",
        "Esse número representa qual dia da escala de trabalho o colaborador está. Por exemplo, o colaborador está no segundo dia da escala de trabalho dele.\n",
        "\n",
        "O que é a medida em segundo momento?\n",
        "É quando o colaborador precisou repetir o teste de reflexo por algum motivo, mas não temos a informação do motivo.\n",
        "\n",
        "Escala 4x2 significa 4 dias de trabalho e 2 de descanso?\n",
        "Isso, exatamente.\n",
        "\n",
        "Quando você menciona 3 horas extras - significa que todos fazem ou alguns fazem ?\n",
        "São horas eventuais, mas quando me passaram da frota própria, passaram com essas horas inclusas.\n",
        "\n",
        "Qual o significado do termo PMT?\n",
        "Pequenas e Médias Transportadoras.\n",
        "\n",
        "O que significa o prefixo VPP?existem outras classificações? \n",
        "Es letras do prefixo são referentes as empresas, o VPP é Veículo próprio pesado da nossa frota própria.\n",
        "\n",
        "O que significa Fadiga N1? existem outras classificações? \n",
        "Então essa terminologia é utilizada apenas por uma empresa e significa que o colabora fechou os olhos por mais de 1,5 segundos e no caso a mesma empresa tem o N2 que é quando é por mais de 3 segundos. Mas eles enviaram só as informações de N1 por enquanto.\n",
        "\n",
        "como interpretar as colunas potencial e SAP?\n",
        "Então o potencial é a classificação que damos as ocorrências, vou te enviar o texto que consta no nosso procedimento, mas é nosso critério para definição do potencial e o número SAP é o número para buscar o relatório dessa ocorrência, mantive para caso precise procurar fica mais fácil.\n",
        "\n",
        "Texto Procedimento de Classificação de Ocorrência:\n",
        "\n",
        "Potencialidade: Conceito aplicado para as ocorrências de acidentes e incidentes considerando a suscetibilidade de existir ou acontecer, mas sem a existência real de um determinada de uma perda.\n",
        "\n",
        "Potencial Leve (PL): Acidente ou Incidente onde não houve potencialidade de gerar nenhuma das lesões citadas no critério total e permanente;\n",
        "\n",
        "Potencial Grave (PG): Acidente ou Incidente onde tenha gerado ou houve a possibilidade de ocasionar:\n",
        "\n",
        " Incapacidade total e permanente;\n",
        "\n",
        "\n",
        " Perdas de função;\n",
        "\n",
        "Ø Amputação total ou parcial nos membros superiores e/ou inferiores (amputação de dedo(s) das mãos com perda total da função de preensão, amputação da mão/pé, amputação do antebraço/braço/perna);\n",
        "\n",
        "Ø Perda total ou parcial de um órgão pós trauma ou em decorrência de lesão grave;\n",
        "\n",
        "Ø Perda total ou parcial de função de órgão em decorrência de lesão grave;\n",
        "\n",
        "Ø Fratura exposta;\n",
        "\n",
        "Ø Incapacidade total ou parcial permanente por dano neurológico ou motor;\n",
        "\n",
        "Ø Queimaduras que resultem em sequelas definitivas com restrição de função de membros superiores e inferiores;\n",
        "\n",
        "Danos estéticos;\n",
        "\n",
        "Ø Lesão/cicatriz na face ou deformidade visível com aparência, permanência e irreparabilidade pelos meios comuns ou por si mesma, onde o dano estético apreciável causa complexo ou interfere negativamente na vida social com deformidade de mais de 10% da superfície facial ou 25% de qualquer outra parte do corpo (mãos, pés, braços, pernas e tronco).\n",
        "\n",
        "Potencial Fatal (PF): Acidente ou incidente onde tenha gerado ou houve a potencialidade de fatalidade.\n",
        "\n",
        "Tempo de empresa está em meses ou anos (tem valores como 86 e 407, estão corretos)?\n",
        "Está em meses.\n",
        "\n",
        "Entrei em contato com a empresa E5 e o alerta referente a piscada é de acordo com o número de piscadas por minuto, porém eles não souberem especificar qual seria esse número.\n",
        "\n",
        "A empresa iria tentar a informação, buscando o fornecedor mas ainda não obtive nenhum retorno.\n",
        "\n",
        "Verifiquei alguns pontos para ajuste:\n",
        "\n",
        "- No campo autores, aparece a legenda “1” para meu nome e da Clara, porém na legenda a Klabin está como “c”.\n",
        "\n",
        "- Ainda referente aos autores, segue meu nome completo para atualizar: Verônica Marques Lopes\n",
        "\n",
        "- Na linha “94”, está descrito que a empresa E5 dispõem de 3 sistemas de fadiga, porém conforme descrito na sequência, são apenas 2, bocejo e olho fechado.\n",
        "\n",
        "- Ajustar descrição do alerta referente a E5: número de piscadas por minuto.\n",
        "\n",
        "- Desta forma, na linha “98”, ajustar que o alerta referente a Eye closed, considera critérios diferentes, para as empresas E5 e E9.\n"
      ]
    },
    {
      "cell_type": "markdown",
      "metadata": {
        "id": "awEU2t0WmvYm"
      },
      "source": [
        "# **Tratamento de dados**"
      ]
    },
    {
      "cell_type": "markdown",
      "metadata": {
        "id": "pGwzjshVR0_z"
      },
      "source": [
        "\n",
        "\n",
        "1.   motoristas em cada hora cheia - E3, E5 e E9\n",
        "2.   acidentes em cada hora cheia - madeira\n",
        "3.   eventos em cada hora cheia: bocejo, fadiga, atenção, tired,...\n",
        "\n"
      ]
    },
    {
      "cell_type": "markdown",
      "metadata": {
        "id": "1iBt-vIDJsMQ"
      },
      "source": [
        "## **Ocorrências**"
      ]
    },
    {
      "cell_type": "code",
      "metadata": {
        "colab": {
          "base_uri": "https://localhost:8080/",
          "height": 0
        },
        "id": "41IKN1_SJsMn",
        "outputId": "2353f261-510c-4591-ed33-977c8d74d1e6"
      },
      "source": [
        "dfOCO.head(2)"
      ],
      "execution_count": 117,
      "outputs": [
        {
          "output_type": "execute_result",
          "data": {
            "text/html": [
              "<div>\n",
              "<style scoped>\n",
              "    .dataframe tbody tr th:only-of-type {\n",
              "        vertical-align: middle;\n",
              "    }\n",
              "\n",
              "    .dataframe tbody tr th {\n",
              "        vertical-align: top;\n",
              "    }\n",
              "\n",
              "    .dataframe thead th {\n",
              "        text-align: right;\n",
              "    }\n",
              "</style>\n",
              "<table border=\"1\" class=\"dataframe\">\n",
              "  <thead>\n",
              "    <tr style=\"text-align: right;\">\n",
              "      <th></th>\n",
              "      <th>CLASSIFICAÇÃO</th>\n",
              "      <th>EMPRESA</th>\n",
              "      <th>GERÊNCIA</th>\n",
              "      <th>COORDENAÇÃO</th>\n",
              "      <th>SUB ÁREA</th>\n",
              "      <th>NOME</th>\n",
              "      <th>CARGO</th>\n",
              "      <th>TEMPO DE EMPRESA</th>\n",
              "      <th>IDADE</th>\n",
              "      <th>\\nDATA DA OCORRÊNCIA</th>\n",
              "      <th>DIA DA SEMANA</th>\n",
              "      <th>HORA</th>\n",
              "      <th>\\nLOCAL DA OCORRÊNCIA</th>\n",
              "      <th>QUALIDADE PISTA</th>\n",
              "      <th>CARACTERISTICA PISTA</th>\n",
              "      <th>SINALIZAÇÃO</th>\n",
              "      <th>CLIMA</th>\n",
              "      <th>PREFIXO</th>\n",
              "      <th>MODELO</th>\n",
              "      <th>CARREGADO</th>\n",
              "      <th>TIPO</th>\n",
              "      <th>DETALHAMENTO</th>\n",
              "      <th>POTENCIAL</th>\n",
              "      <th>SAP</th>\n",
              "      <th>DIA ESCALA</th>\n",
              "      <th>ESCALA</th>\n",
              "      <th>JORNADA</th>\n",
              "      <th>TEMPO DECORRIDO</th>\n",
              "      <th>DORMIU BEM?</th>\n",
              "      <th>PRÓXIMO PERIODO DE FÉRIAS OU FERIADO</th>\n",
              "      <th>ALIMENTOU</th>\n",
              "      <th>PROBLEMAS SAÚDE</th>\n",
              "      <th>USO MEDICAMENTO</th>\n",
              "      <th>USO ALCOOL/DROGA</th>\n",
              "      <th>PRESSÃO</th>\n",
              "      <th>PRESSA PARA CONCLUIR O TRABALHO</th>\n",
              "      <th>DESCRIÇÃO</th>\n",
              "    </tr>\n",
              "  </thead>\n",
              "  <tbody>\n",
              "    <tr>\n",
              "      <th>0</th>\n",
              "      <td>IBP</td>\n",
              "      <td>E3</td>\n",
              "      <td>ANGATUBA</td>\n",
              "      <td>ANGATUBA</td>\n",
              "      <td>PÁTIO DE MADEIRA</td>\n",
              "      <td>C422</td>\n",
              "      <td>OPERADOR DE MÁQUINA FLORESTAL</td>\n",
              "      <td>2</td>\n",
              "      <td>36.0</td>\n",
              "      <td>2017-01-03</td>\n",
              "      <td>TERÇA-FEIRA</td>\n",
              "      <td>10:20:00</td>\n",
              "      <td>PÁTIO DE MADEIRA</td>\n",
              "      <td>NaN</td>\n",
              "      <td>NaN</td>\n",
              "      <td>NaN</td>\n",
              "      <td>NaN</td>\n",
              "      <td>NaN</td>\n",
              "      <td>NaN</td>\n",
              "      <td>NaN</td>\n",
              "      <td>NaN</td>\n",
              "      <td>AO SE DESLOCAR COM O TRATOR ATÉ O PICADOR, A J...</td>\n",
              "      <td>LPG</td>\n",
              "      <td>6008</td>\n",
              "      <td>NaN</td>\n",
              "      <td>NaN</td>\n",
              "      <td>NaN</td>\n",
              "      <td>NaN</td>\n",
              "      <td>NaN</td>\n",
              "      <td>NaN</td>\n",
              "      <td>NaN</td>\n",
              "      <td>NaN</td>\n",
              "      <td>NaN</td>\n",
              "      <td>NaN</td>\n",
              "      <td>NaN</td>\n",
              "      <td>NaN</td>\n",
              "      <td>NaN</td>\n",
              "    </tr>\n",
              "    <tr>\n",
              "      <th>1</th>\n",
              "      <td>IBP</td>\n",
              "      <td>E3</td>\n",
              "      <td>PESQUISA</td>\n",
              "      <td>PESQUISA</td>\n",
              "      <td>PESQUISA</td>\n",
              "      <td>C365</td>\n",
              "      <td>LÍDER DE TURMA</td>\n",
              "      <td>81</td>\n",
              "      <td>28.0</td>\n",
              "      <td>2017-01-04</td>\n",
              "      <td>QUARTA-FEIRA</td>\n",
              "      <td>15:00:00</td>\n",
              "      <td>LAGOA - Viveiro Florestal</td>\n",
              "      <td>NaN</td>\n",
              "      <td>RETA</td>\n",
              "      <td>NaN</td>\n",
              "      <td>NaN</td>\n",
              "      <td>AM-232</td>\n",
              "      <td>NaN</td>\n",
              "      <td>NaN</td>\n",
              "      <td>VEÍCULO DE LOCOMOÇÃO DE PESSOAS</td>\n",
              "      <td>A COLABORADORA ESTAVA EM DESLOCAMENTO NO VIVEI...</td>\n",
              "      <td>LPL</td>\n",
              "      <td>6039</td>\n",
              "      <td>NaN</td>\n",
              "      <td>NaN</td>\n",
              "      <td>NaN</td>\n",
              "      <td>NaN</td>\n",
              "      <td>NaN</td>\n",
              "      <td>NaN</td>\n",
              "      <td>NaN</td>\n",
              "      <td>NaN</td>\n",
              "      <td>NaN</td>\n",
              "      <td>NaN</td>\n",
              "      <td>NaN</td>\n",
              "      <td>NaN</td>\n",
              "      <td>NaN</td>\n",
              "    </tr>\n",
              "  </tbody>\n",
              "</table>\n",
              "</div>"
            ],
            "text/plain": [
              "  CLASSIFICAÇÃO EMPRESA  ... PRESSA PARA CONCLUIR O TRABALHO DESCRIÇÃO \n",
              "0           IBP      E3  ...                             NaN        NaN\n",
              "1           IBP      E3  ...                             NaN        NaN\n",
              "\n",
              "[2 rows x 37 columns]"
            ]
          },
          "metadata": {
            "tags": []
          },
          "execution_count": 117
        }
      ]
    },
    {
      "cell_type": "code",
      "metadata": {
        "colab": {
          "base_uri": "https://localhost:8080/"
        },
        "id": "buHRK3tdJsMp",
        "outputId": "2bf6a9b1-7a8f-4dfb-a9af-6f180adcc45b"
      },
      "source": [
        "dfOCO.columns"
      ],
      "execution_count": 118,
      "outputs": [
        {
          "output_type": "execute_result",
          "data": {
            "text/plain": [
              "Index(['CLASSIFICAÇÃO', 'EMPRESA', 'GERÊNCIA', 'COORDENAÇÃO ', 'SUB ÁREA',\n",
              "       'NOME', 'CARGO', 'TEMPO DE EMPRESA', 'IDADE', '\\nDATA DA OCORRÊNCIA',\n",
              "       'DIA DA SEMANA', 'HORA', ' \\nLOCAL DA OCORRÊNCIA', 'QUALIDADE PISTA',\n",
              "       'CARACTERISTICA PISTA', 'SINALIZAÇÃO', 'CLIMA', 'PREFIXO', 'MODELO',\n",
              "       'CARREGADO', 'TIPO ', 'DETALHAMENTO', 'POTENCIAL', 'SAP', 'DIA ESCALA',\n",
              "       'ESCALA', 'JORNADA ', 'TEMPO DECORRIDO', 'DORMIU BEM?',\n",
              "       'PRÓXIMO PERIODO DE FÉRIAS OU FERIADO', 'ALIMENTOU', 'PROBLEMAS SAÚDE ',\n",
              "       'USO MEDICAMENTO', 'USO ALCOOL/DROGA', 'PRESSÃO',\n",
              "       'PRESSA PARA CONCLUIR O TRABALHO', 'DESCRIÇÃO '],\n",
              "      dtype='object')"
            ]
          },
          "metadata": {
            "tags": []
          },
          "execution_count": 118
        }
      ]
    },
    {
      "cell_type": "code",
      "metadata": {
        "colab": {
          "base_uri": "https://localhost:8080/"
        },
        "id": "-g3Bjtj8JsMq",
        "outputId": "7529e8a4-b3f9-4f9c-b1a3-24a50f1a4ac3"
      },
      "source": [
        "dfOCO['TIPO '].value_counts()"
      ],
      "execution_count": 119,
      "outputs": [
        {
          "output_type": "execute_result",
          "data": {
            "text/plain": [
              "TRANSPORTE DE MADEIRA              224\n",
              "VEÍCULO DE LOCOMOÇÃO DE PESSOAS    102\n",
              "TRANSPORTE GERAL                    52\n",
              "TRANSPORTE DE MADEIRA                4\n",
              "Name: TIPO , dtype: int64"
            ]
          },
          "metadata": {
            "tags": []
          },
          "execution_count": 119
        }
      ]
    },
    {
      "cell_type": "code",
      "metadata": {
        "colab": {
          "base_uri": "https://localhost:8080/",
          "height": 0
        },
        "id": "Ss5ZaZv6JsMr",
        "outputId": "3f299c69-52df-4ae8-9f93-dec3e2396afd"
      },
      "source": [
        "# Ocorrências\r\n",
        "dfOCO = pd.read_excel(fileOCO)\r\n",
        "dfOCO = dfOCO.dropna(subset=['EMPRESA'])\r\n",
        "dfOCO = dfOCO.dropna(subset=['TIPO '])\r\n",
        "dfOCO['HorarioAcidente'] = pd.to_datetime(dfOCO['HORA'], format='%H:%M:%S').dt.hour\r\n",
        "dfOCO.set_index('HORA',drop=True,inplace=True)\r\n",
        "dfOCO.head()"
      ],
      "execution_count": 120,
      "outputs": [
        {
          "output_type": "execute_result",
          "data": {
            "text/html": [
              "<div>\n",
              "<style scoped>\n",
              "    .dataframe tbody tr th:only-of-type {\n",
              "        vertical-align: middle;\n",
              "    }\n",
              "\n",
              "    .dataframe tbody tr th {\n",
              "        vertical-align: top;\n",
              "    }\n",
              "\n",
              "    .dataframe thead th {\n",
              "        text-align: right;\n",
              "    }\n",
              "</style>\n",
              "<table border=\"1\" class=\"dataframe\">\n",
              "  <thead>\n",
              "    <tr style=\"text-align: right;\">\n",
              "      <th></th>\n",
              "      <th>CLASSIFICAÇÃO</th>\n",
              "      <th>EMPRESA</th>\n",
              "      <th>GERÊNCIA</th>\n",
              "      <th>COORDENAÇÃO</th>\n",
              "      <th>SUB ÁREA</th>\n",
              "      <th>NOME</th>\n",
              "      <th>CARGO</th>\n",
              "      <th>TEMPO DE EMPRESA</th>\n",
              "      <th>IDADE</th>\n",
              "      <th>\\nDATA DA OCORRÊNCIA</th>\n",
              "      <th>DIA DA SEMANA</th>\n",
              "      <th>\\nLOCAL DA OCORRÊNCIA</th>\n",
              "      <th>QUALIDADE PISTA</th>\n",
              "      <th>CARACTERISTICA PISTA</th>\n",
              "      <th>SINALIZAÇÃO</th>\n",
              "      <th>CLIMA</th>\n",
              "      <th>PREFIXO</th>\n",
              "      <th>MODELO</th>\n",
              "      <th>CARREGADO</th>\n",
              "      <th>TIPO</th>\n",
              "      <th>DETALHAMENTO</th>\n",
              "      <th>POTENCIAL</th>\n",
              "      <th>SAP</th>\n",
              "      <th>DIA ESCALA</th>\n",
              "      <th>ESCALA</th>\n",
              "      <th>JORNADA</th>\n",
              "      <th>TEMPO DECORRIDO</th>\n",
              "      <th>DORMIU BEM?</th>\n",
              "      <th>PRÓXIMO PERIODO DE FÉRIAS OU FERIADO</th>\n",
              "      <th>ALIMENTOU</th>\n",
              "      <th>PROBLEMAS SAÚDE</th>\n",
              "      <th>USO MEDICAMENTO</th>\n",
              "      <th>USO ALCOOL/DROGA</th>\n",
              "      <th>PRESSÃO</th>\n",
              "      <th>PRESSA PARA CONCLUIR O TRABALHO</th>\n",
              "      <th>DESCRIÇÃO</th>\n",
              "      <th>HorarioAcidente</th>\n",
              "    </tr>\n",
              "    <tr>\n",
              "      <th>HORA</th>\n",
              "      <th></th>\n",
              "      <th></th>\n",
              "      <th></th>\n",
              "      <th></th>\n",
              "      <th></th>\n",
              "      <th></th>\n",
              "      <th></th>\n",
              "      <th></th>\n",
              "      <th></th>\n",
              "      <th></th>\n",
              "      <th></th>\n",
              "      <th></th>\n",
              "      <th></th>\n",
              "      <th></th>\n",
              "      <th></th>\n",
              "      <th></th>\n",
              "      <th></th>\n",
              "      <th></th>\n",
              "      <th></th>\n",
              "      <th></th>\n",
              "      <th></th>\n",
              "      <th></th>\n",
              "      <th></th>\n",
              "      <th></th>\n",
              "      <th></th>\n",
              "      <th></th>\n",
              "      <th></th>\n",
              "      <th></th>\n",
              "      <th></th>\n",
              "      <th></th>\n",
              "      <th></th>\n",
              "      <th></th>\n",
              "      <th></th>\n",
              "      <th></th>\n",
              "      <th></th>\n",
              "      <th></th>\n",
              "      <th></th>\n",
              "    </tr>\n",
              "  </thead>\n",
              "  <tbody>\n",
              "    <tr>\n",
              "      <th>15:00:00</th>\n",
              "      <td>IBP</td>\n",
              "      <td>E3</td>\n",
              "      <td>PESQUISA</td>\n",
              "      <td>PESQUISA</td>\n",
              "      <td>PESQUISA</td>\n",
              "      <td>C365</td>\n",
              "      <td>LÍDER DE TURMA</td>\n",
              "      <td>81</td>\n",
              "      <td>28.0</td>\n",
              "      <td>2017-01-04</td>\n",
              "      <td>QUARTA-FEIRA</td>\n",
              "      <td>LAGOA - Viveiro Florestal</td>\n",
              "      <td>NaN</td>\n",
              "      <td>RETA</td>\n",
              "      <td>NaN</td>\n",
              "      <td>NaN</td>\n",
              "      <td>AM-232</td>\n",
              "      <td>NaN</td>\n",
              "      <td>NaN</td>\n",
              "      <td>VEÍCULO DE LOCOMOÇÃO DE PESSOAS</td>\n",
              "      <td>A COLABORADORA ESTAVA EM DESLOCAMENTO NO VIVEI...</td>\n",
              "      <td>LPL</td>\n",
              "      <td>6039</td>\n",
              "      <td>NaN</td>\n",
              "      <td>NaN</td>\n",
              "      <td>NaN</td>\n",
              "      <td>NaN</td>\n",
              "      <td>NaN</td>\n",
              "      <td>NaN</td>\n",
              "      <td>NaN</td>\n",
              "      <td>NaN</td>\n",
              "      <td>NaN</td>\n",
              "      <td>NaN</td>\n",
              "      <td>NaN</td>\n",
              "      <td>NaN</td>\n",
              "      <td>NaN</td>\n",
              "      <td>15</td>\n",
              "    </tr>\n",
              "    <tr>\n",
              "      <th>21:40:00</th>\n",
              "      <td>IAP</td>\n",
              "      <td>E2</td>\n",
              "      <td>LOGÍSTICA</td>\n",
              "      <td>TRANSPORTE FLORESTAL</td>\n",
              "      <td>LOGÍSTICA</td>\n",
              "      <td>C409</td>\n",
              "      <td>MOTORISTA</td>\n",
              "      <td>3</td>\n",
              "      <td>48.0</td>\n",
              "      <td>2017-01-17</td>\n",
              "      <td>TERÇA-FEIRA</td>\n",
              "      <td>DISTRITO INDUSTRIAL</td>\n",
              "      <td>PRECARIA</td>\n",
              "      <td>DECLIVE</td>\n",
              "      <td>NaN</td>\n",
              "      <td>NaN</td>\n",
              "      <td>GFR 028</td>\n",
              "      <td>NaN</td>\n",
              "      <td>SIM</td>\n",
              "      <td>TRANSPORTE DE MADEIRA</td>\n",
              "      <td>COLABORADOR DESLOCAVA-SE COM CAMINHÃO DA EMPRE...</td>\n",
              "      <td>LPG</td>\n",
              "      <td>6072</td>\n",
              "      <td>NaN</td>\n",
              "      <td>NaN</td>\n",
              "      <td>NaN</td>\n",
              "      <td>NaN</td>\n",
              "      <td>NaN</td>\n",
              "      <td>NaN</td>\n",
              "      <td>NaN</td>\n",
              "      <td>NaN</td>\n",
              "      <td>NaN</td>\n",
              "      <td>NaN</td>\n",
              "      <td>NaN</td>\n",
              "      <td>NaN</td>\n",
              "      <td>NaN</td>\n",
              "      <td>21</td>\n",
              "    </tr>\n",
              "    <tr>\n",
              "      <th>13:51:00</th>\n",
              "      <td>IBP</td>\n",
              "      <td>E3</td>\n",
              "      <td>LOGÍSTICA</td>\n",
              "      <td>PROG. LOGÍSTICA</td>\n",
              "      <td>PROG. LOGÍSTICA E PÁTIOS</td>\n",
              "      <td>C240</td>\n",
              "      <td>SUPERVISOR</td>\n",
              "      <td>17</td>\n",
              "      <td>26.0</td>\n",
              "      <td>2017-01-19</td>\n",
              "      <td>QUINTA-FEIRA</td>\n",
              "      <td>PR 092</td>\n",
              "      <td>ASFALTADA</td>\n",
              "      <td>ACLIVE</td>\n",
              "      <td>NaN</td>\n",
              "      <td>BOAS CONDIÇÕES</td>\n",
              "      <td>AM-329</td>\n",
              "      <td>FOX</td>\n",
              "      <td>NÃO</td>\n",
              "      <td>VEÍCULO DE LOCOMOÇÃO DE PESSOAS</td>\n",
              "      <td>AO DESLOCAR-SE EM ACLIVE COM O VEICULO AM-329 ...</td>\n",
              "      <td>LPL</td>\n",
              "      <td>6081</td>\n",
              "      <td>NaN</td>\n",
              "      <td>NaN</td>\n",
              "      <td>NaN</td>\n",
              "      <td>NaN</td>\n",
              "      <td>NaN</td>\n",
              "      <td>NaN</td>\n",
              "      <td>NaN</td>\n",
              "      <td>NÃO</td>\n",
              "      <td>NaN</td>\n",
              "      <td>NaN</td>\n",
              "      <td>NaN</td>\n",
              "      <td>NÃO</td>\n",
              "      <td>O CONDUTOR ESTAVA BEM DE SAUDE, NÃO ESTAVA COM...</td>\n",
              "      <td>13</td>\n",
              "    </tr>\n",
              "    <tr>\n",
              "      <th>21:45:00</th>\n",
              "      <td>IAP</td>\n",
              "      <td>E3</td>\n",
              "      <td>LOGÍSTICA</td>\n",
              "      <td>PROG. LOGÍSTICA</td>\n",
              "      <td>PROG. LOGÍSTICA E PÁTIOS</td>\n",
              "      <td>C403</td>\n",
              "      <td>MOTORISTA</td>\n",
              "      <td>5</td>\n",
              "      <td>46.0</td>\n",
              "      <td>2017-01-24</td>\n",
              "      <td>TERÇA-FEIRA</td>\n",
              "      <td>PÁTIO 3 MONTE ALEGRE SENTIDO MESA 01</td>\n",
              "      <td>NaN</td>\n",
              "      <td>NaN</td>\n",
              "      <td>NaN</td>\n",
              "      <td>NaN</td>\n",
              "      <td>VP-O547</td>\n",
              "      <td>TRITREM</td>\n",
              "      <td>SIM</td>\n",
              "      <td>TRANSPORTE DE MADEIRA</td>\n",
              "      <td>AO MOVIMENTAR O TRITREN VP-O547 CARREGADO DO P...</td>\n",
              "      <td>LPG</td>\n",
              "      <td>6088</td>\n",
              "      <td>NaN</td>\n",
              "      <td>NaN</td>\n",
              "      <td>NaN</td>\n",
              "      <td>05:44:00</td>\n",
              "      <td>NaN</td>\n",
              "      <td>NaN</td>\n",
              "      <td>NaN</td>\n",
              "      <td>NaN</td>\n",
              "      <td>NaN</td>\n",
              "      <td>NaN</td>\n",
              "      <td>NaN</td>\n",
              "      <td>NaN</td>\n",
              "      <td>A ORGANIZAÇÃO DO AMBIENTE ESTAVA ADEQUADO? SIM...</td>\n",
              "      <td>21</td>\n",
              "    </tr>\n",
              "    <tr>\n",
              "      <th>16:51:00</th>\n",
              "      <td>IBP</td>\n",
              "      <td>E3</td>\n",
              "      <td>LOGÍSTICA</td>\n",
              "      <td>PROG. LOGÍSTICA</td>\n",
              "      <td>PROG. LOGÍSTICA E PÁTIOS</td>\n",
              "      <td>C455</td>\n",
              "      <td>MOTORISTA</td>\n",
              "      <td>8</td>\n",
              "      <td>49.0</td>\n",
              "      <td>2017-01-25</td>\n",
              "      <td>QUARTA-FEIRA</td>\n",
              "      <td>PÁTIO DE MADEIRA MONTE ALEGRE</td>\n",
              "      <td>ASFALTADA</td>\n",
              "      <td>RETA</td>\n",
              "      <td>NaN</td>\n",
              "      <td>BOAS CONDIÇÕES</td>\n",
              "      <td>VP-0456</td>\n",
              "      <td>TRITREM</td>\n",
              "      <td>NÃO</td>\n",
              "      <td>TRANSPORTE GERAL</td>\n",
              "      <td>AO SAIR DA LINHA 01 DO PÁTIO DE MONTE ALEGRE C...</td>\n",
              "      <td>LPL</td>\n",
              "      <td>6105</td>\n",
              "      <td>NaN</td>\n",
              "      <td>NaN</td>\n",
              "      <td>NaN</td>\n",
              "      <td>NaN</td>\n",
              "      <td>NaN</td>\n",
              "      <td>NaN</td>\n",
              "      <td>NaN</td>\n",
              "      <td>NaN</td>\n",
              "      <td>NaN</td>\n",
              "      <td>NaN</td>\n",
              "      <td>NaN</td>\n",
              "      <td>NaN</td>\n",
              "      <td>AST OK / PROCEDIMENTOS OPERACIONAIS OK / O LOC...</td>\n",
              "      <td>16</td>\n",
              "    </tr>\n",
              "  </tbody>\n",
              "</table>\n",
              "</div>"
            ],
            "text/plain": [
              "         CLASSIFICAÇÃO  ... HorarioAcidente\n",
              "HORA                    ...                \n",
              "15:00:00           IBP  ...              15\n",
              "21:40:00           IAP  ...              21\n",
              "13:51:00           IBP  ...              13\n",
              "21:45:00           IAP  ...              21\n",
              "16:51:00           IBP  ...              16\n",
              "\n",
              "[5 rows x 37 columns]"
            ]
          },
          "metadata": {
            "tags": []
          },
          "execution_count": 120
        }
      ]
    },
    {
      "cell_type": "code",
      "metadata": {
        "colab": {
          "base_uri": "https://localhost:8080/"
        },
        "id": "oTMxmtmgJsMs",
        "outputId": "d8a8743c-3900-4173-8c16-cc2ba8b47b42"
      },
      "source": [
        "TM = (dfOCO['TIPO '] == 'TRANSPORTE DE MADEIRA') | (dfOCO['TIPO '] == 'TRANSPORTE DE MADEIRA ')\r\n",
        "\r\n",
        "dfOCO_TM = dfOCO[TM]\r\n",
        "dfOCO_TM.EMPRESA.value_counts()"
      ],
      "execution_count": 121,
      "outputs": [
        {
          "output_type": "execute_result",
          "data": {
            "text/plain": [
              "E3     48\n",
              "E9     42\n",
              "E2     28\n",
              "E7     21\n",
              "E5     19\n",
              "E4     16\n",
              "E12    13\n",
              "E16     9\n",
              "E1      8\n",
              "E13     5\n",
              "E19     3\n",
              "E23     3\n",
              "E26     2\n",
              "E32     2\n",
              "E33     1\n",
              "E31     1\n",
              "E34     1\n",
              "E22     1\n",
              "E14     1\n",
              "E36     1\n",
              "E30     1\n",
              "E25     1\n",
              "Name: EMPRESA, dtype: int64"
            ]
          },
          "metadata": {
            "tags": []
          },
          "execution_count": 121
        }
      ]
    },
    {
      "cell_type": "code",
      "metadata": {
        "colab": {
          "base_uri": "https://localhost:8080/"
        },
        "id": "p0QsSQJkJsMt",
        "outputId": "d136def9-7a21-4c21-eec8-1fb901bc570f"
      },
      "source": [
        "E3 = (dfOCO_TM['EMPRESA'] == 'E3')\r\n",
        "E5 = (dfOCO_TM['EMPRESA'] == 'E5')\r\n",
        "E9 = (dfOCO_TM['EMPRESA'] == 'E9')\r\n",
        "\r\n",
        "dfOCO_TM_E3 = dfOCO_TM[E3]\r\n",
        "dfOCO_TM_E5 = dfOCO_TM[E5]\r\n",
        "dfOCO_TM_E9 = dfOCO_TM[E9]\r\n",
        "\r\n",
        "print(dfOCO_TM_E3.shape,dfOCO_TM_E5.shape,dfOCO_TM_E9.shape)"
      ],
      "execution_count": 122,
      "outputs": [
        {
          "output_type": "stream",
          "text": [
            "(48, 37) (19, 37) (42, 37)\n"
          ],
          "name": "stdout"
        }
      ]
    },
    {
      "cell_type": "markdown",
      "metadata": {
        "id": "4NziHuukWQ4U"
      },
      "source": [
        "## **E3**"
      ]
    },
    {
      "cell_type": "markdown",
      "metadata": {
        "id": "-ISS5Hu4V6MZ"
      },
      "source": [
        "**Motoristas por hora**"
      ]
    },
    {
      "cell_type": "code",
      "metadata": {
        "colab": {
          "base_uri": "https://localhost:8080/",
          "height": 204
        },
        "id": "4ykF-xxgOKpb",
        "outputId": "dc3a4af5-0894-4b05-f019-874c597cc052"
      },
      "source": [
        "dfE3.head(5)"
      ],
      "execution_count": 195,
      "outputs": [
        {
          "output_type": "execute_result",
          "data": {
            "text/html": [
              "<div>\n",
              "<style scoped>\n",
              "    .dataframe tbody tr th:only-of-type {\n",
              "        vertical-align: middle;\n",
              "    }\n",
              "\n",
              "    .dataframe tbody tr th {\n",
              "        vertical-align: top;\n",
              "    }\n",
              "\n",
              "    .dataframe thead th {\n",
              "        text-align: right;\n",
              "    }\n",
              "</style>\n",
              "<table border=\"1\" class=\"dataframe\">\n",
              "  <thead>\n",
              "    <tr style=\"text-align: right;\">\n",
              "      <th></th>\n",
              "      <th>HORA</th>\n",
              "      <th>TIPO</th>\n",
              "      <th>QTDE</th>\n",
              "      <th>UO</th>\n",
              "      <th>PREFIXO</th>\n",
              "      <th>LOCALIZAÇÃO</th>\n",
              "      <th>PONTO REFERÊNCIA</th>\n",
              "      <th>DIA DA SEMANA</th>\n",
              "      <th>COLABORADOR</th>\n",
              "    </tr>\n",
              "  </thead>\n",
              "  <tbody>\n",
              "    <tr>\n",
              "      <th>0</th>\n",
              "      <td>0</td>\n",
              "      <td>FADIGA MOTORISTA</td>\n",
              "      <td>AYM8091</td>\n",
              "      <td>MADEIRA</td>\n",
              "      <td>VPP 560</td>\n",
              "      <td>Ortigueira - Paraná</td>\n",
              "      <td>NaN</td>\n",
              "      <td>sex</td>\n",
              "      <td>C170</td>\n",
              "    </tr>\n",
              "    <tr>\n",
              "      <th>1</th>\n",
              "      <td>0</td>\n",
              "      <td>FADIGA MOTORISTA</td>\n",
              "      <td>AYM8091</td>\n",
              "      <td>MADEIRA</td>\n",
              "      <td>VPP 560</td>\n",
              "      <td>Reserva - Paraná</td>\n",
              "      <td>NaN</td>\n",
              "      <td>sex</td>\n",
              "      <td>C170</td>\n",
              "    </tr>\n",
              "    <tr>\n",
              "      <th>2</th>\n",
              "      <td>0</td>\n",
              "      <td>FADIGA MOTORISTA</td>\n",
              "      <td>AYM8091</td>\n",
              "      <td>MADEIRA</td>\n",
              "      <td>VPP 560</td>\n",
              "      <td>Reserva - Paraná</td>\n",
              "      <td>NaN</td>\n",
              "      <td>sex</td>\n",
              "      <td>C170</td>\n",
              "    </tr>\n",
              "    <tr>\n",
              "      <th>3</th>\n",
              "      <td>0</td>\n",
              "      <td>FADIGA MOTORISTA</td>\n",
              "      <td>AYM8091</td>\n",
              "      <td>MADEIRA</td>\n",
              "      <td>VPP 560</td>\n",
              "      <td>Telêmaco Borba - Paraná</td>\n",
              "      <td>NaN</td>\n",
              "      <td>qui</td>\n",
              "      <td>C170</td>\n",
              "    </tr>\n",
              "    <tr>\n",
              "      <th>4</th>\n",
              "      <td>0</td>\n",
              "      <td>FADIGA MOTORISTA</td>\n",
              "      <td>AYM8091</td>\n",
              "      <td>TRITREM</td>\n",
              "      <td>VPP 560</td>\n",
              "      <td>Ortigueira - Paraná</td>\n",
              "      <td>NaN</td>\n",
              "      <td>sáb</td>\n",
              "      <td>C11</td>\n",
              "    </tr>\n",
              "  </tbody>\n",
              "</table>\n",
              "</div>"
            ],
            "text/plain": [
              "   HORA              TIPO     QTDE  ... PONTO REFERÊNCIA DIA DA SEMANA COLABORADOR\n",
              "0     0  FADIGA MOTORISTA  AYM8091  ...              NaN           sex        C170\n",
              "1     0  FADIGA MOTORISTA  AYM8091  ...              NaN           sex        C170\n",
              "2     0  FADIGA MOTORISTA  AYM8091  ...              NaN           sex        C170\n",
              "3     0  FADIGA MOTORISTA  AYM8091  ...              NaN           qui        C170\n",
              "4     0  FADIGA MOTORISTA  AYM8091  ...              NaN           sáb         C11\n",
              "\n",
              "[5 rows x 9 columns]"
            ]
          },
          "metadata": {
            "tags": []
          },
          "execution_count": 195
        }
      ]
    },
    {
      "cell_type": "code",
      "metadata": {
        "colab": {
          "base_uri": "https://localhost:8080/"
        },
        "id": "awL6A9lifJwr",
        "outputId": "c02290e2-9b37-46c5-8895-731bc56e1e03"
      },
      "source": [
        "dfE3['UO'].value_counts()"
      ],
      "execution_count": 196,
      "outputs": [
        {
          "output_type": "execute_result",
          "data": {
            "text/plain": [
              "MADEIRA       2680\n",
              "TRITREM        631\n",
              "BIOMASSA       291\n",
              "PRANCHA        180\n",
              "RIO BRANCO     147\n",
              "PÁTIO PUMA      24\n",
              "KLABIN           1\n",
              "Name: UO, dtype: int64"
            ]
          },
          "metadata": {
            "tags": []
          },
          "execution_count": 196
        }
      ]
    },
    {
      "cell_type": "code",
      "metadata": {
        "colab": {
          "base_uri": "https://localhost:8080/"
        },
        "id": "LgM87D8Mf5aj",
        "outputId": "7dcbc4d9-12da-4568-9e1a-21c95cd9b6ff"
      },
      "source": [
        "dfE3[dfE3['HORA'] == 0]['COLABORADOR'].nunique()"
      ],
      "execution_count": 197,
      "outputs": [
        {
          "output_type": "execute_result",
          "data": {
            "text/plain": [
              "41"
            ]
          },
          "metadata": {
            "tags": []
          },
          "execution_count": 197
        }
      ]
    },
    {
      "cell_type": "code",
      "metadata": {
        "colab": {
          "base_uri": "https://localhost:8080/"
        },
        "id": "0o58cEb3gV3h",
        "outputId": "dba4ba80-0150-4897-a84d-dbf9c3b84d39"
      },
      "source": [
        "dfE3[dfE3['HORA'] == 0].shape"
      ],
      "execution_count": 198,
      "outputs": [
        {
          "output_type": "execute_result",
          "data": {
            "text/plain": [
              "(225, 9)"
            ]
          },
          "metadata": {
            "tags": []
          },
          "execution_count": 198
        }
      ]
    },
    {
      "cell_type": "code",
      "metadata": {
        "colab": {
          "base_uri": "https://localhost:8080/",
          "height": 824
        },
        "id": "qpuqLpI6dG97",
        "outputId": "7a28bc88-f417-4c6c-b862-c7ef3c6e7085"
      },
      "source": [
        "dfE3_motoristas_hora = pd.DataFrame(dfE3.groupby(by='HORA')['COLABORADOR'].nunique().rename('N° de motoristas'))\r\n",
        "dfE3_motoristas_hora"
      ],
      "execution_count": 199,
      "outputs": [
        {
          "output_type": "execute_result",
          "data": {
            "text/html": [
              "<div>\n",
              "<style scoped>\n",
              "    .dataframe tbody tr th:only-of-type {\n",
              "        vertical-align: middle;\n",
              "    }\n",
              "\n",
              "    .dataframe tbody tr th {\n",
              "        vertical-align: top;\n",
              "    }\n",
              "\n",
              "    .dataframe thead th {\n",
              "        text-align: right;\n",
              "    }\n",
              "</style>\n",
              "<table border=\"1\" class=\"dataframe\">\n",
              "  <thead>\n",
              "    <tr style=\"text-align: right;\">\n",
              "      <th></th>\n",
              "      <th>N° de motoristas</th>\n",
              "    </tr>\n",
              "    <tr>\n",
              "      <th>HORA</th>\n",
              "      <th></th>\n",
              "    </tr>\n",
              "  </thead>\n",
              "  <tbody>\n",
              "    <tr>\n",
              "      <th>0</th>\n",
              "      <td>41</td>\n",
              "    </tr>\n",
              "    <tr>\n",
              "      <th>1</th>\n",
              "      <td>52</td>\n",
              "    </tr>\n",
              "    <tr>\n",
              "      <th>2</th>\n",
              "      <td>44</td>\n",
              "    </tr>\n",
              "    <tr>\n",
              "      <th>3</th>\n",
              "      <td>40</td>\n",
              "    </tr>\n",
              "    <tr>\n",
              "      <th>4</th>\n",
              "      <td>44</td>\n",
              "    </tr>\n",
              "    <tr>\n",
              "      <th>5</th>\n",
              "      <td>41</td>\n",
              "    </tr>\n",
              "    <tr>\n",
              "      <th>6</th>\n",
              "      <td>36</td>\n",
              "    </tr>\n",
              "    <tr>\n",
              "      <th>7</th>\n",
              "      <td>47</td>\n",
              "    </tr>\n",
              "    <tr>\n",
              "      <th>8</th>\n",
              "      <td>42</td>\n",
              "    </tr>\n",
              "    <tr>\n",
              "      <th>9</th>\n",
              "      <td>35</td>\n",
              "    </tr>\n",
              "    <tr>\n",
              "      <th>10</th>\n",
              "      <td>43</td>\n",
              "    </tr>\n",
              "    <tr>\n",
              "      <th>11</th>\n",
              "      <td>36</td>\n",
              "    </tr>\n",
              "    <tr>\n",
              "      <th>12</th>\n",
              "      <td>40</td>\n",
              "    </tr>\n",
              "    <tr>\n",
              "      <th>13</th>\n",
              "      <td>42</td>\n",
              "    </tr>\n",
              "    <tr>\n",
              "      <th>14</th>\n",
              "      <td>46</td>\n",
              "    </tr>\n",
              "    <tr>\n",
              "      <th>15</th>\n",
              "      <td>35</td>\n",
              "    </tr>\n",
              "    <tr>\n",
              "      <th>16</th>\n",
              "      <td>33</td>\n",
              "    </tr>\n",
              "    <tr>\n",
              "      <th>17</th>\n",
              "      <td>34</td>\n",
              "    </tr>\n",
              "    <tr>\n",
              "      <th>18</th>\n",
              "      <td>18</td>\n",
              "    </tr>\n",
              "    <tr>\n",
              "      <th>19</th>\n",
              "      <td>28</td>\n",
              "    </tr>\n",
              "    <tr>\n",
              "      <th>20</th>\n",
              "      <td>25</td>\n",
              "    </tr>\n",
              "    <tr>\n",
              "      <th>21</th>\n",
              "      <td>29</td>\n",
              "    </tr>\n",
              "    <tr>\n",
              "      <th>22</th>\n",
              "      <td>32</td>\n",
              "    </tr>\n",
              "    <tr>\n",
              "      <th>23</th>\n",
              "      <td>37</td>\n",
              "    </tr>\n",
              "  </tbody>\n",
              "</table>\n",
              "</div>"
            ],
            "text/plain": [
              "      N° de motoristas\n",
              "HORA                  \n",
              "0                   41\n",
              "1                   52\n",
              "2                   44\n",
              "3                   40\n",
              "4                   44\n",
              "5                   41\n",
              "6                   36\n",
              "7                   47\n",
              "8                   42\n",
              "9                   35\n",
              "10                  43\n",
              "11                  36\n",
              "12                  40\n",
              "13                  42\n",
              "14                  46\n",
              "15                  35\n",
              "16                  33\n",
              "17                  34\n",
              "18                  18\n",
              "19                  28\n",
              "20                  25\n",
              "21                  29\n",
              "22                  32\n",
              "23                  37"
            ]
          },
          "metadata": {
            "tags": []
          },
          "execution_count": 199
        }
      ]
    },
    {
      "cell_type": "code",
      "metadata": {
        "colab": {
          "base_uri": "https://localhost:8080/",
          "height": 542
        },
        "id": "UPup3BIj3aAS",
        "outputId": "774f9fb0-f757-4040-87a7-941ec3f05725"
      },
      "source": [
        "dfE3['HORA'].hist(nbins=24)"
      ],
      "execution_count": 200,
      "outputs": [
        {
          "output_type": "display_data",
          "data": {
            "text/html": [
              "<html>\n",
              "<head><meta charset=\"utf-8\" /></head>\n",
              "<body>\n",
              "    <div>            <script src=\"https://cdnjs.cloudflare.com/ajax/libs/mathjax/2.7.5/MathJax.js?config=TeX-AMS-MML_SVG\"></script><script type=\"text/javascript\">if (window.MathJax) {MathJax.Hub.Config({SVG: {font: \"STIX-Web\"}});}</script>                <script type=\"text/javascript\">window.PlotlyConfig = {MathJaxConfig: 'local'};</script>\n",
              "        <script src=\"https://cdn.plot.ly/plotly-latest.min.js\"></script>                <div id=\"8e7e46f7-ee5b-4be8-bae7-38236b5a2199\" class=\"plotly-graph-div\" style=\"height:525px; width:100%;\"></div>            <script type=\"text/javascript\">                                    window.PLOTLYENV=window.PLOTLYENV || {};                                    if (document.getElementById(\"8e7e46f7-ee5b-4be8-bae7-38236b5a2199\")) {                    Plotly.newPlot(                        \"8e7e46f7-ee5b-4be8-bae7-38236b5a2199\",                        [{\"alignmentgroup\": \"True\", \"bingroup\": \"x\", \"hovertemplate\": \"variable=HORA<br>value=%{x}<br>count=%{y}<extra></extra>\", \"legendgroup\": \"HORA\", \"marker\": {\"color\": \"#636efa\"}, \"name\": \"HORA\", \"nbinsx\": 24, \"offsetgroup\": \"HORA\", \"orientation\": \"v\", \"showlegend\": true, \"type\": \"histogram\", \"x\": [0, 0, 0, 0, 0, 0, 0, 0, 0, 0, 0, 0, 0, 0, 0, 0, 0, 0, 0, 0, 0, 0, 0, 0, 0, 0, 0, 0, 0, 0, 0, 0, 0, 0, 0, 0, 0, 0, 0, 0, 0, 0, 0, 0, 0, 0, 0, 0, 0, 0, 0, 0, 0, 0, 0, 0, 0, 0, 0, 0, 0, 0, 0, 0, 0, 0, 0, 0, 0, 0, 0, 0, 0, 0, 0, 0, 0, 0, 0, 0, 0, 0, 0, 0, 0, 0, 0, 0, 0, 0, 0, 0, 0, 0, 0, 0, 0, 0, 0, 0, 0, 0, 0, 0, 0, 0, 0, 0, 0, 0, 0, 0, 0, 0, 0, 0, 0, 0, 0, 0, 0, 0, 0, 0, 0, 0, 0, 0, 0, 0, 0, 0, 0, 0, 0, 0, 0, 0, 0, 0, 0, 0, 0, 0, 0, 0, 0, 0, 0, 0, 0, 0, 0, 0, 0, 0, 0, 0, 0, 0, 0, 0, 0, 0, 0, 0, 0, 0, 0, 0, 0, 0, 0, 0, 0, 0, 0, 0, 0, 0, 0, 0, 0, 0, 0, 0, 0, 0, 0, 0, 0, 0, 0, 0, 0, 0, 0, 0, 0, 0, 0, 0, 0, 0, 0, 0, 0, 0, 0, 0, 0, 0, 0, 0, 0, 0, 0, 0, 0, 0, 0, 0, 0, 0, 0, 1, 1, 1, 1, 1, 1, 1, 1, 1, 1, 1, 1, 1, 1, 1, 1, 1, 1, 1, 1, 1, 1, 1, 1, 1, 1, 1, 1, 1, 1, 1, 1, 1, 1, 1, 1, 1, 1, 1, 1, 1, 1, 1, 1, 1, 1, 1, 1, 1, 1, 1, 1, 1, 1, 1, 1, 1, 1, 1, 1, 1, 1, 1, 1, 1, 1, 1, 1, 1, 1, 1, 1, 1, 1, 1, 1, 1, 1, 1, 1, 1, 1, 1, 1, 1, 1, 1, 1, 1, 1, 1, 1, 1, 1, 1, 1, 1, 1, 1, 1, 1, 1, 1, 1, 1, 1, 1, 1, 1, 1, 1, 1, 1, 1, 1, 1, 1, 1, 1, 1, 1, 1, 1, 1, 1, 1, 1, 1, 1, 1, 1, 1, 1, 1, 1, 1, 1, 1, 1, 1, 1, 1, 1, 1, 1, 1, 1, 1, 1, 1, 1, 1, 1, 1, 1, 1, 1, 1, 1, 1, 1, 1, 1, 1, 1, 1, 1, 1, 1, 1, 1, 1, 1, 1, 1, 1, 1, 1, 1, 1, 1, 1, 1, 1, 1, 1, 1, 1, 1, 1, 1, 1, 1, 1, 1, 1, 1, 1, 1, 1, 1, 1, 1, 1, 1, 1, 1, 1, 1, 1, 1, 1, 1, 1, 1, 1, 1, 1, 1, 1, 1, 1, 1, 1, 1, 1, 1, 1, 1, 1, 1, 1, 1, 1, 1, 1, 1, 1, 1, 1, 1, 1, 1, 1, 1, 1, 1, 1, 1, 1, 1, 1, 1, 1, 1, 1, 1, 1, 1, 1, 1, 1, 1, 1, 1, 1, 1, 1, 1, 1, 1, 1, 1, 1, 1, 1, 1, 1, 1, 1, 1, 1, 1, 1, 1, 1, 1, 1, 1, 1, 1, 1, 1, 1, 1, 1, 1, 1, 1, 1, 1, 1, 1, 1, 1, 1, 1, 1, 1, 1, 1, 1, 1, 1, 1, 1, 1, 1, 1, 1, 1, 1, 1, 1, 1, 1, 1, 1, 1, 1, 1, 1, 1, 1, 1, 1, 1, 1, 1, 1, 1, 1, 1, 1, 1, 1, 1, 1, 1, 1, 1, 1, 1, 1, 1, 1, 1, 2, 2, 2, 2, 2, 2, 2, 2, 2, 2, 2, 2, 2, 2, 2, 2, 2, 2, 2, 2, 2, 2, 2, 2, 2, 2, 2, 2, 2, 2, 2, 2, 2, 2, 2, 2, 2, 2, 2, 2, 2, 2, 2, 2, 2, 2, 2, 2, 2, 2, 2, 2, 2, 2, 2, 2, 2, 2, 2, 2, 2, 2, 2, 2, 2, 2, 2, 2, 2, 2, 2, 2, 2, 2, 2, 2, 2, 2, 2, 2, 2, 2, 2, 2, 2, 2, 2, 2, 2, 2, 2, 2, 2, 2, 2, 2, 2, 2, 2, 2, 2, 2, 2, 2, 2, 2, 2, 2, 2, 2, 2, 2, 2, 2, 2, 2, 2, 2, 2, 2, 2, 2, 2, 2, 2, 2, 2, 2, 2, 2, 2, 2, 2, 2, 2, 2, 2, 2, 2, 2, 2, 2, 2, 2, 2, 2, 2, 2, 2, 2, 2, 2, 2, 2, 2, 2, 2, 2, 2, 2, 2, 2, 2, 2, 2, 2, 2, 2, 2, 2, 2, 2, 2, 2, 2, 2, 2, 2, 2, 2, 2, 2, 2, 2, 2, 2, 2, 2, 2, 2, 2, 2, 2, 2, 2, 2, 2, 2, 2, 2, 2, 2, 2, 2, 2, 2, 2, 2, 2, 2, 2, 2, 2, 2, 2, 2, 2, 2, 2, 2, 2, 2, 2, 2, 2, 2, 2, 2, 2, 2, 2, 2, 2, 2, 2, 2, 2, 2, 2, 2, 2, 2, 2, 2, 2, 2, 2, 2, 2, 2, 2, 2, 2, 2, 2, 2, 2, 2, 2, 2, 2, 2, 2, 2, 2, 2, 2, 2, 2, 2, 2, 2, 2, 2, 2, 2, 2, 2, 3, 3, 3, 3, 3, 3, 3, 3, 3, 3, 3, 3, 3, 3, 3, 3, 3, 3, 3, 3, 3, 3, 3, 3, 3, 3, 3, 3, 3, 3, 3, 3, 3, 3, 3, 3, 3, 3, 3, 3, 3, 3, 3, 3, 3, 3, 3, 3, 3, 3, 3, 3, 3, 3, 3, 3, 3, 3, 3, 3, 3, 3, 3, 3, 3, 3, 3, 3, 3, 3, 3, 3, 3, 3, 3, 3, 3, 3, 3, 3, 3, 3, 3, 3, 3, 3, 3, 3, 3, 3, 3, 3, 3, 3, 3, 3, 3, 3, 3, 3, 3, 3, 3, 3, 3, 3, 3, 3, 3, 3, 3, 3, 3, 3, 3, 3, 3, 3, 3, 3, 3, 3, 3, 3, 3, 3, 3, 3, 3, 3, 3, 3, 3, 3, 3, 3, 3, 3, 3, 3, 3, 3, 3, 3, 3, 3, 3, 3, 3, 3, 3, 3, 3, 3, 3, 3, 3, 3, 3, 3, 3, 3, 3, 3, 3, 3, 3, 3, 3, 3, 3, 3, 3, 3, 3, 3, 3, 3, 3, 3, 3, 3, 3, 3, 3, 3, 3, 3, 3, 3, 3, 3, 3, 3, 3, 3, 3, 3, 3, 3, 3, 3, 3, 3, 3, 3, 3, 3, 3, 3, 3, 3, 3, 3, 3, 3, 3, 3, 3, 3, 3, 3, 3, 3, 3, 3, 3, 3, 3, 3, 3, 3, 3, 3, 3, 3, 3, 3, 3, 3, 3, 3, 3, 3, 3, 3, 3, 3, 3, 3, 3, 3, 3, 3, 3, 3, 3, 3, 3, 3, 3, 3, 3, 3, 3, 3, 3, 4, 4, 4, 4, 4, 4, 4, 4, 4, 4, 4, 4, 4, 4, 4, 4, 4, 4, 4, 4, 4, 4, 4, 4, 4, 4, 4, 4, 4, 4, 4, 4, 4, 4, 4, 4, 4, 4, 4, 4, 4, 4, 4, 4, 4, 4, 4, 4, 4, 4, 4, 4, 4, 4, 4, 4, 4, 4, 4, 4, 4, 4, 4, 4, 4, 4, 4, 4, 4, 4, 4, 4, 4, 4, 4, 4, 4, 4, 4, 4, 4, 4, 4, 4, 4, 4, 4, 4, 4, 4, 4, 4, 4, 4, 4, 4, 4, 4, 4, 4, 4, 4, 4, 4, 4, 4, 4, 4, 4, 4, 4, 4, 4, 4, 4, 4, 4, 4, 4, 4, 4, 4, 4, 4, 4, 4, 4, 4, 4, 4, 4, 4, 4, 4, 4, 4, 4, 4, 4, 4, 4, 4, 4, 4, 4, 4, 4, 4, 4, 4, 4, 4, 4, 4, 4, 4, 4, 4, 4, 4, 4, 4, 4, 4, 4, 4, 4, 4, 4, 4, 4, 4, 4, 4, 4, 4, 4, 4, 4, 4, 4, 4, 4, 4, 4, 4, 4, 4, 4, 4, 4, 4, 4, 4, 4, 4, 4, 4, 4, 4, 4, 4, 4, 4, 4, 4, 4, 4, 4, 4, 4, 4, 4, 4, 4, 4, 4, 4, 4, 4, 4, 4, 4, 4, 4, 4, 4, 4, 4, 4, 4, 4, 4, 4, 4, 4, 4, 4, 4, 4, 4, 4, 4, 4, 4, 4, 4, 4, 4, 4, 4, 4, 4, 4, 4, 4, 4, 4, 4, 4, 4, 4, 4, 4, 4, 4, 4, 4, 4, 4, 4, 4, 4, 4, 5, 5, 5, 5, 5, 5, 5, 5, 5, 5, 5, 5, 5, 5, 5, 5, 5, 5, 5, 5, 5, 5, 5, 5, 5, 5, 5, 5, 5, 5, 5, 5, 5, 5, 5, 5, 5, 5, 5, 5, 5, 5, 5, 5, 5, 5, 5, 5, 5, 5, 5, 5, 5, 5, 5, 5, 5, 5, 5, 5, 5, 5, 5, 5, 5, 5, 5, 5, 5, 5, 5, 5, 5, 5, 5, 5, 5, 5, 5, 5, 5, 5, 5, 5, 5, 5, 5, 5, 5, 5, 5, 5, 5, 5, 5, 5, 5, 5, 5, 5, 5, 5, 5, 5, 5, 5, 5, 5, 5, 5, 5, 5, 5, 5, 5, 5, 5, 5, 5, 5, 5, 5, 5, 5, 5, 5, 5, 5, 5, 5, 5, 5, 5, 5, 5, 5, 5, 5, 5, 5, 5, 5, 5, 5, 5, 5, 5, 5, 5, 5, 5, 5, 5, 5, 5, 5, 5, 5, 5, 5, 5, 5, 5, 5, 5, 5, 5, 5, 5, 5, 5, 5, 5, 5, 5, 5, 5, 5, 5, 5, 5, 5, 5, 5, 5, 5, 5, 5, 5, 5, 5, 5, 5, 5, 5, 5, 5, 5, 5, 5, 5, 5, 6, 6, 6, 6, 6, 6, 6, 6, 6, 6, 6, 6, 6, 6, 6, 6, 6, 6, 6, 6, 6, 6, 6, 6, 6, 6, 6, 6, 6, 6, 6, 6, 6, 6, 6, 6, 6, 6, 6, 6, 6, 6, 6, 6, 6, 6, 6, 6, 6, 6, 6, 6, 6, 6, 6, 6, 6, 6, 6, 6, 6, 6, 6, 6, 6, 6, 6, 6, 6, 6, 6, 6, 6, 6, 6, 6, 6, 6, 6, 6, 6, 6, 6, 6, 6, 6, 6, 6, 6, 6, 6, 6, 6, 6, 6, 6, 6, 6, 6, 6, 6, 6, 6, 6, 6, 6, 6, 6, 6, 6, 6, 6, 6, 6, 6, 6, 6, 6, 6, 6, 6, 6, 6, 6, 6, 6, 6, 6, 6, 6, 6, 7, 7, 7, 7, 7, 7, 7, 7, 7, 7, 7, 7, 7, 7, 7, 7, 7, 7, 7, 7, 7, 7, 7, 7, 7, 7, 7, 7, 7, 7, 7, 7, 7, 7, 7, 7, 7, 7, 7, 7, 7, 7, 7, 7, 7, 7, 7, 7, 7, 7, 7, 7, 7, 7, 7, 7, 7, 7, 7, 7, 7, 7, 7, 7, 7, 7, 7, 7, 7, 7, 7, 7, 7, 7, 7, 7, 7, 7, 7, 7, 7, 7, 7, 7, 7, 7, 7, 7, 7, 7, 7, 7, 7, 7, 7, 7, 7, 7, 7, 7, 7, 7, 7, 7, 7, 7, 7, 7, 7, 7, 7, 7, 7, 7, 7, 7, 7, 7, 7, 7, 7, 7, 7, 7, 7, 7, 7, 7, 7, 7, 7, 7, 7, 8, 8, 8, 8, 8, 8, 8, 8, 8, 8, 8, 8, 8, 8, 8, 8, 8, 8, 8, 8, 8, 8, 8, 8, 8, 8, 8, 8, 8, 8, 8, 8, 8, 8, 8, 8, 8, 8, 8, 8, 8, 8, 8, 8, 8, 8, 8, 8, 8, 8, 8, 8, 8, 8, 8, 8, 8, 8, 8, 8, 8, 8, 8, 8, 8, 8, 8, 8, 8, 8, 8, 8, 8, 8, 8, 8, 8, 8, 8, 8, 8, 8, 8, 8, 8, 8, 8, 8, 8, 8, 8, 8, 8, 8, 8, 8, 8, 8, 8, 8, 8, 8, 8, 8, 8, 8, 8, 8, 8, 8, 8, 8, 8, 8, 8, 8, 8, 8, 8, 8, 8, 8, 8, 8, 8, 8, 8, 8, 8, 8, 8, 8, 8, 8, 8, 8, 8, 8, 8, 8, 8, 8, 8, 8, 8, 8, 9, 9, 9, 9, 9, 9, 9, 9, 9, 9, 9, 9, 9, 9, 9, 9, 9, 9, 9, 9, 9, 9, 9, 9, 9, 9, 9, 9, 9, 9, 9, 9, 9, 9, 9, 9, 9, 9, 9, 9, 9, 9, 9, 9, 9, 9, 9, 9, 9, 9, 9, 9, 9, 9, 9, 9, 9, 9, 9, 9, 9, 9, 9, 9, 9, 9, 9, 9, 9, 9, 9, 9, 9, 9, 9, 9, 9, 9, 9, 9, 9, 9, 9, 9, 9, 9, 9, 9, 9, 9, 9, 9, 9, 9, 9, 9, 9, 9, 9, 9, 9, 9, 9, 9, 9, 9, 9, 9, 9, 9, 9, 9, 9, 9, 9, 9, 9, 9, 9, 9, 9, 9, 9, 9, 9, 9, 9, 9, 9, 9, 9, 9, 9, 9, 9, 9, 9, 9, 9, 9, 9, 9, 9, 9, 9, 9, 9, 10, 10, 10, 10, 10, 10, 10, 10, 10, 10, 10, 10, 10, 10, 10, 10, 10, 10, 10, 10, 10, 10, 10, 10, 10, 10, 10, 10, 10, 10, 10, 10, 10, 10, 10, 10, 10, 10, 10, 10, 10, 10, 10, 10, 10, 10, 10, 10, 10, 10, 10, 10, 10, 10, 10, 10, 10, 10, 10, 10, 10, 10, 10, 10, 10, 10, 10, 10, 10, 10, 10, 10, 10, 10, 10, 10, 10, 10, 10, 10, 10, 10, 10, 10, 10, 10, 10, 10, 10, 10, 10, 10, 10, 10, 10, 10, 10, 10, 10, 10, 10, 10, 10, 10, 10, 10, 10, 10, 10, 10, 10, 10, 10, 10, 10, 10, 10, 10, 10, 10, 10, 10, 10, 10, 10, 10, 10, 10, 10, 10, 10, 10, 10, 10, 10, 10, 10, 10, 10, 10, 10, 10, 10, 10, 10, 10, 10, 10, 10, 10, 10, 10, 10, 10, 10, 10, 10, 10, 10, 10, 10, 10, 10, 10, 10, 10, 10, 10, 10, 10, 10, 10, 10, 10, 10, 10, 10, 10, 10, 10, 10, 10, 10, 10, 10, 10, 10, 10, 10, 10, 10, 10, 10, 10, 10, 10, 10, 10, 10, 10, 10, 10, 10, 10, 10, 10, 10, 10, 10, 10, 10, 10, 10, 10, 10, 10, 10, 10, 10, 10, 10, 10, 10, 10, 10, 10, 10, 10, 10, 10, 10, 10, 10, 10, 10, 10, 10, 10, 10, 10, 11, 11, 11, 11, 11, 11, 11, 11, 11, 11, 11, 11, 11, 11, 11, 11, 11, 11, 11, 11, 11, 11, 11, 11, 11, 11, 11, 11, 11, 11, 11, 11, 11, 11, 11, 11, 11, 11, 11, 11, 11, 11, 11, 11, 11, 11, 11, 11, 11, 11, 11, 11, 11, 11, 11, 11, 11, 11, 11, 11, 11, 11, 11, 11, 11, 11, 11, 11, 11, 11, 11, 11, 11, 11, 11, 11, 11, 11, 11, 11, 11, 11, 11, 11, 11, 11, 11, 11, 11, 11, 11, 11, 11, 11, 11, 11, 11, 11, 11, 11, 11, 11, 11, 11, 11, 11, 11, 11, 11, 11, 11, 11, 11, 11, 11, 11, 11, 11, 11, 11, 11, 11, 11, 11, 11, 11, 11, 11, 11, 11, 11, 11, 11, 11, 11, 11, 11, 11, 11, 11, 11, 11, 11, 11, 11, 11, 11, 11, 11, 11, 11, 11, 11, 11, 11, 11, 11, 11, 11, 11, 11, 11, 11, 11, 11, 11, 12, 12, 12, 12, 12, 12, 12, 12, 12, 12, 12, 12, 12, 12, 12, 12, 12, 12, 12, 12, 12, 12, 12, 12, 12, 12, 12, 12, 12, 12, 12, 12, 12, 12, 12, 12, 12, 12, 12, 12, 12, 12, 12, 12, 12, 12, 12, 12, 12, 12, 12, 12, 12, 12, 12, 12, 12, 12, 12, 12, 12, 12, 12, 12, 12, 12, 12, 12, 12, 12, 12, 12, 12, 12, 12, 12, 12, 12, 12, 12, 12, 12, 12, 12, 12, 12, 12, 12, 12, 12, 12, 12, 12, 12, 12, 12, 12, 12, 12, 12, 12, 12, 12, 12, 12, 12, 12, 12, 12, 12, 12, 12, 12, 12, 12, 12, 12, 12, 12, 12, 12, 12, 12, 12, 12, 12, 12, 12, 12, 12, 12, 12, 12, 12, 12, 12, 12, 12, 12, 12, 12, 12, 12, 12, 12, 12, 12, 12, 12, 12, 12, 12, 12, 12, 12, 12, 12, 12, 13, 13, 13, 13, 13, 13, 13, 13, 13, 13, 13, 13, 13, 13, 13, 13, 13, 13, 13, 13, 13, 13, 13, 13, 13, 13, 13, 13, 13, 13, 13, 13, 13, 13, 13, 13, 13, 13, 13, 13, 13, 13, 13, 13, 13, 13, 13, 13, 13, 13, 13, 13, 13, 13, 13, 13, 13, 13, 13, 13, 13, 13, 13, 13, 13, 13, 13, 13, 13, 13, 13, 13, 13, 13, 13, 13, 13, 13, 13, 13, 13, 13, 13, 13, 13, 13, 13, 13, 13, 13, 13, 13, 13, 13, 13, 13, 13, 13, 13, 13, 13, 13, 13, 13, 13, 13, 13, 13, 13, 13, 13, 13, 13, 13, 13, 13, 13, 13, 13, 13, 13, 13, 13, 13, 13, 13, 13, 13, 13, 13, 13, 13, 13, 13, 13, 13, 13, 13, 13, 13, 13, 13, 13, 13, 13, 13, 13, 13, 13, 13, 13, 13, 13, 13, 13, 13, 13, 13, 13, 13, 13, 13, 13, 13, 13, 13, 13, 13, 13, 13, 13, 13, 13, 13, 13, 13, 13, 13, 13, 13, 13, 13, 13, 13, 13, 13, 14, 14, 14, 14, 14, 14, 14, 14, 14, 14, 14, 14, 14, 14, 14, 14, 14, 14, 14, 14, 14, 14, 14, 14, 14, 14, 14, 14, 14, 14, 14, 14, 14, 14, 14, 14, 14, 14, 14, 14, 14, 14, 14, 14, 14, 14, 14, 14, 14, 14, 14, 14, 14, 14, 14, 14, 14, 14, 14, 14, 14, 14, 14, 14, 14, 14, 14, 14, 14, 14, 14, 14, 14, 14, 14, 14, 14, 14, 14, 14, 14, 14, 14, 14, 14, 14, 14, 14, 14, 14, 14, 14, 14, 14, 14, 14, 14, 14, 14, 14, 14, 14, 14, 14, 14, 14, 14, 14, 14, 14, 14, 14, 14, 14, 14, 14, 14, 14, 14, 14, 14, 14, 14, 14, 14, 14, 14, 14, 14, 14, 14, 14, 14, 14, 14, 14, 14, 14, 14, 14, 14, 14, 14, 14, 14, 14, 14, 14, 14, 14, 14, 14, 14, 14, 14, 14, 14, 14, 14, 14, 14, 14, 15, 15, 15, 15, 15, 15, 15, 15, 15, 15, 15, 15, 15, 15, 15, 15, 15, 15, 15, 15, 15, 15, 15, 15, 15, 15, 15, 15, 15, 15, 15, 15, 15, 15, 15, 15, 15, 15, 15, 15, 15, 15, 15, 15, 15, 15, 15, 15, 15, 15, 15, 15, 15, 15, 15, 15, 15, 15, 15, 15, 15, 15, 15, 15, 15, 15, 15, 15, 15, 15, 15, 15, 15, 15, 15, 15, 15, 15, 15, 15, 15, 15, 15, 15, 15, 15, 15, 15, 15, 15, 15, 15, 15, 15, 15, 15, 15, 15, 15, 15, 15, 15, 15, 15, 15, 15, 15, 15, 15, 15, 15, 15, 15, 16, 16, 16, 16, 16, 16, 16, 16, 16, 16, 16, 16, 16, 16, 16, 16, 16, 16, 16, 16, 16, 16, 16, 16, 16, 16, 16, 16, 16, 16, 16, 16, 16, 16, 16, 16, 16, 16, 16, 16, 16, 16, 16, 16, 16, 16, 16, 16, 16, 16, 16, 16, 16, 16, 16, 16, 16, 16, 16, 16, 16, 16, 16, 16, 16, 16, 16, 16, 16, 16, 16, 16, 16, 16, 16, 16, 16, 16, 16, 16, 16, 16, 16, 16, 16, 16, 16, 16, 16, 16, 16, 16, 16, 16, 16, 16, 16, 17, 17, 17, 17, 17, 17, 17, 17, 17, 17, 17, 17, 17, 17, 17, 17, 17, 17, 17, 17, 17, 17, 17, 17, 17, 17, 17, 17, 17, 17, 17, 17, 17, 17, 17, 17, 17, 17, 17, 17, 17, 17, 17, 17, 17, 17, 17, 17, 17, 17, 17, 17, 17, 17, 17, 17, 17, 17, 17, 17, 17, 17, 17, 17, 17, 17, 17, 17, 17, 17, 17, 17, 17, 17, 17, 17, 17, 17, 17, 17, 17, 17, 17, 17, 17, 17, 17, 17, 17, 17, 17, 17, 17, 17, 17, 17, 17, 18, 18, 18, 18, 18, 18, 18, 18, 18, 18, 18, 18, 18, 18, 18, 18, 18, 18, 18, 18, 18, 18, 18, 18, 18, 18, 18, 18, 18, 18, 18, 18, 18, 18, 18, 18, 18, 18, 18, 18, 18, 18, 18, 18, 18, 18, 18, 18, 18, 18, 18, 18, 18, 18, 18, 18, 18, 18, 18, 18, 18, 18, 18, 18, 18, 18, 18, 19, 19, 19, 19, 19, 19, 19, 19, 19, 19, 19, 19, 19, 19, 19, 19, 19, 19, 19, 19, 19, 19, 19, 19, 19, 19, 19, 19, 19, 19, 19, 19, 19, 19, 19, 19, 19, 19, 19, 19, 19, 19, 19, 19, 19, 19, 19, 19, 19, 19, 19, 19, 19, 19, 19, 19, 19, 19, 19, 19, 19, 19, 19, 19, 19, 19, 19, 19, 19, 19, 19, 19, 19, 19, 19, 19, 19, 19, 19, 19, 19, 19, 19, 19, 20, 20, 20, 20, 20, 20, 20, 20, 20, 20, 20, 20, 20, 20, 20, 20, 20, 20, 20, 20, 20, 20, 20, 20, 20, 20, 20, 20, 20, 20, 20, 20, 20, 20, 20, 20, 20, 20, 20, 20, 20, 20, 20, 20, 20, 20, 20, 20, 20, 20, 20, 20, 20, 20, 20, 20, 20, 20, 20, 20, 20, 20, 20, 20, 20, 20, 20, 20, 20, 21, 21, 21, 21, 21, 21, 21, 21, 21, 21, 21, 21, 21, 21, 21, 21, 21, 21, 21, 21, 21, 21, 21, 21, 21, 21, 21, 21, 21, 21, 21, 21, 21, 21, 21, 21, 21, 21, 21, 21, 21, 21, 21, 21, 21, 21, 21, 21, 21, 21, 21, 21, 21, 21, 21, 21, 21, 21, 21, 21, 21, 21, 21, 21, 21, 21, 21, 21, 21, 21, 21, 21, 21, 21, 21, 21, 22, 22, 22, 22, 22, 22, 22, 22, 22, 22, 22, 22, 22, 22, 22, 22, 22, 22, 22, 22, 22, 22, 22, 22, 22, 22, 22, 22, 22, 22, 22, 22, 22, 22, 22, 22, 22, 22, 22, 22, 22, 22, 22, 22, 22, 22, 22, 22, 22, 22, 22, 22, 22, 22, 22, 22, 22, 22, 22, 22, 22, 22, 22, 22, 22, 22, 22, 22, 22, 22, 22, 22, 22, 22, 22, 22, 22, 22, 22, 22, 22, 22, 22, 22, 22, 22, 22, 22, 22, 22, 22, 22, 22, 22, 22, 22, 22, 22, 22, 22, 22, 22, 22, 22, 22, 22, 22, 22, 22, 22, 22, 22, 22, 22, 22, 22, 22, 22, 22, 23, 23, 23, 23, 23, 23, 23, 23, 23, 23, 23, 23, 23, 23, 23, 23, 23, 23, 23, 23, 23, 23, 23, 23, 23, 23, 23, 23, 23, 23, 23, 23, 23, 23, 23, 23, 23, 23, 23, 23, 23, 23, 23, 23, 23, 23, 23, 23, 23, 23, 23, 23, 23, 23, 23, 23, 23, 23, 23, 23, 23, 23, 23, 23, 23, 23, 23, 23, 23, 23, 23, 23, 23, 23, 23, 23, 23, 23, 23, 23, 23, 23, 23, 23, 23, 23, 23, 23, 23, 23, 23, 23, 23, 23, 23, 23, 23, 23, 23, 23, 23, 23, 23, 23, 23, 23, 23, 23, 23, 23, 23, 23, 23, 23, 23, 23, 23, 23, 23, 23, 23, 23, 23, 23, 23, 23, 23, 23, 23, 23, 23, 23, 23, 23, 23, 23, 23, 23, 23, 23, 23, 23, 23, 23, 23, 23, 23, 23, 23, 23, 23, 23, 23, 23, 23, 23, 23, 23, 23, 23], \"xaxis\": \"x\", \"yaxis\": \"y\"}],                        {\"barmode\": \"relative\", \"legend\": {\"title\": {\"text\": \"variable\"}, \"tracegroupgap\": 0}, \"margin\": {\"t\": 60}, \"template\": {\"data\": {\"bar\": [{\"error_x\": {\"color\": \"#2a3f5f\"}, \"error_y\": {\"color\": \"#2a3f5f\"}, \"marker\": {\"line\": {\"color\": \"#E5ECF6\", \"width\": 0.5}}, \"type\": \"bar\"}], \"barpolar\": [{\"marker\": {\"line\": {\"color\": \"#E5ECF6\", \"width\": 0.5}}, \"type\": \"barpolar\"}], \"carpet\": [{\"aaxis\": {\"endlinecolor\": \"#2a3f5f\", \"gridcolor\": \"white\", \"linecolor\": \"white\", \"minorgridcolor\": \"white\", \"startlinecolor\": \"#2a3f5f\"}, \"baxis\": {\"endlinecolor\": \"#2a3f5f\", \"gridcolor\": \"white\", \"linecolor\": \"white\", \"minorgridcolor\": \"white\", \"startlinecolor\": \"#2a3f5f\"}, \"type\": \"carpet\"}], \"choropleth\": [{\"colorbar\": {\"outlinewidth\": 0, \"ticks\": \"\"}, \"type\": \"choropleth\"}], \"contour\": [{\"colorbar\": {\"outlinewidth\": 0, \"ticks\": \"\"}, \"colorscale\": [[0.0, \"#0d0887\"], [0.1111111111111111, \"#46039f\"], [0.2222222222222222, \"#7201a8\"], [0.3333333333333333, \"#9c179e\"], [0.4444444444444444, \"#bd3786\"], [0.5555555555555556, \"#d8576b\"], [0.6666666666666666, \"#ed7953\"], [0.7777777777777778, \"#fb9f3a\"], [0.8888888888888888, \"#fdca26\"], [1.0, \"#f0f921\"]], \"type\": \"contour\"}], \"contourcarpet\": [{\"colorbar\": {\"outlinewidth\": 0, \"ticks\": \"\"}, \"type\": \"contourcarpet\"}], \"heatmap\": [{\"colorbar\": {\"outlinewidth\": 0, \"ticks\": \"\"}, \"colorscale\": [[0.0, \"#0d0887\"], [0.1111111111111111, \"#46039f\"], [0.2222222222222222, \"#7201a8\"], [0.3333333333333333, \"#9c179e\"], [0.4444444444444444, \"#bd3786\"], [0.5555555555555556, \"#d8576b\"], [0.6666666666666666, \"#ed7953\"], [0.7777777777777778, \"#fb9f3a\"], [0.8888888888888888, \"#fdca26\"], [1.0, \"#f0f921\"]], \"type\": \"heatmap\"}], \"heatmapgl\": [{\"colorbar\": {\"outlinewidth\": 0, \"ticks\": \"\"}, \"colorscale\": [[0.0, \"#0d0887\"], [0.1111111111111111, \"#46039f\"], [0.2222222222222222, \"#7201a8\"], [0.3333333333333333, \"#9c179e\"], [0.4444444444444444, \"#bd3786\"], [0.5555555555555556, \"#d8576b\"], [0.6666666666666666, \"#ed7953\"], [0.7777777777777778, \"#fb9f3a\"], [0.8888888888888888, \"#fdca26\"], [1.0, \"#f0f921\"]], \"type\": \"heatmapgl\"}], \"histogram\": [{\"marker\": {\"colorbar\": {\"outlinewidth\": 0, \"ticks\": \"\"}}, \"type\": \"histogram\"}], \"histogram2d\": [{\"colorbar\": {\"outlinewidth\": 0, \"ticks\": \"\"}, \"colorscale\": [[0.0, \"#0d0887\"], [0.1111111111111111, \"#46039f\"], [0.2222222222222222, \"#7201a8\"], [0.3333333333333333, \"#9c179e\"], [0.4444444444444444, \"#bd3786\"], [0.5555555555555556, \"#d8576b\"], [0.6666666666666666, \"#ed7953\"], [0.7777777777777778, \"#fb9f3a\"], [0.8888888888888888, \"#fdca26\"], [1.0, \"#f0f921\"]], \"type\": \"histogram2d\"}], \"histogram2dcontour\": [{\"colorbar\": {\"outlinewidth\": 0, \"ticks\": \"\"}, \"colorscale\": [[0.0, \"#0d0887\"], [0.1111111111111111, \"#46039f\"], [0.2222222222222222, \"#7201a8\"], [0.3333333333333333, \"#9c179e\"], [0.4444444444444444, \"#bd3786\"], [0.5555555555555556, \"#d8576b\"], [0.6666666666666666, \"#ed7953\"], [0.7777777777777778, \"#fb9f3a\"], [0.8888888888888888, \"#fdca26\"], [1.0, \"#f0f921\"]], \"type\": \"histogram2dcontour\"}], \"mesh3d\": [{\"colorbar\": {\"outlinewidth\": 0, \"ticks\": \"\"}, \"type\": \"mesh3d\"}], \"parcoords\": [{\"line\": {\"colorbar\": {\"outlinewidth\": 0, \"ticks\": \"\"}}, \"type\": \"parcoords\"}], \"pie\": [{\"automargin\": true, \"type\": \"pie\"}], \"scatter\": [{\"marker\": {\"colorbar\": {\"outlinewidth\": 0, \"ticks\": \"\"}}, \"type\": \"scatter\"}], \"scatter3d\": [{\"line\": {\"colorbar\": {\"outlinewidth\": 0, \"ticks\": \"\"}}, \"marker\": {\"colorbar\": {\"outlinewidth\": 0, \"ticks\": \"\"}}, \"type\": \"scatter3d\"}], \"scattercarpet\": [{\"marker\": {\"colorbar\": {\"outlinewidth\": 0, \"ticks\": \"\"}}, \"type\": \"scattercarpet\"}], \"scattergeo\": [{\"marker\": {\"colorbar\": {\"outlinewidth\": 0, \"ticks\": \"\"}}, \"type\": \"scattergeo\"}], \"scattergl\": [{\"marker\": {\"colorbar\": {\"outlinewidth\": 0, \"ticks\": \"\"}}, \"type\": \"scattergl\"}], \"scattermapbox\": [{\"marker\": {\"colorbar\": {\"outlinewidth\": 0, \"ticks\": \"\"}}, \"type\": \"scattermapbox\"}], \"scatterpolar\": [{\"marker\": {\"colorbar\": {\"outlinewidth\": 0, \"ticks\": \"\"}}, \"type\": \"scatterpolar\"}], \"scatterpolargl\": [{\"marker\": {\"colorbar\": {\"outlinewidth\": 0, \"ticks\": \"\"}}, \"type\": \"scatterpolargl\"}], \"scatterternary\": [{\"marker\": {\"colorbar\": {\"outlinewidth\": 0, \"ticks\": \"\"}}, \"type\": \"scatterternary\"}], \"surface\": [{\"colorbar\": {\"outlinewidth\": 0, \"ticks\": \"\"}, \"colorscale\": [[0.0, \"#0d0887\"], [0.1111111111111111, \"#46039f\"], [0.2222222222222222, \"#7201a8\"], [0.3333333333333333, \"#9c179e\"], [0.4444444444444444, \"#bd3786\"], [0.5555555555555556, \"#d8576b\"], [0.6666666666666666, \"#ed7953\"], [0.7777777777777778, \"#fb9f3a\"], [0.8888888888888888, \"#fdca26\"], [1.0, \"#f0f921\"]], \"type\": \"surface\"}], \"table\": [{\"cells\": {\"fill\": {\"color\": \"#EBF0F8\"}, \"line\": {\"color\": \"white\"}}, \"header\": {\"fill\": {\"color\": \"#C8D4E3\"}, \"line\": {\"color\": \"white\"}}, \"type\": \"table\"}]}, \"layout\": {\"annotationdefaults\": {\"arrowcolor\": \"#2a3f5f\", \"arrowhead\": 0, \"arrowwidth\": 1}, \"autotypenumbers\": \"strict\", \"coloraxis\": {\"colorbar\": {\"outlinewidth\": 0, \"ticks\": \"\"}}, \"colorscale\": {\"diverging\": [[0, \"#8e0152\"], [0.1, \"#c51b7d\"], [0.2, \"#de77ae\"], [0.3, \"#f1b6da\"], [0.4, \"#fde0ef\"], [0.5, \"#f7f7f7\"], [0.6, \"#e6f5d0\"], [0.7, \"#b8e186\"], [0.8, \"#7fbc41\"], [0.9, \"#4d9221\"], [1, \"#276419\"]], \"sequential\": [[0.0, \"#0d0887\"], [0.1111111111111111, \"#46039f\"], [0.2222222222222222, \"#7201a8\"], [0.3333333333333333, \"#9c179e\"], [0.4444444444444444, \"#bd3786\"], [0.5555555555555556, \"#d8576b\"], [0.6666666666666666, \"#ed7953\"], [0.7777777777777778, \"#fb9f3a\"], [0.8888888888888888, \"#fdca26\"], [1.0, \"#f0f921\"]], \"sequentialminus\": [[0.0, \"#0d0887\"], [0.1111111111111111, \"#46039f\"], [0.2222222222222222, \"#7201a8\"], [0.3333333333333333, \"#9c179e\"], [0.4444444444444444, \"#bd3786\"], [0.5555555555555556, \"#d8576b\"], [0.6666666666666666, \"#ed7953\"], [0.7777777777777778, \"#fb9f3a\"], [0.8888888888888888, \"#fdca26\"], [1.0, \"#f0f921\"]]}, \"colorway\": [\"#636efa\", \"#EF553B\", \"#00cc96\", \"#ab63fa\", \"#FFA15A\", \"#19d3f3\", \"#FF6692\", \"#B6E880\", \"#FF97FF\", \"#FECB52\"], \"font\": {\"color\": \"#2a3f5f\"}, \"geo\": {\"bgcolor\": \"white\", \"lakecolor\": \"white\", \"landcolor\": \"#E5ECF6\", \"showlakes\": true, \"showland\": true, \"subunitcolor\": \"white\"}, \"hoverlabel\": {\"align\": \"left\"}, \"hovermode\": \"closest\", \"mapbox\": {\"style\": \"light\"}, \"paper_bgcolor\": \"white\", \"plot_bgcolor\": \"#E5ECF6\", \"polar\": {\"angularaxis\": {\"gridcolor\": \"white\", \"linecolor\": \"white\", \"ticks\": \"\"}, \"bgcolor\": \"#E5ECF6\", \"radialaxis\": {\"gridcolor\": \"white\", \"linecolor\": \"white\", \"ticks\": \"\"}}, \"scene\": {\"xaxis\": {\"backgroundcolor\": \"#E5ECF6\", \"gridcolor\": \"white\", \"gridwidth\": 2, \"linecolor\": \"white\", \"showbackground\": true, \"ticks\": \"\", \"zerolinecolor\": \"white\"}, \"yaxis\": {\"backgroundcolor\": \"#E5ECF6\", \"gridcolor\": \"white\", \"gridwidth\": 2, \"linecolor\": \"white\", \"showbackground\": true, \"ticks\": \"\", \"zerolinecolor\": \"white\"}, \"zaxis\": {\"backgroundcolor\": \"#E5ECF6\", \"gridcolor\": \"white\", \"gridwidth\": 2, \"linecolor\": \"white\", \"showbackground\": true, \"ticks\": \"\", \"zerolinecolor\": \"white\"}}, \"shapedefaults\": {\"line\": {\"color\": \"#2a3f5f\"}}, \"ternary\": {\"aaxis\": {\"gridcolor\": \"white\", \"linecolor\": \"white\", \"ticks\": \"\"}, \"baxis\": {\"gridcolor\": \"white\", \"linecolor\": \"white\", \"ticks\": \"\"}, \"bgcolor\": \"#E5ECF6\", \"caxis\": {\"gridcolor\": \"white\", \"linecolor\": \"white\", \"ticks\": \"\"}}, \"title\": {\"x\": 0.05}, \"xaxis\": {\"automargin\": true, \"gridcolor\": \"white\", \"linecolor\": \"white\", \"ticks\": \"\", \"title\": {\"standoff\": 15}, \"zerolinecolor\": \"white\", \"zerolinewidth\": 2}, \"yaxis\": {\"automargin\": true, \"gridcolor\": \"white\", \"linecolor\": \"white\", \"ticks\": \"\", \"title\": {\"standoff\": 15}, \"zerolinecolor\": \"white\", \"zerolinewidth\": 2}}}, \"xaxis\": {\"anchor\": \"y\", \"domain\": [0.0, 1.0], \"title\": {\"text\": \"value\"}}, \"yaxis\": {\"anchor\": \"x\", \"domain\": [0.0, 1.0], \"title\": {\"text\": \"count\"}}},                        {\"responsive\": true}                    ).then(function(){\n",
              "                            \n",
              "var gd = document.getElementById('8e7e46f7-ee5b-4be8-bae7-38236b5a2199');\n",
              "var x = new MutationObserver(function (mutations, observer) {{\n",
              "        var display = window.getComputedStyle(gd).display;\n",
              "        if (!display || display === 'none') {{\n",
              "            console.log([gd, 'removed!']);\n",
              "            Plotly.purge(gd);\n",
              "            observer.disconnect();\n",
              "        }}\n",
              "}});\n",
              "\n",
              "// Listen for the removal of the full notebook cells\n",
              "var notebookContainer = gd.closest('#notebook-container');\n",
              "if (notebookContainer) {{\n",
              "    x.observe(notebookContainer, {childList: true});\n",
              "}}\n",
              "\n",
              "// Listen for the clearing of the current output cell\n",
              "var outputEl = gd.closest('.output');\n",
              "if (outputEl) {{\n",
              "    x.observe(outputEl, {childList: true});\n",
              "}}\n",
              "\n",
              "                        })                };                            </script>        </div>\n",
              "</body>\n",
              "</html>"
            ]
          },
          "metadata": {
            "tags": []
          }
        }
      ]
    },
    {
      "cell_type": "markdown",
      "metadata": {
        "id": "22MD4J1GA1iz"
      },
      "source": [
        "**Eventos por hora**"
      ]
    },
    {
      "cell_type": "code",
      "metadata": {
        "colab": {
          "base_uri": "https://localhost:8080/",
          "height": 111
        },
        "id": "hvuGwqSXcB0X",
        "outputId": "45aa779e-eb0b-41a7-cc08-c261c9adf10c"
      },
      "source": [
        "dfE3.head(2)"
      ],
      "execution_count": 201,
      "outputs": [
        {
          "output_type": "execute_result",
          "data": {
            "text/html": [
              "<div>\n",
              "<style scoped>\n",
              "    .dataframe tbody tr th:only-of-type {\n",
              "        vertical-align: middle;\n",
              "    }\n",
              "\n",
              "    .dataframe tbody tr th {\n",
              "        vertical-align: top;\n",
              "    }\n",
              "\n",
              "    .dataframe thead th {\n",
              "        text-align: right;\n",
              "    }\n",
              "</style>\n",
              "<table border=\"1\" class=\"dataframe\">\n",
              "  <thead>\n",
              "    <tr style=\"text-align: right;\">\n",
              "      <th></th>\n",
              "      <th>HORA</th>\n",
              "      <th>TIPO</th>\n",
              "      <th>QTDE</th>\n",
              "      <th>UO</th>\n",
              "      <th>PREFIXO</th>\n",
              "      <th>LOCALIZAÇÃO</th>\n",
              "      <th>PONTO REFERÊNCIA</th>\n",
              "      <th>DIA DA SEMANA</th>\n",
              "      <th>COLABORADOR</th>\n",
              "    </tr>\n",
              "  </thead>\n",
              "  <tbody>\n",
              "    <tr>\n",
              "      <th>0</th>\n",
              "      <td>0</td>\n",
              "      <td>FADIGA MOTORISTA</td>\n",
              "      <td>AYM8091</td>\n",
              "      <td>MADEIRA</td>\n",
              "      <td>VPP 560</td>\n",
              "      <td>Ortigueira - Paraná</td>\n",
              "      <td>NaN</td>\n",
              "      <td>sex</td>\n",
              "      <td>C170</td>\n",
              "    </tr>\n",
              "    <tr>\n",
              "      <th>1</th>\n",
              "      <td>0</td>\n",
              "      <td>FADIGA MOTORISTA</td>\n",
              "      <td>AYM8091</td>\n",
              "      <td>MADEIRA</td>\n",
              "      <td>VPP 560</td>\n",
              "      <td>Reserva - Paraná</td>\n",
              "      <td>NaN</td>\n",
              "      <td>sex</td>\n",
              "      <td>C170</td>\n",
              "    </tr>\n",
              "  </tbody>\n",
              "</table>\n",
              "</div>"
            ],
            "text/plain": [
              "   HORA              TIPO     QTDE  ... PONTO REFERÊNCIA DIA DA SEMANA COLABORADOR\n",
              "0     0  FADIGA MOTORISTA  AYM8091  ...              NaN           sex        C170\n",
              "1     0  FADIGA MOTORISTA  AYM8091  ...              NaN           sex        C170\n",
              "\n",
              "[2 rows x 9 columns]"
            ]
          },
          "metadata": {
            "tags": []
          },
          "execution_count": 201
        }
      ]
    },
    {
      "cell_type": "code",
      "metadata": {
        "colab": {
          "base_uri": "https://localhost:8080/"
        },
        "id": "QUYT7PYqCE6s",
        "outputId": "12cb6a5b-5600-4ebd-fb6d-738f6b773b02"
      },
      "source": [
        "dfE3.shape"
      ],
      "execution_count": 202,
      "outputs": [
        {
          "output_type": "execute_result",
          "data": {
            "text/plain": [
              "(3954, 9)"
            ]
          },
          "metadata": {
            "tags": []
          },
          "execution_count": 202
        }
      ]
    },
    {
      "cell_type": "code",
      "metadata": {
        "colab": {
          "base_uri": "https://localhost:8080/"
        },
        "id": "471-0ZxQA2YG",
        "outputId": "6e51773b-1e8b-442d-df63-660dbf74caec"
      },
      "source": [
        "dfE3.TIPO.unique()"
      ],
      "execution_count": 203,
      "outputs": [
        {
          "output_type": "execute_result",
          "data": {
            "text/plain": [
              "array(['FADIGA MOTORISTA'], dtype=object)"
            ]
          },
          "metadata": {
            "tags": []
          },
          "execution_count": 203
        }
      ]
    },
    {
      "cell_type": "code",
      "metadata": {
        "colab": {
          "base_uri": "https://localhost:8080/"
        },
        "id": "gBvyF5Z4B6tO",
        "outputId": "90ef3bea-5275-4e6b-aa7c-125f6012fa27"
      },
      "source": [
        "dfE3['TIPO'].value_counts()"
      ],
      "execution_count": 204,
      "outputs": [
        {
          "output_type": "execute_result",
          "data": {
            "text/plain": [
              "FADIGA MOTORISTA    3954\n",
              "Name: TIPO, dtype: int64"
            ]
          },
          "metadata": {
            "tags": []
          },
          "execution_count": 204
        }
      ]
    },
    {
      "cell_type": "code",
      "metadata": {
        "colab": {
          "base_uri": "https://localhost:8080/"
        },
        "id": "FRwGMyQfPIu1",
        "outputId": "4dc5ef07-8b41-4d49-b0ea-f2bf4f43b34e"
      },
      "source": [
        "dfE3_fad = dfE3.HORA.value_counts().rename('Fadiga').sort_index()\r\n",
        "dfE3_fad"
      ],
      "execution_count": 205,
      "outputs": [
        {
          "output_type": "execute_result",
          "data": {
            "text/plain": [
              "0     225\n",
              "1     357\n",
              "2     278\n",
              "3     267\n",
              "4     274\n",
              "5     202\n",
              "6     131\n",
              "7     133\n",
              "8     146\n",
              "9     147\n",
              "10    240\n",
              "11    166\n",
              "12    158\n",
              "13    186\n",
              "14    162\n",
              "15    113\n",
              "16     97\n",
              "17     97\n",
              "18     67\n",
              "19     84\n",
              "20     69\n",
              "21     76\n",
              "22    119\n",
              "23    160\n",
              "Name: Fadiga, dtype: int64"
            ]
          },
          "metadata": {
            "tags": []
          },
          "execution_count": 205
        }
      ]
    },
    {
      "cell_type": "markdown",
      "metadata": {
        "id": "IqAqqP-nJ_k-"
      },
      "source": [
        "**Acidentes por hora**"
      ]
    },
    {
      "cell_type": "code",
      "metadata": {
        "colab": {
          "base_uri": "https://localhost:8080/",
          "height": 516
        },
        "id": "HnJxGCfpKDPZ",
        "outputId": "4d7c09e9-10eb-4b77-b61e-9b8af4363b72"
      },
      "source": [
        "dfOCO_TM_E3.head(3)"
      ],
      "execution_count": 206,
      "outputs": [
        {
          "output_type": "execute_result",
          "data": {
            "text/html": [
              "<div>\n",
              "<style scoped>\n",
              "    .dataframe tbody tr th:only-of-type {\n",
              "        vertical-align: middle;\n",
              "    }\n",
              "\n",
              "    .dataframe tbody tr th {\n",
              "        vertical-align: top;\n",
              "    }\n",
              "\n",
              "    .dataframe thead th {\n",
              "        text-align: right;\n",
              "    }\n",
              "</style>\n",
              "<table border=\"1\" class=\"dataframe\">\n",
              "  <thead>\n",
              "    <tr style=\"text-align: right;\">\n",
              "      <th></th>\n",
              "      <th>CLASSIFICAÇÃO</th>\n",
              "      <th>EMPRESA</th>\n",
              "      <th>GERÊNCIA</th>\n",
              "      <th>COORDENAÇÃO</th>\n",
              "      <th>SUB ÁREA</th>\n",
              "      <th>NOME</th>\n",
              "      <th>CARGO</th>\n",
              "      <th>TEMPO DE EMPRESA</th>\n",
              "      <th>IDADE</th>\n",
              "      <th>\\nDATA DA OCORRÊNCIA</th>\n",
              "      <th>DIA DA SEMANA</th>\n",
              "      <th>\\nLOCAL DA OCORRÊNCIA</th>\n",
              "      <th>QUALIDADE PISTA</th>\n",
              "      <th>CARACTERISTICA PISTA</th>\n",
              "      <th>SINALIZAÇÃO</th>\n",
              "      <th>CLIMA</th>\n",
              "      <th>PREFIXO</th>\n",
              "      <th>MODELO</th>\n",
              "      <th>CARREGADO</th>\n",
              "      <th>TIPO</th>\n",
              "      <th>DETALHAMENTO</th>\n",
              "      <th>POTENCIAL</th>\n",
              "      <th>SAP</th>\n",
              "      <th>DIA ESCALA</th>\n",
              "      <th>ESCALA</th>\n",
              "      <th>JORNADA</th>\n",
              "      <th>TEMPO DECORRIDO</th>\n",
              "      <th>DORMIU BEM?</th>\n",
              "      <th>PRÓXIMO PERIODO DE FÉRIAS OU FERIADO</th>\n",
              "      <th>ALIMENTOU</th>\n",
              "      <th>PROBLEMAS SAÚDE</th>\n",
              "      <th>USO MEDICAMENTO</th>\n",
              "      <th>USO ALCOOL/DROGA</th>\n",
              "      <th>PRESSÃO</th>\n",
              "      <th>PRESSA PARA CONCLUIR O TRABALHO</th>\n",
              "      <th>DESCRIÇÃO</th>\n",
              "      <th>HorarioAcidente</th>\n",
              "    </tr>\n",
              "    <tr>\n",
              "      <th>HORA</th>\n",
              "      <th></th>\n",
              "      <th></th>\n",
              "      <th></th>\n",
              "      <th></th>\n",
              "      <th></th>\n",
              "      <th></th>\n",
              "      <th></th>\n",
              "      <th></th>\n",
              "      <th></th>\n",
              "      <th></th>\n",
              "      <th></th>\n",
              "      <th></th>\n",
              "      <th></th>\n",
              "      <th></th>\n",
              "      <th></th>\n",
              "      <th></th>\n",
              "      <th></th>\n",
              "      <th></th>\n",
              "      <th></th>\n",
              "      <th></th>\n",
              "      <th></th>\n",
              "      <th></th>\n",
              "      <th></th>\n",
              "      <th></th>\n",
              "      <th></th>\n",
              "      <th></th>\n",
              "      <th></th>\n",
              "      <th></th>\n",
              "      <th></th>\n",
              "      <th></th>\n",
              "      <th></th>\n",
              "      <th></th>\n",
              "      <th></th>\n",
              "      <th></th>\n",
              "      <th></th>\n",
              "      <th></th>\n",
              "      <th></th>\n",
              "    </tr>\n",
              "  </thead>\n",
              "  <tbody>\n",
              "    <tr>\n",
              "      <th>21:45:00</th>\n",
              "      <td>IAP</td>\n",
              "      <td>E3</td>\n",
              "      <td>LOGÍSTICA</td>\n",
              "      <td>PROG. LOGÍSTICA</td>\n",
              "      <td>PROG. LOGÍSTICA E PÁTIOS</td>\n",
              "      <td>C403</td>\n",
              "      <td>MOTORISTA</td>\n",
              "      <td>5</td>\n",
              "      <td>46.0</td>\n",
              "      <td>2017-01-24</td>\n",
              "      <td>TERÇA-FEIRA</td>\n",
              "      <td>PÁTIO 3 MONTE ALEGRE SENTIDO MESA 01</td>\n",
              "      <td>NaN</td>\n",
              "      <td>NaN</td>\n",
              "      <td>NaN</td>\n",
              "      <td>NaN</td>\n",
              "      <td>VP-O547</td>\n",
              "      <td>TRITREM</td>\n",
              "      <td>SIM</td>\n",
              "      <td>TRANSPORTE DE MADEIRA</td>\n",
              "      <td>AO MOVIMENTAR O TRITREN VP-O547 CARREGADO DO P...</td>\n",
              "      <td>LPG</td>\n",
              "      <td>6088</td>\n",
              "      <td>NaN</td>\n",
              "      <td>NaN</td>\n",
              "      <td>NaN</td>\n",
              "      <td>05:44:00</td>\n",
              "      <td>NaN</td>\n",
              "      <td>NaN</td>\n",
              "      <td>NaN</td>\n",
              "      <td>NaN</td>\n",
              "      <td>NaN</td>\n",
              "      <td>NaN</td>\n",
              "      <td>NaN</td>\n",
              "      <td>NaN</td>\n",
              "      <td>A ORGANIZAÇÃO DO AMBIENTE ESTAVA ADEQUADO? SIM...</td>\n",
              "      <td>21</td>\n",
              "    </tr>\n",
              "    <tr>\n",
              "      <th>13:20:00</th>\n",
              "      <td>IBP</td>\n",
              "      <td>E3</td>\n",
              "      <td>LOGÍSTICA</td>\n",
              "      <td>LOGÍSTICA PRÓPRIA</td>\n",
              "      <td>TRANSPORTE DE MADEIRA</td>\n",
              "      <td>C131</td>\n",
              "      <td>MOTORISTA</td>\n",
              "      <td>16</td>\n",
              "      <td>44.0</td>\n",
              "      <td>2017-02-22</td>\n",
              "      <td>QUARTA-FEIRA</td>\n",
              "      <td>sentido PÁTIO RIO NOVO</td>\n",
              "      <td>CASCALHADA</td>\n",
              "      <td>ACLIVE ACENTUADO</td>\n",
              "      <td>NaN</td>\n",
              "      <td>ENSOLARADO</td>\n",
              "      <td>VPP246</td>\n",
              "      <td>NaN</td>\n",
              "      <td>SIM</td>\n",
              "      <td>TRANSPORTE DE MADEIRA</td>\n",
              "      <td>O COLABORADOR CONDUZIA O VPP246 (CARREGADO DE ...</td>\n",
              "      <td>LPG</td>\n",
              "      <td>6272</td>\n",
              "      <td>NaN</td>\n",
              "      <td>NaN</td>\n",
              "      <td>NaN</td>\n",
              "      <td>NaN</td>\n",
              "      <td>SIM</td>\n",
              "      <td>NaN</td>\n",
              "      <td>NaN</td>\n",
              "      <td>NÃO</td>\n",
              "      <td>NÃO</td>\n",
              "      <td>NÃO</td>\n",
              "      <td>NÃO</td>\n",
              "      <td>NÃO</td>\n",
              "      <td>RELATO DO COLABORADOR COLABORADOR RELATA QUE E...</td>\n",
              "      <td>13</td>\n",
              "    </tr>\n",
              "    <tr>\n",
              "      <th>00:30:00</th>\n",
              "      <td>IBP</td>\n",
              "      <td>E3</td>\n",
              "      <td>LOGÍSTICA</td>\n",
              "      <td>TRANSPORTE FLORESTAL</td>\n",
              "      <td>CARREGAMENTO</td>\n",
              "      <td>C339</td>\n",
              "      <td>OPERADOR DE MÁQUINA FLORESTAL</td>\n",
              "      <td>18</td>\n",
              "      <td>31.0</td>\n",
              "      <td>2017-02-25</td>\n",
              "      <td>SÁBADO</td>\n",
              "      <td>MIRANDINHA</td>\n",
              "      <td>NaN</td>\n",
              "      <td>RETA</td>\n",
              "      <td>NaN</td>\n",
              "      <td>NaN</td>\n",
              "      <td>JSL-053</td>\n",
              "      <td>NaN</td>\n",
              "      <td>SIM</td>\n",
              "      <td>TRANSPORTE DE MADEIRA</td>\n",
              "      <td>O CAMINHÃO JSL 053 ESTAVA SENDO CARREGADO PELA...</td>\n",
              "      <td>LPL</td>\n",
              "      <td>6314</td>\n",
              "      <td>NaN</td>\n",
              "      <td>NaN</td>\n",
              "      <td>NaN</td>\n",
              "      <td>NaN</td>\n",
              "      <td>NaN</td>\n",
              "      <td>NaN</td>\n",
              "      <td>NaN</td>\n",
              "      <td>NaN</td>\n",
              "      <td>NaN</td>\n",
              "      <td>NaN</td>\n",
              "      <td>NaN</td>\n",
              "      <td>NaN</td>\n",
              "      <td>OCASIONADO POR TERCEIROS</td>\n",
              "      <td>0</td>\n",
              "    </tr>\n",
              "  </tbody>\n",
              "</table>\n",
              "</div>"
            ],
            "text/plain": [
              "         CLASSIFICAÇÃO  ... HorarioAcidente\n",
              "HORA                    ...                \n",
              "21:45:00           IAP  ...              21\n",
              "13:20:00           IBP  ...              13\n",
              "00:30:00           IBP  ...               0\n",
              "\n",
              "[3 rows x 37 columns]"
            ]
          },
          "metadata": {
            "tags": []
          },
          "execution_count": 206
        }
      ]
    },
    {
      "cell_type": "code",
      "metadata": {
        "colab": {
          "base_uri": "https://localhost:8080/"
        },
        "id": "u0s9doKzKo4n",
        "outputId": "ff9423f2-5ce3-495e-cace-cbf54e1df89b"
      },
      "source": [
        "dfOCO_TM_E3.CARGO.value_counts()"
      ],
      "execution_count": 207,
      "outputs": [
        {
          "output_type": "execute_result",
          "data": {
            "text/plain": [
              "MOTORISTA                          29\n",
              "MOTORISTA TRANSPORTE FLORESTAL     14\n",
              "OPERADOR DE MÁQUINA                 1\n",
              "OPERADOR MAQUINAS FLORESTAIS II     1\n",
              "OPERADOR DE MÁQUINA FLORESTAL       1\n",
              "BOMBEIRO FLORESTAL                  1\n",
              "MOTORISTA BALDEIO INTERNO           1\n",
              "Name: CARGO, dtype: int64"
            ]
          },
          "metadata": {
            "tags": []
          },
          "execution_count": 207
        }
      ]
    },
    {
      "cell_type": "code",
      "metadata": {
        "colab": {
          "base_uri": "https://localhost:8080/",
          "height": 516
        },
        "id": "4Ghdmmg5Ko1H",
        "outputId": "74e4d162-b2ad-4213-cbc4-265aa7388a29"
      },
      "source": [
        "dfOCO_TM_E3_moto = dfOCO_TM_E3[(dfOCO_TM_E3.CARGO == 'MOTORISTA') | (dfOCO_TM_E3.CARGO == 'MOTORISTA TRANSPORTE FLORESTAL')]\r\n",
        "dfOCO_TM_E3_moto.head(3)"
      ],
      "execution_count": 208,
      "outputs": [
        {
          "output_type": "execute_result",
          "data": {
            "text/html": [
              "<div>\n",
              "<style scoped>\n",
              "    .dataframe tbody tr th:only-of-type {\n",
              "        vertical-align: middle;\n",
              "    }\n",
              "\n",
              "    .dataframe tbody tr th {\n",
              "        vertical-align: top;\n",
              "    }\n",
              "\n",
              "    .dataframe thead th {\n",
              "        text-align: right;\n",
              "    }\n",
              "</style>\n",
              "<table border=\"1\" class=\"dataframe\">\n",
              "  <thead>\n",
              "    <tr style=\"text-align: right;\">\n",
              "      <th></th>\n",
              "      <th>CLASSIFICAÇÃO</th>\n",
              "      <th>EMPRESA</th>\n",
              "      <th>GERÊNCIA</th>\n",
              "      <th>COORDENAÇÃO</th>\n",
              "      <th>SUB ÁREA</th>\n",
              "      <th>NOME</th>\n",
              "      <th>CARGO</th>\n",
              "      <th>TEMPO DE EMPRESA</th>\n",
              "      <th>IDADE</th>\n",
              "      <th>\\nDATA DA OCORRÊNCIA</th>\n",
              "      <th>DIA DA SEMANA</th>\n",
              "      <th>\\nLOCAL DA OCORRÊNCIA</th>\n",
              "      <th>QUALIDADE PISTA</th>\n",
              "      <th>CARACTERISTICA PISTA</th>\n",
              "      <th>SINALIZAÇÃO</th>\n",
              "      <th>CLIMA</th>\n",
              "      <th>PREFIXO</th>\n",
              "      <th>MODELO</th>\n",
              "      <th>CARREGADO</th>\n",
              "      <th>TIPO</th>\n",
              "      <th>DETALHAMENTO</th>\n",
              "      <th>POTENCIAL</th>\n",
              "      <th>SAP</th>\n",
              "      <th>DIA ESCALA</th>\n",
              "      <th>ESCALA</th>\n",
              "      <th>JORNADA</th>\n",
              "      <th>TEMPO DECORRIDO</th>\n",
              "      <th>DORMIU BEM?</th>\n",
              "      <th>PRÓXIMO PERIODO DE FÉRIAS OU FERIADO</th>\n",
              "      <th>ALIMENTOU</th>\n",
              "      <th>PROBLEMAS SAÚDE</th>\n",
              "      <th>USO MEDICAMENTO</th>\n",
              "      <th>USO ALCOOL/DROGA</th>\n",
              "      <th>PRESSÃO</th>\n",
              "      <th>PRESSA PARA CONCLUIR O TRABALHO</th>\n",
              "      <th>DESCRIÇÃO</th>\n",
              "      <th>HorarioAcidente</th>\n",
              "    </tr>\n",
              "    <tr>\n",
              "      <th>HORA</th>\n",
              "      <th></th>\n",
              "      <th></th>\n",
              "      <th></th>\n",
              "      <th></th>\n",
              "      <th></th>\n",
              "      <th></th>\n",
              "      <th></th>\n",
              "      <th></th>\n",
              "      <th></th>\n",
              "      <th></th>\n",
              "      <th></th>\n",
              "      <th></th>\n",
              "      <th></th>\n",
              "      <th></th>\n",
              "      <th></th>\n",
              "      <th></th>\n",
              "      <th></th>\n",
              "      <th></th>\n",
              "      <th></th>\n",
              "      <th></th>\n",
              "      <th></th>\n",
              "      <th></th>\n",
              "      <th></th>\n",
              "      <th></th>\n",
              "      <th></th>\n",
              "      <th></th>\n",
              "      <th></th>\n",
              "      <th></th>\n",
              "      <th></th>\n",
              "      <th></th>\n",
              "      <th></th>\n",
              "      <th></th>\n",
              "      <th></th>\n",
              "      <th></th>\n",
              "      <th></th>\n",
              "      <th></th>\n",
              "      <th></th>\n",
              "    </tr>\n",
              "  </thead>\n",
              "  <tbody>\n",
              "    <tr>\n",
              "      <th>21:45:00</th>\n",
              "      <td>IAP</td>\n",
              "      <td>E3</td>\n",
              "      <td>LOGÍSTICA</td>\n",
              "      <td>PROG. LOGÍSTICA</td>\n",
              "      <td>PROG. LOGÍSTICA E PÁTIOS</td>\n",
              "      <td>C403</td>\n",
              "      <td>MOTORISTA</td>\n",
              "      <td>5</td>\n",
              "      <td>46.0</td>\n",
              "      <td>2017-01-24</td>\n",
              "      <td>TERÇA-FEIRA</td>\n",
              "      <td>PÁTIO 3 MONTE ALEGRE SENTIDO MESA 01</td>\n",
              "      <td>NaN</td>\n",
              "      <td>NaN</td>\n",
              "      <td>NaN</td>\n",
              "      <td>NaN</td>\n",
              "      <td>VP-O547</td>\n",
              "      <td>TRITREM</td>\n",
              "      <td>SIM</td>\n",
              "      <td>TRANSPORTE DE MADEIRA</td>\n",
              "      <td>AO MOVIMENTAR O TRITREN VP-O547 CARREGADO DO P...</td>\n",
              "      <td>LPG</td>\n",
              "      <td>6088</td>\n",
              "      <td>NaN</td>\n",
              "      <td>NaN</td>\n",
              "      <td>NaN</td>\n",
              "      <td>05:44:00</td>\n",
              "      <td>NaN</td>\n",
              "      <td>NaN</td>\n",
              "      <td>NaN</td>\n",
              "      <td>NaN</td>\n",
              "      <td>NaN</td>\n",
              "      <td>NaN</td>\n",
              "      <td>NaN</td>\n",
              "      <td>NaN</td>\n",
              "      <td>A ORGANIZAÇÃO DO AMBIENTE ESTAVA ADEQUADO? SIM...</td>\n",
              "      <td>21</td>\n",
              "    </tr>\n",
              "    <tr>\n",
              "      <th>13:20:00</th>\n",
              "      <td>IBP</td>\n",
              "      <td>E3</td>\n",
              "      <td>LOGÍSTICA</td>\n",
              "      <td>LOGÍSTICA PRÓPRIA</td>\n",
              "      <td>TRANSPORTE DE MADEIRA</td>\n",
              "      <td>C131</td>\n",
              "      <td>MOTORISTA</td>\n",
              "      <td>16</td>\n",
              "      <td>44.0</td>\n",
              "      <td>2017-02-22</td>\n",
              "      <td>QUARTA-FEIRA</td>\n",
              "      <td>sentido PÁTIO RIO NOVO</td>\n",
              "      <td>CASCALHADA</td>\n",
              "      <td>ACLIVE ACENTUADO</td>\n",
              "      <td>NaN</td>\n",
              "      <td>ENSOLARADO</td>\n",
              "      <td>VPP246</td>\n",
              "      <td>NaN</td>\n",
              "      <td>SIM</td>\n",
              "      <td>TRANSPORTE DE MADEIRA</td>\n",
              "      <td>O COLABORADOR CONDUZIA O VPP246 (CARREGADO DE ...</td>\n",
              "      <td>LPG</td>\n",
              "      <td>6272</td>\n",
              "      <td>NaN</td>\n",
              "      <td>NaN</td>\n",
              "      <td>NaN</td>\n",
              "      <td>NaN</td>\n",
              "      <td>SIM</td>\n",
              "      <td>NaN</td>\n",
              "      <td>NaN</td>\n",
              "      <td>NÃO</td>\n",
              "      <td>NÃO</td>\n",
              "      <td>NÃO</td>\n",
              "      <td>NÃO</td>\n",
              "      <td>NÃO</td>\n",
              "      <td>RELATO DO COLABORADOR COLABORADOR RELATA QUE E...</td>\n",
              "      <td>13</td>\n",
              "    </tr>\n",
              "    <tr>\n",
              "      <th>20:15:00</th>\n",
              "      <td>OEC</td>\n",
              "      <td>E3</td>\n",
              "      <td>LOGÍSTICA</td>\n",
              "      <td>LOGÍSTICA PRÓPRIA</td>\n",
              "      <td>FROTA PRÓPRIA</td>\n",
              "      <td>C26</td>\n",
              "      <td>MOTORISTA</td>\n",
              "      <td>12</td>\n",
              "      <td>31.0</td>\n",
              "      <td>2017-02-25</td>\n",
              "      <td>SÁBADO</td>\n",
              "      <td>PR-239</td>\n",
              "      <td>ASFALTADA</td>\n",
              "      <td>RETA</td>\n",
              "      <td>NaN</td>\n",
              "      <td>NaN</td>\n",
              "      <td>VPP-525</td>\n",
              "      <td>NaN</td>\n",
              "      <td>SIM</td>\n",
              "      <td>TRANSPORTE DE MADEIRA</td>\n",
              "      <td>COLABORADOR TRAFEGAVA PELA RODOVIA PR-239 COM ...</td>\n",
              "      <td>LPL</td>\n",
              "      <td>6324</td>\n",
              "      <td>NaN</td>\n",
              "      <td>NaN</td>\n",
              "      <td>NaN</td>\n",
              "      <td>NaN</td>\n",
              "      <td>NaN</td>\n",
              "      <td>NaN</td>\n",
              "      <td>NaN</td>\n",
              "      <td>NaN</td>\n",
              "      <td>NaN</td>\n",
              "      <td>NaN</td>\n",
              "      <td>NaN</td>\n",
              "      <td>NaN</td>\n",
              "      <td>MOTORISTA DO VEICULO TERCEIRO FORÇOU ULTRAPASS...</td>\n",
              "      <td>20</td>\n",
              "    </tr>\n",
              "  </tbody>\n",
              "</table>\n",
              "</div>"
            ],
            "text/plain": [
              "         CLASSIFICAÇÃO  ... HorarioAcidente\n",
              "HORA                    ...                \n",
              "21:45:00           IAP  ...              21\n",
              "13:20:00           IBP  ...              13\n",
              "20:15:00           OEC  ...              20\n",
              "\n",
              "[3 rows x 37 columns]"
            ]
          },
          "metadata": {
            "tags": []
          },
          "execution_count": 208
        }
      ]
    },
    {
      "cell_type": "code",
      "metadata": {
        "colab": {
          "base_uri": "https://localhost:8080/"
        },
        "id": "x4awsMn1LVms",
        "outputId": "eb5c8b04-7b33-4a6a-cb5d-687b43987c88"
      },
      "source": [
        "dfE3_acid_hora = dfOCO_TM_E3_moto.HorarioAcidente.value_counts().sort_index().rename('Acidentes por hora')\r\n",
        "dfE3_acid_hora"
      ],
      "execution_count": 209,
      "outputs": [
        {
          "output_type": "execute_result",
          "data": {
            "text/plain": [
              "0     4\n",
              "1     1\n",
              "2     3\n",
              "3     3\n",
              "4     1\n",
              "5     3\n",
              "6     1\n",
              "7     1\n",
              "8     3\n",
              "9     3\n",
              "10    2\n",
              "11    2\n",
              "12    1\n",
              "13    4\n",
              "14    1\n",
              "15    1\n",
              "16    2\n",
              "18    1\n",
              "20    2\n",
              "21    2\n",
              "22    1\n",
              "23    1\n",
              "Name: Acidentes por hora, dtype: int64"
            ]
          },
          "metadata": {
            "tags": []
          },
          "execution_count": 209
        }
      ]
    },
    {
      "cell_type": "markdown",
      "metadata": {
        "id": "XWv4aLgPP_Gk"
      },
      "source": [
        "**DF final E3**"
      ]
    },
    {
      "cell_type": "code",
      "metadata": {
        "colab": {
          "base_uri": "https://localhost:8080/",
          "height": 824
        },
        "id": "GPgL6wYiR3kH",
        "outputId": "7937bf20-1fe7-40ef-f975-548814529e78"
      },
      "source": [
        "dfE3_final = pd.DataFrame(dfE3_motoristas_hora['N° de motoristas'])\r\n",
        "dfE3_final['Fadiga'] = pd.DataFrame(dfE3_fad)\r\n",
        "dfE3_final['Acidentes'] = pd.DataFrame(dfE3_acid_hora)\r\n",
        "dfE3_final.fillna(0, inplace=True)\r\n",
        "dfE3_final['Acidentes'] = dfE3_final.Acidentes.astype('int64')\r\n",
        "dfE3_final"
      ],
      "execution_count": 210,
      "outputs": [
        {
          "output_type": "execute_result",
          "data": {
            "text/html": [
              "<div>\n",
              "<style scoped>\n",
              "    .dataframe tbody tr th:only-of-type {\n",
              "        vertical-align: middle;\n",
              "    }\n",
              "\n",
              "    .dataframe tbody tr th {\n",
              "        vertical-align: top;\n",
              "    }\n",
              "\n",
              "    .dataframe thead th {\n",
              "        text-align: right;\n",
              "    }\n",
              "</style>\n",
              "<table border=\"1\" class=\"dataframe\">\n",
              "  <thead>\n",
              "    <tr style=\"text-align: right;\">\n",
              "      <th></th>\n",
              "      <th>N° de motoristas</th>\n",
              "      <th>Fadiga</th>\n",
              "      <th>Acidentes</th>\n",
              "    </tr>\n",
              "    <tr>\n",
              "      <th>HORA</th>\n",
              "      <th></th>\n",
              "      <th></th>\n",
              "      <th></th>\n",
              "    </tr>\n",
              "  </thead>\n",
              "  <tbody>\n",
              "    <tr>\n",
              "      <th>0</th>\n",
              "      <td>41</td>\n",
              "      <td>225</td>\n",
              "      <td>4</td>\n",
              "    </tr>\n",
              "    <tr>\n",
              "      <th>1</th>\n",
              "      <td>52</td>\n",
              "      <td>357</td>\n",
              "      <td>1</td>\n",
              "    </tr>\n",
              "    <tr>\n",
              "      <th>2</th>\n",
              "      <td>44</td>\n",
              "      <td>278</td>\n",
              "      <td>3</td>\n",
              "    </tr>\n",
              "    <tr>\n",
              "      <th>3</th>\n",
              "      <td>40</td>\n",
              "      <td>267</td>\n",
              "      <td>3</td>\n",
              "    </tr>\n",
              "    <tr>\n",
              "      <th>4</th>\n",
              "      <td>44</td>\n",
              "      <td>274</td>\n",
              "      <td>1</td>\n",
              "    </tr>\n",
              "    <tr>\n",
              "      <th>5</th>\n",
              "      <td>41</td>\n",
              "      <td>202</td>\n",
              "      <td>3</td>\n",
              "    </tr>\n",
              "    <tr>\n",
              "      <th>6</th>\n",
              "      <td>36</td>\n",
              "      <td>131</td>\n",
              "      <td>1</td>\n",
              "    </tr>\n",
              "    <tr>\n",
              "      <th>7</th>\n",
              "      <td>47</td>\n",
              "      <td>133</td>\n",
              "      <td>1</td>\n",
              "    </tr>\n",
              "    <tr>\n",
              "      <th>8</th>\n",
              "      <td>42</td>\n",
              "      <td>146</td>\n",
              "      <td>3</td>\n",
              "    </tr>\n",
              "    <tr>\n",
              "      <th>9</th>\n",
              "      <td>35</td>\n",
              "      <td>147</td>\n",
              "      <td>3</td>\n",
              "    </tr>\n",
              "    <tr>\n",
              "      <th>10</th>\n",
              "      <td>43</td>\n",
              "      <td>240</td>\n",
              "      <td>2</td>\n",
              "    </tr>\n",
              "    <tr>\n",
              "      <th>11</th>\n",
              "      <td>36</td>\n",
              "      <td>166</td>\n",
              "      <td>2</td>\n",
              "    </tr>\n",
              "    <tr>\n",
              "      <th>12</th>\n",
              "      <td>40</td>\n",
              "      <td>158</td>\n",
              "      <td>1</td>\n",
              "    </tr>\n",
              "    <tr>\n",
              "      <th>13</th>\n",
              "      <td>42</td>\n",
              "      <td>186</td>\n",
              "      <td>4</td>\n",
              "    </tr>\n",
              "    <tr>\n",
              "      <th>14</th>\n",
              "      <td>46</td>\n",
              "      <td>162</td>\n",
              "      <td>1</td>\n",
              "    </tr>\n",
              "    <tr>\n",
              "      <th>15</th>\n",
              "      <td>35</td>\n",
              "      <td>113</td>\n",
              "      <td>1</td>\n",
              "    </tr>\n",
              "    <tr>\n",
              "      <th>16</th>\n",
              "      <td>33</td>\n",
              "      <td>97</td>\n",
              "      <td>2</td>\n",
              "    </tr>\n",
              "    <tr>\n",
              "      <th>17</th>\n",
              "      <td>34</td>\n",
              "      <td>97</td>\n",
              "      <td>0</td>\n",
              "    </tr>\n",
              "    <tr>\n",
              "      <th>18</th>\n",
              "      <td>18</td>\n",
              "      <td>67</td>\n",
              "      <td>1</td>\n",
              "    </tr>\n",
              "    <tr>\n",
              "      <th>19</th>\n",
              "      <td>28</td>\n",
              "      <td>84</td>\n",
              "      <td>0</td>\n",
              "    </tr>\n",
              "    <tr>\n",
              "      <th>20</th>\n",
              "      <td>25</td>\n",
              "      <td>69</td>\n",
              "      <td>2</td>\n",
              "    </tr>\n",
              "    <tr>\n",
              "      <th>21</th>\n",
              "      <td>29</td>\n",
              "      <td>76</td>\n",
              "      <td>2</td>\n",
              "    </tr>\n",
              "    <tr>\n",
              "      <th>22</th>\n",
              "      <td>32</td>\n",
              "      <td>119</td>\n",
              "      <td>1</td>\n",
              "    </tr>\n",
              "    <tr>\n",
              "      <th>23</th>\n",
              "      <td>37</td>\n",
              "      <td>160</td>\n",
              "      <td>1</td>\n",
              "    </tr>\n",
              "  </tbody>\n",
              "</table>\n",
              "</div>"
            ],
            "text/plain": [
              "      N° de motoristas  Fadiga  Acidentes\n",
              "HORA                                     \n",
              "0                   41     225          4\n",
              "1                   52     357          1\n",
              "2                   44     278          3\n",
              "3                   40     267          3\n",
              "4                   44     274          1\n",
              "5                   41     202          3\n",
              "6                   36     131          1\n",
              "7                   47     133          1\n",
              "8                   42     146          3\n",
              "9                   35     147          3\n",
              "10                  43     240          2\n",
              "11                  36     166          2\n",
              "12                  40     158          1\n",
              "13                  42     186          4\n",
              "14                  46     162          1\n",
              "15                  35     113          1\n",
              "16                  33      97          2\n",
              "17                  34      97          0\n",
              "18                  18      67          1\n",
              "19                  28      84          0\n",
              "20                  25      69          2\n",
              "21                  29      76          2\n",
              "22                  32     119          1\n",
              "23                  37     160          1"
            ]
          },
          "metadata": {
            "tags": []
          },
          "execution_count": 210
        }
      ]
    },
    {
      "cell_type": "markdown",
      "metadata": {
        "id": "kXATWDn_8AUU"
      },
      "source": [
        "### **Visualização**"
      ]
    },
    {
      "cell_type": "code",
      "metadata": {
        "colab": {
          "base_uri": "https://localhost:8080/"
        },
        "id": "bw3RiPkl8FxT",
        "outputId": "1694e029-90c4-416f-aaac-ef5a15d628cc"
      },
      "source": [
        "counts, bins = np.histogram(dfE3['HORA'], bins=range(0, 25, 3))\r\n",
        "counts"
      ],
      "execution_count": 292,
      "outputs": [
        {
          "output_type": "execute_result",
          "data": {
            "text/plain": [
              "array([860, 743, 410, 553, 506, 307, 220, 355])"
            ]
          },
          "metadata": {
            "tags": []
          },
          "execution_count": 292
        }
      ]
    },
    {
      "cell_type": "code",
      "metadata": {
        "colab": {
          "base_uri": "https://localhost:8080/"
        },
        "id": "rdoerYms8FUI",
        "outputId": "74c31f94-2302-4217-d960-8c0de51c4b93"
      },
      "source": [
        "b = np.array(dfE3_final['N° de motoristas'])\r\n",
        "b"
      ],
      "execution_count": 293,
      "outputs": [
        {
          "output_type": "execute_result",
          "data": {
            "text/plain": [
              "array([41, 52, 44, 40, 44, 41, 36, 47, 42, 35, 43, 36, 40, 42, 46, 35, 33,\n",
              "       34, 18, 28, 25, 29, 32, 37])"
            ]
          },
          "metadata": {
            "tags": []
          },
          "execution_count": 293
        }
      ]
    },
    {
      "cell_type": "code",
      "metadata": {
        "colab": {
          "base_uri": "https://localhost:8080/"
        },
        "id": "-c2uKcpH9_ke",
        "outputId": "c56e9b3e-e5de-46bc-92e3-032f55dd4911"
      },
      "source": [
        "c = b.reshape((8,3)).sum(axis=1)\r\n",
        "c"
      ],
      "execution_count": 294,
      "outputs": [
        {
          "output_type": "execute_result",
          "data": {
            "text/plain": [
              "array([137, 125, 125, 114, 128, 102,  71,  98])"
            ]
          },
          "metadata": {
            "tags": []
          },
          "execution_count": 294
        }
      ]
    },
    {
      "cell_type": "code",
      "metadata": {
        "colab": {
          "base_uri": "https://localhost:8080/",
          "height": 542
        },
        "id": "J0hgvyoJ-T6t",
        "outputId": "14bd2205-ed9f-401e-e1ca-b91ca6df6ba9"
      },
      "source": [
        "graphics_plot(y = [counts, counts/c], name = ['Events(raw)', 'Events/Drivers'],\r\n",
        "              title = \"Events company E3\", yaxes_title = [\"Raw\", \"Rate\"])"
      ],
      "execution_count": 296,
      "outputs": [
        {
          "output_type": "display_data",
          "data": {
            "text/html": [
              "<html>\n",
              "<head><meta charset=\"utf-8\" /></head>\n",
              "<body>\n",
              "    <div>            <script src=\"https://cdnjs.cloudflare.com/ajax/libs/mathjax/2.7.5/MathJax.js?config=TeX-AMS-MML_SVG\"></script><script type=\"text/javascript\">if (window.MathJax) {MathJax.Hub.Config({SVG: {font: \"STIX-Web\"}});}</script>                <script type=\"text/javascript\">window.PlotlyConfig = {MathJaxConfig: 'local'};</script>\n",
              "        <script src=\"https://cdn.plot.ly/plotly-latest.min.js\"></script>                <div id=\"70098352-d9a1-47bb-b38c-42d146e5504d\" class=\"plotly-graph-div\" style=\"height:525px; width:100%;\"></div>            <script type=\"text/javascript\">                                    window.PLOTLYENV=window.PLOTLYENV || {};                                    if (document.getElementById(\"70098352-d9a1-47bb-b38c-42d146e5504d\")) {                    Plotly.newPlot(                        \"70098352-d9a1-47bb-b38c-42d146e5504d\",                        [{\"line\": {\"color\": \"rgb(0, 0, 0)\", \"width\": 2}, \"marker\": {\"size\": 7, \"symbol\": \"x\"}, \"mode\": \"lines+markers\", \"name\": \"Events(raw)\", \"type\": \"scatter\", \"x\": [0.0, 3.0, 6.0, 9.0, 12.0, 15.0, 18.0, 21.0, 24.0], \"xaxis\": \"x\", \"y\": [860, 743, 410, 553, 506, 307, 220, 355], \"yaxis\": \"y\"}, {\"line\": {\"color\": \"rgb(0, 0, 0)\", \"dash\": \"dash\", \"width\": 2}, \"marker\": {\"size\": 7, \"symbol\": \"star\"}, \"mode\": \"lines+markers\", \"name\": \"Events/Drivers\", \"type\": \"scatter\", \"x\": [0.0, 3.0, 6.0, 9.0, 12.0, 15.0, 18.0, 21.0, 24.0], \"xaxis\": \"x\", \"y\": [6.2773722627737225, 5.944, 3.28, 4.850877192982456, 3.953125, 3.0098039215686274, 3.0985915492957745, 3.622448979591837], \"yaxis\": \"y2\"}],                        {\"paper_bgcolor\": \"rgba(0,0,0,0)\", \"plot_bgcolor\": \"rgba(0,0,0,0)\", \"template\": {\"data\": {\"bar\": [{\"error_x\": {\"color\": \"#2a3f5f\"}, \"error_y\": {\"color\": \"#2a3f5f\"}, \"marker\": {\"line\": {\"color\": \"#E5ECF6\", \"width\": 0.5}}, \"type\": \"bar\"}], \"barpolar\": [{\"marker\": {\"line\": {\"color\": \"#E5ECF6\", \"width\": 0.5}}, \"type\": \"barpolar\"}], \"carpet\": [{\"aaxis\": {\"endlinecolor\": \"#2a3f5f\", \"gridcolor\": \"white\", \"linecolor\": \"white\", \"minorgridcolor\": \"white\", \"startlinecolor\": \"#2a3f5f\"}, \"baxis\": {\"endlinecolor\": \"#2a3f5f\", \"gridcolor\": \"white\", \"linecolor\": \"white\", \"minorgridcolor\": \"white\", \"startlinecolor\": \"#2a3f5f\"}, \"type\": \"carpet\"}], \"choropleth\": [{\"colorbar\": {\"outlinewidth\": 0, \"ticks\": \"\"}, \"type\": \"choropleth\"}], \"contour\": [{\"colorbar\": {\"outlinewidth\": 0, \"ticks\": \"\"}, \"colorscale\": [[0.0, \"#0d0887\"], [0.1111111111111111, \"#46039f\"], [0.2222222222222222, \"#7201a8\"], [0.3333333333333333, \"#9c179e\"], [0.4444444444444444, \"#bd3786\"], [0.5555555555555556, \"#d8576b\"], [0.6666666666666666, \"#ed7953\"], [0.7777777777777778, \"#fb9f3a\"], [0.8888888888888888, \"#fdca26\"], [1.0, \"#f0f921\"]], \"type\": \"contour\"}], \"contourcarpet\": [{\"colorbar\": {\"outlinewidth\": 0, \"ticks\": \"\"}, \"type\": \"contourcarpet\"}], \"heatmap\": [{\"colorbar\": {\"outlinewidth\": 0, \"ticks\": \"\"}, \"colorscale\": [[0.0, \"#0d0887\"], [0.1111111111111111, \"#46039f\"], [0.2222222222222222, \"#7201a8\"], [0.3333333333333333, \"#9c179e\"], [0.4444444444444444, \"#bd3786\"], [0.5555555555555556, \"#d8576b\"], [0.6666666666666666, \"#ed7953\"], [0.7777777777777778, \"#fb9f3a\"], [0.8888888888888888, \"#fdca26\"], [1.0, \"#f0f921\"]], \"type\": \"heatmap\"}], \"heatmapgl\": [{\"colorbar\": {\"outlinewidth\": 0, \"ticks\": \"\"}, \"colorscale\": [[0.0, \"#0d0887\"], [0.1111111111111111, \"#46039f\"], [0.2222222222222222, \"#7201a8\"], [0.3333333333333333, \"#9c179e\"], [0.4444444444444444, \"#bd3786\"], [0.5555555555555556, \"#d8576b\"], [0.6666666666666666, \"#ed7953\"], [0.7777777777777778, \"#fb9f3a\"], [0.8888888888888888, \"#fdca26\"], [1.0, \"#f0f921\"]], \"type\": \"heatmapgl\"}], \"histogram\": [{\"marker\": {\"colorbar\": {\"outlinewidth\": 0, \"ticks\": \"\"}}, \"type\": \"histogram\"}], \"histogram2d\": [{\"colorbar\": {\"outlinewidth\": 0, \"ticks\": \"\"}, \"colorscale\": [[0.0, \"#0d0887\"], [0.1111111111111111, \"#46039f\"], [0.2222222222222222, \"#7201a8\"], [0.3333333333333333, \"#9c179e\"], [0.4444444444444444, \"#bd3786\"], [0.5555555555555556, \"#d8576b\"], [0.6666666666666666, \"#ed7953\"], [0.7777777777777778, \"#fb9f3a\"], [0.8888888888888888, \"#fdca26\"], [1.0, \"#f0f921\"]], \"type\": \"histogram2d\"}], \"histogram2dcontour\": [{\"colorbar\": {\"outlinewidth\": 0, \"ticks\": \"\"}, \"colorscale\": [[0.0, \"#0d0887\"], [0.1111111111111111, \"#46039f\"], [0.2222222222222222, \"#7201a8\"], [0.3333333333333333, \"#9c179e\"], [0.4444444444444444, \"#bd3786\"], [0.5555555555555556, \"#d8576b\"], [0.6666666666666666, \"#ed7953\"], [0.7777777777777778, \"#fb9f3a\"], [0.8888888888888888, \"#fdca26\"], [1.0, \"#f0f921\"]], \"type\": \"histogram2dcontour\"}], \"mesh3d\": [{\"colorbar\": {\"outlinewidth\": 0, \"ticks\": \"\"}, \"type\": \"mesh3d\"}], \"parcoords\": [{\"line\": {\"colorbar\": {\"outlinewidth\": 0, \"ticks\": \"\"}}, \"type\": \"parcoords\"}], \"pie\": [{\"automargin\": true, \"type\": \"pie\"}], \"scatter\": [{\"marker\": {\"colorbar\": {\"outlinewidth\": 0, \"ticks\": \"\"}}, \"type\": \"scatter\"}], \"scatter3d\": [{\"line\": {\"colorbar\": {\"outlinewidth\": 0, \"ticks\": \"\"}}, \"marker\": {\"colorbar\": {\"outlinewidth\": 0, \"ticks\": \"\"}}, \"type\": \"scatter3d\"}], \"scattercarpet\": [{\"marker\": {\"colorbar\": {\"outlinewidth\": 0, \"ticks\": \"\"}}, \"type\": \"scattercarpet\"}], \"scattergeo\": [{\"marker\": {\"colorbar\": {\"outlinewidth\": 0, \"ticks\": \"\"}}, \"type\": \"scattergeo\"}], \"scattergl\": [{\"marker\": {\"colorbar\": {\"outlinewidth\": 0, \"ticks\": \"\"}}, \"type\": \"scattergl\"}], \"scattermapbox\": [{\"marker\": {\"colorbar\": {\"outlinewidth\": 0, \"ticks\": \"\"}}, \"type\": \"scattermapbox\"}], \"scatterpolar\": [{\"marker\": {\"colorbar\": {\"outlinewidth\": 0, \"ticks\": \"\"}}, \"type\": \"scatterpolar\"}], \"scatterpolargl\": [{\"marker\": {\"colorbar\": {\"outlinewidth\": 0, \"ticks\": \"\"}}, \"type\": \"scatterpolargl\"}], \"scatterternary\": [{\"marker\": {\"colorbar\": {\"outlinewidth\": 0, \"ticks\": \"\"}}, \"type\": \"scatterternary\"}], \"surface\": [{\"colorbar\": {\"outlinewidth\": 0, \"ticks\": \"\"}, \"colorscale\": [[0.0, \"#0d0887\"], [0.1111111111111111, \"#46039f\"], [0.2222222222222222, \"#7201a8\"], [0.3333333333333333, \"#9c179e\"], [0.4444444444444444, \"#bd3786\"], [0.5555555555555556, \"#d8576b\"], [0.6666666666666666, \"#ed7953\"], [0.7777777777777778, \"#fb9f3a\"], [0.8888888888888888, \"#fdca26\"], [1.0, \"#f0f921\"]], \"type\": \"surface\"}], \"table\": [{\"cells\": {\"fill\": {\"color\": \"#EBF0F8\"}, \"line\": {\"color\": \"white\"}}, \"header\": {\"fill\": {\"color\": \"#C8D4E3\"}, \"line\": {\"color\": \"white\"}}, \"type\": \"table\"}]}, \"layout\": {\"annotationdefaults\": {\"arrowcolor\": \"#2a3f5f\", \"arrowhead\": 0, \"arrowwidth\": 1}, \"autotypenumbers\": \"strict\", \"coloraxis\": {\"colorbar\": {\"outlinewidth\": 0, \"ticks\": \"\"}}, \"colorscale\": {\"diverging\": [[0, \"#8e0152\"], [0.1, \"#c51b7d\"], [0.2, \"#de77ae\"], [0.3, \"#f1b6da\"], [0.4, \"#fde0ef\"], [0.5, \"#f7f7f7\"], [0.6, \"#e6f5d0\"], [0.7, \"#b8e186\"], [0.8, \"#7fbc41\"], [0.9, \"#4d9221\"], [1, \"#276419\"]], \"sequential\": [[0.0, \"#0d0887\"], [0.1111111111111111, \"#46039f\"], [0.2222222222222222, \"#7201a8\"], [0.3333333333333333, \"#9c179e\"], [0.4444444444444444, \"#bd3786\"], [0.5555555555555556, \"#d8576b\"], [0.6666666666666666, \"#ed7953\"], [0.7777777777777778, \"#fb9f3a\"], [0.8888888888888888, \"#fdca26\"], [1.0, \"#f0f921\"]], \"sequentialminus\": [[0.0, \"#0d0887\"], [0.1111111111111111, \"#46039f\"], [0.2222222222222222, \"#7201a8\"], [0.3333333333333333, \"#9c179e\"], [0.4444444444444444, \"#bd3786\"], [0.5555555555555556, \"#d8576b\"], [0.6666666666666666, \"#ed7953\"], [0.7777777777777778, \"#fb9f3a\"], [0.8888888888888888, \"#fdca26\"], [1.0, \"#f0f921\"]]}, \"colorway\": [\"#636efa\", \"#EF553B\", \"#00cc96\", \"#ab63fa\", \"#FFA15A\", \"#19d3f3\", \"#FF6692\", \"#B6E880\", \"#FF97FF\", \"#FECB52\"], \"font\": {\"color\": \"#2a3f5f\"}, \"geo\": {\"bgcolor\": \"white\", \"lakecolor\": \"white\", \"landcolor\": \"#E5ECF6\", \"showlakes\": true, \"showland\": true, \"subunitcolor\": \"white\"}, \"hoverlabel\": {\"align\": \"left\"}, \"hovermode\": \"closest\", \"mapbox\": {\"style\": \"light\"}, \"paper_bgcolor\": \"white\", \"plot_bgcolor\": \"#E5ECF6\", \"polar\": {\"angularaxis\": {\"gridcolor\": \"white\", \"linecolor\": \"white\", \"ticks\": \"\"}, \"bgcolor\": \"#E5ECF6\", \"radialaxis\": {\"gridcolor\": \"white\", \"linecolor\": \"white\", \"ticks\": \"\"}}, \"scene\": {\"xaxis\": {\"backgroundcolor\": \"#E5ECF6\", \"gridcolor\": \"white\", \"gridwidth\": 2, \"linecolor\": \"white\", \"showbackground\": true, \"ticks\": \"\", \"zerolinecolor\": \"white\"}, \"yaxis\": {\"backgroundcolor\": \"#E5ECF6\", \"gridcolor\": \"white\", \"gridwidth\": 2, \"linecolor\": \"white\", \"showbackground\": true, \"ticks\": \"\", \"zerolinecolor\": \"white\"}, \"zaxis\": {\"backgroundcolor\": \"#E5ECF6\", \"gridcolor\": \"white\", \"gridwidth\": 2, \"linecolor\": \"white\", \"showbackground\": true, \"ticks\": \"\", \"zerolinecolor\": \"white\"}}, \"shapedefaults\": {\"line\": {\"color\": \"#2a3f5f\"}}, \"ternary\": {\"aaxis\": {\"gridcolor\": \"white\", \"linecolor\": \"white\", \"ticks\": \"\"}, \"baxis\": {\"gridcolor\": \"white\", \"linecolor\": \"white\", \"ticks\": \"\"}, \"bgcolor\": \"#E5ECF6\", \"caxis\": {\"gridcolor\": \"white\", \"linecolor\": \"white\", \"ticks\": \"\"}}, \"title\": {\"x\": 0.05}, \"xaxis\": {\"automargin\": true, \"gridcolor\": \"white\", \"linecolor\": \"white\", \"ticks\": \"\", \"title\": {\"standoff\": 15}, \"zerolinecolor\": \"white\", \"zerolinewidth\": 2}, \"yaxis\": {\"automargin\": true, \"gridcolor\": \"white\", \"linecolor\": \"white\", \"ticks\": \"\", \"title\": {\"standoff\": 15}, \"zerolinecolor\": \"white\", \"zerolinewidth\": 2}}}, \"title\": {\"text\": \"Events company E3\"}, \"xaxis\": {\"anchor\": \"y\", \"domain\": [0.0, 0.94], \"dtick\": 3, \"gridcolor\": \"black\", \"gridwidth\": 1, \"linecolor\": \"black\", \"linewidth\": 2, \"mirror\": true, \"showgrid\": true, \"showline\": true, \"tick0\": 0, \"tickmode\": \"linear\", \"title\": {\"text\": \"Time of day\"}}, \"yaxis\": {\"anchor\": \"x\", \"domain\": [0.0, 1.0], \"gridcolor\": \"black\", \"gridwidth\": 1, \"linecolor\": \"black\", \"linewidth\": 2, \"mirror\": true, \"showgrid\": false, \"showline\": true, \"title\": {\"text\": \"<b>Raw</b>\"}}, \"yaxis2\": {\"anchor\": \"x\", \"gridcolor\": \"black\", \"gridwidth\": 1, \"linecolor\": \"black\", \"linewidth\": 2, \"mirror\": true, \"overlaying\": \"y\", \"showgrid\": false, \"showline\": true, \"side\": \"right\", \"title\": {\"text\": \"<b>Rate</b>\"}}},                        {\"responsive\": true}                    ).then(function(){\n",
              "                            \n",
              "var gd = document.getElementById('70098352-d9a1-47bb-b38c-42d146e5504d');\n",
              "var x = new MutationObserver(function (mutations, observer) {{\n",
              "        var display = window.getComputedStyle(gd).display;\n",
              "        if (!display || display === 'none') {{\n",
              "            console.log([gd, 'removed!']);\n",
              "            Plotly.purge(gd);\n",
              "            observer.disconnect();\n",
              "        }}\n",
              "}});\n",
              "\n",
              "// Listen for the removal of the full notebook cells\n",
              "var notebookContainer = gd.closest('#notebook-container');\n",
              "if (notebookContainer) {{\n",
              "    x.observe(notebookContainer, {childList: true});\n",
              "}}\n",
              "\n",
              "// Listen for the clearing of the current output cell\n",
              "var outputEl = gd.closest('.output');\n",
              "if (outputEl) {{\n",
              "    x.observe(outputEl, {childList: true});\n",
              "}}\n",
              "\n",
              "                        })                };                            </script>        </div>\n",
              "</body>\n",
              "</html>"
            ]
          },
          "metadata": {
            "tags": []
          }
        }
      ]
    },
    {
      "cell_type": "markdown",
      "metadata": {
        "id": "lfqvYn_lWULy"
      },
      "source": [
        "##**E5**"
      ]
    },
    {
      "cell_type": "markdown",
      "metadata": {
        "id": "t8eZBCcFAezp"
      },
      "source": [
        "**Motoristas por hora**"
      ]
    },
    {
      "cell_type": "code",
      "metadata": {
        "colab": {
          "base_uri": "https://localhost:8080/",
          "height": 111
        },
        "id": "ASLm6Dd_OTHY",
        "outputId": "c1149de8-8339-4c57-8c92-da7b6b0b6d34"
      },
      "source": [
        "dfE5.head(2)"
      ],
      "execution_count": 230,
      "outputs": [
        {
          "output_type": "execute_result",
          "data": {
            "text/html": [
              "<div>\n",
              "<style scoped>\n",
              "    .dataframe tbody tr th:only-of-type {\n",
              "        vertical-align: middle;\n",
              "    }\n",
              "\n",
              "    .dataframe tbody tr th {\n",
              "        vertical-align: top;\n",
              "    }\n",
              "\n",
              "    .dataframe thead th {\n",
              "        text-align: right;\n",
              "    }\n",
              "</style>\n",
              "<table border=\"1\" class=\"dataframe\">\n",
              "  <thead>\n",
              "    <tr style=\"text-align: right;\">\n",
              "      <th></th>\n",
              "      <th>Nome</th>\n",
              "      <th>DATA</th>\n",
              "      <th>HORA</th>\n",
              "      <th>Tipo de Desatenção</th>\n",
              "      <th>Velocidade</th>\n",
              "    </tr>\n",
              "  </thead>\n",
              "  <tbody>\n",
              "    <tr>\n",
              "      <th>0</th>\n",
              "      <td>NaN</td>\n",
              "      <td>2019-01-04 11:46:41</td>\n",
              "      <td>2019-01-04 11:46:41</td>\n",
              "      <td>Olho Fechado</td>\n",
              "      <td>57</td>\n",
              "    </tr>\n",
              "    <tr>\n",
              "      <th>1</th>\n",
              "      <td>NaN</td>\n",
              "      <td>2019-01-11 19:11:04</td>\n",
              "      <td>2019-01-11 19:11:04</td>\n",
              "      <td>Olho Fechado</td>\n",
              "      <td>48</td>\n",
              "    </tr>\n",
              "  </tbody>\n",
              "</table>\n",
              "</div>"
            ],
            "text/plain": [
              "  Nome                DATA                HORA Tipo de Desatenção  Velocidade\n",
              "0  NaN 2019-01-04 11:46:41 2019-01-04 11:46:41       Olho Fechado          57\n",
              "1  NaN 2019-01-11 19:11:04 2019-01-11 19:11:04       Olho Fechado          48"
            ]
          },
          "metadata": {
            "tags": []
          },
          "execution_count": 230
        }
      ]
    },
    {
      "cell_type": "code",
      "metadata": {
        "colab": {
          "base_uri": "https://localhost:8080/"
        },
        "id": "gra__vI66TnY",
        "outputId": "3c64cd6a-582d-4a2a-de4b-dad437749ca6"
      },
      "source": [
        "dfE5.shape"
      ],
      "execution_count": 231,
      "outputs": [
        {
          "output_type": "execute_result",
          "data": {
            "text/plain": [
              "(69100, 5)"
            ]
          },
          "metadata": {
            "tags": []
          },
          "execution_count": 231
        }
      ]
    },
    {
      "cell_type": "code",
      "metadata": {
        "colab": {
          "base_uri": "https://localhost:8080/"
        },
        "id": "ec2UDUfEgBuy",
        "outputId": "d96355d5-abe0-49ee-ae7b-0d04cb42a428"
      },
      "source": [
        "dfE5['Nome'].nunique()"
      ],
      "execution_count": 232,
      "outputs": [
        {
          "output_type": "execute_result",
          "data": {
            "text/plain": [
              "166"
            ]
          },
          "metadata": {
            "tags": []
          },
          "execution_count": 232
        }
      ]
    },
    {
      "cell_type": "code",
      "metadata": {
        "colab": {
          "base_uri": "https://localhost:8080/",
          "height": 204
        },
        "id": "7qHAvQHNCN2v",
        "outputId": "b404da31-f331-43d9-dc53-4d54c44a20d9"
      },
      "source": [
        "dfE5H = pd.read_excel(fileE5)\r\n",
        "dfE5H['HORA'] = pd.to_datetime(dfE5['HORA'], format='%Y-%M-%D %H:%M:%S').dt.hour\r\n",
        "dfE5H.head()"
      ],
      "execution_count": 233,
      "outputs": [
        {
          "output_type": "execute_result",
          "data": {
            "text/html": [
              "<div>\n",
              "<style scoped>\n",
              "    .dataframe tbody tr th:only-of-type {\n",
              "        vertical-align: middle;\n",
              "    }\n",
              "\n",
              "    .dataframe tbody tr th {\n",
              "        vertical-align: top;\n",
              "    }\n",
              "\n",
              "    .dataframe thead th {\n",
              "        text-align: right;\n",
              "    }\n",
              "</style>\n",
              "<table border=\"1\" class=\"dataframe\">\n",
              "  <thead>\n",
              "    <tr style=\"text-align: right;\">\n",
              "      <th></th>\n",
              "      <th>Nome</th>\n",
              "      <th>DATA</th>\n",
              "      <th>HORA</th>\n",
              "      <th>Tipo de Desatenção</th>\n",
              "      <th>Velocidade</th>\n",
              "    </tr>\n",
              "  </thead>\n",
              "  <tbody>\n",
              "    <tr>\n",
              "      <th>0</th>\n",
              "      <td>NaN</td>\n",
              "      <td>2019-01-04 11:46:41</td>\n",
              "      <td>11</td>\n",
              "      <td>Olho Fechado</td>\n",
              "      <td>57</td>\n",
              "    </tr>\n",
              "    <tr>\n",
              "      <th>1</th>\n",
              "      <td>NaN</td>\n",
              "      <td>2019-01-11 19:11:04</td>\n",
              "      <td>19</td>\n",
              "      <td>Olho Fechado</td>\n",
              "      <td>48</td>\n",
              "    </tr>\n",
              "    <tr>\n",
              "      <th>2</th>\n",
              "      <td>NaN</td>\n",
              "      <td>2019-02-20 02:49:08</td>\n",
              "      <td>2</td>\n",
              "      <td>Bocejo</td>\n",
              "      <td>58</td>\n",
              "    </tr>\n",
              "    <tr>\n",
              "      <th>3</th>\n",
              "      <td>NaN</td>\n",
              "      <td>2019-02-21 05:40:30</td>\n",
              "      <td>5</td>\n",
              "      <td>Bocejo</td>\n",
              "      <td>49</td>\n",
              "    </tr>\n",
              "    <tr>\n",
              "      <th>4</th>\n",
              "      <td>NaN</td>\n",
              "      <td>2019-02-21 05:54:02</td>\n",
              "      <td>5</td>\n",
              "      <td>Bocejo</td>\n",
              "      <td>41</td>\n",
              "    </tr>\n",
              "  </tbody>\n",
              "</table>\n",
              "</div>"
            ],
            "text/plain": [
              "  Nome                DATA  HORA Tipo de Desatenção  Velocidade\n",
              "0  NaN 2019-01-04 11:46:41    11       Olho Fechado          57\n",
              "1  NaN 2019-01-11 19:11:04    19       Olho Fechado          48\n",
              "2  NaN 2019-02-20 02:49:08     2             Bocejo          58\n",
              "3  NaN 2019-02-21 05:40:30     5             Bocejo          49\n",
              "4  NaN 2019-02-21 05:54:02     5             Bocejo          41"
            ]
          },
          "metadata": {
            "tags": []
          },
          "execution_count": 233
        }
      ]
    },
    {
      "cell_type": "code",
      "metadata": {
        "colab": {
          "base_uri": "https://localhost:8080/"
        },
        "id": "b5iU5QmT9awj",
        "outputId": "8cc4ca77-d83a-4e2e-c114-ec1d38a8cae1"
      },
      "source": [
        "dfE5H.isnull().sum()"
      ],
      "execution_count": 234,
      "outputs": [
        {
          "output_type": "execute_result",
          "data": {
            "text/plain": [
              "Nome                  45002\n",
              "DATA                      0\n",
              "HORA                      0\n",
              "Tipo de Desatenção        0\n",
              "Velocidade                0\n",
              "dtype: int64"
            ]
          },
          "metadata": {
            "tags": []
          },
          "execution_count": 234
        }
      ]
    },
    {
      "cell_type": "code",
      "metadata": {
        "colab": {
          "base_uri": "https://localhost:8080/"
        },
        "id": "3G5-oi-b6vUE",
        "outputId": "47fa0416-39e5-49d9-8ee9-ae93a94af525"
      },
      "source": [
        "#############\r\n",
        "dfE5_nomes = dfE5H.dropna()\r\n",
        "dfE5_nomes.shape"
      ],
      "execution_count": 235,
      "outputs": [
        {
          "output_type": "execute_result",
          "data": {
            "text/plain": [
              "(24098, 5)"
            ]
          },
          "metadata": {
            "tags": []
          },
          "execution_count": 235
        }
      ]
    },
    {
      "cell_type": "code",
      "metadata": {
        "colab": {
          "base_uri": "https://localhost:8080/"
        },
        "id": "Dp8cLk5_8xsc",
        "outputId": "6ae4c284-ba7b-4fc5-bc61-d74c1e2a249b"
      },
      "source": [
        "dfE5_nomes[dfE5_nomes.HORA == 5]['Nome'].value_counts().head(10)"
      ],
      "execution_count": 236,
      "outputs": [
        {
          "output_type": "execute_result",
          "data": {
            "text/plain": [
              "C597     276\n",
              "C950      59\n",
              "C620      55\n",
              "C632      46\n",
              "C923      31\n",
              "C612      30\n",
              "C1100     29\n",
              "C616      28\n",
              "C417      28\n",
              "C1071     27\n",
              "Name: Nome, dtype: int64"
            ]
          },
          "metadata": {
            "tags": []
          },
          "execution_count": 236
        }
      ]
    },
    {
      "cell_type": "code",
      "metadata": {
        "colab": {
          "base_uri": "https://localhost:8080/",
          "height": 824
        },
        "id": "kqBDoZEE5vp0",
        "outputId": "19c5c1b9-0911-40de-a21d-90e356d49e4e"
      },
      "source": [
        "dfE5_motoristas_hora = pd.DataFrame(dfE5_nomes.groupby(by='HORA').nunique()['Nome'].rename('N° de motoristas'))\r\n",
        "dfE5_motoristas_hora"
      ],
      "execution_count": 237,
      "outputs": [
        {
          "output_type": "execute_result",
          "data": {
            "text/html": [
              "<div>\n",
              "<style scoped>\n",
              "    .dataframe tbody tr th:only-of-type {\n",
              "        vertical-align: middle;\n",
              "    }\n",
              "\n",
              "    .dataframe tbody tr th {\n",
              "        vertical-align: top;\n",
              "    }\n",
              "\n",
              "    .dataframe thead th {\n",
              "        text-align: right;\n",
              "    }\n",
              "</style>\n",
              "<table border=\"1\" class=\"dataframe\">\n",
              "  <thead>\n",
              "    <tr style=\"text-align: right;\">\n",
              "      <th></th>\n",
              "      <th>N° de motoristas</th>\n",
              "    </tr>\n",
              "    <tr>\n",
              "      <th>HORA</th>\n",
              "      <th></th>\n",
              "    </tr>\n",
              "  </thead>\n",
              "  <tbody>\n",
              "    <tr>\n",
              "      <th>0</th>\n",
              "      <td>84</td>\n",
              "    </tr>\n",
              "    <tr>\n",
              "      <th>1</th>\n",
              "      <td>87</td>\n",
              "    </tr>\n",
              "    <tr>\n",
              "      <th>2</th>\n",
              "      <td>83</td>\n",
              "    </tr>\n",
              "    <tr>\n",
              "      <th>3</th>\n",
              "      <td>83</td>\n",
              "    </tr>\n",
              "    <tr>\n",
              "      <th>4</th>\n",
              "      <td>80</td>\n",
              "    </tr>\n",
              "    <tr>\n",
              "      <th>5</th>\n",
              "      <td>77</td>\n",
              "    </tr>\n",
              "    <tr>\n",
              "      <th>6</th>\n",
              "      <td>81</td>\n",
              "    </tr>\n",
              "    <tr>\n",
              "      <th>7</th>\n",
              "      <td>90</td>\n",
              "    </tr>\n",
              "    <tr>\n",
              "      <th>8</th>\n",
              "      <td>93</td>\n",
              "    </tr>\n",
              "    <tr>\n",
              "      <th>9</th>\n",
              "      <td>96</td>\n",
              "    </tr>\n",
              "    <tr>\n",
              "      <th>10</th>\n",
              "      <td>97</td>\n",
              "    </tr>\n",
              "    <tr>\n",
              "      <th>11</th>\n",
              "      <td>96</td>\n",
              "    </tr>\n",
              "    <tr>\n",
              "      <th>12</th>\n",
              "      <td>95</td>\n",
              "    </tr>\n",
              "    <tr>\n",
              "      <th>13</th>\n",
              "      <td>92</td>\n",
              "    </tr>\n",
              "    <tr>\n",
              "      <th>14</th>\n",
              "      <td>96</td>\n",
              "    </tr>\n",
              "    <tr>\n",
              "      <th>15</th>\n",
              "      <td>92</td>\n",
              "    </tr>\n",
              "    <tr>\n",
              "      <th>16</th>\n",
              "      <td>100</td>\n",
              "    </tr>\n",
              "    <tr>\n",
              "      <th>17</th>\n",
              "      <td>87</td>\n",
              "    </tr>\n",
              "    <tr>\n",
              "      <th>18</th>\n",
              "      <td>82</td>\n",
              "    </tr>\n",
              "    <tr>\n",
              "      <th>19</th>\n",
              "      <td>70</td>\n",
              "    </tr>\n",
              "    <tr>\n",
              "      <th>20</th>\n",
              "      <td>72</td>\n",
              "    </tr>\n",
              "    <tr>\n",
              "      <th>21</th>\n",
              "      <td>75</td>\n",
              "    </tr>\n",
              "    <tr>\n",
              "      <th>22</th>\n",
              "      <td>86</td>\n",
              "    </tr>\n",
              "    <tr>\n",
              "      <th>23</th>\n",
              "      <td>76</td>\n",
              "    </tr>\n",
              "  </tbody>\n",
              "</table>\n",
              "</div>"
            ],
            "text/plain": [
              "      N° de motoristas\n",
              "HORA                  \n",
              "0                   84\n",
              "1                   87\n",
              "2                   83\n",
              "3                   83\n",
              "4                   80\n",
              "5                   77\n",
              "6                   81\n",
              "7                   90\n",
              "8                   93\n",
              "9                   96\n",
              "10                  97\n",
              "11                  96\n",
              "12                  95\n",
              "13                  92\n",
              "14                  96\n",
              "15                  92\n",
              "16                 100\n",
              "17                  87\n",
              "18                  82\n",
              "19                  70\n",
              "20                  72\n",
              "21                  75\n",
              "22                  86\n",
              "23                  76"
            ]
          },
          "metadata": {
            "tags": []
          },
          "execution_count": 237
        }
      ]
    },
    {
      "cell_type": "code",
      "metadata": {
        "id": "CX3jXswF54N9"
      },
      "source": [
        ""
      ],
      "execution_count": 237,
      "outputs": []
    },
    {
      "cell_type": "markdown",
      "metadata": {
        "id": "D0NYIiaoAzl_"
      },
      "source": [
        "**Eventos por hora**"
      ]
    },
    {
      "cell_type": "code",
      "metadata": {
        "colab": {
          "base_uri": "https://localhost:8080/",
          "height": 111
        },
        "id": "LoX0QAwMcB0c",
        "outputId": "525b72ed-5235-4dcb-b3f1-27a32af52410"
      },
      "source": [
        "dfE5H.head(2)"
      ],
      "execution_count": 238,
      "outputs": [
        {
          "output_type": "execute_result",
          "data": {
            "text/html": [
              "<div>\n",
              "<style scoped>\n",
              "    .dataframe tbody tr th:only-of-type {\n",
              "        vertical-align: middle;\n",
              "    }\n",
              "\n",
              "    .dataframe tbody tr th {\n",
              "        vertical-align: top;\n",
              "    }\n",
              "\n",
              "    .dataframe thead th {\n",
              "        text-align: right;\n",
              "    }\n",
              "</style>\n",
              "<table border=\"1\" class=\"dataframe\">\n",
              "  <thead>\n",
              "    <tr style=\"text-align: right;\">\n",
              "      <th></th>\n",
              "      <th>Nome</th>\n",
              "      <th>DATA</th>\n",
              "      <th>HORA</th>\n",
              "      <th>Tipo de Desatenção</th>\n",
              "      <th>Velocidade</th>\n",
              "    </tr>\n",
              "  </thead>\n",
              "  <tbody>\n",
              "    <tr>\n",
              "      <th>0</th>\n",
              "      <td>NaN</td>\n",
              "      <td>2019-01-04 11:46:41</td>\n",
              "      <td>11</td>\n",
              "      <td>Olho Fechado</td>\n",
              "      <td>57</td>\n",
              "    </tr>\n",
              "    <tr>\n",
              "      <th>1</th>\n",
              "      <td>NaN</td>\n",
              "      <td>2019-01-11 19:11:04</td>\n",
              "      <td>19</td>\n",
              "      <td>Olho Fechado</td>\n",
              "      <td>48</td>\n",
              "    </tr>\n",
              "  </tbody>\n",
              "</table>\n",
              "</div>"
            ],
            "text/plain": [
              "  Nome                DATA  HORA Tipo de Desatenção  Velocidade\n",
              "0  NaN 2019-01-04 11:46:41    11       Olho Fechado          57\n",
              "1  NaN 2019-01-11 19:11:04    19       Olho Fechado          48"
            ]
          },
          "metadata": {
            "tags": []
          },
          "execution_count": 238
        }
      ]
    },
    {
      "cell_type": "code",
      "metadata": {
        "colab": {
          "base_uri": "https://localhost:8080/"
        },
        "id": "82Nj47cfA4Ik",
        "outputId": "ac1843d6-d89d-48cc-fd5a-fe460c67050e"
      },
      "source": [
        "dfE5H['Tipo de Desatenção'].unique()"
      ],
      "execution_count": 239,
      "outputs": [
        {
          "output_type": "execute_result",
          "data": {
            "text/plain": [
              "array(['Olho Fechado', 'Bocejo'], dtype=object)"
            ]
          },
          "metadata": {
            "tags": []
          },
          "execution_count": 239
        }
      ]
    },
    {
      "cell_type": "code",
      "metadata": {
        "colab": {
          "base_uri": "https://localhost:8080/"
        },
        "id": "5Bv_F7-DF7uB",
        "outputId": "95658e49-a729-4733-fd33-4453058b7da8"
      },
      "source": [
        "dfE5H['Tipo de Desatenção'].value_counts()"
      ],
      "execution_count": 240,
      "outputs": [
        {
          "output_type": "execute_result",
          "data": {
            "text/plain": [
              "Bocejo          40900\n",
              "Olho Fechado    28200\n",
              "Name: Tipo de Desatenção, dtype: int64"
            ]
          },
          "metadata": {
            "tags": []
          },
          "execution_count": 240
        }
      ]
    },
    {
      "cell_type": "code",
      "metadata": {
        "colab": {
          "base_uri": "https://localhost:8080/"
        },
        "id": "x4NBhLQDDzrv",
        "outputId": "444ee3f2-2526-421b-dc78-49b89f95fbb8"
      },
      "source": [
        "dfE5_of = dfE5H[dfE5H['Tipo de Desatenção'] == 'Olho Fechado']\r\n",
        "dfE5_of_final = dfE5_of.HORA.value_counts().rename('Olho fechado').sort_index()\r\n",
        "dfE5_of_final"
      ],
      "execution_count": 241,
      "outputs": [
        {
          "output_type": "execute_result",
          "data": {
            "text/plain": [
              "0      278\n",
              "1      329\n",
              "2      384\n",
              "3      473\n",
              "4      586\n",
              "5      548\n",
              "6     1174\n",
              "7     1902\n",
              "8     2285\n",
              "9     2363\n",
              "10    2164\n",
              "11    2172\n",
              "12    2231\n",
              "13    2341\n",
              "14    2386\n",
              "15    2092\n",
              "16    1780\n",
              "17    1080\n",
              "18     419\n",
              "19     266\n",
              "20     225\n",
              "21     212\n",
              "22     274\n",
              "23     236\n",
              "Name: Olho fechado, dtype: int64"
            ]
          },
          "metadata": {
            "tags": []
          },
          "execution_count": 241
        }
      ]
    },
    {
      "cell_type": "code",
      "metadata": {
        "colab": {
          "base_uri": "https://localhost:8080/"
        },
        "id": "RkQl3MCuGCOH",
        "outputId": "e0cc2490-11e9-49b7-c6b7-969731522d01"
      },
      "source": [
        "dfE5_of_final.sum()"
      ],
      "execution_count": 251,
      "outputs": [
        {
          "output_type": "execute_result",
          "data": {
            "text/plain": [
              "28200"
            ]
          },
          "metadata": {
            "tags": []
          },
          "execution_count": 251
        }
      ]
    },
    {
      "cell_type": "code",
      "metadata": {
        "colab": {
          "base_uri": "https://localhost:8080/"
        },
        "id": "_dK_GOqGFpc7",
        "outputId": "dc759aae-fc97-469d-b0a1-5b3d22de3142"
      },
      "source": [
        "dfE5_b = dfE5H[dfE5H['Tipo de Desatenção'] == 'Bocejo']\r\n",
        "dfE5_b_final = dfE5_b.HORA.value_counts().rename('Bocejo').sort_index()\r\n",
        "dfE5_b_final"
      ],
      "execution_count": 249,
      "outputs": [
        {
          "output_type": "execute_result",
          "data": {
            "text/plain": [
              "0     1915\n",
              "1     2133\n",
              "2     2342\n",
              "3     2372\n",
              "4     2362\n",
              "5     2419\n",
              "6     2564\n",
              "7     2122\n",
              "8     1715\n",
              "9     1315\n",
              "10    1199\n",
              "11    1248\n",
              "12    1691\n",
              "13    1757\n",
              "14    1649\n",
              "15    1408\n",
              "16    1190\n",
              "17    1257\n",
              "18    1384\n",
              "19    1187\n",
              "20    1191\n",
              "21    1322\n",
              "22    1583\n",
              "23    1575\n",
              "Name: Bocejo, dtype: int64"
            ]
          },
          "metadata": {
            "tags": []
          },
          "execution_count": 249
        }
      ]
    },
    {
      "cell_type": "code",
      "metadata": {
        "colab": {
          "base_uri": "https://localhost:8080/"
        },
        "id": "8GPbCvr7GFtY",
        "outputId": "ed859bd5-e803-4067-9a8b-c910fba038e0"
      },
      "source": [
        "dfE5_b_final.sum()"
      ],
      "execution_count": 250,
      "outputs": [
        {
          "output_type": "execute_result",
          "data": {
            "text/plain": [
              "40900"
            ]
          },
          "metadata": {
            "tags": []
          },
          "execution_count": 250
        }
      ]
    },
    {
      "cell_type": "markdown",
      "metadata": {
        "id": "NVzXXslwKHxk"
      },
      "source": [
        "**Acidentes por hora**"
      ]
    },
    {
      "cell_type": "code",
      "metadata": {
        "colab": {
          "base_uri": "https://localhost:8080/",
          "height": 482
        },
        "id": "SUvpqeXlKIcb",
        "outputId": "136a561b-ee1f-4dc9-c87f-406829a49ff9"
      },
      "source": [
        "dfOCO_TM_E5.head(3)"
      ],
      "execution_count": 245,
      "outputs": [
        {
          "output_type": "execute_result",
          "data": {
            "text/html": [
              "<div>\n",
              "<style scoped>\n",
              "    .dataframe tbody tr th:only-of-type {\n",
              "        vertical-align: middle;\n",
              "    }\n",
              "\n",
              "    .dataframe tbody tr th {\n",
              "        vertical-align: top;\n",
              "    }\n",
              "\n",
              "    .dataframe thead th {\n",
              "        text-align: right;\n",
              "    }\n",
              "</style>\n",
              "<table border=\"1\" class=\"dataframe\">\n",
              "  <thead>\n",
              "    <tr style=\"text-align: right;\">\n",
              "      <th></th>\n",
              "      <th>CLASSIFICAÇÃO</th>\n",
              "      <th>EMPRESA</th>\n",
              "      <th>GERÊNCIA</th>\n",
              "      <th>COORDENAÇÃO</th>\n",
              "      <th>SUB ÁREA</th>\n",
              "      <th>NOME</th>\n",
              "      <th>CARGO</th>\n",
              "      <th>TEMPO DE EMPRESA</th>\n",
              "      <th>IDADE</th>\n",
              "      <th>\\nDATA DA OCORRÊNCIA</th>\n",
              "      <th>DIA DA SEMANA</th>\n",
              "      <th>\\nLOCAL DA OCORRÊNCIA</th>\n",
              "      <th>QUALIDADE PISTA</th>\n",
              "      <th>CARACTERISTICA PISTA</th>\n",
              "      <th>SINALIZAÇÃO</th>\n",
              "      <th>CLIMA</th>\n",
              "      <th>PREFIXO</th>\n",
              "      <th>MODELO</th>\n",
              "      <th>CARREGADO</th>\n",
              "      <th>TIPO</th>\n",
              "      <th>DETALHAMENTO</th>\n",
              "      <th>POTENCIAL</th>\n",
              "      <th>SAP</th>\n",
              "      <th>DIA ESCALA</th>\n",
              "      <th>ESCALA</th>\n",
              "      <th>JORNADA</th>\n",
              "      <th>TEMPO DECORRIDO</th>\n",
              "      <th>DORMIU BEM?</th>\n",
              "      <th>PRÓXIMO PERIODO DE FÉRIAS OU FERIADO</th>\n",
              "      <th>ALIMENTOU</th>\n",
              "      <th>PROBLEMAS SAÚDE</th>\n",
              "      <th>USO MEDICAMENTO</th>\n",
              "      <th>USO ALCOOL/DROGA</th>\n",
              "      <th>PRESSÃO</th>\n",
              "      <th>PRESSA PARA CONCLUIR O TRABALHO</th>\n",
              "      <th>DESCRIÇÃO</th>\n",
              "      <th>HorarioAcidente</th>\n",
              "    </tr>\n",
              "    <tr>\n",
              "      <th>HORA</th>\n",
              "      <th></th>\n",
              "      <th></th>\n",
              "      <th></th>\n",
              "      <th></th>\n",
              "      <th></th>\n",
              "      <th></th>\n",
              "      <th></th>\n",
              "      <th></th>\n",
              "      <th></th>\n",
              "      <th></th>\n",
              "      <th></th>\n",
              "      <th></th>\n",
              "      <th></th>\n",
              "      <th></th>\n",
              "      <th></th>\n",
              "      <th></th>\n",
              "      <th></th>\n",
              "      <th></th>\n",
              "      <th></th>\n",
              "      <th></th>\n",
              "      <th></th>\n",
              "      <th></th>\n",
              "      <th></th>\n",
              "      <th></th>\n",
              "      <th></th>\n",
              "      <th></th>\n",
              "      <th></th>\n",
              "      <th></th>\n",
              "      <th></th>\n",
              "      <th></th>\n",
              "      <th></th>\n",
              "      <th></th>\n",
              "      <th></th>\n",
              "      <th></th>\n",
              "      <th></th>\n",
              "      <th></th>\n",
              "      <th></th>\n",
              "    </tr>\n",
              "  </thead>\n",
              "  <tbody>\n",
              "    <tr>\n",
              "      <th>18:50:00</th>\n",
              "      <td>IAP</td>\n",
              "      <td>E5</td>\n",
              "      <td>LOGÍSTICA</td>\n",
              "      <td>TRANSPORTE FLORESTAL</td>\n",
              "      <td>LOGÍSTICA</td>\n",
              "      <td>C492</td>\n",
              "      <td>MOTORISTA</td>\n",
              "      <td>24</td>\n",
              "      <td>48.0</td>\n",
              "      <td>2017-03-28</td>\n",
              "      <td>TERÇA-FEIRA</td>\n",
              "      <td>PÁTIO DE MADEIRA AEROPORTO</td>\n",
              "      <td>ESTRADA DE CHÃO</td>\n",
              "      <td>RETA</td>\n",
              "      <td>NaN</td>\n",
              "      <td>NaN</td>\n",
              "      <td>BBM-056</td>\n",
              "      <td>NaN</td>\n",
              "      <td>NÃO</td>\n",
              "      <td>TRANSPORTE DE MADEIRA</td>\n",
              "      <td>MOTORISTA DO CAMINHÃO DE PREFIXO BBM-056 AO RE...</td>\n",
              "      <td>LPG</td>\n",
              "      <td>6510</td>\n",
              "      <td>2.0</td>\n",
              "      <td>NaN</td>\n",
              "      <td>NaN</td>\n",
              "      <td>00:50:00</td>\n",
              "      <td>NaN</td>\n",
              "      <td>NÃO</td>\n",
              "      <td>NaN</td>\n",
              "      <td>NÃO</td>\n",
              "      <td>NÃO</td>\n",
              "      <td>NaN</td>\n",
              "      <td>NaN</td>\n",
              "      <td>NaN</td>\n",
              "      <td>NOITE ESTAVA NORMAL SEM CHUVA OU NEBLINA. * CO...</td>\n",
              "      <td>18</td>\n",
              "    </tr>\n",
              "    <tr>\n",
              "      <th>23:00:00</th>\n",
              "      <td>IAP</td>\n",
              "      <td>E5</td>\n",
              "      <td>LOGÍSTICA</td>\n",
              "      <td>TRANSPORTE FLORESTAL</td>\n",
              "      <td>LOGÍSTICA</td>\n",
              "      <td>C488</td>\n",
              "      <td>MOTORISTA</td>\n",
              "      <td>12</td>\n",
              "      <td>55.0</td>\n",
              "      <td>2017-05-31</td>\n",
              "      <td>QUARTA-FEIRA</td>\n",
              "      <td>PRINCESA DO VALE</td>\n",
              "      <td>SEM CASCALHO</td>\n",
              "      <td>DECLIVE</td>\n",
              "      <td>NaN</td>\n",
              "      <td>CHUVA</td>\n",
              "      <td>BBM-059</td>\n",
              "      <td>NaN</td>\n",
              "      <td>SIM</td>\n",
              "      <td>TRANSPORTE DE MADEIRA</td>\n",
              "      <td>O MOTORISTA DO CAMINHÃO DE PREFIXO BBM-059, AP...</td>\n",
              "      <td>LPG</td>\n",
              "      <td>6822</td>\n",
              "      <td>NaN</td>\n",
              "      <td>NaN</td>\n",
              "      <td>NaN</td>\n",
              "      <td>NaN</td>\n",
              "      <td>NaN</td>\n",
              "      <td>NaN</td>\n",
              "      <td>NaN</td>\n",
              "      <td>NaN</td>\n",
              "      <td>NaN</td>\n",
              "      <td>NaN</td>\n",
              "      <td>NaN</td>\n",
              "      <td>NaN</td>\n",
              "      <td>NaN</td>\n",
              "      <td>23</td>\n",
              "    </tr>\n",
              "    <tr>\n",
              "      <th>14:15:00</th>\n",
              "      <td>IAP</td>\n",
              "      <td>E5</td>\n",
              "      <td>LOGÍSTICA</td>\n",
              "      <td>TRANSPORTE FLORESTAL</td>\n",
              "      <td>LOGÍSTICA</td>\n",
              "      <td>C390</td>\n",
              "      <td>MOTORISTA</td>\n",
              "      <td>14</td>\n",
              "      <td>58.0</td>\n",
              "      <td>2017-11-10</td>\n",
              "      <td>SEXTA-FEIRA</td>\n",
              "      <td>PR-160 - PRÓXIMO À ENTRADA DA LAGOA</td>\n",
              "      <td>ASFALTADA</td>\n",
              "      <td>CURVA</td>\n",
              "      <td>NaN</td>\n",
              "      <td>NaN</td>\n",
              "      <td>BBM-814</td>\n",
              "      <td>NaN</td>\n",
              "      <td>SIM</td>\n",
              "      <td>TRANSPORTE DE MADEIRA</td>\n",
              "      <td>COLABORADOR TRAFEGAVA COM CAMINHÃO DE PREFIXO ...</td>\n",
              "      <td>LPG</td>\n",
              "      <td>7510</td>\n",
              "      <td>NaN</td>\n",
              "      <td>NaN</td>\n",
              "      <td>04:00 - 15:00</td>\n",
              "      <td>NaN</td>\n",
              "      <td>NaN</td>\n",
              "      <td>NaN</td>\n",
              "      <td>NaN</td>\n",
              "      <td>NaN</td>\n",
              "      <td>NaN</td>\n",
              "      <td>NaN</td>\n",
              "      <td>NÃO</td>\n",
              "      <td>NÃO</td>\n",
              "      <td>APÓS INVESTIGAÇÃO DA OCORRÊNCIA CONSTATAMOS QU...</td>\n",
              "      <td>14</td>\n",
              "    </tr>\n",
              "  </tbody>\n",
              "</table>\n",
              "</div>"
            ],
            "text/plain": [
              "         CLASSIFICAÇÃO  ... HorarioAcidente\n",
              "HORA                    ...                \n",
              "18:50:00           IAP  ...              18\n",
              "23:00:00           IAP  ...              23\n",
              "14:15:00           IAP  ...              14\n",
              "\n",
              "[3 rows x 37 columns]"
            ]
          },
          "metadata": {
            "tags": []
          },
          "execution_count": 245
        }
      ]
    },
    {
      "cell_type": "code",
      "metadata": {
        "colab": {
          "base_uri": "https://localhost:8080/"
        },
        "id": "Rj4ElWF3M-n3",
        "outputId": "fad2279b-5b35-4365-c883-8563f37f4901"
      },
      "source": [
        "dfOCO_TM_E5.CARGO.value_counts()"
      ],
      "execution_count": 246,
      "outputs": [
        {
          "output_type": "execute_result",
          "data": {
            "text/plain": [
              "MOTORISTA                         16\n",
              "MOTORISTA TRANSPORTE FLORESTAL     2\n",
              "MOTORISTA                          1\n",
              "Name: CARGO, dtype: int64"
            ]
          },
          "metadata": {
            "tags": []
          },
          "execution_count": 246
        }
      ]
    },
    {
      "cell_type": "code",
      "metadata": {
        "colab": {
          "base_uri": "https://localhost:8080/"
        },
        "id": "-VRezoyLM-oa",
        "outputId": "10bef1fb-b96c-4a3d-a305-724f82a17dcc"
      },
      "source": [
        "dfE5_acid_hora = dfOCO_TM_E5.HorarioAcidente.value_counts().sort_index().rename('Acidentes por hora')\r\n",
        "dfE5_acid_hora"
      ],
      "execution_count": 247,
      "outputs": [
        {
          "output_type": "execute_result",
          "data": {
            "text/plain": [
              "2     1\n",
              "3     2\n",
              "4     2\n",
              "5     2\n",
              "6     2\n",
              "10    1\n",
              "14    1\n",
              "18    1\n",
              "19    2\n",
              "20    2\n",
              "22    2\n",
              "23    1\n",
              "Name: Acidentes por hora, dtype: int64"
            ]
          },
          "metadata": {
            "tags": []
          },
          "execution_count": 247
        }
      ]
    },
    {
      "cell_type": "markdown",
      "metadata": {
        "id": "j7yXj0ljT09j"
      },
      "source": [
        "**DF final E5**"
      ]
    },
    {
      "cell_type": "code",
      "metadata": {
        "colab": {
          "base_uri": "https://localhost:8080/",
          "height": 824
        },
        "id": "JKNKFhENT09-",
        "outputId": "db720639-a267-4070-fe92-c2cb8edd2c03"
      },
      "source": [
        "dfE5_final = pd.DataFrame(dfE5_motoristas_hora['N° de motoristas'])\r\n",
        "dfE5_final['Olho_fechado'] = pd.DataFrame(dfE5_of_final)\r\n",
        "dfE5_final['Bocejo'] = pd.DataFrame(dfE5_b_final)\r\n",
        "dfE5_final['Acidentes'] = pd.DataFrame(dfE5_acid_hora)\r\n",
        "dfE5_final.fillna(0, inplace=True)\r\n",
        "dfE5_final['Acidentes'] = dfE5_final.Acidentes.astype('int64')\r\n",
        "dfE5_final"
      ],
      "execution_count": 252,
      "outputs": [
        {
          "output_type": "execute_result",
          "data": {
            "text/html": [
              "<div>\n",
              "<style scoped>\n",
              "    .dataframe tbody tr th:only-of-type {\n",
              "        vertical-align: middle;\n",
              "    }\n",
              "\n",
              "    .dataframe tbody tr th {\n",
              "        vertical-align: top;\n",
              "    }\n",
              "\n",
              "    .dataframe thead th {\n",
              "        text-align: right;\n",
              "    }\n",
              "</style>\n",
              "<table border=\"1\" class=\"dataframe\">\n",
              "  <thead>\n",
              "    <tr style=\"text-align: right;\">\n",
              "      <th></th>\n",
              "      <th>N° de motoristas</th>\n",
              "      <th>Olho_fechado</th>\n",
              "      <th>Bocejo</th>\n",
              "      <th>Acidentes</th>\n",
              "    </tr>\n",
              "    <tr>\n",
              "      <th>HORA</th>\n",
              "      <th></th>\n",
              "      <th></th>\n",
              "      <th></th>\n",
              "      <th></th>\n",
              "    </tr>\n",
              "  </thead>\n",
              "  <tbody>\n",
              "    <tr>\n",
              "      <th>0</th>\n",
              "      <td>84</td>\n",
              "      <td>278</td>\n",
              "      <td>1915</td>\n",
              "      <td>0</td>\n",
              "    </tr>\n",
              "    <tr>\n",
              "      <th>1</th>\n",
              "      <td>87</td>\n",
              "      <td>329</td>\n",
              "      <td>2133</td>\n",
              "      <td>0</td>\n",
              "    </tr>\n",
              "    <tr>\n",
              "      <th>2</th>\n",
              "      <td>83</td>\n",
              "      <td>384</td>\n",
              "      <td>2342</td>\n",
              "      <td>1</td>\n",
              "    </tr>\n",
              "    <tr>\n",
              "      <th>3</th>\n",
              "      <td>83</td>\n",
              "      <td>473</td>\n",
              "      <td>2372</td>\n",
              "      <td>2</td>\n",
              "    </tr>\n",
              "    <tr>\n",
              "      <th>4</th>\n",
              "      <td>80</td>\n",
              "      <td>586</td>\n",
              "      <td>2362</td>\n",
              "      <td>2</td>\n",
              "    </tr>\n",
              "    <tr>\n",
              "      <th>5</th>\n",
              "      <td>77</td>\n",
              "      <td>548</td>\n",
              "      <td>2419</td>\n",
              "      <td>2</td>\n",
              "    </tr>\n",
              "    <tr>\n",
              "      <th>6</th>\n",
              "      <td>81</td>\n",
              "      <td>1174</td>\n",
              "      <td>2564</td>\n",
              "      <td>2</td>\n",
              "    </tr>\n",
              "    <tr>\n",
              "      <th>7</th>\n",
              "      <td>90</td>\n",
              "      <td>1902</td>\n",
              "      <td>2122</td>\n",
              "      <td>0</td>\n",
              "    </tr>\n",
              "    <tr>\n",
              "      <th>8</th>\n",
              "      <td>93</td>\n",
              "      <td>2285</td>\n",
              "      <td>1715</td>\n",
              "      <td>0</td>\n",
              "    </tr>\n",
              "    <tr>\n",
              "      <th>9</th>\n",
              "      <td>96</td>\n",
              "      <td>2363</td>\n",
              "      <td>1315</td>\n",
              "      <td>0</td>\n",
              "    </tr>\n",
              "    <tr>\n",
              "      <th>10</th>\n",
              "      <td>97</td>\n",
              "      <td>2164</td>\n",
              "      <td>1199</td>\n",
              "      <td>1</td>\n",
              "    </tr>\n",
              "    <tr>\n",
              "      <th>11</th>\n",
              "      <td>96</td>\n",
              "      <td>2172</td>\n",
              "      <td>1248</td>\n",
              "      <td>0</td>\n",
              "    </tr>\n",
              "    <tr>\n",
              "      <th>12</th>\n",
              "      <td>95</td>\n",
              "      <td>2231</td>\n",
              "      <td>1691</td>\n",
              "      <td>0</td>\n",
              "    </tr>\n",
              "    <tr>\n",
              "      <th>13</th>\n",
              "      <td>92</td>\n",
              "      <td>2341</td>\n",
              "      <td>1757</td>\n",
              "      <td>0</td>\n",
              "    </tr>\n",
              "    <tr>\n",
              "      <th>14</th>\n",
              "      <td>96</td>\n",
              "      <td>2386</td>\n",
              "      <td>1649</td>\n",
              "      <td>1</td>\n",
              "    </tr>\n",
              "    <tr>\n",
              "      <th>15</th>\n",
              "      <td>92</td>\n",
              "      <td>2092</td>\n",
              "      <td>1408</td>\n",
              "      <td>0</td>\n",
              "    </tr>\n",
              "    <tr>\n",
              "      <th>16</th>\n",
              "      <td>100</td>\n",
              "      <td>1780</td>\n",
              "      <td>1190</td>\n",
              "      <td>0</td>\n",
              "    </tr>\n",
              "    <tr>\n",
              "      <th>17</th>\n",
              "      <td>87</td>\n",
              "      <td>1080</td>\n",
              "      <td>1257</td>\n",
              "      <td>0</td>\n",
              "    </tr>\n",
              "    <tr>\n",
              "      <th>18</th>\n",
              "      <td>82</td>\n",
              "      <td>419</td>\n",
              "      <td>1384</td>\n",
              "      <td>1</td>\n",
              "    </tr>\n",
              "    <tr>\n",
              "      <th>19</th>\n",
              "      <td>70</td>\n",
              "      <td>266</td>\n",
              "      <td>1187</td>\n",
              "      <td>2</td>\n",
              "    </tr>\n",
              "    <tr>\n",
              "      <th>20</th>\n",
              "      <td>72</td>\n",
              "      <td>225</td>\n",
              "      <td>1191</td>\n",
              "      <td>2</td>\n",
              "    </tr>\n",
              "    <tr>\n",
              "      <th>21</th>\n",
              "      <td>75</td>\n",
              "      <td>212</td>\n",
              "      <td>1322</td>\n",
              "      <td>0</td>\n",
              "    </tr>\n",
              "    <tr>\n",
              "      <th>22</th>\n",
              "      <td>86</td>\n",
              "      <td>274</td>\n",
              "      <td>1583</td>\n",
              "      <td>2</td>\n",
              "    </tr>\n",
              "    <tr>\n",
              "      <th>23</th>\n",
              "      <td>76</td>\n",
              "      <td>236</td>\n",
              "      <td>1575</td>\n",
              "      <td>1</td>\n",
              "    </tr>\n",
              "  </tbody>\n",
              "</table>\n",
              "</div>"
            ],
            "text/plain": [
              "      N° de motoristas  Olho_fechado  Bocejo  Acidentes\n",
              "HORA                                                   \n",
              "0                   84           278    1915          0\n",
              "1                   87           329    2133          0\n",
              "2                   83           384    2342          1\n",
              "3                   83           473    2372          2\n",
              "4                   80           586    2362          2\n",
              "5                   77           548    2419          2\n",
              "6                   81          1174    2564          2\n",
              "7                   90          1902    2122          0\n",
              "8                   93          2285    1715          0\n",
              "9                   96          2363    1315          0\n",
              "10                  97          2164    1199          1\n",
              "11                  96          2172    1248          0\n",
              "12                  95          2231    1691          0\n",
              "13                  92          2341    1757          0\n",
              "14                  96          2386    1649          1\n",
              "15                  92          2092    1408          0\n",
              "16                 100          1780    1190          0\n",
              "17                  87          1080    1257          0\n",
              "18                  82           419    1384          1\n",
              "19                  70           266    1187          2\n",
              "20                  72           225    1191          2\n",
              "21                  75           212    1322          0\n",
              "22                  86           274    1583          2\n",
              "23                  76           236    1575          1"
            ]
          },
          "metadata": {
            "tags": []
          },
          "execution_count": 252
        }
      ]
    },
    {
      "cell_type": "markdown",
      "metadata": {
        "id": "-CWTijrd8KY-"
      },
      "source": [
        "### **Visualização**"
      ]
    },
    {
      "cell_type": "code",
      "metadata": {
        "colab": {
          "base_uri": "https://localhost:8080/",
          "height": 142
        },
        "id": "zp_19z2bBKo8",
        "outputId": "fe122435-d245-4df3-a412-61fa5e777094"
      },
      "source": [
        "dfE5_of.head(3)"
      ],
      "execution_count": 323,
      "outputs": [
        {
          "output_type": "execute_result",
          "data": {
            "text/html": [
              "<div>\n",
              "<style scoped>\n",
              "    .dataframe tbody tr th:only-of-type {\n",
              "        vertical-align: middle;\n",
              "    }\n",
              "\n",
              "    .dataframe tbody tr th {\n",
              "        vertical-align: top;\n",
              "    }\n",
              "\n",
              "    .dataframe thead th {\n",
              "        text-align: right;\n",
              "    }\n",
              "</style>\n",
              "<table border=\"1\" class=\"dataframe\">\n",
              "  <thead>\n",
              "    <tr style=\"text-align: right;\">\n",
              "      <th></th>\n",
              "      <th>Nome</th>\n",
              "      <th>DATA</th>\n",
              "      <th>HORA</th>\n",
              "      <th>Tipo de Desatenção</th>\n",
              "      <th>Velocidade</th>\n",
              "    </tr>\n",
              "  </thead>\n",
              "  <tbody>\n",
              "    <tr>\n",
              "      <th>0</th>\n",
              "      <td>NaN</td>\n",
              "      <td>2019-01-04 11:46:41</td>\n",
              "      <td>11</td>\n",
              "      <td>Olho Fechado</td>\n",
              "      <td>57</td>\n",
              "    </tr>\n",
              "    <tr>\n",
              "      <th>1</th>\n",
              "      <td>NaN</td>\n",
              "      <td>2019-01-11 19:11:04</td>\n",
              "      <td>19</td>\n",
              "      <td>Olho Fechado</td>\n",
              "      <td>48</td>\n",
              "    </tr>\n",
              "    <tr>\n",
              "      <th>16</th>\n",
              "      <td>NaN</td>\n",
              "      <td>2019-02-22 08:39:56</td>\n",
              "      <td>8</td>\n",
              "      <td>Olho Fechado</td>\n",
              "      <td>52</td>\n",
              "    </tr>\n",
              "  </tbody>\n",
              "</table>\n",
              "</div>"
            ],
            "text/plain": [
              "   Nome                DATA  HORA Tipo de Desatenção  Velocidade\n",
              "0   NaN 2019-01-04 11:46:41    11       Olho Fechado          57\n",
              "1   NaN 2019-01-11 19:11:04    19       Olho Fechado          48\n",
              "16  NaN 2019-02-22 08:39:56     8       Olho Fechado          52"
            ]
          },
          "metadata": {
            "tags": []
          },
          "execution_count": 323
        }
      ]
    },
    {
      "cell_type": "code",
      "metadata": {
        "colab": {
          "base_uri": "https://localhost:8080/"
        },
        "id": "c62JfU7Y8KZX",
        "outputId": "b7af2653-40b8-47d8-8f97-de931821ae05"
      },
      "source": [
        "counts, bins = np.histogram(dfE5_of['HORA'], bins=range(0, 25, 3))\r\n",
        "counts"
      ],
      "execution_count": 324,
      "outputs": [
        {
          "output_type": "execute_result",
          "data": {
            "text/plain": [
              "array([ 991, 1607, 5361, 6699, 6958, 4952,  910,  722])"
            ]
          },
          "metadata": {
            "tags": []
          },
          "execution_count": 324
        }
      ]
    },
    {
      "cell_type": "code",
      "metadata": {
        "colab": {
          "base_uri": "https://localhost:8080/"
        },
        "id": "cruDLI858KZZ",
        "outputId": "e9f2db4e-8fcf-4cab-e8aa-aab4c2ecf19b"
      },
      "source": [
        "b = np.array(dfE5_final['N° de motoristas'])\r\n",
        "b"
      ],
      "execution_count": 325,
      "outputs": [
        {
          "output_type": "execute_result",
          "data": {
            "text/plain": [
              "array([ 84,  87,  83,  83,  80,  77,  81,  90,  93,  96,  97,  96,  95,\n",
              "        92,  96,  92, 100,  87,  82,  70,  72,  75,  86,  76])"
            ]
          },
          "metadata": {
            "tags": []
          },
          "execution_count": 325
        }
      ]
    },
    {
      "cell_type": "code",
      "metadata": {
        "colab": {
          "base_uri": "https://localhost:8080/"
        },
        "id": "wYPUEF208KZZ",
        "outputId": "cb2911d6-69da-473f-eb10-cd37d9c8fd38"
      },
      "source": [
        "c = b.reshape((8,3)).sum(axis=1)\r\n",
        "c"
      ],
      "execution_count": 326,
      "outputs": [
        {
          "output_type": "execute_result",
          "data": {
            "text/plain": [
              "array([254, 240, 264, 289, 283, 279, 224, 237])"
            ]
          },
          "metadata": {
            "tags": []
          },
          "execution_count": 326
        }
      ]
    },
    {
      "cell_type": "code",
      "metadata": {
        "colab": {
          "base_uri": "https://localhost:8080/",
          "height": 542
        },
        "id": "yS-dEX9d8KZa",
        "outputId": "1d8f9417-62db-42f1-b036-30ffae7c0bd4"
      },
      "source": [
        "graphics_plot(y = [counts, counts/c], name = ['Events(raw)', 'Events/Drivers'],\r\n",
        "              title = \"Events company E5 (Olho fechado)\", yaxes_title = [\"Raw\", \"Rate\"])"
      ],
      "execution_count": 327,
      "outputs": [
        {
          "output_type": "display_data",
          "data": {
            "text/html": [
              "<html>\n",
              "<head><meta charset=\"utf-8\" /></head>\n",
              "<body>\n",
              "    <div>            <script src=\"https://cdnjs.cloudflare.com/ajax/libs/mathjax/2.7.5/MathJax.js?config=TeX-AMS-MML_SVG\"></script><script type=\"text/javascript\">if (window.MathJax) {MathJax.Hub.Config({SVG: {font: \"STIX-Web\"}});}</script>                <script type=\"text/javascript\">window.PlotlyConfig = {MathJaxConfig: 'local'};</script>\n",
              "        <script src=\"https://cdn.plot.ly/plotly-latest.min.js\"></script>                <div id=\"b666fff2-bde3-44f8-b44f-b5f763991e6e\" class=\"plotly-graph-div\" style=\"height:525px; width:100%;\"></div>            <script type=\"text/javascript\">                                    window.PLOTLYENV=window.PLOTLYENV || {};                                    if (document.getElementById(\"b666fff2-bde3-44f8-b44f-b5f763991e6e\")) {                    Plotly.newPlot(                        \"b666fff2-bde3-44f8-b44f-b5f763991e6e\",                        [{\"line\": {\"color\": \"rgb(0, 0, 0)\", \"width\": 2}, \"marker\": {\"size\": 7, \"symbol\": \"x\"}, \"mode\": \"lines+markers\", \"name\": \"Events(raw)\", \"type\": \"scatter\", \"x\": [0.0, 3.0, 6.0, 9.0, 12.0, 15.0, 18.0, 21.0, 24.0], \"xaxis\": \"x\", \"y\": [991, 1607, 5361, 6699, 6958, 4952, 910, 722], \"yaxis\": \"y\"}, {\"line\": {\"color\": \"rgb(0, 0, 0)\", \"dash\": \"dash\", \"width\": 2}, \"marker\": {\"size\": 7, \"symbol\": \"star\"}, \"mode\": \"lines+markers\", \"name\": \"Events/Drivers\", \"type\": \"scatter\", \"x\": [0.0, 3.0, 6.0, 9.0, 12.0, 15.0, 18.0, 21.0, 24.0], \"xaxis\": \"x\", \"y\": [3.9015748031496065, 6.695833333333334, 20.306818181818183, 23.17993079584775, 24.586572438162545, 17.74910394265233, 4.0625, 3.0464135021097047], \"yaxis\": \"y2\"}],                        {\"paper_bgcolor\": \"rgba(0,0,0,0)\", \"plot_bgcolor\": \"rgba(0,0,0,0)\", \"template\": {\"data\": {\"bar\": [{\"error_x\": {\"color\": \"#2a3f5f\"}, \"error_y\": {\"color\": \"#2a3f5f\"}, \"marker\": {\"line\": {\"color\": \"#E5ECF6\", \"width\": 0.5}}, \"type\": \"bar\"}], \"barpolar\": [{\"marker\": {\"line\": {\"color\": \"#E5ECF6\", \"width\": 0.5}}, \"type\": \"barpolar\"}], \"carpet\": [{\"aaxis\": {\"endlinecolor\": \"#2a3f5f\", \"gridcolor\": \"white\", \"linecolor\": \"white\", \"minorgridcolor\": \"white\", \"startlinecolor\": \"#2a3f5f\"}, \"baxis\": {\"endlinecolor\": \"#2a3f5f\", \"gridcolor\": \"white\", \"linecolor\": \"white\", \"minorgridcolor\": \"white\", \"startlinecolor\": \"#2a3f5f\"}, \"type\": \"carpet\"}], \"choropleth\": [{\"colorbar\": {\"outlinewidth\": 0, \"ticks\": \"\"}, \"type\": \"choropleth\"}], \"contour\": [{\"colorbar\": {\"outlinewidth\": 0, \"ticks\": \"\"}, \"colorscale\": [[0.0, \"#0d0887\"], [0.1111111111111111, \"#46039f\"], [0.2222222222222222, \"#7201a8\"], [0.3333333333333333, \"#9c179e\"], [0.4444444444444444, \"#bd3786\"], [0.5555555555555556, \"#d8576b\"], [0.6666666666666666, \"#ed7953\"], [0.7777777777777778, \"#fb9f3a\"], [0.8888888888888888, \"#fdca26\"], [1.0, \"#f0f921\"]], \"type\": \"contour\"}], \"contourcarpet\": [{\"colorbar\": {\"outlinewidth\": 0, \"ticks\": \"\"}, \"type\": \"contourcarpet\"}], \"heatmap\": [{\"colorbar\": {\"outlinewidth\": 0, \"ticks\": \"\"}, \"colorscale\": [[0.0, \"#0d0887\"], [0.1111111111111111, \"#46039f\"], [0.2222222222222222, \"#7201a8\"], [0.3333333333333333, \"#9c179e\"], [0.4444444444444444, \"#bd3786\"], [0.5555555555555556, \"#d8576b\"], [0.6666666666666666, \"#ed7953\"], [0.7777777777777778, \"#fb9f3a\"], [0.8888888888888888, \"#fdca26\"], [1.0, \"#f0f921\"]], \"type\": \"heatmap\"}], \"heatmapgl\": [{\"colorbar\": {\"outlinewidth\": 0, \"ticks\": \"\"}, \"colorscale\": [[0.0, \"#0d0887\"], [0.1111111111111111, \"#46039f\"], [0.2222222222222222, \"#7201a8\"], [0.3333333333333333, \"#9c179e\"], [0.4444444444444444, \"#bd3786\"], [0.5555555555555556, \"#d8576b\"], [0.6666666666666666, \"#ed7953\"], [0.7777777777777778, \"#fb9f3a\"], [0.8888888888888888, \"#fdca26\"], [1.0, \"#f0f921\"]], \"type\": \"heatmapgl\"}], \"histogram\": [{\"marker\": {\"colorbar\": {\"outlinewidth\": 0, \"ticks\": \"\"}}, \"type\": \"histogram\"}], \"histogram2d\": [{\"colorbar\": {\"outlinewidth\": 0, \"ticks\": \"\"}, \"colorscale\": [[0.0, \"#0d0887\"], [0.1111111111111111, \"#46039f\"], [0.2222222222222222, \"#7201a8\"], [0.3333333333333333, \"#9c179e\"], [0.4444444444444444, \"#bd3786\"], [0.5555555555555556, \"#d8576b\"], [0.6666666666666666, \"#ed7953\"], [0.7777777777777778, \"#fb9f3a\"], [0.8888888888888888, \"#fdca26\"], [1.0, \"#f0f921\"]], \"type\": \"histogram2d\"}], \"histogram2dcontour\": [{\"colorbar\": {\"outlinewidth\": 0, \"ticks\": \"\"}, \"colorscale\": [[0.0, \"#0d0887\"], [0.1111111111111111, \"#46039f\"], [0.2222222222222222, \"#7201a8\"], [0.3333333333333333, \"#9c179e\"], [0.4444444444444444, \"#bd3786\"], [0.5555555555555556, \"#d8576b\"], [0.6666666666666666, \"#ed7953\"], [0.7777777777777778, \"#fb9f3a\"], [0.8888888888888888, \"#fdca26\"], [1.0, \"#f0f921\"]], \"type\": \"histogram2dcontour\"}], \"mesh3d\": [{\"colorbar\": {\"outlinewidth\": 0, \"ticks\": \"\"}, \"type\": \"mesh3d\"}], \"parcoords\": [{\"line\": {\"colorbar\": {\"outlinewidth\": 0, \"ticks\": \"\"}}, \"type\": \"parcoords\"}], \"pie\": [{\"automargin\": true, \"type\": \"pie\"}], \"scatter\": [{\"marker\": {\"colorbar\": {\"outlinewidth\": 0, \"ticks\": \"\"}}, \"type\": \"scatter\"}], \"scatter3d\": [{\"line\": {\"colorbar\": {\"outlinewidth\": 0, \"ticks\": \"\"}}, \"marker\": {\"colorbar\": {\"outlinewidth\": 0, \"ticks\": \"\"}}, \"type\": \"scatter3d\"}], \"scattercarpet\": [{\"marker\": {\"colorbar\": {\"outlinewidth\": 0, \"ticks\": \"\"}}, \"type\": \"scattercarpet\"}], \"scattergeo\": [{\"marker\": {\"colorbar\": {\"outlinewidth\": 0, \"ticks\": \"\"}}, \"type\": \"scattergeo\"}], \"scattergl\": [{\"marker\": {\"colorbar\": {\"outlinewidth\": 0, \"ticks\": \"\"}}, \"type\": \"scattergl\"}], \"scattermapbox\": [{\"marker\": {\"colorbar\": {\"outlinewidth\": 0, \"ticks\": \"\"}}, \"type\": \"scattermapbox\"}], \"scatterpolar\": [{\"marker\": {\"colorbar\": {\"outlinewidth\": 0, \"ticks\": \"\"}}, \"type\": \"scatterpolar\"}], \"scatterpolargl\": [{\"marker\": {\"colorbar\": {\"outlinewidth\": 0, \"ticks\": \"\"}}, \"type\": \"scatterpolargl\"}], \"scatterternary\": [{\"marker\": {\"colorbar\": {\"outlinewidth\": 0, \"ticks\": \"\"}}, \"type\": \"scatterternary\"}], \"surface\": [{\"colorbar\": {\"outlinewidth\": 0, \"ticks\": \"\"}, \"colorscale\": [[0.0, \"#0d0887\"], [0.1111111111111111, \"#46039f\"], [0.2222222222222222, \"#7201a8\"], [0.3333333333333333, \"#9c179e\"], [0.4444444444444444, \"#bd3786\"], [0.5555555555555556, \"#d8576b\"], [0.6666666666666666, \"#ed7953\"], [0.7777777777777778, \"#fb9f3a\"], [0.8888888888888888, \"#fdca26\"], [1.0, \"#f0f921\"]], \"type\": \"surface\"}], \"table\": [{\"cells\": {\"fill\": {\"color\": \"#EBF0F8\"}, \"line\": {\"color\": \"white\"}}, \"header\": {\"fill\": {\"color\": \"#C8D4E3\"}, \"line\": {\"color\": \"white\"}}, \"type\": \"table\"}]}, \"layout\": {\"annotationdefaults\": {\"arrowcolor\": \"#2a3f5f\", \"arrowhead\": 0, \"arrowwidth\": 1}, \"autotypenumbers\": \"strict\", \"coloraxis\": {\"colorbar\": {\"outlinewidth\": 0, \"ticks\": \"\"}}, \"colorscale\": {\"diverging\": [[0, \"#8e0152\"], [0.1, \"#c51b7d\"], [0.2, \"#de77ae\"], [0.3, \"#f1b6da\"], [0.4, \"#fde0ef\"], [0.5, \"#f7f7f7\"], [0.6, \"#e6f5d0\"], [0.7, \"#b8e186\"], [0.8, \"#7fbc41\"], [0.9, \"#4d9221\"], [1, \"#276419\"]], \"sequential\": [[0.0, \"#0d0887\"], [0.1111111111111111, \"#46039f\"], [0.2222222222222222, \"#7201a8\"], [0.3333333333333333, \"#9c179e\"], [0.4444444444444444, \"#bd3786\"], [0.5555555555555556, \"#d8576b\"], [0.6666666666666666, \"#ed7953\"], [0.7777777777777778, \"#fb9f3a\"], [0.8888888888888888, \"#fdca26\"], [1.0, \"#f0f921\"]], \"sequentialminus\": [[0.0, \"#0d0887\"], [0.1111111111111111, \"#46039f\"], [0.2222222222222222, \"#7201a8\"], [0.3333333333333333, \"#9c179e\"], [0.4444444444444444, \"#bd3786\"], [0.5555555555555556, \"#d8576b\"], [0.6666666666666666, \"#ed7953\"], [0.7777777777777778, \"#fb9f3a\"], [0.8888888888888888, \"#fdca26\"], [1.0, \"#f0f921\"]]}, \"colorway\": [\"#636efa\", \"#EF553B\", \"#00cc96\", \"#ab63fa\", \"#FFA15A\", \"#19d3f3\", \"#FF6692\", \"#B6E880\", \"#FF97FF\", \"#FECB52\"], \"font\": {\"color\": \"#2a3f5f\"}, \"geo\": {\"bgcolor\": \"white\", \"lakecolor\": \"white\", \"landcolor\": \"#E5ECF6\", \"showlakes\": true, \"showland\": true, \"subunitcolor\": \"white\"}, \"hoverlabel\": {\"align\": \"left\"}, \"hovermode\": \"closest\", \"mapbox\": {\"style\": \"light\"}, \"paper_bgcolor\": \"white\", \"plot_bgcolor\": \"#E5ECF6\", \"polar\": {\"angularaxis\": {\"gridcolor\": \"white\", \"linecolor\": \"white\", \"ticks\": \"\"}, \"bgcolor\": \"#E5ECF6\", \"radialaxis\": {\"gridcolor\": \"white\", \"linecolor\": \"white\", \"ticks\": \"\"}}, \"scene\": {\"xaxis\": {\"backgroundcolor\": \"#E5ECF6\", \"gridcolor\": \"white\", \"gridwidth\": 2, \"linecolor\": \"white\", \"showbackground\": true, \"ticks\": \"\", \"zerolinecolor\": \"white\"}, \"yaxis\": {\"backgroundcolor\": \"#E5ECF6\", \"gridcolor\": \"white\", \"gridwidth\": 2, \"linecolor\": \"white\", \"showbackground\": true, \"ticks\": \"\", \"zerolinecolor\": \"white\"}, \"zaxis\": {\"backgroundcolor\": \"#E5ECF6\", \"gridcolor\": \"white\", \"gridwidth\": 2, \"linecolor\": \"white\", \"showbackground\": true, \"ticks\": \"\", \"zerolinecolor\": \"white\"}}, \"shapedefaults\": {\"line\": {\"color\": \"#2a3f5f\"}}, \"ternary\": {\"aaxis\": {\"gridcolor\": \"white\", \"linecolor\": \"white\", \"ticks\": \"\"}, \"baxis\": {\"gridcolor\": \"white\", \"linecolor\": \"white\", \"ticks\": \"\"}, \"bgcolor\": \"#E5ECF6\", \"caxis\": {\"gridcolor\": \"white\", \"linecolor\": \"white\", \"ticks\": \"\"}}, \"title\": {\"x\": 0.05}, \"xaxis\": {\"automargin\": true, \"gridcolor\": \"white\", \"linecolor\": \"white\", \"ticks\": \"\", \"title\": {\"standoff\": 15}, \"zerolinecolor\": \"white\", \"zerolinewidth\": 2}, \"yaxis\": {\"automargin\": true, \"gridcolor\": \"white\", \"linecolor\": \"white\", \"ticks\": \"\", \"title\": {\"standoff\": 15}, \"zerolinecolor\": \"white\", \"zerolinewidth\": 2}}}, \"title\": {\"text\": \"Events company E5 (Olho fechado)\"}, \"xaxis\": {\"anchor\": \"y\", \"domain\": [0.0, 0.94], \"dtick\": 3, \"gridcolor\": \"black\", \"gridwidth\": 1, \"linecolor\": \"black\", \"linewidth\": 2, \"mirror\": true, \"showgrid\": true, \"showline\": true, \"tick0\": 0, \"tickmode\": \"linear\", \"title\": {\"text\": \"Time of day\"}}, \"yaxis\": {\"anchor\": \"x\", \"domain\": [0.0, 1.0], \"gridcolor\": \"black\", \"gridwidth\": 1, \"linecolor\": \"black\", \"linewidth\": 2, \"mirror\": true, \"showgrid\": false, \"showline\": true, \"title\": {\"text\": \"<b>Raw</b>\"}}, \"yaxis2\": {\"anchor\": \"x\", \"gridcolor\": \"black\", \"gridwidth\": 1, \"linecolor\": \"black\", \"linewidth\": 2, \"mirror\": true, \"overlaying\": \"y\", \"showgrid\": false, \"showline\": true, \"side\": \"right\", \"title\": {\"text\": \"<b>Rate</b>\"}}},                        {\"responsive\": true}                    ).then(function(){\n",
              "                            \n",
              "var gd = document.getElementById('b666fff2-bde3-44f8-b44f-b5f763991e6e');\n",
              "var x = new MutationObserver(function (mutations, observer) {{\n",
              "        var display = window.getComputedStyle(gd).display;\n",
              "        if (!display || display === 'none') {{\n",
              "            console.log([gd, 'removed!']);\n",
              "            Plotly.purge(gd);\n",
              "            observer.disconnect();\n",
              "        }}\n",
              "}});\n",
              "\n",
              "// Listen for the removal of the full notebook cells\n",
              "var notebookContainer = gd.closest('#notebook-container');\n",
              "if (notebookContainer) {{\n",
              "    x.observe(notebookContainer, {childList: true});\n",
              "}}\n",
              "\n",
              "// Listen for the clearing of the current output cell\n",
              "var outputEl = gd.closest('.output');\n",
              "if (outputEl) {{\n",
              "    x.observe(outputEl, {childList: true});\n",
              "}}\n",
              "\n",
              "                        })                };                            </script>        </div>\n",
              "</body>\n",
              "</html>"
            ]
          },
          "metadata": {
            "tags": []
          }
        }
      ]
    },
    {
      "cell_type": "code",
      "metadata": {
        "colab": {
          "base_uri": "https://localhost:8080/",
          "height": 142
        },
        "id": "oYgdsxHNCMW4",
        "outputId": "27d2d94b-8c68-4c16-cdbc-329a20786783"
      },
      "source": [
        "dfE5_b.head(3)"
      ],
      "execution_count": 340,
      "outputs": [
        {
          "output_type": "execute_result",
          "data": {
            "text/html": [
              "<div>\n",
              "<style scoped>\n",
              "    .dataframe tbody tr th:only-of-type {\n",
              "        vertical-align: middle;\n",
              "    }\n",
              "\n",
              "    .dataframe tbody tr th {\n",
              "        vertical-align: top;\n",
              "    }\n",
              "\n",
              "    .dataframe thead th {\n",
              "        text-align: right;\n",
              "    }\n",
              "</style>\n",
              "<table border=\"1\" class=\"dataframe\">\n",
              "  <thead>\n",
              "    <tr style=\"text-align: right;\">\n",
              "      <th></th>\n",
              "      <th>Nome</th>\n",
              "      <th>DATA</th>\n",
              "      <th>HORA</th>\n",
              "      <th>Tipo de Desatenção</th>\n",
              "      <th>Velocidade</th>\n",
              "    </tr>\n",
              "  </thead>\n",
              "  <tbody>\n",
              "    <tr>\n",
              "      <th>2</th>\n",
              "      <td>NaN</td>\n",
              "      <td>2019-02-20 02:49:08</td>\n",
              "      <td>2</td>\n",
              "      <td>Bocejo</td>\n",
              "      <td>58</td>\n",
              "    </tr>\n",
              "    <tr>\n",
              "      <th>3</th>\n",
              "      <td>NaN</td>\n",
              "      <td>2019-02-21 05:40:30</td>\n",
              "      <td>5</td>\n",
              "      <td>Bocejo</td>\n",
              "      <td>49</td>\n",
              "    </tr>\n",
              "    <tr>\n",
              "      <th>4</th>\n",
              "      <td>NaN</td>\n",
              "      <td>2019-02-21 05:54:02</td>\n",
              "      <td>5</td>\n",
              "      <td>Bocejo</td>\n",
              "      <td>41</td>\n",
              "    </tr>\n",
              "  </tbody>\n",
              "</table>\n",
              "</div>"
            ],
            "text/plain": [
              "  Nome                DATA  HORA Tipo de Desatenção  Velocidade\n",
              "2  NaN 2019-02-20 02:49:08     2             Bocejo          58\n",
              "3  NaN 2019-02-21 05:40:30     5             Bocejo          49\n",
              "4  NaN 2019-02-21 05:54:02     5             Bocejo          41"
            ]
          },
          "metadata": {
            "tags": []
          },
          "execution_count": 340
        }
      ]
    },
    {
      "cell_type": "code",
      "metadata": {
        "colab": {
          "base_uri": "https://localhost:8080/"
        },
        "id": "HUFD-pEuC339",
        "outputId": "b83b7acf-743f-4c8e-c5a8-e1ab6226679d"
      },
      "source": [
        "np.histogram(dfE5_b['HORA'], bins=range(0, 25, 1))"
      ],
      "execution_count": 341,
      "outputs": [
        {
          "output_type": "execute_result",
          "data": {
            "text/plain": [
              "(array([1915, 2133, 2342, 2372, 2362, 2419, 2564, 2122, 1715, 1315, 1199,\n",
              "        1248, 1691, 1757, 1649, 1408, 1190, 1257, 1384, 1187, 1191, 1322,\n",
              "        1583, 1575]),\n",
              " array([ 0,  1,  2,  3,  4,  5,  6,  7,  8,  9, 10, 11, 12, 13, 14, 15, 16,\n",
              "        17, 18, 19, 20, 21, 22, 23, 24]))"
            ]
          },
          "metadata": {
            "tags": []
          },
          "execution_count": 341
        }
      ]
    },
    {
      "cell_type": "code",
      "metadata": {
        "colab": {
          "base_uri": "https://localhost:8080/"
        },
        "id": "8tmouNlrCMXE",
        "outputId": "603c74d9-acb9-4090-9007-dfaf3cd98e83"
      },
      "source": [
        "counts, bins = np.histogram(dfE5_b['HORA'], bins=range(0, 25, 1))\r\n",
        "counts"
      ],
      "execution_count": 342,
      "outputs": [
        {
          "output_type": "execute_result",
          "data": {
            "text/plain": [
              "array([1915, 2133, 2342, 2372, 2362, 2419, 2564, 2122, 1715, 1315, 1199,\n",
              "       1248, 1691, 1757, 1649, 1408, 1190, 1257, 1384, 1187, 1191, 1322,\n",
              "       1583, 1575])"
            ]
          },
          "metadata": {
            "tags": []
          },
          "execution_count": 342
        }
      ]
    },
    {
      "cell_type": "code",
      "metadata": {
        "colab": {
          "base_uri": "https://localhost:8080/"
        },
        "id": "XarDrsI4Cpqc",
        "outputId": "4c4c024b-48ec-452a-ac9d-9d4dd313da7b"
      },
      "source": [
        "b = np.roll(counts, 1)\r\n",
        "counts = b.reshape((8,3)).sum(axis=1)\r\n",
        "counts"
      ],
      "execution_count": 343,
      "outputs": [
        {
          "output_type": "execute_result",
          "data": {
            "text/plain": [
              "array([5623, 7076, 7105, 4229, 4696, 4247, 3828, 4096])"
            ]
          },
          "metadata": {
            "tags": []
          },
          "execution_count": 343
        }
      ]
    },
    {
      "cell_type": "code",
      "metadata": {
        "colab": {
          "base_uri": "https://localhost:8080/"
        },
        "id": "vsiN1dDbCMXE",
        "outputId": "94250c1e-4c19-476c-bcd2-1bafa7e08b85"
      },
      "source": [
        "b = np.array(dfE5_final['N° de motoristas'])\r\n",
        "b = np.roll(b, 1)\r\n",
        "b"
      ],
      "execution_count": 344,
      "outputs": [
        {
          "output_type": "execute_result",
          "data": {
            "text/plain": [
              "array([ 76,  84,  87,  83,  83,  80,  77,  81,  90,  93,  96,  97,  96,\n",
              "        95,  92,  96,  92, 100,  87,  82,  70,  72,  75,  86])"
            ]
          },
          "metadata": {
            "tags": []
          },
          "execution_count": 344
        }
      ]
    },
    {
      "cell_type": "code",
      "metadata": {
        "colab": {
          "base_uri": "https://localhost:8080/"
        },
        "id": "_72-q8SHCMXF",
        "outputId": "a4478fe1-864b-4c95-e9c2-2c2d6dd2c27e"
      },
      "source": [
        "c = b.reshape((8,3)).sum(axis=1)\r\n",
        "c"
      ],
      "execution_count": 345,
      "outputs": [
        {
          "output_type": "execute_result",
          "data": {
            "text/plain": [
              "array([247, 246, 248, 286, 283, 288, 239, 233])"
            ]
          },
          "metadata": {
            "tags": []
          },
          "execution_count": 345
        }
      ]
    },
    {
      "cell_type": "code",
      "metadata": {
        "colab": {
          "base_uri": "https://localhost:8080/",
          "height": 542
        },
        "id": "qi6_wkXdCMXF",
        "outputId": "1933b9cb-debb-4f4f-bcdd-3f955d620b10"
      },
      "source": [
        "graphics_plot(y = [counts, counts/c], name = ['Events(raw)', 'Events/Drivers'],\r\n",
        "              title = \"Events company E5 (Bocejo)\", yaxes_title = [\"Raw\", \"Rate\"])"
      ],
      "execution_count": 346,
      "outputs": [
        {
          "output_type": "display_data",
          "data": {
            "text/html": [
              "<html>\n",
              "<head><meta charset=\"utf-8\" /></head>\n",
              "<body>\n",
              "    <div>            <script src=\"https://cdnjs.cloudflare.com/ajax/libs/mathjax/2.7.5/MathJax.js?config=TeX-AMS-MML_SVG\"></script><script type=\"text/javascript\">if (window.MathJax) {MathJax.Hub.Config({SVG: {font: \"STIX-Web\"}});}</script>                <script type=\"text/javascript\">window.PlotlyConfig = {MathJaxConfig: 'local'};</script>\n",
              "        <script src=\"https://cdn.plot.ly/plotly-latest.min.js\"></script>                <div id=\"4ae4c585-2158-4f6e-8425-9f23325d3e41\" class=\"plotly-graph-div\" style=\"height:525px; width:100%;\"></div>            <script type=\"text/javascript\">                                    window.PLOTLYENV=window.PLOTLYENV || {};                                    if (document.getElementById(\"4ae4c585-2158-4f6e-8425-9f23325d3e41\")) {                    Plotly.newPlot(                        \"4ae4c585-2158-4f6e-8425-9f23325d3e41\",                        [{\"line\": {\"color\": \"rgb(0, 0, 0)\", \"width\": 2}, \"marker\": {\"size\": 7, \"symbol\": \"x\"}, \"mode\": \"lines+markers\", \"name\": \"Events(raw)\", \"type\": \"scatter\", \"x\": [0.0, 3.0, 6.0, 9.0, 12.0, 15.0, 18.0, 21.0, 24.0], \"xaxis\": \"x\", \"y\": [5623, 7076, 7105, 4229, 4696, 4247, 3828, 4096], \"yaxis\": \"y\"}, {\"line\": {\"color\": \"rgb(0, 0, 0)\", \"dash\": \"dash\", \"width\": 2}, \"marker\": {\"size\": 7, \"symbol\": \"star\"}, \"mode\": \"lines+markers\", \"name\": \"Events/Drivers\", \"type\": \"scatter\", \"x\": [0.0, 3.0, 6.0, 9.0, 12.0, 15.0, 18.0, 21.0, 24.0], \"xaxis\": \"x\", \"y\": [22.765182186234817, 28.764227642276424, 28.649193548387096, 14.786713286713287, 16.593639575971732, 14.746527777777779, 16.01673640167364, 17.5793991416309], \"yaxis\": \"y2\"}],                        {\"paper_bgcolor\": \"rgba(0,0,0,0)\", \"plot_bgcolor\": \"rgba(0,0,0,0)\", \"template\": {\"data\": {\"bar\": [{\"error_x\": {\"color\": \"#2a3f5f\"}, \"error_y\": {\"color\": \"#2a3f5f\"}, \"marker\": {\"line\": {\"color\": \"#E5ECF6\", \"width\": 0.5}}, \"type\": \"bar\"}], \"barpolar\": [{\"marker\": {\"line\": {\"color\": \"#E5ECF6\", \"width\": 0.5}}, \"type\": \"barpolar\"}], \"carpet\": [{\"aaxis\": {\"endlinecolor\": \"#2a3f5f\", \"gridcolor\": \"white\", \"linecolor\": \"white\", \"minorgridcolor\": \"white\", \"startlinecolor\": \"#2a3f5f\"}, \"baxis\": {\"endlinecolor\": \"#2a3f5f\", \"gridcolor\": \"white\", \"linecolor\": \"white\", \"minorgridcolor\": \"white\", \"startlinecolor\": \"#2a3f5f\"}, \"type\": \"carpet\"}], \"choropleth\": [{\"colorbar\": {\"outlinewidth\": 0, \"ticks\": \"\"}, \"type\": \"choropleth\"}], \"contour\": [{\"colorbar\": {\"outlinewidth\": 0, \"ticks\": \"\"}, \"colorscale\": [[0.0, \"#0d0887\"], [0.1111111111111111, \"#46039f\"], [0.2222222222222222, \"#7201a8\"], [0.3333333333333333, \"#9c179e\"], [0.4444444444444444, \"#bd3786\"], [0.5555555555555556, \"#d8576b\"], [0.6666666666666666, \"#ed7953\"], [0.7777777777777778, \"#fb9f3a\"], [0.8888888888888888, \"#fdca26\"], [1.0, \"#f0f921\"]], \"type\": \"contour\"}], \"contourcarpet\": [{\"colorbar\": {\"outlinewidth\": 0, \"ticks\": \"\"}, \"type\": \"contourcarpet\"}], \"heatmap\": [{\"colorbar\": {\"outlinewidth\": 0, \"ticks\": \"\"}, \"colorscale\": [[0.0, \"#0d0887\"], [0.1111111111111111, \"#46039f\"], [0.2222222222222222, \"#7201a8\"], [0.3333333333333333, \"#9c179e\"], [0.4444444444444444, \"#bd3786\"], [0.5555555555555556, \"#d8576b\"], [0.6666666666666666, \"#ed7953\"], [0.7777777777777778, \"#fb9f3a\"], [0.8888888888888888, \"#fdca26\"], [1.0, \"#f0f921\"]], \"type\": \"heatmap\"}], \"heatmapgl\": [{\"colorbar\": {\"outlinewidth\": 0, \"ticks\": \"\"}, \"colorscale\": [[0.0, \"#0d0887\"], [0.1111111111111111, \"#46039f\"], [0.2222222222222222, \"#7201a8\"], [0.3333333333333333, \"#9c179e\"], [0.4444444444444444, \"#bd3786\"], [0.5555555555555556, \"#d8576b\"], [0.6666666666666666, \"#ed7953\"], [0.7777777777777778, \"#fb9f3a\"], [0.8888888888888888, \"#fdca26\"], [1.0, \"#f0f921\"]], \"type\": \"heatmapgl\"}], \"histogram\": [{\"marker\": {\"colorbar\": {\"outlinewidth\": 0, \"ticks\": \"\"}}, \"type\": \"histogram\"}], \"histogram2d\": [{\"colorbar\": {\"outlinewidth\": 0, \"ticks\": \"\"}, \"colorscale\": [[0.0, \"#0d0887\"], [0.1111111111111111, \"#46039f\"], [0.2222222222222222, \"#7201a8\"], [0.3333333333333333, \"#9c179e\"], [0.4444444444444444, \"#bd3786\"], [0.5555555555555556, \"#d8576b\"], [0.6666666666666666, \"#ed7953\"], [0.7777777777777778, \"#fb9f3a\"], [0.8888888888888888, \"#fdca26\"], [1.0, \"#f0f921\"]], \"type\": \"histogram2d\"}], \"histogram2dcontour\": [{\"colorbar\": {\"outlinewidth\": 0, \"ticks\": \"\"}, \"colorscale\": [[0.0, \"#0d0887\"], [0.1111111111111111, \"#46039f\"], [0.2222222222222222, \"#7201a8\"], [0.3333333333333333, \"#9c179e\"], [0.4444444444444444, \"#bd3786\"], [0.5555555555555556, \"#d8576b\"], [0.6666666666666666, \"#ed7953\"], [0.7777777777777778, \"#fb9f3a\"], [0.8888888888888888, \"#fdca26\"], [1.0, \"#f0f921\"]], \"type\": \"histogram2dcontour\"}], \"mesh3d\": [{\"colorbar\": {\"outlinewidth\": 0, \"ticks\": \"\"}, \"type\": \"mesh3d\"}], \"parcoords\": [{\"line\": {\"colorbar\": {\"outlinewidth\": 0, \"ticks\": \"\"}}, \"type\": \"parcoords\"}], \"pie\": [{\"automargin\": true, \"type\": \"pie\"}], \"scatter\": [{\"marker\": {\"colorbar\": {\"outlinewidth\": 0, \"ticks\": \"\"}}, \"type\": \"scatter\"}], \"scatter3d\": [{\"line\": {\"colorbar\": {\"outlinewidth\": 0, \"ticks\": \"\"}}, \"marker\": {\"colorbar\": {\"outlinewidth\": 0, \"ticks\": \"\"}}, \"type\": \"scatter3d\"}], \"scattercarpet\": [{\"marker\": {\"colorbar\": {\"outlinewidth\": 0, \"ticks\": \"\"}}, \"type\": \"scattercarpet\"}], \"scattergeo\": [{\"marker\": {\"colorbar\": {\"outlinewidth\": 0, \"ticks\": \"\"}}, \"type\": \"scattergeo\"}], \"scattergl\": [{\"marker\": {\"colorbar\": {\"outlinewidth\": 0, \"ticks\": \"\"}}, \"type\": \"scattergl\"}], \"scattermapbox\": [{\"marker\": {\"colorbar\": {\"outlinewidth\": 0, \"ticks\": \"\"}}, \"type\": \"scattermapbox\"}], \"scatterpolar\": [{\"marker\": {\"colorbar\": {\"outlinewidth\": 0, \"ticks\": \"\"}}, \"type\": \"scatterpolar\"}], \"scatterpolargl\": [{\"marker\": {\"colorbar\": {\"outlinewidth\": 0, \"ticks\": \"\"}}, \"type\": \"scatterpolargl\"}], \"scatterternary\": [{\"marker\": {\"colorbar\": {\"outlinewidth\": 0, \"ticks\": \"\"}}, \"type\": \"scatterternary\"}], \"surface\": [{\"colorbar\": {\"outlinewidth\": 0, \"ticks\": \"\"}, \"colorscale\": [[0.0, \"#0d0887\"], [0.1111111111111111, \"#46039f\"], [0.2222222222222222, \"#7201a8\"], [0.3333333333333333, \"#9c179e\"], [0.4444444444444444, \"#bd3786\"], [0.5555555555555556, \"#d8576b\"], [0.6666666666666666, \"#ed7953\"], [0.7777777777777778, \"#fb9f3a\"], [0.8888888888888888, \"#fdca26\"], [1.0, \"#f0f921\"]], \"type\": \"surface\"}], \"table\": [{\"cells\": {\"fill\": {\"color\": \"#EBF0F8\"}, \"line\": {\"color\": \"white\"}}, \"header\": {\"fill\": {\"color\": \"#C8D4E3\"}, \"line\": {\"color\": \"white\"}}, \"type\": \"table\"}]}, \"layout\": {\"annotationdefaults\": {\"arrowcolor\": \"#2a3f5f\", \"arrowhead\": 0, \"arrowwidth\": 1}, \"autotypenumbers\": \"strict\", \"coloraxis\": {\"colorbar\": {\"outlinewidth\": 0, \"ticks\": \"\"}}, \"colorscale\": {\"diverging\": [[0, \"#8e0152\"], [0.1, \"#c51b7d\"], [0.2, \"#de77ae\"], [0.3, \"#f1b6da\"], [0.4, \"#fde0ef\"], [0.5, \"#f7f7f7\"], [0.6, \"#e6f5d0\"], [0.7, \"#b8e186\"], [0.8, \"#7fbc41\"], [0.9, \"#4d9221\"], [1, \"#276419\"]], \"sequential\": [[0.0, \"#0d0887\"], [0.1111111111111111, \"#46039f\"], [0.2222222222222222, \"#7201a8\"], [0.3333333333333333, \"#9c179e\"], [0.4444444444444444, \"#bd3786\"], [0.5555555555555556, \"#d8576b\"], [0.6666666666666666, \"#ed7953\"], [0.7777777777777778, \"#fb9f3a\"], [0.8888888888888888, \"#fdca26\"], [1.0, \"#f0f921\"]], \"sequentialminus\": [[0.0, \"#0d0887\"], [0.1111111111111111, \"#46039f\"], [0.2222222222222222, \"#7201a8\"], [0.3333333333333333, \"#9c179e\"], [0.4444444444444444, \"#bd3786\"], [0.5555555555555556, \"#d8576b\"], [0.6666666666666666, \"#ed7953\"], [0.7777777777777778, \"#fb9f3a\"], [0.8888888888888888, \"#fdca26\"], [1.0, \"#f0f921\"]]}, \"colorway\": [\"#636efa\", \"#EF553B\", \"#00cc96\", \"#ab63fa\", \"#FFA15A\", \"#19d3f3\", \"#FF6692\", \"#B6E880\", \"#FF97FF\", \"#FECB52\"], \"font\": {\"color\": \"#2a3f5f\"}, \"geo\": {\"bgcolor\": \"white\", \"lakecolor\": \"white\", \"landcolor\": \"#E5ECF6\", \"showlakes\": true, \"showland\": true, \"subunitcolor\": \"white\"}, \"hoverlabel\": {\"align\": \"left\"}, \"hovermode\": \"closest\", \"mapbox\": {\"style\": \"light\"}, \"paper_bgcolor\": \"white\", \"plot_bgcolor\": \"#E5ECF6\", \"polar\": {\"angularaxis\": {\"gridcolor\": \"white\", \"linecolor\": \"white\", \"ticks\": \"\"}, \"bgcolor\": \"#E5ECF6\", \"radialaxis\": {\"gridcolor\": \"white\", \"linecolor\": \"white\", \"ticks\": \"\"}}, \"scene\": {\"xaxis\": {\"backgroundcolor\": \"#E5ECF6\", \"gridcolor\": \"white\", \"gridwidth\": 2, \"linecolor\": \"white\", \"showbackground\": true, \"ticks\": \"\", \"zerolinecolor\": \"white\"}, \"yaxis\": {\"backgroundcolor\": \"#E5ECF6\", \"gridcolor\": \"white\", \"gridwidth\": 2, \"linecolor\": \"white\", \"showbackground\": true, \"ticks\": \"\", \"zerolinecolor\": \"white\"}, \"zaxis\": {\"backgroundcolor\": \"#E5ECF6\", \"gridcolor\": \"white\", \"gridwidth\": 2, \"linecolor\": \"white\", \"showbackground\": true, \"ticks\": \"\", \"zerolinecolor\": \"white\"}}, \"shapedefaults\": {\"line\": {\"color\": \"#2a3f5f\"}}, \"ternary\": {\"aaxis\": {\"gridcolor\": \"white\", \"linecolor\": \"white\", \"ticks\": \"\"}, \"baxis\": {\"gridcolor\": \"white\", \"linecolor\": \"white\", \"ticks\": \"\"}, \"bgcolor\": \"#E5ECF6\", \"caxis\": {\"gridcolor\": \"white\", \"linecolor\": \"white\", \"ticks\": \"\"}}, \"title\": {\"x\": 0.05}, \"xaxis\": {\"automargin\": true, \"gridcolor\": \"white\", \"linecolor\": \"white\", \"ticks\": \"\", \"title\": {\"standoff\": 15}, \"zerolinecolor\": \"white\", \"zerolinewidth\": 2}, \"yaxis\": {\"automargin\": true, \"gridcolor\": \"white\", \"linecolor\": \"white\", \"ticks\": \"\", \"title\": {\"standoff\": 15}, \"zerolinecolor\": \"white\", \"zerolinewidth\": 2}}}, \"title\": {\"text\": \"Events company E5 (Bocejo)\"}, \"xaxis\": {\"anchor\": \"y\", \"domain\": [0.0, 0.94], \"dtick\": 3, \"gridcolor\": \"black\", \"gridwidth\": 1, \"linecolor\": \"black\", \"linewidth\": 2, \"mirror\": true, \"showgrid\": true, \"showline\": true, \"tick0\": 0, \"tickmode\": \"linear\", \"title\": {\"text\": \"Time of day\"}}, \"yaxis\": {\"anchor\": \"x\", \"domain\": [0.0, 1.0], \"gridcolor\": \"black\", \"gridwidth\": 1, \"linecolor\": \"black\", \"linewidth\": 2, \"mirror\": true, \"showgrid\": false, \"showline\": true, \"title\": {\"text\": \"<b>Raw</b>\"}}, \"yaxis2\": {\"anchor\": \"x\", \"gridcolor\": \"black\", \"gridwidth\": 1, \"linecolor\": \"black\", \"linewidth\": 2, \"mirror\": true, \"overlaying\": \"y\", \"showgrid\": false, \"showline\": true, \"side\": \"right\", \"title\": {\"text\": \"<b>Rate</b>\"}}},                        {\"responsive\": true}                    ).then(function(){\n",
              "                            \n",
              "var gd = document.getElementById('4ae4c585-2158-4f6e-8425-9f23325d3e41');\n",
              "var x = new MutationObserver(function (mutations, observer) {{\n",
              "        var display = window.getComputedStyle(gd).display;\n",
              "        if (!display || display === 'none') {{\n",
              "            console.log([gd, 'removed!']);\n",
              "            Plotly.purge(gd);\n",
              "            observer.disconnect();\n",
              "        }}\n",
              "}});\n",
              "\n",
              "// Listen for the removal of the full notebook cells\n",
              "var notebookContainer = gd.closest('#notebook-container');\n",
              "if (notebookContainer) {{\n",
              "    x.observe(notebookContainer, {childList: true});\n",
              "}}\n",
              "\n",
              "// Listen for the clearing of the current output cell\n",
              "var outputEl = gd.closest('.output');\n",
              "if (outputEl) {{\n",
              "    x.observe(outputEl, {childList: true});\n",
              "}}\n",
              "\n",
              "                        })                };                            </script>        </div>\n",
              "</body>\n",
              "</html>"
            ]
          },
          "metadata": {
            "tags": []
          }
        }
      ]
    },
    {
      "cell_type": "markdown",
      "metadata": {
        "id": "XFjFTBmnWXI9"
      },
      "source": [
        "##**E9**"
      ]
    },
    {
      "cell_type": "markdown",
      "metadata": {
        "id": "WxIJsIREAgs6"
      },
      "source": [
        "**Motoristas por hora**"
      ]
    },
    {
      "cell_type": "code",
      "metadata": {
        "colab": {
          "base_uri": "https://localhost:8080/",
          "height": 111
        },
        "id": "L36Kw8ipOfeE",
        "outputId": "a7d9f458-c5ea-47b2-928c-557f8e5cd02b"
      },
      "source": [
        "dfE91.head(2)"
      ],
      "execution_count": 158,
      "outputs": [
        {
          "output_type": "execute_result",
          "data": {
            "text/html": [
              "<div>\n",
              "<style scoped>\n",
              "    .dataframe tbody tr th:only-of-type {\n",
              "        vertical-align: middle;\n",
              "    }\n",
              "\n",
              "    .dataframe tbody tr th {\n",
              "        vertical-align: top;\n",
              "    }\n",
              "\n",
              "    .dataframe thead th {\n",
              "        text-align: right;\n",
              "    }\n",
              "</style>\n",
              "<table border=\"1\" class=\"dataframe\">\n",
              "  <thead>\n",
              "    <tr style=\"text-align: right;\">\n",
              "      <th></th>\n",
              "      <th>Data da ocorrência</th>\n",
              "      <th>dia</th>\n",
              "      <th>mês</th>\n",
              "      <th>Tipo</th>\n",
              "      <th>Velocidade</th>\n",
              "      <th>Tratativa</th>\n",
              "      <th>Placa</th>\n",
              "      <th>Motorista</th>\n",
              "      <th>Unnamed: 8</th>\n",
              "    </tr>\n",
              "  </thead>\n",
              "  <tbody>\n",
              "    <tr>\n",
              "      <th>0</th>\n",
              "      <td>2019-04-23 22:59:00</td>\n",
              "      <td>2019-04-23</td>\n",
              "      <td>2019-04-23</td>\n",
              "      <td>Yawn-Warning</td>\n",
              "      <td>35</td>\n",
              "      <td>NaN</td>\n",
              "      <td>PLP3I10</td>\n",
              "      <td>NaN</td>\n",
              "      <td>NaN</td>\n",
              "    </tr>\n",
              "    <tr>\n",
              "      <th>1</th>\n",
              "      <td>2019-04-23 19:46:00</td>\n",
              "      <td>2019-04-23</td>\n",
              "      <td>2019-04-23</td>\n",
              "      <td>Yawn-Warning</td>\n",
              "      <td>62</td>\n",
              "      <td>NaN</td>\n",
              "      <td>PLP3I10</td>\n",
              "      <td>NaN</td>\n",
              "      <td>NaN</td>\n",
              "    </tr>\n",
              "  </tbody>\n",
              "</table>\n",
              "</div>"
            ],
            "text/plain": [
              "   Data da ocorrência        dia        mês  ...    Placa  Motorista Unnamed: 8\n",
              "0 2019-04-23 22:59:00 2019-04-23 2019-04-23  ...  PLP3I10        NaN        NaN\n",
              "1 2019-04-23 19:46:00 2019-04-23 2019-04-23  ...  PLP3I10        NaN        NaN\n",
              "\n",
              "[2 rows x 9 columns]"
            ]
          },
          "metadata": {
            "tags": []
          },
          "execution_count": 158
        }
      ]
    },
    {
      "cell_type": "code",
      "metadata": {
        "colab": {
          "base_uri": "https://localhost:8080/"
        },
        "id": "O6prkziL93YJ",
        "outputId": "5cebeedf-84ac-4723-cd0d-6b641572ee1c"
      },
      "source": [
        "dfE91.shape"
      ],
      "execution_count": 159,
      "outputs": [
        {
          "output_type": "execute_result",
          "data": {
            "text/plain": [
              "(6722, 9)"
            ]
          },
          "metadata": {
            "tags": []
          },
          "execution_count": 159
        }
      ]
    },
    {
      "cell_type": "code",
      "metadata": {
        "colab": {
          "base_uri": "https://localhost:8080/"
        },
        "id": "sUGp6dfO9ss3",
        "outputId": "625284a6-fbcd-4457-8f4b-80857cc756e9"
      },
      "source": [
        "dfE91.isnull().sum()"
      ],
      "execution_count": 160,
      "outputs": [
        {
          "output_type": "execute_result",
          "data": {
            "text/plain": [
              "Data da ocorrência       0\n",
              "dia                      0\n",
              "mês                      0\n",
              "Tipo                     0\n",
              "Velocidade               0\n",
              "Tratativa             6546\n",
              "Placa                    0\n",
              "Motorista             4717\n",
              "Unnamed: 8            6722\n",
              "dtype: int64"
            ]
          },
          "metadata": {
            "tags": []
          },
          "execution_count": 160
        }
      ]
    },
    {
      "cell_type": "code",
      "metadata": {
        "colab": {
          "base_uri": "https://localhost:8080/"
        },
        "id": "D1CCcP07Y3Cg",
        "outputId": "c86761d5-9550-4a25-846b-94065825fc1f"
      },
      "source": [
        "##############\r\n",
        "dfE91_moto = pd.read_excel(fileE9, xls.sheet_names[1])\r\n",
        "dfE91_moto.dropna(subset=['Motorista'],inplace=True)\r\n",
        "dfE91_moto.shape"
      ],
      "execution_count": 161,
      "outputs": [
        {
          "output_type": "execute_result",
          "data": {
            "text/plain": [
              "(2005, 9)"
            ]
          },
          "metadata": {
            "tags": []
          },
          "execution_count": 161
        }
      ]
    },
    {
      "cell_type": "code",
      "metadata": {
        "colab": {
          "base_uri": "https://localhost:8080/"
        },
        "id": "tNo3FSHxi-4g",
        "outputId": "957200c9-10d7-420c-d0eb-ff20d730b3d3"
      },
      "source": [
        "dfE91_moto.Motorista.nunique()"
      ],
      "execution_count": 162,
      "outputs": [
        {
          "output_type": "execute_result",
          "data": {
            "text/plain": [
              "152"
            ]
          },
          "metadata": {
            "tags": []
          },
          "execution_count": 162
        }
      ]
    },
    {
      "cell_type": "code",
      "metadata": {
        "colab": {
          "base_uri": "https://localhost:8080/",
          "height": 204
        },
        "id": "7e-KmaJiadoQ",
        "outputId": "1569c3f8-a939-41ac-b245-791c45cce5e7"
      },
      "source": [
        "dfE91_moto['HORA'] = pd.to_datetime(dfE91_moto['Data da ocorrência'], format='%Y-%M-%D %H:%M:%S').dt.hour\r\n",
        "dfE91_moto.head()"
      ],
      "execution_count": 163,
      "outputs": [
        {
          "output_type": "execute_result",
          "data": {
            "text/html": [
              "<div>\n",
              "<style scoped>\n",
              "    .dataframe tbody tr th:only-of-type {\n",
              "        vertical-align: middle;\n",
              "    }\n",
              "\n",
              "    .dataframe tbody tr th {\n",
              "        vertical-align: top;\n",
              "    }\n",
              "\n",
              "    .dataframe thead th {\n",
              "        text-align: right;\n",
              "    }\n",
              "</style>\n",
              "<table border=\"1\" class=\"dataframe\">\n",
              "  <thead>\n",
              "    <tr style=\"text-align: right;\">\n",
              "      <th></th>\n",
              "      <th>Data da ocorrência</th>\n",
              "      <th>dia</th>\n",
              "      <th>mês</th>\n",
              "      <th>Tipo</th>\n",
              "      <th>Velocidade</th>\n",
              "      <th>Tratativa</th>\n",
              "      <th>Placa</th>\n",
              "      <th>Motorista</th>\n",
              "      <th>Unnamed: 8</th>\n",
              "      <th>HORA</th>\n",
              "    </tr>\n",
              "  </thead>\n",
              "  <tbody>\n",
              "    <tr>\n",
              "      <th>4227</th>\n",
              "      <td>2019-10-08 05:57:00</td>\n",
              "      <td>2019-10-08</td>\n",
              "      <td>2019-10-08</td>\n",
              "      <td>Yawn-Warning</td>\n",
              "      <td>46</td>\n",
              "      <td>NaN</td>\n",
              "      <td>PLP8C30</td>\n",
              "      <td>C846</td>\n",
              "      <td>NaN</td>\n",
              "      <td>5</td>\n",
              "    </tr>\n",
              "    <tr>\n",
              "      <th>4236</th>\n",
              "      <td>2019-10-08 01:18:00</td>\n",
              "      <td>2019-10-08</td>\n",
              "      <td>2019-10-08</td>\n",
              "      <td>Yawn-Warning</td>\n",
              "      <td>39</td>\n",
              "      <td>NaN</td>\n",
              "      <td>PLP8C30</td>\n",
              "      <td>C846</td>\n",
              "      <td>NaN</td>\n",
              "      <td>1</td>\n",
              "    </tr>\n",
              "    <tr>\n",
              "      <th>4305</th>\n",
              "      <td>2019-10-10 03:53:00</td>\n",
              "      <td>2019-10-10</td>\n",
              "      <td>2019-10-10</td>\n",
              "      <td>Tired</td>\n",
              "      <td>28</td>\n",
              "      <td>NaN</td>\n",
              "      <td>PTM0549</td>\n",
              "      <td>C739</td>\n",
              "      <td>NaN</td>\n",
              "      <td>3</td>\n",
              "    </tr>\n",
              "    <tr>\n",
              "      <th>4335</th>\n",
              "      <td>2019-10-11 17:10:00</td>\n",
              "      <td>2019-10-11</td>\n",
              "      <td>2019-10-11</td>\n",
              "      <td>Yawn-Warning</td>\n",
              "      <td>60</td>\n",
              "      <td>NaN</td>\n",
              "      <td>PTM0549</td>\n",
              "      <td>C739</td>\n",
              "      <td>NaN</td>\n",
              "      <td>17</td>\n",
              "    </tr>\n",
              "    <tr>\n",
              "      <th>4705</th>\n",
              "      <td>2019-10-29 23:45:00</td>\n",
              "      <td>2019-10-29</td>\n",
              "      <td>2019-10-29</td>\n",
              "      <td>Yawn-Warning</td>\n",
              "      <td>30</td>\n",
              "      <td>NaN</td>\n",
              "      <td>PTM0549</td>\n",
              "      <td>C739</td>\n",
              "      <td>NaN</td>\n",
              "      <td>23</td>\n",
              "    </tr>\n",
              "  </tbody>\n",
              "</table>\n",
              "</div>"
            ],
            "text/plain": [
              "      Data da ocorrência        dia        mês  ... Motorista  Unnamed: 8 HORA\n",
              "4227 2019-10-08 05:57:00 2019-10-08 2019-10-08  ...      C846         NaN    5\n",
              "4236 2019-10-08 01:18:00 2019-10-08 2019-10-08  ...      C846         NaN    1\n",
              "4305 2019-10-10 03:53:00 2019-10-10 2019-10-10  ...      C739         NaN    3\n",
              "4335 2019-10-11 17:10:00 2019-10-11 2019-10-11  ...      C739         NaN   17\n",
              "4705 2019-10-29 23:45:00 2019-10-29 2019-10-29  ...      C739         NaN   23\n",
              "\n",
              "[5 rows x 10 columns]"
            ]
          },
          "metadata": {
            "tags": []
          },
          "execution_count": 163
        }
      ]
    },
    {
      "cell_type": "code",
      "metadata": {
        "colab": {
          "base_uri": "https://localhost:8080/",
          "height": 824
        },
        "id": "CkT0nfTKadLD",
        "outputId": "308ba5f4-1c4e-46db-9e8e-205aafdaa37c"
      },
      "source": [
        "dfE9_motoristas_hora = pd.DataFrame(dfE91_moto.groupby(by='HORA')['Motorista'].nunique().rename('N° de motoristas1'))\r\n",
        "dfE9_motoristas_hora"
      ],
      "execution_count": 164,
      "outputs": [
        {
          "output_type": "execute_result",
          "data": {
            "text/html": [
              "<div>\n",
              "<style scoped>\n",
              "    .dataframe tbody tr th:only-of-type {\n",
              "        vertical-align: middle;\n",
              "    }\n",
              "\n",
              "    .dataframe tbody tr th {\n",
              "        vertical-align: top;\n",
              "    }\n",
              "\n",
              "    .dataframe thead th {\n",
              "        text-align: right;\n",
              "    }\n",
              "</style>\n",
              "<table border=\"1\" class=\"dataframe\">\n",
              "  <thead>\n",
              "    <tr style=\"text-align: right;\">\n",
              "      <th></th>\n",
              "      <th>N° de motoristas1</th>\n",
              "    </tr>\n",
              "    <tr>\n",
              "      <th>HORA</th>\n",
              "      <th></th>\n",
              "    </tr>\n",
              "  </thead>\n",
              "  <tbody>\n",
              "    <tr>\n",
              "      <th>0</th>\n",
              "      <td>28</td>\n",
              "    </tr>\n",
              "    <tr>\n",
              "      <th>1</th>\n",
              "      <td>38</td>\n",
              "    </tr>\n",
              "    <tr>\n",
              "      <th>2</th>\n",
              "      <td>36</td>\n",
              "    </tr>\n",
              "    <tr>\n",
              "      <th>3</th>\n",
              "      <td>37</td>\n",
              "    </tr>\n",
              "    <tr>\n",
              "      <th>4</th>\n",
              "      <td>34</td>\n",
              "    </tr>\n",
              "    <tr>\n",
              "      <th>5</th>\n",
              "      <td>33</td>\n",
              "    </tr>\n",
              "    <tr>\n",
              "      <th>6</th>\n",
              "      <td>27</td>\n",
              "    </tr>\n",
              "    <tr>\n",
              "      <th>7</th>\n",
              "      <td>26</td>\n",
              "    </tr>\n",
              "    <tr>\n",
              "      <th>8</th>\n",
              "      <td>28</td>\n",
              "    </tr>\n",
              "    <tr>\n",
              "      <th>9</th>\n",
              "      <td>30</td>\n",
              "    </tr>\n",
              "    <tr>\n",
              "      <th>10</th>\n",
              "      <td>24</td>\n",
              "    </tr>\n",
              "    <tr>\n",
              "      <th>11</th>\n",
              "      <td>30</td>\n",
              "    </tr>\n",
              "    <tr>\n",
              "      <th>12</th>\n",
              "      <td>23</td>\n",
              "    </tr>\n",
              "    <tr>\n",
              "      <th>13</th>\n",
              "      <td>24</td>\n",
              "    </tr>\n",
              "    <tr>\n",
              "      <th>14</th>\n",
              "      <td>32</td>\n",
              "    </tr>\n",
              "    <tr>\n",
              "      <th>15</th>\n",
              "      <td>31</td>\n",
              "    </tr>\n",
              "    <tr>\n",
              "      <th>16</th>\n",
              "      <td>27</td>\n",
              "    </tr>\n",
              "    <tr>\n",
              "      <th>17</th>\n",
              "      <td>18</td>\n",
              "    </tr>\n",
              "    <tr>\n",
              "      <th>18</th>\n",
              "      <td>24</td>\n",
              "    </tr>\n",
              "    <tr>\n",
              "      <th>19</th>\n",
              "      <td>19</td>\n",
              "    </tr>\n",
              "    <tr>\n",
              "      <th>20</th>\n",
              "      <td>19</td>\n",
              "    </tr>\n",
              "    <tr>\n",
              "      <th>21</th>\n",
              "      <td>26</td>\n",
              "    </tr>\n",
              "    <tr>\n",
              "      <th>22</th>\n",
              "      <td>33</td>\n",
              "    </tr>\n",
              "    <tr>\n",
              "      <th>23</th>\n",
              "      <td>35</td>\n",
              "    </tr>\n",
              "  </tbody>\n",
              "</table>\n",
              "</div>"
            ],
            "text/plain": [
              "      N° de motoristas1\n",
              "HORA                   \n",
              "0                    28\n",
              "1                    38\n",
              "2                    36\n",
              "3                    37\n",
              "4                    34\n",
              "5                    33\n",
              "6                    27\n",
              "7                    26\n",
              "8                    28\n",
              "9                    30\n",
              "10                   24\n",
              "11                   30\n",
              "12                   23\n",
              "13                   24\n",
              "14                   32\n",
              "15                   31\n",
              "16                   27\n",
              "17                   18\n",
              "18                   24\n",
              "19                   19\n",
              "20                   19\n",
              "21                   26\n",
              "22                   33\n",
              "23                   35"
            ]
          },
          "metadata": {
            "tags": []
          },
          "execution_count": 164
        }
      ]
    },
    {
      "cell_type": "code",
      "metadata": {
        "colab": {
          "base_uri": "https://localhost:8080/",
          "height": 111
        },
        "id": "XGOvMiVqOmbW",
        "outputId": "d01831d7-3e99-4674-c8b2-1227bf7ddbfc"
      },
      "source": [
        "dfE92.head(2)"
      ],
      "execution_count": 165,
      "outputs": [
        {
          "output_type": "execute_result",
          "data": {
            "text/html": [
              "<div>\n",
              "<style scoped>\n",
              "    .dataframe tbody tr th:only-of-type {\n",
              "        vertical-align: middle;\n",
              "    }\n",
              "\n",
              "    .dataframe tbody tr th {\n",
              "        vertical-align: top;\n",
              "    }\n",
              "\n",
              "    .dataframe thead th {\n",
              "        text-align: right;\n",
              "    }\n",
              "</style>\n",
              "<table border=\"1\" class=\"dataframe\">\n",
              "  <thead>\n",
              "    <tr style=\"text-align: right;\">\n",
              "      <th></th>\n",
              "      <th>Data da ocorrência</th>\n",
              "      <th>dia</th>\n",
              "      <th>mês</th>\n",
              "      <th>Tipo</th>\n",
              "      <th>Velocidade</th>\n",
              "      <th>Tratativa</th>\n",
              "      <th>Placa</th>\n",
              "      <th>Motorista</th>\n",
              "      <th>Unnamed: 8</th>\n",
              "    </tr>\n",
              "  </thead>\n",
              "  <tbody>\n",
              "    <tr>\n",
              "      <th>0</th>\n",
              "      <td>2019-12-01 23:59:00</td>\n",
              "      <td>2019-12-01</td>\n",
              "      <td>2019-12-01</td>\n",
              "      <td>Atten-Warning</td>\n",
              "      <td>33</td>\n",
              "      <td>NaN</td>\n",
              "      <td>CQU5528</td>\n",
              "      <td>C805</td>\n",
              "      <td>NaN</td>\n",
              "    </tr>\n",
              "    <tr>\n",
              "      <th>1</th>\n",
              "      <td>2019-12-01 23:10:00</td>\n",
              "      <td>2019-12-01</td>\n",
              "      <td>2019-12-01</td>\n",
              "      <td>Atten-Warning</td>\n",
              "      <td>37</td>\n",
              "      <td>NaN</td>\n",
              "      <td>QPY2670</td>\n",
              "      <td>C784</td>\n",
              "      <td>NaN</td>\n",
              "    </tr>\n",
              "  </tbody>\n",
              "</table>\n",
              "</div>"
            ],
            "text/plain": [
              "   Data da ocorrência        dia        mês  ...    Placa  Motorista Unnamed: 8\n",
              "0 2019-12-01 23:59:00 2019-12-01 2019-12-01  ...  CQU5528       C805        NaN\n",
              "1 2019-12-01 23:10:00 2019-12-01 2019-12-01  ...  QPY2670       C784        NaN\n",
              "\n",
              "[2 rows x 9 columns]"
            ]
          },
          "metadata": {
            "tags": []
          },
          "execution_count": 165
        }
      ]
    },
    {
      "cell_type": "code",
      "metadata": {
        "colab": {
          "base_uri": "https://localhost:8080/"
        },
        "id": "hDiiqcuT9_ji",
        "outputId": "bca0055c-5c8f-4580-a35b-a72af06af216"
      },
      "source": [
        "dfE92.shape"
      ],
      "execution_count": 166,
      "outputs": [
        {
          "output_type": "execute_result",
          "data": {
            "text/plain": [
              "(2895, 9)"
            ]
          },
          "metadata": {
            "tags": []
          },
          "execution_count": 166
        }
      ]
    },
    {
      "cell_type": "code",
      "metadata": {
        "id": "SB2k5h3XWaD6",
        "colab": {
          "base_uri": "https://localhost:8080/"
        },
        "outputId": "7c151457-b65b-492e-c80e-78d30e473fcb"
      },
      "source": [
        "dfE92.isnull().sum()"
      ],
      "execution_count": 167,
      "outputs": [
        {
          "output_type": "execute_result",
          "data": {
            "text/plain": [
              "Data da ocorrência       0\n",
              "dia                      0\n",
              "mês                      0\n",
              "Tipo                     0\n",
              "Velocidade               0\n",
              "Tratativa             2735\n",
              "Placa                    0\n",
              "Motorista               22\n",
              "Unnamed: 8            2895\n",
              "dtype: int64"
            ]
          },
          "metadata": {
            "tags": []
          },
          "execution_count": 167
        }
      ]
    },
    {
      "cell_type": "code",
      "metadata": {
        "colab": {
          "base_uri": "https://localhost:8080/"
        },
        "id": "0d0uAcgMPAU-",
        "outputId": "32d0b980-01b8-450c-9a01-acaa367fafde"
      },
      "source": [
        "############\r\n",
        "dfE92_moto = pd.read_excel(fileE9, xls.sheet_names[2])\r\n",
        "dfE92_moto.dropna(subset=['Motorista'],inplace=True)\r\n",
        "dfE92_moto.shape"
      ],
      "execution_count": 168,
      "outputs": [
        {
          "output_type": "execute_result",
          "data": {
            "text/plain": [
              "(2873, 9)"
            ]
          },
          "metadata": {
            "tags": []
          },
          "execution_count": 168
        }
      ]
    },
    {
      "cell_type": "code",
      "metadata": {
        "colab": {
          "base_uri": "https://localhost:8080/"
        },
        "id": "D71hEeGTjmFG",
        "outputId": "81e4ad19-fa8c-4af5-c179-f3880ad74b82"
      },
      "source": [
        "dfE92_moto.Motorista.nunique()"
      ],
      "execution_count": 169,
      "outputs": [
        {
          "output_type": "execute_result",
          "data": {
            "text/plain": [
              "145"
            ]
          },
          "metadata": {
            "tags": []
          },
          "execution_count": 169
        }
      ]
    },
    {
      "cell_type": "code",
      "metadata": {
        "colab": {
          "base_uri": "https://localhost:8080/",
          "height": 204
        },
        "id": "fDCjHKwUaerR",
        "outputId": "118914d0-9a01-4a1a-b21b-7d3bb443578d"
      },
      "source": [
        "dfE92_moto['HORA'] = pd.to_datetime(dfE92_moto['Data da ocorrência'], format='%Y-%M-%D %H:%M:%S').dt.hour\r\n",
        "dfE92_moto.head()"
      ],
      "execution_count": 170,
      "outputs": [
        {
          "output_type": "execute_result",
          "data": {
            "text/html": [
              "<div>\n",
              "<style scoped>\n",
              "    .dataframe tbody tr th:only-of-type {\n",
              "        vertical-align: middle;\n",
              "    }\n",
              "\n",
              "    .dataframe tbody tr th {\n",
              "        vertical-align: top;\n",
              "    }\n",
              "\n",
              "    .dataframe thead th {\n",
              "        text-align: right;\n",
              "    }\n",
              "</style>\n",
              "<table border=\"1\" class=\"dataframe\">\n",
              "  <thead>\n",
              "    <tr style=\"text-align: right;\">\n",
              "      <th></th>\n",
              "      <th>Data da ocorrência</th>\n",
              "      <th>dia</th>\n",
              "      <th>mês</th>\n",
              "      <th>Tipo</th>\n",
              "      <th>Velocidade</th>\n",
              "      <th>Tratativa</th>\n",
              "      <th>Placa</th>\n",
              "      <th>Motorista</th>\n",
              "      <th>Unnamed: 8</th>\n",
              "      <th>HORA</th>\n",
              "    </tr>\n",
              "  </thead>\n",
              "  <tbody>\n",
              "    <tr>\n",
              "      <th>0</th>\n",
              "      <td>2019-12-01 23:59:00</td>\n",
              "      <td>2019-12-01</td>\n",
              "      <td>2019-12-01</td>\n",
              "      <td>Atten-Warning</td>\n",
              "      <td>33</td>\n",
              "      <td>NaN</td>\n",
              "      <td>CQU5528</td>\n",
              "      <td>C805</td>\n",
              "      <td>NaN</td>\n",
              "      <td>23</td>\n",
              "    </tr>\n",
              "    <tr>\n",
              "      <th>1</th>\n",
              "      <td>2019-12-01 23:10:00</td>\n",
              "      <td>2019-12-01</td>\n",
              "      <td>2019-12-01</td>\n",
              "      <td>Atten-Warning</td>\n",
              "      <td>37</td>\n",
              "      <td>NaN</td>\n",
              "      <td>QPY2670</td>\n",
              "      <td>C784</td>\n",
              "      <td>NaN</td>\n",
              "      <td>23</td>\n",
              "    </tr>\n",
              "    <tr>\n",
              "      <th>2</th>\n",
              "      <td>2019-12-01 21:52:00</td>\n",
              "      <td>2019-12-01</td>\n",
              "      <td>2019-12-01</td>\n",
              "      <td>Atten-Warning</td>\n",
              "      <td>33</td>\n",
              "      <td>NaN</td>\n",
              "      <td>BSY2450</td>\n",
              "      <td>C752</td>\n",
              "      <td>NaN</td>\n",
              "      <td>21</td>\n",
              "    </tr>\n",
              "    <tr>\n",
              "      <th>3</th>\n",
              "      <td>2019-12-01 22:22:00</td>\n",
              "      <td>2019-12-01</td>\n",
              "      <td>2019-12-01</td>\n",
              "      <td>Atten-Warning</td>\n",
              "      <td>51</td>\n",
              "      <td>NaN</td>\n",
              "      <td>PTL9284</td>\n",
              "      <td>C736</td>\n",
              "      <td>NaN</td>\n",
              "      <td>22</td>\n",
              "    </tr>\n",
              "    <tr>\n",
              "      <th>4</th>\n",
              "      <td>2019-12-01 21:25:00</td>\n",
              "      <td>2019-12-01</td>\n",
              "      <td>2019-12-01</td>\n",
              "      <td>Atten-Warning</td>\n",
              "      <td>50</td>\n",
              "      <td>NaN</td>\n",
              "      <td>CQU5528</td>\n",
              "      <td>C805</td>\n",
              "      <td>NaN</td>\n",
              "      <td>21</td>\n",
              "    </tr>\n",
              "  </tbody>\n",
              "</table>\n",
              "</div>"
            ],
            "text/plain": [
              "   Data da ocorrência        dia        mês  ... Motorista  Unnamed: 8 HORA\n",
              "0 2019-12-01 23:59:00 2019-12-01 2019-12-01  ...      C805         NaN   23\n",
              "1 2019-12-01 23:10:00 2019-12-01 2019-12-01  ...      C784         NaN   23\n",
              "2 2019-12-01 21:52:00 2019-12-01 2019-12-01  ...      C752         NaN   21\n",
              "3 2019-12-01 22:22:00 2019-12-01 2019-12-01  ...      C736         NaN   22\n",
              "4 2019-12-01 21:25:00 2019-12-01 2019-12-01  ...      C805         NaN   21\n",
              "\n",
              "[5 rows x 10 columns]"
            ]
          },
          "metadata": {
            "tags": []
          },
          "execution_count": 170
        }
      ]
    },
    {
      "cell_type": "code",
      "metadata": {
        "colab": {
          "base_uri": "https://localhost:8080/",
          "height": 824
        },
        "id": "TOfaxklnaelG",
        "outputId": "09388d1e-76ea-4569-97c7-6a2d479e77f4"
      },
      "source": [
        "###### Posso estar somando o mesmo motorista no 1 e no 2\r\n",
        "dfE9_motoristas_hora['N° de motoristas2'] = pd.DataFrame(dfE92_moto.groupby(by='HORA')['Motorista'].nunique())\r\n",
        "dfE9_motoristas_hora['N° de motoristas'] = dfE9_motoristas_hora['N° de motoristas1'] + dfE9_motoristas_hora['N° de motoristas2']\r\n",
        "dfE9_motoristas_hora"
      ],
      "execution_count": 171,
      "outputs": [
        {
          "output_type": "execute_result",
          "data": {
            "text/html": [
              "<div>\n",
              "<style scoped>\n",
              "    .dataframe tbody tr th:only-of-type {\n",
              "        vertical-align: middle;\n",
              "    }\n",
              "\n",
              "    .dataframe tbody tr th {\n",
              "        vertical-align: top;\n",
              "    }\n",
              "\n",
              "    .dataframe thead th {\n",
              "        text-align: right;\n",
              "    }\n",
              "</style>\n",
              "<table border=\"1\" class=\"dataframe\">\n",
              "  <thead>\n",
              "    <tr style=\"text-align: right;\">\n",
              "      <th></th>\n",
              "      <th>N° de motoristas1</th>\n",
              "      <th>N° de motoristas2</th>\n",
              "      <th>N° de motoristas</th>\n",
              "    </tr>\n",
              "    <tr>\n",
              "      <th>HORA</th>\n",
              "      <th></th>\n",
              "      <th></th>\n",
              "      <th></th>\n",
              "    </tr>\n",
              "  </thead>\n",
              "  <tbody>\n",
              "    <tr>\n",
              "      <th>0</th>\n",
              "      <td>28</td>\n",
              "      <td>21</td>\n",
              "      <td>49</td>\n",
              "    </tr>\n",
              "    <tr>\n",
              "      <th>1</th>\n",
              "      <td>38</td>\n",
              "      <td>41</td>\n",
              "      <td>79</td>\n",
              "    </tr>\n",
              "    <tr>\n",
              "      <th>2</th>\n",
              "      <td>36</td>\n",
              "      <td>50</td>\n",
              "      <td>86</td>\n",
              "    </tr>\n",
              "    <tr>\n",
              "      <th>3</th>\n",
              "      <td>37</td>\n",
              "      <td>40</td>\n",
              "      <td>77</td>\n",
              "    </tr>\n",
              "    <tr>\n",
              "      <th>4</th>\n",
              "      <td>34</td>\n",
              "      <td>28</td>\n",
              "      <td>62</td>\n",
              "    </tr>\n",
              "    <tr>\n",
              "      <th>5</th>\n",
              "      <td>33</td>\n",
              "      <td>18</td>\n",
              "      <td>51</td>\n",
              "    </tr>\n",
              "    <tr>\n",
              "      <th>6</th>\n",
              "      <td>27</td>\n",
              "      <td>31</td>\n",
              "      <td>58</td>\n",
              "    </tr>\n",
              "    <tr>\n",
              "      <th>7</th>\n",
              "      <td>26</td>\n",
              "      <td>33</td>\n",
              "      <td>59</td>\n",
              "    </tr>\n",
              "    <tr>\n",
              "      <th>8</th>\n",
              "      <td>28</td>\n",
              "      <td>39</td>\n",
              "      <td>67</td>\n",
              "    </tr>\n",
              "    <tr>\n",
              "      <th>9</th>\n",
              "      <td>30</td>\n",
              "      <td>25</td>\n",
              "      <td>55</td>\n",
              "    </tr>\n",
              "    <tr>\n",
              "      <th>10</th>\n",
              "      <td>24</td>\n",
              "      <td>27</td>\n",
              "      <td>51</td>\n",
              "    </tr>\n",
              "    <tr>\n",
              "      <th>11</th>\n",
              "      <td>30</td>\n",
              "      <td>28</td>\n",
              "      <td>58</td>\n",
              "    </tr>\n",
              "    <tr>\n",
              "      <th>12</th>\n",
              "      <td>23</td>\n",
              "      <td>39</td>\n",
              "      <td>62</td>\n",
              "    </tr>\n",
              "    <tr>\n",
              "      <th>13</th>\n",
              "      <td>24</td>\n",
              "      <td>38</td>\n",
              "      <td>62</td>\n",
              "    </tr>\n",
              "    <tr>\n",
              "      <th>14</th>\n",
              "      <td>32</td>\n",
              "      <td>30</td>\n",
              "      <td>62</td>\n",
              "    </tr>\n",
              "    <tr>\n",
              "      <th>15</th>\n",
              "      <td>31</td>\n",
              "      <td>35</td>\n",
              "      <td>66</td>\n",
              "    </tr>\n",
              "    <tr>\n",
              "      <th>16</th>\n",
              "      <td>27</td>\n",
              "      <td>30</td>\n",
              "      <td>57</td>\n",
              "    </tr>\n",
              "    <tr>\n",
              "      <th>17</th>\n",
              "      <td>18</td>\n",
              "      <td>33</td>\n",
              "      <td>51</td>\n",
              "    </tr>\n",
              "    <tr>\n",
              "      <th>18</th>\n",
              "      <td>24</td>\n",
              "      <td>23</td>\n",
              "      <td>47</td>\n",
              "    </tr>\n",
              "    <tr>\n",
              "      <th>19</th>\n",
              "      <td>19</td>\n",
              "      <td>17</td>\n",
              "      <td>36</td>\n",
              "    </tr>\n",
              "    <tr>\n",
              "      <th>20</th>\n",
              "      <td>19</td>\n",
              "      <td>14</td>\n",
              "      <td>33</td>\n",
              "    </tr>\n",
              "    <tr>\n",
              "      <th>21</th>\n",
              "      <td>26</td>\n",
              "      <td>36</td>\n",
              "      <td>62</td>\n",
              "    </tr>\n",
              "    <tr>\n",
              "      <th>22</th>\n",
              "      <td>33</td>\n",
              "      <td>43</td>\n",
              "      <td>76</td>\n",
              "    </tr>\n",
              "    <tr>\n",
              "      <th>23</th>\n",
              "      <td>35</td>\n",
              "      <td>29</td>\n",
              "      <td>64</td>\n",
              "    </tr>\n",
              "  </tbody>\n",
              "</table>\n",
              "</div>"
            ],
            "text/plain": [
              "      N° de motoristas1  N° de motoristas2  N° de motoristas\n",
              "HORA                                                        \n",
              "0                    28                 21                49\n",
              "1                    38                 41                79\n",
              "2                    36                 50                86\n",
              "3                    37                 40                77\n",
              "4                    34                 28                62\n",
              "5                    33                 18                51\n",
              "6                    27                 31                58\n",
              "7                    26                 33                59\n",
              "8                    28                 39                67\n",
              "9                    30                 25                55\n",
              "10                   24                 27                51\n",
              "11                   30                 28                58\n",
              "12                   23                 39                62\n",
              "13                   24                 38                62\n",
              "14                   32                 30                62\n",
              "15                   31                 35                66\n",
              "16                   27                 30                57\n",
              "17                   18                 33                51\n",
              "18                   24                 23                47\n",
              "19                   19                 17                36\n",
              "20                   19                 14                33\n",
              "21                   26                 36                62\n",
              "22                   33                 43                76\n",
              "23                   35                 29                64"
            ]
          },
          "metadata": {
            "tags": []
          },
          "execution_count": 171
        }
      ]
    },
    {
      "cell_type": "markdown",
      "metadata": {
        "id": "yENWnLy3WEer"
      },
      "source": [
        "**Eventos por hora**"
      ]
    },
    {
      "cell_type": "code",
      "metadata": {
        "colab": {
          "base_uri": "https://localhost:8080/",
          "height": 111
        },
        "id": "1EJNua9fcB0d",
        "outputId": "48903855-d10f-4147-e263-45f05c97f71f"
      },
      "source": [
        "dfE91.head(2)"
      ],
      "execution_count": 172,
      "outputs": [
        {
          "output_type": "execute_result",
          "data": {
            "text/html": [
              "<div>\n",
              "<style scoped>\n",
              "    .dataframe tbody tr th:only-of-type {\n",
              "        vertical-align: middle;\n",
              "    }\n",
              "\n",
              "    .dataframe tbody tr th {\n",
              "        vertical-align: top;\n",
              "    }\n",
              "\n",
              "    .dataframe thead th {\n",
              "        text-align: right;\n",
              "    }\n",
              "</style>\n",
              "<table border=\"1\" class=\"dataframe\">\n",
              "  <thead>\n",
              "    <tr style=\"text-align: right;\">\n",
              "      <th></th>\n",
              "      <th>Data da ocorrência</th>\n",
              "      <th>dia</th>\n",
              "      <th>mês</th>\n",
              "      <th>Tipo</th>\n",
              "      <th>Velocidade</th>\n",
              "      <th>Tratativa</th>\n",
              "      <th>Placa</th>\n",
              "      <th>Motorista</th>\n",
              "      <th>Unnamed: 8</th>\n",
              "    </tr>\n",
              "  </thead>\n",
              "  <tbody>\n",
              "    <tr>\n",
              "      <th>0</th>\n",
              "      <td>2019-04-23 22:59:00</td>\n",
              "      <td>2019-04-23</td>\n",
              "      <td>2019-04-23</td>\n",
              "      <td>Yawn-Warning</td>\n",
              "      <td>35</td>\n",
              "      <td>NaN</td>\n",
              "      <td>PLP3I10</td>\n",
              "      <td>NaN</td>\n",
              "      <td>NaN</td>\n",
              "    </tr>\n",
              "    <tr>\n",
              "      <th>1</th>\n",
              "      <td>2019-04-23 19:46:00</td>\n",
              "      <td>2019-04-23</td>\n",
              "      <td>2019-04-23</td>\n",
              "      <td>Yawn-Warning</td>\n",
              "      <td>62</td>\n",
              "      <td>NaN</td>\n",
              "      <td>PLP3I10</td>\n",
              "      <td>NaN</td>\n",
              "      <td>NaN</td>\n",
              "    </tr>\n",
              "  </tbody>\n",
              "</table>\n",
              "</div>"
            ],
            "text/plain": [
              "   Data da ocorrência        dia        mês  ...    Placa  Motorista Unnamed: 8\n",
              "0 2019-04-23 22:59:00 2019-04-23 2019-04-23  ...  PLP3I10        NaN        NaN\n",
              "1 2019-04-23 19:46:00 2019-04-23 2019-04-23  ...  PLP3I10        NaN        NaN\n",
              "\n",
              "[2 rows x 9 columns]"
            ]
          },
          "metadata": {
            "tags": []
          },
          "execution_count": 172
        }
      ]
    },
    {
      "cell_type": "code",
      "metadata": {
        "colab": {
          "base_uri": "https://localhost:8080/",
          "height": 204
        },
        "id": "nZRSJG5rhP_Y",
        "outputId": "35134403-5c73-4ded-9249-627d84a27ccc"
      },
      "source": [
        "dfE91H = pd.read_excel(fileE9, xls.sheet_names[1])\r\n",
        "dfE91H['HORA'] = pd.to_datetime(dfE91H['Data da ocorrência'], format='%Y-%M-%D %H:%M:%S').dt.hour\r\n",
        "dfE91H.head()"
      ],
      "execution_count": 173,
      "outputs": [
        {
          "output_type": "execute_result",
          "data": {
            "text/html": [
              "<div>\n",
              "<style scoped>\n",
              "    .dataframe tbody tr th:only-of-type {\n",
              "        vertical-align: middle;\n",
              "    }\n",
              "\n",
              "    .dataframe tbody tr th {\n",
              "        vertical-align: top;\n",
              "    }\n",
              "\n",
              "    .dataframe thead th {\n",
              "        text-align: right;\n",
              "    }\n",
              "</style>\n",
              "<table border=\"1\" class=\"dataframe\">\n",
              "  <thead>\n",
              "    <tr style=\"text-align: right;\">\n",
              "      <th></th>\n",
              "      <th>Data da ocorrência</th>\n",
              "      <th>dia</th>\n",
              "      <th>mês</th>\n",
              "      <th>Tipo</th>\n",
              "      <th>Velocidade</th>\n",
              "      <th>Tratativa</th>\n",
              "      <th>Placa</th>\n",
              "      <th>Motorista</th>\n",
              "      <th>Unnamed: 8</th>\n",
              "      <th>HORA</th>\n",
              "    </tr>\n",
              "  </thead>\n",
              "  <tbody>\n",
              "    <tr>\n",
              "      <th>0</th>\n",
              "      <td>2019-04-23 22:59:00</td>\n",
              "      <td>2019-04-23</td>\n",
              "      <td>2019-04-23</td>\n",
              "      <td>Yawn-Warning</td>\n",
              "      <td>35</td>\n",
              "      <td>NaN</td>\n",
              "      <td>PLP3I10</td>\n",
              "      <td>NaN</td>\n",
              "      <td>NaN</td>\n",
              "      <td>22</td>\n",
              "    </tr>\n",
              "    <tr>\n",
              "      <th>1</th>\n",
              "      <td>2019-04-23 19:46:00</td>\n",
              "      <td>2019-04-23</td>\n",
              "      <td>2019-04-23</td>\n",
              "      <td>Yawn-Warning</td>\n",
              "      <td>62</td>\n",
              "      <td>NaN</td>\n",
              "      <td>PLP3I10</td>\n",
              "      <td>NaN</td>\n",
              "      <td>NaN</td>\n",
              "      <td>19</td>\n",
              "    </tr>\n",
              "    <tr>\n",
              "      <th>2</th>\n",
              "      <td>2019-04-24 00:54:00</td>\n",
              "      <td>2019-04-24</td>\n",
              "      <td>2019-04-24</td>\n",
              "      <td>Yawn-Warning</td>\n",
              "      <td>55</td>\n",
              "      <td>NaN</td>\n",
              "      <td>PXO2594</td>\n",
              "      <td>NaN</td>\n",
              "      <td>NaN</td>\n",
              "      <td>0</td>\n",
              "    </tr>\n",
              "    <tr>\n",
              "      <th>3</th>\n",
              "      <td>2019-04-24 01:04:00</td>\n",
              "      <td>2019-04-24</td>\n",
              "      <td>2019-04-24</td>\n",
              "      <td>Yawn-Warning</td>\n",
              "      <td>62</td>\n",
              "      <td>NaN</td>\n",
              "      <td>PXO2594</td>\n",
              "      <td>NaN</td>\n",
              "      <td>NaN</td>\n",
              "      <td>1</td>\n",
              "    </tr>\n",
              "    <tr>\n",
              "      <th>4</th>\n",
              "      <td>2019-04-24 01:06:00</td>\n",
              "      <td>2019-04-24</td>\n",
              "      <td>2019-04-24</td>\n",
              "      <td>Yawn-Warning</td>\n",
              "      <td>59</td>\n",
              "      <td>NaN</td>\n",
              "      <td>PXO2594</td>\n",
              "      <td>NaN</td>\n",
              "      <td>NaN</td>\n",
              "      <td>1</td>\n",
              "    </tr>\n",
              "  </tbody>\n",
              "</table>\n",
              "</div>"
            ],
            "text/plain": [
              "   Data da ocorrência        dia        mês  ... Motorista  Unnamed: 8 HORA\n",
              "0 2019-04-23 22:59:00 2019-04-23 2019-04-23  ...       NaN         NaN   22\n",
              "1 2019-04-23 19:46:00 2019-04-23 2019-04-23  ...       NaN         NaN   19\n",
              "2 2019-04-24 00:54:00 2019-04-24 2019-04-24  ...       NaN         NaN    0\n",
              "3 2019-04-24 01:04:00 2019-04-24 2019-04-24  ...       NaN         NaN    1\n",
              "4 2019-04-24 01:06:00 2019-04-24 2019-04-24  ...       NaN         NaN    1\n",
              "\n",
              "[5 rows x 10 columns]"
            ]
          },
          "metadata": {
            "tags": []
          },
          "execution_count": 173
        }
      ]
    },
    {
      "cell_type": "code",
      "metadata": {
        "colab": {
          "base_uri": "https://localhost:8080/"
        },
        "id": "clTI-pG-GMsI",
        "outputId": "07b03c91-93bb-4a67-c9f5-53dd6fafeb93"
      },
      "source": [
        "dfE91H.Tipo.value_counts()"
      ],
      "execution_count": 174,
      "outputs": [
        {
          "output_type": "execute_result",
          "data": {
            "text/plain": [
              "Yawn-Warning    6149\n",
              "Tired            573\n",
              "Name: Tipo, dtype: int64"
            ]
          },
          "metadata": {
            "tags": []
          },
          "execution_count": 174
        }
      ]
    },
    {
      "cell_type": "code",
      "metadata": {
        "colab": {
          "base_uri": "https://localhost:8080/"
        },
        "id": "vYG5jP5UHegr",
        "outputId": "5e5212bd-f4c7-486e-888f-711e5c539f00"
      },
      "source": [
        "dfE9_yawn = dfE91H[dfE91H['Tipo'] == 'Yawn-Warning']\r\n",
        "dfE9_yawn = dfE9_yawn.HORA.value_counts().rename('Yawn-Warning').sort_index()\r\n",
        "dfE9_yawn"
      ],
      "execution_count": 175,
      "outputs": [
        {
          "output_type": "execute_result",
          "data": {
            "text/plain": [
              "0     299\n",
              "1     282\n",
              "2     409\n",
              "3     382\n",
              "4     492\n",
              "5     489\n",
              "6     302\n",
              "7     185\n",
              "8     211\n",
              "9     199\n",
              "10    182\n",
              "11    181\n",
              "12    131\n",
              "13    144\n",
              "14    187\n",
              "15    217\n",
              "16    219\n",
              "17    162\n",
              "18    136\n",
              "19    170\n",
              "20    221\n",
              "21    255\n",
              "22    336\n",
              "23    358\n",
              "Name: Yawn-Warning, dtype: int64"
            ]
          },
          "metadata": {
            "tags": []
          },
          "execution_count": 175
        }
      ]
    },
    {
      "cell_type": "code",
      "metadata": {
        "colab": {
          "base_uri": "https://localhost:8080/"
        },
        "id": "QzYrfn5uIAMb",
        "outputId": "7be41a78-4396-44e8-f343-9a43d97097dc"
      },
      "source": [
        "dfE9_yawn.sum()"
      ],
      "execution_count": 176,
      "outputs": [
        {
          "output_type": "execute_result",
          "data": {
            "text/plain": [
              "6149"
            ]
          },
          "metadata": {
            "tags": []
          },
          "execution_count": 176
        }
      ]
    },
    {
      "cell_type": "code",
      "metadata": {
        "colab": {
          "base_uri": "https://localhost:8080/"
        },
        "id": "s4PZFj5IIEb1",
        "outputId": "9dab1509-5fa9-4f52-be53-1c9d51cbbe41"
      },
      "source": [
        "dfE9_tired = dfE91H[dfE91H['Tipo'] == 'Tired']\r\n",
        "dfE9_tired = dfE9_tired.HORA.value_counts().rename('Tired').sort_index()\r\n",
        "dfE9_tired"
      ],
      "execution_count": 177,
      "outputs": [
        {
          "output_type": "execute_result",
          "data": {
            "text/plain": [
              "0     10\n",
              "1     14\n",
              "2     22\n",
              "3     24\n",
              "4     14\n",
              "5     12\n",
              "6     18\n",
              "7     30\n",
              "8     42\n",
              "9     38\n",
              "10    25\n",
              "11    34\n",
              "12    14\n",
              "13    31\n",
              "14    37\n",
              "15    28\n",
              "16    18\n",
              "17    54\n",
              "18    16\n",
              "19     8\n",
              "20     5\n",
              "21    12\n",
              "22    33\n",
              "23    34\n",
              "Name: Tired, dtype: int64"
            ]
          },
          "metadata": {
            "tags": []
          },
          "execution_count": 177
        }
      ]
    },
    {
      "cell_type": "code",
      "metadata": {
        "colab": {
          "base_uri": "https://localhost:8080/"
        },
        "id": "U6c6YNdcIERJ",
        "outputId": "6f7ce8ae-58a3-4865-b6c4-f97b5c6d73c9"
      },
      "source": [
        "dfE9_tired.sum()"
      ],
      "execution_count": 178,
      "outputs": [
        {
          "output_type": "execute_result",
          "data": {
            "text/plain": [
              "573"
            ]
          },
          "metadata": {
            "tags": []
          },
          "execution_count": 178
        }
      ]
    },
    {
      "cell_type": "code",
      "metadata": {
        "colab": {
          "base_uri": "https://localhost:8080/",
          "height": 111
        },
        "id": "rNYk7TCJcB0e",
        "outputId": "fc5d3b1a-9149-4e72-8883-3916d1243df7"
      },
      "source": [
        "dfE92.head(2)"
      ],
      "execution_count": 179,
      "outputs": [
        {
          "output_type": "execute_result",
          "data": {
            "text/html": [
              "<div>\n",
              "<style scoped>\n",
              "    .dataframe tbody tr th:only-of-type {\n",
              "        vertical-align: middle;\n",
              "    }\n",
              "\n",
              "    .dataframe tbody tr th {\n",
              "        vertical-align: top;\n",
              "    }\n",
              "\n",
              "    .dataframe thead th {\n",
              "        text-align: right;\n",
              "    }\n",
              "</style>\n",
              "<table border=\"1\" class=\"dataframe\">\n",
              "  <thead>\n",
              "    <tr style=\"text-align: right;\">\n",
              "      <th></th>\n",
              "      <th>Data da ocorrência</th>\n",
              "      <th>dia</th>\n",
              "      <th>mês</th>\n",
              "      <th>Tipo</th>\n",
              "      <th>Velocidade</th>\n",
              "      <th>Tratativa</th>\n",
              "      <th>Placa</th>\n",
              "      <th>Motorista</th>\n",
              "      <th>Unnamed: 8</th>\n",
              "    </tr>\n",
              "  </thead>\n",
              "  <tbody>\n",
              "    <tr>\n",
              "      <th>0</th>\n",
              "      <td>2019-12-01 23:59:00</td>\n",
              "      <td>2019-12-01</td>\n",
              "      <td>2019-12-01</td>\n",
              "      <td>Atten-Warning</td>\n",
              "      <td>33</td>\n",
              "      <td>NaN</td>\n",
              "      <td>CQU5528</td>\n",
              "      <td>C805</td>\n",
              "      <td>NaN</td>\n",
              "    </tr>\n",
              "    <tr>\n",
              "      <th>1</th>\n",
              "      <td>2019-12-01 23:10:00</td>\n",
              "      <td>2019-12-01</td>\n",
              "      <td>2019-12-01</td>\n",
              "      <td>Atten-Warning</td>\n",
              "      <td>37</td>\n",
              "      <td>NaN</td>\n",
              "      <td>QPY2670</td>\n",
              "      <td>C784</td>\n",
              "      <td>NaN</td>\n",
              "    </tr>\n",
              "  </tbody>\n",
              "</table>\n",
              "</div>"
            ],
            "text/plain": [
              "   Data da ocorrência        dia        mês  ...    Placa  Motorista Unnamed: 8\n",
              "0 2019-12-01 23:59:00 2019-12-01 2019-12-01  ...  CQU5528       C805        NaN\n",
              "1 2019-12-01 23:10:00 2019-12-01 2019-12-01  ...  QPY2670       C784        NaN\n",
              "\n",
              "[2 rows x 9 columns]"
            ]
          },
          "metadata": {
            "tags": []
          },
          "execution_count": 179
        }
      ]
    },
    {
      "cell_type": "code",
      "metadata": {
        "colab": {
          "base_uri": "https://localhost:8080/",
          "height": 204
        },
        "id": "NYoGJVq3hiYo",
        "outputId": "3359af94-9df8-4a43-a9d3-704ae1b26de0"
      },
      "source": [
        "dfE92H = pd.read_excel(fileE9, xls.sheet_names[2])\r\n",
        "dfE92H['HORA'] = pd.to_datetime(dfE92H['Data da ocorrência'], format='%Y-%M-%D %H:%M:%S').dt.hour\r\n",
        "dfE92H.head()"
      ],
      "execution_count": 180,
      "outputs": [
        {
          "output_type": "execute_result",
          "data": {
            "text/html": [
              "<div>\n",
              "<style scoped>\n",
              "    .dataframe tbody tr th:only-of-type {\n",
              "        vertical-align: middle;\n",
              "    }\n",
              "\n",
              "    .dataframe tbody tr th {\n",
              "        vertical-align: top;\n",
              "    }\n",
              "\n",
              "    .dataframe thead th {\n",
              "        text-align: right;\n",
              "    }\n",
              "</style>\n",
              "<table border=\"1\" class=\"dataframe\">\n",
              "  <thead>\n",
              "    <tr style=\"text-align: right;\">\n",
              "      <th></th>\n",
              "      <th>Data da ocorrência</th>\n",
              "      <th>dia</th>\n",
              "      <th>mês</th>\n",
              "      <th>Tipo</th>\n",
              "      <th>Velocidade</th>\n",
              "      <th>Tratativa</th>\n",
              "      <th>Placa</th>\n",
              "      <th>Motorista</th>\n",
              "      <th>Unnamed: 8</th>\n",
              "      <th>HORA</th>\n",
              "    </tr>\n",
              "  </thead>\n",
              "  <tbody>\n",
              "    <tr>\n",
              "      <th>0</th>\n",
              "      <td>2019-12-01 23:59:00</td>\n",
              "      <td>2019-12-01</td>\n",
              "      <td>2019-12-01</td>\n",
              "      <td>Atten-Warning</td>\n",
              "      <td>33</td>\n",
              "      <td>NaN</td>\n",
              "      <td>CQU5528</td>\n",
              "      <td>C805</td>\n",
              "      <td>NaN</td>\n",
              "      <td>23</td>\n",
              "    </tr>\n",
              "    <tr>\n",
              "      <th>1</th>\n",
              "      <td>2019-12-01 23:10:00</td>\n",
              "      <td>2019-12-01</td>\n",
              "      <td>2019-12-01</td>\n",
              "      <td>Atten-Warning</td>\n",
              "      <td>37</td>\n",
              "      <td>NaN</td>\n",
              "      <td>QPY2670</td>\n",
              "      <td>C784</td>\n",
              "      <td>NaN</td>\n",
              "      <td>23</td>\n",
              "    </tr>\n",
              "    <tr>\n",
              "      <th>2</th>\n",
              "      <td>2019-12-01 21:52:00</td>\n",
              "      <td>2019-12-01</td>\n",
              "      <td>2019-12-01</td>\n",
              "      <td>Atten-Warning</td>\n",
              "      <td>33</td>\n",
              "      <td>NaN</td>\n",
              "      <td>BSY2450</td>\n",
              "      <td>C752</td>\n",
              "      <td>NaN</td>\n",
              "      <td>21</td>\n",
              "    </tr>\n",
              "    <tr>\n",
              "      <th>3</th>\n",
              "      <td>2019-12-01 22:22:00</td>\n",
              "      <td>2019-12-01</td>\n",
              "      <td>2019-12-01</td>\n",
              "      <td>Atten-Warning</td>\n",
              "      <td>51</td>\n",
              "      <td>NaN</td>\n",
              "      <td>PTL9284</td>\n",
              "      <td>C736</td>\n",
              "      <td>NaN</td>\n",
              "      <td>22</td>\n",
              "    </tr>\n",
              "    <tr>\n",
              "      <th>4</th>\n",
              "      <td>2019-12-01 21:25:00</td>\n",
              "      <td>2019-12-01</td>\n",
              "      <td>2019-12-01</td>\n",
              "      <td>Atten-Warning</td>\n",
              "      <td>50</td>\n",
              "      <td>NaN</td>\n",
              "      <td>CQU5528</td>\n",
              "      <td>C805</td>\n",
              "      <td>NaN</td>\n",
              "      <td>21</td>\n",
              "    </tr>\n",
              "  </tbody>\n",
              "</table>\n",
              "</div>"
            ],
            "text/plain": [
              "   Data da ocorrência        dia        mês  ... Motorista  Unnamed: 8 HORA\n",
              "0 2019-12-01 23:59:00 2019-12-01 2019-12-01  ...      C805         NaN   23\n",
              "1 2019-12-01 23:10:00 2019-12-01 2019-12-01  ...      C784         NaN   23\n",
              "2 2019-12-01 21:52:00 2019-12-01 2019-12-01  ...      C752         NaN   21\n",
              "3 2019-12-01 22:22:00 2019-12-01 2019-12-01  ...      C736         NaN   22\n",
              "4 2019-12-01 21:25:00 2019-12-01 2019-12-01  ...      C805         NaN   21\n",
              "\n",
              "[5 rows x 10 columns]"
            ]
          },
          "metadata": {
            "tags": []
          },
          "execution_count": 180
        }
      ]
    },
    {
      "cell_type": "code",
      "metadata": {
        "colab": {
          "base_uri": "https://localhost:8080/"
        },
        "id": "rhntX51YA5lV",
        "outputId": "aae6c56d-1ae3-49bb-bf6d-d28ed6f26ed4"
      },
      "source": [
        "dfE92H.Tipo.value_counts()"
      ],
      "execution_count": 181,
      "outputs": [
        {
          "output_type": "execute_result",
          "data": {
            "text/plain": [
              "Atten-Warning    2895\n",
              "Name: Tipo, dtype: int64"
            ]
          },
          "metadata": {
            "tags": []
          },
          "execution_count": 181
        }
      ]
    },
    {
      "cell_type": "code",
      "metadata": {
        "colab": {
          "base_uri": "https://localhost:8080/"
        },
        "id": "sDefbrYUIYbZ",
        "outputId": "bcbb08f6-c4ce-43f2-af9f-472d76953c88"
      },
      "source": [
        "dfE9_at = dfE92H.HORA.value_counts().rename('Atten-Warning').sort_index()\r\n",
        "dfE9_at"
      ],
      "execution_count": 182,
      "outputs": [
        {
          "output_type": "execute_result",
          "data": {
            "text/plain": [
              "0      44\n",
              "1     170\n",
              "2     210\n",
              "3     274\n",
              "4      83\n",
              "5      45\n",
              "6      91\n",
              "7     125\n",
              "8     159\n",
              "9      95\n",
              "10    144\n",
              "11    114\n",
              "12    185\n",
              "13    177\n",
              "14    105\n",
              "15    118\n",
              "16    111\n",
              "17     93\n",
              "18     46\n",
              "19     36\n",
              "20     24\n",
              "21    145\n",
              "22    220\n",
              "23     81\n",
              "Name: Atten-Warning, dtype: int64"
            ]
          },
          "metadata": {
            "tags": []
          },
          "execution_count": 182
        }
      ]
    },
    {
      "cell_type": "code",
      "metadata": {
        "colab": {
          "base_uri": "https://localhost:8080/"
        },
        "id": "JT6hj0N9ItQt",
        "outputId": "eab53ecd-79d7-4b76-f555-6175ed5a4ba4"
      },
      "source": [
        "dfE9_at.sum()"
      ],
      "execution_count": 183,
      "outputs": [
        {
          "output_type": "execute_result",
          "data": {
            "text/plain": [
              "2895"
            ]
          },
          "metadata": {
            "tags": []
          },
          "execution_count": 183
        }
      ]
    },
    {
      "cell_type": "markdown",
      "metadata": {
        "id": "wB814-hKKLPO"
      },
      "source": [
        "**Acidentes por hora**"
      ]
    },
    {
      "cell_type": "code",
      "metadata": {
        "colab": {
          "base_uri": "https://localhost:8080/",
          "height": 533
        },
        "id": "YC5gHg1UKL0g",
        "outputId": "519fd4ff-ac74-4e0f-823a-6e5dd5fd5276"
      },
      "source": [
        "dfOCO_TM_E9.head(3)"
      ],
      "execution_count": 184,
      "outputs": [
        {
          "output_type": "execute_result",
          "data": {
            "text/html": [
              "<div>\n",
              "<style scoped>\n",
              "    .dataframe tbody tr th:only-of-type {\n",
              "        vertical-align: middle;\n",
              "    }\n",
              "\n",
              "    .dataframe tbody tr th {\n",
              "        vertical-align: top;\n",
              "    }\n",
              "\n",
              "    .dataframe thead th {\n",
              "        text-align: right;\n",
              "    }\n",
              "</style>\n",
              "<table border=\"1\" class=\"dataframe\">\n",
              "  <thead>\n",
              "    <tr style=\"text-align: right;\">\n",
              "      <th></th>\n",
              "      <th>CLASSIFICAÇÃO</th>\n",
              "      <th>EMPRESA</th>\n",
              "      <th>GERÊNCIA</th>\n",
              "      <th>COORDENAÇÃO</th>\n",
              "      <th>SUB ÁREA</th>\n",
              "      <th>NOME</th>\n",
              "      <th>CARGO</th>\n",
              "      <th>TEMPO DE EMPRESA</th>\n",
              "      <th>IDADE</th>\n",
              "      <th>\\nDATA DA OCORRÊNCIA</th>\n",
              "      <th>DIA DA SEMANA</th>\n",
              "      <th>\\nLOCAL DA OCORRÊNCIA</th>\n",
              "      <th>QUALIDADE PISTA</th>\n",
              "      <th>CARACTERISTICA PISTA</th>\n",
              "      <th>SINALIZAÇÃO</th>\n",
              "      <th>CLIMA</th>\n",
              "      <th>PREFIXO</th>\n",
              "      <th>MODELO</th>\n",
              "      <th>CARREGADO</th>\n",
              "      <th>TIPO</th>\n",
              "      <th>DETALHAMENTO</th>\n",
              "      <th>POTENCIAL</th>\n",
              "      <th>SAP</th>\n",
              "      <th>DIA ESCALA</th>\n",
              "      <th>ESCALA</th>\n",
              "      <th>JORNADA</th>\n",
              "      <th>TEMPO DECORRIDO</th>\n",
              "      <th>DORMIU BEM?</th>\n",
              "      <th>PRÓXIMO PERIODO DE FÉRIAS OU FERIADO</th>\n",
              "      <th>ALIMENTOU</th>\n",
              "      <th>PROBLEMAS SAÚDE</th>\n",
              "      <th>USO MEDICAMENTO</th>\n",
              "      <th>USO ALCOOL/DROGA</th>\n",
              "      <th>PRESSÃO</th>\n",
              "      <th>PRESSA PARA CONCLUIR O TRABALHO</th>\n",
              "      <th>DESCRIÇÃO</th>\n",
              "      <th>HorarioAcidente</th>\n",
              "    </tr>\n",
              "    <tr>\n",
              "      <th>HORA</th>\n",
              "      <th></th>\n",
              "      <th></th>\n",
              "      <th></th>\n",
              "      <th></th>\n",
              "      <th></th>\n",
              "      <th></th>\n",
              "      <th></th>\n",
              "      <th></th>\n",
              "      <th></th>\n",
              "      <th></th>\n",
              "      <th></th>\n",
              "      <th></th>\n",
              "      <th></th>\n",
              "      <th></th>\n",
              "      <th></th>\n",
              "      <th></th>\n",
              "      <th></th>\n",
              "      <th></th>\n",
              "      <th></th>\n",
              "      <th></th>\n",
              "      <th></th>\n",
              "      <th></th>\n",
              "      <th></th>\n",
              "      <th></th>\n",
              "      <th></th>\n",
              "      <th></th>\n",
              "      <th></th>\n",
              "      <th></th>\n",
              "      <th></th>\n",
              "      <th></th>\n",
              "      <th></th>\n",
              "      <th></th>\n",
              "      <th></th>\n",
              "      <th></th>\n",
              "      <th></th>\n",
              "      <th></th>\n",
              "      <th></th>\n",
              "    </tr>\n",
              "  </thead>\n",
              "  <tbody>\n",
              "    <tr>\n",
              "      <th>00:01:00</th>\n",
              "      <td>INCIDENTE</td>\n",
              "      <td>E9</td>\n",
              "      <td>GERÊNCIA LOGÍSTICA PR</td>\n",
              "      <td>OPERAÇÕES LOGÍSTICAS PR</td>\n",
              "      <td>OPERAÇÕES LOGÍSTICAS PR</td>\n",
              "      <td>C318</td>\n",
              "      <td>MOTORISTA</td>\n",
              "      <td>12</td>\n",
              "      <td>45.0</td>\n",
              "      <td>2019-04-14</td>\n",
              "      <td>DOMINGO</td>\n",
              "      <td>BR-153</td>\n",
              "      <td>ASFALTADA</td>\n",
              "      <td>NaN</td>\n",
              "      <td>NaN</td>\n",
              "      <td>SEM CHUVA</td>\n",
              "      <td>JSL 001</td>\n",
              "      <td>NaN</td>\n",
              "      <td>NaN</td>\n",
              "      <td>TRANSPORTE DE MADEIRA</td>\n",
              "      <td>O MOTORISTA DA EMPRESA JSL RETORNAVA DA RF ADA...</td>\n",
              "      <td>PF</td>\n",
              "      <td>10033</td>\n",
              "      <td>NaN</td>\n",
              "      <td>NaN</td>\n",
              "      <td>NaN</td>\n",
              "      <td>NaN</td>\n",
              "      <td>NaN</td>\n",
              "      <td>NaN</td>\n",
              "      <td>NaN</td>\n",
              "      <td>NaN</td>\n",
              "      <td>NÃO</td>\n",
              "      <td>NaN</td>\n",
              "      <td>NÃO</td>\n",
              "      <td>NaN</td>\n",
              "      <td>O MOTORISTA TEVE UM APAGÃO DE MEMORIA MAS NÃO ...</td>\n",
              "      <td>0</td>\n",
              "    </tr>\n",
              "    <tr>\n",
              "      <th>01:30:00</th>\n",
              "      <td>IAP</td>\n",
              "      <td>E9</td>\n",
              "      <td>LOGÍSTICA</td>\n",
              "      <td>TRANSPORTE FLORESTAL</td>\n",
              "      <td>LOGÍSTICA</td>\n",
              "      <td>NaN</td>\n",
              "      <td>MOTORISTA</td>\n",
              "      <td>NaN</td>\n",
              "      <td>NaN</td>\n",
              "      <td>2017-11-10</td>\n",
              "      <td>SEXTA-FEIRA</td>\n",
              "      <td>ESTRADA MARGEM DIREITA</td>\n",
              "      <td>ESTRADA DE CHÃO</td>\n",
              "      <td>NaN</td>\n",
              "      <td>NaN</td>\n",
              "      <td>NaN</td>\n",
              "      <td>JSL-110</td>\n",
              "      <td>NaN</td>\n",
              "      <td>SIM</td>\n",
              "      <td>TRANSPORTE DE MADEIRA</td>\n",
              "      <td>O MOTORISTA TRAFEGAVA COM O CAMINHÃO PREFIXO J...</td>\n",
              "      <td>LPG</td>\n",
              "      <td>7488</td>\n",
              "      <td>2.0</td>\n",
              "      <td>4x2</td>\n",
              "      <td>15:00:00</td>\n",
              "      <td>10:30:00</td>\n",
              "      <td>NaN</td>\n",
              "      <td>NaN</td>\n",
              "      <td>NaN</td>\n",
              "      <td>NaN</td>\n",
              "      <td>NaN</td>\n",
              "      <td>NaN</td>\n",
              "      <td>NaN</td>\n",
              "      <td>NaN</td>\n",
              "      <td>APÓS A INVESTIGAÇÃO DA OCORRÊNCIA CONSTATAMOS ...</td>\n",
              "      <td>1</td>\n",
              "    </tr>\n",
              "    <tr>\n",
              "      <th>02:00:00</th>\n",
              "      <td>IBP</td>\n",
              "      <td>E9</td>\n",
              "      <td>GERÊNCIA LOGÍSTICA PR</td>\n",
              "      <td>OPERAÇÕES LOGÍSTICAS PR</td>\n",
              "      <td>OPERAÇÕES LOGÍSTICAS PR</td>\n",
              "      <td>C467</td>\n",
              "      <td>MOTORISTA</td>\n",
              "      <td>20</td>\n",
              "      <td>25.0</td>\n",
              "      <td>2018-08-06</td>\n",
              "      <td>SEGUNDA-FEIRA</td>\n",
              "      <td>DA REGIÃO FLORESTAL BOA ESPERANÇA COM SENTIDO ...</td>\n",
              "      <td>NaN</td>\n",
              "      <td>DECLIVE</td>\n",
              "      <td>NaN</td>\n",
              "      <td>NaN</td>\n",
              "      <td>JSL-008</td>\n",
              "      <td>NaN</td>\n",
              "      <td>SIM</td>\n",
              "      <td>TRANSPORTE DE MADEIRA</td>\n",
              "      <td>MOTORISTA DA EMPRESA JSL, TRAFEGAVA COM CAMINH...</td>\n",
              "      <td>LPL</td>\n",
              "      <td>8765</td>\n",
              "      <td>NaN</td>\n",
              "      <td>NaN</td>\n",
              "      <td>NaN</td>\n",
              "      <td>NaN</td>\n",
              "      <td>NaN</td>\n",
              "      <td>NaN</td>\n",
              "      <td>NaN</td>\n",
              "      <td>NaN</td>\n",
              "      <td>NaN</td>\n",
              "      <td>NaN</td>\n",
              "      <td>NaN</td>\n",
              "      <td>NaN</td>\n",
              "      <td>NaN</td>\n",
              "      <td>2</td>\n",
              "    </tr>\n",
              "  </tbody>\n",
              "</table>\n",
              "</div>"
            ],
            "text/plain": [
              "         CLASSIFICAÇÃO  ... HorarioAcidente\n",
              "HORA                    ...                \n",
              "00:01:00     INCIDENTE  ...               0\n",
              "01:30:00           IAP  ...               1\n",
              "02:00:00           IBP  ...               2\n",
              "\n",
              "[3 rows x 37 columns]"
            ]
          },
          "metadata": {
            "tags": []
          },
          "execution_count": 184
        }
      ]
    },
    {
      "cell_type": "code",
      "metadata": {
        "colab": {
          "base_uri": "https://localhost:8080/"
        },
        "id": "hH9WuktNNt4L",
        "outputId": "f7a650ae-2153-4922-ec2f-dfc79fd106da"
      },
      "source": [
        "dfOCO_TM_E9.CARGO.value_counts()"
      ],
      "execution_count": 185,
      "outputs": [
        {
          "output_type": "execute_result",
          "data": {
            "text/plain": [
              "MOTORISTA                         38\n",
              "MOTORISTA TRANSPORTE FLORESTAL     2\n",
              "MOTORISTA                          2\n",
              "Name: CARGO, dtype: int64"
            ]
          },
          "metadata": {
            "tags": []
          },
          "execution_count": 185
        }
      ]
    },
    {
      "cell_type": "code",
      "metadata": {
        "colab": {
          "base_uri": "https://localhost:8080/"
        },
        "id": "_XVmMPLKNt4O",
        "outputId": "58bf304f-39d0-47ea-b9b9-105adfc455c8"
      },
      "source": [
        "dfE9_acid_hora = dfOCO_TM_E9.HorarioAcidente.value_counts().sort_index().rename('Acidentes por hora')\r\n",
        "dfE9_acid_hora"
      ],
      "execution_count": 186,
      "outputs": [
        {
          "output_type": "execute_result",
          "data": {
            "text/plain": [
              "0     1\n",
              "1     1\n",
              "2     2\n",
              "4     3\n",
              "5     3\n",
              "7     1\n",
              "8     5\n",
              "9     1\n",
              "10    1\n",
              "11    3\n",
              "13    2\n",
              "14    2\n",
              "15    2\n",
              "17    2\n",
              "18    2\n",
              "19    1\n",
              "20    2\n",
              "21    1\n",
              "22    3\n",
              "23    4\n",
              "Name: Acidentes por hora, dtype: int64"
            ]
          },
          "metadata": {
            "tags": []
          },
          "execution_count": 186
        }
      ]
    },
    {
      "cell_type": "markdown",
      "metadata": {
        "id": "bobVLDn0VDzS"
      },
      "source": [
        "**DF final E9**"
      ]
    },
    {
      "cell_type": "code",
      "metadata": {
        "colab": {
          "base_uri": "https://localhost:8080/",
          "height": 824
        },
        "id": "c4xWk1gwVDzU",
        "outputId": "8ec6a2e3-d036-4def-e4d7-c2edc7da119f"
      },
      "source": [
        "dfE9_final = pd.DataFrame(dfE9_motoristas_hora['N° de motoristas'])\r\n",
        "dfE9_final['Yawn'] = pd.DataFrame(dfE9_yawn)\r\n",
        "dfE9_final['Tired'] = pd.DataFrame(dfE9_tired)\r\n",
        "dfE9_final['Atten-Warning'] = pd.DataFrame(dfE9_at)\r\n",
        "dfE9_final['Acidentes'] = pd.DataFrame(dfE9_acid_hora)\r\n",
        "dfE9_final.fillna(0, inplace=True)\r\n",
        "dfE9_final['Acidentes'] = dfE9_final.Acidentes.astype('int64')\r\n",
        "dfE9_final"
      ],
      "execution_count": 187,
      "outputs": [
        {
          "output_type": "execute_result",
          "data": {
            "text/html": [
              "<div>\n",
              "<style scoped>\n",
              "    .dataframe tbody tr th:only-of-type {\n",
              "        vertical-align: middle;\n",
              "    }\n",
              "\n",
              "    .dataframe tbody tr th {\n",
              "        vertical-align: top;\n",
              "    }\n",
              "\n",
              "    .dataframe thead th {\n",
              "        text-align: right;\n",
              "    }\n",
              "</style>\n",
              "<table border=\"1\" class=\"dataframe\">\n",
              "  <thead>\n",
              "    <tr style=\"text-align: right;\">\n",
              "      <th></th>\n",
              "      <th>N° de motoristas</th>\n",
              "      <th>Yawn</th>\n",
              "      <th>Tired</th>\n",
              "      <th>Atten-Warning</th>\n",
              "      <th>Acidentes</th>\n",
              "    </tr>\n",
              "    <tr>\n",
              "      <th>HORA</th>\n",
              "      <th></th>\n",
              "      <th></th>\n",
              "      <th></th>\n",
              "      <th></th>\n",
              "      <th></th>\n",
              "    </tr>\n",
              "  </thead>\n",
              "  <tbody>\n",
              "    <tr>\n",
              "      <th>0</th>\n",
              "      <td>49</td>\n",
              "      <td>299</td>\n",
              "      <td>10</td>\n",
              "      <td>44</td>\n",
              "      <td>1</td>\n",
              "    </tr>\n",
              "    <tr>\n",
              "      <th>1</th>\n",
              "      <td>79</td>\n",
              "      <td>282</td>\n",
              "      <td>14</td>\n",
              "      <td>170</td>\n",
              "      <td>1</td>\n",
              "    </tr>\n",
              "    <tr>\n",
              "      <th>2</th>\n",
              "      <td>86</td>\n",
              "      <td>409</td>\n",
              "      <td>22</td>\n",
              "      <td>210</td>\n",
              "      <td>2</td>\n",
              "    </tr>\n",
              "    <tr>\n",
              "      <th>3</th>\n",
              "      <td>77</td>\n",
              "      <td>382</td>\n",
              "      <td>24</td>\n",
              "      <td>274</td>\n",
              "      <td>0</td>\n",
              "    </tr>\n",
              "    <tr>\n",
              "      <th>4</th>\n",
              "      <td>62</td>\n",
              "      <td>492</td>\n",
              "      <td>14</td>\n",
              "      <td>83</td>\n",
              "      <td>3</td>\n",
              "    </tr>\n",
              "    <tr>\n",
              "      <th>5</th>\n",
              "      <td>51</td>\n",
              "      <td>489</td>\n",
              "      <td>12</td>\n",
              "      <td>45</td>\n",
              "      <td>3</td>\n",
              "    </tr>\n",
              "    <tr>\n",
              "      <th>6</th>\n",
              "      <td>58</td>\n",
              "      <td>302</td>\n",
              "      <td>18</td>\n",
              "      <td>91</td>\n",
              "      <td>0</td>\n",
              "    </tr>\n",
              "    <tr>\n",
              "      <th>7</th>\n",
              "      <td>59</td>\n",
              "      <td>185</td>\n",
              "      <td>30</td>\n",
              "      <td>125</td>\n",
              "      <td>1</td>\n",
              "    </tr>\n",
              "    <tr>\n",
              "      <th>8</th>\n",
              "      <td>67</td>\n",
              "      <td>211</td>\n",
              "      <td>42</td>\n",
              "      <td>159</td>\n",
              "      <td>5</td>\n",
              "    </tr>\n",
              "    <tr>\n",
              "      <th>9</th>\n",
              "      <td>55</td>\n",
              "      <td>199</td>\n",
              "      <td>38</td>\n",
              "      <td>95</td>\n",
              "      <td>1</td>\n",
              "    </tr>\n",
              "    <tr>\n",
              "      <th>10</th>\n",
              "      <td>51</td>\n",
              "      <td>182</td>\n",
              "      <td>25</td>\n",
              "      <td>144</td>\n",
              "      <td>1</td>\n",
              "    </tr>\n",
              "    <tr>\n",
              "      <th>11</th>\n",
              "      <td>58</td>\n",
              "      <td>181</td>\n",
              "      <td>34</td>\n",
              "      <td>114</td>\n",
              "      <td>3</td>\n",
              "    </tr>\n",
              "    <tr>\n",
              "      <th>12</th>\n",
              "      <td>62</td>\n",
              "      <td>131</td>\n",
              "      <td>14</td>\n",
              "      <td>185</td>\n",
              "      <td>0</td>\n",
              "    </tr>\n",
              "    <tr>\n",
              "      <th>13</th>\n",
              "      <td>62</td>\n",
              "      <td>144</td>\n",
              "      <td>31</td>\n",
              "      <td>177</td>\n",
              "      <td>2</td>\n",
              "    </tr>\n",
              "    <tr>\n",
              "      <th>14</th>\n",
              "      <td>62</td>\n",
              "      <td>187</td>\n",
              "      <td>37</td>\n",
              "      <td>105</td>\n",
              "      <td>2</td>\n",
              "    </tr>\n",
              "    <tr>\n",
              "      <th>15</th>\n",
              "      <td>66</td>\n",
              "      <td>217</td>\n",
              "      <td>28</td>\n",
              "      <td>118</td>\n",
              "      <td>2</td>\n",
              "    </tr>\n",
              "    <tr>\n",
              "      <th>16</th>\n",
              "      <td>57</td>\n",
              "      <td>219</td>\n",
              "      <td>18</td>\n",
              "      <td>111</td>\n",
              "      <td>0</td>\n",
              "    </tr>\n",
              "    <tr>\n",
              "      <th>17</th>\n",
              "      <td>51</td>\n",
              "      <td>162</td>\n",
              "      <td>54</td>\n",
              "      <td>93</td>\n",
              "      <td>2</td>\n",
              "    </tr>\n",
              "    <tr>\n",
              "      <th>18</th>\n",
              "      <td>47</td>\n",
              "      <td>136</td>\n",
              "      <td>16</td>\n",
              "      <td>46</td>\n",
              "      <td>2</td>\n",
              "    </tr>\n",
              "    <tr>\n",
              "      <th>19</th>\n",
              "      <td>36</td>\n",
              "      <td>170</td>\n",
              "      <td>8</td>\n",
              "      <td>36</td>\n",
              "      <td>1</td>\n",
              "    </tr>\n",
              "    <tr>\n",
              "      <th>20</th>\n",
              "      <td>33</td>\n",
              "      <td>221</td>\n",
              "      <td>5</td>\n",
              "      <td>24</td>\n",
              "      <td>2</td>\n",
              "    </tr>\n",
              "    <tr>\n",
              "      <th>21</th>\n",
              "      <td>62</td>\n",
              "      <td>255</td>\n",
              "      <td>12</td>\n",
              "      <td>145</td>\n",
              "      <td>1</td>\n",
              "    </tr>\n",
              "    <tr>\n",
              "      <th>22</th>\n",
              "      <td>76</td>\n",
              "      <td>336</td>\n",
              "      <td>33</td>\n",
              "      <td>220</td>\n",
              "      <td>3</td>\n",
              "    </tr>\n",
              "    <tr>\n",
              "      <th>23</th>\n",
              "      <td>64</td>\n",
              "      <td>358</td>\n",
              "      <td>34</td>\n",
              "      <td>81</td>\n",
              "      <td>4</td>\n",
              "    </tr>\n",
              "  </tbody>\n",
              "</table>\n",
              "</div>"
            ],
            "text/plain": [
              "      N° de motoristas  Yawn  Tired  Atten-Warning  Acidentes\n",
              "HORA                                                         \n",
              "0                   49   299     10             44          1\n",
              "1                   79   282     14            170          1\n",
              "2                   86   409     22            210          2\n",
              "3                   77   382     24            274          0\n",
              "4                   62   492     14             83          3\n",
              "5                   51   489     12             45          3\n",
              "6                   58   302     18             91          0\n",
              "7                   59   185     30            125          1\n",
              "8                   67   211     42            159          5\n",
              "9                   55   199     38             95          1\n",
              "10                  51   182     25            144          1\n",
              "11                  58   181     34            114          3\n",
              "12                  62   131     14            185          0\n",
              "13                  62   144     31            177          2\n",
              "14                  62   187     37            105          2\n",
              "15                  66   217     28            118          2\n",
              "16                  57   219     18            111          0\n",
              "17                  51   162     54             93          2\n",
              "18                  47   136     16             46          2\n",
              "19                  36   170      8             36          1\n",
              "20                  33   221      5             24          2\n",
              "21                  62   255     12            145          1\n",
              "22                  76   336     33            220          3\n",
              "23                  64   358     34             81          4"
            ]
          },
          "metadata": {
            "tags": []
          },
          "execution_count": 187
        }
      ]
    },
    {
      "cell_type": "markdown",
      "metadata": {
        "id": "ohe9g9F08Nwm"
      },
      "source": [
        "### **Visualização**"
      ]
    },
    {
      "cell_type": "code",
      "metadata": {
        "colab": {
          "base_uri": "https://localhost:8080/"
        },
        "id": "pgKRIanAHcOh",
        "outputId": "4845d1a4-7003-4b70-cc4e-4fe77cc10aa2"
      },
      "source": [
        "dfE91.shape"
      ],
      "execution_count": 350,
      "outputs": [
        {
          "output_type": "execute_result",
          "data": {
            "text/plain": [
              "(6722, 9)"
            ]
          },
          "metadata": {
            "tags": []
          },
          "execution_count": 350
        }
      ]
    },
    {
      "cell_type": "code",
      "metadata": {
        "colab": {
          "base_uri": "https://localhost:8080/"
        },
        "id": "i-4bxNP9HfNP",
        "outputId": "62721a42-d8ec-4d73-91c0-a575c01f20a9"
      },
      "source": [
        "dfE91H.shape"
      ],
      "execution_count": 351,
      "outputs": [
        {
          "output_type": "execute_result",
          "data": {
            "text/plain": [
              "(6722, 10)"
            ]
          },
          "metadata": {
            "tags": []
          },
          "execution_count": 351
        }
      ]
    },
    {
      "cell_type": "code",
      "metadata": {
        "colab": {
          "base_uri": "https://localhost:8080/"
        },
        "id": "NEioWlfOIJ8N",
        "outputId": "f253d5d0-6def-4619-f469-963619f11cd7"
      },
      "source": [
        "dfE91H.Tipo.value_counts()"
      ],
      "execution_count": 356,
      "outputs": [
        {
          "output_type": "execute_result",
          "data": {
            "text/plain": [
              "Yawn-Warning    6149\n",
              "Tired            573\n",
              "Name: Tipo, dtype: int64"
            ]
          },
          "metadata": {
            "tags": []
          },
          "execution_count": 356
        }
      ]
    },
    {
      "cell_type": "code",
      "metadata": {
        "id": "T0mgKPctGKA1"
      },
      "source": [
        "dfE91H_yawn = dfE91H[dfE91H.Tipo == 'Yawn-Warning']"
      ],
      "execution_count": 357,
      "outputs": []
    },
    {
      "cell_type": "code",
      "metadata": {
        "colab": {
          "base_uri": "https://localhost:8080/"
        },
        "id": "a1_b5oTr8Nwn",
        "outputId": "758d73c0-1bed-402f-b2fb-4e2854af460c"
      },
      "source": [
        "counts, bins = np.histogram(dfE91H_yawn['HORA'], bins=range(0, 25, 3))\r\n",
        "counts"
      ],
      "execution_count": 358,
      "outputs": [
        {
          "output_type": "execute_result",
          "data": {
            "text/plain": [
              "array([ 990, 1363,  698,  562,  462,  598,  527,  949])"
            ]
          },
          "metadata": {
            "tags": []
          },
          "execution_count": 358
        }
      ]
    },
    {
      "cell_type": "code",
      "metadata": {
        "colab": {
          "base_uri": "https://localhost:8080/"
        },
        "id": "2SvNEssY8Nwn",
        "outputId": "ee4a124a-d21b-484b-9b18-1a0009fda804"
      },
      "source": [
        "b = np.array(dfE9_final['N° de motoristas'])\r\n",
        "print(b)\r\n",
        "c = b.reshape((8,3)).sum(axis=1)\r\n",
        "print(c)"
      ],
      "execution_count": 359,
      "outputs": [
        {
          "output_type": "stream",
          "text": [
            "[49 79 86 77 62 51 58 59 67 55 51 58 62 62 62 66 57 51 47 36 33 62 76 64]\n",
            "[214 190 184 164 186 174 116 202]\n"
          ],
          "name": "stdout"
        }
      ]
    },
    {
      "cell_type": "code",
      "metadata": {
        "colab": {
          "base_uri": "https://localhost:8080/",
          "height": 542
        },
        "id": "Lz-ADRNp8Nwo",
        "outputId": "aa5e2219-d864-4ead-e7b7-646e63105588"
      },
      "source": [
        "graphics_plot(y = [counts, counts/c], name = ['Events(raw)', 'Events/Drivers'],\r\n",
        "              title = \"Events company E9 (Yawn-Warning)\", yaxes_title = [\"Raw\", \"Rate\"])"
      ],
      "execution_count": 360,
      "outputs": [
        {
          "output_type": "display_data",
          "data": {
            "text/html": [
              "<html>\n",
              "<head><meta charset=\"utf-8\" /></head>\n",
              "<body>\n",
              "    <div>            <script src=\"https://cdnjs.cloudflare.com/ajax/libs/mathjax/2.7.5/MathJax.js?config=TeX-AMS-MML_SVG\"></script><script type=\"text/javascript\">if (window.MathJax) {MathJax.Hub.Config({SVG: {font: \"STIX-Web\"}});}</script>                <script type=\"text/javascript\">window.PlotlyConfig = {MathJaxConfig: 'local'};</script>\n",
              "        <script src=\"https://cdn.plot.ly/plotly-latest.min.js\"></script>                <div id=\"bc75f72a-6350-4997-91e1-ff8b7fe3e3e3\" class=\"plotly-graph-div\" style=\"height:525px; width:100%;\"></div>            <script type=\"text/javascript\">                                    window.PLOTLYENV=window.PLOTLYENV || {};                                    if (document.getElementById(\"bc75f72a-6350-4997-91e1-ff8b7fe3e3e3\")) {                    Plotly.newPlot(                        \"bc75f72a-6350-4997-91e1-ff8b7fe3e3e3\",                        [{\"line\": {\"color\": \"rgb(0, 0, 0)\", \"width\": 2}, \"marker\": {\"size\": 7, \"symbol\": \"x\"}, \"mode\": \"lines+markers\", \"name\": \"Events(raw)\", \"type\": \"scatter\", \"x\": [0.0, 3.0, 6.0, 9.0, 12.0, 15.0, 18.0, 21.0, 24.0], \"xaxis\": \"x\", \"y\": [990, 1363, 698, 562, 462, 598, 527, 949], \"yaxis\": \"y\"}, {\"line\": {\"color\": \"rgb(0, 0, 0)\", \"dash\": \"dash\", \"width\": 2}, \"marker\": {\"size\": 7, \"symbol\": \"star\"}, \"mode\": \"lines+markers\", \"name\": \"Events/Drivers\", \"type\": \"scatter\", \"x\": [0.0, 3.0, 6.0, 9.0, 12.0, 15.0, 18.0, 21.0, 24.0], \"xaxis\": \"x\", \"y\": [4.626168224299065, 7.173684210526316, 3.7934782608695654, 3.426829268292683, 2.4838709677419355, 3.4367816091954024, 4.543103448275862, 4.698019801980198], \"yaxis\": \"y2\"}],                        {\"paper_bgcolor\": \"rgba(0,0,0,0)\", \"plot_bgcolor\": \"rgba(0,0,0,0)\", \"template\": {\"data\": {\"bar\": [{\"error_x\": {\"color\": \"#2a3f5f\"}, \"error_y\": {\"color\": \"#2a3f5f\"}, \"marker\": {\"line\": {\"color\": \"#E5ECF6\", \"width\": 0.5}}, \"type\": \"bar\"}], \"barpolar\": [{\"marker\": {\"line\": {\"color\": \"#E5ECF6\", \"width\": 0.5}}, \"type\": \"barpolar\"}], \"carpet\": [{\"aaxis\": {\"endlinecolor\": \"#2a3f5f\", \"gridcolor\": \"white\", \"linecolor\": \"white\", \"minorgridcolor\": \"white\", \"startlinecolor\": \"#2a3f5f\"}, \"baxis\": {\"endlinecolor\": \"#2a3f5f\", \"gridcolor\": \"white\", \"linecolor\": \"white\", \"minorgridcolor\": \"white\", \"startlinecolor\": \"#2a3f5f\"}, \"type\": \"carpet\"}], \"choropleth\": [{\"colorbar\": {\"outlinewidth\": 0, \"ticks\": \"\"}, \"type\": \"choropleth\"}], \"contour\": [{\"colorbar\": {\"outlinewidth\": 0, \"ticks\": \"\"}, \"colorscale\": [[0.0, \"#0d0887\"], [0.1111111111111111, \"#46039f\"], [0.2222222222222222, \"#7201a8\"], [0.3333333333333333, \"#9c179e\"], [0.4444444444444444, \"#bd3786\"], [0.5555555555555556, \"#d8576b\"], [0.6666666666666666, \"#ed7953\"], [0.7777777777777778, \"#fb9f3a\"], [0.8888888888888888, \"#fdca26\"], [1.0, \"#f0f921\"]], \"type\": \"contour\"}], \"contourcarpet\": [{\"colorbar\": {\"outlinewidth\": 0, \"ticks\": \"\"}, \"type\": \"contourcarpet\"}], \"heatmap\": [{\"colorbar\": {\"outlinewidth\": 0, \"ticks\": \"\"}, \"colorscale\": [[0.0, \"#0d0887\"], [0.1111111111111111, \"#46039f\"], [0.2222222222222222, \"#7201a8\"], [0.3333333333333333, \"#9c179e\"], [0.4444444444444444, \"#bd3786\"], [0.5555555555555556, \"#d8576b\"], [0.6666666666666666, \"#ed7953\"], [0.7777777777777778, \"#fb9f3a\"], [0.8888888888888888, \"#fdca26\"], [1.0, \"#f0f921\"]], \"type\": \"heatmap\"}], \"heatmapgl\": [{\"colorbar\": {\"outlinewidth\": 0, \"ticks\": \"\"}, \"colorscale\": [[0.0, \"#0d0887\"], [0.1111111111111111, \"#46039f\"], [0.2222222222222222, \"#7201a8\"], [0.3333333333333333, \"#9c179e\"], [0.4444444444444444, \"#bd3786\"], [0.5555555555555556, \"#d8576b\"], [0.6666666666666666, \"#ed7953\"], [0.7777777777777778, \"#fb9f3a\"], [0.8888888888888888, \"#fdca26\"], [1.0, \"#f0f921\"]], \"type\": \"heatmapgl\"}], \"histogram\": [{\"marker\": {\"colorbar\": {\"outlinewidth\": 0, \"ticks\": \"\"}}, \"type\": \"histogram\"}], \"histogram2d\": [{\"colorbar\": {\"outlinewidth\": 0, \"ticks\": \"\"}, \"colorscale\": [[0.0, \"#0d0887\"], [0.1111111111111111, \"#46039f\"], [0.2222222222222222, \"#7201a8\"], [0.3333333333333333, \"#9c179e\"], [0.4444444444444444, \"#bd3786\"], [0.5555555555555556, \"#d8576b\"], [0.6666666666666666, \"#ed7953\"], [0.7777777777777778, \"#fb9f3a\"], [0.8888888888888888, \"#fdca26\"], [1.0, \"#f0f921\"]], \"type\": \"histogram2d\"}], \"histogram2dcontour\": [{\"colorbar\": {\"outlinewidth\": 0, \"ticks\": \"\"}, \"colorscale\": [[0.0, \"#0d0887\"], [0.1111111111111111, \"#46039f\"], [0.2222222222222222, \"#7201a8\"], [0.3333333333333333, \"#9c179e\"], [0.4444444444444444, \"#bd3786\"], [0.5555555555555556, \"#d8576b\"], [0.6666666666666666, \"#ed7953\"], [0.7777777777777778, \"#fb9f3a\"], [0.8888888888888888, \"#fdca26\"], [1.0, \"#f0f921\"]], \"type\": \"histogram2dcontour\"}], \"mesh3d\": [{\"colorbar\": {\"outlinewidth\": 0, \"ticks\": \"\"}, \"type\": \"mesh3d\"}], \"parcoords\": [{\"line\": {\"colorbar\": {\"outlinewidth\": 0, \"ticks\": \"\"}}, \"type\": \"parcoords\"}], \"pie\": [{\"automargin\": true, \"type\": \"pie\"}], \"scatter\": [{\"marker\": {\"colorbar\": {\"outlinewidth\": 0, \"ticks\": \"\"}}, \"type\": \"scatter\"}], \"scatter3d\": [{\"line\": {\"colorbar\": {\"outlinewidth\": 0, \"ticks\": \"\"}}, \"marker\": {\"colorbar\": {\"outlinewidth\": 0, \"ticks\": \"\"}}, \"type\": \"scatter3d\"}], \"scattercarpet\": [{\"marker\": {\"colorbar\": {\"outlinewidth\": 0, \"ticks\": \"\"}}, \"type\": \"scattercarpet\"}], \"scattergeo\": [{\"marker\": {\"colorbar\": {\"outlinewidth\": 0, \"ticks\": \"\"}}, \"type\": \"scattergeo\"}], \"scattergl\": [{\"marker\": {\"colorbar\": {\"outlinewidth\": 0, \"ticks\": \"\"}}, \"type\": \"scattergl\"}], \"scattermapbox\": [{\"marker\": {\"colorbar\": {\"outlinewidth\": 0, \"ticks\": \"\"}}, \"type\": \"scattermapbox\"}], \"scatterpolar\": [{\"marker\": {\"colorbar\": {\"outlinewidth\": 0, \"ticks\": \"\"}}, \"type\": \"scatterpolar\"}], \"scatterpolargl\": [{\"marker\": {\"colorbar\": {\"outlinewidth\": 0, \"ticks\": \"\"}}, \"type\": \"scatterpolargl\"}], \"scatterternary\": [{\"marker\": {\"colorbar\": {\"outlinewidth\": 0, \"ticks\": \"\"}}, \"type\": \"scatterternary\"}], \"surface\": [{\"colorbar\": {\"outlinewidth\": 0, \"ticks\": \"\"}, \"colorscale\": [[0.0, \"#0d0887\"], [0.1111111111111111, \"#46039f\"], [0.2222222222222222, \"#7201a8\"], [0.3333333333333333, \"#9c179e\"], [0.4444444444444444, \"#bd3786\"], [0.5555555555555556, \"#d8576b\"], [0.6666666666666666, \"#ed7953\"], [0.7777777777777778, \"#fb9f3a\"], [0.8888888888888888, \"#fdca26\"], [1.0, \"#f0f921\"]], \"type\": \"surface\"}], \"table\": [{\"cells\": {\"fill\": {\"color\": \"#EBF0F8\"}, \"line\": {\"color\": \"white\"}}, \"header\": {\"fill\": {\"color\": \"#C8D4E3\"}, \"line\": {\"color\": \"white\"}}, \"type\": \"table\"}]}, \"layout\": {\"annotationdefaults\": {\"arrowcolor\": \"#2a3f5f\", \"arrowhead\": 0, \"arrowwidth\": 1}, \"autotypenumbers\": \"strict\", \"coloraxis\": {\"colorbar\": {\"outlinewidth\": 0, \"ticks\": \"\"}}, \"colorscale\": {\"diverging\": [[0, \"#8e0152\"], [0.1, \"#c51b7d\"], [0.2, \"#de77ae\"], [0.3, \"#f1b6da\"], [0.4, \"#fde0ef\"], [0.5, \"#f7f7f7\"], [0.6, \"#e6f5d0\"], [0.7, \"#b8e186\"], [0.8, \"#7fbc41\"], [0.9, \"#4d9221\"], [1, \"#276419\"]], \"sequential\": [[0.0, \"#0d0887\"], [0.1111111111111111, \"#46039f\"], [0.2222222222222222, \"#7201a8\"], [0.3333333333333333, \"#9c179e\"], [0.4444444444444444, \"#bd3786\"], [0.5555555555555556, \"#d8576b\"], [0.6666666666666666, \"#ed7953\"], [0.7777777777777778, \"#fb9f3a\"], [0.8888888888888888, \"#fdca26\"], [1.0, \"#f0f921\"]], \"sequentialminus\": [[0.0, \"#0d0887\"], [0.1111111111111111, \"#46039f\"], [0.2222222222222222, \"#7201a8\"], [0.3333333333333333, \"#9c179e\"], [0.4444444444444444, \"#bd3786\"], [0.5555555555555556, \"#d8576b\"], [0.6666666666666666, \"#ed7953\"], [0.7777777777777778, \"#fb9f3a\"], [0.8888888888888888, \"#fdca26\"], [1.0, \"#f0f921\"]]}, \"colorway\": [\"#636efa\", \"#EF553B\", \"#00cc96\", \"#ab63fa\", \"#FFA15A\", \"#19d3f3\", \"#FF6692\", \"#B6E880\", \"#FF97FF\", \"#FECB52\"], \"font\": {\"color\": \"#2a3f5f\"}, \"geo\": {\"bgcolor\": \"white\", \"lakecolor\": \"white\", \"landcolor\": \"#E5ECF6\", \"showlakes\": true, \"showland\": true, \"subunitcolor\": \"white\"}, \"hoverlabel\": {\"align\": \"left\"}, \"hovermode\": \"closest\", \"mapbox\": {\"style\": \"light\"}, \"paper_bgcolor\": \"white\", \"plot_bgcolor\": \"#E5ECF6\", \"polar\": {\"angularaxis\": {\"gridcolor\": \"white\", \"linecolor\": \"white\", \"ticks\": \"\"}, \"bgcolor\": \"#E5ECF6\", \"radialaxis\": {\"gridcolor\": \"white\", \"linecolor\": \"white\", \"ticks\": \"\"}}, \"scene\": {\"xaxis\": {\"backgroundcolor\": \"#E5ECF6\", \"gridcolor\": \"white\", \"gridwidth\": 2, \"linecolor\": \"white\", \"showbackground\": true, \"ticks\": \"\", \"zerolinecolor\": \"white\"}, \"yaxis\": {\"backgroundcolor\": \"#E5ECF6\", \"gridcolor\": \"white\", \"gridwidth\": 2, \"linecolor\": \"white\", \"showbackground\": true, \"ticks\": \"\", \"zerolinecolor\": \"white\"}, \"zaxis\": {\"backgroundcolor\": \"#E5ECF6\", \"gridcolor\": \"white\", \"gridwidth\": 2, \"linecolor\": \"white\", \"showbackground\": true, \"ticks\": \"\", \"zerolinecolor\": \"white\"}}, \"shapedefaults\": {\"line\": {\"color\": \"#2a3f5f\"}}, \"ternary\": {\"aaxis\": {\"gridcolor\": \"white\", \"linecolor\": \"white\", \"ticks\": \"\"}, \"baxis\": {\"gridcolor\": \"white\", \"linecolor\": \"white\", \"ticks\": \"\"}, \"bgcolor\": \"#E5ECF6\", \"caxis\": {\"gridcolor\": \"white\", \"linecolor\": \"white\", \"ticks\": \"\"}}, \"title\": {\"x\": 0.05}, \"xaxis\": {\"automargin\": true, \"gridcolor\": \"white\", \"linecolor\": \"white\", \"ticks\": \"\", \"title\": {\"standoff\": 15}, \"zerolinecolor\": \"white\", \"zerolinewidth\": 2}, \"yaxis\": {\"automargin\": true, \"gridcolor\": \"white\", \"linecolor\": \"white\", \"ticks\": \"\", \"title\": {\"standoff\": 15}, \"zerolinecolor\": \"white\", \"zerolinewidth\": 2}}}, \"title\": {\"text\": \"Events company E9 (Yawn-Warning)\"}, \"xaxis\": {\"anchor\": \"y\", \"domain\": [0.0, 0.94], \"dtick\": 3, \"gridcolor\": \"black\", \"gridwidth\": 1, \"linecolor\": \"black\", \"linewidth\": 2, \"mirror\": true, \"showgrid\": true, \"showline\": true, \"tick0\": 0, \"tickmode\": \"linear\", \"title\": {\"text\": \"Time of day\"}}, \"yaxis\": {\"anchor\": \"x\", \"domain\": [0.0, 1.0], \"gridcolor\": \"black\", \"gridwidth\": 1, \"linecolor\": \"black\", \"linewidth\": 2, \"mirror\": true, \"showgrid\": false, \"showline\": true, \"title\": {\"text\": \"<b>Raw</b>\"}}, \"yaxis2\": {\"anchor\": \"x\", \"gridcolor\": \"black\", \"gridwidth\": 1, \"linecolor\": \"black\", \"linewidth\": 2, \"mirror\": true, \"overlaying\": \"y\", \"showgrid\": false, \"showline\": true, \"side\": \"right\", \"title\": {\"text\": \"<b>Rate</b>\"}}},                        {\"responsive\": true}                    ).then(function(){\n",
              "                            \n",
              "var gd = document.getElementById('bc75f72a-6350-4997-91e1-ff8b7fe3e3e3');\n",
              "var x = new MutationObserver(function (mutations, observer) {{\n",
              "        var display = window.getComputedStyle(gd).display;\n",
              "        if (!display || display === 'none') {{\n",
              "            console.log([gd, 'removed!']);\n",
              "            Plotly.purge(gd);\n",
              "            observer.disconnect();\n",
              "        }}\n",
              "}});\n",
              "\n",
              "// Listen for the removal of the full notebook cells\n",
              "var notebookContainer = gd.closest('#notebook-container');\n",
              "if (notebookContainer) {{\n",
              "    x.observe(notebookContainer, {childList: true});\n",
              "}}\n",
              "\n",
              "// Listen for the clearing of the current output cell\n",
              "var outputEl = gd.closest('.output');\n",
              "if (outputEl) {{\n",
              "    x.observe(outputEl, {childList: true});\n",
              "}}\n",
              "\n",
              "                        })                };                            </script>        </div>\n",
              "</body>\n",
              "</html>"
            ]
          },
          "metadata": {
            "tags": []
          }
        }
      ]
    },
    {
      "cell_type": "code",
      "metadata": {
        "id": "6pA3wB8Q8Nwo"
      },
      "source": [
        "dfE91H_tired = dfE91H[dfE91H.Tipo == 'Tired']"
      ],
      "execution_count": 361,
      "outputs": []
    },
    {
      "cell_type": "code",
      "metadata": {
        "colab": {
          "base_uri": "https://localhost:8080/"
        },
        "id": "bz9uUDc3JNay",
        "outputId": "f21e70db-0664-40a9-cadd-1f400828abaa"
      },
      "source": [
        "counts, bins = np.histogram(dfE91H_tired['HORA'], bins=range(0, 25, 3))\r\n",
        "counts"
      ],
      "execution_count": 362,
      "outputs": [
        {
          "output_type": "execute_result",
          "data": {
            "text/plain": [
              "array([ 46,  50,  90,  97,  82, 100,  29,  79])"
            ]
          },
          "metadata": {
            "tags": []
          },
          "execution_count": 362
        }
      ]
    },
    {
      "cell_type": "code",
      "metadata": {
        "colab": {
          "base_uri": "https://localhost:8080/",
          "height": 542
        },
        "id": "xh5qMqQjJNbM",
        "outputId": "8edc7282-76eb-4c32-b9c6-50bab3689453"
      },
      "source": [
        "graphics_plot(y = [counts, counts/c], name = ['Events(raw)', 'Events/Drivers'],\r\n",
        "              title = \"Events company E9 (Tired)\", yaxes_title = [\"Raw\", \"Rate\"])"
      ],
      "execution_count": 363,
      "outputs": [
        {
          "output_type": "display_data",
          "data": {
            "text/html": [
              "<html>\n",
              "<head><meta charset=\"utf-8\" /></head>\n",
              "<body>\n",
              "    <div>            <script src=\"https://cdnjs.cloudflare.com/ajax/libs/mathjax/2.7.5/MathJax.js?config=TeX-AMS-MML_SVG\"></script><script type=\"text/javascript\">if (window.MathJax) {MathJax.Hub.Config({SVG: {font: \"STIX-Web\"}});}</script>                <script type=\"text/javascript\">window.PlotlyConfig = {MathJaxConfig: 'local'};</script>\n",
              "        <script src=\"https://cdn.plot.ly/plotly-latest.min.js\"></script>                <div id=\"28aefebd-76f5-4308-a003-9c93759df751\" class=\"plotly-graph-div\" style=\"height:525px; width:100%;\"></div>            <script type=\"text/javascript\">                                    window.PLOTLYENV=window.PLOTLYENV || {};                                    if (document.getElementById(\"28aefebd-76f5-4308-a003-9c93759df751\")) {                    Plotly.newPlot(                        \"28aefebd-76f5-4308-a003-9c93759df751\",                        [{\"line\": {\"color\": \"rgb(0, 0, 0)\", \"width\": 2}, \"marker\": {\"size\": 7, \"symbol\": \"x\"}, \"mode\": \"lines+markers\", \"name\": \"Events(raw)\", \"type\": \"scatter\", \"x\": [0.0, 3.0, 6.0, 9.0, 12.0, 15.0, 18.0, 21.0, 24.0], \"xaxis\": \"x\", \"y\": [46, 50, 90, 97, 82, 100, 29, 79], \"yaxis\": \"y\"}, {\"line\": {\"color\": \"rgb(0, 0, 0)\", \"dash\": \"dash\", \"width\": 2}, \"marker\": {\"size\": 7, \"symbol\": \"star\"}, \"mode\": \"lines+markers\", \"name\": \"Events/Drivers\", \"type\": \"scatter\", \"x\": [0.0, 3.0, 6.0, 9.0, 12.0, 15.0, 18.0, 21.0, 24.0], \"xaxis\": \"x\", \"y\": [0.21495327102803738, 0.2631578947368421, 0.4891304347826087, 0.5914634146341463, 0.44086021505376344, 0.5747126436781609, 0.25, 0.3910891089108911], \"yaxis\": \"y2\"}],                        {\"paper_bgcolor\": \"rgba(0,0,0,0)\", \"plot_bgcolor\": \"rgba(0,0,0,0)\", \"template\": {\"data\": {\"bar\": [{\"error_x\": {\"color\": \"#2a3f5f\"}, \"error_y\": {\"color\": \"#2a3f5f\"}, \"marker\": {\"line\": {\"color\": \"#E5ECF6\", \"width\": 0.5}}, \"type\": \"bar\"}], \"barpolar\": [{\"marker\": {\"line\": {\"color\": \"#E5ECF6\", \"width\": 0.5}}, \"type\": \"barpolar\"}], \"carpet\": [{\"aaxis\": {\"endlinecolor\": \"#2a3f5f\", \"gridcolor\": \"white\", \"linecolor\": \"white\", \"minorgridcolor\": \"white\", \"startlinecolor\": \"#2a3f5f\"}, \"baxis\": {\"endlinecolor\": \"#2a3f5f\", \"gridcolor\": \"white\", \"linecolor\": \"white\", \"minorgridcolor\": \"white\", \"startlinecolor\": \"#2a3f5f\"}, \"type\": \"carpet\"}], \"choropleth\": [{\"colorbar\": {\"outlinewidth\": 0, \"ticks\": \"\"}, \"type\": \"choropleth\"}], \"contour\": [{\"colorbar\": {\"outlinewidth\": 0, \"ticks\": \"\"}, \"colorscale\": [[0.0, \"#0d0887\"], [0.1111111111111111, \"#46039f\"], [0.2222222222222222, \"#7201a8\"], [0.3333333333333333, \"#9c179e\"], [0.4444444444444444, \"#bd3786\"], [0.5555555555555556, \"#d8576b\"], [0.6666666666666666, \"#ed7953\"], [0.7777777777777778, \"#fb9f3a\"], [0.8888888888888888, \"#fdca26\"], [1.0, \"#f0f921\"]], \"type\": \"contour\"}], \"contourcarpet\": [{\"colorbar\": {\"outlinewidth\": 0, \"ticks\": \"\"}, \"type\": \"contourcarpet\"}], \"heatmap\": [{\"colorbar\": {\"outlinewidth\": 0, \"ticks\": \"\"}, \"colorscale\": [[0.0, \"#0d0887\"], [0.1111111111111111, \"#46039f\"], [0.2222222222222222, \"#7201a8\"], [0.3333333333333333, \"#9c179e\"], [0.4444444444444444, \"#bd3786\"], [0.5555555555555556, \"#d8576b\"], [0.6666666666666666, \"#ed7953\"], [0.7777777777777778, \"#fb9f3a\"], [0.8888888888888888, \"#fdca26\"], [1.0, \"#f0f921\"]], \"type\": \"heatmap\"}], \"heatmapgl\": [{\"colorbar\": {\"outlinewidth\": 0, \"ticks\": \"\"}, \"colorscale\": [[0.0, \"#0d0887\"], [0.1111111111111111, \"#46039f\"], [0.2222222222222222, \"#7201a8\"], [0.3333333333333333, \"#9c179e\"], [0.4444444444444444, \"#bd3786\"], [0.5555555555555556, \"#d8576b\"], [0.6666666666666666, \"#ed7953\"], [0.7777777777777778, \"#fb9f3a\"], [0.8888888888888888, \"#fdca26\"], [1.0, \"#f0f921\"]], \"type\": \"heatmapgl\"}], \"histogram\": [{\"marker\": {\"colorbar\": {\"outlinewidth\": 0, \"ticks\": \"\"}}, \"type\": \"histogram\"}], \"histogram2d\": [{\"colorbar\": {\"outlinewidth\": 0, \"ticks\": \"\"}, \"colorscale\": [[0.0, \"#0d0887\"], [0.1111111111111111, \"#46039f\"], [0.2222222222222222, \"#7201a8\"], [0.3333333333333333, \"#9c179e\"], [0.4444444444444444, \"#bd3786\"], [0.5555555555555556, \"#d8576b\"], [0.6666666666666666, \"#ed7953\"], [0.7777777777777778, \"#fb9f3a\"], [0.8888888888888888, \"#fdca26\"], [1.0, \"#f0f921\"]], \"type\": \"histogram2d\"}], \"histogram2dcontour\": [{\"colorbar\": {\"outlinewidth\": 0, \"ticks\": \"\"}, \"colorscale\": [[0.0, \"#0d0887\"], [0.1111111111111111, \"#46039f\"], [0.2222222222222222, \"#7201a8\"], [0.3333333333333333, \"#9c179e\"], [0.4444444444444444, \"#bd3786\"], [0.5555555555555556, \"#d8576b\"], [0.6666666666666666, \"#ed7953\"], [0.7777777777777778, \"#fb9f3a\"], [0.8888888888888888, \"#fdca26\"], [1.0, \"#f0f921\"]], \"type\": \"histogram2dcontour\"}], \"mesh3d\": [{\"colorbar\": {\"outlinewidth\": 0, \"ticks\": \"\"}, \"type\": \"mesh3d\"}], \"parcoords\": [{\"line\": {\"colorbar\": {\"outlinewidth\": 0, \"ticks\": \"\"}}, \"type\": \"parcoords\"}], \"pie\": [{\"automargin\": true, \"type\": \"pie\"}], \"scatter\": [{\"marker\": {\"colorbar\": {\"outlinewidth\": 0, \"ticks\": \"\"}}, \"type\": \"scatter\"}], \"scatter3d\": [{\"line\": {\"colorbar\": {\"outlinewidth\": 0, \"ticks\": \"\"}}, \"marker\": {\"colorbar\": {\"outlinewidth\": 0, \"ticks\": \"\"}}, \"type\": \"scatter3d\"}], \"scattercarpet\": [{\"marker\": {\"colorbar\": {\"outlinewidth\": 0, \"ticks\": \"\"}}, \"type\": \"scattercarpet\"}], \"scattergeo\": [{\"marker\": {\"colorbar\": {\"outlinewidth\": 0, \"ticks\": \"\"}}, \"type\": \"scattergeo\"}], \"scattergl\": [{\"marker\": {\"colorbar\": {\"outlinewidth\": 0, \"ticks\": \"\"}}, \"type\": \"scattergl\"}], \"scattermapbox\": [{\"marker\": {\"colorbar\": {\"outlinewidth\": 0, \"ticks\": \"\"}}, \"type\": \"scattermapbox\"}], \"scatterpolar\": [{\"marker\": {\"colorbar\": {\"outlinewidth\": 0, \"ticks\": \"\"}}, \"type\": \"scatterpolar\"}], \"scatterpolargl\": [{\"marker\": {\"colorbar\": {\"outlinewidth\": 0, \"ticks\": \"\"}}, \"type\": \"scatterpolargl\"}], \"scatterternary\": [{\"marker\": {\"colorbar\": {\"outlinewidth\": 0, \"ticks\": \"\"}}, \"type\": \"scatterternary\"}], \"surface\": [{\"colorbar\": {\"outlinewidth\": 0, \"ticks\": \"\"}, \"colorscale\": [[0.0, \"#0d0887\"], [0.1111111111111111, \"#46039f\"], [0.2222222222222222, \"#7201a8\"], [0.3333333333333333, \"#9c179e\"], [0.4444444444444444, \"#bd3786\"], [0.5555555555555556, \"#d8576b\"], [0.6666666666666666, \"#ed7953\"], [0.7777777777777778, \"#fb9f3a\"], [0.8888888888888888, \"#fdca26\"], [1.0, \"#f0f921\"]], \"type\": \"surface\"}], \"table\": [{\"cells\": {\"fill\": {\"color\": \"#EBF0F8\"}, \"line\": {\"color\": \"white\"}}, \"header\": {\"fill\": {\"color\": \"#C8D4E3\"}, \"line\": {\"color\": \"white\"}}, \"type\": \"table\"}]}, \"layout\": {\"annotationdefaults\": {\"arrowcolor\": \"#2a3f5f\", \"arrowhead\": 0, \"arrowwidth\": 1}, \"autotypenumbers\": \"strict\", \"coloraxis\": {\"colorbar\": {\"outlinewidth\": 0, \"ticks\": \"\"}}, \"colorscale\": {\"diverging\": [[0, \"#8e0152\"], [0.1, \"#c51b7d\"], [0.2, \"#de77ae\"], [0.3, \"#f1b6da\"], [0.4, \"#fde0ef\"], [0.5, \"#f7f7f7\"], [0.6, \"#e6f5d0\"], [0.7, \"#b8e186\"], [0.8, \"#7fbc41\"], [0.9, \"#4d9221\"], [1, \"#276419\"]], \"sequential\": [[0.0, \"#0d0887\"], [0.1111111111111111, \"#46039f\"], [0.2222222222222222, \"#7201a8\"], [0.3333333333333333, \"#9c179e\"], [0.4444444444444444, \"#bd3786\"], [0.5555555555555556, \"#d8576b\"], [0.6666666666666666, \"#ed7953\"], [0.7777777777777778, \"#fb9f3a\"], [0.8888888888888888, \"#fdca26\"], [1.0, \"#f0f921\"]], \"sequentialminus\": [[0.0, \"#0d0887\"], [0.1111111111111111, \"#46039f\"], [0.2222222222222222, \"#7201a8\"], [0.3333333333333333, \"#9c179e\"], [0.4444444444444444, \"#bd3786\"], [0.5555555555555556, \"#d8576b\"], [0.6666666666666666, \"#ed7953\"], [0.7777777777777778, \"#fb9f3a\"], [0.8888888888888888, \"#fdca26\"], [1.0, \"#f0f921\"]]}, \"colorway\": [\"#636efa\", \"#EF553B\", \"#00cc96\", \"#ab63fa\", \"#FFA15A\", \"#19d3f3\", \"#FF6692\", \"#B6E880\", \"#FF97FF\", \"#FECB52\"], \"font\": {\"color\": \"#2a3f5f\"}, \"geo\": {\"bgcolor\": \"white\", \"lakecolor\": \"white\", \"landcolor\": \"#E5ECF6\", \"showlakes\": true, \"showland\": true, \"subunitcolor\": \"white\"}, \"hoverlabel\": {\"align\": \"left\"}, \"hovermode\": \"closest\", \"mapbox\": {\"style\": \"light\"}, \"paper_bgcolor\": \"white\", \"plot_bgcolor\": \"#E5ECF6\", \"polar\": {\"angularaxis\": {\"gridcolor\": \"white\", \"linecolor\": \"white\", \"ticks\": \"\"}, \"bgcolor\": \"#E5ECF6\", \"radialaxis\": {\"gridcolor\": \"white\", \"linecolor\": \"white\", \"ticks\": \"\"}}, \"scene\": {\"xaxis\": {\"backgroundcolor\": \"#E5ECF6\", \"gridcolor\": \"white\", \"gridwidth\": 2, \"linecolor\": \"white\", \"showbackground\": true, \"ticks\": \"\", \"zerolinecolor\": \"white\"}, \"yaxis\": {\"backgroundcolor\": \"#E5ECF6\", \"gridcolor\": \"white\", \"gridwidth\": 2, \"linecolor\": \"white\", \"showbackground\": true, \"ticks\": \"\", \"zerolinecolor\": \"white\"}, \"zaxis\": {\"backgroundcolor\": \"#E5ECF6\", \"gridcolor\": \"white\", \"gridwidth\": 2, \"linecolor\": \"white\", \"showbackground\": true, \"ticks\": \"\", \"zerolinecolor\": \"white\"}}, \"shapedefaults\": {\"line\": {\"color\": \"#2a3f5f\"}}, \"ternary\": {\"aaxis\": {\"gridcolor\": \"white\", \"linecolor\": \"white\", \"ticks\": \"\"}, \"baxis\": {\"gridcolor\": \"white\", \"linecolor\": \"white\", \"ticks\": \"\"}, \"bgcolor\": \"#E5ECF6\", \"caxis\": {\"gridcolor\": \"white\", \"linecolor\": \"white\", \"ticks\": \"\"}}, \"title\": {\"x\": 0.05}, \"xaxis\": {\"automargin\": true, \"gridcolor\": \"white\", \"linecolor\": \"white\", \"ticks\": \"\", \"title\": {\"standoff\": 15}, \"zerolinecolor\": \"white\", \"zerolinewidth\": 2}, \"yaxis\": {\"automargin\": true, \"gridcolor\": \"white\", \"linecolor\": \"white\", \"ticks\": \"\", \"title\": {\"standoff\": 15}, \"zerolinecolor\": \"white\", \"zerolinewidth\": 2}}}, \"title\": {\"text\": \"Events company E9 (Tired)\"}, \"xaxis\": {\"anchor\": \"y\", \"domain\": [0.0, 0.94], \"dtick\": 3, \"gridcolor\": \"black\", \"gridwidth\": 1, \"linecolor\": \"black\", \"linewidth\": 2, \"mirror\": true, \"showgrid\": true, \"showline\": true, \"tick0\": 0, \"tickmode\": \"linear\", \"title\": {\"text\": \"Time of day\"}}, \"yaxis\": {\"anchor\": \"x\", \"domain\": [0.0, 1.0], \"gridcolor\": \"black\", \"gridwidth\": 1, \"linecolor\": \"black\", \"linewidth\": 2, \"mirror\": true, \"showgrid\": false, \"showline\": true, \"title\": {\"text\": \"<b>Raw</b>\"}}, \"yaxis2\": {\"anchor\": \"x\", \"gridcolor\": \"black\", \"gridwidth\": 1, \"linecolor\": \"black\", \"linewidth\": 2, \"mirror\": true, \"overlaying\": \"y\", \"showgrid\": false, \"showline\": true, \"side\": \"right\", \"title\": {\"text\": \"<b>Rate</b>\"}}},                        {\"responsive\": true}                    ).then(function(){\n",
              "                            \n",
              "var gd = document.getElementById('28aefebd-76f5-4308-a003-9c93759df751');\n",
              "var x = new MutationObserver(function (mutations, observer) {{\n",
              "        var display = window.getComputedStyle(gd).display;\n",
              "        if (!display || display === 'none') {{\n",
              "            console.log([gd, 'removed!']);\n",
              "            Plotly.purge(gd);\n",
              "            observer.disconnect();\n",
              "        }}\n",
              "}});\n",
              "\n",
              "// Listen for the removal of the full notebook cells\n",
              "var notebookContainer = gd.closest('#notebook-container');\n",
              "if (notebookContainer) {{\n",
              "    x.observe(notebookContainer, {childList: true});\n",
              "}}\n",
              "\n",
              "// Listen for the clearing of the current output cell\n",
              "var outputEl = gd.closest('.output');\n",
              "if (outputEl) {{\n",
              "    x.observe(outputEl, {childList: true});\n",
              "}}\n",
              "\n",
              "                        })                };                            </script>        </div>\n",
              "</body>\n",
              "</html>"
            ]
          },
          "metadata": {
            "tags": []
          }
        }
      ]
    },
    {
      "cell_type": "code",
      "metadata": {
        "colab": {
          "base_uri": "https://localhost:8080/"
        },
        "id": "2lYx7LZhJyqw",
        "outputId": "bd3c1677-7ed0-49a3-8511-0151eda7986b"
      },
      "source": [
        "dfE92.shape"
      ],
      "execution_count": 390,
      "outputs": [
        {
          "output_type": "execute_result",
          "data": {
            "text/plain": [
              "(2895, 9)"
            ]
          },
          "metadata": {
            "tags": []
          },
          "execution_count": 390
        }
      ]
    },
    {
      "cell_type": "code",
      "metadata": {
        "colab": {
          "base_uri": "https://localhost:8080/"
        },
        "id": "Z5oHFfapJyqw",
        "outputId": "ab1b15d0-66b5-4d2f-e578-09fd50d66a40"
      },
      "source": [
        "dfE92H.shape"
      ],
      "execution_count": 391,
      "outputs": [
        {
          "output_type": "execute_result",
          "data": {
            "text/plain": [
              "(2895, 10)"
            ]
          },
          "metadata": {
            "tags": []
          },
          "execution_count": 391
        }
      ]
    },
    {
      "cell_type": "code",
      "metadata": {
        "colab": {
          "base_uri": "https://localhost:8080/"
        },
        "id": "PpPJ07NJJyqw",
        "outputId": "522dab55-0e31-47e6-c2c6-8bdb6aa409f0"
      },
      "source": [
        "dfE92H.Tipo.value_counts()"
      ],
      "execution_count": 392,
      "outputs": [
        {
          "output_type": "execute_result",
          "data": {
            "text/plain": [
              "Atten-Warning    2895\n",
              "Name: Tipo, dtype: int64"
            ]
          },
          "metadata": {
            "tags": []
          },
          "execution_count": 392
        }
      ]
    },
    {
      "cell_type": "code",
      "metadata": {
        "colab": {
          "base_uri": "https://localhost:8080/"
        },
        "id": "JF8eVRXNJyqx",
        "outputId": "58676f4c-d974-4296-fe22-0a1ec961a222"
      },
      "source": [
        "dfE92H_at = dfE92H[dfE92H.Tipo == 'Atten-Warning']\r\n",
        "dfE92H_at.shape"
      ],
      "execution_count": 393,
      "outputs": [
        {
          "output_type": "execute_result",
          "data": {
            "text/plain": [
              "(2895, 10)"
            ]
          },
          "metadata": {
            "tags": []
          },
          "execution_count": 393
        }
      ]
    },
    {
      "cell_type": "code",
      "metadata": {
        "colab": {
          "base_uri": "https://localhost:8080/"
        },
        "id": "wK6DcL6XJi7x",
        "outputId": "ed97d481-b873-4bbf-d408-ce8754c9402a"
      },
      "source": [
        "counts, bins = np.histogram(dfE92H_at['HORA'], bins=range(0, 25, 3))\r\n",
        "counts"
      ],
      "execution_count": 394,
      "outputs": [
        {
          "output_type": "execute_result",
          "data": {
            "text/plain": [
              "array([424, 402, 375, 353, 467, 322, 106, 446])"
            ]
          },
          "metadata": {
            "tags": []
          },
          "execution_count": 394
        }
      ]
    },
    {
      "cell_type": "code",
      "metadata": {
        "colab": {
          "base_uri": "https://localhost:8080/",
          "height": 542
        },
        "id": "o7TgXtROJi71",
        "outputId": "04fe7269-e9ff-4724-8864-130b51b423a5"
      },
      "source": [
        "graphics_plot(y = [counts, counts/c], name = ['Events(raw)', 'Events/Drivers'],\r\n",
        "              title = \"Events company E9 (Atten-Warning)\", yaxes_title = [\"Raw\", \"Rate\"],\r\n",
        "              save=True)"
      ],
      "execution_count": 398,
      "outputs": [
        {
          "output_type": "display_data",
          "data": {
            "text/html": [
              "<html>\n",
              "<head><meta charset=\"utf-8\" /></head>\n",
              "<body>\n",
              "    <div>            <script src=\"https://cdnjs.cloudflare.com/ajax/libs/mathjax/2.7.5/MathJax.js?config=TeX-AMS-MML_SVG\"></script><script type=\"text/javascript\">if (window.MathJax) {MathJax.Hub.Config({SVG: {font: \"STIX-Web\"}});}</script>                <script type=\"text/javascript\">window.PlotlyConfig = {MathJaxConfig: 'local'};</script>\n",
              "        <script src=\"https://cdn.plot.ly/plotly-latest.min.js\"></script>                <div id=\"b06a9c87-19de-4686-9f0e-3b95804cc175\" class=\"plotly-graph-div\" style=\"height:525px; width:100%;\"></div>            <script type=\"text/javascript\">                                    window.PLOTLYENV=window.PLOTLYENV || {};                                    if (document.getElementById(\"b06a9c87-19de-4686-9f0e-3b95804cc175\")) {                    Plotly.newPlot(                        \"b06a9c87-19de-4686-9f0e-3b95804cc175\",                        [{\"line\": {\"color\": \"rgb(0, 0, 0)\", \"width\": 2}, \"marker\": {\"size\": 7, \"symbol\": \"x\"}, \"mode\": \"lines+markers\", \"name\": \"Events(raw)\", \"type\": \"scatter\", \"x\": [0.0, 3.0, 6.0, 9.0, 12.0, 15.0, 18.0, 21.0, 24.0], \"xaxis\": \"x\", \"y\": [424, 402, 375, 353, 467, 322, 106, 446], \"yaxis\": \"y\"}, {\"line\": {\"color\": \"rgb(0, 0, 0)\", \"dash\": \"dash\", \"width\": 2}, \"marker\": {\"size\": 7, \"symbol\": \"star\"}, \"mode\": \"lines+markers\", \"name\": \"Events/Drivers\", \"type\": \"scatter\", \"x\": [0.0, 3.0, 6.0, 9.0, 12.0, 15.0, 18.0, 21.0, 24.0], \"xaxis\": \"x\", \"y\": [1.9813084112149533, 2.1157894736842104, 2.0380434782608696, 2.152439024390244, 2.510752688172043, 1.8505747126436782, 0.9137931034482759, 2.207920792079208], \"yaxis\": \"y2\"}],                        {\"paper_bgcolor\": \"rgba(0,0,0,0)\", \"plot_bgcolor\": \"rgba(0,0,0,0)\", \"template\": {\"data\": {\"bar\": [{\"error_x\": {\"color\": \"#2a3f5f\"}, \"error_y\": {\"color\": \"#2a3f5f\"}, \"marker\": {\"line\": {\"color\": \"#E5ECF6\", \"width\": 0.5}}, \"type\": \"bar\"}], \"barpolar\": [{\"marker\": {\"line\": {\"color\": \"#E5ECF6\", \"width\": 0.5}}, \"type\": \"barpolar\"}], \"carpet\": [{\"aaxis\": {\"endlinecolor\": \"#2a3f5f\", \"gridcolor\": \"white\", \"linecolor\": \"white\", \"minorgridcolor\": \"white\", \"startlinecolor\": \"#2a3f5f\"}, \"baxis\": {\"endlinecolor\": \"#2a3f5f\", \"gridcolor\": \"white\", \"linecolor\": \"white\", \"minorgridcolor\": \"white\", \"startlinecolor\": \"#2a3f5f\"}, \"type\": \"carpet\"}], \"choropleth\": [{\"colorbar\": {\"outlinewidth\": 0, \"ticks\": \"\"}, \"type\": \"choropleth\"}], \"contour\": [{\"colorbar\": {\"outlinewidth\": 0, \"ticks\": \"\"}, \"colorscale\": [[0.0, \"#0d0887\"], [0.1111111111111111, \"#46039f\"], [0.2222222222222222, \"#7201a8\"], [0.3333333333333333, \"#9c179e\"], [0.4444444444444444, \"#bd3786\"], [0.5555555555555556, \"#d8576b\"], [0.6666666666666666, \"#ed7953\"], [0.7777777777777778, \"#fb9f3a\"], [0.8888888888888888, \"#fdca26\"], [1.0, \"#f0f921\"]], \"type\": \"contour\"}], \"contourcarpet\": [{\"colorbar\": {\"outlinewidth\": 0, \"ticks\": \"\"}, \"type\": \"contourcarpet\"}], \"heatmap\": [{\"colorbar\": {\"outlinewidth\": 0, \"ticks\": \"\"}, \"colorscale\": [[0.0, \"#0d0887\"], [0.1111111111111111, \"#46039f\"], [0.2222222222222222, \"#7201a8\"], [0.3333333333333333, \"#9c179e\"], [0.4444444444444444, \"#bd3786\"], [0.5555555555555556, \"#d8576b\"], [0.6666666666666666, \"#ed7953\"], [0.7777777777777778, \"#fb9f3a\"], [0.8888888888888888, \"#fdca26\"], [1.0, \"#f0f921\"]], \"type\": \"heatmap\"}], \"heatmapgl\": [{\"colorbar\": {\"outlinewidth\": 0, \"ticks\": \"\"}, \"colorscale\": [[0.0, \"#0d0887\"], [0.1111111111111111, \"#46039f\"], [0.2222222222222222, \"#7201a8\"], [0.3333333333333333, \"#9c179e\"], [0.4444444444444444, \"#bd3786\"], [0.5555555555555556, \"#d8576b\"], [0.6666666666666666, \"#ed7953\"], [0.7777777777777778, \"#fb9f3a\"], [0.8888888888888888, \"#fdca26\"], [1.0, \"#f0f921\"]], \"type\": \"heatmapgl\"}], \"histogram\": [{\"marker\": {\"colorbar\": {\"outlinewidth\": 0, \"ticks\": \"\"}}, \"type\": \"histogram\"}], \"histogram2d\": [{\"colorbar\": {\"outlinewidth\": 0, \"ticks\": \"\"}, \"colorscale\": [[0.0, \"#0d0887\"], [0.1111111111111111, \"#46039f\"], [0.2222222222222222, \"#7201a8\"], [0.3333333333333333, \"#9c179e\"], [0.4444444444444444, \"#bd3786\"], [0.5555555555555556, \"#d8576b\"], [0.6666666666666666, \"#ed7953\"], [0.7777777777777778, \"#fb9f3a\"], [0.8888888888888888, \"#fdca26\"], [1.0, \"#f0f921\"]], \"type\": \"histogram2d\"}], \"histogram2dcontour\": [{\"colorbar\": {\"outlinewidth\": 0, \"ticks\": \"\"}, \"colorscale\": [[0.0, \"#0d0887\"], [0.1111111111111111, \"#46039f\"], [0.2222222222222222, \"#7201a8\"], [0.3333333333333333, \"#9c179e\"], [0.4444444444444444, \"#bd3786\"], [0.5555555555555556, \"#d8576b\"], [0.6666666666666666, \"#ed7953\"], [0.7777777777777778, \"#fb9f3a\"], [0.8888888888888888, \"#fdca26\"], [1.0, \"#f0f921\"]], \"type\": \"histogram2dcontour\"}], \"mesh3d\": [{\"colorbar\": {\"outlinewidth\": 0, \"ticks\": \"\"}, \"type\": \"mesh3d\"}], \"parcoords\": [{\"line\": {\"colorbar\": {\"outlinewidth\": 0, \"ticks\": \"\"}}, \"type\": \"parcoords\"}], \"pie\": [{\"automargin\": true, \"type\": \"pie\"}], \"scatter\": [{\"marker\": {\"colorbar\": {\"outlinewidth\": 0, \"ticks\": \"\"}}, \"type\": \"scatter\"}], \"scatter3d\": [{\"line\": {\"colorbar\": {\"outlinewidth\": 0, \"ticks\": \"\"}}, \"marker\": {\"colorbar\": {\"outlinewidth\": 0, \"ticks\": \"\"}}, \"type\": \"scatter3d\"}], \"scattercarpet\": [{\"marker\": {\"colorbar\": {\"outlinewidth\": 0, \"ticks\": \"\"}}, \"type\": \"scattercarpet\"}], \"scattergeo\": [{\"marker\": {\"colorbar\": {\"outlinewidth\": 0, \"ticks\": \"\"}}, \"type\": \"scattergeo\"}], \"scattergl\": [{\"marker\": {\"colorbar\": {\"outlinewidth\": 0, \"ticks\": \"\"}}, \"type\": \"scattergl\"}], \"scattermapbox\": [{\"marker\": {\"colorbar\": {\"outlinewidth\": 0, \"ticks\": \"\"}}, \"type\": \"scattermapbox\"}], \"scatterpolar\": [{\"marker\": {\"colorbar\": {\"outlinewidth\": 0, \"ticks\": \"\"}}, \"type\": \"scatterpolar\"}], \"scatterpolargl\": [{\"marker\": {\"colorbar\": {\"outlinewidth\": 0, \"ticks\": \"\"}}, \"type\": \"scatterpolargl\"}], \"scatterternary\": [{\"marker\": {\"colorbar\": {\"outlinewidth\": 0, \"ticks\": \"\"}}, \"type\": \"scatterternary\"}], \"surface\": [{\"colorbar\": {\"outlinewidth\": 0, \"ticks\": \"\"}, \"colorscale\": [[0.0, \"#0d0887\"], [0.1111111111111111, \"#46039f\"], [0.2222222222222222, \"#7201a8\"], [0.3333333333333333, \"#9c179e\"], [0.4444444444444444, \"#bd3786\"], [0.5555555555555556, \"#d8576b\"], [0.6666666666666666, \"#ed7953\"], [0.7777777777777778, \"#fb9f3a\"], [0.8888888888888888, \"#fdca26\"], [1.0, \"#f0f921\"]], \"type\": \"surface\"}], \"table\": [{\"cells\": {\"fill\": {\"color\": \"#EBF0F8\"}, \"line\": {\"color\": \"white\"}}, \"header\": {\"fill\": {\"color\": \"#C8D4E3\"}, \"line\": {\"color\": \"white\"}}, \"type\": \"table\"}]}, \"layout\": {\"annotationdefaults\": {\"arrowcolor\": \"#2a3f5f\", \"arrowhead\": 0, \"arrowwidth\": 1}, \"autotypenumbers\": \"strict\", \"coloraxis\": {\"colorbar\": {\"outlinewidth\": 0, \"ticks\": \"\"}}, \"colorscale\": {\"diverging\": [[0, \"#8e0152\"], [0.1, \"#c51b7d\"], [0.2, \"#de77ae\"], [0.3, \"#f1b6da\"], [0.4, \"#fde0ef\"], [0.5, \"#f7f7f7\"], [0.6, \"#e6f5d0\"], [0.7, \"#b8e186\"], [0.8, \"#7fbc41\"], [0.9, \"#4d9221\"], [1, \"#276419\"]], \"sequential\": [[0.0, \"#0d0887\"], [0.1111111111111111, \"#46039f\"], [0.2222222222222222, \"#7201a8\"], [0.3333333333333333, \"#9c179e\"], [0.4444444444444444, \"#bd3786\"], [0.5555555555555556, \"#d8576b\"], [0.6666666666666666, \"#ed7953\"], [0.7777777777777778, \"#fb9f3a\"], [0.8888888888888888, \"#fdca26\"], [1.0, \"#f0f921\"]], \"sequentialminus\": [[0.0, \"#0d0887\"], [0.1111111111111111, \"#46039f\"], [0.2222222222222222, \"#7201a8\"], [0.3333333333333333, \"#9c179e\"], [0.4444444444444444, \"#bd3786\"], [0.5555555555555556, \"#d8576b\"], [0.6666666666666666, \"#ed7953\"], [0.7777777777777778, \"#fb9f3a\"], [0.8888888888888888, \"#fdca26\"], [1.0, \"#f0f921\"]]}, \"colorway\": [\"#636efa\", \"#EF553B\", \"#00cc96\", \"#ab63fa\", \"#FFA15A\", \"#19d3f3\", \"#FF6692\", \"#B6E880\", \"#FF97FF\", \"#FECB52\"], \"font\": {\"color\": \"#2a3f5f\"}, \"geo\": {\"bgcolor\": \"white\", \"lakecolor\": \"white\", \"landcolor\": \"#E5ECF6\", \"showlakes\": true, \"showland\": true, \"subunitcolor\": \"white\"}, \"hoverlabel\": {\"align\": \"left\"}, \"hovermode\": \"closest\", \"mapbox\": {\"style\": \"light\"}, \"paper_bgcolor\": \"white\", \"plot_bgcolor\": \"#E5ECF6\", \"polar\": {\"angularaxis\": {\"gridcolor\": \"white\", \"linecolor\": \"white\", \"ticks\": \"\"}, \"bgcolor\": \"#E5ECF6\", \"radialaxis\": {\"gridcolor\": \"white\", \"linecolor\": \"white\", \"ticks\": \"\"}}, \"scene\": {\"xaxis\": {\"backgroundcolor\": \"#E5ECF6\", \"gridcolor\": \"white\", \"gridwidth\": 2, \"linecolor\": \"white\", \"showbackground\": true, \"ticks\": \"\", \"zerolinecolor\": \"white\"}, \"yaxis\": {\"backgroundcolor\": \"#E5ECF6\", \"gridcolor\": \"white\", \"gridwidth\": 2, \"linecolor\": \"white\", \"showbackground\": true, \"ticks\": \"\", \"zerolinecolor\": \"white\"}, \"zaxis\": {\"backgroundcolor\": \"#E5ECF6\", \"gridcolor\": \"white\", \"gridwidth\": 2, \"linecolor\": \"white\", \"showbackground\": true, \"ticks\": \"\", \"zerolinecolor\": \"white\"}}, \"shapedefaults\": {\"line\": {\"color\": \"#2a3f5f\"}}, \"ternary\": {\"aaxis\": {\"gridcolor\": \"white\", \"linecolor\": \"white\", \"ticks\": \"\"}, \"baxis\": {\"gridcolor\": \"white\", \"linecolor\": \"white\", \"ticks\": \"\"}, \"bgcolor\": \"#E5ECF6\", \"caxis\": {\"gridcolor\": \"white\", \"linecolor\": \"white\", \"ticks\": \"\"}}, \"title\": {\"x\": 0.05}, \"xaxis\": {\"automargin\": true, \"gridcolor\": \"white\", \"linecolor\": \"white\", \"ticks\": \"\", \"title\": {\"standoff\": 15}, \"zerolinecolor\": \"white\", \"zerolinewidth\": 2}, \"yaxis\": {\"automargin\": true, \"gridcolor\": \"white\", \"linecolor\": \"white\", \"ticks\": \"\", \"title\": {\"standoff\": 15}, \"zerolinecolor\": \"white\", \"zerolinewidth\": 2}}}, \"title\": {\"text\": \"Events company E9 (Atten-Warning)\"}, \"xaxis\": {\"anchor\": \"y\", \"domain\": [0.0, 0.94], \"dtick\": 3, \"gridcolor\": \"black\", \"gridwidth\": 1, \"linecolor\": \"black\", \"linewidth\": 2, \"mirror\": true, \"showgrid\": true, \"showline\": true, \"tick0\": 0, \"tickmode\": \"linear\", \"title\": {\"text\": \"Time of day\"}}, \"yaxis\": {\"anchor\": \"x\", \"domain\": [0.0, 1.0], \"gridcolor\": \"black\", \"gridwidth\": 1, \"linecolor\": \"black\", \"linewidth\": 2, \"mirror\": true, \"showgrid\": false, \"showline\": true, \"title\": {\"text\": \"<b>Raw</b>\"}}, \"yaxis2\": {\"anchor\": \"x\", \"gridcolor\": \"black\", \"gridwidth\": 1, \"linecolor\": \"black\", \"linewidth\": 2, \"mirror\": true, \"overlaying\": \"y\", \"showgrid\": false, \"showline\": true, \"side\": \"right\", \"title\": {\"text\": \"<b>Rate</b>\"}}},                        {\"responsive\": true}                    ).then(function(){\n",
              "                            \n",
              "var gd = document.getElementById('b06a9c87-19de-4686-9f0e-3b95804cc175');\n",
              "var x = new MutationObserver(function (mutations, observer) {{\n",
              "        var display = window.getComputedStyle(gd).display;\n",
              "        if (!display || display === 'none') {{\n",
              "            console.log([gd, 'removed!']);\n",
              "            Plotly.purge(gd);\n",
              "            observer.disconnect();\n",
              "        }}\n",
              "}});\n",
              "\n",
              "// Listen for the removal of the full notebook cells\n",
              "var notebookContainer = gd.closest('#notebook-container');\n",
              "if (notebookContainer) {{\n",
              "    x.observe(notebookContainer, {childList: true});\n",
              "}}\n",
              "\n",
              "// Listen for the clearing of the current output cell\n",
              "var outputEl = gd.closest('.output');\n",
              "if (outputEl) {{\n",
              "    x.observe(outputEl, {childList: true});\n",
              "}}\n",
              "\n",
              "                        })                };                            </script>        </div>\n",
              "</body>\n",
              "</html>"
            ]
          },
          "metadata": {
            "tags": []
          }
        }
      ]
    },
    {
      "cell_type": "code",
      "metadata": {
        "id": "-zmrzsfDBrAj"
      },
      "source": [
        "# fig.write_image(\"images/AcidentesTotal.eps\") ### Salvar imagens"
      ],
      "execution_count": 381,
      "outputs": []
    },
    {
      "cell_type": "markdown",
      "metadata": {
        "id": "zzgpC4w_DFj7"
      },
      "source": [
        "# **Salvar os resultados em csv**"
      ]
    },
    {
      "cell_type": "code",
      "metadata": {
        "id": "KZGfQO6XKW98"
      },
      "source": [
        "dfE3_final.to_csv('/content/drive/MyDrive/Trabalho/Datasets/E3_final.csv', encoding='utf-8')#, index=False)"
      ],
      "execution_count": 376,
      "outputs": []
    },
    {
      "cell_type": "code",
      "metadata": {
        "colab": {
          "base_uri": "https://localhost:8080/",
          "height": 235
        },
        "id": "yrrKfSKoMiwW",
        "outputId": "46c2af90-7674-4874-b46f-38a1a3675250"
      },
      "source": [
        "df = pd.read_csv('/content/drive/MyDrive/Trabalho/Datasets/E3_final.csv', index_col='HORA')\r\n",
        "df.head()"
      ],
      "execution_count": 377,
      "outputs": [
        {
          "output_type": "execute_result",
          "data": {
            "text/html": [
              "<div>\n",
              "<style scoped>\n",
              "    .dataframe tbody tr th:only-of-type {\n",
              "        vertical-align: middle;\n",
              "    }\n",
              "\n",
              "    .dataframe tbody tr th {\n",
              "        vertical-align: top;\n",
              "    }\n",
              "\n",
              "    .dataframe thead th {\n",
              "        text-align: right;\n",
              "    }\n",
              "</style>\n",
              "<table border=\"1\" class=\"dataframe\">\n",
              "  <thead>\n",
              "    <tr style=\"text-align: right;\">\n",
              "      <th></th>\n",
              "      <th>N° de motoristas</th>\n",
              "      <th>Fadiga</th>\n",
              "      <th>Acidentes</th>\n",
              "    </tr>\n",
              "    <tr>\n",
              "      <th>HORA</th>\n",
              "      <th></th>\n",
              "      <th></th>\n",
              "      <th></th>\n",
              "    </tr>\n",
              "  </thead>\n",
              "  <tbody>\n",
              "    <tr>\n",
              "      <th>0</th>\n",
              "      <td>41</td>\n",
              "      <td>225</td>\n",
              "      <td>4</td>\n",
              "    </tr>\n",
              "    <tr>\n",
              "      <th>1</th>\n",
              "      <td>52</td>\n",
              "      <td>357</td>\n",
              "      <td>1</td>\n",
              "    </tr>\n",
              "    <tr>\n",
              "      <th>2</th>\n",
              "      <td>44</td>\n",
              "      <td>278</td>\n",
              "      <td>3</td>\n",
              "    </tr>\n",
              "    <tr>\n",
              "      <th>3</th>\n",
              "      <td>40</td>\n",
              "      <td>267</td>\n",
              "      <td>3</td>\n",
              "    </tr>\n",
              "    <tr>\n",
              "      <th>4</th>\n",
              "      <td>44</td>\n",
              "      <td>274</td>\n",
              "      <td>1</td>\n",
              "    </tr>\n",
              "  </tbody>\n",
              "</table>\n",
              "</div>"
            ],
            "text/plain": [
              "      N° de motoristas  Fadiga  Acidentes\n",
              "HORA                                     \n",
              "0                   41     225          4\n",
              "1                   52     357          1\n",
              "2                   44     278          3\n",
              "3                   40     267          3\n",
              "4                   44     274          1"
            ]
          },
          "metadata": {
            "tags": []
          },
          "execution_count": 377
        }
      ]
    }
  ]
}