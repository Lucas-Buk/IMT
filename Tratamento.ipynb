{
  "nbformat": 4,
  "nbformat_minor": 0,
  "metadata": {
    "colab": {
      "name": "Tratamento.ipynb",
      "provenance": [],
      "collapsed_sections": [
        "oyIb2QifkUZS",
        "U_9GSUcGowQ7",
        "PAG4ul1wkRW2",
        "awEU2t0WmvYm",
        "UBzOuw7aorcX",
        "1iBt-vIDJsMQ",
        "1reHTDe6OR8g",
        "zU3CewjDOiUY",
        "SUDJtzItpsXo",
        "yxtKyQmLp6pL",
        "dlFXrCqFl_KW",
        "Hr6-zODlOxE-",
        "4NziHuukWQ4U",
        "kXATWDn_8AUU",
        "lfqvYn_lWULy",
        "-CWTijrd8KY-",
        "ohe9g9F08Nwm",
        "DZK1CcByahQp",
        "zzgpC4w_DFj7"
      ],
      "mount_file_id": "1xXTKEbiCmxcvDWXsA-8eQtV3m3T2OpUq",
      "authorship_tag": "ABX9TyP9/Y/fvGThyH5n/sAPNQ0G",
      "include_colab_link": true
    },
    "kernelspec": {
      "name": "python3",
      "display_name": "Python 3"
    }
  },
  "cells": [
    {
      "cell_type": "markdown",
      "metadata": {
        "id": "view-in-github",
        "colab_type": "text"
      },
      "source": [
        "<a href=\"https://colab.research.google.com/github/Lucas-Buk/IMT/blob/main/Tratamento.ipynb\" target=\"_parent\"><img src=\"https://colab.research.google.com/assets/colab-badge.svg\" alt=\"Open In Colab\"/></a>"
      ]
    },
    {
      "cell_type": "markdown",
      "metadata": {
        "id": "oyIb2QifkUZS"
      },
      "source": [
        "# **Bibliotecas**"
      ]
    },
    {
      "cell_type": "code",
      "metadata": {
        "id": "2l2PtKfRI-Ko",
        "colab": {
          "base_uri": "https://localhost:8080/"
        },
        "outputId": "262a6655-9c39-41c6-ae3a-5d64fbd9d990"
      },
      "source": [
        "# instala biblioteca para leitura de excel e biblioteca gráfica\n",
        "\n",
        "!pip install xlrd\n",
        "!pip install -U plotly\n",
        "# !pip install plotly==4.8.1\n",
        "\n",
        "# organização da planilha excel\n",
        "\n",
        "!pip install nltk\n",
        "\n",
        "# Exportando figuras com melhores resoluções\n",
        "\n",
        "!pip install -U kaleido"
      ],
      "execution_count": 1,
      "outputs": [
        {
          "output_type": "stream",
          "text": [
            "Requirement already satisfied: xlrd in /usr/local/lib/python3.7/dist-packages (1.1.0)\n",
            "Requirement already up-to-date: plotly in /usr/local/lib/python3.7/dist-packages (4.14.3)\n",
            "Requirement already satisfied, skipping upgrade: six in /usr/local/lib/python3.7/dist-packages (from plotly) (1.15.0)\n",
            "Requirement already satisfied, skipping upgrade: retrying>=1.3.3 in /usr/local/lib/python3.7/dist-packages (from plotly) (1.3.3)\n",
            "Requirement already satisfied: nltk in /usr/local/lib/python3.7/dist-packages (3.2.5)\n",
            "Requirement already satisfied: six in /usr/local/lib/python3.7/dist-packages (from nltk) (1.15.0)\n",
            "Requirement already up-to-date: kaleido in /usr/local/lib/python3.7/dist-packages (0.2.0)\n"
          ],
          "name": "stdout"
        }
      ]
    },
    {
      "cell_type": "code",
      "metadata": {
        "id": "HaqiwShwhsD5",
        "colab": {
          "base_uri": "https://localhost:8080/"
        },
        "outputId": "ac4b1b60-e010-486d-9d13-62cc95051602"
      },
      "source": [
        "!add-apt-repository -y ppa:cran/poppler\n",
        "!apt-get update\n",
        "!apt-get install -y libpoppler-cpp-dev"
      ],
      "execution_count": 2,
      "outputs": [
        {
          "output_type": "stream",
          "text": [
            "\r0% [Working]\r            \rIgn:1 https://developer.download.nvidia.com/compute/cuda/repos/ubuntu1804/x86_64  InRelease\n",
            "\r0% [Waiting for headers] [Waiting for headers] [Waiting for headers] [Waiting f\r                                                                               \rHit:2 https://cloud.r-project.org/bin/linux/ubuntu bionic-cran40/ InRelease\n",
            "\r0% [Waiting for headers] [Waiting for headers] [Waiting for headers] [Waiting f\r0% [2 InRelease gpgv 3,626 B] [Waiting for headers] [Waiting for headers] [Wait\r                                                                               \rHit:3 http://ppa.launchpad.net/c2d4u.team/c2d4u4.0+/ubuntu bionic InRelease\n",
            "\r0% [2 InRelease gpgv 3,626 B] [Waiting for headers] [Waiting for headers] [Conn\r                                                                               \rHit:4 http://security.ubuntu.com/ubuntu bionic-security InRelease\n",
            "\r0% [2 InRelease gpgv 3,626 B] [Waiting for headers] [Connecting to ppa.launchpa\r                                                                               \rIgn:5 https://developer.download.nvidia.com/compute/machine-learning/repos/ubuntu1804/x86_64  InRelease\n",
            "\r0% [2 InRelease gpgv 3,626 B] [Waiting for headers] [Connecting to ppa.launchpa\r                                                                               \rHit:6 http://archive.ubuntu.com/ubuntu bionic InRelease\n",
            "\r0% [2 InRelease gpgv 3,626 B] [Waiting for headers] [Connecting to ppa.launchpa\r                                                                               \rHit:7 https://developer.download.nvidia.com/compute/cuda/repos/ubuntu1804/x86_64  Release\n",
            "Hit:8 https://developer.download.nvidia.com/compute/machine-learning/repos/ubuntu1804/x86_64  Release\n",
            "Hit:9 http://archive.ubuntu.com/ubuntu bionic-updates InRelease\n",
            "Hit:10 http://ppa.launchpad.net/cran/libgit2/ubuntu bionic InRelease\n",
            "Hit:11 http://archive.ubuntu.com/ubuntu bionic-backports InRelease\n",
            "Hit:12 http://ppa.launchpad.net/cran/poppler/ubuntu bionic InRelease\n",
            "Hit:13 http://ppa.launchpad.net/deadsnakes/ppa/ubuntu bionic InRelease\n",
            "Hit:14 http://ppa.launchpad.net/graphics-drivers/ppa/ubuntu bionic InRelease\n",
            "Reading package lists... Done\n",
            "Hit:1 http://security.ubuntu.com/ubuntu bionic-security InRelease\n",
            "Ign:2 https://developer.download.nvidia.com/compute/cuda/repos/ubuntu1804/x86_64  InRelease\n",
            "Hit:3 https://cloud.r-project.org/bin/linux/ubuntu bionic-cran40/ InRelease\n",
            "Ign:4 https://developer.download.nvidia.com/compute/machine-learning/repos/ubuntu1804/x86_64  InRelease\n",
            "Hit:5 http://ppa.launchpad.net/c2d4u.team/c2d4u4.0+/ubuntu bionic InRelease\n",
            "Hit:6 http://archive.ubuntu.com/ubuntu bionic InRelease\n",
            "Hit:7 https://developer.download.nvidia.com/compute/cuda/repos/ubuntu1804/x86_64  Release\n",
            "Hit:8 https://developer.download.nvidia.com/compute/machine-learning/repos/ubuntu1804/x86_64  Release\n",
            "Hit:9 http://archive.ubuntu.com/ubuntu bionic-updates InRelease\n",
            "Hit:10 http://archive.ubuntu.com/ubuntu bionic-backports InRelease\n",
            "Hit:11 http://ppa.launchpad.net/cran/libgit2/ubuntu bionic InRelease\n",
            "Hit:12 http://ppa.launchpad.net/cran/poppler/ubuntu bionic InRelease\n",
            "Hit:13 http://ppa.launchpad.net/deadsnakes/ppa/ubuntu bionic InRelease\n",
            "Hit:14 http://ppa.launchpad.net/graphics-drivers/ppa/ubuntu bionic InRelease\n",
            "Reading package lists... Done\n",
            "Reading package lists... Done\n",
            "Building dependency tree       \n",
            "Reading state information... Done\n",
            "libpoppler-cpp-dev is already the newest version (0.74.0-bionic0).\n",
            "0 upgraded, 0 newly installed, 0 to remove and 55 not upgraded.\n"
          ],
          "name": "stdout"
        }
      ]
    },
    {
      "cell_type": "code",
      "metadata": {
        "id": "SWoaxYhJfoal",
        "colab": {
          "base_uri": "https://localhost:8080/"
        },
        "outputId": "3763698f-2651-4358-b4a8-a39393155fac"
      },
      "source": [
        "!apt-get install poppler-utils "
      ],
      "execution_count": 3,
      "outputs": [
        {
          "output_type": "stream",
          "text": [
            "Reading package lists... Done\n",
            "Building dependency tree       \n",
            "Reading state information... Done\n",
            "poppler-utils is already the newest version (0.74.0-bionic0).\n",
            "0 upgraded, 0 newly installed, 0 to remove and 55 not upgraded.\n"
          ],
          "name": "stdout"
        }
      ]
    },
    {
      "cell_type": "code",
      "metadata": {
        "id": "wU_x9uvLJAz2",
        "colab": {
          "base_uri": "https://localhost:8080/"
        },
        "outputId": "3baf2a3e-bfb7-4a30-c5bc-77ff8654fbd3"
      },
      "source": [
        "# Importa a biblioteca pandas\n",
        "\n",
        "import pandas as pd\n",
        "pd.options.plotting.backend = \"plotly\"\n",
        "\n",
        "# Importa biblioteca para conversão de datas\n",
        "\n",
        "from datetime import datetime\n",
        "\n",
        "# Bilbioteca gráfica utilizada neste estudo\n",
        "\n",
        "import plotly.express as px\n",
        "import plotly.figure_factory as ff\n",
        "\n",
        "# Importando pacote\n",
        "import nltk\n",
        "nltk.download(\"popular\")\n",
        "import pandas as pd\n",
        "import numpy as np\n",
        "\n",
        "# Stemming pt\n",
        "nltk.download('rslp')\n",
        "\n",
        "# biblioteca numérica\n",
        "\n",
        "import scipy.stats as stats\n",
        "import scipy\n",
        "from sklearn.metrics import r2_score"
      ],
      "execution_count": 4,
      "outputs": [
        {
          "output_type": "stream",
          "text": [
            "[nltk_data] Downloading collection 'popular'\n",
            "[nltk_data]    | \n",
            "[nltk_data]    | Downloading package cmudict to /root/nltk_data...\n",
            "[nltk_data]    |   Package cmudict is already up-to-date!\n",
            "[nltk_data]    | Downloading package gazetteers to /root/nltk_data...\n",
            "[nltk_data]    |   Package gazetteers is already up-to-date!\n",
            "[nltk_data]    | Downloading package genesis to /root/nltk_data...\n",
            "[nltk_data]    |   Package genesis is already up-to-date!\n",
            "[nltk_data]    | Downloading package gutenberg to /root/nltk_data...\n",
            "[nltk_data]    |   Package gutenberg is already up-to-date!\n",
            "[nltk_data]    | Downloading package inaugural to /root/nltk_data...\n",
            "[nltk_data]    |   Package inaugural is already up-to-date!\n",
            "[nltk_data]    | Downloading package movie_reviews to\n",
            "[nltk_data]    |     /root/nltk_data...\n",
            "[nltk_data]    |   Package movie_reviews is already up-to-date!\n",
            "[nltk_data]    | Downloading package names to /root/nltk_data...\n",
            "[nltk_data]    |   Package names is already up-to-date!\n",
            "[nltk_data]    | Downloading package shakespeare to /root/nltk_data...\n",
            "[nltk_data]    |   Package shakespeare is already up-to-date!\n",
            "[nltk_data]    | Downloading package stopwords to /root/nltk_data...\n",
            "[nltk_data]    |   Package stopwords is already up-to-date!\n",
            "[nltk_data]    | Downloading package treebank to /root/nltk_data...\n",
            "[nltk_data]    |   Package treebank is already up-to-date!\n",
            "[nltk_data]    | Downloading package twitter_samples to\n",
            "[nltk_data]    |     /root/nltk_data...\n",
            "[nltk_data]    |   Package twitter_samples is already up-to-date!\n",
            "[nltk_data]    | Downloading package omw to /root/nltk_data...\n",
            "[nltk_data]    |   Package omw is already up-to-date!\n",
            "[nltk_data]    | Downloading package wordnet to /root/nltk_data...\n",
            "[nltk_data]    |   Package wordnet is already up-to-date!\n",
            "[nltk_data]    | Downloading package wordnet_ic to /root/nltk_data...\n",
            "[nltk_data]    |   Package wordnet_ic is already up-to-date!\n",
            "[nltk_data]    | Downloading package words to /root/nltk_data...\n",
            "[nltk_data]    |   Package words is already up-to-date!\n",
            "[nltk_data]    | Downloading package maxent_ne_chunker to\n",
            "[nltk_data]    |     /root/nltk_data...\n",
            "[nltk_data]    |   Package maxent_ne_chunker is already up-to-date!\n",
            "[nltk_data]    | Downloading package punkt to /root/nltk_data...\n",
            "[nltk_data]    |   Package punkt is already up-to-date!\n",
            "[nltk_data]    | Downloading package snowball_data to\n",
            "[nltk_data]    |     /root/nltk_data...\n",
            "[nltk_data]    |   Package snowball_data is already up-to-date!\n",
            "[nltk_data]    | Downloading package averaged_perceptron_tagger to\n",
            "[nltk_data]    |     /root/nltk_data...\n",
            "[nltk_data]    |   Package averaged_perceptron_tagger is already up-\n",
            "[nltk_data]    |       to-date!\n",
            "[nltk_data]    | \n",
            "[nltk_data]  Done downloading collection popular\n",
            "[nltk_data] Downloading package rslp to /root/nltk_data...\n",
            "[nltk_data]   Package rslp is already up-to-date!\n"
          ],
          "name": "stdout"
        }
      ]
    },
    {
      "cell_type": "code",
      "metadata": {
        "id": "4z8cvklVJEsy",
        "colab": {
          "base_uri": "https://localhost:8080/"
        },
        "outputId": "553d9fb1-bf4d-4fa6-e9c8-d06572911bb0"
      },
      "source": [
        "# biblioteca numérica\n",
        "from scipy.interpolate import interp1d\n",
        "from scipy import stats\n",
        "from sklearn import datasets, linear_model\n",
        "from sklearn.linear_model import LinearRegression\n",
        "import statsmodels.api as sm"
      ],
      "execution_count": 5,
      "outputs": [
        {
          "output_type": "stream",
          "text": [
            "/usr/local/lib/python3.7/dist-packages/statsmodels/tools/_testing.py:19: FutureWarning: pandas.util.testing is deprecated. Use the functions in the public API at pandas.testing instead.\n",
            "  import pandas.util.testing as tm\n"
          ],
          "name": "stderr"
        }
      ]
    },
    {
      "cell_type": "code",
      "metadata": {
        "id": "UH1h_0m6JHng"
      },
      "source": [
        "from plotly.subplots import make_subplots\n",
        "import plotly.graph_objects as go"
      ],
      "execution_count": 6,
      "outputs": []
    },
    {
      "cell_type": "code",
      "metadata": {
        "id": "U7hcjWG_OKtj"
      },
      "source": [
        "# Diretório de imagens\n",
        "import os\n",
        "if not os.path.exists(\"images\"):\n",
        "    os.mkdir(\"images\")"
      ],
      "execution_count": 7,
      "outputs": []
    },
    {
      "cell_type": "code",
      "metadata": {
        "id": "ioHLF_A1rPFY"
      },
      "source": [
        "from scipy.optimize import curve_fit\n",
        "import math\n",
        "import matplotlib.pyplot as plt\n",
        "import matplotlib"
      ],
      "execution_count": 8,
      "outputs": []
    },
    {
      "cell_type": "markdown",
      "metadata": {
        "id": "U_9GSUcGowQ7"
      },
      "source": [
        "# **Funções proprietárias**"
      ]
    },
    {
      "cell_type": "code",
      "metadata": {
        "id": "kfdXhX7my5GO"
      },
      "source": [
        "#######################################################################\n",
        "\n",
        "def DataNorm(Acc):\n",
        "\n",
        "  # Montagem do Kernel\n",
        "\n",
        "  variavel =  scipy.stats.zscore(Acc, axis=0, ddof=0)\n",
        "  empilhada = variavel.tolist()\n",
        "  empilhada += [24+i for i in variavel.tolist() ]\n",
        "  empilhada += [48+i for i in variavel.tolist() ]\n",
        "  bins = np.linspace(0,24,24)\n",
        "  bins = 3*bins.tolist()\n",
        "  Kernel = stats.gaussian_kde(empilhada)\n",
        "\n",
        "  Acc_kernel = Kernel(np.linspace(25,49,24))\n",
        "\n",
        "\n",
        "  return Acc_kernel\n",
        "\n",
        "#######################################################################"
      ],
      "execution_count": 9,
      "outputs": []
    },
    {
      "cell_type": "code",
      "metadata": {
        "id": "69-xdZHHa9bF"
      },
      "source": [
        "# Polynomial Regression\n",
        "def polyfit(x, y, degree):\n",
        "    results = {}\n",
        "\n",
        "    coeffs = np.polyfit(x, y, degree)\n",
        "     # Polynomial Coefficients\n",
        "    results['polynomial'] = coeffs.tolist()\n",
        "\n",
        "    correlation = np.corrcoef(x, y)[0,1]\n",
        "\n",
        "     # r\n",
        "    results['correlation'] = correlation\n",
        "     # r-squared\n",
        "    results['determination'] = correlation**2\n",
        "\n",
        "    return results"
      ],
      "execution_count": 10,
      "outputs": []
    },
    {
      "cell_type": "markdown",
      "metadata": {
        "id": "zso4KPBaCZFx"
      },
      "source": [
        "**Função de visualização:**\n",
        "\n",
        "f(a1,a2,a3,... aN, 'acidente', 'bocejo',...'final')\n",
        "\n",
        "Comando (!)"
      ]
    },
    {
      "cell_type": "code",
      "metadata": {
        "id": "2M3jvOVx31X6"
      },
      "source": [
        "def graphics_plot(y, y_name, yaxes_title, title='Title', bins=1, x_tick=1, save=False):\r\n",
        "\r\n",
        "  '''\r\n",
        "  y = [y1, y2, y3, y4]\r\n",
        "\r\n",
        "  y_name = ['y1 name', 'y2 name', 'y3 name', 'y4 name']\r\n",
        "\r\n",
        "  bins = number of bins for x scale\r\n",
        "\r\n",
        "  title = 'Title'\r\n",
        "\r\n",
        "  yaxes_title = ['Title yaxes1', 'Title yaxes2', 'Title yaxes3', 'Title yaxes4']\r\n",
        "\r\n",
        "  x_tick = dtick for axis x\r\n",
        "\r\n",
        "  save = True -> save graphics as image (images/title.eps) \r\n",
        "  '''\r\n",
        "\r\n",
        "  # Create figure with secondary y-axis\r\n",
        "  fig = make_subplots(specs=[[{'secondary_y': True}]])\r\n",
        "\r\n",
        "  # Markers\r\n",
        "  markers = ['circle','star','diamond','x']\r\n",
        "\r\n",
        "  # Lines\r\n",
        "  dash = ['dash','dot','dashdot']\r\n",
        "\r\n",
        "  for i, v in enumerate(y):\r\n",
        "    \r\n",
        "    if (len(yaxes_title) == 1) | (i < len(y) - 1):\r\n",
        "      on = False\r\n",
        "    else:\r\n",
        "      on = True\r\n",
        "\r\n",
        "    if i == 0:\r\n",
        "      # Add traces\r\n",
        "      fig.add_trace(\r\n",
        "          go.Scatter(x=np.linspace(0,24,bins),\r\n",
        "          y=v, name=y_name[i],\r\n",
        "          marker_symbol=markers[i],\r\n",
        "          marker_size=7,\r\n",
        "          mode='lines+markers',\r\n",
        "          line=dict(color='rgb(0, 0, 0)',\r\n",
        "          width=2)),\r\n",
        "          # line_shape='spline'),\r\n",
        "          secondary_y=False)\r\n",
        "      \r\n",
        "    else:\r\n",
        "      # Add traces\r\n",
        "      fig.add_trace(\r\n",
        "          go.Scatter(x=np.linspace(0,24,bins),\r\n",
        "          y=v, name=y_name[i],\r\n",
        "          marker_symbol=markers[i],\r\n",
        "          marker_size=7,\r\n",
        "          mode='lines+markers',\r\n",
        "          line=dict(color='rgb(0, 0, 0)',\r\n",
        "          width=2,dash=dash[i-1])),\r\n",
        "          # line_shape='spline'),\r\n",
        "          secondary_y=on)\r\n",
        "  \r\n",
        "  # Add figure title\r\n",
        "  fig.update_layout(title_text=title)\r\n",
        "  \r\n",
        "  # Set x-axis title\r\n",
        "  fig.update_xaxes(title_text='Time of day')\r\n",
        "\r\n",
        "  # Set y-axes titles\r\n",
        "  if len(yaxes_title) > 1:\r\n",
        "    fig.update_yaxes(title_text='<b>'+ yaxes_title[0] +'</b>', secondary_y=False)\r\n",
        "    fig.update_yaxes(title_text='<b>'+ yaxes_title[1] +'</b>', secondary_y=True)\r\n",
        "  else:\r\n",
        "    fig.update_yaxes(title_text='<b>'+ yaxes_title[0] +'</b>', secondary_y=False)\r\n",
        "\r\n",
        "  \r\n",
        "  fig.update_xaxes(showgrid=True, gridwidth=1, gridcolor='black')\r\n",
        "  fig.update_yaxes(showgrid=False, gridwidth=1, gridcolor='black')\r\n",
        "\r\n",
        "  fig.update_xaxes(showline=True, linewidth=2, linecolor='black', mirror=True)\r\n",
        "  fig.update_yaxes(showline=True, linewidth=2, linecolor='black', mirror=True)\r\n",
        "\r\n",
        "  fig.update_layout(\r\n",
        "      paper_bgcolor='rgba(0,0,0,0)',\r\n",
        "      plot_bgcolor='rgba(0,0,0,0)'\r\n",
        "  )\r\n",
        "\r\n",
        "  fig.update_layout(\r\n",
        "      xaxis=dict(\r\n",
        "      tickmode='linear',\r\n",
        "      tick0=0,\r\n",
        "      dtick=x_tick\r\n",
        "  ))\r\n",
        "\r\n",
        "  fig.update_layout(legend=dict(\r\n",
        "    orientation='h',\r\n",
        "    yanchor='bottom',\r\n",
        "    y=1.01,\r\n",
        "    xanchor='right',\r\n",
        "    x=0.95\r\n",
        "  ))\r\n",
        "\r\n",
        "  fig.show()\r\n",
        "\r\n",
        "  if save:\r\n",
        "    fig.write_image('images/'+title+'.eps')"
      ],
      "execution_count": 11,
      "outputs": []
    },
    {
      "cell_type": "code",
      "metadata": {
        "id": "LSzZfPh8yePR"
      },
      "source": [
        "def graphics_plot_v2(y, y_name, yaxes_title, title='Title', bins=1, x_tick=1, save=False):\r\n",
        "\r\n",
        "  '''\r\n",
        "  y = [y1, y2, y3, y4]\r\n",
        "\r\n",
        "  y_name = ['y1 name', 'y2 name', 'y3 name', 'y4 name']\r\n",
        "\r\n",
        "  bins = number of bins for x scale\r\n",
        "\r\n",
        "  title = 'Title'\r\n",
        "\r\n",
        "  yaxes_title = ['Title yaxes1', 'Title yaxes2', 'Title yaxes3', 'Title yaxes4']\r\n",
        "\r\n",
        "  x_tick = dtick for axis x\r\n",
        "\r\n",
        "  save = True -> save graphics as image (images/title.eps) \r\n",
        "  '''\r\n",
        "\r\n",
        "  # Create figure with secondary y-axis\r\n",
        "  fig = make_subplots(specs=[[{'secondary_y': True}]])\r\n",
        "\r\n",
        "  # Markers\r\n",
        "  markers = ['circle','star','diamond','x']\r\n",
        "\r\n",
        "  # Lines\r\n",
        "  dash = ['dash','dot','dashdot']\r\n",
        "\r\n",
        "  if len(yaxes_title) == 1:\r\n",
        "    on = False\r\n",
        "  else:\r\n",
        "    on = True\r\n",
        "\r\n",
        "  j = 0\r\n",
        "  k = 0\r\n",
        "\r\n",
        "  for i, v in enumerate(y):\r\n",
        "\r\n",
        "    if (len(yaxes_title) == 1) | (i < len(y) - 1):\r\n",
        "      on = False\r\n",
        "    else:\r\n",
        "      on = True\r\n",
        "\r\n",
        "    if k == 4:\r\n",
        "      k = 0\r\n",
        "      j+=1\r\n",
        "    \r\n",
        "    if k==0:\r\n",
        "      # Add traces\r\n",
        "      fig.add_trace(\r\n",
        "          go.Scatter(x=np.linspace(0,24,bins),\r\n",
        "          y=v, name=y_name[i],\r\n",
        "          marker_symbol=markers[j],\r\n",
        "          marker_size=7,\r\n",
        "          mode='lines+markers',\r\n",
        "          line=dict(color='rgb(0, 0, 0)',\r\n",
        "          width=2),),\r\n",
        "          # line_shape='spline'),\r\n",
        "          secondary_y=False)\r\n",
        "      \r\n",
        "    else:\r\n",
        "      # Add traces\r\n",
        "      fig.add_trace(\r\n",
        "          go.Scatter(x=np.linspace(0,24,bins),\r\n",
        "          y=v, name=y_name[i],\r\n",
        "          marker_symbol=markers[j],\r\n",
        "          marker_size=7,\r\n",
        "          mode='lines+markers',\r\n",
        "          line=dict(color='rgb(0, 0, 0)',\r\n",
        "          width=2, dash=dash[k-1]),),\r\n",
        "          # line_shape='spline'),\r\n",
        "          secondary_y=on)\r\n",
        "    k+=1\r\n",
        "  \r\n",
        "  # Add figure title\r\n",
        "  fig.update_layout(title_text=title)\r\n",
        "  \r\n",
        "  # Set x-axis title\r\n",
        "  fig.update_xaxes(title_text='Time of day')\r\n",
        "\r\n",
        "  # Set y-axes titles\r\n",
        "  if len(yaxes_title) > 1:\r\n",
        "    fig.update_yaxes(title_text='<b>'+ yaxes_title[0] +'</b>', secondary_y=False)\r\n",
        "    fig.update_yaxes(title_text='<b>'+ yaxes_title[1] +'</b>', secondary_y=True)\r\n",
        "  else:\r\n",
        "    fig.update_yaxes(title_text='<b>'+ yaxes_title[0] +'</b>', secondary_y=False)\r\n",
        "\r\n",
        "  \r\n",
        "  fig.update_xaxes(showgrid=True, gridwidth=1, gridcolor='black')\r\n",
        "  fig.update_yaxes(showgrid=False, gridwidth=1, gridcolor='black')\r\n",
        "\r\n",
        "  fig.update_xaxes(showline=True, linewidth=2, linecolor='black', mirror=True)\r\n",
        "  fig.update_yaxes(showline=True, linewidth=2, linecolor='black', mirror=True)\r\n",
        "\r\n",
        "  fig.update_layout(\r\n",
        "      paper_bgcolor='rgba(0,0,0,0)',\r\n",
        "      plot_bgcolor='rgba(0,0,0,0)'\r\n",
        "  )\r\n",
        "\r\n",
        "  fig.update_layout(\r\n",
        "      xaxis=dict(\r\n",
        "      tickmode='linear',\r\n",
        "      tick0=0,\r\n",
        "      dtick=x_tick\r\n",
        "  ))\r\n",
        "\r\n",
        "  fig.update_layout(legend=dict(\r\n",
        "    orientation='h',\r\n",
        "    yanchor='bottom',\r\n",
        "    y=1.01,\r\n",
        "    xanchor='right',\r\n",
        "    x=0.95\r\n",
        "  ))\r\n",
        "\r\n",
        "  fig.show()\r\n",
        "\r\n",
        "  if save:\r\n",
        "    fig.write_image('images/'+title+'.eps')"
      ],
      "execution_count": 12,
      "outputs": []
    },
    {
      "cell_type": "markdown",
      "metadata": {
        "id": "PAG4ul1wkRW2"
      },
      "source": [
        "# **Dados**"
      ]
    },
    {
      "cell_type": "code",
      "metadata": {
        "id": "9IJKHatb_AXr"
      },
      "source": [
        "## Carrega uma determinada planilha na variável file\n",
        "\n",
        "# Monitoramento\n",
        "fileE3  = '/content/drive/MyDrive/Trabalho/Datasets/KLB_Final/Monitoramento/Monitoramento 2018_2019 E3.xlsx'\n",
        "fileE5  = '/content/drive/MyDrive/Trabalho/Datasets/KLB_Final/Monitoramento/Monitoramento E5 - 2019.xlsx'\n",
        "fileE9  = '/content/drive/MyDrive/Trabalho/Datasets/KLB_Final/Monitoramento/Monitoramento E9 - Abril 2019 a fevereiro 2020.xlsx'\n",
        "fileE9r = '/content/drive/MyDrive/Trabalho/Datasets/KLB_Final/Monitoramento/Monitoramento E9 - Março a Maio 2020.xlsx'\n",
        "#fileCAS = '/content/drive/MyDrive/Trabalho/Datasets/KLB_Final/Cabine Anti Sono/Cabine Sono.xlsx'\n",
        "# Ocorrências\n",
        "fileOCO = '/content/drive/MyDrive/Trabalho/Datasets/KLB_Final/Ocorrências/Ocorrências_2017_2018_2019.xlsx'\n",
        "\n",
        "# Informações gerais\n",
        "fileINF = '/content/drive/MyDrive/Trabalho/Datasets/KLB_Final/Informações Gerais/Informações gerais empresa Código.xlsx'\n",
        "\n",
        "\n",
        "## Carrega a planilha em um data frame\n",
        "# Monitoramento\n",
        "dfE31 = pd.read_excel(fileE3)\n",
        "xls3 = pd.ExcelFile(fileE3)\n",
        "dfE3 = pd.read_excel(fileE3, xls3.sheet_names[1])\n",
        "\n",
        "dfE5 = pd.read_excel(fileE5) \n",
        "# Arquivo E9 tem mais planilhas internamente\n",
        "dfE9 = pd.read_excel(fileE9)\n",
        "xls9 = pd.ExcelFile(fileE9)\n",
        "dfE91 = pd.read_excel(fileE9, xls9.sheet_names[1])\n",
        "dfE92 = pd.read_excel(fileE9,  xls9.sheet_names[2])\n",
        "#dfCAS = pd.read_excel(fileCAS)\n",
        "# Ocorrencias\n",
        "dfOCO = pd.read_excel(fileOCO)\n",
        "\n",
        "# Informações gerais\n",
        "dfINF = pd.read_excel(fileINF)"
      ],
      "execution_count": 13,
      "outputs": []
    },
    {
      "cell_type": "code",
      "metadata": {
        "id": "LP548xSWNjcb"
      },
      "source": [
        "## Dados PRF ##################################################\r\n",
        "# Acidentes\r\n",
        "\r\n",
        "#file2013  = '/content/drive/MyDrive/Trabalho/Datasets/PRF/PF2013.xlsx'\r\n",
        "#file2014  = '/content/drive/MyDrive/Trabalho/Datasets/PRF/PF2014.xlsx'\r\n",
        "file2015  = '/content/drive/MyDrive/Trabalho/Datasets/PRF/PF2015.xlsx'\r\n",
        "#file2016  = '/content/drive/MyDrive/Trabalho/Datasets/PRF/PF2016.xlsx'\r\n",
        "#file2017  = '/content/drive/MyDrive/Trabalho/Datasets/PRF/PF2017.xlsx'\r\n",
        "\r\n",
        "# Multas\r\n",
        "\r\n",
        "#dfMultas = pd.read_csv('/content/drive/MyDrive/Trabalho/Datasets/PRF/Multas.csv') \r\n",
        "\r\n",
        "#dfVel = pd.read_csv('/content/drive/MyDrive/Trabalho/Datasets/PRF/prfInfraSpeedTruck.csv') \r\n",
        "#dfBr  = pd.read_csv('/content/drive/MyDrive/Trabalho/Datasets/PRF/sumInfraAggBr.csv') \r\n",
        "#dfLei = pd.read_csv('/content/drive/MyDrive/Trabalho/Datasets/PRF/sumInfraAggLei.csv') \r\n",
        "#dfMes = pd.read_csv('/content/drive/MyDrive/Trabalho/Datasets/PRF/sumInfraAggMonth.csv') \r\n",
        "#dfEst = pd.read_csv('/content/drive/MyDrive/Trabalho/Datasets/PRF/sumInfraAggSeason.csv') \r\n",
        "#dfSem = pd.read_csv('/content/drive/MyDrive/Trabalho/Datasets/PRF/sumInfraAggWeek.csv') \r\n",
        "#dfAno = pd.read_csv('/content/drive/MyDrive/Trabalho/Datasets/PRF/sumInfraAggYear.csv') \r\n",
        "\r\n",
        "# Fluxo\r\n",
        "\r\n",
        "dfFluxo = pd.read_csv('/content/drive/MyDrive/Trabalho/Datasets/PRF/DNIT.csv') \r\n",
        "\r\n",
        "# Montando as bases de dados\r\n",
        "\r\n",
        "#df13 = pd.read_excel(file2013)\r\n",
        "#df14 = pd.read_excel(file2014)\r\n",
        "df15 = pd.read_excel(file2015)\r\n",
        "#df16 = pd.read_excel(file2016)\r\n",
        "#df17 = pd.read_excel(file2017)"
      ],
      "execution_count": 14,
      "outputs": []
    },
    {
      "cell_type": "markdown",
      "metadata": {
        "id": "4NMQffM-j-ks"
      },
      "source": [
        "Corrigindo, a empresa que realiza monitoramento é a E17 e não a E5, por gentileza alterar.\n",
        "\n",
        "Então conforme alinhamos, irei coletar as informações das empresas E17 e E9, além da Klabin. Essas empresas são as que tem monitoramento por câmeras. Além dessas, temos os PMT porém eles iniciaram recentemente o monitoramento por câmeras.\n",
        "\n",
        "Informações sobre o monitoramento:\n",
        "\n",
        "Monitoramento_2018_2019: alertas de sono detectados pelas câmeras nos veículos Klabin. Iniciou em 07 de 2018, sendo que a implantação em 100% dos veículos foi a partir de fevereiro de 2019. Os alertas são referente as piscada de olho superior a 3 segundos.\n",
        "\n",
        "Monitoramento_pmt_códigos:  alertas de sono detectados das pequenas e médias transportadoras. Os alertas são referente as piscada de olho superior a 3 segundos. (Desde 20/08/2019)\n",
        "\n",
        "Dados Monitoramento Empresa E5: alertas de sono da empresa terceira E5 mês 10, avaliam bocejo e fechada de olha, imagens não são tratadas.  (desde o incio do ano)\n",
        "\n",
        "Dados Monitoramento Empresa E9: alertas de sono da empresa terceira E9 mês 10, imagens são tratadas, dados onde a piscada foi superior a 1,5 segundos e menor que 3 segundo (fadiga Nível 1). (desde mês 03 de 2019)."
      ]
    },
    {
      "cell_type": "markdown",
      "metadata": {
        "id": "Pu1bC-fnkRQf"
      },
      "source": [
        "Consegui contato com as empresas e confirmei a informação referente ao descanso, para as 3 empresas avaliadas o descanso é de 60 horas.\n",
        "\n",
        "Sobre o monitoramento da empresa E5 acredito que até segunda-feira encaminho a informação."
      ]
    },
    {
      "cell_type": "markdown",
      "metadata": {
        "id": "kPqQO0apkw8T"
      },
      "source": [
        "Primeiramente gostaria de confirmar se recebeu o shipe que encaminhei e se a informação é suficiente.\n",
        "\n",
        "Entrei em contato com a empresa E9 para entender melhor o que é cada alerta do monitoramento, o Yawn-Warning capta o bocejo, o Atten-Warning é todo e qualquer desvio de atenção, como por exemplo, olhar para o lado, e o Tired é o cansaço, então é quando o motorista fechou o olhou por mais de 1,5 segundos.\n",
        "\n",
        "Sobre o questionamento sobre a jornada, eles não passaram o quanto em horas seria esses dois dias de descanso, porém as empresas E3 e E9, passaram que é fixa a escala, não alterando quando retorno dos dias de descanso.\n",
        "\n",
        "Estou aguardando agora o retorno da empresa E5 para passar o restante das informações."
      ]
    },
    {
      "cell_type": "markdown",
      "metadata": {
        "id": "i3ffKmMklOeF"
      },
      "source": [
        "em uma das planilhas temos escala de trabalho classificada como 1,2,3 - O que significam estes números?\n",
        "Esse número representa qual dia da escala de trabalho o colaborador está. Por exemplo, o colaborador está no segundo dia da escala de trabalho dele.\n",
        "\n",
        "O que é a medida em segundo momento?\n",
        "É quando o colaborador precisou repetir o teste de reflexo por algum motivo, mas não temos a informação do motivo.\n",
        "\n",
        "Escala 4x2 significa 4 dias de trabalho e 2 de descanso?\n",
        "Isso, exatamente.\n",
        "\n",
        "Quando você menciona 3 horas extras - significa que todos fazem ou alguns fazem ?\n",
        "São horas eventuais, mas quando me passaram da frota própria, passaram com essas horas inclusas.\n",
        "\n",
        "Qual o significado do termo PMT?\n",
        "Pequenas e Médias Transportadoras.\n",
        "\n",
        "O que significa o prefixo VPP?existem outras classificações? \n",
        "Es letras do prefixo são referentes as empresas, o VPP é Veículo próprio pesado da nossa frota própria.\n",
        "\n",
        "O que significa Fadiga N1? existem outras classificações? \n",
        "Então essa terminologia é utilizada apenas por uma empresa e significa que o colabora fechou os olhos por mais de 1,5 segundos e no caso a mesma empresa tem o N2 que é quando é por mais de 3 segundos. Mas eles enviaram só as informações de N1 por enquanto.\n",
        "\n",
        "como interpretar as colunas potencial e SAP?\n",
        "Então o potencial é a classificação que damos as ocorrências, vou te enviar o texto que consta no nosso procedimento, mas é nosso critério para definição do potencial e o número SAP é o número para buscar o relatório dessa ocorrência, mantive para caso precise procurar fica mais fácil.\n",
        "\n",
        "Texto Procedimento de Classificação de Ocorrência:\n",
        "\n",
        "Potencialidade: Conceito aplicado para as ocorrências de acidentes e incidentes considerando a suscetibilidade de existir ou acontecer, mas sem a existência real de um determinada de uma perda.\n",
        "\n",
        "Potencial Leve (PL): Acidente ou Incidente onde não houve potencialidade de gerar nenhuma das lesões citadas no critério total e permanente;\n",
        "\n",
        "Potencial Grave (PG): Acidente ou Incidente onde tenha gerado ou houve a possibilidade de ocasionar:\n",
        "\n",
        " Incapacidade total e permanente;\n",
        "\n",
        "\n",
        " Perdas de função;\n",
        "\n",
        "Ø Amputação total ou parcial nos membros superiores e/ou inferiores (amputação de dedo(s) das mãos com perda total da função de preensão, amputação da mão/pé, amputação do antebraço/braço/perna);\n",
        "\n",
        "Ø Perda total ou parcial de um órgão pós trauma ou em decorrência de lesão grave;\n",
        "\n",
        "Ø Perda total ou parcial de função de órgão em decorrência de lesão grave;\n",
        "\n",
        "Ø Fratura exposta;\n",
        "\n",
        "Ø Incapacidade total ou parcial permanente por dano neurológico ou motor;\n",
        "\n",
        "Ø Queimaduras que resultem em sequelas definitivas com restrição de função de membros superiores e inferiores;\n",
        "\n",
        "Danos estéticos;\n",
        "\n",
        "Ø Lesão/cicatriz na face ou deformidade visível com aparência, permanência e irreparabilidade pelos meios comuns ou por si mesma, onde o dano estético apreciável causa complexo ou interfere negativamente na vida social com deformidade de mais de 10% da superfície facial ou 25% de qualquer outra parte do corpo (mãos, pés, braços, pernas e tronco).\n",
        "\n",
        "Potencial Fatal (PF): Acidente ou incidente onde tenha gerado ou houve a potencialidade de fatalidade.\n",
        "\n",
        "Tempo de empresa está em meses ou anos (tem valores como 86 e 407, estão corretos)?\n",
        "Está em meses.\n",
        "\n",
        "Entrei em contato com a empresa E5 e o alerta referente a piscada é de acordo com o número de piscadas por minuto, porém eles não souberem especificar qual seria esse número.\n",
        "\n",
        "A empresa iria tentar a informação, buscando o fornecedor mas ainda não obtive nenhum retorno.\n",
        "\n",
        "Verifiquei alguns pontos para ajuste:\n",
        "\n",
        "- No campo autores, aparece a legenda “1” para meu nome e da Clara, porém na legenda a Klabin está como “c”.\n",
        "\n",
        "- Ainda referente aos autores, segue meu nome completo para atualizar: Verônica Marques Lopes\n",
        "\n",
        "- Na linha “94”, está descrito que a empresa E5 dispõem de 3 sistemas de fadiga, porém conforme descrito na sequência, são apenas 2, bocejo e olho fechado.\n",
        "\n",
        "- Ajustar descrição do alerta referente a E5: número de piscadas por minuto.\n",
        "\n",
        "- Desta forma, na linha “98”, ajustar que o alerta referente a Eye closed, considera critérios diferentes, para as empresas E5 e E9.\n"
      ]
    },
    {
      "cell_type": "markdown",
      "metadata": {
        "id": "awEU2t0WmvYm"
      },
      "source": [
        "# **Tratamento de dados**"
      ]
    },
    {
      "cell_type": "markdown",
      "metadata": {
        "id": "pGwzjshVR0_z"
      },
      "source": [
        "\n",
        "\n",
        "1.   motoristas em cada hora cheia - E3, E5 e E9\n",
        "2.   acidentes em cada hora cheia - madeira\n",
        "3.   eventos em cada hora cheia: bocejo, fadiga, atenção, tired,...\n",
        "\n"
      ]
    },
    {
      "cell_type": "markdown",
      "metadata": {
        "id": "UBzOuw7aorcX"
      },
      "source": [
        "## **Informações Gerais**"
      ]
    },
    {
      "cell_type": "code",
      "metadata": {
        "colab": {
          "base_uri": "https://localhost:8080/",
          "height": 142
        },
        "id": "_Mhn4Rtioqr7",
        "outputId": "9b254c46-8187-4cf1-b7e6-d1170a3efed2"
      },
      "source": [
        "dfINF.head(3)"
      ],
      "execution_count": 15,
      "outputs": [
        {
          "output_type": "execute_result",
          "data": {
            "text/html": [
              "<div>\n",
              "<style scoped>\n",
              "    .dataframe tbody tr th:only-of-type {\n",
              "        vertical-align: middle;\n",
              "    }\n",
              "\n",
              "    .dataframe tbody tr th {\n",
              "        vertical-align: top;\n",
              "    }\n",
              "\n",
              "    .dataframe thead th {\n",
              "        text-align: right;\n",
              "    }\n",
              "</style>\n",
              "<table border=\"1\" class=\"dataframe\">\n",
              "  <thead>\n",
              "    <tr style=\"text-align: right;\">\n",
              "      <th></th>\n",
              "      <th>Empresa</th>\n",
              "      <th>Escala</th>\n",
              "      <th>Jornada</th>\n",
              "      <th>Intervalos</th>\n",
              "      <th>N° de Colaboradores por turno</th>\n",
              "      <th>Tempo médio de deslocamento</th>\n",
              "      <th>Observação</th>\n",
              "      <th>Unnamed: 7</th>\n",
              "    </tr>\n",
              "  </thead>\n",
              "  <tbody>\n",
              "    <tr>\n",
              "      <th>0</th>\n",
              "      <td>E5</td>\n",
              "      <td>4X2</td>\n",
              "      <td>00 às 11 horas</td>\n",
              "      <td>1 hora refeição (deve ser entre a 4ª e 6ª hora)</td>\n",
              "      <td>3.0</td>\n",
              "      <td>NaN</td>\n",
              "      <td>NaN</td>\n",
              "      <td>NaN</td>\n",
              "    </tr>\n",
              "    <tr>\n",
              "      <th>1</th>\n",
              "      <td>E5</td>\n",
              "      <td>4X2</td>\n",
              "      <td>1 às 12 horas</td>\n",
              "      <td>1 hora refeição (deve ser entre a 4ª e 6ª hora)</td>\n",
              "      <td>8.0</td>\n",
              "      <td>NaN</td>\n",
              "      <td>NaN</td>\n",
              "      <td>NaN</td>\n",
              "    </tr>\n",
              "    <tr>\n",
              "      <th>2</th>\n",
              "      <td>E5</td>\n",
              "      <td>4X2</td>\n",
              "      <td>2 às 13 horas</td>\n",
              "      <td>1 hora refeição (deve ser entre a 4ª e 6ª hora)</td>\n",
              "      <td>6.0</td>\n",
              "      <td>NaN</td>\n",
              "      <td>NaN</td>\n",
              "      <td>NaN</td>\n",
              "    </tr>\n",
              "  </tbody>\n",
              "</table>\n",
              "</div>"
            ],
            "text/plain": [
              "  Empresa Escala  ... Observação Unnamed: 7\n",
              "0      E5    4X2  ...        NaN        NaN\n",
              "1      E5    4X2  ...        NaN        NaN\n",
              "2      E5    4X2  ...        NaN        NaN\n",
              "\n",
              "[3 rows x 8 columns]"
            ]
          },
          "metadata": {
            "tags": []
          },
          "execution_count": 15
        }
      ]
    },
    {
      "cell_type": "code",
      "metadata": {
        "colab": {
          "base_uri": "https://localhost:8080/"
        },
        "id": "1SKEiW0hpzOz",
        "outputId": "28bd2535-a22b-479f-bd18-d86329148d1b"
      },
      "source": [
        "dfINF.shape"
      ],
      "execution_count": 16,
      "outputs": [
        {
          "output_type": "execute_result",
          "data": {
            "text/plain": [
              "(66, 8)"
            ]
          },
          "metadata": {
            "tags": []
          },
          "execution_count": 16
        }
      ]
    },
    {
      "cell_type": "code",
      "metadata": {
        "colab": {
          "base_uri": "https://localhost:8080/",
          "height": 142
        },
        "id": "BXfI-yzHDRYi",
        "outputId": "982bd446-2aea-4f64-ca52-186ff6844054"
      },
      "source": [
        "dfInf_expand = dfINF.Jornada.str.split(' ', expand=True)\r\n",
        "dfInf_expand.head(3)"
      ],
      "execution_count": 17,
      "outputs": [
        {
          "output_type": "execute_result",
          "data": {
            "text/html": [
              "<div>\n",
              "<style scoped>\n",
              "    .dataframe tbody tr th:only-of-type {\n",
              "        vertical-align: middle;\n",
              "    }\n",
              "\n",
              "    .dataframe tbody tr th {\n",
              "        vertical-align: top;\n",
              "    }\n",
              "\n",
              "    .dataframe thead th {\n",
              "        text-align: right;\n",
              "    }\n",
              "</style>\n",
              "<table border=\"1\" class=\"dataframe\">\n",
              "  <thead>\n",
              "    <tr style=\"text-align: right;\">\n",
              "      <th></th>\n",
              "      <th>0</th>\n",
              "      <th>1</th>\n",
              "      <th>2</th>\n",
              "      <th>3</th>\n",
              "    </tr>\n",
              "  </thead>\n",
              "  <tbody>\n",
              "    <tr>\n",
              "      <th>0</th>\n",
              "      <td>00</td>\n",
              "      <td>às</td>\n",
              "      <td>11</td>\n",
              "      <td>horas</td>\n",
              "    </tr>\n",
              "    <tr>\n",
              "      <th>1</th>\n",
              "      <td>1</td>\n",
              "      <td>às</td>\n",
              "      <td>12</td>\n",
              "      <td>horas</td>\n",
              "    </tr>\n",
              "    <tr>\n",
              "      <th>2</th>\n",
              "      <td>2</td>\n",
              "      <td>às</td>\n",
              "      <td>13</td>\n",
              "      <td>horas</td>\n",
              "    </tr>\n",
              "  </tbody>\n",
              "</table>\n",
              "</div>"
            ],
            "text/plain": [
              "    0   1   2      3\n",
              "0  00  às  11  horas\n",
              "1   1  às  12  horas\n",
              "2   2  às  13  horas"
            ]
          },
          "metadata": {
            "tags": []
          },
          "execution_count": 17
        }
      ]
    },
    {
      "cell_type": "code",
      "metadata": {
        "colab": {
          "base_uri": "https://localhost:8080/",
          "height": 142
        },
        "id": "o4r35sRmExRe",
        "outputId": "c8100506-163f-48e1-b3ca-1075901a1e98"
      },
      "source": [
        "dfINF['Inicio'] = dfInf_expand[0].astype('int64')\r\n",
        "dfINF['Fim'] = dfInf_expand[2].astype('int64')\r\n",
        "dfINF.tail(3)"
      ],
      "execution_count": 18,
      "outputs": [
        {
          "output_type": "execute_result",
          "data": {
            "text/html": [
              "<div>\n",
              "<style scoped>\n",
              "    .dataframe tbody tr th:only-of-type {\n",
              "        vertical-align: middle;\n",
              "    }\n",
              "\n",
              "    .dataframe tbody tr th {\n",
              "        vertical-align: top;\n",
              "    }\n",
              "\n",
              "    .dataframe thead th {\n",
              "        text-align: right;\n",
              "    }\n",
              "</style>\n",
              "<table border=\"1\" class=\"dataframe\">\n",
              "  <thead>\n",
              "    <tr style=\"text-align: right;\">\n",
              "      <th></th>\n",
              "      <th>Empresa</th>\n",
              "      <th>Escala</th>\n",
              "      <th>Jornada</th>\n",
              "      <th>Intervalos</th>\n",
              "      <th>N° de Colaboradores por turno</th>\n",
              "      <th>Tempo médio de deslocamento</th>\n",
              "      <th>Observação</th>\n",
              "      <th>Unnamed: 7</th>\n",
              "      <th>Inicio</th>\n",
              "      <th>Fim</th>\n",
              "    </tr>\n",
              "  </thead>\n",
              "  <tbody>\n",
              "    <tr>\n",
              "      <th>63</th>\n",
              "      <td>E9</td>\n",
              "      <td>4X2</td>\n",
              "      <td>18 às 06 horas</td>\n",
              "      <td>Mínimo 1 hora</td>\n",
              "      <td>8.0</td>\n",
              "      <td>Aproximadamente 22 min</td>\n",
              "      <td>NaN</td>\n",
              "      <td>NaN</td>\n",
              "      <td>18</td>\n",
              "      <td>6</td>\n",
              "    </tr>\n",
              "    <tr>\n",
              "      <th>64</th>\n",
              "      <td>E9</td>\n",
              "      <td>4X2</td>\n",
              "      <td>19 às 07 horas</td>\n",
              "      <td>Mínimo 1 hora</td>\n",
              "      <td>2.0</td>\n",
              "      <td>Aproximadamente 22 min</td>\n",
              "      <td>NaN</td>\n",
              "      <td>NaN</td>\n",
              "      <td>19</td>\n",
              "      <td>7</td>\n",
              "    </tr>\n",
              "    <tr>\n",
              "      <th>65</th>\n",
              "      <td>E9</td>\n",
              "      <td>4X2</td>\n",
              "      <td>20 às 08 horas</td>\n",
              "      <td>Mínimo 1 hora</td>\n",
              "      <td>2.0</td>\n",
              "      <td>Aproximadamente 22 min</td>\n",
              "      <td>NaN</td>\n",
              "      <td>NaN</td>\n",
              "      <td>20</td>\n",
              "      <td>8</td>\n",
              "    </tr>\n",
              "  </tbody>\n",
              "</table>\n",
              "</div>"
            ],
            "text/plain": [
              "   Empresa Escala         Jornada  ... Unnamed: 7  Inicio Fim\n",
              "63      E9    4X2  18 às 06 horas  ...        NaN      18   6\n",
              "64      E9    4X2  19 às 07 horas  ...        NaN      19   7\n",
              "65      E9    4X2  20 às 08 horas  ...        NaN      20   8\n",
              "\n",
              "[3 rows x 10 columns]"
            ]
          },
          "metadata": {
            "tags": []
          },
          "execution_count": 18
        }
      ]
    },
    {
      "cell_type": "code",
      "metadata": {
        "colab": {
          "base_uri": "https://localhost:8080/"
        },
        "id": "j3U7BX1kFOJr",
        "outputId": "0e717a72-e670-490c-f564-f6d855b98ab4"
      },
      "source": [
        "dfINF.dtypes"
      ],
      "execution_count": 19,
      "outputs": [
        {
          "output_type": "execute_result",
          "data": {
            "text/plain": [
              "Empresa                           object\n",
              "Escala                            object\n",
              "Jornada                           object\n",
              "Intervalos                        object\n",
              "N° de Colaboradores por turno    float64\n",
              "Tempo médio de deslocamento       object\n",
              "Observação                        object\n",
              "Unnamed: 7                        object\n",
              "Inicio                             int64\n",
              "Fim                                int64\n",
              "dtype: object"
            ]
          },
          "metadata": {
            "tags": []
          },
          "execution_count": 19
        }
      ]
    },
    {
      "cell_type": "code",
      "metadata": {
        "colab": {
          "base_uri": "https://localhost:8080/"
        },
        "id": "qp7Zf2OCpXB8",
        "outputId": "f501b6bd-f104-4278-f24c-f00cdb9ae1c9"
      },
      "source": [
        "dfINF.isnull().sum()"
      ],
      "execution_count": 20,
      "outputs": [
        {
          "output_type": "execute_result",
          "data": {
            "text/plain": [
              "Empresa                           0\n",
              "Escala                            0\n",
              "Jornada                           0\n",
              "Intervalos                        0\n",
              "N° de Colaboradores por turno    10\n",
              "Tempo médio de deslocamento      20\n",
              "Observação                       40\n",
              "Unnamed: 7                       40\n",
              "Inicio                            0\n",
              "Fim                               0\n",
              "dtype: int64"
            ]
          },
          "metadata": {
            "tags": []
          },
          "execution_count": 20
        }
      ]
    },
    {
      "cell_type": "code",
      "metadata": {
        "colab": {
          "base_uri": "https://localhost:8080/"
        },
        "id": "wpF7r-7IpjzW",
        "outputId": "f635446e-b96b-4b1d-ef95-1c604ad7ff0f"
      },
      "source": [
        "dfINF_limpo = dfINF.dropna(subset=['N° de Colaboradores por turno'])\r\n",
        "dfINF_limpo.shape"
      ],
      "execution_count": 21,
      "outputs": [
        {
          "output_type": "execute_result",
          "data": {
            "text/plain": [
              "(56, 10)"
            ]
          },
          "metadata": {
            "tags": []
          },
          "execution_count": 21
        }
      ]
    },
    {
      "cell_type": "code",
      "metadata": {
        "colab": {
          "base_uri": "https://localhost:8080/"
        },
        "id": "TTkiR74LqW1n",
        "outputId": "e2fe6350-7eae-4305-cd1a-39a0666f944a"
      },
      "source": [
        "dfINF_limpo.Empresa.value_counts()"
      ],
      "execution_count": 22,
      "outputs": [
        {
          "output_type": "execute_result",
          "data": {
            "text/plain": [
              "E5    20\n",
              "E9    20\n",
              "E3    16\n",
              "Name: Empresa, dtype: int64"
            ]
          },
          "metadata": {
            "tags": []
          },
          "execution_count": 22
        }
      ]
    },
    {
      "cell_type": "code",
      "metadata": {
        "colab": {
          "base_uri": "https://localhost:8080/"
        },
        "id": "09AZzTVKp-i1",
        "outputId": "2836f888-6833-47f5-c98a-242d185e63ff"
      },
      "source": [
        "dfInfE3 = dfINF_limpo[dfINF_limpo.Empresa == 'E3']\r\n",
        "dfInfE5 = dfINF_limpo[dfINF_limpo.Empresa == 'E5']\r\n",
        "dfInfE9 = dfINF_limpo[dfINF_limpo.Empresa == 'E9']\r\n",
        "print(dfInfE3.shape,dfInfE5.shape,dfInfE9.shape)"
      ],
      "execution_count": 23,
      "outputs": [
        {
          "output_type": "stream",
          "text": [
            "(16, 10) (20, 10) (20, 10)\n"
          ],
          "name": "stdout"
        }
      ]
    },
    {
      "cell_type": "markdown",
      "metadata": {
        "id": "1iBt-vIDJsMQ"
      },
      "source": [
        "## **Ocorrências**"
      ]
    },
    {
      "cell_type": "code",
      "metadata": {
        "colab": {
          "base_uri": "https://localhost:8080/",
          "height": 417
        },
        "id": "41IKN1_SJsMn",
        "outputId": "b73b4279-62ca-4f01-9e1a-d3f143716f92"
      },
      "source": [
        "dfOCO.head(3)"
      ],
      "execution_count": 24,
      "outputs": [
        {
          "output_type": "execute_result",
          "data": {
            "text/html": [
              "<div>\n",
              "<style scoped>\n",
              "    .dataframe tbody tr th:only-of-type {\n",
              "        vertical-align: middle;\n",
              "    }\n",
              "\n",
              "    .dataframe tbody tr th {\n",
              "        vertical-align: top;\n",
              "    }\n",
              "\n",
              "    .dataframe thead th {\n",
              "        text-align: right;\n",
              "    }\n",
              "</style>\n",
              "<table border=\"1\" class=\"dataframe\">\n",
              "  <thead>\n",
              "    <tr style=\"text-align: right;\">\n",
              "      <th></th>\n",
              "      <th>CLASSIFICAÇÃO</th>\n",
              "      <th>EMPRESA</th>\n",
              "      <th>GERÊNCIA</th>\n",
              "      <th>COORDENAÇÃO</th>\n",
              "      <th>SUB ÁREA</th>\n",
              "      <th>NOME</th>\n",
              "      <th>CARGO</th>\n",
              "      <th>TEMPO DE EMPRESA</th>\n",
              "      <th>IDADE</th>\n",
              "      <th>\\nDATA DA OCORRÊNCIA</th>\n",
              "      <th>DIA DA SEMANA</th>\n",
              "      <th>HORA</th>\n",
              "      <th>\\nLOCAL DA OCORRÊNCIA</th>\n",
              "      <th>QUALIDADE PISTA</th>\n",
              "      <th>CARACTERISTICA PISTA</th>\n",
              "      <th>SINALIZAÇÃO</th>\n",
              "      <th>CLIMA</th>\n",
              "      <th>PREFIXO</th>\n",
              "      <th>MODELO</th>\n",
              "      <th>CARREGADO</th>\n",
              "      <th>TIPO</th>\n",
              "      <th>DETALHAMENTO</th>\n",
              "      <th>POTENCIAL</th>\n",
              "      <th>SAP</th>\n",
              "      <th>DIA ESCALA</th>\n",
              "      <th>ESCALA</th>\n",
              "      <th>JORNADA</th>\n",
              "      <th>TEMPO DECORRIDO</th>\n",
              "      <th>DORMIU BEM?</th>\n",
              "      <th>PRÓXIMO PERIODO DE FÉRIAS OU FERIADO</th>\n",
              "      <th>ALIMENTOU</th>\n",
              "      <th>PROBLEMAS SAÚDE</th>\n",
              "      <th>USO MEDICAMENTO</th>\n",
              "      <th>USO ALCOOL/DROGA</th>\n",
              "      <th>PRESSÃO</th>\n",
              "      <th>PRESSA PARA CONCLUIR O TRABALHO</th>\n",
              "      <th>DESCRIÇÃO</th>\n",
              "    </tr>\n",
              "  </thead>\n",
              "  <tbody>\n",
              "    <tr>\n",
              "      <th>0</th>\n",
              "      <td>IBP</td>\n",
              "      <td>E3</td>\n",
              "      <td>ANGATUBA</td>\n",
              "      <td>ANGATUBA</td>\n",
              "      <td>PÁTIO DE MADEIRA</td>\n",
              "      <td>C422</td>\n",
              "      <td>OPERADOR DE MÁQUINA FLORESTAL</td>\n",
              "      <td>2</td>\n",
              "      <td>36.0</td>\n",
              "      <td>2017-01-03</td>\n",
              "      <td>TERÇA-FEIRA</td>\n",
              "      <td>10:20:00</td>\n",
              "      <td>PÁTIO DE MADEIRA</td>\n",
              "      <td>NaN</td>\n",
              "      <td>NaN</td>\n",
              "      <td>NaN</td>\n",
              "      <td>NaN</td>\n",
              "      <td>NaN</td>\n",
              "      <td>NaN</td>\n",
              "      <td>NaN</td>\n",
              "      <td>NaN</td>\n",
              "      <td>AO SE DESLOCAR COM O TRATOR ATÉ O PICADOR, A J...</td>\n",
              "      <td>LPG</td>\n",
              "      <td>6008</td>\n",
              "      <td>NaN</td>\n",
              "      <td>NaN</td>\n",
              "      <td>NaN</td>\n",
              "      <td>NaN</td>\n",
              "      <td>NaN</td>\n",
              "      <td>NaN</td>\n",
              "      <td>NaN</td>\n",
              "      <td>NaN</td>\n",
              "      <td>NaN</td>\n",
              "      <td>NaN</td>\n",
              "      <td>NaN</td>\n",
              "      <td>NaN</td>\n",
              "      <td>NaN</td>\n",
              "    </tr>\n",
              "    <tr>\n",
              "      <th>1</th>\n",
              "      <td>IBP</td>\n",
              "      <td>E3</td>\n",
              "      <td>PESQUISA</td>\n",
              "      <td>PESQUISA</td>\n",
              "      <td>PESQUISA</td>\n",
              "      <td>C365</td>\n",
              "      <td>LÍDER DE TURMA</td>\n",
              "      <td>81</td>\n",
              "      <td>28.0</td>\n",
              "      <td>2017-01-04</td>\n",
              "      <td>QUARTA-FEIRA</td>\n",
              "      <td>15:00:00</td>\n",
              "      <td>LAGOA - Viveiro Florestal</td>\n",
              "      <td>NaN</td>\n",
              "      <td>RETA</td>\n",
              "      <td>NaN</td>\n",
              "      <td>NaN</td>\n",
              "      <td>AM-232</td>\n",
              "      <td>NaN</td>\n",
              "      <td>NaN</td>\n",
              "      <td>VEÍCULO DE LOCOMOÇÃO DE PESSOAS</td>\n",
              "      <td>A COLABORADORA ESTAVA EM DESLOCAMENTO NO VIVEI...</td>\n",
              "      <td>LPL</td>\n",
              "      <td>6039</td>\n",
              "      <td>NaN</td>\n",
              "      <td>NaN</td>\n",
              "      <td>NaN</td>\n",
              "      <td>NaN</td>\n",
              "      <td>NaN</td>\n",
              "      <td>NaN</td>\n",
              "      <td>NaN</td>\n",
              "      <td>NaN</td>\n",
              "      <td>NaN</td>\n",
              "      <td>NaN</td>\n",
              "      <td>NaN</td>\n",
              "      <td>NaN</td>\n",
              "      <td>NaN</td>\n",
              "    </tr>\n",
              "    <tr>\n",
              "      <th>2</th>\n",
              "      <td>IAP</td>\n",
              "      <td>E2</td>\n",
              "      <td>LOGÍSTICA</td>\n",
              "      <td>TRANSPORTE FLORESTAL</td>\n",
              "      <td>LOGÍSTICA</td>\n",
              "      <td>C409</td>\n",
              "      <td>MOTORISTA</td>\n",
              "      <td>3</td>\n",
              "      <td>48.0</td>\n",
              "      <td>2017-01-17</td>\n",
              "      <td>TERÇA-FEIRA</td>\n",
              "      <td>21:40:00</td>\n",
              "      <td>DISTRITO INDUSTRIAL</td>\n",
              "      <td>PRECARIA</td>\n",
              "      <td>DECLIVE</td>\n",
              "      <td>NaN</td>\n",
              "      <td>NaN</td>\n",
              "      <td>GFR 028</td>\n",
              "      <td>NaN</td>\n",
              "      <td>SIM</td>\n",
              "      <td>TRANSPORTE DE MADEIRA</td>\n",
              "      <td>COLABORADOR DESLOCAVA-SE COM CAMINHÃO DA EMPRE...</td>\n",
              "      <td>LPG</td>\n",
              "      <td>6072</td>\n",
              "      <td>NaN</td>\n",
              "      <td>NaN</td>\n",
              "      <td>NaN</td>\n",
              "      <td>NaN</td>\n",
              "      <td>NaN</td>\n",
              "      <td>NaN</td>\n",
              "      <td>NaN</td>\n",
              "      <td>NaN</td>\n",
              "      <td>NaN</td>\n",
              "      <td>NaN</td>\n",
              "      <td>NaN</td>\n",
              "      <td>NaN</td>\n",
              "      <td>NaN</td>\n",
              "    </tr>\n",
              "  </tbody>\n",
              "</table>\n",
              "</div>"
            ],
            "text/plain": [
              "  CLASSIFICAÇÃO EMPRESA  ... PRESSA PARA CONCLUIR O TRABALHO DESCRIÇÃO \n",
              "0           IBP      E3  ...                             NaN        NaN\n",
              "1           IBP      E3  ...                             NaN        NaN\n",
              "2           IAP      E2  ...                             NaN        NaN\n",
              "\n",
              "[3 rows x 37 columns]"
            ]
          },
          "metadata": {
            "tags": []
          },
          "execution_count": 24
        }
      ]
    },
    {
      "cell_type": "code",
      "metadata": {
        "colab": {
          "base_uri": "https://localhost:8080/"
        },
        "id": "buHRK3tdJsMp",
        "outputId": "dda8cad7-f679-43d4-96c8-976e940e9afa"
      },
      "source": [
        "dfOCO.columns"
      ],
      "execution_count": 25,
      "outputs": [
        {
          "output_type": "execute_result",
          "data": {
            "text/plain": [
              "Index(['CLASSIFICAÇÃO', 'EMPRESA', 'GERÊNCIA', 'COORDENAÇÃO ', 'SUB ÁREA',\n",
              "       'NOME', 'CARGO', 'TEMPO DE EMPRESA', 'IDADE', '\\nDATA DA OCORRÊNCIA',\n",
              "       'DIA DA SEMANA', 'HORA', ' \\nLOCAL DA OCORRÊNCIA', 'QUALIDADE PISTA',\n",
              "       'CARACTERISTICA PISTA', 'SINALIZAÇÃO', 'CLIMA', 'PREFIXO', 'MODELO',\n",
              "       'CARREGADO', 'TIPO ', 'DETALHAMENTO', 'POTENCIAL', 'SAP', 'DIA ESCALA',\n",
              "       'ESCALA', 'JORNADA ', 'TEMPO DECORRIDO', 'DORMIU BEM?',\n",
              "       'PRÓXIMO PERIODO DE FÉRIAS OU FERIADO', 'ALIMENTOU', 'PROBLEMAS SAÚDE ',\n",
              "       'USO MEDICAMENTO', 'USO ALCOOL/DROGA', 'PRESSÃO',\n",
              "       'PRESSA PARA CONCLUIR O TRABALHO', 'DESCRIÇÃO '],\n",
              "      dtype='object')"
            ]
          },
          "metadata": {
            "tags": []
          },
          "execution_count": 25
        }
      ]
    },
    {
      "cell_type": "code",
      "metadata": {
        "colab": {
          "base_uri": "https://localhost:8080/"
        },
        "id": "-g3Bjtj8JsMq",
        "outputId": "8b1861fe-46f6-4aa0-b7c9-c86b588d9bd1"
      },
      "source": [
        "dfOCO['TIPO '].value_counts()"
      ],
      "execution_count": 26,
      "outputs": [
        {
          "output_type": "execute_result",
          "data": {
            "text/plain": [
              "TRANSPORTE DE MADEIRA              224\n",
              "VEÍCULO DE LOCOMOÇÃO DE PESSOAS    102\n",
              "TRANSPORTE GERAL                    52\n",
              "TRANSPORTE DE MADEIRA                4\n",
              "Name: TIPO , dtype: int64"
            ]
          },
          "metadata": {
            "tags": []
          },
          "execution_count": 26
        }
      ]
    },
    {
      "cell_type": "code",
      "metadata": {
        "colab": {
          "base_uri": "https://localhost:8080/",
          "height": 516
        },
        "id": "Ss5ZaZv6JsMr",
        "outputId": "ef6b8ad0-8e27-4877-9b00-a29556c0b495"
      },
      "source": [
        "# Ocorrências\r\n",
        "dfOCO = pd.read_excel(fileOCO)\r\n",
        "\r\n",
        "dfOCO = dfOCO.dropna(subset=['EMPRESA'])\r\n",
        "dfOCO = dfOCO.dropna(subset=['TIPO '])\r\n",
        "dfOCO['HorarioAcidente'] = pd.to_datetime(dfOCO['HORA'], format='%H:%M:%S').dt.hour\r\n",
        "dfOCO.set_index('HORA', drop=True, inplace=True)\r\n",
        "dfOCO.head(3)"
      ],
      "execution_count": 27,
      "outputs": [
        {
          "output_type": "execute_result",
          "data": {
            "text/html": [
              "<div>\n",
              "<style scoped>\n",
              "    .dataframe tbody tr th:only-of-type {\n",
              "        vertical-align: middle;\n",
              "    }\n",
              "\n",
              "    .dataframe tbody tr th {\n",
              "        vertical-align: top;\n",
              "    }\n",
              "\n",
              "    .dataframe thead th {\n",
              "        text-align: right;\n",
              "    }\n",
              "</style>\n",
              "<table border=\"1\" class=\"dataframe\">\n",
              "  <thead>\n",
              "    <tr style=\"text-align: right;\">\n",
              "      <th></th>\n",
              "      <th>CLASSIFICAÇÃO</th>\n",
              "      <th>EMPRESA</th>\n",
              "      <th>GERÊNCIA</th>\n",
              "      <th>COORDENAÇÃO</th>\n",
              "      <th>SUB ÁREA</th>\n",
              "      <th>NOME</th>\n",
              "      <th>CARGO</th>\n",
              "      <th>TEMPO DE EMPRESA</th>\n",
              "      <th>IDADE</th>\n",
              "      <th>\\nDATA DA OCORRÊNCIA</th>\n",
              "      <th>DIA DA SEMANA</th>\n",
              "      <th>\\nLOCAL DA OCORRÊNCIA</th>\n",
              "      <th>QUALIDADE PISTA</th>\n",
              "      <th>CARACTERISTICA PISTA</th>\n",
              "      <th>SINALIZAÇÃO</th>\n",
              "      <th>CLIMA</th>\n",
              "      <th>PREFIXO</th>\n",
              "      <th>MODELO</th>\n",
              "      <th>CARREGADO</th>\n",
              "      <th>TIPO</th>\n",
              "      <th>DETALHAMENTO</th>\n",
              "      <th>POTENCIAL</th>\n",
              "      <th>SAP</th>\n",
              "      <th>DIA ESCALA</th>\n",
              "      <th>ESCALA</th>\n",
              "      <th>JORNADA</th>\n",
              "      <th>TEMPO DECORRIDO</th>\n",
              "      <th>DORMIU BEM?</th>\n",
              "      <th>PRÓXIMO PERIODO DE FÉRIAS OU FERIADO</th>\n",
              "      <th>ALIMENTOU</th>\n",
              "      <th>PROBLEMAS SAÚDE</th>\n",
              "      <th>USO MEDICAMENTO</th>\n",
              "      <th>USO ALCOOL/DROGA</th>\n",
              "      <th>PRESSÃO</th>\n",
              "      <th>PRESSA PARA CONCLUIR O TRABALHO</th>\n",
              "      <th>DESCRIÇÃO</th>\n",
              "      <th>HorarioAcidente</th>\n",
              "    </tr>\n",
              "    <tr>\n",
              "      <th>HORA</th>\n",
              "      <th></th>\n",
              "      <th></th>\n",
              "      <th></th>\n",
              "      <th></th>\n",
              "      <th></th>\n",
              "      <th></th>\n",
              "      <th></th>\n",
              "      <th></th>\n",
              "      <th></th>\n",
              "      <th></th>\n",
              "      <th></th>\n",
              "      <th></th>\n",
              "      <th></th>\n",
              "      <th></th>\n",
              "      <th></th>\n",
              "      <th></th>\n",
              "      <th></th>\n",
              "      <th></th>\n",
              "      <th></th>\n",
              "      <th></th>\n",
              "      <th></th>\n",
              "      <th></th>\n",
              "      <th></th>\n",
              "      <th></th>\n",
              "      <th></th>\n",
              "      <th></th>\n",
              "      <th></th>\n",
              "      <th></th>\n",
              "      <th></th>\n",
              "      <th></th>\n",
              "      <th></th>\n",
              "      <th></th>\n",
              "      <th></th>\n",
              "      <th></th>\n",
              "      <th></th>\n",
              "      <th></th>\n",
              "      <th></th>\n",
              "    </tr>\n",
              "  </thead>\n",
              "  <tbody>\n",
              "    <tr>\n",
              "      <th>15:00:00</th>\n",
              "      <td>IBP</td>\n",
              "      <td>E3</td>\n",
              "      <td>PESQUISA</td>\n",
              "      <td>PESQUISA</td>\n",
              "      <td>PESQUISA</td>\n",
              "      <td>C365</td>\n",
              "      <td>LÍDER DE TURMA</td>\n",
              "      <td>81</td>\n",
              "      <td>28.0</td>\n",
              "      <td>2017-01-04</td>\n",
              "      <td>QUARTA-FEIRA</td>\n",
              "      <td>LAGOA - Viveiro Florestal</td>\n",
              "      <td>NaN</td>\n",
              "      <td>RETA</td>\n",
              "      <td>NaN</td>\n",
              "      <td>NaN</td>\n",
              "      <td>AM-232</td>\n",
              "      <td>NaN</td>\n",
              "      <td>NaN</td>\n",
              "      <td>VEÍCULO DE LOCOMOÇÃO DE PESSOAS</td>\n",
              "      <td>A COLABORADORA ESTAVA EM DESLOCAMENTO NO VIVEI...</td>\n",
              "      <td>LPL</td>\n",
              "      <td>6039</td>\n",
              "      <td>NaN</td>\n",
              "      <td>NaN</td>\n",
              "      <td>NaN</td>\n",
              "      <td>NaN</td>\n",
              "      <td>NaN</td>\n",
              "      <td>NaN</td>\n",
              "      <td>NaN</td>\n",
              "      <td>NaN</td>\n",
              "      <td>NaN</td>\n",
              "      <td>NaN</td>\n",
              "      <td>NaN</td>\n",
              "      <td>NaN</td>\n",
              "      <td>NaN</td>\n",
              "      <td>15</td>\n",
              "    </tr>\n",
              "    <tr>\n",
              "      <th>21:40:00</th>\n",
              "      <td>IAP</td>\n",
              "      <td>E2</td>\n",
              "      <td>LOGÍSTICA</td>\n",
              "      <td>TRANSPORTE FLORESTAL</td>\n",
              "      <td>LOGÍSTICA</td>\n",
              "      <td>C409</td>\n",
              "      <td>MOTORISTA</td>\n",
              "      <td>3</td>\n",
              "      <td>48.0</td>\n",
              "      <td>2017-01-17</td>\n",
              "      <td>TERÇA-FEIRA</td>\n",
              "      <td>DISTRITO INDUSTRIAL</td>\n",
              "      <td>PRECARIA</td>\n",
              "      <td>DECLIVE</td>\n",
              "      <td>NaN</td>\n",
              "      <td>NaN</td>\n",
              "      <td>GFR 028</td>\n",
              "      <td>NaN</td>\n",
              "      <td>SIM</td>\n",
              "      <td>TRANSPORTE DE MADEIRA</td>\n",
              "      <td>COLABORADOR DESLOCAVA-SE COM CAMINHÃO DA EMPRE...</td>\n",
              "      <td>LPG</td>\n",
              "      <td>6072</td>\n",
              "      <td>NaN</td>\n",
              "      <td>NaN</td>\n",
              "      <td>NaN</td>\n",
              "      <td>NaN</td>\n",
              "      <td>NaN</td>\n",
              "      <td>NaN</td>\n",
              "      <td>NaN</td>\n",
              "      <td>NaN</td>\n",
              "      <td>NaN</td>\n",
              "      <td>NaN</td>\n",
              "      <td>NaN</td>\n",
              "      <td>NaN</td>\n",
              "      <td>NaN</td>\n",
              "      <td>21</td>\n",
              "    </tr>\n",
              "    <tr>\n",
              "      <th>13:51:00</th>\n",
              "      <td>IBP</td>\n",
              "      <td>E3</td>\n",
              "      <td>LOGÍSTICA</td>\n",
              "      <td>PROG. LOGÍSTICA</td>\n",
              "      <td>PROG. LOGÍSTICA E PÁTIOS</td>\n",
              "      <td>C240</td>\n",
              "      <td>SUPERVISOR</td>\n",
              "      <td>17</td>\n",
              "      <td>26.0</td>\n",
              "      <td>2017-01-19</td>\n",
              "      <td>QUINTA-FEIRA</td>\n",
              "      <td>PR 092</td>\n",
              "      <td>ASFALTADA</td>\n",
              "      <td>ACLIVE</td>\n",
              "      <td>NaN</td>\n",
              "      <td>BOAS CONDIÇÕES</td>\n",
              "      <td>AM-329</td>\n",
              "      <td>FOX</td>\n",
              "      <td>NÃO</td>\n",
              "      <td>VEÍCULO DE LOCOMOÇÃO DE PESSOAS</td>\n",
              "      <td>AO DESLOCAR-SE EM ACLIVE COM O VEICULO AM-329 ...</td>\n",
              "      <td>LPL</td>\n",
              "      <td>6081</td>\n",
              "      <td>NaN</td>\n",
              "      <td>NaN</td>\n",
              "      <td>NaN</td>\n",
              "      <td>NaN</td>\n",
              "      <td>NaN</td>\n",
              "      <td>NaN</td>\n",
              "      <td>NaN</td>\n",
              "      <td>NÃO</td>\n",
              "      <td>NaN</td>\n",
              "      <td>NaN</td>\n",
              "      <td>NaN</td>\n",
              "      <td>NÃO</td>\n",
              "      <td>O CONDUTOR ESTAVA BEM DE SAUDE, NÃO ESTAVA COM...</td>\n",
              "      <td>13</td>\n",
              "    </tr>\n",
              "  </tbody>\n",
              "</table>\n",
              "</div>"
            ],
            "text/plain": [
              "         CLASSIFICAÇÃO  ... HorarioAcidente\n",
              "HORA                    ...                \n",
              "15:00:00           IBP  ...              15\n",
              "21:40:00           IAP  ...              21\n",
              "13:51:00           IBP  ...              13\n",
              "\n",
              "[3 rows x 37 columns]"
            ]
          },
          "metadata": {
            "tags": []
          },
          "execution_count": 27
        }
      ]
    },
    {
      "cell_type": "code",
      "metadata": {
        "colab": {
          "base_uri": "https://localhost:8080/"
        },
        "id": "5Eppw53nGTuW",
        "outputId": "512a80e1-73c5-45a0-a034-f62ac7d5eecf"
      },
      "source": [
        "dfOCO.isnull().sum()"
      ],
      "execution_count": 28,
      "outputs": [
        {
          "output_type": "execute_result",
          "data": {
            "text/plain": [
              "CLASSIFICAÇÃO                             0\n",
              "EMPRESA                                   0\n",
              "GERÊNCIA                                  0\n",
              "COORDENAÇÃO                               2\n",
              "SUB ÁREA                                  2\n",
              "NOME                                     23\n",
              "CARGO                                     5\n",
              "TEMPO DE EMPRESA                         29\n",
              "IDADE                                    28\n",
              "\\nDATA DA OCORRÊNCIA                      0\n",
              "DIA DA SEMANA                             0\n",
              " \\nLOCAL DA OCORRÊNCIA                    1\n",
              "QUALIDADE PISTA                         216\n",
              "CARACTERISTICA PISTA                    220\n",
              "SINALIZAÇÃO                             367\n",
              "CLIMA                                   319\n",
              "PREFIXO                                  27\n",
              "MODELO                                  235\n",
              "CARREGADO                               173\n",
              "TIPO                                      0\n",
              "DETALHAMENTO                              0\n",
              "POTENCIAL                                 0\n",
              "SAP                                       1\n",
              "DIA ESCALA                              346\n",
              "ESCALA                                  345\n",
              "JORNADA                                 356\n",
              "TEMPO DECORRIDO                         367\n",
              "DORMIU BEM?                             364\n",
              "PRÓXIMO PERIODO DE FÉRIAS OU FERIADO    354\n",
              "ALIMENTOU                               372\n",
              "PROBLEMAS SAÚDE                         342\n",
              "USO MEDICAMENTO                         342\n",
              "USO ALCOOL/DROGA                        373\n",
              "PRESSÃO                                 329\n",
              "PRESSA PARA CONCLUIR O TRABALHO         350\n",
              "DESCRIÇÃO                               233\n",
              "HorarioAcidente                           0\n",
              "dtype: int64"
            ]
          },
          "metadata": {
            "tags": []
          },
          "execution_count": 28
        }
      ]
    },
    {
      "cell_type": "code",
      "metadata": {
        "colab": {
          "base_uri": "https://localhost:8080/"
        },
        "id": "oTMxmtmgJsMs",
        "outputId": "1cdfef15-6b25-4b7c-b846-53c265f05354"
      },
      "source": [
        "TM = (dfOCO['TIPO '] == 'TRANSPORTE DE MADEIRA') | (dfOCO['TIPO '] == 'TRANSPORTE DE MADEIRA ')\r\n",
        "\r\n",
        "dfOCO_TM = dfOCO[TM]\r\n",
        "dfOCO_TM.EMPRESA.value_counts()"
      ],
      "execution_count": 29,
      "outputs": [
        {
          "output_type": "execute_result",
          "data": {
            "text/plain": [
              "E3     48\n",
              "E9     42\n",
              "E2     28\n",
              "E7     21\n",
              "E5     19\n",
              "E4     16\n",
              "E12    13\n",
              "E16     9\n",
              "E1      8\n",
              "E13     5\n",
              "E19     3\n",
              "E23     3\n",
              "E32     2\n",
              "E26     2\n",
              "E33     1\n",
              "E14     1\n",
              "E36     1\n",
              "E31     1\n",
              "E25     1\n",
              "E30     1\n",
              "E34     1\n",
              "E22     1\n",
              "Name: EMPRESA, dtype: int64"
            ]
          },
          "metadata": {
            "tags": []
          },
          "execution_count": 29
        }
      ]
    },
    {
      "cell_type": "code",
      "metadata": {
        "colab": {
          "base_uri": "https://localhost:8080/"
        },
        "id": "p0QsSQJkJsMt",
        "outputId": "db659363-fa81-43a9-f3f8-2bbdc4a3f303"
      },
      "source": [
        "E3 = (dfOCO_TM['EMPRESA'] == 'E3')\r\n",
        "E5 = (dfOCO_TM['EMPRESA'] == 'E5')\r\n",
        "E9 = (dfOCO_TM['EMPRESA'] == 'E9')\r\n",
        "\r\n",
        "dfOCO_TM_E3 = dfOCO_TM[E3]\r\n",
        "dfOCO_TM_E5 = dfOCO_TM[E5]\r\n",
        "dfOCO_TM_E9 = dfOCO_TM[E9]\r\n",
        "\r\n",
        "print(dfOCO_TM_E3.shape, dfOCO_TM_E5.shape, dfOCO_TM_E9.shape)"
      ],
      "execution_count": 30,
      "outputs": [
        {
          "output_type": "stream",
          "text": [
            "(48, 37) (19, 37) (42, 37)\n"
          ],
          "name": "stdout"
        }
      ]
    },
    {
      "cell_type": "markdown",
      "metadata": {
        "id": "1reHTDe6OR8g"
      },
      "source": [
        "## **Estradas federais**"
      ]
    },
    {
      "cell_type": "code",
      "metadata": {
        "colab": {
          "base_uri": "https://localhost:8080/",
          "height": 213
        },
        "id": "5Ubf6Geem0M2",
        "outputId": "f5ab82dd-d2d4-45b9-fce0-04eab6dae8eb"
      },
      "source": [
        "df15['Hora'] = pd.to_datetime(df15['horario'], format='%H:%M:%S').dt.hour\n",
        "df15.head(3)"
      ],
      "execution_count": 31,
      "outputs": [
        {
          "output_type": "execute_result",
          "data": {
            "text/html": [
              "<div>\n",
              "<style scoped>\n",
              "    .dataframe tbody tr th:only-of-type {\n",
              "        vertical-align: middle;\n",
              "    }\n",
              "\n",
              "    .dataframe tbody tr th {\n",
              "        vertical-align: top;\n",
              "    }\n",
              "\n",
              "    .dataframe thead th {\n",
              "        text-align: right;\n",
              "    }\n",
              "</style>\n",
              "<table border=\"1\" class=\"dataframe\">\n",
              "  <thead>\n",
              "    <tr style=\"text-align: right;\">\n",
              "      <th></th>\n",
              "      <th>id</th>\n",
              "      <th>data_inversa</th>\n",
              "      <th>dia_semana</th>\n",
              "      <th>horario</th>\n",
              "      <th>uf</th>\n",
              "      <th>br</th>\n",
              "      <th>km</th>\n",
              "      <th>municipio</th>\n",
              "      <th>causa_acidente</th>\n",
              "      <th>tipo_acidente</th>\n",
              "      <th>classificacao_acidente</th>\n",
              "      <th>fase_dia</th>\n",
              "      <th>sentido_via</th>\n",
              "      <th>condicao_metereologica</th>\n",
              "      <th>tipo_pista</th>\n",
              "      <th>tracado_via</th>\n",
              "      <th>uso_solo</th>\n",
              "      <th>ano</th>\n",
              "      <th>pessoas</th>\n",
              "      <th>mortos</th>\n",
              "      <th>feridos_leves</th>\n",
              "      <th>feridos_graves</th>\n",
              "      <th>ilesos</th>\n",
              "      <th>ignorados</th>\n",
              "      <th>feridos</th>\n",
              "      <th>veiculos</th>\n",
              "      <th>Hora</th>\n",
              "    </tr>\n",
              "  </thead>\n",
              "  <tbody>\n",
              "    <tr>\n",
              "      <th>0</th>\n",
              "      <td>83298209</td>\n",
              "      <td>2015-01-01</td>\n",
              "      <td>Quinta</td>\n",
              "      <td>00:05:00</td>\n",
              "      <td>RJ</td>\n",
              "      <td>101</td>\n",
              "      <td>327.0</td>\n",
              "      <td>NITEROI</td>\n",
              "      <td>Outras</td>\n",
              "      <td>Colisão traseira</td>\n",
              "      <td>Sem Vítimas</td>\n",
              "      <td>Plena noite</td>\n",
              "      <td>Decrescente</td>\n",
              "      <td>Ceu Claro</td>\n",
              "      <td>Dupla</td>\n",
              "      <td>Reta</td>\n",
              "      <td>Urbano</td>\n",
              "      <td>2015</td>\n",
              "      <td>2</td>\n",
              "      <td>0</td>\n",
              "      <td>0</td>\n",
              "      <td>0</td>\n",
              "      <td>2</td>\n",
              "      <td>0</td>\n",
              "      <td>0</td>\n",
              "      <td>2</td>\n",
              "      <td>0</td>\n",
              "    </tr>\n",
              "    <tr>\n",
              "      <th>1</th>\n",
              "      <td>83298218</td>\n",
              "      <td>2015-01-01</td>\n",
              "      <td>Quinta</td>\n",
              "      <td>01:20:00</td>\n",
              "      <td>MS</td>\n",
              "      <td>163</td>\n",
              "      <td>434.4</td>\n",
              "      <td>CAMPO GRANDE</td>\n",
              "      <td>Animais na Pista</td>\n",
              "      <td>Saída de Pista</td>\n",
              "      <td>Com Vítimas Feridas</td>\n",
              "      <td>Plena noite</td>\n",
              "      <td>Crescente</td>\n",
              "      <td>Ceu Claro</td>\n",
              "      <td>Simples</td>\n",
              "      <td>Reta</td>\n",
              "      <td>Rural</td>\n",
              "      <td>2015</td>\n",
              "      <td>2</td>\n",
              "      <td>0</td>\n",
              "      <td>1</td>\n",
              "      <td>0</td>\n",
              "      <td>1</td>\n",
              "      <td>0</td>\n",
              "      <td>1</td>\n",
              "      <td>1</td>\n",
              "      <td>1</td>\n",
              "    </tr>\n",
              "    <tr>\n",
              "      <th>2</th>\n",
              "      <td>83298220</td>\n",
              "      <td>2015-01-01</td>\n",
              "      <td>Quinta</td>\n",
              "      <td>01:45:00</td>\n",
              "      <td>RJ</td>\n",
              "      <td>40</td>\n",
              "      <td>64.0</td>\n",
              "      <td>PETROPOLIS</td>\n",
              "      <td>Outras</td>\n",
              "      <td>Colisão com objeto fixo</td>\n",
              "      <td>Sem Vítimas</td>\n",
              "      <td>Plena noite</td>\n",
              "      <td>Crescente</td>\n",
              "      <td>Nublado</td>\n",
              "      <td>Dupla</td>\n",
              "      <td>Reta</td>\n",
              "      <td>Urbano</td>\n",
              "      <td>2015</td>\n",
              "      <td>2</td>\n",
              "      <td>0</td>\n",
              "      <td>0</td>\n",
              "      <td>0</td>\n",
              "      <td>2</td>\n",
              "      <td>0</td>\n",
              "      <td>0</td>\n",
              "      <td>2</td>\n",
              "      <td>1</td>\n",
              "    </tr>\n",
              "  </tbody>\n",
              "</table>\n",
              "</div>"
            ],
            "text/plain": [
              "         id data_inversa dia_semana  ... feridos veiculos  Hora\n",
              "0  83298209   2015-01-01     Quinta  ...       0        2     0\n",
              "1  83298218   2015-01-01     Quinta  ...       1        1     1\n",
              "2  83298220   2015-01-01     Quinta  ...       0        2     1\n",
              "\n",
              "[3 rows x 27 columns]"
            ]
          },
          "metadata": {
            "tags": []
          },
          "execution_count": 31
        }
      ]
    },
    {
      "cell_type": "code",
      "metadata": {
        "colab": {
          "base_uri": "https://localhost:8080/",
          "height": 142
        },
        "id": "_FmFTCchm76Y",
        "outputId": "41cc0bee-933b-4ad7-bf58-a71b61ba60b1"
      },
      "source": [
        "dfFluxo['avgtotal'].loc[2::3]   # [start:stop:step] - se ficar livre vai até o final\n",
        "dfDNIT = pd.DataFrame(dfFluxo['avgtotal'].loc[2::3].values.reshape(4,24)).T\n",
        "dfDNIT.tail(3)"
      ],
      "execution_count": 32,
      "outputs": [
        {
          "output_type": "execute_result",
          "data": {
            "text/html": [
              "<div>\n",
              "<style scoped>\n",
              "    .dataframe tbody tr th:only-of-type {\n",
              "        vertical-align: middle;\n",
              "    }\n",
              "\n",
              "    .dataframe tbody tr th {\n",
              "        vertical-align: top;\n",
              "    }\n",
              "\n",
              "    .dataframe thead th {\n",
              "        text-align: right;\n",
              "    }\n",
              "</style>\n",
              "<table border=\"1\" class=\"dataframe\">\n",
              "  <thead>\n",
              "    <tr style=\"text-align: right;\">\n",
              "      <th></th>\n",
              "      <th>0</th>\n",
              "      <th>1</th>\n",
              "      <th>2</th>\n",
              "      <th>3</th>\n",
              "    </tr>\n",
              "  </thead>\n",
              "  <tbody>\n",
              "    <tr>\n",
              "      <th>21</th>\n",
              "      <td>217.674901</td>\n",
              "      <td>172.611702</td>\n",
              "      <td>164.695324</td>\n",
              "      <td>160.408976</td>\n",
              "    </tr>\n",
              "    <tr>\n",
              "      <th>22</th>\n",
              "      <td>183.319164</td>\n",
              "      <td>143.476845</td>\n",
              "      <td>136.172760</td>\n",
              "      <td>132.808623</td>\n",
              "    </tr>\n",
              "    <tr>\n",
              "      <th>23</th>\n",
              "      <td>131.100690</td>\n",
              "      <td>104.440947</td>\n",
              "      <td>97.717366</td>\n",
              "      <td>94.281760</td>\n",
              "    </tr>\n",
              "  </tbody>\n",
              "</table>\n",
              "</div>"
            ],
            "text/plain": [
              "             0           1           2           3\n",
              "21  217.674901  172.611702  164.695324  160.408976\n",
              "22  183.319164  143.476845  136.172760  132.808623\n",
              "23  131.100690  104.440947   97.717366   94.281760"
            ]
          },
          "metadata": {
            "tags": []
          },
          "execution_count": 32
        }
      ]
    },
    {
      "cell_type": "code",
      "metadata": {
        "id": "keXe-5uNnIXU"
      },
      "source": [
        "counts, bins = np.histogram(df15['Hora'], bins=range(0, 25, 1))\n",
        "acidentes = np.array(counts)/sum(np.array(counts))\n",
        "fluxo     = np.array(dfDNIT[0]/sum(dfDNIT[0]))\n",
        "\n",
        "taxa      = (acidentes/fluxo)/sum(acidentes/fluxo)"
      ],
      "execution_count": 33,
      "outputs": []
    },
    {
      "cell_type": "markdown",
      "metadata": {
        "id": "zU3CewjDOiUY"
      },
      "source": [
        "## **Empresas**\r\n"
      ]
    },
    {
      "cell_type": "markdown",
      "metadata": {
        "id": "SUDJtzItpsXo"
      },
      "source": [
        "### **E5 - Hora**"
      ]
    },
    {
      "cell_type": "code",
      "metadata": {
        "colab": {
          "base_uri": "https://localhost:8080/",
          "height": 111
        },
        "id": "NTRnHCPrpxnZ",
        "outputId": "9c895cee-f1dc-4e92-d192-fa3081f1cf4c"
      },
      "source": [
        "dfE5H = pd.read_excel(fileE5)\r\n",
        "dfE5H['HORA'] = pd.to_datetime(dfE5H['DATA'], format='%Y-%M-%D %H:%M:%S').dt.hour\r\n",
        "dfE5H.head(2)"
      ],
      "execution_count": 34,
      "outputs": [
        {
          "output_type": "execute_result",
          "data": {
            "text/html": [
              "<div>\n",
              "<style scoped>\n",
              "    .dataframe tbody tr th:only-of-type {\n",
              "        vertical-align: middle;\n",
              "    }\n",
              "\n",
              "    .dataframe tbody tr th {\n",
              "        vertical-align: top;\n",
              "    }\n",
              "\n",
              "    .dataframe thead th {\n",
              "        text-align: right;\n",
              "    }\n",
              "</style>\n",
              "<table border=\"1\" class=\"dataframe\">\n",
              "  <thead>\n",
              "    <tr style=\"text-align: right;\">\n",
              "      <th></th>\n",
              "      <th>Nome</th>\n",
              "      <th>DATA</th>\n",
              "      <th>HORA</th>\n",
              "      <th>Tipo de Desatenção</th>\n",
              "      <th>Velocidade</th>\n",
              "    </tr>\n",
              "  </thead>\n",
              "  <tbody>\n",
              "    <tr>\n",
              "      <th>0</th>\n",
              "      <td>NaN</td>\n",
              "      <td>2019-01-04 11:46:41</td>\n",
              "      <td>11</td>\n",
              "      <td>Olho Fechado</td>\n",
              "      <td>57</td>\n",
              "    </tr>\n",
              "    <tr>\n",
              "      <th>1</th>\n",
              "      <td>NaN</td>\n",
              "      <td>2019-01-11 19:11:04</td>\n",
              "      <td>19</td>\n",
              "      <td>Olho Fechado</td>\n",
              "      <td>48</td>\n",
              "    </tr>\n",
              "  </tbody>\n",
              "</table>\n",
              "</div>"
            ],
            "text/plain": [
              "  Nome                DATA  HORA Tipo de Desatenção  Velocidade\n",
              "0  NaN 2019-01-04 11:46:41    11       Olho Fechado          57\n",
              "1  NaN 2019-01-11 19:11:04    19       Olho Fechado          48"
            ]
          },
          "metadata": {
            "tags": []
          },
          "execution_count": 34
        }
      ]
    },
    {
      "cell_type": "markdown",
      "metadata": {
        "id": "yxtKyQmLp6pL"
      },
      "source": [
        "### **E9 - Hora**"
      ]
    },
    {
      "cell_type": "code",
      "metadata": {
        "colab": {
          "base_uri": "https://localhost:8080/",
          "height": 111
        },
        "id": "4Cy7_bYPp6pN",
        "outputId": "30a10005-1bf8-4bcf-b3aa-3e01f52dbe10"
      },
      "source": [
        "dfE91H = pd.read_excel(fileE9, xls9.sheet_names[1])\r\n",
        "dfE91H['HORA'] = pd.to_datetime(dfE91H['Data da ocorrência'], format='%Y-%M-%D %H:%M:%S').dt.hour\r\n",
        "dfE91H.head(2)"
      ],
      "execution_count": 35,
      "outputs": [
        {
          "output_type": "execute_result",
          "data": {
            "text/html": [
              "<div>\n",
              "<style scoped>\n",
              "    .dataframe tbody tr th:only-of-type {\n",
              "        vertical-align: middle;\n",
              "    }\n",
              "\n",
              "    .dataframe tbody tr th {\n",
              "        vertical-align: top;\n",
              "    }\n",
              "\n",
              "    .dataframe thead th {\n",
              "        text-align: right;\n",
              "    }\n",
              "</style>\n",
              "<table border=\"1\" class=\"dataframe\">\n",
              "  <thead>\n",
              "    <tr style=\"text-align: right;\">\n",
              "      <th></th>\n",
              "      <th>Data da ocorrência</th>\n",
              "      <th>dia</th>\n",
              "      <th>mês</th>\n",
              "      <th>Tipo</th>\n",
              "      <th>Velocidade</th>\n",
              "      <th>Tratativa</th>\n",
              "      <th>Placa</th>\n",
              "      <th>Motorista</th>\n",
              "      <th>Unnamed: 8</th>\n",
              "      <th>HORA</th>\n",
              "    </tr>\n",
              "  </thead>\n",
              "  <tbody>\n",
              "    <tr>\n",
              "      <th>0</th>\n",
              "      <td>2019-04-23 22:59:00</td>\n",
              "      <td>2019-04-23</td>\n",
              "      <td>2019-04-23</td>\n",
              "      <td>Yawn-Warning</td>\n",
              "      <td>35</td>\n",
              "      <td>NaN</td>\n",
              "      <td>PLP3I10</td>\n",
              "      <td>NaN</td>\n",
              "      <td>NaN</td>\n",
              "      <td>22</td>\n",
              "    </tr>\n",
              "    <tr>\n",
              "      <th>1</th>\n",
              "      <td>2019-04-23 19:46:00</td>\n",
              "      <td>2019-04-23</td>\n",
              "      <td>2019-04-23</td>\n",
              "      <td>Yawn-Warning</td>\n",
              "      <td>62</td>\n",
              "      <td>NaN</td>\n",
              "      <td>PLP3I10</td>\n",
              "      <td>NaN</td>\n",
              "      <td>NaN</td>\n",
              "      <td>19</td>\n",
              "    </tr>\n",
              "  </tbody>\n",
              "</table>\n",
              "</div>"
            ],
            "text/plain": [
              "   Data da ocorrência        dia        mês  ... Motorista  Unnamed: 8 HORA\n",
              "0 2019-04-23 22:59:00 2019-04-23 2019-04-23  ...       NaN         NaN   22\n",
              "1 2019-04-23 19:46:00 2019-04-23 2019-04-23  ...       NaN         NaN   19\n",
              "\n",
              "[2 rows x 10 columns]"
            ]
          },
          "metadata": {
            "tags": []
          },
          "execution_count": 35
        }
      ]
    },
    {
      "cell_type": "code",
      "metadata": {
        "colab": {
          "base_uri": "https://localhost:8080/",
          "height": 111
        },
        "id": "5PE1LQPSqFUv",
        "outputId": "e38d8ffc-0f23-4df2-f747-11961104a36a"
      },
      "source": [
        "dfE92H = pd.read_excel(fileE9,  xls9.sheet_names[2])\r\n",
        "dfE92H['HORA'] = pd.to_datetime(dfE92H['Data da ocorrência'], format='%Y-%M-%D %H:%M:%S').dt.hour\r\n",
        "dfE92H.head(2)"
      ],
      "execution_count": 36,
      "outputs": [
        {
          "output_type": "execute_result",
          "data": {
            "text/html": [
              "<div>\n",
              "<style scoped>\n",
              "    .dataframe tbody tr th:only-of-type {\n",
              "        vertical-align: middle;\n",
              "    }\n",
              "\n",
              "    .dataframe tbody tr th {\n",
              "        vertical-align: top;\n",
              "    }\n",
              "\n",
              "    .dataframe thead th {\n",
              "        text-align: right;\n",
              "    }\n",
              "</style>\n",
              "<table border=\"1\" class=\"dataframe\">\n",
              "  <thead>\n",
              "    <tr style=\"text-align: right;\">\n",
              "      <th></th>\n",
              "      <th>Data da ocorrência</th>\n",
              "      <th>dia</th>\n",
              "      <th>mês</th>\n",
              "      <th>Tipo</th>\n",
              "      <th>Velocidade</th>\n",
              "      <th>Tratativa</th>\n",
              "      <th>Placa</th>\n",
              "      <th>Motorista</th>\n",
              "      <th>Unnamed: 8</th>\n",
              "      <th>HORA</th>\n",
              "    </tr>\n",
              "  </thead>\n",
              "  <tbody>\n",
              "    <tr>\n",
              "      <th>0</th>\n",
              "      <td>2019-12-01 23:59:00</td>\n",
              "      <td>2019-12-01</td>\n",
              "      <td>2019-12-01</td>\n",
              "      <td>Atten-Warning</td>\n",
              "      <td>33</td>\n",
              "      <td>NaN</td>\n",
              "      <td>CQU5528</td>\n",
              "      <td>C805</td>\n",
              "      <td>NaN</td>\n",
              "      <td>23</td>\n",
              "    </tr>\n",
              "    <tr>\n",
              "      <th>1</th>\n",
              "      <td>2019-12-01 23:10:00</td>\n",
              "      <td>2019-12-01</td>\n",
              "      <td>2019-12-01</td>\n",
              "      <td>Atten-Warning</td>\n",
              "      <td>37</td>\n",
              "      <td>NaN</td>\n",
              "      <td>QPY2670</td>\n",
              "      <td>C784</td>\n",
              "      <td>NaN</td>\n",
              "      <td>23</td>\n",
              "    </tr>\n",
              "  </tbody>\n",
              "</table>\n",
              "</div>"
            ],
            "text/plain": [
              "   Data da ocorrência        dia        mês  ... Motorista  Unnamed: 8 HORA\n",
              "0 2019-12-01 23:59:00 2019-12-01 2019-12-01  ...      C805         NaN   23\n",
              "1 2019-12-01 23:10:00 2019-12-01 2019-12-01  ...      C784         NaN   23\n",
              "\n",
              "[2 rows x 10 columns]"
            ]
          },
          "metadata": {
            "tags": []
          },
          "execution_count": 36
        }
      ]
    },
    {
      "cell_type": "markdown",
      "metadata": {
        "id": "dlFXrCqFl_KW"
      },
      "source": [
        "# **Seleção dos dados**"
      ]
    },
    {
      "cell_type": "markdown",
      "metadata": {
        "id": "Hr6-zODlOxE-"
      },
      "source": [
        "## **Estradas**"
      ]
    },
    {
      "cell_type": "code",
      "metadata": {
        "colab": {
          "base_uri": "https://localhost:8080/",
          "height": 542
        },
        "id": "1nOYG8OMPfHb",
        "outputId": "396a0ec0-6a30-40d4-b18e-2e7bcba96016"
      },
      "source": [
        "graphics_plot(y=[taxa, fluxo, acidentes], y_name=['Accidents/traffic', 'Traffic','Accidents (raw)'],\r\n",
        "              bins=24, yaxes_title=['Accidents/traffic, Traffic','Accidents'], title='Accidents, traffic and accidents / traffic',\r\n",
        "              x_tick=2)"
      ],
      "execution_count": 37,
      "outputs": [
        {
          "output_type": "display_data",
          "data": {
            "text/html": [
              "<html>\n",
              "<head><meta charset=\"utf-8\" /></head>\n",
              "<body>\n",
              "    <div>            <script src=\"https://cdnjs.cloudflare.com/ajax/libs/mathjax/2.7.5/MathJax.js?config=TeX-AMS-MML_SVG\"></script><script type=\"text/javascript\">if (window.MathJax) {MathJax.Hub.Config({SVG: {font: \"STIX-Web\"}});}</script>                <script type=\"text/javascript\">window.PlotlyConfig = {MathJaxConfig: 'local'};</script>\n",
              "        <script src=\"https://cdn.plot.ly/plotly-latest.min.js\"></script>                <div id=\"478cab98-015a-4c70-81b5-13a65ab00fa2\" class=\"plotly-graph-div\" style=\"height:525px; width:100%;\"></div>            <script type=\"text/javascript\">                                    window.PLOTLYENV=window.PLOTLYENV || {};                                    if (document.getElementById(\"478cab98-015a-4c70-81b5-13a65ab00fa2\")) {                    Plotly.newPlot(                        \"478cab98-015a-4c70-81b5-13a65ab00fa2\",                        [{\"line\": {\"color\": \"rgb(0, 0, 0)\", \"width\": 2}, \"marker\": {\"size\": 7, \"symbol\": \"circle\"}, \"mode\": \"lines+markers\", \"name\": \"Accidents/traffic\", \"type\": \"scatter\", \"x\": [0.0, 1.0434782608695652, 2.0869565217391304, 3.1304347826086953, 4.173913043478261, 5.217391304347826, 6.260869565217391, 7.304347826086956, 8.347826086956522, 9.391304347826086, 10.434782608695652, 11.478260869565217, 12.521739130434781, 13.565217391304348, 14.608695652173912, 15.652173913043478, 16.695652173913043, 17.73913043478261, 18.782608695652172, 19.82608695652174, 20.869565217391305, 21.913043478260867, 22.956521739130434, 24.0], \"xaxis\": \"x\", \"y\": [0.05142222394945099, 0.06348963040778928, 0.06578315369801359, 0.06688815148505377, 0.06053202240938446, 0.04326656891753909, 0.03275922767224201, 0.03584490981916405, 0.032244932663166345, 0.02872670093992397, 0.02893066029291476, 0.029433786933801755, 0.0274877887538377, 0.02864168450954485, 0.03218762672646417, 0.033578046230858735, 0.03486468711513606, 0.03755673437305434, 0.04467904095901726, 0.043925901669510846, 0.03850927284020072, 0.042594592929131356, 0.04421417077498218, 0.052438483929817745], \"yaxis\": \"y\"}, {\"line\": {\"color\": \"rgb(0, 0, 0)\", \"dash\": \"dash\", \"width\": 2}, \"marker\": {\"size\": 7, \"symbol\": \"star\"}, \"mode\": \"lines+markers\", \"name\": \"Traffic\", \"type\": \"scatter\", \"x\": [0.0, 1.0434782608695652, 2.0869565217391304, 3.1304347826086953, 4.173913043478261, 5.217391304347826, 6.260869565217391, 7.304347826086956, 8.347826086956522, 9.391304347826086, 10.434782608695652, 11.478260869565217, 12.521739130434781, 13.565217391304348, 14.608695652173912, 15.652173913043478, 16.695652173913043, 17.73913043478261, 18.782608695652172, 19.82608695652174, 20.869565217391305, 21.913043478260867, 22.956521739130434, 24.0], \"xaxis\": \"x\", \"y\": [0.013203928322578613, 0.0098226089100822, 0.008109684765694293, 0.008313779097352978, 0.012042572612261425, 0.023484246209716637, 0.044449684642951695, 0.05704190646698589, 0.057901608595074296, 0.05867492382748998, 0.0588989036373298, 0.05776070265078094, 0.05553932324850364, 0.057384352644822896, 0.0599181566259512, 0.061965003557895214, 0.06446583048364696, 0.06630953904636967, 0.06057382280176634, 0.04923031414100578, 0.03836121096154991, 0.03131501616382884, 0.026372551711784688, 0.01886032887457621], \"yaxis\": \"y\"}, {\"line\": {\"color\": \"rgb(0, 0, 0)\", \"dash\": \"dot\", \"width\": 2}, \"marker\": {\"size\": 7, \"symbol\": \"diamond\"}, \"mode\": \"lines+markers\", \"name\": \"Accidents (raw)\", \"type\": \"scatter\", \"x\": [0.0, 1.0434782608695652, 2.0869565217391304, 3.1304347826086953, 4.173913043478261, 5.217391304347826, 6.260869565217391, 7.304347826086956, 8.347826086956522, 9.391304347826086, 10.434782608695652, 11.478260869565217, 12.521739130434781, 13.565217391304348, 14.608695652173912, 15.652173913043478, 16.695652173913043, 17.73913043478261, 18.782608695652172, 19.82608695652174, 20.869565217391305, 21.913043478260867, 22.956521739130434, 24.0], \"xaxis\": \"x\", \"y\": [0.018680266206072313, 0.017157685349661514, 0.014677352019056818, 0.015299481831353705, 0.020055500527991748, 0.027954911960445642, 0.04006188554448637, 0.056253632501371144, 0.051366639107407436, 0.046373228771866636, 0.04688075572400357, 0.04677433878242647, 0.04200194824862272, 0.04521901425168425, 0.05306112425405817, 0.05724412864989645, 0.061836428974877414, 0.0685161385384861, 0.07445911542963794, 0.059495256260181234, 0.04064308576386899, 0.036697473006933476, 0.03208061492620395, 0.02720999336940595], \"yaxis\": \"y2\"}],                        {\"legend\": {\"orientation\": \"h\", \"x\": 0.95, \"xanchor\": \"right\", \"y\": 1.01, \"yanchor\": \"bottom\"}, \"paper_bgcolor\": \"rgba(0,0,0,0)\", \"plot_bgcolor\": \"rgba(0,0,0,0)\", \"template\": {\"data\": {\"bar\": [{\"error_x\": {\"color\": \"#2a3f5f\"}, \"error_y\": {\"color\": \"#2a3f5f\"}, \"marker\": {\"line\": {\"color\": \"#E5ECF6\", \"width\": 0.5}}, \"type\": \"bar\"}], \"barpolar\": [{\"marker\": {\"line\": {\"color\": \"#E5ECF6\", \"width\": 0.5}}, \"type\": \"barpolar\"}], \"carpet\": [{\"aaxis\": {\"endlinecolor\": \"#2a3f5f\", \"gridcolor\": \"white\", \"linecolor\": \"white\", \"minorgridcolor\": \"white\", \"startlinecolor\": \"#2a3f5f\"}, \"baxis\": {\"endlinecolor\": \"#2a3f5f\", \"gridcolor\": \"white\", \"linecolor\": \"white\", \"minorgridcolor\": \"white\", \"startlinecolor\": \"#2a3f5f\"}, \"type\": \"carpet\"}], \"choropleth\": [{\"colorbar\": {\"outlinewidth\": 0, \"ticks\": \"\"}, \"type\": \"choropleth\"}], \"contour\": [{\"colorbar\": {\"outlinewidth\": 0, \"ticks\": \"\"}, \"colorscale\": [[0.0, \"#0d0887\"], [0.1111111111111111, \"#46039f\"], [0.2222222222222222, \"#7201a8\"], [0.3333333333333333, \"#9c179e\"], [0.4444444444444444, \"#bd3786\"], [0.5555555555555556, \"#d8576b\"], [0.6666666666666666, \"#ed7953\"], [0.7777777777777778, \"#fb9f3a\"], [0.8888888888888888, \"#fdca26\"], [1.0, \"#f0f921\"]], \"type\": \"contour\"}], \"contourcarpet\": [{\"colorbar\": {\"outlinewidth\": 0, \"ticks\": \"\"}, \"type\": \"contourcarpet\"}], \"heatmap\": [{\"colorbar\": {\"outlinewidth\": 0, \"ticks\": \"\"}, \"colorscale\": [[0.0, \"#0d0887\"], [0.1111111111111111, \"#46039f\"], [0.2222222222222222, \"#7201a8\"], [0.3333333333333333, \"#9c179e\"], [0.4444444444444444, \"#bd3786\"], [0.5555555555555556, \"#d8576b\"], [0.6666666666666666, \"#ed7953\"], [0.7777777777777778, \"#fb9f3a\"], [0.8888888888888888, \"#fdca26\"], [1.0, \"#f0f921\"]], \"type\": \"heatmap\"}], \"heatmapgl\": [{\"colorbar\": {\"outlinewidth\": 0, \"ticks\": \"\"}, \"colorscale\": [[0.0, \"#0d0887\"], [0.1111111111111111, \"#46039f\"], [0.2222222222222222, \"#7201a8\"], [0.3333333333333333, \"#9c179e\"], [0.4444444444444444, \"#bd3786\"], [0.5555555555555556, \"#d8576b\"], [0.6666666666666666, \"#ed7953\"], [0.7777777777777778, \"#fb9f3a\"], [0.8888888888888888, \"#fdca26\"], [1.0, \"#f0f921\"]], \"type\": \"heatmapgl\"}], \"histogram\": [{\"marker\": {\"colorbar\": {\"outlinewidth\": 0, \"ticks\": \"\"}}, \"type\": \"histogram\"}], \"histogram2d\": [{\"colorbar\": {\"outlinewidth\": 0, \"ticks\": \"\"}, \"colorscale\": [[0.0, \"#0d0887\"], [0.1111111111111111, \"#46039f\"], [0.2222222222222222, \"#7201a8\"], [0.3333333333333333, \"#9c179e\"], [0.4444444444444444, \"#bd3786\"], [0.5555555555555556, \"#d8576b\"], [0.6666666666666666, \"#ed7953\"], [0.7777777777777778, \"#fb9f3a\"], [0.8888888888888888, \"#fdca26\"], [1.0, \"#f0f921\"]], \"type\": \"histogram2d\"}], \"histogram2dcontour\": [{\"colorbar\": {\"outlinewidth\": 0, \"ticks\": \"\"}, \"colorscale\": [[0.0, \"#0d0887\"], [0.1111111111111111, \"#46039f\"], [0.2222222222222222, \"#7201a8\"], [0.3333333333333333, \"#9c179e\"], [0.4444444444444444, \"#bd3786\"], [0.5555555555555556, \"#d8576b\"], [0.6666666666666666, \"#ed7953\"], [0.7777777777777778, \"#fb9f3a\"], [0.8888888888888888, \"#fdca26\"], [1.0, \"#f0f921\"]], \"type\": \"histogram2dcontour\"}], \"mesh3d\": [{\"colorbar\": {\"outlinewidth\": 0, \"ticks\": \"\"}, \"type\": \"mesh3d\"}], \"parcoords\": [{\"line\": {\"colorbar\": {\"outlinewidth\": 0, \"ticks\": \"\"}}, \"type\": \"parcoords\"}], \"pie\": [{\"automargin\": true, \"type\": \"pie\"}], \"scatter\": [{\"marker\": {\"colorbar\": {\"outlinewidth\": 0, \"ticks\": \"\"}}, \"type\": \"scatter\"}], \"scatter3d\": [{\"line\": {\"colorbar\": {\"outlinewidth\": 0, \"ticks\": \"\"}}, \"marker\": {\"colorbar\": {\"outlinewidth\": 0, \"ticks\": \"\"}}, \"type\": \"scatter3d\"}], \"scattercarpet\": [{\"marker\": {\"colorbar\": {\"outlinewidth\": 0, \"ticks\": \"\"}}, \"type\": \"scattercarpet\"}], \"scattergeo\": [{\"marker\": {\"colorbar\": {\"outlinewidth\": 0, \"ticks\": \"\"}}, \"type\": \"scattergeo\"}], \"scattergl\": [{\"marker\": {\"colorbar\": {\"outlinewidth\": 0, \"ticks\": \"\"}}, \"type\": \"scattergl\"}], \"scattermapbox\": [{\"marker\": {\"colorbar\": {\"outlinewidth\": 0, \"ticks\": \"\"}}, \"type\": \"scattermapbox\"}], \"scatterpolar\": [{\"marker\": {\"colorbar\": {\"outlinewidth\": 0, \"ticks\": \"\"}}, \"type\": \"scatterpolar\"}], \"scatterpolargl\": [{\"marker\": {\"colorbar\": {\"outlinewidth\": 0, \"ticks\": \"\"}}, \"type\": \"scatterpolargl\"}], \"scatterternary\": [{\"marker\": {\"colorbar\": {\"outlinewidth\": 0, \"ticks\": \"\"}}, \"type\": \"scatterternary\"}], \"surface\": [{\"colorbar\": {\"outlinewidth\": 0, \"ticks\": \"\"}, \"colorscale\": [[0.0, \"#0d0887\"], [0.1111111111111111, \"#46039f\"], [0.2222222222222222, \"#7201a8\"], [0.3333333333333333, \"#9c179e\"], [0.4444444444444444, \"#bd3786\"], [0.5555555555555556, \"#d8576b\"], [0.6666666666666666, \"#ed7953\"], [0.7777777777777778, \"#fb9f3a\"], [0.8888888888888888, \"#fdca26\"], [1.0, \"#f0f921\"]], \"type\": \"surface\"}], \"table\": [{\"cells\": {\"fill\": {\"color\": \"#EBF0F8\"}, \"line\": {\"color\": \"white\"}}, \"header\": {\"fill\": {\"color\": \"#C8D4E3\"}, \"line\": {\"color\": \"white\"}}, \"type\": \"table\"}]}, \"layout\": {\"annotationdefaults\": {\"arrowcolor\": \"#2a3f5f\", \"arrowhead\": 0, \"arrowwidth\": 1}, \"autotypenumbers\": \"strict\", \"coloraxis\": {\"colorbar\": {\"outlinewidth\": 0, \"ticks\": \"\"}}, \"colorscale\": {\"diverging\": [[0, \"#8e0152\"], [0.1, \"#c51b7d\"], [0.2, \"#de77ae\"], [0.3, \"#f1b6da\"], [0.4, \"#fde0ef\"], [0.5, \"#f7f7f7\"], [0.6, \"#e6f5d0\"], [0.7, \"#b8e186\"], [0.8, \"#7fbc41\"], [0.9, \"#4d9221\"], [1, \"#276419\"]], \"sequential\": [[0.0, \"#0d0887\"], [0.1111111111111111, \"#46039f\"], [0.2222222222222222, \"#7201a8\"], [0.3333333333333333, \"#9c179e\"], [0.4444444444444444, \"#bd3786\"], [0.5555555555555556, \"#d8576b\"], [0.6666666666666666, \"#ed7953\"], [0.7777777777777778, \"#fb9f3a\"], [0.8888888888888888, \"#fdca26\"], [1.0, \"#f0f921\"]], \"sequentialminus\": [[0.0, \"#0d0887\"], [0.1111111111111111, \"#46039f\"], [0.2222222222222222, \"#7201a8\"], [0.3333333333333333, \"#9c179e\"], [0.4444444444444444, \"#bd3786\"], [0.5555555555555556, \"#d8576b\"], [0.6666666666666666, \"#ed7953\"], [0.7777777777777778, \"#fb9f3a\"], [0.8888888888888888, \"#fdca26\"], [1.0, \"#f0f921\"]]}, \"colorway\": [\"#636efa\", \"#EF553B\", \"#00cc96\", \"#ab63fa\", \"#FFA15A\", \"#19d3f3\", \"#FF6692\", \"#B6E880\", \"#FF97FF\", \"#FECB52\"], \"font\": {\"color\": \"#2a3f5f\"}, \"geo\": {\"bgcolor\": \"white\", \"lakecolor\": \"white\", \"landcolor\": \"#E5ECF6\", \"showlakes\": true, \"showland\": true, \"subunitcolor\": \"white\"}, \"hoverlabel\": {\"align\": \"left\"}, \"hovermode\": \"closest\", \"mapbox\": {\"style\": \"light\"}, \"paper_bgcolor\": \"white\", \"plot_bgcolor\": \"#E5ECF6\", \"polar\": {\"angularaxis\": {\"gridcolor\": \"white\", \"linecolor\": \"white\", \"ticks\": \"\"}, \"bgcolor\": \"#E5ECF6\", \"radialaxis\": {\"gridcolor\": \"white\", \"linecolor\": \"white\", \"ticks\": \"\"}}, \"scene\": {\"xaxis\": {\"backgroundcolor\": \"#E5ECF6\", \"gridcolor\": \"white\", \"gridwidth\": 2, \"linecolor\": \"white\", \"showbackground\": true, \"ticks\": \"\", \"zerolinecolor\": \"white\"}, \"yaxis\": {\"backgroundcolor\": \"#E5ECF6\", \"gridcolor\": \"white\", \"gridwidth\": 2, \"linecolor\": \"white\", \"showbackground\": true, \"ticks\": \"\", \"zerolinecolor\": \"white\"}, \"zaxis\": {\"backgroundcolor\": \"#E5ECF6\", \"gridcolor\": \"white\", \"gridwidth\": 2, \"linecolor\": \"white\", \"showbackground\": true, \"ticks\": \"\", \"zerolinecolor\": \"white\"}}, \"shapedefaults\": {\"line\": {\"color\": \"#2a3f5f\"}}, \"ternary\": {\"aaxis\": {\"gridcolor\": \"white\", \"linecolor\": \"white\", \"ticks\": \"\"}, \"baxis\": {\"gridcolor\": \"white\", \"linecolor\": \"white\", \"ticks\": \"\"}, \"bgcolor\": \"#E5ECF6\", \"caxis\": {\"gridcolor\": \"white\", \"linecolor\": \"white\", \"ticks\": \"\"}}, \"title\": {\"x\": 0.05}, \"xaxis\": {\"automargin\": true, \"gridcolor\": \"white\", \"linecolor\": \"white\", \"ticks\": \"\", \"title\": {\"standoff\": 15}, \"zerolinecolor\": \"white\", \"zerolinewidth\": 2}, \"yaxis\": {\"automargin\": true, \"gridcolor\": \"white\", \"linecolor\": \"white\", \"ticks\": \"\", \"title\": {\"standoff\": 15}, \"zerolinecolor\": \"white\", \"zerolinewidth\": 2}}}, \"title\": {\"text\": \"Accidents, traffic and accidents / traffic\"}, \"xaxis\": {\"anchor\": \"y\", \"domain\": [0.0, 0.94], \"dtick\": 2, \"gridcolor\": \"black\", \"gridwidth\": 1, \"linecolor\": \"black\", \"linewidth\": 2, \"mirror\": true, \"showgrid\": true, \"showline\": true, \"tick0\": 0, \"tickmode\": \"linear\", \"title\": {\"text\": \"Time of day\"}}, \"yaxis\": {\"anchor\": \"x\", \"domain\": [0.0, 1.0], \"gridcolor\": \"black\", \"gridwidth\": 1, \"linecolor\": \"black\", \"linewidth\": 2, \"mirror\": true, \"showgrid\": false, \"showline\": true, \"title\": {\"text\": \"<b>Accidents/traffic, Traffic</b>\"}}, \"yaxis2\": {\"anchor\": \"x\", \"gridcolor\": \"black\", \"gridwidth\": 1, \"linecolor\": \"black\", \"linewidth\": 2, \"mirror\": true, \"overlaying\": \"y\", \"showgrid\": false, \"showline\": true, \"side\": \"right\", \"title\": {\"text\": \"<b>Accidents</b>\"}}},                        {\"responsive\": true}                    ).then(function(){\n",
              "                            \n",
              "var gd = document.getElementById('478cab98-015a-4c70-81b5-13a65ab00fa2');\n",
              "var x = new MutationObserver(function (mutations, observer) {{\n",
              "        var display = window.getComputedStyle(gd).display;\n",
              "        if (!display || display === 'none') {{\n",
              "            console.log([gd, 'removed!']);\n",
              "            Plotly.purge(gd);\n",
              "            observer.disconnect();\n",
              "        }}\n",
              "}});\n",
              "\n",
              "// Listen for the removal of the full notebook cells\n",
              "var notebookContainer = gd.closest('#notebook-container');\n",
              "if (notebookContainer) {{\n",
              "    x.observe(notebookContainer, {childList: true});\n",
              "}}\n",
              "\n",
              "// Listen for the clearing of the current output cell\n",
              "var outputEl = gd.closest('.output');\n",
              "if (outputEl) {{\n",
              "    x.observe(outputEl, {childList: true});\n",
              "}}\n",
              "\n",
              "                        })                };                            </script>        </div>\n",
              "</body>\n",
              "</html>"
            ]
          },
          "metadata": {
            "tags": []
          }
        }
      ]
    },
    {
      "cell_type": "markdown",
      "metadata": {
        "id": "4NziHuukWQ4U"
      },
      "source": [
        "## **E3**"
      ]
    },
    {
      "cell_type": "markdown",
      "metadata": {
        "id": "-ISS5Hu4V6MZ"
      },
      "source": [
        "**Motoristas por hora**"
      ]
    },
    {
      "cell_type": "code",
      "metadata": {
        "colab": {
          "base_uri": "https://localhost:8080/",
          "height": 210
        },
        "id": "s55ohknyNshG",
        "outputId": "99b292ce-4bd4-430f-d85b-9a2ea34c91be"
      },
      "source": [
        "dfInfE3.head(3)"
      ],
      "execution_count": 38,
      "outputs": [
        {
          "output_type": "execute_result",
          "data": {
            "text/html": [
              "<div>\n",
              "<style scoped>\n",
              "    .dataframe tbody tr th:only-of-type {\n",
              "        vertical-align: middle;\n",
              "    }\n",
              "\n",
              "    .dataframe tbody tr th {\n",
              "        vertical-align: top;\n",
              "    }\n",
              "\n",
              "    .dataframe thead th {\n",
              "        text-align: right;\n",
              "    }\n",
              "</style>\n",
              "<table border=\"1\" class=\"dataframe\">\n",
              "  <thead>\n",
              "    <tr style=\"text-align: right;\">\n",
              "      <th></th>\n",
              "      <th>Empresa</th>\n",
              "      <th>Escala</th>\n",
              "      <th>Jornada</th>\n",
              "      <th>Intervalos</th>\n",
              "      <th>N° de Colaboradores por turno</th>\n",
              "      <th>Tempo médio de deslocamento</th>\n",
              "      <th>Observação</th>\n",
              "      <th>Unnamed: 7</th>\n",
              "      <th>Inicio</th>\n",
              "      <th>Fim</th>\n",
              "    </tr>\n",
              "  </thead>\n",
              "  <tbody>\n",
              "    <tr>\n",
              "      <th>30</th>\n",
              "      <td>E3</td>\n",
              "      <td>4X2</td>\n",
              "      <td>4 às 16 horas</td>\n",
              "      <td>1 hora refeição e a cada 3 ou 4 horas 15 min d...</td>\n",
              "      <td>10.0</td>\n",
              "      <td>25 min (van)</td>\n",
              "      <td>Jornada a partir de 17/07/2019</td>\n",
              "      <td>Jornada referente a transporte de madeira</td>\n",
              "      <td>4</td>\n",
              "      <td>16</td>\n",
              "    </tr>\n",
              "    <tr>\n",
              "      <th>31</th>\n",
              "      <td>E3</td>\n",
              "      <td>4X2</td>\n",
              "      <td>5 às 17 horas</td>\n",
              "      <td>1 hora refeição e a cada 3 ou 4 horas 15 min d...</td>\n",
              "      <td>8.0</td>\n",
              "      <td>25 min (van)</td>\n",
              "      <td>Jornada a partir de 17/07/2019</td>\n",
              "      <td>Jornada referente a transporte de madeira</td>\n",
              "      <td>5</td>\n",
              "      <td>17</td>\n",
              "    </tr>\n",
              "    <tr>\n",
              "      <th>32</th>\n",
              "      <td>E3</td>\n",
              "      <td>4X2</td>\n",
              "      <td>6 às 18 horas</td>\n",
              "      <td>1 hora refeição e a cada 3 ou 4 horas 15 min d...</td>\n",
              "      <td>8.0</td>\n",
              "      <td>25 min (van)</td>\n",
              "      <td>Jornada a partir de 17/07/2019</td>\n",
              "      <td>Jornada referente a transporte de madeira</td>\n",
              "      <td>6</td>\n",
              "      <td>18</td>\n",
              "    </tr>\n",
              "  </tbody>\n",
              "</table>\n",
              "</div>"
            ],
            "text/plain": [
              "   Empresa Escala  ... Inicio Fim\n",
              "30      E3    4X2  ...      4  16\n",
              "31      E3    4X2  ...      5  17\n",
              "32      E3    4X2  ...      6  18\n",
              "\n",
              "[3 rows x 10 columns]"
            ]
          },
          "metadata": {
            "tags": []
          },
          "execution_count": 38
        }
      ]
    },
    {
      "cell_type": "code",
      "metadata": {
        "id": "DHdfk1wmM2oe"
      },
      "source": [
        "dfE3_motoristas_hora = pd.DataFrame(np.zeros(24, dtype='int64'), columns=['motoristasE3'])\r\n",
        "for index, row in dfInfE3.iterrows():\r\n",
        "    if row['Inicio'] < row['Fim']:\r\n",
        "      dfE3_motoristas_hora['motoristasE3'][row['Inicio']:row['Fim']] += row['N° de Colaboradores por turno']\r\n",
        "    else:\r\n",
        "      dfE3_motoristas_hora['motoristasE3'][0:row['Fim']] += row['N° de Colaboradores por turno']\r\n",
        "      dfE3_motoristas_hora['motoristasE3'][row['Inicio']:24] += row['N° de Colaboradores por turno']"
      ],
      "execution_count": 39,
      "outputs": []
    },
    {
      "cell_type": "code",
      "metadata": {
        "colab": {
          "base_uri": "https://localhost:8080/",
          "height": 824
        },
        "id": "7F3XVxG0UPS0",
        "outputId": "18ae7bee-5422-4cdc-a19c-bdba668b4516"
      },
      "source": [
        "dfE3_motoristas_hora.index.name = 'HORA'\r\n",
        "dfE3_motoristas_hora"
      ],
      "execution_count": 40,
      "outputs": [
        {
          "output_type": "execute_result",
          "data": {
            "text/html": [
              "<div>\n",
              "<style scoped>\n",
              "    .dataframe tbody tr th:only-of-type {\n",
              "        vertical-align: middle;\n",
              "    }\n",
              "\n",
              "    .dataframe tbody tr th {\n",
              "        vertical-align: top;\n",
              "    }\n",
              "\n",
              "    .dataframe thead th {\n",
              "        text-align: right;\n",
              "    }\n",
              "</style>\n",
              "<table border=\"1\" class=\"dataframe\">\n",
              "  <thead>\n",
              "    <tr style=\"text-align: right;\">\n",
              "      <th></th>\n",
              "      <th>motoristasE3</th>\n",
              "    </tr>\n",
              "    <tr>\n",
              "      <th>HORA</th>\n",
              "      <th></th>\n",
              "    </tr>\n",
              "  </thead>\n",
              "  <tbody>\n",
              "    <tr>\n",
              "      <th>0</th>\n",
              "      <td>80.0</td>\n",
              "    </tr>\n",
              "    <tr>\n",
              "      <th>1</th>\n",
              "      <td>80.0</td>\n",
              "    </tr>\n",
              "    <tr>\n",
              "      <th>2</th>\n",
              "      <td>68.0</td>\n",
              "    </tr>\n",
              "    <tr>\n",
              "      <th>3</th>\n",
              "      <td>60.0</td>\n",
              "    </tr>\n",
              "    <tr>\n",
              "      <th>4</th>\n",
              "      <td>50.0</td>\n",
              "    </tr>\n",
              "    <tr>\n",
              "      <th>5</th>\n",
              "      <td>50.0</td>\n",
              "    </tr>\n",
              "    <tr>\n",
              "      <th>6</th>\n",
              "      <td>68.0</td>\n",
              "    </tr>\n",
              "    <tr>\n",
              "      <th>7</th>\n",
              "      <td>68.0</td>\n",
              "    </tr>\n",
              "    <tr>\n",
              "      <th>8</th>\n",
              "      <td>68.0</td>\n",
              "    </tr>\n",
              "    <tr>\n",
              "      <th>9</th>\n",
              "      <td>68.0</td>\n",
              "    </tr>\n",
              "    <tr>\n",
              "      <th>10</th>\n",
              "      <td>68.0</td>\n",
              "    </tr>\n",
              "    <tr>\n",
              "      <th>11</th>\n",
              "      <td>68.0</td>\n",
              "    </tr>\n",
              "    <tr>\n",
              "      <th>12</th>\n",
              "      <td>68.0</td>\n",
              "    </tr>\n",
              "    <tr>\n",
              "      <th>13</th>\n",
              "      <td>68.0</td>\n",
              "    </tr>\n",
              "    <tr>\n",
              "      <th>14</th>\n",
              "      <td>80.0</td>\n",
              "    </tr>\n",
              "    <tr>\n",
              "      <th>15</th>\n",
              "      <td>88.0</td>\n",
              "    </tr>\n",
              "    <tr>\n",
              "      <th>16</th>\n",
              "      <td>98.0</td>\n",
              "    </tr>\n",
              "    <tr>\n",
              "      <th>17</th>\n",
              "      <td>98.0</td>\n",
              "    </tr>\n",
              "    <tr>\n",
              "      <th>18</th>\n",
              "      <td>80.0</td>\n",
              "    </tr>\n",
              "    <tr>\n",
              "      <th>19</th>\n",
              "      <td>80.0</td>\n",
              "    </tr>\n",
              "    <tr>\n",
              "      <th>20</th>\n",
              "      <td>80.0</td>\n",
              "    </tr>\n",
              "    <tr>\n",
              "      <th>21</th>\n",
              "      <td>80.0</td>\n",
              "    </tr>\n",
              "    <tr>\n",
              "      <th>22</th>\n",
              "      <td>80.0</td>\n",
              "    </tr>\n",
              "    <tr>\n",
              "      <th>23</th>\n",
              "      <td>80.0</td>\n",
              "    </tr>\n",
              "  </tbody>\n",
              "</table>\n",
              "</div>"
            ],
            "text/plain": [
              "      motoristasE3\n",
              "HORA              \n",
              "0             80.0\n",
              "1             80.0\n",
              "2             68.0\n",
              "3             60.0\n",
              "4             50.0\n",
              "5             50.0\n",
              "6             68.0\n",
              "7             68.0\n",
              "8             68.0\n",
              "9             68.0\n",
              "10            68.0\n",
              "11            68.0\n",
              "12            68.0\n",
              "13            68.0\n",
              "14            80.0\n",
              "15            88.0\n",
              "16            98.0\n",
              "17            98.0\n",
              "18            80.0\n",
              "19            80.0\n",
              "20            80.0\n",
              "21            80.0\n",
              "22            80.0\n",
              "23            80.0"
            ]
          },
          "metadata": {
            "tags": []
          },
          "execution_count": 40
        }
      ]
    },
    {
      "cell_type": "markdown",
      "metadata": {
        "id": "22MD4J1GA1iz"
      },
      "source": [
        "**Eventos por hora**"
      ]
    },
    {
      "cell_type": "code",
      "metadata": {
        "colab": {
          "base_uri": "https://localhost:8080/",
          "height": 142
        },
        "id": "hvuGwqSXcB0X",
        "outputId": "3f5ca229-2af5-4815-b4e5-fc4743e92bb0"
      },
      "source": [
        "dfE3.head(3) "
      ],
      "execution_count": 41,
      "outputs": [
        {
          "output_type": "execute_result",
          "data": {
            "text/html": [
              "<div>\n",
              "<style scoped>\n",
              "    .dataframe tbody tr th:only-of-type {\n",
              "        vertical-align: middle;\n",
              "    }\n",
              "\n",
              "    .dataframe tbody tr th {\n",
              "        vertical-align: top;\n",
              "    }\n",
              "\n",
              "    .dataframe thead th {\n",
              "        text-align: right;\n",
              "    }\n",
              "</style>\n",
              "<table border=\"1\" class=\"dataframe\">\n",
              "  <thead>\n",
              "    <tr style=\"text-align: right;\">\n",
              "      <th></th>\n",
              "      <th>HORA</th>\n",
              "      <th>TIPO</th>\n",
              "      <th>QTDE</th>\n",
              "      <th>UO</th>\n",
              "      <th>PREFIXO</th>\n",
              "      <th>LOCALIZAÇÃO</th>\n",
              "      <th>PONTO REFERÊNCIA</th>\n",
              "      <th>DIA DA SEMANA</th>\n",
              "      <th>COLABORADOR</th>\n",
              "    </tr>\n",
              "  </thead>\n",
              "  <tbody>\n",
              "    <tr>\n",
              "      <th>0</th>\n",
              "      <td>0</td>\n",
              "      <td>FADIGA MOTORISTA</td>\n",
              "      <td>AYM8091</td>\n",
              "      <td>MADEIRA</td>\n",
              "      <td>VPP 560</td>\n",
              "      <td>Ortigueira - Paraná</td>\n",
              "      <td>NaN</td>\n",
              "      <td>sex</td>\n",
              "      <td>C170</td>\n",
              "    </tr>\n",
              "    <tr>\n",
              "      <th>1</th>\n",
              "      <td>0</td>\n",
              "      <td>FADIGA MOTORISTA</td>\n",
              "      <td>AYM8091</td>\n",
              "      <td>MADEIRA</td>\n",
              "      <td>VPP 560</td>\n",
              "      <td>Reserva - Paraná</td>\n",
              "      <td>NaN</td>\n",
              "      <td>sex</td>\n",
              "      <td>C170</td>\n",
              "    </tr>\n",
              "    <tr>\n",
              "      <th>2</th>\n",
              "      <td>0</td>\n",
              "      <td>FADIGA MOTORISTA</td>\n",
              "      <td>AYM8091</td>\n",
              "      <td>MADEIRA</td>\n",
              "      <td>VPP 560</td>\n",
              "      <td>Reserva - Paraná</td>\n",
              "      <td>NaN</td>\n",
              "      <td>sex</td>\n",
              "      <td>C170</td>\n",
              "    </tr>\n",
              "  </tbody>\n",
              "</table>\n",
              "</div>"
            ],
            "text/plain": [
              "   HORA              TIPO     QTDE  ... PONTO REFERÊNCIA DIA DA SEMANA COLABORADOR\n",
              "0     0  FADIGA MOTORISTA  AYM8091  ...              NaN           sex        C170\n",
              "1     0  FADIGA MOTORISTA  AYM8091  ...              NaN           sex        C170\n",
              "2     0  FADIGA MOTORISTA  AYM8091  ...              NaN           sex        C170\n",
              "\n",
              "[3 rows x 9 columns]"
            ]
          },
          "metadata": {
            "tags": []
          },
          "execution_count": 41
        }
      ]
    },
    {
      "cell_type": "code",
      "metadata": {
        "colab": {
          "base_uri": "https://localhost:8080/"
        },
        "id": "QUYT7PYqCE6s",
        "outputId": "dba06fb4-d5d8-4f74-ad3f-a3054528da5d"
      },
      "source": [
        "dfE3.shape"
      ],
      "execution_count": 42,
      "outputs": [
        {
          "output_type": "execute_result",
          "data": {
            "text/plain": [
              "(3954, 9)"
            ]
          },
          "metadata": {
            "tags": []
          },
          "execution_count": 42
        }
      ]
    },
    {
      "cell_type": "code",
      "metadata": {
        "colab": {
          "base_uri": "https://localhost:8080/"
        },
        "id": "471-0ZxQA2YG",
        "outputId": "e34579ff-54bd-4c70-deae-0a532ae73308"
      },
      "source": [
        "dfE3.TIPO.unique()"
      ],
      "execution_count": 43,
      "outputs": [
        {
          "output_type": "execute_result",
          "data": {
            "text/plain": [
              "array(['FADIGA MOTORISTA'], dtype=object)"
            ]
          },
          "metadata": {
            "tags": []
          },
          "execution_count": 43
        }
      ]
    },
    {
      "cell_type": "code",
      "metadata": {
        "colab": {
          "base_uri": "https://localhost:8080/"
        },
        "id": "gBvyF5Z4B6tO",
        "outputId": "71d8e470-ee1c-4f23-d417-b876f2f525e0"
      },
      "source": [
        "dfE3['TIPO'].value_counts()"
      ],
      "execution_count": 44,
      "outputs": [
        {
          "output_type": "execute_result",
          "data": {
            "text/plain": [
              "FADIGA MOTORISTA    3954\n",
              "Name: TIPO, dtype: int64"
            ]
          },
          "metadata": {
            "tags": []
          },
          "execution_count": 44
        }
      ]
    },
    {
      "cell_type": "code",
      "metadata": {
        "colab": {
          "base_uri": "https://localhost:8080/"
        },
        "id": "FRwGMyQfPIu1",
        "outputId": "debb5b48-1d4e-4544-a2e6-73e5aeccc572"
      },
      "source": [
        "dfE3_fad = dfE3.HORA.value_counts().rename('Fadiga').sort_index()\r\n",
        "dfE3_fad"
      ],
      "execution_count": 45,
      "outputs": [
        {
          "output_type": "execute_result",
          "data": {
            "text/plain": [
              "0     225\n",
              "1     357\n",
              "2     278\n",
              "3     267\n",
              "4     274\n",
              "5     202\n",
              "6     131\n",
              "7     133\n",
              "8     146\n",
              "9     147\n",
              "10    240\n",
              "11    166\n",
              "12    158\n",
              "13    186\n",
              "14    162\n",
              "15    113\n",
              "16     97\n",
              "17     97\n",
              "18     67\n",
              "19     84\n",
              "20     69\n",
              "21     76\n",
              "22    119\n",
              "23    160\n",
              "Name: Fadiga, dtype: int64"
            ]
          },
          "metadata": {
            "tags": []
          },
          "execution_count": 45
        }
      ]
    },
    {
      "cell_type": "markdown",
      "metadata": {
        "id": "IqAqqP-nJ_k-"
      },
      "source": [
        "**Acidentes por hora**"
      ]
    },
    {
      "cell_type": "code",
      "metadata": {
        "colab": {
          "base_uri": "https://localhost:8080/",
          "height": 516
        },
        "id": "HnJxGCfpKDPZ",
        "outputId": "735f012f-3bfb-47a6-f7d7-0948b90c6165"
      },
      "source": [
        "dfOCO_TM_E3.head(3)"
      ],
      "execution_count": 46,
      "outputs": [
        {
          "output_type": "execute_result",
          "data": {
            "text/html": [
              "<div>\n",
              "<style scoped>\n",
              "    .dataframe tbody tr th:only-of-type {\n",
              "        vertical-align: middle;\n",
              "    }\n",
              "\n",
              "    .dataframe tbody tr th {\n",
              "        vertical-align: top;\n",
              "    }\n",
              "\n",
              "    .dataframe thead th {\n",
              "        text-align: right;\n",
              "    }\n",
              "</style>\n",
              "<table border=\"1\" class=\"dataframe\">\n",
              "  <thead>\n",
              "    <tr style=\"text-align: right;\">\n",
              "      <th></th>\n",
              "      <th>CLASSIFICAÇÃO</th>\n",
              "      <th>EMPRESA</th>\n",
              "      <th>GERÊNCIA</th>\n",
              "      <th>COORDENAÇÃO</th>\n",
              "      <th>SUB ÁREA</th>\n",
              "      <th>NOME</th>\n",
              "      <th>CARGO</th>\n",
              "      <th>TEMPO DE EMPRESA</th>\n",
              "      <th>IDADE</th>\n",
              "      <th>\\nDATA DA OCORRÊNCIA</th>\n",
              "      <th>DIA DA SEMANA</th>\n",
              "      <th>\\nLOCAL DA OCORRÊNCIA</th>\n",
              "      <th>QUALIDADE PISTA</th>\n",
              "      <th>CARACTERISTICA PISTA</th>\n",
              "      <th>SINALIZAÇÃO</th>\n",
              "      <th>CLIMA</th>\n",
              "      <th>PREFIXO</th>\n",
              "      <th>MODELO</th>\n",
              "      <th>CARREGADO</th>\n",
              "      <th>TIPO</th>\n",
              "      <th>DETALHAMENTO</th>\n",
              "      <th>POTENCIAL</th>\n",
              "      <th>SAP</th>\n",
              "      <th>DIA ESCALA</th>\n",
              "      <th>ESCALA</th>\n",
              "      <th>JORNADA</th>\n",
              "      <th>TEMPO DECORRIDO</th>\n",
              "      <th>DORMIU BEM?</th>\n",
              "      <th>PRÓXIMO PERIODO DE FÉRIAS OU FERIADO</th>\n",
              "      <th>ALIMENTOU</th>\n",
              "      <th>PROBLEMAS SAÚDE</th>\n",
              "      <th>USO MEDICAMENTO</th>\n",
              "      <th>USO ALCOOL/DROGA</th>\n",
              "      <th>PRESSÃO</th>\n",
              "      <th>PRESSA PARA CONCLUIR O TRABALHO</th>\n",
              "      <th>DESCRIÇÃO</th>\n",
              "      <th>HorarioAcidente</th>\n",
              "    </tr>\n",
              "    <tr>\n",
              "      <th>HORA</th>\n",
              "      <th></th>\n",
              "      <th></th>\n",
              "      <th></th>\n",
              "      <th></th>\n",
              "      <th></th>\n",
              "      <th></th>\n",
              "      <th></th>\n",
              "      <th></th>\n",
              "      <th></th>\n",
              "      <th></th>\n",
              "      <th></th>\n",
              "      <th></th>\n",
              "      <th></th>\n",
              "      <th></th>\n",
              "      <th></th>\n",
              "      <th></th>\n",
              "      <th></th>\n",
              "      <th></th>\n",
              "      <th></th>\n",
              "      <th></th>\n",
              "      <th></th>\n",
              "      <th></th>\n",
              "      <th></th>\n",
              "      <th></th>\n",
              "      <th></th>\n",
              "      <th></th>\n",
              "      <th></th>\n",
              "      <th></th>\n",
              "      <th></th>\n",
              "      <th></th>\n",
              "      <th></th>\n",
              "      <th></th>\n",
              "      <th></th>\n",
              "      <th></th>\n",
              "      <th></th>\n",
              "      <th></th>\n",
              "      <th></th>\n",
              "    </tr>\n",
              "  </thead>\n",
              "  <tbody>\n",
              "    <tr>\n",
              "      <th>21:45:00</th>\n",
              "      <td>IAP</td>\n",
              "      <td>E3</td>\n",
              "      <td>LOGÍSTICA</td>\n",
              "      <td>PROG. LOGÍSTICA</td>\n",
              "      <td>PROG. LOGÍSTICA E PÁTIOS</td>\n",
              "      <td>C403</td>\n",
              "      <td>MOTORISTA</td>\n",
              "      <td>5</td>\n",
              "      <td>46.0</td>\n",
              "      <td>2017-01-24</td>\n",
              "      <td>TERÇA-FEIRA</td>\n",
              "      <td>PÁTIO 3 MONTE ALEGRE SENTIDO MESA 01</td>\n",
              "      <td>NaN</td>\n",
              "      <td>NaN</td>\n",
              "      <td>NaN</td>\n",
              "      <td>NaN</td>\n",
              "      <td>VP-O547</td>\n",
              "      <td>TRITREM</td>\n",
              "      <td>SIM</td>\n",
              "      <td>TRANSPORTE DE MADEIRA</td>\n",
              "      <td>AO MOVIMENTAR O TRITREN VP-O547 CARREGADO DO P...</td>\n",
              "      <td>LPG</td>\n",
              "      <td>6088</td>\n",
              "      <td>NaN</td>\n",
              "      <td>NaN</td>\n",
              "      <td>NaN</td>\n",
              "      <td>05:44:00</td>\n",
              "      <td>NaN</td>\n",
              "      <td>NaN</td>\n",
              "      <td>NaN</td>\n",
              "      <td>NaN</td>\n",
              "      <td>NaN</td>\n",
              "      <td>NaN</td>\n",
              "      <td>NaN</td>\n",
              "      <td>NaN</td>\n",
              "      <td>A ORGANIZAÇÃO DO AMBIENTE ESTAVA ADEQUADO? SIM...</td>\n",
              "      <td>21</td>\n",
              "    </tr>\n",
              "    <tr>\n",
              "      <th>13:20:00</th>\n",
              "      <td>IBP</td>\n",
              "      <td>E3</td>\n",
              "      <td>LOGÍSTICA</td>\n",
              "      <td>LOGÍSTICA PRÓPRIA</td>\n",
              "      <td>TRANSPORTE DE MADEIRA</td>\n",
              "      <td>C131</td>\n",
              "      <td>MOTORISTA</td>\n",
              "      <td>16</td>\n",
              "      <td>44.0</td>\n",
              "      <td>2017-02-22</td>\n",
              "      <td>QUARTA-FEIRA</td>\n",
              "      <td>sentido PÁTIO RIO NOVO</td>\n",
              "      <td>CASCALHADA</td>\n",
              "      <td>ACLIVE ACENTUADO</td>\n",
              "      <td>NaN</td>\n",
              "      <td>ENSOLARADO</td>\n",
              "      <td>VPP246</td>\n",
              "      <td>NaN</td>\n",
              "      <td>SIM</td>\n",
              "      <td>TRANSPORTE DE MADEIRA</td>\n",
              "      <td>O COLABORADOR CONDUZIA O VPP246 (CARREGADO DE ...</td>\n",
              "      <td>LPG</td>\n",
              "      <td>6272</td>\n",
              "      <td>NaN</td>\n",
              "      <td>NaN</td>\n",
              "      <td>NaN</td>\n",
              "      <td>NaN</td>\n",
              "      <td>SIM</td>\n",
              "      <td>NaN</td>\n",
              "      <td>NaN</td>\n",
              "      <td>NÃO</td>\n",
              "      <td>NÃO</td>\n",
              "      <td>NÃO</td>\n",
              "      <td>NÃO</td>\n",
              "      <td>NÃO</td>\n",
              "      <td>RELATO DO COLABORADOR COLABORADOR RELATA QUE E...</td>\n",
              "      <td>13</td>\n",
              "    </tr>\n",
              "    <tr>\n",
              "      <th>00:30:00</th>\n",
              "      <td>IBP</td>\n",
              "      <td>E3</td>\n",
              "      <td>LOGÍSTICA</td>\n",
              "      <td>TRANSPORTE FLORESTAL</td>\n",
              "      <td>CARREGAMENTO</td>\n",
              "      <td>C339</td>\n",
              "      <td>OPERADOR DE MÁQUINA FLORESTAL</td>\n",
              "      <td>18</td>\n",
              "      <td>31.0</td>\n",
              "      <td>2017-02-25</td>\n",
              "      <td>SÁBADO</td>\n",
              "      <td>MIRANDINHA</td>\n",
              "      <td>NaN</td>\n",
              "      <td>RETA</td>\n",
              "      <td>NaN</td>\n",
              "      <td>NaN</td>\n",
              "      <td>JSL-053</td>\n",
              "      <td>NaN</td>\n",
              "      <td>SIM</td>\n",
              "      <td>TRANSPORTE DE MADEIRA</td>\n",
              "      <td>O CAMINHÃO JSL 053 ESTAVA SENDO CARREGADO PELA...</td>\n",
              "      <td>LPL</td>\n",
              "      <td>6314</td>\n",
              "      <td>NaN</td>\n",
              "      <td>NaN</td>\n",
              "      <td>NaN</td>\n",
              "      <td>NaN</td>\n",
              "      <td>NaN</td>\n",
              "      <td>NaN</td>\n",
              "      <td>NaN</td>\n",
              "      <td>NaN</td>\n",
              "      <td>NaN</td>\n",
              "      <td>NaN</td>\n",
              "      <td>NaN</td>\n",
              "      <td>NaN</td>\n",
              "      <td>OCASIONADO POR TERCEIROS</td>\n",
              "      <td>0</td>\n",
              "    </tr>\n",
              "  </tbody>\n",
              "</table>\n",
              "</div>"
            ],
            "text/plain": [
              "         CLASSIFICAÇÃO  ... HorarioAcidente\n",
              "HORA                    ...                \n",
              "21:45:00           IAP  ...              21\n",
              "13:20:00           IBP  ...              13\n",
              "00:30:00           IBP  ...               0\n",
              "\n",
              "[3 rows x 37 columns]"
            ]
          },
          "metadata": {
            "tags": []
          },
          "execution_count": 46
        }
      ]
    },
    {
      "cell_type": "code",
      "metadata": {
        "colab": {
          "base_uri": "https://localhost:8080/"
        },
        "id": "u0s9doKzKo4n",
        "outputId": "605cff9f-1076-4459-ab0d-d0fd9d4a5a03"
      },
      "source": [
        "dfOCO_TM_E3.CARGO.value_counts()"
      ],
      "execution_count": 47,
      "outputs": [
        {
          "output_type": "execute_result",
          "data": {
            "text/plain": [
              "MOTORISTA                          29\n",
              "MOTORISTA TRANSPORTE FLORESTAL     14\n",
              "OPERADOR DE MÁQUINA FLORESTAL       1\n",
              "OPERADOR DE MÁQUINA                 1\n",
              "OPERADOR MAQUINAS FLORESTAIS II     1\n",
              "MOTORISTA BALDEIO INTERNO           1\n",
              "BOMBEIRO FLORESTAL                  1\n",
              "Name: CARGO, dtype: int64"
            ]
          },
          "metadata": {
            "tags": []
          },
          "execution_count": 47
        }
      ]
    },
    {
      "cell_type": "code",
      "metadata": {
        "colab": {
          "base_uri": "https://localhost:8080/",
          "height": 516
        },
        "id": "4Ghdmmg5Ko1H",
        "outputId": "47ac53ad-8404-46d7-c8bb-c03b43a4d08e"
      },
      "source": [
        "dfOCO_TM_E3_moto = dfOCO_TM_E3[(dfOCO_TM_E3.CARGO == 'MOTORISTA') | (dfOCO_TM_E3.CARGO == 'MOTORISTA TRANSPORTE FLORESTAL')]\r\n",
        "dfOCO_TM_E3_moto.head(3)"
      ],
      "execution_count": 48,
      "outputs": [
        {
          "output_type": "execute_result",
          "data": {
            "text/html": [
              "<div>\n",
              "<style scoped>\n",
              "    .dataframe tbody tr th:only-of-type {\n",
              "        vertical-align: middle;\n",
              "    }\n",
              "\n",
              "    .dataframe tbody tr th {\n",
              "        vertical-align: top;\n",
              "    }\n",
              "\n",
              "    .dataframe thead th {\n",
              "        text-align: right;\n",
              "    }\n",
              "</style>\n",
              "<table border=\"1\" class=\"dataframe\">\n",
              "  <thead>\n",
              "    <tr style=\"text-align: right;\">\n",
              "      <th></th>\n",
              "      <th>CLASSIFICAÇÃO</th>\n",
              "      <th>EMPRESA</th>\n",
              "      <th>GERÊNCIA</th>\n",
              "      <th>COORDENAÇÃO</th>\n",
              "      <th>SUB ÁREA</th>\n",
              "      <th>NOME</th>\n",
              "      <th>CARGO</th>\n",
              "      <th>TEMPO DE EMPRESA</th>\n",
              "      <th>IDADE</th>\n",
              "      <th>\\nDATA DA OCORRÊNCIA</th>\n",
              "      <th>DIA DA SEMANA</th>\n",
              "      <th>\\nLOCAL DA OCORRÊNCIA</th>\n",
              "      <th>QUALIDADE PISTA</th>\n",
              "      <th>CARACTERISTICA PISTA</th>\n",
              "      <th>SINALIZAÇÃO</th>\n",
              "      <th>CLIMA</th>\n",
              "      <th>PREFIXO</th>\n",
              "      <th>MODELO</th>\n",
              "      <th>CARREGADO</th>\n",
              "      <th>TIPO</th>\n",
              "      <th>DETALHAMENTO</th>\n",
              "      <th>POTENCIAL</th>\n",
              "      <th>SAP</th>\n",
              "      <th>DIA ESCALA</th>\n",
              "      <th>ESCALA</th>\n",
              "      <th>JORNADA</th>\n",
              "      <th>TEMPO DECORRIDO</th>\n",
              "      <th>DORMIU BEM?</th>\n",
              "      <th>PRÓXIMO PERIODO DE FÉRIAS OU FERIADO</th>\n",
              "      <th>ALIMENTOU</th>\n",
              "      <th>PROBLEMAS SAÚDE</th>\n",
              "      <th>USO MEDICAMENTO</th>\n",
              "      <th>USO ALCOOL/DROGA</th>\n",
              "      <th>PRESSÃO</th>\n",
              "      <th>PRESSA PARA CONCLUIR O TRABALHO</th>\n",
              "      <th>DESCRIÇÃO</th>\n",
              "      <th>HorarioAcidente</th>\n",
              "    </tr>\n",
              "    <tr>\n",
              "      <th>HORA</th>\n",
              "      <th></th>\n",
              "      <th></th>\n",
              "      <th></th>\n",
              "      <th></th>\n",
              "      <th></th>\n",
              "      <th></th>\n",
              "      <th></th>\n",
              "      <th></th>\n",
              "      <th></th>\n",
              "      <th></th>\n",
              "      <th></th>\n",
              "      <th></th>\n",
              "      <th></th>\n",
              "      <th></th>\n",
              "      <th></th>\n",
              "      <th></th>\n",
              "      <th></th>\n",
              "      <th></th>\n",
              "      <th></th>\n",
              "      <th></th>\n",
              "      <th></th>\n",
              "      <th></th>\n",
              "      <th></th>\n",
              "      <th></th>\n",
              "      <th></th>\n",
              "      <th></th>\n",
              "      <th></th>\n",
              "      <th></th>\n",
              "      <th></th>\n",
              "      <th></th>\n",
              "      <th></th>\n",
              "      <th></th>\n",
              "      <th></th>\n",
              "      <th></th>\n",
              "      <th></th>\n",
              "      <th></th>\n",
              "      <th></th>\n",
              "    </tr>\n",
              "  </thead>\n",
              "  <tbody>\n",
              "    <tr>\n",
              "      <th>21:45:00</th>\n",
              "      <td>IAP</td>\n",
              "      <td>E3</td>\n",
              "      <td>LOGÍSTICA</td>\n",
              "      <td>PROG. LOGÍSTICA</td>\n",
              "      <td>PROG. LOGÍSTICA E PÁTIOS</td>\n",
              "      <td>C403</td>\n",
              "      <td>MOTORISTA</td>\n",
              "      <td>5</td>\n",
              "      <td>46.0</td>\n",
              "      <td>2017-01-24</td>\n",
              "      <td>TERÇA-FEIRA</td>\n",
              "      <td>PÁTIO 3 MONTE ALEGRE SENTIDO MESA 01</td>\n",
              "      <td>NaN</td>\n",
              "      <td>NaN</td>\n",
              "      <td>NaN</td>\n",
              "      <td>NaN</td>\n",
              "      <td>VP-O547</td>\n",
              "      <td>TRITREM</td>\n",
              "      <td>SIM</td>\n",
              "      <td>TRANSPORTE DE MADEIRA</td>\n",
              "      <td>AO MOVIMENTAR O TRITREN VP-O547 CARREGADO DO P...</td>\n",
              "      <td>LPG</td>\n",
              "      <td>6088</td>\n",
              "      <td>NaN</td>\n",
              "      <td>NaN</td>\n",
              "      <td>NaN</td>\n",
              "      <td>05:44:00</td>\n",
              "      <td>NaN</td>\n",
              "      <td>NaN</td>\n",
              "      <td>NaN</td>\n",
              "      <td>NaN</td>\n",
              "      <td>NaN</td>\n",
              "      <td>NaN</td>\n",
              "      <td>NaN</td>\n",
              "      <td>NaN</td>\n",
              "      <td>A ORGANIZAÇÃO DO AMBIENTE ESTAVA ADEQUADO? SIM...</td>\n",
              "      <td>21</td>\n",
              "    </tr>\n",
              "    <tr>\n",
              "      <th>13:20:00</th>\n",
              "      <td>IBP</td>\n",
              "      <td>E3</td>\n",
              "      <td>LOGÍSTICA</td>\n",
              "      <td>LOGÍSTICA PRÓPRIA</td>\n",
              "      <td>TRANSPORTE DE MADEIRA</td>\n",
              "      <td>C131</td>\n",
              "      <td>MOTORISTA</td>\n",
              "      <td>16</td>\n",
              "      <td>44.0</td>\n",
              "      <td>2017-02-22</td>\n",
              "      <td>QUARTA-FEIRA</td>\n",
              "      <td>sentido PÁTIO RIO NOVO</td>\n",
              "      <td>CASCALHADA</td>\n",
              "      <td>ACLIVE ACENTUADO</td>\n",
              "      <td>NaN</td>\n",
              "      <td>ENSOLARADO</td>\n",
              "      <td>VPP246</td>\n",
              "      <td>NaN</td>\n",
              "      <td>SIM</td>\n",
              "      <td>TRANSPORTE DE MADEIRA</td>\n",
              "      <td>O COLABORADOR CONDUZIA O VPP246 (CARREGADO DE ...</td>\n",
              "      <td>LPG</td>\n",
              "      <td>6272</td>\n",
              "      <td>NaN</td>\n",
              "      <td>NaN</td>\n",
              "      <td>NaN</td>\n",
              "      <td>NaN</td>\n",
              "      <td>SIM</td>\n",
              "      <td>NaN</td>\n",
              "      <td>NaN</td>\n",
              "      <td>NÃO</td>\n",
              "      <td>NÃO</td>\n",
              "      <td>NÃO</td>\n",
              "      <td>NÃO</td>\n",
              "      <td>NÃO</td>\n",
              "      <td>RELATO DO COLABORADOR COLABORADOR RELATA QUE E...</td>\n",
              "      <td>13</td>\n",
              "    </tr>\n",
              "    <tr>\n",
              "      <th>20:15:00</th>\n",
              "      <td>OEC</td>\n",
              "      <td>E3</td>\n",
              "      <td>LOGÍSTICA</td>\n",
              "      <td>LOGÍSTICA PRÓPRIA</td>\n",
              "      <td>FROTA PRÓPRIA</td>\n",
              "      <td>C26</td>\n",
              "      <td>MOTORISTA</td>\n",
              "      <td>12</td>\n",
              "      <td>31.0</td>\n",
              "      <td>2017-02-25</td>\n",
              "      <td>SÁBADO</td>\n",
              "      <td>PR-239</td>\n",
              "      <td>ASFALTADA</td>\n",
              "      <td>RETA</td>\n",
              "      <td>NaN</td>\n",
              "      <td>NaN</td>\n",
              "      <td>VPP-525</td>\n",
              "      <td>NaN</td>\n",
              "      <td>SIM</td>\n",
              "      <td>TRANSPORTE DE MADEIRA</td>\n",
              "      <td>COLABORADOR TRAFEGAVA PELA RODOVIA PR-239 COM ...</td>\n",
              "      <td>LPL</td>\n",
              "      <td>6324</td>\n",
              "      <td>NaN</td>\n",
              "      <td>NaN</td>\n",
              "      <td>NaN</td>\n",
              "      <td>NaN</td>\n",
              "      <td>NaN</td>\n",
              "      <td>NaN</td>\n",
              "      <td>NaN</td>\n",
              "      <td>NaN</td>\n",
              "      <td>NaN</td>\n",
              "      <td>NaN</td>\n",
              "      <td>NaN</td>\n",
              "      <td>NaN</td>\n",
              "      <td>MOTORISTA DO VEICULO TERCEIRO FORÇOU ULTRAPASS...</td>\n",
              "      <td>20</td>\n",
              "    </tr>\n",
              "  </tbody>\n",
              "</table>\n",
              "</div>"
            ],
            "text/plain": [
              "         CLASSIFICAÇÃO  ... HorarioAcidente\n",
              "HORA                    ...                \n",
              "21:45:00           IAP  ...              21\n",
              "13:20:00           IBP  ...              13\n",
              "20:15:00           OEC  ...              20\n",
              "\n",
              "[3 rows x 37 columns]"
            ]
          },
          "metadata": {
            "tags": []
          },
          "execution_count": 48
        }
      ]
    },
    {
      "cell_type": "code",
      "metadata": {
        "colab": {
          "base_uri": "https://localhost:8080/"
        },
        "id": "x4awsMn1LVms",
        "outputId": "1e7e245b-e5a1-4151-fc5e-b78976077ae4"
      },
      "source": [
        "dfE3_acid_hora = dfOCO_TM_E3_moto.HorarioAcidente.value_counts().sort_index().rename('Acidentes por hora')\r\n",
        "dfE3_acid_hora"
      ],
      "execution_count": 49,
      "outputs": [
        {
          "output_type": "execute_result",
          "data": {
            "text/plain": [
              "0     4\n",
              "1     1\n",
              "2     3\n",
              "3     3\n",
              "4     1\n",
              "5     3\n",
              "6     1\n",
              "7     1\n",
              "8     3\n",
              "9     3\n",
              "10    2\n",
              "11    2\n",
              "12    1\n",
              "13    4\n",
              "14    1\n",
              "15    1\n",
              "16    2\n",
              "18    1\n",
              "20    2\n",
              "21    2\n",
              "22    1\n",
              "23    1\n",
              "Name: Acidentes por hora, dtype: int64"
            ]
          },
          "metadata": {
            "tags": []
          },
          "execution_count": 49
        }
      ]
    },
    {
      "cell_type": "markdown",
      "metadata": {
        "id": "XWv4aLgPP_Gk"
      },
      "source": [
        "**DF final E3**"
      ]
    },
    {
      "cell_type": "code",
      "metadata": {
        "colab": {
          "base_uri": "https://localhost:8080/",
          "height": 824
        },
        "id": "GPgL6wYiR3kH",
        "outputId": "1a655123-16e1-469f-c48f-fad2915dcd66"
      },
      "source": [
        "dfE3_final = pd.DataFrame(dfE3_motoristas_hora['motoristasE3'], dtype='int64')\r\n",
        "dfE3_final['Fadiga'] = pd.DataFrame(dfE3_fad)\r\n",
        "dfE3_final['Acidentes'] = pd.DataFrame(dfE3_acid_hora)\r\n",
        "dfE3_final.fillna(0, inplace=True)\r\n",
        "dfE3_final['Acidentes'] = dfE3_final.Acidentes.astype('int64')\r\n",
        "dfE3_final"
      ],
      "execution_count": 50,
      "outputs": [
        {
          "output_type": "execute_result",
          "data": {
            "text/html": [
              "<div>\n",
              "<style scoped>\n",
              "    .dataframe tbody tr th:only-of-type {\n",
              "        vertical-align: middle;\n",
              "    }\n",
              "\n",
              "    .dataframe tbody tr th {\n",
              "        vertical-align: top;\n",
              "    }\n",
              "\n",
              "    .dataframe thead th {\n",
              "        text-align: right;\n",
              "    }\n",
              "</style>\n",
              "<table border=\"1\" class=\"dataframe\">\n",
              "  <thead>\n",
              "    <tr style=\"text-align: right;\">\n",
              "      <th></th>\n",
              "      <th>motoristasE3</th>\n",
              "      <th>Fadiga</th>\n",
              "      <th>Acidentes</th>\n",
              "    </tr>\n",
              "    <tr>\n",
              "      <th>HORA</th>\n",
              "      <th></th>\n",
              "      <th></th>\n",
              "      <th></th>\n",
              "    </tr>\n",
              "  </thead>\n",
              "  <tbody>\n",
              "    <tr>\n",
              "      <th>0</th>\n",
              "      <td>80</td>\n",
              "      <td>225</td>\n",
              "      <td>4</td>\n",
              "    </tr>\n",
              "    <tr>\n",
              "      <th>1</th>\n",
              "      <td>80</td>\n",
              "      <td>357</td>\n",
              "      <td>1</td>\n",
              "    </tr>\n",
              "    <tr>\n",
              "      <th>2</th>\n",
              "      <td>68</td>\n",
              "      <td>278</td>\n",
              "      <td>3</td>\n",
              "    </tr>\n",
              "    <tr>\n",
              "      <th>3</th>\n",
              "      <td>60</td>\n",
              "      <td>267</td>\n",
              "      <td>3</td>\n",
              "    </tr>\n",
              "    <tr>\n",
              "      <th>4</th>\n",
              "      <td>50</td>\n",
              "      <td>274</td>\n",
              "      <td>1</td>\n",
              "    </tr>\n",
              "    <tr>\n",
              "      <th>5</th>\n",
              "      <td>50</td>\n",
              "      <td>202</td>\n",
              "      <td>3</td>\n",
              "    </tr>\n",
              "    <tr>\n",
              "      <th>6</th>\n",
              "      <td>68</td>\n",
              "      <td>131</td>\n",
              "      <td>1</td>\n",
              "    </tr>\n",
              "    <tr>\n",
              "      <th>7</th>\n",
              "      <td>68</td>\n",
              "      <td>133</td>\n",
              "      <td>1</td>\n",
              "    </tr>\n",
              "    <tr>\n",
              "      <th>8</th>\n",
              "      <td>68</td>\n",
              "      <td>146</td>\n",
              "      <td>3</td>\n",
              "    </tr>\n",
              "    <tr>\n",
              "      <th>9</th>\n",
              "      <td>68</td>\n",
              "      <td>147</td>\n",
              "      <td>3</td>\n",
              "    </tr>\n",
              "    <tr>\n",
              "      <th>10</th>\n",
              "      <td>68</td>\n",
              "      <td>240</td>\n",
              "      <td>2</td>\n",
              "    </tr>\n",
              "    <tr>\n",
              "      <th>11</th>\n",
              "      <td>68</td>\n",
              "      <td>166</td>\n",
              "      <td>2</td>\n",
              "    </tr>\n",
              "    <tr>\n",
              "      <th>12</th>\n",
              "      <td>68</td>\n",
              "      <td>158</td>\n",
              "      <td>1</td>\n",
              "    </tr>\n",
              "    <tr>\n",
              "      <th>13</th>\n",
              "      <td>68</td>\n",
              "      <td>186</td>\n",
              "      <td>4</td>\n",
              "    </tr>\n",
              "    <tr>\n",
              "      <th>14</th>\n",
              "      <td>80</td>\n",
              "      <td>162</td>\n",
              "      <td>1</td>\n",
              "    </tr>\n",
              "    <tr>\n",
              "      <th>15</th>\n",
              "      <td>88</td>\n",
              "      <td>113</td>\n",
              "      <td>1</td>\n",
              "    </tr>\n",
              "    <tr>\n",
              "      <th>16</th>\n",
              "      <td>98</td>\n",
              "      <td>97</td>\n",
              "      <td>2</td>\n",
              "    </tr>\n",
              "    <tr>\n",
              "      <th>17</th>\n",
              "      <td>98</td>\n",
              "      <td>97</td>\n",
              "      <td>0</td>\n",
              "    </tr>\n",
              "    <tr>\n",
              "      <th>18</th>\n",
              "      <td>80</td>\n",
              "      <td>67</td>\n",
              "      <td>1</td>\n",
              "    </tr>\n",
              "    <tr>\n",
              "      <th>19</th>\n",
              "      <td>80</td>\n",
              "      <td>84</td>\n",
              "      <td>0</td>\n",
              "    </tr>\n",
              "    <tr>\n",
              "      <th>20</th>\n",
              "      <td>80</td>\n",
              "      <td>69</td>\n",
              "      <td>2</td>\n",
              "    </tr>\n",
              "    <tr>\n",
              "      <th>21</th>\n",
              "      <td>80</td>\n",
              "      <td>76</td>\n",
              "      <td>2</td>\n",
              "    </tr>\n",
              "    <tr>\n",
              "      <th>22</th>\n",
              "      <td>80</td>\n",
              "      <td>119</td>\n",
              "      <td>1</td>\n",
              "    </tr>\n",
              "    <tr>\n",
              "      <th>23</th>\n",
              "      <td>80</td>\n",
              "      <td>160</td>\n",
              "      <td>1</td>\n",
              "    </tr>\n",
              "  </tbody>\n",
              "</table>\n",
              "</div>"
            ],
            "text/plain": [
              "      motoristasE3  Fadiga  Acidentes\n",
              "HORA                                 \n",
              "0               80     225          4\n",
              "1               80     357          1\n",
              "2               68     278          3\n",
              "3               60     267          3\n",
              "4               50     274          1\n",
              "5               50     202          3\n",
              "6               68     131          1\n",
              "7               68     133          1\n",
              "8               68     146          3\n",
              "9               68     147          3\n",
              "10              68     240          2\n",
              "11              68     166          2\n",
              "12              68     158          1\n",
              "13              68     186          4\n",
              "14              80     162          1\n",
              "15              88     113          1\n",
              "16              98      97          2\n",
              "17              98      97          0\n",
              "18              80      67          1\n",
              "19              80      84          0\n",
              "20              80      69          2\n",
              "21              80      76          2\n",
              "22              80     119          1\n",
              "23              80     160          1"
            ]
          },
          "metadata": {
            "tags": []
          },
          "execution_count": 50
        }
      ]
    },
    {
      "cell_type": "markdown",
      "metadata": {
        "id": "kXATWDn_8AUU"
      },
      "source": [
        "### **Visualização**"
      ]
    },
    {
      "cell_type": "code",
      "metadata": {
        "colab": {
          "base_uri": "https://localhost:8080/"
        },
        "id": "bw3RiPkl8FxT",
        "outputId": "a26aad70-3423-4579-ef5e-0bdac5247ab8"
      },
      "source": [
        "counts, bins = np.histogram(dfE3['HORA'], bins=range(0, 25, 3))\r\n",
        "counts"
      ],
      "execution_count": 51,
      "outputs": [
        {
          "output_type": "execute_result",
          "data": {
            "text/plain": [
              "array([860, 743, 410, 553, 506, 307, 220, 355])"
            ]
          },
          "metadata": {
            "tags": []
          },
          "execution_count": 51
        }
      ]
    },
    {
      "cell_type": "code",
      "metadata": {
        "colab": {
          "base_uri": "https://localhost:8080/"
        },
        "id": "rdoerYms8FUI",
        "outputId": "17d7a106-fc6c-4442-9376-5b46e11bff03"
      },
      "source": [
        "b = np.array(dfE3_final['motoristasE3'])\r\n",
        "b"
      ],
      "execution_count": 52,
      "outputs": [
        {
          "output_type": "execute_result",
          "data": {
            "text/plain": [
              "array([80, 80, 68, 60, 50, 50, 68, 68, 68, 68, 68, 68, 68, 68, 80, 88, 98,\n",
              "       98, 80, 80, 80, 80, 80, 80])"
            ]
          },
          "metadata": {
            "tags": []
          },
          "execution_count": 52
        }
      ]
    },
    {
      "cell_type": "code",
      "metadata": {
        "colab": {
          "base_uri": "https://localhost:8080/"
        },
        "id": "-c2uKcpH9_ke",
        "outputId": "0c537709-1202-484c-e4d5-2e3694ce2458"
      },
      "source": [
        "c = b.reshape((8,3)).sum(axis=1)\r\n",
        "c"
      ],
      "execution_count": 53,
      "outputs": [
        {
          "output_type": "execute_result",
          "data": {
            "text/plain": [
              "array([228, 160, 204, 204, 216, 284, 240, 240])"
            ]
          },
          "metadata": {
            "tags": []
          },
          "execution_count": 53
        }
      ]
    },
    {
      "cell_type": "code",
      "metadata": {
        "id": "UlklNaMxh7yL"
      },
      "source": [
        "## Variáveis da função graphics_plot\r\n",
        "Nbins = 9\r\n",
        "ticks = 3"
      ],
      "execution_count": 54,
      "outputs": []
    },
    {
      "cell_type": "code",
      "metadata": {
        "colab": {
          "base_uri": "https://localhost:8080/",
          "height": 542
        },
        "id": "J0hgvyoJ-T6t",
        "outputId": "6ad71d76-e3ce-4491-f9f9-73d372570fc5"
      },
      "source": [
        "graphics_plot(y = [counts, counts/c], y_name = ['Events(raw)', 'Events/Drivers'], \r\n",
        "              bins = Nbins, title = 'Events company E3', yaxes_title = ['Raw', 'Rate'], \r\n",
        "              x_tick = ticks)"
      ],
      "execution_count": 55,
      "outputs": [
        {
          "output_type": "display_data",
          "data": {
            "text/html": [
              "<html>\n",
              "<head><meta charset=\"utf-8\" /></head>\n",
              "<body>\n",
              "    <div>            <script src=\"https://cdnjs.cloudflare.com/ajax/libs/mathjax/2.7.5/MathJax.js?config=TeX-AMS-MML_SVG\"></script><script type=\"text/javascript\">if (window.MathJax) {MathJax.Hub.Config({SVG: {font: \"STIX-Web\"}});}</script>                <script type=\"text/javascript\">window.PlotlyConfig = {MathJaxConfig: 'local'};</script>\n",
              "        <script src=\"https://cdn.plot.ly/plotly-latest.min.js\"></script>                <div id=\"d98c338d-9e8b-4bdb-abdd-80f08256a0f6\" class=\"plotly-graph-div\" style=\"height:525px; width:100%;\"></div>            <script type=\"text/javascript\">                                    window.PLOTLYENV=window.PLOTLYENV || {};                                    if (document.getElementById(\"d98c338d-9e8b-4bdb-abdd-80f08256a0f6\")) {                    Plotly.newPlot(                        \"d98c338d-9e8b-4bdb-abdd-80f08256a0f6\",                        [{\"line\": {\"color\": \"rgb(0, 0, 0)\", \"width\": 2}, \"marker\": {\"size\": 7, \"symbol\": \"circle\"}, \"mode\": \"lines+markers\", \"name\": \"Events(raw)\", \"type\": \"scatter\", \"x\": [0.0, 3.0, 6.0, 9.0, 12.0, 15.0, 18.0, 21.0, 24.0], \"xaxis\": \"x\", \"y\": [860, 743, 410, 553, 506, 307, 220, 355], \"yaxis\": \"y\"}, {\"line\": {\"color\": \"rgb(0, 0, 0)\", \"dash\": \"dash\", \"width\": 2}, \"marker\": {\"size\": 7, \"symbol\": \"star\"}, \"mode\": \"lines+markers\", \"name\": \"Events/Drivers\", \"type\": \"scatter\", \"x\": [0.0, 3.0, 6.0, 9.0, 12.0, 15.0, 18.0, 21.0, 24.0], \"xaxis\": \"x\", \"y\": [3.7719298245614037, 4.64375, 2.0098039215686274, 2.7107843137254903, 2.3425925925925926, 1.0809859154929577, 0.9166666666666666, 1.4791666666666667], \"yaxis\": \"y2\"}],                        {\"legend\": {\"orientation\": \"h\", \"x\": 0.95, \"xanchor\": \"right\", \"y\": 1.01, \"yanchor\": \"bottom\"}, \"paper_bgcolor\": \"rgba(0,0,0,0)\", \"plot_bgcolor\": \"rgba(0,0,0,0)\", \"template\": {\"data\": {\"bar\": [{\"error_x\": {\"color\": \"#2a3f5f\"}, \"error_y\": {\"color\": \"#2a3f5f\"}, \"marker\": {\"line\": {\"color\": \"#E5ECF6\", \"width\": 0.5}}, \"type\": \"bar\"}], \"barpolar\": [{\"marker\": {\"line\": {\"color\": \"#E5ECF6\", \"width\": 0.5}}, \"type\": \"barpolar\"}], \"carpet\": [{\"aaxis\": {\"endlinecolor\": \"#2a3f5f\", \"gridcolor\": \"white\", \"linecolor\": \"white\", \"minorgridcolor\": \"white\", \"startlinecolor\": \"#2a3f5f\"}, \"baxis\": {\"endlinecolor\": \"#2a3f5f\", \"gridcolor\": \"white\", \"linecolor\": \"white\", \"minorgridcolor\": \"white\", \"startlinecolor\": \"#2a3f5f\"}, \"type\": \"carpet\"}], \"choropleth\": [{\"colorbar\": {\"outlinewidth\": 0, \"ticks\": \"\"}, \"type\": \"choropleth\"}], \"contour\": [{\"colorbar\": {\"outlinewidth\": 0, \"ticks\": \"\"}, \"colorscale\": [[0.0, \"#0d0887\"], [0.1111111111111111, \"#46039f\"], [0.2222222222222222, \"#7201a8\"], [0.3333333333333333, \"#9c179e\"], [0.4444444444444444, \"#bd3786\"], [0.5555555555555556, \"#d8576b\"], [0.6666666666666666, \"#ed7953\"], [0.7777777777777778, \"#fb9f3a\"], [0.8888888888888888, \"#fdca26\"], [1.0, \"#f0f921\"]], \"type\": \"contour\"}], \"contourcarpet\": [{\"colorbar\": {\"outlinewidth\": 0, \"ticks\": \"\"}, \"type\": \"contourcarpet\"}], \"heatmap\": [{\"colorbar\": {\"outlinewidth\": 0, \"ticks\": \"\"}, \"colorscale\": [[0.0, \"#0d0887\"], [0.1111111111111111, \"#46039f\"], [0.2222222222222222, \"#7201a8\"], [0.3333333333333333, \"#9c179e\"], [0.4444444444444444, \"#bd3786\"], [0.5555555555555556, \"#d8576b\"], [0.6666666666666666, \"#ed7953\"], [0.7777777777777778, \"#fb9f3a\"], [0.8888888888888888, \"#fdca26\"], [1.0, \"#f0f921\"]], \"type\": \"heatmap\"}], \"heatmapgl\": [{\"colorbar\": {\"outlinewidth\": 0, \"ticks\": \"\"}, \"colorscale\": [[0.0, \"#0d0887\"], [0.1111111111111111, \"#46039f\"], [0.2222222222222222, \"#7201a8\"], [0.3333333333333333, \"#9c179e\"], [0.4444444444444444, \"#bd3786\"], [0.5555555555555556, \"#d8576b\"], [0.6666666666666666, \"#ed7953\"], [0.7777777777777778, \"#fb9f3a\"], [0.8888888888888888, \"#fdca26\"], [1.0, \"#f0f921\"]], \"type\": \"heatmapgl\"}], \"histogram\": [{\"marker\": {\"colorbar\": {\"outlinewidth\": 0, \"ticks\": \"\"}}, \"type\": \"histogram\"}], \"histogram2d\": [{\"colorbar\": {\"outlinewidth\": 0, \"ticks\": \"\"}, \"colorscale\": [[0.0, \"#0d0887\"], [0.1111111111111111, \"#46039f\"], [0.2222222222222222, \"#7201a8\"], [0.3333333333333333, \"#9c179e\"], [0.4444444444444444, \"#bd3786\"], [0.5555555555555556, \"#d8576b\"], [0.6666666666666666, \"#ed7953\"], [0.7777777777777778, \"#fb9f3a\"], [0.8888888888888888, \"#fdca26\"], [1.0, \"#f0f921\"]], \"type\": \"histogram2d\"}], \"histogram2dcontour\": [{\"colorbar\": {\"outlinewidth\": 0, \"ticks\": \"\"}, \"colorscale\": [[0.0, \"#0d0887\"], [0.1111111111111111, \"#46039f\"], [0.2222222222222222, \"#7201a8\"], [0.3333333333333333, \"#9c179e\"], [0.4444444444444444, \"#bd3786\"], [0.5555555555555556, \"#d8576b\"], [0.6666666666666666, \"#ed7953\"], [0.7777777777777778, \"#fb9f3a\"], [0.8888888888888888, \"#fdca26\"], [1.0, \"#f0f921\"]], \"type\": \"histogram2dcontour\"}], \"mesh3d\": [{\"colorbar\": {\"outlinewidth\": 0, \"ticks\": \"\"}, \"type\": \"mesh3d\"}], \"parcoords\": [{\"line\": {\"colorbar\": {\"outlinewidth\": 0, \"ticks\": \"\"}}, \"type\": \"parcoords\"}], \"pie\": [{\"automargin\": true, \"type\": \"pie\"}], \"scatter\": [{\"marker\": {\"colorbar\": {\"outlinewidth\": 0, \"ticks\": \"\"}}, \"type\": \"scatter\"}], \"scatter3d\": [{\"line\": {\"colorbar\": {\"outlinewidth\": 0, \"ticks\": \"\"}}, \"marker\": {\"colorbar\": {\"outlinewidth\": 0, \"ticks\": \"\"}}, \"type\": \"scatter3d\"}], \"scattercarpet\": [{\"marker\": {\"colorbar\": {\"outlinewidth\": 0, \"ticks\": \"\"}}, \"type\": \"scattercarpet\"}], \"scattergeo\": [{\"marker\": {\"colorbar\": {\"outlinewidth\": 0, \"ticks\": \"\"}}, \"type\": \"scattergeo\"}], \"scattergl\": [{\"marker\": {\"colorbar\": {\"outlinewidth\": 0, \"ticks\": \"\"}}, \"type\": \"scattergl\"}], \"scattermapbox\": [{\"marker\": {\"colorbar\": {\"outlinewidth\": 0, \"ticks\": \"\"}}, \"type\": \"scattermapbox\"}], \"scatterpolar\": [{\"marker\": {\"colorbar\": {\"outlinewidth\": 0, \"ticks\": \"\"}}, \"type\": \"scatterpolar\"}], \"scatterpolargl\": [{\"marker\": {\"colorbar\": {\"outlinewidth\": 0, \"ticks\": \"\"}}, \"type\": \"scatterpolargl\"}], \"scatterternary\": [{\"marker\": {\"colorbar\": {\"outlinewidth\": 0, \"ticks\": \"\"}}, \"type\": \"scatterternary\"}], \"surface\": [{\"colorbar\": {\"outlinewidth\": 0, \"ticks\": \"\"}, \"colorscale\": [[0.0, \"#0d0887\"], [0.1111111111111111, \"#46039f\"], [0.2222222222222222, \"#7201a8\"], [0.3333333333333333, \"#9c179e\"], [0.4444444444444444, \"#bd3786\"], [0.5555555555555556, \"#d8576b\"], [0.6666666666666666, \"#ed7953\"], [0.7777777777777778, \"#fb9f3a\"], [0.8888888888888888, \"#fdca26\"], [1.0, \"#f0f921\"]], \"type\": \"surface\"}], \"table\": [{\"cells\": {\"fill\": {\"color\": \"#EBF0F8\"}, \"line\": {\"color\": \"white\"}}, \"header\": {\"fill\": {\"color\": \"#C8D4E3\"}, \"line\": {\"color\": \"white\"}}, \"type\": \"table\"}]}, \"layout\": {\"annotationdefaults\": {\"arrowcolor\": \"#2a3f5f\", \"arrowhead\": 0, \"arrowwidth\": 1}, \"autotypenumbers\": \"strict\", \"coloraxis\": {\"colorbar\": {\"outlinewidth\": 0, \"ticks\": \"\"}}, \"colorscale\": {\"diverging\": [[0, \"#8e0152\"], [0.1, \"#c51b7d\"], [0.2, \"#de77ae\"], [0.3, \"#f1b6da\"], [0.4, \"#fde0ef\"], [0.5, \"#f7f7f7\"], [0.6, \"#e6f5d0\"], [0.7, \"#b8e186\"], [0.8, \"#7fbc41\"], [0.9, \"#4d9221\"], [1, \"#276419\"]], \"sequential\": [[0.0, \"#0d0887\"], [0.1111111111111111, \"#46039f\"], [0.2222222222222222, \"#7201a8\"], [0.3333333333333333, \"#9c179e\"], [0.4444444444444444, \"#bd3786\"], [0.5555555555555556, \"#d8576b\"], [0.6666666666666666, \"#ed7953\"], [0.7777777777777778, \"#fb9f3a\"], [0.8888888888888888, \"#fdca26\"], [1.0, \"#f0f921\"]], \"sequentialminus\": [[0.0, \"#0d0887\"], [0.1111111111111111, \"#46039f\"], [0.2222222222222222, \"#7201a8\"], [0.3333333333333333, \"#9c179e\"], [0.4444444444444444, \"#bd3786\"], [0.5555555555555556, \"#d8576b\"], [0.6666666666666666, \"#ed7953\"], [0.7777777777777778, \"#fb9f3a\"], [0.8888888888888888, \"#fdca26\"], [1.0, \"#f0f921\"]]}, \"colorway\": [\"#636efa\", \"#EF553B\", \"#00cc96\", \"#ab63fa\", \"#FFA15A\", \"#19d3f3\", \"#FF6692\", \"#B6E880\", \"#FF97FF\", \"#FECB52\"], \"font\": {\"color\": \"#2a3f5f\"}, \"geo\": {\"bgcolor\": \"white\", \"lakecolor\": \"white\", \"landcolor\": \"#E5ECF6\", \"showlakes\": true, \"showland\": true, \"subunitcolor\": \"white\"}, \"hoverlabel\": {\"align\": \"left\"}, \"hovermode\": \"closest\", \"mapbox\": {\"style\": \"light\"}, \"paper_bgcolor\": \"white\", \"plot_bgcolor\": \"#E5ECF6\", \"polar\": {\"angularaxis\": {\"gridcolor\": \"white\", \"linecolor\": \"white\", \"ticks\": \"\"}, \"bgcolor\": \"#E5ECF6\", \"radialaxis\": {\"gridcolor\": \"white\", \"linecolor\": \"white\", \"ticks\": \"\"}}, \"scene\": {\"xaxis\": {\"backgroundcolor\": \"#E5ECF6\", \"gridcolor\": \"white\", \"gridwidth\": 2, \"linecolor\": \"white\", \"showbackground\": true, \"ticks\": \"\", \"zerolinecolor\": \"white\"}, \"yaxis\": {\"backgroundcolor\": \"#E5ECF6\", \"gridcolor\": \"white\", \"gridwidth\": 2, \"linecolor\": \"white\", \"showbackground\": true, \"ticks\": \"\", \"zerolinecolor\": \"white\"}, \"zaxis\": {\"backgroundcolor\": \"#E5ECF6\", \"gridcolor\": \"white\", \"gridwidth\": 2, \"linecolor\": \"white\", \"showbackground\": true, \"ticks\": \"\", \"zerolinecolor\": \"white\"}}, \"shapedefaults\": {\"line\": {\"color\": \"#2a3f5f\"}}, \"ternary\": {\"aaxis\": {\"gridcolor\": \"white\", \"linecolor\": \"white\", \"ticks\": \"\"}, \"baxis\": {\"gridcolor\": \"white\", \"linecolor\": \"white\", \"ticks\": \"\"}, \"bgcolor\": \"#E5ECF6\", \"caxis\": {\"gridcolor\": \"white\", \"linecolor\": \"white\", \"ticks\": \"\"}}, \"title\": {\"x\": 0.05}, \"xaxis\": {\"automargin\": true, \"gridcolor\": \"white\", \"linecolor\": \"white\", \"ticks\": \"\", \"title\": {\"standoff\": 15}, \"zerolinecolor\": \"white\", \"zerolinewidth\": 2}, \"yaxis\": {\"automargin\": true, \"gridcolor\": \"white\", \"linecolor\": \"white\", \"ticks\": \"\", \"title\": {\"standoff\": 15}, \"zerolinecolor\": \"white\", \"zerolinewidth\": 2}}}, \"title\": {\"text\": \"Events company E3\"}, \"xaxis\": {\"anchor\": \"y\", \"domain\": [0.0, 0.94], \"dtick\": 3, \"gridcolor\": \"black\", \"gridwidth\": 1, \"linecolor\": \"black\", \"linewidth\": 2, \"mirror\": true, \"showgrid\": true, \"showline\": true, \"tick0\": 0, \"tickmode\": \"linear\", \"title\": {\"text\": \"Time of day\"}}, \"yaxis\": {\"anchor\": \"x\", \"domain\": [0.0, 1.0], \"gridcolor\": \"black\", \"gridwidth\": 1, \"linecolor\": \"black\", \"linewidth\": 2, \"mirror\": true, \"showgrid\": false, \"showline\": true, \"title\": {\"text\": \"<b>Raw</b>\"}}, \"yaxis2\": {\"anchor\": \"x\", \"gridcolor\": \"black\", \"gridwidth\": 1, \"linecolor\": \"black\", \"linewidth\": 2, \"mirror\": true, \"overlaying\": \"y\", \"showgrid\": false, \"showline\": true, \"side\": \"right\", \"title\": {\"text\": \"<b>Rate</b>\"}}},                        {\"responsive\": true}                    ).then(function(){\n",
              "                            \n",
              "var gd = document.getElementById('d98c338d-9e8b-4bdb-abdd-80f08256a0f6');\n",
              "var x = new MutationObserver(function (mutations, observer) {{\n",
              "        var display = window.getComputedStyle(gd).display;\n",
              "        if (!display || display === 'none') {{\n",
              "            console.log([gd, 'removed!']);\n",
              "            Plotly.purge(gd);\n",
              "            observer.disconnect();\n",
              "        }}\n",
              "}});\n",
              "\n",
              "// Listen for the removal of the full notebook cells\n",
              "var notebookContainer = gd.closest('#notebook-container');\n",
              "if (notebookContainer) {{\n",
              "    x.observe(notebookContainer, {childList: true});\n",
              "}}\n",
              "\n",
              "// Listen for the clearing of the current output cell\n",
              "var outputEl = gd.closest('.output');\n",
              "if (outputEl) {{\n",
              "    x.observe(outputEl, {childList: true});\n",
              "}}\n",
              "\n",
              "                        })                };                            </script>        </div>\n",
              "</body>\n",
              "</html>"
            ]
          },
          "metadata": {
            "tags": []
          }
        }
      ]
    },
    {
      "cell_type": "markdown",
      "metadata": {
        "id": "lfqvYn_lWULy"
      },
      "source": [
        "##**E5**"
      ]
    },
    {
      "cell_type": "markdown",
      "metadata": {
        "id": "t8eZBCcFAezp"
      },
      "source": [
        "**Motoristas por hora**"
      ]
    },
    {
      "cell_type": "code",
      "metadata": {
        "colab": {
          "base_uri": "https://localhost:8080/",
          "height": 210
        },
        "id": "ASLm6Dd_OTHY",
        "outputId": "b4c5d71c-65b8-4a20-d306-02b3ca7a6d0c"
      },
      "source": [
        "dfInfE5.head(3)"
      ],
      "execution_count": 56,
      "outputs": [
        {
          "output_type": "execute_result",
          "data": {
            "text/html": [
              "<div>\n",
              "<style scoped>\n",
              "    .dataframe tbody tr th:only-of-type {\n",
              "        vertical-align: middle;\n",
              "    }\n",
              "\n",
              "    .dataframe tbody tr th {\n",
              "        vertical-align: top;\n",
              "    }\n",
              "\n",
              "    .dataframe thead th {\n",
              "        text-align: right;\n",
              "    }\n",
              "</style>\n",
              "<table border=\"1\" class=\"dataframe\">\n",
              "  <thead>\n",
              "    <tr style=\"text-align: right;\">\n",
              "      <th></th>\n",
              "      <th>Empresa</th>\n",
              "      <th>Escala</th>\n",
              "      <th>Jornada</th>\n",
              "      <th>Intervalos</th>\n",
              "      <th>N° de Colaboradores por turno</th>\n",
              "      <th>Tempo médio de deslocamento</th>\n",
              "      <th>Observação</th>\n",
              "      <th>Unnamed: 7</th>\n",
              "      <th>Inicio</th>\n",
              "      <th>Fim</th>\n",
              "    </tr>\n",
              "  </thead>\n",
              "  <tbody>\n",
              "    <tr>\n",
              "      <th>0</th>\n",
              "      <td>E5</td>\n",
              "      <td>4X2</td>\n",
              "      <td>00 às 11 horas</td>\n",
              "      <td>1 hora refeição (deve ser entre a 4ª e 6ª hora)</td>\n",
              "      <td>3.0</td>\n",
              "      <td>NaN</td>\n",
              "      <td>NaN</td>\n",
              "      <td>NaN</td>\n",
              "      <td>0</td>\n",
              "      <td>11</td>\n",
              "    </tr>\n",
              "    <tr>\n",
              "      <th>1</th>\n",
              "      <td>E5</td>\n",
              "      <td>4X2</td>\n",
              "      <td>1 às 12 horas</td>\n",
              "      <td>1 hora refeição (deve ser entre a 4ª e 6ª hora)</td>\n",
              "      <td>8.0</td>\n",
              "      <td>NaN</td>\n",
              "      <td>NaN</td>\n",
              "      <td>NaN</td>\n",
              "      <td>1</td>\n",
              "      <td>12</td>\n",
              "    </tr>\n",
              "    <tr>\n",
              "      <th>2</th>\n",
              "      <td>E5</td>\n",
              "      <td>4X2</td>\n",
              "      <td>2 às 13 horas</td>\n",
              "      <td>1 hora refeição (deve ser entre a 4ª e 6ª hora)</td>\n",
              "      <td>6.0</td>\n",
              "      <td>NaN</td>\n",
              "      <td>NaN</td>\n",
              "      <td>NaN</td>\n",
              "      <td>2</td>\n",
              "      <td>13</td>\n",
              "    </tr>\n",
              "  </tbody>\n",
              "</table>\n",
              "</div>"
            ],
            "text/plain": [
              "  Empresa Escala         Jornada  ... Unnamed: 7  Inicio Fim\n",
              "0      E5    4X2  00 às 11 horas  ...        NaN       0  11\n",
              "1      E5    4X2   1 às 12 horas  ...        NaN       1  12\n",
              "2      E5    4X2   2 às 13 horas  ...        NaN       2  13\n",
              "\n",
              "[3 rows x 10 columns]"
            ]
          },
          "metadata": {
            "tags": []
          },
          "execution_count": 56
        }
      ]
    },
    {
      "cell_type": "code",
      "metadata": {
        "id": "veA3Zi2pV9pr"
      },
      "source": [
        "dfE5_motoristas_hora = pd.DataFrame(np.zeros(24, dtype='int64'),columns=['motoristasE5'])\r\n",
        "for index, row in dfInfE5.iterrows():\r\n",
        "    if row['Inicio'] < row['Fim']:\r\n",
        "      dfE5_motoristas_hora['motoristasE5'][row['Inicio']:row['Fim']] += row['N° de Colaboradores por turno']\r\n",
        "    else:\r\n",
        "      dfE5_motoristas_hora['motoristasE5'][0:row['Fim']] += row['N° de Colaboradores por turno']\r\n",
        "      dfE5_motoristas_hora['motoristasE5'][row['Inicio']:24] += row['N° de Colaboradores por turno']"
      ],
      "execution_count": 57,
      "outputs": []
    },
    {
      "cell_type": "code",
      "metadata": {
        "colab": {
          "base_uri": "https://localhost:8080/",
          "height": 824
        },
        "id": "dBZPgik6V9ps",
        "outputId": "550db916-9d00-4ea7-ac59-914da5bb5129"
      },
      "source": [
        "dfE5_motoristas_hora.index.name = 'HORA'\r\n",
        "dfE5_motoristas_hora"
      ],
      "execution_count": 58,
      "outputs": [
        {
          "output_type": "execute_result",
          "data": {
            "text/html": [
              "<div>\n",
              "<style scoped>\n",
              "    .dataframe tbody tr th:only-of-type {\n",
              "        vertical-align: middle;\n",
              "    }\n",
              "\n",
              "    .dataframe tbody tr th {\n",
              "        vertical-align: top;\n",
              "    }\n",
              "\n",
              "    .dataframe thead th {\n",
              "        text-align: right;\n",
              "    }\n",
              "</style>\n",
              "<table border=\"1\" class=\"dataframe\">\n",
              "  <thead>\n",
              "    <tr style=\"text-align: right;\">\n",
              "      <th></th>\n",
              "      <th>motoristasE5</th>\n",
              "    </tr>\n",
              "    <tr>\n",
              "      <th>HORA</th>\n",
              "      <th></th>\n",
              "    </tr>\n",
              "  </thead>\n",
              "  <tbody>\n",
              "    <tr>\n",
              "      <th>0</th>\n",
              "      <td>48.0</td>\n",
              "    </tr>\n",
              "    <tr>\n",
              "      <th>1</th>\n",
              "      <td>50.0</td>\n",
              "    </tr>\n",
              "    <tr>\n",
              "      <th>2</th>\n",
              "      <td>56.0</td>\n",
              "    </tr>\n",
              "    <tr>\n",
              "      <th>3</th>\n",
              "      <td>51.0</td>\n",
              "    </tr>\n",
              "    <tr>\n",
              "      <th>4</th>\n",
              "      <td>50.0</td>\n",
              "    </tr>\n",
              "    <tr>\n",
              "      <th>5</th>\n",
              "      <td>47.0</td>\n",
              "    </tr>\n",
              "    <tr>\n",
              "      <th>6</th>\n",
              "      <td>52.0</td>\n",
              "    </tr>\n",
              "    <tr>\n",
              "      <th>7</th>\n",
              "      <td>50.0</td>\n",
              "    </tr>\n",
              "    <tr>\n",
              "      <th>8</th>\n",
              "      <td>56.0</td>\n",
              "    </tr>\n",
              "    <tr>\n",
              "      <th>9</th>\n",
              "      <td>53.0</td>\n",
              "    </tr>\n",
              "    <tr>\n",
              "      <th>10</th>\n",
              "      <td>50.0</td>\n",
              "    </tr>\n",
              "    <tr>\n",
              "      <th>11</th>\n",
              "      <td>53.0</td>\n",
              "    </tr>\n",
              "    <tr>\n",
              "      <th>12</th>\n",
              "      <td>48.0</td>\n",
              "    </tr>\n",
              "    <tr>\n",
              "      <th>13</th>\n",
              "      <td>50.0</td>\n",
              "    </tr>\n",
              "    <tr>\n",
              "      <th>14</th>\n",
              "      <td>56.0</td>\n",
              "    </tr>\n",
              "    <tr>\n",
              "      <th>15</th>\n",
              "      <td>51.0</td>\n",
              "    </tr>\n",
              "    <tr>\n",
              "      <th>16</th>\n",
              "      <td>50.0</td>\n",
              "    </tr>\n",
              "    <tr>\n",
              "      <th>17</th>\n",
              "      <td>47.0</td>\n",
              "    </tr>\n",
              "    <tr>\n",
              "      <th>18</th>\n",
              "      <td>52.0</td>\n",
              "    </tr>\n",
              "    <tr>\n",
              "      <th>19</th>\n",
              "      <td>50.0</td>\n",
              "    </tr>\n",
              "    <tr>\n",
              "      <th>20</th>\n",
              "      <td>56.0</td>\n",
              "    </tr>\n",
              "    <tr>\n",
              "      <th>21</th>\n",
              "      <td>53.0</td>\n",
              "    </tr>\n",
              "    <tr>\n",
              "      <th>22</th>\n",
              "      <td>50.0</td>\n",
              "    </tr>\n",
              "    <tr>\n",
              "      <th>23</th>\n",
              "      <td>53.0</td>\n",
              "    </tr>\n",
              "  </tbody>\n",
              "</table>\n",
              "</div>"
            ],
            "text/plain": [
              "      motoristasE5\n",
              "HORA              \n",
              "0             48.0\n",
              "1             50.0\n",
              "2             56.0\n",
              "3             51.0\n",
              "4             50.0\n",
              "5             47.0\n",
              "6             52.0\n",
              "7             50.0\n",
              "8             56.0\n",
              "9             53.0\n",
              "10            50.0\n",
              "11            53.0\n",
              "12            48.0\n",
              "13            50.0\n",
              "14            56.0\n",
              "15            51.0\n",
              "16            50.0\n",
              "17            47.0\n",
              "18            52.0\n",
              "19            50.0\n",
              "20            56.0\n",
              "21            53.0\n",
              "22            50.0\n",
              "23            53.0"
            ]
          },
          "metadata": {
            "tags": []
          },
          "execution_count": 58
        }
      ]
    },
    {
      "cell_type": "markdown",
      "metadata": {
        "id": "D0NYIiaoAzl_"
      },
      "source": [
        "**Eventos por hora**"
      ]
    },
    {
      "cell_type": "code",
      "metadata": {
        "colab": {
          "base_uri": "https://localhost:8080/",
          "height": 142
        },
        "id": "IQw0VPoSVeNt",
        "outputId": "b91239e6-0bd4-4692-d6ee-66ac79c59c0a"
      },
      "source": [
        "dfE5H.head(3)"
      ],
      "execution_count": 59,
      "outputs": [
        {
          "output_type": "execute_result",
          "data": {
            "text/html": [
              "<div>\n",
              "<style scoped>\n",
              "    .dataframe tbody tr th:only-of-type {\n",
              "        vertical-align: middle;\n",
              "    }\n",
              "\n",
              "    .dataframe tbody tr th {\n",
              "        vertical-align: top;\n",
              "    }\n",
              "\n",
              "    .dataframe thead th {\n",
              "        text-align: right;\n",
              "    }\n",
              "</style>\n",
              "<table border=\"1\" class=\"dataframe\">\n",
              "  <thead>\n",
              "    <tr style=\"text-align: right;\">\n",
              "      <th></th>\n",
              "      <th>Nome</th>\n",
              "      <th>DATA</th>\n",
              "      <th>HORA</th>\n",
              "      <th>Tipo de Desatenção</th>\n",
              "      <th>Velocidade</th>\n",
              "    </tr>\n",
              "  </thead>\n",
              "  <tbody>\n",
              "    <tr>\n",
              "      <th>0</th>\n",
              "      <td>NaN</td>\n",
              "      <td>2019-01-04 11:46:41</td>\n",
              "      <td>11</td>\n",
              "      <td>Olho Fechado</td>\n",
              "      <td>57</td>\n",
              "    </tr>\n",
              "    <tr>\n",
              "      <th>1</th>\n",
              "      <td>NaN</td>\n",
              "      <td>2019-01-11 19:11:04</td>\n",
              "      <td>19</td>\n",
              "      <td>Olho Fechado</td>\n",
              "      <td>48</td>\n",
              "    </tr>\n",
              "    <tr>\n",
              "      <th>2</th>\n",
              "      <td>NaN</td>\n",
              "      <td>2019-02-20 02:49:08</td>\n",
              "      <td>2</td>\n",
              "      <td>Bocejo</td>\n",
              "      <td>58</td>\n",
              "    </tr>\n",
              "  </tbody>\n",
              "</table>\n",
              "</div>"
            ],
            "text/plain": [
              "  Nome                DATA  HORA Tipo de Desatenção  Velocidade\n",
              "0  NaN 2019-01-04 11:46:41    11       Olho Fechado          57\n",
              "1  NaN 2019-01-11 19:11:04    19       Olho Fechado          48\n",
              "2  NaN 2019-02-20 02:49:08     2             Bocejo          58"
            ]
          },
          "metadata": {
            "tags": []
          },
          "execution_count": 59
        }
      ]
    },
    {
      "cell_type": "code",
      "metadata": {
        "colab": {
          "base_uri": "https://localhost:8080/"
        },
        "id": "AG_z5ikOUq2r",
        "outputId": "b2fb28b9-0aaf-45a4-9ec7-c5ec716433bd"
      },
      "source": [
        "dfE5H.shape"
      ],
      "execution_count": 60,
      "outputs": [
        {
          "output_type": "execute_result",
          "data": {
            "text/plain": [
              "(69100, 5)"
            ]
          },
          "metadata": {
            "tags": []
          },
          "execution_count": 60
        }
      ]
    },
    {
      "cell_type": "code",
      "metadata": {
        "colab": {
          "base_uri": "https://localhost:8080/"
        },
        "id": "82Nj47cfA4Ik",
        "outputId": "5b6eb647-474e-4f91-b9dd-89e3c4313051"
      },
      "source": [
        "dfE5H['Tipo de Desatenção'].unique()"
      ],
      "execution_count": 61,
      "outputs": [
        {
          "output_type": "execute_result",
          "data": {
            "text/plain": [
              "array(['Olho Fechado', 'Bocejo'], dtype=object)"
            ]
          },
          "metadata": {
            "tags": []
          },
          "execution_count": 61
        }
      ]
    },
    {
      "cell_type": "code",
      "metadata": {
        "colab": {
          "base_uri": "https://localhost:8080/"
        },
        "id": "5Bv_F7-DF7uB",
        "outputId": "fb44ea5f-1862-480d-86ed-221f7b07a0aa"
      },
      "source": [
        "dfE5H['Tipo de Desatenção'].value_counts()"
      ],
      "execution_count": 62,
      "outputs": [
        {
          "output_type": "execute_result",
          "data": {
            "text/plain": [
              "Bocejo          40900\n",
              "Olho Fechado    28200\n",
              "Name: Tipo de Desatenção, dtype: int64"
            ]
          },
          "metadata": {
            "tags": []
          },
          "execution_count": 62
        }
      ]
    },
    {
      "cell_type": "code",
      "metadata": {
        "colab": {
          "base_uri": "https://localhost:8080/"
        },
        "id": "x4NBhLQDDzrv",
        "outputId": "a90fb38f-a15e-42f6-e550-13542dedc3b2"
      },
      "source": [
        "dfE5_of = dfE5H[dfE5H['Tipo de Desatenção'] == 'Olho Fechado']\r\n",
        "dfE5_of_final = dfE5_of.HORA.value_counts().rename('Olho fechado').sort_index()\r\n",
        "dfE5_of_final"
      ],
      "execution_count": 63,
      "outputs": [
        {
          "output_type": "execute_result",
          "data": {
            "text/plain": [
              "0      278\n",
              "1      329\n",
              "2      384\n",
              "3      473\n",
              "4      586\n",
              "5      548\n",
              "6     1174\n",
              "7     1902\n",
              "8     2285\n",
              "9     2363\n",
              "10    2164\n",
              "11    2172\n",
              "12    2231\n",
              "13    2341\n",
              "14    2386\n",
              "15    2092\n",
              "16    1780\n",
              "17    1080\n",
              "18     419\n",
              "19     266\n",
              "20     225\n",
              "21     212\n",
              "22     274\n",
              "23     236\n",
              "Name: Olho fechado, dtype: int64"
            ]
          },
          "metadata": {
            "tags": []
          },
          "execution_count": 63
        }
      ]
    },
    {
      "cell_type": "code",
      "metadata": {
        "colab": {
          "base_uri": "https://localhost:8080/"
        },
        "id": "RkQl3MCuGCOH",
        "outputId": "042c16ad-546f-425e-adcf-91687a98a34a"
      },
      "source": [
        "dfE5_of_final.sum()"
      ],
      "execution_count": 64,
      "outputs": [
        {
          "output_type": "execute_result",
          "data": {
            "text/plain": [
              "28200"
            ]
          },
          "metadata": {
            "tags": []
          },
          "execution_count": 64
        }
      ]
    },
    {
      "cell_type": "code",
      "metadata": {
        "colab": {
          "base_uri": "https://localhost:8080/"
        },
        "id": "_dK_GOqGFpc7",
        "outputId": "9be527bd-d2cc-47cd-e6d4-090536e9bb57"
      },
      "source": [
        "dfE5_b = dfE5H[dfE5H['Tipo de Desatenção'] == 'Bocejo']\r\n",
        "dfE5_b_final = dfE5_b.HORA.value_counts().rename('Bocejo').sort_index()\r\n",
        "dfE5_b_final"
      ],
      "execution_count": 65,
      "outputs": [
        {
          "output_type": "execute_result",
          "data": {
            "text/plain": [
              "0     1915\n",
              "1     2133\n",
              "2     2342\n",
              "3     2372\n",
              "4     2362\n",
              "5     2419\n",
              "6     2564\n",
              "7     2122\n",
              "8     1715\n",
              "9     1315\n",
              "10    1199\n",
              "11    1248\n",
              "12    1691\n",
              "13    1757\n",
              "14    1649\n",
              "15    1408\n",
              "16    1190\n",
              "17    1257\n",
              "18    1384\n",
              "19    1187\n",
              "20    1191\n",
              "21    1322\n",
              "22    1583\n",
              "23    1575\n",
              "Name: Bocejo, dtype: int64"
            ]
          },
          "metadata": {
            "tags": []
          },
          "execution_count": 65
        }
      ]
    },
    {
      "cell_type": "code",
      "metadata": {
        "colab": {
          "base_uri": "https://localhost:8080/"
        },
        "id": "8GPbCvr7GFtY",
        "outputId": "22318fd5-f16f-4d18-d199-fa0b14d884f6"
      },
      "source": [
        "dfE5_b_final.sum()"
      ],
      "execution_count": 66,
      "outputs": [
        {
          "output_type": "execute_result",
          "data": {
            "text/plain": [
              "40900"
            ]
          },
          "metadata": {
            "tags": []
          },
          "execution_count": 66
        }
      ]
    },
    {
      "cell_type": "markdown",
      "metadata": {
        "id": "NVzXXslwKHxk"
      },
      "source": [
        "**Acidentes por hora**"
      ]
    },
    {
      "cell_type": "code",
      "metadata": {
        "colab": {
          "base_uri": "https://localhost:8080/",
          "height": 482
        },
        "id": "SUvpqeXlKIcb",
        "outputId": "4ebc31c7-800f-4b86-bc8a-e781cda09b4b"
      },
      "source": [
        "dfOCO_TM_E5.head(3)"
      ],
      "execution_count": 67,
      "outputs": [
        {
          "output_type": "execute_result",
          "data": {
            "text/html": [
              "<div>\n",
              "<style scoped>\n",
              "    .dataframe tbody tr th:only-of-type {\n",
              "        vertical-align: middle;\n",
              "    }\n",
              "\n",
              "    .dataframe tbody tr th {\n",
              "        vertical-align: top;\n",
              "    }\n",
              "\n",
              "    .dataframe thead th {\n",
              "        text-align: right;\n",
              "    }\n",
              "</style>\n",
              "<table border=\"1\" class=\"dataframe\">\n",
              "  <thead>\n",
              "    <tr style=\"text-align: right;\">\n",
              "      <th></th>\n",
              "      <th>CLASSIFICAÇÃO</th>\n",
              "      <th>EMPRESA</th>\n",
              "      <th>GERÊNCIA</th>\n",
              "      <th>COORDENAÇÃO</th>\n",
              "      <th>SUB ÁREA</th>\n",
              "      <th>NOME</th>\n",
              "      <th>CARGO</th>\n",
              "      <th>TEMPO DE EMPRESA</th>\n",
              "      <th>IDADE</th>\n",
              "      <th>\\nDATA DA OCORRÊNCIA</th>\n",
              "      <th>DIA DA SEMANA</th>\n",
              "      <th>\\nLOCAL DA OCORRÊNCIA</th>\n",
              "      <th>QUALIDADE PISTA</th>\n",
              "      <th>CARACTERISTICA PISTA</th>\n",
              "      <th>SINALIZAÇÃO</th>\n",
              "      <th>CLIMA</th>\n",
              "      <th>PREFIXO</th>\n",
              "      <th>MODELO</th>\n",
              "      <th>CARREGADO</th>\n",
              "      <th>TIPO</th>\n",
              "      <th>DETALHAMENTO</th>\n",
              "      <th>POTENCIAL</th>\n",
              "      <th>SAP</th>\n",
              "      <th>DIA ESCALA</th>\n",
              "      <th>ESCALA</th>\n",
              "      <th>JORNADA</th>\n",
              "      <th>TEMPO DECORRIDO</th>\n",
              "      <th>DORMIU BEM?</th>\n",
              "      <th>PRÓXIMO PERIODO DE FÉRIAS OU FERIADO</th>\n",
              "      <th>ALIMENTOU</th>\n",
              "      <th>PROBLEMAS SAÚDE</th>\n",
              "      <th>USO MEDICAMENTO</th>\n",
              "      <th>USO ALCOOL/DROGA</th>\n",
              "      <th>PRESSÃO</th>\n",
              "      <th>PRESSA PARA CONCLUIR O TRABALHO</th>\n",
              "      <th>DESCRIÇÃO</th>\n",
              "      <th>HorarioAcidente</th>\n",
              "    </tr>\n",
              "    <tr>\n",
              "      <th>HORA</th>\n",
              "      <th></th>\n",
              "      <th></th>\n",
              "      <th></th>\n",
              "      <th></th>\n",
              "      <th></th>\n",
              "      <th></th>\n",
              "      <th></th>\n",
              "      <th></th>\n",
              "      <th></th>\n",
              "      <th></th>\n",
              "      <th></th>\n",
              "      <th></th>\n",
              "      <th></th>\n",
              "      <th></th>\n",
              "      <th></th>\n",
              "      <th></th>\n",
              "      <th></th>\n",
              "      <th></th>\n",
              "      <th></th>\n",
              "      <th></th>\n",
              "      <th></th>\n",
              "      <th></th>\n",
              "      <th></th>\n",
              "      <th></th>\n",
              "      <th></th>\n",
              "      <th></th>\n",
              "      <th></th>\n",
              "      <th></th>\n",
              "      <th></th>\n",
              "      <th></th>\n",
              "      <th></th>\n",
              "      <th></th>\n",
              "      <th></th>\n",
              "      <th></th>\n",
              "      <th></th>\n",
              "      <th></th>\n",
              "      <th></th>\n",
              "    </tr>\n",
              "  </thead>\n",
              "  <tbody>\n",
              "    <tr>\n",
              "      <th>18:50:00</th>\n",
              "      <td>IAP</td>\n",
              "      <td>E5</td>\n",
              "      <td>LOGÍSTICA</td>\n",
              "      <td>TRANSPORTE FLORESTAL</td>\n",
              "      <td>LOGÍSTICA</td>\n",
              "      <td>C492</td>\n",
              "      <td>MOTORISTA</td>\n",
              "      <td>24</td>\n",
              "      <td>48.0</td>\n",
              "      <td>2017-03-28</td>\n",
              "      <td>TERÇA-FEIRA</td>\n",
              "      <td>PÁTIO DE MADEIRA AEROPORTO</td>\n",
              "      <td>ESTRADA DE CHÃO</td>\n",
              "      <td>RETA</td>\n",
              "      <td>NaN</td>\n",
              "      <td>NaN</td>\n",
              "      <td>BBM-056</td>\n",
              "      <td>NaN</td>\n",
              "      <td>NÃO</td>\n",
              "      <td>TRANSPORTE DE MADEIRA</td>\n",
              "      <td>MOTORISTA DO CAMINHÃO DE PREFIXO BBM-056 AO RE...</td>\n",
              "      <td>LPG</td>\n",
              "      <td>6510</td>\n",
              "      <td>2.0</td>\n",
              "      <td>NaN</td>\n",
              "      <td>NaN</td>\n",
              "      <td>00:50:00</td>\n",
              "      <td>NaN</td>\n",
              "      <td>NÃO</td>\n",
              "      <td>NaN</td>\n",
              "      <td>NÃO</td>\n",
              "      <td>NÃO</td>\n",
              "      <td>NaN</td>\n",
              "      <td>NaN</td>\n",
              "      <td>NaN</td>\n",
              "      <td>NOITE ESTAVA NORMAL SEM CHUVA OU NEBLINA. * CO...</td>\n",
              "      <td>18</td>\n",
              "    </tr>\n",
              "    <tr>\n",
              "      <th>23:00:00</th>\n",
              "      <td>IAP</td>\n",
              "      <td>E5</td>\n",
              "      <td>LOGÍSTICA</td>\n",
              "      <td>TRANSPORTE FLORESTAL</td>\n",
              "      <td>LOGÍSTICA</td>\n",
              "      <td>C488</td>\n",
              "      <td>MOTORISTA</td>\n",
              "      <td>12</td>\n",
              "      <td>55.0</td>\n",
              "      <td>2017-05-31</td>\n",
              "      <td>QUARTA-FEIRA</td>\n",
              "      <td>PRINCESA DO VALE</td>\n",
              "      <td>SEM CASCALHO</td>\n",
              "      <td>DECLIVE</td>\n",
              "      <td>NaN</td>\n",
              "      <td>CHUVA</td>\n",
              "      <td>BBM-059</td>\n",
              "      <td>NaN</td>\n",
              "      <td>SIM</td>\n",
              "      <td>TRANSPORTE DE MADEIRA</td>\n",
              "      <td>O MOTORISTA DO CAMINHÃO DE PREFIXO BBM-059, AP...</td>\n",
              "      <td>LPG</td>\n",
              "      <td>6822</td>\n",
              "      <td>NaN</td>\n",
              "      <td>NaN</td>\n",
              "      <td>NaN</td>\n",
              "      <td>NaN</td>\n",
              "      <td>NaN</td>\n",
              "      <td>NaN</td>\n",
              "      <td>NaN</td>\n",
              "      <td>NaN</td>\n",
              "      <td>NaN</td>\n",
              "      <td>NaN</td>\n",
              "      <td>NaN</td>\n",
              "      <td>NaN</td>\n",
              "      <td>NaN</td>\n",
              "      <td>23</td>\n",
              "    </tr>\n",
              "    <tr>\n",
              "      <th>14:15:00</th>\n",
              "      <td>IAP</td>\n",
              "      <td>E5</td>\n",
              "      <td>LOGÍSTICA</td>\n",
              "      <td>TRANSPORTE FLORESTAL</td>\n",
              "      <td>LOGÍSTICA</td>\n",
              "      <td>C390</td>\n",
              "      <td>MOTORISTA</td>\n",
              "      <td>14</td>\n",
              "      <td>58.0</td>\n",
              "      <td>2017-11-10</td>\n",
              "      <td>SEXTA-FEIRA</td>\n",
              "      <td>PR-160 - PRÓXIMO À ENTRADA DA LAGOA</td>\n",
              "      <td>ASFALTADA</td>\n",
              "      <td>CURVA</td>\n",
              "      <td>NaN</td>\n",
              "      <td>NaN</td>\n",
              "      <td>BBM-814</td>\n",
              "      <td>NaN</td>\n",
              "      <td>SIM</td>\n",
              "      <td>TRANSPORTE DE MADEIRA</td>\n",
              "      <td>COLABORADOR TRAFEGAVA COM CAMINHÃO DE PREFIXO ...</td>\n",
              "      <td>LPG</td>\n",
              "      <td>7510</td>\n",
              "      <td>NaN</td>\n",
              "      <td>NaN</td>\n",
              "      <td>04:00 - 15:00</td>\n",
              "      <td>NaN</td>\n",
              "      <td>NaN</td>\n",
              "      <td>NaN</td>\n",
              "      <td>NaN</td>\n",
              "      <td>NaN</td>\n",
              "      <td>NaN</td>\n",
              "      <td>NaN</td>\n",
              "      <td>NÃO</td>\n",
              "      <td>NÃO</td>\n",
              "      <td>APÓS INVESTIGAÇÃO DA OCORRÊNCIA CONSTATAMOS QU...</td>\n",
              "      <td>14</td>\n",
              "    </tr>\n",
              "  </tbody>\n",
              "</table>\n",
              "</div>"
            ],
            "text/plain": [
              "         CLASSIFICAÇÃO  ... HorarioAcidente\n",
              "HORA                    ...                \n",
              "18:50:00           IAP  ...              18\n",
              "23:00:00           IAP  ...              23\n",
              "14:15:00           IAP  ...              14\n",
              "\n",
              "[3 rows x 37 columns]"
            ]
          },
          "metadata": {
            "tags": []
          },
          "execution_count": 67
        }
      ]
    },
    {
      "cell_type": "code",
      "metadata": {
        "colab": {
          "base_uri": "https://localhost:8080/"
        },
        "id": "Rj4ElWF3M-n3",
        "outputId": "03b18db9-685b-4604-a019-d6181b9080a7"
      },
      "source": [
        "dfOCO_TM_E5.CARGO.value_counts()"
      ],
      "execution_count": 68,
      "outputs": [
        {
          "output_type": "execute_result",
          "data": {
            "text/plain": [
              "MOTORISTA                         16\n",
              "MOTORISTA TRANSPORTE FLORESTAL     2\n",
              "MOTORISTA                          1\n",
              "Name: CARGO, dtype: int64"
            ]
          },
          "metadata": {
            "tags": []
          },
          "execution_count": 68
        }
      ]
    },
    {
      "cell_type": "code",
      "metadata": {
        "colab": {
          "base_uri": "https://localhost:8080/"
        },
        "id": "-VRezoyLM-oa",
        "outputId": "ce51985f-d251-4d44-8a8a-dcb345d6e5cf"
      },
      "source": [
        "dfE5_acid_hora = dfOCO_TM_E5.HorarioAcidente.value_counts().sort_index().rename('Acidentes por hora')\r\n",
        "dfE5_acid_hora"
      ],
      "execution_count": 69,
      "outputs": [
        {
          "output_type": "execute_result",
          "data": {
            "text/plain": [
              "2     1\n",
              "3     2\n",
              "4     2\n",
              "5     2\n",
              "6     2\n",
              "10    1\n",
              "14    1\n",
              "18    1\n",
              "19    2\n",
              "20    2\n",
              "22    2\n",
              "23    1\n",
              "Name: Acidentes por hora, dtype: int64"
            ]
          },
          "metadata": {
            "tags": []
          },
          "execution_count": 69
        }
      ]
    },
    {
      "cell_type": "markdown",
      "metadata": {
        "id": "j7yXj0ljT09j"
      },
      "source": [
        "**DF final E5**"
      ]
    },
    {
      "cell_type": "code",
      "metadata": {
        "colab": {
          "base_uri": "https://localhost:8080/",
          "height": 824
        },
        "id": "JKNKFhENT09-",
        "outputId": "d0c78b2c-f163-4ec0-98f6-f8852c956ddc"
      },
      "source": [
        "dfE5_final = pd.DataFrame(dfE5_motoristas_hora['motoristasE5'],dtype='int64')\r\n",
        "dfE5_final['Olho_fechado'] = pd.DataFrame(dfE5_of_final)\r\n",
        "dfE5_final['Bocejo'] = pd.DataFrame(dfE5_b_final)\r\n",
        "dfE5_final['Acidentes'] = pd.DataFrame(dfE5_acid_hora)\r\n",
        "dfE5_final.fillna(0, inplace=True)\r\n",
        "dfE5_final['Acidentes'] = dfE5_final.Acidentes.astype('int64')\r\n",
        "dfE5_final"
      ],
      "execution_count": 70,
      "outputs": [
        {
          "output_type": "execute_result",
          "data": {
            "text/html": [
              "<div>\n",
              "<style scoped>\n",
              "    .dataframe tbody tr th:only-of-type {\n",
              "        vertical-align: middle;\n",
              "    }\n",
              "\n",
              "    .dataframe tbody tr th {\n",
              "        vertical-align: top;\n",
              "    }\n",
              "\n",
              "    .dataframe thead th {\n",
              "        text-align: right;\n",
              "    }\n",
              "</style>\n",
              "<table border=\"1\" class=\"dataframe\">\n",
              "  <thead>\n",
              "    <tr style=\"text-align: right;\">\n",
              "      <th></th>\n",
              "      <th>motoristasE5</th>\n",
              "      <th>Olho_fechado</th>\n",
              "      <th>Bocejo</th>\n",
              "      <th>Acidentes</th>\n",
              "    </tr>\n",
              "    <tr>\n",
              "      <th>HORA</th>\n",
              "      <th></th>\n",
              "      <th></th>\n",
              "      <th></th>\n",
              "      <th></th>\n",
              "    </tr>\n",
              "  </thead>\n",
              "  <tbody>\n",
              "    <tr>\n",
              "      <th>0</th>\n",
              "      <td>48</td>\n",
              "      <td>278</td>\n",
              "      <td>1915</td>\n",
              "      <td>0</td>\n",
              "    </tr>\n",
              "    <tr>\n",
              "      <th>1</th>\n",
              "      <td>50</td>\n",
              "      <td>329</td>\n",
              "      <td>2133</td>\n",
              "      <td>0</td>\n",
              "    </tr>\n",
              "    <tr>\n",
              "      <th>2</th>\n",
              "      <td>56</td>\n",
              "      <td>384</td>\n",
              "      <td>2342</td>\n",
              "      <td>1</td>\n",
              "    </tr>\n",
              "    <tr>\n",
              "      <th>3</th>\n",
              "      <td>51</td>\n",
              "      <td>473</td>\n",
              "      <td>2372</td>\n",
              "      <td>2</td>\n",
              "    </tr>\n",
              "    <tr>\n",
              "      <th>4</th>\n",
              "      <td>50</td>\n",
              "      <td>586</td>\n",
              "      <td>2362</td>\n",
              "      <td>2</td>\n",
              "    </tr>\n",
              "    <tr>\n",
              "      <th>5</th>\n",
              "      <td>47</td>\n",
              "      <td>548</td>\n",
              "      <td>2419</td>\n",
              "      <td>2</td>\n",
              "    </tr>\n",
              "    <tr>\n",
              "      <th>6</th>\n",
              "      <td>52</td>\n",
              "      <td>1174</td>\n",
              "      <td>2564</td>\n",
              "      <td>2</td>\n",
              "    </tr>\n",
              "    <tr>\n",
              "      <th>7</th>\n",
              "      <td>50</td>\n",
              "      <td>1902</td>\n",
              "      <td>2122</td>\n",
              "      <td>0</td>\n",
              "    </tr>\n",
              "    <tr>\n",
              "      <th>8</th>\n",
              "      <td>56</td>\n",
              "      <td>2285</td>\n",
              "      <td>1715</td>\n",
              "      <td>0</td>\n",
              "    </tr>\n",
              "    <tr>\n",
              "      <th>9</th>\n",
              "      <td>53</td>\n",
              "      <td>2363</td>\n",
              "      <td>1315</td>\n",
              "      <td>0</td>\n",
              "    </tr>\n",
              "    <tr>\n",
              "      <th>10</th>\n",
              "      <td>50</td>\n",
              "      <td>2164</td>\n",
              "      <td>1199</td>\n",
              "      <td>1</td>\n",
              "    </tr>\n",
              "    <tr>\n",
              "      <th>11</th>\n",
              "      <td>53</td>\n",
              "      <td>2172</td>\n",
              "      <td>1248</td>\n",
              "      <td>0</td>\n",
              "    </tr>\n",
              "    <tr>\n",
              "      <th>12</th>\n",
              "      <td>48</td>\n",
              "      <td>2231</td>\n",
              "      <td>1691</td>\n",
              "      <td>0</td>\n",
              "    </tr>\n",
              "    <tr>\n",
              "      <th>13</th>\n",
              "      <td>50</td>\n",
              "      <td>2341</td>\n",
              "      <td>1757</td>\n",
              "      <td>0</td>\n",
              "    </tr>\n",
              "    <tr>\n",
              "      <th>14</th>\n",
              "      <td>56</td>\n",
              "      <td>2386</td>\n",
              "      <td>1649</td>\n",
              "      <td>1</td>\n",
              "    </tr>\n",
              "    <tr>\n",
              "      <th>15</th>\n",
              "      <td>51</td>\n",
              "      <td>2092</td>\n",
              "      <td>1408</td>\n",
              "      <td>0</td>\n",
              "    </tr>\n",
              "    <tr>\n",
              "      <th>16</th>\n",
              "      <td>50</td>\n",
              "      <td>1780</td>\n",
              "      <td>1190</td>\n",
              "      <td>0</td>\n",
              "    </tr>\n",
              "    <tr>\n",
              "      <th>17</th>\n",
              "      <td>47</td>\n",
              "      <td>1080</td>\n",
              "      <td>1257</td>\n",
              "      <td>0</td>\n",
              "    </tr>\n",
              "    <tr>\n",
              "      <th>18</th>\n",
              "      <td>52</td>\n",
              "      <td>419</td>\n",
              "      <td>1384</td>\n",
              "      <td>1</td>\n",
              "    </tr>\n",
              "    <tr>\n",
              "      <th>19</th>\n",
              "      <td>50</td>\n",
              "      <td>266</td>\n",
              "      <td>1187</td>\n",
              "      <td>2</td>\n",
              "    </tr>\n",
              "    <tr>\n",
              "      <th>20</th>\n",
              "      <td>56</td>\n",
              "      <td>225</td>\n",
              "      <td>1191</td>\n",
              "      <td>2</td>\n",
              "    </tr>\n",
              "    <tr>\n",
              "      <th>21</th>\n",
              "      <td>53</td>\n",
              "      <td>212</td>\n",
              "      <td>1322</td>\n",
              "      <td>0</td>\n",
              "    </tr>\n",
              "    <tr>\n",
              "      <th>22</th>\n",
              "      <td>50</td>\n",
              "      <td>274</td>\n",
              "      <td>1583</td>\n",
              "      <td>2</td>\n",
              "    </tr>\n",
              "    <tr>\n",
              "      <th>23</th>\n",
              "      <td>53</td>\n",
              "      <td>236</td>\n",
              "      <td>1575</td>\n",
              "      <td>1</td>\n",
              "    </tr>\n",
              "  </tbody>\n",
              "</table>\n",
              "</div>"
            ],
            "text/plain": [
              "      motoristasE5  Olho_fechado  Bocejo  Acidentes\n",
              "HORA                                               \n",
              "0               48           278    1915          0\n",
              "1               50           329    2133          0\n",
              "2               56           384    2342          1\n",
              "3               51           473    2372          2\n",
              "4               50           586    2362          2\n",
              "5               47           548    2419          2\n",
              "6               52          1174    2564          2\n",
              "7               50          1902    2122          0\n",
              "8               56          2285    1715          0\n",
              "9               53          2363    1315          0\n",
              "10              50          2164    1199          1\n",
              "11              53          2172    1248          0\n",
              "12              48          2231    1691          0\n",
              "13              50          2341    1757          0\n",
              "14              56          2386    1649          1\n",
              "15              51          2092    1408          0\n",
              "16              50          1780    1190          0\n",
              "17              47          1080    1257          0\n",
              "18              52           419    1384          1\n",
              "19              50           266    1187          2\n",
              "20              56           225    1191          2\n",
              "21              53           212    1322          0\n",
              "22              50           274    1583          2\n",
              "23              53           236    1575          1"
            ]
          },
          "metadata": {
            "tags": []
          },
          "execution_count": 70
        }
      ]
    },
    {
      "cell_type": "markdown",
      "metadata": {
        "id": "-CWTijrd8KY-"
      },
      "source": [
        "### **Visualização**"
      ]
    },
    {
      "cell_type": "code",
      "metadata": {
        "colab": {
          "base_uri": "https://localhost:8080/",
          "height": 142
        },
        "id": "zp_19z2bBKo8",
        "outputId": "7265f173-1a70-4c92-b70c-6dfea871d91d"
      },
      "source": [
        "dfE5_of.head(3)"
      ],
      "execution_count": 71,
      "outputs": [
        {
          "output_type": "execute_result",
          "data": {
            "text/html": [
              "<div>\n",
              "<style scoped>\n",
              "    .dataframe tbody tr th:only-of-type {\n",
              "        vertical-align: middle;\n",
              "    }\n",
              "\n",
              "    .dataframe tbody tr th {\n",
              "        vertical-align: top;\n",
              "    }\n",
              "\n",
              "    .dataframe thead th {\n",
              "        text-align: right;\n",
              "    }\n",
              "</style>\n",
              "<table border=\"1\" class=\"dataframe\">\n",
              "  <thead>\n",
              "    <tr style=\"text-align: right;\">\n",
              "      <th></th>\n",
              "      <th>Nome</th>\n",
              "      <th>DATA</th>\n",
              "      <th>HORA</th>\n",
              "      <th>Tipo de Desatenção</th>\n",
              "      <th>Velocidade</th>\n",
              "    </tr>\n",
              "  </thead>\n",
              "  <tbody>\n",
              "    <tr>\n",
              "      <th>0</th>\n",
              "      <td>NaN</td>\n",
              "      <td>2019-01-04 11:46:41</td>\n",
              "      <td>11</td>\n",
              "      <td>Olho Fechado</td>\n",
              "      <td>57</td>\n",
              "    </tr>\n",
              "    <tr>\n",
              "      <th>1</th>\n",
              "      <td>NaN</td>\n",
              "      <td>2019-01-11 19:11:04</td>\n",
              "      <td>19</td>\n",
              "      <td>Olho Fechado</td>\n",
              "      <td>48</td>\n",
              "    </tr>\n",
              "    <tr>\n",
              "      <th>16</th>\n",
              "      <td>NaN</td>\n",
              "      <td>2019-02-22 08:39:56</td>\n",
              "      <td>8</td>\n",
              "      <td>Olho Fechado</td>\n",
              "      <td>52</td>\n",
              "    </tr>\n",
              "  </tbody>\n",
              "</table>\n",
              "</div>"
            ],
            "text/plain": [
              "   Nome                DATA  HORA Tipo de Desatenção  Velocidade\n",
              "0   NaN 2019-01-04 11:46:41    11       Olho Fechado          57\n",
              "1   NaN 2019-01-11 19:11:04    19       Olho Fechado          48\n",
              "16  NaN 2019-02-22 08:39:56     8       Olho Fechado          52"
            ]
          },
          "metadata": {
            "tags": []
          },
          "execution_count": 71
        }
      ]
    },
    {
      "cell_type": "code",
      "metadata": {
        "colab": {
          "base_uri": "https://localhost:8080/"
        },
        "id": "c62JfU7Y8KZX",
        "outputId": "76e0034b-2684-4053-b1b3-033d8ffd6eaa"
      },
      "source": [
        "counts, bins = np.histogram(dfE5_of['HORA'], bins=range(0, 25, 3))\r\n",
        "counts"
      ],
      "execution_count": 72,
      "outputs": [
        {
          "output_type": "execute_result",
          "data": {
            "text/plain": [
              "array([ 991, 1607, 5361, 6699, 6958, 4952,  910,  722])"
            ]
          },
          "metadata": {
            "tags": []
          },
          "execution_count": 72
        }
      ]
    },
    {
      "cell_type": "code",
      "metadata": {
        "colab": {
          "base_uri": "https://localhost:8080/"
        },
        "id": "cruDLI858KZZ",
        "outputId": "3527812e-6611-4ba3-9f09-04225dcb496c"
      },
      "source": [
        "b = np.array(dfE5_final['motoristasE5'])\r\n",
        "b"
      ],
      "execution_count": 73,
      "outputs": [
        {
          "output_type": "execute_result",
          "data": {
            "text/plain": [
              "array([48, 50, 56, 51, 50, 47, 52, 50, 56, 53, 50, 53, 48, 50, 56, 51, 50,\n",
              "       47, 52, 50, 56, 53, 50, 53])"
            ]
          },
          "metadata": {
            "tags": []
          },
          "execution_count": 73
        }
      ]
    },
    {
      "cell_type": "code",
      "metadata": {
        "colab": {
          "base_uri": "https://localhost:8080/"
        },
        "id": "wYPUEF208KZZ",
        "outputId": "10c6dd23-8369-4aa5-9359-3f155fa64f40"
      },
      "source": [
        "c = b.reshape((8,3)).sum(axis=1)\r\n",
        "c"
      ],
      "execution_count": 74,
      "outputs": [
        {
          "output_type": "execute_result",
          "data": {
            "text/plain": [
              "array([154, 148, 158, 156, 154, 148, 158, 156])"
            ]
          },
          "metadata": {
            "tags": []
          },
          "execution_count": 74
        }
      ]
    },
    {
      "cell_type": "code",
      "metadata": {
        "colab": {
          "base_uri": "https://localhost:8080/",
          "height": 542
        },
        "id": "yS-dEX9d8KZa",
        "outputId": "fb9f336c-9c71-48af-b151-1c6409767d28"
      },
      "source": [
        "graphics_plot(y = [counts, counts/c], y_name = ['Events(raw)', 'Events/Drivers'], bins = Nbins,\r\n",
        "              title = 'Events company E5 (Eye closed)', yaxes_title = ['Raw', 'Rate'], x_tick = ticks)"
      ],
      "execution_count": 75,
      "outputs": [
        {
          "output_type": "display_data",
          "data": {
            "text/html": [
              "<html>\n",
              "<head><meta charset=\"utf-8\" /></head>\n",
              "<body>\n",
              "    <div>            <script src=\"https://cdnjs.cloudflare.com/ajax/libs/mathjax/2.7.5/MathJax.js?config=TeX-AMS-MML_SVG\"></script><script type=\"text/javascript\">if (window.MathJax) {MathJax.Hub.Config({SVG: {font: \"STIX-Web\"}});}</script>                <script type=\"text/javascript\">window.PlotlyConfig = {MathJaxConfig: 'local'};</script>\n",
              "        <script src=\"https://cdn.plot.ly/plotly-latest.min.js\"></script>                <div id=\"1f2c04c5-d024-492f-a5b2-c7cdd459153c\" class=\"plotly-graph-div\" style=\"height:525px; width:100%;\"></div>            <script type=\"text/javascript\">                                    window.PLOTLYENV=window.PLOTLYENV || {};                                    if (document.getElementById(\"1f2c04c5-d024-492f-a5b2-c7cdd459153c\")) {                    Plotly.newPlot(                        \"1f2c04c5-d024-492f-a5b2-c7cdd459153c\",                        [{\"line\": {\"color\": \"rgb(0, 0, 0)\", \"width\": 2}, \"marker\": {\"size\": 7, \"symbol\": \"circle\"}, \"mode\": \"lines+markers\", \"name\": \"Events(raw)\", \"type\": \"scatter\", \"x\": [0.0, 3.0, 6.0, 9.0, 12.0, 15.0, 18.0, 21.0, 24.0], \"xaxis\": \"x\", \"y\": [991, 1607, 5361, 6699, 6958, 4952, 910, 722], \"yaxis\": \"y\"}, {\"line\": {\"color\": \"rgb(0, 0, 0)\", \"dash\": \"dash\", \"width\": 2}, \"marker\": {\"size\": 7, \"symbol\": \"star\"}, \"mode\": \"lines+markers\", \"name\": \"Events/Drivers\", \"type\": \"scatter\", \"x\": [0.0, 3.0, 6.0, 9.0, 12.0, 15.0, 18.0, 21.0, 24.0], \"xaxis\": \"x\", \"y\": [6.435064935064935, 10.858108108108109, 33.93037974683544, 42.94230769230769, 45.18181818181818, 33.45945945945946, 5.7594936708860756, 4.628205128205129], \"yaxis\": \"y2\"}],                        {\"legend\": {\"orientation\": \"h\", \"x\": 0.95, \"xanchor\": \"right\", \"y\": 1.01, \"yanchor\": \"bottom\"}, \"paper_bgcolor\": \"rgba(0,0,0,0)\", \"plot_bgcolor\": \"rgba(0,0,0,0)\", \"template\": {\"data\": {\"bar\": [{\"error_x\": {\"color\": \"#2a3f5f\"}, \"error_y\": {\"color\": \"#2a3f5f\"}, \"marker\": {\"line\": {\"color\": \"#E5ECF6\", \"width\": 0.5}}, \"type\": \"bar\"}], \"barpolar\": [{\"marker\": {\"line\": {\"color\": \"#E5ECF6\", \"width\": 0.5}}, \"type\": \"barpolar\"}], \"carpet\": [{\"aaxis\": {\"endlinecolor\": \"#2a3f5f\", \"gridcolor\": \"white\", \"linecolor\": \"white\", \"minorgridcolor\": \"white\", \"startlinecolor\": \"#2a3f5f\"}, \"baxis\": {\"endlinecolor\": \"#2a3f5f\", \"gridcolor\": \"white\", \"linecolor\": \"white\", \"minorgridcolor\": \"white\", \"startlinecolor\": \"#2a3f5f\"}, \"type\": \"carpet\"}], \"choropleth\": [{\"colorbar\": {\"outlinewidth\": 0, \"ticks\": \"\"}, \"type\": \"choropleth\"}], \"contour\": [{\"colorbar\": {\"outlinewidth\": 0, \"ticks\": \"\"}, \"colorscale\": [[0.0, \"#0d0887\"], [0.1111111111111111, \"#46039f\"], [0.2222222222222222, \"#7201a8\"], [0.3333333333333333, \"#9c179e\"], [0.4444444444444444, \"#bd3786\"], [0.5555555555555556, \"#d8576b\"], [0.6666666666666666, \"#ed7953\"], [0.7777777777777778, \"#fb9f3a\"], [0.8888888888888888, \"#fdca26\"], [1.0, \"#f0f921\"]], \"type\": \"contour\"}], \"contourcarpet\": [{\"colorbar\": {\"outlinewidth\": 0, \"ticks\": \"\"}, \"type\": \"contourcarpet\"}], \"heatmap\": [{\"colorbar\": {\"outlinewidth\": 0, \"ticks\": \"\"}, \"colorscale\": [[0.0, \"#0d0887\"], [0.1111111111111111, \"#46039f\"], [0.2222222222222222, \"#7201a8\"], [0.3333333333333333, \"#9c179e\"], [0.4444444444444444, \"#bd3786\"], [0.5555555555555556, \"#d8576b\"], [0.6666666666666666, \"#ed7953\"], [0.7777777777777778, \"#fb9f3a\"], [0.8888888888888888, \"#fdca26\"], [1.0, \"#f0f921\"]], \"type\": \"heatmap\"}], \"heatmapgl\": [{\"colorbar\": {\"outlinewidth\": 0, \"ticks\": \"\"}, \"colorscale\": [[0.0, \"#0d0887\"], [0.1111111111111111, \"#46039f\"], [0.2222222222222222, \"#7201a8\"], [0.3333333333333333, \"#9c179e\"], [0.4444444444444444, \"#bd3786\"], [0.5555555555555556, \"#d8576b\"], [0.6666666666666666, \"#ed7953\"], [0.7777777777777778, \"#fb9f3a\"], [0.8888888888888888, \"#fdca26\"], [1.0, \"#f0f921\"]], \"type\": \"heatmapgl\"}], \"histogram\": [{\"marker\": {\"colorbar\": {\"outlinewidth\": 0, \"ticks\": \"\"}}, \"type\": \"histogram\"}], \"histogram2d\": [{\"colorbar\": {\"outlinewidth\": 0, \"ticks\": \"\"}, \"colorscale\": [[0.0, \"#0d0887\"], [0.1111111111111111, \"#46039f\"], [0.2222222222222222, \"#7201a8\"], [0.3333333333333333, \"#9c179e\"], [0.4444444444444444, \"#bd3786\"], [0.5555555555555556, \"#d8576b\"], [0.6666666666666666, \"#ed7953\"], [0.7777777777777778, \"#fb9f3a\"], [0.8888888888888888, \"#fdca26\"], [1.0, \"#f0f921\"]], \"type\": \"histogram2d\"}], \"histogram2dcontour\": [{\"colorbar\": {\"outlinewidth\": 0, \"ticks\": \"\"}, \"colorscale\": [[0.0, \"#0d0887\"], [0.1111111111111111, \"#46039f\"], [0.2222222222222222, \"#7201a8\"], [0.3333333333333333, \"#9c179e\"], [0.4444444444444444, \"#bd3786\"], [0.5555555555555556, \"#d8576b\"], [0.6666666666666666, \"#ed7953\"], [0.7777777777777778, \"#fb9f3a\"], [0.8888888888888888, \"#fdca26\"], [1.0, \"#f0f921\"]], \"type\": \"histogram2dcontour\"}], \"mesh3d\": [{\"colorbar\": {\"outlinewidth\": 0, \"ticks\": \"\"}, \"type\": \"mesh3d\"}], \"parcoords\": [{\"line\": {\"colorbar\": {\"outlinewidth\": 0, \"ticks\": \"\"}}, \"type\": \"parcoords\"}], \"pie\": [{\"automargin\": true, \"type\": \"pie\"}], \"scatter\": [{\"marker\": {\"colorbar\": {\"outlinewidth\": 0, \"ticks\": \"\"}}, \"type\": \"scatter\"}], \"scatter3d\": [{\"line\": {\"colorbar\": {\"outlinewidth\": 0, \"ticks\": \"\"}}, \"marker\": {\"colorbar\": {\"outlinewidth\": 0, \"ticks\": \"\"}}, \"type\": \"scatter3d\"}], \"scattercarpet\": [{\"marker\": {\"colorbar\": {\"outlinewidth\": 0, \"ticks\": \"\"}}, \"type\": \"scattercarpet\"}], \"scattergeo\": [{\"marker\": {\"colorbar\": {\"outlinewidth\": 0, \"ticks\": \"\"}}, \"type\": \"scattergeo\"}], \"scattergl\": [{\"marker\": {\"colorbar\": {\"outlinewidth\": 0, \"ticks\": \"\"}}, \"type\": \"scattergl\"}], \"scattermapbox\": [{\"marker\": {\"colorbar\": {\"outlinewidth\": 0, \"ticks\": \"\"}}, \"type\": \"scattermapbox\"}], \"scatterpolar\": [{\"marker\": {\"colorbar\": {\"outlinewidth\": 0, \"ticks\": \"\"}}, \"type\": \"scatterpolar\"}], \"scatterpolargl\": [{\"marker\": {\"colorbar\": {\"outlinewidth\": 0, \"ticks\": \"\"}}, \"type\": \"scatterpolargl\"}], \"scatterternary\": [{\"marker\": {\"colorbar\": {\"outlinewidth\": 0, \"ticks\": \"\"}}, \"type\": \"scatterternary\"}], \"surface\": [{\"colorbar\": {\"outlinewidth\": 0, \"ticks\": \"\"}, \"colorscale\": [[0.0, \"#0d0887\"], [0.1111111111111111, \"#46039f\"], [0.2222222222222222, \"#7201a8\"], [0.3333333333333333, \"#9c179e\"], [0.4444444444444444, \"#bd3786\"], [0.5555555555555556, \"#d8576b\"], [0.6666666666666666, \"#ed7953\"], [0.7777777777777778, \"#fb9f3a\"], [0.8888888888888888, \"#fdca26\"], [1.0, \"#f0f921\"]], \"type\": \"surface\"}], \"table\": [{\"cells\": {\"fill\": {\"color\": \"#EBF0F8\"}, \"line\": {\"color\": \"white\"}}, \"header\": {\"fill\": {\"color\": \"#C8D4E3\"}, \"line\": {\"color\": \"white\"}}, \"type\": \"table\"}]}, \"layout\": {\"annotationdefaults\": {\"arrowcolor\": \"#2a3f5f\", \"arrowhead\": 0, \"arrowwidth\": 1}, \"autotypenumbers\": \"strict\", \"coloraxis\": {\"colorbar\": {\"outlinewidth\": 0, \"ticks\": \"\"}}, \"colorscale\": {\"diverging\": [[0, \"#8e0152\"], [0.1, \"#c51b7d\"], [0.2, \"#de77ae\"], [0.3, \"#f1b6da\"], [0.4, \"#fde0ef\"], [0.5, \"#f7f7f7\"], [0.6, \"#e6f5d0\"], [0.7, \"#b8e186\"], [0.8, \"#7fbc41\"], [0.9, \"#4d9221\"], [1, \"#276419\"]], \"sequential\": [[0.0, \"#0d0887\"], [0.1111111111111111, \"#46039f\"], [0.2222222222222222, \"#7201a8\"], [0.3333333333333333, \"#9c179e\"], [0.4444444444444444, \"#bd3786\"], [0.5555555555555556, \"#d8576b\"], [0.6666666666666666, \"#ed7953\"], [0.7777777777777778, \"#fb9f3a\"], [0.8888888888888888, \"#fdca26\"], [1.0, \"#f0f921\"]], \"sequentialminus\": [[0.0, \"#0d0887\"], [0.1111111111111111, \"#46039f\"], [0.2222222222222222, \"#7201a8\"], [0.3333333333333333, \"#9c179e\"], [0.4444444444444444, \"#bd3786\"], [0.5555555555555556, \"#d8576b\"], [0.6666666666666666, \"#ed7953\"], [0.7777777777777778, \"#fb9f3a\"], [0.8888888888888888, \"#fdca26\"], [1.0, \"#f0f921\"]]}, \"colorway\": [\"#636efa\", \"#EF553B\", \"#00cc96\", \"#ab63fa\", \"#FFA15A\", \"#19d3f3\", \"#FF6692\", \"#B6E880\", \"#FF97FF\", \"#FECB52\"], \"font\": {\"color\": \"#2a3f5f\"}, \"geo\": {\"bgcolor\": \"white\", \"lakecolor\": \"white\", \"landcolor\": \"#E5ECF6\", \"showlakes\": true, \"showland\": true, \"subunitcolor\": \"white\"}, \"hoverlabel\": {\"align\": \"left\"}, \"hovermode\": \"closest\", \"mapbox\": {\"style\": \"light\"}, \"paper_bgcolor\": \"white\", \"plot_bgcolor\": \"#E5ECF6\", \"polar\": {\"angularaxis\": {\"gridcolor\": \"white\", \"linecolor\": \"white\", \"ticks\": \"\"}, \"bgcolor\": \"#E5ECF6\", \"radialaxis\": {\"gridcolor\": \"white\", \"linecolor\": \"white\", \"ticks\": \"\"}}, \"scene\": {\"xaxis\": {\"backgroundcolor\": \"#E5ECF6\", \"gridcolor\": \"white\", \"gridwidth\": 2, \"linecolor\": \"white\", \"showbackground\": true, \"ticks\": \"\", \"zerolinecolor\": \"white\"}, \"yaxis\": {\"backgroundcolor\": \"#E5ECF6\", \"gridcolor\": \"white\", \"gridwidth\": 2, \"linecolor\": \"white\", \"showbackground\": true, \"ticks\": \"\", \"zerolinecolor\": \"white\"}, \"zaxis\": {\"backgroundcolor\": \"#E5ECF6\", \"gridcolor\": \"white\", \"gridwidth\": 2, \"linecolor\": \"white\", \"showbackground\": true, \"ticks\": \"\", \"zerolinecolor\": \"white\"}}, \"shapedefaults\": {\"line\": {\"color\": \"#2a3f5f\"}}, \"ternary\": {\"aaxis\": {\"gridcolor\": \"white\", \"linecolor\": \"white\", \"ticks\": \"\"}, \"baxis\": {\"gridcolor\": \"white\", \"linecolor\": \"white\", \"ticks\": \"\"}, \"bgcolor\": \"#E5ECF6\", \"caxis\": {\"gridcolor\": \"white\", \"linecolor\": \"white\", \"ticks\": \"\"}}, \"title\": {\"x\": 0.05}, \"xaxis\": {\"automargin\": true, \"gridcolor\": \"white\", \"linecolor\": \"white\", \"ticks\": \"\", \"title\": {\"standoff\": 15}, \"zerolinecolor\": \"white\", \"zerolinewidth\": 2}, \"yaxis\": {\"automargin\": true, \"gridcolor\": \"white\", \"linecolor\": \"white\", \"ticks\": \"\", \"title\": {\"standoff\": 15}, \"zerolinecolor\": \"white\", \"zerolinewidth\": 2}}}, \"title\": {\"text\": \"Events company E5 (Eye closed)\"}, \"xaxis\": {\"anchor\": \"y\", \"domain\": [0.0, 0.94], \"dtick\": 3, \"gridcolor\": \"black\", \"gridwidth\": 1, \"linecolor\": \"black\", \"linewidth\": 2, \"mirror\": true, \"showgrid\": true, \"showline\": true, \"tick0\": 0, \"tickmode\": \"linear\", \"title\": {\"text\": \"Time of day\"}}, \"yaxis\": {\"anchor\": \"x\", \"domain\": [0.0, 1.0], \"gridcolor\": \"black\", \"gridwidth\": 1, \"linecolor\": \"black\", \"linewidth\": 2, \"mirror\": true, \"showgrid\": false, \"showline\": true, \"title\": {\"text\": \"<b>Raw</b>\"}}, \"yaxis2\": {\"anchor\": \"x\", \"gridcolor\": \"black\", \"gridwidth\": 1, \"linecolor\": \"black\", \"linewidth\": 2, \"mirror\": true, \"overlaying\": \"y\", \"showgrid\": false, \"showline\": true, \"side\": \"right\", \"title\": {\"text\": \"<b>Rate</b>\"}}},                        {\"responsive\": true}                    ).then(function(){\n",
              "                            \n",
              "var gd = document.getElementById('1f2c04c5-d024-492f-a5b2-c7cdd459153c');\n",
              "var x = new MutationObserver(function (mutations, observer) {{\n",
              "        var display = window.getComputedStyle(gd).display;\n",
              "        if (!display || display === 'none') {{\n",
              "            console.log([gd, 'removed!']);\n",
              "            Plotly.purge(gd);\n",
              "            observer.disconnect();\n",
              "        }}\n",
              "}});\n",
              "\n",
              "// Listen for the removal of the full notebook cells\n",
              "var notebookContainer = gd.closest('#notebook-container');\n",
              "if (notebookContainer) {{\n",
              "    x.observe(notebookContainer, {childList: true});\n",
              "}}\n",
              "\n",
              "// Listen for the clearing of the current output cell\n",
              "var outputEl = gd.closest('.output');\n",
              "if (outputEl) {{\n",
              "    x.observe(outputEl, {childList: true});\n",
              "}}\n",
              "\n",
              "                        })                };                            </script>        </div>\n",
              "</body>\n",
              "</html>"
            ]
          },
          "metadata": {
            "tags": []
          }
        }
      ]
    },
    {
      "cell_type": "code",
      "metadata": {
        "colab": {
          "base_uri": "https://localhost:8080/",
          "height": 142
        },
        "id": "oYgdsxHNCMW4",
        "outputId": "ea4213d1-5232-4490-cd49-790330d63835"
      },
      "source": [
        "dfE5_b.head(3)"
      ],
      "execution_count": 76,
      "outputs": [
        {
          "output_type": "execute_result",
          "data": {
            "text/html": [
              "<div>\n",
              "<style scoped>\n",
              "    .dataframe tbody tr th:only-of-type {\n",
              "        vertical-align: middle;\n",
              "    }\n",
              "\n",
              "    .dataframe tbody tr th {\n",
              "        vertical-align: top;\n",
              "    }\n",
              "\n",
              "    .dataframe thead th {\n",
              "        text-align: right;\n",
              "    }\n",
              "</style>\n",
              "<table border=\"1\" class=\"dataframe\">\n",
              "  <thead>\n",
              "    <tr style=\"text-align: right;\">\n",
              "      <th></th>\n",
              "      <th>Nome</th>\n",
              "      <th>DATA</th>\n",
              "      <th>HORA</th>\n",
              "      <th>Tipo de Desatenção</th>\n",
              "      <th>Velocidade</th>\n",
              "    </tr>\n",
              "  </thead>\n",
              "  <tbody>\n",
              "    <tr>\n",
              "      <th>2</th>\n",
              "      <td>NaN</td>\n",
              "      <td>2019-02-20 02:49:08</td>\n",
              "      <td>2</td>\n",
              "      <td>Bocejo</td>\n",
              "      <td>58</td>\n",
              "    </tr>\n",
              "    <tr>\n",
              "      <th>3</th>\n",
              "      <td>NaN</td>\n",
              "      <td>2019-02-21 05:40:30</td>\n",
              "      <td>5</td>\n",
              "      <td>Bocejo</td>\n",
              "      <td>49</td>\n",
              "    </tr>\n",
              "    <tr>\n",
              "      <th>4</th>\n",
              "      <td>NaN</td>\n",
              "      <td>2019-02-21 05:54:02</td>\n",
              "      <td>5</td>\n",
              "      <td>Bocejo</td>\n",
              "      <td>41</td>\n",
              "    </tr>\n",
              "  </tbody>\n",
              "</table>\n",
              "</div>"
            ],
            "text/plain": [
              "  Nome                DATA  HORA Tipo de Desatenção  Velocidade\n",
              "2  NaN 2019-02-20 02:49:08     2             Bocejo          58\n",
              "3  NaN 2019-02-21 05:40:30     5             Bocejo          49\n",
              "4  NaN 2019-02-21 05:54:02     5             Bocejo          41"
            ]
          },
          "metadata": {
            "tags": []
          },
          "execution_count": 76
        }
      ]
    },
    {
      "cell_type": "code",
      "metadata": {
        "colab": {
          "base_uri": "https://localhost:8080/"
        },
        "id": "8tmouNlrCMXE",
        "outputId": "cb75183b-6eaa-4e29-d09f-7b92bc956e6a"
      },
      "source": [
        "counts, bins = np.histogram(dfE5_b['HORA'], bins=range(0, 25, 1))\r\n",
        "counts"
      ],
      "execution_count": 77,
      "outputs": [
        {
          "output_type": "execute_result",
          "data": {
            "text/plain": [
              "array([1915, 2133, 2342, 2372, 2362, 2419, 2564, 2122, 1715, 1315, 1199,\n",
              "       1248, 1691, 1757, 1649, 1408, 1190, 1257, 1384, 1187, 1191, 1322,\n",
              "       1583, 1575])"
            ]
          },
          "metadata": {
            "tags": []
          },
          "execution_count": 77
        }
      ]
    },
    {
      "cell_type": "code",
      "metadata": {
        "colab": {
          "base_uri": "https://localhost:8080/"
        },
        "id": "XarDrsI4Cpqc",
        "outputId": "3baf46c5-c7d3-4c9d-a1fa-e3d60c7b8614"
      },
      "source": [
        "b = np.roll(counts, 1)\r\n",
        "counts = b.reshape((8,3)).sum(axis=1)\r\n",
        "counts"
      ],
      "execution_count": 78,
      "outputs": [
        {
          "output_type": "execute_result",
          "data": {
            "text/plain": [
              "array([5623, 7076, 7105, 4229, 4696, 4247, 3828, 4096])"
            ]
          },
          "metadata": {
            "tags": []
          },
          "execution_count": 78
        }
      ]
    },
    {
      "cell_type": "code",
      "metadata": {
        "colab": {
          "base_uri": "https://localhost:8080/"
        },
        "id": "vsiN1dDbCMXE",
        "outputId": "20b8f1a9-fa7a-4217-8b68-90e6a2c11df4"
      },
      "source": [
        "b = np.array(dfE5_final['motoristasE5'])\r\n",
        "b = np.roll(b, 1)\r\n",
        "b"
      ],
      "execution_count": 79,
      "outputs": [
        {
          "output_type": "execute_result",
          "data": {
            "text/plain": [
              "array([53, 48, 50, 56, 51, 50, 47, 52, 50, 56, 53, 50, 53, 48, 50, 56, 51,\n",
              "       50, 47, 52, 50, 56, 53, 50])"
            ]
          },
          "metadata": {
            "tags": []
          },
          "execution_count": 79
        }
      ]
    },
    {
      "cell_type": "code",
      "metadata": {
        "colab": {
          "base_uri": "https://localhost:8080/"
        },
        "id": "_72-q8SHCMXF",
        "outputId": "de8d2eb6-f184-4a8a-f1dc-ea6d87f5e597"
      },
      "source": [
        "c = b.reshape((8,3)).sum(axis=1)\r\n",
        "c"
      ],
      "execution_count": 80,
      "outputs": [
        {
          "output_type": "execute_result",
          "data": {
            "text/plain": [
              "array([151, 157, 149, 159, 151, 157, 149, 159])"
            ]
          },
          "metadata": {
            "tags": []
          },
          "execution_count": 80
        }
      ]
    },
    {
      "cell_type": "code",
      "metadata": {
        "colab": {
          "base_uri": "https://localhost:8080/",
          "height": 542
        },
        "id": "qi6_wkXdCMXF",
        "outputId": "9e3f4955-271f-498b-8cf0-4b111dce61c0"
      },
      "source": [
        "graphics_plot(y = [counts, counts/c], y_name = ['Events(raw)', 'Events/Drivers'], bins = Nbins, x_tick=ticks,\r\n",
        "              title = 'Events company E5 (Yawn)', yaxes_title = ['Raw', 'Rate'])"
      ],
      "execution_count": 81,
      "outputs": [
        {
          "output_type": "display_data",
          "data": {
            "text/html": [
              "<html>\n",
              "<head><meta charset=\"utf-8\" /></head>\n",
              "<body>\n",
              "    <div>            <script src=\"https://cdnjs.cloudflare.com/ajax/libs/mathjax/2.7.5/MathJax.js?config=TeX-AMS-MML_SVG\"></script><script type=\"text/javascript\">if (window.MathJax) {MathJax.Hub.Config({SVG: {font: \"STIX-Web\"}});}</script>                <script type=\"text/javascript\">window.PlotlyConfig = {MathJaxConfig: 'local'};</script>\n",
              "        <script src=\"https://cdn.plot.ly/plotly-latest.min.js\"></script>                <div id=\"05cc775c-a52e-452e-b490-e865b0ca05c0\" class=\"plotly-graph-div\" style=\"height:525px; width:100%;\"></div>            <script type=\"text/javascript\">                                    window.PLOTLYENV=window.PLOTLYENV || {};                                    if (document.getElementById(\"05cc775c-a52e-452e-b490-e865b0ca05c0\")) {                    Plotly.newPlot(                        \"05cc775c-a52e-452e-b490-e865b0ca05c0\",                        [{\"line\": {\"color\": \"rgb(0, 0, 0)\", \"width\": 2}, \"marker\": {\"size\": 7, \"symbol\": \"circle\"}, \"mode\": \"lines+markers\", \"name\": \"Events(raw)\", \"type\": \"scatter\", \"x\": [0.0, 3.0, 6.0, 9.0, 12.0, 15.0, 18.0, 21.0, 24.0], \"xaxis\": \"x\", \"y\": [5623, 7076, 7105, 4229, 4696, 4247, 3828, 4096], \"yaxis\": \"y\"}, {\"line\": {\"color\": \"rgb(0, 0, 0)\", \"dash\": \"dash\", \"width\": 2}, \"marker\": {\"size\": 7, \"symbol\": \"star\"}, \"mode\": \"lines+markers\", \"name\": \"Events/Drivers\", \"type\": \"scatter\", \"x\": [0.0, 3.0, 6.0, 9.0, 12.0, 15.0, 18.0, 21.0, 24.0], \"xaxis\": \"x\", \"y\": [37.23841059602649, 45.07006369426752, 47.68456375838926, 26.59748427672956, 31.09933774834437, 27.05095541401274, 25.691275167785236, 25.761006289308177], \"yaxis\": \"y2\"}],                        {\"legend\": {\"orientation\": \"h\", \"x\": 0.95, \"xanchor\": \"right\", \"y\": 1.01, \"yanchor\": \"bottom\"}, \"paper_bgcolor\": \"rgba(0,0,0,0)\", \"plot_bgcolor\": \"rgba(0,0,0,0)\", \"template\": {\"data\": {\"bar\": [{\"error_x\": {\"color\": \"#2a3f5f\"}, \"error_y\": {\"color\": \"#2a3f5f\"}, \"marker\": {\"line\": {\"color\": \"#E5ECF6\", \"width\": 0.5}}, \"type\": \"bar\"}], \"barpolar\": [{\"marker\": {\"line\": {\"color\": \"#E5ECF6\", \"width\": 0.5}}, \"type\": \"barpolar\"}], \"carpet\": [{\"aaxis\": {\"endlinecolor\": \"#2a3f5f\", \"gridcolor\": \"white\", \"linecolor\": \"white\", \"minorgridcolor\": \"white\", \"startlinecolor\": \"#2a3f5f\"}, \"baxis\": {\"endlinecolor\": \"#2a3f5f\", \"gridcolor\": \"white\", \"linecolor\": \"white\", \"minorgridcolor\": \"white\", \"startlinecolor\": \"#2a3f5f\"}, \"type\": \"carpet\"}], \"choropleth\": [{\"colorbar\": {\"outlinewidth\": 0, \"ticks\": \"\"}, \"type\": \"choropleth\"}], \"contour\": [{\"colorbar\": {\"outlinewidth\": 0, \"ticks\": \"\"}, \"colorscale\": [[0.0, \"#0d0887\"], [0.1111111111111111, \"#46039f\"], [0.2222222222222222, \"#7201a8\"], [0.3333333333333333, \"#9c179e\"], [0.4444444444444444, \"#bd3786\"], [0.5555555555555556, \"#d8576b\"], [0.6666666666666666, \"#ed7953\"], [0.7777777777777778, \"#fb9f3a\"], [0.8888888888888888, \"#fdca26\"], [1.0, \"#f0f921\"]], \"type\": \"contour\"}], \"contourcarpet\": [{\"colorbar\": {\"outlinewidth\": 0, \"ticks\": \"\"}, \"type\": \"contourcarpet\"}], \"heatmap\": [{\"colorbar\": {\"outlinewidth\": 0, \"ticks\": \"\"}, \"colorscale\": [[0.0, \"#0d0887\"], [0.1111111111111111, \"#46039f\"], [0.2222222222222222, \"#7201a8\"], [0.3333333333333333, \"#9c179e\"], [0.4444444444444444, \"#bd3786\"], [0.5555555555555556, \"#d8576b\"], [0.6666666666666666, \"#ed7953\"], [0.7777777777777778, \"#fb9f3a\"], [0.8888888888888888, \"#fdca26\"], [1.0, \"#f0f921\"]], \"type\": \"heatmap\"}], \"heatmapgl\": [{\"colorbar\": {\"outlinewidth\": 0, \"ticks\": \"\"}, \"colorscale\": [[0.0, \"#0d0887\"], [0.1111111111111111, \"#46039f\"], [0.2222222222222222, \"#7201a8\"], [0.3333333333333333, \"#9c179e\"], [0.4444444444444444, \"#bd3786\"], [0.5555555555555556, \"#d8576b\"], [0.6666666666666666, \"#ed7953\"], [0.7777777777777778, \"#fb9f3a\"], [0.8888888888888888, \"#fdca26\"], [1.0, \"#f0f921\"]], \"type\": \"heatmapgl\"}], \"histogram\": [{\"marker\": {\"colorbar\": {\"outlinewidth\": 0, \"ticks\": \"\"}}, \"type\": \"histogram\"}], \"histogram2d\": [{\"colorbar\": {\"outlinewidth\": 0, \"ticks\": \"\"}, \"colorscale\": [[0.0, \"#0d0887\"], [0.1111111111111111, \"#46039f\"], [0.2222222222222222, \"#7201a8\"], [0.3333333333333333, \"#9c179e\"], [0.4444444444444444, \"#bd3786\"], [0.5555555555555556, \"#d8576b\"], [0.6666666666666666, \"#ed7953\"], [0.7777777777777778, \"#fb9f3a\"], [0.8888888888888888, \"#fdca26\"], [1.0, \"#f0f921\"]], \"type\": \"histogram2d\"}], \"histogram2dcontour\": [{\"colorbar\": {\"outlinewidth\": 0, \"ticks\": \"\"}, \"colorscale\": [[0.0, \"#0d0887\"], [0.1111111111111111, \"#46039f\"], [0.2222222222222222, \"#7201a8\"], [0.3333333333333333, \"#9c179e\"], [0.4444444444444444, \"#bd3786\"], [0.5555555555555556, \"#d8576b\"], [0.6666666666666666, \"#ed7953\"], [0.7777777777777778, \"#fb9f3a\"], [0.8888888888888888, \"#fdca26\"], [1.0, \"#f0f921\"]], \"type\": \"histogram2dcontour\"}], \"mesh3d\": [{\"colorbar\": {\"outlinewidth\": 0, \"ticks\": \"\"}, \"type\": \"mesh3d\"}], \"parcoords\": [{\"line\": {\"colorbar\": {\"outlinewidth\": 0, \"ticks\": \"\"}}, \"type\": \"parcoords\"}], \"pie\": [{\"automargin\": true, \"type\": \"pie\"}], \"scatter\": [{\"marker\": {\"colorbar\": {\"outlinewidth\": 0, \"ticks\": \"\"}}, \"type\": \"scatter\"}], \"scatter3d\": [{\"line\": {\"colorbar\": {\"outlinewidth\": 0, \"ticks\": \"\"}}, \"marker\": {\"colorbar\": {\"outlinewidth\": 0, \"ticks\": \"\"}}, \"type\": \"scatter3d\"}], \"scattercarpet\": [{\"marker\": {\"colorbar\": {\"outlinewidth\": 0, \"ticks\": \"\"}}, \"type\": \"scattercarpet\"}], \"scattergeo\": [{\"marker\": {\"colorbar\": {\"outlinewidth\": 0, \"ticks\": \"\"}}, \"type\": \"scattergeo\"}], \"scattergl\": [{\"marker\": {\"colorbar\": {\"outlinewidth\": 0, \"ticks\": \"\"}}, \"type\": \"scattergl\"}], \"scattermapbox\": [{\"marker\": {\"colorbar\": {\"outlinewidth\": 0, \"ticks\": \"\"}}, \"type\": \"scattermapbox\"}], \"scatterpolar\": [{\"marker\": {\"colorbar\": {\"outlinewidth\": 0, \"ticks\": \"\"}}, \"type\": \"scatterpolar\"}], \"scatterpolargl\": [{\"marker\": {\"colorbar\": {\"outlinewidth\": 0, \"ticks\": \"\"}}, \"type\": \"scatterpolargl\"}], \"scatterternary\": [{\"marker\": {\"colorbar\": {\"outlinewidth\": 0, \"ticks\": \"\"}}, \"type\": \"scatterternary\"}], \"surface\": [{\"colorbar\": {\"outlinewidth\": 0, \"ticks\": \"\"}, \"colorscale\": [[0.0, \"#0d0887\"], [0.1111111111111111, \"#46039f\"], [0.2222222222222222, \"#7201a8\"], [0.3333333333333333, \"#9c179e\"], [0.4444444444444444, \"#bd3786\"], [0.5555555555555556, \"#d8576b\"], [0.6666666666666666, \"#ed7953\"], [0.7777777777777778, \"#fb9f3a\"], [0.8888888888888888, \"#fdca26\"], [1.0, \"#f0f921\"]], \"type\": \"surface\"}], \"table\": [{\"cells\": {\"fill\": {\"color\": \"#EBF0F8\"}, \"line\": {\"color\": \"white\"}}, \"header\": {\"fill\": {\"color\": \"#C8D4E3\"}, \"line\": {\"color\": \"white\"}}, \"type\": \"table\"}]}, \"layout\": {\"annotationdefaults\": {\"arrowcolor\": \"#2a3f5f\", \"arrowhead\": 0, \"arrowwidth\": 1}, \"autotypenumbers\": \"strict\", \"coloraxis\": {\"colorbar\": {\"outlinewidth\": 0, \"ticks\": \"\"}}, \"colorscale\": {\"diverging\": [[0, \"#8e0152\"], [0.1, \"#c51b7d\"], [0.2, \"#de77ae\"], [0.3, \"#f1b6da\"], [0.4, \"#fde0ef\"], [0.5, \"#f7f7f7\"], [0.6, \"#e6f5d0\"], [0.7, \"#b8e186\"], [0.8, \"#7fbc41\"], [0.9, \"#4d9221\"], [1, \"#276419\"]], \"sequential\": [[0.0, \"#0d0887\"], [0.1111111111111111, \"#46039f\"], [0.2222222222222222, \"#7201a8\"], [0.3333333333333333, \"#9c179e\"], [0.4444444444444444, \"#bd3786\"], [0.5555555555555556, \"#d8576b\"], [0.6666666666666666, \"#ed7953\"], [0.7777777777777778, \"#fb9f3a\"], [0.8888888888888888, \"#fdca26\"], [1.0, \"#f0f921\"]], \"sequentialminus\": [[0.0, \"#0d0887\"], [0.1111111111111111, \"#46039f\"], [0.2222222222222222, \"#7201a8\"], [0.3333333333333333, \"#9c179e\"], [0.4444444444444444, \"#bd3786\"], [0.5555555555555556, \"#d8576b\"], [0.6666666666666666, \"#ed7953\"], [0.7777777777777778, \"#fb9f3a\"], [0.8888888888888888, \"#fdca26\"], [1.0, \"#f0f921\"]]}, \"colorway\": [\"#636efa\", \"#EF553B\", \"#00cc96\", \"#ab63fa\", \"#FFA15A\", \"#19d3f3\", \"#FF6692\", \"#B6E880\", \"#FF97FF\", \"#FECB52\"], \"font\": {\"color\": \"#2a3f5f\"}, \"geo\": {\"bgcolor\": \"white\", \"lakecolor\": \"white\", \"landcolor\": \"#E5ECF6\", \"showlakes\": true, \"showland\": true, \"subunitcolor\": \"white\"}, \"hoverlabel\": {\"align\": \"left\"}, \"hovermode\": \"closest\", \"mapbox\": {\"style\": \"light\"}, \"paper_bgcolor\": \"white\", \"plot_bgcolor\": \"#E5ECF6\", \"polar\": {\"angularaxis\": {\"gridcolor\": \"white\", \"linecolor\": \"white\", \"ticks\": \"\"}, \"bgcolor\": \"#E5ECF6\", \"radialaxis\": {\"gridcolor\": \"white\", \"linecolor\": \"white\", \"ticks\": \"\"}}, \"scene\": {\"xaxis\": {\"backgroundcolor\": \"#E5ECF6\", \"gridcolor\": \"white\", \"gridwidth\": 2, \"linecolor\": \"white\", \"showbackground\": true, \"ticks\": \"\", \"zerolinecolor\": \"white\"}, \"yaxis\": {\"backgroundcolor\": \"#E5ECF6\", \"gridcolor\": \"white\", \"gridwidth\": 2, \"linecolor\": \"white\", \"showbackground\": true, \"ticks\": \"\", \"zerolinecolor\": \"white\"}, \"zaxis\": {\"backgroundcolor\": \"#E5ECF6\", \"gridcolor\": \"white\", \"gridwidth\": 2, \"linecolor\": \"white\", \"showbackground\": true, \"ticks\": \"\", \"zerolinecolor\": \"white\"}}, \"shapedefaults\": {\"line\": {\"color\": \"#2a3f5f\"}}, \"ternary\": {\"aaxis\": {\"gridcolor\": \"white\", \"linecolor\": \"white\", \"ticks\": \"\"}, \"baxis\": {\"gridcolor\": \"white\", \"linecolor\": \"white\", \"ticks\": \"\"}, \"bgcolor\": \"#E5ECF6\", \"caxis\": {\"gridcolor\": \"white\", \"linecolor\": \"white\", \"ticks\": \"\"}}, \"title\": {\"x\": 0.05}, \"xaxis\": {\"automargin\": true, \"gridcolor\": \"white\", \"linecolor\": \"white\", \"ticks\": \"\", \"title\": {\"standoff\": 15}, \"zerolinecolor\": \"white\", \"zerolinewidth\": 2}, \"yaxis\": {\"automargin\": true, \"gridcolor\": \"white\", \"linecolor\": \"white\", \"ticks\": \"\", \"title\": {\"standoff\": 15}, \"zerolinecolor\": \"white\", \"zerolinewidth\": 2}}}, \"title\": {\"text\": \"Events company E5 (Yawn)\"}, \"xaxis\": {\"anchor\": \"y\", \"domain\": [0.0, 0.94], \"dtick\": 3, \"gridcolor\": \"black\", \"gridwidth\": 1, \"linecolor\": \"black\", \"linewidth\": 2, \"mirror\": true, \"showgrid\": true, \"showline\": true, \"tick0\": 0, \"tickmode\": \"linear\", \"title\": {\"text\": \"Time of day\"}}, \"yaxis\": {\"anchor\": \"x\", \"domain\": [0.0, 1.0], \"gridcolor\": \"black\", \"gridwidth\": 1, \"linecolor\": \"black\", \"linewidth\": 2, \"mirror\": true, \"showgrid\": false, \"showline\": true, \"title\": {\"text\": \"<b>Raw</b>\"}}, \"yaxis2\": {\"anchor\": \"x\", \"gridcolor\": \"black\", \"gridwidth\": 1, \"linecolor\": \"black\", \"linewidth\": 2, \"mirror\": true, \"overlaying\": \"y\", \"showgrid\": false, \"showline\": true, \"side\": \"right\", \"title\": {\"text\": \"<b>Rate</b>\"}}},                        {\"responsive\": true}                    ).then(function(){\n",
              "                            \n",
              "var gd = document.getElementById('05cc775c-a52e-452e-b490-e865b0ca05c0');\n",
              "var x = new MutationObserver(function (mutations, observer) {{\n",
              "        var display = window.getComputedStyle(gd).display;\n",
              "        if (!display || display === 'none') {{\n",
              "            console.log([gd, 'removed!']);\n",
              "            Plotly.purge(gd);\n",
              "            observer.disconnect();\n",
              "        }}\n",
              "}});\n",
              "\n",
              "// Listen for the removal of the full notebook cells\n",
              "var notebookContainer = gd.closest('#notebook-container');\n",
              "if (notebookContainer) {{\n",
              "    x.observe(notebookContainer, {childList: true});\n",
              "}}\n",
              "\n",
              "// Listen for the clearing of the current output cell\n",
              "var outputEl = gd.closest('.output');\n",
              "if (outputEl) {{\n",
              "    x.observe(outputEl, {childList: true});\n",
              "}}\n",
              "\n",
              "                        })                };                            </script>        </div>\n",
              "</body>\n",
              "</html>"
            ]
          },
          "metadata": {
            "tags": []
          }
        }
      ]
    },
    {
      "cell_type": "markdown",
      "metadata": {
        "id": "XFjFTBmnWXI9"
      },
      "source": [
        "##**E9**"
      ]
    },
    {
      "cell_type": "markdown",
      "metadata": {
        "id": "WxIJsIREAgs6"
      },
      "source": [
        "**Motoristas por hora**"
      ]
    },
    {
      "cell_type": "code",
      "metadata": {
        "colab": {
          "base_uri": "https://localhost:8080/",
          "height": 142
        },
        "id": "5LfB-DEyYBmw",
        "outputId": "5cefc9b9-8ffd-467d-a82f-c5dd0b9473a6"
      },
      "source": [
        "dfInfE9.head(3)"
      ],
      "execution_count": 82,
      "outputs": [
        {
          "output_type": "execute_result",
          "data": {
            "text/html": [
              "<div>\n",
              "<style scoped>\n",
              "    .dataframe tbody tr th:only-of-type {\n",
              "        vertical-align: middle;\n",
              "    }\n",
              "\n",
              "    .dataframe tbody tr th {\n",
              "        vertical-align: top;\n",
              "    }\n",
              "\n",
              "    .dataframe thead th {\n",
              "        text-align: right;\n",
              "    }\n",
              "</style>\n",
              "<table border=\"1\" class=\"dataframe\">\n",
              "  <thead>\n",
              "    <tr style=\"text-align: right;\">\n",
              "      <th></th>\n",
              "      <th>Empresa</th>\n",
              "      <th>Escala</th>\n",
              "      <th>Jornada</th>\n",
              "      <th>Intervalos</th>\n",
              "      <th>N° de Colaboradores por turno</th>\n",
              "      <th>Tempo médio de deslocamento</th>\n",
              "      <th>Observação</th>\n",
              "      <th>Unnamed: 7</th>\n",
              "      <th>Inicio</th>\n",
              "      <th>Fim</th>\n",
              "    </tr>\n",
              "  </thead>\n",
              "  <tbody>\n",
              "    <tr>\n",
              "      <th>46</th>\n",
              "      <td>E9</td>\n",
              "      <td>4X2</td>\n",
              "      <td>01 às 13 horas</td>\n",
              "      <td>Mínimo 1 hora</td>\n",
              "      <td>6.0</td>\n",
              "      <td>Aproximadamente 22 min</td>\n",
              "      <td>NaN</td>\n",
              "      <td>NaN</td>\n",
              "      <td>1</td>\n",
              "      <td>13</td>\n",
              "    </tr>\n",
              "    <tr>\n",
              "      <th>47</th>\n",
              "      <td>E9</td>\n",
              "      <td>4X2</td>\n",
              "      <td>02 às 14 horas</td>\n",
              "      <td>Mínimo 1 hora</td>\n",
              "      <td>10.0</td>\n",
              "      <td>Aproximadamente 22 min</td>\n",
              "      <td>NaN</td>\n",
              "      <td>NaN</td>\n",
              "      <td>2</td>\n",
              "      <td>14</td>\n",
              "    </tr>\n",
              "    <tr>\n",
              "      <th>48</th>\n",
              "      <td>E9</td>\n",
              "      <td>4X2</td>\n",
              "      <td>3 às 15 horas</td>\n",
              "      <td>Mínimo 1 hora</td>\n",
              "      <td>10.0</td>\n",
              "      <td>Aproximadamente 22 min</td>\n",
              "      <td>NaN</td>\n",
              "      <td>NaN</td>\n",
              "      <td>3</td>\n",
              "      <td>15</td>\n",
              "    </tr>\n",
              "  </tbody>\n",
              "</table>\n",
              "</div>"
            ],
            "text/plain": [
              "   Empresa Escala         Jornada  ... Unnamed: 7  Inicio Fim\n",
              "46      E9    4X2  01 às 13 horas  ...        NaN       1  13\n",
              "47      E9    4X2  02 às 14 horas  ...        NaN       2  14\n",
              "48      E9    4X2   3 às 15 horas  ...        NaN       3  15\n",
              "\n",
              "[3 rows x 10 columns]"
            ]
          },
          "metadata": {
            "tags": []
          },
          "execution_count": 82
        }
      ]
    },
    {
      "cell_type": "code",
      "metadata": {
        "id": "PbN-Ldk-YBnU"
      },
      "source": [
        "dfE9_motoristas_hora = pd.DataFrame(np.zeros(24, dtype='int64'), columns=['motoristasE9'])\r\n",
        "for index, row in dfInfE9.iterrows():\r\n",
        "    if row['Inicio'] < row['Fim']:\r\n",
        "      dfE9_motoristas_hora['motoristasE9'][row['Inicio']:row['Fim']] += row['N° de Colaboradores por turno']\r\n",
        "    else:\r\n",
        "      dfE9_motoristas_hora['motoristasE9'][0:row['Fim']] += row['N° de Colaboradores por turno']\r\n",
        "      dfE9_motoristas_hora['motoristasE9'][row['Inicio']:24] += row['N° de Colaboradores por turno']"
      ],
      "execution_count": 83,
      "outputs": []
    },
    {
      "cell_type": "code",
      "metadata": {
        "colab": {
          "base_uri": "https://localhost:8080/",
          "height": 824
        },
        "id": "LVU7eY2YYBnW",
        "outputId": "92dcb9f2-2b13-416c-f980-f69cdda568ea"
      },
      "source": [
        "dfE9_motoristas_hora.index.name = 'HORA'\r\n",
        "dfE9_motoristas_hora"
      ],
      "execution_count": 84,
      "outputs": [
        {
          "output_type": "execute_result",
          "data": {
            "text/html": [
              "<div>\n",
              "<style scoped>\n",
              "    .dataframe tbody tr th:only-of-type {\n",
              "        vertical-align: middle;\n",
              "    }\n",
              "\n",
              "    .dataframe tbody tr th {\n",
              "        vertical-align: top;\n",
              "    }\n",
              "\n",
              "    .dataframe thead th {\n",
              "        text-align: right;\n",
              "    }\n",
              "</style>\n",
              "<table border=\"1\" class=\"dataframe\">\n",
              "  <thead>\n",
              "    <tr style=\"text-align: right;\">\n",
              "      <th></th>\n",
              "      <th>motoristasE9</th>\n",
              "    </tr>\n",
              "    <tr>\n",
              "      <th>HORA</th>\n",
              "      <th></th>\n",
              "    </tr>\n",
              "  </thead>\n",
              "  <tbody>\n",
              "    <tr>\n",
              "      <th>0</th>\n",
              "      <td>42.0</td>\n",
              "    </tr>\n",
              "    <tr>\n",
              "      <th>1</th>\n",
              "      <td>38.0</td>\n",
              "    </tr>\n",
              "    <tr>\n",
              "      <th>2</th>\n",
              "      <td>42.0</td>\n",
              "    </tr>\n",
              "    <tr>\n",
              "      <th>3</th>\n",
              "      <td>46.0</td>\n",
              "    </tr>\n",
              "    <tr>\n",
              "      <th>4</th>\n",
              "      <td>50.0</td>\n",
              "    </tr>\n",
              "    <tr>\n",
              "      <th>5</th>\n",
              "      <td>50.0</td>\n",
              "    </tr>\n",
              "    <tr>\n",
              "      <th>6</th>\n",
              "      <td>44.0</td>\n",
              "    </tr>\n",
              "    <tr>\n",
              "      <th>7</th>\n",
              "      <td>48.0</td>\n",
              "    </tr>\n",
              "    <tr>\n",
              "      <th>8</th>\n",
              "      <td>54.0</td>\n",
              "    </tr>\n",
              "    <tr>\n",
              "      <th>9</th>\n",
              "      <td>56.0</td>\n",
              "    </tr>\n",
              "    <tr>\n",
              "      <th>10</th>\n",
              "      <td>58.0</td>\n",
              "    </tr>\n",
              "    <tr>\n",
              "      <th>11</th>\n",
              "      <td>64.0</td>\n",
              "    </tr>\n",
              "    <tr>\n",
              "      <th>12</th>\n",
              "      <td>74.0</td>\n",
              "    </tr>\n",
              "    <tr>\n",
              "      <th>13</th>\n",
              "      <td>78.0</td>\n",
              "    </tr>\n",
              "    <tr>\n",
              "      <th>14</th>\n",
              "      <td>74.0</td>\n",
              "    </tr>\n",
              "    <tr>\n",
              "      <th>15</th>\n",
              "      <td>70.0</td>\n",
              "    </tr>\n",
              "    <tr>\n",
              "      <th>16</th>\n",
              "      <td>66.0</td>\n",
              "    </tr>\n",
              "    <tr>\n",
              "      <th>17</th>\n",
              "      <td>66.0</td>\n",
              "    </tr>\n",
              "    <tr>\n",
              "      <th>18</th>\n",
              "      <td>72.0</td>\n",
              "    </tr>\n",
              "    <tr>\n",
              "      <th>19</th>\n",
              "      <td>68.0</td>\n",
              "    </tr>\n",
              "    <tr>\n",
              "      <th>20</th>\n",
              "      <td>62.0</td>\n",
              "    </tr>\n",
              "    <tr>\n",
              "      <th>21</th>\n",
              "      <td>60.0</td>\n",
              "    </tr>\n",
              "    <tr>\n",
              "      <th>22</th>\n",
              "      <td>58.0</td>\n",
              "    </tr>\n",
              "    <tr>\n",
              "      <th>23</th>\n",
              "      <td>52.0</td>\n",
              "    </tr>\n",
              "  </tbody>\n",
              "</table>\n",
              "</div>"
            ],
            "text/plain": [
              "      motoristasE9\n",
              "HORA              \n",
              "0             42.0\n",
              "1             38.0\n",
              "2             42.0\n",
              "3             46.0\n",
              "4             50.0\n",
              "5             50.0\n",
              "6             44.0\n",
              "7             48.0\n",
              "8             54.0\n",
              "9             56.0\n",
              "10            58.0\n",
              "11            64.0\n",
              "12            74.0\n",
              "13            78.0\n",
              "14            74.0\n",
              "15            70.0\n",
              "16            66.0\n",
              "17            66.0\n",
              "18            72.0\n",
              "19            68.0\n",
              "20            62.0\n",
              "21            60.0\n",
              "22            58.0\n",
              "23            52.0"
            ]
          },
          "metadata": {
            "tags": []
          },
          "execution_count": 84
        }
      ]
    },
    {
      "cell_type": "markdown",
      "metadata": {
        "id": "yENWnLy3WEer"
      },
      "source": [
        "**Eventos por hora**"
      ]
    },
    {
      "cell_type": "code",
      "metadata": {
        "colab": {
          "base_uri": "https://localhost:8080/",
          "height": 142
        },
        "id": "KjrOuaPhWpRP",
        "outputId": "3e200cff-4249-46a2-e73c-de6d18d62836"
      },
      "source": [
        "dfE91H.head(3)"
      ],
      "execution_count": 85,
      "outputs": [
        {
          "output_type": "execute_result",
          "data": {
            "text/html": [
              "<div>\n",
              "<style scoped>\n",
              "    .dataframe tbody tr th:only-of-type {\n",
              "        vertical-align: middle;\n",
              "    }\n",
              "\n",
              "    .dataframe tbody tr th {\n",
              "        vertical-align: top;\n",
              "    }\n",
              "\n",
              "    .dataframe thead th {\n",
              "        text-align: right;\n",
              "    }\n",
              "</style>\n",
              "<table border=\"1\" class=\"dataframe\">\n",
              "  <thead>\n",
              "    <tr style=\"text-align: right;\">\n",
              "      <th></th>\n",
              "      <th>Data da ocorrência</th>\n",
              "      <th>dia</th>\n",
              "      <th>mês</th>\n",
              "      <th>Tipo</th>\n",
              "      <th>Velocidade</th>\n",
              "      <th>Tratativa</th>\n",
              "      <th>Placa</th>\n",
              "      <th>Motorista</th>\n",
              "      <th>Unnamed: 8</th>\n",
              "      <th>HORA</th>\n",
              "    </tr>\n",
              "  </thead>\n",
              "  <tbody>\n",
              "    <tr>\n",
              "      <th>0</th>\n",
              "      <td>2019-04-23 22:59:00</td>\n",
              "      <td>2019-04-23</td>\n",
              "      <td>2019-04-23</td>\n",
              "      <td>Yawn-Warning</td>\n",
              "      <td>35</td>\n",
              "      <td>NaN</td>\n",
              "      <td>PLP3I10</td>\n",
              "      <td>NaN</td>\n",
              "      <td>NaN</td>\n",
              "      <td>22</td>\n",
              "    </tr>\n",
              "    <tr>\n",
              "      <th>1</th>\n",
              "      <td>2019-04-23 19:46:00</td>\n",
              "      <td>2019-04-23</td>\n",
              "      <td>2019-04-23</td>\n",
              "      <td>Yawn-Warning</td>\n",
              "      <td>62</td>\n",
              "      <td>NaN</td>\n",
              "      <td>PLP3I10</td>\n",
              "      <td>NaN</td>\n",
              "      <td>NaN</td>\n",
              "      <td>19</td>\n",
              "    </tr>\n",
              "    <tr>\n",
              "      <th>2</th>\n",
              "      <td>2019-04-24 00:54:00</td>\n",
              "      <td>2019-04-24</td>\n",
              "      <td>2019-04-24</td>\n",
              "      <td>Yawn-Warning</td>\n",
              "      <td>55</td>\n",
              "      <td>NaN</td>\n",
              "      <td>PXO2594</td>\n",
              "      <td>NaN</td>\n",
              "      <td>NaN</td>\n",
              "      <td>0</td>\n",
              "    </tr>\n",
              "  </tbody>\n",
              "</table>\n",
              "</div>"
            ],
            "text/plain": [
              "   Data da ocorrência        dia        mês  ... Motorista  Unnamed: 8 HORA\n",
              "0 2019-04-23 22:59:00 2019-04-23 2019-04-23  ...       NaN         NaN   22\n",
              "1 2019-04-23 19:46:00 2019-04-23 2019-04-23  ...       NaN         NaN   19\n",
              "2 2019-04-24 00:54:00 2019-04-24 2019-04-24  ...       NaN         NaN    0\n",
              "\n",
              "[3 rows x 10 columns]"
            ]
          },
          "metadata": {
            "tags": []
          },
          "execution_count": 85
        }
      ]
    },
    {
      "cell_type": "code",
      "metadata": {
        "colab": {
          "base_uri": "https://localhost:8080/"
        },
        "id": "clTI-pG-GMsI",
        "outputId": "20449bf3-31ab-4e69-e58b-a1afd8c6a9b1"
      },
      "source": [
        "dfE91H.Tipo.value_counts()"
      ],
      "execution_count": 86,
      "outputs": [
        {
          "output_type": "execute_result",
          "data": {
            "text/plain": [
              "Yawn-Warning    6149\n",
              "Tired            573\n",
              "Name: Tipo, dtype: int64"
            ]
          },
          "metadata": {
            "tags": []
          },
          "execution_count": 86
        }
      ]
    },
    {
      "cell_type": "code",
      "metadata": {
        "colab": {
          "base_uri": "https://localhost:8080/"
        },
        "id": "vYG5jP5UHegr",
        "outputId": "89e721eb-7c3e-41a4-82d6-4d3c2f08aa1a"
      },
      "source": [
        "dfE9_yawn = dfE91H[dfE91H['Tipo'] == 'Yawn-Warning']\r\n",
        "dfE9_yawn_final = dfE9_yawn.HORA.value_counts().rename('Yawn-Warning').sort_index()\r\n",
        "dfE9_yawn_final"
      ],
      "execution_count": 87,
      "outputs": [
        {
          "output_type": "execute_result",
          "data": {
            "text/plain": [
              "0     299\n",
              "1     282\n",
              "2     409\n",
              "3     382\n",
              "4     492\n",
              "5     489\n",
              "6     302\n",
              "7     185\n",
              "8     211\n",
              "9     199\n",
              "10    182\n",
              "11    181\n",
              "12    131\n",
              "13    144\n",
              "14    187\n",
              "15    217\n",
              "16    219\n",
              "17    162\n",
              "18    136\n",
              "19    170\n",
              "20    221\n",
              "21    255\n",
              "22    336\n",
              "23    358\n",
              "Name: Yawn-Warning, dtype: int64"
            ]
          },
          "metadata": {
            "tags": []
          },
          "execution_count": 87
        }
      ]
    },
    {
      "cell_type": "code",
      "metadata": {
        "colab": {
          "base_uri": "https://localhost:8080/"
        },
        "id": "QzYrfn5uIAMb",
        "outputId": "21dcbf68-4d50-42dc-fab0-df432a9403cb"
      },
      "source": [
        "dfE9_yawn_final.sum()"
      ],
      "execution_count": 88,
      "outputs": [
        {
          "output_type": "execute_result",
          "data": {
            "text/plain": [
              "6149"
            ]
          },
          "metadata": {
            "tags": []
          },
          "execution_count": 88
        }
      ]
    },
    {
      "cell_type": "code",
      "metadata": {
        "colab": {
          "base_uri": "https://localhost:8080/"
        },
        "id": "s4PZFj5IIEb1",
        "outputId": "312d1785-52ea-4987-83e7-f554fd945f48"
      },
      "source": [
        "dfE9_tired = dfE91H[dfE91H['Tipo'] == 'Tired']\r\n",
        "dfE9_tired_final = dfE9_tired.HORA.value_counts().rename('Tired').sort_index()\r\n",
        "dfE9_tired_final"
      ],
      "execution_count": 89,
      "outputs": [
        {
          "output_type": "execute_result",
          "data": {
            "text/plain": [
              "0     10\n",
              "1     14\n",
              "2     22\n",
              "3     24\n",
              "4     14\n",
              "5     12\n",
              "6     18\n",
              "7     30\n",
              "8     42\n",
              "9     38\n",
              "10    25\n",
              "11    34\n",
              "12    14\n",
              "13    31\n",
              "14    37\n",
              "15    28\n",
              "16    18\n",
              "17    54\n",
              "18    16\n",
              "19     8\n",
              "20     5\n",
              "21    12\n",
              "22    33\n",
              "23    34\n",
              "Name: Tired, dtype: int64"
            ]
          },
          "metadata": {
            "tags": []
          },
          "execution_count": 89
        }
      ]
    },
    {
      "cell_type": "code",
      "metadata": {
        "colab": {
          "base_uri": "https://localhost:8080/"
        },
        "id": "U6c6YNdcIERJ",
        "outputId": "866f44c4-927f-4652-f072-edf45a911710"
      },
      "source": [
        "dfE9_tired_final.sum()"
      ],
      "execution_count": 90,
      "outputs": [
        {
          "output_type": "execute_result",
          "data": {
            "text/plain": [
              "573"
            ]
          },
          "metadata": {
            "tags": []
          },
          "execution_count": 90
        }
      ]
    },
    {
      "cell_type": "code",
      "metadata": {
        "colab": {
          "base_uri": "https://localhost:8080/",
          "height": 142
        },
        "id": "rNYk7TCJcB0e",
        "outputId": "79480627-7cac-4e0c-d507-71203fc8678c"
      },
      "source": [
        "dfE92H.head(3)"
      ],
      "execution_count": 91,
      "outputs": [
        {
          "output_type": "execute_result",
          "data": {
            "text/html": [
              "<div>\n",
              "<style scoped>\n",
              "    .dataframe tbody tr th:only-of-type {\n",
              "        vertical-align: middle;\n",
              "    }\n",
              "\n",
              "    .dataframe tbody tr th {\n",
              "        vertical-align: top;\n",
              "    }\n",
              "\n",
              "    .dataframe thead th {\n",
              "        text-align: right;\n",
              "    }\n",
              "</style>\n",
              "<table border=\"1\" class=\"dataframe\">\n",
              "  <thead>\n",
              "    <tr style=\"text-align: right;\">\n",
              "      <th></th>\n",
              "      <th>Data da ocorrência</th>\n",
              "      <th>dia</th>\n",
              "      <th>mês</th>\n",
              "      <th>Tipo</th>\n",
              "      <th>Velocidade</th>\n",
              "      <th>Tratativa</th>\n",
              "      <th>Placa</th>\n",
              "      <th>Motorista</th>\n",
              "      <th>Unnamed: 8</th>\n",
              "      <th>HORA</th>\n",
              "    </tr>\n",
              "  </thead>\n",
              "  <tbody>\n",
              "    <tr>\n",
              "      <th>0</th>\n",
              "      <td>2019-12-01 23:59:00</td>\n",
              "      <td>2019-12-01</td>\n",
              "      <td>2019-12-01</td>\n",
              "      <td>Atten-Warning</td>\n",
              "      <td>33</td>\n",
              "      <td>NaN</td>\n",
              "      <td>CQU5528</td>\n",
              "      <td>C805</td>\n",
              "      <td>NaN</td>\n",
              "      <td>23</td>\n",
              "    </tr>\n",
              "    <tr>\n",
              "      <th>1</th>\n",
              "      <td>2019-12-01 23:10:00</td>\n",
              "      <td>2019-12-01</td>\n",
              "      <td>2019-12-01</td>\n",
              "      <td>Atten-Warning</td>\n",
              "      <td>37</td>\n",
              "      <td>NaN</td>\n",
              "      <td>QPY2670</td>\n",
              "      <td>C784</td>\n",
              "      <td>NaN</td>\n",
              "      <td>23</td>\n",
              "    </tr>\n",
              "    <tr>\n",
              "      <th>2</th>\n",
              "      <td>2019-12-01 21:52:00</td>\n",
              "      <td>2019-12-01</td>\n",
              "      <td>2019-12-01</td>\n",
              "      <td>Atten-Warning</td>\n",
              "      <td>33</td>\n",
              "      <td>NaN</td>\n",
              "      <td>BSY2450</td>\n",
              "      <td>C752</td>\n",
              "      <td>NaN</td>\n",
              "      <td>21</td>\n",
              "    </tr>\n",
              "  </tbody>\n",
              "</table>\n",
              "</div>"
            ],
            "text/plain": [
              "   Data da ocorrência        dia        mês  ... Motorista  Unnamed: 8 HORA\n",
              "0 2019-12-01 23:59:00 2019-12-01 2019-12-01  ...      C805         NaN   23\n",
              "1 2019-12-01 23:10:00 2019-12-01 2019-12-01  ...      C784         NaN   23\n",
              "2 2019-12-01 21:52:00 2019-12-01 2019-12-01  ...      C752         NaN   21\n",
              "\n",
              "[3 rows x 10 columns]"
            ]
          },
          "metadata": {
            "tags": []
          },
          "execution_count": 91
        }
      ]
    },
    {
      "cell_type": "code",
      "metadata": {
        "colab": {
          "base_uri": "https://localhost:8080/"
        },
        "id": "rhntX51YA5lV",
        "outputId": "533ebd72-3642-4193-e0c9-2d32ff42520f"
      },
      "source": [
        "dfE92H.Tipo.value_counts()"
      ],
      "execution_count": 92,
      "outputs": [
        {
          "output_type": "execute_result",
          "data": {
            "text/plain": [
              "Atten-Warning    2895\n",
              "Name: Tipo, dtype: int64"
            ]
          },
          "metadata": {
            "tags": []
          },
          "execution_count": 92
        }
      ]
    },
    {
      "cell_type": "code",
      "metadata": {
        "colab": {
          "base_uri": "https://localhost:8080/"
        },
        "id": "sDefbrYUIYbZ",
        "outputId": "7e717dce-87dc-4b4e-f8b8-e402eeb2c236"
      },
      "source": [
        "dfE9_at = dfE92H.HORA.value_counts().rename('Atten-Warning').sort_index()\r\n",
        "dfE9_at"
      ],
      "execution_count": 93,
      "outputs": [
        {
          "output_type": "execute_result",
          "data": {
            "text/plain": [
              "0      44\n",
              "1     170\n",
              "2     210\n",
              "3     274\n",
              "4      83\n",
              "5      45\n",
              "6      91\n",
              "7     125\n",
              "8     159\n",
              "9      95\n",
              "10    144\n",
              "11    114\n",
              "12    185\n",
              "13    177\n",
              "14    105\n",
              "15    118\n",
              "16    111\n",
              "17     93\n",
              "18     46\n",
              "19     36\n",
              "20     24\n",
              "21    145\n",
              "22    220\n",
              "23     81\n",
              "Name: Atten-Warning, dtype: int64"
            ]
          },
          "metadata": {
            "tags": []
          },
          "execution_count": 93
        }
      ]
    },
    {
      "cell_type": "code",
      "metadata": {
        "colab": {
          "base_uri": "https://localhost:8080/"
        },
        "id": "JT6hj0N9ItQt",
        "outputId": "0852a991-c09e-4ff6-9ab1-f73839d574d6"
      },
      "source": [
        "dfE9_at.sum()"
      ],
      "execution_count": 94,
      "outputs": [
        {
          "output_type": "execute_result",
          "data": {
            "text/plain": [
              "2895"
            ]
          },
          "metadata": {
            "tags": []
          },
          "execution_count": 94
        }
      ]
    },
    {
      "cell_type": "markdown",
      "metadata": {
        "id": "wB814-hKKLPO"
      },
      "source": [
        "**Acidentes por hora**"
      ]
    },
    {
      "cell_type": "code",
      "metadata": {
        "colab": {
          "base_uri": "https://localhost:8080/",
          "height": 533
        },
        "id": "YC5gHg1UKL0g",
        "outputId": "d5d4248a-b784-4dc0-c80b-b7746685da3a"
      },
      "source": [
        "dfOCO_TM_E9.head(3)"
      ],
      "execution_count": 95,
      "outputs": [
        {
          "output_type": "execute_result",
          "data": {
            "text/html": [
              "<div>\n",
              "<style scoped>\n",
              "    .dataframe tbody tr th:only-of-type {\n",
              "        vertical-align: middle;\n",
              "    }\n",
              "\n",
              "    .dataframe tbody tr th {\n",
              "        vertical-align: top;\n",
              "    }\n",
              "\n",
              "    .dataframe thead th {\n",
              "        text-align: right;\n",
              "    }\n",
              "</style>\n",
              "<table border=\"1\" class=\"dataframe\">\n",
              "  <thead>\n",
              "    <tr style=\"text-align: right;\">\n",
              "      <th></th>\n",
              "      <th>CLASSIFICAÇÃO</th>\n",
              "      <th>EMPRESA</th>\n",
              "      <th>GERÊNCIA</th>\n",
              "      <th>COORDENAÇÃO</th>\n",
              "      <th>SUB ÁREA</th>\n",
              "      <th>NOME</th>\n",
              "      <th>CARGO</th>\n",
              "      <th>TEMPO DE EMPRESA</th>\n",
              "      <th>IDADE</th>\n",
              "      <th>\\nDATA DA OCORRÊNCIA</th>\n",
              "      <th>DIA DA SEMANA</th>\n",
              "      <th>\\nLOCAL DA OCORRÊNCIA</th>\n",
              "      <th>QUALIDADE PISTA</th>\n",
              "      <th>CARACTERISTICA PISTA</th>\n",
              "      <th>SINALIZAÇÃO</th>\n",
              "      <th>CLIMA</th>\n",
              "      <th>PREFIXO</th>\n",
              "      <th>MODELO</th>\n",
              "      <th>CARREGADO</th>\n",
              "      <th>TIPO</th>\n",
              "      <th>DETALHAMENTO</th>\n",
              "      <th>POTENCIAL</th>\n",
              "      <th>SAP</th>\n",
              "      <th>DIA ESCALA</th>\n",
              "      <th>ESCALA</th>\n",
              "      <th>JORNADA</th>\n",
              "      <th>TEMPO DECORRIDO</th>\n",
              "      <th>DORMIU BEM?</th>\n",
              "      <th>PRÓXIMO PERIODO DE FÉRIAS OU FERIADO</th>\n",
              "      <th>ALIMENTOU</th>\n",
              "      <th>PROBLEMAS SAÚDE</th>\n",
              "      <th>USO MEDICAMENTO</th>\n",
              "      <th>USO ALCOOL/DROGA</th>\n",
              "      <th>PRESSÃO</th>\n",
              "      <th>PRESSA PARA CONCLUIR O TRABALHO</th>\n",
              "      <th>DESCRIÇÃO</th>\n",
              "      <th>HorarioAcidente</th>\n",
              "    </tr>\n",
              "    <tr>\n",
              "      <th>HORA</th>\n",
              "      <th></th>\n",
              "      <th></th>\n",
              "      <th></th>\n",
              "      <th></th>\n",
              "      <th></th>\n",
              "      <th></th>\n",
              "      <th></th>\n",
              "      <th></th>\n",
              "      <th></th>\n",
              "      <th></th>\n",
              "      <th></th>\n",
              "      <th></th>\n",
              "      <th></th>\n",
              "      <th></th>\n",
              "      <th></th>\n",
              "      <th></th>\n",
              "      <th></th>\n",
              "      <th></th>\n",
              "      <th></th>\n",
              "      <th></th>\n",
              "      <th></th>\n",
              "      <th></th>\n",
              "      <th></th>\n",
              "      <th></th>\n",
              "      <th></th>\n",
              "      <th></th>\n",
              "      <th></th>\n",
              "      <th></th>\n",
              "      <th></th>\n",
              "      <th></th>\n",
              "      <th></th>\n",
              "      <th></th>\n",
              "      <th></th>\n",
              "      <th></th>\n",
              "      <th></th>\n",
              "      <th></th>\n",
              "      <th></th>\n",
              "    </tr>\n",
              "  </thead>\n",
              "  <tbody>\n",
              "    <tr>\n",
              "      <th>00:01:00</th>\n",
              "      <td>INCIDENTE</td>\n",
              "      <td>E9</td>\n",
              "      <td>GERÊNCIA LOGÍSTICA PR</td>\n",
              "      <td>OPERAÇÕES LOGÍSTICAS PR</td>\n",
              "      <td>OPERAÇÕES LOGÍSTICAS PR</td>\n",
              "      <td>C318</td>\n",
              "      <td>MOTORISTA</td>\n",
              "      <td>12</td>\n",
              "      <td>45.0</td>\n",
              "      <td>2019-04-14</td>\n",
              "      <td>DOMINGO</td>\n",
              "      <td>BR-153</td>\n",
              "      <td>ASFALTADA</td>\n",
              "      <td>NaN</td>\n",
              "      <td>NaN</td>\n",
              "      <td>SEM CHUVA</td>\n",
              "      <td>JSL 001</td>\n",
              "      <td>NaN</td>\n",
              "      <td>NaN</td>\n",
              "      <td>TRANSPORTE DE MADEIRA</td>\n",
              "      <td>O MOTORISTA DA EMPRESA JSL RETORNAVA DA RF ADA...</td>\n",
              "      <td>PF</td>\n",
              "      <td>10033</td>\n",
              "      <td>NaN</td>\n",
              "      <td>NaN</td>\n",
              "      <td>NaN</td>\n",
              "      <td>NaN</td>\n",
              "      <td>NaN</td>\n",
              "      <td>NaN</td>\n",
              "      <td>NaN</td>\n",
              "      <td>NaN</td>\n",
              "      <td>NÃO</td>\n",
              "      <td>NaN</td>\n",
              "      <td>NÃO</td>\n",
              "      <td>NaN</td>\n",
              "      <td>O MOTORISTA TEVE UM APAGÃO DE MEMORIA MAS NÃO ...</td>\n",
              "      <td>0</td>\n",
              "    </tr>\n",
              "    <tr>\n",
              "      <th>01:30:00</th>\n",
              "      <td>IAP</td>\n",
              "      <td>E9</td>\n",
              "      <td>LOGÍSTICA</td>\n",
              "      <td>TRANSPORTE FLORESTAL</td>\n",
              "      <td>LOGÍSTICA</td>\n",
              "      <td>NaN</td>\n",
              "      <td>MOTORISTA</td>\n",
              "      <td>NaN</td>\n",
              "      <td>NaN</td>\n",
              "      <td>2017-11-10</td>\n",
              "      <td>SEXTA-FEIRA</td>\n",
              "      <td>ESTRADA MARGEM DIREITA</td>\n",
              "      <td>ESTRADA DE CHÃO</td>\n",
              "      <td>NaN</td>\n",
              "      <td>NaN</td>\n",
              "      <td>NaN</td>\n",
              "      <td>JSL-110</td>\n",
              "      <td>NaN</td>\n",
              "      <td>SIM</td>\n",
              "      <td>TRANSPORTE DE MADEIRA</td>\n",
              "      <td>O MOTORISTA TRAFEGAVA COM O CAMINHÃO PREFIXO J...</td>\n",
              "      <td>LPG</td>\n",
              "      <td>7488</td>\n",
              "      <td>2.0</td>\n",
              "      <td>4x2</td>\n",
              "      <td>15:00:00</td>\n",
              "      <td>10:30:00</td>\n",
              "      <td>NaN</td>\n",
              "      <td>NaN</td>\n",
              "      <td>NaN</td>\n",
              "      <td>NaN</td>\n",
              "      <td>NaN</td>\n",
              "      <td>NaN</td>\n",
              "      <td>NaN</td>\n",
              "      <td>NaN</td>\n",
              "      <td>APÓS A INVESTIGAÇÃO DA OCORRÊNCIA CONSTATAMOS ...</td>\n",
              "      <td>1</td>\n",
              "    </tr>\n",
              "    <tr>\n",
              "      <th>02:00:00</th>\n",
              "      <td>IBP</td>\n",
              "      <td>E9</td>\n",
              "      <td>GERÊNCIA LOGÍSTICA PR</td>\n",
              "      <td>OPERAÇÕES LOGÍSTICAS PR</td>\n",
              "      <td>OPERAÇÕES LOGÍSTICAS PR</td>\n",
              "      <td>C467</td>\n",
              "      <td>MOTORISTA</td>\n",
              "      <td>20</td>\n",
              "      <td>25.0</td>\n",
              "      <td>2018-08-06</td>\n",
              "      <td>SEGUNDA-FEIRA</td>\n",
              "      <td>DA REGIÃO FLORESTAL BOA ESPERANÇA COM SENTIDO ...</td>\n",
              "      <td>NaN</td>\n",
              "      <td>DECLIVE</td>\n",
              "      <td>NaN</td>\n",
              "      <td>NaN</td>\n",
              "      <td>JSL-008</td>\n",
              "      <td>NaN</td>\n",
              "      <td>SIM</td>\n",
              "      <td>TRANSPORTE DE MADEIRA</td>\n",
              "      <td>MOTORISTA DA EMPRESA JSL, TRAFEGAVA COM CAMINH...</td>\n",
              "      <td>LPL</td>\n",
              "      <td>8765</td>\n",
              "      <td>NaN</td>\n",
              "      <td>NaN</td>\n",
              "      <td>NaN</td>\n",
              "      <td>NaN</td>\n",
              "      <td>NaN</td>\n",
              "      <td>NaN</td>\n",
              "      <td>NaN</td>\n",
              "      <td>NaN</td>\n",
              "      <td>NaN</td>\n",
              "      <td>NaN</td>\n",
              "      <td>NaN</td>\n",
              "      <td>NaN</td>\n",
              "      <td>NaN</td>\n",
              "      <td>2</td>\n",
              "    </tr>\n",
              "  </tbody>\n",
              "</table>\n",
              "</div>"
            ],
            "text/plain": [
              "         CLASSIFICAÇÃO  ... HorarioAcidente\n",
              "HORA                    ...                \n",
              "00:01:00     INCIDENTE  ...               0\n",
              "01:30:00           IAP  ...               1\n",
              "02:00:00           IBP  ...               2\n",
              "\n",
              "[3 rows x 37 columns]"
            ]
          },
          "metadata": {
            "tags": []
          },
          "execution_count": 95
        }
      ]
    },
    {
      "cell_type": "code",
      "metadata": {
        "colab": {
          "base_uri": "https://localhost:8080/"
        },
        "id": "hH9WuktNNt4L",
        "outputId": "0beea3b0-0b18-4dbe-f7ab-26cab34c2692"
      },
      "source": [
        "dfOCO_TM_E9.CARGO.value_counts()"
      ],
      "execution_count": 96,
      "outputs": [
        {
          "output_type": "execute_result",
          "data": {
            "text/plain": [
              "MOTORISTA                         38\n",
              "MOTORISTA                          2\n",
              "MOTORISTA TRANSPORTE FLORESTAL     2\n",
              "Name: CARGO, dtype: int64"
            ]
          },
          "metadata": {
            "tags": []
          },
          "execution_count": 96
        }
      ]
    },
    {
      "cell_type": "code",
      "metadata": {
        "colab": {
          "base_uri": "https://localhost:8080/"
        },
        "id": "_XVmMPLKNt4O",
        "outputId": "a523b886-2de1-4d2d-e828-01461c27a6f6"
      },
      "source": [
        "dfE9_acid_hora = dfOCO_TM_E9.HorarioAcidente.value_counts().sort_index().rename('Acidentes por hora')\r\n",
        "dfE9_acid_hora"
      ],
      "execution_count": 97,
      "outputs": [
        {
          "output_type": "execute_result",
          "data": {
            "text/plain": [
              "0     1\n",
              "1     1\n",
              "2     2\n",
              "4     3\n",
              "5     3\n",
              "7     1\n",
              "8     5\n",
              "9     1\n",
              "10    1\n",
              "11    3\n",
              "13    2\n",
              "14    2\n",
              "15    2\n",
              "17    2\n",
              "18    2\n",
              "19    1\n",
              "20    2\n",
              "21    1\n",
              "22    3\n",
              "23    4\n",
              "Name: Acidentes por hora, dtype: int64"
            ]
          },
          "metadata": {
            "tags": []
          },
          "execution_count": 97
        }
      ]
    },
    {
      "cell_type": "markdown",
      "metadata": {
        "id": "bobVLDn0VDzS"
      },
      "source": [
        "**DF final E9**"
      ]
    },
    {
      "cell_type": "code",
      "metadata": {
        "colab": {
          "base_uri": "https://localhost:8080/",
          "height": 824
        },
        "id": "c4xWk1gwVDzU",
        "outputId": "1214dcf0-2326-4c0d-c1eb-292d136a5abc"
      },
      "source": [
        "dfE9_final = pd.DataFrame(dfE9_motoristas_hora['motoristasE9'],dtype='int64')\r\n",
        "dfE9_final['Yawn'] = pd.DataFrame(dfE9_yawn_final)\r\n",
        "dfE9_final['Tired'] = pd.DataFrame(dfE9_tired_final)\r\n",
        "dfE9_final['Atten-Warning'] = pd.DataFrame(dfE9_at)\r\n",
        "dfE9_final['Acidentes'] = pd.DataFrame(dfE9_acid_hora)\r\n",
        "dfE9_final.fillna(0, inplace=True)\r\n",
        "dfE9_final['Acidentes'] = dfE9_final.Acidentes.astype('int64')\r\n",
        "dfE9_final"
      ],
      "execution_count": 98,
      "outputs": [
        {
          "output_type": "execute_result",
          "data": {
            "text/html": [
              "<div>\n",
              "<style scoped>\n",
              "    .dataframe tbody tr th:only-of-type {\n",
              "        vertical-align: middle;\n",
              "    }\n",
              "\n",
              "    .dataframe tbody tr th {\n",
              "        vertical-align: top;\n",
              "    }\n",
              "\n",
              "    .dataframe thead th {\n",
              "        text-align: right;\n",
              "    }\n",
              "</style>\n",
              "<table border=\"1\" class=\"dataframe\">\n",
              "  <thead>\n",
              "    <tr style=\"text-align: right;\">\n",
              "      <th></th>\n",
              "      <th>motoristasE9</th>\n",
              "      <th>Yawn</th>\n",
              "      <th>Tired</th>\n",
              "      <th>Atten-Warning</th>\n",
              "      <th>Acidentes</th>\n",
              "    </tr>\n",
              "    <tr>\n",
              "      <th>HORA</th>\n",
              "      <th></th>\n",
              "      <th></th>\n",
              "      <th></th>\n",
              "      <th></th>\n",
              "      <th></th>\n",
              "    </tr>\n",
              "  </thead>\n",
              "  <tbody>\n",
              "    <tr>\n",
              "      <th>0</th>\n",
              "      <td>42</td>\n",
              "      <td>299</td>\n",
              "      <td>10</td>\n",
              "      <td>44</td>\n",
              "      <td>1</td>\n",
              "    </tr>\n",
              "    <tr>\n",
              "      <th>1</th>\n",
              "      <td>38</td>\n",
              "      <td>282</td>\n",
              "      <td>14</td>\n",
              "      <td>170</td>\n",
              "      <td>1</td>\n",
              "    </tr>\n",
              "    <tr>\n",
              "      <th>2</th>\n",
              "      <td>42</td>\n",
              "      <td>409</td>\n",
              "      <td>22</td>\n",
              "      <td>210</td>\n",
              "      <td>2</td>\n",
              "    </tr>\n",
              "    <tr>\n",
              "      <th>3</th>\n",
              "      <td>46</td>\n",
              "      <td>382</td>\n",
              "      <td>24</td>\n",
              "      <td>274</td>\n",
              "      <td>0</td>\n",
              "    </tr>\n",
              "    <tr>\n",
              "      <th>4</th>\n",
              "      <td>50</td>\n",
              "      <td>492</td>\n",
              "      <td>14</td>\n",
              "      <td>83</td>\n",
              "      <td>3</td>\n",
              "    </tr>\n",
              "    <tr>\n",
              "      <th>5</th>\n",
              "      <td>50</td>\n",
              "      <td>489</td>\n",
              "      <td>12</td>\n",
              "      <td>45</td>\n",
              "      <td>3</td>\n",
              "    </tr>\n",
              "    <tr>\n",
              "      <th>6</th>\n",
              "      <td>44</td>\n",
              "      <td>302</td>\n",
              "      <td>18</td>\n",
              "      <td>91</td>\n",
              "      <td>0</td>\n",
              "    </tr>\n",
              "    <tr>\n",
              "      <th>7</th>\n",
              "      <td>48</td>\n",
              "      <td>185</td>\n",
              "      <td>30</td>\n",
              "      <td>125</td>\n",
              "      <td>1</td>\n",
              "    </tr>\n",
              "    <tr>\n",
              "      <th>8</th>\n",
              "      <td>54</td>\n",
              "      <td>211</td>\n",
              "      <td>42</td>\n",
              "      <td>159</td>\n",
              "      <td>5</td>\n",
              "    </tr>\n",
              "    <tr>\n",
              "      <th>9</th>\n",
              "      <td>56</td>\n",
              "      <td>199</td>\n",
              "      <td>38</td>\n",
              "      <td>95</td>\n",
              "      <td>1</td>\n",
              "    </tr>\n",
              "    <tr>\n",
              "      <th>10</th>\n",
              "      <td>58</td>\n",
              "      <td>182</td>\n",
              "      <td>25</td>\n",
              "      <td>144</td>\n",
              "      <td>1</td>\n",
              "    </tr>\n",
              "    <tr>\n",
              "      <th>11</th>\n",
              "      <td>64</td>\n",
              "      <td>181</td>\n",
              "      <td>34</td>\n",
              "      <td>114</td>\n",
              "      <td>3</td>\n",
              "    </tr>\n",
              "    <tr>\n",
              "      <th>12</th>\n",
              "      <td>74</td>\n",
              "      <td>131</td>\n",
              "      <td>14</td>\n",
              "      <td>185</td>\n",
              "      <td>0</td>\n",
              "    </tr>\n",
              "    <tr>\n",
              "      <th>13</th>\n",
              "      <td>78</td>\n",
              "      <td>144</td>\n",
              "      <td>31</td>\n",
              "      <td>177</td>\n",
              "      <td>2</td>\n",
              "    </tr>\n",
              "    <tr>\n",
              "      <th>14</th>\n",
              "      <td>74</td>\n",
              "      <td>187</td>\n",
              "      <td>37</td>\n",
              "      <td>105</td>\n",
              "      <td>2</td>\n",
              "    </tr>\n",
              "    <tr>\n",
              "      <th>15</th>\n",
              "      <td>70</td>\n",
              "      <td>217</td>\n",
              "      <td>28</td>\n",
              "      <td>118</td>\n",
              "      <td>2</td>\n",
              "    </tr>\n",
              "    <tr>\n",
              "      <th>16</th>\n",
              "      <td>66</td>\n",
              "      <td>219</td>\n",
              "      <td>18</td>\n",
              "      <td>111</td>\n",
              "      <td>0</td>\n",
              "    </tr>\n",
              "    <tr>\n",
              "      <th>17</th>\n",
              "      <td>66</td>\n",
              "      <td>162</td>\n",
              "      <td>54</td>\n",
              "      <td>93</td>\n",
              "      <td>2</td>\n",
              "    </tr>\n",
              "    <tr>\n",
              "      <th>18</th>\n",
              "      <td>72</td>\n",
              "      <td>136</td>\n",
              "      <td>16</td>\n",
              "      <td>46</td>\n",
              "      <td>2</td>\n",
              "    </tr>\n",
              "    <tr>\n",
              "      <th>19</th>\n",
              "      <td>68</td>\n",
              "      <td>170</td>\n",
              "      <td>8</td>\n",
              "      <td>36</td>\n",
              "      <td>1</td>\n",
              "    </tr>\n",
              "    <tr>\n",
              "      <th>20</th>\n",
              "      <td>62</td>\n",
              "      <td>221</td>\n",
              "      <td>5</td>\n",
              "      <td>24</td>\n",
              "      <td>2</td>\n",
              "    </tr>\n",
              "    <tr>\n",
              "      <th>21</th>\n",
              "      <td>60</td>\n",
              "      <td>255</td>\n",
              "      <td>12</td>\n",
              "      <td>145</td>\n",
              "      <td>1</td>\n",
              "    </tr>\n",
              "    <tr>\n",
              "      <th>22</th>\n",
              "      <td>58</td>\n",
              "      <td>336</td>\n",
              "      <td>33</td>\n",
              "      <td>220</td>\n",
              "      <td>3</td>\n",
              "    </tr>\n",
              "    <tr>\n",
              "      <th>23</th>\n",
              "      <td>52</td>\n",
              "      <td>358</td>\n",
              "      <td>34</td>\n",
              "      <td>81</td>\n",
              "      <td>4</td>\n",
              "    </tr>\n",
              "  </tbody>\n",
              "</table>\n",
              "</div>"
            ],
            "text/plain": [
              "      motoristasE9  Yawn  Tired  Atten-Warning  Acidentes\n",
              "HORA                                                     \n",
              "0               42   299     10             44          1\n",
              "1               38   282     14            170          1\n",
              "2               42   409     22            210          2\n",
              "3               46   382     24            274          0\n",
              "4               50   492     14             83          3\n",
              "5               50   489     12             45          3\n",
              "6               44   302     18             91          0\n",
              "7               48   185     30            125          1\n",
              "8               54   211     42            159          5\n",
              "9               56   199     38             95          1\n",
              "10              58   182     25            144          1\n",
              "11              64   181     34            114          3\n",
              "12              74   131     14            185          0\n",
              "13              78   144     31            177          2\n",
              "14              74   187     37            105          2\n",
              "15              70   217     28            118          2\n",
              "16              66   219     18            111          0\n",
              "17              66   162     54             93          2\n",
              "18              72   136     16             46          2\n",
              "19              68   170      8             36          1\n",
              "20              62   221      5             24          2\n",
              "21              60   255     12            145          1\n",
              "22              58   336     33            220          3\n",
              "23              52   358     34             81          4"
            ]
          },
          "metadata": {
            "tags": []
          },
          "execution_count": 98
        }
      ]
    },
    {
      "cell_type": "markdown",
      "metadata": {
        "id": "ohe9g9F08Nwm"
      },
      "source": [
        "### **Visualização**"
      ]
    },
    {
      "cell_type": "code",
      "metadata": {
        "colab": {
          "base_uri": "https://localhost:8080/"
        },
        "id": "i-4bxNP9HfNP",
        "outputId": "492a44d3-ecd5-4c7f-c95a-4ba722c82458"
      },
      "source": [
        "dfE9_yawn.shape"
      ],
      "execution_count": 100,
      "outputs": [
        {
          "output_type": "execute_result",
          "data": {
            "text/plain": [
              "(6149, 10)"
            ]
          },
          "metadata": {
            "tags": []
          },
          "execution_count": 100
        }
      ]
    },
    {
      "cell_type": "code",
      "metadata": {
        "colab": {
          "base_uri": "https://localhost:8080/"
        },
        "id": "NEioWlfOIJ8N",
        "outputId": "b58ccaa5-1e2a-4bcd-e29b-42bd4c22dcfa"
      },
      "source": [
        "dfE9_yawn.Tipo.value_counts()"
      ],
      "execution_count": 101,
      "outputs": [
        {
          "output_type": "execute_result",
          "data": {
            "text/plain": [
              "Yawn-Warning    6149\n",
              "Name: Tipo, dtype: int64"
            ]
          },
          "metadata": {
            "tags": []
          },
          "execution_count": 101
        }
      ]
    },
    {
      "cell_type": "code",
      "metadata": {
        "colab": {
          "base_uri": "https://localhost:8080/"
        },
        "id": "a1_b5oTr8Nwn",
        "outputId": "e174588c-2b34-4e1c-cabf-f5714f864857"
      },
      "source": [
        "counts, bins = np.histogram(dfE9_yawn['HORA'], bins=range(0, 25, 3))\r\n",
        "counts"
      ],
      "execution_count": 102,
      "outputs": [
        {
          "output_type": "execute_result",
          "data": {
            "text/plain": [
              "array([ 990, 1363,  698,  562,  462,  598,  527,  949])"
            ]
          },
          "metadata": {
            "tags": []
          },
          "execution_count": 102
        }
      ]
    },
    {
      "cell_type": "code",
      "metadata": {
        "colab": {
          "base_uri": "https://localhost:8080/"
        },
        "id": "2SvNEssY8Nwn",
        "outputId": "d07fb428-01c5-401a-97ac-310fc1c5daae"
      },
      "source": [
        "b = np.array(dfE9_final['motoristasE9'])\r\n",
        "print(b)\r\n",
        "c = b.reshape((8,3)).sum(axis=1)\r\n",
        "print(c)"
      ],
      "execution_count": 103,
      "outputs": [
        {
          "output_type": "stream",
          "text": [
            "[42 38 42 46 50 50 44 48 54 56 58 64 74 78 74 70 66 66 72 68 62 60 58 52]\n",
            "[122 146 146 178 226 202 202 170]\n"
          ],
          "name": "stdout"
        }
      ]
    },
    {
      "cell_type": "code",
      "metadata": {
        "colab": {
          "base_uri": "https://localhost:8080/",
          "height": 542
        },
        "id": "Lz-ADRNp8Nwo",
        "outputId": "4793f8be-c758-4f15-e96b-d8b44bea7d06"
      },
      "source": [
        "graphics_plot(y = [counts, counts/c], y_name = ['Events(raw)', 'Events/Drivers'], bins = Nbins, x_tick=ticks,\r\n",
        "              title = 'Events company E9 (Yawn)', yaxes_title = ['Raw', 'Rate'])"
      ],
      "execution_count": 104,
      "outputs": [
        {
          "output_type": "display_data",
          "data": {
            "text/html": [
              "<html>\n",
              "<head><meta charset=\"utf-8\" /></head>\n",
              "<body>\n",
              "    <div>            <script src=\"https://cdnjs.cloudflare.com/ajax/libs/mathjax/2.7.5/MathJax.js?config=TeX-AMS-MML_SVG\"></script><script type=\"text/javascript\">if (window.MathJax) {MathJax.Hub.Config({SVG: {font: \"STIX-Web\"}});}</script>                <script type=\"text/javascript\">window.PlotlyConfig = {MathJaxConfig: 'local'};</script>\n",
              "        <script src=\"https://cdn.plot.ly/plotly-latest.min.js\"></script>                <div id=\"e236a6fc-2033-48d6-a54c-be4c86c67d2d\" class=\"plotly-graph-div\" style=\"height:525px; width:100%;\"></div>            <script type=\"text/javascript\">                                    window.PLOTLYENV=window.PLOTLYENV || {};                                    if (document.getElementById(\"e236a6fc-2033-48d6-a54c-be4c86c67d2d\")) {                    Plotly.newPlot(                        \"e236a6fc-2033-48d6-a54c-be4c86c67d2d\",                        [{\"line\": {\"color\": \"rgb(0, 0, 0)\", \"width\": 2}, \"marker\": {\"size\": 7, \"symbol\": \"circle\"}, \"mode\": \"lines+markers\", \"name\": \"Events(raw)\", \"type\": \"scatter\", \"x\": [0.0, 3.0, 6.0, 9.0, 12.0, 15.0, 18.0, 21.0, 24.0], \"xaxis\": \"x\", \"y\": [990, 1363, 698, 562, 462, 598, 527, 949], \"yaxis\": \"y\"}, {\"line\": {\"color\": \"rgb(0, 0, 0)\", \"dash\": \"dash\", \"width\": 2}, \"marker\": {\"size\": 7, \"symbol\": \"star\"}, \"mode\": \"lines+markers\", \"name\": \"Events/Drivers\", \"type\": \"scatter\", \"x\": [0.0, 3.0, 6.0, 9.0, 12.0, 15.0, 18.0, 21.0, 24.0], \"xaxis\": \"x\", \"y\": [8.114754098360656, 9.335616438356164, 4.780821917808219, 3.157303370786517, 2.0442477876106193, 2.9603960396039604, 2.608910891089109, 5.58235294117647], \"yaxis\": \"y2\"}],                        {\"legend\": {\"orientation\": \"h\", \"x\": 0.95, \"xanchor\": \"right\", \"y\": 1.01, \"yanchor\": \"bottom\"}, \"paper_bgcolor\": \"rgba(0,0,0,0)\", \"plot_bgcolor\": \"rgba(0,0,0,0)\", \"template\": {\"data\": {\"bar\": [{\"error_x\": {\"color\": \"#2a3f5f\"}, \"error_y\": {\"color\": \"#2a3f5f\"}, \"marker\": {\"line\": {\"color\": \"#E5ECF6\", \"width\": 0.5}}, \"type\": \"bar\"}], \"barpolar\": [{\"marker\": {\"line\": {\"color\": \"#E5ECF6\", \"width\": 0.5}}, \"type\": \"barpolar\"}], \"carpet\": [{\"aaxis\": {\"endlinecolor\": \"#2a3f5f\", \"gridcolor\": \"white\", \"linecolor\": \"white\", \"minorgridcolor\": \"white\", \"startlinecolor\": \"#2a3f5f\"}, \"baxis\": {\"endlinecolor\": \"#2a3f5f\", \"gridcolor\": \"white\", \"linecolor\": \"white\", \"minorgridcolor\": \"white\", \"startlinecolor\": \"#2a3f5f\"}, \"type\": \"carpet\"}], \"choropleth\": [{\"colorbar\": {\"outlinewidth\": 0, \"ticks\": \"\"}, \"type\": \"choropleth\"}], \"contour\": [{\"colorbar\": {\"outlinewidth\": 0, \"ticks\": \"\"}, \"colorscale\": [[0.0, \"#0d0887\"], [0.1111111111111111, \"#46039f\"], [0.2222222222222222, \"#7201a8\"], [0.3333333333333333, \"#9c179e\"], [0.4444444444444444, \"#bd3786\"], [0.5555555555555556, \"#d8576b\"], [0.6666666666666666, \"#ed7953\"], [0.7777777777777778, \"#fb9f3a\"], [0.8888888888888888, \"#fdca26\"], [1.0, \"#f0f921\"]], \"type\": \"contour\"}], \"contourcarpet\": [{\"colorbar\": {\"outlinewidth\": 0, \"ticks\": \"\"}, \"type\": \"contourcarpet\"}], \"heatmap\": [{\"colorbar\": {\"outlinewidth\": 0, \"ticks\": \"\"}, \"colorscale\": [[0.0, \"#0d0887\"], [0.1111111111111111, \"#46039f\"], [0.2222222222222222, \"#7201a8\"], [0.3333333333333333, \"#9c179e\"], [0.4444444444444444, \"#bd3786\"], [0.5555555555555556, \"#d8576b\"], [0.6666666666666666, \"#ed7953\"], [0.7777777777777778, \"#fb9f3a\"], [0.8888888888888888, \"#fdca26\"], [1.0, \"#f0f921\"]], \"type\": \"heatmap\"}], \"heatmapgl\": [{\"colorbar\": {\"outlinewidth\": 0, \"ticks\": \"\"}, \"colorscale\": [[0.0, \"#0d0887\"], [0.1111111111111111, \"#46039f\"], [0.2222222222222222, \"#7201a8\"], [0.3333333333333333, \"#9c179e\"], [0.4444444444444444, \"#bd3786\"], [0.5555555555555556, \"#d8576b\"], [0.6666666666666666, \"#ed7953\"], [0.7777777777777778, \"#fb9f3a\"], [0.8888888888888888, \"#fdca26\"], [1.0, \"#f0f921\"]], \"type\": \"heatmapgl\"}], \"histogram\": [{\"marker\": {\"colorbar\": {\"outlinewidth\": 0, \"ticks\": \"\"}}, \"type\": \"histogram\"}], \"histogram2d\": [{\"colorbar\": {\"outlinewidth\": 0, \"ticks\": \"\"}, \"colorscale\": [[0.0, \"#0d0887\"], [0.1111111111111111, \"#46039f\"], [0.2222222222222222, \"#7201a8\"], [0.3333333333333333, \"#9c179e\"], [0.4444444444444444, \"#bd3786\"], [0.5555555555555556, \"#d8576b\"], [0.6666666666666666, \"#ed7953\"], [0.7777777777777778, \"#fb9f3a\"], [0.8888888888888888, \"#fdca26\"], [1.0, \"#f0f921\"]], \"type\": \"histogram2d\"}], \"histogram2dcontour\": [{\"colorbar\": {\"outlinewidth\": 0, \"ticks\": \"\"}, \"colorscale\": [[0.0, \"#0d0887\"], [0.1111111111111111, \"#46039f\"], [0.2222222222222222, \"#7201a8\"], [0.3333333333333333, \"#9c179e\"], [0.4444444444444444, \"#bd3786\"], [0.5555555555555556, \"#d8576b\"], [0.6666666666666666, \"#ed7953\"], [0.7777777777777778, \"#fb9f3a\"], [0.8888888888888888, \"#fdca26\"], [1.0, \"#f0f921\"]], \"type\": \"histogram2dcontour\"}], \"mesh3d\": [{\"colorbar\": {\"outlinewidth\": 0, \"ticks\": \"\"}, \"type\": \"mesh3d\"}], \"parcoords\": [{\"line\": {\"colorbar\": {\"outlinewidth\": 0, \"ticks\": \"\"}}, \"type\": \"parcoords\"}], \"pie\": [{\"automargin\": true, \"type\": \"pie\"}], \"scatter\": [{\"marker\": {\"colorbar\": {\"outlinewidth\": 0, \"ticks\": \"\"}}, \"type\": \"scatter\"}], \"scatter3d\": [{\"line\": {\"colorbar\": {\"outlinewidth\": 0, \"ticks\": \"\"}}, \"marker\": {\"colorbar\": {\"outlinewidth\": 0, \"ticks\": \"\"}}, \"type\": \"scatter3d\"}], \"scattercarpet\": [{\"marker\": {\"colorbar\": {\"outlinewidth\": 0, \"ticks\": \"\"}}, \"type\": \"scattercarpet\"}], \"scattergeo\": [{\"marker\": {\"colorbar\": {\"outlinewidth\": 0, \"ticks\": \"\"}}, \"type\": \"scattergeo\"}], \"scattergl\": [{\"marker\": {\"colorbar\": {\"outlinewidth\": 0, \"ticks\": \"\"}}, \"type\": \"scattergl\"}], \"scattermapbox\": [{\"marker\": {\"colorbar\": {\"outlinewidth\": 0, \"ticks\": \"\"}}, \"type\": \"scattermapbox\"}], \"scatterpolar\": [{\"marker\": {\"colorbar\": {\"outlinewidth\": 0, \"ticks\": \"\"}}, \"type\": \"scatterpolar\"}], \"scatterpolargl\": [{\"marker\": {\"colorbar\": {\"outlinewidth\": 0, \"ticks\": \"\"}}, \"type\": \"scatterpolargl\"}], \"scatterternary\": [{\"marker\": {\"colorbar\": {\"outlinewidth\": 0, \"ticks\": \"\"}}, \"type\": \"scatterternary\"}], \"surface\": [{\"colorbar\": {\"outlinewidth\": 0, \"ticks\": \"\"}, \"colorscale\": [[0.0, \"#0d0887\"], [0.1111111111111111, \"#46039f\"], [0.2222222222222222, \"#7201a8\"], [0.3333333333333333, \"#9c179e\"], [0.4444444444444444, \"#bd3786\"], [0.5555555555555556, \"#d8576b\"], [0.6666666666666666, \"#ed7953\"], [0.7777777777777778, \"#fb9f3a\"], [0.8888888888888888, \"#fdca26\"], [1.0, \"#f0f921\"]], \"type\": \"surface\"}], \"table\": [{\"cells\": {\"fill\": {\"color\": \"#EBF0F8\"}, \"line\": {\"color\": \"white\"}}, \"header\": {\"fill\": {\"color\": \"#C8D4E3\"}, \"line\": {\"color\": \"white\"}}, \"type\": \"table\"}]}, \"layout\": {\"annotationdefaults\": {\"arrowcolor\": \"#2a3f5f\", \"arrowhead\": 0, \"arrowwidth\": 1}, \"autotypenumbers\": \"strict\", \"coloraxis\": {\"colorbar\": {\"outlinewidth\": 0, \"ticks\": \"\"}}, \"colorscale\": {\"diverging\": [[0, \"#8e0152\"], [0.1, \"#c51b7d\"], [0.2, \"#de77ae\"], [0.3, \"#f1b6da\"], [0.4, \"#fde0ef\"], [0.5, \"#f7f7f7\"], [0.6, \"#e6f5d0\"], [0.7, \"#b8e186\"], [0.8, \"#7fbc41\"], [0.9, \"#4d9221\"], [1, \"#276419\"]], \"sequential\": [[0.0, \"#0d0887\"], [0.1111111111111111, \"#46039f\"], [0.2222222222222222, \"#7201a8\"], [0.3333333333333333, \"#9c179e\"], [0.4444444444444444, \"#bd3786\"], [0.5555555555555556, \"#d8576b\"], [0.6666666666666666, \"#ed7953\"], [0.7777777777777778, \"#fb9f3a\"], [0.8888888888888888, \"#fdca26\"], [1.0, \"#f0f921\"]], \"sequentialminus\": [[0.0, \"#0d0887\"], [0.1111111111111111, \"#46039f\"], [0.2222222222222222, \"#7201a8\"], [0.3333333333333333, \"#9c179e\"], [0.4444444444444444, \"#bd3786\"], [0.5555555555555556, \"#d8576b\"], [0.6666666666666666, \"#ed7953\"], [0.7777777777777778, \"#fb9f3a\"], [0.8888888888888888, \"#fdca26\"], [1.0, \"#f0f921\"]]}, \"colorway\": [\"#636efa\", \"#EF553B\", \"#00cc96\", \"#ab63fa\", \"#FFA15A\", \"#19d3f3\", \"#FF6692\", \"#B6E880\", \"#FF97FF\", \"#FECB52\"], \"font\": {\"color\": \"#2a3f5f\"}, \"geo\": {\"bgcolor\": \"white\", \"lakecolor\": \"white\", \"landcolor\": \"#E5ECF6\", \"showlakes\": true, \"showland\": true, \"subunitcolor\": \"white\"}, \"hoverlabel\": {\"align\": \"left\"}, \"hovermode\": \"closest\", \"mapbox\": {\"style\": \"light\"}, \"paper_bgcolor\": \"white\", \"plot_bgcolor\": \"#E5ECF6\", \"polar\": {\"angularaxis\": {\"gridcolor\": \"white\", \"linecolor\": \"white\", \"ticks\": \"\"}, \"bgcolor\": \"#E5ECF6\", \"radialaxis\": {\"gridcolor\": \"white\", \"linecolor\": \"white\", \"ticks\": \"\"}}, \"scene\": {\"xaxis\": {\"backgroundcolor\": \"#E5ECF6\", \"gridcolor\": \"white\", \"gridwidth\": 2, \"linecolor\": \"white\", \"showbackground\": true, \"ticks\": \"\", \"zerolinecolor\": \"white\"}, \"yaxis\": {\"backgroundcolor\": \"#E5ECF6\", \"gridcolor\": \"white\", \"gridwidth\": 2, \"linecolor\": \"white\", \"showbackground\": true, \"ticks\": \"\", \"zerolinecolor\": \"white\"}, \"zaxis\": {\"backgroundcolor\": \"#E5ECF6\", \"gridcolor\": \"white\", \"gridwidth\": 2, \"linecolor\": \"white\", \"showbackground\": true, \"ticks\": \"\", \"zerolinecolor\": \"white\"}}, \"shapedefaults\": {\"line\": {\"color\": \"#2a3f5f\"}}, \"ternary\": {\"aaxis\": {\"gridcolor\": \"white\", \"linecolor\": \"white\", \"ticks\": \"\"}, \"baxis\": {\"gridcolor\": \"white\", \"linecolor\": \"white\", \"ticks\": \"\"}, \"bgcolor\": \"#E5ECF6\", \"caxis\": {\"gridcolor\": \"white\", \"linecolor\": \"white\", \"ticks\": \"\"}}, \"title\": {\"x\": 0.05}, \"xaxis\": {\"automargin\": true, \"gridcolor\": \"white\", \"linecolor\": \"white\", \"ticks\": \"\", \"title\": {\"standoff\": 15}, \"zerolinecolor\": \"white\", \"zerolinewidth\": 2}, \"yaxis\": {\"automargin\": true, \"gridcolor\": \"white\", \"linecolor\": \"white\", \"ticks\": \"\", \"title\": {\"standoff\": 15}, \"zerolinecolor\": \"white\", \"zerolinewidth\": 2}}}, \"title\": {\"text\": \"Events company E9 (Yawn)\"}, \"xaxis\": {\"anchor\": \"y\", \"domain\": [0.0, 0.94], \"dtick\": 3, \"gridcolor\": \"black\", \"gridwidth\": 1, \"linecolor\": \"black\", \"linewidth\": 2, \"mirror\": true, \"showgrid\": true, \"showline\": true, \"tick0\": 0, \"tickmode\": \"linear\", \"title\": {\"text\": \"Time of day\"}}, \"yaxis\": {\"anchor\": \"x\", \"domain\": [0.0, 1.0], \"gridcolor\": \"black\", \"gridwidth\": 1, \"linecolor\": \"black\", \"linewidth\": 2, \"mirror\": true, \"showgrid\": false, \"showline\": true, \"title\": {\"text\": \"<b>Raw</b>\"}}, \"yaxis2\": {\"anchor\": \"x\", \"gridcolor\": \"black\", \"gridwidth\": 1, \"linecolor\": \"black\", \"linewidth\": 2, \"mirror\": true, \"overlaying\": \"y\", \"showgrid\": false, \"showline\": true, \"side\": \"right\", \"title\": {\"text\": \"<b>Rate</b>\"}}},                        {\"responsive\": true}                    ).then(function(){\n",
              "                            \n",
              "var gd = document.getElementById('e236a6fc-2033-48d6-a54c-be4c86c67d2d');\n",
              "var x = new MutationObserver(function (mutations, observer) {{\n",
              "        var display = window.getComputedStyle(gd).display;\n",
              "        if (!display || display === 'none') {{\n",
              "            console.log([gd, 'removed!']);\n",
              "            Plotly.purge(gd);\n",
              "            observer.disconnect();\n",
              "        }}\n",
              "}});\n",
              "\n",
              "// Listen for the removal of the full notebook cells\n",
              "var notebookContainer = gd.closest('#notebook-container');\n",
              "if (notebookContainer) {{\n",
              "    x.observe(notebookContainer, {childList: true});\n",
              "}}\n",
              "\n",
              "// Listen for the clearing of the current output cell\n",
              "var outputEl = gd.closest('.output');\n",
              "if (outputEl) {{\n",
              "    x.observe(outputEl, {childList: true});\n",
              "}}\n",
              "\n",
              "                        })                };                            </script>        </div>\n",
              "</body>\n",
              "</html>"
            ]
          },
          "metadata": {
            "tags": []
          }
        }
      ]
    },
    {
      "cell_type": "code",
      "metadata": {
        "id": "6pA3wB8Q8Nwo",
        "colab": {
          "base_uri": "https://localhost:8080/"
        },
        "outputId": "ecc3feda-7f57-40ac-fe61-31323d8770bf"
      },
      "source": [
        "dfE9_tired.Tipo.value_counts()"
      ],
      "execution_count": 105,
      "outputs": [
        {
          "output_type": "execute_result",
          "data": {
            "text/plain": [
              "Tired    573\n",
              "Name: Tipo, dtype: int64"
            ]
          },
          "metadata": {
            "tags": []
          },
          "execution_count": 105
        }
      ]
    },
    {
      "cell_type": "code",
      "metadata": {
        "colab": {
          "base_uri": "https://localhost:8080/"
        },
        "id": "bz9uUDc3JNay",
        "outputId": "55970424-24b6-44ed-f9c2-42d2c2eea7c6"
      },
      "source": [
        "counts, bins = np.histogram(dfE9_tired['HORA'], bins=range(0, 25, 3))\r\n",
        "counts"
      ],
      "execution_count": 106,
      "outputs": [
        {
          "output_type": "execute_result",
          "data": {
            "text/plain": [
              "array([ 46,  50,  90,  97,  82, 100,  29,  79])"
            ]
          },
          "metadata": {
            "tags": []
          },
          "execution_count": 106
        }
      ]
    },
    {
      "cell_type": "code",
      "metadata": {
        "colab": {
          "base_uri": "https://localhost:8080/",
          "height": 542
        },
        "id": "xh5qMqQjJNbM",
        "outputId": "6f804059-8c86-4769-8cc2-6912c9ab4263"
      },
      "source": [
        "graphics_plot(y = [counts, counts/c], y_name = ['Events(raw)', 'Events/Drivers'],  bins = Nbins, x_tick=ticks,\r\n",
        "              title = 'Events company E9 (Tired)', yaxes_title = ['Raw', 'Rate'])"
      ],
      "execution_count": 107,
      "outputs": [
        {
          "output_type": "display_data",
          "data": {
            "text/html": [
              "<html>\n",
              "<head><meta charset=\"utf-8\" /></head>\n",
              "<body>\n",
              "    <div>            <script src=\"https://cdnjs.cloudflare.com/ajax/libs/mathjax/2.7.5/MathJax.js?config=TeX-AMS-MML_SVG\"></script><script type=\"text/javascript\">if (window.MathJax) {MathJax.Hub.Config({SVG: {font: \"STIX-Web\"}});}</script>                <script type=\"text/javascript\">window.PlotlyConfig = {MathJaxConfig: 'local'};</script>\n",
              "        <script src=\"https://cdn.plot.ly/plotly-latest.min.js\"></script>                <div id=\"603c334c-a261-4fd9-a43f-9503e05e75d7\" class=\"plotly-graph-div\" style=\"height:525px; width:100%;\"></div>            <script type=\"text/javascript\">                                    window.PLOTLYENV=window.PLOTLYENV || {};                                    if (document.getElementById(\"603c334c-a261-4fd9-a43f-9503e05e75d7\")) {                    Plotly.newPlot(                        \"603c334c-a261-4fd9-a43f-9503e05e75d7\",                        [{\"line\": {\"color\": \"rgb(0, 0, 0)\", \"width\": 2}, \"marker\": {\"size\": 7, \"symbol\": \"circle\"}, \"mode\": \"lines+markers\", \"name\": \"Events(raw)\", \"type\": \"scatter\", \"x\": [0.0, 3.0, 6.0, 9.0, 12.0, 15.0, 18.0, 21.0, 24.0], \"xaxis\": \"x\", \"y\": [46, 50, 90, 97, 82, 100, 29, 79], \"yaxis\": \"y\"}, {\"line\": {\"color\": \"rgb(0, 0, 0)\", \"dash\": \"dash\", \"width\": 2}, \"marker\": {\"size\": 7, \"symbol\": \"star\"}, \"mode\": \"lines+markers\", \"name\": \"Events/Drivers\", \"type\": \"scatter\", \"x\": [0.0, 3.0, 6.0, 9.0, 12.0, 15.0, 18.0, 21.0, 24.0], \"xaxis\": \"x\", \"y\": [0.3770491803278688, 0.3424657534246575, 0.6164383561643836, 0.5449438202247191, 0.36283185840707965, 0.49504950495049505, 0.14356435643564355, 0.4647058823529412], \"yaxis\": \"y2\"}],                        {\"legend\": {\"orientation\": \"h\", \"x\": 0.95, \"xanchor\": \"right\", \"y\": 1.01, \"yanchor\": \"bottom\"}, \"paper_bgcolor\": \"rgba(0,0,0,0)\", \"plot_bgcolor\": \"rgba(0,0,0,0)\", \"template\": {\"data\": {\"bar\": [{\"error_x\": {\"color\": \"#2a3f5f\"}, \"error_y\": {\"color\": \"#2a3f5f\"}, \"marker\": {\"line\": {\"color\": \"#E5ECF6\", \"width\": 0.5}}, \"type\": \"bar\"}], \"barpolar\": [{\"marker\": {\"line\": {\"color\": \"#E5ECF6\", \"width\": 0.5}}, \"type\": \"barpolar\"}], \"carpet\": [{\"aaxis\": {\"endlinecolor\": \"#2a3f5f\", \"gridcolor\": \"white\", \"linecolor\": \"white\", \"minorgridcolor\": \"white\", \"startlinecolor\": \"#2a3f5f\"}, \"baxis\": {\"endlinecolor\": \"#2a3f5f\", \"gridcolor\": \"white\", \"linecolor\": \"white\", \"minorgridcolor\": \"white\", \"startlinecolor\": \"#2a3f5f\"}, \"type\": \"carpet\"}], \"choropleth\": [{\"colorbar\": {\"outlinewidth\": 0, \"ticks\": \"\"}, \"type\": \"choropleth\"}], \"contour\": [{\"colorbar\": {\"outlinewidth\": 0, \"ticks\": \"\"}, \"colorscale\": [[0.0, \"#0d0887\"], [0.1111111111111111, \"#46039f\"], [0.2222222222222222, \"#7201a8\"], [0.3333333333333333, \"#9c179e\"], [0.4444444444444444, \"#bd3786\"], [0.5555555555555556, \"#d8576b\"], [0.6666666666666666, \"#ed7953\"], [0.7777777777777778, \"#fb9f3a\"], [0.8888888888888888, \"#fdca26\"], [1.0, \"#f0f921\"]], \"type\": \"contour\"}], \"contourcarpet\": [{\"colorbar\": {\"outlinewidth\": 0, \"ticks\": \"\"}, \"type\": \"contourcarpet\"}], \"heatmap\": [{\"colorbar\": {\"outlinewidth\": 0, \"ticks\": \"\"}, \"colorscale\": [[0.0, \"#0d0887\"], [0.1111111111111111, \"#46039f\"], [0.2222222222222222, \"#7201a8\"], [0.3333333333333333, \"#9c179e\"], [0.4444444444444444, \"#bd3786\"], [0.5555555555555556, \"#d8576b\"], [0.6666666666666666, \"#ed7953\"], [0.7777777777777778, \"#fb9f3a\"], [0.8888888888888888, \"#fdca26\"], [1.0, \"#f0f921\"]], \"type\": \"heatmap\"}], \"heatmapgl\": [{\"colorbar\": {\"outlinewidth\": 0, \"ticks\": \"\"}, \"colorscale\": [[0.0, \"#0d0887\"], [0.1111111111111111, \"#46039f\"], [0.2222222222222222, \"#7201a8\"], [0.3333333333333333, \"#9c179e\"], [0.4444444444444444, \"#bd3786\"], [0.5555555555555556, \"#d8576b\"], [0.6666666666666666, \"#ed7953\"], [0.7777777777777778, \"#fb9f3a\"], [0.8888888888888888, \"#fdca26\"], [1.0, \"#f0f921\"]], \"type\": \"heatmapgl\"}], \"histogram\": [{\"marker\": {\"colorbar\": {\"outlinewidth\": 0, \"ticks\": \"\"}}, \"type\": \"histogram\"}], \"histogram2d\": [{\"colorbar\": {\"outlinewidth\": 0, \"ticks\": \"\"}, \"colorscale\": [[0.0, \"#0d0887\"], [0.1111111111111111, \"#46039f\"], [0.2222222222222222, \"#7201a8\"], [0.3333333333333333, \"#9c179e\"], [0.4444444444444444, \"#bd3786\"], [0.5555555555555556, \"#d8576b\"], [0.6666666666666666, \"#ed7953\"], [0.7777777777777778, \"#fb9f3a\"], [0.8888888888888888, \"#fdca26\"], [1.0, \"#f0f921\"]], \"type\": \"histogram2d\"}], \"histogram2dcontour\": [{\"colorbar\": {\"outlinewidth\": 0, \"ticks\": \"\"}, \"colorscale\": [[0.0, \"#0d0887\"], [0.1111111111111111, \"#46039f\"], [0.2222222222222222, \"#7201a8\"], [0.3333333333333333, \"#9c179e\"], [0.4444444444444444, \"#bd3786\"], [0.5555555555555556, \"#d8576b\"], [0.6666666666666666, \"#ed7953\"], [0.7777777777777778, \"#fb9f3a\"], [0.8888888888888888, \"#fdca26\"], [1.0, \"#f0f921\"]], \"type\": \"histogram2dcontour\"}], \"mesh3d\": [{\"colorbar\": {\"outlinewidth\": 0, \"ticks\": \"\"}, \"type\": \"mesh3d\"}], \"parcoords\": [{\"line\": {\"colorbar\": {\"outlinewidth\": 0, \"ticks\": \"\"}}, \"type\": \"parcoords\"}], \"pie\": [{\"automargin\": true, \"type\": \"pie\"}], \"scatter\": [{\"marker\": {\"colorbar\": {\"outlinewidth\": 0, \"ticks\": \"\"}}, \"type\": \"scatter\"}], \"scatter3d\": [{\"line\": {\"colorbar\": {\"outlinewidth\": 0, \"ticks\": \"\"}}, \"marker\": {\"colorbar\": {\"outlinewidth\": 0, \"ticks\": \"\"}}, \"type\": \"scatter3d\"}], \"scattercarpet\": [{\"marker\": {\"colorbar\": {\"outlinewidth\": 0, \"ticks\": \"\"}}, \"type\": \"scattercarpet\"}], \"scattergeo\": [{\"marker\": {\"colorbar\": {\"outlinewidth\": 0, \"ticks\": \"\"}}, \"type\": \"scattergeo\"}], \"scattergl\": [{\"marker\": {\"colorbar\": {\"outlinewidth\": 0, \"ticks\": \"\"}}, \"type\": \"scattergl\"}], \"scattermapbox\": [{\"marker\": {\"colorbar\": {\"outlinewidth\": 0, \"ticks\": \"\"}}, \"type\": \"scattermapbox\"}], \"scatterpolar\": [{\"marker\": {\"colorbar\": {\"outlinewidth\": 0, \"ticks\": \"\"}}, \"type\": \"scatterpolar\"}], \"scatterpolargl\": [{\"marker\": {\"colorbar\": {\"outlinewidth\": 0, \"ticks\": \"\"}}, \"type\": \"scatterpolargl\"}], \"scatterternary\": [{\"marker\": {\"colorbar\": {\"outlinewidth\": 0, \"ticks\": \"\"}}, \"type\": \"scatterternary\"}], \"surface\": [{\"colorbar\": {\"outlinewidth\": 0, \"ticks\": \"\"}, \"colorscale\": [[0.0, \"#0d0887\"], [0.1111111111111111, \"#46039f\"], [0.2222222222222222, \"#7201a8\"], [0.3333333333333333, \"#9c179e\"], [0.4444444444444444, \"#bd3786\"], [0.5555555555555556, \"#d8576b\"], [0.6666666666666666, \"#ed7953\"], [0.7777777777777778, \"#fb9f3a\"], [0.8888888888888888, \"#fdca26\"], [1.0, \"#f0f921\"]], \"type\": \"surface\"}], \"table\": [{\"cells\": {\"fill\": {\"color\": \"#EBF0F8\"}, \"line\": {\"color\": \"white\"}}, \"header\": {\"fill\": {\"color\": \"#C8D4E3\"}, \"line\": {\"color\": \"white\"}}, \"type\": \"table\"}]}, \"layout\": {\"annotationdefaults\": {\"arrowcolor\": \"#2a3f5f\", \"arrowhead\": 0, \"arrowwidth\": 1}, \"autotypenumbers\": \"strict\", \"coloraxis\": {\"colorbar\": {\"outlinewidth\": 0, \"ticks\": \"\"}}, \"colorscale\": {\"diverging\": [[0, \"#8e0152\"], [0.1, \"#c51b7d\"], [0.2, \"#de77ae\"], [0.3, \"#f1b6da\"], [0.4, \"#fde0ef\"], [0.5, \"#f7f7f7\"], [0.6, \"#e6f5d0\"], [0.7, \"#b8e186\"], [0.8, \"#7fbc41\"], [0.9, \"#4d9221\"], [1, \"#276419\"]], \"sequential\": [[0.0, \"#0d0887\"], [0.1111111111111111, \"#46039f\"], [0.2222222222222222, \"#7201a8\"], [0.3333333333333333, \"#9c179e\"], [0.4444444444444444, \"#bd3786\"], [0.5555555555555556, \"#d8576b\"], [0.6666666666666666, \"#ed7953\"], [0.7777777777777778, \"#fb9f3a\"], [0.8888888888888888, \"#fdca26\"], [1.0, \"#f0f921\"]], \"sequentialminus\": [[0.0, \"#0d0887\"], [0.1111111111111111, \"#46039f\"], [0.2222222222222222, \"#7201a8\"], [0.3333333333333333, \"#9c179e\"], [0.4444444444444444, \"#bd3786\"], [0.5555555555555556, \"#d8576b\"], [0.6666666666666666, \"#ed7953\"], [0.7777777777777778, \"#fb9f3a\"], [0.8888888888888888, \"#fdca26\"], [1.0, \"#f0f921\"]]}, \"colorway\": [\"#636efa\", \"#EF553B\", \"#00cc96\", \"#ab63fa\", \"#FFA15A\", \"#19d3f3\", \"#FF6692\", \"#B6E880\", \"#FF97FF\", \"#FECB52\"], \"font\": {\"color\": \"#2a3f5f\"}, \"geo\": {\"bgcolor\": \"white\", \"lakecolor\": \"white\", \"landcolor\": \"#E5ECF6\", \"showlakes\": true, \"showland\": true, \"subunitcolor\": \"white\"}, \"hoverlabel\": {\"align\": \"left\"}, \"hovermode\": \"closest\", \"mapbox\": {\"style\": \"light\"}, \"paper_bgcolor\": \"white\", \"plot_bgcolor\": \"#E5ECF6\", \"polar\": {\"angularaxis\": {\"gridcolor\": \"white\", \"linecolor\": \"white\", \"ticks\": \"\"}, \"bgcolor\": \"#E5ECF6\", \"radialaxis\": {\"gridcolor\": \"white\", \"linecolor\": \"white\", \"ticks\": \"\"}}, \"scene\": {\"xaxis\": {\"backgroundcolor\": \"#E5ECF6\", \"gridcolor\": \"white\", \"gridwidth\": 2, \"linecolor\": \"white\", \"showbackground\": true, \"ticks\": \"\", \"zerolinecolor\": \"white\"}, \"yaxis\": {\"backgroundcolor\": \"#E5ECF6\", \"gridcolor\": \"white\", \"gridwidth\": 2, \"linecolor\": \"white\", \"showbackground\": true, \"ticks\": \"\", \"zerolinecolor\": \"white\"}, \"zaxis\": {\"backgroundcolor\": \"#E5ECF6\", \"gridcolor\": \"white\", \"gridwidth\": 2, \"linecolor\": \"white\", \"showbackground\": true, \"ticks\": \"\", \"zerolinecolor\": \"white\"}}, \"shapedefaults\": {\"line\": {\"color\": \"#2a3f5f\"}}, \"ternary\": {\"aaxis\": {\"gridcolor\": \"white\", \"linecolor\": \"white\", \"ticks\": \"\"}, \"baxis\": {\"gridcolor\": \"white\", \"linecolor\": \"white\", \"ticks\": \"\"}, \"bgcolor\": \"#E5ECF6\", \"caxis\": {\"gridcolor\": \"white\", \"linecolor\": \"white\", \"ticks\": \"\"}}, \"title\": {\"x\": 0.05}, \"xaxis\": {\"automargin\": true, \"gridcolor\": \"white\", \"linecolor\": \"white\", \"ticks\": \"\", \"title\": {\"standoff\": 15}, \"zerolinecolor\": \"white\", \"zerolinewidth\": 2}, \"yaxis\": {\"automargin\": true, \"gridcolor\": \"white\", \"linecolor\": \"white\", \"ticks\": \"\", \"title\": {\"standoff\": 15}, \"zerolinecolor\": \"white\", \"zerolinewidth\": 2}}}, \"title\": {\"text\": \"Events company E9 (Tired)\"}, \"xaxis\": {\"anchor\": \"y\", \"domain\": [0.0, 0.94], \"dtick\": 3, \"gridcolor\": \"black\", \"gridwidth\": 1, \"linecolor\": \"black\", \"linewidth\": 2, \"mirror\": true, \"showgrid\": true, \"showline\": true, \"tick0\": 0, \"tickmode\": \"linear\", \"title\": {\"text\": \"Time of day\"}}, \"yaxis\": {\"anchor\": \"x\", \"domain\": [0.0, 1.0], \"gridcolor\": \"black\", \"gridwidth\": 1, \"linecolor\": \"black\", \"linewidth\": 2, \"mirror\": true, \"showgrid\": false, \"showline\": true, \"title\": {\"text\": \"<b>Raw</b>\"}}, \"yaxis2\": {\"anchor\": \"x\", \"gridcolor\": \"black\", \"gridwidth\": 1, \"linecolor\": \"black\", \"linewidth\": 2, \"mirror\": true, \"overlaying\": \"y\", \"showgrid\": false, \"showline\": true, \"side\": \"right\", \"title\": {\"text\": \"<b>Rate</b>\"}}},                        {\"responsive\": true}                    ).then(function(){\n",
              "                            \n",
              "var gd = document.getElementById('603c334c-a261-4fd9-a43f-9503e05e75d7');\n",
              "var x = new MutationObserver(function (mutations, observer) {{\n",
              "        var display = window.getComputedStyle(gd).display;\n",
              "        if (!display || display === 'none') {{\n",
              "            console.log([gd, 'removed!']);\n",
              "            Plotly.purge(gd);\n",
              "            observer.disconnect();\n",
              "        }}\n",
              "}});\n",
              "\n",
              "// Listen for the removal of the full notebook cells\n",
              "var notebookContainer = gd.closest('#notebook-container');\n",
              "if (notebookContainer) {{\n",
              "    x.observe(notebookContainer, {childList: true});\n",
              "}}\n",
              "\n",
              "// Listen for the clearing of the current output cell\n",
              "var outputEl = gd.closest('.output');\n",
              "if (outputEl) {{\n",
              "    x.observe(outputEl, {childList: true});\n",
              "}}\n",
              "\n",
              "                        })                };                            </script>        </div>\n",
              "</body>\n",
              "</html>"
            ]
          },
          "metadata": {
            "tags": []
          }
        }
      ]
    },
    {
      "cell_type": "code",
      "metadata": {
        "colab": {
          "base_uri": "https://localhost:8080/"
        },
        "id": "Z5oHFfapJyqw",
        "outputId": "52ed4016-cf45-41cc-dc90-39e760b95c42"
      },
      "source": [
        "dfE92H.shape"
      ],
      "execution_count": 108,
      "outputs": [
        {
          "output_type": "execute_result",
          "data": {
            "text/plain": [
              "(2895, 10)"
            ]
          },
          "metadata": {
            "tags": []
          },
          "execution_count": 108
        }
      ]
    },
    {
      "cell_type": "code",
      "metadata": {
        "colab": {
          "base_uri": "https://localhost:8080/"
        },
        "id": "PpPJ07NJJyqw",
        "outputId": "c621cc61-4611-4c50-ae7f-7ffd5c4d865a"
      },
      "source": [
        "dfE92H.Tipo.value_counts()"
      ],
      "execution_count": 109,
      "outputs": [
        {
          "output_type": "execute_result",
          "data": {
            "text/plain": [
              "Atten-Warning    2895\n",
              "Name: Tipo, dtype: int64"
            ]
          },
          "metadata": {
            "tags": []
          },
          "execution_count": 109
        }
      ]
    },
    {
      "cell_type": "code",
      "metadata": {
        "colab": {
          "base_uri": "https://localhost:8080/"
        },
        "id": "JF8eVRXNJyqx",
        "outputId": "d447fd26-cb2c-406c-89dd-baa2cbce263e"
      },
      "source": [
        "dfE92_at = dfE92H[dfE92H.Tipo == 'Atten-Warning']\r\n",
        "dfE92_at.shape"
      ],
      "execution_count": 110,
      "outputs": [
        {
          "output_type": "execute_result",
          "data": {
            "text/plain": [
              "(2895, 10)"
            ]
          },
          "metadata": {
            "tags": []
          },
          "execution_count": 110
        }
      ]
    },
    {
      "cell_type": "code",
      "metadata": {
        "colab": {
          "base_uri": "https://localhost:8080/"
        },
        "id": "wK6DcL6XJi7x",
        "outputId": "bcb9e344-318d-4b39-ceee-2f28252657e5"
      },
      "source": [
        "counts, bins = np.histogram(dfE92_at['HORA'], bins=range(0, 25, 3))\r\n",
        "counts"
      ],
      "execution_count": 111,
      "outputs": [
        {
          "output_type": "execute_result",
          "data": {
            "text/plain": [
              "array([424, 402, 375, 353, 467, 322, 106, 446])"
            ]
          },
          "metadata": {
            "tags": []
          },
          "execution_count": 111
        }
      ]
    },
    {
      "cell_type": "code",
      "metadata": {
        "colab": {
          "base_uri": "https://localhost:8080/",
          "height": 542
        },
        "id": "o7TgXtROJi71",
        "outputId": "23ef836b-03dd-4bd3-a078-ac680570c514"
      },
      "source": [
        "graphics_plot(y = [counts, counts/c], y_name = ['Events(raw)', 'Events/Drivers'], bins = Nbins,\r\n",
        "              title = 'Events company E9 (Atten-Warning)', yaxes_title = ['Raw', 'Rate'], x_tick = ticks,\r\n",
        "              #save=True\r\n",
        "              )"
      ],
      "execution_count": 112,
      "outputs": [
        {
          "output_type": "display_data",
          "data": {
            "text/html": [
              "<html>\n",
              "<head><meta charset=\"utf-8\" /></head>\n",
              "<body>\n",
              "    <div>            <script src=\"https://cdnjs.cloudflare.com/ajax/libs/mathjax/2.7.5/MathJax.js?config=TeX-AMS-MML_SVG\"></script><script type=\"text/javascript\">if (window.MathJax) {MathJax.Hub.Config({SVG: {font: \"STIX-Web\"}});}</script>                <script type=\"text/javascript\">window.PlotlyConfig = {MathJaxConfig: 'local'};</script>\n",
              "        <script src=\"https://cdn.plot.ly/plotly-latest.min.js\"></script>                <div id=\"0364e058-4f23-4b77-9ff2-5192dcd632ba\" class=\"plotly-graph-div\" style=\"height:525px; width:100%;\"></div>            <script type=\"text/javascript\">                                    window.PLOTLYENV=window.PLOTLYENV || {};                                    if (document.getElementById(\"0364e058-4f23-4b77-9ff2-5192dcd632ba\")) {                    Plotly.newPlot(                        \"0364e058-4f23-4b77-9ff2-5192dcd632ba\",                        [{\"line\": {\"color\": \"rgb(0, 0, 0)\", \"width\": 2}, \"marker\": {\"size\": 7, \"symbol\": \"circle\"}, \"mode\": \"lines+markers\", \"name\": \"Events(raw)\", \"type\": \"scatter\", \"x\": [0.0, 3.0, 6.0, 9.0, 12.0, 15.0, 18.0, 21.0, 24.0], \"xaxis\": \"x\", \"y\": [424, 402, 375, 353, 467, 322, 106, 446], \"yaxis\": \"y\"}, {\"line\": {\"color\": \"rgb(0, 0, 0)\", \"dash\": \"dash\", \"width\": 2}, \"marker\": {\"size\": 7, \"symbol\": \"star\"}, \"mode\": \"lines+markers\", \"name\": \"Events/Drivers\", \"type\": \"scatter\", \"x\": [0.0, 3.0, 6.0, 9.0, 12.0, 15.0, 18.0, 21.0, 24.0], \"xaxis\": \"x\", \"y\": [3.4754098360655736, 2.7534246575342465, 2.5684931506849313, 1.9831460674157304, 2.066371681415929, 1.5940594059405941, 0.5247524752475248, 2.623529411764706], \"yaxis\": \"y2\"}],                        {\"legend\": {\"orientation\": \"h\", \"x\": 0.95, \"xanchor\": \"right\", \"y\": 1.01, \"yanchor\": \"bottom\"}, \"paper_bgcolor\": \"rgba(0,0,0,0)\", \"plot_bgcolor\": \"rgba(0,0,0,0)\", \"template\": {\"data\": {\"bar\": [{\"error_x\": {\"color\": \"#2a3f5f\"}, \"error_y\": {\"color\": \"#2a3f5f\"}, \"marker\": {\"line\": {\"color\": \"#E5ECF6\", \"width\": 0.5}}, \"type\": \"bar\"}], \"barpolar\": [{\"marker\": {\"line\": {\"color\": \"#E5ECF6\", \"width\": 0.5}}, \"type\": \"barpolar\"}], \"carpet\": [{\"aaxis\": {\"endlinecolor\": \"#2a3f5f\", \"gridcolor\": \"white\", \"linecolor\": \"white\", \"minorgridcolor\": \"white\", \"startlinecolor\": \"#2a3f5f\"}, \"baxis\": {\"endlinecolor\": \"#2a3f5f\", \"gridcolor\": \"white\", \"linecolor\": \"white\", \"minorgridcolor\": \"white\", \"startlinecolor\": \"#2a3f5f\"}, \"type\": \"carpet\"}], \"choropleth\": [{\"colorbar\": {\"outlinewidth\": 0, \"ticks\": \"\"}, \"type\": \"choropleth\"}], \"contour\": [{\"colorbar\": {\"outlinewidth\": 0, \"ticks\": \"\"}, \"colorscale\": [[0.0, \"#0d0887\"], [0.1111111111111111, \"#46039f\"], [0.2222222222222222, \"#7201a8\"], [0.3333333333333333, \"#9c179e\"], [0.4444444444444444, \"#bd3786\"], [0.5555555555555556, \"#d8576b\"], [0.6666666666666666, \"#ed7953\"], [0.7777777777777778, \"#fb9f3a\"], [0.8888888888888888, \"#fdca26\"], [1.0, \"#f0f921\"]], \"type\": \"contour\"}], \"contourcarpet\": [{\"colorbar\": {\"outlinewidth\": 0, \"ticks\": \"\"}, \"type\": \"contourcarpet\"}], \"heatmap\": [{\"colorbar\": {\"outlinewidth\": 0, \"ticks\": \"\"}, \"colorscale\": [[0.0, \"#0d0887\"], [0.1111111111111111, \"#46039f\"], [0.2222222222222222, \"#7201a8\"], [0.3333333333333333, \"#9c179e\"], [0.4444444444444444, \"#bd3786\"], [0.5555555555555556, \"#d8576b\"], [0.6666666666666666, \"#ed7953\"], [0.7777777777777778, \"#fb9f3a\"], [0.8888888888888888, \"#fdca26\"], [1.0, \"#f0f921\"]], \"type\": \"heatmap\"}], \"heatmapgl\": [{\"colorbar\": {\"outlinewidth\": 0, \"ticks\": \"\"}, \"colorscale\": [[0.0, \"#0d0887\"], [0.1111111111111111, \"#46039f\"], [0.2222222222222222, \"#7201a8\"], [0.3333333333333333, \"#9c179e\"], [0.4444444444444444, \"#bd3786\"], [0.5555555555555556, \"#d8576b\"], [0.6666666666666666, \"#ed7953\"], [0.7777777777777778, \"#fb9f3a\"], [0.8888888888888888, \"#fdca26\"], [1.0, \"#f0f921\"]], \"type\": \"heatmapgl\"}], \"histogram\": [{\"marker\": {\"colorbar\": {\"outlinewidth\": 0, \"ticks\": \"\"}}, \"type\": \"histogram\"}], \"histogram2d\": [{\"colorbar\": {\"outlinewidth\": 0, \"ticks\": \"\"}, \"colorscale\": [[0.0, \"#0d0887\"], [0.1111111111111111, \"#46039f\"], [0.2222222222222222, \"#7201a8\"], [0.3333333333333333, \"#9c179e\"], [0.4444444444444444, \"#bd3786\"], [0.5555555555555556, \"#d8576b\"], [0.6666666666666666, \"#ed7953\"], [0.7777777777777778, \"#fb9f3a\"], [0.8888888888888888, \"#fdca26\"], [1.0, \"#f0f921\"]], \"type\": \"histogram2d\"}], \"histogram2dcontour\": [{\"colorbar\": {\"outlinewidth\": 0, \"ticks\": \"\"}, \"colorscale\": [[0.0, \"#0d0887\"], [0.1111111111111111, \"#46039f\"], [0.2222222222222222, \"#7201a8\"], [0.3333333333333333, \"#9c179e\"], [0.4444444444444444, \"#bd3786\"], [0.5555555555555556, \"#d8576b\"], [0.6666666666666666, \"#ed7953\"], [0.7777777777777778, \"#fb9f3a\"], [0.8888888888888888, \"#fdca26\"], [1.0, \"#f0f921\"]], \"type\": \"histogram2dcontour\"}], \"mesh3d\": [{\"colorbar\": {\"outlinewidth\": 0, \"ticks\": \"\"}, \"type\": \"mesh3d\"}], \"parcoords\": [{\"line\": {\"colorbar\": {\"outlinewidth\": 0, \"ticks\": \"\"}}, \"type\": \"parcoords\"}], \"pie\": [{\"automargin\": true, \"type\": \"pie\"}], \"scatter\": [{\"marker\": {\"colorbar\": {\"outlinewidth\": 0, \"ticks\": \"\"}}, \"type\": \"scatter\"}], \"scatter3d\": [{\"line\": {\"colorbar\": {\"outlinewidth\": 0, \"ticks\": \"\"}}, \"marker\": {\"colorbar\": {\"outlinewidth\": 0, \"ticks\": \"\"}}, \"type\": \"scatter3d\"}], \"scattercarpet\": [{\"marker\": {\"colorbar\": {\"outlinewidth\": 0, \"ticks\": \"\"}}, \"type\": \"scattercarpet\"}], \"scattergeo\": [{\"marker\": {\"colorbar\": {\"outlinewidth\": 0, \"ticks\": \"\"}}, \"type\": \"scattergeo\"}], \"scattergl\": [{\"marker\": {\"colorbar\": {\"outlinewidth\": 0, \"ticks\": \"\"}}, \"type\": \"scattergl\"}], \"scattermapbox\": [{\"marker\": {\"colorbar\": {\"outlinewidth\": 0, \"ticks\": \"\"}}, \"type\": \"scattermapbox\"}], \"scatterpolar\": [{\"marker\": {\"colorbar\": {\"outlinewidth\": 0, \"ticks\": \"\"}}, \"type\": \"scatterpolar\"}], \"scatterpolargl\": [{\"marker\": {\"colorbar\": {\"outlinewidth\": 0, \"ticks\": \"\"}}, \"type\": \"scatterpolargl\"}], \"scatterternary\": [{\"marker\": {\"colorbar\": {\"outlinewidth\": 0, \"ticks\": \"\"}}, \"type\": \"scatterternary\"}], \"surface\": [{\"colorbar\": {\"outlinewidth\": 0, \"ticks\": \"\"}, \"colorscale\": [[0.0, \"#0d0887\"], [0.1111111111111111, \"#46039f\"], [0.2222222222222222, \"#7201a8\"], [0.3333333333333333, \"#9c179e\"], [0.4444444444444444, \"#bd3786\"], [0.5555555555555556, \"#d8576b\"], [0.6666666666666666, \"#ed7953\"], [0.7777777777777778, \"#fb9f3a\"], [0.8888888888888888, \"#fdca26\"], [1.0, \"#f0f921\"]], \"type\": \"surface\"}], \"table\": [{\"cells\": {\"fill\": {\"color\": \"#EBF0F8\"}, \"line\": {\"color\": \"white\"}}, \"header\": {\"fill\": {\"color\": \"#C8D4E3\"}, \"line\": {\"color\": \"white\"}}, \"type\": \"table\"}]}, \"layout\": {\"annotationdefaults\": {\"arrowcolor\": \"#2a3f5f\", \"arrowhead\": 0, \"arrowwidth\": 1}, \"autotypenumbers\": \"strict\", \"coloraxis\": {\"colorbar\": {\"outlinewidth\": 0, \"ticks\": \"\"}}, \"colorscale\": {\"diverging\": [[0, \"#8e0152\"], [0.1, \"#c51b7d\"], [0.2, \"#de77ae\"], [0.3, \"#f1b6da\"], [0.4, \"#fde0ef\"], [0.5, \"#f7f7f7\"], [0.6, \"#e6f5d0\"], [0.7, \"#b8e186\"], [0.8, \"#7fbc41\"], [0.9, \"#4d9221\"], [1, \"#276419\"]], \"sequential\": [[0.0, \"#0d0887\"], [0.1111111111111111, \"#46039f\"], [0.2222222222222222, \"#7201a8\"], [0.3333333333333333, \"#9c179e\"], [0.4444444444444444, \"#bd3786\"], [0.5555555555555556, \"#d8576b\"], [0.6666666666666666, \"#ed7953\"], [0.7777777777777778, \"#fb9f3a\"], [0.8888888888888888, \"#fdca26\"], [1.0, \"#f0f921\"]], \"sequentialminus\": [[0.0, \"#0d0887\"], [0.1111111111111111, \"#46039f\"], [0.2222222222222222, \"#7201a8\"], [0.3333333333333333, \"#9c179e\"], [0.4444444444444444, \"#bd3786\"], [0.5555555555555556, \"#d8576b\"], [0.6666666666666666, \"#ed7953\"], [0.7777777777777778, \"#fb9f3a\"], [0.8888888888888888, \"#fdca26\"], [1.0, \"#f0f921\"]]}, \"colorway\": [\"#636efa\", \"#EF553B\", \"#00cc96\", \"#ab63fa\", \"#FFA15A\", \"#19d3f3\", \"#FF6692\", \"#B6E880\", \"#FF97FF\", \"#FECB52\"], \"font\": {\"color\": \"#2a3f5f\"}, \"geo\": {\"bgcolor\": \"white\", \"lakecolor\": \"white\", \"landcolor\": \"#E5ECF6\", \"showlakes\": true, \"showland\": true, \"subunitcolor\": \"white\"}, \"hoverlabel\": {\"align\": \"left\"}, \"hovermode\": \"closest\", \"mapbox\": {\"style\": \"light\"}, \"paper_bgcolor\": \"white\", \"plot_bgcolor\": \"#E5ECF6\", \"polar\": {\"angularaxis\": {\"gridcolor\": \"white\", \"linecolor\": \"white\", \"ticks\": \"\"}, \"bgcolor\": \"#E5ECF6\", \"radialaxis\": {\"gridcolor\": \"white\", \"linecolor\": \"white\", \"ticks\": \"\"}}, \"scene\": {\"xaxis\": {\"backgroundcolor\": \"#E5ECF6\", \"gridcolor\": \"white\", \"gridwidth\": 2, \"linecolor\": \"white\", \"showbackground\": true, \"ticks\": \"\", \"zerolinecolor\": \"white\"}, \"yaxis\": {\"backgroundcolor\": \"#E5ECF6\", \"gridcolor\": \"white\", \"gridwidth\": 2, \"linecolor\": \"white\", \"showbackground\": true, \"ticks\": \"\", \"zerolinecolor\": \"white\"}, \"zaxis\": {\"backgroundcolor\": \"#E5ECF6\", \"gridcolor\": \"white\", \"gridwidth\": 2, \"linecolor\": \"white\", \"showbackground\": true, \"ticks\": \"\", \"zerolinecolor\": \"white\"}}, \"shapedefaults\": {\"line\": {\"color\": \"#2a3f5f\"}}, \"ternary\": {\"aaxis\": {\"gridcolor\": \"white\", \"linecolor\": \"white\", \"ticks\": \"\"}, \"baxis\": {\"gridcolor\": \"white\", \"linecolor\": \"white\", \"ticks\": \"\"}, \"bgcolor\": \"#E5ECF6\", \"caxis\": {\"gridcolor\": \"white\", \"linecolor\": \"white\", \"ticks\": \"\"}}, \"title\": {\"x\": 0.05}, \"xaxis\": {\"automargin\": true, \"gridcolor\": \"white\", \"linecolor\": \"white\", \"ticks\": \"\", \"title\": {\"standoff\": 15}, \"zerolinecolor\": \"white\", \"zerolinewidth\": 2}, \"yaxis\": {\"automargin\": true, \"gridcolor\": \"white\", \"linecolor\": \"white\", \"ticks\": \"\", \"title\": {\"standoff\": 15}, \"zerolinecolor\": \"white\", \"zerolinewidth\": 2}}}, \"title\": {\"text\": \"Events company E9 (Atten-Warning)\"}, \"xaxis\": {\"anchor\": \"y\", \"domain\": [0.0, 0.94], \"dtick\": 3, \"gridcolor\": \"black\", \"gridwidth\": 1, \"linecolor\": \"black\", \"linewidth\": 2, \"mirror\": true, \"showgrid\": true, \"showline\": true, \"tick0\": 0, \"tickmode\": \"linear\", \"title\": {\"text\": \"Time of day\"}}, \"yaxis\": {\"anchor\": \"x\", \"domain\": [0.0, 1.0], \"gridcolor\": \"black\", \"gridwidth\": 1, \"linecolor\": \"black\", \"linewidth\": 2, \"mirror\": true, \"showgrid\": false, \"showline\": true, \"title\": {\"text\": \"<b>Raw</b>\"}}, \"yaxis2\": {\"anchor\": \"x\", \"gridcolor\": \"black\", \"gridwidth\": 1, \"linecolor\": \"black\", \"linewidth\": 2, \"mirror\": true, \"overlaying\": \"y\", \"showgrid\": false, \"showline\": true, \"side\": \"right\", \"title\": {\"text\": \"<b>Rate</b>\"}}},                        {\"responsive\": true}                    ).then(function(){\n",
              "                            \n",
              "var gd = document.getElementById('0364e058-4f23-4b77-9ff2-5192dcd632ba');\n",
              "var x = new MutationObserver(function (mutations, observer) {{\n",
              "        var display = window.getComputedStyle(gd).display;\n",
              "        if (!display || display === 'none') {{\n",
              "            console.log([gd, 'removed!']);\n",
              "            Plotly.purge(gd);\n",
              "            observer.disconnect();\n",
              "        }}\n",
              "}});\n",
              "\n",
              "// Listen for the removal of the full notebook cells\n",
              "var notebookContainer = gd.closest('#notebook-container');\n",
              "if (notebookContainer) {{\n",
              "    x.observe(notebookContainer, {childList: true});\n",
              "}}\n",
              "\n",
              "// Listen for the clearing of the current output cell\n",
              "var outputEl = gd.closest('.output');\n",
              "if (outputEl) {{\n",
              "    x.observe(outputEl, {childList: true});\n",
              "}}\n",
              "\n",
              "                        })                };                            </script>        </div>\n",
              "</body>\n",
              "</html>"
            ]
          },
          "metadata": {
            "tags": []
          }
        }
      ]
    },
    {
      "cell_type": "code",
      "metadata": {
        "id": "-zmrzsfDBrAj"
      },
      "source": [
        "# fig.write_image('images/AcidentesTotal.eps') ### Salvar imagens"
      ],
      "execution_count": 113,
      "outputs": []
    },
    {
      "cell_type": "markdown",
      "metadata": {
        "id": "DZK1CcByahQp"
      },
      "source": [
        "# **Análise estatística**"
      ]
    },
    {
      "cell_type": "code",
      "metadata": {
        "id": "6gHHFiviaow7"
      },
      "source": [
        "ACCE3, binsE3 = np.histogram(dfOCO_TM_E3['HorarioAcidente'], bins=range(0, 25, 1))\r\n",
        "ACCE5, binsE5 = np.histogram(dfOCO_TM_E5['HorarioAcidente'], bins=range(0, 25, 1))\r\n",
        "ACCE9, binsE9 = np.histogram(dfOCO_TM_E9['HorarioAcidente'], bins=range(0, 25, 1))"
      ],
      "execution_count": 114,
      "outputs": []
    },
    {
      "cell_type": "code",
      "metadata": {
        "id": "DA3oC0xVQaU3"
      },
      "source": [
        "# Define o deslocamento e agrupamento\n",
        "\n",
        "des = 0\n",
        "agr = 2\n",
        "Nbins = int((24/agr)+1)\n",
        "\n",
        "# Motoristas para cada compania\n",
        "\n",
        "m3 = np.array(dfE3_final['motoristasE3'])\n",
        "m3 = np.roll(m3, des)\n",
        "m3r = m3.reshape((int(24/agr),agr)).sum(axis=1)\n",
        "\n",
        "m5 = np.array(dfE5_final['motoristasE5'])\n",
        "m5 = np.roll(m5, des)\n",
        "m5r = m5.reshape((int(24/agr),agr)).sum(axis=1)\n",
        "\n",
        "m9 = np.array(dfE9_final['motoristasE9'])\n",
        "m9 = np.roll(m9, des)\n",
        "m9r = m9.reshape((int(24/agr),agr)).sum(axis=1)\n",
        "\n",
        "# Acidentes para cada compania\n",
        "\n",
        "a3 = np.array(ACCE3)\n",
        "a3 = np.roll(a3, des)\n",
        "a3r = a3.reshape((int(24/agr),agr)).sum(axis=1)\n",
        "\n",
        "a5 = np.array(ACCE5)\n",
        "a5 = np.roll(a5, des)\n",
        "a5r = a5.reshape((int(24/agr),agr)).sum(axis=1)\n",
        "\n",
        "a9 = np.array(ACCE9)\n",
        "a9 = np.roll(a9, des)\n",
        "a9r = a9.reshape((int(24/agr),agr)).sum(axis=1)\n",
        "\n",
        "# sensores\n",
        "\n",
        "of3, bins = np.histogram(dfE3['HORA'], bins=range(0, 25, 1))\n",
        "\n",
        "of3 = np.roll(of3, des)\n",
        "of3r = of3.reshape((int(24/agr),agr)).sum(axis=1)\n",
        "\n",
        "of5, bins = np.histogram(dfE5_of['HORA'], bins=range(0, 25, 1))\n",
        "\n",
        "of5 = np.roll(of5, des)\n",
        "of5r = of5.reshape((int(24/agr),agr)).sum(axis=1)\n",
        "\n",
        "y5, bins = np.histogram(dfE5_b['HORA'], bins=range(0, 25, 1))\n",
        "\n",
        "y5 = np.roll(y5, des)\n",
        "y5r = y5.reshape((int(24/agr),agr)).sum(axis=1)\n",
        "\n",
        "y9, bins = np.histogram(dfE9_yawn['HORA'], bins=range(0, 25, 1))\n",
        "\n",
        "y9 = np.roll(y9, des)\n",
        "y9r = y9.reshape((int(24/agr),agr)).sum(axis=1)\n",
        "\n",
        "of9, bins = np.histogram(dfE9_tired['HORA'], bins=range(0, 25, 1))\n",
        "\n",
        "of9 = np.roll(of9, des)\n",
        "of9r = of9.reshape((int(24/agr),agr)).sum(axis=1)\n",
        "\n",
        "at9, bins = np.histogram(dfE92H['HORA'], bins=range(0, 25, 1))\n",
        "\n",
        "at9 = np.roll(at9, des)\n",
        "at9r = at9.reshape((int(24/agr),agr)).sum(axis=1)\n",
        "\n",
        "# Referência\n",
        "\n",
        "b = np.roll(taxa, des)\n",
        "cfedr = b.reshape((int(24/agr),agr)).sum(axis=1)"
      ],
      "execution_count": 116,
      "outputs": []
    },
    {
      "cell_type": "code",
      "metadata": {
        "colab": {
          "base_uri": "https://localhost:8080/",
          "height": 542
        },
        "id": "DJSqpZk0aofz",
        "outputId": "e3237a6e-be48-48cc-f7ab-3dddc5b0965e"
      },
      "source": [
        "graphics_plot(y = [stats.zscore(of3r/m3r), stats.zscore(of5r/m5r), stats.zscore(of9r/m9r), stats.zscore(cfedr)], \r\n",
        "              y_name = ['E3','E5','E9','Accidents rate'], bins = Nbins, title = 'Comparison closed eyes and Brazilian Highways', \r\n",
        "              yaxes_title = ['Closed eyes','Federal Highways'], x_tick = agr)"
      ],
      "execution_count": 117,
      "outputs": [
        {
          "output_type": "display_data",
          "data": {
            "text/html": [
              "<html>\n",
              "<head><meta charset=\"utf-8\" /></head>\n",
              "<body>\n",
              "    <div>            <script src=\"https://cdnjs.cloudflare.com/ajax/libs/mathjax/2.7.5/MathJax.js?config=TeX-AMS-MML_SVG\"></script><script type=\"text/javascript\">if (window.MathJax) {MathJax.Hub.Config({SVG: {font: \"STIX-Web\"}});}</script>                <script type=\"text/javascript\">window.PlotlyConfig = {MathJaxConfig: 'local'};</script>\n",
              "        <script src=\"https://cdn.plot.ly/plotly-latest.min.js\"></script>                <div id=\"281146d0-8edd-4388-806a-b5023b750746\" class=\"plotly-graph-div\" style=\"height:525px; width:100%;\"></div>            <script type=\"text/javascript\">                                    window.PLOTLYENV=window.PLOTLYENV || {};                                    if (document.getElementById(\"281146d0-8edd-4388-806a-b5023b750746\")) {                    Plotly.newPlot(                        \"281146d0-8edd-4388-806a-b5023b750746\",                        [{\"line\": {\"color\": \"rgb(0, 0, 0)\", \"width\": 2}, \"marker\": {\"size\": 7, \"symbol\": \"circle\"}, \"mode\": \"lines+markers\", \"name\": \"E3\", \"type\": \"scatter\", \"x\": [0.0, 2.0, 4.0, 6.0, 8.0, 10.0, 12.0, 14.0, 16.0, 18.0, 20.0, 22.0, 24.0], \"xaxis\": \"x\", \"y\": [1.0169674372795197, 1.5161813627060936, 1.920330873114408, -0.34819661779128364, -0.1765895194078711, 0.49208641567232303, 0.125202274300889, -0.5930678304270564, -1.1138468667362773, -1.150903614195074, -1.18108279356595, -0.5070811209497192], \"yaxis\": \"y\"}, {\"line\": {\"color\": \"rgb(0, 0, 0)\", \"dash\": \"dash\", \"width\": 2}, \"marker\": {\"size\": 7, \"symbol\": \"star\"}, \"mode\": \"lines+markers\", \"name\": \"E5\", \"type\": \"scatter\", \"x\": [0.0, 2.0, 4.0, 6.0, 8.0, 10.0, 12.0, 14.0, 16.0, 18.0, 20.0, 22.0, 24.0], \"xaxis\": \"x\", \"y\": [-0.9988874386431446, -0.8901500967669608, -0.6696543506192165, 0.4363738626410276, 1.1841823632855182, 1.1515327715318664, 1.4244125024022094, 1.1367614787700917, 0.3961049047933223, -0.9676337421011163, -1.1297400844410679, -1.0733021708525248], \"yaxis\": \"y\"}, {\"line\": {\"color\": \"rgb(0, 0, 0)\", \"dash\": \"dot\", \"width\": 2}, \"marker\": {\"size\": 7, \"symbol\": \"diamond\"}, \"mode\": \"lines+markers\", \"name\": \"E9\", \"type\": \"scatter\", \"x\": [0.0, 2.0, 4.0, 6.0, 8.0, 10.0, 12.0, 14.0, 16.0, 18.0, 20.0, 22.0, 24.0], \"xaxis\": \"x\", \"y\": [-0.679817102004997, 0.5924738550609439, -0.9083101718454109, 0.5868292634146886, 1.7609043258357877, 0.3690035464428043, -0.7023657602129327, 0.1849656970437917, 0.7222994629248152, -1.4142591122063273, -1.5975351693968234, 1.085811164943656], \"yaxis\": \"y\"}, {\"line\": {\"color\": \"rgb(0, 0, 0)\", \"dash\": \"dashdot\", \"width\": 2}, \"marker\": {\"size\": 7, \"symbol\": \"x\"}, \"mode\": \"lines+markers\", \"name\": \"Accidents rate\", \"type\": \"scatter\", \"x\": [0.0, 2.0, 4.0, 6.0, 8.0, 10.0, 12.0, 14.0, 16.0, 18.0, 20.0, 22.0, 24.0], \"xaxis\": \"x\", \"y\": [1.3497259124073242, 2.1087985412867885, 0.8747239618073904, -0.629553780613118, -0.9557814803464374, -1.0672175735061826, -1.1627446018170966, -0.7508751411100453, -0.46639581885876613, 0.22531858475655114, -0.09529167435441338, 0.5692930703480084], \"yaxis\": \"y2\"}],                        {\"legend\": {\"orientation\": \"h\", \"x\": 0.95, \"xanchor\": \"right\", \"y\": 1.01, \"yanchor\": \"bottom\"}, \"paper_bgcolor\": \"rgba(0,0,0,0)\", \"plot_bgcolor\": \"rgba(0,0,0,0)\", \"template\": {\"data\": {\"bar\": [{\"error_x\": {\"color\": \"#2a3f5f\"}, \"error_y\": {\"color\": \"#2a3f5f\"}, \"marker\": {\"line\": {\"color\": \"#E5ECF6\", \"width\": 0.5}}, \"type\": \"bar\"}], \"barpolar\": [{\"marker\": {\"line\": {\"color\": \"#E5ECF6\", \"width\": 0.5}}, \"type\": \"barpolar\"}], \"carpet\": [{\"aaxis\": {\"endlinecolor\": \"#2a3f5f\", \"gridcolor\": \"white\", \"linecolor\": \"white\", \"minorgridcolor\": \"white\", \"startlinecolor\": \"#2a3f5f\"}, \"baxis\": {\"endlinecolor\": \"#2a3f5f\", \"gridcolor\": \"white\", \"linecolor\": \"white\", \"minorgridcolor\": \"white\", \"startlinecolor\": \"#2a3f5f\"}, \"type\": \"carpet\"}], \"choropleth\": [{\"colorbar\": {\"outlinewidth\": 0, \"ticks\": \"\"}, \"type\": \"choropleth\"}], \"contour\": [{\"colorbar\": {\"outlinewidth\": 0, \"ticks\": \"\"}, \"colorscale\": [[0.0, \"#0d0887\"], [0.1111111111111111, \"#46039f\"], [0.2222222222222222, \"#7201a8\"], [0.3333333333333333, \"#9c179e\"], [0.4444444444444444, \"#bd3786\"], [0.5555555555555556, \"#d8576b\"], [0.6666666666666666, \"#ed7953\"], [0.7777777777777778, \"#fb9f3a\"], [0.8888888888888888, \"#fdca26\"], [1.0, \"#f0f921\"]], \"type\": \"contour\"}], \"contourcarpet\": [{\"colorbar\": {\"outlinewidth\": 0, \"ticks\": \"\"}, \"type\": \"contourcarpet\"}], \"heatmap\": [{\"colorbar\": {\"outlinewidth\": 0, \"ticks\": \"\"}, \"colorscale\": [[0.0, \"#0d0887\"], [0.1111111111111111, \"#46039f\"], [0.2222222222222222, \"#7201a8\"], [0.3333333333333333, \"#9c179e\"], [0.4444444444444444, \"#bd3786\"], [0.5555555555555556, \"#d8576b\"], [0.6666666666666666, \"#ed7953\"], [0.7777777777777778, \"#fb9f3a\"], [0.8888888888888888, \"#fdca26\"], [1.0, \"#f0f921\"]], \"type\": \"heatmap\"}], \"heatmapgl\": [{\"colorbar\": {\"outlinewidth\": 0, \"ticks\": \"\"}, \"colorscale\": [[0.0, \"#0d0887\"], [0.1111111111111111, \"#46039f\"], [0.2222222222222222, \"#7201a8\"], [0.3333333333333333, \"#9c179e\"], [0.4444444444444444, \"#bd3786\"], [0.5555555555555556, \"#d8576b\"], [0.6666666666666666, \"#ed7953\"], [0.7777777777777778, \"#fb9f3a\"], [0.8888888888888888, \"#fdca26\"], [1.0, \"#f0f921\"]], \"type\": \"heatmapgl\"}], \"histogram\": [{\"marker\": {\"colorbar\": {\"outlinewidth\": 0, \"ticks\": \"\"}}, \"type\": \"histogram\"}], \"histogram2d\": [{\"colorbar\": {\"outlinewidth\": 0, \"ticks\": \"\"}, \"colorscale\": [[0.0, \"#0d0887\"], [0.1111111111111111, \"#46039f\"], [0.2222222222222222, \"#7201a8\"], [0.3333333333333333, \"#9c179e\"], [0.4444444444444444, \"#bd3786\"], [0.5555555555555556, \"#d8576b\"], [0.6666666666666666, \"#ed7953\"], [0.7777777777777778, \"#fb9f3a\"], [0.8888888888888888, \"#fdca26\"], [1.0, \"#f0f921\"]], \"type\": \"histogram2d\"}], \"histogram2dcontour\": [{\"colorbar\": {\"outlinewidth\": 0, \"ticks\": \"\"}, \"colorscale\": [[0.0, \"#0d0887\"], [0.1111111111111111, \"#46039f\"], [0.2222222222222222, \"#7201a8\"], [0.3333333333333333, \"#9c179e\"], [0.4444444444444444, \"#bd3786\"], [0.5555555555555556, \"#d8576b\"], [0.6666666666666666, \"#ed7953\"], [0.7777777777777778, \"#fb9f3a\"], [0.8888888888888888, \"#fdca26\"], [1.0, \"#f0f921\"]], \"type\": \"histogram2dcontour\"}], \"mesh3d\": [{\"colorbar\": {\"outlinewidth\": 0, \"ticks\": \"\"}, \"type\": \"mesh3d\"}], \"parcoords\": [{\"line\": {\"colorbar\": {\"outlinewidth\": 0, \"ticks\": \"\"}}, \"type\": \"parcoords\"}], \"pie\": [{\"automargin\": true, \"type\": \"pie\"}], \"scatter\": [{\"marker\": {\"colorbar\": {\"outlinewidth\": 0, \"ticks\": \"\"}}, \"type\": \"scatter\"}], \"scatter3d\": [{\"line\": {\"colorbar\": {\"outlinewidth\": 0, \"ticks\": \"\"}}, \"marker\": {\"colorbar\": {\"outlinewidth\": 0, \"ticks\": \"\"}}, \"type\": \"scatter3d\"}], \"scattercarpet\": [{\"marker\": {\"colorbar\": {\"outlinewidth\": 0, \"ticks\": \"\"}}, \"type\": \"scattercarpet\"}], \"scattergeo\": [{\"marker\": {\"colorbar\": {\"outlinewidth\": 0, \"ticks\": \"\"}}, \"type\": \"scattergeo\"}], \"scattergl\": [{\"marker\": {\"colorbar\": {\"outlinewidth\": 0, \"ticks\": \"\"}}, \"type\": \"scattergl\"}], \"scattermapbox\": [{\"marker\": {\"colorbar\": {\"outlinewidth\": 0, \"ticks\": \"\"}}, \"type\": \"scattermapbox\"}], \"scatterpolar\": [{\"marker\": {\"colorbar\": {\"outlinewidth\": 0, \"ticks\": \"\"}}, \"type\": \"scatterpolar\"}], \"scatterpolargl\": [{\"marker\": {\"colorbar\": {\"outlinewidth\": 0, \"ticks\": \"\"}}, \"type\": \"scatterpolargl\"}], \"scatterternary\": [{\"marker\": {\"colorbar\": {\"outlinewidth\": 0, \"ticks\": \"\"}}, \"type\": \"scatterternary\"}], \"surface\": [{\"colorbar\": {\"outlinewidth\": 0, \"ticks\": \"\"}, \"colorscale\": [[0.0, \"#0d0887\"], [0.1111111111111111, \"#46039f\"], [0.2222222222222222, \"#7201a8\"], [0.3333333333333333, \"#9c179e\"], [0.4444444444444444, \"#bd3786\"], [0.5555555555555556, \"#d8576b\"], [0.6666666666666666, \"#ed7953\"], [0.7777777777777778, \"#fb9f3a\"], [0.8888888888888888, \"#fdca26\"], [1.0, \"#f0f921\"]], \"type\": \"surface\"}], \"table\": [{\"cells\": {\"fill\": {\"color\": \"#EBF0F8\"}, \"line\": {\"color\": \"white\"}}, \"header\": {\"fill\": {\"color\": \"#C8D4E3\"}, \"line\": {\"color\": \"white\"}}, \"type\": \"table\"}]}, \"layout\": {\"annotationdefaults\": {\"arrowcolor\": \"#2a3f5f\", \"arrowhead\": 0, \"arrowwidth\": 1}, \"autotypenumbers\": \"strict\", \"coloraxis\": {\"colorbar\": {\"outlinewidth\": 0, \"ticks\": \"\"}}, \"colorscale\": {\"diverging\": [[0, \"#8e0152\"], [0.1, \"#c51b7d\"], [0.2, \"#de77ae\"], [0.3, \"#f1b6da\"], [0.4, \"#fde0ef\"], [0.5, \"#f7f7f7\"], [0.6, \"#e6f5d0\"], [0.7, \"#b8e186\"], [0.8, \"#7fbc41\"], [0.9, \"#4d9221\"], [1, \"#276419\"]], \"sequential\": [[0.0, \"#0d0887\"], [0.1111111111111111, \"#46039f\"], [0.2222222222222222, \"#7201a8\"], [0.3333333333333333, \"#9c179e\"], [0.4444444444444444, \"#bd3786\"], [0.5555555555555556, \"#d8576b\"], [0.6666666666666666, \"#ed7953\"], [0.7777777777777778, \"#fb9f3a\"], [0.8888888888888888, \"#fdca26\"], [1.0, \"#f0f921\"]], \"sequentialminus\": [[0.0, \"#0d0887\"], [0.1111111111111111, \"#46039f\"], [0.2222222222222222, \"#7201a8\"], [0.3333333333333333, \"#9c179e\"], [0.4444444444444444, \"#bd3786\"], [0.5555555555555556, \"#d8576b\"], [0.6666666666666666, \"#ed7953\"], [0.7777777777777778, \"#fb9f3a\"], [0.8888888888888888, \"#fdca26\"], [1.0, \"#f0f921\"]]}, \"colorway\": [\"#636efa\", \"#EF553B\", \"#00cc96\", \"#ab63fa\", \"#FFA15A\", \"#19d3f3\", \"#FF6692\", \"#B6E880\", \"#FF97FF\", \"#FECB52\"], \"font\": {\"color\": \"#2a3f5f\"}, \"geo\": {\"bgcolor\": \"white\", \"lakecolor\": \"white\", \"landcolor\": \"#E5ECF6\", \"showlakes\": true, \"showland\": true, \"subunitcolor\": \"white\"}, \"hoverlabel\": {\"align\": \"left\"}, \"hovermode\": \"closest\", \"mapbox\": {\"style\": \"light\"}, \"paper_bgcolor\": \"white\", \"plot_bgcolor\": \"#E5ECF6\", \"polar\": {\"angularaxis\": {\"gridcolor\": \"white\", \"linecolor\": \"white\", \"ticks\": \"\"}, \"bgcolor\": \"#E5ECF6\", \"radialaxis\": {\"gridcolor\": \"white\", \"linecolor\": \"white\", \"ticks\": \"\"}}, \"scene\": {\"xaxis\": {\"backgroundcolor\": \"#E5ECF6\", \"gridcolor\": \"white\", \"gridwidth\": 2, \"linecolor\": \"white\", \"showbackground\": true, \"ticks\": \"\", \"zerolinecolor\": \"white\"}, \"yaxis\": {\"backgroundcolor\": \"#E5ECF6\", \"gridcolor\": \"white\", \"gridwidth\": 2, \"linecolor\": \"white\", \"showbackground\": true, \"ticks\": \"\", \"zerolinecolor\": \"white\"}, \"zaxis\": {\"backgroundcolor\": \"#E5ECF6\", \"gridcolor\": \"white\", \"gridwidth\": 2, \"linecolor\": \"white\", \"showbackground\": true, \"ticks\": \"\", \"zerolinecolor\": \"white\"}}, \"shapedefaults\": {\"line\": {\"color\": \"#2a3f5f\"}}, \"ternary\": {\"aaxis\": {\"gridcolor\": \"white\", \"linecolor\": \"white\", \"ticks\": \"\"}, \"baxis\": {\"gridcolor\": \"white\", \"linecolor\": \"white\", \"ticks\": \"\"}, \"bgcolor\": \"#E5ECF6\", \"caxis\": {\"gridcolor\": \"white\", \"linecolor\": \"white\", \"ticks\": \"\"}}, \"title\": {\"x\": 0.05}, \"xaxis\": {\"automargin\": true, \"gridcolor\": \"white\", \"linecolor\": \"white\", \"ticks\": \"\", \"title\": {\"standoff\": 15}, \"zerolinecolor\": \"white\", \"zerolinewidth\": 2}, \"yaxis\": {\"automargin\": true, \"gridcolor\": \"white\", \"linecolor\": \"white\", \"ticks\": \"\", \"title\": {\"standoff\": 15}, \"zerolinecolor\": \"white\", \"zerolinewidth\": 2}}}, \"title\": {\"text\": \"Comparison closed eyes and Brazilian Highways\"}, \"xaxis\": {\"anchor\": \"y\", \"domain\": [0.0, 0.94], \"dtick\": 2, \"gridcolor\": \"black\", \"gridwidth\": 1, \"linecolor\": \"black\", \"linewidth\": 2, \"mirror\": true, \"showgrid\": true, \"showline\": true, \"tick0\": 0, \"tickmode\": \"linear\", \"title\": {\"text\": \"Time of day\"}}, \"yaxis\": {\"anchor\": \"x\", \"domain\": [0.0, 1.0], \"gridcolor\": \"black\", \"gridwidth\": 1, \"linecolor\": \"black\", \"linewidth\": 2, \"mirror\": true, \"showgrid\": false, \"showline\": true, \"title\": {\"text\": \"<b>Closed eyes</b>\"}}, \"yaxis2\": {\"anchor\": \"x\", \"gridcolor\": \"black\", \"gridwidth\": 1, \"linecolor\": \"black\", \"linewidth\": 2, \"mirror\": true, \"overlaying\": \"y\", \"showgrid\": false, \"showline\": true, \"side\": \"right\", \"title\": {\"text\": \"<b>Federal Highways</b>\"}}},                        {\"responsive\": true}                    ).then(function(){\n",
              "                            \n",
              "var gd = document.getElementById('281146d0-8edd-4388-806a-b5023b750746');\n",
              "var x = new MutationObserver(function (mutations, observer) {{\n",
              "        var display = window.getComputedStyle(gd).display;\n",
              "        if (!display || display === 'none') {{\n",
              "            console.log([gd, 'removed!']);\n",
              "            Plotly.purge(gd);\n",
              "            observer.disconnect();\n",
              "        }}\n",
              "}});\n",
              "\n",
              "// Listen for the removal of the full notebook cells\n",
              "var notebookContainer = gd.closest('#notebook-container');\n",
              "if (notebookContainer) {{\n",
              "    x.observe(notebookContainer, {childList: true});\n",
              "}}\n",
              "\n",
              "// Listen for the clearing of the current output cell\n",
              "var outputEl = gd.closest('.output');\n",
              "if (outputEl) {{\n",
              "    x.observe(outputEl, {childList: true});\n",
              "}}\n",
              "\n",
              "                        })                };                            </script>        </div>\n",
              "</body>\n",
              "</html>"
            ]
          },
          "metadata": {
            "tags": []
          }
        }
      ]
    },
    {
      "cell_type": "code",
      "metadata": {
        "colab": {
          "base_uri": "https://localhost:8080/",
          "height": 542
        },
        "id": "F5sOyXfxjGW-",
        "outputId": "df90dd5d-719b-4385-dab1-29142999b3c8"
      },
      "source": [
        "graphics_plot(y = [stats.zscore(a3r/m3r), stats.zscore(a5r/m5r), stats.zscore(a9r/m9r), stats.zscore(cfedr)], \r\n",
        "              y_name = ['E3','E5','E9','Accidents rate'], bins = Nbins, title = 'Comparison companies and Brazilian Highways', \r\n",
        "              yaxes_title = ['Comparison rate','Federal Highways'], x_tick = agr)"
      ],
      "execution_count": 118,
      "outputs": [
        {
          "output_type": "display_data",
          "data": {
            "text/html": [
              "<html>\n",
              "<head><meta charset=\"utf-8\" /></head>\n",
              "<body>\n",
              "    <div>            <script src=\"https://cdnjs.cloudflare.com/ajax/libs/mathjax/2.7.5/MathJax.js?config=TeX-AMS-MML_SVG\"></script><script type=\"text/javascript\">if (window.MathJax) {MathJax.Hub.Config({SVG: {font: \"STIX-Web\"}});}</script>                <script type=\"text/javascript\">window.PlotlyConfig = {MathJaxConfig: 'local'};</script>\n",
              "        <script src=\"https://cdn.plot.ly/plotly-latest.min.js\"></script>                <div id=\"e04e59e2-4967-4c6a-a0bd-76eacdfba35a\" class=\"plotly-graph-div\" style=\"height:525px; width:100%;\"></div>            <script type=\"text/javascript\">                                    window.PLOTLYENV=window.PLOTLYENV || {};                                    if (document.getElementById(\"e04e59e2-4967-4c6a-a0bd-76eacdfba35a\")) {                    Plotly.newPlot(                        \"e04e59e2-4967-4c6a-a0bd-76eacdfba35a\",                        [{\"line\": {\"color\": \"rgb(0, 0, 0)\", \"width\": 2}, \"marker\": {\"size\": 7, \"symbol\": \"circle\"}, \"mode\": \"lines+markers\", \"name\": \"E3\", \"type\": \"scatter\", \"x\": [0.0, 2.0, 4.0, 6.0, 8.0, 10.0, 12.0, 14.0, 16.0, 18.0, 20.0, 22.0, 24.0], \"xaxis\": \"x\", \"y\": [0.6611822257822543, 1.9048647234149017, 0.842081498165185, -0.9881934930032887, 1.1400332409135412, 0.0759198739551261, 0.6079765574343337, -0.7601692000836285, -0.9447602943519249, -1.6000586790043774, -0.24331413613239825, -0.6955623170897247], \"yaxis\": \"y\"}, {\"line\": {\"color\": \"rgb(0, 0, 0)\", \"dash\": \"dash\", \"width\": 2}, \"marker\": {\"size\": 7, \"symbol\": \"star\"}, \"mode\": \"lines+markers\", \"name\": \"E5\", \"type\": \"scatter\", \"x\": [0.0, 2.0, 4.0, 6.0, 8.0, 10.0, 12.0, 14.0, 16.0, 18.0, 20.0, 22.0, 24.0], \"xaxis\": \"x\", \"y\": [-1.1232825591044766, 0.92151637190309, 1.884188033580192, 0.3067402227112726, -1.1232825591044766, -0.41521302636075624, -1.1232825591044766, -0.4416829154352878, -1.1232825591044766, 1.0217516136191471, 0.21490389727356402, 1.000926039126685], \"yaxis\": \"y\"}, {\"line\": {\"color\": \"rgb(0, 0, 0)\", \"dash\": \"dot\", \"width\": 2}, \"marker\": {\"size\": 7, \"symbol\": \"diamond\"}, \"mode\": \"lines+markers\", \"name\": \"E9\", \"type\": \"scatter\", \"x\": [0.0, 2.0, 4.0, 6.0, 8.0, 10.0, 12.0, 14.0, 16.0, 18.0, 20.0, 22.0, 24.0], \"xaxis\": \"x\", \"y\": [-0.3407842922198625, -0.4704609653302987, 1.656236473680854, -1.1470349119934438, 1.3450124582158072, 0.10351775171589417, -1.0164680100058194, -0.1822905806404407, -0.9027165423650859, -0.5445619213934051, -0.3641686103217445, 1.8637191506575517], \"yaxis\": \"y\"}, {\"line\": {\"color\": \"rgb(0, 0, 0)\", \"dash\": \"dashdot\", \"width\": 2}, \"marker\": {\"size\": 7, \"symbol\": \"x\"}, \"mode\": \"lines+markers\", \"name\": \"Accidents rate\", \"type\": \"scatter\", \"x\": [0.0, 2.0, 4.0, 6.0, 8.0, 10.0, 12.0, 14.0, 16.0, 18.0, 20.0, 22.0, 24.0], \"xaxis\": \"x\", \"y\": [1.3497259124073242, 2.1087985412867885, 0.8747239618073904, -0.629553780613118, -0.9557814803464374, -1.0672175735061826, -1.1627446018170966, -0.7508751411100453, -0.46639581885876613, 0.22531858475655114, -0.09529167435441338, 0.5692930703480084], \"yaxis\": \"y2\"}],                        {\"legend\": {\"orientation\": \"h\", \"x\": 0.95, \"xanchor\": \"right\", \"y\": 1.01, \"yanchor\": \"bottom\"}, \"paper_bgcolor\": \"rgba(0,0,0,0)\", \"plot_bgcolor\": \"rgba(0,0,0,0)\", \"template\": {\"data\": {\"bar\": [{\"error_x\": {\"color\": \"#2a3f5f\"}, \"error_y\": {\"color\": \"#2a3f5f\"}, \"marker\": {\"line\": {\"color\": \"#E5ECF6\", \"width\": 0.5}}, \"type\": \"bar\"}], \"barpolar\": [{\"marker\": {\"line\": {\"color\": \"#E5ECF6\", \"width\": 0.5}}, \"type\": \"barpolar\"}], \"carpet\": [{\"aaxis\": {\"endlinecolor\": \"#2a3f5f\", \"gridcolor\": \"white\", \"linecolor\": \"white\", \"minorgridcolor\": \"white\", \"startlinecolor\": \"#2a3f5f\"}, \"baxis\": {\"endlinecolor\": \"#2a3f5f\", \"gridcolor\": \"white\", \"linecolor\": \"white\", \"minorgridcolor\": \"white\", \"startlinecolor\": \"#2a3f5f\"}, \"type\": \"carpet\"}], \"choropleth\": [{\"colorbar\": {\"outlinewidth\": 0, \"ticks\": \"\"}, \"type\": \"choropleth\"}], \"contour\": [{\"colorbar\": {\"outlinewidth\": 0, \"ticks\": \"\"}, \"colorscale\": [[0.0, \"#0d0887\"], [0.1111111111111111, \"#46039f\"], [0.2222222222222222, \"#7201a8\"], [0.3333333333333333, \"#9c179e\"], [0.4444444444444444, \"#bd3786\"], [0.5555555555555556, \"#d8576b\"], [0.6666666666666666, \"#ed7953\"], [0.7777777777777778, \"#fb9f3a\"], [0.8888888888888888, \"#fdca26\"], [1.0, \"#f0f921\"]], \"type\": \"contour\"}], \"contourcarpet\": [{\"colorbar\": {\"outlinewidth\": 0, \"ticks\": \"\"}, \"type\": \"contourcarpet\"}], \"heatmap\": [{\"colorbar\": {\"outlinewidth\": 0, \"ticks\": \"\"}, \"colorscale\": [[0.0, \"#0d0887\"], [0.1111111111111111, \"#46039f\"], [0.2222222222222222, \"#7201a8\"], [0.3333333333333333, \"#9c179e\"], [0.4444444444444444, \"#bd3786\"], [0.5555555555555556, \"#d8576b\"], [0.6666666666666666, \"#ed7953\"], [0.7777777777777778, \"#fb9f3a\"], [0.8888888888888888, \"#fdca26\"], [1.0, \"#f0f921\"]], \"type\": \"heatmap\"}], \"heatmapgl\": [{\"colorbar\": {\"outlinewidth\": 0, \"ticks\": \"\"}, \"colorscale\": [[0.0, \"#0d0887\"], [0.1111111111111111, \"#46039f\"], [0.2222222222222222, \"#7201a8\"], [0.3333333333333333, \"#9c179e\"], [0.4444444444444444, \"#bd3786\"], [0.5555555555555556, \"#d8576b\"], [0.6666666666666666, \"#ed7953\"], [0.7777777777777778, \"#fb9f3a\"], [0.8888888888888888, \"#fdca26\"], [1.0, \"#f0f921\"]], \"type\": \"heatmapgl\"}], \"histogram\": [{\"marker\": {\"colorbar\": {\"outlinewidth\": 0, \"ticks\": \"\"}}, \"type\": \"histogram\"}], \"histogram2d\": [{\"colorbar\": {\"outlinewidth\": 0, \"ticks\": \"\"}, \"colorscale\": [[0.0, \"#0d0887\"], [0.1111111111111111, \"#46039f\"], [0.2222222222222222, \"#7201a8\"], [0.3333333333333333, \"#9c179e\"], [0.4444444444444444, \"#bd3786\"], [0.5555555555555556, \"#d8576b\"], [0.6666666666666666, \"#ed7953\"], [0.7777777777777778, \"#fb9f3a\"], [0.8888888888888888, \"#fdca26\"], [1.0, \"#f0f921\"]], \"type\": \"histogram2d\"}], \"histogram2dcontour\": [{\"colorbar\": {\"outlinewidth\": 0, \"ticks\": \"\"}, \"colorscale\": [[0.0, \"#0d0887\"], [0.1111111111111111, \"#46039f\"], [0.2222222222222222, \"#7201a8\"], [0.3333333333333333, \"#9c179e\"], [0.4444444444444444, \"#bd3786\"], [0.5555555555555556, \"#d8576b\"], [0.6666666666666666, \"#ed7953\"], [0.7777777777777778, \"#fb9f3a\"], [0.8888888888888888, \"#fdca26\"], [1.0, \"#f0f921\"]], \"type\": \"histogram2dcontour\"}], \"mesh3d\": [{\"colorbar\": {\"outlinewidth\": 0, \"ticks\": \"\"}, \"type\": \"mesh3d\"}], \"parcoords\": [{\"line\": {\"colorbar\": {\"outlinewidth\": 0, \"ticks\": \"\"}}, \"type\": \"parcoords\"}], \"pie\": [{\"automargin\": true, \"type\": \"pie\"}], \"scatter\": [{\"marker\": {\"colorbar\": {\"outlinewidth\": 0, \"ticks\": \"\"}}, \"type\": \"scatter\"}], \"scatter3d\": [{\"line\": {\"colorbar\": {\"outlinewidth\": 0, \"ticks\": \"\"}}, \"marker\": {\"colorbar\": {\"outlinewidth\": 0, \"ticks\": \"\"}}, \"type\": \"scatter3d\"}], \"scattercarpet\": [{\"marker\": {\"colorbar\": {\"outlinewidth\": 0, \"ticks\": \"\"}}, \"type\": \"scattercarpet\"}], \"scattergeo\": [{\"marker\": {\"colorbar\": {\"outlinewidth\": 0, \"ticks\": \"\"}}, \"type\": \"scattergeo\"}], \"scattergl\": [{\"marker\": {\"colorbar\": {\"outlinewidth\": 0, \"ticks\": \"\"}}, \"type\": \"scattergl\"}], \"scattermapbox\": [{\"marker\": {\"colorbar\": {\"outlinewidth\": 0, \"ticks\": \"\"}}, \"type\": \"scattermapbox\"}], \"scatterpolar\": [{\"marker\": {\"colorbar\": {\"outlinewidth\": 0, \"ticks\": \"\"}}, \"type\": \"scatterpolar\"}], \"scatterpolargl\": [{\"marker\": {\"colorbar\": {\"outlinewidth\": 0, \"ticks\": \"\"}}, \"type\": \"scatterpolargl\"}], \"scatterternary\": [{\"marker\": {\"colorbar\": {\"outlinewidth\": 0, \"ticks\": \"\"}}, \"type\": \"scatterternary\"}], \"surface\": [{\"colorbar\": {\"outlinewidth\": 0, \"ticks\": \"\"}, \"colorscale\": [[0.0, \"#0d0887\"], [0.1111111111111111, \"#46039f\"], [0.2222222222222222, \"#7201a8\"], [0.3333333333333333, \"#9c179e\"], [0.4444444444444444, \"#bd3786\"], [0.5555555555555556, \"#d8576b\"], [0.6666666666666666, \"#ed7953\"], [0.7777777777777778, \"#fb9f3a\"], [0.8888888888888888, \"#fdca26\"], [1.0, \"#f0f921\"]], \"type\": \"surface\"}], \"table\": [{\"cells\": {\"fill\": {\"color\": \"#EBF0F8\"}, \"line\": {\"color\": \"white\"}}, \"header\": {\"fill\": {\"color\": \"#C8D4E3\"}, \"line\": {\"color\": \"white\"}}, \"type\": \"table\"}]}, \"layout\": {\"annotationdefaults\": {\"arrowcolor\": \"#2a3f5f\", \"arrowhead\": 0, \"arrowwidth\": 1}, \"autotypenumbers\": \"strict\", \"coloraxis\": {\"colorbar\": {\"outlinewidth\": 0, \"ticks\": \"\"}}, \"colorscale\": {\"diverging\": [[0, \"#8e0152\"], [0.1, \"#c51b7d\"], [0.2, \"#de77ae\"], [0.3, \"#f1b6da\"], [0.4, \"#fde0ef\"], [0.5, \"#f7f7f7\"], [0.6, \"#e6f5d0\"], [0.7, \"#b8e186\"], [0.8, \"#7fbc41\"], [0.9, \"#4d9221\"], [1, \"#276419\"]], \"sequential\": [[0.0, \"#0d0887\"], [0.1111111111111111, \"#46039f\"], [0.2222222222222222, \"#7201a8\"], [0.3333333333333333, \"#9c179e\"], [0.4444444444444444, \"#bd3786\"], [0.5555555555555556, \"#d8576b\"], [0.6666666666666666, \"#ed7953\"], [0.7777777777777778, \"#fb9f3a\"], [0.8888888888888888, \"#fdca26\"], [1.0, \"#f0f921\"]], \"sequentialminus\": [[0.0, \"#0d0887\"], [0.1111111111111111, \"#46039f\"], [0.2222222222222222, \"#7201a8\"], [0.3333333333333333, \"#9c179e\"], [0.4444444444444444, \"#bd3786\"], [0.5555555555555556, \"#d8576b\"], [0.6666666666666666, \"#ed7953\"], [0.7777777777777778, \"#fb9f3a\"], [0.8888888888888888, \"#fdca26\"], [1.0, \"#f0f921\"]]}, \"colorway\": [\"#636efa\", \"#EF553B\", \"#00cc96\", \"#ab63fa\", \"#FFA15A\", \"#19d3f3\", \"#FF6692\", \"#B6E880\", \"#FF97FF\", \"#FECB52\"], \"font\": {\"color\": \"#2a3f5f\"}, \"geo\": {\"bgcolor\": \"white\", \"lakecolor\": \"white\", \"landcolor\": \"#E5ECF6\", \"showlakes\": true, \"showland\": true, \"subunitcolor\": \"white\"}, \"hoverlabel\": {\"align\": \"left\"}, \"hovermode\": \"closest\", \"mapbox\": {\"style\": \"light\"}, \"paper_bgcolor\": \"white\", \"plot_bgcolor\": \"#E5ECF6\", \"polar\": {\"angularaxis\": {\"gridcolor\": \"white\", \"linecolor\": \"white\", \"ticks\": \"\"}, \"bgcolor\": \"#E5ECF6\", \"radialaxis\": {\"gridcolor\": \"white\", \"linecolor\": \"white\", \"ticks\": \"\"}}, \"scene\": {\"xaxis\": {\"backgroundcolor\": \"#E5ECF6\", \"gridcolor\": \"white\", \"gridwidth\": 2, \"linecolor\": \"white\", \"showbackground\": true, \"ticks\": \"\", \"zerolinecolor\": \"white\"}, \"yaxis\": {\"backgroundcolor\": \"#E5ECF6\", \"gridcolor\": \"white\", \"gridwidth\": 2, \"linecolor\": \"white\", \"showbackground\": true, \"ticks\": \"\", \"zerolinecolor\": \"white\"}, \"zaxis\": {\"backgroundcolor\": \"#E5ECF6\", \"gridcolor\": \"white\", \"gridwidth\": 2, \"linecolor\": \"white\", \"showbackground\": true, \"ticks\": \"\", \"zerolinecolor\": \"white\"}}, \"shapedefaults\": {\"line\": {\"color\": \"#2a3f5f\"}}, \"ternary\": {\"aaxis\": {\"gridcolor\": \"white\", \"linecolor\": \"white\", \"ticks\": \"\"}, \"baxis\": {\"gridcolor\": \"white\", \"linecolor\": \"white\", \"ticks\": \"\"}, \"bgcolor\": \"#E5ECF6\", \"caxis\": {\"gridcolor\": \"white\", \"linecolor\": \"white\", \"ticks\": \"\"}}, \"title\": {\"x\": 0.05}, \"xaxis\": {\"automargin\": true, \"gridcolor\": \"white\", \"linecolor\": \"white\", \"ticks\": \"\", \"title\": {\"standoff\": 15}, \"zerolinecolor\": \"white\", \"zerolinewidth\": 2}, \"yaxis\": {\"automargin\": true, \"gridcolor\": \"white\", \"linecolor\": \"white\", \"ticks\": \"\", \"title\": {\"standoff\": 15}, \"zerolinecolor\": \"white\", \"zerolinewidth\": 2}}}, \"title\": {\"text\": \"Comparison companies and Brazilian Highways\"}, \"xaxis\": {\"anchor\": \"y\", \"domain\": [0.0, 0.94], \"dtick\": 2, \"gridcolor\": \"black\", \"gridwidth\": 1, \"linecolor\": \"black\", \"linewidth\": 2, \"mirror\": true, \"showgrid\": true, \"showline\": true, \"tick0\": 0, \"tickmode\": \"linear\", \"title\": {\"text\": \"Time of day\"}}, \"yaxis\": {\"anchor\": \"x\", \"domain\": [0.0, 1.0], \"gridcolor\": \"black\", \"gridwidth\": 1, \"linecolor\": \"black\", \"linewidth\": 2, \"mirror\": true, \"showgrid\": false, \"showline\": true, \"title\": {\"text\": \"<b>Comparison rate</b>\"}}, \"yaxis2\": {\"anchor\": \"x\", \"gridcolor\": \"black\", \"gridwidth\": 1, \"linecolor\": \"black\", \"linewidth\": 2, \"mirror\": true, \"overlaying\": \"y\", \"showgrid\": false, \"showline\": true, \"side\": \"right\", \"title\": {\"text\": \"<b>Federal Highways</b>\"}}},                        {\"responsive\": true}                    ).then(function(){\n",
              "                            \n",
              "var gd = document.getElementById('e04e59e2-4967-4c6a-a0bd-76eacdfba35a');\n",
              "var x = new MutationObserver(function (mutations, observer) {{\n",
              "        var display = window.getComputedStyle(gd).display;\n",
              "        if (!display || display === 'none') {{\n",
              "            console.log([gd, 'removed!']);\n",
              "            Plotly.purge(gd);\n",
              "            observer.disconnect();\n",
              "        }}\n",
              "}});\n",
              "\n",
              "// Listen for the removal of the full notebook cells\n",
              "var notebookContainer = gd.closest('#notebook-container');\n",
              "if (notebookContainer) {{\n",
              "    x.observe(notebookContainer, {childList: true});\n",
              "}}\n",
              "\n",
              "// Listen for the clearing of the current output cell\n",
              "var outputEl = gd.closest('.output');\n",
              "if (outputEl) {{\n",
              "    x.observe(outputEl, {childList: true});\n",
              "}}\n",
              "\n",
              "                        })                };                            </script>        </div>\n",
              "</body>\n",
              "</html>"
            ]
          },
          "metadata": {
            "tags": []
          }
        }
      ]
    },
    {
      "cell_type": "code",
      "metadata": {
        "colab": {
          "base_uri": "https://localhost:8080/",
          "height": 542
        },
        "id": "vNOQphPYjpsZ",
        "outputId": "3db6548e-d2c3-4ada-9c82-e09275be4162"
      },
      "source": [
        "graphics_plot(y = [stats.zscore(y5r/m5r), stats.zscore(y9r/m9r), stats.zscore(cfedr)], \r\n",
        "              y_name = ['E5','E9','Accidents rate'], bins = Nbins, title = 'Comparison companies and Brazilian Highways', \r\n",
        "              yaxes_title = ['Yawn rate','Federal Highways'], x_tick = agr)"
      ],
      "execution_count": 119,
      "outputs": [
        {
          "output_type": "display_data",
          "data": {
            "text/html": [
              "<html>\n",
              "<head><meta charset=\"utf-8\" /></head>\n",
              "<body>\n",
              "    <div>            <script src=\"https://cdnjs.cloudflare.com/ajax/libs/mathjax/2.7.5/MathJax.js?config=TeX-AMS-MML_SVG\"></script><script type=\"text/javascript\">if (window.MathJax) {MathJax.Hub.Config({SVG: {font: \"STIX-Web\"}});}</script>                <script type=\"text/javascript\">window.PlotlyConfig = {MathJaxConfig: 'local'};</script>\n",
              "        <script src=\"https://cdn.plot.ly/plotly-latest.min.js\"></script>                <div id=\"d12cac60-767c-4c68-9b3a-770e1dfe2373\" class=\"plotly-graph-div\" style=\"height:525px; width:100%;\"></div>            <script type=\"text/javascript\">                                    window.PLOTLYENV=window.PLOTLYENV || {};                                    if (document.getElementById(\"d12cac60-767c-4c68-9b3a-770e1dfe2373\")) {                    Plotly.newPlot(                        \"d12cac60-767c-4c68-9b3a-770e1dfe2373\",                        [{\"line\": {\"color\": \"rgb(0, 0, 0)\", \"width\": 2}, \"marker\": {\"size\": 7, \"symbol\": \"circle\"}, \"mode\": \"lines+markers\", \"name\": \"E5\", \"type\": \"scatter\", \"x\": [0.0, 2.0, 4.0, 6.0, 8.0, 10.0, 12.0, 14.0, 16.0, 18.0, 20.0, 22.0, 24.0], \"xaxis\": \"x\", \"y\": [0.879510560346258, 1.1830249027030812, 1.760549317726813, 1.3910850208443581, -0.6113730284483729, -1.0573684429341357, 0.20377117973493614, -0.526174708822621, -0.8951761119293529, -0.8974852637848679, -1.1348747326999513, -0.2954886927361472], \"yaxis\": \"y\"}, {\"line\": {\"color\": \"rgb(0, 0, 0)\", \"dash\": \"dash\", \"width\": 2}, \"marker\": {\"size\": 7, \"symbol\": \"star\"}, \"mode\": \"lines+markers\", \"name\": \"E9\", \"type\": \"scatter\", \"x\": [0.0, 2.0, 4.0, 6.0, 8.0, 10.0, 12.0, 14.0, 16.0, 18.0, 20.0, 22.0, 24.0], \"xaxis\": \"x\", \"y\": [0.9427100628483497, 1.6115529282425969, 1.9298146946066275, 0.17975403586958968, -0.4271188734528377, -0.7184505093145653, -1.1703291119474675, -0.7842656013716444, -0.7529541074171188, -1.0244415340174735, -0.3595553424403062, 0.5732833583942527], \"yaxis\": \"y\"}, {\"line\": {\"color\": \"rgb(0, 0, 0)\", \"dash\": \"dot\", \"width\": 2}, \"marker\": {\"size\": 7, \"symbol\": \"diamond\"}, \"mode\": \"lines+markers\", \"name\": \"Accidents rate\", \"type\": \"scatter\", \"x\": [0.0, 2.0, 4.0, 6.0, 8.0, 10.0, 12.0, 14.0, 16.0, 18.0, 20.0, 22.0, 24.0], \"xaxis\": \"x\", \"y\": [1.3497259124073242, 2.1087985412867885, 0.8747239618073904, -0.629553780613118, -0.9557814803464374, -1.0672175735061826, -1.1627446018170966, -0.7508751411100453, -0.46639581885876613, 0.22531858475655114, -0.09529167435441338, 0.5692930703480084], \"yaxis\": \"y2\"}],                        {\"legend\": {\"orientation\": \"h\", \"x\": 0.95, \"xanchor\": \"right\", \"y\": 1.01, \"yanchor\": \"bottom\"}, \"paper_bgcolor\": \"rgba(0,0,0,0)\", \"plot_bgcolor\": \"rgba(0,0,0,0)\", \"template\": {\"data\": {\"bar\": [{\"error_x\": {\"color\": \"#2a3f5f\"}, \"error_y\": {\"color\": \"#2a3f5f\"}, \"marker\": {\"line\": {\"color\": \"#E5ECF6\", \"width\": 0.5}}, \"type\": \"bar\"}], \"barpolar\": [{\"marker\": {\"line\": {\"color\": \"#E5ECF6\", \"width\": 0.5}}, \"type\": \"barpolar\"}], \"carpet\": [{\"aaxis\": {\"endlinecolor\": \"#2a3f5f\", \"gridcolor\": \"white\", \"linecolor\": \"white\", \"minorgridcolor\": \"white\", \"startlinecolor\": \"#2a3f5f\"}, \"baxis\": {\"endlinecolor\": \"#2a3f5f\", \"gridcolor\": \"white\", \"linecolor\": \"white\", \"minorgridcolor\": \"white\", \"startlinecolor\": \"#2a3f5f\"}, \"type\": \"carpet\"}], \"choropleth\": [{\"colorbar\": {\"outlinewidth\": 0, \"ticks\": \"\"}, \"type\": \"choropleth\"}], \"contour\": [{\"colorbar\": {\"outlinewidth\": 0, \"ticks\": \"\"}, \"colorscale\": [[0.0, \"#0d0887\"], [0.1111111111111111, \"#46039f\"], [0.2222222222222222, \"#7201a8\"], [0.3333333333333333, \"#9c179e\"], [0.4444444444444444, \"#bd3786\"], [0.5555555555555556, \"#d8576b\"], [0.6666666666666666, \"#ed7953\"], [0.7777777777777778, \"#fb9f3a\"], [0.8888888888888888, \"#fdca26\"], [1.0, \"#f0f921\"]], \"type\": \"contour\"}], \"contourcarpet\": [{\"colorbar\": {\"outlinewidth\": 0, \"ticks\": \"\"}, \"type\": \"contourcarpet\"}], \"heatmap\": [{\"colorbar\": {\"outlinewidth\": 0, \"ticks\": \"\"}, \"colorscale\": [[0.0, \"#0d0887\"], [0.1111111111111111, \"#46039f\"], [0.2222222222222222, \"#7201a8\"], [0.3333333333333333, \"#9c179e\"], [0.4444444444444444, \"#bd3786\"], [0.5555555555555556, \"#d8576b\"], [0.6666666666666666, \"#ed7953\"], [0.7777777777777778, \"#fb9f3a\"], [0.8888888888888888, \"#fdca26\"], [1.0, \"#f0f921\"]], \"type\": \"heatmap\"}], \"heatmapgl\": [{\"colorbar\": {\"outlinewidth\": 0, \"ticks\": \"\"}, \"colorscale\": [[0.0, \"#0d0887\"], [0.1111111111111111, \"#46039f\"], [0.2222222222222222, \"#7201a8\"], [0.3333333333333333, \"#9c179e\"], [0.4444444444444444, \"#bd3786\"], [0.5555555555555556, \"#d8576b\"], [0.6666666666666666, \"#ed7953\"], [0.7777777777777778, \"#fb9f3a\"], [0.8888888888888888, \"#fdca26\"], [1.0, \"#f0f921\"]], \"type\": \"heatmapgl\"}], \"histogram\": [{\"marker\": {\"colorbar\": {\"outlinewidth\": 0, \"ticks\": \"\"}}, \"type\": \"histogram\"}], \"histogram2d\": [{\"colorbar\": {\"outlinewidth\": 0, \"ticks\": \"\"}, \"colorscale\": [[0.0, \"#0d0887\"], [0.1111111111111111, \"#46039f\"], [0.2222222222222222, \"#7201a8\"], [0.3333333333333333, \"#9c179e\"], [0.4444444444444444, \"#bd3786\"], [0.5555555555555556, \"#d8576b\"], [0.6666666666666666, \"#ed7953\"], [0.7777777777777778, \"#fb9f3a\"], [0.8888888888888888, \"#fdca26\"], [1.0, \"#f0f921\"]], \"type\": \"histogram2d\"}], \"histogram2dcontour\": [{\"colorbar\": {\"outlinewidth\": 0, \"ticks\": \"\"}, \"colorscale\": [[0.0, \"#0d0887\"], [0.1111111111111111, \"#46039f\"], [0.2222222222222222, \"#7201a8\"], [0.3333333333333333, \"#9c179e\"], [0.4444444444444444, \"#bd3786\"], [0.5555555555555556, \"#d8576b\"], [0.6666666666666666, \"#ed7953\"], [0.7777777777777778, \"#fb9f3a\"], [0.8888888888888888, \"#fdca26\"], [1.0, \"#f0f921\"]], \"type\": \"histogram2dcontour\"}], \"mesh3d\": [{\"colorbar\": {\"outlinewidth\": 0, \"ticks\": \"\"}, \"type\": \"mesh3d\"}], \"parcoords\": [{\"line\": {\"colorbar\": {\"outlinewidth\": 0, \"ticks\": \"\"}}, \"type\": \"parcoords\"}], \"pie\": [{\"automargin\": true, \"type\": \"pie\"}], \"scatter\": [{\"marker\": {\"colorbar\": {\"outlinewidth\": 0, \"ticks\": \"\"}}, \"type\": \"scatter\"}], \"scatter3d\": [{\"line\": {\"colorbar\": {\"outlinewidth\": 0, \"ticks\": \"\"}}, \"marker\": {\"colorbar\": {\"outlinewidth\": 0, \"ticks\": \"\"}}, \"type\": \"scatter3d\"}], \"scattercarpet\": [{\"marker\": {\"colorbar\": {\"outlinewidth\": 0, \"ticks\": \"\"}}, \"type\": \"scattercarpet\"}], \"scattergeo\": [{\"marker\": {\"colorbar\": {\"outlinewidth\": 0, \"ticks\": \"\"}}, \"type\": \"scattergeo\"}], \"scattergl\": [{\"marker\": {\"colorbar\": {\"outlinewidth\": 0, \"ticks\": \"\"}}, \"type\": \"scattergl\"}], \"scattermapbox\": [{\"marker\": {\"colorbar\": {\"outlinewidth\": 0, \"ticks\": \"\"}}, \"type\": \"scattermapbox\"}], \"scatterpolar\": [{\"marker\": {\"colorbar\": {\"outlinewidth\": 0, \"ticks\": \"\"}}, \"type\": \"scatterpolar\"}], \"scatterpolargl\": [{\"marker\": {\"colorbar\": {\"outlinewidth\": 0, \"ticks\": \"\"}}, \"type\": \"scatterpolargl\"}], \"scatterternary\": [{\"marker\": {\"colorbar\": {\"outlinewidth\": 0, \"ticks\": \"\"}}, \"type\": \"scatterternary\"}], \"surface\": [{\"colorbar\": {\"outlinewidth\": 0, \"ticks\": \"\"}, \"colorscale\": [[0.0, \"#0d0887\"], [0.1111111111111111, \"#46039f\"], [0.2222222222222222, \"#7201a8\"], [0.3333333333333333, \"#9c179e\"], [0.4444444444444444, \"#bd3786\"], [0.5555555555555556, \"#d8576b\"], [0.6666666666666666, \"#ed7953\"], [0.7777777777777778, \"#fb9f3a\"], [0.8888888888888888, \"#fdca26\"], [1.0, \"#f0f921\"]], \"type\": \"surface\"}], \"table\": [{\"cells\": {\"fill\": {\"color\": \"#EBF0F8\"}, \"line\": {\"color\": \"white\"}}, \"header\": {\"fill\": {\"color\": \"#C8D4E3\"}, \"line\": {\"color\": \"white\"}}, \"type\": \"table\"}]}, \"layout\": {\"annotationdefaults\": {\"arrowcolor\": \"#2a3f5f\", \"arrowhead\": 0, \"arrowwidth\": 1}, \"autotypenumbers\": \"strict\", \"coloraxis\": {\"colorbar\": {\"outlinewidth\": 0, \"ticks\": \"\"}}, \"colorscale\": {\"diverging\": [[0, \"#8e0152\"], [0.1, \"#c51b7d\"], [0.2, \"#de77ae\"], [0.3, \"#f1b6da\"], [0.4, \"#fde0ef\"], [0.5, \"#f7f7f7\"], [0.6, \"#e6f5d0\"], [0.7, \"#b8e186\"], [0.8, \"#7fbc41\"], [0.9, \"#4d9221\"], [1, \"#276419\"]], \"sequential\": [[0.0, \"#0d0887\"], [0.1111111111111111, \"#46039f\"], [0.2222222222222222, \"#7201a8\"], [0.3333333333333333, \"#9c179e\"], [0.4444444444444444, \"#bd3786\"], [0.5555555555555556, \"#d8576b\"], [0.6666666666666666, \"#ed7953\"], [0.7777777777777778, \"#fb9f3a\"], [0.8888888888888888, \"#fdca26\"], [1.0, \"#f0f921\"]], \"sequentialminus\": [[0.0, \"#0d0887\"], [0.1111111111111111, \"#46039f\"], [0.2222222222222222, \"#7201a8\"], [0.3333333333333333, \"#9c179e\"], [0.4444444444444444, \"#bd3786\"], [0.5555555555555556, \"#d8576b\"], [0.6666666666666666, \"#ed7953\"], [0.7777777777777778, \"#fb9f3a\"], [0.8888888888888888, \"#fdca26\"], [1.0, \"#f0f921\"]]}, \"colorway\": [\"#636efa\", \"#EF553B\", \"#00cc96\", \"#ab63fa\", \"#FFA15A\", \"#19d3f3\", \"#FF6692\", \"#B6E880\", \"#FF97FF\", \"#FECB52\"], \"font\": {\"color\": \"#2a3f5f\"}, \"geo\": {\"bgcolor\": \"white\", \"lakecolor\": \"white\", \"landcolor\": \"#E5ECF6\", \"showlakes\": true, \"showland\": true, \"subunitcolor\": \"white\"}, \"hoverlabel\": {\"align\": \"left\"}, \"hovermode\": \"closest\", \"mapbox\": {\"style\": \"light\"}, \"paper_bgcolor\": \"white\", \"plot_bgcolor\": \"#E5ECF6\", \"polar\": {\"angularaxis\": {\"gridcolor\": \"white\", \"linecolor\": \"white\", \"ticks\": \"\"}, \"bgcolor\": \"#E5ECF6\", \"radialaxis\": {\"gridcolor\": \"white\", \"linecolor\": \"white\", \"ticks\": \"\"}}, \"scene\": {\"xaxis\": {\"backgroundcolor\": \"#E5ECF6\", \"gridcolor\": \"white\", \"gridwidth\": 2, \"linecolor\": \"white\", \"showbackground\": true, \"ticks\": \"\", \"zerolinecolor\": \"white\"}, \"yaxis\": {\"backgroundcolor\": \"#E5ECF6\", \"gridcolor\": \"white\", \"gridwidth\": 2, \"linecolor\": \"white\", \"showbackground\": true, \"ticks\": \"\", \"zerolinecolor\": \"white\"}, \"zaxis\": {\"backgroundcolor\": \"#E5ECF6\", \"gridcolor\": \"white\", \"gridwidth\": 2, \"linecolor\": \"white\", \"showbackground\": true, \"ticks\": \"\", \"zerolinecolor\": \"white\"}}, \"shapedefaults\": {\"line\": {\"color\": \"#2a3f5f\"}}, \"ternary\": {\"aaxis\": {\"gridcolor\": \"white\", \"linecolor\": \"white\", \"ticks\": \"\"}, \"baxis\": {\"gridcolor\": \"white\", \"linecolor\": \"white\", \"ticks\": \"\"}, \"bgcolor\": \"#E5ECF6\", \"caxis\": {\"gridcolor\": \"white\", \"linecolor\": \"white\", \"ticks\": \"\"}}, \"title\": {\"x\": 0.05}, \"xaxis\": {\"automargin\": true, \"gridcolor\": \"white\", \"linecolor\": \"white\", \"ticks\": \"\", \"title\": {\"standoff\": 15}, \"zerolinecolor\": \"white\", \"zerolinewidth\": 2}, \"yaxis\": {\"automargin\": true, \"gridcolor\": \"white\", \"linecolor\": \"white\", \"ticks\": \"\", \"title\": {\"standoff\": 15}, \"zerolinecolor\": \"white\", \"zerolinewidth\": 2}}}, \"title\": {\"text\": \"Comparison companies and Brazilian Highways\"}, \"xaxis\": {\"anchor\": \"y\", \"domain\": [0.0, 0.94], \"dtick\": 2, \"gridcolor\": \"black\", \"gridwidth\": 1, \"linecolor\": \"black\", \"linewidth\": 2, \"mirror\": true, \"showgrid\": true, \"showline\": true, \"tick0\": 0, \"tickmode\": \"linear\", \"title\": {\"text\": \"Time of day\"}}, \"yaxis\": {\"anchor\": \"x\", \"domain\": [0.0, 1.0], \"gridcolor\": \"black\", \"gridwidth\": 1, \"linecolor\": \"black\", \"linewidth\": 2, \"mirror\": true, \"showgrid\": false, \"showline\": true, \"title\": {\"text\": \"<b>Yawn rate</b>\"}}, \"yaxis2\": {\"anchor\": \"x\", \"gridcolor\": \"black\", \"gridwidth\": 1, \"linecolor\": \"black\", \"linewidth\": 2, \"mirror\": true, \"overlaying\": \"y\", \"showgrid\": false, \"showline\": true, \"side\": \"right\", \"title\": {\"text\": \"<b>Federal Highways</b>\"}}},                        {\"responsive\": true}                    ).then(function(){\n",
              "                            \n",
              "var gd = document.getElementById('d12cac60-767c-4c68-9b3a-770e1dfe2373');\n",
              "var x = new MutationObserver(function (mutations, observer) {{\n",
              "        var display = window.getComputedStyle(gd).display;\n",
              "        if (!display || display === 'none') {{\n",
              "            console.log([gd, 'removed!']);\n",
              "            Plotly.purge(gd);\n",
              "            observer.disconnect();\n",
              "        }}\n",
              "}});\n",
              "\n",
              "// Listen for the removal of the full notebook cells\n",
              "var notebookContainer = gd.closest('#notebook-container');\n",
              "if (notebookContainer) {{\n",
              "    x.observe(notebookContainer, {childList: true});\n",
              "}}\n",
              "\n",
              "// Listen for the clearing of the current output cell\n",
              "var outputEl = gd.closest('.output');\n",
              "if (outputEl) {{\n",
              "    x.observe(outputEl, {childList: true});\n",
              "}}\n",
              "\n",
              "                        })                };                            </script>        </div>\n",
              "</body>\n",
              "</html>"
            ]
          },
          "metadata": {
            "tags": []
          }
        }
      ]
    },
    {
      "cell_type": "code",
      "metadata": {
        "colab": {
          "base_uri": "https://localhost:8080/",
          "height": 542
        },
        "id": "NBQJerdhkFKj",
        "outputId": "3f06142b-8da4-4323-c6ca-6ea3fa671a7a"
      },
      "source": [
        "graphics_plot(y = [stats.zscore(at9r/m9r), stats.zscore(cfedr)], \r\n",
        "              y_name = ['E9','Accidents Rate'], bins = Nbins, title = 'Comparison companies and Brazilian Highways', \r\n",
        "              yaxes_title = ['Companies Rate','Federal Highways'], x_tick = agr)"
      ],
      "execution_count": 120,
      "outputs": [
        {
          "output_type": "display_data",
          "data": {
            "text/html": [
              "<html>\n",
              "<head><meta charset=\"utf-8\" /></head>\n",
              "<body>\n",
              "    <div>            <script src=\"https://cdnjs.cloudflare.com/ajax/libs/mathjax/2.7.5/MathJax.js?config=TeX-AMS-MML_SVG\"></script><script type=\"text/javascript\">if (window.MathJax) {MathJax.Hub.Config({SVG: {font: \"STIX-Web\"}});}</script>                <script type=\"text/javascript\">window.PlotlyConfig = {MathJaxConfig: 'local'};</script>\n",
              "        <script src=\"https://cdn.plot.ly/plotly-latest.min.js\"></script>                <div id=\"d9d58117-85ca-4a3c-af1b-f0213174df57\" class=\"plotly-graph-div\" style=\"height:525px; width:100%;\"></div>            <script type=\"text/javascript\">                                    window.PLOTLYENV=window.PLOTLYENV || {};                                    if (document.getElementById(\"d9d58117-85ca-4a3c-af1b-f0213174df57\")) {                    Plotly.newPlot(                        \"d9d58117-85ca-4a3c-af1b-f0213174df57\",                        [{\"line\": {\"color\": \"rgb(0, 0, 0)\", \"width\": 2}, \"marker\": {\"size\": 7, \"symbol\": \"circle\"}, \"mode\": \"lines+markers\", \"name\": \"E9\", \"type\": \"scatter\", \"x\": [0.0, 2.0, 4.0, 6.0, 8.0, 10.0, 12.0, 14.0, 16.0, 18.0, 20.0, 22.0, 24.0], \"xaxis\": \"x\", \"y\": [0.40505753287338364, 2.8181648250457303, -0.7865476609603943, 0.12558646902425882, 0.09249898577785058, -0.07350298771265974, 0.1544180702956321, -0.557100782737124, -0.5597971125084796, -1.3796046237901087, -0.6966468989366226, 0.45747418362853526], \"yaxis\": \"y\"}, {\"line\": {\"color\": \"rgb(0, 0, 0)\", \"dash\": \"dash\", \"width\": 2}, \"marker\": {\"size\": 7, \"symbol\": \"star\"}, \"mode\": \"lines+markers\", \"name\": \"Accidents Rate\", \"type\": \"scatter\", \"x\": [0.0, 2.0, 4.0, 6.0, 8.0, 10.0, 12.0, 14.0, 16.0, 18.0, 20.0, 22.0, 24.0], \"xaxis\": \"x\", \"y\": [1.3497259124073242, 2.1087985412867885, 0.8747239618073904, -0.629553780613118, -0.9557814803464374, -1.0672175735061826, -1.1627446018170966, -0.7508751411100453, -0.46639581885876613, 0.22531858475655114, -0.09529167435441338, 0.5692930703480084], \"yaxis\": \"y2\"}],                        {\"legend\": {\"orientation\": \"h\", \"x\": 0.95, \"xanchor\": \"right\", \"y\": 1.01, \"yanchor\": \"bottom\"}, \"paper_bgcolor\": \"rgba(0,0,0,0)\", \"plot_bgcolor\": \"rgba(0,0,0,0)\", \"template\": {\"data\": {\"bar\": [{\"error_x\": {\"color\": \"#2a3f5f\"}, \"error_y\": {\"color\": \"#2a3f5f\"}, \"marker\": {\"line\": {\"color\": \"#E5ECF6\", \"width\": 0.5}}, \"type\": \"bar\"}], \"barpolar\": [{\"marker\": {\"line\": {\"color\": \"#E5ECF6\", \"width\": 0.5}}, \"type\": \"barpolar\"}], \"carpet\": [{\"aaxis\": {\"endlinecolor\": \"#2a3f5f\", \"gridcolor\": \"white\", \"linecolor\": \"white\", \"minorgridcolor\": \"white\", \"startlinecolor\": \"#2a3f5f\"}, \"baxis\": {\"endlinecolor\": \"#2a3f5f\", \"gridcolor\": \"white\", \"linecolor\": \"white\", \"minorgridcolor\": \"white\", \"startlinecolor\": \"#2a3f5f\"}, \"type\": \"carpet\"}], \"choropleth\": [{\"colorbar\": {\"outlinewidth\": 0, \"ticks\": \"\"}, \"type\": \"choropleth\"}], \"contour\": [{\"colorbar\": {\"outlinewidth\": 0, \"ticks\": \"\"}, \"colorscale\": [[0.0, \"#0d0887\"], [0.1111111111111111, \"#46039f\"], [0.2222222222222222, \"#7201a8\"], [0.3333333333333333, \"#9c179e\"], [0.4444444444444444, \"#bd3786\"], [0.5555555555555556, \"#d8576b\"], [0.6666666666666666, \"#ed7953\"], [0.7777777777777778, \"#fb9f3a\"], [0.8888888888888888, \"#fdca26\"], [1.0, \"#f0f921\"]], \"type\": \"contour\"}], \"contourcarpet\": [{\"colorbar\": {\"outlinewidth\": 0, \"ticks\": \"\"}, \"type\": \"contourcarpet\"}], \"heatmap\": [{\"colorbar\": {\"outlinewidth\": 0, \"ticks\": \"\"}, \"colorscale\": [[0.0, \"#0d0887\"], [0.1111111111111111, \"#46039f\"], [0.2222222222222222, \"#7201a8\"], [0.3333333333333333, \"#9c179e\"], [0.4444444444444444, \"#bd3786\"], [0.5555555555555556, \"#d8576b\"], [0.6666666666666666, \"#ed7953\"], [0.7777777777777778, \"#fb9f3a\"], [0.8888888888888888, \"#fdca26\"], [1.0, \"#f0f921\"]], \"type\": \"heatmap\"}], \"heatmapgl\": [{\"colorbar\": {\"outlinewidth\": 0, \"ticks\": \"\"}, \"colorscale\": [[0.0, \"#0d0887\"], [0.1111111111111111, \"#46039f\"], [0.2222222222222222, \"#7201a8\"], [0.3333333333333333, \"#9c179e\"], [0.4444444444444444, \"#bd3786\"], [0.5555555555555556, \"#d8576b\"], [0.6666666666666666, \"#ed7953\"], [0.7777777777777778, \"#fb9f3a\"], [0.8888888888888888, \"#fdca26\"], [1.0, \"#f0f921\"]], \"type\": \"heatmapgl\"}], \"histogram\": [{\"marker\": {\"colorbar\": {\"outlinewidth\": 0, \"ticks\": \"\"}}, \"type\": \"histogram\"}], \"histogram2d\": [{\"colorbar\": {\"outlinewidth\": 0, \"ticks\": \"\"}, \"colorscale\": [[0.0, \"#0d0887\"], [0.1111111111111111, \"#46039f\"], [0.2222222222222222, \"#7201a8\"], [0.3333333333333333, \"#9c179e\"], [0.4444444444444444, \"#bd3786\"], [0.5555555555555556, \"#d8576b\"], [0.6666666666666666, \"#ed7953\"], [0.7777777777777778, \"#fb9f3a\"], [0.8888888888888888, \"#fdca26\"], [1.0, \"#f0f921\"]], \"type\": \"histogram2d\"}], \"histogram2dcontour\": [{\"colorbar\": {\"outlinewidth\": 0, \"ticks\": \"\"}, \"colorscale\": [[0.0, \"#0d0887\"], [0.1111111111111111, \"#46039f\"], [0.2222222222222222, \"#7201a8\"], [0.3333333333333333, \"#9c179e\"], [0.4444444444444444, \"#bd3786\"], [0.5555555555555556, \"#d8576b\"], [0.6666666666666666, \"#ed7953\"], [0.7777777777777778, \"#fb9f3a\"], [0.8888888888888888, \"#fdca26\"], [1.0, \"#f0f921\"]], \"type\": \"histogram2dcontour\"}], \"mesh3d\": [{\"colorbar\": {\"outlinewidth\": 0, \"ticks\": \"\"}, \"type\": \"mesh3d\"}], \"parcoords\": [{\"line\": {\"colorbar\": {\"outlinewidth\": 0, \"ticks\": \"\"}}, \"type\": \"parcoords\"}], \"pie\": [{\"automargin\": true, \"type\": \"pie\"}], \"scatter\": [{\"marker\": {\"colorbar\": {\"outlinewidth\": 0, \"ticks\": \"\"}}, \"type\": \"scatter\"}], \"scatter3d\": [{\"line\": {\"colorbar\": {\"outlinewidth\": 0, \"ticks\": \"\"}}, \"marker\": {\"colorbar\": {\"outlinewidth\": 0, \"ticks\": \"\"}}, \"type\": \"scatter3d\"}], \"scattercarpet\": [{\"marker\": {\"colorbar\": {\"outlinewidth\": 0, \"ticks\": \"\"}}, \"type\": \"scattercarpet\"}], \"scattergeo\": [{\"marker\": {\"colorbar\": {\"outlinewidth\": 0, \"ticks\": \"\"}}, \"type\": \"scattergeo\"}], \"scattergl\": [{\"marker\": {\"colorbar\": {\"outlinewidth\": 0, \"ticks\": \"\"}}, \"type\": \"scattergl\"}], \"scattermapbox\": [{\"marker\": {\"colorbar\": {\"outlinewidth\": 0, \"ticks\": \"\"}}, \"type\": \"scattermapbox\"}], \"scatterpolar\": [{\"marker\": {\"colorbar\": {\"outlinewidth\": 0, \"ticks\": \"\"}}, \"type\": \"scatterpolar\"}], \"scatterpolargl\": [{\"marker\": {\"colorbar\": {\"outlinewidth\": 0, \"ticks\": \"\"}}, \"type\": \"scatterpolargl\"}], \"scatterternary\": [{\"marker\": {\"colorbar\": {\"outlinewidth\": 0, \"ticks\": \"\"}}, \"type\": \"scatterternary\"}], \"surface\": [{\"colorbar\": {\"outlinewidth\": 0, \"ticks\": \"\"}, \"colorscale\": [[0.0, \"#0d0887\"], [0.1111111111111111, \"#46039f\"], [0.2222222222222222, \"#7201a8\"], [0.3333333333333333, \"#9c179e\"], [0.4444444444444444, \"#bd3786\"], [0.5555555555555556, \"#d8576b\"], [0.6666666666666666, \"#ed7953\"], [0.7777777777777778, \"#fb9f3a\"], [0.8888888888888888, \"#fdca26\"], [1.0, \"#f0f921\"]], \"type\": \"surface\"}], \"table\": [{\"cells\": {\"fill\": {\"color\": \"#EBF0F8\"}, \"line\": {\"color\": \"white\"}}, \"header\": {\"fill\": {\"color\": \"#C8D4E3\"}, \"line\": {\"color\": \"white\"}}, \"type\": \"table\"}]}, \"layout\": {\"annotationdefaults\": {\"arrowcolor\": \"#2a3f5f\", \"arrowhead\": 0, \"arrowwidth\": 1}, \"autotypenumbers\": \"strict\", \"coloraxis\": {\"colorbar\": {\"outlinewidth\": 0, \"ticks\": \"\"}}, \"colorscale\": {\"diverging\": [[0, \"#8e0152\"], [0.1, \"#c51b7d\"], [0.2, \"#de77ae\"], [0.3, \"#f1b6da\"], [0.4, \"#fde0ef\"], [0.5, \"#f7f7f7\"], [0.6, \"#e6f5d0\"], [0.7, \"#b8e186\"], [0.8, \"#7fbc41\"], [0.9, \"#4d9221\"], [1, \"#276419\"]], \"sequential\": [[0.0, \"#0d0887\"], [0.1111111111111111, \"#46039f\"], [0.2222222222222222, \"#7201a8\"], [0.3333333333333333, \"#9c179e\"], [0.4444444444444444, \"#bd3786\"], [0.5555555555555556, \"#d8576b\"], [0.6666666666666666, \"#ed7953\"], [0.7777777777777778, \"#fb9f3a\"], [0.8888888888888888, \"#fdca26\"], [1.0, \"#f0f921\"]], \"sequentialminus\": [[0.0, \"#0d0887\"], [0.1111111111111111, \"#46039f\"], [0.2222222222222222, \"#7201a8\"], [0.3333333333333333, \"#9c179e\"], [0.4444444444444444, \"#bd3786\"], [0.5555555555555556, \"#d8576b\"], [0.6666666666666666, \"#ed7953\"], [0.7777777777777778, \"#fb9f3a\"], [0.8888888888888888, \"#fdca26\"], [1.0, \"#f0f921\"]]}, \"colorway\": [\"#636efa\", \"#EF553B\", \"#00cc96\", \"#ab63fa\", \"#FFA15A\", \"#19d3f3\", \"#FF6692\", \"#B6E880\", \"#FF97FF\", \"#FECB52\"], \"font\": {\"color\": \"#2a3f5f\"}, \"geo\": {\"bgcolor\": \"white\", \"lakecolor\": \"white\", \"landcolor\": \"#E5ECF6\", \"showlakes\": true, \"showland\": true, \"subunitcolor\": \"white\"}, \"hoverlabel\": {\"align\": \"left\"}, \"hovermode\": \"closest\", \"mapbox\": {\"style\": \"light\"}, \"paper_bgcolor\": \"white\", \"plot_bgcolor\": \"#E5ECF6\", \"polar\": {\"angularaxis\": {\"gridcolor\": \"white\", \"linecolor\": \"white\", \"ticks\": \"\"}, \"bgcolor\": \"#E5ECF6\", \"radialaxis\": {\"gridcolor\": \"white\", \"linecolor\": \"white\", \"ticks\": \"\"}}, \"scene\": {\"xaxis\": {\"backgroundcolor\": \"#E5ECF6\", \"gridcolor\": \"white\", \"gridwidth\": 2, \"linecolor\": \"white\", \"showbackground\": true, \"ticks\": \"\", \"zerolinecolor\": \"white\"}, \"yaxis\": {\"backgroundcolor\": \"#E5ECF6\", \"gridcolor\": \"white\", \"gridwidth\": 2, \"linecolor\": \"white\", \"showbackground\": true, \"ticks\": \"\", \"zerolinecolor\": \"white\"}, \"zaxis\": {\"backgroundcolor\": \"#E5ECF6\", \"gridcolor\": \"white\", \"gridwidth\": 2, \"linecolor\": \"white\", \"showbackground\": true, \"ticks\": \"\", \"zerolinecolor\": \"white\"}}, \"shapedefaults\": {\"line\": {\"color\": \"#2a3f5f\"}}, \"ternary\": {\"aaxis\": {\"gridcolor\": \"white\", \"linecolor\": \"white\", \"ticks\": \"\"}, \"baxis\": {\"gridcolor\": \"white\", \"linecolor\": \"white\", \"ticks\": \"\"}, \"bgcolor\": \"#E5ECF6\", \"caxis\": {\"gridcolor\": \"white\", \"linecolor\": \"white\", \"ticks\": \"\"}}, \"title\": {\"x\": 0.05}, \"xaxis\": {\"automargin\": true, \"gridcolor\": \"white\", \"linecolor\": \"white\", \"ticks\": \"\", \"title\": {\"standoff\": 15}, \"zerolinecolor\": \"white\", \"zerolinewidth\": 2}, \"yaxis\": {\"automargin\": true, \"gridcolor\": \"white\", \"linecolor\": \"white\", \"ticks\": \"\", \"title\": {\"standoff\": 15}, \"zerolinecolor\": \"white\", \"zerolinewidth\": 2}}}, \"title\": {\"text\": \"Comparison companies and Brazilian Highways\"}, \"xaxis\": {\"anchor\": \"y\", \"domain\": [0.0, 0.94], \"dtick\": 2, \"gridcolor\": \"black\", \"gridwidth\": 1, \"linecolor\": \"black\", \"linewidth\": 2, \"mirror\": true, \"showgrid\": true, \"showline\": true, \"tick0\": 0, \"tickmode\": \"linear\", \"title\": {\"text\": \"Time of day\"}}, \"yaxis\": {\"anchor\": \"x\", \"domain\": [0.0, 1.0], \"gridcolor\": \"black\", \"gridwidth\": 1, \"linecolor\": \"black\", \"linewidth\": 2, \"mirror\": true, \"showgrid\": false, \"showline\": true, \"title\": {\"text\": \"<b>Companies Rate</b>\"}}, \"yaxis2\": {\"anchor\": \"x\", \"gridcolor\": \"black\", \"gridwidth\": 1, \"linecolor\": \"black\", \"linewidth\": 2, \"mirror\": true, \"overlaying\": \"y\", \"showgrid\": false, \"showline\": true, \"side\": \"right\", \"title\": {\"text\": \"<b>Federal Highways</b>\"}}},                        {\"responsive\": true}                    ).then(function(){\n",
              "                            \n",
              "var gd = document.getElementById('d9d58117-85ca-4a3c-af1b-f0213174df57');\n",
              "var x = new MutationObserver(function (mutations, observer) {{\n",
              "        var display = window.getComputedStyle(gd).display;\n",
              "        if (!display || display === 'none') {{\n",
              "            console.log([gd, 'removed!']);\n",
              "            Plotly.purge(gd);\n",
              "            observer.disconnect();\n",
              "        }}\n",
              "}});\n",
              "\n",
              "// Listen for the removal of the full notebook cells\n",
              "var notebookContainer = gd.closest('#notebook-container');\n",
              "if (notebookContainer) {{\n",
              "    x.observe(notebookContainer, {childList: true});\n",
              "}}\n",
              "\n",
              "// Listen for the clearing of the current output cell\n",
              "var outputEl = gd.closest('.output');\n",
              "if (outputEl) {{\n",
              "    x.observe(outputEl, {childList: true});\n",
              "}}\n",
              "\n",
              "                        })                };                            </script>        </div>\n",
              "</body>\n",
              "</html>"
            ]
          },
          "metadata": {
            "tags": []
          }
        }
      ]
    },
    {
      "cell_type": "markdown",
      "metadata": {
        "id": "4HobNQlsUPip"
      },
      "source": [
        "## **Ajustando uma senóide**"
      ]
    },
    {
      "cell_type": "code",
      "metadata": {
        "id": "5iuPk8K1UNzF"
      },
      "source": [
        "def sinusoid(x,A,offset,omega,phase):\n",
        " return A*np.sin(2*np.pi*x/24+phase) + offset"
      ],
      "execution_count": 121,
      "outputs": []
    },
    {
      "cell_type": "code",
      "metadata": {
        "id": "J1g-4-2zUXLR"
      },
      "source": [
        "T = 24\n",
        "def get_p0(x, y): \n",
        " A0 = (max(y[0:T]) - min(y[0:T]))/2\n",
        " offset0 = y[0]\n",
        " phase0 = 0\n",
        " omega0 = 2.*np.pi/T\n",
        " return [A0, offset0, omega0, phase0]"
      ],
      "execution_count": 122,
      "outputs": []
    },
    {
      "cell_type": "code",
      "metadata": {
        "id": "Bv2_WGrWUnOj"
      },
      "source": [
        "Nbins = 12\n",
        "X = np.linspace(0,24,Nbins)\n",
        "X = X[0:12]\n",
        "ys = cfedr\n",
        "acs = at9r/m9r"
      ],
      "execution_count": 123,
      "outputs": []
    },
    {
      "cell_type": "code",
      "metadata": {
        "id": "JLa10mcTUks_",
        "colab": {
          "base_uri": "https://localhost:8080/"
        },
        "outputId": "5e78bd5b-ea6b-400d-e16e-4dbe0ec0fc6a"
      },
      "source": [
        "paramy, covariancey = curve_fit(sinusoid, X, ys, p0=get_p0(X,ys))\n",
        "parama, covariancea = curve_fit(sinusoid, X, acs, p0=get_p0(X,acs))"
      ],
      "execution_count": 124,
      "outputs": [
        {
          "output_type": "stream",
          "text": [
            "/usr/local/lib/python3.7/dist-packages/scipy/optimize/minpack.py:808: OptimizeWarning:\n",
            "\n",
            "Covariance of the parameters could not be estimated\n",
            "\n"
          ],
          "name": "stderr"
        }
      ]
    },
    {
      "cell_type": "code",
      "metadata": {
        "colab": {
          "base_uri": "https://localhost:8080/",
          "height": 542
        },
        "id": "Ol4hOI_iVNTR",
        "outputId": "33ebb0b4-ee85-4756-d466-e68e7fb33912"
      },
      "source": [
        "graphics_plot(y=[stats.zscore(sinusoid(X, *paramy)), stats.zscore(ys), stats.zscore(acs), \r\n",
        "                 stats.zscore(sinusoid(X, *parama))], \r\n",
        "              y_name=['Selected accidents - fit', 'Selected accidents - raw',\r\n",
        "                      'Federal Highways - raw', 'Federal Highways - fit'],\r\n",
        "              yaxes_title=['Fit'], title='Fitting an harmonic curve to the accidents',\r\n",
        "              bins=Nbins, x_tick=agr)"
      ],
      "execution_count": 125,
      "outputs": [
        {
          "output_type": "display_data",
          "data": {
            "text/html": [
              "<html>\n",
              "<head><meta charset=\"utf-8\" /></head>\n",
              "<body>\n",
              "    <div>            <script src=\"https://cdnjs.cloudflare.com/ajax/libs/mathjax/2.7.5/MathJax.js?config=TeX-AMS-MML_SVG\"></script><script type=\"text/javascript\">if (window.MathJax) {MathJax.Hub.Config({SVG: {font: \"STIX-Web\"}});}</script>                <script type=\"text/javascript\">window.PlotlyConfig = {MathJaxConfig: 'local'};</script>\n",
              "        <script src=\"https://cdn.plot.ly/plotly-latest.min.js\"></script>                <div id=\"123261b8-aac8-4792-8c53-01b42e96e65c\" class=\"plotly-graph-div\" style=\"height:525px; width:100%;\"></div>            <script type=\"text/javascript\">                                    window.PLOTLYENV=window.PLOTLYENV || {};                                    if (document.getElementById(\"123261b8-aac8-4792-8c53-01b42e96e65c\")) {                    Plotly.newPlot(                        \"123261b8-aac8-4792-8c53-01b42e96e65c\",                        [{\"line\": {\"color\": \"rgb(0, 0, 0)\", \"width\": 2}, \"marker\": {\"size\": 7, \"symbol\": \"circle\"}, \"mode\": \"lines+markers\", \"name\": \"Selected accidents - fit\", \"type\": \"scatter\", \"x\": [0.0, 2.1818181818181817, 4.363636363636363, 6.545454545454545, 8.727272727272727, 10.909090909090908, 13.09090909090909, 15.272727272727272, 17.454545454545453, 19.636363636363633, 21.818181818181817, 24.0], \"xaxis\": \"x\", \"y\": [1.2254375482469704, 1.1814415996178778, 0.7269764941375122, 0.006331691698898965, -0.7516931747565591, -1.3064305660770237, -1.481755280105354, -1.2220029589227877, -0.6096431291825899, 0.1609042899005252, 0.8449959371955699, 1.2254375482469697], \"yaxis\": \"y\"}, {\"line\": {\"color\": \"rgb(0, 0, 0)\", \"dash\": \"dash\", \"width\": 2}, \"marker\": {\"size\": 7, \"symbol\": \"star\"}, \"mode\": \"lines+markers\", \"name\": \"Selected accidents - raw\", \"type\": \"scatter\", \"x\": [0.0, 2.1818181818181817, 4.363636363636363, 6.545454545454545, 8.727272727272727, 10.909090909090908, 13.09090909090909, 15.272727272727272, 17.454545454545453, 19.636363636363633, 21.818181818181817, 24.0], \"xaxis\": \"x\", \"y\": [1.3497259124073242, 2.1087985412867885, 0.8747239618073904, -0.629553780613118, -0.9557814803464374, -1.0672175735061826, -1.1627446018170966, -0.7508751411100453, -0.46639581885876613, 0.22531858475655114, -0.09529167435441338, 0.5692930703480084], \"yaxis\": \"y\"}, {\"line\": {\"color\": \"rgb(0, 0, 0)\", \"dash\": \"dot\", \"width\": 2}, \"marker\": {\"size\": 7, \"symbol\": \"diamond\"}, \"mode\": \"lines+markers\", \"name\": \"Federal Highways - raw\", \"type\": \"scatter\", \"x\": [0.0, 2.1818181818181817, 4.363636363636363, 6.545454545454545, 8.727272727272727, 10.909090909090908, 13.09090909090909, 15.272727272727272, 17.454545454545453, 19.636363636363633, 21.818181818181817, 24.0], \"xaxis\": \"x\", \"y\": [0.40505753287338364, 2.8181648250457303, -0.7865476609603943, 0.12558646902425882, 0.09249898577785058, -0.07350298771265974, 0.1544180702956321, -0.557100782737124, -0.5597971125084796, -1.3796046237901087, -0.6966468989366226, 0.45747418362853526], \"yaxis\": \"y\"}, {\"line\": {\"color\": \"rgb(0, 0, 0)\", \"dash\": \"dashdot\", \"width\": 2}, \"marker\": {\"size\": 7, \"symbol\": \"x\"}, \"mode\": \"lines+markers\", \"name\": \"Federal Highways - fit\", \"type\": \"scatter\", \"x\": [0.0, 2.1818181818181817, 4.363636363636363, 6.545454545454545, 8.727272727272727, 10.909090909090908, 13.09090909090909, 15.272727272727272, 17.454545454545453, 19.636363636363633, 21.818181818181817, 24.0], \"xaxis\": \"x\", \"y\": [0.588508155841277, 1.1916971753244812, 1.3995446543829795, 1.146060486995809, 0.5117241052748558, -0.3020671715901753, -1.036940363169033, -1.4595784235012805, -1.4357967546492645, -0.9731458684402599, -0.21851415231066826, 0.588508155841277], \"yaxis\": \"y\"}],                        {\"legend\": {\"orientation\": \"h\", \"x\": 0.95, \"xanchor\": \"right\", \"y\": 1.01, \"yanchor\": \"bottom\"}, \"paper_bgcolor\": \"rgba(0,0,0,0)\", \"plot_bgcolor\": \"rgba(0,0,0,0)\", \"template\": {\"data\": {\"bar\": [{\"error_x\": {\"color\": \"#2a3f5f\"}, \"error_y\": {\"color\": \"#2a3f5f\"}, \"marker\": {\"line\": {\"color\": \"#E5ECF6\", \"width\": 0.5}}, \"type\": \"bar\"}], \"barpolar\": [{\"marker\": {\"line\": {\"color\": \"#E5ECF6\", \"width\": 0.5}}, \"type\": \"barpolar\"}], \"carpet\": [{\"aaxis\": {\"endlinecolor\": \"#2a3f5f\", \"gridcolor\": \"white\", \"linecolor\": \"white\", \"minorgridcolor\": \"white\", \"startlinecolor\": \"#2a3f5f\"}, \"baxis\": {\"endlinecolor\": \"#2a3f5f\", \"gridcolor\": \"white\", \"linecolor\": \"white\", \"minorgridcolor\": \"white\", \"startlinecolor\": \"#2a3f5f\"}, \"type\": \"carpet\"}], \"choropleth\": [{\"colorbar\": {\"outlinewidth\": 0, \"ticks\": \"\"}, \"type\": \"choropleth\"}], \"contour\": [{\"colorbar\": {\"outlinewidth\": 0, \"ticks\": \"\"}, \"colorscale\": [[0.0, \"#0d0887\"], [0.1111111111111111, \"#46039f\"], [0.2222222222222222, \"#7201a8\"], [0.3333333333333333, \"#9c179e\"], [0.4444444444444444, \"#bd3786\"], [0.5555555555555556, \"#d8576b\"], [0.6666666666666666, \"#ed7953\"], [0.7777777777777778, \"#fb9f3a\"], [0.8888888888888888, \"#fdca26\"], [1.0, \"#f0f921\"]], \"type\": \"contour\"}], \"contourcarpet\": [{\"colorbar\": {\"outlinewidth\": 0, \"ticks\": \"\"}, \"type\": \"contourcarpet\"}], \"heatmap\": [{\"colorbar\": {\"outlinewidth\": 0, \"ticks\": \"\"}, \"colorscale\": [[0.0, \"#0d0887\"], [0.1111111111111111, \"#46039f\"], [0.2222222222222222, \"#7201a8\"], [0.3333333333333333, \"#9c179e\"], [0.4444444444444444, \"#bd3786\"], [0.5555555555555556, \"#d8576b\"], [0.6666666666666666, \"#ed7953\"], [0.7777777777777778, \"#fb9f3a\"], [0.8888888888888888, \"#fdca26\"], [1.0, \"#f0f921\"]], \"type\": \"heatmap\"}], \"heatmapgl\": [{\"colorbar\": {\"outlinewidth\": 0, \"ticks\": \"\"}, \"colorscale\": [[0.0, \"#0d0887\"], [0.1111111111111111, \"#46039f\"], [0.2222222222222222, \"#7201a8\"], [0.3333333333333333, \"#9c179e\"], [0.4444444444444444, \"#bd3786\"], [0.5555555555555556, \"#d8576b\"], [0.6666666666666666, \"#ed7953\"], [0.7777777777777778, \"#fb9f3a\"], [0.8888888888888888, \"#fdca26\"], [1.0, \"#f0f921\"]], \"type\": \"heatmapgl\"}], \"histogram\": [{\"marker\": {\"colorbar\": {\"outlinewidth\": 0, \"ticks\": \"\"}}, \"type\": \"histogram\"}], \"histogram2d\": [{\"colorbar\": {\"outlinewidth\": 0, \"ticks\": \"\"}, \"colorscale\": [[0.0, \"#0d0887\"], [0.1111111111111111, \"#46039f\"], [0.2222222222222222, \"#7201a8\"], [0.3333333333333333, \"#9c179e\"], [0.4444444444444444, \"#bd3786\"], [0.5555555555555556, \"#d8576b\"], [0.6666666666666666, \"#ed7953\"], [0.7777777777777778, \"#fb9f3a\"], [0.8888888888888888, \"#fdca26\"], [1.0, \"#f0f921\"]], \"type\": \"histogram2d\"}], \"histogram2dcontour\": [{\"colorbar\": {\"outlinewidth\": 0, \"ticks\": \"\"}, \"colorscale\": [[0.0, \"#0d0887\"], [0.1111111111111111, \"#46039f\"], [0.2222222222222222, \"#7201a8\"], [0.3333333333333333, \"#9c179e\"], [0.4444444444444444, \"#bd3786\"], [0.5555555555555556, \"#d8576b\"], [0.6666666666666666, \"#ed7953\"], [0.7777777777777778, \"#fb9f3a\"], [0.8888888888888888, \"#fdca26\"], [1.0, \"#f0f921\"]], \"type\": \"histogram2dcontour\"}], \"mesh3d\": [{\"colorbar\": {\"outlinewidth\": 0, \"ticks\": \"\"}, \"type\": \"mesh3d\"}], \"parcoords\": [{\"line\": {\"colorbar\": {\"outlinewidth\": 0, \"ticks\": \"\"}}, \"type\": \"parcoords\"}], \"pie\": [{\"automargin\": true, \"type\": \"pie\"}], \"scatter\": [{\"marker\": {\"colorbar\": {\"outlinewidth\": 0, \"ticks\": \"\"}}, \"type\": \"scatter\"}], \"scatter3d\": [{\"line\": {\"colorbar\": {\"outlinewidth\": 0, \"ticks\": \"\"}}, \"marker\": {\"colorbar\": {\"outlinewidth\": 0, \"ticks\": \"\"}}, \"type\": \"scatter3d\"}], \"scattercarpet\": [{\"marker\": {\"colorbar\": {\"outlinewidth\": 0, \"ticks\": \"\"}}, \"type\": \"scattercarpet\"}], \"scattergeo\": [{\"marker\": {\"colorbar\": {\"outlinewidth\": 0, \"ticks\": \"\"}}, \"type\": \"scattergeo\"}], \"scattergl\": [{\"marker\": {\"colorbar\": {\"outlinewidth\": 0, \"ticks\": \"\"}}, \"type\": \"scattergl\"}], \"scattermapbox\": [{\"marker\": {\"colorbar\": {\"outlinewidth\": 0, \"ticks\": \"\"}}, \"type\": \"scattermapbox\"}], \"scatterpolar\": [{\"marker\": {\"colorbar\": {\"outlinewidth\": 0, \"ticks\": \"\"}}, \"type\": \"scatterpolar\"}], \"scatterpolargl\": [{\"marker\": {\"colorbar\": {\"outlinewidth\": 0, \"ticks\": \"\"}}, \"type\": \"scatterpolargl\"}], \"scatterternary\": [{\"marker\": {\"colorbar\": {\"outlinewidth\": 0, \"ticks\": \"\"}}, \"type\": \"scatterternary\"}], \"surface\": [{\"colorbar\": {\"outlinewidth\": 0, \"ticks\": \"\"}, \"colorscale\": [[0.0, \"#0d0887\"], [0.1111111111111111, \"#46039f\"], [0.2222222222222222, \"#7201a8\"], [0.3333333333333333, \"#9c179e\"], [0.4444444444444444, \"#bd3786\"], [0.5555555555555556, \"#d8576b\"], [0.6666666666666666, \"#ed7953\"], [0.7777777777777778, \"#fb9f3a\"], [0.8888888888888888, \"#fdca26\"], [1.0, \"#f0f921\"]], \"type\": \"surface\"}], \"table\": [{\"cells\": {\"fill\": {\"color\": \"#EBF0F8\"}, \"line\": {\"color\": \"white\"}}, \"header\": {\"fill\": {\"color\": \"#C8D4E3\"}, \"line\": {\"color\": \"white\"}}, \"type\": \"table\"}]}, \"layout\": {\"annotationdefaults\": {\"arrowcolor\": \"#2a3f5f\", \"arrowhead\": 0, \"arrowwidth\": 1}, \"autotypenumbers\": \"strict\", \"coloraxis\": {\"colorbar\": {\"outlinewidth\": 0, \"ticks\": \"\"}}, \"colorscale\": {\"diverging\": [[0, \"#8e0152\"], [0.1, \"#c51b7d\"], [0.2, \"#de77ae\"], [0.3, \"#f1b6da\"], [0.4, \"#fde0ef\"], [0.5, \"#f7f7f7\"], [0.6, \"#e6f5d0\"], [0.7, \"#b8e186\"], [0.8, \"#7fbc41\"], [0.9, \"#4d9221\"], [1, \"#276419\"]], \"sequential\": [[0.0, \"#0d0887\"], [0.1111111111111111, \"#46039f\"], [0.2222222222222222, \"#7201a8\"], [0.3333333333333333, \"#9c179e\"], [0.4444444444444444, \"#bd3786\"], [0.5555555555555556, \"#d8576b\"], [0.6666666666666666, \"#ed7953\"], [0.7777777777777778, \"#fb9f3a\"], [0.8888888888888888, \"#fdca26\"], [1.0, \"#f0f921\"]], \"sequentialminus\": [[0.0, \"#0d0887\"], [0.1111111111111111, \"#46039f\"], [0.2222222222222222, \"#7201a8\"], [0.3333333333333333, \"#9c179e\"], [0.4444444444444444, \"#bd3786\"], [0.5555555555555556, \"#d8576b\"], [0.6666666666666666, \"#ed7953\"], [0.7777777777777778, \"#fb9f3a\"], [0.8888888888888888, \"#fdca26\"], [1.0, \"#f0f921\"]]}, \"colorway\": [\"#636efa\", \"#EF553B\", \"#00cc96\", \"#ab63fa\", \"#FFA15A\", \"#19d3f3\", \"#FF6692\", \"#B6E880\", \"#FF97FF\", \"#FECB52\"], \"font\": {\"color\": \"#2a3f5f\"}, \"geo\": {\"bgcolor\": \"white\", \"lakecolor\": \"white\", \"landcolor\": \"#E5ECF6\", \"showlakes\": true, \"showland\": true, \"subunitcolor\": \"white\"}, \"hoverlabel\": {\"align\": \"left\"}, \"hovermode\": \"closest\", \"mapbox\": {\"style\": \"light\"}, \"paper_bgcolor\": \"white\", \"plot_bgcolor\": \"#E5ECF6\", \"polar\": {\"angularaxis\": {\"gridcolor\": \"white\", \"linecolor\": \"white\", \"ticks\": \"\"}, \"bgcolor\": \"#E5ECF6\", \"radialaxis\": {\"gridcolor\": \"white\", \"linecolor\": \"white\", \"ticks\": \"\"}}, \"scene\": {\"xaxis\": {\"backgroundcolor\": \"#E5ECF6\", \"gridcolor\": \"white\", \"gridwidth\": 2, \"linecolor\": \"white\", \"showbackground\": true, \"ticks\": \"\", \"zerolinecolor\": \"white\"}, \"yaxis\": {\"backgroundcolor\": \"#E5ECF6\", \"gridcolor\": \"white\", \"gridwidth\": 2, \"linecolor\": \"white\", \"showbackground\": true, \"ticks\": \"\", \"zerolinecolor\": \"white\"}, \"zaxis\": {\"backgroundcolor\": \"#E5ECF6\", \"gridcolor\": \"white\", \"gridwidth\": 2, \"linecolor\": \"white\", \"showbackground\": true, \"ticks\": \"\", \"zerolinecolor\": \"white\"}}, \"shapedefaults\": {\"line\": {\"color\": \"#2a3f5f\"}}, \"ternary\": {\"aaxis\": {\"gridcolor\": \"white\", \"linecolor\": \"white\", \"ticks\": \"\"}, \"baxis\": {\"gridcolor\": \"white\", \"linecolor\": \"white\", \"ticks\": \"\"}, \"bgcolor\": \"#E5ECF6\", \"caxis\": {\"gridcolor\": \"white\", \"linecolor\": \"white\", \"ticks\": \"\"}}, \"title\": {\"x\": 0.05}, \"xaxis\": {\"automargin\": true, \"gridcolor\": \"white\", \"linecolor\": \"white\", \"ticks\": \"\", \"title\": {\"standoff\": 15}, \"zerolinecolor\": \"white\", \"zerolinewidth\": 2}, \"yaxis\": {\"automargin\": true, \"gridcolor\": \"white\", \"linecolor\": \"white\", \"ticks\": \"\", \"title\": {\"standoff\": 15}, \"zerolinecolor\": \"white\", \"zerolinewidth\": 2}}}, \"title\": {\"text\": \"Fitting an harmonic curve to the accidents\"}, \"xaxis\": {\"anchor\": \"y\", \"domain\": [0.0, 0.94], \"dtick\": 2, \"gridcolor\": \"black\", \"gridwidth\": 1, \"linecolor\": \"black\", \"linewidth\": 2, \"mirror\": true, \"showgrid\": true, \"showline\": true, \"tick0\": 0, \"tickmode\": \"linear\", \"title\": {\"text\": \"Time of day\"}}, \"yaxis\": {\"anchor\": \"x\", \"domain\": [0.0, 1.0], \"gridcolor\": \"black\", \"gridwidth\": 1, \"linecolor\": \"black\", \"linewidth\": 2, \"mirror\": true, \"showgrid\": false, \"showline\": true, \"title\": {\"text\": \"<b>Fit</b>\"}}, \"yaxis2\": {\"anchor\": \"x\", \"gridcolor\": \"black\", \"gridwidth\": 1, \"linecolor\": \"black\", \"linewidth\": 2, \"mirror\": true, \"overlaying\": \"y\", \"showgrid\": false, \"showline\": true, \"side\": \"right\"}},                        {\"responsive\": true}                    ).then(function(){\n",
              "                            \n",
              "var gd = document.getElementById('123261b8-aac8-4792-8c53-01b42e96e65c');\n",
              "var x = new MutationObserver(function (mutations, observer) {{\n",
              "        var display = window.getComputedStyle(gd).display;\n",
              "        if (!display || display === 'none') {{\n",
              "            console.log([gd, 'removed!']);\n",
              "            Plotly.purge(gd);\n",
              "            observer.disconnect();\n",
              "        }}\n",
              "}});\n",
              "\n",
              "// Listen for the removal of the full notebook cells\n",
              "var notebookContainer = gd.closest('#notebook-container');\n",
              "if (notebookContainer) {{\n",
              "    x.observe(notebookContainer, {childList: true});\n",
              "}}\n",
              "\n",
              "// Listen for the clearing of the current output cell\n",
              "var outputEl = gd.closest('.output');\n",
              "if (outputEl) {{\n",
              "    x.observe(outputEl, {childList: true});\n",
              "}}\n",
              "\n",
              "                        })                };                            </script>        </div>\n",
              "</body>\n",
              "</html>"
            ]
          },
          "metadata": {
            "tags": []
          }
        }
      ]
    },
    {
      "cell_type": "code",
      "metadata": {
        "colab": {
          "base_uri": "https://localhost:8080/",
          "height": 542
        },
        "id": "gQCIe-shxPZA",
        "outputId": "f7e14c8c-b066-4481-f062-347a128eb4b8"
      },
      "source": [
        "#1\r\n",
        "graphics_plot(y=[stats.zscore(ys), stats.zscore(sinusoid(X, *paramy))], \r\n",
        "              y_name=['Selected accidents - fit', 'Selected accidents - raw'],\r\n",
        "              yaxes_title=['Z-Score'], title='Fitting an harmonic curve to the accidents (Federal Highways)',\r\n",
        "              bins=Nbins, x_tick=agr)"
      ],
      "execution_count": 126,
      "outputs": [
        {
          "output_type": "display_data",
          "data": {
            "text/html": [
              "<html>\n",
              "<head><meta charset=\"utf-8\" /></head>\n",
              "<body>\n",
              "    <div>            <script src=\"https://cdnjs.cloudflare.com/ajax/libs/mathjax/2.7.5/MathJax.js?config=TeX-AMS-MML_SVG\"></script><script type=\"text/javascript\">if (window.MathJax) {MathJax.Hub.Config({SVG: {font: \"STIX-Web\"}});}</script>                <script type=\"text/javascript\">window.PlotlyConfig = {MathJaxConfig: 'local'};</script>\n",
              "        <script src=\"https://cdn.plot.ly/plotly-latest.min.js\"></script>                <div id=\"5bc316a3-4742-49d3-93b8-f356bd59a0f4\" class=\"plotly-graph-div\" style=\"height:525px; width:100%;\"></div>            <script type=\"text/javascript\">                                    window.PLOTLYENV=window.PLOTLYENV || {};                                    if (document.getElementById(\"5bc316a3-4742-49d3-93b8-f356bd59a0f4\")) {                    Plotly.newPlot(                        \"5bc316a3-4742-49d3-93b8-f356bd59a0f4\",                        [{\"line\": {\"color\": \"rgb(0, 0, 0)\", \"width\": 2}, \"marker\": {\"size\": 7, \"symbol\": \"circle\"}, \"mode\": \"lines+markers\", \"name\": \"Selected accidents - fit\", \"type\": \"scatter\", \"x\": [0.0, 2.1818181818181817, 4.363636363636363, 6.545454545454545, 8.727272727272727, 10.909090909090908, 13.09090909090909, 15.272727272727272, 17.454545454545453, 19.636363636363633, 21.818181818181817, 24.0], \"xaxis\": \"x\", \"y\": [1.3497259124073242, 2.1087985412867885, 0.8747239618073904, -0.629553780613118, -0.9557814803464374, -1.0672175735061826, -1.1627446018170966, -0.7508751411100453, -0.46639581885876613, 0.22531858475655114, -0.09529167435441338, 0.5692930703480084], \"yaxis\": \"y\"}, {\"line\": {\"color\": \"rgb(0, 0, 0)\", \"dash\": \"dash\", \"width\": 2}, \"marker\": {\"size\": 7, \"symbol\": \"star\"}, \"mode\": \"lines+markers\", \"name\": \"Selected accidents - raw\", \"type\": \"scatter\", \"x\": [0.0, 2.1818181818181817, 4.363636363636363, 6.545454545454545, 8.727272727272727, 10.909090909090908, 13.09090909090909, 15.272727272727272, 17.454545454545453, 19.636363636363633, 21.818181818181817, 24.0], \"xaxis\": \"x\", \"y\": [1.2254375482469704, 1.1814415996178778, 0.7269764941375122, 0.006331691698898965, -0.7516931747565591, -1.3064305660770237, -1.481755280105354, -1.2220029589227877, -0.6096431291825899, 0.1609042899005252, 0.8449959371955699, 1.2254375482469697], \"yaxis\": \"y\"}],                        {\"legend\": {\"orientation\": \"h\", \"x\": 0.95, \"xanchor\": \"right\", \"y\": 1.01, \"yanchor\": \"bottom\"}, \"paper_bgcolor\": \"rgba(0,0,0,0)\", \"plot_bgcolor\": \"rgba(0,0,0,0)\", \"template\": {\"data\": {\"bar\": [{\"error_x\": {\"color\": \"#2a3f5f\"}, \"error_y\": {\"color\": \"#2a3f5f\"}, \"marker\": {\"line\": {\"color\": \"#E5ECF6\", \"width\": 0.5}}, \"type\": \"bar\"}], \"barpolar\": [{\"marker\": {\"line\": {\"color\": \"#E5ECF6\", \"width\": 0.5}}, \"type\": \"barpolar\"}], \"carpet\": [{\"aaxis\": {\"endlinecolor\": \"#2a3f5f\", \"gridcolor\": \"white\", \"linecolor\": \"white\", \"minorgridcolor\": \"white\", \"startlinecolor\": \"#2a3f5f\"}, \"baxis\": {\"endlinecolor\": \"#2a3f5f\", \"gridcolor\": \"white\", \"linecolor\": \"white\", \"minorgridcolor\": \"white\", \"startlinecolor\": \"#2a3f5f\"}, \"type\": \"carpet\"}], \"choropleth\": [{\"colorbar\": {\"outlinewidth\": 0, \"ticks\": \"\"}, \"type\": \"choropleth\"}], \"contour\": [{\"colorbar\": {\"outlinewidth\": 0, \"ticks\": \"\"}, \"colorscale\": [[0.0, \"#0d0887\"], [0.1111111111111111, \"#46039f\"], [0.2222222222222222, \"#7201a8\"], [0.3333333333333333, \"#9c179e\"], [0.4444444444444444, \"#bd3786\"], [0.5555555555555556, \"#d8576b\"], [0.6666666666666666, \"#ed7953\"], [0.7777777777777778, \"#fb9f3a\"], [0.8888888888888888, \"#fdca26\"], [1.0, \"#f0f921\"]], \"type\": \"contour\"}], \"contourcarpet\": [{\"colorbar\": {\"outlinewidth\": 0, \"ticks\": \"\"}, \"type\": \"contourcarpet\"}], \"heatmap\": [{\"colorbar\": {\"outlinewidth\": 0, \"ticks\": \"\"}, \"colorscale\": [[0.0, \"#0d0887\"], [0.1111111111111111, \"#46039f\"], [0.2222222222222222, \"#7201a8\"], [0.3333333333333333, \"#9c179e\"], [0.4444444444444444, \"#bd3786\"], [0.5555555555555556, \"#d8576b\"], [0.6666666666666666, \"#ed7953\"], [0.7777777777777778, \"#fb9f3a\"], [0.8888888888888888, \"#fdca26\"], [1.0, \"#f0f921\"]], \"type\": \"heatmap\"}], \"heatmapgl\": [{\"colorbar\": {\"outlinewidth\": 0, \"ticks\": \"\"}, \"colorscale\": [[0.0, \"#0d0887\"], [0.1111111111111111, \"#46039f\"], [0.2222222222222222, \"#7201a8\"], [0.3333333333333333, \"#9c179e\"], [0.4444444444444444, \"#bd3786\"], [0.5555555555555556, \"#d8576b\"], [0.6666666666666666, \"#ed7953\"], [0.7777777777777778, \"#fb9f3a\"], [0.8888888888888888, \"#fdca26\"], [1.0, \"#f0f921\"]], \"type\": \"heatmapgl\"}], \"histogram\": [{\"marker\": {\"colorbar\": {\"outlinewidth\": 0, \"ticks\": \"\"}}, \"type\": \"histogram\"}], \"histogram2d\": [{\"colorbar\": {\"outlinewidth\": 0, \"ticks\": \"\"}, \"colorscale\": [[0.0, \"#0d0887\"], [0.1111111111111111, \"#46039f\"], [0.2222222222222222, \"#7201a8\"], [0.3333333333333333, \"#9c179e\"], [0.4444444444444444, \"#bd3786\"], [0.5555555555555556, \"#d8576b\"], [0.6666666666666666, \"#ed7953\"], [0.7777777777777778, \"#fb9f3a\"], [0.8888888888888888, \"#fdca26\"], [1.0, \"#f0f921\"]], \"type\": \"histogram2d\"}], \"histogram2dcontour\": [{\"colorbar\": {\"outlinewidth\": 0, \"ticks\": \"\"}, \"colorscale\": [[0.0, \"#0d0887\"], [0.1111111111111111, \"#46039f\"], [0.2222222222222222, \"#7201a8\"], [0.3333333333333333, \"#9c179e\"], [0.4444444444444444, \"#bd3786\"], [0.5555555555555556, \"#d8576b\"], [0.6666666666666666, \"#ed7953\"], [0.7777777777777778, \"#fb9f3a\"], [0.8888888888888888, \"#fdca26\"], [1.0, \"#f0f921\"]], \"type\": \"histogram2dcontour\"}], \"mesh3d\": [{\"colorbar\": {\"outlinewidth\": 0, \"ticks\": \"\"}, \"type\": \"mesh3d\"}], \"parcoords\": [{\"line\": {\"colorbar\": {\"outlinewidth\": 0, \"ticks\": \"\"}}, \"type\": \"parcoords\"}], \"pie\": [{\"automargin\": true, \"type\": \"pie\"}], \"scatter\": [{\"marker\": {\"colorbar\": {\"outlinewidth\": 0, \"ticks\": \"\"}}, \"type\": \"scatter\"}], \"scatter3d\": [{\"line\": {\"colorbar\": {\"outlinewidth\": 0, \"ticks\": \"\"}}, \"marker\": {\"colorbar\": {\"outlinewidth\": 0, \"ticks\": \"\"}}, \"type\": \"scatter3d\"}], \"scattercarpet\": [{\"marker\": {\"colorbar\": {\"outlinewidth\": 0, \"ticks\": \"\"}}, \"type\": \"scattercarpet\"}], \"scattergeo\": [{\"marker\": {\"colorbar\": {\"outlinewidth\": 0, \"ticks\": \"\"}}, \"type\": \"scattergeo\"}], \"scattergl\": [{\"marker\": {\"colorbar\": {\"outlinewidth\": 0, \"ticks\": \"\"}}, \"type\": \"scattergl\"}], \"scattermapbox\": [{\"marker\": {\"colorbar\": {\"outlinewidth\": 0, \"ticks\": \"\"}}, \"type\": \"scattermapbox\"}], \"scatterpolar\": [{\"marker\": {\"colorbar\": {\"outlinewidth\": 0, \"ticks\": \"\"}}, \"type\": \"scatterpolar\"}], \"scatterpolargl\": [{\"marker\": {\"colorbar\": {\"outlinewidth\": 0, \"ticks\": \"\"}}, \"type\": \"scatterpolargl\"}], \"scatterternary\": [{\"marker\": {\"colorbar\": {\"outlinewidth\": 0, \"ticks\": \"\"}}, \"type\": \"scatterternary\"}], \"surface\": [{\"colorbar\": {\"outlinewidth\": 0, \"ticks\": \"\"}, \"colorscale\": [[0.0, \"#0d0887\"], [0.1111111111111111, \"#46039f\"], [0.2222222222222222, \"#7201a8\"], [0.3333333333333333, \"#9c179e\"], [0.4444444444444444, \"#bd3786\"], [0.5555555555555556, \"#d8576b\"], [0.6666666666666666, \"#ed7953\"], [0.7777777777777778, \"#fb9f3a\"], [0.8888888888888888, \"#fdca26\"], [1.0, \"#f0f921\"]], \"type\": \"surface\"}], \"table\": [{\"cells\": {\"fill\": {\"color\": \"#EBF0F8\"}, \"line\": {\"color\": \"white\"}}, \"header\": {\"fill\": {\"color\": \"#C8D4E3\"}, \"line\": {\"color\": \"white\"}}, \"type\": \"table\"}]}, \"layout\": {\"annotationdefaults\": {\"arrowcolor\": \"#2a3f5f\", \"arrowhead\": 0, \"arrowwidth\": 1}, \"autotypenumbers\": \"strict\", \"coloraxis\": {\"colorbar\": {\"outlinewidth\": 0, \"ticks\": \"\"}}, \"colorscale\": {\"diverging\": [[0, \"#8e0152\"], [0.1, \"#c51b7d\"], [0.2, \"#de77ae\"], [0.3, \"#f1b6da\"], [0.4, \"#fde0ef\"], [0.5, \"#f7f7f7\"], [0.6, \"#e6f5d0\"], [0.7, \"#b8e186\"], [0.8, \"#7fbc41\"], [0.9, \"#4d9221\"], [1, \"#276419\"]], \"sequential\": [[0.0, \"#0d0887\"], [0.1111111111111111, \"#46039f\"], [0.2222222222222222, \"#7201a8\"], [0.3333333333333333, \"#9c179e\"], [0.4444444444444444, \"#bd3786\"], [0.5555555555555556, \"#d8576b\"], [0.6666666666666666, \"#ed7953\"], [0.7777777777777778, \"#fb9f3a\"], [0.8888888888888888, \"#fdca26\"], [1.0, \"#f0f921\"]], \"sequentialminus\": [[0.0, \"#0d0887\"], [0.1111111111111111, \"#46039f\"], [0.2222222222222222, \"#7201a8\"], [0.3333333333333333, \"#9c179e\"], [0.4444444444444444, \"#bd3786\"], [0.5555555555555556, \"#d8576b\"], [0.6666666666666666, \"#ed7953\"], [0.7777777777777778, \"#fb9f3a\"], [0.8888888888888888, \"#fdca26\"], [1.0, \"#f0f921\"]]}, \"colorway\": [\"#636efa\", \"#EF553B\", \"#00cc96\", \"#ab63fa\", \"#FFA15A\", \"#19d3f3\", \"#FF6692\", \"#B6E880\", \"#FF97FF\", \"#FECB52\"], \"font\": {\"color\": \"#2a3f5f\"}, \"geo\": {\"bgcolor\": \"white\", \"lakecolor\": \"white\", \"landcolor\": \"#E5ECF6\", \"showlakes\": true, \"showland\": true, \"subunitcolor\": \"white\"}, \"hoverlabel\": {\"align\": \"left\"}, \"hovermode\": \"closest\", \"mapbox\": {\"style\": \"light\"}, \"paper_bgcolor\": \"white\", \"plot_bgcolor\": \"#E5ECF6\", \"polar\": {\"angularaxis\": {\"gridcolor\": \"white\", \"linecolor\": \"white\", \"ticks\": \"\"}, \"bgcolor\": \"#E5ECF6\", \"radialaxis\": {\"gridcolor\": \"white\", \"linecolor\": \"white\", \"ticks\": \"\"}}, \"scene\": {\"xaxis\": {\"backgroundcolor\": \"#E5ECF6\", \"gridcolor\": \"white\", \"gridwidth\": 2, \"linecolor\": \"white\", \"showbackground\": true, \"ticks\": \"\", \"zerolinecolor\": \"white\"}, \"yaxis\": {\"backgroundcolor\": \"#E5ECF6\", \"gridcolor\": \"white\", \"gridwidth\": 2, \"linecolor\": \"white\", \"showbackground\": true, \"ticks\": \"\", \"zerolinecolor\": \"white\"}, \"zaxis\": {\"backgroundcolor\": \"#E5ECF6\", \"gridcolor\": \"white\", \"gridwidth\": 2, \"linecolor\": \"white\", \"showbackground\": true, \"ticks\": \"\", \"zerolinecolor\": \"white\"}}, \"shapedefaults\": {\"line\": {\"color\": \"#2a3f5f\"}}, \"ternary\": {\"aaxis\": {\"gridcolor\": \"white\", \"linecolor\": \"white\", \"ticks\": \"\"}, \"baxis\": {\"gridcolor\": \"white\", \"linecolor\": \"white\", \"ticks\": \"\"}, \"bgcolor\": \"#E5ECF6\", \"caxis\": {\"gridcolor\": \"white\", \"linecolor\": \"white\", \"ticks\": \"\"}}, \"title\": {\"x\": 0.05}, \"xaxis\": {\"automargin\": true, \"gridcolor\": \"white\", \"linecolor\": \"white\", \"ticks\": \"\", \"title\": {\"standoff\": 15}, \"zerolinecolor\": \"white\", \"zerolinewidth\": 2}, \"yaxis\": {\"automargin\": true, \"gridcolor\": \"white\", \"linecolor\": \"white\", \"ticks\": \"\", \"title\": {\"standoff\": 15}, \"zerolinecolor\": \"white\", \"zerolinewidth\": 2}}}, \"title\": {\"text\": \"Fitting an harmonic curve to the accidents (Federal Highways)\"}, \"xaxis\": {\"anchor\": \"y\", \"domain\": [0.0, 0.94], \"dtick\": 2, \"gridcolor\": \"black\", \"gridwidth\": 1, \"linecolor\": \"black\", \"linewidth\": 2, \"mirror\": true, \"showgrid\": true, \"showline\": true, \"tick0\": 0, \"tickmode\": \"linear\", \"title\": {\"text\": \"Time of day\"}}, \"yaxis\": {\"anchor\": \"x\", \"domain\": [0.0, 1.0], \"gridcolor\": \"black\", \"gridwidth\": 1, \"linecolor\": \"black\", \"linewidth\": 2, \"mirror\": true, \"showgrid\": false, \"showline\": true, \"title\": {\"text\": \"<b>Z-Score</b>\"}}, \"yaxis2\": {\"anchor\": \"x\", \"gridcolor\": \"black\", \"gridwidth\": 1, \"linecolor\": \"black\", \"linewidth\": 2, \"mirror\": true, \"overlaying\": \"y\", \"showgrid\": false, \"showline\": true, \"side\": \"right\"}},                        {\"responsive\": true}                    ).then(function(){\n",
              "                            \n",
              "var gd = document.getElementById('5bc316a3-4742-49d3-93b8-f356bd59a0f4');\n",
              "var x = new MutationObserver(function (mutations, observer) {{\n",
              "        var display = window.getComputedStyle(gd).display;\n",
              "        if (!display || display === 'none') {{\n",
              "            console.log([gd, 'removed!']);\n",
              "            Plotly.purge(gd);\n",
              "            observer.disconnect();\n",
              "        }}\n",
              "}});\n",
              "\n",
              "// Listen for the removal of the full notebook cells\n",
              "var notebookContainer = gd.closest('#notebook-container');\n",
              "if (notebookContainer) {{\n",
              "    x.observe(notebookContainer, {childList: true});\n",
              "}}\n",
              "\n",
              "// Listen for the clearing of the current output cell\n",
              "var outputEl = gd.closest('.output');\n",
              "if (outputEl) {{\n",
              "    x.observe(outputEl, {childList: true});\n",
              "}}\n",
              "\n",
              "                        })                };                            </script>        </div>\n",
              "</body>\n",
              "</html>"
            ]
          },
          "metadata": {
            "tags": []
          }
        }
      ]
    },
    {
      "cell_type": "code",
      "metadata": {
        "colab": {
          "base_uri": "https://localhost:8080/"
        },
        "id": "FFdPqHAUGujO",
        "outputId": "d3fdc480-fb3e-403c-9a07-8ae637373818"
      },
      "source": [
        "Y = stats.zscore(ys)\n",
        "X_m = stats.zscore(sinusoid(X, *paramy))\n",
        "X_m = sm.add_constant(X_m)\n",
        "model = sm.OLS(Y,X_m)\n",
        "results = model.fit()\n",
        "results.params\n",
        "\n",
        "y5 = results.predict(X_m)\n",
        "print(results.summary())"
      ],
      "execution_count": 127,
      "outputs": [
        {
          "output_type": "stream",
          "text": [
            "                            OLS Regression Results                            \n",
            "==============================================================================\n",
            "Dep. Variable:                      y   R-squared:                       0.761\n",
            "Model:                            OLS   Adj. R-squared:                  0.737\n",
            "Method:                 Least Squares   F-statistic:                     31.84\n",
            "Date:                Fri, 05 Mar 2021   Prob (F-statistic):           0.000215\n",
            "Time:                        17:35:53   Log-Likelihood:                -8.4396\n",
            "No. Observations:                  12   AIC:                             20.88\n",
            "Df Residuals:                      10   BIC:                             21.85\n",
            "Df Model:                           1                                         \n",
            "Covariance Type:            nonrobust                                         \n",
            "==============================================================================\n",
            "                 coef    std err          t      P>|t|      [0.025      0.975]\n",
            "------------------------------------------------------------------------------\n",
            "const        2.29e-16      0.155   1.48e-15      1.000      -0.344       0.344\n",
            "x1             0.8724      0.155      5.643      0.000       0.528       1.217\n",
            "==============================================================================\n",
            "Omnibus:                        0.885   Durbin-Watson:                   1.188\n",
            "Prob(Omnibus):                  0.642   Jarque-Bera (JB):                0.118\n",
            "Skew:                           0.242   Prob(JB):                        0.943\n",
            "Kurtosis:                       3.041   Cond. No.                         1.00\n",
            "==============================================================================\n",
            "\n",
            "Warnings:\n",
            "[1] Standard Errors assume that the covariance matrix of the errors is correctly specified.\n"
          ],
          "name": "stdout"
        },
        {
          "output_type": "stream",
          "text": [
            "/usr/local/lib/python3.7/dist-packages/scipy/stats/stats.py:1535: UserWarning:\n",
            "\n",
            "kurtosistest only valid for n>=20 ... continuing anyway, n=12\n",
            "\n"
          ],
          "name": "stderr"
        }
      ]
    },
    {
      "cell_type": "code",
      "metadata": {
        "id": "na2_TxVegiTB"
      },
      "source": [
        "acs = (a3r+a5r+a9r)/(m3r+m5r+m9r)"
      ],
      "execution_count": 128,
      "outputs": []
    },
    {
      "cell_type": "code",
      "metadata": {
        "colab": {
          "base_uri": "https://localhost:8080/"
        },
        "id": "LHBv_Rj1giTI",
        "outputId": "f11183d3-21a6-4dc8-e7be-a49a2db67a5c"
      },
      "source": [
        "parama, covariancea = curve_fit(sinusoid, X, acs, p0=get_p0(X,acs))"
      ],
      "execution_count": 129,
      "outputs": [
        {
          "output_type": "stream",
          "text": [
            "/usr/local/lib/python3.7/dist-packages/scipy/optimize/minpack.py:808: OptimizeWarning:\n",
            "\n",
            "Covariance of the parameters could not be estimated\n",
            "\n"
          ],
          "name": "stderr"
        }
      ]
    },
    {
      "cell_type": "code",
      "metadata": {
        "colab": {
          "base_uri": "https://localhost:8080/",
          "height": 542
        },
        "id": "vXpq5vYRgiTI",
        "outputId": "9c255ad9-b6a5-478f-d45c-1aefde0fadb3"
      },
      "source": [
        "#2\r\n",
        "graphics_plot(y = [stats.zscore(acs), stats.zscore(sinusoid(X, *parama))], \r\n",
        "              y_name=['Selected accidents - raw', 'Selected accidents - fit'], yaxes_title=['Z-Score'], \r\n",
        "              title='Fitting an harmonic curve to the accidents (Total accidents)', bins=Nbins, x_tick=agr)"
      ],
      "execution_count": 130,
      "outputs": [
        {
          "output_type": "display_data",
          "data": {
            "text/html": [
              "<html>\n",
              "<head><meta charset=\"utf-8\" /></head>\n",
              "<body>\n",
              "    <div>            <script src=\"https://cdnjs.cloudflare.com/ajax/libs/mathjax/2.7.5/MathJax.js?config=TeX-AMS-MML_SVG\"></script><script type=\"text/javascript\">if (window.MathJax) {MathJax.Hub.Config({SVG: {font: \"STIX-Web\"}});}</script>                <script type=\"text/javascript\">window.PlotlyConfig = {MathJaxConfig: 'local'};</script>\n",
              "        <script src=\"https://cdn.plot.ly/plotly-latest.min.js\"></script>                <div id=\"2d752847-29ec-4038-bb5d-0ef638143739\" class=\"plotly-graph-div\" style=\"height:525px; width:100%;\"></div>            <script type=\"text/javascript\">                                    window.PLOTLYENV=window.PLOTLYENV || {};                                    if (document.getElementById(\"2d752847-29ec-4038-bb5d-0ef638143739\")) {                    Plotly.newPlot(                        \"2d752847-29ec-4038-bb5d-0ef638143739\",                        [{\"line\": {\"color\": \"rgb(0, 0, 0)\", \"width\": 2}, \"marker\": {\"size\": 7, \"symbol\": \"circle\"}, \"mode\": \"lines+markers\", \"name\": \"Selected accidents - raw\", \"type\": \"scatter\", \"x\": [0.0, 2.1818181818181817, 4.363636363636363, 6.545454545454545, 8.727272727272727, 10.909090909090908, 13.09090909090909, 15.272727272727272, 17.454545454545453, 19.636363636363633, 21.818181818181817, 24.0], \"xaxis\": \"x\", \"y\": [-0.18211894632789072, 1.1514561964120171, 2.1391798219787197, -1.0245257574069024, 0.8202265100095021, -0.05728700540637026, -0.7294651334227513, -0.6346758423990773, -1.35950634816538, -0.8008545067040697, -0.2464815935170745, 0.9240526049492767], \"yaxis\": \"y\"}, {\"line\": {\"color\": \"rgb(0, 0, 0)\", \"dash\": \"dash\", \"width\": 2}, \"marker\": {\"size\": 7, \"symbol\": \"star\"}, \"mode\": \"lines+markers\", \"name\": \"Selected accidents - fit\", \"type\": \"scatter\", \"x\": [0.0, 2.1818181818181817, 4.363636363636363, 6.545454545454545, 8.727272727272727, 10.909090909090908, 13.09090909090909, 15.272727272727272, 17.454545454545453, 19.636363636363633, 21.818181818181817, 24.0], \"xaxis\": \"x\", \"y\": [0.6089614860005124, 1.2015245299216473, 1.3950355734239528, 1.1280562274791428, 0.48535054803877853, -0.3290269528161535, -1.056517172680669, -1.4661471069480498, -1.4278621457952116, -0.953817493879572, -0.194518978744891, 0.6089614860005129], \"yaxis\": \"y\"}],                        {\"legend\": {\"orientation\": \"h\", \"x\": 0.95, \"xanchor\": \"right\", \"y\": 1.01, \"yanchor\": \"bottom\"}, \"paper_bgcolor\": \"rgba(0,0,0,0)\", \"plot_bgcolor\": \"rgba(0,0,0,0)\", \"template\": {\"data\": {\"bar\": [{\"error_x\": {\"color\": \"#2a3f5f\"}, \"error_y\": {\"color\": \"#2a3f5f\"}, \"marker\": {\"line\": {\"color\": \"#E5ECF6\", \"width\": 0.5}}, \"type\": \"bar\"}], \"barpolar\": [{\"marker\": {\"line\": {\"color\": \"#E5ECF6\", \"width\": 0.5}}, \"type\": \"barpolar\"}], \"carpet\": [{\"aaxis\": {\"endlinecolor\": \"#2a3f5f\", \"gridcolor\": \"white\", \"linecolor\": \"white\", \"minorgridcolor\": \"white\", \"startlinecolor\": \"#2a3f5f\"}, \"baxis\": {\"endlinecolor\": \"#2a3f5f\", \"gridcolor\": \"white\", \"linecolor\": \"white\", \"minorgridcolor\": \"white\", \"startlinecolor\": \"#2a3f5f\"}, \"type\": \"carpet\"}], \"choropleth\": [{\"colorbar\": {\"outlinewidth\": 0, \"ticks\": \"\"}, \"type\": \"choropleth\"}], \"contour\": [{\"colorbar\": {\"outlinewidth\": 0, \"ticks\": \"\"}, \"colorscale\": [[0.0, \"#0d0887\"], [0.1111111111111111, \"#46039f\"], [0.2222222222222222, \"#7201a8\"], [0.3333333333333333, \"#9c179e\"], [0.4444444444444444, \"#bd3786\"], [0.5555555555555556, \"#d8576b\"], [0.6666666666666666, \"#ed7953\"], [0.7777777777777778, \"#fb9f3a\"], [0.8888888888888888, \"#fdca26\"], [1.0, \"#f0f921\"]], \"type\": \"contour\"}], \"contourcarpet\": [{\"colorbar\": {\"outlinewidth\": 0, \"ticks\": \"\"}, \"type\": \"contourcarpet\"}], \"heatmap\": [{\"colorbar\": {\"outlinewidth\": 0, \"ticks\": \"\"}, \"colorscale\": [[0.0, \"#0d0887\"], [0.1111111111111111, \"#46039f\"], [0.2222222222222222, \"#7201a8\"], [0.3333333333333333, \"#9c179e\"], [0.4444444444444444, \"#bd3786\"], [0.5555555555555556, \"#d8576b\"], [0.6666666666666666, \"#ed7953\"], [0.7777777777777778, \"#fb9f3a\"], [0.8888888888888888, \"#fdca26\"], [1.0, \"#f0f921\"]], \"type\": \"heatmap\"}], \"heatmapgl\": [{\"colorbar\": {\"outlinewidth\": 0, \"ticks\": \"\"}, \"colorscale\": [[0.0, \"#0d0887\"], [0.1111111111111111, \"#46039f\"], [0.2222222222222222, \"#7201a8\"], [0.3333333333333333, \"#9c179e\"], [0.4444444444444444, \"#bd3786\"], [0.5555555555555556, \"#d8576b\"], [0.6666666666666666, \"#ed7953\"], [0.7777777777777778, \"#fb9f3a\"], [0.8888888888888888, \"#fdca26\"], [1.0, \"#f0f921\"]], \"type\": \"heatmapgl\"}], \"histogram\": [{\"marker\": {\"colorbar\": {\"outlinewidth\": 0, \"ticks\": \"\"}}, \"type\": \"histogram\"}], \"histogram2d\": [{\"colorbar\": {\"outlinewidth\": 0, \"ticks\": \"\"}, \"colorscale\": [[0.0, \"#0d0887\"], [0.1111111111111111, \"#46039f\"], [0.2222222222222222, \"#7201a8\"], [0.3333333333333333, \"#9c179e\"], [0.4444444444444444, \"#bd3786\"], [0.5555555555555556, \"#d8576b\"], [0.6666666666666666, \"#ed7953\"], [0.7777777777777778, \"#fb9f3a\"], [0.8888888888888888, \"#fdca26\"], [1.0, \"#f0f921\"]], \"type\": \"histogram2d\"}], \"histogram2dcontour\": [{\"colorbar\": {\"outlinewidth\": 0, \"ticks\": \"\"}, \"colorscale\": [[0.0, \"#0d0887\"], [0.1111111111111111, \"#46039f\"], [0.2222222222222222, \"#7201a8\"], [0.3333333333333333, \"#9c179e\"], [0.4444444444444444, \"#bd3786\"], [0.5555555555555556, \"#d8576b\"], [0.6666666666666666, \"#ed7953\"], [0.7777777777777778, \"#fb9f3a\"], [0.8888888888888888, \"#fdca26\"], [1.0, \"#f0f921\"]], \"type\": \"histogram2dcontour\"}], \"mesh3d\": [{\"colorbar\": {\"outlinewidth\": 0, \"ticks\": \"\"}, \"type\": \"mesh3d\"}], \"parcoords\": [{\"line\": {\"colorbar\": {\"outlinewidth\": 0, \"ticks\": \"\"}}, \"type\": \"parcoords\"}], \"pie\": [{\"automargin\": true, \"type\": \"pie\"}], \"scatter\": [{\"marker\": {\"colorbar\": {\"outlinewidth\": 0, \"ticks\": \"\"}}, \"type\": \"scatter\"}], \"scatter3d\": [{\"line\": {\"colorbar\": {\"outlinewidth\": 0, \"ticks\": \"\"}}, \"marker\": {\"colorbar\": {\"outlinewidth\": 0, \"ticks\": \"\"}}, \"type\": \"scatter3d\"}], \"scattercarpet\": [{\"marker\": {\"colorbar\": {\"outlinewidth\": 0, \"ticks\": \"\"}}, \"type\": \"scattercarpet\"}], \"scattergeo\": [{\"marker\": {\"colorbar\": {\"outlinewidth\": 0, \"ticks\": \"\"}}, \"type\": \"scattergeo\"}], \"scattergl\": [{\"marker\": {\"colorbar\": {\"outlinewidth\": 0, \"ticks\": \"\"}}, \"type\": \"scattergl\"}], \"scattermapbox\": [{\"marker\": {\"colorbar\": {\"outlinewidth\": 0, \"ticks\": \"\"}}, \"type\": \"scattermapbox\"}], \"scatterpolar\": [{\"marker\": {\"colorbar\": {\"outlinewidth\": 0, \"ticks\": \"\"}}, \"type\": \"scatterpolar\"}], \"scatterpolargl\": [{\"marker\": {\"colorbar\": {\"outlinewidth\": 0, \"ticks\": \"\"}}, \"type\": \"scatterpolargl\"}], \"scatterternary\": [{\"marker\": {\"colorbar\": {\"outlinewidth\": 0, \"ticks\": \"\"}}, \"type\": \"scatterternary\"}], \"surface\": [{\"colorbar\": {\"outlinewidth\": 0, \"ticks\": \"\"}, \"colorscale\": [[0.0, \"#0d0887\"], [0.1111111111111111, \"#46039f\"], [0.2222222222222222, \"#7201a8\"], [0.3333333333333333, \"#9c179e\"], [0.4444444444444444, \"#bd3786\"], [0.5555555555555556, \"#d8576b\"], [0.6666666666666666, \"#ed7953\"], [0.7777777777777778, \"#fb9f3a\"], [0.8888888888888888, \"#fdca26\"], [1.0, \"#f0f921\"]], \"type\": \"surface\"}], \"table\": [{\"cells\": {\"fill\": {\"color\": \"#EBF0F8\"}, \"line\": {\"color\": \"white\"}}, \"header\": {\"fill\": {\"color\": \"#C8D4E3\"}, \"line\": {\"color\": \"white\"}}, \"type\": \"table\"}]}, \"layout\": {\"annotationdefaults\": {\"arrowcolor\": \"#2a3f5f\", \"arrowhead\": 0, \"arrowwidth\": 1}, \"autotypenumbers\": \"strict\", \"coloraxis\": {\"colorbar\": {\"outlinewidth\": 0, \"ticks\": \"\"}}, \"colorscale\": {\"diverging\": [[0, \"#8e0152\"], [0.1, \"#c51b7d\"], [0.2, \"#de77ae\"], [0.3, \"#f1b6da\"], [0.4, \"#fde0ef\"], [0.5, \"#f7f7f7\"], [0.6, \"#e6f5d0\"], [0.7, \"#b8e186\"], [0.8, \"#7fbc41\"], [0.9, \"#4d9221\"], [1, \"#276419\"]], \"sequential\": [[0.0, \"#0d0887\"], [0.1111111111111111, \"#46039f\"], [0.2222222222222222, \"#7201a8\"], [0.3333333333333333, \"#9c179e\"], [0.4444444444444444, \"#bd3786\"], [0.5555555555555556, \"#d8576b\"], [0.6666666666666666, \"#ed7953\"], [0.7777777777777778, \"#fb9f3a\"], [0.8888888888888888, \"#fdca26\"], [1.0, \"#f0f921\"]], \"sequentialminus\": [[0.0, \"#0d0887\"], [0.1111111111111111, \"#46039f\"], [0.2222222222222222, \"#7201a8\"], [0.3333333333333333, \"#9c179e\"], [0.4444444444444444, \"#bd3786\"], [0.5555555555555556, \"#d8576b\"], [0.6666666666666666, \"#ed7953\"], [0.7777777777777778, \"#fb9f3a\"], [0.8888888888888888, \"#fdca26\"], [1.0, \"#f0f921\"]]}, \"colorway\": [\"#636efa\", \"#EF553B\", \"#00cc96\", \"#ab63fa\", \"#FFA15A\", \"#19d3f3\", \"#FF6692\", \"#B6E880\", \"#FF97FF\", \"#FECB52\"], \"font\": {\"color\": \"#2a3f5f\"}, \"geo\": {\"bgcolor\": \"white\", \"lakecolor\": \"white\", \"landcolor\": \"#E5ECF6\", \"showlakes\": true, \"showland\": true, \"subunitcolor\": \"white\"}, \"hoverlabel\": {\"align\": \"left\"}, \"hovermode\": \"closest\", \"mapbox\": {\"style\": \"light\"}, \"paper_bgcolor\": \"white\", \"plot_bgcolor\": \"#E5ECF6\", \"polar\": {\"angularaxis\": {\"gridcolor\": \"white\", \"linecolor\": \"white\", \"ticks\": \"\"}, \"bgcolor\": \"#E5ECF6\", \"radialaxis\": {\"gridcolor\": \"white\", \"linecolor\": \"white\", \"ticks\": \"\"}}, \"scene\": {\"xaxis\": {\"backgroundcolor\": \"#E5ECF6\", \"gridcolor\": \"white\", \"gridwidth\": 2, \"linecolor\": \"white\", \"showbackground\": true, \"ticks\": \"\", \"zerolinecolor\": \"white\"}, \"yaxis\": {\"backgroundcolor\": \"#E5ECF6\", \"gridcolor\": \"white\", \"gridwidth\": 2, \"linecolor\": \"white\", \"showbackground\": true, \"ticks\": \"\", \"zerolinecolor\": \"white\"}, \"zaxis\": {\"backgroundcolor\": \"#E5ECF6\", \"gridcolor\": \"white\", \"gridwidth\": 2, \"linecolor\": \"white\", \"showbackground\": true, \"ticks\": \"\", \"zerolinecolor\": \"white\"}}, \"shapedefaults\": {\"line\": {\"color\": \"#2a3f5f\"}}, \"ternary\": {\"aaxis\": {\"gridcolor\": \"white\", \"linecolor\": \"white\", \"ticks\": \"\"}, \"baxis\": {\"gridcolor\": \"white\", \"linecolor\": \"white\", \"ticks\": \"\"}, \"bgcolor\": \"#E5ECF6\", \"caxis\": {\"gridcolor\": \"white\", \"linecolor\": \"white\", \"ticks\": \"\"}}, \"title\": {\"x\": 0.05}, \"xaxis\": {\"automargin\": true, \"gridcolor\": \"white\", \"linecolor\": \"white\", \"ticks\": \"\", \"title\": {\"standoff\": 15}, \"zerolinecolor\": \"white\", \"zerolinewidth\": 2}, \"yaxis\": {\"automargin\": true, \"gridcolor\": \"white\", \"linecolor\": \"white\", \"ticks\": \"\", \"title\": {\"standoff\": 15}, \"zerolinecolor\": \"white\", \"zerolinewidth\": 2}}}, \"title\": {\"text\": \"Fitting an harmonic curve to the accidents (Total accidents)\"}, \"xaxis\": {\"anchor\": \"y\", \"domain\": [0.0, 0.94], \"dtick\": 2, \"gridcolor\": \"black\", \"gridwidth\": 1, \"linecolor\": \"black\", \"linewidth\": 2, \"mirror\": true, \"showgrid\": true, \"showline\": true, \"tick0\": 0, \"tickmode\": \"linear\", \"title\": {\"text\": \"Time of day\"}}, \"yaxis\": {\"anchor\": \"x\", \"domain\": [0.0, 1.0], \"gridcolor\": \"black\", \"gridwidth\": 1, \"linecolor\": \"black\", \"linewidth\": 2, \"mirror\": true, \"showgrid\": false, \"showline\": true, \"title\": {\"text\": \"<b>Z-Score</b>\"}}, \"yaxis2\": {\"anchor\": \"x\", \"gridcolor\": \"black\", \"gridwidth\": 1, \"linecolor\": \"black\", \"linewidth\": 2, \"mirror\": true, \"overlaying\": \"y\", \"showgrid\": false, \"showline\": true, \"side\": \"right\"}},                        {\"responsive\": true}                    ).then(function(){\n",
              "                            \n",
              "var gd = document.getElementById('2d752847-29ec-4038-bb5d-0ef638143739');\n",
              "var x = new MutationObserver(function (mutations, observer) {{\n",
              "        var display = window.getComputedStyle(gd).display;\n",
              "        if (!display || display === 'none') {{\n",
              "            console.log([gd, 'removed!']);\n",
              "            Plotly.purge(gd);\n",
              "            observer.disconnect();\n",
              "        }}\n",
              "}});\n",
              "\n",
              "// Listen for the removal of the full notebook cells\n",
              "var notebookContainer = gd.closest('#notebook-container');\n",
              "if (notebookContainer) {{\n",
              "    x.observe(notebookContainer, {childList: true});\n",
              "}}\n",
              "\n",
              "// Listen for the clearing of the current output cell\n",
              "var outputEl = gd.closest('.output');\n",
              "if (outputEl) {{\n",
              "    x.observe(outputEl, {childList: true});\n",
              "}}\n",
              "\n",
              "                        })                };                            </script>        </div>\n",
              "</body>\n",
              "</html>"
            ]
          },
          "metadata": {
            "tags": []
          }
        }
      ]
    },
    {
      "cell_type": "code",
      "metadata": {
        "colab": {
          "base_uri": "https://localhost:8080/"
        },
        "id": "HhGuzhU6giTJ",
        "outputId": "c50fdcb6-5f05-4f5d-a1bd-ea884ddcb270"
      },
      "source": [
        "Y = stats.zscore(acs)\r\n",
        "X_m = stats.zscore(sinusoid(X, *parama))\r\n",
        "X_m = sm.add_constant(X_m)\r\n",
        "model = sm.OLS(Y,X_m)\r\n",
        "results = model.fit()\r\n",
        "results.params\r\n",
        "\r\n",
        "y5 = results.predict(X_m)\r\n",
        "print(results.summary())"
      ],
      "execution_count": 131,
      "outputs": [
        {
          "output_type": "stream",
          "text": [
            "                            OLS Regression Results                            \n",
            "==============================================================================\n",
            "Dep. Variable:                      y   R-squared:                       0.506\n",
            "Model:                            OLS   Adj. R-squared:                  0.456\n",
            "Method:                 Least Squares   F-statistic:                     10.24\n",
            "Date:                Fri, 05 Mar 2021   Prob (F-statistic):            0.00950\n",
            "Time:                        17:36:09   Log-Likelihood:                -12.797\n",
            "No. Observations:                  12   AIC:                             29.59\n",
            "Df Residuals:                      10   BIC:                             30.56\n",
            "Df Model:                           1                                         \n",
            "Covariance Type:            nonrobust                                         \n",
            "==============================================================================\n",
            "                 coef    std err          t      P>|t|      [0.025      0.975]\n",
            "------------------------------------------------------------------------------\n",
            "const      -6.245e-17      0.222  -2.81e-16      1.000      -0.495       0.495\n",
            "x1             0.7112      0.222      3.200      0.009       0.216       1.207\n",
            "==============================================================================\n",
            "Omnibus:                        7.702   Durbin-Watson:                   2.856\n",
            "Prob(Omnibus):                  0.021   Jarque-Bera (JB):                3.491\n",
            "Skew:                          -1.089   Prob(JB):                        0.175\n",
            "Kurtosis:                       4.496   Cond. No.                         1.00\n",
            "==============================================================================\n",
            "\n",
            "Warnings:\n",
            "[1] Standard Errors assume that the covariance matrix of the errors is correctly specified.\n"
          ],
          "name": "stdout"
        },
        {
          "output_type": "stream",
          "text": [
            "/usr/local/lib/python3.7/dist-packages/scipy/stats/stats.py:1535: UserWarning:\n",
            "\n",
            "kurtosistest only valid for n>=20 ... continuing anyway, n=12\n",
            "\n"
          ],
          "name": "stderr"
        }
      ]
    },
    {
      "cell_type": "code",
      "metadata": {
        "id": "1E2XoUkgesfh"
      },
      "source": [
        "acs = y9r/m9r"
      ],
      "execution_count": 132,
      "outputs": []
    },
    {
      "cell_type": "code",
      "metadata": {
        "colab": {
          "base_uri": "https://localhost:8080/"
        },
        "id": "63EcO0G3esfl",
        "outputId": "958a37ea-b8a2-4e06-a0d2-fe3d5f26f033"
      },
      "source": [
        "parama, covariancea = curve_fit(sinusoid, X, acs, p0=get_p0(X,acs))"
      ],
      "execution_count": 133,
      "outputs": [
        {
          "output_type": "stream",
          "text": [
            "/usr/local/lib/python3.7/dist-packages/scipy/optimize/minpack.py:808: OptimizeWarning:\n",
            "\n",
            "Covariance of the parameters could not be estimated\n",
            "\n"
          ],
          "name": "stderr"
        }
      ]
    },
    {
      "cell_type": "code",
      "metadata": {
        "id": "yhNwxPZGx-nS",
        "colab": {
          "base_uri": "https://localhost:8080/",
          "height": 542
        },
        "outputId": "c7138374-3d37-4a87-da21-b7c5421f2c90"
      },
      "source": [
        "#3\r\n",
        "graphics_plot(y = [stats.zscore(acs), stats.zscore(sinusoid(X, *parama))], \r\n",
        "              y_name=['Selected accidents - raw', 'Selected accidents - fit'], yaxes_title=['Z-Score'], \r\n",
        "              title='Fitting an harmonic curve to the accidents (Yawns E9)', bins=Nbins, x_tick=agr)"
      ],
      "execution_count": 134,
      "outputs": [
        {
          "output_type": "display_data",
          "data": {
            "text/html": [
              "<html>\n",
              "<head><meta charset=\"utf-8\" /></head>\n",
              "<body>\n",
              "    <div>            <script src=\"https://cdnjs.cloudflare.com/ajax/libs/mathjax/2.7.5/MathJax.js?config=TeX-AMS-MML_SVG\"></script><script type=\"text/javascript\">if (window.MathJax) {MathJax.Hub.Config({SVG: {font: \"STIX-Web\"}});}</script>                <script type=\"text/javascript\">window.PlotlyConfig = {MathJaxConfig: 'local'};</script>\n",
              "        <script src=\"https://cdn.plot.ly/plotly-latest.min.js\"></script>                <div id=\"9c1e624a-67c0-4619-a8a3-7d3cc1c8e960\" class=\"plotly-graph-div\" style=\"height:525px; width:100%;\"></div>            <script type=\"text/javascript\">                                    window.PLOTLYENV=window.PLOTLYENV || {};                                    if (document.getElementById(\"9c1e624a-67c0-4619-a8a3-7d3cc1c8e960\")) {                    Plotly.newPlot(                        \"9c1e624a-67c0-4619-a8a3-7d3cc1c8e960\",                        [{\"line\": {\"color\": \"rgb(0, 0, 0)\", \"width\": 2}, \"marker\": {\"size\": 7, \"symbol\": \"circle\"}, \"mode\": \"lines+markers\", \"name\": \"Selected accidents - raw\", \"type\": \"scatter\", \"x\": [0.0, 2.1818181818181817, 4.363636363636363, 6.545454545454545, 8.727272727272727, 10.909090909090908, 13.09090909090909, 15.272727272727272, 17.454545454545453, 19.636363636363633, 21.818181818181817, 24.0], \"xaxis\": \"x\", \"y\": [0.9427100628483497, 1.6115529282425969, 1.9298146946066275, 0.17975403586958968, -0.4271188734528377, -0.7184505093145653, -1.1703291119474675, -0.7842656013716444, -0.7529541074171188, -1.0244415340174735, -0.3595553424403062, 0.5732833583942527], \"yaxis\": \"y\"}, {\"line\": {\"color\": \"rgb(0, 0, 0)\", \"dash\": \"dash\", \"width\": 2}, \"marker\": {\"size\": 7, \"symbol\": \"star\"}, \"mode\": \"lines+markers\", \"name\": \"Selected accidents - fit\", \"type\": \"scatter\", \"x\": [0.0, 2.1818181818181817, 4.363636363636363, 6.545454545454545, 8.727272727272727, 10.909090909090908, 13.09090909090909, 15.272727272727272, 17.454545454545453, 19.636363636363633, 21.818181818181817, 24.0], \"xaxis\": \"x\", \"y\": [0.8984929589716363, 1.2997678041529315, 1.2624423583247064, 0.7983671868084232, 0.054882877562029565, -0.7319595544378444, -1.3123431965941965, -1.5020003433172415, -1.2407161905757753, -0.6114466107196111, 0.18601975085330863, 0.8984929589716355], \"yaxis\": \"y\"}],                        {\"legend\": {\"orientation\": \"h\", \"x\": 0.95, \"xanchor\": \"right\", \"y\": 1.01, \"yanchor\": \"bottom\"}, \"paper_bgcolor\": \"rgba(0,0,0,0)\", \"plot_bgcolor\": \"rgba(0,0,0,0)\", \"template\": {\"data\": {\"bar\": [{\"error_x\": {\"color\": \"#2a3f5f\"}, \"error_y\": {\"color\": \"#2a3f5f\"}, \"marker\": {\"line\": {\"color\": \"#E5ECF6\", \"width\": 0.5}}, \"type\": \"bar\"}], \"barpolar\": [{\"marker\": {\"line\": {\"color\": \"#E5ECF6\", \"width\": 0.5}}, \"type\": \"barpolar\"}], \"carpet\": [{\"aaxis\": {\"endlinecolor\": \"#2a3f5f\", \"gridcolor\": \"white\", \"linecolor\": \"white\", \"minorgridcolor\": \"white\", \"startlinecolor\": \"#2a3f5f\"}, \"baxis\": {\"endlinecolor\": \"#2a3f5f\", \"gridcolor\": \"white\", \"linecolor\": \"white\", \"minorgridcolor\": \"white\", \"startlinecolor\": \"#2a3f5f\"}, \"type\": \"carpet\"}], \"choropleth\": [{\"colorbar\": {\"outlinewidth\": 0, \"ticks\": \"\"}, \"type\": \"choropleth\"}], \"contour\": [{\"colorbar\": {\"outlinewidth\": 0, \"ticks\": \"\"}, \"colorscale\": [[0.0, \"#0d0887\"], [0.1111111111111111, \"#46039f\"], [0.2222222222222222, \"#7201a8\"], [0.3333333333333333, \"#9c179e\"], [0.4444444444444444, \"#bd3786\"], [0.5555555555555556, \"#d8576b\"], [0.6666666666666666, \"#ed7953\"], [0.7777777777777778, \"#fb9f3a\"], [0.8888888888888888, \"#fdca26\"], [1.0, \"#f0f921\"]], \"type\": \"contour\"}], \"contourcarpet\": [{\"colorbar\": {\"outlinewidth\": 0, \"ticks\": \"\"}, \"type\": \"contourcarpet\"}], \"heatmap\": [{\"colorbar\": {\"outlinewidth\": 0, \"ticks\": \"\"}, \"colorscale\": [[0.0, \"#0d0887\"], [0.1111111111111111, \"#46039f\"], [0.2222222222222222, \"#7201a8\"], [0.3333333333333333, \"#9c179e\"], [0.4444444444444444, \"#bd3786\"], [0.5555555555555556, \"#d8576b\"], [0.6666666666666666, \"#ed7953\"], [0.7777777777777778, \"#fb9f3a\"], [0.8888888888888888, \"#fdca26\"], [1.0, \"#f0f921\"]], \"type\": \"heatmap\"}], \"heatmapgl\": [{\"colorbar\": {\"outlinewidth\": 0, \"ticks\": \"\"}, \"colorscale\": [[0.0, \"#0d0887\"], [0.1111111111111111, \"#46039f\"], [0.2222222222222222, \"#7201a8\"], [0.3333333333333333, \"#9c179e\"], [0.4444444444444444, \"#bd3786\"], [0.5555555555555556, \"#d8576b\"], [0.6666666666666666, \"#ed7953\"], [0.7777777777777778, \"#fb9f3a\"], [0.8888888888888888, \"#fdca26\"], [1.0, \"#f0f921\"]], \"type\": \"heatmapgl\"}], \"histogram\": [{\"marker\": {\"colorbar\": {\"outlinewidth\": 0, \"ticks\": \"\"}}, \"type\": \"histogram\"}], \"histogram2d\": [{\"colorbar\": {\"outlinewidth\": 0, \"ticks\": \"\"}, \"colorscale\": [[0.0, \"#0d0887\"], [0.1111111111111111, \"#46039f\"], [0.2222222222222222, \"#7201a8\"], [0.3333333333333333, \"#9c179e\"], [0.4444444444444444, \"#bd3786\"], [0.5555555555555556, \"#d8576b\"], [0.6666666666666666, \"#ed7953\"], [0.7777777777777778, \"#fb9f3a\"], [0.8888888888888888, \"#fdca26\"], [1.0, \"#f0f921\"]], \"type\": \"histogram2d\"}], \"histogram2dcontour\": [{\"colorbar\": {\"outlinewidth\": 0, \"ticks\": \"\"}, \"colorscale\": [[0.0, \"#0d0887\"], [0.1111111111111111, \"#46039f\"], [0.2222222222222222, \"#7201a8\"], [0.3333333333333333, \"#9c179e\"], [0.4444444444444444, \"#bd3786\"], [0.5555555555555556, \"#d8576b\"], [0.6666666666666666, \"#ed7953\"], [0.7777777777777778, \"#fb9f3a\"], [0.8888888888888888, \"#fdca26\"], [1.0, \"#f0f921\"]], \"type\": \"histogram2dcontour\"}], \"mesh3d\": [{\"colorbar\": {\"outlinewidth\": 0, \"ticks\": \"\"}, \"type\": \"mesh3d\"}], \"parcoords\": [{\"line\": {\"colorbar\": {\"outlinewidth\": 0, \"ticks\": \"\"}}, \"type\": \"parcoords\"}], \"pie\": [{\"automargin\": true, \"type\": \"pie\"}], \"scatter\": [{\"marker\": {\"colorbar\": {\"outlinewidth\": 0, \"ticks\": \"\"}}, \"type\": \"scatter\"}], \"scatter3d\": [{\"line\": {\"colorbar\": {\"outlinewidth\": 0, \"ticks\": \"\"}}, \"marker\": {\"colorbar\": {\"outlinewidth\": 0, \"ticks\": \"\"}}, \"type\": \"scatter3d\"}], \"scattercarpet\": [{\"marker\": {\"colorbar\": {\"outlinewidth\": 0, \"ticks\": \"\"}}, \"type\": \"scattercarpet\"}], \"scattergeo\": [{\"marker\": {\"colorbar\": {\"outlinewidth\": 0, \"ticks\": \"\"}}, \"type\": \"scattergeo\"}], \"scattergl\": [{\"marker\": {\"colorbar\": {\"outlinewidth\": 0, \"ticks\": \"\"}}, \"type\": \"scattergl\"}], \"scattermapbox\": [{\"marker\": {\"colorbar\": {\"outlinewidth\": 0, \"ticks\": \"\"}}, \"type\": \"scattermapbox\"}], \"scatterpolar\": [{\"marker\": {\"colorbar\": {\"outlinewidth\": 0, \"ticks\": \"\"}}, \"type\": \"scatterpolar\"}], \"scatterpolargl\": [{\"marker\": {\"colorbar\": {\"outlinewidth\": 0, \"ticks\": \"\"}}, \"type\": \"scatterpolargl\"}], \"scatterternary\": [{\"marker\": {\"colorbar\": {\"outlinewidth\": 0, \"ticks\": \"\"}}, \"type\": \"scatterternary\"}], \"surface\": [{\"colorbar\": {\"outlinewidth\": 0, \"ticks\": \"\"}, \"colorscale\": [[0.0, \"#0d0887\"], [0.1111111111111111, \"#46039f\"], [0.2222222222222222, \"#7201a8\"], [0.3333333333333333, \"#9c179e\"], [0.4444444444444444, \"#bd3786\"], [0.5555555555555556, \"#d8576b\"], [0.6666666666666666, \"#ed7953\"], [0.7777777777777778, \"#fb9f3a\"], [0.8888888888888888, \"#fdca26\"], [1.0, \"#f0f921\"]], \"type\": \"surface\"}], \"table\": [{\"cells\": {\"fill\": {\"color\": \"#EBF0F8\"}, \"line\": {\"color\": \"white\"}}, \"header\": {\"fill\": {\"color\": \"#C8D4E3\"}, \"line\": {\"color\": \"white\"}}, \"type\": \"table\"}]}, \"layout\": {\"annotationdefaults\": {\"arrowcolor\": \"#2a3f5f\", \"arrowhead\": 0, \"arrowwidth\": 1}, \"autotypenumbers\": \"strict\", \"coloraxis\": {\"colorbar\": {\"outlinewidth\": 0, \"ticks\": \"\"}}, \"colorscale\": {\"diverging\": [[0, \"#8e0152\"], [0.1, \"#c51b7d\"], [0.2, \"#de77ae\"], [0.3, \"#f1b6da\"], [0.4, \"#fde0ef\"], [0.5, \"#f7f7f7\"], [0.6, \"#e6f5d0\"], [0.7, \"#b8e186\"], [0.8, \"#7fbc41\"], [0.9, \"#4d9221\"], [1, \"#276419\"]], \"sequential\": [[0.0, \"#0d0887\"], [0.1111111111111111, \"#46039f\"], [0.2222222222222222, \"#7201a8\"], [0.3333333333333333, \"#9c179e\"], [0.4444444444444444, \"#bd3786\"], [0.5555555555555556, \"#d8576b\"], [0.6666666666666666, \"#ed7953\"], [0.7777777777777778, \"#fb9f3a\"], [0.8888888888888888, \"#fdca26\"], [1.0, \"#f0f921\"]], \"sequentialminus\": [[0.0, \"#0d0887\"], [0.1111111111111111, \"#46039f\"], [0.2222222222222222, \"#7201a8\"], [0.3333333333333333, \"#9c179e\"], [0.4444444444444444, \"#bd3786\"], [0.5555555555555556, \"#d8576b\"], [0.6666666666666666, \"#ed7953\"], [0.7777777777777778, \"#fb9f3a\"], [0.8888888888888888, \"#fdca26\"], [1.0, \"#f0f921\"]]}, \"colorway\": [\"#636efa\", \"#EF553B\", \"#00cc96\", \"#ab63fa\", \"#FFA15A\", \"#19d3f3\", \"#FF6692\", \"#B6E880\", \"#FF97FF\", \"#FECB52\"], \"font\": {\"color\": \"#2a3f5f\"}, \"geo\": {\"bgcolor\": \"white\", \"lakecolor\": \"white\", \"landcolor\": \"#E5ECF6\", \"showlakes\": true, \"showland\": true, \"subunitcolor\": \"white\"}, \"hoverlabel\": {\"align\": \"left\"}, \"hovermode\": \"closest\", \"mapbox\": {\"style\": \"light\"}, \"paper_bgcolor\": \"white\", \"plot_bgcolor\": \"#E5ECF6\", \"polar\": {\"angularaxis\": {\"gridcolor\": \"white\", \"linecolor\": \"white\", \"ticks\": \"\"}, \"bgcolor\": \"#E5ECF6\", \"radialaxis\": {\"gridcolor\": \"white\", \"linecolor\": \"white\", \"ticks\": \"\"}}, \"scene\": {\"xaxis\": {\"backgroundcolor\": \"#E5ECF6\", \"gridcolor\": \"white\", \"gridwidth\": 2, \"linecolor\": \"white\", \"showbackground\": true, \"ticks\": \"\", \"zerolinecolor\": \"white\"}, \"yaxis\": {\"backgroundcolor\": \"#E5ECF6\", \"gridcolor\": \"white\", \"gridwidth\": 2, \"linecolor\": \"white\", \"showbackground\": true, \"ticks\": \"\", \"zerolinecolor\": \"white\"}, \"zaxis\": {\"backgroundcolor\": \"#E5ECF6\", \"gridcolor\": \"white\", \"gridwidth\": 2, \"linecolor\": \"white\", \"showbackground\": true, \"ticks\": \"\", \"zerolinecolor\": \"white\"}}, \"shapedefaults\": {\"line\": {\"color\": \"#2a3f5f\"}}, \"ternary\": {\"aaxis\": {\"gridcolor\": \"white\", \"linecolor\": \"white\", \"ticks\": \"\"}, \"baxis\": {\"gridcolor\": \"white\", \"linecolor\": \"white\", \"ticks\": \"\"}, \"bgcolor\": \"#E5ECF6\", \"caxis\": {\"gridcolor\": \"white\", \"linecolor\": \"white\", \"ticks\": \"\"}}, \"title\": {\"x\": 0.05}, \"xaxis\": {\"automargin\": true, \"gridcolor\": \"white\", \"linecolor\": \"white\", \"ticks\": \"\", \"title\": {\"standoff\": 15}, \"zerolinecolor\": \"white\", \"zerolinewidth\": 2}, \"yaxis\": {\"automargin\": true, \"gridcolor\": \"white\", \"linecolor\": \"white\", \"ticks\": \"\", \"title\": {\"standoff\": 15}, \"zerolinecolor\": \"white\", \"zerolinewidth\": 2}}}, \"title\": {\"text\": \"Fitting an harmonic curve to the accidents (Yawns E9)\"}, \"xaxis\": {\"anchor\": \"y\", \"domain\": [0.0, 0.94], \"dtick\": 2, \"gridcolor\": \"black\", \"gridwidth\": 1, \"linecolor\": \"black\", \"linewidth\": 2, \"mirror\": true, \"showgrid\": true, \"showline\": true, \"tick0\": 0, \"tickmode\": \"linear\", \"title\": {\"text\": \"Time of day\"}}, \"yaxis\": {\"anchor\": \"x\", \"domain\": [0.0, 1.0], \"gridcolor\": \"black\", \"gridwidth\": 1, \"linecolor\": \"black\", \"linewidth\": 2, \"mirror\": true, \"showgrid\": false, \"showline\": true, \"title\": {\"text\": \"<b>Z-Score</b>\"}}, \"yaxis2\": {\"anchor\": \"x\", \"gridcolor\": \"black\", \"gridwidth\": 1, \"linecolor\": \"black\", \"linewidth\": 2, \"mirror\": true, \"overlaying\": \"y\", \"showgrid\": false, \"showline\": true, \"side\": \"right\"}},                        {\"responsive\": true}                    ).then(function(){\n",
              "                            \n",
              "var gd = document.getElementById('9c1e624a-67c0-4619-a8a3-7d3cc1c8e960');\n",
              "var x = new MutationObserver(function (mutations, observer) {{\n",
              "        var display = window.getComputedStyle(gd).display;\n",
              "        if (!display || display === 'none') {{\n",
              "            console.log([gd, 'removed!']);\n",
              "            Plotly.purge(gd);\n",
              "            observer.disconnect();\n",
              "        }}\n",
              "}});\n",
              "\n",
              "// Listen for the removal of the full notebook cells\n",
              "var notebookContainer = gd.closest('#notebook-container');\n",
              "if (notebookContainer) {{\n",
              "    x.observe(notebookContainer, {childList: true});\n",
              "}}\n",
              "\n",
              "// Listen for the clearing of the current output cell\n",
              "var outputEl = gd.closest('.output');\n",
              "if (outputEl) {{\n",
              "    x.observe(outputEl, {childList: true});\n",
              "}}\n",
              "\n",
              "                        })                };                            </script>        </div>\n",
              "</body>\n",
              "</html>"
            ]
          },
          "metadata": {
            "tags": []
          }
        }
      ]
    },
    {
      "cell_type": "code",
      "metadata": {
        "colab": {
          "base_uri": "https://localhost:8080/"
        },
        "id": "ghNpnWXBaJF0",
        "outputId": "c5360288-e33d-4870-a25e-8a60a4e586c0"
      },
      "source": [
        "Y = stats.zscore(acs)\r\n",
        "X_m = stats.zscore(sinusoid(X, *parama))\r\n",
        "X_m = sm.add_constant(X_m)\r\n",
        "model = sm.OLS(Y,X_m)\r\n",
        "results = model.fit()\r\n",
        "results.params\r\n",
        "\r\n",
        "y5 = results.predict(X_m)\r\n",
        "print(results.summary())"
      ],
      "execution_count": 135,
      "outputs": [
        {
          "output_type": "stream",
          "text": [
            "                            OLS Regression Results                            \n",
            "==============================================================================\n",
            "Dep. Variable:                      y   R-squared:                       0.802\n",
            "Model:                            OLS   Adj. R-squared:                  0.782\n",
            "Method:                 Least Squares   F-statistic:                     40.50\n",
            "Date:                Fri, 05 Mar 2021   Prob (F-statistic):           8.20e-05\n",
            "Time:                        17:36:23   Log-Likelihood:                -7.3104\n",
            "No. Observations:                  12   AIC:                             18.62\n",
            "Df Residuals:                      10   BIC:                             19.59\n",
            "Df Model:                           1                                         \n",
            "Covariance Type:            nonrobust                                         \n",
            "==============================================================================\n",
            "                 coef    std err          t      P>|t|      [0.025      0.975]\n",
            "------------------------------------------------------------------------------\n",
            "const       2.845e-16      0.141   2.02e-15      1.000      -0.314       0.314\n",
            "x1             0.8955      0.141      6.364      0.000       0.582       1.209\n",
            "==============================================================================\n",
            "Omnibus:                        1.713   Durbin-Watson:                   1.396\n",
            "Prob(Omnibus):                  0.425   Jarque-Bera (JB):                0.925\n",
            "Skew:                           0.281   Prob(JB):                        0.630\n",
            "Kurtosis:                       1.761   Cond. No.                         1.00\n",
            "==============================================================================\n",
            "\n",
            "Warnings:\n",
            "[1] Standard Errors assume that the covariance matrix of the errors is correctly specified.\n"
          ],
          "name": "stdout"
        },
        {
          "output_type": "stream",
          "text": [
            "/usr/local/lib/python3.7/dist-packages/scipy/stats/stats.py:1535: UserWarning:\n",
            "\n",
            "kurtosistest only valid for n>=20 ... continuing anyway, n=12\n",
            "\n"
          ],
          "name": "stderr"
        }
      ]
    },
    {
      "cell_type": "code",
      "metadata": {
        "id": "HOjkoteCfQ1F"
      },
      "source": [
        "acs = at9r/m9r"
      ],
      "execution_count": 136,
      "outputs": []
    },
    {
      "cell_type": "code",
      "metadata": {
        "colab": {
          "base_uri": "https://localhost:8080/"
        },
        "id": "sR9g1-RxfQ1F",
        "outputId": "7f2ddbb9-1de3-4211-c461-70025e2839de"
      },
      "source": [
        "parama, covariancea = curve_fit(sinusoid, X, acs, p0=get_p0(X,acs))"
      ],
      "execution_count": 137,
      "outputs": [
        {
          "output_type": "stream",
          "text": [
            "/usr/local/lib/python3.7/dist-packages/scipy/optimize/minpack.py:808: OptimizeWarning:\n",
            "\n",
            "Covariance of the parameters could not be estimated\n",
            "\n"
          ],
          "name": "stderr"
        }
      ]
    },
    {
      "cell_type": "code",
      "metadata": {
        "colab": {
          "base_uri": "https://localhost:8080/",
          "height": 542
        },
        "id": "IBpT4qXIcd3I",
        "outputId": "40e30e5b-340f-48b8-94e8-e9e49e33dd5e"
      },
      "source": [
        "#4\r\n",
        "graphics_plot(y = [stats.zscore(acs), stats.zscore(sinusoid(X, *parama))], \r\n",
        "              y_name=['Selected accidents - raw', 'Selected accidents - fit'], yaxes_title=['Z-Score'], \r\n",
        "              title='Fitting an harmonic curve to the accidents (Atten-Waring E9)', bins=Nbins, x_tick=agr)"
      ],
      "execution_count": 138,
      "outputs": [
        {
          "output_type": "display_data",
          "data": {
            "text/html": [
              "<html>\n",
              "<head><meta charset=\"utf-8\" /></head>\n",
              "<body>\n",
              "    <div>            <script src=\"https://cdnjs.cloudflare.com/ajax/libs/mathjax/2.7.5/MathJax.js?config=TeX-AMS-MML_SVG\"></script><script type=\"text/javascript\">if (window.MathJax) {MathJax.Hub.Config({SVG: {font: \"STIX-Web\"}});}</script>                <script type=\"text/javascript\">window.PlotlyConfig = {MathJaxConfig: 'local'};</script>\n",
              "        <script src=\"https://cdn.plot.ly/plotly-latest.min.js\"></script>                <div id=\"185bb356-f95d-4bd0-8dba-35f01013adf6\" class=\"plotly-graph-div\" style=\"height:525px; width:100%;\"></div>            <script type=\"text/javascript\">                                    window.PLOTLYENV=window.PLOTLYENV || {};                                    if (document.getElementById(\"185bb356-f95d-4bd0-8dba-35f01013adf6\")) {                    Plotly.newPlot(                        \"185bb356-f95d-4bd0-8dba-35f01013adf6\",                        [{\"line\": {\"color\": \"rgb(0, 0, 0)\", \"width\": 2}, \"marker\": {\"size\": 7, \"symbol\": \"circle\"}, \"mode\": \"lines+markers\", \"name\": \"Selected accidents - raw\", \"type\": \"scatter\", \"x\": [0.0, 2.1818181818181817, 4.363636363636363, 6.545454545454545, 8.727272727272727, 10.909090909090908, 13.09090909090909, 15.272727272727272, 17.454545454545453, 19.636363636363633, 21.818181818181817, 24.0], \"xaxis\": \"x\", \"y\": [0.40505753287338364, 2.8181648250457303, -0.7865476609603943, 0.12558646902425882, 0.09249898577785058, -0.07350298771265974, 0.1544180702956321, -0.557100782737124, -0.5597971125084796, -1.3796046237901087, -0.6966468989366226, 0.45747418362853526], \"yaxis\": \"y\"}, {\"line\": {\"color\": \"rgb(0, 0, 0)\", \"dash\": \"dash\", \"width\": 2}, \"marker\": {\"size\": 7, \"symbol\": \"star\"}, \"mode\": \"lines+markers\", \"name\": \"Selected accidents - fit\", \"type\": \"scatter\", \"x\": [0.0, 2.1818181818181817, 4.363636363636363, 6.545454545454545, 8.727272727272727, 10.909090909090908, 13.09090909090909, 15.272727272727272, 17.454545454545453, 19.636363636363633, 21.818181818181817, 24.0], \"xaxis\": \"x\", \"y\": [0.588508155841277, 1.1916971753244812, 1.3995446543829795, 1.146060486995809, 0.5117241052748558, -0.3020671715901753, -1.036940363169033, -1.4595784235012805, -1.4357967546492645, -0.9731458684402599, -0.21851415231066826, 0.588508155841277], \"yaxis\": \"y\"}],                        {\"legend\": {\"orientation\": \"h\", \"x\": 0.95, \"xanchor\": \"right\", \"y\": 1.01, \"yanchor\": \"bottom\"}, \"paper_bgcolor\": \"rgba(0,0,0,0)\", \"plot_bgcolor\": \"rgba(0,0,0,0)\", \"template\": {\"data\": {\"bar\": [{\"error_x\": {\"color\": \"#2a3f5f\"}, \"error_y\": {\"color\": \"#2a3f5f\"}, \"marker\": {\"line\": {\"color\": \"#E5ECF6\", \"width\": 0.5}}, \"type\": \"bar\"}], \"barpolar\": [{\"marker\": {\"line\": {\"color\": \"#E5ECF6\", \"width\": 0.5}}, \"type\": \"barpolar\"}], \"carpet\": [{\"aaxis\": {\"endlinecolor\": \"#2a3f5f\", \"gridcolor\": \"white\", \"linecolor\": \"white\", \"minorgridcolor\": \"white\", \"startlinecolor\": \"#2a3f5f\"}, \"baxis\": {\"endlinecolor\": \"#2a3f5f\", \"gridcolor\": \"white\", \"linecolor\": \"white\", \"minorgridcolor\": \"white\", \"startlinecolor\": \"#2a3f5f\"}, \"type\": \"carpet\"}], \"choropleth\": [{\"colorbar\": {\"outlinewidth\": 0, \"ticks\": \"\"}, \"type\": \"choropleth\"}], \"contour\": [{\"colorbar\": {\"outlinewidth\": 0, \"ticks\": \"\"}, \"colorscale\": [[0.0, \"#0d0887\"], [0.1111111111111111, \"#46039f\"], [0.2222222222222222, \"#7201a8\"], [0.3333333333333333, \"#9c179e\"], [0.4444444444444444, \"#bd3786\"], [0.5555555555555556, \"#d8576b\"], [0.6666666666666666, \"#ed7953\"], [0.7777777777777778, \"#fb9f3a\"], [0.8888888888888888, \"#fdca26\"], [1.0, \"#f0f921\"]], \"type\": \"contour\"}], \"contourcarpet\": [{\"colorbar\": {\"outlinewidth\": 0, \"ticks\": \"\"}, \"type\": \"contourcarpet\"}], \"heatmap\": [{\"colorbar\": {\"outlinewidth\": 0, \"ticks\": \"\"}, \"colorscale\": [[0.0, \"#0d0887\"], [0.1111111111111111, \"#46039f\"], [0.2222222222222222, \"#7201a8\"], [0.3333333333333333, \"#9c179e\"], [0.4444444444444444, \"#bd3786\"], [0.5555555555555556, \"#d8576b\"], [0.6666666666666666, \"#ed7953\"], [0.7777777777777778, \"#fb9f3a\"], [0.8888888888888888, \"#fdca26\"], [1.0, \"#f0f921\"]], \"type\": \"heatmap\"}], \"heatmapgl\": [{\"colorbar\": {\"outlinewidth\": 0, \"ticks\": \"\"}, \"colorscale\": [[0.0, \"#0d0887\"], [0.1111111111111111, \"#46039f\"], [0.2222222222222222, \"#7201a8\"], [0.3333333333333333, \"#9c179e\"], [0.4444444444444444, \"#bd3786\"], [0.5555555555555556, \"#d8576b\"], [0.6666666666666666, \"#ed7953\"], [0.7777777777777778, \"#fb9f3a\"], [0.8888888888888888, \"#fdca26\"], [1.0, \"#f0f921\"]], \"type\": \"heatmapgl\"}], \"histogram\": [{\"marker\": {\"colorbar\": {\"outlinewidth\": 0, \"ticks\": \"\"}}, \"type\": \"histogram\"}], \"histogram2d\": [{\"colorbar\": {\"outlinewidth\": 0, \"ticks\": \"\"}, \"colorscale\": [[0.0, \"#0d0887\"], [0.1111111111111111, \"#46039f\"], [0.2222222222222222, \"#7201a8\"], [0.3333333333333333, \"#9c179e\"], [0.4444444444444444, \"#bd3786\"], [0.5555555555555556, \"#d8576b\"], [0.6666666666666666, \"#ed7953\"], [0.7777777777777778, \"#fb9f3a\"], [0.8888888888888888, \"#fdca26\"], [1.0, \"#f0f921\"]], \"type\": \"histogram2d\"}], \"histogram2dcontour\": [{\"colorbar\": {\"outlinewidth\": 0, \"ticks\": \"\"}, \"colorscale\": [[0.0, \"#0d0887\"], [0.1111111111111111, \"#46039f\"], [0.2222222222222222, \"#7201a8\"], [0.3333333333333333, \"#9c179e\"], [0.4444444444444444, \"#bd3786\"], [0.5555555555555556, \"#d8576b\"], [0.6666666666666666, \"#ed7953\"], [0.7777777777777778, \"#fb9f3a\"], [0.8888888888888888, \"#fdca26\"], [1.0, \"#f0f921\"]], \"type\": \"histogram2dcontour\"}], \"mesh3d\": [{\"colorbar\": {\"outlinewidth\": 0, \"ticks\": \"\"}, \"type\": \"mesh3d\"}], \"parcoords\": [{\"line\": {\"colorbar\": {\"outlinewidth\": 0, \"ticks\": \"\"}}, \"type\": \"parcoords\"}], \"pie\": [{\"automargin\": true, \"type\": \"pie\"}], \"scatter\": [{\"marker\": {\"colorbar\": {\"outlinewidth\": 0, \"ticks\": \"\"}}, \"type\": \"scatter\"}], \"scatter3d\": [{\"line\": {\"colorbar\": {\"outlinewidth\": 0, \"ticks\": \"\"}}, \"marker\": {\"colorbar\": {\"outlinewidth\": 0, \"ticks\": \"\"}}, \"type\": \"scatter3d\"}], \"scattercarpet\": [{\"marker\": {\"colorbar\": {\"outlinewidth\": 0, \"ticks\": \"\"}}, \"type\": \"scattercarpet\"}], \"scattergeo\": [{\"marker\": {\"colorbar\": {\"outlinewidth\": 0, \"ticks\": \"\"}}, \"type\": \"scattergeo\"}], \"scattergl\": [{\"marker\": {\"colorbar\": {\"outlinewidth\": 0, \"ticks\": \"\"}}, \"type\": \"scattergl\"}], \"scattermapbox\": [{\"marker\": {\"colorbar\": {\"outlinewidth\": 0, \"ticks\": \"\"}}, \"type\": \"scattermapbox\"}], \"scatterpolar\": [{\"marker\": {\"colorbar\": {\"outlinewidth\": 0, \"ticks\": \"\"}}, \"type\": \"scatterpolar\"}], \"scatterpolargl\": [{\"marker\": {\"colorbar\": {\"outlinewidth\": 0, \"ticks\": \"\"}}, \"type\": \"scatterpolargl\"}], \"scatterternary\": [{\"marker\": {\"colorbar\": {\"outlinewidth\": 0, \"ticks\": \"\"}}, \"type\": \"scatterternary\"}], \"surface\": [{\"colorbar\": {\"outlinewidth\": 0, \"ticks\": \"\"}, \"colorscale\": [[0.0, \"#0d0887\"], [0.1111111111111111, \"#46039f\"], [0.2222222222222222, \"#7201a8\"], [0.3333333333333333, \"#9c179e\"], [0.4444444444444444, \"#bd3786\"], [0.5555555555555556, \"#d8576b\"], [0.6666666666666666, \"#ed7953\"], [0.7777777777777778, \"#fb9f3a\"], [0.8888888888888888, \"#fdca26\"], [1.0, \"#f0f921\"]], \"type\": \"surface\"}], \"table\": [{\"cells\": {\"fill\": {\"color\": \"#EBF0F8\"}, \"line\": {\"color\": \"white\"}}, \"header\": {\"fill\": {\"color\": \"#C8D4E3\"}, \"line\": {\"color\": \"white\"}}, \"type\": \"table\"}]}, \"layout\": {\"annotationdefaults\": {\"arrowcolor\": \"#2a3f5f\", \"arrowhead\": 0, \"arrowwidth\": 1}, \"autotypenumbers\": \"strict\", \"coloraxis\": {\"colorbar\": {\"outlinewidth\": 0, \"ticks\": \"\"}}, \"colorscale\": {\"diverging\": [[0, \"#8e0152\"], [0.1, \"#c51b7d\"], [0.2, \"#de77ae\"], [0.3, \"#f1b6da\"], [0.4, \"#fde0ef\"], [0.5, \"#f7f7f7\"], [0.6, \"#e6f5d0\"], [0.7, \"#b8e186\"], [0.8, \"#7fbc41\"], [0.9, \"#4d9221\"], [1, \"#276419\"]], \"sequential\": [[0.0, \"#0d0887\"], [0.1111111111111111, \"#46039f\"], [0.2222222222222222, \"#7201a8\"], [0.3333333333333333, \"#9c179e\"], [0.4444444444444444, \"#bd3786\"], [0.5555555555555556, \"#d8576b\"], [0.6666666666666666, \"#ed7953\"], [0.7777777777777778, \"#fb9f3a\"], [0.8888888888888888, \"#fdca26\"], [1.0, \"#f0f921\"]], \"sequentialminus\": [[0.0, \"#0d0887\"], [0.1111111111111111, \"#46039f\"], [0.2222222222222222, \"#7201a8\"], [0.3333333333333333, \"#9c179e\"], [0.4444444444444444, \"#bd3786\"], [0.5555555555555556, \"#d8576b\"], [0.6666666666666666, \"#ed7953\"], [0.7777777777777778, \"#fb9f3a\"], [0.8888888888888888, \"#fdca26\"], [1.0, \"#f0f921\"]]}, \"colorway\": [\"#636efa\", \"#EF553B\", \"#00cc96\", \"#ab63fa\", \"#FFA15A\", \"#19d3f3\", \"#FF6692\", \"#B6E880\", \"#FF97FF\", \"#FECB52\"], \"font\": {\"color\": \"#2a3f5f\"}, \"geo\": {\"bgcolor\": \"white\", \"lakecolor\": \"white\", \"landcolor\": \"#E5ECF6\", \"showlakes\": true, \"showland\": true, \"subunitcolor\": \"white\"}, \"hoverlabel\": {\"align\": \"left\"}, \"hovermode\": \"closest\", \"mapbox\": {\"style\": \"light\"}, \"paper_bgcolor\": \"white\", \"plot_bgcolor\": \"#E5ECF6\", \"polar\": {\"angularaxis\": {\"gridcolor\": \"white\", \"linecolor\": \"white\", \"ticks\": \"\"}, \"bgcolor\": \"#E5ECF6\", \"radialaxis\": {\"gridcolor\": \"white\", \"linecolor\": \"white\", \"ticks\": \"\"}}, \"scene\": {\"xaxis\": {\"backgroundcolor\": \"#E5ECF6\", \"gridcolor\": \"white\", \"gridwidth\": 2, \"linecolor\": \"white\", \"showbackground\": true, \"ticks\": \"\", \"zerolinecolor\": \"white\"}, \"yaxis\": {\"backgroundcolor\": \"#E5ECF6\", \"gridcolor\": \"white\", \"gridwidth\": 2, \"linecolor\": \"white\", \"showbackground\": true, \"ticks\": \"\", \"zerolinecolor\": \"white\"}, \"zaxis\": {\"backgroundcolor\": \"#E5ECF6\", \"gridcolor\": \"white\", \"gridwidth\": 2, \"linecolor\": \"white\", \"showbackground\": true, \"ticks\": \"\", \"zerolinecolor\": \"white\"}}, \"shapedefaults\": {\"line\": {\"color\": \"#2a3f5f\"}}, \"ternary\": {\"aaxis\": {\"gridcolor\": \"white\", \"linecolor\": \"white\", \"ticks\": \"\"}, \"baxis\": {\"gridcolor\": \"white\", \"linecolor\": \"white\", \"ticks\": \"\"}, \"bgcolor\": \"#E5ECF6\", \"caxis\": {\"gridcolor\": \"white\", \"linecolor\": \"white\", \"ticks\": \"\"}}, \"title\": {\"x\": 0.05}, \"xaxis\": {\"automargin\": true, \"gridcolor\": \"white\", \"linecolor\": \"white\", \"ticks\": \"\", \"title\": {\"standoff\": 15}, \"zerolinecolor\": \"white\", \"zerolinewidth\": 2}, \"yaxis\": {\"automargin\": true, \"gridcolor\": \"white\", \"linecolor\": \"white\", \"ticks\": \"\", \"title\": {\"standoff\": 15}, \"zerolinecolor\": \"white\", \"zerolinewidth\": 2}}}, \"title\": {\"text\": \"Fitting an harmonic curve to the accidents (Atten-Waring E9)\"}, \"xaxis\": {\"anchor\": \"y\", \"domain\": [0.0, 0.94], \"dtick\": 2, \"gridcolor\": \"black\", \"gridwidth\": 1, \"linecolor\": \"black\", \"linewidth\": 2, \"mirror\": true, \"showgrid\": true, \"showline\": true, \"tick0\": 0, \"tickmode\": \"linear\", \"title\": {\"text\": \"Time of day\"}}, \"yaxis\": {\"anchor\": \"x\", \"domain\": [0.0, 1.0], \"gridcolor\": \"black\", \"gridwidth\": 1, \"linecolor\": \"black\", \"linewidth\": 2, \"mirror\": true, \"showgrid\": false, \"showline\": true, \"title\": {\"text\": \"<b>Z-Score</b>\"}}, \"yaxis2\": {\"anchor\": \"x\", \"gridcolor\": \"black\", \"gridwidth\": 1, \"linecolor\": \"black\", \"linewidth\": 2, \"mirror\": true, \"overlaying\": \"y\", \"showgrid\": false, \"showline\": true, \"side\": \"right\"}},                        {\"responsive\": true}                    ).then(function(){\n",
              "                            \n",
              "var gd = document.getElementById('185bb356-f95d-4bd0-8dba-35f01013adf6');\n",
              "var x = new MutationObserver(function (mutations, observer) {{\n",
              "        var display = window.getComputedStyle(gd).display;\n",
              "        if (!display || display === 'none') {{\n",
              "            console.log([gd, 'removed!']);\n",
              "            Plotly.purge(gd);\n",
              "            observer.disconnect();\n",
              "        }}\n",
              "}});\n",
              "\n",
              "// Listen for the removal of the full notebook cells\n",
              "var notebookContainer = gd.closest('#notebook-container');\n",
              "if (notebookContainer) {{\n",
              "    x.observe(notebookContainer, {childList: true});\n",
              "}}\n",
              "\n",
              "// Listen for the clearing of the current output cell\n",
              "var outputEl = gd.closest('.output');\n",
              "if (outputEl) {{\n",
              "    x.observe(outputEl, {childList: true});\n",
              "}}\n",
              "\n",
              "                        })                };                            </script>        </div>\n",
              "</body>\n",
              "</html>"
            ]
          },
          "metadata": {
            "tags": []
          }
        }
      ]
    },
    {
      "cell_type": "code",
      "metadata": {
        "colab": {
          "base_uri": "https://localhost:8080/"
        },
        "id": "yFKwotrZc_70",
        "outputId": "0405decd-71a0-4076-9dbc-d6c769bffd83"
      },
      "source": [
        "Y = stats.zscore(acs)\r\n",
        "X_m = stats.zscore(sinusoid(X, *parama))\r\n",
        "X_m = sm.add_constant(X_m)\r\n",
        "model = sm.OLS(Y,X_m)\r\n",
        "results = model.fit()\r\n",
        "results.params\r\n",
        "\r\n",
        "y5 = results.predict(X_m)\r\n",
        "print(results.summary())"
      ],
      "execution_count": 139,
      "outputs": [
        {
          "output_type": "stream",
          "text": [
            "                            OLS Regression Results                            \n",
            "==============================================================================\n",
            "Dep. Variable:                      y   R-squared:                       0.244\n",
            "Model:                            OLS   Adj. R-squared:                  0.169\n",
            "Method:                 Least Squares   F-statistic:                     3.231\n",
            "Date:                Fri, 05 Mar 2021   Prob (F-statistic):              0.102\n",
            "Time:                        17:36:34   Log-Likelihood:                -15.347\n",
            "No. Observations:                  12   AIC:                             34.69\n",
            "Df Residuals:                      10   BIC:                             35.66\n",
            "Df Model:                           1                                         \n",
            "Covariance Type:            nonrobust                                         \n",
            "==============================================================================\n",
            "                 coef    std err          t      P>|t|      [0.025      0.975]\n",
            "------------------------------------------------------------------------------\n",
            "const       1.388e-16      0.275   5.05e-16      1.000      -0.613       0.613\n",
            "x1             0.4942      0.275      1.798      0.102      -0.118       1.107\n",
            "==============================================================================\n",
            "Omnibus:                        6.507   Durbin-Watson:                   2.403\n",
            "Prob(Omnibus):                  0.039   Jarque-Bera (JB):                2.687\n",
            "Skew:                           0.906   Prob(JB):                        0.261\n",
            "Kurtosis:                       4.447   Cond. No.                         1.00\n",
            "==============================================================================\n",
            "\n",
            "Warnings:\n",
            "[1] Standard Errors assume that the covariance matrix of the errors is correctly specified.\n"
          ],
          "name": "stdout"
        },
        {
          "output_type": "stream",
          "text": [
            "/usr/local/lib/python3.7/dist-packages/scipy/stats/stats.py:1535: UserWarning:\n",
            "\n",
            "kurtosistest only valid for n>=20 ... continuing anyway, n=12\n",
            "\n"
          ],
          "name": "stderr"
        }
      ]
    },
    {
      "cell_type": "code",
      "metadata": {
        "id": "_SSgCbYAfm5N"
      },
      "source": [
        "acs = of3r/m3r"
      ],
      "execution_count": 140,
      "outputs": []
    },
    {
      "cell_type": "code",
      "metadata": {
        "id": "-j3UZlA1fm5N"
      },
      "source": [
        "parama, covariancea = curve_fit(sinusoid, X, acs, p0=get_p0(X,acs))"
      ],
      "execution_count": null,
      "outputs": []
    },
    {
      "cell_type": "code",
      "metadata": {
        "colab": {
          "base_uri": "https://localhost:8080/",
          "height": 542
        },
        "id": "WZTpathCdFZc",
        "outputId": "3a8a6cc1-0c6d-4200-d0de-ac2c4c73edfd"
      },
      "source": [
        "#5\r\n",
        "graphics_plot(y = [stats.zscore(acs), stats.zscore(sinusoid(X, *parama))], \r\n",
        "              y_name=['Selected accidents - raw', 'Selected accidents - fit'], yaxes_title=['Z-Score'], \r\n",
        "              title='Fitting an harmonic curve to the accidents (Eye closed E3)', bins=Nbins, x_tick=agr)"
      ],
      "execution_count": 142,
      "outputs": [
        {
          "output_type": "display_data",
          "data": {
            "text/html": [
              "<html>\n",
              "<head><meta charset=\"utf-8\" /></head>\n",
              "<body>\n",
              "    <div>            <script src=\"https://cdnjs.cloudflare.com/ajax/libs/mathjax/2.7.5/MathJax.js?config=TeX-AMS-MML_SVG\"></script><script type=\"text/javascript\">if (window.MathJax) {MathJax.Hub.Config({SVG: {font: \"STIX-Web\"}});}</script>                <script type=\"text/javascript\">window.PlotlyConfig = {MathJaxConfig: 'local'};</script>\n",
              "        <script src=\"https://cdn.plot.ly/plotly-latest.min.js\"></script>                <div id=\"2399cdb9-9cd3-49ed-9fb9-4052c07023eb\" class=\"plotly-graph-div\" style=\"height:525px; width:100%;\"></div>            <script type=\"text/javascript\">                                    window.PLOTLYENV=window.PLOTLYENV || {};                                    if (document.getElementById(\"2399cdb9-9cd3-49ed-9fb9-4052c07023eb\")) {                    Plotly.newPlot(                        \"2399cdb9-9cd3-49ed-9fb9-4052c07023eb\",                        [{\"line\": {\"color\": \"rgb(0, 0, 0)\", \"width\": 2}, \"marker\": {\"size\": 7, \"symbol\": \"circle\"}, \"mode\": \"lines+markers\", \"name\": \"Selected accidents - raw\", \"type\": \"scatter\", \"x\": [0.0, 2.1818181818181817, 4.363636363636363, 6.545454545454545, 8.727272727272727, 10.909090909090908, 13.09090909090909, 15.272727272727272, 17.454545454545453, 19.636363636363633, 21.818181818181817, 24.0], \"xaxis\": \"x\", \"y\": [1.0169674372795197, 1.5161813627060936, 1.920330873114408, -0.34819661779128364, -0.1765895194078711, 0.49208641567232303, 0.125202274300889, -0.5930678304270564, -1.1138468667362773, -1.150903614195074, -1.18108279356595, -0.5070811209497192], \"yaxis\": \"y\"}, {\"line\": {\"color\": \"rgb(0, 0, 0)\", \"dash\": \"dash\", \"width\": 2}, \"marker\": {\"size\": 7, \"symbol\": \"star\"}, \"mode\": \"lines+markers\", \"name\": \"Selected accidents - fit\", \"type\": \"scatter\", \"x\": [0.0, 2.1818181818181817, 4.363636363636363, 6.545454545454545, 8.727272727272727, 10.909090909090908, 13.09090909090909, 15.272727272727272, 17.454545454545453, 19.636363636363633, 21.818181818181817, 24.0], \"xaxis\": \"x\", \"y\": [0.257636099283529, 0.9945508530971772, 1.4082665890172892, 1.367431484064935, 0.885010395535422, 0.11416861041234266, -0.7003570510355138, -1.2999604464617618, -1.494271734413712, -1.2215984539045739, -0.5685124448786624, 0.257636099283529], \"yaxis\": \"y\"}],                        {\"legend\": {\"orientation\": \"h\", \"x\": 0.95, \"xanchor\": \"right\", \"y\": 1.01, \"yanchor\": \"bottom\"}, \"paper_bgcolor\": \"rgba(0,0,0,0)\", \"plot_bgcolor\": \"rgba(0,0,0,0)\", \"template\": {\"data\": {\"bar\": [{\"error_x\": {\"color\": \"#2a3f5f\"}, \"error_y\": {\"color\": \"#2a3f5f\"}, \"marker\": {\"line\": {\"color\": \"#E5ECF6\", \"width\": 0.5}}, \"type\": \"bar\"}], \"barpolar\": [{\"marker\": {\"line\": {\"color\": \"#E5ECF6\", \"width\": 0.5}}, \"type\": \"barpolar\"}], \"carpet\": [{\"aaxis\": {\"endlinecolor\": \"#2a3f5f\", \"gridcolor\": \"white\", \"linecolor\": \"white\", \"minorgridcolor\": \"white\", \"startlinecolor\": \"#2a3f5f\"}, \"baxis\": {\"endlinecolor\": \"#2a3f5f\", \"gridcolor\": \"white\", \"linecolor\": \"white\", \"minorgridcolor\": \"white\", \"startlinecolor\": \"#2a3f5f\"}, \"type\": \"carpet\"}], \"choropleth\": [{\"colorbar\": {\"outlinewidth\": 0, \"ticks\": \"\"}, \"type\": \"choropleth\"}], \"contour\": [{\"colorbar\": {\"outlinewidth\": 0, \"ticks\": \"\"}, \"colorscale\": [[0.0, \"#0d0887\"], [0.1111111111111111, \"#46039f\"], [0.2222222222222222, \"#7201a8\"], [0.3333333333333333, \"#9c179e\"], [0.4444444444444444, \"#bd3786\"], [0.5555555555555556, \"#d8576b\"], [0.6666666666666666, \"#ed7953\"], [0.7777777777777778, \"#fb9f3a\"], [0.8888888888888888, \"#fdca26\"], [1.0, \"#f0f921\"]], \"type\": \"contour\"}], \"contourcarpet\": [{\"colorbar\": {\"outlinewidth\": 0, \"ticks\": \"\"}, \"type\": \"contourcarpet\"}], \"heatmap\": [{\"colorbar\": {\"outlinewidth\": 0, \"ticks\": \"\"}, \"colorscale\": [[0.0, \"#0d0887\"], [0.1111111111111111, \"#46039f\"], [0.2222222222222222, \"#7201a8\"], [0.3333333333333333, \"#9c179e\"], [0.4444444444444444, \"#bd3786\"], [0.5555555555555556, \"#d8576b\"], [0.6666666666666666, \"#ed7953\"], [0.7777777777777778, \"#fb9f3a\"], [0.8888888888888888, \"#fdca26\"], [1.0, \"#f0f921\"]], \"type\": \"heatmap\"}], \"heatmapgl\": [{\"colorbar\": {\"outlinewidth\": 0, \"ticks\": \"\"}, \"colorscale\": [[0.0, \"#0d0887\"], [0.1111111111111111, \"#46039f\"], [0.2222222222222222, \"#7201a8\"], [0.3333333333333333, \"#9c179e\"], [0.4444444444444444, \"#bd3786\"], [0.5555555555555556, \"#d8576b\"], [0.6666666666666666, \"#ed7953\"], [0.7777777777777778, \"#fb9f3a\"], [0.8888888888888888, \"#fdca26\"], [1.0, \"#f0f921\"]], \"type\": \"heatmapgl\"}], \"histogram\": [{\"marker\": {\"colorbar\": {\"outlinewidth\": 0, \"ticks\": \"\"}}, \"type\": \"histogram\"}], \"histogram2d\": [{\"colorbar\": {\"outlinewidth\": 0, \"ticks\": \"\"}, \"colorscale\": [[0.0, \"#0d0887\"], [0.1111111111111111, \"#46039f\"], [0.2222222222222222, \"#7201a8\"], [0.3333333333333333, \"#9c179e\"], [0.4444444444444444, \"#bd3786\"], [0.5555555555555556, \"#d8576b\"], [0.6666666666666666, \"#ed7953\"], [0.7777777777777778, \"#fb9f3a\"], [0.8888888888888888, \"#fdca26\"], [1.0, \"#f0f921\"]], \"type\": \"histogram2d\"}], \"histogram2dcontour\": [{\"colorbar\": {\"outlinewidth\": 0, \"ticks\": \"\"}, \"colorscale\": [[0.0, \"#0d0887\"], [0.1111111111111111, \"#46039f\"], [0.2222222222222222, \"#7201a8\"], [0.3333333333333333, \"#9c179e\"], [0.4444444444444444, \"#bd3786\"], [0.5555555555555556, \"#d8576b\"], [0.6666666666666666, \"#ed7953\"], [0.7777777777777778, \"#fb9f3a\"], [0.8888888888888888, \"#fdca26\"], [1.0, \"#f0f921\"]], \"type\": \"histogram2dcontour\"}], \"mesh3d\": [{\"colorbar\": {\"outlinewidth\": 0, \"ticks\": \"\"}, \"type\": \"mesh3d\"}], \"parcoords\": [{\"line\": {\"colorbar\": {\"outlinewidth\": 0, \"ticks\": \"\"}}, \"type\": \"parcoords\"}], \"pie\": [{\"automargin\": true, \"type\": \"pie\"}], \"scatter\": [{\"marker\": {\"colorbar\": {\"outlinewidth\": 0, \"ticks\": \"\"}}, \"type\": \"scatter\"}], \"scatter3d\": [{\"line\": {\"colorbar\": {\"outlinewidth\": 0, \"ticks\": \"\"}}, \"marker\": {\"colorbar\": {\"outlinewidth\": 0, \"ticks\": \"\"}}, \"type\": \"scatter3d\"}], \"scattercarpet\": [{\"marker\": {\"colorbar\": {\"outlinewidth\": 0, \"ticks\": \"\"}}, \"type\": \"scattercarpet\"}], \"scattergeo\": [{\"marker\": {\"colorbar\": {\"outlinewidth\": 0, \"ticks\": \"\"}}, \"type\": \"scattergeo\"}], \"scattergl\": [{\"marker\": {\"colorbar\": {\"outlinewidth\": 0, \"ticks\": \"\"}}, \"type\": \"scattergl\"}], \"scattermapbox\": [{\"marker\": {\"colorbar\": {\"outlinewidth\": 0, \"ticks\": \"\"}}, \"type\": \"scattermapbox\"}], \"scatterpolar\": [{\"marker\": {\"colorbar\": {\"outlinewidth\": 0, \"ticks\": \"\"}}, \"type\": \"scatterpolar\"}], \"scatterpolargl\": [{\"marker\": {\"colorbar\": {\"outlinewidth\": 0, \"ticks\": \"\"}}, \"type\": \"scatterpolargl\"}], \"scatterternary\": [{\"marker\": {\"colorbar\": {\"outlinewidth\": 0, \"ticks\": \"\"}}, \"type\": \"scatterternary\"}], \"surface\": [{\"colorbar\": {\"outlinewidth\": 0, \"ticks\": \"\"}, \"colorscale\": [[0.0, \"#0d0887\"], [0.1111111111111111, \"#46039f\"], [0.2222222222222222, \"#7201a8\"], [0.3333333333333333, \"#9c179e\"], [0.4444444444444444, \"#bd3786\"], [0.5555555555555556, \"#d8576b\"], [0.6666666666666666, \"#ed7953\"], [0.7777777777777778, \"#fb9f3a\"], [0.8888888888888888, \"#fdca26\"], [1.0, \"#f0f921\"]], \"type\": \"surface\"}], \"table\": [{\"cells\": {\"fill\": {\"color\": \"#EBF0F8\"}, \"line\": {\"color\": \"white\"}}, \"header\": {\"fill\": {\"color\": \"#C8D4E3\"}, \"line\": {\"color\": \"white\"}}, \"type\": \"table\"}]}, \"layout\": {\"annotationdefaults\": {\"arrowcolor\": \"#2a3f5f\", \"arrowhead\": 0, \"arrowwidth\": 1}, \"autotypenumbers\": \"strict\", \"coloraxis\": {\"colorbar\": {\"outlinewidth\": 0, \"ticks\": \"\"}}, \"colorscale\": {\"diverging\": [[0, \"#8e0152\"], [0.1, \"#c51b7d\"], [0.2, \"#de77ae\"], [0.3, \"#f1b6da\"], [0.4, \"#fde0ef\"], [0.5, \"#f7f7f7\"], [0.6, \"#e6f5d0\"], [0.7, \"#b8e186\"], [0.8, \"#7fbc41\"], [0.9, \"#4d9221\"], [1, \"#276419\"]], \"sequential\": [[0.0, \"#0d0887\"], [0.1111111111111111, \"#46039f\"], [0.2222222222222222, \"#7201a8\"], [0.3333333333333333, \"#9c179e\"], [0.4444444444444444, \"#bd3786\"], [0.5555555555555556, \"#d8576b\"], [0.6666666666666666, \"#ed7953\"], [0.7777777777777778, \"#fb9f3a\"], [0.8888888888888888, \"#fdca26\"], [1.0, \"#f0f921\"]], \"sequentialminus\": [[0.0, \"#0d0887\"], [0.1111111111111111, \"#46039f\"], [0.2222222222222222, \"#7201a8\"], [0.3333333333333333, \"#9c179e\"], [0.4444444444444444, \"#bd3786\"], [0.5555555555555556, \"#d8576b\"], [0.6666666666666666, \"#ed7953\"], [0.7777777777777778, \"#fb9f3a\"], [0.8888888888888888, \"#fdca26\"], [1.0, \"#f0f921\"]]}, \"colorway\": [\"#636efa\", \"#EF553B\", \"#00cc96\", \"#ab63fa\", \"#FFA15A\", \"#19d3f3\", \"#FF6692\", \"#B6E880\", \"#FF97FF\", \"#FECB52\"], \"font\": {\"color\": \"#2a3f5f\"}, \"geo\": {\"bgcolor\": \"white\", \"lakecolor\": \"white\", \"landcolor\": \"#E5ECF6\", \"showlakes\": true, \"showland\": true, \"subunitcolor\": \"white\"}, \"hoverlabel\": {\"align\": \"left\"}, \"hovermode\": \"closest\", \"mapbox\": {\"style\": \"light\"}, \"paper_bgcolor\": \"white\", \"plot_bgcolor\": \"#E5ECF6\", \"polar\": {\"angularaxis\": {\"gridcolor\": \"white\", \"linecolor\": \"white\", \"ticks\": \"\"}, \"bgcolor\": \"#E5ECF6\", \"radialaxis\": {\"gridcolor\": \"white\", \"linecolor\": \"white\", \"ticks\": \"\"}}, \"scene\": {\"xaxis\": {\"backgroundcolor\": \"#E5ECF6\", \"gridcolor\": \"white\", \"gridwidth\": 2, \"linecolor\": \"white\", \"showbackground\": true, \"ticks\": \"\", \"zerolinecolor\": \"white\"}, \"yaxis\": {\"backgroundcolor\": \"#E5ECF6\", \"gridcolor\": \"white\", \"gridwidth\": 2, \"linecolor\": \"white\", \"showbackground\": true, \"ticks\": \"\", \"zerolinecolor\": \"white\"}, \"zaxis\": {\"backgroundcolor\": \"#E5ECF6\", \"gridcolor\": \"white\", \"gridwidth\": 2, \"linecolor\": \"white\", \"showbackground\": true, \"ticks\": \"\", \"zerolinecolor\": \"white\"}}, \"shapedefaults\": {\"line\": {\"color\": \"#2a3f5f\"}}, \"ternary\": {\"aaxis\": {\"gridcolor\": \"white\", \"linecolor\": \"white\", \"ticks\": \"\"}, \"baxis\": {\"gridcolor\": \"white\", \"linecolor\": \"white\", \"ticks\": \"\"}, \"bgcolor\": \"#E5ECF6\", \"caxis\": {\"gridcolor\": \"white\", \"linecolor\": \"white\", \"ticks\": \"\"}}, \"title\": {\"x\": 0.05}, \"xaxis\": {\"automargin\": true, \"gridcolor\": \"white\", \"linecolor\": \"white\", \"ticks\": \"\", \"title\": {\"standoff\": 15}, \"zerolinecolor\": \"white\", \"zerolinewidth\": 2}, \"yaxis\": {\"automargin\": true, \"gridcolor\": \"white\", \"linecolor\": \"white\", \"ticks\": \"\", \"title\": {\"standoff\": 15}, \"zerolinecolor\": \"white\", \"zerolinewidth\": 2}}}, \"title\": {\"text\": \"Fitting an harmonic curve to the accidents (Eye closed E3)\"}, \"xaxis\": {\"anchor\": \"y\", \"domain\": [0.0, 0.94], \"dtick\": 2, \"gridcolor\": \"black\", \"gridwidth\": 1, \"linecolor\": \"black\", \"linewidth\": 2, \"mirror\": true, \"showgrid\": true, \"showline\": true, \"tick0\": 0, \"tickmode\": \"linear\", \"title\": {\"text\": \"Time of day\"}}, \"yaxis\": {\"anchor\": \"x\", \"domain\": [0.0, 1.0], \"gridcolor\": \"black\", \"gridwidth\": 1, \"linecolor\": \"black\", \"linewidth\": 2, \"mirror\": true, \"showgrid\": false, \"showline\": true, \"title\": {\"text\": \"<b>Z-Score</b>\"}}, \"yaxis2\": {\"anchor\": \"x\", \"gridcolor\": \"black\", \"gridwidth\": 1, \"linecolor\": \"black\", \"linewidth\": 2, \"mirror\": true, \"overlaying\": \"y\", \"showgrid\": false, \"showline\": true, \"side\": \"right\"}},                        {\"responsive\": true}                    ).then(function(){\n",
              "                            \n",
              "var gd = document.getElementById('2399cdb9-9cd3-49ed-9fb9-4052c07023eb');\n",
              "var x = new MutationObserver(function (mutations, observer) {{\n",
              "        var display = window.getComputedStyle(gd).display;\n",
              "        if (!display || display === 'none') {{\n",
              "            console.log([gd, 'removed!']);\n",
              "            Plotly.purge(gd);\n",
              "            observer.disconnect();\n",
              "        }}\n",
              "}});\n",
              "\n",
              "// Listen for the removal of the full notebook cells\n",
              "var notebookContainer = gd.closest('#notebook-container');\n",
              "if (notebookContainer) {{\n",
              "    x.observe(notebookContainer, {childList: true});\n",
              "}}\n",
              "\n",
              "// Listen for the clearing of the current output cell\n",
              "var outputEl = gd.closest('.output');\n",
              "if (outputEl) {{\n",
              "    x.observe(outputEl, {childList: true});\n",
              "}}\n",
              "\n",
              "                        })                };                            </script>        </div>\n",
              "</body>\n",
              "</html>"
            ]
          },
          "metadata": {
            "tags": []
          }
        }
      ]
    },
    {
      "cell_type": "code",
      "metadata": {
        "colab": {
          "base_uri": "https://localhost:8080/"
        },
        "id": "WmU2pirRdawh",
        "outputId": "c71dc3e9-1e25-49e1-de26-6884d0ccc0d1"
      },
      "source": [
        "Y = stats.zscore(acs)\r\n",
        "X_m = stats.zscore(sinusoid(X, *parama))\r\n",
        "X_m = sm.add_constant(X_m)\r\n",
        "model = sm.OLS(Y,X_m)\r\n",
        "results = model.fit()\r\n",
        "results.params\r\n",
        "\r\n",
        "y5 = results.predict(X_m)\r\n",
        "print(results.summary())"
      ],
      "execution_count": 143,
      "outputs": [
        {
          "output_type": "stream",
          "text": [
            "                            OLS Regression Results                            \n",
            "==============================================================================\n",
            "Dep. Variable:                      y   R-squared:                       0.466\n",
            "Model:                            OLS   Adj. R-squared:                  0.413\n",
            "Method:                 Least Squares   F-statistic:                     8.730\n",
            "Date:                Fri, 05 Mar 2021   Prob (F-statistic):             0.0144\n",
            "Time:                        17:37:35   Log-Likelihood:                -13.262\n",
            "No. Observations:                  12   AIC:                             30.52\n",
            "Df Residuals:                      10   BIC:                             31.49\n",
            "Df Model:                           1                                         \n",
            "Covariance Type:            nonrobust                                         \n",
            "==============================================================================\n",
            "                 coef    std err          t      P>|t|      [0.025      0.975]\n",
            "------------------------------------------------------------------------------\n",
            "const       1.665e-16      0.231   7.21e-16      1.000      -0.515       0.515\n",
            "x1             0.6827      0.231      2.955      0.014       0.168       1.198\n",
            "==============================================================================\n",
            "Omnibus:                        2.243   Durbin-Watson:                   1.137\n",
            "Prob(Omnibus):                  0.326   Jarque-Bera (JB):                0.990\n",
            "Skew:                          -0.225   Prob(JB):                        0.610\n",
            "Kurtosis:                       1.666   Cond. No.                         1.00\n",
            "==============================================================================\n",
            "\n",
            "Warnings:\n",
            "[1] Standard Errors assume that the covariance matrix of the errors is correctly specified.\n"
          ],
          "name": "stdout"
        },
        {
          "output_type": "stream",
          "text": [
            "/usr/local/lib/python3.7/dist-packages/scipy/stats/stats.py:1535: UserWarning:\n",
            "\n",
            "kurtosistest only valid for n>=20 ... continuing anyway, n=12\n",
            "\n"
          ],
          "name": "stderr"
        }
      ]
    },
    {
      "cell_type": "code",
      "metadata": {
        "id": "5Rr-vBd6f-bd"
      },
      "source": [
        "acs = of5r/m5r"
      ],
      "execution_count": 144,
      "outputs": []
    },
    {
      "cell_type": "code",
      "metadata": {
        "id": "g73W9Ypof-bf"
      },
      "source": [
        "parama, covariancea = curve_fit(sinusoid, X, acs, p0=get_p0(X,acs))"
      ],
      "execution_count": null,
      "outputs": []
    },
    {
      "cell_type": "code",
      "metadata": {
        "colab": {
          "base_uri": "https://localhost:8080/",
          "height": 542
        },
        "id": "SdkBJTV0dfRI",
        "outputId": "89ef766d-6fe0-4383-9075-908412519af0"
      },
      "source": [
        "#6\r\n",
        "graphics_plot(y = [stats.zscore(acs), -stats.zscore(sinusoid(X, *paramy))], \r\n",
        "              y_name=['Selected accidents - raw', 'Selected accidents - fit'], yaxes_title=['Z-Score'], \r\n",
        "              title='Fitting an harmonic curve to the accidents (Eye closed E5)', bins=Nbins, x_tick=agr)"
      ],
      "execution_count": 148,
      "outputs": [
        {
          "output_type": "display_data",
          "data": {
            "text/html": [
              "<html>\n",
              "<head><meta charset=\"utf-8\" /></head>\n",
              "<body>\n",
              "    <div>            <script src=\"https://cdnjs.cloudflare.com/ajax/libs/mathjax/2.7.5/MathJax.js?config=TeX-AMS-MML_SVG\"></script><script type=\"text/javascript\">if (window.MathJax) {MathJax.Hub.Config({SVG: {font: \"STIX-Web\"}});}</script>                <script type=\"text/javascript\">window.PlotlyConfig = {MathJaxConfig: 'local'};</script>\n",
              "        <script src=\"https://cdn.plot.ly/plotly-latest.min.js\"></script>                <div id=\"55ca9b2a-e6b2-4a9f-a598-d258a7a96ec8\" class=\"plotly-graph-div\" style=\"height:525px; width:100%;\"></div>            <script type=\"text/javascript\">                                    window.PLOTLYENV=window.PLOTLYENV || {};                                    if (document.getElementById(\"55ca9b2a-e6b2-4a9f-a598-d258a7a96ec8\")) {                    Plotly.newPlot(                        \"55ca9b2a-e6b2-4a9f-a598-d258a7a96ec8\",                        [{\"line\": {\"color\": \"rgb(0, 0, 0)\", \"width\": 2}, \"marker\": {\"size\": 7, \"symbol\": \"circle\"}, \"mode\": \"lines+markers\", \"name\": \"Selected accidents - raw\", \"type\": \"scatter\", \"x\": [0.0, 2.1818181818181817, 4.363636363636363, 6.545454545454545, 8.727272727272727, 10.909090909090908, 13.09090909090909, 15.272727272727272, 17.454545454545453, 19.636363636363633, 21.818181818181817, 24.0], \"xaxis\": \"x\", \"y\": [-0.9988874386431446, -0.8901500967669608, -0.6696543506192165, 0.4363738626410276, 1.1841823632855182, 1.1515327715318664, 1.4244125024022094, 1.1367614787700917, 0.3961049047933223, -0.9676337421011163, -1.1297400844410679, -1.0733021708525248], \"yaxis\": \"y\"}, {\"line\": {\"color\": \"rgb(0, 0, 0)\", \"dash\": \"dash\", \"width\": 2}, \"marker\": {\"size\": 7, \"symbol\": \"star\"}, \"mode\": \"lines+markers\", \"name\": \"Selected accidents - fit\", \"type\": \"scatter\", \"x\": [0.0, 2.1818181818181817, 4.363636363636363, 6.545454545454545, 8.727272727272727, 10.909090909090908, 13.09090909090909, 15.272727272727272, 17.454545454545453, 19.636363636363633, 21.818181818181817, 24.0], \"xaxis\": \"x\", \"y\": [-1.2254375482469704, -1.1814415996178778, -0.7269764941375122, -0.006331691698898965, 0.7516931747565591, 1.3064305660770237, 1.481755280105354, 1.2220029589227877, 0.6096431291825899, -0.1609042899005252, -0.8449959371955699, -1.2254375482469697], \"yaxis\": \"y\"}],                        {\"legend\": {\"orientation\": \"h\", \"x\": 0.95, \"xanchor\": \"right\", \"y\": 1.01, \"yanchor\": \"bottom\"}, \"paper_bgcolor\": \"rgba(0,0,0,0)\", \"plot_bgcolor\": \"rgba(0,0,0,0)\", \"template\": {\"data\": {\"bar\": [{\"error_x\": {\"color\": \"#2a3f5f\"}, \"error_y\": {\"color\": \"#2a3f5f\"}, \"marker\": {\"line\": {\"color\": \"#E5ECF6\", \"width\": 0.5}}, \"type\": \"bar\"}], \"barpolar\": [{\"marker\": {\"line\": {\"color\": \"#E5ECF6\", \"width\": 0.5}}, \"type\": \"barpolar\"}], \"carpet\": [{\"aaxis\": {\"endlinecolor\": \"#2a3f5f\", \"gridcolor\": \"white\", \"linecolor\": \"white\", \"minorgridcolor\": \"white\", \"startlinecolor\": \"#2a3f5f\"}, \"baxis\": {\"endlinecolor\": \"#2a3f5f\", \"gridcolor\": \"white\", \"linecolor\": \"white\", \"minorgridcolor\": \"white\", \"startlinecolor\": \"#2a3f5f\"}, \"type\": \"carpet\"}], \"choropleth\": [{\"colorbar\": {\"outlinewidth\": 0, \"ticks\": \"\"}, \"type\": \"choropleth\"}], \"contour\": [{\"colorbar\": {\"outlinewidth\": 0, \"ticks\": \"\"}, \"colorscale\": [[0.0, \"#0d0887\"], [0.1111111111111111, \"#46039f\"], [0.2222222222222222, \"#7201a8\"], [0.3333333333333333, \"#9c179e\"], [0.4444444444444444, \"#bd3786\"], [0.5555555555555556, \"#d8576b\"], [0.6666666666666666, \"#ed7953\"], [0.7777777777777778, \"#fb9f3a\"], [0.8888888888888888, \"#fdca26\"], [1.0, \"#f0f921\"]], \"type\": \"contour\"}], \"contourcarpet\": [{\"colorbar\": {\"outlinewidth\": 0, \"ticks\": \"\"}, \"type\": \"contourcarpet\"}], \"heatmap\": [{\"colorbar\": {\"outlinewidth\": 0, \"ticks\": \"\"}, \"colorscale\": [[0.0, \"#0d0887\"], [0.1111111111111111, \"#46039f\"], [0.2222222222222222, \"#7201a8\"], [0.3333333333333333, \"#9c179e\"], [0.4444444444444444, \"#bd3786\"], [0.5555555555555556, \"#d8576b\"], [0.6666666666666666, \"#ed7953\"], [0.7777777777777778, \"#fb9f3a\"], [0.8888888888888888, \"#fdca26\"], [1.0, \"#f0f921\"]], \"type\": \"heatmap\"}], \"heatmapgl\": [{\"colorbar\": {\"outlinewidth\": 0, \"ticks\": \"\"}, \"colorscale\": [[0.0, \"#0d0887\"], [0.1111111111111111, \"#46039f\"], [0.2222222222222222, \"#7201a8\"], [0.3333333333333333, \"#9c179e\"], [0.4444444444444444, \"#bd3786\"], [0.5555555555555556, \"#d8576b\"], [0.6666666666666666, \"#ed7953\"], [0.7777777777777778, \"#fb9f3a\"], [0.8888888888888888, \"#fdca26\"], [1.0, \"#f0f921\"]], \"type\": \"heatmapgl\"}], \"histogram\": [{\"marker\": {\"colorbar\": {\"outlinewidth\": 0, \"ticks\": \"\"}}, \"type\": \"histogram\"}], \"histogram2d\": [{\"colorbar\": {\"outlinewidth\": 0, \"ticks\": \"\"}, \"colorscale\": [[0.0, \"#0d0887\"], [0.1111111111111111, \"#46039f\"], [0.2222222222222222, \"#7201a8\"], [0.3333333333333333, \"#9c179e\"], [0.4444444444444444, \"#bd3786\"], [0.5555555555555556, \"#d8576b\"], [0.6666666666666666, \"#ed7953\"], [0.7777777777777778, \"#fb9f3a\"], [0.8888888888888888, \"#fdca26\"], [1.0, \"#f0f921\"]], \"type\": \"histogram2d\"}], \"histogram2dcontour\": [{\"colorbar\": {\"outlinewidth\": 0, \"ticks\": \"\"}, \"colorscale\": [[0.0, \"#0d0887\"], [0.1111111111111111, \"#46039f\"], [0.2222222222222222, \"#7201a8\"], [0.3333333333333333, \"#9c179e\"], [0.4444444444444444, \"#bd3786\"], [0.5555555555555556, \"#d8576b\"], [0.6666666666666666, \"#ed7953\"], [0.7777777777777778, \"#fb9f3a\"], [0.8888888888888888, \"#fdca26\"], [1.0, \"#f0f921\"]], \"type\": \"histogram2dcontour\"}], \"mesh3d\": [{\"colorbar\": {\"outlinewidth\": 0, \"ticks\": \"\"}, \"type\": \"mesh3d\"}], \"parcoords\": [{\"line\": {\"colorbar\": {\"outlinewidth\": 0, \"ticks\": \"\"}}, \"type\": \"parcoords\"}], \"pie\": [{\"automargin\": true, \"type\": \"pie\"}], \"scatter\": [{\"marker\": {\"colorbar\": {\"outlinewidth\": 0, \"ticks\": \"\"}}, \"type\": \"scatter\"}], \"scatter3d\": [{\"line\": {\"colorbar\": {\"outlinewidth\": 0, \"ticks\": \"\"}}, \"marker\": {\"colorbar\": {\"outlinewidth\": 0, \"ticks\": \"\"}}, \"type\": \"scatter3d\"}], \"scattercarpet\": [{\"marker\": {\"colorbar\": {\"outlinewidth\": 0, \"ticks\": \"\"}}, \"type\": \"scattercarpet\"}], \"scattergeo\": [{\"marker\": {\"colorbar\": {\"outlinewidth\": 0, \"ticks\": \"\"}}, \"type\": \"scattergeo\"}], \"scattergl\": [{\"marker\": {\"colorbar\": {\"outlinewidth\": 0, \"ticks\": \"\"}}, \"type\": \"scattergl\"}], \"scattermapbox\": [{\"marker\": {\"colorbar\": {\"outlinewidth\": 0, \"ticks\": \"\"}}, \"type\": \"scattermapbox\"}], \"scatterpolar\": [{\"marker\": {\"colorbar\": {\"outlinewidth\": 0, \"ticks\": \"\"}}, \"type\": \"scatterpolar\"}], \"scatterpolargl\": [{\"marker\": {\"colorbar\": {\"outlinewidth\": 0, \"ticks\": \"\"}}, \"type\": \"scatterpolargl\"}], \"scatterternary\": [{\"marker\": {\"colorbar\": {\"outlinewidth\": 0, \"ticks\": \"\"}}, \"type\": \"scatterternary\"}], \"surface\": [{\"colorbar\": {\"outlinewidth\": 0, \"ticks\": \"\"}, \"colorscale\": [[0.0, \"#0d0887\"], [0.1111111111111111, \"#46039f\"], [0.2222222222222222, \"#7201a8\"], [0.3333333333333333, \"#9c179e\"], [0.4444444444444444, \"#bd3786\"], [0.5555555555555556, \"#d8576b\"], [0.6666666666666666, \"#ed7953\"], [0.7777777777777778, \"#fb9f3a\"], [0.8888888888888888, \"#fdca26\"], [1.0, \"#f0f921\"]], \"type\": \"surface\"}], \"table\": [{\"cells\": {\"fill\": {\"color\": \"#EBF0F8\"}, \"line\": {\"color\": \"white\"}}, \"header\": {\"fill\": {\"color\": \"#C8D4E3\"}, \"line\": {\"color\": \"white\"}}, \"type\": \"table\"}]}, \"layout\": {\"annotationdefaults\": {\"arrowcolor\": \"#2a3f5f\", \"arrowhead\": 0, \"arrowwidth\": 1}, \"autotypenumbers\": \"strict\", \"coloraxis\": {\"colorbar\": {\"outlinewidth\": 0, \"ticks\": \"\"}}, \"colorscale\": {\"diverging\": [[0, \"#8e0152\"], [0.1, \"#c51b7d\"], [0.2, \"#de77ae\"], [0.3, \"#f1b6da\"], [0.4, \"#fde0ef\"], [0.5, \"#f7f7f7\"], [0.6, \"#e6f5d0\"], [0.7, \"#b8e186\"], [0.8, \"#7fbc41\"], [0.9, \"#4d9221\"], [1, \"#276419\"]], \"sequential\": [[0.0, \"#0d0887\"], [0.1111111111111111, \"#46039f\"], [0.2222222222222222, \"#7201a8\"], [0.3333333333333333, \"#9c179e\"], [0.4444444444444444, \"#bd3786\"], [0.5555555555555556, \"#d8576b\"], [0.6666666666666666, \"#ed7953\"], [0.7777777777777778, \"#fb9f3a\"], [0.8888888888888888, \"#fdca26\"], [1.0, \"#f0f921\"]], \"sequentialminus\": [[0.0, \"#0d0887\"], [0.1111111111111111, \"#46039f\"], [0.2222222222222222, \"#7201a8\"], [0.3333333333333333, \"#9c179e\"], [0.4444444444444444, \"#bd3786\"], [0.5555555555555556, \"#d8576b\"], [0.6666666666666666, \"#ed7953\"], [0.7777777777777778, \"#fb9f3a\"], [0.8888888888888888, \"#fdca26\"], [1.0, \"#f0f921\"]]}, \"colorway\": [\"#636efa\", \"#EF553B\", \"#00cc96\", \"#ab63fa\", \"#FFA15A\", \"#19d3f3\", \"#FF6692\", \"#B6E880\", \"#FF97FF\", \"#FECB52\"], \"font\": {\"color\": \"#2a3f5f\"}, \"geo\": {\"bgcolor\": \"white\", \"lakecolor\": \"white\", \"landcolor\": \"#E5ECF6\", \"showlakes\": true, \"showland\": true, \"subunitcolor\": \"white\"}, \"hoverlabel\": {\"align\": \"left\"}, \"hovermode\": \"closest\", \"mapbox\": {\"style\": \"light\"}, \"paper_bgcolor\": \"white\", \"plot_bgcolor\": \"#E5ECF6\", \"polar\": {\"angularaxis\": {\"gridcolor\": \"white\", \"linecolor\": \"white\", \"ticks\": \"\"}, \"bgcolor\": \"#E5ECF6\", \"radialaxis\": {\"gridcolor\": \"white\", \"linecolor\": \"white\", \"ticks\": \"\"}}, \"scene\": {\"xaxis\": {\"backgroundcolor\": \"#E5ECF6\", \"gridcolor\": \"white\", \"gridwidth\": 2, \"linecolor\": \"white\", \"showbackground\": true, \"ticks\": \"\", \"zerolinecolor\": \"white\"}, \"yaxis\": {\"backgroundcolor\": \"#E5ECF6\", \"gridcolor\": \"white\", \"gridwidth\": 2, \"linecolor\": \"white\", \"showbackground\": true, \"ticks\": \"\", \"zerolinecolor\": \"white\"}, \"zaxis\": {\"backgroundcolor\": \"#E5ECF6\", \"gridcolor\": \"white\", \"gridwidth\": 2, \"linecolor\": \"white\", \"showbackground\": true, \"ticks\": \"\", \"zerolinecolor\": \"white\"}}, \"shapedefaults\": {\"line\": {\"color\": \"#2a3f5f\"}}, \"ternary\": {\"aaxis\": {\"gridcolor\": \"white\", \"linecolor\": \"white\", \"ticks\": \"\"}, \"baxis\": {\"gridcolor\": \"white\", \"linecolor\": \"white\", \"ticks\": \"\"}, \"bgcolor\": \"#E5ECF6\", \"caxis\": {\"gridcolor\": \"white\", \"linecolor\": \"white\", \"ticks\": \"\"}}, \"title\": {\"x\": 0.05}, \"xaxis\": {\"automargin\": true, \"gridcolor\": \"white\", \"linecolor\": \"white\", \"ticks\": \"\", \"title\": {\"standoff\": 15}, \"zerolinecolor\": \"white\", \"zerolinewidth\": 2}, \"yaxis\": {\"automargin\": true, \"gridcolor\": \"white\", \"linecolor\": \"white\", \"ticks\": \"\", \"title\": {\"standoff\": 15}, \"zerolinecolor\": \"white\", \"zerolinewidth\": 2}}}, \"title\": {\"text\": \"Fitting an harmonic curve to the accidents (Eye closed E5)\"}, \"xaxis\": {\"anchor\": \"y\", \"domain\": [0.0, 0.94], \"dtick\": 2, \"gridcolor\": \"black\", \"gridwidth\": 1, \"linecolor\": \"black\", \"linewidth\": 2, \"mirror\": true, \"showgrid\": true, \"showline\": true, \"tick0\": 0, \"tickmode\": \"linear\", \"title\": {\"text\": \"Time of day\"}}, \"yaxis\": {\"anchor\": \"x\", \"domain\": [0.0, 1.0], \"gridcolor\": \"black\", \"gridwidth\": 1, \"linecolor\": \"black\", \"linewidth\": 2, \"mirror\": true, \"showgrid\": false, \"showline\": true, \"title\": {\"text\": \"<b>Z-Score</b>\"}}, \"yaxis2\": {\"anchor\": \"x\", \"gridcolor\": \"black\", \"gridwidth\": 1, \"linecolor\": \"black\", \"linewidth\": 2, \"mirror\": true, \"overlaying\": \"y\", \"showgrid\": false, \"showline\": true, \"side\": \"right\"}},                        {\"responsive\": true}                    ).then(function(){\n",
              "                            \n",
              "var gd = document.getElementById('55ca9b2a-e6b2-4a9f-a598-d258a7a96ec8');\n",
              "var x = new MutationObserver(function (mutations, observer) {{\n",
              "        var display = window.getComputedStyle(gd).display;\n",
              "        if (!display || display === 'none') {{\n",
              "            console.log([gd, 'removed!']);\n",
              "            Plotly.purge(gd);\n",
              "            observer.disconnect();\n",
              "        }}\n",
              "}});\n",
              "\n",
              "// Listen for the removal of the full notebook cells\n",
              "var notebookContainer = gd.closest('#notebook-container');\n",
              "if (notebookContainer) {{\n",
              "    x.observe(notebookContainer, {childList: true});\n",
              "}}\n",
              "\n",
              "// Listen for the clearing of the current output cell\n",
              "var outputEl = gd.closest('.output');\n",
              "if (outputEl) {{\n",
              "    x.observe(outputEl, {childList: true});\n",
              "}}\n",
              "\n",
              "                        })                };                            </script>        </div>\n",
              "</body>\n",
              "</html>"
            ]
          },
          "metadata": {
            "tags": []
          }
        }
      ]
    },
    {
      "cell_type": "code",
      "metadata": {
        "colab": {
          "base_uri": "https://localhost:8080/"
        },
        "id": "GkHVWAsegHxY",
        "outputId": "6ba0e536-4848-439a-fc8f-eaf320b98c19"
      },
      "source": [
        "Y = stats.zscore(acs)\r\n",
        "X_m = stats.zscore(sinusoid(X, *parama))\r\n",
        "X_m = sm.add_constant(X_m)\r\n",
        "model = sm.OLS(Y,X_m)\r\n",
        "results = model.fit()\r\n",
        "results.params\r\n",
        "\r\n",
        "y5 = results.predict(X_m)\r\n",
        "print(results.summary())"
      ],
      "execution_count": 149,
      "outputs": [
        {
          "output_type": "stream",
          "text": [
            "                            OLS Regression Results                            \n",
            "==============================================================================\n",
            "Dep. Variable:                      y   R-squared:                       0.954\n",
            "Model:                            OLS   Adj. R-squared:                  0.950\n",
            "Method:                 Least Squares   F-statistic:                     209.1\n",
            "Date:                Fri, 05 Mar 2021   Prob (F-statistic):           4.96e-08\n",
            "Time:                        17:37:56   Log-Likelihood:                 1.4956\n",
            "No. Observations:                  12   AIC:                             1.009\n",
            "Df Residuals:                      10   BIC:                             1.979\n",
            "Df Model:                           1                                         \n",
            "Covariance Type:            nonrobust                                         \n",
            "==============================================================================\n",
            "                 coef    std err          t      P>|t|      [0.025      0.975]\n",
            "------------------------------------------------------------------------------\n",
            "const       4.163e-16      0.068   6.16e-15      1.000      -0.151       0.151\n",
            "x1             0.9769      0.068     14.462      0.000       0.826       1.127\n",
            "==============================================================================\n",
            "Omnibus:                        2.794   Durbin-Watson:                   2.134\n",
            "Prob(Omnibus):                  0.247   Jarque-Bera (JB):                1.818\n",
            "Skew:                          -0.919   Prob(JB):                        0.403\n",
            "Kurtosis:                       2.493   Cond. No.                         1.00\n",
            "==============================================================================\n",
            "\n",
            "Warnings:\n",
            "[1] Standard Errors assume that the covariance matrix of the errors is correctly specified.\n"
          ],
          "name": "stdout"
        },
        {
          "output_type": "stream",
          "text": [
            "/usr/local/lib/python3.7/dist-packages/scipy/stats/stats.py:1535: UserWarning:\n",
            "\n",
            "kurtosistest only valid for n>=20 ... continuing anyway, n=12\n",
            "\n"
          ],
          "name": "stderr"
        }
      ]
    },
    {
      "cell_type": "markdown",
      "metadata": {
        "id": "zzgpC4w_DFj7"
      },
      "source": [
        "# **Salvar os resultados em csv**"
      ]
    },
    {
      "cell_type": "code",
      "metadata": {
        "id": "KZGfQO6XKW98"
      },
      "source": [
        "#dfE3_final.to_csv('/content/drive/MyDrive/Trabalho/Datasets/E3_final.csv', encoding='utf-8')#, index=False)"
      ],
      "execution_count": 150,
      "outputs": []
    },
    {
      "cell_type": "code",
      "metadata": {
        "id": "yrrKfSKoMiwW"
      },
      "source": [
        "#df = pd.read_csv('/content/drive/MyDrive/Trabalho/Datasets/E3_final.csv', index_col='HORA')\r\n",
        "#df.head()"
      ],
      "execution_count": 151,
      "outputs": []
    }
  ]
}