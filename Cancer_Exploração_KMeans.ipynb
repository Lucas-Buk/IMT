{
  "nbformat": 4,
  "nbformat_minor": 0,
  "metadata": {
    "colab": {
      "name": "Cancer - Exploração KMeans.ipynb",
      "provenance": [],
      "collapsed_sections": [
        "LPae7x8J38aH",
        "Z85PSEp0ROLU",
        "lOjCB6od_XiE",
        "dZsu97YHP4zH"
      ],
      "mount_file_id": "16L-0DEP_TD82X1rq_C3kRXWE_7qTD3ta",
      "authorship_tag": "ABX9TyPe2Amqj8SGuiW0FF+sIQqB",
      "include_colab_link": true
    },
    "kernelspec": {
      "name": "python3",
      "display_name": "Python 3"
    },
    "language_info": {
      "name": "python"
    }
  },
  "cells": [
    {
      "cell_type": "markdown",
      "metadata": {
        "id": "view-in-github",
        "colab_type": "text"
      },
      "source": [
        "<a href=\"https://colab.research.google.com/github/Lucas-Buk/IMT/blob/main/Cancer_Explora%C3%A7%C3%A3o_KMeans.ipynb\" target=\"_parent\"><img src=\"https://colab.research.google.com/assets/colab-badge.svg\" alt=\"Open In Colab\"/></a>"
      ]
    },
    {
      "cell_type": "markdown",
      "metadata": {
        "id": "4dwZu3EEXlop"
      },
      "source": [
        "> Notebook com o carregamento dos dados gerados pelo K-Means para sua exploração, visando o entendimento das relações dos clusters\n",
        "\n",
        "---"
      ]
    },
    {
      "cell_type": "markdown",
      "metadata": {
        "id": "LPae7x8J38aH"
      },
      "source": [
        "#**Bibliotecas e instalações**"
      ]
    },
    {
      "cell_type": "code",
      "metadata": {
        "id": "f_Lpm8RjeXYW"
      },
      "source": [
        "import pandas as pd\n",
        "import numpy as np\n",
        "import matplotlib.pyplot as plt\n",
        "import seaborn as sns\n",
        "import plotly.express as px\n",
        "import plotly.graph_objects as go\n",
        "from plotly.subplots import make_subplots\n",
        "\n",
        "import pickle"
      ],
      "execution_count": null,
      "outputs": []
    },
    {
      "cell_type": "code",
      "metadata": {
        "id": "El7Gm8k6dCZm"
      },
      "source": [
        "from sklearn.preprocessing import StandardScaler\n",
        "from sklearn.cluster import KMeans\n",
        "from sklearn.decomposition import PCA\n",
        "from sklearn.manifold import TSNE"
      ],
      "execution_count": null,
      "outputs": []
    },
    {
      "cell_type": "markdown",
      "metadata": {
        "id": "Z85PSEp0ROLU"
      },
      "source": [
        "# **Dicionário de variáveis**"
      ]
    },
    {
      "cell_type": "markdown",
      "metadata": {
        "id": "7GS9U2C44XBi"
      },
      "source": [
        "*   **ESCOLARI**: Código para escolaridade do paciente (int = 1).\n",
        "\n",
        "      1 – ANALFABETO\n",
        "\n",
        "      2 – ENS. FUND. INCOMPLETO\n",
        "\n",
        "      3 – ENS. FUND. COMPLETO\n",
        "\n",
        "      4 – ENSINO MÉDIO\n",
        "\n",
        "      5 – SUPERIOR\n",
        "\n",
        "      9 – IGNORADA\n",
        "*   **IDADE**: Idade do paciente (int = 3).\n",
        "*   **SEXO**: Sexo do paciente (int = 1). \n",
        "\n",
        "      1 – MASCULINO\n",
        "\n",
        "      2 – FEMININO\n",
        "*   **UFNASC**: UF de nascimento (char = 2). Outras opções: SI - Sem informação; OP - Outro país.\t\n",
        "*   **UFRESID**: UF de residência (char = 2). Outras opções: OP - Outro país.\n",
        "*   **IBGE**: Código da cidade de residência do paciente segundo IBGE com digito verificador (char = 7).\n",
        "*   **CIDADE**: Cidade de residência do paciente (char = 200).\n",
        "*   **CATEATEND**: Categoria de atendimento ao diagnóstico (int = 1). \n",
        "\n",
        "      1 - CONVENIO\n",
        "\n",
        "      2 - SUS\n",
        "\n",
        "      3 – PARTICULAR\n",
        "\n",
        "      9 – SEM INFORMAÇÃO\n",
        "*   **DTCONSULT**: Data da 1ª consulta (date = 10). Formato: DD/MM/YYYY\t\n",
        "*   **CLINICA**: Código da clinica (int = 2).\n",
        "\n",
        "      1 – ALERGIA/IMUNOLOGIA\n",
        "\n",
        "      2 – CIRURGIA CARDIACA\n",
        "\n",
        "      3 – CIRURGIA CABEÇA E PESCOÇO\n",
        "\n",
        "      4 – CIRURGIA GERAL\n",
        "\n",
        "      5 – CIRURGIA PEDIATRICA\n",
        "\n",
        "      6 – CIRURGIA PLASTICA\n",
        "\n",
        "      7 – CIRURGIA TORAXICA\n",
        "\n",
        "      8 – CIRURGIA VASCULAR\n",
        "\n",
        "      9 – CLINICA MEDICA\n",
        "\n",
        "      10 – DERMATOLOGIA\n",
        "\n",
        "      11 – ENDOCRINOLOGIA\n",
        "\n",
        "      12 – GASTROCIRURGIA\n",
        "      \n",
        "      13 – GASTROENTEROLOGIA\n",
        "      \n",
        "      14 – GERIATRIA\n",
        "      \n",
        "      15 – GINECOLOGIA\n",
        "      \n",
        "      16 – GINECOLOGIA / OBSTETRICIA\n",
        "      \n",
        "      17 – HEMATOLOGIA\n",
        "      \n",
        "      18 – INFECTOLOGIA\n",
        "      \n",
        "      19 – NEFROLOGIA\n",
        "      \n",
        "      20 – NEUROCIRURGIA\n",
        "      \n",
        "      21 – NEUROLOGIA\n",
        "      \n",
        "      22 – OFTALMOLOGIA\n",
        "      \n",
        "      23 – ONCOLOGIA CIRURGICA\n",
        "      \n",
        "      24 – ONCOLOGIA CLINICA\n",
        "      \n",
        "      25 – ONCOLOGIA PEDIATRICA\n",
        "      \n",
        "      26 – ORTOPEDIA\n",
        "      \n",
        "      27 – OTORRINOLARINGOLOGIA\n",
        "      \n",
        "      28 – PEDIATRIA\n",
        "      \n",
        "      29 – PNEUMOLOGIA\n",
        "      \n",
        "      30 – PROCTOLOGIA\n",
        "      \n",
        "      31 – RADIOTERAPIA\n",
        "      \n",
        "      32 – UROLOGIA\n",
        "      \n",
        "      33 – MASTOLOGIA\n",
        "      \n",
        "      34 – ONCOLOGIA CUTANEA\n",
        "      \n",
        "      35 – CIRURGIA PELVICA\n",
        "      \n",
        "      36 – CIRURGIA ABDOMINAL\n",
        "      \n",
        "      37 – ODONTOLOGIA\n",
        "      \n",
        "      38 – TRANSPLANTE HEPATICO\n",
        "      \n",
        "      99 – IGNORADO\t\n",
        "*   **DIAGPREV**: Diagnóstico e tratamento anterior (int = 1).\n",
        "\n",
        "      1 – SEM DIAGNÓSTICO / SEM TRATAMENTO\n",
        "      \n",
        "      2 – COM DIAGNÓSTICO / SEM TRATAMENTO\n",
        "      \n",
        "      3 – COM DIAGNÓSTICO / COM TRATAMENTO\n",
        "      \n",
        "      4 – OUTROS\t\n",
        "*   **DTDIAG**: Data do diagnóstico (date = 10). Formato: DD/MM/YYYY\t\n",
        "*   **BASEDIAG**: Código da base do diagnóstico (int = 1).\n",
        "      \n",
        "      1 – EXAME CLINICO\n",
        "      \n",
        "      2 – RECURSOS AUXILIARES NÃO MICROSCÓPICOS\n",
        "      \n",
        "      3 – CONFIRMAÇÃO MICROSCÓPICA\n",
        "      \n",
        "      4 – SEM INFORMAÇÃO\t\n",
        "*   **TOPO**: Código da topografia (char = 4). Formato: C999 \t\n",
        "*   **TOPOGRUP**: Grupo da topografia\t(char = 3). Formato: C99\t\n",
        "*   **DESCTOPO**: Descrição da Topografia (char = 80).\n",
        "*   **MORFO**: Código da morfologia (char = 5). Formato: 99999\n",
        "*   **DESCMORFO**: Descrição da morfologia (char = 80).\n",
        "*   **EC**: Estádio clínico (char = 5).\n",
        "*   **ECGRUP**: Grupo do estadiamento clínico (char = 3).\n",
        "\n",
        "      0 - Tumores primários, classificados como in situ\n",
        "\n",
        "      I - Tumores localizados\n",
        "\n",
        "      II - Tumores com envolvimento regional por extensão direta\n",
        "\n",
        "      III - Tumores com envolvimento regional de linfonodos\n",
        "      \n",
        "      IV - Tumores com metástase à distância \n",
        "\n",
        "      X - Para tumores não avaliados pelo profissional responsável ou sem informação sobre estadiamento anotada no prontuário\n",
        "\n",
        "      Y - Para tumores em que não se aplica a classificação TNM. São os tumores não sólidos (por exemplo, as leucemias)\n",
        "*   **T**: Classificação TNM - T (char = 5).\n",
        "*   **N**: Classificação TNM - N (char = 5).\t\n",
        "*   **M**: Classificação TNM - M (char = 3).\t\n",
        "*   **PT**: Estadiamento pós cirúrgico (char = 5).\n",
        "*   **PN**: Estadiamento pós cirúrgico (char = 5).\t\n",
        "*   **PM**: Estadiamento pós cirúrgico (char = 3).\t\n",
        "*   **S**: Classificação TNM - S (int = 1). Domínio: 0; 1; 2; 3; 8 – NÃO SE APLICA; 9 – X\n",
        "*   **G**: Classificação TNM – G (Grau) (char = 5). \n",
        "\n",
        "      Domínio (exceto C40, C41, C381, C382, C383, C47, C48 e C49):\n",
        "      0; 1; 2; 3; 4; 8 – NÃO SE APLICA; 9 – X\n",
        "\n",
        "      Domínio (somente C40, C41, C381, C382, C383, C47, C48 e C49):\n",
        "      ALTO; BAIXO; 8 – NÃO SE APLICA; 9 – X\n",
        "\t\n",
        "*   **LOCALTNM**: Classificação TNM - Localização (int = 1).\n",
        "      \n",
        "      1 – SUPERIOR\n",
        "      \n",
        "      2 – MEDIO\n",
        "      \n",
        "      3 – INFERIOR\n",
        "      \n",
        "      8 – NÃO SE APLICA\n",
        "      \n",
        "      9 – X\t\n",
        "*   **IDMITOTIC**: Classificação TNM – Índice Mitótico (int = 1).\n",
        "      \n",
        "      1 – ALTA\n",
        "      \n",
        "      2 – BAIXA\n",
        "      \n",
        "      8 – NÃO SE APLICA\n",
        "      \n",
        "      9 – X\t\n",
        "*   **PSA**: Classificação TNM - PSA (int = 1).\n",
        "      \n",
        "      1 – MENOR QUE 10\n",
        "      \n",
        "      2 – MAIOR OU IGUAL A 10 E MENOR QUE 20\n",
        "      \n",
        "      3 – MAIOR OU IGUAL A 20\n",
        "      \n",
        "      8 – NÃO SE APLICA\n",
        "      \n",
        "      9 – X\t\n",
        "*   **GLEASON**: Classificação TNM - Gleason (int = 1).\n",
        "      \n",
        "      1 – MENOR OU IGUAL A 6\n",
        "      \n",
        "      2 – IGUAL A 7\n",
        "      \n",
        "      3 – MAIOR OU IGUAL A 8\n",
        "      \n",
        "      8 – NÃO SE APLICA\n",
        "      \n",
        "      9 – X\t\n",
        "*   **OUTRACLA**: Outra classificação de estadiamento (char = 20).\n",
        "*   **META01**: Metástase (char = 3).\tFormato: C99\n",
        "*   **META02**: Metástase (char = 3).\tFormato: C99\n",
        "*   **META03**: Metástase (char = 3).\tFormato: C99\n",
        "*   **META04**: Metástase (char = 3).\tFormato: C99\n",
        "*   **DTTRAT**: Data de inicio do tratamento (date = 10). Formato: DD/MM/YYYY\t\n",
        "*   **NAOTRAT**: Código da razão para não realização do tratamento (int = 1).\n",
        "      \n",
        "      1 – RECUSA DO TRATAMENTO\n",
        "      \n",
        "      2 – DOENÇA AVANÇADA, FALTA DE CONDIÇÕES CLINICAS\n",
        "      \n",
        "      3 – OUTRAS DOENÇAS ASSOCIADAS\n",
        "      \n",
        "      4 – ABANDONO DE TRATAMENTO\n",
        "      \n",
        "      5 – OBITO POR CANCER\n",
        "      \n",
        "      6 – OBITO POR OUTRAS CAUSAS, SOE\n",
        "      \n",
        "      7 – OUTRAS\n",
        "      \n",
        "      8 – NÃO SE APLICA (CASO TENHA TRATAMENTO)\n",
        "      \n",
        "      9 – SEM INFORMAÇÃO\t\n",
        "*   **TRATAMENTO**: Código de combinação dos tratamentos realizados (char = 1).\n",
        "      \n",
        "      A – Cirurgia\n",
        "      \n",
        "      B – Radioterapia\n",
        "      \n",
        "      C – Quimioterapia\n",
        "      \n",
        "      D – Cirurgia + Radioterapia\n",
        "      \n",
        "      E – Cirurgia + Quimioterapia\n",
        "      \n",
        "      F – Radioterapia + Quimioterapia\n",
        "      \n",
        "      G – Cirurgia + Radio + Quimio\n",
        "      \n",
        "      H – Cirurgia + Radio + Quimio + Hormonio\n",
        "      \n",
        "      I – Outras combinações de tratamento\n",
        "      \n",
        "      J – Nenhum tratamento realizado\t\n",
        "*   **TRATHOSP**: Código de combinação dos tratamentos realizados no hospital (char = 1).\n",
        "      \n",
        "      A – Cirurgia\n",
        "      \n",
        "      B – Radioterapia\n",
        "      \n",
        "      C – Quimioterapia\n",
        "      \n",
        "      D – Cirurgia + Radioterapia\n",
        "      \n",
        "      E – Cirurgia + Quimioterapia\n",
        "      \n",
        "      F – Radioterapia + Quimioterapia\n",
        "      \n",
        "      G – Cirurgia + Radio + Quimio\n",
        "      \n",
        "      H – Cirurgia + Radio + Quimio + Hormonio\n",
        "      \n",
        "      I – Outras combinações de tratamento\n",
        "\n",
        "      J – Nenhum tratamento realizado\t\n",
        "*   **TRATFANTES**: Código de combinação dos tratamentos realizados antes/durante admissão fora do hospital (char = 1).\n",
        "      \n",
        "      A – Cirurgia\n",
        "      \n",
        "      B – Radioterapia\n",
        "      \n",
        "      C – Quimioterapia\n",
        "      \n",
        "      D – Cirurgia + Radioterapia\n",
        "      \n",
        "      E – Cirurgia + Quimioterapia\n",
        "      \n",
        "      F – Radioterapia + Quimioterapia\n",
        "      \n",
        "      G – Cirurgia + Radio + Quimio\n",
        "      \n",
        "      H – Cirurgia + Radio + Quimio + Hormonio\n",
        "      \n",
        "      I – Outras combinações de tratamento\n",
        "      \n",
        "      J – Nenhum tratamento realizado\n",
        "      \n",
        "      K – Sem informação\n",
        "*   **TRATFAPOS**: Código de combinação dos tratamentos realizados após admissão fora do hospital (char = 1).\n",
        "      \n",
        "      A – Cirurgia\n",
        "      \n",
        "      B – Radioterapia\n",
        "      \n",
        "      C – Quimioterapia\n",
        "      \n",
        "      D – Cirurgia + Radioterapia\n",
        "      \n",
        "      E – Cirurgia + Quimioterapia\n",
        "      \n",
        "      F – Radioterapia + Quimioterapia\n",
        "      \n",
        "      G – Cirurgia + Radio + Quimio\n",
        "      \n",
        "      H – Cirurgia + Radio + Quimio + Hormonio\n",
        "      \n",
        "      I – Outras combinações de tratamento\n",
        "      \n",
        "      J – Nenhum tratamento realizado\n",
        "      \n",
        "      K – Sem informação\n",
        "*   **NENHUM**: Tratamento recebido no hospital = nenhum (int = 1). 0 – NÃO; 1 – SIM\n",
        "*   **CIRURGIA**: Tratamento recebido no hospital = cirurgia (int = 1). 0 – NÃO; 1 – SIM\n",
        "*   **RADIO**: Tratamento recebido no hospital = radioterapia (int = 1). 0 – NÃO; 1 – SIM\n",
        "*   **QUIMIO**: Tratamento recebido no hospital = quimioterapia (int = 1). 0 – NÃO; 1 – SIM\n",
        "*   **HORMONIO**: Tratamento recebido no hospital = hormonioterapia (int = 1). 0 – NÃO; 1 – SIM\n",
        "*   **TMO**: Tratamento recebido no hospital = tmo (int = 1). 0 – NÃO; 1 – SIM\n",
        "*   **IMUNO**: Tratamento recebido no hospital = imunoterapia (int = 1). 0 – NÃO; 1 – SIM\n",
        "*   **OUTROS**: Tratamento recebido no hospital = outros (int = 1). 0 – NÃO; 1 – SIM\n",
        "*   **NENHUMANT**: Tratamento recebido fora do hospital e antes da admissão = nenhum (int = 1). 0 – NÃO; 1 – SIM\n",
        "*   **CIRURANT**: Tratamento recebido fora do hospital e antes da admissão = cirurgia (int = 1). 0 – NÃO; 1 – SIM\n",
        "*   **RADIOANT**: Tratamento recebido fora do hospital e antes da admissão = radioterapia (int = 1). 0 – NÃO; 1 – SIM\n",
        "*   **QUIMIOANT**: Tratamento recebido fora do hospital e antes da admissão = quimioterapia (int = 1). 0 – NÃO; 1 – SIM\n",
        "*   **HORMOANT**: Tratamento recebido fora do hospital e antes da admissão = hormonioterapia (int = 1). 0 – NÃO; 1 – SIM\n",
        "*   **TMOANT**: Tratamento recebido fora do hospital e antes da admissão = tmo (int = 1). 0 – NÃO; 1 – SIM\n",
        "*   **IMUNOANT**: Tratamento recebido fora do hospital e antes da admissão = imunoterapia (int = 1). 0 – NÃO; 1 – SIM\n",
        "*   **OUTROANT**: Tratamento recebido fora do hospital e antes da admissão = outros (int = 1). 0 – NÃO; 1 – SIM\t\n",
        "*   **NENHUMAPOS**: Tratamento recebido fora do hospital e durante/após admissão = nenhum\t(int = 1). 0 – NÃO; 1 – SIM\t\n",
        "*   **CIRURAPOS**: Tratamento recebido fora do hospital e durante/após admissão = cirurgia\t(int = 1). 0 – NÃO; 1 – SIM\t\n",
        "*   **RADIOAPOS**: Tratamento recebido fora do hospital e durante/após admissão = radioterapia\t(int = 1). 0 – NÃO; 1 – SIM\t\n",
        "*   **QUIMIOAPOS**: Tratamento recebido fora do hospital e durante/após admissão = quimioterapia\t(int = 1). 0 – NÃO; 1 – SIM\t\t\n",
        "*   **HORMOAPOS**: Tratamento recebido fora do hospital e durante/após admissão = hormonioterapia\t(int = 1). 0 – NÃO; 1 – SIM\t\t\n",
        "*   **TMOAPOS**: Tratamento recebido fora do hospital e durante/após admissão = tmo\t(int = 1). 0 – NÃO; 1 – SIM\t\t\n",
        "*   **IMUNOAPOS**: Tratamento recebido fora do hospital e durante/após admissão = imunoterapia\t(int = 1). 0 – NÃO; 1 – SIM\t\n",
        "*   **OUTROAPOS**: Tratamento recebido fora do hospital e durante/após admissão = outros\t(int = 1). 0 – NÃO; 1 – SIM\t\n",
        "*   **DTULTINFO**: Data da última informação do paciente (date = 10). Formato: DD/MM/YYYY\n",
        "*   **ULTINFO**: Última informação sobre o paciente (int = 1).\n",
        "      \n",
        "      1 – VIVO, COM CÂNCER\n",
        "      \n",
        "      2 – VIVO, SOE\n",
        "      \n",
        "      3 – OBITO POR CANCER\n",
        "      \n",
        "      4 – OBITO POR OUTRAS CAUSAS, SOE\n",
        "*   **CONSDIAG**: Diferença em dias entre as datas de consulta o diagnóstico (num = dias).\n",
        "*   **TRATCONS**: Diferença em dias entre as datas de consulta e tratamento (num = dias).\t\n",
        "*   **DIAGTRAT**: Diferença em dias entre as datas de tratamento e diagnóstico (num = dias).\n",
        "*   **ANODIAG**: Ano de diagnóstico (int = 4). Formato: 9999\n",
        "*   **CICI**: Tumor infantil (char = 5).\t\n",
        "*   **CICIGRUP**: Tumor infantil – Grupo (char = 80).\t\n",
        "*   **CICISUBGRU**: Tumor infantil – Sub grupo (char = 80).\t\n",
        "*   **FAIXAETAR**: Faixa etária do paciente (char = 5).\t\n",
        "*   **LATERALI**: Lateralidade (int = 1).\n",
        "      \n",
        "      1 – DIREITA\n",
        "      \n",
        "      2 – ESQUERDA\n",
        "      \n",
        "      3 – BILATERAL\n",
        "      \n",
        "      8 - NÃO SE APLICA\t\n",
        "*   **INSTORIG**: Instituição de origem (char = 200). Obrigatório somente se DIAGPREV = 03 – COM DIAGNÓSTICO / COM TRATAMENTO\n",
        "*   **DRS**: Departamentos Regionais de Saúde (char = 200).\n",
        "*   **RRAS**: RRAS (char = 200).\t\n",
        "*   **PERDASEG**: Perda de seguimento (int = 1). \n",
        "      \n",
        "      0 – Não\n",
        "      \n",
        "      1 – Sim\n",
        "      \n",
        "      8 – Não se aplica (excluído do cálculo para o indicador perda de seguimento)\t\n",
        "*   **ERRO**: Admissão com erro (int = 1). 0 – Sem; 1 – Com\n",
        "*   **DTRECIDIVA**: Data da última ocorrência de recidiva (date = 10). Formato: DD/MM/YYYY\t\n",
        "*   **RECNENHUM**: Sem recidiva (int = 1). 0 - Não; 1 - Sim\n",
        "*   **RECLOCAL**: Recidiva local (int = 1). 0 - Não; 1 - Sim\t\n",
        "*   **RECREGIO**: Recidiva regional (int = 1). 0 - Não; 1 - Sim\t\n",
        "*   **RECDIST**: Recidiva a distância / metástase (int = 1). 0 - Não; 1 - Sim\t\n",
        "*   **REC01**: Local da recidiva/metástase (char = 3). Formato: C99 \n",
        "*   **REC02**: Local da recidiva/metástase (char = 3). Formato: C99 \t\n",
        "*   **REC03**: Local da recidiva/metástase (char = 3). Formato: C99 \n",
        "*   **REC04**: Local da recidiva/metástase (char = 3). Formato: C99 \t\n",
        "*   **IBGEATEN**: Código IBGE da instituição (int = 7).\t\n",
        "*   **CIDO**: Código da morfologia 3ª Edição (int = 5). Formato: 99999\t\n",
        "*   **DSCCIDO**: Descrição da morfologia 3ª Edição (char = 89).\n",
        "\n",
        "\n"
      ]
    },
    {
      "cell_type": "markdown",
      "metadata": {
        "id": "lOjCB6od_XiE"
      },
      "source": [
        "# **Dados**"
      ]
    },
    {
      "cell_type": "code",
      "metadata": {
        "colab": {
          "base_uri": "https://localhost:8080/"
        },
        "id": "qn4MHCqm_bFZ",
        "outputId": "abc86fca-c552-48c0-ac4d-684ad32dc631"
      },
      "source": [
        "df = pd.read_csv('/content/drive/MyDrive/Trabalho/Cancer/Datasets/kmeans_preprocessing.csv')\n",
        "df.head()"
      ],
      "execution_count": null,
      "outputs": [
        {
          "output_type": "execute_result",
          "data": {
            "text/html": [
              "<div>\n",
              "<style scoped>\n",
              "    .dataframe tbody tr th:only-of-type {\n",
              "        vertical-align: middle;\n",
              "    }\n",
              "\n",
              "    .dataframe tbody tr th {\n",
              "        vertical-align: top;\n",
              "    }\n",
              "\n",
              "    .dataframe thead th {\n",
              "        text-align: right;\n",
              "    }\n",
              "</style>\n",
              "<table border=\"1\" class=\"dataframe\">\n",
              "  <thead>\n",
              "    <tr style=\"text-align: right;\">\n",
              "      <th></th>\n",
              "      <th>ESCOLARI</th>\n",
              "      <th>IDADE</th>\n",
              "      <th>SEXO</th>\n",
              "      <th>IBGE</th>\n",
              "      <th>CATEATEND</th>\n",
              "      <th>CLINICA</th>\n",
              "      <th>DIAGPREV</th>\n",
              "      <th>BASEDIAG</th>\n",
              "      <th>TOPO</th>\n",
              "      <th>TOPOGRUP</th>\n",
              "      <th>MORFO</th>\n",
              "      <th>EC</th>\n",
              "      <th>ECGRUP</th>\n",
              "      <th>T</th>\n",
              "      <th>N</th>\n",
              "      <th>M</th>\n",
              "      <th>PT</th>\n",
              "      <th>PN</th>\n",
              "      <th>PM</th>\n",
              "      <th>G</th>\n",
              "      <th>LOCALTNM</th>\n",
              "      <th>IDMITOTIC</th>\n",
              "      <th>PSA</th>\n",
              "      <th>GLEASON</th>\n",
              "      <th>META01</th>\n",
              "      <th>META02</th>\n",
              "      <th>META03</th>\n",
              "      <th>META04</th>\n",
              "      <th>NAOTRAT</th>\n",
              "      <th>TRATAMENTO</th>\n",
              "      <th>TRATHOSP</th>\n",
              "      <th>TRATFANTES</th>\n",
              "      <th>TRATFAPOS</th>\n",
              "      <th>NENHUM</th>\n",
              "      <th>CIRURGIA</th>\n",
              "      <th>RADIO</th>\n",
              "      <th>QUIMIO</th>\n",
              "      <th>HORMONIO</th>\n",
              "      <th>TMO</th>\n",
              "      <th>IMUNO</th>\n",
              "      <th>OUTROS</th>\n",
              "      <th>NENHUMANT</th>\n",
              "      <th>CIRURANT</th>\n",
              "      <th>RADIOANT</th>\n",
              "      <th>NENHUMAPOS</th>\n",
              "      <th>CIRURAPOS</th>\n",
              "      <th>RADIOAPOS</th>\n",
              "      <th>QUIMIOAPOS</th>\n",
              "      <th>HORMOAPOS</th>\n",
              "      <th>TMOAPOS</th>\n",
              "      <th>IMUNOAPOS</th>\n",
              "      <th>OUTROAPOS</th>\n",
              "      <th>ULTINFO</th>\n",
              "      <th>CONSDIAG</th>\n",
              "      <th>TRATCONS</th>\n",
              "      <th>DIAGTRAT</th>\n",
              "      <th>ANODIAG</th>\n",
              "      <th>CICI</th>\n",
              "      <th>CICIGRUP</th>\n",
              "      <th>FAIXAETAR</th>\n",
              "      <th>LATERALI</th>\n",
              "      <th>DRS</th>\n",
              "      <th>RRAS</th>\n",
              "      <th>PERDASEG</th>\n",
              "      <th>RECNENHUM</th>\n",
              "      <th>RECLOCAL</th>\n",
              "      <th>RECREGIO</th>\n",
              "      <th>RECDIST</th>\n",
              "      <th>REC01</th>\n",
              "      <th>REC02</th>\n",
              "      <th>REC03</th>\n",
              "      <th>REC04</th>\n",
              "      <th>IBGEATEN</th>\n",
              "      <th>GRUPO</th>\n",
              "    </tr>\n",
              "  </thead>\n",
              "  <tbody>\n",
              "    <tr>\n",
              "      <th>0</th>\n",
              "      <td>4</td>\n",
              "      <td>40.0</td>\n",
              "      <td>2</td>\n",
              "      <td>3530805</td>\n",
              "      <td>9</td>\n",
              "      <td>15</td>\n",
              "      <td>1</td>\n",
              "      <td>3</td>\n",
              "      <td>222</td>\n",
              "      <td>45</td>\n",
              "      <td>81402</td>\n",
              "      <td>0</td>\n",
              "      <td>0</td>\n",
              "      <td>25</td>\n",
              "      <td>15</td>\n",
              "      <td>0</td>\n",
              "      <td>30</td>\n",
              "      <td>0</td>\n",
              "      <td>0</td>\n",
              "      <td>8</td>\n",
              "      <td>8</td>\n",
              "      <td>8</td>\n",
              "      <td>8</td>\n",
              "      <td>8</td>\n",
              "      <td>0</td>\n",
              "      <td>0</td>\n",
              "      <td>0</td>\n",
              "      <td>0</td>\n",
              "      <td>8</td>\n",
              "      <td>0</td>\n",
              "      <td>0</td>\n",
              "      <td>2</td>\n",
              "      <td>9</td>\n",
              "      <td>0</td>\n",
              "      <td>1</td>\n",
              "      <td>0</td>\n",
              "      <td>0</td>\n",
              "      <td>0</td>\n",
              "      <td>0</td>\n",
              "      <td>0</td>\n",
              "      <td>0</td>\n",
              "      <td>1</td>\n",
              "      <td>0</td>\n",
              "      <td>0</td>\n",
              "      <td>1</td>\n",
              "      <td>0</td>\n",
              "      <td>0</td>\n",
              "      <td>0</td>\n",
              "      <td>0</td>\n",
              "      <td>0</td>\n",
              "      <td>0</td>\n",
              "      <td>0</td>\n",
              "      <td>2</td>\n",
              "      <td>7</td>\n",
              "      <td>95.0</td>\n",
              "      <td>88.0</td>\n",
              "      <td>2000</td>\n",
              "      <td>23</td>\n",
              "      <td>5</td>\n",
              "      <td>4</td>\n",
              "      <td>8</td>\n",
              "      <td>14</td>\n",
              "      <td>15</td>\n",
              "      <td>1</td>\n",
              "      <td>1</td>\n",
              "      <td>0</td>\n",
              "      <td>0</td>\n",
              "      <td>0</td>\n",
              "      <td>0</td>\n",
              "      <td>0</td>\n",
              "      <td>0</td>\n",
              "      <td>0</td>\n",
              "      <td>3509502</td>\n",
              "      <td>17</td>\n",
              "    </tr>\n",
              "    <tr>\n",
              "      <th>1</th>\n",
              "      <td>9</td>\n",
              "      <td>45.0</td>\n",
              "      <td>2</td>\n",
              "      <td>3509502</td>\n",
              "      <td>9</td>\n",
              "      <td>15</td>\n",
              "      <td>1</td>\n",
              "      <td>3</td>\n",
              "      <td>222</td>\n",
              "      <td>45</td>\n",
              "      <td>80703</td>\n",
              "      <td>19</td>\n",
              "      <td>3</td>\n",
              "      <td>25</td>\n",
              "      <td>15</td>\n",
              "      <td>0</td>\n",
              "      <td>41</td>\n",
              "      <td>22</td>\n",
              "      <td>8</td>\n",
              "      <td>8</td>\n",
              "      <td>8</td>\n",
              "      <td>8</td>\n",
              "      <td>8</td>\n",
              "      <td>8</td>\n",
              "      <td>0</td>\n",
              "      <td>0</td>\n",
              "      <td>0</td>\n",
              "      <td>0</td>\n",
              "      <td>8</td>\n",
              "      <td>5</td>\n",
              "      <td>5</td>\n",
              "      <td>2</td>\n",
              "      <td>9</td>\n",
              "      <td>0</td>\n",
              "      <td>0</td>\n",
              "      <td>1</td>\n",
              "      <td>1</td>\n",
              "      <td>0</td>\n",
              "      <td>0</td>\n",
              "      <td>0</td>\n",
              "      <td>0</td>\n",
              "      <td>1</td>\n",
              "      <td>0</td>\n",
              "      <td>0</td>\n",
              "      <td>1</td>\n",
              "      <td>0</td>\n",
              "      <td>0</td>\n",
              "      <td>0</td>\n",
              "      <td>0</td>\n",
              "      <td>0</td>\n",
              "      <td>0</td>\n",
              "      <td>0</td>\n",
              "      <td>3</td>\n",
              "      <td>12</td>\n",
              "      <td>15.0</td>\n",
              "      <td>3.0</td>\n",
              "      <td>2000</td>\n",
              "      <td>23</td>\n",
              "      <td>5</td>\n",
              "      <td>4</td>\n",
              "      <td>8</td>\n",
              "      <td>7</td>\n",
              "      <td>15</td>\n",
              "      <td>0</td>\n",
              "      <td>1</td>\n",
              "      <td>0</td>\n",
              "      <td>0</td>\n",
              "      <td>0</td>\n",
              "      <td>0</td>\n",
              "      <td>0</td>\n",
              "      <td>0</td>\n",
              "      <td>0</td>\n",
              "      <td>3509502</td>\n",
              "      <td>6</td>\n",
              "    </tr>\n",
              "    <tr>\n",
              "      <th>2</th>\n",
              "      <td>2</td>\n",
              "      <td>63.0</td>\n",
              "      <td>2</td>\n",
              "      <td>3509502</td>\n",
              "      <td>9</td>\n",
              "      <td>15</td>\n",
              "      <td>1</td>\n",
              "      <td>3</td>\n",
              "      <td>222</td>\n",
              "      <td>45</td>\n",
              "      <td>80703</td>\n",
              "      <td>19</td>\n",
              "      <td>3</td>\n",
              "      <td>25</td>\n",
              "      <td>15</td>\n",
              "      <td>0</td>\n",
              "      <td>41</td>\n",
              "      <td>22</td>\n",
              "      <td>8</td>\n",
              "      <td>8</td>\n",
              "      <td>8</td>\n",
              "      <td>8</td>\n",
              "      <td>8</td>\n",
              "      <td>8</td>\n",
              "      <td>0</td>\n",
              "      <td>0</td>\n",
              "      <td>0</td>\n",
              "      <td>0</td>\n",
              "      <td>8</td>\n",
              "      <td>1</td>\n",
              "      <td>1</td>\n",
              "      <td>2</td>\n",
              "      <td>9</td>\n",
              "      <td>0</td>\n",
              "      <td>0</td>\n",
              "      <td>1</td>\n",
              "      <td>0</td>\n",
              "      <td>0</td>\n",
              "      <td>0</td>\n",
              "      <td>0</td>\n",
              "      <td>0</td>\n",
              "      <td>1</td>\n",
              "      <td>0</td>\n",
              "      <td>0</td>\n",
              "      <td>1</td>\n",
              "      <td>0</td>\n",
              "      <td>0</td>\n",
              "      <td>0</td>\n",
              "      <td>0</td>\n",
              "      <td>0</td>\n",
              "      <td>0</td>\n",
              "      <td>0</td>\n",
              "      <td>3</td>\n",
              "      <td>6</td>\n",
              "      <td>15.0</td>\n",
              "      <td>9.0</td>\n",
              "      <td>2000</td>\n",
              "      <td>23</td>\n",
              "      <td>5</td>\n",
              "      <td>6</td>\n",
              "      <td>8</td>\n",
              "      <td>7</td>\n",
              "      <td>15</td>\n",
              "      <td>0</td>\n",
              "      <td>1</td>\n",
              "      <td>0</td>\n",
              "      <td>0</td>\n",
              "      <td>0</td>\n",
              "      <td>0</td>\n",
              "      <td>0</td>\n",
              "      <td>0</td>\n",
              "      <td>0</td>\n",
              "      <td>3509502</td>\n",
              "      <td>6</td>\n",
              "    </tr>\n",
              "    <tr>\n",
              "      <th>3</th>\n",
              "      <td>9</td>\n",
              "      <td>64.0</td>\n",
              "      <td>2</td>\n",
              "      <td>3545803</td>\n",
              "      <td>9</td>\n",
              "      <td>15</td>\n",
              "      <td>1</td>\n",
              "      <td>3</td>\n",
              "      <td>222</td>\n",
              "      <td>45</td>\n",
              "      <td>80703</td>\n",
              "      <td>19</td>\n",
              "      <td>3</td>\n",
              "      <td>25</td>\n",
              "      <td>15</td>\n",
              "      <td>0</td>\n",
              "      <td>41</td>\n",
              "      <td>22</td>\n",
              "      <td>8</td>\n",
              "      <td>8</td>\n",
              "      <td>8</td>\n",
              "      <td>8</td>\n",
              "      <td>8</td>\n",
              "      <td>8</td>\n",
              "      <td>0</td>\n",
              "      <td>0</td>\n",
              "      <td>0</td>\n",
              "      <td>0</td>\n",
              "      <td>8</td>\n",
              "      <td>1</td>\n",
              "      <td>1</td>\n",
              "      <td>2</td>\n",
              "      <td>9</td>\n",
              "      <td>0</td>\n",
              "      <td>0</td>\n",
              "      <td>1</td>\n",
              "      <td>0</td>\n",
              "      <td>0</td>\n",
              "      <td>0</td>\n",
              "      <td>0</td>\n",
              "      <td>0</td>\n",
              "      <td>1</td>\n",
              "      <td>0</td>\n",
              "      <td>0</td>\n",
              "      <td>1</td>\n",
              "      <td>0</td>\n",
              "      <td>0</td>\n",
              "      <td>0</td>\n",
              "      <td>0</td>\n",
              "      <td>0</td>\n",
              "      <td>0</td>\n",
              "      <td>0</td>\n",
              "      <td>3</td>\n",
              "      <td>6</td>\n",
              "      <td>33.0</td>\n",
              "      <td>27.0</td>\n",
              "      <td>2000</td>\n",
              "      <td>23</td>\n",
              "      <td>5</td>\n",
              "      <td>6</td>\n",
              "      <td>8</td>\n",
              "      <td>7</td>\n",
              "      <td>15</td>\n",
              "      <td>0</td>\n",
              "      <td>1</td>\n",
              "      <td>0</td>\n",
              "      <td>0</td>\n",
              "      <td>0</td>\n",
              "      <td>0</td>\n",
              "      <td>0</td>\n",
              "      <td>0</td>\n",
              "      <td>0</td>\n",
              "      <td>3509502</td>\n",
              "      <td>6</td>\n",
              "    </tr>\n",
              "    <tr>\n",
              "      <th>4</th>\n",
              "      <td>1</td>\n",
              "      <td>48.0</td>\n",
              "      <td>2</td>\n",
              "      <td>3530805</td>\n",
              "      <td>9</td>\n",
              "      <td>15</td>\n",
              "      <td>2</td>\n",
              "      <td>3</td>\n",
              "      <td>222</td>\n",
              "      <td>45</td>\n",
              "      <td>80703</td>\n",
              "      <td>19</td>\n",
              "      <td>3</td>\n",
              "      <td>25</td>\n",
              "      <td>15</td>\n",
              "      <td>0</td>\n",
              "      <td>41</td>\n",
              "      <td>22</td>\n",
              "      <td>8</td>\n",
              "      <td>8</td>\n",
              "      <td>8</td>\n",
              "      <td>8</td>\n",
              "      <td>8</td>\n",
              "      <td>8</td>\n",
              "      <td>0</td>\n",
              "      <td>0</td>\n",
              "      <td>0</td>\n",
              "      <td>0</td>\n",
              "      <td>8</td>\n",
              "      <td>1</td>\n",
              "      <td>1</td>\n",
              "      <td>2</td>\n",
              "      <td>9</td>\n",
              "      <td>0</td>\n",
              "      <td>0</td>\n",
              "      <td>1</td>\n",
              "      <td>0</td>\n",
              "      <td>0</td>\n",
              "      <td>0</td>\n",
              "      <td>0</td>\n",
              "      <td>0</td>\n",
              "      <td>1</td>\n",
              "      <td>0</td>\n",
              "      <td>0</td>\n",
              "      <td>1</td>\n",
              "      <td>0</td>\n",
              "      <td>0</td>\n",
              "      <td>0</td>\n",
              "      <td>0</td>\n",
              "      <td>0</td>\n",
              "      <td>0</td>\n",
              "      <td>0</td>\n",
              "      <td>2</td>\n",
              "      <td>0</td>\n",
              "      <td>132.0</td>\n",
              "      <td>132.0</td>\n",
              "      <td>2000</td>\n",
              "      <td>23</td>\n",
              "      <td>5</td>\n",
              "      <td>4</td>\n",
              "      <td>8</td>\n",
              "      <td>14</td>\n",
              "      <td>15</td>\n",
              "      <td>1</td>\n",
              "      <td>1</td>\n",
              "      <td>0</td>\n",
              "      <td>0</td>\n",
              "      <td>0</td>\n",
              "      <td>0</td>\n",
              "      <td>0</td>\n",
              "      <td>0</td>\n",
              "      <td>0</td>\n",
              "      <td>3509502</td>\n",
              "      <td>17</td>\n",
              "    </tr>\n",
              "  </tbody>\n",
              "</table>\n",
              "</div>"
            ],
            "text/plain": [
              "   ESCOLARI  IDADE  SEXO     IBGE  ...  REC03  REC04  IBGEATEN  GRUPO\n",
              "0         4   40.0     2  3530805  ...      0      0   3509502     17\n",
              "1         9   45.0     2  3509502  ...      0      0   3509502      6\n",
              "2         2   63.0     2  3509502  ...      0      0   3509502      6\n",
              "3         9   64.0     2  3545803  ...      0      0   3509502      6\n",
              "4         1   48.0     2  3530805  ...      0      0   3509502     17\n",
              "\n",
              "[5 rows x 74 columns]"
            ]
          },
          "metadata": {
            "tags": []
          },
          "execution_count": 3
        }
      ]
    },
    {
      "cell_type": "code",
      "metadata": {
        "id": "ffQo3rGIZ2FX"
      },
      "source": [
        "with open('/content/drive/MyDrive/Trabalho/Cancer/Modelos/encoders_pp.pkl', 'rb') as handle:\n",
        "  encoders = pickle.load(handle)"
      ],
      "execution_count": null,
      "outputs": []
    },
    {
      "cell_type": "code",
      "metadata": {
        "colab": {
          "base_uri": "https://localhost:8080/"
        },
        "id": "IUVhT2Zyd3DU",
        "outputId": "24c13576-db08-48b7-a62a-1bff883f30da"
      },
      "source": [
        "df_aux = df.copy()\n",
        "for col, le in encoders.items():\n",
        "  df_aux[col] = le.inverse_transform(df_aux[col])\n",
        "\n",
        "df_aux.head()"
      ],
      "execution_count": null,
      "outputs": [
        {
          "output_type": "execute_result",
          "data": {
            "text/html": [
              "<div>\n",
              "<style scoped>\n",
              "    .dataframe tbody tr th:only-of-type {\n",
              "        vertical-align: middle;\n",
              "    }\n",
              "\n",
              "    .dataframe tbody tr th {\n",
              "        vertical-align: top;\n",
              "    }\n",
              "\n",
              "    .dataframe thead th {\n",
              "        text-align: right;\n",
              "    }\n",
              "</style>\n",
              "<table border=\"1\" class=\"dataframe\">\n",
              "  <thead>\n",
              "    <tr style=\"text-align: right;\">\n",
              "      <th></th>\n",
              "      <th>ESCOLARI</th>\n",
              "      <th>IDADE</th>\n",
              "      <th>SEXO</th>\n",
              "      <th>IBGE</th>\n",
              "      <th>CATEATEND</th>\n",
              "      <th>CLINICA</th>\n",
              "      <th>DIAGPREV</th>\n",
              "      <th>BASEDIAG</th>\n",
              "      <th>TOPO</th>\n",
              "      <th>TOPOGRUP</th>\n",
              "      <th>MORFO</th>\n",
              "      <th>EC</th>\n",
              "      <th>ECGRUP</th>\n",
              "      <th>T</th>\n",
              "      <th>N</th>\n",
              "      <th>M</th>\n",
              "      <th>PT</th>\n",
              "      <th>PN</th>\n",
              "      <th>PM</th>\n",
              "      <th>G</th>\n",
              "      <th>LOCALTNM</th>\n",
              "      <th>IDMITOTIC</th>\n",
              "      <th>PSA</th>\n",
              "      <th>GLEASON</th>\n",
              "      <th>META01</th>\n",
              "      <th>META02</th>\n",
              "      <th>META03</th>\n",
              "      <th>META04</th>\n",
              "      <th>NAOTRAT</th>\n",
              "      <th>TRATAMENTO</th>\n",
              "      <th>TRATHOSP</th>\n",
              "      <th>TRATFANTES</th>\n",
              "      <th>TRATFAPOS</th>\n",
              "      <th>NENHUM</th>\n",
              "      <th>CIRURGIA</th>\n",
              "      <th>RADIO</th>\n",
              "      <th>QUIMIO</th>\n",
              "      <th>HORMONIO</th>\n",
              "      <th>TMO</th>\n",
              "      <th>IMUNO</th>\n",
              "      <th>OUTROS</th>\n",
              "      <th>NENHUMANT</th>\n",
              "      <th>CIRURANT</th>\n",
              "      <th>RADIOANT</th>\n",
              "      <th>NENHUMAPOS</th>\n",
              "      <th>CIRURAPOS</th>\n",
              "      <th>RADIOAPOS</th>\n",
              "      <th>QUIMIOAPOS</th>\n",
              "      <th>HORMOAPOS</th>\n",
              "      <th>TMOAPOS</th>\n",
              "      <th>IMUNOAPOS</th>\n",
              "      <th>OUTROAPOS</th>\n",
              "      <th>ULTINFO</th>\n",
              "      <th>CONSDIAG</th>\n",
              "      <th>TRATCONS</th>\n",
              "      <th>DIAGTRAT</th>\n",
              "      <th>ANODIAG</th>\n",
              "      <th>CICI</th>\n",
              "      <th>CICIGRUP</th>\n",
              "      <th>FAIXAETAR</th>\n",
              "      <th>LATERALI</th>\n",
              "      <th>DRS</th>\n",
              "      <th>RRAS</th>\n",
              "      <th>PERDASEG</th>\n",
              "      <th>RECNENHUM</th>\n",
              "      <th>RECLOCAL</th>\n",
              "      <th>RECREGIO</th>\n",
              "      <th>RECDIST</th>\n",
              "      <th>REC01</th>\n",
              "      <th>REC02</th>\n",
              "      <th>REC03</th>\n",
              "      <th>REC04</th>\n",
              "      <th>IBGEATEN</th>\n",
              "      <th>GRUPO</th>\n",
              "    </tr>\n",
              "  </thead>\n",
              "  <tbody>\n",
              "    <tr>\n",
              "      <th>0</th>\n",
              "      <td>4</td>\n",
              "      <td>40.0</td>\n",
              "      <td>2</td>\n",
              "      <td>3530805</td>\n",
              "      <td>9</td>\n",
              "      <td>15</td>\n",
              "      <td>1</td>\n",
              "      <td>3</td>\n",
              "      <td>C539</td>\n",
              "      <td>C53</td>\n",
              "      <td>81402</td>\n",
              "      <td>0</td>\n",
              "      <td>0</td>\n",
              "      <td>X</td>\n",
              "      <td>X</td>\n",
              "      <td>0</td>\n",
              "      <td>IS</td>\n",
              "      <td>0</td>\n",
              "      <td>0</td>\n",
              "      <td>8</td>\n",
              "      <td>8</td>\n",
              "      <td>8</td>\n",
              "      <td>8</td>\n",
              "      <td>8</td>\n",
              "      <td>0</td>\n",
              "      <td>0</td>\n",
              "      <td>0</td>\n",
              "      <td>0</td>\n",
              "      <td>8</td>\n",
              "      <td>A</td>\n",
              "      <td>A</td>\n",
              "      <td>J</td>\n",
              "      <td>J</td>\n",
              "      <td>0</td>\n",
              "      <td>1</td>\n",
              "      <td>0</td>\n",
              "      <td>0</td>\n",
              "      <td>0</td>\n",
              "      <td>0</td>\n",
              "      <td>0</td>\n",
              "      <td>0</td>\n",
              "      <td>1</td>\n",
              "      <td>0</td>\n",
              "      <td>0</td>\n",
              "      <td>1</td>\n",
              "      <td>0</td>\n",
              "      <td>0</td>\n",
              "      <td>0</td>\n",
              "      <td>0</td>\n",
              "      <td>0</td>\n",
              "      <td>0</td>\n",
              "      <td>0</td>\n",
              "      <td>2</td>\n",
              "      <td>7</td>\n",
              "      <td>95.0</td>\n",
              "      <td>88.0</td>\n",
              "      <td>2000</td>\n",
              "      <td>Sem informação</td>\n",
              "      <td>Sem informação</td>\n",
              "      <td>40-49</td>\n",
              "      <td>8</td>\n",
              "      <td>14</td>\n",
              "      <td>15</td>\n",
              "      <td>1</td>\n",
              "      <td>1</td>\n",
              "      <td>0</td>\n",
              "      <td>0</td>\n",
              "      <td>0</td>\n",
              "      <td>0</td>\n",
              "      <td>0</td>\n",
              "      <td>0</td>\n",
              "      <td>0</td>\n",
              "      <td>3509502</td>\n",
              "      <td>17</td>\n",
              "    </tr>\n",
              "    <tr>\n",
              "      <th>1</th>\n",
              "      <td>9</td>\n",
              "      <td>45.0</td>\n",
              "      <td>2</td>\n",
              "      <td>3509502</td>\n",
              "      <td>9</td>\n",
              "      <td>15</td>\n",
              "      <td>1</td>\n",
              "      <td>3</td>\n",
              "      <td>C539</td>\n",
              "      <td>C53</td>\n",
              "      <td>80703</td>\n",
              "      <td>IIIB</td>\n",
              "      <td>III</td>\n",
              "      <td>X</td>\n",
              "      <td>X</td>\n",
              "      <td>0</td>\n",
              "      <td>X</td>\n",
              "      <td>X</td>\n",
              "      <td>X</td>\n",
              "      <td>8</td>\n",
              "      <td>8</td>\n",
              "      <td>8</td>\n",
              "      <td>8</td>\n",
              "      <td>8</td>\n",
              "      <td>0</td>\n",
              "      <td>0</td>\n",
              "      <td>0</td>\n",
              "      <td>0</td>\n",
              "      <td>8</td>\n",
              "      <td>F</td>\n",
              "      <td>F</td>\n",
              "      <td>J</td>\n",
              "      <td>J</td>\n",
              "      <td>0</td>\n",
              "      <td>0</td>\n",
              "      <td>1</td>\n",
              "      <td>1</td>\n",
              "      <td>0</td>\n",
              "      <td>0</td>\n",
              "      <td>0</td>\n",
              "      <td>0</td>\n",
              "      <td>1</td>\n",
              "      <td>0</td>\n",
              "      <td>0</td>\n",
              "      <td>1</td>\n",
              "      <td>0</td>\n",
              "      <td>0</td>\n",
              "      <td>0</td>\n",
              "      <td>0</td>\n",
              "      <td>0</td>\n",
              "      <td>0</td>\n",
              "      <td>0</td>\n",
              "      <td>3</td>\n",
              "      <td>12</td>\n",
              "      <td>15.0</td>\n",
              "      <td>3.0</td>\n",
              "      <td>2000</td>\n",
              "      <td>Sem informação</td>\n",
              "      <td>Sem informação</td>\n",
              "      <td>40-49</td>\n",
              "      <td>8</td>\n",
              "      <td>7</td>\n",
              "      <td>15</td>\n",
              "      <td>0</td>\n",
              "      <td>1</td>\n",
              "      <td>0</td>\n",
              "      <td>0</td>\n",
              "      <td>0</td>\n",
              "      <td>0</td>\n",
              "      <td>0</td>\n",
              "      <td>0</td>\n",
              "      <td>0</td>\n",
              "      <td>3509502</td>\n",
              "      <td>6</td>\n",
              "    </tr>\n",
              "    <tr>\n",
              "      <th>2</th>\n",
              "      <td>2</td>\n",
              "      <td>63.0</td>\n",
              "      <td>2</td>\n",
              "      <td>3509502</td>\n",
              "      <td>9</td>\n",
              "      <td>15</td>\n",
              "      <td>1</td>\n",
              "      <td>3</td>\n",
              "      <td>C539</td>\n",
              "      <td>C53</td>\n",
              "      <td>80703</td>\n",
              "      <td>IIIB</td>\n",
              "      <td>III</td>\n",
              "      <td>X</td>\n",
              "      <td>X</td>\n",
              "      <td>0</td>\n",
              "      <td>X</td>\n",
              "      <td>X</td>\n",
              "      <td>X</td>\n",
              "      <td>8</td>\n",
              "      <td>8</td>\n",
              "      <td>8</td>\n",
              "      <td>8</td>\n",
              "      <td>8</td>\n",
              "      <td>0</td>\n",
              "      <td>0</td>\n",
              "      <td>0</td>\n",
              "      <td>0</td>\n",
              "      <td>8</td>\n",
              "      <td>B</td>\n",
              "      <td>B</td>\n",
              "      <td>J</td>\n",
              "      <td>J</td>\n",
              "      <td>0</td>\n",
              "      <td>0</td>\n",
              "      <td>1</td>\n",
              "      <td>0</td>\n",
              "      <td>0</td>\n",
              "      <td>0</td>\n",
              "      <td>0</td>\n",
              "      <td>0</td>\n",
              "      <td>1</td>\n",
              "      <td>0</td>\n",
              "      <td>0</td>\n",
              "      <td>1</td>\n",
              "      <td>0</td>\n",
              "      <td>0</td>\n",
              "      <td>0</td>\n",
              "      <td>0</td>\n",
              "      <td>0</td>\n",
              "      <td>0</td>\n",
              "      <td>0</td>\n",
              "      <td>3</td>\n",
              "      <td>6</td>\n",
              "      <td>15.0</td>\n",
              "      <td>9.0</td>\n",
              "      <td>2000</td>\n",
              "      <td>Sem informação</td>\n",
              "      <td>Sem informação</td>\n",
              "      <td>60-69</td>\n",
              "      <td>8</td>\n",
              "      <td>7</td>\n",
              "      <td>15</td>\n",
              "      <td>0</td>\n",
              "      <td>1</td>\n",
              "      <td>0</td>\n",
              "      <td>0</td>\n",
              "      <td>0</td>\n",
              "      <td>0</td>\n",
              "      <td>0</td>\n",
              "      <td>0</td>\n",
              "      <td>0</td>\n",
              "      <td>3509502</td>\n",
              "      <td>6</td>\n",
              "    </tr>\n",
              "    <tr>\n",
              "      <th>3</th>\n",
              "      <td>9</td>\n",
              "      <td>64.0</td>\n",
              "      <td>2</td>\n",
              "      <td>3545803</td>\n",
              "      <td>9</td>\n",
              "      <td>15</td>\n",
              "      <td>1</td>\n",
              "      <td>3</td>\n",
              "      <td>C539</td>\n",
              "      <td>C53</td>\n",
              "      <td>80703</td>\n",
              "      <td>IIIB</td>\n",
              "      <td>III</td>\n",
              "      <td>X</td>\n",
              "      <td>X</td>\n",
              "      <td>0</td>\n",
              "      <td>X</td>\n",
              "      <td>X</td>\n",
              "      <td>X</td>\n",
              "      <td>8</td>\n",
              "      <td>8</td>\n",
              "      <td>8</td>\n",
              "      <td>8</td>\n",
              "      <td>8</td>\n",
              "      <td>0</td>\n",
              "      <td>0</td>\n",
              "      <td>0</td>\n",
              "      <td>0</td>\n",
              "      <td>8</td>\n",
              "      <td>B</td>\n",
              "      <td>B</td>\n",
              "      <td>J</td>\n",
              "      <td>J</td>\n",
              "      <td>0</td>\n",
              "      <td>0</td>\n",
              "      <td>1</td>\n",
              "      <td>0</td>\n",
              "      <td>0</td>\n",
              "      <td>0</td>\n",
              "      <td>0</td>\n",
              "      <td>0</td>\n",
              "      <td>1</td>\n",
              "      <td>0</td>\n",
              "      <td>0</td>\n",
              "      <td>1</td>\n",
              "      <td>0</td>\n",
              "      <td>0</td>\n",
              "      <td>0</td>\n",
              "      <td>0</td>\n",
              "      <td>0</td>\n",
              "      <td>0</td>\n",
              "      <td>0</td>\n",
              "      <td>3</td>\n",
              "      <td>6</td>\n",
              "      <td>33.0</td>\n",
              "      <td>27.0</td>\n",
              "      <td>2000</td>\n",
              "      <td>Sem informação</td>\n",
              "      <td>Sem informação</td>\n",
              "      <td>60-69</td>\n",
              "      <td>8</td>\n",
              "      <td>7</td>\n",
              "      <td>15</td>\n",
              "      <td>0</td>\n",
              "      <td>1</td>\n",
              "      <td>0</td>\n",
              "      <td>0</td>\n",
              "      <td>0</td>\n",
              "      <td>0</td>\n",
              "      <td>0</td>\n",
              "      <td>0</td>\n",
              "      <td>0</td>\n",
              "      <td>3509502</td>\n",
              "      <td>6</td>\n",
              "    </tr>\n",
              "    <tr>\n",
              "      <th>4</th>\n",
              "      <td>1</td>\n",
              "      <td>48.0</td>\n",
              "      <td>2</td>\n",
              "      <td>3530805</td>\n",
              "      <td>9</td>\n",
              "      <td>15</td>\n",
              "      <td>2</td>\n",
              "      <td>3</td>\n",
              "      <td>C539</td>\n",
              "      <td>C53</td>\n",
              "      <td>80703</td>\n",
              "      <td>IIIB</td>\n",
              "      <td>III</td>\n",
              "      <td>X</td>\n",
              "      <td>X</td>\n",
              "      <td>0</td>\n",
              "      <td>X</td>\n",
              "      <td>X</td>\n",
              "      <td>X</td>\n",
              "      <td>8</td>\n",
              "      <td>8</td>\n",
              "      <td>8</td>\n",
              "      <td>8</td>\n",
              "      <td>8</td>\n",
              "      <td>0</td>\n",
              "      <td>0</td>\n",
              "      <td>0</td>\n",
              "      <td>0</td>\n",
              "      <td>8</td>\n",
              "      <td>B</td>\n",
              "      <td>B</td>\n",
              "      <td>J</td>\n",
              "      <td>J</td>\n",
              "      <td>0</td>\n",
              "      <td>0</td>\n",
              "      <td>1</td>\n",
              "      <td>0</td>\n",
              "      <td>0</td>\n",
              "      <td>0</td>\n",
              "      <td>0</td>\n",
              "      <td>0</td>\n",
              "      <td>1</td>\n",
              "      <td>0</td>\n",
              "      <td>0</td>\n",
              "      <td>1</td>\n",
              "      <td>0</td>\n",
              "      <td>0</td>\n",
              "      <td>0</td>\n",
              "      <td>0</td>\n",
              "      <td>0</td>\n",
              "      <td>0</td>\n",
              "      <td>0</td>\n",
              "      <td>2</td>\n",
              "      <td>0</td>\n",
              "      <td>132.0</td>\n",
              "      <td>132.0</td>\n",
              "      <td>2000</td>\n",
              "      <td>Sem informação</td>\n",
              "      <td>Sem informação</td>\n",
              "      <td>40-49</td>\n",
              "      <td>8</td>\n",
              "      <td>14</td>\n",
              "      <td>15</td>\n",
              "      <td>1</td>\n",
              "      <td>1</td>\n",
              "      <td>0</td>\n",
              "      <td>0</td>\n",
              "      <td>0</td>\n",
              "      <td>0</td>\n",
              "      <td>0</td>\n",
              "      <td>0</td>\n",
              "      <td>0</td>\n",
              "      <td>3509502</td>\n",
              "      <td>17</td>\n",
              "    </tr>\n",
              "  </tbody>\n",
              "</table>\n",
              "</div>"
            ],
            "text/plain": [
              "   ESCOLARI  IDADE  SEXO     IBGE  CATEATEND  ...  REC02  REC03  REC04 IBGEATEN GRUPO\n",
              "0         4   40.0     2  3530805          9  ...      0      0      0  3509502    17\n",
              "1         9   45.0     2  3509502          9  ...      0      0      0  3509502     6\n",
              "2         2   63.0     2  3509502          9  ...      0      0      0  3509502     6\n",
              "3         9   64.0     2  3545803          9  ...      0      0      0  3509502     6\n",
              "4         1   48.0     2  3530805          9  ...      0      0      0  3509502    17\n",
              "\n",
              "[5 rows x 74 columns]"
            ]
          },
          "metadata": {
            "tags": []
          },
          "execution_count": 5
        }
      ]
    },
    {
      "cell_type": "code",
      "metadata": {
        "id": "dAw-H__A_xf7"
      },
      "source": [
        "k = df_aux.GRUPO.nunique()\n",
        "dict_grup = {} # Dicionário com os grupos separados\n",
        "for i in range(0, k):\n",
        "  dict_grup[i] = df_aux[df_aux.GRUPO == i]"
      ],
      "execution_count": null,
      "outputs": []
    },
    {
      "cell_type": "code",
      "metadata": {
        "colab": {
          "base_uri": "https://localhost:8080/"
        },
        "id": "q2cObyLpAxFd",
        "outputId": "78ec62ba-6fac-46ac-c43b-d6196aea0473"
      },
      "source": [
        "n = 0 # Grupo para análise\n",
        "df_grupo = dict_grup[n]\n",
        "df_grupo.head()"
      ],
      "execution_count": null,
      "outputs": [
        {
          "output_type": "execute_result",
          "data": {
            "text/html": [
              "<div>\n",
              "<style scoped>\n",
              "    .dataframe tbody tr th:only-of-type {\n",
              "        vertical-align: middle;\n",
              "    }\n",
              "\n",
              "    .dataframe tbody tr th {\n",
              "        vertical-align: top;\n",
              "    }\n",
              "\n",
              "    .dataframe thead th {\n",
              "        text-align: right;\n",
              "    }\n",
              "</style>\n",
              "<table border=\"1\" class=\"dataframe\">\n",
              "  <thead>\n",
              "    <tr style=\"text-align: right;\">\n",
              "      <th></th>\n",
              "      <th>ESCOLARI</th>\n",
              "      <th>IDADE</th>\n",
              "      <th>SEXO</th>\n",
              "      <th>IBGE</th>\n",
              "      <th>CATEATEND</th>\n",
              "      <th>CLINICA</th>\n",
              "      <th>DIAGPREV</th>\n",
              "      <th>BASEDIAG</th>\n",
              "      <th>TOPO</th>\n",
              "      <th>TOPOGRUP</th>\n",
              "      <th>MORFO</th>\n",
              "      <th>EC</th>\n",
              "      <th>ECGRUP</th>\n",
              "      <th>T</th>\n",
              "      <th>N</th>\n",
              "      <th>M</th>\n",
              "      <th>PT</th>\n",
              "      <th>PN</th>\n",
              "      <th>PM</th>\n",
              "      <th>G</th>\n",
              "      <th>LOCALTNM</th>\n",
              "      <th>IDMITOTIC</th>\n",
              "      <th>PSA</th>\n",
              "      <th>GLEASON</th>\n",
              "      <th>META01</th>\n",
              "      <th>META02</th>\n",
              "      <th>META03</th>\n",
              "      <th>META04</th>\n",
              "      <th>NAOTRAT</th>\n",
              "      <th>TRATAMENTO</th>\n",
              "      <th>TRATHOSP</th>\n",
              "      <th>TRATFANTES</th>\n",
              "      <th>TRATFAPOS</th>\n",
              "      <th>NENHUM</th>\n",
              "      <th>CIRURGIA</th>\n",
              "      <th>RADIO</th>\n",
              "      <th>QUIMIO</th>\n",
              "      <th>HORMONIO</th>\n",
              "      <th>TMO</th>\n",
              "      <th>IMUNO</th>\n",
              "      <th>OUTROS</th>\n",
              "      <th>NENHUMANT</th>\n",
              "      <th>CIRURANT</th>\n",
              "      <th>RADIOANT</th>\n",
              "      <th>NENHUMAPOS</th>\n",
              "      <th>CIRURAPOS</th>\n",
              "      <th>RADIOAPOS</th>\n",
              "      <th>QUIMIOAPOS</th>\n",
              "      <th>HORMOAPOS</th>\n",
              "      <th>TMOAPOS</th>\n",
              "      <th>IMUNOAPOS</th>\n",
              "      <th>OUTROAPOS</th>\n",
              "      <th>ULTINFO</th>\n",
              "      <th>CONSDIAG</th>\n",
              "      <th>TRATCONS</th>\n",
              "      <th>DIAGTRAT</th>\n",
              "      <th>ANODIAG</th>\n",
              "      <th>CICI</th>\n",
              "      <th>CICIGRUP</th>\n",
              "      <th>FAIXAETAR</th>\n",
              "      <th>LATERALI</th>\n",
              "      <th>DRS</th>\n",
              "      <th>RRAS</th>\n",
              "      <th>PERDASEG</th>\n",
              "      <th>RECNENHUM</th>\n",
              "      <th>RECLOCAL</th>\n",
              "      <th>RECREGIO</th>\n",
              "      <th>RECDIST</th>\n",
              "      <th>REC01</th>\n",
              "      <th>REC02</th>\n",
              "      <th>REC03</th>\n",
              "      <th>REC04</th>\n",
              "      <th>IBGEATEN</th>\n",
              "      <th>GRUPO</th>\n",
              "    </tr>\n",
              "  </thead>\n",
              "  <tbody>\n",
              "    <tr>\n",
              "      <th>7</th>\n",
              "      <td>9</td>\n",
              "      <td>80.0</td>\n",
              "      <td>2</td>\n",
              "      <td>3509502</td>\n",
              "      <td>2</td>\n",
              "      <td>33</td>\n",
              "      <td>1</td>\n",
              "      <td>3</td>\n",
              "      <td>C504</td>\n",
              "      <td>C50</td>\n",
              "      <td>84803</td>\n",
              "      <td>IIA</td>\n",
              "      <td>II</td>\n",
              "      <td>2</td>\n",
              "      <td>0</td>\n",
              "      <td>0</td>\n",
              "      <td>2</td>\n",
              "      <td>0</td>\n",
              "      <td>0</td>\n",
              "      <td>8</td>\n",
              "      <td>8</td>\n",
              "      <td>8</td>\n",
              "      <td>8</td>\n",
              "      <td>8</td>\n",
              "      <td>0</td>\n",
              "      <td>0</td>\n",
              "      <td>0</td>\n",
              "      <td>0</td>\n",
              "      <td>8</td>\n",
              "      <td>D</td>\n",
              "      <td>D</td>\n",
              "      <td>J</td>\n",
              "      <td>J</td>\n",
              "      <td>0</td>\n",
              "      <td>1</td>\n",
              "      <td>1</td>\n",
              "      <td>0</td>\n",
              "      <td>0</td>\n",
              "      <td>0</td>\n",
              "      <td>0</td>\n",
              "      <td>0</td>\n",
              "      <td>1</td>\n",
              "      <td>0</td>\n",
              "      <td>0</td>\n",
              "      <td>1</td>\n",
              "      <td>0</td>\n",
              "      <td>0</td>\n",
              "      <td>0</td>\n",
              "      <td>0</td>\n",
              "      <td>0</td>\n",
              "      <td>0</td>\n",
              "      <td>0</td>\n",
              "      <td>2</td>\n",
              "      <td>8</td>\n",
              "      <td>98.0</td>\n",
              "      <td>90.0</td>\n",
              "      <td>2014</td>\n",
              "      <td>Sem informação</td>\n",
              "      <td>Sem informação</td>\n",
              "      <td>70+</td>\n",
              "      <td>1</td>\n",
              "      <td>7</td>\n",
              "      <td>15</td>\n",
              "      <td>1</td>\n",
              "      <td>1</td>\n",
              "      <td>0</td>\n",
              "      <td>0</td>\n",
              "      <td>0</td>\n",
              "      <td>0</td>\n",
              "      <td>0</td>\n",
              "      <td>0</td>\n",
              "      <td>0</td>\n",
              "      <td>3509502</td>\n",
              "      <td>0</td>\n",
              "    </tr>\n",
              "    <tr>\n",
              "      <th>39</th>\n",
              "      <td>2</td>\n",
              "      <td>58.0</td>\n",
              "      <td>2</td>\n",
              "      <td>3546702</td>\n",
              "      <td>9</td>\n",
              "      <td>33</td>\n",
              "      <td>1</td>\n",
              "      <td>3</td>\n",
              "      <td>C509</td>\n",
              "      <td>C50</td>\n",
              "      <td>85003</td>\n",
              "      <td>IIIA</td>\n",
              "      <td>III</td>\n",
              "      <td>3</td>\n",
              "      <td>1</td>\n",
              "      <td>0</td>\n",
              "      <td>2</td>\n",
              "      <td>1</td>\n",
              "      <td>0</td>\n",
              "      <td>8</td>\n",
              "      <td>8</td>\n",
              "      <td>8</td>\n",
              "      <td>8</td>\n",
              "      <td>8</td>\n",
              "      <td>0</td>\n",
              "      <td>0</td>\n",
              "      <td>0</td>\n",
              "      <td>0</td>\n",
              "      <td>8</td>\n",
              "      <td>E</td>\n",
              "      <td>E</td>\n",
              "      <td>J</td>\n",
              "      <td>J</td>\n",
              "      <td>0</td>\n",
              "      <td>1</td>\n",
              "      <td>0</td>\n",
              "      <td>1</td>\n",
              "      <td>0</td>\n",
              "      <td>0</td>\n",
              "      <td>0</td>\n",
              "      <td>0</td>\n",
              "      <td>1</td>\n",
              "      <td>0</td>\n",
              "      <td>0</td>\n",
              "      <td>1</td>\n",
              "      <td>0</td>\n",
              "      <td>0</td>\n",
              "      <td>0</td>\n",
              "      <td>0</td>\n",
              "      <td>0</td>\n",
              "      <td>0</td>\n",
              "      <td>0</td>\n",
              "      <td>3</td>\n",
              "      <td>6</td>\n",
              "      <td>40.0</td>\n",
              "      <td>34.0</td>\n",
              "      <td>2000</td>\n",
              "      <td>Sem informação</td>\n",
              "      <td>Sem informação</td>\n",
              "      <td>50-59</td>\n",
              "      <td>8</td>\n",
              "      <td>10</td>\n",
              "      <td>14</td>\n",
              "      <td>0</td>\n",
              "      <td>1</td>\n",
              "      <td>0</td>\n",
              "      <td>0</td>\n",
              "      <td>0</td>\n",
              "      <td>C34</td>\n",
              "      <td>0</td>\n",
              "      <td>0</td>\n",
              "      <td>0</td>\n",
              "      <td>3509502</td>\n",
              "      <td>0</td>\n",
              "    </tr>\n",
              "    <tr>\n",
              "      <th>43</th>\n",
              "      <td>4</td>\n",
              "      <td>66.0</td>\n",
              "      <td>2</td>\n",
              "      <td>3543907</td>\n",
              "      <td>9</td>\n",
              "      <td>15</td>\n",
              "      <td>2</td>\n",
              "      <td>3</td>\n",
              "      <td>C519</td>\n",
              "      <td>C51</td>\n",
              "      <td>80703</td>\n",
              "      <td>IVA</td>\n",
              "      <td>IV</td>\n",
              "      <td>X</td>\n",
              "      <td>X</td>\n",
              "      <td>0</td>\n",
              "      <td>2</td>\n",
              "      <td>0</td>\n",
              "      <td>0</td>\n",
              "      <td>8</td>\n",
              "      <td>8</td>\n",
              "      <td>8</td>\n",
              "      <td>8</td>\n",
              "      <td>8</td>\n",
              "      <td>0</td>\n",
              "      <td>0</td>\n",
              "      <td>0</td>\n",
              "      <td>0</td>\n",
              "      <td>8</td>\n",
              "      <td>A</td>\n",
              "      <td>A</td>\n",
              "      <td>J</td>\n",
              "      <td>J</td>\n",
              "      <td>0</td>\n",
              "      <td>1</td>\n",
              "      <td>0</td>\n",
              "      <td>0</td>\n",
              "      <td>0</td>\n",
              "      <td>0</td>\n",
              "      <td>0</td>\n",
              "      <td>0</td>\n",
              "      <td>1</td>\n",
              "      <td>0</td>\n",
              "      <td>0</td>\n",
              "      <td>1</td>\n",
              "      <td>0</td>\n",
              "      <td>0</td>\n",
              "      <td>0</td>\n",
              "      <td>0</td>\n",
              "      <td>0</td>\n",
              "      <td>0</td>\n",
              "      <td>0</td>\n",
              "      <td>4</td>\n",
              "      <td>0</td>\n",
              "      <td>25.0</td>\n",
              "      <td>25.0</td>\n",
              "      <td>2000</td>\n",
              "      <td>Sem informação</td>\n",
              "      <td>Sem informação</td>\n",
              "      <td>60-69</td>\n",
              "      <td>8</td>\n",
              "      <td>10</td>\n",
              "      <td>14</td>\n",
              "      <td>0</td>\n",
              "      <td>1</td>\n",
              "      <td>0</td>\n",
              "      <td>0</td>\n",
              "      <td>0</td>\n",
              "      <td>0</td>\n",
              "      <td>0</td>\n",
              "      <td>0</td>\n",
              "      <td>0</td>\n",
              "      <td>3509502</td>\n",
              "      <td>0</td>\n",
              "    </tr>\n",
              "    <tr>\n",
              "      <th>45</th>\n",
              "      <td>4</td>\n",
              "      <td>41.0</td>\n",
              "      <td>2</td>\n",
              "      <td>3509502</td>\n",
              "      <td>9</td>\n",
              "      <td>33</td>\n",
              "      <td>2</td>\n",
              "      <td>3</td>\n",
              "      <td>C509</td>\n",
              "      <td>C50</td>\n",
              "      <td>85003</td>\n",
              "      <td>I</td>\n",
              "      <td>I</td>\n",
              "      <td>1</td>\n",
              "      <td>0</td>\n",
              "      <td>0</td>\n",
              "      <td>1</td>\n",
              "      <td>0</td>\n",
              "      <td>0</td>\n",
              "      <td>8</td>\n",
              "      <td>8</td>\n",
              "      <td>8</td>\n",
              "      <td>8</td>\n",
              "      <td>8</td>\n",
              "      <td>0</td>\n",
              "      <td>0</td>\n",
              "      <td>0</td>\n",
              "      <td>0</td>\n",
              "      <td>8</td>\n",
              "      <td>D</td>\n",
              "      <td>D</td>\n",
              "      <td>J</td>\n",
              "      <td>J</td>\n",
              "      <td>0</td>\n",
              "      <td>1</td>\n",
              "      <td>1</td>\n",
              "      <td>0</td>\n",
              "      <td>0</td>\n",
              "      <td>0</td>\n",
              "      <td>0</td>\n",
              "      <td>0</td>\n",
              "      <td>1</td>\n",
              "      <td>0</td>\n",
              "      <td>0</td>\n",
              "      <td>1</td>\n",
              "      <td>0</td>\n",
              "      <td>0</td>\n",
              "      <td>0</td>\n",
              "      <td>0</td>\n",
              "      <td>0</td>\n",
              "      <td>0</td>\n",
              "      <td>0</td>\n",
              "      <td>2</td>\n",
              "      <td>0</td>\n",
              "      <td>41.0</td>\n",
              "      <td>41.0</td>\n",
              "      <td>2000</td>\n",
              "      <td>Sem informação</td>\n",
              "      <td>Sem informação</td>\n",
              "      <td>40-49</td>\n",
              "      <td>8</td>\n",
              "      <td>7</td>\n",
              "      <td>15</td>\n",
              "      <td>1</td>\n",
              "      <td>1</td>\n",
              "      <td>0</td>\n",
              "      <td>0</td>\n",
              "      <td>0</td>\n",
              "      <td>0</td>\n",
              "      <td>0</td>\n",
              "      <td>0</td>\n",
              "      <td>0</td>\n",
              "      <td>3509502</td>\n",
              "      <td>0</td>\n",
              "    </tr>\n",
              "    <tr>\n",
              "      <th>46</th>\n",
              "      <td>1</td>\n",
              "      <td>81.0</td>\n",
              "      <td>2</td>\n",
              "      <td>3552106</td>\n",
              "      <td>9</td>\n",
              "      <td>33</td>\n",
              "      <td>2</td>\n",
              "      <td>3</td>\n",
              "      <td>C509</td>\n",
              "      <td>C50</td>\n",
              "      <td>85003</td>\n",
              "      <td>I</td>\n",
              "      <td>I</td>\n",
              "      <td>1</td>\n",
              "      <td>0</td>\n",
              "      <td>0</td>\n",
              "      <td>1</td>\n",
              "      <td>0</td>\n",
              "      <td>0</td>\n",
              "      <td>8</td>\n",
              "      <td>8</td>\n",
              "      <td>8</td>\n",
              "      <td>8</td>\n",
              "      <td>8</td>\n",
              "      <td>0</td>\n",
              "      <td>0</td>\n",
              "      <td>0</td>\n",
              "      <td>0</td>\n",
              "      <td>8</td>\n",
              "      <td>A</td>\n",
              "      <td>A</td>\n",
              "      <td>J</td>\n",
              "      <td>J</td>\n",
              "      <td>0</td>\n",
              "      <td>1</td>\n",
              "      <td>0</td>\n",
              "      <td>0</td>\n",
              "      <td>0</td>\n",
              "      <td>0</td>\n",
              "      <td>0</td>\n",
              "      <td>0</td>\n",
              "      <td>1</td>\n",
              "      <td>0</td>\n",
              "      <td>0</td>\n",
              "      <td>1</td>\n",
              "      <td>0</td>\n",
              "      <td>0</td>\n",
              "      <td>0</td>\n",
              "      <td>0</td>\n",
              "      <td>0</td>\n",
              "      <td>0</td>\n",
              "      <td>0</td>\n",
              "      <td>2</td>\n",
              "      <td>0</td>\n",
              "      <td>104.0</td>\n",
              "      <td>104.0</td>\n",
              "      <td>2000</td>\n",
              "      <td>Sem informação</td>\n",
              "      <td>Sem informação</td>\n",
              "      <td>70+</td>\n",
              "      <td>8</td>\n",
              "      <td>7</td>\n",
              "      <td>16</td>\n",
              "      <td>1</td>\n",
              "      <td>1</td>\n",
              "      <td>0</td>\n",
              "      <td>0</td>\n",
              "      <td>0</td>\n",
              "      <td>0</td>\n",
              "      <td>0</td>\n",
              "      <td>0</td>\n",
              "      <td>0</td>\n",
              "      <td>3509502</td>\n",
              "      <td>0</td>\n",
              "    </tr>\n",
              "  </tbody>\n",
              "</table>\n",
              "</div>"
            ],
            "text/plain": [
              "    ESCOLARI  IDADE  SEXO     IBGE  ...  REC03  REC04  IBGEATEN  GRUPO\n",
              "7          9   80.0     2  3509502  ...      0      0   3509502      0\n",
              "39         2   58.0     2  3546702  ...      0      0   3509502      0\n",
              "43         4   66.0     2  3543907  ...      0      0   3509502      0\n",
              "45         4   41.0     2  3509502  ...      0      0   3509502      0\n",
              "46         1   81.0     2  3552106  ...      0      0   3509502      0\n",
              "\n",
              "[5 rows x 74 columns]"
            ]
          },
          "metadata": {
            "tags": []
          },
          "execution_count": 7
        }
      ]
    },
    {
      "cell_type": "markdown",
      "metadata": {
        "id": "dZsu97YHP4zH"
      },
      "source": [
        "# **Análise**"
      ]
    },
    {
      "cell_type": "code",
      "metadata": {
        "colab": {
          "base_uri": "https://localhost:8080/"
        },
        "id": "a5_As6brAw4B",
        "outputId": "8b23f6de-f0ad-4268-96c6-9775533954e6"
      },
      "source": [
        "df_grupo.describe()"
      ],
      "execution_count": null,
      "outputs": [
        {
          "output_type": "execute_result",
          "data": {
            "text/html": [
              "<div>\n",
              "<style scoped>\n",
              "    .dataframe tbody tr th:only-of-type {\n",
              "        vertical-align: middle;\n",
              "    }\n",
              "\n",
              "    .dataframe tbody tr th {\n",
              "        vertical-align: top;\n",
              "    }\n",
              "\n",
              "    .dataframe thead th {\n",
              "        text-align: right;\n",
              "    }\n",
              "</style>\n",
              "<table border=\"1\" class=\"dataframe\">\n",
              "  <thead>\n",
              "    <tr style=\"text-align: right;\">\n",
              "      <th></th>\n",
              "      <th>ESCOLARI</th>\n",
              "      <th>IDADE</th>\n",
              "      <th>SEXO</th>\n",
              "      <th>IBGE</th>\n",
              "      <th>CATEATEND</th>\n",
              "      <th>CLINICA</th>\n",
              "      <th>DIAGPREV</th>\n",
              "      <th>BASEDIAG</th>\n",
              "      <th>MORFO</th>\n",
              "      <th>G</th>\n",
              "      <th>LOCALTNM</th>\n",
              "      <th>IDMITOTIC</th>\n",
              "      <th>PSA</th>\n",
              "      <th>GLEASON</th>\n",
              "      <th>NAOTRAT</th>\n",
              "      <th>NENHUM</th>\n",
              "      <th>CIRURGIA</th>\n",
              "      <th>RADIO</th>\n",
              "      <th>QUIMIO</th>\n",
              "      <th>HORMONIO</th>\n",
              "      <th>TMO</th>\n",
              "      <th>IMUNO</th>\n",
              "      <th>OUTROS</th>\n",
              "      <th>NENHUMANT</th>\n",
              "      <th>CIRURANT</th>\n",
              "      <th>RADIOANT</th>\n",
              "      <th>NENHUMAPOS</th>\n",
              "      <th>CIRURAPOS</th>\n",
              "      <th>RADIOAPOS</th>\n",
              "      <th>QUIMIOAPOS</th>\n",
              "      <th>HORMOAPOS</th>\n",
              "      <th>TMOAPOS</th>\n",
              "      <th>IMUNOAPOS</th>\n",
              "      <th>OUTROAPOS</th>\n",
              "      <th>ULTINFO</th>\n",
              "      <th>CONSDIAG</th>\n",
              "      <th>TRATCONS</th>\n",
              "      <th>DIAGTRAT</th>\n",
              "      <th>ANODIAG</th>\n",
              "      <th>LATERALI</th>\n",
              "      <th>DRS</th>\n",
              "      <th>RRAS</th>\n",
              "      <th>PERDASEG</th>\n",
              "      <th>RECNENHUM</th>\n",
              "      <th>RECLOCAL</th>\n",
              "      <th>RECREGIO</th>\n",
              "      <th>RECDIST</th>\n",
              "      <th>IBGEATEN</th>\n",
              "      <th>GRUPO</th>\n",
              "    </tr>\n",
              "  </thead>\n",
              "  <tbody>\n",
              "    <tr>\n",
              "      <th>count</th>\n",
              "      <td>138103.000000</td>\n",
              "      <td>138103.000000</td>\n",
              "      <td>138103.000000</td>\n",
              "      <td>1.381030e+05</td>\n",
              "      <td>138103.000000</td>\n",
              "      <td>138103.000000</td>\n",
              "      <td>138103.000000</td>\n",
              "      <td>138103.000000</td>\n",
              "      <td>138103.000000</td>\n",
              "      <td>138103.000000</td>\n",
              "      <td>138103.000000</td>\n",
              "      <td>138103.000000</td>\n",
              "      <td>138103.000000</td>\n",
              "      <td>138103.000000</td>\n",
              "      <td>138103.000000</td>\n",
              "      <td>138103.000000</td>\n",
              "      <td>138103.000000</td>\n",
              "      <td>138103.000000</td>\n",
              "      <td>138103.000000</td>\n",
              "      <td>138103.000000</td>\n",
              "      <td>138103.000000</td>\n",
              "      <td>138103.000000</td>\n",
              "      <td>138103.0</td>\n",
              "      <td>138103.000000</td>\n",
              "      <td>138103.0</td>\n",
              "      <td>138103.0</td>\n",
              "      <td>138103.000000</td>\n",
              "      <td>138103.0</td>\n",
              "      <td>138103.0</td>\n",
              "      <td>138103.0</td>\n",
              "      <td>138103.000000</td>\n",
              "      <td>138103.000000</td>\n",
              "      <td>138103.000000</td>\n",
              "      <td>138103.0</td>\n",
              "      <td>138103.000000</td>\n",
              "      <td>138103.000000</td>\n",
              "      <td>138103.000000</td>\n",
              "      <td>138103.000000</td>\n",
              "      <td>138103.000000</td>\n",
              "      <td>138103.000000</td>\n",
              "      <td>138103.000000</td>\n",
              "      <td>138103.000000</td>\n",
              "      <td>138103.000000</td>\n",
              "      <td>138103.000000</td>\n",
              "      <td>138103.0</td>\n",
              "      <td>138103.000000</td>\n",
              "      <td>138103.000000</td>\n",
              "      <td>1.381030e+05</td>\n",
              "      <td>138103.0</td>\n",
              "    </tr>\n",
              "    <tr>\n",
              "      <th>mean</th>\n",
              "      <td>4.633216</td>\n",
              "      <td>64.882834</td>\n",
              "      <td>1.470823</td>\n",
              "      <td>3.532731e+06</td>\n",
              "      <td>4.536491</td>\n",
              "      <td>17.395241</td>\n",
              "      <td>1.212841</td>\n",
              "      <td>2.998016</td>\n",
              "      <td>81907.798194</td>\n",
              "      <td>8.002571</td>\n",
              "      <td>8.000109</td>\n",
              "      <td>7.994504</td>\n",
              "      <td>8.003751</td>\n",
              "      <td>7.979378</td>\n",
              "      <td>7.998841</td>\n",
              "      <td>0.001521</td>\n",
              "      <td>0.971847</td>\n",
              "      <td>0.072069</td>\n",
              "      <td>0.105805</td>\n",
              "      <td>0.000101</td>\n",
              "      <td>0.000029</td>\n",
              "      <td>0.002136</td>\n",
              "      <td>0.0</td>\n",
              "      <td>0.999913</td>\n",
              "      <td>0.0</td>\n",
              "      <td>0.0</td>\n",
              "      <td>0.989015</td>\n",
              "      <td>0.0</td>\n",
              "      <td>0.0</td>\n",
              "      <td>0.0</td>\n",
              "      <td>0.000550</td>\n",
              "      <td>0.000014</td>\n",
              "      <td>0.000080</td>\n",
              "      <td>0.0</td>\n",
              "      <td>2.401114</td>\n",
              "      <td>38.698833</td>\n",
              "      <td>55.618850</td>\n",
              "      <td>38.602521</td>\n",
              "      <td>2010.652701</td>\n",
              "      <td>7.116956</td>\n",
              "      <td>6.505702</td>\n",
              "      <td>10.090751</td>\n",
              "      <td>0.122307</td>\n",
              "      <td>0.999088</td>\n",
              "      <td>0.0</td>\n",
              "      <td>0.000833</td>\n",
              "      <td>0.000014</td>\n",
              "      <td>3.537792e+06</td>\n",
              "      <td>0.0</td>\n",
              "    </tr>\n",
              "    <tr>\n",
              "      <th>std</th>\n",
              "      <td>3.052778</td>\n",
              "      <td>14.025152</td>\n",
              "      <td>0.499150</td>\n",
              "      <td>5.279688e+04</td>\n",
              "      <td>3.576209</td>\n",
              "      <td>12.215007</td>\n",
              "      <td>0.409318</td>\n",
              "      <td>0.177549</td>\n",
              "      <td>1975.125545</td>\n",
              "      <td>0.052046</td>\n",
              "      <td>0.010421</td>\n",
              "      <td>0.185240</td>\n",
              "      <td>0.073204</td>\n",
              "      <td>0.353456</td>\n",
              "      <td>0.047669</td>\n",
              "      <td>0.038965</td>\n",
              "      <td>0.165410</td>\n",
              "      <td>0.258604</td>\n",
              "      <td>0.307589</td>\n",
              "      <td>0.010068</td>\n",
              "      <td>0.005382</td>\n",
              "      <td>0.046169</td>\n",
              "      <td>0.0</td>\n",
              "      <td>0.009321</td>\n",
              "      <td>0.0</td>\n",
              "      <td>0.0</td>\n",
              "      <td>0.104230</td>\n",
              "      <td>0.0</td>\n",
              "      <td>0.0</td>\n",
              "      <td>0.0</td>\n",
              "      <td>0.023452</td>\n",
              "      <td>0.003806</td>\n",
              "      <td>0.008924</td>\n",
              "      <td>0.0</td>\n",
              "      <td>0.859735</td>\n",
              "      <td>77.077642</td>\n",
              "      <td>87.342786</td>\n",
              "      <td>72.654290</td>\n",
              "      <td>5.460195</td>\n",
              "      <td>2.234391</td>\n",
              "      <td>5.527511</td>\n",
              "      <td>9.959199</td>\n",
              "      <td>0.327642</td>\n",
              "      <td>0.030192</td>\n",
              "      <td>0.0</td>\n",
              "      <td>0.028845</td>\n",
              "      <td>0.003806</td>\n",
              "      <td>1.508213e+04</td>\n",
              "      <td>0.0</td>\n",
              "    </tr>\n",
              "    <tr>\n",
              "      <th>min</th>\n",
              "      <td>1.000000</td>\n",
              "      <td>0.000000</td>\n",
              "      <td>1.000000</td>\n",
              "      <td>2.111300e+06</td>\n",
              "      <td>1.000000</td>\n",
              "      <td>1.000000</td>\n",
              "      <td>1.000000</td>\n",
              "      <td>1.000000</td>\n",
              "      <td>80102.000000</td>\n",
              "      <td>4.000000</td>\n",
              "      <td>8.000000</td>\n",
              "      <td>1.000000</td>\n",
              "      <td>1.000000</td>\n",
              "      <td>1.000000</td>\n",
              "      <td>2.000000</td>\n",
              "      <td>0.000000</td>\n",
              "      <td>0.000000</td>\n",
              "      <td>0.000000</td>\n",
              "      <td>0.000000</td>\n",
              "      <td>0.000000</td>\n",
              "      <td>0.000000</td>\n",
              "      <td>0.000000</td>\n",
              "      <td>0.0</td>\n",
              "      <td>0.000000</td>\n",
              "      <td>0.0</td>\n",
              "      <td>0.0</td>\n",
              "      <td>0.000000</td>\n",
              "      <td>0.0</td>\n",
              "      <td>0.0</td>\n",
              "      <td>0.0</td>\n",
              "      <td>0.000000</td>\n",
              "      <td>0.000000</td>\n",
              "      <td>0.000000</td>\n",
              "      <td>0.0</td>\n",
              "      <td>1.000000</td>\n",
              "      <td>0.000000</td>\n",
              "      <td>0.000000</td>\n",
              "      <td>0.000000</td>\n",
              "      <td>2000.000000</td>\n",
              "      <td>1.000000</td>\n",
              "      <td>0.000000</td>\n",
              "      <td>1.000000</td>\n",
              "      <td>0.000000</td>\n",
              "      <td>0.000000</td>\n",
              "      <td>0.0</td>\n",
              "      <td>0.000000</td>\n",
              "      <td>0.000000</td>\n",
              "      <td>3.502804e+06</td>\n",
              "      <td>0.0</td>\n",
              "    </tr>\n",
              "    <tr>\n",
              "      <th>25%</th>\n",
              "      <td>2.000000</td>\n",
              "      <td>56.000000</td>\n",
              "      <td>1.000000</td>\n",
              "      <td>3.522000e+06</td>\n",
              "      <td>2.000000</td>\n",
              "      <td>6.000000</td>\n",
              "      <td>1.000000</td>\n",
              "      <td>3.000000</td>\n",
              "      <td>80903.000000</td>\n",
              "      <td>8.000000</td>\n",
              "      <td>8.000000</td>\n",
              "      <td>8.000000</td>\n",
              "      <td>8.000000</td>\n",
              "      <td>8.000000</td>\n",
              "      <td>8.000000</td>\n",
              "      <td>0.000000</td>\n",
              "      <td>1.000000</td>\n",
              "      <td>0.000000</td>\n",
              "      <td>0.000000</td>\n",
              "      <td>0.000000</td>\n",
              "      <td>0.000000</td>\n",
              "      <td>0.000000</td>\n",
              "      <td>0.0</td>\n",
              "      <td>1.000000</td>\n",
              "      <td>0.0</td>\n",
              "      <td>0.0</td>\n",
              "      <td>1.000000</td>\n",
              "      <td>0.0</td>\n",
              "      <td>0.0</td>\n",
              "      <td>0.0</td>\n",
              "      <td>0.000000</td>\n",
              "      <td>0.000000</td>\n",
              "      <td>0.000000</td>\n",
              "      <td>0.0</td>\n",
              "      <td>2.000000</td>\n",
              "      <td>1.000000</td>\n",
              "      <td>6.000000</td>\n",
              "      <td>0.000000</td>\n",
              "      <td>2006.000000</td>\n",
              "      <td>8.000000</td>\n",
              "      <td>1.000000</td>\n",
              "      <td>6.000000</td>\n",
              "      <td>0.000000</td>\n",
              "      <td>1.000000</td>\n",
              "      <td>0.0</td>\n",
              "      <td>0.000000</td>\n",
              "      <td>0.000000</td>\n",
              "      <td>3.525300e+06</td>\n",
              "      <td>0.0</td>\n",
              "    </tr>\n",
              "    <tr>\n",
              "      <th>50%</th>\n",
              "      <td>3.000000</td>\n",
              "      <td>66.000000</td>\n",
              "      <td>1.000000</td>\n",
              "      <td>3.540804e+06</td>\n",
              "      <td>2.000000</td>\n",
              "      <td>12.000000</td>\n",
              "      <td>1.000000</td>\n",
              "      <td>3.000000</td>\n",
              "      <td>80923.000000</td>\n",
              "      <td>8.000000</td>\n",
              "      <td>8.000000</td>\n",
              "      <td>8.000000</td>\n",
              "      <td>8.000000</td>\n",
              "      <td>8.000000</td>\n",
              "      <td>8.000000</td>\n",
              "      <td>0.000000</td>\n",
              "      <td>1.000000</td>\n",
              "      <td>0.000000</td>\n",
              "      <td>0.000000</td>\n",
              "      <td>0.000000</td>\n",
              "      <td>0.000000</td>\n",
              "      <td>0.000000</td>\n",
              "      <td>0.0</td>\n",
              "      <td>1.000000</td>\n",
              "      <td>0.0</td>\n",
              "      <td>0.0</td>\n",
              "      <td>1.000000</td>\n",
              "      <td>0.0</td>\n",
              "      <td>0.0</td>\n",
              "      <td>0.0</td>\n",
              "      <td>0.000000</td>\n",
              "      <td>0.000000</td>\n",
              "      <td>0.000000</td>\n",
              "      <td>0.0</td>\n",
              "      <td>2.000000</td>\n",
              "      <td>19.000000</td>\n",
              "      <td>32.000000</td>\n",
              "      <td>0.000000</td>\n",
              "      <td>2011.000000</td>\n",
              "      <td>8.000000</td>\n",
              "      <td>6.000000</td>\n",
              "      <td>9.000000</td>\n",
              "      <td>0.000000</td>\n",
              "      <td>1.000000</td>\n",
              "      <td>0.0</td>\n",
              "      <td>0.000000</td>\n",
              "      <td>0.000000</td>\n",
              "      <td>3.549805e+06</td>\n",
              "      <td>0.0</td>\n",
              "    </tr>\n",
              "    <tr>\n",
              "      <th>75%</th>\n",
              "      <td>9.000000</td>\n",
              "      <td>75.000000</td>\n",
              "      <td>2.000000</td>\n",
              "      <td>3.550308e+06</td>\n",
              "      <td>9.000000</td>\n",
              "      <td>30.000000</td>\n",
              "      <td>1.000000</td>\n",
              "      <td>3.000000</td>\n",
              "      <td>82113.000000</td>\n",
              "      <td>8.000000</td>\n",
              "      <td>8.000000</td>\n",
              "      <td>8.000000</td>\n",
              "      <td>8.000000</td>\n",
              "      <td>8.000000</td>\n",
              "      <td>8.000000</td>\n",
              "      <td>0.000000</td>\n",
              "      <td>1.000000</td>\n",
              "      <td>0.000000</td>\n",
              "      <td>0.000000</td>\n",
              "      <td>0.000000</td>\n",
              "      <td>0.000000</td>\n",
              "      <td>0.000000</td>\n",
              "      <td>0.0</td>\n",
              "      <td>1.000000</td>\n",
              "      <td>0.0</td>\n",
              "      <td>0.0</td>\n",
              "      <td>1.000000</td>\n",
              "      <td>0.0</td>\n",
              "      <td>0.0</td>\n",
              "      <td>0.0</td>\n",
              "      <td>0.000000</td>\n",
              "      <td>0.000000</td>\n",
              "      <td>0.000000</td>\n",
              "      <td>0.0</td>\n",
              "      <td>3.000000</td>\n",
              "      <td>47.000000</td>\n",
              "      <td>70.000000</td>\n",
              "      <td>57.000000</td>\n",
              "      <td>2015.000000</td>\n",
              "      <td>8.000000</td>\n",
              "      <td>10.000000</td>\n",
              "      <td>12.000000</td>\n",
              "      <td>0.000000</td>\n",
              "      <td>1.000000</td>\n",
              "      <td>0.0</td>\n",
              "      <td>0.000000</td>\n",
              "      <td>0.000000</td>\n",
              "      <td>3.550308e+06</td>\n",
              "      <td>0.0</td>\n",
              "    </tr>\n",
              "    <tr>\n",
              "      <th>max</th>\n",
              "      <td>9.000000</td>\n",
              "      <td>103.000000</td>\n",
              "      <td>2.000000</td>\n",
              "      <td>4.321204e+06</td>\n",
              "      <td>9.000000</td>\n",
              "      <td>99.000000</td>\n",
              "      <td>2.000000</td>\n",
              "      <td>9.000000</td>\n",
              "      <td>95813.000000</td>\n",
              "      <td>9.000000</td>\n",
              "      <td>9.000000</td>\n",
              "      <td>8.000000</td>\n",
              "      <td>9.000000</td>\n",
              "      <td>9.000000</td>\n",
              "      <td>9.000000</td>\n",
              "      <td>1.000000</td>\n",
              "      <td>1.000000</td>\n",
              "      <td>1.000000</td>\n",
              "      <td>1.000000</td>\n",
              "      <td>1.000000</td>\n",
              "      <td>1.000000</td>\n",
              "      <td>1.000000</td>\n",
              "      <td>0.0</td>\n",
              "      <td>1.000000</td>\n",
              "      <td>0.0</td>\n",
              "      <td>0.0</td>\n",
              "      <td>1.000000</td>\n",
              "      <td>0.0</td>\n",
              "      <td>0.0</td>\n",
              "      <td>0.0</td>\n",
              "      <td>1.000000</td>\n",
              "      <td>1.000000</td>\n",
              "      <td>1.000000</td>\n",
              "      <td>0.0</td>\n",
              "      <td>4.000000</td>\n",
              "      <td>1571.000000</td>\n",
              "      <td>1238.000000</td>\n",
              "      <td>1300.000000</td>\n",
              "      <td>2020.000000</td>\n",
              "      <td>8.000000</td>\n",
              "      <td>17.000000</td>\n",
              "      <td>99.000000</td>\n",
              "      <td>1.000000</td>\n",
              "      <td>1.000000</td>\n",
              "      <td>0.0</td>\n",
              "      <td>1.000000</td>\n",
              "      <td>1.000000</td>\n",
              "      <td>3.555000e+06</td>\n",
              "      <td>0.0</td>\n",
              "    </tr>\n",
              "  </tbody>\n",
              "</table>\n",
              "</div>"
            ],
            "text/plain": [
              "            ESCOLARI          IDADE  ...      IBGEATEN     GRUPO\n",
              "count  138103.000000  138103.000000  ...  1.381030e+05  138103.0\n",
              "mean        4.633216      64.882834  ...  3.537792e+06       0.0\n",
              "std         3.052778      14.025152  ...  1.508213e+04       0.0\n",
              "min         1.000000       0.000000  ...  3.502804e+06       0.0\n",
              "25%         2.000000      56.000000  ...  3.525300e+06       0.0\n",
              "50%         3.000000      66.000000  ...  3.549805e+06       0.0\n",
              "75%         9.000000      75.000000  ...  3.550308e+06       0.0\n",
              "max         9.000000     103.000000  ...  3.555000e+06       0.0\n",
              "\n",
              "[8 rows x 49 columns]"
            ]
          },
          "metadata": {
            "tags": []
          },
          "execution_count": 8
        }
      ]
    },
    {
      "cell_type": "markdown",
      "metadata": {
        "id": "pLlXb8J6443A"
      },
      "source": [
        "*   **DIAGPREV**: Diagnóstico e tratamento anterior (int = 1).\n",
        "\n",
        "      1 – SEM DIAGNÓSTICO / SEM TRATAMENTO\n",
        "      \n",
        "      2 – COM DIAGNÓSTICO / SEM TRATAMENTO\n",
        "      \n",
        "      3 – COM DIAGNÓSTICO / COM TRATAMENTO\n",
        "      \n",
        "      4 – OUTROS"
      ]
    },
    {
      "cell_type": "code",
      "metadata": {
        "colab": {
          "base_uri": "https://localhost:8080/"
        },
        "id": "ZO0iem0co2SK",
        "outputId": "06cc9cab-7fb6-4a82-a76c-85ef13d0c5dd"
      },
      "source": [
        "df_grupo.DIAGPREV.value_counts()"
      ],
      "execution_count": null,
      "outputs": [
        {
          "output_type": "execute_result",
          "data": {
            "text/plain": [
              "1    108709\n",
              "2     29394\n",
              "Name: DIAGPREV, dtype: int64"
            ]
          },
          "metadata": {
            "tags": []
          },
          "execution_count": 9
        }
      ]
    },
    {
      "cell_type": "code",
      "metadata": {
        "colab": {
          "base_uri": "https://localhost:8080/"
        },
        "id": "EyctXyDZwPZv",
        "outputId": "51b38ac1-8093-4714-b6b0-d8e7883c4ea3"
      },
      "source": [
        "df_aux.DIAGPREV.value_counts()"
      ],
      "execution_count": null,
      "outputs": [
        {
          "output_type": "execute_result",
          "data": {
            "text/plain": [
              "1    593200\n",
              "2    350459\n",
              "Name: DIAGPREV, dtype: int64"
            ]
          },
          "metadata": {
            "tags": []
          },
          "execution_count": 10
        }
      ]
    },
    {
      "cell_type": "markdown",
      "metadata": {
        "id": "-3iy0pAV47MG"
      },
      "source": [
        "*   **BASEDIAG**: Código da base do diagnóstico (int = 1).\n",
        "      \n",
        "      1 – EXAME CLINICO\n",
        "      \n",
        "      2 – RECURSOS AUXILIARES NÃO MICROSCÓPICOS\n",
        "      \n",
        "      3 – CONFIRMAÇÃO MICROSCÓPICA\n",
        "      \n",
        "      9 – SEM INFORMAÇÃO"
      ]
    },
    {
      "cell_type": "code",
      "metadata": {
        "colab": {
          "base_uri": "https://localhost:8080/"
        },
        "id": "lFJgrbziCmS0",
        "outputId": "8fdb3b05-9d79-4cf0-b332-7c465dfedba1"
      },
      "source": [
        "df_grupo.BASEDIAG.value_counts()"
      ],
      "execution_count": null,
      "outputs": [
        {
          "output_type": "execute_result",
          "data": {
            "text/plain": [
              "3    137433\n",
              "2       370\n",
              "1       213\n",
              "9        87\n",
              "Name: BASEDIAG, dtype: int64"
            ]
          },
          "metadata": {
            "tags": []
          },
          "execution_count": 11
        }
      ]
    },
    {
      "cell_type": "code",
      "metadata": {
        "colab": {
          "base_uri": "https://localhost:8080/"
        },
        "id": "OdtdJr1wCsz5",
        "outputId": "c41b831e-b93a-4710-c9c4-6d9088a5c862"
      },
      "source": [
        "df_aux.BASEDIAG.value_counts()"
      ],
      "execution_count": null,
      "outputs": [
        {
          "output_type": "execute_result",
          "data": {
            "text/plain": [
              "3    927293\n",
              "2     13320\n",
              "1      2059\n",
              "9       987\n",
              "Name: BASEDIAG, dtype: int64"
            ]
          },
          "metadata": {
            "tags": []
          },
          "execution_count": 12
        }
      ]
    },
    {
      "cell_type": "markdown",
      "metadata": {
        "id": "-1-BqOU6WoFm"
      },
      "source": [
        "*   **TOPO**: Código da topografia (char = 4). Formato: C999 \t"
      ]
    },
    {
      "cell_type": "code",
      "metadata": {
        "colab": {
          "base_uri": "https://localhost:8080/"
        },
        "id": "4bXswNoUEA5J",
        "outputId": "b8d2cdb9-5ee7-4619-ec25-f90617d5c778"
      },
      "source": [
        "df_grupo.TOPO.nunique()"
      ],
      "execution_count": null,
      "outputs": [
        {
          "output_type": "execute_result",
          "data": {
            "text/plain": [
              "221"
            ]
          },
          "metadata": {
            "tags": []
          },
          "execution_count": 13
        }
      ]
    },
    {
      "cell_type": "code",
      "metadata": {
        "colab": {
          "base_uri": "https://localhost:8080/"
        },
        "id": "esuHeKUxEA5G",
        "outputId": "98ccede6-6767-4ba8-e690-9a74bc5dd078"
      },
      "source": [
        "df_aux.TOPO.nunique()"
      ],
      "execution_count": null,
      "outputs": [
        {
          "output_type": "execute_result",
          "data": {
            "text/plain": [
              "331"
            ]
          },
          "metadata": {
            "tags": []
          },
          "execution_count": 14
        }
      ]
    },
    {
      "cell_type": "markdown",
      "metadata": {
        "id": "-OIWOCO5Ws-u"
      },
      "source": [
        "* **TOPOGRUP**: Grupo da topografia (char = 3). Formato: C99"
      ]
    },
    {
      "cell_type": "code",
      "metadata": {
        "colab": {
          "base_uri": "https://localhost:8080/"
        },
        "id": "819T1wOrC51z",
        "outputId": "562066e4-c967-4480-baa2-dba4ead299e2"
      },
      "source": [
        "df_grupo.TOPOGRUP.value_counts()#.head(10)"
      ],
      "execution_count": null,
      "outputs": [
        {
          "output_type": "execute_result",
          "data": {
            "text/plain": [
              "C44    77014\n",
              "C18     8945\n",
              "C50     7323\n",
              "C61     5953\n",
              "C73     4990\n",
              "C16     4884\n",
              "C20     3830\n",
              "C67     3520\n",
              "C64     3493\n",
              "C34     1920\n",
              "C32     1912\n",
              "C02     1219\n",
              "C19     1218\n",
              "C00     1022\n",
              "C25      902\n",
              "C54      836\n",
              "C62      820\n",
              "C15      731\n",
              "C53      615\n",
              "C60      551\n",
              "C22      486\n",
              "C06      483\n",
              "C49      464\n",
              "C04      433\n",
              "C17      420\n",
              "C24      412\n",
              "C56      387\n",
              "C05      372\n",
              "C07      287\n",
              "C23      280\n",
              "C09      208\n",
              "C01      195\n",
              "C40      188\n",
              "C10      187\n",
              "C51      182\n",
              "C21      160\n",
              "C48      132\n",
              "C65      129\n",
              "C03      125\n",
              "C12      116\n",
              "C69      108\n",
              "C13      107\n",
              "C66      100\n",
              "C41       93\n",
              "C08       89\n",
              "C31       72\n",
              "C30       61\n",
              "C11       54\n",
              "C38       22\n",
              "C52       17\n",
              "C47       15\n",
              "C68       12\n",
              "C63        4\n",
              "C74        3\n",
              "C57        2\n",
              "Name: TOPOGRUP, dtype: int64"
            ]
          },
          "metadata": {
            "tags": []
          },
          "execution_count": 15
        }
      ]
    },
    {
      "cell_type": "code",
      "metadata": {
        "colab": {
          "base_uri": "https://localhost:8080/"
        },
        "id": "7w696F0xDBs1",
        "outputId": "48c295bf-23df-4962-f00a-32c63d88087c"
      },
      "source": [
        "df_aux.TOPOGRUP.value_counts().head(10)"
      ],
      "execution_count": null,
      "outputs": [
        {
          "output_type": "execute_result",
          "data": {
            "text/plain": [
              "C44    214251\n",
              "C50    127597\n",
              "C61    100165\n",
              "C53     45784\n",
              "C34     44507\n",
              "C16     35745\n",
              "C42     35574\n",
              "C18     34933\n",
              "C20     26979\n",
              "C73     21141\n",
              "Name: TOPOGRUP, dtype: int64"
            ]
          },
          "metadata": {
            "tags": []
          },
          "execution_count": 16
        }
      ]
    },
    {
      "cell_type": "markdown",
      "metadata": {
        "id": "RCjXtkqBW5ln"
      },
      "source": [
        "*   **MORFO**: Código da morfologia (char = 5). Formato: 99999"
      ]
    },
    {
      "cell_type": "code",
      "metadata": {
        "colab": {
          "base_uri": "https://localhost:8080/"
        },
        "id": "yaofdjHxC5qG",
        "outputId": "58bb1d0d-e905-4a29-f9d3-4bf772bff92a"
      },
      "source": [
        "df_grupo.MORFO.value_counts().head(15)"
      ],
      "execution_count": null,
      "outputs": [
        {
          "output_type": "execute_result",
          "data": {
            "text/plain": [
              "80903    33474\n",
              "80703    23683\n",
              "81403    12447\n",
              "80973    10214\n",
              "82113     6650\n",
              "85003     5061\n",
              "85503     4635\n",
              "80923     4277\n",
              "80702     2644\n",
              "82603     2642\n",
              "87203     2451\n",
              "80913     2117\n",
              "83103     1923\n",
              "83123     1445\n",
              "80103     1288\n",
              "Name: MORFO, dtype: int64"
            ]
          },
          "metadata": {
            "tags": []
          },
          "execution_count": 17
        }
      ]
    },
    {
      "cell_type": "code",
      "metadata": {
        "colab": {
          "base_uri": "https://localhost:8080/"
        },
        "id": "vvEm9ZJbEQ9x",
        "outputId": "2c8adc6f-0218-4dcd-a48a-fc1d0cc81cd7"
      },
      "source": [
        "df_aux.MORFO.value_counts().head(15)"
      ],
      "execution_count": null,
      "outputs": [
        {
          "output_type": "execute_result",
          "data": {
            "text/plain": [
              "80703    152682\n",
              "81403    131221\n",
              "80903     97765\n",
              "85003     92006\n",
              "85503     64828\n",
              "82113     28346\n",
              "80973     23730\n",
              "80103     23522\n",
              "80702     17026\n",
              "82603     10133\n",
              "87203      9712\n",
              "80003      8658\n",
              "80102      8301\n",
              "80503      7886\n",
              "97323      7713\n",
              "Name: MORFO, dtype: int64"
            ]
          },
          "metadata": {
            "tags": []
          },
          "execution_count": 18
        }
      ]
    },
    {
      "cell_type": "markdown",
      "metadata": {
        "id": "sXoifzlFL3z0"
      },
      "source": [
        "*   **T**: Classificação TNM - T (char = 5). \n",
        "*   **N**: Classificação TNM - N (char = 5). \n",
        "*   **M**: Classificação TNM - M (char = 3). \n"
      ]
    },
    {
      "cell_type": "code",
      "metadata": {
        "colab": {
          "base_uri": "https://localhost:8080/"
        },
        "id": "Q3eo0PySIzbg",
        "outputId": "6384d9ab-8d6d-4b11-e34c-27035dfa7213"
      },
      "source": [
        "df_grupo['T'].value_counts()"
      ],
      "execution_count": null,
      "outputs": [
        {
          "output_type": "execute_result",
          "data": {
            "text/plain": [
              "1        71964\n",
              "2        19318\n",
              "3        15956\n",
              "IS        6302\n",
              "1A        4433\n",
              "4         3380\n",
              "1B        2220\n",
              "X         2184\n",
              "2B        2078\n",
              "2A        2057\n",
              "2C        1668\n",
              "1C        1641\n",
              "4A        1377\n",
              "3A        1078\n",
              "4B         761\n",
              "A          735\n",
              "3B         585\n",
              "0          129\n",
              "CDIS       123\n",
              "4D          41\n",
              "CLIS        27\n",
              "1MIC        25\n",
              "4C          10\n",
              "3C           8\n",
              "PAGET        2\n",
              "4E           1\n",
              "Name: T, dtype: int64"
            ]
          },
          "metadata": {
            "tags": []
          },
          "execution_count": 19
        }
      ]
    },
    {
      "cell_type": "code",
      "metadata": {
        "colab": {
          "base_uri": "https://localhost:8080/"
        },
        "id": "QXhg5O5wIzbf",
        "outputId": "546dfca8-99d1-4404-9560-a6a6ef890651"
      },
      "source": [
        "df_aux['T'].value_counts()"
      ],
      "execution_count": null,
      "outputs": [
        {
          "output_type": "execute_result",
          "data": {
            "text/plain": [
              "1        211140\n",
              "X        152837\n",
              "Y        120431\n",
              "2        112052\n",
              "3        107138\n",
              "4         56554\n",
              "1C        26653\n",
              "IS        23265\n",
              "4A        19815\n",
              "2C        19425\n",
              "4B        19087\n",
              "1A        14889\n",
              "2A        14082\n",
              "2B        12591\n",
              "1B         9619\n",
              "3A         8567\n",
              "3B         5818\n",
              "A          2683\n",
              "4D         2518\n",
              "CDIS       1886\n",
              "0          1408\n",
              "4C          746\n",
              "1MIC        173\n",
              "CLIS        168\n",
              "3C           76\n",
              "PAGET        30\n",
              "4E            8\n",
              "Name: T, dtype: int64"
            ]
          },
          "metadata": {
            "tags": []
          },
          "execution_count": 20
        }
      ]
    },
    {
      "cell_type": "code",
      "metadata": {
        "colab": {
          "base_uri": "https://localhost:8080/"
        },
        "id": "PiQtelUbIIAq",
        "outputId": "cc43604c-5dc8-46cf-e7a5-64c6652ff3cd"
      },
      "source": [
        "df_grupo.N.value_counts()"
      ],
      "execution_count": null,
      "outputs": [
        {
          "output_type": "execute_result",
          "data": {
            "text/plain": [
              "0      121163\n",
              "1        9298\n",
              "2        2686\n",
              "X        2262\n",
              "1A        843\n",
              "1B        553\n",
              "3         385\n",
              "2A        352\n",
              "2B        329\n",
              "1C         87\n",
              "2C         71\n",
              "3A         49\n",
              "3B         22\n",
              "3C          1\n",
              "PN0         1\n",
              "CN0         1\n",
              "Name: N, dtype: int64"
            ]
          },
          "metadata": {
            "tags": []
          },
          "execution_count": 21
        }
      ]
    },
    {
      "cell_type": "code",
      "metadata": {
        "colab": {
          "base_uri": "https://localhost:8080/"
        },
        "id": "d0Z855I3IIAn",
        "outputId": "313efa3f-3288-4c81-a721-c33d91c6fcd6"
      },
      "source": [
        "df_aux.N.value_counts()"
      ],
      "execution_count": null,
      "outputs": [
        {
          "output_type": "execute_result",
          "data": {
            "text/plain": [
              "0      489481\n",
              "X      158458\n",
              "Y      120431\n",
              "1       88490\n",
              "2       43839\n",
              "3       20300\n",
              "2B       5872\n",
              "2A       4609\n",
              "2C       3743\n",
              "1A       3035\n",
              "1B       2778\n",
              "3A       1070\n",
              "3B        646\n",
              "3C        552\n",
              "1C        336\n",
              "PN0        11\n",
              "CN0         8\n",
              "Name: N, dtype: int64"
            ]
          },
          "metadata": {
            "tags": []
          },
          "execution_count": 22
        }
      ]
    },
    {
      "cell_type": "code",
      "metadata": {
        "colab": {
          "base_uri": "https://localhost:8080/"
        },
        "id": "itIFjWVbEXsm",
        "outputId": "3de847ef-f521-4f19-9b02-2be11088eeff"
      },
      "source": [
        "df_grupo.M.value_counts()"
      ],
      "execution_count": null,
      "outputs": [
        {
          "output_type": "execute_result",
          "data": {
            "text/plain": [
              "0     136318\n",
              "1       1483\n",
              "1A       131\n",
              "X        118\n",
              "1B        49\n",
              "1C         4\n",
              "Name: M, dtype: int64"
            ]
          },
          "metadata": {
            "tags": []
          },
          "execution_count": 23
        }
      ]
    },
    {
      "cell_type": "code",
      "metadata": {
        "colab": {
          "base_uri": "https://localhost:8080/"
        },
        "id": "Ngh-Bp6WIBMx",
        "outputId": "a9827da1-4c8c-42b1-f157-dab167eaaea1"
      },
      "source": [
        "df_aux.M.value_counts()"
      ],
      "execution_count": null,
      "outputs": [
        {
          "output_type": "execute_result",
          "data": {
            "text/plain": [
              "0     669181\n",
              "Y     120431\n",
              "1      98235\n",
              "X      39923\n",
              "1B      9656\n",
              "1A      5393\n",
              "1C       840\n",
              "Name: M, dtype: int64"
            ]
          },
          "metadata": {
            "tags": []
          },
          "execution_count": 24
        }
      ]
    },
    {
      "cell_type": "markdown",
      "metadata": {
        "id": "KSrQRUsUXK8R"
      },
      "source": [
        "*   **PT**: Estadiamento pós cirúrgico (char = 5). \n",
        "*   **PN**: Estadiamento pós cirúrgico (char = 5). \n",
        "*   **PM**: Estadiamento pós cirúrgico (char = 3)."
      ]
    },
    {
      "cell_type": "code",
      "metadata": {
        "colab": {
          "base_uri": "https://localhost:8080/"
        },
        "id": "wTO-V5jxITfx",
        "outputId": "f6f3b338-bd06-4c0c-ae81-8f790a72d28e"
      },
      "source": [
        "df_grupo.PT.value_counts()"
      ],
      "execution_count": null,
      "outputs": [
        {
          "output_type": "execute_result",
          "data": {
            "text/plain": [
              "1                 71741\n",
              "2                 19322\n",
              "3                 15650\n",
              "IS                 6220\n",
              "1A                 4783\n",
              "4                  3461\n",
              "1B                 2726\n",
              "2B                 2265\n",
              "2A                 2102\n",
              "2C                 1948\n",
              "1C                 1544\n",
              "4A                 1281\n",
              "3A                 1237\n",
              "0                   955\n",
              "A                   723\n",
              "3B                  684\n",
              "4B                  661\n",
              "X                   143\n",
              "3C                  120\n",
              "CDIS                118\n",
              "1B1                  88\n",
              "1A1                  85\n",
              "Sem informação       79\n",
              "1MIC                 46\n",
              "1B2                  32\n",
              "4D                   30\n",
              "CLIS                 22\n",
              "1A2                  19\n",
              "4C                   16\n",
              "4E                    1\n",
              "PAGET                 1\n",
              "Name: PT, dtype: int64"
            ]
          },
          "metadata": {
            "tags": []
          },
          "execution_count": 25
        }
      ]
    },
    {
      "cell_type": "code",
      "metadata": {
        "colab": {
          "base_uri": "https://localhost:8080/"
        },
        "id": "aPbj0TXmITcL",
        "outputId": "c5391688-a6e7-4430-e91c-3bcc38f7d940"
      },
      "source": [
        "df_aux.PT.value_counts()"
      ],
      "execution_count": null,
      "outputs": [
        {
          "output_type": "execute_result",
          "data": {
            "text/plain": [
              "Sem informação    520304\n",
              "X                 108003\n",
              "1                  88413\n",
              "2                  45487\n",
              "Y                  42202\n",
              "3                  37362\n",
              "IS                 14893\n",
              "4                  12999\n",
              "1C                 11326\n",
              "2C                 10775\n",
              "1A                  8289\n",
              "1B                  7106\n",
              "2B                  5445\n",
              "2A                  5267\n",
              "4A                  4658\n",
              "3A                  4179\n",
              "4B                  4100\n",
              "0                   3286\n",
              "3B                  2922\n",
              "< ...               1895\n",
              "A                   1822\n",
              "CDIS                 645\n",
              "4D                   551\n",
              "3C                   465\n",
              "1A1                  327\n",
              "1B1                  320\n",
              "1MIC                 189\n",
              "4C                   127\n",
              "1B2                  124\n",
              "CLIS                  94\n",
              "1A2                   63\n",
              "PAGET                  6\n",
              "T2                     2\n",
              "4E                     2\n",
              "T3B                    2\n",
              "T1C                    2\n",
              "AD                     1\n",
              "T3                     1\n",
              "T1B                    1\n",
              "PIS                    1\n",
              "IC                     1\n",
              "T1A                    1\n",
              "T4B                    1\n",
              "Name: PT, dtype: int64"
            ]
          },
          "metadata": {
            "tags": []
          },
          "execution_count": 26
        }
      ]
    },
    {
      "cell_type": "code",
      "metadata": {
        "colab": {
          "base_uri": "https://localhost:8080/"
        },
        "id": "ujS7xQ3xJCEx",
        "outputId": "e191f13f-9928-44d6-aeaa-887df2fff7db"
      },
      "source": [
        "df_grupo.PN.value_counts()"
      ],
      "execution_count": null,
      "outputs": [
        {
          "output_type": "execute_result",
          "data": {
            "text/plain": [
              "0                 117652\n",
              "1                   9298\n",
              "X                   5493\n",
              "2                   2707\n",
              "1A                   843\n",
              "1B                   581\n",
              "2A                   367\n",
              "3                    357\n",
              "2B                   337\n",
              "Sem informação       182\n",
              "1C                    89\n",
              "2C                    87\n",
              "3A                    80\n",
              "3B                    23\n",
              "< ...                  5\n",
              "3C                     2\n",
              "Name: PN, dtype: int64"
            ]
          },
          "metadata": {
            "tags": []
          },
          "execution_count": 27
        }
      ]
    },
    {
      "cell_type": "code",
      "metadata": {
        "colab": {
          "base_uri": "https://localhost:8080/"
        },
        "id": "GA7mYWWqJCEv",
        "outputId": "7fbfec07-09b3-4b2e-c653-2d2422c34785"
      },
      "source": [
        "df_aux.PN.value_counts()"
      ],
      "execution_count": null,
      "outputs": [
        {
          "output_type": "execute_result",
          "data": {
            "text/plain": [
              "Sem informação    524869\n",
              "0                 191548\n",
              "X                 125357\n",
              "Y                  42073\n",
              "1                  32485\n",
              "2                  12607\n",
              "3                   3517\n",
              "2A                  2076\n",
              "1A                  1918\n",
              "< ...               1910\n",
              "2B                  1865\n",
              "1B                  1565\n",
              "3A                   847\n",
              "2C                   669\n",
              "1C                   163\n",
              "3B                   115\n",
              "3C                    65\n",
              "N0                     3\n",
              "1B1                    2\n",
              "N1                     1\n",
              "N2B                    1\n",
              "1B2                    1\n",
              "N3                     1\n",
              "PN0                    1\n",
              "Name: PN, dtype: int64"
            ]
          },
          "metadata": {
            "tags": []
          },
          "execution_count": 28
        }
      ]
    },
    {
      "cell_type": "code",
      "metadata": {
        "colab": {
          "base_uri": "https://localhost:8080/"
        },
        "id": "22sF5Z6QJpL_",
        "outputId": "8c53f93e-57c7-4a2d-caf4-93d2decf4142"
      },
      "source": [
        "df_grupo.PM.value_counts()"
      ],
      "execution_count": null,
      "outputs": [
        {
          "output_type": "execute_result",
          "data": {
            "text/plain": [
              "0                 125003\n",
              "Sem informação      6691\n",
              "X                   4665\n",
              "1                   1581\n",
              "1A                   119\n",
              "1B                    28\n",
              "< .                   10\n",
              "1C                     6\n",
              "Name: PM, dtype: int64"
            ]
          },
          "metadata": {
            "tags": []
          },
          "execution_count": 29
        }
      ]
    },
    {
      "cell_type": "code",
      "metadata": {
        "colab": {
          "base_uri": "https://localhost:8080/"
        },
        "id": "7_xxKz5SJpMi",
        "outputId": "68eb17b2-3d23-47c3-d314-e7363dff9fd5"
      },
      "source": [
        "df_aux.PM.value_counts()"
      ],
      "execution_count": null,
      "outputs": [
        {
          "output_type": "execute_result",
          "data": {
            "text/plain": [
              "Sem informação    546925\n",
              "0                 214326\n",
              "X                 119640\n",
              "Y                  41928\n",
              "1                  16777\n",
              "< .                 1922\n",
              "1A                  1081\n",
              "1B                   948\n",
              "1C                   106\n",
              "M0                     6\n",
              "Name: PM, dtype: int64"
            ]
          },
          "metadata": {
            "tags": []
          },
          "execution_count": 30
        }
      ]
    },
    {
      "cell_type": "markdown",
      "metadata": {
        "id": "kEu09rUGXd6Q"
      },
      "source": [
        "*   **G**: Classificação TNM – G (Grau) (char = 5). \n",
        "\n",
        "      Domínio (exceto C40, C41, C381, C382, C383, C47, C48 e C49):\n",
        "      0; 1; 2; 3; 4; 8 – NÃO SE APLICA; 9 – X\n",
        "\n",
        "      Domínio (somente C40, C41, C381, C382, C383, C47, C48 e C49):\n",
        "      ALTO; BAIXO; 8 – NÃO SE APLICA; 9 – X"
      ]
    },
    {
      "cell_type": "code",
      "metadata": {
        "colab": {
          "base_uri": "https://localhost:8080/"
        },
        "id": "5THRTdaeJzNk",
        "outputId": "601bb442-4398-4a63-91a0-72f2dc7fb972"
      },
      "source": [
        "df_grupo.G.value_counts()"
      ],
      "execution_count": null,
      "outputs": [
        {
          "output_type": "execute_result",
          "data": {
            "text/plain": [
              "8    137743\n",
              "9       359\n",
              "4         1\n",
              "Name: G, dtype: int64"
            ]
          },
          "metadata": {
            "tags": []
          },
          "execution_count": 31
        }
      ]
    },
    {
      "cell_type": "code",
      "metadata": {
        "colab": {
          "base_uri": "https://localhost:8080/"
        },
        "id": "BuIGKMzaJzNw",
        "outputId": "a4df157a-852c-4fec-be9d-1af0efd85557"
      },
      "source": [
        "df_aux.G.value_counts()"
      ],
      "execution_count": null,
      "outputs": [
        {
          "output_type": "execute_result",
          "data": {
            "text/plain": [
              "8    903221\n",
              "9     12770\n",
              "3     10600\n",
              "2      8549\n",
              "1      4720\n",
              "4      3799\n",
              "Name: G, dtype: int64"
            ]
          },
          "metadata": {
            "tags": []
          },
          "execution_count": 32
        }
      ]
    },
    {
      "cell_type": "markdown",
      "metadata": {
        "id": "PakC3RfK5DHw"
      },
      "source": [
        "*   **LOCALTNM**: Classificação TNM - Localização (int = 1).\n",
        "      \n",
        "      1 – SUPERIOR\n",
        "      \n",
        "      2 – MEDIO\n",
        "      \n",
        "      3 – INFERIOR\n",
        "      \n",
        "      8 – NÃO SE APLICA\n",
        "      \n",
        "      9 – X\t\n"
      ]
    },
    {
      "cell_type": "code",
      "metadata": {
        "colab": {
          "base_uri": "https://localhost:8080/"
        },
        "id": "CQRjiXqnJ8JO",
        "outputId": "6a86be66-f36c-4331-94b6-8b6610492627"
      },
      "source": [
        "df_grupo.LOCALTNM.value_counts()"
      ],
      "execution_count": null,
      "outputs": [
        {
          "output_type": "execute_result",
          "data": {
            "text/plain": [
              "8    138088\n",
              "9        15\n",
              "Name: LOCALTNM, dtype: int64"
            ]
          },
          "metadata": {
            "tags": []
          },
          "execution_count": 33
        }
      ]
    },
    {
      "cell_type": "code",
      "metadata": {
        "colab": {
          "base_uri": "https://localhost:8080/"
        },
        "id": "xp_zbZv7J8JQ",
        "outputId": "1856e690-3dc8-45c1-9ec7-371296863a61"
      },
      "source": [
        "df_aux.LOCALTNM.value_counts()"
      ],
      "execution_count": null,
      "outputs": [
        {
          "output_type": "execute_result",
          "data": {
            "text/plain": [
              "8    939048\n",
              "2      2006\n",
              "9      1384\n",
              "1       625\n",
              "3       596\n",
              "Name: LOCALTNM, dtype: int64"
            ]
          },
          "metadata": {
            "tags": []
          },
          "execution_count": 34
        }
      ]
    },
    {
      "cell_type": "markdown",
      "metadata": {
        "id": "dEZ6E4mKXoaj"
      },
      "source": [
        "*   **IDMITOTIC**: Classificação TNM – Índice Mitótico (int = 1).\n",
        "      \n",
        "      1 – ALTA\n",
        "      \n",
        "      2 – BAIXA\n",
        "      \n",
        "      8 – NÃO SE APLICA\n",
        "      \n",
        "      9 – X\t"
      ]
    },
    {
      "cell_type": "code",
      "metadata": {
        "colab": {
          "base_uri": "https://localhost:8080/"
        },
        "id": "Yxc-aVplKGEm",
        "outputId": "7ea650c6-bd35-4595-dd90-c1d37486fed9"
      },
      "source": [
        "df_grupo.IDMITOTIC.value_counts()"
      ],
      "execution_count": null,
      "outputs": [
        {
          "output_type": "execute_result",
          "data": {
            "text/plain": [
              "8    137981\n",
              "2        95\n",
              "1        27\n",
              "Name: IDMITOTIC, dtype: int64"
            ]
          },
          "metadata": {
            "tags": []
          },
          "execution_count": 35
        }
      ]
    },
    {
      "cell_type": "code",
      "metadata": {
        "colab": {
          "base_uri": "https://localhost:8080/"
        },
        "id": "z1joqW4QKGEo",
        "outputId": "bb6d386a-f06b-425c-b8b0-96c7583abda6"
      },
      "source": [
        "df_aux.IDMITOTIC.value_counts()"
      ],
      "execution_count": null,
      "outputs": [
        {
          "output_type": "execute_result",
          "data": {
            "text/plain": [
              "8    943154\n",
              "2       267\n",
              "1       151\n",
              "9        87\n",
              "Name: IDMITOTIC, dtype: int64"
            ]
          },
          "metadata": {
            "tags": []
          },
          "execution_count": 36
        }
      ]
    },
    {
      "cell_type": "markdown",
      "metadata": {
        "id": "8aIlxTStXty7"
      },
      "source": [
        "*   **PSA**: Classificação TNM - PSA (int = 1).\n",
        "      \n",
        "      1 – MENOR QUE 10\n",
        "      \n",
        "      2 – MAIOR OU IGUAL A 10 E MENOR QUE 20\n",
        "      \n",
        "      3 – MAIOR OU IGUAL A 20\n",
        "      \n",
        "      8 – NÃO SE APLICA\n",
        "      \n",
        "      9 – X\t"
      ]
    },
    {
      "cell_type": "code",
      "metadata": {
        "colab": {
          "base_uri": "https://localhost:8080/"
        },
        "id": "zV6Wk0S_KQE2",
        "outputId": "f9feb41d-d6ad-4ee3-f6f4-ed419fe8f88d"
      },
      "source": [
        "df_grupo.PSA.value_counts()"
      ],
      "execution_count": null,
      "outputs": [
        {
          "output_type": "execute_result",
          "data": {
            "text/plain": [
              "8    137549\n",
              "9       549\n",
              "2         4\n",
              "1         1\n",
              "Name: PSA, dtype: int64"
            ]
          },
          "metadata": {
            "tags": []
          },
          "execution_count": 37
        }
      ]
    },
    {
      "cell_type": "code",
      "metadata": {
        "colab": {
          "base_uri": "https://localhost:8080/"
        },
        "id": "QKpSYLBbKQE4",
        "outputId": "89d663f4-0476-4ebf-d2fa-9169f0feee02"
      },
      "source": [
        "df_aux.PSA.value_counts()"
      ],
      "execution_count": null,
      "outputs": [
        {
          "output_type": "execute_result",
          "data": {
            "text/plain": [
              "8    911113\n",
              "1     17698\n",
              "2      6282\n",
              "3      5362\n",
              "9      3204\n",
              "Name: PSA, dtype: int64"
            ]
          },
          "metadata": {
            "tags": []
          },
          "execution_count": 38
        }
      ]
    },
    {
      "cell_type": "markdown",
      "metadata": {
        "id": "TNHMWK7IXw8B"
      },
      "source": [
        "*   **GLEASON**: Classificação TNM - Gleason (int = 1).\n",
        "      \n",
        "      1 – MENOR OU IGUAL A 6\n",
        "      \n",
        "      2 – IGUAL A 7\n",
        "      \n",
        "      3 – MAIOR OU IGUAL A 8\n",
        "      \n",
        "      8 – NÃO SE APLICA\n",
        "      \n",
        "      9 – X"
      ]
    },
    {
      "cell_type": "code",
      "metadata": {
        "colab": {
          "base_uri": "https://localhost:8080/"
        },
        "id": "P1f15YWSKYuz",
        "outputId": "7a0d9bcf-9f5e-459f-99cf-00e4821e526f"
      },
      "source": [
        "df_grupo.GLEASON.value_counts()"
      ],
      "execution_count": null,
      "outputs": [
        {
          "output_type": "execute_result",
          "data": {
            "text/plain": [
              "8    137549\n",
              "2       354\n",
              "3        98\n",
              "9        60\n",
              "1        42\n",
              "Name: GLEASON, dtype: int64"
            ]
          },
          "metadata": {
            "tags": []
          },
          "execution_count": 39
        }
      ]
    },
    {
      "cell_type": "code",
      "metadata": {
        "colab": {
          "base_uri": "https://localhost:8080/"
        },
        "id": "bPtTRrh8KYu0",
        "outputId": "c85b8a40-8363-4e6a-dec5-5ac812cb1091"
      },
      "source": [
        "df_aux.GLEASON.value_counts()"
      ],
      "execution_count": null,
      "outputs": [
        {
          "output_type": "execute_result",
          "data": {
            "text/plain": [
              "8    911113\n",
              "2     13794\n",
              "1     10079\n",
              "3      6282\n",
              "9      2391\n",
              "Name: GLEASON, dtype: int64"
            ]
          },
          "metadata": {
            "tags": []
          },
          "execution_count": 40
        }
      ]
    },
    {
      "cell_type": "markdown",
      "metadata": {
        "id": "RU5zwKw85IEA"
      },
      "source": [
        "*   **NAOTRAT**: Código da razão para não realização do tratamento (int = 1).\n",
        "      \n",
        "      1 – RECUSA DO TRATAMENTO\n",
        "      \n",
        "      2 – DOENÇA AVANÇADA, FALTA DE CONDIÇÕES CLINICAS\n",
        "      \n",
        "      3 – OUTRAS DOENÇAS ASSOCIADAS\n",
        "      \n",
        "      4 – ABANDONO DE TRATAMENTO\n",
        "      \n",
        "      5 – OBITO POR CANCER\n",
        "      \n",
        "      6 – OBITO POR OUTRAS CAUSAS, SOE\n",
        "      \n",
        "      7 – OUTRAS\n",
        "      \n",
        "      8 – NÃO SE APLICA (CASO TENHA TRATAMENTO)\n",
        "      \n",
        "      9 – SEM INFORMAÇÃO"
      ]
    },
    {
      "cell_type": "code",
      "metadata": {
        "colab": {
          "base_uri": "https://localhost:8080/"
        },
        "id": "UXAcKpy3K_be",
        "outputId": "33e97450-05c0-4f39-950c-7c57ca4a8986"
      },
      "source": [
        "df_grupo.NAOTRAT.value_counts()"
      ],
      "execution_count": null,
      "outputs": [
        {
          "output_type": "execute_result",
          "data": {
            "text/plain": [
              "8    137848\n",
              "7       201\n",
              "9        52\n",
              "3         1\n",
              "2         1\n",
              "Name: NAOTRAT, dtype: int64"
            ]
          },
          "metadata": {
            "tags": []
          },
          "execution_count": 41
        }
      ]
    },
    {
      "cell_type": "code",
      "metadata": {
        "colab": {
          "base_uri": "https://localhost:8080/"
        },
        "id": "9eX7gxUIK_bo",
        "outputId": "817dbbcd-7138-4744-f551-4355533df3dc"
      },
      "source": [
        "df_aux.NAOTRAT.value_counts()"
      ],
      "execution_count": null,
      "outputs": [
        {
          "output_type": "execute_result",
          "data": {
            "text/plain": [
              "8    868396\n",
              "5     30655\n",
              "7     20453\n",
              "2      9166\n",
              "9      7324\n",
              "6      2474\n",
              "3      1892\n",
              "4      1718\n",
              "1      1581\n",
              "Name: NAOTRAT, dtype: int64"
            ]
          },
          "metadata": {
            "tags": []
          },
          "execution_count": 42
        }
      ]
    },
    {
      "cell_type": "markdown",
      "metadata": {
        "id": "NaKFVkY0_pVu"
      },
      "source": [
        "*   **TRATAMENTO**: Código de combinação dos tratamentos realizados (char = 1).\n",
        "      \n",
        "      A – Cirurgia\n",
        "      \n",
        "      B – Radioterapia\n",
        "      \n",
        "      C – Quimioterapia\n",
        "      \n",
        "      D – Cirurgia + Radioterapia\n",
        "      \n",
        "      E – Cirurgia + Quimioterapia\n",
        "      \n",
        "      F – Radioterapia + Quimioterapia\n",
        "      \n",
        "      G – Cirurgia + Radio + Quimio\n",
        "      \n",
        "      H – Cirurgia + Radio + Quimio + Hormonio\n",
        "      \n",
        "      I – Outras combinações de tratamento\n",
        "      \n",
        "      J – Nenhum tratamento realizado\t\n"
      ]
    },
    {
      "cell_type": "code",
      "metadata": {
        "colab": {
          "base_uri": "https://localhost:8080/"
        },
        "id": "bhiGAG_eLO-a",
        "outputId": "eada8550-3bd5-4c17-bc16-57382511c8e8"
      },
      "source": [
        "df_grupo.TRATAMENTO.value_counts()"
      ],
      "execution_count": null,
      "outputs": [
        {
          "output_type": "execute_result",
          "data": {
            "text/plain": [
              "A    115270\n",
              "E     10103\n",
              "D      6310\n",
              "C      2163\n",
              "G      2144\n",
              "B      1297\n",
              "I       402\n",
              "J       214\n",
              "F       200\n",
              "Name: TRATAMENTO, dtype: int64"
            ]
          },
          "metadata": {
            "tags": []
          },
          "execution_count": 43
        }
      ]
    },
    {
      "cell_type": "code",
      "metadata": {
        "colab": {
          "base_uri": "https://localhost:8080/"
        },
        "id": "MDRYelh4LO-c",
        "outputId": "c9a9e32f-bcf6-4907-b267-124a2cf8241d"
      },
      "source": [
        "df_aux.TRATAMENTO.value_counts()"
      ],
      "execution_count": null,
      "outputs": [
        {
          "output_type": "execute_result",
          "data": {
            "text/plain": [
              "A    348265\n",
              "I    152381\n",
              "C     91449\n",
              "J     74664\n",
              "F     61147\n",
              "E     59374\n",
              "G     47249\n",
              "B     46128\n",
              "D     36372\n",
              "H     26630\n",
              "Name: TRATAMENTO, dtype: int64"
            ]
          },
          "metadata": {
            "tags": []
          },
          "execution_count": 44
        }
      ]
    },
    {
      "cell_type": "markdown",
      "metadata": {
        "id": "oz71TZy2YB_g"
      },
      "source": [
        "*   **TRATHOSP**: Código de combinação dos tratamentos realizados no hospital (char = 1).\n",
        "      \n",
        "      A – Cirurgia\n",
        "      \n",
        "      B – Radioterapia\n",
        "      \n",
        "      C – Quimioterapia\n",
        "      \n",
        "      D – Cirurgia + Radioterapia\n",
        "      \n",
        "      E – Cirurgia + Quimioterapia\n",
        "      \n",
        "      F – Radioterapia + Quimioterapia\n",
        "      \n",
        "      G – Cirurgia + Radio + Quimio\n",
        "      \n",
        "      H – Cirurgia + Radio + Quimio + Hormonio\n",
        "      \n",
        "      I – Outras combinações de tratamento\n",
        "\n",
        "      J – Nenhum tratamento realizado\n"
      ]
    },
    {
      "cell_type": "code",
      "metadata": {
        "colab": {
          "base_uri": "https://localhost:8080/"
        },
        "id": "m77Tkg_MLXIG",
        "outputId": "1b14d82e-ea47-45c4-d6ea-4e5e71f97001"
      },
      "source": [
        "df_grupo.TRATHOSP.value_counts()"
      ],
      "execution_count": null,
      "outputs": [
        {
          "output_type": "execute_result",
          "data": {
            "text/plain": [
              "A    115359\n",
              "E     10103\n",
              "D      6310\n",
              "C      2163\n",
              "G      2144\n",
              "B      1297\n",
              "I       313\n",
              "J       214\n",
              "F       200\n",
              "Name: TRATHOSP, dtype: int64"
            ]
          },
          "metadata": {
            "tags": []
          },
          "execution_count": 45
        }
      ]
    },
    {
      "cell_type": "code",
      "metadata": {
        "colab": {
          "base_uri": "https://localhost:8080/"
        },
        "id": "bLiPP0fqLXIJ",
        "outputId": "73b5851b-69cc-4a4a-d652-c18521cdc8a7"
      },
      "source": [
        "df_aux.TRATHOSP.value_counts()"
      ],
      "execution_count": null,
      "outputs": [
        {
          "output_type": "execute_result",
          "data": {
            "text/plain": [
              "A    355515\n",
              "I    151134\n",
              "C     97661\n",
              "J     78680\n",
              "E     61222\n",
              "F     56380\n",
              "B     44720\n",
              "G     42325\n",
              "D     33016\n",
              "H     23006\n",
              "Name: TRATHOSP, dtype: int64"
            ]
          },
          "metadata": {
            "tags": []
          },
          "execution_count": 46
        }
      ]
    },
    {
      "cell_type": "markdown",
      "metadata": {
        "id": "IOqr7BwUYGLE"
      },
      "source": [
        "*   **TRATFAPOS**: Código de combinação dos tratamentos realizados após admissão fora do hospital (char = 1).\n",
        "      \n",
        "      A – Cirurgia\n",
        "      \n",
        "      B – Radioterapia\n",
        "      \n",
        "      C – Quimioterapia\n",
        "      \n",
        "      D – Cirurgia + Radioterapia\n",
        "      \n",
        "      E – Cirurgia + Quimioterapia\n",
        "      \n",
        "      F – Radioterapia + Quimioterapia\n",
        "      \n",
        "      G – Cirurgia + Radio + Quimio\n",
        "      \n",
        "      H – Cirurgia + Radio + Quimio + Hormonio\n",
        "      \n",
        "      I – Outras combinações de tratamento\n",
        "      \n",
        "      J – Nenhum tratamento realizado\n",
        "      \n",
        "      K – Sem informação\n"
      ]
    },
    {
      "cell_type": "code",
      "metadata": {
        "colab": {
          "base_uri": "https://localhost:8080/"
        },
        "id": "2L6yn9KWLk_O",
        "outputId": "10b393b2-d744-453e-aaba-aa340a3e786b"
      },
      "source": [
        "df_grupo.TRATFAPOS.value_counts()"
      ],
      "execution_count": null,
      "outputs": [
        {
          "output_type": "execute_result",
          "data": {
            "text/plain": [
              "J    138014\n",
              "I        89\n",
              "Name: TRATFAPOS, dtype: int64"
            ]
          },
          "metadata": {
            "tags": []
          },
          "execution_count": 47
        }
      ]
    },
    {
      "cell_type": "code",
      "metadata": {
        "colab": {
          "base_uri": "https://localhost:8080/"
        },
        "id": "Ybei_t5PLk_P",
        "outputId": "df643d48-0481-4fc0-8a3b-21ef4a6dc8e1"
      },
      "source": [
        "df_aux.TRATFAPOS.value_counts()"
      ],
      "execution_count": null,
      "outputs": [
        {
          "output_type": "execute_result",
          "data": {
            "text/plain": [
              "J    900529\n",
              "B     24186\n",
              "I      8708\n",
              "C      4887\n",
              "A      2773\n",
              "F      1611\n",
              "D       379\n",
              "E       353\n",
              "G       174\n",
              "H        59\n",
              "Name: TRATFAPOS, dtype: int64"
            ]
          },
          "metadata": {
            "tags": []
          },
          "execution_count": 48
        }
      ]
    },
    {
      "cell_type": "markdown",
      "metadata": {
        "id": "R4QaNBzfEK3o"
      },
      "source": [
        "*   **NENHUM**: Tratamento recebido no hospital = nenhum (int = 1). 0 – NÃO; 1 – SIM\n",
        "*   **CIRURGIA**: Tratamento recebido no hospital = cirurgia (int = 1). 0 – NÃO; 1 – SIM\n",
        "*   **RADIO**: Tratamento recebido no hospital = radioterapia (int = 1). 0 – NÃO; 1 – SIM\n",
        "*   **QUIMIO**: Tratamento recebido no hospital = quimioterapia (int = 1). 0 – NÃO; 1 – SIM\n",
        "*   **HORMONIO**: Tratamento recebido no hospital = hormonioterapia (int = 1). 0 – NÃO; 1 – SIM\n",
        "*   **TMO**: Tratamento recebido no hospital = tmo (int = 1). 0 – NÃO; 1 – SIM\n",
        "*   **IMUNO**: Tratamento recebido no hospital = imunoterapia (int = 1). 0 – NÃO; 1 – SIM\n",
        "*   **OUTROS**: Tratamento recebido no hospital = outros (int = 1). 0 – NÃO; 1 – SIM"
      ]
    },
    {
      "cell_type": "code",
      "metadata": {
        "colab": {
          "base_uri": "https://localhost:8080/"
        },
        "id": "-UpvDZxUL13N",
        "outputId": "bcf5c0f5-e866-4bd4-c572-050a07fe12cc"
      },
      "source": [
        "df_grupo.NENHUM.value_counts()"
      ],
      "execution_count": null,
      "outputs": [
        {
          "output_type": "execute_result",
          "data": {
            "text/plain": [
              "0    137893\n",
              "1       210\n",
              "Name: NENHUM, dtype: int64"
            ]
          },
          "metadata": {
            "tags": []
          },
          "execution_count": 49
        }
      ]
    },
    {
      "cell_type": "code",
      "metadata": {
        "colab": {
          "base_uri": "https://localhost:8080/"
        },
        "id": "CYTN15yzL13P",
        "outputId": "c36c6a6a-01ac-4675-efe5-8f7347c03992"
      },
      "source": [
        "df_aux.NENHUM.value_counts()"
      ],
      "execution_count": null,
      "outputs": [
        {
          "output_type": "execute_result",
          "data": {
            "text/plain": [
              "0    865018\n",
              "1     78641\n",
              "Name: NENHUM, dtype: int64"
            ]
          },
          "metadata": {
            "tags": []
          },
          "execution_count": 50
        }
      ]
    },
    {
      "cell_type": "code",
      "metadata": {
        "colab": {
          "base_uri": "https://localhost:8080/"
        },
        "id": "xdWFEJKXL-xy",
        "outputId": "a51824a2-67b5-4b8e-db87-7eb542fc4937"
      },
      "source": [
        "df_grupo.CIRURGIA.value_counts()"
      ],
      "execution_count": null,
      "outputs": [
        {
          "output_type": "execute_result",
          "data": {
            "text/plain": [
              "1    134215\n",
              "0      3888\n",
              "Name: CIRURGIA, dtype: int64"
            ]
          },
          "metadata": {
            "tags": []
          },
          "execution_count": 51
        }
      ]
    },
    {
      "cell_type": "code",
      "metadata": {
        "colab": {
          "base_uri": "https://localhost:8080/"
        },
        "id": "XZ8qzmOLL-x0",
        "outputId": "a3aee4ec-dbbb-4b12-957d-4ef7954112b5"
      },
      "source": [
        "df_aux.CIRURGIA.value_counts()"
      ],
      "execution_count": null,
      "outputs": [
        {
          "output_type": "execute_result",
          "data": {
            "text/plain": [
              "1    588858\n",
              "0    354801\n",
              "Name: CIRURGIA, dtype: int64"
            ]
          },
          "metadata": {
            "tags": []
          },
          "execution_count": 52
        }
      ]
    },
    {
      "cell_type": "code",
      "metadata": {
        "colab": {
          "base_uri": "https://localhost:8080/"
        },
        "id": "GmpwxQDpMIQz",
        "outputId": "66f0bc99-db53-4e57-d275-402d12cc7a77"
      },
      "source": [
        "df_grupo.RADIO.value_counts()"
      ],
      "execution_count": null,
      "outputs": [
        {
          "output_type": "execute_result",
          "data": {
            "text/plain": [
              "0    128150\n",
              "1      9953\n",
              "Name: RADIO, dtype: int64"
            ]
          },
          "metadata": {
            "tags": []
          },
          "execution_count": 53
        }
      ]
    },
    {
      "cell_type": "code",
      "metadata": {
        "colab": {
          "base_uri": "https://localhost:8080/"
        },
        "id": "KNYTH5VnMIQ1",
        "outputId": "1d3ac7cb-a967-44e0-9b67-b599871c0ca3"
      },
      "source": [
        "df_aux.RADIO.value_counts()"
      ],
      "execution_count": null,
      "outputs": [
        {
          "output_type": "execute_result",
          "data": {
            "text/plain": [
              "0    698252\n",
              "1    245407\n",
              "Name: RADIO, dtype: int64"
            ]
          },
          "metadata": {
            "tags": []
          },
          "execution_count": 54
        }
      ]
    },
    {
      "cell_type": "code",
      "metadata": {
        "colab": {
          "base_uri": "https://localhost:8080/"
        },
        "id": "VaBw-IefMQQs",
        "outputId": "a6068d77-dbaf-4604-b34f-0d93640083b5"
      },
      "source": [
        "df_grupo.QUIMIO.value_counts()"
      ],
      "execution_count": null,
      "outputs": [
        {
          "output_type": "execute_result",
          "data": {
            "text/plain": [
              "0    123491\n",
              "1     14612\n",
              "Name: QUIMIO, dtype: int64"
            ]
          },
          "metadata": {
            "tags": []
          },
          "execution_count": 55
        }
      ]
    },
    {
      "cell_type": "code",
      "metadata": {
        "colab": {
          "base_uri": "https://localhost:8080/"
        },
        "id": "O8ZnJZ6wMQQu",
        "outputId": "fd1a401e-34a2-4357-8488-737ba1c0cbe0"
      },
      "source": [
        "df_aux.QUIMIO.value_counts()"
      ],
      "execution_count": null,
      "outputs": [
        {
          "output_type": "execute_result",
          "data": {
            "text/plain": [
              "0    613077\n",
              "1    330582\n",
              "Name: QUIMIO, dtype: int64"
            ]
          },
          "metadata": {
            "tags": []
          },
          "execution_count": 56
        }
      ]
    },
    {
      "cell_type": "code",
      "metadata": {
        "colab": {
          "base_uri": "https://localhost:8080/"
        },
        "id": "wZJfTD4BMX00",
        "outputId": "25fc58b5-6307-4a52-b2a3-c2ac840756f2"
      },
      "source": [
        "df_grupo.HORMONIO.value_counts()"
      ],
      "execution_count": null,
      "outputs": [
        {
          "output_type": "execute_result",
          "data": {
            "text/plain": [
              "0    138089\n",
              "1        14\n",
              "Name: HORMONIO, dtype: int64"
            ]
          },
          "metadata": {
            "tags": []
          },
          "execution_count": 57
        }
      ]
    },
    {
      "cell_type": "code",
      "metadata": {
        "colab": {
          "base_uri": "https://localhost:8080/"
        },
        "id": "_YCB0dRBMX02",
        "outputId": "4280d3c0-2334-45e6-d5c5-54ca0851f126"
      },
      "source": [
        "df_aux.HORMONIO.value_counts()"
      ],
      "execution_count": null,
      "outputs": [
        {
          "output_type": "execute_result",
          "data": {
            "text/plain": [
              "0    828493\n",
              "1    115166\n",
              "Name: HORMONIO, dtype: int64"
            ]
          },
          "metadata": {
            "tags": []
          },
          "execution_count": 58
        }
      ]
    },
    {
      "cell_type": "code",
      "metadata": {
        "colab": {
          "base_uri": "https://localhost:8080/"
        },
        "id": "VVxT46W0MrqU",
        "outputId": "72a3a6cd-0598-4976-d33a-98abbf2c3208"
      },
      "source": [
        "df_grupo.TMO.value_counts()"
      ],
      "execution_count": null,
      "outputs": [
        {
          "output_type": "execute_result",
          "data": {
            "text/plain": [
              "0    138099\n",
              "1         4\n",
              "Name: TMO, dtype: int64"
            ]
          },
          "metadata": {
            "tags": []
          },
          "execution_count": 59
        }
      ]
    },
    {
      "cell_type": "code",
      "metadata": {
        "colab": {
          "base_uri": "https://localhost:8080/"
        },
        "id": "srvpjK6UMrqW",
        "outputId": "40ce7b67-3cbe-49cd-9c74-91fc1c549e48"
      },
      "source": [
        "df_aux.TMO.value_counts()"
      ],
      "execution_count": null,
      "outputs": [
        {
          "output_type": "execute_result",
          "data": {
            "text/plain": [
              "0    939989\n",
              "1      3670\n",
              "Name: TMO, dtype: int64"
            ]
          },
          "metadata": {
            "tags": []
          },
          "execution_count": 60
        }
      ]
    },
    {
      "cell_type": "code",
      "metadata": {
        "colab": {
          "base_uri": "https://localhost:8080/"
        },
        "id": "HgQHa7BBM9DG",
        "outputId": "c601ecd0-a4f3-41b9-b0a3-dfa2c1966788"
      },
      "source": [
        "df_grupo.IMUNO.value_counts()"
      ],
      "execution_count": null,
      "outputs": [
        {
          "output_type": "execute_result",
          "data": {
            "text/plain": [
              "0    137808\n",
              "1       295\n",
              "Name: IMUNO, dtype: int64"
            ]
          },
          "metadata": {
            "tags": []
          },
          "execution_count": 61
        }
      ]
    },
    {
      "cell_type": "code",
      "metadata": {
        "colab": {
          "base_uri": "https://localhost:8080/"
        },
        "id": "X8RKdJHcM9DT",
        "outputId": "ef308ed1-e6fc-43ae-8baa-b3fa161233da"
      },
      "source": [
        "df_aux.IMUNO.value_counts()"
      ],
      "execution_count": null,
      "outputs": [
        {
          "output_type": "execute_result",
          "data": {
            "text/plain": [
              "0    937380\n",
              "1      6279\n",
              "Name: IMUNO, dtype: int64"
            ]
          },
          "metadata": {
            "tags": []
          },
          "execution_count": 62
        }
      ]
    },
    {
      "cell_type": "code",
      "metadata": {
        "colab": {
          "base_uri": "https://localhost:8080/"
        },
        "id": "d764shoGNEuu",
        "outputId": "303878fd-2999-4758-d6cc-a1dbe45d2fe8"
      },
      "source": [
        "df_grupo.OUTROS.value_counts()"
      ],
      "execution_count": null,
      "outputs": [
        {
          "output_type": "execute_result",
          "data": {
            "text/plain": [
              "0    138103\n",
              "Name: OUTROS, dtype: int64"
            ]
          },
          "metadata": {
            "tags": []
          },
          "execution_count": 63
        }
      ]
    },
    {
      "cell_type": "code",
      "metadata": {
        "colab": {
          "base_uri": "https://localhost:8080/"
        },
        "id": "-0N7LD6LNEuw",
        "outputId": "a77a6c10-c269-4dc4-a265-015f40f48ea9"
      },
      "source": [
        "df_aux.OUTROS.value_counts()"
      ],
      "execution_count": null,
      "outputs": [
        {
          "output_type": "execute_result",
          "data": {
            "text/plain": [
              "0    883832\n",
              "1     59827\n",
              "Name: OUTROS, dtype: int64"
            ]
          },
          "metadata": {
            "tags": []
          },
          "execution_count": 64
        }
      ]
    },
    {
      "cell_type": "markdown",
      "metadata": {
        "id": "OQ4Cyp0S7dLC"
      },
      "source": [
        "*   **NENHUMAPOS**: Tratamento recebido fora do hospital e durante/após admissão = nenhum\t(int = 1). 0 – NÃO; 1 – SIM\t\t\n",
        "*   **HORMOAPOS**: Tratamento recebido fora do hospital e durante/após admissão = hormonioterapia\t(int = 1). 0 – NÃO; 1 – SIM\t\t\n",
        "*   **TMOAPOS**: Tratamento recebido fora do hospital e durante/após admissão = tmo\t(int = 1). 0 – NÃO; 1 – SIM\t\t\n",
        "*   **IMUNOAPOS**: Tratamento recebido fora do hospital e durante/após admissão = imunoterapia\t(int = 1). 0 – NÃO; 1 – SIM\t"
      ]
    },
    {
      "cell_type": "code",
      "metadata": {
        "colab": {
          "base_uri": "https://localhost:8080/"
        },
        "id": "pWIz67z3NY-e",
        "outputId": "4f535c09-43ed-4b3f-9f6a-5f7d7b74d38a"
      },
      "source": [
        "df_grupo.NENHUMAPOS.value_counts()"
      ],
      "execution_count": null,
      "outputs": [
        {
          "output_type": "execute_result",
          "data": {
            "text/plain": [
              "1    136586\n",
              "0      1517\n",
              "Name: NENHUMAPOS, dtype: int64"
            ]
          },
          "metadata": {
            "tags": []
          },
          "execution_count": 65
        }
      ]
    },
    {
      "cell_type": "code",
      "metadata": {
        "colab": {
          "base_uri": "https://localhost:8080/"
        },
        "id": "UNQNBhm6NY-g",
        "outputId": "a1fb5acd-a703-4c35-f398-c08fb1694af3"
      },
      "source": [
        "df_aux.NENHUMAPOS.value_counts()"
      ],
      "execution_count": null,
      "outputs": [
        {
          "output_type": "execute_result",
          "data": {
            "text/plain": [
              "1    889063\n",
              "0     54596\n",
              "Name: NENHUMAPOS, dtype: int64"
            ]
          },
          "metadata": {
            "tags": []
          },
          "execution_count": 66
        }
      ]
    },
    {
      "cell_type": "code",
      "metadata": {
        "colab": {
          "base_uri": "https://localhost:8080/"
        },
        "id": "bvJmvDghNprL",
        "outputId": "cf2186a3-48fb-4964-e46c-3098fafa3d41"
      },
      "source": [
        "df_grupo.HORMOAPOS.value_counts()"
      ],
      "execution_count": null,
      "outputs": [
        {
          "output_type": "execute_result",
          "data": {
            "text/plain": [
              "0    138027\n",
              "1        76\n",
              "Name: HORMOAPOS, dtype: int64"
            ]
          },
          "metadata": {
            "tags": []
          },
          "execution_count": 67
        }
      ]
    },
    {
      "cell_type": "code",
      "metadata": {
        "colab": {
          "base_uri": "https://localhost:8080/"
        },
        "id": "YEAwTOb7NprN",
        "outputId": "d6270af5-7582-43fe-d261-e271d9611b0d"
      },
      "source": [
        "df_aux.HORMOAPOS.value_counts()"
      ],
      "execution_count": null,
      "outputs": [
        {
          "output_type": "execute_result",
          "data": {
            "text/plain": [
              "0    941470\n",
              "1      2189\n",
              "Name: HORMOAPOS, dtype: int64"
            ]
          },
          "metadata": {
            "tags": []
          },
          "execution_count": 68
        }
      ]
    },
    {
      "cell_type": "code",
      "metadata": {
        "colab": {
          "base_uri": "https://localhost:8080/"
        },
        "id": "aitFAGz9N3uo",
        "outputId": "9fabef78-afa0-4ca2-ea3d-affbb262e604"
      },
      "source": [
        "df_grupo.TMOAPOS.value_counts()"
      ],
      "execution_count": null,
      "outputs": [
        {
          "output_type": "execute_result",
          "data": {
            "text/plain": [
              "0    138101\n",
              "1         2\n",
              "Name: TMOAPOS, dtype: int64"
            ]
          },
          "metadata": {
            "tags": []
          },
          "execution_count": 69
        }
      ]
    },
    {
      "cell_type": "code",
      "metadata": {
        "colab": {
          "base_uri": "https://localhost:8080/"
        },
        "id": "YhKlMNKBN3uq",
        "outputId": "6df8c48f-99b3-491f-8782-f22a62e540c6"
      },
      "source": [
        "df_aux.TMOAPOS.value_counts()"
      ],
      "execution_count": null,
      "outputs": [
        {
          "output_type": "execute_result",
          "data": {
            "text/plain": [
              "0    943421\n",
              "1       238\n",
              "Name: TMOAPOS, dtype: int64"
            ]
          },
          "metadata": {
            "tags": []
          },
          "execution_count": 70
        }
      ]
    },
    {
      "cell_type": "code",
      "metadata": {
        "colab": {
          "base_uri": "https://localhost:8080/"
        },
        "id": "xZkd_CsfOGEL",
        "outputId": "c1909502-f34a-4641-cf4d-0f27fccd9532"
      },
      "source": [
        "df_grupo.IMUNOAPOS.value_counts()"
      ],
      "execution_count": null,
      "outputs": [
        {
          "output_type": "execute_result",
          "data": {
            "text/plain": [
              "0    138092\n",
              "1        11\n",
              "Name: IMUNOAPOS, dtype: int64"
            ]
          },
          "metadata": {
            "tags": []
          },
          "execution_count": 71
        }
      ]
    },
    {
      "cell_type": "code",
      "metadata": {
        "colab": {
          "base_uri": "https://localhost:8080/"
        },
        "id": "XStpw_2lOGEN",
        "outputId": "a21b2b2b-19cf-4be1-adf0-9ef156e16159"
      },
      "source": [
        "df_aux.IMUNOAPOS.value_counts()"
      ],
      "execution_count": null,
      "outputs": [
        {
          "output_type": "execute_result",
          "data": {
            "text/plain": [
              "0    943516\n",
              "1       143\n",
              "Name: IMUNOAPOS, dtype: int64"
            ]
          },
          "metadata": {
            "tags": []
          },
          "execution_count": 72
        }
      ]
    },
    {
      "cell_type": "markdown",
      "metadata": {
        "id": "iz1wkxe65TcW"
      },
      "source": [
        "*   **ULTINFO**: Última informação sobre o paciente (int = 1).\n",
        "      \n",
        "      1 – VIVO, COM CÂNCER\n",
        "      \n",
        "      2 – VIVO, SOE\n",
        "      \n",
        "      3 – OBITO POR CANCER\n",
        "      \n",
        "      4 – OBITO POR OUTRAS CAUSAS, SOE"
      ]
    },
    {
      "cell_type": "code",
      "metadata": {
        "colab": {
          "base_uri": "https://localhost:8080/"
        },
        "id": "du5mkxzDOPQt",
        "outputId": "744ea7e9-9b6c-4a9e-f1f5-7edab09a7175"
      },
      "source": [
        "df_grupo.ULTINFO.value_counts()"
      ],
      "execution_count": null,
      "outputs": [
        {
          "output_type": "execute_result",
          "data": {
            "text/plain": [
              "2    91788\n",
              "4    25994\n",
              "3    11864\n",
              "1     8457\n",
              "Name: ULTINFO, dtype: int64"
            ]
          },
          "metadata": {
            "tags": []
          },
          "execution_count": 73
        }
      ]
    },
    {
      "cell_type": "code",
      "metadata": {
        "colab": {
          "base_uri": "https://localhost:8080/"
        },
        "id": "qE4kk9IgOPQv",
        "outputId": "91d1f11e-8ebf-4635-f5c2-eb58000c9cec"
      },
      "source": [
        "df_aux.ULTINFO.value_counts()"
      ],
      "execution_count": null,
      "outputs": [
        {
          "output_type": "execute_result",
          "data": {
            "text/plain": [
              "2    435227\n",
              "3    275158\n",
              "4    123266\n",
              "1    110008\n",
              "Name: ULTINFO, dtype: int64"
            ]
          },
          "metadata": {
            "tags": []
          },
          "execution_count": 74
        }
      ]
    },
    {
      "cell_type": "markdown",
      "metadata": {
        "id": "OZ0neJDsY-fu"
      },
      "source": [
        "*   **CICI**: Tumor infantil (char = 5)."
      ]
    },
    {
      "cell_type": "code",
      "metadata": {
        "colab": {
          "base_uri": "https://localhost:8080/"
        },
        "id": "SozcwHqdOpdU",
        "outputId": "677191a4-1c61-4d27-c048-486053c6b49b"
      },
      "source": [
        "df_grupo.CICI.value_counts()"
      ],
      "execution_count": null,
      "outputs": [
        {
          "output_type": "execute_result",
          "data": {
            "text/plain": [
              "Sem informação    137873\n",
              "XIE                   62\n",
              "VIIIA                 35\n",
              "XIF                   33\n",
              "XC                    26\n",
              "VIIIC                 20\n",
              "VIIIB                  9\n",
              "IXA                    8\n",
              "XIB                    7\n",
              "IXE                    6\n",
              "IXD                    6\n",
              "XID                    5\n",
              "IXB                    4\n",
              "VIIB                   3\n",
              "VIB                    3\n",
              "XIIA                   2\n",
              "XIC                    1\n",
              "Name: CICI, dtype: int64"
            ]
          },
          "metadata": {
            "tags": []
          },
          "execution_count": 75
        }
      ]
    },
    {
      "cell_type": "code",
      "metadata": {
        "colab": {
          "base_uri": "https://localhost:8080/"
        },
        "id": "9S2LuiUfOpdW",
        "outputId": "fdc78487-ffff-49d2-e603-c44f11a6a4bb"
      },
      "source": [
        "df_aux.CICI.value_counts()"
      ],
      "execution_count": null,
      "outputs": [
        {
          "output_type": "execute_result",
          "data": {
            "text/plain": [
              "Sem informação    918111\n",
              "IA                  4468\n",
              "IIA                 1919\n",
              "IB                  1612\n",
              "VIIIA               1239\n",
              "IIB                 1237\n",
              "IIIB                1216\n",
              "IVA                 1108\n",
              "VIA                 1081\n",
              "VA                  1056\n",
              "XIF                  885\n",
              "IIIC                 792\n",
              "IXA                  755\n",
              "XC                   753\n",
              "IIC                  655\n",
              "VIIIC                631\n",
              "XIB                  533\n",
              "IXD                  532\n",
              "IIID                 491\n",
              "IIIA                 391\n",
              "IIIE                 354\n",
              "IXB                  322\n",
              "XIE                  294\n",
              "XB                   283\n",
              "IE                   257\n",
              "IC                   249\n",
              "ID                   236\n",
              "XIC                  214\n",
              "VIIA                 204\n",
              "XIA                  203\n",
              "IXE                  195\n",
              "XA                   191\n",
              "XID                  137\n",
              "IID                  112\n",
              "IIE                  101\n",
              "XIIB                  98\n",
              "IIIF                  96\n",
              "VIB                   89\n",
              "XE                    88\n",
              "VIIIB                 87\n",
              "VIIB                  84\n",
              "VIIID                 81\n",
              "XD                    65\n",
              "IVB                   51\n",
              "XIIA                  44\n",
              "VIIIE                 42\n",
              "VIC                    9\n",
              "VIIC                   6\n",
              "IXC                    2\n",
              "Name: CICI, dtype: int64"
            ]
          },
          "metadata": {
            "tags": []
          },
          "execution_count": 76
        }
      ]
    },
    {
      "cell_type": "markdown",
      "metadata": {
        "id": "LbSFRcfXZEfy"
      },
      "source": [
        "*   **CICIGRUP**: Tumor infantil – Grupo (char = 80)."
      ]
    },
    {
      "cell_type": "code",
      "metadata": {
        "colab": {
          "base_uri": "https://localhost:8080/"
        },
        "id": "9q2OBOGeOzgS",
        "outputId": "b483e003-d692-40a4-ef15-67add7cca1a5"
      },
      "source": [
        "df_grupo.CICIGRUP.value_counts()"
      ],
      "execution_count": null,
      "outputs": [
        {
          "output_type": "execute_result",
          "data": {
            "text/plain": [
              "Sem informação    137873\n",
              "XI                   108\n",
              "VIII                  64\n",
              "X                     26\n",
              "IX                    24\n",
              "VII                    3\n",
              "VI                     3\n",
              "XII                    2\n",
              "Name: CICIGRUP, dtype: int64"
            ]
          },
          "metadata": {
            "tags": []
          },
          "execution_count": 77
        }
      ]
    },
    {
      "cell_type": "code",
      "metadata": {
        "colab": {
          "base_uri": "https://localhost:8080/"
        },
        "id": "5MvetuRoOzgU",
        "outputId": "14cc6769-c341-4e41-c6aa-efe5fcbc0f7a"
      },
      "source": [
        "df_aux.CICIGRUP.value_counts()"
      ],
      "execution_count": null,
      "outputs": [
        {
          "output_type": "execute_result",
          "data": {
            "text/plain": [
              "Sem informação    918111\n",
              "I                   6822\n",
              "II                  4024\n",
              "III                 3340\n",
              "XI                  2266\n",
              "VIII                2080\n",
              "IX                  1806\n",
              "X                   1380\n",
              "VI                  1179\n",
              "IV                  1159\n",
              "V                   1056\n",
              "VII                  294\n",
              "XII                  142\n",
              "Name: CICIGRUP, dtype: int64"
            ]
          },
          "metadata": {
            "tags": []
          },
          "execution_count": 78
        }
      ]
    },
    {
      "cell_type": "markdown",
      "metadata": {
        "id": "Qui0I_1B-13v"
      },
      "source": [
        "*   **FAIXAETAR**: Faixa etária do paciente (char = 5).\n",
        "\n",
        "      00-09 \n",
        "\n",
        "      10-19\n",
        "\n",
        "      20-29\n",
        "\n",
        "      30-39\n",
        "\n",
        "      40-49\n",
        "\n",
        "      50-59\n",
        "\n",
        "      60-69\n",
        "\n",
        "      70+"
      ]
    },
    {
      "cell_type": "code",
      "metadata": {
        "colab": {
          "base_uri": "https://localhost:8080/"
        },
        "id": "yYdO2sJ9O-4i",
        "outputId": "8f7aaa3f-477a-443b-c5dd-ded3dcdf2432"
      },
      "source": [
        "df_grupo.FAIXAETAR.value_counts()"
      ],
      "execution_count": null,
      "outputs": [
        {
          "output_type": "execute_result",
          "data": {
            "text/plain": [
              "70+      55954\n",
              "60-69    36665\n",
              "50-59    25982\n",
              "40-49    12825\n",
              "30-39     5016\n",
              "20-29     1431\n",
              "10-19      194\n",
              "00-09       36\n",
              "Name: FAIXAETAR, dtype: int64"
            ]
          },
          "metadata": {
            "tags": []
          },
          "execution_count": 79
        }
      ]
    },
    {
      "cell_type": "code",
      "metadata": {
        "colab": {
          "base_uri": "https://localhost:8080/"
        },
        "id": "IMy6Qji0O-4j",
        "outputId": "9ec8ab46-0c11-49d7-e46b-95a8628abac1"
      },
      "source": [
        "df_aux.FAIXAETAR.value_counts()"
      ],
      "execution_count": null,
      "outputs": [
        {
          "output_type": "execute_result",
          "data": {
            "text/plain": [
              "70+      287862\n",
              "60-69    241092\n",
              "50-59    196325\n",
              "40-49    113183\n",
              "30-39     54412\n",
              "20-29     25002\n",
              "00-09     13446\n",
              "10-19     12337\n",
              "Name: FAIXAETAR, dtype: int64"
            ]
          },
          "metadata": {
            "tags": []
          },
          "execution_count": 80
        }
      ]
    },
    {
      "cell_type": "markdown",
      "metadata": {
        "id": "5ydKa0HkZWmQ"
      },
      "source": [
        "*   **RECNENHUM**: Sem recidiva (int = 1). 0 - Não; 1 - Sim\t\n",
        "*   **RECREGIO**: Recidiva regional (int = 1). 0 - Não; 1 - Sim\t\n",
        "*   **RECDIST**: Recidiva a distância / metástase (int = 1). 0 - Não; 1 - Sim"
      ]
    },
    {
      "cell_type": "code",
      "metadata": {
        "colab": {
          "base_uri": "https://localhost:8080/"
        },
        "id": "kXd2s9ozPs1j",
        "outputId": "fcdc7dc2-071a-4b44-8cc7-3d186269bfd4"
      },
      "source": [
        "df_grupo.RECNENHUM.value_counts()"
      ],
      "execution_count": null,
      "outputs": [
        {
          "output_type": "execute_result",
          "data": {
            "text/plain": [
              "1    137977\n",
              "0       126\n",
              "Name: RECNENHUM, dtype: int64"
            ]
          },
          "metadata": {
            "tags": []
          },
          "execution_count": 81
        }
      ]
    },
    {
      "cell_type": "code",
      "metadata": {
        "colab": {
          "base_uri": "https://localhost:8080/"
        },
        "id": "xtZLyQ5TPs1s",
        "outputId": "d614dc23-3e3e-41ac-a3a1-26ae8310ed80"
      },
      "source": [
        "df_aux.RECNENHUM.value_counts()"
      ],
      "execution_count": null,
      "outputs": [
        {
          "output_type": "execute_result",
          "data": {
            "text/plain": [
              "1    865619\n",
              "0     78040\n",
              "Name: RECNENHUM, dtype: int64"
            ]
          },
          "metadata": {
            "tags": []
          },
          "execution_count": 82
        }
      ]
    },
    {
      "cell_type": "code",
      "metadata": {
        "colab": {
          "base_uri": "https://localhost:8080/"
        },
        "id": "Hpuv3dmgZgG1",
        "outputId": "b99dd6b3-208d-4f09-c83b-42a911376b19"
      },
      "source": [
        "df_grupo.RECLOCAL.value_counts()"
      ],
      "execution_count": null,
      "outputs": [
        {
          "output_type": "execute_result",
          "data": {
            "text/plain": [
              "0    138103\n",
              "Name: RECLOCAL, dtype: int64"
            ]
          },
          "metadata": {
            "tags": []
          },
          "execution_count": 83
        }
      ]
    },
    {
      "cell_type": "code",
      "metadata": {
        "colab": {
          "base_uri": "https://localhost:8080/"
        },
        "id": "_zqsoukbZkxP",
        "outputId": "acc3b463-98dd-494b-80af-4ea8f6043425"
      },
      "source": [
        "df_aux.RECLOCAL.value_counts()"
      ],
      "execution_count": null,
      "outputs": [
        {
          "output_type": "execute_result",
          "data": {
            "text/plain": [
              "0    905605\n",
              "1     38054\n",
              "Name: RECLOCAL, dtype: int64"
            ]
          },
          "metadata": {
            "tags": []
          },
          "execution_count": 84
        }
      ]
    },
    {
      "cell_type": "code",
      "metadata": {
        "colab": {
          "base_uri": "https://localhost:8080/"
        },
        "id": "KAR6PPQyP045",
        "outputId": "0a2b74ca-718d-4f3e-8566-fa7597faa231"
      },
      "source": [
        "df_grupo.RECREGIO.value_counts()"
      ],
      "execution_count": null,
      "outputs": [
        {
          "output_type": "execute_result",
          "data": {
            "text/plain": [
              "0    137988\n",
              "1       115\n",
              "Name: RECREGIO, dtype: int64"
            ]
          },
          "metadata": {
            "tags": []
          },
          "execution_count": 85
        }
      ]
    },
    {
      "cell_type": "code",
      "metadata": {
        "colab": {
          "base_uri": "https://localhost:8080/"
        },
        "id": "ljNfXiYtP047",
        "outputId": "7a4ffe96-ebfb-41c0-d845-ab91925730df"
      },
      "source": [
        "df_aux.RECREGIO.value_counts()"
      ],
      "execution_count": null,
      "outputs": [
        {
          "output_type": "execute_result",
          "data": {
            "text/plain": [
              "0    920648\n",
              "1     23011\n",
              "Name: RECREGIO, dtype: int64"
            ]
          },
          "metadata": {
            "tags": []
          },
          "execution_count": 86
        }
      ]
    },
    {
      "cell_type": "code",
      "metadata": {
        "colab": {
          "base_uri": "https://localhost:8080/"
        },
        "id": "44Qb3-nAQCOH",
        "outputId": "0850aa60-f282-4565-9157-106ae618cfc5"
      },
      "source": [
        "df_grupo.RECDIST.value_counts()"
      ],
      "execution_count": null,
      "outputs": [
        {
          "output_type": "execute_result",
          "data": {
            "text/plain": [
              "0    138101\n",
              "1         2\n",
              "Name: RECDIST, dtype: int64"
            ]
          },
          "metadata": {
            "tags": []
          },
          "execution_count": 87
        }
      ]
    },
    {
      "cell_type": "code",
      "metadata": {
        "colab": {
          "base_uri": "https://localhost:8080/"
        },
        "id": "xkNriawWQCOJ",
        "outputId": "17571546-8d71-4ff7-aecc-6081ef158c0c"
      },
      "source": [
        "df_aux.RECDIST.value_counts()"
      ],
      "execution_count": null,
      "outputs": [
        {
          "output_type": "execute_result",
          "data": {
            "text/plain": [
              "0    922659\n",
              "1     21000\n",
              "Name: RECDIST, dtype: int64"
            ]
          },
          "metadata": {
            "tags": []
          },
          "execution_count": 88
        }
      ]
    }
  ]
}